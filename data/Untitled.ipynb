{
 "cells": [
  {
   "cell_type": "code",
   "execution_count": 181,
   "id": "97b5a614",
   "metadata": {},
   "outputs": [],
   "source": [
    "%matplotlib notebook\n",
    "import numpy as np\n",
    "import matplotlib.pyplot as plt\n",
    "plt.ion()\n",
    "import scipy\n",
    "import math\n",
    "import os\n",
    "import random\n",
    "import open3d as o3d\n",
    "# from open3d. import uniform_down_sample\n",
    "import torch\n",
    "import scipy.spatial.distance\n",
    "from glob import glob\n",
    "\n",
    "import torch\n",
    "import torch.nn as nn\n",
    "import torch.nn.functional as F\n",
    "from torch.utils.data import Dataset, DataLoader\n",
    "from torchvision import transforms, utils\n",
    "\n",
    "import plotly.graph_objects as go\n",
    "import plotly.express as px"
   ]
  },
  {
   "cell_type": "code",
   "execution_count": 145,
   "id": "723a087f",
   "metadata": {},
   "outputs": [
    {
     "name": "stdout",
     "output_type": "stream",
     "text": [
      "[0.40176077 0.1337709  0.00571454]\n",
      "0.0027145419237331325 0.006714541923733133\n"
     ]
    },
    {
     "data": {
      "application/javascript": [
       "/* Put everything inside the global mpl namespace */\n",
       "/* global mpl */\n",
       "window.mpl = {};\n",
       "\n",
       "mpl.get_websocket_type = function () {\n",
       "    if (typeof WebSocket !== 'undefined') {\n",
       "        return WebSocket;\n",
       "    } else if (typeof MozWebSocket !== 'undefined') {\n",
       "        return MozWebSocket;\n",
       "    } else {\n",
       "        alert(\n",
       "            'Your browser does not have WebSocket support. ' +\n",
       "                'Please try Chrome, Safari or Firefox ≥ 6. ' +\n",
       "                'Firefox 4 and 5 are also supported but you ' +\n",
       "                'have to enable WebSockets in about:config.'\n",
       "        );\n",
       "    }\n",
       "};\n",
       "\n",
       "mpl.figure = function (figure_id, websocket, ondownload, parent_element) {\n",
       "    this.id = figure_id;\n",
       "\n",
       "    this.ws = websocket;\n",
       "\n",
       "    this.supports_binary = this.ws.binaryType !== undefined;\n",
       "\n",
       "    if (!this.supports_binary) {\n",
       "        var warnings = document.getElementById('mpl-warnings');\n",
       "        if (warnings) {\n",
       "            warnings.style.display = 'block';\n",
       "            warnings.textContent =\n",
       "                'This browser does not support binary websocket messages. ' +\n",
       "                'Performance may be slow.';\n",
       "        }\n",
       "    }\n",
       "\n",
       "    this.imageObj = new Image();\n",
       "\n",
       "    this.context = undefined;\n",
       "    this.message = undefined;\n",
       "    this.canvas = undefined;\n",
       "    this.rubberband_canvas = undefined;\n",
       "    this.rubberband_context = undefined;\n",
       "    this.format_dropdown = undefined;\n",
       "\n",
       "    this.image_mode = 'full';\n",
       "\n",
       "    this.root = document.createElement('div');\n",
       "    this.root.setAttribute('style', 'display: inline-block');\n",
       "    this._root_extra_style(this.root);\n",
       "\n",
       "    parent_element.appendChild(this.root);\n",
       "\n",
       "    this._init_header(this);\n",
       "    this._init_canvas(this);\n",
       "    this._init_toolbar(this);\n",
       "\n",
       "    var fig = this;\n",
       "\n",
       "    this.waiting = false;\n",
       "\n",
       "    this.ws.onopen = function () {\n",
       "        fig.send_message('supports_binary', { value: fig.supports_binary });\n",
       "        fig.send_message('send_image_mode', {});\n",
       "        if (fig.ratio !== 1) {\n",
       "            fig.send_message('set_device_pixel_ratio', {\n",
       "                device_pixel_ratio: fig.ratio,\n",
       "            });\n",
       "        }\n",
       "        fig.send_message('refresh', {});\n",
       "    };\n",
       "\n",
       "    this.imageObj.onload = function () {\n",
       "        if (fig.image_mode === 'full') {\n",
       "            // Full images could contain transparency (where diff images\n",
       "            // almost always do), so we need to clear the canvas so that\n",
       "            // there is no ghosting.\n",
       "            fig.context.clearRect(0, 0, fig.canvas.width, fig.canvas.height);\n",
       "        }\n",
       "        fig.context.drawImage(fig.imageObj, 0, 0);\n",
       "    };\n",
       "\n",
       "    this.imageObj.onunload = function () {\n",
       "        fig.ws.close();\n",
       "    };\n",
       "\n",
       "    this.ws.onmessage = this._make_on_message_function(this);\n",
       "\n",
       "    this.ondownload = ondownload;\n",
       "};\n",
       "\n",
       "mpl.figure.prototype._init_header = function () {\n",
       "    var titlebar = document.createElement('div');\n",
       "    titlebar.classList =\n",
       "        'ui-dialog-titlebar ui-widget-header ui-corner-all ui-helper-clearfix';\n",
       "    var titletext = document.createElement('div');\n",
       "    titletext.classList = 'ui-dialog-title';\n",
       "    titletext.setAttribute(\n",
       "        'style',\n",
       "        'width: 100%; text-align: center; padding: 3px;'\n",
       "    );\n",
       "    titlebar.appendChild(titletext);\n",
       "    this.root.appendChild(titlebar);\n",
       "    this.header = titletext;\n",
       "};\n",
       "\n",
       "mpl.figure.prototype._canvas_extra_style = function (_canvas_div) {};\n",
       "\n",
       "mpl.figure.prototype._root_extra_style = function (_canvas_div) {};\n",
       "\n",
       "mpl.figure.prototype._init_canvas = function () {\n",
       "    var fig = this;\n",
       "\n",
       "    var canvas_div = (this.canvas_div = document.createElement('div'));\n",
       "    canvas_div.setAttribute(\n",
       "        'style',\n",
       "        'border: 1px solid #ddd;' +\n",
       "            'box-sizing: content-box;' +\n",
       "            'clear: both;' +\n",
       "            'min-height: 1px;' +\n",
       "            'min-width: 1px;' +\n",
       "            'outline: 0;' +\n",
       "            'overflow: hidden;' +\n",
       "            'position: relative;' +\n",
       "            'resize: both;'\n",
       "    );\n",
       "\n",
       "    function on_keyboard_event_closure(name) {\n",
       "        return function (event) {\n",
       "            return fig.key_event(event, name);\n",
       "        };\n",
       "    }\n",
       "\n",
       "    canvas_div.addEventListener(\n",
       "        'keydown',\n",
       "        on_keyboard_event_closure('key_press')\n",
       "    );\n",
       "    canvas_div.addEventListener(\n",
       "        'keyup',\n",
       "        on_keyboard_event_closure('key_release')\n",
       "    );\n",
       "\n",
       "    this._canvas_extra_style(canvas_div);\n",
       "    this.root.appendChild(canvas_div);\n",
       "\n",
       "    var canvas = (this.canvas = document.createElement('canvas'));\n",
       "    canvas.classList.add('mpl-canvas');\n",
       "    canvas.setAttribute('style', 'box-sizing: content-box;');\n",
       "\n",
       "    this.context = canvas.getContext('2d');\n",
       "\n",
       "    var backingStore =\n",
       "        this.context.backingStorePixelRatio ||\n",
       "        this.context.webkitBackingStorePixelRatio ||\n",
       "        this.context.mozBackingStorePixelRatio ||\n",
       "        this.context.msBackingStorePixelRatio ||\n",
       "        this.context.oBackingStorePixelRatio ||\n",
       "        this.context.backingStorePixelRatio ||\n",
       "        1;\n",
       "\n",
       "    this.ratio = (window.devicePixelRatio || 1) / backingStore;\n",
       "\n",
       "    var rubberband_canvas = (this.rubberband_canvas = document.createElement(\n",
       "        'canvas'\n",
       "    ));\n",
       "    rubberband_canvas.setAttribute(\n",
       "        'style',\n",
       "        'box-sizing: content-box; position: absolute; left: 0; top: 0; z-index: 1;'\n",
       "    );\n",
       "\n",
       "    // Apply a ponyfill if ResizeObserver is not implemented by browser.\n",
       "    if (this.ResizeObserver === undefined) {\n",
       "        if (window.ResizeObserver !== undefined) {\n",
       "            this.ResizeObserver = window.ResizeObserver;\n",
       "        } else {\n",
       "            var obs = _JSXTOOLS_RESIZE_OBSERVER({});\n",
       "            this.ResizeObserver = obs.ResizeObserver;\n",
       "        }\n",
       "    }\n",
       "\n",
       "    this.resizeObserverInstance = new this.ResizeObserver(function (entries) {\n",
       "        var nentries = entries.length;\n",
       "        for (var i = 0; i < nentries; i++) {\n",
       "            var entry = entries[i];\n",
       "            var width, height;\n",
       "            if (entry.contentBoxSize) {\n",
       "                if (entry.contentBoxSize instanceof Array) {\n",
       "                    // Chrome 84 implements new version of spec.\n",
       "                    width = entry.contentBoxSize[0].inlineSize;\n",
       "                    height = entry.contentBoxSize[0].blockSize;\n",
       "                } else {\n",
       "                    // Firefox implements old version of spec.\n",
       "                    width = entry.contentBoxSize.inlineSize;\n",
       "                    height = entry.contentBoxSize.blockSize;\n",
       "                }\n",
       "            } else {\n",
       "                // Chrome <84 implements even older version of spec.\n",
       "                width = entry.contentRect.width;\n",
       "                height = entry.contentRect.height;\n",
       "            }\n",
       "\n",
       "            // Keep the size of the canvas and rubber band canvas in sync with\n",
       "            // the canvas container.\n",
       "            if (entry.devicePixelContentBoxSize) {\n",
       "                // Chrome 84 implements new version of spec.\n",
       "                canvas.setAttribute(\n",
       "                    'width',\n",
       "                    entry.devicePixelContentBoxSize[0].inlineSize\n",
       "                );\n",
       "                canvas.setAttribute(\n",
       "                    'height',\n",
       "                    entry.devicePixelContentBoxSize[0].blockSize\n",
       "                );\n",
       "            } else {\n",
       "                canvas.setAttribute('width', width * fig.ratio);\n",
       "                canvas.setAttribute('height', height * fig.ratio);\n",
       "            }\n",
       "            canvas.setAttribute(\n",
       "                'style',\n",
       "                'width: ' + width + 'px; height: ' + height + 'px;'\n",
       "            );\n",
       "\n",
       "            rubberband_canvas.setAttribute('width', width);\n",
       "            rubberband_canvas.setAttribute('height', height);\n",
       "\n",
       "            // And update the size in Python. We ignore the initial 0/0 size\n",
       "            // that occurs as the element is placed into the DOM, which should\n",
       "            // otherwise not happen due to the minimum size styling.\n",
       "            if (fig.ws.readyState == 1 && width != 0 && height != 0) {\n",
       "                fig.request_resize(width, height);\n",
       "            }\n",
       "        }\n",
       "    });\n",
       "    this.resizeObserverInstance.observe(canvas_div);\n",
       "\n",
       "    function on_mouse_event_closure(name) {\n",
       "        return function (event) {\n",
       "            return fig.mouse_event(event, name);\n",
       "        };\n",
       "    }\n",
       "\n",
       "    rubberband_canvas.addEventListener(\n",
       "        'mousedown',\n",
       "        on_mouse_event_closure('button_press')\n",
       "    );\n",
       "    rubberband_canvas.addEventListener(\n",
       "        'mouseup',\n",
       "        on_mouse_event_closure('button_release')\n",
       "    );\n",
       "    rubberband_canvas.addEventListener(\n",
       "        'dblclick',\n",
       "        on_mouse_event_closure('dblclick')\n",
       "    );\n",
       "    // Throttle sequential mouse events to 1 every 20ms.\n",
       "    rubberband_canvas.addEventListener(\n",
       "        'mousemove',\n",
       "        on_mouse_event_closure('motion_notify')\n",
       "    );\n",
       "\n",
       "    rubberband_canvas.addEventListener(\n",
       "        'mouseenter',\n",
       "        on_mouse_event_closure('figure_enter')\n",
       "    );\n",
       "    rubberband_canvas.addEventListener(\n",
       "        'mouseleave',\n",
       "        on_mouse_event_closure('figure_leave')\n",
       "    );\n",
       "\n",
       "    canvas_div.addEventListener('wheel', function (event) {\n",
       "        if (event.deltaY < 0) {\n",
       "            event.step = 1;\n",
       "        } else {\n",
       "            event.step = -1;\n",
       "        }\n",
       "        on_mouse_event_closure('scroll')(event);\n",
       "    });\n",
       "\n",
       "    canvas_div.appendChild(canvas);\n",
       "    canvas_div.appendChild(rubberband_canvas);\n",
       "\n",
       "    this.rubberband_context = rubberband_canvas.getContext('2d');\n",
       "    this.rubberband_context.strokeStyle = '#000000';\n",
       "\n",
       "    this._resize_canvas = function (width, height, forward) {\n",
       "        if (forward) {\n",
       "            canvas_div.style.width = width + 'px';\n",
       "            canvas_div.style.height = height + 'px';\n",
       "        }\n",
       "    };\n",
       "\n",
       "    // Disable right mouse context menu.\n",
       "    this.rubberband_canvas.addEventListener('contextmenu', function (_e) {\n",
       "        event.preventDefault();\n",
       "        return false;\n",
       "    });\n",
       "\n",
       "    function set_focus() {\n",
       "        canvas.focus();\n",
       "        canvas_div.focus();\n",
       "    }\n",
       "\n",
       "    window.setTimeout(set_focus, 100);\n",
       "};\n",
       "\n",
       "mpl.figure.prototype._init_toolbar = function () {\n",
       "    var fig = this;\n",
       "\n",
       "    var toolbar = document.createElement('div');\n",
       "    toolbar.classList = 'mpl-toolbar';\n",
       "    this.root.appendChild(toolbar);\n",
       "\n",
       "    function on_click_closure(name) {\n",
       "        return function (_event) {\n",
       "            return fig.toolbar_button_onclick(name);\n",
       "        };\n",
       "    }\n",
       "\n",
       "    function on_mouseover_closure(tooltip) {\n",
       "        return function (event) {\n",
       "            if (!event.currentTarget.disabled) {\n",
       "                return fig.toolbar_button_onmouseover(tooltip);\n",
       "            }\n",
       "        };\n",
       "    }\n",
       "\n",
       "    fig.buttons = {};\n",
       "    var buttonGroup = document.createElement('div');\n",
       "    buttonGroup.classList = 'mpl-button-group';\n",
       "    for (var toolbar_ind in mpl.toolbar_items) {\n",
       "        var name = mpl.toolbar_items[toolbar_ind][0];\n",
       "        var tooltip = mpl.toolbar_items[toolbar_ind][1];\n",
       "        var image = mpl.toolbar_items[toolbar_ind][2];\n",
       "        var method_name = mpl.toolbar_items[toolbar_ind][3];\n",
       "\n",
       "        if (!name) {\n",
       "            /* Instead of a spacer, we start a new button group. */\n",
       "            if (buttonGroup.hasChildNodes()) {\n",
       "                toolbar.appendChild(buttonGroup);\n",
       "            }\n",
       "            buttonGroup = document.createElement('div');\n",
       "            buttonGroup.classList = 'mpl-button-group';\n",
       "            continue;\n",
       "        }\n",
       "\n",
       "        var button = (fig.buttons[name] = document.createElement('button'));\n",
       "        button.classList = 'mpl-widget';\n",
       "        button.setAttribute('role', 'button');\n",
       "        button.setAttribute('aria-disabled', 'false');\n",
       "        button.addEventListener('click', on_click_closure(method_name));\n",
       "        button.addEventListener('mouseover', on_mouseover_closure(tooltip));\n",
       "\n",
       "        var icon_img = document.createElement('img');\n",
       "        icon_img.src = '_images/' + image + '.png';\n",
       "        icon_img.srcset = '_images/' + image + '_large.png 2x';\n",
       "        icon_img.alt = tooltip;\n",
       "        button.appendChild(icon_img);\n",
       "\n",
       "        buttonGroup.appendChild(button);\n",
       "    }\n",
       "\n",
       "    if (buttonGroup.hasChildNodes()) {\n",
       "        toolbar.appendChild(buttonGroup);\n",
       "    }\n",
       "\n",
       "    var fmt_picker = document.createElement('select');\n",
       "    fmt_picker.classList = 'mpl-widget';\n",
       "    toolbar.appendChild(fmt_picker);\n",
       "    this.format_dropdown = fmt_picker;\n",
       "\n",
       "    for (var ind in mpl.extensions) {\n",
       "        var fmt = mpl.extensions[ind];\n",
       "        var option = document.createElement('option');\n",
       "        option.selected = fmt === mpl.default_extension;\n",
       "        option.innerHTML = fmt;\n",
       "        fmt_picker.appendChild(option);\n",
       "    }\n",
       "\n",
       "    var status_bar = document.createElement('span');\n",
       "    status_bar.classList = 'mpl-message';\n",
       "    toolbar.appendChild(status_bar);\n",
       "    this.message = status_bar;\n",
       "};\n",
       "\n",
       "mpl.figure.prototype.request_resize = function (x_pixels, y_pixels) {\n",
       "    // Request matplotlib to resize the figure. Matplotlib will then trigger a resize in the client,\n",
       "    // which will in turn request a refresh of the image.\n",
       "    this.send_message('resize', { width: x_pixels, height: y_pixels });\n",
       "};\n",
       "\n",
       "mpl.figure.prototype.send_message = function (type, properties) {\n",
       "    properties['type'] = type;\n",
       "    properties['figure_id'] = this.id;\n",
       "    this.ws.send(JSON.stringify(properties));\n",
       "};\n",
       "\n",
       "mpl.figure.prototype.send_draw_message = function () {\n",
       "    if (!this.waiting) {\n",
       "        this.waiting = true;\n",
       "        this.ws.send(JSON.stringify({ type: 'draw', figure_id: this.id }));\n",
       "    }\n",
       "};\n",
       "\n",
       "mpl.figure.prototype.handle_save = function (fig, _msg) {\n",
       "    var format_dropdown = fig.format_dropdown;\n",
       "    var format = format_dropdown.options[format_dropdown.selectedIndex].value;\n",
       "    fig.ondownload(fig, format);\n",
       "};\n",
       "\n",
       "mpl.figure.prototype.handle_resize = function (fig, msg) {\n",
       "    var size = msg['size'];\n",
       "    if (size[0] !== fig.canvas.width || size[1] !== fig.canvas.height) {\n",
       "        fig._resize_canvas(size[0], size[1], msg['forward']);\n",
       "        fig.send_message('refresh', {});\n",
       "    }\n",
       "};\n",
       "\n",
       "mpl.figure.prototype.handle_rubberband = function (fig, msg) {\n",
       "    var x0 = msg['x0'] / fig.ratio;\n",
       "    var y0 = (fig.canvas.height - msg['y0']) / fig.ratio;\n",
       "    var x1 = msg['x1'] / fig.ratio;\n",
       "    var y1 = (fig.canvas.height - msg['y1']) / fig.ratio;\n",
       "    x0 = Math.floor(x0) + 0.5;\n",
       "    y0 = Math.floor(y0) + 0.5;\n",
       "    x1 = Math.floor(x1) + 0.5;\n",
       "    y1 = Math.floor(y1) + 0.5;\n",
       "    var min_x = Math.min(x0, x1);\n",
       "    var min_y = Math.min(y0, y1);\n",
       "    var width = Math.abs(x1 - x0);\n",
       "    var height = Math.abs(y1 - y0);\n",
       "\n",
       "    fig.rubberband_context.clearRect(\n",
       "        0,\n",
       "        0,\n",
       "        fig.canvas.width / fig.ratio,\n",
       "        fig.canvas.height / fig.ratio\n",
       "    );\n",
       "\n",
       "    fig.rubberband_context.strokeRect(min_x, min_y, width, height);\n",
       "};\n",
       "\n",
       "mpl.figure.prototype.handle_figure_label = function (fig, msg) {\n",
       "    // Updates the figure title.\n",
       "    fig.header.textContent = msg['label'];\n",
       "};\n",
       "\n",
       "mpl.figure.prototype.handle_cursor = function (fig, msg) {\n",
       "    fig.rubberband_canvas.style.cursor = msg['cursor'];\n",
       "};\n",
       "\n",
       "mpl.figure.prototype.handle_message = function (fig, msg) {\n",
       "    fig.message.textContent = msg['message'];\n",
       "};\n",
       "\n",
       "mpl.figure.prototype.handle_draw = function (fig, _msg) {\n",
       "    // Request the server to send over a new figure.\n",
       "    fig.send_draw_message();\n",
       "};\n",
       "\n",
       "mpl.figure.prototype.handle_image_mode = function (fig, msg) {\n",
       "    fig.image_mode = msg['mode'];\n",
       "};\n",
       "\n",
       "mpl.figure.prototype.handle_history_buttons = function (fig, msg) {\n",
       "    for (var key in msg) {\n",
       "        if (!(key in fig.buttons)) {\n",
       "            continue;\n",
       "        }\n",
       "        fig.buttons[key].disabled = !msg[key];\n",
       "        fig.buttons[key].setAttribute('aria-disabled', !msg[key]);\n",
       "    }\n",
       "};\n",
       "\n",
       "mpl.figure.prototype.handle_navigate_mode = function (fig, msg) {\n",
       "    if (msg['mode'] === 'PAN') {\n",
       "        fig.buttons['Pan'].classList.add('active');\n",
       "        fig.buttons['Zoom'].classList.remove('active');\n",
       "    } else if (msg['mode'] === 'ZOOM') {\n",
       "        fig.buttons['Pan'].classList.remove('active');\n",
       "        fig.buttons['Zoom'].classList.add('active');\n",
       "    } else {\n",
       "        fig.buttons['Pan'].classList.remove('active');\n",
       "        fig.buttons['Zoom'].classList.remove('active');\n",
       "    }\n",
       "};\n",
       "\n",
       "mpl.figure.prototype.updated_canvas_event = function () {\n",
       "    // Called whenever the canvas gets updated.\n",
       "    this.send_message('ack', {});\n",
       "};\n",
       "\n",
       "// A function to construct a web socket function for onmessage handling.\n",
       "// Called in the figure constructor.\n",
       "mpl.figure.prototype._make_on_message_function = function (fig) {\n",
       "    return function socket_on_message(evt) {\n",
       "        if (evt.data instanceof Blob) {\n",
       "            var img = evt.data;\n",
       "            if (img.type !== 'image/png') {\n",
       "                /* FIXME: We get \"Resource interpreted as Image but\n",
       "                 * transferred with MIME type text/plain:\" errors on\n",
       "                 * Chrome.  But how to set the MIME type?  It doesn't seem\n",
       "                 * to be part of the websocket stream */\n",
       "                img.type = 'image/png';\n",
       "            }\n",
       "\n",
       "            /* Free the memory for the previous frames */\n",
       "            if (fig.imageObj.src) {\n",
       "                (window.URL || window.webkitURL).revokeObjectURL(\n",
       "                    fig.imageObj.src\n",
       "                );\n",
       "            }\n",
       "\n",
       "            fig.imageObj.src = (window.URL || window.webkitURL).createObjectURL(\n",
       "                img\n",
       "            );\n",
       "            fig.updated_canvas_event();\n",
       "            fig.waiting = false;\n",
       "            return;\n",
       "        } else if (\n",
       "            typeof evt.data === 'string' &&\n",
       "            evt.data.slice(0, 21) === 'data:image/png;base64'\n",
       "        ) {\n",
       "            fig.imageObj.src = evt.data;\n",
       "            fig.updated_canvas_event();\n",
       "            fig.waiting = false;\n",
       "            return;\n",
       "        }\n",
       "\n",
       "        var msg = JSON.parse(evt.data);\n",
       "        var msg_type = msg['type'];\n",
       "\n",
       "        // Call the  \"handle_{type}\" callback, which takes\n",
       "        // the figure and JSON message as its only arguments.\n",
       "        try {\n",
       "            var callback = fig['handle_' + msg_type];\n",
       "        } catch (e) {\n",
       "            console.log(\n",
       "                \"No handler for the '\" + msg_type + \"' message type: \",\n",
       "                msg\n",
       "            );\n",
       "            return;\n",
       "        }\n",
       "\n",
       "        if (callback) {\n",
       "            try {\n",
       "                // console.log(\"Handling '\" + msg_type + \"' message: \", msg);\n",
       "                callback(fig, msg);\n",
       "            } catch (e) {\n",
       "                console.log(\n",
       "                    \"Exception inside the 'handler_\" + msg_type + \"' callback:\",\n",
       "                    e,\n",
       "                    e.stack,\n",
       "                    msg\n",
       "                );\n",
       "            }\n",
       "        }\n",
       "    };\n",
       "};\n",
       "\n",
       "// from https://stackoverflow.com/questions/1114465/getting-mouse-location-in-canvas\n",
       "mpl.findpos = function (e) {\n",
       "    //this section is from http://www.quirksmode.org/js/events_properties.html\n",
       "    var targ;\n",
       "    if (!e) {\n",
       "        e = window.event;\n",
       "    }\n",
       "    if (e.target) {\n",
       "        targ = e.target;\n",
       "    } else if (e.srcElement) {\n",
       "        targ = e.srcElement;\n",
       "    }\n",
       "    if (targ.nodeType === 3) {\n",
       "        // defeat Safari bug\n",
       "        targ = targ.parentNode;\n",
       "    }\n",
       "\n",
       "    // pageX,Y are the mouse positions relative to the document\n",
       "    var boundingRect = targ.getBoundingClientRect();\n",
       "    var x = e.pageX - (boundingRect.left + document.body.scrollLeft);\n",
       "    var y = e.pageY - (boundingRect.top + document.body.scrollTop);\n",
       "\n",
       "    return { x: x, y: y };\n",
       "};\n",
       "\n",
       "/*\n",
       " * return a copy of an object with only non-object keys\n",
       " * we need this to avoid circular references\n",
       " * https://stackoverflow.com/a/24161582/3208463\n",
       " */\n",
       "function simpleKeys(original) {\n",
       "    return Object.keys(original).reduce(function (obj, key) {\n",
       "        if (typeof original[key] !== 'object') {\n",
       "            obj[key] = original[key];\n",
       "        }\n",
       "        return obj;\n",
       "    }, {});\n",
       "}\n",
       "\n",
       "mpl.figure.prototype.mouse_event = function (event, name) {\n",
       "    var canvas_pos = mpl.findpos(event);\n",
       "\n",
       "    if (name === 'button_press') {\n",
       "        this.canvas.focus();\n",
       "        this.canvas_div.focus();\n",
       "    }\n",
       "\n",
       "    var x = canvas_pos.x * this.ratio;\n",
       "    var y = canvas_pos.y * this.ratio;\n",
       "\n",
       "    this.send_message(name, {\n",
       "        x: x,\n",
       "        y: y,\n",
       "        button: event.button,\n",
       "        step: event.step,\n",
       "        guiEvent: simpleKeys(event),\n",
       "    });\n",
       "\n",
       "    /* This prevents the web browser from automatically changing to\n",
       "     * the text insertion cursor when the button is pressed.  We want\n",
       "     * to control all of the cursor setting manually through the\n",
       "     * 'cursor' event from matplotlib */\n",
       "    event.preventDefault();\n",
       "    return false;\n",
       "};\n",
       "\n",
       "mpl.figure.prototype._key_event_extra = function (_event, _name) {\n",
       "    // Handle any extra behaviour associated with a key event\n",
       "};\n",
       "\n",
       "mpl.figure.prototype.key_event = function (event, name) {\n",
       "    // Prevent repeat events\n",
       "    if (name === 'key_press') {\n",
       "        if (event.key === this._key) {\n",
       "            return;\n",
       "        } else {\n",
       "            this._key = event.key;\n",
       "        }\n",
       "    }\n",
       "    if (name === 'key_release') {\n",
       "        this._key = null;\n",
       "    }\n",
       "\n",
       "    var value = '';\n",
       "    if (event.ctrlKey && event.key !== 'Control') {\n",
       "        value += 'ctrl+';\n",
       "    }\n",
       "    else if (event.altKey && event.key !== 'Alt') {\n",
       "        value += 'alt+';\n",
       "    }\n",
       "    else if (event.shiftKey && event.key !== 'Shift') {\n",
       "        value += 'shift+';\n",
       "    }\n",
       "\n",
       "    value += 'k' + event.key;\n",
       "\n",
       "    this._key_event_extra(event, name);\n",
       "\n",
       "    this.send_message(name, { key: value, guiEvent: simpleKeys(event) });\n",
       "    return false;\n",
       "};\n",
       "\n",
       "mpl.figure.prototype.toolbar_button_onclick = function (name) {\n",
       "    if (name === 'download') {\n",
       "        this.handle_save(this, null);\n",
       "    } else {\n",
       "        this.send_message('toolbar_button', { name: name });\n",
       "    }\n",
       "};\n",
       "\n",
       "mpl.figure.prototype.toolbar_button_onmouseover = function (tooltip) {\n",
       "    this.message.textContent = tooltip;\n",
       "};\n",
       "\n",
       "///////////////// REMAINING CONTENT GENERATED BY embed_js.py /////////////////\n",
       "// prettier-ignore\n",
       "var _JSXTOOLS_RESIZE_OBSERVER=function(A){var t,i=new WeakMap,n=new WeakMap,a=new WeakMap,r=new WeakMap,o=new Set;function s(e){if(!(this instanceof s))throw new TypeError(\"Constructor requires 'new' operator\");i.set(this,e)}function h(){throw new TypeError(\"Function is not a constructor\")}function c(e,t,i,n){e=0 in arguments?Number(arguments[0]):0,t=1 in arguments?Number(arguments[1]):0,i=2 in arguments?Number(arguments[2]):0,n=3 in arguments?Number(arguments[3]):0,this.right=(this.x=this.left=e)+(this.width=i),this.bottom=(this.y=this.top=t)+(this.height=n),Object.freeze(this)}function d(){t=requestAnimationFrame(d);var s=new WeakMap,p=new Set;o.forEach((function(t){r.get(t).forEach((function(i){var r=t instanceof window.SVGElement,o=a.get(t),d=r?0:parseFloat(o.paddingTop),f=r?0:parseFloat(o.paddingRight),l=r?0:parseFloat(o.paddingBottom),u=r?0:parseFloat(o.paddingLeft),g=r?0:parseFloat(o.borderTopWidth),m=r?0:parseFloat(o.borderRightWidth),w=r?0:parseFloat(o.borderBottomWidth),b=u+f,F=d+l,v=(r?0:parseFloat(o.borderLeftWidth))+m,W=g+w,y=r?0:t.offsetHeight-W-t.clientHeight,E=r?0:t.offsetWidth-v-t.clientWidth,R=b+v,z=F+W,M=r?t.width:parseFloat(o.width)-R-E,O=r?t.height:parseFloat(o.height)-z-y;if(n.has(t)){var k=n.get(t);if(k[0]===M&&k[1]===O)return}n.set(t,[M,O]);var S=Object.create(h.prototype);S.target=t,S.contentRect=new c(u,d,M,O),s.has(i)||(s.set(i,[]),p.add(i)),s.get(i).push(S)}))})),p.forEach((function(e){i.get(e).call(e,s.get(e),e)}))}return s.prototype.observe=function(i){if(i instanceof window.Element){r.has(i)||(r.set(i,new Set),o.add(i),a.set(i,window.getComputedStyle(i)));var n=r.get(i);n.has(this)||n.add(this),cancelAnimationFrame(t),t=requestAnimationFrame(d)}},s.prototype.unobserve=function(i){if(i instanceof window.Element&&r.has(i)){var n=r.get(i);n.has(this)&&(n.delete(this),n.size||(r.delete(i),o.delete(i))),n.size||r.delete(i),o.size||cancelAnimationFrame(t)}},A.DOMRectReadOnly=c,A.ResizeObserver=s,A.ResizeObserverEntry=h,A}; // eslint-disable-line\n",
       "mpl.toolbar_items = [[\"Home\", \"Reset original view\", \"fa fa-home icon-home\", \"home\"], [\"Back\", \"Back to previous view\", \"fa fa-arrow-left icon-arrow-left\", \"back\"], [\"Forward\", \"Forward to next view\", \"fa fa-arrow-right icon-arrow-right\", \"forward\"], [\"\", \"\", \"\", \"\"], [\"Pan\", \"Left button pans, Right button zooms\\nx/y fixes axis, CTRL fixes aspect\", \"fa fa-arrows icon-move\", \"pan\"], [\"Zoom\", \"Zoom to rectangle\\nx/y fixes axis\", \"fa fa-square-o icon-check-empty\", \"zoom\"], [\"\", \"\", \"\", \"\"], [\"Download\", \"Download plot\", \"fa fa-floppy-o icon-save\", \"download\"]];\n",
       "\n",
       "mpl.extensions = [\"eps\", \"jpeg\", \"pgf\", \"pdf\", \"png\", \"ps\", \"raw\", \"svg\", \"tif\"];\n",
       "\n",
       "mpl.default_extension = \"png\";/* global mpl */\n",
       "\n",
       "var comm_websocket_adapter = function (comm) {\n",
       "    // Create a \"websocket\"-like object which calls the given IPython comm\n",
       "    // object with the appropriate methods. Currently this is a non binary\n",
       "    // socket, so there is still some room for performance tuning.\n",
       "    var ws = {};\n",
       "\n",
       "    ws.binaryType = comm.kernel.ws.binaryType;\n",
       "    ws.readyState = comm.kernel.ws.readyState;\n",
       "    function updateReadyState(_event) {\n",
       "        if (comm.kernel.ws) {\n",
       "            ws.readyState = comm.kernel.ws.readyState;\n",
       "        } else {\n",
       "            ws.readyState = 3; // Closed state.\n",
       "        }\n",
       "    }\n",
       "    comm.kernel.ws.addEventListener('open', updateReadyState);\n",
       "    comm.kernel.ws.addEventListener('close', updateReadyState);\n",
       "    comm.kernel.ws.addEventListener('error', updateReadyState);\n",
       "\n",
       "    ws.close = function () {\n",
       "        comm.close();\n",
       "    };\n",
       "    ws.send = function (m) {\n",
       "        //console.log('sending', m);\n",
       "        comm.send(m);\n",
       "    };\n",
       "    // Register the callback with on_msg.\n",
       "    comm.on_msg(function (msg) {\n",
       "        //console.log('receiving', msg['content']['data'], msg);\n",
       "        var data = msg['content']['data'];\n",
       "        if (data['blob'] !== undefined) {\n",
       "            data = {\n",
       "                data: new Blob(msg['buffers'], { type: data['blob'] }),\n",
       "            };\n",
       "        }\n",
       "        // Pass the mpl event to the overridden (by mpl) onmessage function.\n",
       "        ws.onmessage(data);\n",
       "    });\n",
       "    return ws;\n",
       "};\n",
       "\n",
       "mpl.mpl_figure_comm = function (comm, msg) {\n",
       "    // This is the function which gets called when the mpl process\n",
       "    // starts-up an IPython Comm through the \"matplotlib\" channel.\n",
       "\n",
       "    var id = msg.content.data.id;\n",
       "    // Get hold of the div created by the display call when the Comm\n",
       "    // socket was opened in Python.\n",
       "    var element = document.getElementById(id);\n",
       "    var ws_proxy = comm_websocket_adapter(comm);\n",
       "\n",
       "    function ondownload(figure, _format) {\n",
       "        window.open(figure.canvas.toDataURL());\n",
       "    }\n",
       "\n",
       "    var fig = new mpl.figure(id, ws_proxy, ondownload, element);\n",
       "\n",
       "    // Call onopen now - mpl needs it, as it is assuming we've passed it a real\n",
       "    // web socket which is closed, not our websocket->open comm proxy.\n",
       "    ws_proxy.onopen();\n",
       "\n",
       "    fig.parent_element = element;\n",
       "    fig.cell_info = mpl.find_output_cell(\"<div id='\" + id + \"'></div>\");\n",
       "    if (!fig.cell_info) {\n",
       "        console.error('Failed to find cell for figure', id, fig);\n",
       "        return;\n",
       "    }\n",
       "    fig.cell_info[0].output_area.element.on(\n",
       "        'cleared',\n",
       "        { fig: fig },\n",
       "        fig._remove_fig_handler\n",
       "    );\n",
       "};\n",
       "\n",
       "mpl.figure.prototype.handle_close = function (fig, msg) {\n",
       "    var width = fig.canvas.width / fig.ratio;\n",
       "    fig.cell_info[0].output_area.element.off(\n",
       "        'cleared',\n",
       "        fig._remove_fig_handler\n",
       "    );\n",
       "    fig.resizeObserverInstance.unobserve(fig.canvas_div);\n",
       "\n",
       "    // Update the output cell to use the data from the current canvas.\n",
       "    fig.push_to_output();\n",
       "    var dataURL = fig.canvas.toDataURL();\n",
       "    // Re-enable the keyboard manager in IPython - without this line, in FF,\n",
       "    // the notebook keyboard shortcuts fail.\n",
       "    IPython.keyboard_manager.enable();\n",
       "    fig.parent_element.innerHTML =\n",
       "        '<img src=\"' + dataURL + '\" width=\"' + width + '\">';\n",
       "    fig.close_ws(fig, msg);\n",
       "};\n",
       "\n",
       "mpl.figure.prototype.close_ws = function (fig, msg) {\n",
       "    fig.send_message('closing', msg);\n",
       "    // fig.ws.close()\n",
       "};\n",
       "\n",
       "mpl.figure.prototype.push_to_output = function (_remove_interactive) {\n",
       "    // Turn the data on the canvas into data in the output cell.\n",
       "    var width = this.canvas.width / this.ratio;\n",
       "    var dataURL = this.canvas.toDataURL();\n",
       "    this.cell_info[1]['text/html'] =\n",
       "        '<img src=\"' + dataURL + '\" width=\"' + width + '\">';\n",
       "};\n",
       "\n",
       "mpl.figure.prototype.updated_canvas_event = function () {\n",
       "    // Tell IPython that the notebook contents must change.\n",
       "    IPython.notebook.set_dirty(true);\n",
       "    this.send_message('ack', {});\n",
       "    var fig = this;\n",
       "    // Wait a second, then push the new image to the DOM so\n",
       "    // that it is saved nicely (might be nice to debounce this).\n",
       "    setTimeout(function () {\n",
       "        fig.push_to_output();\n",
       "    }, 1000);\n",
       "};\n",
       "\n",
       "mpl.figure.prototype._init_toolbar = function () {\n",
       "    var fig = this;\n",
       "\n",
       "    var toolbar = document.createElement('div');\n",
       "    toolbar.classList = 'btn-toolbar';\n",
       "    this.root.appendChild(toolbar);\n",
       "\n",
       "    function on_click_closure(name) {\n",
       "        return function (_event) {\n",
       "            return fig.toolbar_button_onclick(name);\n",
       "        };\n",
       "    }\n",
       "\n",
       "    function on_mouseover_closure(tooltip) {\n",
       "        return function (event) {\n",
       "            if (!event.currentTarget.disabled) {\n",
       "                return fig.toolbar_button_onmouseover(tooltip);\n",
       "            }\n",
       "        };\n",
       "    }\n",
       "\n",
       "    fig.buttons = {};\n",
       "    var buttonGroup = document.createElement('div');\n",
       "    buttonGroup.classList = 'btn-group';\n",
       "    var button;\n",
       "    for (var toolbar_ind in mpl.toolbar_items) {\n",
       "        var name = mpl.toolbar_items[toolbar_ind][0];\n",
       "        var tooltip = mpl.toolbar_items[toolbar_ind][1];\n",
       "        var image = mpl.toolbar_items[toolbar_ind][2];\n",
       "        var method_name = mpl.toolbar_items[toolbar_ind][3];\n",
       "\n",
       "        if (!name) {\n",
       "            /* Instead of a spacer, we start a new button group. */\n",
       "            if (buttonGroup.hasChildNodes()) {\n",
       "                toolbar.appendChild(buttonGroup);\n",
       "            }\n",
       "            buttonGroup = document.createElement('div');\n",
       "            buttonGroup.classList = 'btn-group';\n",
       "            continue;\n",
       "        }\n",
       "\n",
       "        button = fig.buttons[name] = document.createElement('button');\n",
       "        button.classList = 'btn btn-default';\n",
       "        button.href = '#';\n",
       "        button.title = name;\n",
       "        button.innerHTML = '<i class=\"fa ' + image + ' fa-lg\"></i>';\n",
       "        button.addEventListener('click', on_click_closure(method_name));\n",
       "        button.addEventListener('mouseover', on_mouseover_closure(tooltip));\n",
       "        buttonGroup.appendChild(button);\n",
       "    }\n",
       "\n",
       "    if (buttonGroup.hasChildNodes()) {\n",
       "        toolbar.appendChild(buttonGroup);\n",
       "    }\n",
       "\n",
       "    // Add the status bar.\n",
       "    var status_bar = document.createElement('span');\n",
       "    status_bar.classList = 'mpl-message pull-right';\n",
       "    toolbar.appendChild(status_bar);\n",
       "    this.message = status_bar;\n",
       "\n",
       "    // Add the close button to the window.\n",
       "    var buttongrp = document.createElement('div');\n",
       "    buttongrp.classList = 'btn-group inline pull-right';\n",
       "    button = document.createElement('button');\n",
       "    button.classList = 'btn btn-mini btn-primary';\n",
       "    button.href = '#';\n",
       "    button.title = 'Stop Interaction';\n",
       "    button.innerHTML = '<i class=\"fa fa-power-off icon-remove icon-large\"></i>';\n",
       "    button.addEventListener('click', function (_evt) {\n",
       "        fig.handle_close(fig, {});\n",
       "    });\n",
       "    button.addEventListener(\n",
       "        'mouseover',\n",
       "        on_mouseover_closure('Stop Interaction')\n",
       "    );\n",
       "    buttongrp.appendChild(button);\n",
       "    var titlebar = this.root.querySelector('.ui-dialog-titlebar');\n",
       "    titlebar.insertBefore(buttongrp, titlebar.firstChild);\n",
       "};\n",
       "\n",
       "mpl.figure.prototype._remove_fig_handler = function (event) {\n",
       "    var fig = event.data.fig;\n",
       "    if (event.target !== this) {\n",
       "        // Ignore bubbled events from children.\n",
       "        return;\n",
       "    }\n",
       "    fig.close_ws(fig, {});\n",
       "};\n",
       "\n",
       "mpl.figure.prototype._root_extra_style = function (el) {\n",
       "    el.style.boxSizing = 'content-box'; // override notebook setting of border-box.\n",
       "};\n",
       "\n",
       "mpl.figure.prototype._canvas_extra_style = function (el) {\n",
       "    // this is important to make the div 'focusable\n",
       "    el.setAttribute('tabindex', 0);\n",
       "    // reach out to IPython and tell the keyboard manager to turn it's self\n",
       "    // off when our div gets focus\n",
       "\n",
       "    // location in version 3\n",
       "    if (IPython.notebook.keyboard_manager) {\n",
       "        IPython.notebook.keyboard_manager.register_events(el);\n",
       "    } else {\n",
       "        // location in version 2\n",
       "        IPython.keyboard_manager.register_events(el);\n",
       "    }\n",
       "};\n",
       "\n",
       "mpl.figure.prototype._key_event_extra = function (event, _name) {\n",
       "    // Check for shift+enter\n",
       "    if (event.shiftKey && event.which === 13) {\n",
       "        this.canvas_div.blur();\n",
       "        // select the cell after this one\n",
       "        var index = IPython.notebook.find_cell_index(this.cell_info[0]);\n",
       "        IPython.notebook.select(index + 1);\n",
       "    }\n",
       "};\n",
       "\n",
       "mpl.figure.prototype.handle_save = function (fig, _msg) {\n",
       "    fig.ondownload(fig, null);\n",
       "};\n",
       "\n",
       "mpl.find_output_cell = function (html_output) {\n",
       "    // Return the cell and output element which can be found *uniquely* in the notebook.\n",
       "    // Note - this is a bit hacky, but it is done because the \"notebook_saving.Notebook\"\n",
       "    // IPython event is triggered only after the cells have been serialised, which for\n",
       "    // our purposes (turning an active figure into a static one), is too late.\n",
       "    var cells = IPython.notebook.get_cells();\n",
       "    var ncells = cells.length;\n",
       "    for (var i = 0; i < ncells; i++) {\n",
       "        var cell = cells[i];\n",
       "        if (cell.cell_type === 'code') {\n",
       "            for (var j = 0; j < cell.output_area.outputs.length; j++) {\n",
       "                var data = cell.output_area.outputs[j];\n",
       "                if (data.data) {\n",
       "                    // IPython >= 3 moved mimebundle to data attribute of output\n",
       "                    data = data.data;\n",
       "                }\n",
       "                if (data['text/html'] === html_output) {\n",
       "                    return [cell, data, j];\n",
       "                }\n",
       "            }\n",
       "        }\n",
       "    }\n",
       "};\n",
       "\n",
       "// Register the function which deals with the matplotlib target/channel.\n",
       "// The kernel may be null if the page has been refreshed.\n",
       "if (IPython.notebook.kernel !== null) {\n",
       "    IPython.notebook.kernel.comm_manager.register_target(\n",
       "        'matplotlib',\n",
       "        mpl.mpl_figure_comm\n",
       "    );\n",
       "}\n"
      ],
      "text/plain": [
       "<IPython.core.display.Javascript object>"
      ]
     },
     "metadata": {},
     "output_type": "display_data"
    },
    {
     "data": {
      "text/html": [
       "<img src=\"data:image/png;base64,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\" width=\"640\">"
      ],
      "text/plain": [
       "<IPython.core.display.HTML object>"
      ]
     },
     "metadata": {},
     "output_type": "display_data"
    }
   ],
   "source": [
    "pcd = o3d.io.read_point_cloud('./train/nugg_1.pcd')\n",
    "xyz = np.asarray(pcd.points)\n",
    "\n",
    "center = np.mean(xyz, axis=0)\n",
    "print(center)\n",
    "print(center[2]-0.003, center[2]+0.001)\n",
    "xyz = xyz[np.where((xyz[:,2]>center[2]-0.001) & (xyz[:,2]<center[2]+0.001))]\n",
    "idx = np.random.choice(np.arange(xyz.shape[0]), size=128)\n",
    "xyz = xyz[idx]\n",
    "\n",
    "fig = plt.figure()\n",
    "ax = fig.add_subplot(projection='3d')\n",
    "ax.scatter(xyz[:,0], xyz[:,1], xyz[:,2])\n",
    "\n",
    "test = [0.4, 0.113, 0.405, 0.16, 0.523599, 0.5, 0.75]\n",
    "\n",
    "ax.set_xlabel('X')\n",
    "ax.set_ylabel('Y')\n",
    "ax.set_zlabel('Z')\n",
    "\n",
    "x1 = test[:2]\n",
    "x2 = test[2:4]\n",
    "ax.scatter(x1[0], x1[1], center[2])\n",
    "ax.scatter(x2[0], x2[1], center[2])\n",
    "\n",
    "plt.show()\n",
    "# # o3d.visualization.draw_geometries([pcd], mesh_show_wireframe=True)"
   ]
  },
  {
   "cell_type": "code",
   "execution_count": 146,
   "id": "e3e5d63b",
   "metadata": {},
   "outputs": [],
   "source": [
    "# np.save('data.npy', pt_cloud_data) "
   ]
  },
  {
   "cell_type": "code",
   "execution_count": 147,
   "id": "d030c938",
   "metadata": {},
   "outputs": [
    {
     "ename": "SyntaxError",
     "evalue": "invalid syntax (3273502987.py, line 4)",
     "output_type": "error",
     "traceback": [
      "\u001b[0;36m  Input \u001b[0;32mIn [147]\u001b[0;36m\u001b[0m\n\u001b[0;31m    \"nugg_2\": np.array([0.432, 0.08, 0.432, 0.1384, 0.523599, 0.5, 0.75],)\u001b[0m\n\u001b[0m    ^\u001b[0m\n\u001b[0;31mSyntaxError\u001b[0m\u001b[0;31m:\u001b[0m invalid syntax\n"
     ]
    }
   ],
   "source": [
    "target_output = {\n",
    "#     x1, y1, x2, y2, pitch, f1, f2\n",
    "    \"nugg_1\": np.array([0.4, 0.113, 0.405, 0.16, 0.523599, 0.5, 0.75],)\n",
    "    \"nugg_2\": np.array([0.432, 0.08, 0.432, 0.1384, 0.523599, 0.5, 0.75],)\n",
    "    \"nugg_3\": np.array([0.42, 0.11, 0.415, 0.163, 0.523599, 0.5, 0.75],)\n",
    "    \"nugg_4\": np.array([0.39, 0.11, 0.45, 0.118, 0.523599, 0.5, 0.75],)\n",
    "    \"nugg_5\": np.array([0.405, 0.09, 0.46, 0.118, 0.523599, 0.5, 0.75])\n",
    "}"
   ]
  },
  {
   "cell_type": "code",
   "execution_count": 148,
   "id": "e97ddf8b",
   "metadata": {},
   "outputs": [],
   "source": [
    "def visualize_rotate(data):\n",
    "    x_eye, y_eye, z_eye = 1.25, 1.25, 0.8\n",
    "    frames=[]\n",
    "\n",
    "    def rotate_z(x, y, z, theta):\n",
    "        w = x+1j*y\n",
    "        return np.real(np.exp(1j*theta)*w), np.imag(np.exp(1j*theta)*w), z\n",
    "\n",
    "    for t in np.arange(0, 10.26, 0.1):\n",
    "        xe, ye, ze = rotate_z(x_eye, y_eye, z_eye, -t)\n",
    "        frames.append(dict(layout=dict(scene=dict(camera=dict(eye=dict(x=xe, y=ye, z=ze))))))\n",
    "        fig = go.Figure(data=data,\n",
    "            layout=go.Layout(\n",
    "                updatemenus=[dict(type='buttons',\n",
    "                    showactive=False,\n",
    "                    y=1,\n",
    "                    x=0.8,\n",
    "                    xanchor='left',\n",
    "                    yanchor='bottom',\n",
    "                    pad=dict(t=45, r=10),\n",
    "                    buttons=[dict(label='Play',\n",
    "                    method='animate',\n",
    "                    args=[None, dict(frame=dict(duration=50, redraw=True),\n",
    "                        transition=dict(duration=0),\n",
    "                        fromcurrent=True,\n",
    "                        mode='immediate'\n",
    "                        )]\n",
    "                    )\n",
    "                ])]\n",
    "            ),\n",
    "        frames=frames\n",
    "        )\n",
    "    return fig"
   ]
  },
  {
   "cell_type": "code",
   "execution_count": 7,
   "id": "c3b89ac4",
   "metadata": {},
   "outputs": [
    {
     "data": {
      "application/vnd.plotly.v1+json": {
       "config": {
        "plotlyServerURL": "https://plot.ly"
       },
       "data": [
        {
         "color": "lightpink",
         "opacity": 0.5,
         "type": "mesh3d",
         "x": [
          0.3728894591331482,
          0.3728436827659607,
          0.37357214093208313,
          0.37372514605522156,
          0.3735487759113312,
          0.37436115741729736,
          0.3745102286338806,
          0.3744974732398987,
          0.37432152032852173,
          0.373816579580307,
          0.37513411045074463,
          0.375442236661911,
          0.37542882561683655,
          0.37509122490882874,
          0.3745897710323334,
          0.3757619559764862,
          0.3760637044906616,
          0.37620797753334045,
          0.3760329484939575,
          0.3758578896522522,
          0.3753599226474762,
          0.3767082393169403,
          0.3766891062259674,
          0.37682899832725525,
          0.37697067856788635,
          0.37679606676101685,
          0.37662145495414734,
          0.3761270046234131,
          0.37745991349220276,
          0.37743890285491943,
          0.3775750398635864,
          0.3777129650115967,
          0.3775383532047272,
          0.3775213360786438,
          0.37718909978866577,
          0.3766975402832031,
          0.37829455733299255,
          0.37827226519584656,
          0.37840545177459717,
          0.37838539481163025,
          0.3783662021160126,
          0.3781920373439789,
          0.3780178725719452,
          0.37768691778182983,
          0.37892794609069824,
          0.379055380821228,
          0.3790320158004761,
          0.37916257977485657,
          0.3791414201259613,
          0.3789672553539276,
          0.3789474368095398,
          0.37861892580986023,
          0.37828949093818665,
          0.3796088993549347,
          0.37988337874412537,
          0.37985873222351074,
          0.37983500957489014,
          0.3798121511936188,
          0.37979018688201904,
          0.37961646914482117,
          0.3794427216053009,
          0.3789619207382202,
          0.3780174255371094,
          0.38051605224609375,
          0.38063791394233704,
          0.38061219453811646,
          0.3805873692035675,
          0.3805634379386902,
          0.3803897202014923,
          0.38021597266197205,
          0.38004225492477417,
          0.379564493894577,
          0.3787800967693329,
          0.3811935782432556,
          0.38145923614501953,
          0.38128462433815,
          0.381258100271225,
          0.38123244047164917,
          0.3810587227344513,
          0.38088497519493103,
          0.38071125745773315,
          0.38038724660873413,
          0.37976083159446716,
          0.3817613422870636,
          0.3820211887359619,
          0.3819919526576996,
          0.3819636404514313,
          0.3819361925125122,
          0.38176247477531433,
          0.38158875703811646,
          0.3814150094985962,
          0.3812412917613983,
          0.38076967000961304,
          0.37984809279441833,
          0.38265693187713623,
          0.3827691674232483,
          0.38273885846138,
          0.38270944356918335,
          0.3825357258319855,
          0.38250765204429626,
          0.3823343515396118,
          0.38201454281806946,
          0.3818408250808716,
          0.38137224316596985,
          0.38287222385406494,
          0.3834044635295868,
          0.38351407647132874,
          0.3834826946258545,
          0.3833089768886566,
          0.38327890634536743,
          0.38310563564300537,
          0.3829323351383209,
          0.38261404633522034,
          0.38244032859802246,
          0.3818289339542389,
          0.3836592733860016,
          0.3841838538646698,
          0.384149968624115,
          0.3841169774532318,
          0.38394322991371155,
          0.3839115500450134,
          0.38373827934265137,
          0.3835650086402893,
          0.38324832916259766,
          0.3830746114253998,
          0.38261231780052185,
          0.384443074464798,
          0.384821355342865,
          0.38478586077690125,
          0.38475123047828674,
          0.38471749424934387,
          0.3845442235469818,
          0.38437092304229736,
          0.3841976523399353,
          0.38402435183525085,
          0.3837088644504547,
          0.38324981927871704,
          0.38235974311828613,
          0.38552871346473694,
          0.38549140095710754,
          0.3854549825191498,
          0.38541945815086365,
          0.3852461576461792,
          0.38507288694381714,
          0.3848995864391327,
          0.38472631573677063,
          0.38441261649131775,
          0.38409802317619324,
          0.38349995017051697,
          0.38596591353416443,
          0.38619697093963623,
          0.3861587345600128,
          0.38598501682281494,
          0.38594815135002136,
          0.3857748508453369,
          0.38560158014297485,
          0.3854282796382904,
          0.38525500893592834,
          0.3849426507949829,
          0.38448992371559143,
          0.3863123655319214,
          0.3868037164211273,
          0.38676318526268005,
          0.38672351837158203,
          0.38668474555015564,
          0.3865114748477936,
          0.38647404313087463,
          0.386301189661026,
          0.3859916031360626,
          0.38581833243370056,
          0.3855074346065521,
          0.38478145003318787,
          0.38715073466300964,
          0.38750356435775757,
          0.3874620199203491,
          0.38728830218315125,
          0.38724809885025024,
          0.3872087597846985,
          0.38703593611717224,
          0.3868630826473236,
          0.3865549564361572,
          0.3862459361553192,
          0.38593602180480957,
          0.3850787281990051,
          0.3879833221435547,
          0.3880697786808014,
          0.38802680373191833,
          0.3879847228527069,
          0.38781142234802246,
          0.3877706527709961,
          0.38759782910346985,
          0.3874249756336212,
          0.38711827993392944,
          0.38681069016456604,
          0.3863674998283386,
          0.38824915885925293,
          0.3887162208557129,
          0.38867083191871643,
          0.3886263072490692,
          0.388582706451416,
          0.38853996992111206,
          0.3883671164512634,
          0.3881942927837372,
          0.38802143931388855,
          0.38771626353263855,
          0.3874102234840393,
          0.38683685660362244,
          0.38898617029190063,
          0.38944604992866516,
          0.38927188515663147,
          0.3892258405685425,
          0.3891806900501251,
          0.3891364336013794,
          0.38896358013153076,
          0.3887907564640045,
          0.3886179029941559,
          0.38831427693367004,
          0.3880097568035126,
          0.3873092830181122,
          0.38975533843040466,
          0.3900819420814514,
          0.3900338411331177,
          0.3898600935935974,
          0.3898133337497711,
          0.38976746797561646,
          0.3895946145057678,
          0.3895500600337982,
          0.38924893736839294,
          0.38894692063331604,
          0.3886440098285675,
          0.38795003294944763,
          0.39039769768714905,
          0.3907178044319153,
          0.3906680941581726,
          0.39049437642097473,
          0.3904459774494171,
          0.3903985023498535,
          0.3903518617153168,
          0.39017948508262634,
          0.38987997174263,
          0.38957956433296204,
          0.38927826285362244,
          0.38871920108795166,
          0.39104005694389343,
          0.39135369658470154,
          0.3913023769855499,
          0.39112862944602966,
          0.3910786211490631,
          0.3910295069217682,
          0.3909812867641449,
          0.3908088803291321,
          0.39051100611686707,
          0.39021220803260803,
          0.38991254568099976,
          0.3893583416938782,
          0.391477108001709,
          0.39190372824668884,
          0.39185023307800293,
          0.39179766178131104,
          0.391745924949646,
          0.391695111989975,
          0.3916451632976532,
          0.39147278666496277,
          0.39130038022994995,
          0.3908795118331909,
          0.39058154821395874,
          0.3901575803756714,
          0.3893551528453827,
          0.3925761580467224,
          0.3925209641456604,
          0.39246666431427,
          0.3924132287502289,
          0.39236071705818176,
          0.3923090696334839,
          0.39213666319847107,
          0.39196428656578064,
          0.3916693329811096,
          0.39137354493141174,
          0.3909534215927124,
          0.3901599645614624,
          0.3931313157081604,
          0.39319169521331787,
          0.393135666847229,
          0.39308056235313416,
          0.39302632212638855,
          0.3929729759693146,
          0.39280056953430176,
          0.39262816309928894,
          0.3923349380493164,
          0.39204084873199463,
          0.3916241526603699,
          0.3909613788127899,
          0.3935742974281311,
          0.39386239647865295,
          0.3938046991825104,
          0.39374786615371704,
          0.39369192719459534,
          0.3936368525028229,
          0.39346444606781006,
          0.39329206943511963,
          0.3930005431175232,
          0.3927081525325775,
          0.3924148678779602,
          0.39175936579704285,
          0.394137978553772,
          0.3945331275463104,
          0.39447370171546936,
          0.3944151699542999,
          0.39435750246047974,
          0.39430075883865356,
          0.39412835240364075,
          0.39395594596862793,
          0.39366614818573,
          0.3933754563331604,
          0.3930838704109192,
          0.3925539255142212,
          0.3948590159416199,
          0.39513418078422546,
          0.39507320523262024,
          0.39501315355300903,
          0.39495396614074707,
          0.39489567279815674,
          0.3947232663631439,
          0.3945508897304535,
          0.3942626118659973,
          0.3939734399318695,
          0.39368337392807007,
          0.39315804839134216,
          0.39557698369026184,
          0.3957352340221405,
          0.3956727385520935,
          0.39561113715171814,
          0.3956630229949951,
          0.3954906165599823,
          0.3953182101249695,
          0.39514580368995667,
          0.39485907554626465,
          0.3945714235305786,
          0.39428290724754333,
          0.39353078603744507,
          0.3962918817996979,
          0.39644598960876465,
          0.3963824212551117,
          0.39631974697113037,
          0.3962579369544983,
          0.3960855305194855,
          0.39591315388679504,
          0.3957407474517822,
          0.395455539226532,
          0.3951694071292877,
          0.39476871490478516,
          0.3940238058567047,
          0.39689600467681885,
          0.3970454931259155,
          0.3969804048538208,
          0.3969162106513977,
          0.39685288071632385,
          0.39668047428131104,
          0.3965080678462982,
          0.3963356614112854,
          0.3960520029067993,
          0.3957674205303192,
          0.3952575922012329,
          0.39732256531715393,
          0.3976777195930481,
          0.39761027693748474,
          0.397543728351593,
          0.3975857198238373,
          0.39741331338882446,
          0.39724093675613403,
          0.3970685303211212,
          0.39678671956062317,
          0.3965040147304535,
          0.39622044563293457,
          0.39571452140808105,
          0.39810484647750854,
          0.3982439339160919,
          0.3982803523540497,
          0.39821282029151917,
          0.3981461822986603,
          0.39797377586364746,
          0.39780136942863464,
          0.3976289927959442,
          0.3973486125469208,
          0.3970673680305481,
          0.3966763913631439,
          0.39595574140548706,
          0.3988133668899536,
          0.3989483118057251,
          0.3988783657550812,
          0.3988092839717865,
          0.39874109625816345,
          0.398568719625473,
          0.3983963131904602,
          0.3982239067554474,
          0.3979450762271881,
          0.3976653516292572,
          0.3972774147987366,
          0.39645665884017944,
          0.3994174599647522,
          0.399547815322876,
          0.3994763493537903,
          0.39940574765205383,
          0.399336040019989,
          0.3991636335849762,
          0.39899125695228577,
          0.39881885051727295,
          0.39854153990745544,
          0.3981580138206482,
          0.3977726697921753,
          0.39976370334625244,
          0.4001864194869995,
          0.40021297335624695,
          0.4001404941082001,
          0.40006887912750244,
          0.399896502494812,
          0.3997240960597992,
          0.3995516896247864,
          0.3992762863636017,
          0.398999959230423,
          0.398722767829895,
          0.3980272710323334,
          0.40069571137428284,
          0.4008163511753082,
          0.4007416367530823,
          0.40066781640052795,
          0.4005948603153229,
          0.40052279829978943,
          0.40025007724761963,
          0.4000776708126068,
          0.39980360865592957,
          0.39942651987075806,
          0.3990476727485657,
          0.40111586451530457,
          0.4014233350753784,
          0.40144360065460205,
          0.40136799216270447,
          0.40129324793815613,
          0.4012193977832794,
          0.4009484350681305,
          0.4007760286331177,
          0.4005037546157837,
          0.40023061633110046,
          0.3998557925224304,
          0.401700496673584,
          0.40199899673461914,
          0.4020153880119324,
          0.4019376337528229,
          0.40195712447166443,
          0.4018815755844116,
          0.4017096161842346,
          0.40143993496894836,
          0.4011693596839905,
          0.40089792013168335,
          0.4006255567073822,
          0.399854838848114,
          0.40263649821281433,
          0.4026496708393097,
          0.40257027745246887,
          0.40258654952049255,
          0.4025093615055084,
          0.4023374021053314,
          0.4020693600177765,
          0.40180039405822754,
          0.40153056383132935,
          0.4012598395347595,
          0.4004988372325897,
          0.4032739996910095,
          0.4032839238643646,
          0.40320292115211487,
          0.4032159447669983,
          0.4031371474266052,
          0.40287116169929504,
          0.4026987552642822,
          0.4024314284324646,
          0.40216320753097534,
          0.401798278093338,
          0.40114280581474304,
          0.4039115011692047,
          0.40391820669174194,
          0.40383556485176086,
          0.4038453698158264,
          0.4036729633808136,
          0.4035005569458008,
          0.40332818031311035,
          0.40306246280670166,
          0.40279585123062134,
          0.40243417024612427,
          0.40178677439689636,
          0.4045490026473999,
          0.4045524597167969,
          0.40446820855140686,
          0.40447476506233215,
          0.4043023884296417,
          0.4041299819946289,
          0.4039575755596161,
          0.4036934971809387,
          0.40342849493026733,
          0.4030700623989105,
          0.4024307429790497,
          0.4051865041255951,
          0.4051867425441742,
          0.40510085225105286,
          0.4051041901111603,
          0.40493178367614746,
          0.40475937724113464,
          0.4045870006084442,
          0.4043245315551758,
          0.40406113862991333,
          0.4037059247493744,
          0.403074711561203,
          0.4058240056037903,
          0.4058209955692291,
          0.40573349595069885,
          0.4057336151599884,
          0.4055612087249756,
          0.40538880228996277,
          0.40521639585494995,
          0.40495553612709045,
          0.4046938121318817,
          0.40434181690216064,
          0.40618425607681274,
          0.4065104126930237,
          0.40642049908638,
          0.40633150935173035,
          0.4063285291194916,
          0.40615612268447876,
          0.40598374605178833,
          0.4057248532772064,
          0.4055519998073578,
          0.4052917957305908,
          0.4049428701400757,
          0.4068763554096222,
          0.4071114659309387,
          0.4071027636528015,
          0.4070126712322235,
          0.40692347288131714,
          0.4067510664463043,
          0.4065786600112915,
          0.40632131695747375,
          0.4060630798339844,
          0.40580394864082336,
          0.4053713381290436,
          0.4075653851032257,
          0.40771251916885376,
          0.407700777053833,
          0.40760913491249084,
          0.4075183868408203,
          0.4073460102081299,
          0.40709060430526733,
          0.4069177806377411,
          0.4066610634326935,
          0.40640345215797424,
          0.40589070320129395,
          0.4082513451576233,
          0.4083928167819977,
          0.4082987606525421,
          0.4082055985927582,
          0.40803274512290955,
          0.4078599214553833,
          0.40768706798553467,
          0.4075142443180084,
          0.4072590470314026,
          0.4070029854774475,
          0.40641310811042786,
          0.40893423557281494,
          0.40899232029914856,
          0.4088967442512512,
          0.4088020622730255,
          0.4086292088031769,
          0.40845638513565063,
          0.408283531665802,
          0.40811070799827576,
          0.4078570306301117,
          0.40752124786376953,
          0.40685686469078064,
          0.40957337617874146,
          0.4096266031265259,
          0.4095293879508972,
          0.4094330966472626,
          0.40926024317741394,
          0.4090874195098877,
          0.40891456604003906,
          0.40874171257019043,
          0.4084896743297577,
          0.4081571400165558,
          0.4075024724006653,
          0.41025158762931824,
          0.41022610664367676,
          0.4101274013519287,
          0.4100295603275299,
          0.4098567068576813,
          0.40968388319015503,
          0.4095110297203064,
          0.40926095843315125,
          0.4090876877307892,
          0.40875816345214844,
          0.4106680452823639,
          0.4109267592430115,
          0.4108986556529999,
          0.4107988476753235,
          0.41062602400779724,
          0.4104531705379486,
          0.41028034687042236,
          0.41010749340057373,
          0.40985894203186035,
          0.40960952639579773,
          0.4092060625553131,
          0.4113488793373108,
          0.4115278124809265,
          0.41149666905403137,
          0.4113953113555908,
          0.4112224876880646,
          0.41104963421821594,
          0.4108767807483673,
          0.41070395708084106,
          0.41045695543289185,
          0.410209059715271,
          0.4098101854324341,
          0.41202667355537415,
          0.41212886571884155,
          0.4120946526527405,
          0.41199177503585815,
          0.4118189513683319,
          0.4116460978984833,
          0.41147324442863464,
          0.4113004207611084,
          0.41105493903160095,
          0.4108085632324219,
          0.4103407561779022,
          0.41270139813423157,
          0.4127979278564453,
          0.4126926362514496,
          0.4125882387161255,
          0.412484735250473,
          0.4123123288154602,
          0.412069708108902,
          0.4118262231349945,
          0.41165292263031006,
          0.4113365411758423,
          0.4108743965625763,
          0.41337308287620544,
          0.4133974313735962,
          0.4132906198501587,
          0.4131847023963928,
          0.4130796790122986,
          0.41290727257728577,
          0.4126661717891693,
          0.4124242067337036,
          0.41225090622901917,
          0.4119375944137573,
          0.4114815592765808,
          0.41394779086112976,
          0.4140317142009735,
          0.4139232635498047,
          0.4138157367706299,
          0.4137090742588043,
          0.4135366678237915,
          0.41329720616340637,
          0.4131243824958801,
          0.41288357973098755,
          0.4125734865665436,
          0.41219276189804077,
          0.4145885109901428,
          0.41466596722602844,
          0.41455593705177307,
          0.41444677114486694,
          0.41433849930763245,
          0.41416609287261963,
          0.41392824053764343,
          0.4137553870677948,
          0.41351622343063354,
          0.41320937871932983,
          0.4128335118293762,
          0.41516807675361633,
          0.415238618850708,
          0.41518858075141907,
          0.415077805519104,
          0.4149678945541382,
          0.41479548811912537,
          0.41462311148643494,
          0.41438642144203186,
          0.41414886713027954,
          0.4139104187488556,
          0.413539856672287,
          0.4157620668411255,
          0.4158843457698822,
          0.41583025455474854,
          0.41577795147895813,
          0.41566628217697144,
          0.4154938757419586,
          0.4153214693069458,
          0.4150865972042084,
          0.4148508310317993,
          0.41461417078971863,
          0.4143766164779663,
          0.41394543647766113,
          0.41641759872436523,
          0.4164755642414093,
          0.41641920804977417,
          0.416305273771286,
          0.4161922335624695,
          0.41601985692977905,
          0.41584745049476624,
          0.41561391949653625,
          0.41537949442863464,
          0.4151442050933838,
          0.4148455560207367,
          0.41435641050338745,
          0.4171244204044342,
          0.41706404089927673,
          0.4170054495334625,
          0.41689062118530273,
          0.4167182147502899,
          0.4165458083152771,
          0.41631409525871277,
          0.4160814583301544,
          0.41590818762779236,
          0.41567423939704895,
          0.415317177772522,
          0.41764751076698303,
          0.417692095041275,
          0.41768449544906616,
          0.41756734251976013,
          0.41745108366012573,
          0.4172786772251129,
          0.4171062707901001,
          0.4168759882450104,
          0.41664478182792664,
          0.41641274094581604,
          0.4161797761917114,
          0.4157669246196747,
          0.41834598779678345,
          0.418332576751709,
          0.4182131886482239,
          0.418094664812088,
          0.4179770350456238,
          0.41780462861061096,
          0.41763225197792053,
          0.41740331053733826,
          0.41717347502708435,
          0.4169427454471588,
          0.41665327548980713,
          0.41888391971588135,
          0.4189670979976654,
          0.4188973605632782,
          0.41882941126823425,
          0.4186565577983856,
          0.4185374975204468,
          0.41836509108543396,
          0.4181380271911621,
          0.417910099029541,
          0.41773679852485657,
          0.417507529258728,
          0.41716450452804565,
          0.4194736182689667,
          0.41955047845840454,
          0.41947847604751587,
          0.41935673356056213,
          0.41923585534095764,
          0.4190634787082672,
          0.4188382029533386,
          0.41866534948349,
          0.41843876242637634,
          0.41821128129959106,
          0.41798293590545654,
          0.4174782633781433,
          0.420158326625824,
          0.4201311469078064,
          0.4200071692466736,
          0.41988405585289,
          0.4197618365287781,
          0.41953837871551514,
          0.4193655252456665,
          0.4191407263278961,
          0.41896745562553406,
          0.4187413156032562,
          0.41840773820877075,
          0.420738160610199,
          0.42075255513191223,
          0.42067447304725647,
          0.420501172542572,
          0.42037680745124817,
          0.42020395398139954,
          0.4200311303138733,
          0.419808030128479,
          0.41963475942611694,
          0.4194103181362152,
          0.4191334545612335,
          0.42132481932640076,
          0.421331524848938,
          0.4212954342365265,
          0.4211684763431549,
          0.42104241251945496,
          0.4208695590496063,
          0.4206967353820801,
          0.4204753339290619,
          0.42030206322669983,
          0.4200793504714966,
          0.4198557436466217,
          0.41937968134880066,
          0.4219706356525421,
          0.42188501358032227,
          0.4218011200428009,
          0.421673446893692,
          0.4215005934238434,
          0.42132776975631714,
          0.4211079776287079,
          0.4209347069263458,
          0.4207136034965515,
          0.42049163579940796,
          0.4200252890586853,
          0.42253202199935913,
          0.42244288325309753,
          0.4223991334438324,
          0.42226991057395935,
          0.4220970571041107,
          0.42187926173210144,
          0.4217059910297394,
          0.42153269052505493,
          0.4213131368160248,
          0.4210459589958191,
          0.4231258034706116,
          0.42307382822036743,
          0.4230245053768158,
          0.42289313673973083,
          0.4227626621723175,
          0.4225465655326843,
          0.42237329483032227,
          0.4221999943256378,
          0.42198213934898376,
          0.4217633903026581,
          0.42373037338256836,
          0.4236730933189392,
          0.42361849546432495,
          0.42352578043937683,
          0.42335250973701477,
          0.4231792092323303,
          0.42300593852996826,
          0.42279013991355896,
          0.4226164221763611,
          0.42235589027404785,
          0.4243405759334564,
          0.4242404103279114,
          0.4241807758808136,
          0.4241237938404083,
          0.4239504933357239,
          0.4237772226333618,
          0.42360392212867737,
          0.42338964343070984,
          0.42321592569351196,
          0.42291659116744995,
          0.42488133907318115,
          0.4247790575027466,
          0.4247160851955414,
          0.42461779713630676,
          0.4244445264339447,
          0.4242323935031891,
          0.4240586757659912,
          0.42388492822647095,
          0.4235907196998596,
          0.4254903197288513,
          0.42538437247276306,
          0.42531606554985046,
          0.42521411180496216,
          0.4250403940677643,
          0.4248666763305664,
          0.42469292879104614,
          0.4244810938835144,
          0.42419129610061646,
          0.4260298013687134,
          0.42595523595809937,
          0.4258488118648529,
          0.4256742000579834,
          0.4255349934101105,
          0.4253966808319092,
          0.4251866638660431,
          0.42493897676467896,
          0.42664003372192383,
          0.42652830481529236,
          0.42638537287712097,
          0.4262433350086212,
          0.4261021614074707,
          0.4259275496006012,
          0.4257529377937317,
          0.4254726469516754,
          0.42706918716430664,
          0.426955908536911,
          0.4267804026603699,
          0.42663735151290894,
          0.4264622926712036,
          0.42625391483306885,
          0.42768365144729614,
          0.4275367558002472,
          0.4273907542228699,
          0.4272456467151642,
          0.42707014083862305,
          0.4268312156200409,
          0.428117036819458,
          0.4279690682888031,
          0.4278219938278198,
          0.42761629819869995,
          0.42855045199394226,
          0.4283736050128937,
          0.4290192127227783
         ],
         "y": [
          0.1302182674407959,
          0.1339268684387207,
          0.1296071857213974,
          0.13250459730625153,
          0.135721355676651,
          0.12705636024475098,
          0.12996651232242584,
          0.1330137997865677,
          0.1362224817276001,
          0.13980241119861603,
          0.12758344411849976,
          0.1303190290927887,
          0.13334845006465912,
          0.136720210313797,
          0.14029546082019806,
          0.12518760561943054,
          0.12795041501522064,
          0.13082949817180634,
          0.13402201235294342,
          0.1372145265340805,
          0.1407850980758667,
          0.12249452620744705,
          0.12556904554367065,
          0.12846896052360535,
          0.13133656978607178,
          0.1345209926366806,
          0.13770543038845062,
          0.14127133786678314,
          0.1205950379371643,
          0.12367431074380875,
          0.1265837699174881,
          0.1294608861207962,
          0.13264530897140503,
          0.1356518417596817,
          0.13901416957378387,
          0.14258672297000885,
          0.11984952539205551,
          0.12292223423719406,
          0.1258266717195511,
          0.12885896861553192,
          0.13187509775161743,
          0.1350514441728592,
          0.13822779059410095,
          0.14159667491912842,
          0.11744102090597153,
          0.12039053440093994,
          0.12345346808433533,
          0.1263463944196701,
          0.12936890125274658,
          0.13254526257514954,
          0.13554352521896362,
          0.13889794051647186,
          0.14226853847503662,
          0.116831474006176,
          0.11964790523052216,
          0.12270427495241165,
          0.12574449181556702,
          0.12876851856708527,
          0.13177640736103058,
          0.13494466245174408,
          0.13811293244361877,
          0.14166662096977234,
          0.14585502445697784,
          0.11725233495235443,
          0.12018532305955887,
          0.1232319101691246,
          0.1262623369693756,
          0.1292765885591507,
          0.1324448436498642,
          0.1356131136417389,
          0.1387813687324524,
          0.14233846962451935,
          0.14633290469646454,
          0.11664583534002304,
          0.1194455698132515,
          0.12263000011444092,
          0.1256619393825531,
          0.12867772579193115,
          0.13184599578380585,
          0.13501425087451935,
          0.13818252086639404,
          0.1415436714887619,
          0.14532293379306793,
          0.11552269011735916,
          0.11833994090557098,
          0.12139119952917099,
          0.12442628294229507,
          0.12744522094726562,
          0.13061347603797913,
          0.13378173112869263,
          0.13695000112056732,
          0.14011825621128082,
          0.14368218183517456,
          0.1478961706161499,
          0.11594778299331665,
          0.11887862533330917,
          0.12192009389400482,
          0.12494540214538574,
          0.12811365723609924,
          0.13111472129821777,
          0.1342748999595642,
          0.13761845231056213,
          0.14078670740127563,
          0.14435404539108276,
          0.11390411853790283,
          0.1164945438504219,
          0.11941389739513397,
          0.12244558334350586,
          0.12561383843421936,
          0.12862128019332886,
          0.1317814588546753,
          0.13494163751602173,
          0.13828688859939575,
          0.14145515859127045,
          0.14522713422775269,
          0.11381912231445312,
          0.11640102416276932,
          0.11944878101348877,
          0.1224803775548935,
          0.125648632645607,
          0.12865598499774933,
          0.13181616365909576,
          0.1349763423204422,
          0.1383216828107834,
          0.14148995280265808,
          0.14506086707115173,
          0.1137339398264885,
          0.11643598973751068,
          0.11948366463184357,
          0.12251516431570053,
          0.12553051114082336,
          0.1286906898021698,
          0.13185086846351624,
          0.13501104712486267,
          0.1381712257862091,
          0.14152474701404572,
          0.1450958400964737,
          0.14932774007320404,
          0.11519718915224075,
          0.11824800074100494,
          0.121282659471035,
          0.12430114299058914,
          0.12746132910251617,
          0.13062149286270142,
          0.13378167152404785,
          0.13694186508655548,
          0.140292227268219,
          0.14365875720977783,
          0.147454172372818,
          0.11420316249132156,
          0.11701234430074692,
          0.12005013972520828,
          0.12321840971708298,
          0.12623195350170135,
          0.1293921321630478,
          0.13255231082439423,
          0.13571248948574066,
          0.1388726681470871,
          0.14222797751426697,
          0.14580266177654266,
          0.11267083883285522,
          0.11526712775230408,
          0.11831776797771454,
          0.12135224044322968,
          0.12437054514884949,
          0.12753072381019592,
          0.13052478432655334,
          0.13367688655853271,
          0.13701127469539642,
          0.14017145335674286,
          0.14353007078170776,
          0.14752447605133057,
          0.1137542873620987,
          0.1164468377828598,
          0.11948607861995697,
          0.12265433371067047,
          0.12566933035850525,
          0.1286681443452835,
          0.13182023167610168,
          0.13497233390808105,
          0.138310045003891,
          0.14166390895843506,
          0.14503394067287445,
          0.149259552359581,
          0.11482445150613785,
          0.11775226145982742,
          0.12078817188739777,
          0.12380792200565338,
          0.12696810066699982,
          0.12996359169483185,
          0.13311569392681122,
          0.1362677961587906,
          0.13960881531238556,
          0.14296600222587585,
          0.1465444564819336,
          0.11277707666158676,
          0.11537203937768936,
          0.11842241138219833,
          0.12145661562681198,
          0.1244746595621109,
          0.1274765282869339,
          0.13062863051891327,
          0.13378073275089264,
          0.13693282008171082,
          0.14027555286884308,
          0.14363445341587067,
          0.14742310345172882,
          0.11333786696195602,
          0.11591621488332748,
          0.11909256130456924,
          0.1221250593662262,
          0.12514139711856842,
          0.12814156711101532,
          0.1312936693429947,
          0.13444575667381287,
          0.13759785890579224,
          0.1409423053264618,
          0.14430288970470428,
          0.14830517768859863,
          0.11325350403785706,
          0.11595109850168228,
          0.11899159103631973,
          0.12215985357761383,
          0.1251761019229889,
          0.12817618250846863,
          0.131328284740448,
          0.13430412113666534,
          0.13763247430324554,
          0.14097701013088226,
          0.14433768391609192,
          0.14834032952785492,
          0.11328873783349991,
          0.11598597466945648,
          0.11902638524770737,
          0.12219464778900146,
          0.12521080672740936,
          0.12821079790592194,
          0.13119462132453918,
          0.1343386471271515,
          0.13766708970069885,
          0.14101170003414154,
          0.14437247812747955,
          0.14816679060459137,
          0.11332397162914276,
          0.11602085828781128,
          0.119061179459095,
          0.1222294420003891,
          0.12524551153182983,
          0.12824541330337524,
          0.13122914731502533,
          0.13437317311763763,
          0.13770170509815216,
          0.141046404838562,
          0.1444072723388672,
          0.1482018530368805,
          0.11295414716005325,
          0.11554688960313797,
          0.11859681457281113,
          0.12163057923316956,
          0.12464817613363266,
          0.12764960527420044,
          0.1306348741054535,
          0.1337788999080658,
          0.1369229108095169,
          0.14044907689094543,
          0.14380840957164764,
          0.1473911702632904,
          0.15165220201015472,
          0.11494497209787369,
          0.11799643188714981,
          0.12103171646595001,
          0.12405084818601608,
          0.12705381214618683,
          0.13004060089588165,
          0.13318461179733276,
          0.13632863759994507,
          0.13966219127178192,
          0.1430119276046753,
          0.14658352732658386,
          0.15082885324954987,
          0.11446642130613327,
          0.1173960417509079,
          0.12043286114931107,
          0.12345351278781891,
          0.12645800411701202,
          0.12944632768630981,
          0.13259033858776093,
          0.13573434948921204,
          0.13906638324260712,
          0.14241459965705872,
          0.14598314464092255,
          0.15000855922698975,
          0.11410665512084961,
          0.11679565161466599,
          0.11983399838209152,
          0.12285618484020233,
          0.12586219608783722,
          0.12885203957557678,
          0.1319960653781891,
          0.1351400762796402,
          0.1384705901145935,
          0.14181725680828094,
          0.1451800912618637,
          0.14919131994247437,
          0.11362046748399734,
          0.11619526147842407,
          0.11923513561487198,
          0.12225884944200516,
          0.12526638805866241,
          0.12825776636600494,
          0.13140179216861725,
          0.13454580307006836,
          0.1378747820854187,
          0.14121992886066437,
          0.14458124339580536,
          0.14837713539600372,
          0.11417712271213531,
          0.11686541140079498,
          0.11990358680486679,
          0.12292558699846268,
          0.12593142688274384,
          0.12892109155654907,
          0.13206511735916138,
          0.1352091282606125,
          0.13853982090950012,
          0.1418866664171219,
          0.14524967968463898,
          0.14905069768428802,
          0.11473037302494049,
          0.11753556877374649,
          0.120572030544281,
          0.1235923320055008,
          0.12644042074680328,
          0.1295844316482544,
          0.1327284425497055,
          0.1358724683523178,
          0.13920484483242035,
          0.1425534039735794,
          0.1459181308746338,
          0.15014950931072235,
          0.11528021842241287,
          0.11807221174240112,
          0.12109889090061188,
          0.12410939484834671,
          0.1271037459373474,
          0.13024775683879852,
          0.13339176774024963,
          0.13653579354286194,
          0.13986988365650177,
          0.14322015643119812,
          0.14679281413555145,
          0.15104080736637115,
          0.11595378071069717,
          0.11874065548181534,
          0.1217656284570694,
          0.12477443367242813,
          0.12776707112789154,
          0.13091108202934265,
          0.13405510783195496,
          0.13719911873340607,
          0.1405349224805832,
          0.14388689398765564,
          0.1476709246635437,
          0.1144404411315918,
          0.11700493842363358,
          0.12004275619983673,
          0.12306440621614456,
          0.12591518461704254,
          0.12905919551849365,
          0.13220322132110596,
          0.13534723222255707,
          0.13867828249931335,
          0.14202548563480377,
          0.14538885653018951,
          0.14919093251228333,
          0.11551108956336975,
          0.1183103621006012,
          0.1212029978632927,
          0.12421324104070663,
          0.12720732390880585,
          0.13035133481025696,
          0.13349536061286926,
          0.13663937151432037,
          0.1399737298488617,
          0.14332427084445953,
          0.14689746499061584,
          0.1511467844247818,
          0.11605895310640335,
          0.11884503811597824,
          0.12186974287033081,
          0.12487827241420746,
          0.12787064909934998,
          0.1310146600008011,
          0.1341586858034134,
          0.1373026967048645,
          0.14063875377178192,
          0.14399100840091705,
          0.14756761491298676,
          0.1520417481660843,
          0.11673251539468765,
          0.11951348185539246,
          0.12253648042678833,
          0.12554331123828888,
          0.1285339742898941,
          0.1316780000925064,
          0.13482201099395752,
          0.13796602189540863,
          0.14130379259586334,
          0.14485958218574524,
          0.1484476923942566,
          0.1153494268655777,
          0.11777973175048828,
          0.12067507207393646,
          0.12368666380643845,
          0.1266821026802063,
          0.1298261135816574,
          0.13297012448310852,
          0.13611415028572083,
          0.1394471526145935,
          0.1427963376045227,
          0.14616167545318604,
          0.15039615333080292,
          0.1168026328086853,
          0.11958306282758713,
          0.12260588258504868,
          0.1256125420331955,
          0.1286030262708664,
          0.13157735764980316,
          0.1348910629749298,
          0.13803507387638092,
          0.14137302339076996,
          0.14492915570735931,
          0.1485176384449005,
          0.11593909561634064,
          0.11848476529121399,
          0.12137652188539505,
          0.12438631802797318,
          0.12737995386123657,
          0.13035741448402405,
          0.1336679905653,
          0.1368120014667511,
          0.14014680683612823,
          0.1434977799654007,
          0.14707186818122864,
          0.11545566469430923,
          0.11801706999540329,
          0.12091995775699615,
          0.12393936514854431,
          0.12678568065166473,
          0.12976466119289398,
          0.13290059566497803,
          0.13621772825717926,
          0.13955099880695343,
          0.14290045201778412,
          0.14626605808734894,
          0.15071538090705872,
          0.11805204302072525,
          0.12095474451780319,
          0.12397406995296478,
          0.12682020664215088,
          0.12979911267757416,
          0.132935032248497,
          0.1362522542476654,
          0.13958561420440674,
          0.1429351568222046,
          0.14630085229873657,
          0.15075071156024933,
          0.11808700859546661,
          0.12098953872919083,
          0.12400877475738525,
          0.12685473263263702,
          0.12983354926109314,
          0.13314275443553925,
          0.13628678023815155,
          0.13962022960186005,
          0.14296986162662506,
          0.14654123783111572,
          0.15078602731227875,
          0.11812198162078857,
          0.12102433294057846,
          0.12404347956180573,
          0.12688925862312317,
          0.13003326952457428,
          0.1331772804260254,
          0.1363213062286377,
          0.13965484499931335,
          0.14300456643104553,
          0.14657612144947052,
          0.15082135796546936,
          0.11815694719552994,
          0.1210591271519661,
          0.1240781843662262,
          0.12692378461360931,
          0.13006779551506042,
          0.13321180641651154,
          0.13635583221912384,
          0.13968946039676666,
          0.1430392563343048,
          0.14661100506782532,
          0.15085668861865997,
          0.1181919202208519,
          0.12109392136335373,
          0.12411288917064667,
          0.12695831060409546,
          0.13010232150554657,
          0.13324633240699768,
          0.13639035820960999,
          0.13972407579421997,
          0.14307396113872528,
          0.14664588868618011,
          0.1508920043706894,
          0.11822689324617386,
          0.12112870812416077,
          0.12414759397506714,
          0.1269928365945816,
          0.13013684749603271,
          0.13328085839748383,
          0.13642488420009613,
          0.13975869119167328,
          0.14310866594314575,
          0.1466807723045349,
          0.11634853482246399,
          0.11876381933689117,
          0.12179715186357498,
          0.12481433153152466,
          0.12765616178512573,
          0.13080017268657684,
          0.13394419848918915,
          0.13727162778377533,
          0.1404237300157547,
          0.14377541840076447,
          0.14735090732574463,
          0.11690036952495575,
          0.11943396925926208,
          0.12232089042663574,
          0.12532827258110046,
          0.12831950187683105,
          0.13146349787712097,
          0.13460752367973328,
          0.13793666660785675,
          0.14128196239471436,
          0.14464344084262848,
          0.14843980967998505,
          0.11744878441095352,
          0.120104119181633,
          0.12298762798309326,
          0.12599331140518188,
          0.128982812166214,
          0.1321268379688263,
          0.1354495882987976,
          0.13860169053077698,
          0.14194871485233307,
          0.1453118771314621,
          0.1493244469165802,
          0.1179938018321991,
          0.12063422799110413,
          0.12365436553955078,
          0.1266583353281021,
          0.12981043756008148,
          0.13296252489089966,
          0.13611462712287903,
          0.1392667293548584,
          0.1426154524087906,
          0.1459803283214569,
          0.15021249651908875,
          0.11853539943695068,
          0.12130267173051834,
          0.1243211105465889,
          0.12732337415218353,
          0.1304754763841629,
          0.13362756371498108,
          0.13677966594696045,
          0.13993176817893982,
          0.1432821899652481,
          0.1468551754951477,
          0.15131844580173492,
          0.11857046186923981,
          0.12133746594190598,
          0.12435581535100937,
          0.12735798954963684,
          0.1305100917816162,
          0.1336621791124344,
          0.13681428134441376,
          0.13996638357639313,
          0.14331689476966858,
          0.1468900591135025,
          0.1513538509607315,
          0.11910856515169144,
          0.12200590968132019,
          0.12502256035804749,
          0.12802302837371826,
          0.13117511570453644,
          0.1343272179365158,
          0.13747932016849518,
          0.14082345366477966,
          0.1439836323261261,
          0.1475602090358734,
          0.11724139750003815,
          0.11964325606822968,
          0.12252911180257797,
          0.1255359649658203,
          0.12868806719779968,
          0.13184015452861786,
          0.13499225676059723,
          0.1381443589925766,
          0.14149019122123718,
          0.1448521912097931,
          0.1486501693725586,
          0.11779099702835083,
          0.12031340599060059,
          0.12319584935903549,
          0.12620098888874054,
          0.1293530911207199,
          0.13250519335269928,
          0.13565728068351746,
          0.13880938291549683,
          0.1421569287776947,
          0.1455206423997879,
          0.1493237316608429,
          0.11833717674016953,
          0.1209835559129715,
          0.12386259436607361,
          0.12686602771282196,
          0.13001812994480133,
          0.1331702172756195,
          0.13632231950759888,
          0.13947442173957825,
          0.14282366633415222,
          0.14618907868862152,
          0.15021060407161713,
          0.11887995153665543,
          0.12151142954826355,
          0.12452933192253113,
          0.12753106653690338,
          0.1305166333913803,
          0.13366064429283142,
          0.1369873583316803,
          0.1403302252292633,
          0.14349041879177094,
          0.1470644623041153,
          0.15110088884830475,
          0.11941931396722794,
          0.12217987328767776,
          0.12519606947898865,
          0.1281961053609848,
          0.13117995858192444,
          0.13432398438453674,
          0.13765239715576172,
          0.14099696278572083,
          0.14415715634822845,
          0.1477346122264862,
          0.15177786350250244,
          0.11959036439657211,
          0.1222146674990654,
          0.12523077428340912,
          0.1282307207584381,
          0.13121448457241058,
          0.1343585103750229,
          0.13768699765205383,
          0.1408390998840332,
          0.14419186115264893,
          0.147769495844841,
          0.1515962779521942,
          0.1196255162358284,
          0.12224945425987244,
          0.1252654790878296,
          0.12826533615589142,
          0.13124901056289673,
          0.13439303636550903,
          0.13772161304950714,
          0.1408737152814865,
          0.1442265659570694,
          0.1478043645620346,
          0.1516314297914505,
          0.11979682743549347,
          0.12242849916219711,
          0.12530018389225006,
          0.12829995155334473,
          0.13128353655338287,
          0.13442756235599518,
          0.1375715732574463,
          0.14090833067893982,
          0.14426127076148987,
          0.14763034880161285,
          0.15144957602024078,
          0.11881464719772339,
          0.12133394926786423,
          0.12421999871730804,
          0.1270737200975418,
          0.13006046414375305,
          0.13320447504520416,
          0.13634848594665527,
          0.1396821141242981,
          0.14303189516067505,
          0.14639782905578613,
          0.14977993071079254,
          0.15384401381015778,
          0.12050903588533401,
          0.12313353270292282,
          0.12600162625312805,
          0.12899959087371826,
          0.13198140263557434,
          0.13512541353702545,
          0.13826942443847656,
          0.14160798490047455,
          0.14496271312236786,
          0.1483335942029953,
          0.15193942189216614,
          0.15625818073749542,
          0.1220407783985138,
          0.1249232366681099,
          0.12777337431907654,
          0.13075831532478333,
          0.13390232622623444,
          0.13704635202884674,
          0.14038175344467163,
          0.14373333752155304,
          0.14689351618289948,
          0.15026932954788208,
          0.15410876274108887,
          0.12071765214204788,
          0.12334951758384705,
          0.126071035861969,
          0.12906882166862488,
          0.13205045461654663,
          0.13519446551799774,
          0.13833847641944885,
          0.14167721569538116,
          0.1450321227312088,
          0.14840316772460938,
          0.15179039537906647,
          0.15587492287158966,
          0.12225379049777985,
          0.12499282509088516,
          0.1280018538236618,
          0.13099469244480133,
          0.13397137820720673,
          0.13711540400981903,
          0.14025941491127014,
          0.14360308647155762,
          0.14696292579174042,
          0.15033891797065735,
          0.15395498275756836,
          0.1209266185760498,
          0.12341945618391037,
          0.12629492580890656,
          0.1291380524635315,
          0.13229015469551086,
          0.13526351749897003,
          0.13840752840042114,
          0.14174644649028778,
          0.14510151743888855,
          0.14826169610023499,
          0.15164101123809814,
          0.1554909497499466,
          0.12275367975234985,
          0.12521374225616455,
          0.12807124853134155,
          0.13106392323970795,
          0.13404043018817902,
          0.13718445599079132,
          0.14052021503448486,
          0.14367231726646423,
          0.14703233540058136,
          0.15040850639343262,
          0.1538008451461792,
          0.15837015211582184,
          0.12427447736263275,
          0.1269981563091278,
          0.13000206649303436,
          0.1329897940158844,
          0.1359613686800003,
          0.13929399847984314,
          0.14244608581066132,
          0.14580295979976654,
          0.14896315336227417,
          0.1523442566394806,
          0.15619955956935883,
          0.12396436929702759,
          0.12655404210090637,
          0.12940473854541779,
          0.13256490230560303,
          0.13554608821868896,
          0.13869819045066833,
          0.1418502777814865,
          0.14520563185214996,
          0.1483658105134964,
          0.15174539387226105,
          0.1553686410188675,
          0.12364814430475235,
          0.12626010179519653,
          0.12896870076656342,
          0.13196757435798645,
          0.13495028018951416,
          0.13810238242149353,
          0.1412544846534729,
          0.1446083039045334,
          0.14776848256587982,
          0.1511465311050415,
          0.1545407474040985,
          0.15912136435508728,
          0.12629516422748566,
          0.1291648894548416,
          0.13200227916240692,
          0.13498489558696747,
          0.13813699781894684,
          0.1412891000509262,
          0.14464300870895386,
          0.1478031873703003,
          0.15118132531642914,
          0.1545756310224533,
          0.15915678441524506,
          0.12712374329566956,
          0.1299981325864792,
          0.13266901671886444,
          0.1356499344110489,
          0.13880203664302826,
          0.14214956760406494,
          0.14530974626541138,
          0.1484699249267578,
          0.15184977650642395,
          0.15547354519367218,
          0.1268257349729538,
          0.1295577883720398,
          0.13224133849143982,
          0.1352318674325943,
          0.13820622861385345,
          0.14155222475528717,
          0.1447124183177948,
          0.14787259697914124,
          0.1512509137392044,
          0.1546453982591629,
          0.1270146369934082,
          0.12975451350212097,
          0.13244587182998657,
          0.13526657223701477,
          0.1384267508983612,
          0.14158692955970764,
          0.14474712312221527,
          0.14811745285987854,
          0.15128570795059204,
          0.15490660071372986,
          0.1276950240135193,
          0.13059313595294952,
          0.1332874596118927,
          0.1359333097934723,
          0.13909348845481873,
          0.14225366711616516,
          0.1454138606786728,
          0.14878588914871216,
          0.15195414423942566,
          0.15580646693706512,
          0.13014847040176392,
          0.1330253779888153,
          0.13569197058677673,
          0.13849616050720215,
          0.14165633916854858,
          0.1450187712907791,
          0.14818702638149261,
          0.15135528147220612,
          0.15520302951335907,
          0.13034571707248688,
          0.1332305371761322,
          0.1359049528837204,
          0.13871702551841736,
          0.14188529551029205,
          0.14505356550216675,
          0.14822182059288025,
          0.15160857141017914,
          0.15546467900276184,
          0.13231602311134338,
          0.1350160390138626,
          0.1378505825996399,
          0.14103500545024872,
          0.1440202295780182,
          0.14698930084705353,
          0.1503729224205017,
          0.15399613976478577,
          0.13299641013145447,
          0.13586795330047607,
          0.13889189064502716,
          0.14189967513084412,
          0.14489127695560455,
          0.14807571470737457,
          0.1512601375579834,
          0.15511998534202576,
          0.1373666375875473,
          0.14020727574825287,
          0.1434078812599182,
          0.1464042365550995,
          0.14959675073623657,
          0.15300963819026947,
          0.13758201897144318,
          0.1406187117099762,
          0.14363925158977509,
          0.14664360880851746,
          0.1498442143201828,
          0.1534857451915741,
          0.1414872258901596,
          0.14451414346694946,
          0.147524893283844,
          0.1509476602077484,
          0.14539246261119843,
          0.14861729741096497,
          0.14865271747112274
         ],
         "z": [
          -0.0019121811492368579,
          -0.0008615690167061985,
          -0.0019220361718907952,
          0.00011717805318767205,
          0.00016131608572322875,
          -0.001958506880328059,
          8.088943286566064e-05,
          0.0011224645422771573,
          0.0011664917692542076,
          -0.0007838821038603783,
          -0.0009530085371807218,
          0.002083765808492899,
          0.003125099465250969,
          0.0021715983748435974,
          0.00022115306637715548,
          -0.0019870889373123646,
          0.0010500699281692505,
          0.0030890845227986574,
          0.0031328897457569838,
          0.0031766952015459538,
          0.0012261783704161644,
          -0.0010257679969072342,
          1.6161870007636026e-05,
          0.0020554696675390005,
          0.004094333853572607,
          0.004138028249144554,
          0.004181722644716501,
          0.002231134567409754,
          -0.0010532980086281896,
          -1.129908469010843e-05,
          0.0020281467586755753,
          0.0040671490132808685,
          0.004110843408852816,
          0.005151873920112848,
          0.00419823219999671,
          0.0022477279417216778,
          -6.524286436615512e-05,
          0.0009766994044184685,
          0.0030160837341099977,
          0.004057441838085651,
          0.005098607856780291,
          0.0051421914249658585,
          0.005185774993151426,
          0.00423221942037344,
          -0.0010995081393048167,
          0.0009405020973645151,
          0.0019822840113192797,
          0.0040215179324150085,
          0.00506277522072196,
          0.005106358788907528,
          0.006147253327071667,
          0.005193525925278664,
          0.004239989910274744,
          -0.0011093384819105268,
          0.0019286113092675805,
          0.002970336936414242,
          0.004011810757219791,
          0.00505309272557497,
          0.006094122771173716,
          0.006137595511972904,
          0.006181068252772093,
          0.004230282735079527,
          -0.0007110981387086213,
          0.0008945235749706626,
          0.0029343217611312866,
          0.0039758868515491486,
          0.00501726008951664,
          0.006058381404727697,
          0.006101854145526886,
          0.006145326886326075,
          0.006188799161463976,
          0.004238053224980831,
          0.000293754565063864,
          0.0008847425342537463,
          0.003922485280781984,
          0.003966179676353931,
          0.00500757759436965,
          0.006048723589628935,
          0.0060921963304281235,
          0.006135668605566025,
          0.006179141346365213,
          0.005225494969636202,
          0.0022779947612434626,
          -0.00013192679034546018,
          0.00290609709918499,
          0.003947733901441097,
          0.004989177919924259,
          0.006030370946973562,
          0.006073843687772751,
          0.0061173164285719395,
          0.006160788703709841,
          0.006204261444509029,
          0.004253594670444727,
          -0.0006874905666336417,
          0.0018720190273597836,
          0.003911809995770454,
          0.004953345283865929,
          0.005994629580527544,
          0.006038102321326733,
          0.007079053670167923,
          0.007122415117919445,
          0.006168520078063011,
          0.0062119928188622,
          0.004261365160346031,
          -0.0021566147916018963,
          0.0028778724372386932,
          0.004917512647807598,
          0.005958888214081526,
          0.006002360954880714,
          0.00704340310767293,
          0.007086765021085739,
          0.0071301269344985485,
          0.0061762514524161816,
          0.006219723727554083,
          0.003272120375186205,
          -0.001159470877610147,
          0.0038749175146222115,
          0.004916546866297722,
          0.005957924760878086,
          0.006001397501677275,
          0.007042442448437214,
          0.007085803896188736,
          0.007129165809601545,
          0.006175287999212742,
          0.0062187607400119305,
          0.004268167540431023,
          -0.00016232211783062667,
          0.0038739494048058987,
          0.004915581084787846,
          0.005956961307674646,
          0.006998119875788689,
          0.007041481323540211,
          0.00708484323695302,
          0.007128204684704542,
          0.0071715665981173515,
          0.006217797286808491,
          0.0042671989649534225,
          -0.000673713511787355,
          0.003855503164231777,
          0.004897181876003742,
          0.005938609130680561,
          0.006979814264923334,
          0.007023175712674856,
          0.0070665376260876656,
          0.007109899073839188,
          0.007153260987251997,
          0.006199444644153118,
          0.005245849955826998,
          0.0022985052783042192,
          0.0018408031901344657,
          0.004878782667219639,
          0.0059202564880251884,
          0.005963729228824377,
          0.007004870101809502,
          0.007048232015222311,
          0.007091593462973833,
          0.0071349553763866425,
          0.007178317289799452,
          0.006224564742296934,
          0.004274001345038414,
          -0.0011810929281637073,
          0.003853566711768508,
          0.00489525031298399,
          0.005936682224273682,
          0.006977892480790615,
          0.007021253928542137,
          0.00806216150522232,
          0.008105412125587463,
          0.007151339203119278,
          0.0071947006508708,
          0.006240990478545427,
          0.002296558814123273,
          0.000831934274174273,
          0.004868134390562773,
          0.005909635219722986,
          0.005953107960522175,
          0.006994275841861963,
          0.008035251870751381,
          0.008078503422439098,
          0.008121754042804241,
          0.0071677230298519135,
          0.006213943473994732,
          0.005260386038571596,
          0.0003192835138179362,
          0.0028447937220335007,
          0.004884601570665836,
          0.005926060955971479,
          0.006967298220843077,
          0.007010659668594599,
          0.008051593787968159,
          0.008094844408333302,
          0.008138095960021019,
          0.007184106856584549,
          0.006230369210243225,
          0.004279835615307093,
          -0.001184034743346274,
          0.0038506616838276386,
          0.004892352502793074,
          0.0059337918646633625,
          0.006975009571760893,
          0.008016034960746765,
          0.008059285581111908,
          0.00810253620147705,
          0.008145787753164768,
          0.007191818207502365,
          0.006238100118935108,
          0.003290637396275997,
          -0.00017799668421503156,
          0.004856519866734743,
          0.004900103434920311,
          0.005941523239016533,
          0.006982720922678709,
          0.008023726753890514,
          0.008066977374255657,
          0.0081102279946208,
          0.008153478614985943,
          0.007199529558420181,
          0.006245831493288279,
          0.002301448956131935,
          0.0008192261448130012,
          0.004855554085224867,
          0.005897087045013905,
          0.005940559785813093,
          0.006981759797781706,
          0.008022768422961235,
          0.008066019043326378,
          0.009106664918363094,
          0.008152520284056664,
          0.007198568433523178,
          0.006244868040084839,
          0.002300475724041462,
          0.0008182504680007696,
          0.004854588303714991,
          0.005896123591810465,
          0.0059395963326096535,
          0.00698079913854599,
          0.008021809160709381,
          0.0090625686571002,
          0.009105708450078964,
          0.008151561953127384,
          0.007197607774287462,
          0.006243904586881399,
          0.0032964861020445824,
          0.0008172747911885381,
          0.004853622522205114,
          0.005895160138607025,
          0.005938632879406214,
          0.006979838013648987,
          0.008020850829780102,
          0.009061613120138645,
          0.009104752913117409,
          0.008150603622198105,
          0.007196646649390459,
          0.0062429411336779594,
          0.0032955154310911894,
          -0.001188937691040337,
          0.0038458202034235,
          0.004887523595243692,
          0.005928975064307451,
          0.006970204878598452,
          0.008011242374777794,
          0.009052028879523277,
          0.00909516867250204,
          0.009138308465480804,
          0.007187013514339924,
          0.006233283318579197,
          0.004282764624804258,
          -0.0006579507025890052,
          0.003836113028228283,
          0.004877840634435415,
          0.005919317249208689,
          0.006960571743547916,
          0.008001633919775486,
          0.00904244463890791,
          0.009085584431886673,
          0.009128724224865437,
          0.008174637332558632,
          0.007220741827040911,
          0.005270092282444239,
          0.00032911362359300256,
          0.002828266704455018,
          0.0048681581392884254,
          0.005909658968448639,
          0.006950938142836094,
          0.007992025464773178,
          0.009032860398292542,
          0.009076000191271305,
          0.009119140915572643,
          0.008165028877556324,
          0.0072111086919903755,
          0.005260409787297249,
          0.001316256821155548,
          0.0008221774478442967,
          0.004858475644141436,
          0.005900001153349876,
          0.006941305007785559,
          0.00798241700977087,
          0.009023277088999748,
          0.009066416881978512,
          0.009109556674957275,
          0.008155419491231441,
          0.00720147555693984,
          0.006247782148420811,
          0.0023034196346998215,
          -0.00018582178745418787,
          0.004848793148994446,
          0.005890343338251114,
          0.0069316718727350235,
          0.007972807623445988,
          0.00901369284838438,
          0.009056832641363144,
          0.009099972434341908,
          0.008145811036229134,
          0.007191841956228018,
          0.006238124333322048,
          0.003290661610662937,
          0.0008202260942198336,
          0.004856544081121683,
          0.005898074246942997,
          0.00693938322365284,
          0.007980499416589737,
          0.009021365083754063,
          0.009064504876732826,
          0.00910764466971159,
          0.008153502829372883,
          0.007199553307145834,
          0.006245855242013931,
          0.0032984516583383083,
          0.00182620482519269,
          0.0048642950132489204,
          0.005905805621296167,
          0.006947094574570656,
          0.008985896594822407,
          0.00902903638780117,
          0.009072176180779934,
          0.009115316905081272,
          0.008161194622516632,
          0.00720726465806365,
          0.006253586616367102,
          0.001312354113906622,
          0.0028321738354861736,
          0.005870064254850149,
          0.006911444012075663,
          0.007952632382512093,
          0.008993568830192089,
          0.009036708623170853,
          0.009079848416149616,
          0.00912298820912838,
          0.008168886415660381,
          0.007214976474642754,
          0.005264297593384981,
          0.00032324480707757175,
          0.0028399641159921885,
          0.005877795163542032,
          0.006919155828654766,
          0.007960324175655842,
          0.009001241065561771,
          0.009044380858540535,
          0.009087520651519299,
          0.009130660444498062,
          0.00817657820880413,
          0.00722268782556057,
          0.004275017883628607,
          -0.0001818848541006446,
          0.004852680489420891,
          0.0058942208997905254,
          0.006935539189726114,
          0.008974400348961353,
          0.009017540141940117,
          0.009060680866241455,
          0.009103820659220219,
          0.008149669505655766,
          0.007195709738880396,
          0.00624200189486146,
          0.0032945687416940928,
          0.0018310952000319958,
          0.004869148135185242,
          0.006908561568707228,
          0.00794975645840168,
          0.008990700356662273,
          0.009033840149641037,
          0.009076980873942375,
          0.009120120666921139,
          0.008166010491549969,
          0.007212093565613031,
          0.005261399783194065,
          0.0003203103842679411,
          0.002837051870301366,
          0.005874905269593,
          0.006916272919625044,
          0.00795744825154543,
          0.008998372592031956,
          0.00904151238501072,
          0.009084652177989483,
          0.009127791970968246,
          0.008173702284693718,
          0.0072198049165308475,
          0.005269150715321302,
          -0.0006687372224405408,
          0.0028448421508073807,
          0.0058826361782848835,
          0.00692398427054286,
          0.007965140044689178,
          0.009006044827401638,
          0.009049184620380402,
          0.009092324413359165,
          0.009135464206337929,
          0.008181394077837467,
          0.006230417173355818,
          0.004279883578419685,
          -0.0011751360725611448,
          0.004857534077018499,
          0.006897006183862686,
          0.007938231341540813,
          0.008979205042123795,
          0.009022344835102558,
          0.009065484628081322,
          0.009108624421060085,
          0.008154485374689102,
          0.00720053818076849,
          0.006246842909604311,
          0.0013055243762210011,
          0.002842900576069951,
          0.005880709271878004,
          0.006922062486410141,
          0.00796322338283062,
          0.009004132822155952,
          0.01004484947770834,
          0.00909041240811348,
          0.009133552201092243,
          0.008179477415978909,
          0.006228490266948938,
          0.0042779468931257725,
          -0.00017009851580951363,
          0.004864318761974573,
          0.0069037568755447865,
          0.007944964803755283,
          0.008985920809209347,
          0.01002668496221304,
          0.009072200395166874,
          0.009115340188145638,
          0.008161218836903572,
          0.00720728887245059,
          0.0052565704099833965,
          -0.0011780778877437115,
          0.00385654391720891,
          0.0058961715549230576,
          0.006937485188245773,
          0.008976336568593979,
          0.010017124935984612,
          0.010060153901576996,
          0.00910575594753027,
          0.00815160945057869,
          0.007197655737400055,
          0.006243952549993992,
          0.0003056139685213566,
          0.0038555755745619535,
          0.005895208101719618,
          0.00693652406334877,
          0.008975381031632423,
          0.01001617219299078,
          0.010059201158583164,
          0.009104800410568714,
          0.00815065111964941,
          0.007196694612503052,
          0.006242989096790552,
          0.0003046358178835362,
          0.003854607231914997,
          0.0058942451141774654,
          0.006935563404113054,
          0.008974424563348293,
          0.010015218518674374,
          0.00906070414930582,
          0.009103843942284584,
          0.008149692788720131,
          0.007195733487606049,
          0.005244956351816654,
          0.0003036576963495463,
          0.0038536391220986843,
          0.005893281660974026,
          0.006934602279216051,
          0.008973469026386738,
          0.009016608819365501,
          0.009059748612344265,
          0.009102888405323029,
          0.008148734457790852,
          0.007194772828370333,
          0.005243990570306778,
          0.00030267954571172595,
          0.003852670779451728,
          0.005892318207770586,
          0.006933641619980335,
          0.008972512558102608,
          0.009015652351081371,
          0.009058792144060135,
          0.009101931937038898,
          0.008147776126861572,
          0.0071938117034733295,
          0.005243024788796902,
          0.00030170142417773604,
          0.0038517024368047714,
          0.005891354754567146,
          0.006932680495083332,
          0.008971556089818478,
          0.009014696814119816,
          0.00905783660709858,
          0.009100976400077343,
          0.008146817795932293,
          0.007192851044237614,
          0.0052420590072870255,
          0.0003007232735399157,
          0.003850734094157815,
          0.005890391301363707,
          0.006931719370186329,
          0.008970600552856922,
          0.009013740345835686,
          0.00905688013881445,
          0.009100019931793213,
          0.008145859465003014,
          0.0071918899193406105,
          0.005241092760115862,
          -0.0011760921915993094,
          0.004856592044234276,
          0.005898122675716877,
          0.006939431186765432,
          0.008978272788226604,
          0.009021412581205368,
          0.009064552374184132,
          0.008110299706459045,
          0.008153550326824188,
          0.007199601270258427,
          0.005248843692243099,
          -0.00017007415590342134,
          0.004864342976361513,
          0.006903780624270439,
          0.007944988086819649,
          0.008985944092273712,
          0.009029083885252476,
          0.009072224609553814,
          0.008117991499602795,
          0.007163951173424721,
          0.006210161838680506,
          0.003262485144659877,
          0.0008359341882169247,
          0.0048720939084887505,
          0.006911491975188255,
          0.007952679879963398,
          0.008993616327643394,
          0.009036756120622158,
          0.008082432672381401,
          0.008125683292746544,
          0.007171662524342537,
          0.006217893213033676,
          0.0022732256911695004,
          0.0018418733961880207,
          0.005877843126654625,
          0.0069192033261060715,
          0.007960371673107147,
          0.00800362229347229,
          0.008046872913837433,
          0.00809012446552515,
          0.008133375085890293,
          0.007179373875260353,
          0.006225624121725559,
          0.0012840350391343236,
          0.0028478028252720833,
          0.005885574501007795,
          0.006926915142685175,
          0.007968063466250896,
          0.00801131408661604,
          0.008054564706981182,
          0.008097815327346325,
          0.008141066879034042,
          0.007187085226178169,
          0.005236263852566481,
          -0.000702126242686063,
          0.0028468321543186903,
          0.005884611047804356,
          0.006925954017788172,
          0.007967105135321617,
          0.00801035575568676,
          0.008053606376051903,
          0.008096856996417046,
          0.008140108548104763,
          0.007186124566942453,
          0.005235298071056604,
          -0.0007031068671494722,
          0.003852694761008024,
          0.005892341956496239,
          0.006933665368705988,
          0.007974796928465366,
          0.00801804754883051,
          0.008061298169195652,
          0.008104548789560795,
          0.00715047400444746,
          0.0071938359178602695,
          0.005243048537522554,
          -0.0011741066118702292,
          0.004858547821640968,
          0.006898015271872282,
          0.007939237169921398,
          0.007982488721609116,
          0.008025739341974258,
          0.008068989962339401,
          0.008112240582704544,
          0.007158185355365276,
          0.006204381585121155,
          0.0032566606532782316,
          -0.00016809350927360356,
          0.004866298753768206,
          0.006905726622790098,
          0.007946928963065147,
          0.00799017958343029,
          0.008033431135118008,
          0.00807668175548315,
          0.008119932375848293,
          0.0071658967062830925,
          0.006212112959474325,
          0.0032644509337842464,
          0.0008379098726436496,
          0.004874049685895443,
          0.006913437973707914,
          0.007954620756208897,
          0.00799787137657404,
          0.008041121996939182,
          0.0080843735486269,
          0.008127624168992043,
          0.007173608057200909,
          0.006219843868166208,
          0.0022751963697373867,
          0.001843844074755907,
          0.005879794247448444,
          0.0069211493246257305,
          0.007962312549352646,
          0.009003223851323128,
          0.009046363644301891,
          0.008092065341770649,
          0.007137957960367203,
          0.007181319873780012,
          0.005230468697845936,
          0.0012860108399763703,
          0.002849768614396453,
          0.0058875251561403275,
          0.006928860675543547,
          0.007970004342496395,
          0.00901089608669281,
          0.009054035879671574,
          0.008099756203591824,
          0.007145669311285019,
          0.007189031224697828,
          0.005238219629973173,
          0.0012938405852764845,
          0.0018506809137761593,
          0.005886561702936888,
          0.006927900016307831,
          0.007969046011567116,
          0.009009940549731255,
          0.009053080342710018,
          0.008098797872662544,
          0.008142049424350262,
          0.007188070099800825,
          0.00523725338280201,
          0.0022898430470377207,
          0.0018497076816856861,
          0.005885598249733448,
          0.006926938891410828,
          0.007968087680637836,
          0.009008984081447124,
          0.009052123874425888,
          0.008097839541733265,
          0.008141090162098408,
          0.007187109440565109,
          0.005236287601292133,
          0.0022888698149472475,
          0.0008506423328071833,
          0.0048866537399590015,
          0.0069259777665138245,
          0.007967128418385983,
          0.009008027613162994,
          0.009051168337464333,
          0.009094308130443096,
          0.008140131831169128,
          0.007186148315668106,
          0.006232415791600943,
          0.0032849095296114683,
          -0.0011642518220469356,
          0.0038701966404914856,
          0.005909755360335112,
          0.007948869839310646,
          0.008989815600216389,
          0.009032956324517727,
          0.00907609611749649,
          0.008121873252093792,
          0.0071678427048027515,
          0.006214063614606857,
          0.0052605061791837215,
          0.0013163541443645954,
          0.0008574964012950659,
          0.004893438890576363,
          0.006932728458195925,
          0.007973861880600452,
          0.009014744311571121,
          0.009057884104549885,
          0.009101023897528648,
          0.008146865293383598,
          0.007192899007350206,
          0.006239183712750673,
          0.004288694821298122,
          -0.0006519448943436146,
          0.003876999020576477,
          0.005916522815823555,
          0.007955603301525116,
          0.008996532298624516,
          0.009039672091603279,
          0.009082811884582043,
          0.008128606714308262,
          0.0071745929308235645,
          0.007217954844236374,
          0.006264303810894489,
          0.0033170415554195642,
          -0.00014256444410420954,
          0.0038935085758566856,
          0.006930806674063206,
          0.007971945218741894,
          0.009012832306325436,
          0.0090559720993042,
          0.009099111892282963,
          0.00814494863152504,
          0.0071909767575562,
          0.006237256806343794,
          0.0052837589755654335,
          0.0013398433802649379,
          0.0028770468197762966,
          0.005914596375077963,
          0.006955862510949373,
          0.0079969372600317,
          0.009037760086357594,
          0.009080899879336357,
          0.00912403967231512,
          0.008169940672814846,
          0.007216033060103655,
          0.00626237690448761,
          0.0043120067566633224,
          -0.0011426054406911135,
          0.0038915718905627728,
          0.005931021645665169,
          0.007970028556883335,
          0.008013279177248478,
          0.009054060094058514,
          0.009097199887037277,
          0.008143031038343906,
          0.007189054973423481,
          0.00723241688683629,
          0.006278802640736103,
          0.0033316512126475573,
          -0.00011901604011654854,
          0.004914759658277035,
          0.006953940726816654,
          0.007995019666850567,
          0.009035848081111908,
          0.009078987874090672,
          0.00812477245926857,
          0.008168023079633713,
          0.007214111275970936,
          0.006260450463742018,
          0.005307011306285858,
          -0.0006302985129877925,
          0.002900417661294341,
          0.0059377895668148994,
          0.006978996563702822,
          0.008020011708140373,
          0.009060775861144066,
          0.008106513880193233,
          0.008149764500558376,
          0.007195805665105581,
          0.007239167112857103,
          0.006285570561885834,
          0.003338470822200179,
          0.0008946937741711736,
          0.004930261522531509,
          0.0069693634286522865,
          0.007012725342065096,
          0.008053653873503208,
          0.008096905425190926,
          0.008140156045556068,
          0.007186172064393759,
          0.007229533977806568,
          0.006275912746787071,
          0.004325611051172018,
          -0.0011111286003142595,
          0.002924759406596422,
          0.005961946211755276,
          0.007003091741353273,
          0.0080440454185009,
          0.008087296038866043,
          0.00813054759055376,
          0.007176538929343224,
          0.007219900842756033,
          0.006266254466027021,
          0.005312830209732056,
          -0.0006243905518203974,
          0.0029237885028123856,
          0.004963196348398924,
          0.0070021310821175575,
          0.008043087087571621,
          0.008086337707936764,
          0.008129589259624481,
          0.00717557780444622,
          0.00721893971785903,
          0.006265291478484869,
          0.005311864428222179,
          -0.0006253711180761456,
          0.0019336715340614319,
          0.003973151091486216,
          0.007009842433035374,
          0.00805077888071537,
          0.008094029501080513,
          0.0071399277076125145,
          0.007183289621025324,
          0.007226651068776846,
          0.006273022387176752,
          0.004322706256061792,
          -7.19192175893113e-05,
          0.002965652383863926,
          0.006002528592944145,
          0.0070435707457363605,
          0.008084421046078205,
          0.007130294572561979,
          0.007173656020313501,
          0.007217017933726311,
          0.00626336457207799,
          0.005309932865202427,
          -0.0010708021000027657,
          0.001966858049854636,
          0.005003882572054863,
          0.007042610086500645,
          0.007085971534252167,
          0.007129333447664976,
          0.0071726953610777855,
          0.006218928378075361,
          0.00626240111887455,
          0.004312030505388975,
          -0.0010629328899085522,
          0.0009768939344212413,
          0.00401394022628665,
          0.007050321437418461,
          0.00709368335083127,
          0.007137044798582792,
          0.007180406711995602,
          0.006226659752428532,
          0.006270132027566433,
          0.0033229144755750895,
          -3.071559694944881e-05,
          0.0020088276360183954,
          0.005045534111559391,
          0.007084049750119448,
          0.007127411663532257,
          0.0061735291965305805,
          0.006217001937329769,
          0.0062604742124676704,
          0.003313182620331645,
          -0.0010294949170202017,
          0.001010164269246161,
          0.004046959336847067,
          0.006085620261728764,
          0.006129093002527952,
          0.006172565743327141,
          0.006216038484126329,
          0.005262486170977354,
          0.0023152681533247232,
          -0.0010039262706413865,
          0.002033231081441045,
          0.0040722074918448925,
          0.00411590188741684,
          0.005156919825822115,
          0.006197685841470957,
          0.005244086496531963,
          0.003293718909844756,
          -0.000996057060547173,
          0.0010434344876557589,
          0.002084957202896476,
          0.003126288065686822,
          0.004167367238551378,
          0.004211061634123325,
          0.0042547560296952724,
          0.0013075972674414515,
          6.247548299143091e-05,
          0.0021015505772083998,
          0.002145466860383749,
          0.003186644520610571,
          0.003230449976399541,
          0.002277215477079153,
          -0.0009360697004012764,
          0.00010563537944108248,
          0.001147148315794766,
          0.002188409911468625,
          0.0022323261946439743,
          0.0002821874222718179,
          -0.000883951666764915,
          0.0001576228823978454,
          0.0011990051716566086,
          0.0002458988456055522,
          -0.0008318335167132318,
          -0.0007875845185481012,
          -0.0007885651430115104
         ]
        }
       ],
       "frames": [
        {
         "layout": {
          "scene": {
           "camera": {
            "eye": {
             "x": 1.25,
             "y": 1.25,
             "z": 0.8
            }
           }
          }
         }
        },
        {
         "layout": {
          "scene": {
           "camera": {
            "eye": {
             "x": 1.3685469774060675,
             "y": 1.1189634357889973,
             "z": 0.8
            }
           }
          }
         }
        },
        {
         "layout": {
          "scene": {
           "camera": {
            "eye": {
             "x": 1.4734198857953784,
             "y": 0.9767465588077254,
             "z": 0.8
            }
           }
          }
         }
        },
        {
         "layout": {
          "scene": {
           "camera": {
            "eye": {
             "x": 1.5635708697336819,
             "y": 0.824770353080333,
             "z": 0.8
            }
           }
          }
         }
        },
        {
         "layout": {
          "scene": {
           "camera": {
            "eye": {
             "x": 1.6380991703894194,
             "y": 0.6645533146177932,
             "z": 0.8
            }
           }
          }
         }
        },
        {
         "layout": {
          "scene": {
           "camera": {
            "eye": {
             "x": 1.6962601256182197,
             "y": 0.4976962791077122,
             "z": 0.8
            }
           }
          }
         }
        },
        {
         "layout": {
          "scene": {
           "camera": {
            "eye": {
             "x": 1.737472610380892,
             "y": 0.32586642689330336,
             "z": 0.8
            }
           }
          }
         }
        },
        {
         "layout": {
          "scene": {
           "camera": {
            "eye": {
             "x": 1.7613248431527242,
             "y": 0.15078062505849654,
             "z": 0.8
            }
           }
          }
         }
        },
        {
         "layout": {
          "scene": {
           "camera": {
            "eye": {
             "x": 1.7675785003083602,
             "y": -0.025811726940446755,
             "z": 0.8
            }
           }
          }
         }
        },
        {
         "layout": {
          "scene": {
           "camera": {
            "eye": {
             "x": 1.7561710973726847,
             "y": -0.20214617669602375,
             "z": 0.8
            }
           }
          }
         }
        },
        {
         "layout": {
          "scene": {
           "camera": {
            "eye": {
             "x": 1.7272166133450453,
             "y": -0.376460848674696,
             "z": 0.8
            }
           }
          }
         }
        },
        {
         "layout": {
          "scene": {
           "camera": {
            "eye": {
             "x": 1.6810043518587658,
             "y": -0.5470140482948226,
             "z": 0.8
            }
           }
          }
         }
        },
        {
         "layout": {
          "scene": {
           "camera": {
            "eye": {
             "x": 1.6179960505548747,
             "y": -0.7121016643631912,
             "z": 0.8
            }
           }
          }
         }
        },
        {
         "layout": {
          "scene": {
           "camera": {
            "eye": {
             "x": 1.5388212675522255,
             "y": -0.870074195990757,
             "z": 0.8
            }
           }
          }
         }
        },
        {
         "layout": {
          "scene": {
           "camera": {
            "eye": {
             "x": 1.4442710911108763,
             "y": -1.0193532338602744,
             "z": 0.8
            }
           }
          }
         }
        },
        {
         "layout": {
          "scene": {
           "camera": {
            "eye": {
             "x": 1.3352902353396967,
             "y": -1.1584472311704395,
             "z": 0.8
            }
           }
          }
         }
        },
        {
         "layout": {
          "scene": {
           "camera": {
            "eye": {
             "x": 1.2129676009252703,
             "y": -1.2859664066784924,
             "z": 0.8
            }
           }
          }
         }
        },
        {
         "layout": {
          "scene": {
           "camera": {
            "eye": {
             "x": 1.0785253951961797,
             "y": -1.4006366309349918,
             "z": 0.8
            }
           }
          }
         }
        },
        {
         "layout": {
          "scene": {
           "camera": {
            "eye": {
             "x": 0.9333069202313851,
             "y": -1.5013121569641028,
             "z": 0.8
            }
           }
          }
         }
        },
        {
         "layout": {
          "scene": {
           "camera": {
            "eye": {
             "x": 0.7787631510298885,
             "y": -1.5869870681886475,
             "z": 0.8
            }
           }
          }
         }
        },
        {
         "layout": {
          "scene": {
           "camera": {
            "eye": {
             "x": 0.6164382378481742,
             "y": -1.6568053292160303,
             "z": 0.8
            }
           }
          }
         }
        },
        {
         "layout": {
          "scene": {
           "camera": {
            "eye": {
             "x": 0.44795407756127026,
             "y": -1.710069339060914,
             "z": 0.8
            }
           }
          }
         }
        },
        {
         "layout": {
          "scene": {
           "camera": {
            "eye": {
             "x": 0.27499410820530534,
             "y": -1.7462469013436699,
             "z": 0.8
            }
           }
          }
         }
        },
        {
         "layout": {
          "scene": {
           "camera": {
            "eye": {
             "x": 0.09928648862111944,
             "y": -1.7649765418206806,
             "z": 0.8
            }
           }
          }
         }
        },
        {
         "layout": {
          "scene": {
           "camera": {
            "eye": {
             "x": -0.07741316873761894,
             "y": -1.7660711201154955,
             "z": 0.8
            }
           }
          }
         }
        },
        {
         "layout": {
          "scene": {
           "camera": {
            "eye": {
             "x": -0.25333933930372143,
             "y": -1.7495196995636126,
             "z": 0.8
            }
           }
          }
         }
        },
        {
         "layout": {
          "scene": {
           "camera": {
            "eye": {
             "x": -0.4267342269343539,
             "y": -1.7154876564880144,
             "z": 0.8
            }
           }
          }
         }
        },
        {
         "layout": {
          "scene": {
           "camera": {
            "eye": {
             "x": -0.5958653272290393,
             "y": -1.6643150278136138,
             "z": 0.8
            }
           }
          }
         }
        },
        {
         "layout": {
          "scene": {
           "camera": {
            "eye": {
             "x": -0.7590427381409421,
             "y": -1.5965131135307038,
             "z": 0.8
            }
           }
          }
         }
        },
        {
         "layout": {
          "scene": {
           "camera": {
            "eye": {
             "x": -0.9146360449195108,
             "y": -1.5127593679544658,
             "z": 0.8
            }
           }
          }
         }
        },
        {
         "layout": {
          "scene": {
           "camera": {
            "eye": {
             "x": -1.0610906106757227,
             "y": -1.4138906308253907,
             "z": 0.8
            }
           }
          }
         }
        },
        {
         "layout": {
          "scene": {
           "camera": {
            "eye": {
             "x": -1.196943109799986,
             "y": -1.3008947658832124,
             "z": 0.8
            }
           }
          }
         }
        },
        {
         "layout": {
          "scene": {
           "camera": {
            "eye": {
             "x": -1.3208361490279166,
             "y": -1.1749007904589663,
             "z": 0.8
            }
           }
          }
         }
        },
        {
         "layout": {
          "scene": {
           "camera": {
            "eye": {
             "x": -1.431531830065142,
             "y": -1.0371675947070202,
             "z": 0.8
            }
           }
          }
         }
        },
        {
         "layout": {
          "scene": {
           "camera": {
            "eye": {
             "x": -1.5279241182578656,
             "y": -0.8890713631907865,
             "z": 0.8
            }
           }
          }
         }
        },
        {
         "layout": {
          "scene": {
           "camera": {
            "eye": {
             "x": -1.6090498937255202,
             "y": -0.7320918245014705,
             "z": 0.8
            }
           }
          }
         }
        },
        {
         "layout": {
          "scene": {
           "camera": {
            "eye": {
             "x": -1.6740985745362496,
             "y": -0.5677974662991182,
             "z": 0.8
            }
           }
          }
         }
        },
        {
         "layout": {
          "scene": {
           "camera": {
            "eye": {
             "x": -1.7224202157736266,
             "y": -0.39782986350239324,
             "z": 0.8
            }
           }
          }
         }
        },
        {
         "layout": {
          "scene": {
           "camera": {
            "eye": {
             "x": -1.7535320035714197,
             "y": -0.22388727621462157,
             "z": 0.8
            }
           }
          }
         }
        },
        {
         "layout": {
          "scene": {
           "camera": {
            "eye": {
             "x": -1.7671230792301427,
             "y": -0.04770768127020719,
             "z": 0.8
            }
           }
          }
         }
        },
        {
         "layout": {
          "scene": {
           "camera": {
            "eye": {
             "x": -1.7630576452144253,
             "y": 0.1289485930553954,
             "z": 0.8
            }
           }
          }
         }
        },
        {
         "layout": {
          "scene": {
           "camera": {
            "eye": {
             "x": -1.741376321997099,
             "y": 0.30431645566392784,
             "z": 0.8
            }
           }
          }
         }
        },
        {
         "layout": {
          "scene": {
           "camera": {
            "eye": {
             "x": -1.7022957421928595,
             "y": 0.47664368884111097,
             "z": 0.8
            }
           }
          }
         }
        },
        {
         "layout": {
          "scene": {
           "camera": {
            "eye": {
             "x": -1.646206386036788,
             "y": 0.6442084558368493,
             "z": 0.8
            }
           }
          }
         }
        },
        {
         "layout": {
          "scene": {
           "camera": {
            "eye": {
             "x": -1.573668679834919,
             "y": 0.8053365048888708,
             "z": 0.8
            }
           }
          }
         }
        },
        {
         "layout": {
          "scene": {
           "camera": {
            "eye": {
             "x": -1.4854073963698458,
             "y": 0.9584178977928967,
             "z": 0.8
            }
           }
          }
         }
        },
        {
         "layout": {
          "scene": {
           "camera": {
            "eye": {
             "x": -1.3823044132106481,
             "y": 1.101923095873013,
             "z": 0.8
            }
           }
          }
         }
        },
        {
         "layout": {
          "scene": {
           "camera": {
            "eye": {
             "x": -1.2653899012837393,
             "y": 1.2344182426265127,
             "z": 0.8
            }
           }
          }
         }
        },
        {
         "layout": {
          "scene": {
           "camera": {
            "eye": {
             "x": -1.1358320317454915,
             "y": 1.3545794903441097,
             "z": 0.8
            }
           }
          }
         }
        },
        {
         "layout": {
          "scene": {
           "camera": {
            "eye": {
             "x": -0.9949253040021958,
             "y": 1.4612062275586353,
             "z": 0.8
            }
           }
          }
         }
        },
        {
         "layout": {
          "scene": {
           "camera": {
            "eye": {
             "x": -0.8440776114998902,
             "y": 1.553233075157956,
             "z": 0.8
            }
           }
          }
         }
        },
        {
         "layout": {
          "scene": {
           "camera": {
            "eye": {
             "x": -0.6847961745184389,
             "y": 1.6297405313008917,
             "z": 0.8
            }
           }
          }
         }
        },
        {
         "layout": {
          "scene": {
           "camera": {
            "eye": {
             "x": -0.5186724805247199,
             "y": 1.6899641587756626,
             "z": 0.8
            }
           }
          }
         }
        },
        {
         "layout": {
          "scene": {
           "camera": {
            "eye": {
             "x": -0.347366382555924,
             "y": 1.733302223003828,
             "z": 0.8
            }
           }
          }
         }
        },
        {
         "layout": {
          "scene": {
           "camera": {
            "eye": {
             "x": -0.17258951451669058,
             "y": 1.7593217043732774,
             "z": 0.8
            }
           }
          }
         }
        },
        {
         "layout": {
          "scene": {
           "camera": {
            "eye": {
             "x": 0.0039118109010850555,
             "y": 1.767762624827065,
             "z": 0.8
            }
           }
          }
         }
        },
        {
         "layout": {
          "scene": {
           "camera": {
            "eye": {
             "x": 0.18037405079741164,
             "y": 1.7585406454782138,
             "z": 0.8
            }
           }
          }
         }
        },
        {
         "layout": {
          "scene": {
           "camera": {
            "eye": {
             "x": 0.3550340528019027,
             "y": 1.7317479092959966,
             "z": 0.8
            }
           }
          }
         }
        },
        {
         "layout": {
          "scene": {
           "camera": {
            "eye": {
             "x": 0.5261466719094534,
             "y": 1.6876521204438448,
             "z": 0.8
            }
           }
          }
         }
        },
        {
         "layout": {
          "scene": {
           "camera": {
            "eye": {
             "x": 0.6920022073922499,
             "y": 1.62669386946784,
             "z": 0.8
            }
           }
          }
         }
        },
        {
         "layout": {
          "scene": {
           "camera": {
            "eye": {
             "x": 0.8509434855643001,
             "y": 1.5494822310616148,
             "z": 0.8
            }
           }
          }
         }
        },
        {
         "layout": {
          "scene": {
           "camera": {
            "eye": {
             "x": 1.001382417713112,
             "y": 1.4567886783933495,
             "z": 0.8
            }
           }
          }
         }
        },
        {
         "layout": {
          "scene": {
           "camera": {
            "eye": {
             "x": 1.1418158677571515,
             "y": 1.3495393748008924,
             "z": 0.8
            }
           }
          }
         }
        },
        {
         "layout": {
          "scene": {
           "camera": {
            "eye": {
             "x": 1.270840671084707,
             "y": 1.2288059198738308,
             "z": 0.8
            }
           }
          }
         }
        },
        {
         "layout": {
          "scene": {
           "camera": {
            "eye": {
             "x": 1.3871676545108578,
             "y": 1.0957946423846239,
             "z": 0.8
            }
           }
          }
         }
        },
        {
         "layout": {
          "scene": {
           "camera": {
            "eye": {
             "x": 1.4896345172697987,
             "y": 0.9518345470502599,
             "z": 0.8
            }
           }
          }
         }
        },
        {
         "layout": {
          "scene": {
           "camera": {
            "eye": {
             "x": 1.577217444339885,
             "y": 0.7983640355564382,
             "z": 0.8
            }
           }
          }
         }
        },
        {
         "layout": {
          "scene": {
           "camera": {
            "eye": {
             "x": 1.6490413360648972,
             "y": 0.6369165345234014,
             "z": 0.8
            }
           }
          }
         }
        },
        {
         "layout": {
          "scene": {
           "camera": {
            "eye": {
             "x": 1.7043885518605422,
             "y": 0.46910517401401974,
             "z": 0.8
            }
           }
          }
         }
        },
        {
         "layout": {
          "scene": {
           "camera": {
            "eye": {
             "x": 1.742706080641946,
             "y": 0.2966066696714459,
             "z": 0.8
            }
           }
          }
         }
        },
        {
         "layout": {
          "scene": {
           "camera": {
            "eye": {
             "x": 1.7636110663276172,
             "y": 0.12114456953064445,
             "z": 0.8
            }
           }
          }
         }
        },
        {
         "layout": {
          "scene": {
           "camera": {
            "eye": {
             "x": 1.766894633210853,
             "y": -0.05552796710383823,
             "z": 0.8
            }
           }
          }
         }
        },
        {
         "layout": {
          "scene": {
           "camera": {
            "eye": {
             "x": 1.7525239729767597,
             "y": -0.23164568664612328,
             "z": 0.8
            }
           }
          }
         }
        },
        {
         "layout": {
          "scene": {
           "camera": {
            "eye": {
             "x": 1.7206426725120867,
             "y": -0.4054488790593255,
             "z": 0.8
            }
           }
          }
         }
        },
        {
         "layout": {
          "scene": {
           "camera": {
            "eye": {
             "x": 1.6715692792325216,
             "y": -0.5752009602965458,
             "z": 0.8
            }
           }
          }
         }
        },
        {
         "layout": {
          "scene": {
           "camera": {
            "eye": {
             "x": 1.605794118262206,
             "y": -0.7392058236746413,
             "z": 0.8
            }
           }
          }
         }
        },
        {
         "layout": {
          "scene": {
           "camera": {
            "eye": {
             "x": 1.5239743932671765,
             "y": -0.8958247868115395,
             "z": 0.8
            }
           }
          }
         }
        },
        {
         "layout": {
          "scene": {
           "camera": {
            "eye": {
             "x": 1.426927619893581,
             "y": -1.04349296479892,
             "z": 0.8
            }
           }
          }
         }
        },
        {
         "layout": {
          "scene": {
           "camera": {
            "eye": {
             "x": 1.3156234574215673,
             "y": -1.180734906014945,
             "z": 0.8
            }
           }
          }
         }
        },
        {
         "layout": {
          "scene": {
           "camera": {
            "eye": {
             "x": 1.1911740202502938,
             "y": -1.3061793343491364,
             "z": 0.8
            }
           }
          }
         }
        },
        {
         "layout": {
          "scene": {
           "camera": {
            "eye": {
             "x": 1.0548227660184604,
             "y": -1.4185728505399942,
             "z": 0.8
            }
           }
          }
         }
        },
        {
         "layout": {
          "scene": {
           "camera": {
            "eye": {
             "x": 0.9079320713866189,
             "y": -1.5167924557260966,
             "z": 0.8
            }
           }
          }
         }
        },
        {
         "layout": {
          "scene": {
           "camera": {
            "eye": {
             "x": 0.7519696196199205,
             "y": -1.599856772079511,
             "z": 0.8
            }
           }
          }
         }
        },
        {
         "layout": {
          "scene": {
           "camera": {
            "eye": {
             "x": 0.5884937359820905,
             "y": -1.6669358484086425,
             "z": 0.8
            }
           }
          }
         }
        },
        {
         "layout": {
          "scene": {
           "camera": {
            "eye": {
             "x": 0.41913781746449363,
             "y": -1.7173594527562077,
             "z": 0.8
            }
           }
          }
         }
        },
        {
         "layout": {
          "scene": {
           "camera": {
            "eye": {
             "x": 0.24559401242333323,
             "y": -1.7506237691353923,
             "z": 0.8
            }
           }
          }
         }
        },
        {
         "layout": {
          "scene": {
           "camera": {
            "eye": {
             "x": 0.06959631319262605,
             "y": -1.7663964314926572,
             "z": 0.8
            }
           }
          }
         }
        },
        {
         "layout": {
          "scene": {
           "camera": {
            "eye": {
             "x": -0.10709676939402235,
             "y": -1.7645198445994774,
             "z": 0.8
            }
           }
          }
         }
        },
        {
         "layout": {
          "scene": {
           "camera": {
            "eye": {
             "x": -0.2827197764623679,
             "y": -1.745012758691772,
             "z": 0.8
            }
           }
          }
         }
        },
        {
         "layout": {
          "scene": {
           "camera": {
            "eye": {
             "x": -0.45551794097903464,
             "y": -1.7080700821237462,
             "z": 0.8
            }
           }
          }
         }
        },
        {
         "layout": {
          "scene": {
           "camera": {
            "eye": {
             "x": -0.6237647208036504,
             "y": -1.6540609339080419,
             "z": 0.8
            }
           }
          }
         }
        },
        {
         "layout": {
          "scene": {
           "camera": {
            "eye": {
             "x": -0.7857790497271997,
             "y": -1.58352495560058,
             "z": 0.8
            }
           }
          }
         }
        },
        {
         "layout": {
          "scene": {
           "camera": {
            "eye": {
             "x": -0.9399421341298975,
             "y": -1.4971669193805124,
             "z": 0.8
            }
           }
          }
         }
        },
        {
         "layout": {
          "scene": {
           "camera": {
            "eye": {
             "x": -1.0847136274319271,
             "y": -1.3958496861995813,
             "z": 0.8
            }
           }
          }
         }
        },
        {
         "layout": {
          "scene": {
           "camera": {
            "eye": {
             "x": -1.218647020727311,
             "y": -1.2805855843607052,
             "z": 0.8
            }
           }
          }
         }
        },
        {
         "layout": {
          "scene": {
           "camera": {
            "eye": {
             "x": -1.3404040958227346,
             "y": -1.1525262946682115,
             "z": 0.8
            }
           }
          }
         }
        },
        {
         "layout": {
          "scene": {
           "camera": {
            "eye": {
             "x": -1.448768296271385,
             "y": -1.0129513432139317,
             "z": 0.8
            }
           }
          }
         }
        },
        {
         "layout": {
          "scene": {
           "camera": {
            "eye": {
             "x": -1.5426568828028173,
             "y": -0.8632553167754569,
             "z": 0.8
            }
           }
          }
         }
        },
        {
         "layout": {
          "scene": {
           "camera": {
            "eye": {
             "x": -1.6211317516958519,
             "y": -0.7049339285660311,
             "z": 0.8
            }
           }
          }
         }
        },
        {
         "layout": {
          "scene": {
           "camera": {
            "eye": {
             "x": -1.6834088080008527,
             "y": -0.5395690735625494,
             "z": 0.8
            }
           }
          }
         }
        },
        {
         "layout": {
          "scene": {
           "camera": {
            "eye": {
             "x": -1.7288657999572776,
             "y": -0.3688130227338533,
             "z": 0.8
            }
           }
          }
         }
        },
        {
         "layout": {
          "scene": {
           "camera": {
            "eye": {
             "x": -1.7570485363275825,
             "y": -0.1943719140953739,
             "z": 0.8
            }
           }
          }
         }
        },
        {
         "layout": {
          "scene": {
           "camera": {
            "eye": {
             "x": -1.7676754245259283,
             "y": -0.017988705542069106,
             "z": 0.8
            }
           }
          }
         }
        }
       ],
       "layout": {
        "template": {
         "data": {
          "bar": [
           {
            "error_x": {
             "color": "#2a3f5f"
            },
            "error_y": {
             "color": "#2a3f5f"
            },
            "marker": {
             "line": {
              "color": "#E5ECF6",
              "width": 0.5
             },
             "pattern": {
              "fillmode": "overlay",
              "size": 10,
              "solidity": 0.2
             }
            },
            "type": "bar"
           }
          ],
          "barpolar": [
           {
            "marker": {
             "line": {
              "color": "#E5ECF6",
              "width": 0.5
             },
             "pattern": {
              "fillmode": "overlay",
              "size": 10,
              "solidity": 0.2
             }
            },
            "type": "barpolar"
           }
          ],
          "carpet": [
           {
            "aaxis": {
             "endlinecolor": "#2a3f5f",
             "gridcolor": "white",
             "linecolor": "white",
             "minorgridcolor": "white",
             "startlinecolor": "#2a3f5f"
            },
            "baxis": {
             "endlinecolor": "#2a3f5f",
             "gridcolor": "white",
             "linecolor": "white",
             "minorgridcolor": "white",
             "startlinecolor": "#2a3f5f"
            },
            "type": "carpet"
           }
          ],
          "choropleth": [
           {
            "colorbar": {
             "outlinewidth": 0,
             "ticks": ""
            },
            "type": "choropleth"
           }
          ],
          "contour": [
           {
            "colorbar": {
             "outlinewidth": 0,
             "ticks": ""
            },
            "colorscale": [
             [
              0,
              "#0d0887"
             ],
             [
              0.1111111111111111,
              "#46039f"
             ],
             [
              0.2222222222222222,
              "#7201a8"
             ],
             [
              0.3333333333333333,
              "#9c179e"
             ],
             [
              0.4444444444444444,
              "#bd3786"
             ],
             [
              0.5555555555555556,
              "#d8576b"
             ],
             [
              0.6666666666666666,
              "#ed7953"
             ],
             [
              0.7777777777777778,
              "#fb9f3a"
             ],
             [
              0.8888888888888888,
              "#fdca26"
             ],
             [
              1,
              "#f0f921"
             ]
            ],
            "type": "contour"
           }
          ],
          "contourcarpet": [
           {
            "colorbar": {
             "outlinewidth": 0,
             "ticks": ""
            },
            "type": "contourcarpet"
           }
          ],
          "heatmap": [
           {
            "colorbar": {
             "outlinewidth": 0,
             "ticks": ""
            },
            "colorscale": [
             [
              0,
              "#0d0887"
             ],
             [
              0.1111111111111111,
              "#46039f"
             ],
             [
              0.2222222222222222,
              "#7201a8"
             ],
             [
              0.3333333333333333,
              "#9c179e"
             ],
             [
              0.4444444444444444,
              "#bd3786"
             ],
             [
              0.5555555555555556,
              "#d8576b"
             ],
             [
              0.6666666666666666,
              "#ed7953"
             ],
             [
              0.7777777777777778,
              "#fb9f3a"
             ],
             [
              0.8888888888888888,
              "#fdca26"
             ],
             [
              1,
              "#f0f921"
             ]
            ],
            "type": "heatmap"
           }
          ],
          "heatmapgl": [
           {
            "colorbar": {
             "outlinewidth": 0,
             "ticks": ""
            },
            "colorscale": [
             [
              0,
              "#0d0887"
             ],
             [
              0.1111111111111111,
              "#46039f"
             ],
             [
              0.2222222222222222,
              "#7201a8"
             ],
             [
              0.3333333333333333,
              "#9c179e"
             ],
             [
              0.4444444444444444,
              "#bd3786"
             ],
             [
              0.5555555555555556,
              "#d8576b"
             ],
             [
              0.6666666666666666,
              "#ed7953"
             ],
             [
              0.7777777777777778,
              "#fb9f3a"
             ],
             [
              0.8888888888888888,
              "#fdca26"
             ],
             [
              1,
              "#f0f921"
             ]
            ],
            "type": "heatmapgl"
           }
          ],
          "histogram": [
           {
            "marker": {
             "pattern": {
              "fillmode": "overlay",
              "size": 10,
              "solidity": 0.2
             }
            },
            "type": "histogram"
           }
          ],
          "histogram2d": [
           {
            "colorbar": {
             "outlinewidth": 0,
             "ticks": ""
            },
            "colorscale": [
             [
              0,
              "#0d0887"
             ],
             [
              0.1111111111111111,
              "#46039f"
             ],
             [
              0.2222222222222222,
              "#7201a8"
             ],
             [
              0.3333333333333333,
              "#9c179e"
             ],
             [
              0.4444444444444444,
              "#bd3786"
             ],
             [
              0.5555555555555556,
              "#d8576b"
             ],
             [
              0.6666666666666666,
              "#ed7953"
             ],
             [
              0.7777777777777778,
              "#fb9f3a"
             ],
             [
              0.8888888888888888,
              "#fdca26"
             ],
             [
              1,
              "#f0f921"
             ]
            ],
            "type": "histogram2d"
           }
          ],
          "histogram2dcontour": [
           {
            "colorbar": {
             "outlinewidth": 0,
             "ticks": ""
            },
            "colorscale": [
             [
              0,
              "#0d0887"
             ],
             [
              0.1111111111111111,
              "#46039f"
             ],
             [
              0.2222222222222222,
              "#7201a8"
             ],
             [
              0.3333333333333333,
              "#9c179e"
             ],
             [
              0.4444444444444444,
              "#bd3786"
             ],
             [
              0.5555555555555556,
              "#d8576b"
             ],
             [
              0.6666666666666666,
              "#ed7953"
             ],
             [
              0.7777777777777778,
              "#fb9f3a"
             ],
             [
              0.8888888888888888,
              "#fdca26"
             ],
             [
              1,
              "#f0f921"
             ]
            ],
            "type": "histogram2dcontour"
           }
          ],
          "mesh3d": [
           {
            "colorbar": {
             "outlinewidth": 0,
             "ticks": ""
            },
            "type": "mesh3d"
           }
          ],
          "parcoords": [
           {
            "line": {
             "colorbar": {
              "outlinewidth": 0,
              "ticks": ""
             }
            },
            "type": "parcoords"
           }
          ],
          "pie": [
           {
            "automargin": true,
            "type": "pie"
           }
          ],
          "scatter": [
           {
            "fillpattern": {
             "fillmode": "overlay",
             "size": 10,
             "solidity": 0.2
            },
            "type": "scatter"
           }
          ],
          "scatter3d": [
           {
            "line": {
             "colorbar": {
              "outlinewidth": 0,
              "ticks": ""
             }
            },
            "marker": {
             "colorbar": {
              "outlinewidth": 0,
              "ticks": ""
             }
            },
            "type": "scatter3d"
           }
          ],
          "scattercarpet": [
           {
            "marker": {
             "colorbar": {
              "outlinewidth": 0,
              "ticks": ""
             }
            },
            "type": "scattercarpet"
           }
          ],
          "scattergeo": [
           {
            "marker": {
             "colorbar": {
              "outlinewidth": 0,
              "ticks": ""
             }
            },
            "type": "scattergeo"
           }
          ],
          "scattergl": [
           {
            "marker": {
             "colorbar": {
              "outlinewidth": 0,
              "ticks": ""
             }
            },
            "type": "scattergl"
           }
          ],
          "scattermapbox": [
           {
            "marker": {
             "colorbar": {
              "outlinewidth": 0,
              "ticks": ""
             }
            },
            "type": "scattermapbox"
           }
          ],
          "scatterpolar": [
           {
            "marker": {
             "colorbar": {
              "outlinewidth": 0,
              "ticks": ""
             }
            },
            "type": "scatterpolar"
           }
          ],
          "scatterpolargl": [
           {
            "marker": {
             "colorbar": {
              "outlinewidth": 0,
              "ticks": ""
             }
            },
            "type": "scatterpolargl"
           }
          ],
          "scatterternary": [
           {
            "marker": {
             "colorbar": {
              "outlinewidth": 0,
              "ticks": ""
             }
            },
            "type": "scatterternary"
           }
          ],
          "surface": [
           {
            "colorbar": {
             "outlinewidth": 0,
             "ticks": ""
            },
            "colorscale": [
             [
              0,
              "#0d0887"
             ],
             [
              0.1111111111111111,
              "#46039f"
             ],
             [
              0.2222222222222222,
              "#7201a8"
             ],
             [
              0.3333333333333333,
              "#9c179e"
             ],
             [
              0.4444444444444444,
              "#bd3786"
             ],
             [
              0.5555555555555556,
              "#d8576b"
             ],
             [
              0.6666666666666666,
              "#ed7953"
             ],
             [
              0.7777777777777778,
              "#fb9f3a"
             ],
             [
              0.8888888888888888,
              "#fdca26"
             ],
             [
              1,
              "#f0f921"
             ]
            ],
            "type": "surface"
           }
          ],
          "table": [
           {
            "cells": {
             "fill": {
              "color": "#EBF0F8"
             },
             "line": {
              "color": "white"
             }
            },
            "header": {
             "fill": {
              "color": "#C8D4E3"
             },
             "line": {
              "color": "white"
             }
            },
            "type": "table"
           }
          ]
         },
         "layout": {
          "annotationdefaults": {
           "arrowcolor": "#2a3f5f",
           "arrowhead": 0,
           "arrowwidth": 1
          },
          "autotypenumbers": "strict",
          "coloraxis": {
           "colorbar": {
            "outlinewidth": 0,
            "ticks": ""
           }
          },
          "colorscale": {
           "diverging": [
            [
             0,
             "#8e0152"
            ],
            [
             0.1,
             "#c51b7d"
            ],
            [
             0.2,
             "#de77ae"
            ],
            [
             0.3,
             "#f1b6da"
            ],
            [
             0.4,
             "#fde0ef"
            ],
            [
             0.5,
             "#f7f7f7"
            ],
            [
             0.6,
             "#e6f5d0"
            ],
            [
             0.7,
             "#b8e186"
            ],
            [
             0.8,
             "#7fbc41"
            ],
            [
             0.9,
             "#4d9221"
            ],
            [
             1,
             "#276419"
            ]
           ],
           "sequential": [
            [
             0,
             "#0d0887"
            ],
            [
             0.1111111111111111,
             "#46039f"
            ],
            [
             0.2222222222222222,
             "#7201a8"
            ],
            [
             0.3333333333333333,
             "#9c179e"
            ],
            [
             0.4444444444444444,
             "#bd3786"
            ],
            [
             0.5555555555555556,
             "#d8576b"
            ],
            [
             0.6666666666666666,
             "#ed7953"
            ],
            [
             0.7777777777777778,
             "#fb9f3a"
            ],
            [
             0.8888888888888888,
             "#fdca26"
            ],
            [
             1,
             "#f0f921"
            ]
           ],
           "sequentialminus": [
            [
             0,
             "#0d0887"
            ],
            [
             0.1111111111111111,
             "#46039f"
            ],
            [
             0.2222222222222222,
             "#7201a8"
            ],
            [
             0.3333333333333333,
             "#9c179e"
            ],
            [
             0.4444444444444444,
             "#bd3786"
            ],
            [
             0.5555555555555556,
             "#d8576b"
            ],
            [
             0.6666666666666666,
             "#ed7953"
            ],
            [
             0.7777777777777778,
             "#fb9f3a"
            ],
            [
             0.8888888888888888,
             "#fdca26"
            ],
            [
             1,
             "#f0f921"
            ]
           ]
          },
          "colorway": [
           "#636efa",
           "#EF553B",
           "#00cc96",
           "#ab63fa",
           "#FFA15A",
           "#19d3f3",
           "#FF6692",
           "#B6E880",
           "#FF97FF",
           "#FECB52"
          ],
          "font": {
           "color": "#2a3f5f"
          },
          "geo": {
           "bgcolor": "white",
           "lakecolor": "white",
           "landcolor": "#E5ECF6",
           "showlakes": true,
           "showland": true,
           "subunitcolor": "white"
          },
          "hoverlabel": {
           "align": "left"
          },
          "hovermode": "closest",
          "mapbox": {
           "style": "light"
          },
          "paper_bgcolor": "white",
          "plot_bgcolor": "#E5ECF6",
          "polar": {
           "angularaxis": {
            "gridcolor": "white",
            "linecolor": "white",
            "ticks": ""
           },
           "bgcolor": "#E5ECF6",
           "radialaxis": {
            "gridcolor": "white",
            "linecolor": "white",
            "ticks": ""
           }
          },
          "scene": {
           "xaxis": {
            "backgroundcolor": "#E5ECF6",
            "gridcolor": "white",
            "gridwidth": 2,
            "linecolor": "white",
            "showbackground": true,
            "ticks": "",
            "zerolinecolor": "white"
           },
           "yaxis": {
            "backgroundcolor": "#E5ECF6",
            "gridcolor": "white",
            "gridwidth": 2,
            "linecolor": "white",
            "showbackground": true,
            "ticks": "",
            "zerolinecolor": "white"
           },
           "zaxis": {
            "backgroundcolor": "#E5ECF6",
            "gridcolor": "white",
            "gridwidth": 2,
            "linecolor": "white",
            "showbackground": true,
            "ticks": "",
            "zerolinecolor": "white"
           }
          },
          "shapedefaults": {
           "line": {
            "color": "#2a3f5f"
           }
          },
          "ternary": {
           "aaxis": {
            "gridcolor": "white",
            "linecolor": "white",
            "ticks": ""
           },
           "baxis": {
            "gridcolor": "white",
            "linecolor": "white",
            "ticks": ""
           },
           "bgcolor": "#E5ECF6",
           "caxis": {
            "gridcolor": "white",
            "linecolor": "white",
            "ticks": ""
           }
          },
          "title": {
           "x": 0.05
          },
          "xaxis": {
           "automargin": true,
           "gridcolor": "white",
           "linecolor": "white",
           "ticks": "",
           "title": {
            "standoff": 15
           },
           "zerolinecolor": "white",
           "zerolinewidth": 2
          },
          "yaxis": {
           "automargin": true,
           "gridcolor": "white",
           "linecolor": "white",
           "ticks": "",
           "title": {
            "standoff": 15
           },
           "zerolinecolor": "white",
           "zerolinewidth": 2
          }
         }
        },
        "updatemenus": [
         {
          "buttons": [
           {
            "args": [
             null,
             {
              "frame": {
               "duration": 50,
               "redraw": true
              },
              "fromcurrent": true,
              "mode": "immediate",
              "transition": {
               "duration": 0
              }
             }
            ],
            "label": "Play",
            "method": "animate"
           }
          ],
          "pad": {
           "r": 10,
           "t": 45
          },
          "showactive": false,
          "type": "buttons",
          "x": 0.8,
          "xanchor": "left",
          "y": 1,
          "yanchor": "bottom"
         }
        ]
       }
      },
      "text/html": [
       "<div>                            <div id=\"732fea68-f7ea-4c8d-99ed-f1836de8c60e\" class=\"plotly-graph-div\" style=\"height:525px; width:100%;\"></div>            <script type=\"text/javascript\">                require([\"plotly\"], function(Plotly) {                    window.PLOTLYENV=window.PLOTLYENV || {};                                    if (document.getElementById(\"732fea68-f7ea-4c8d-99ed-f1836de8c60e\")) {                    Plotly.newPlot(                        \"732fea68-f7ea-4c8d-99ed-f1836de8c60e\",                        [{\"color\":\"lightpink\",\"opacity\":0.5,\"x\":[0.3728894591331482,0.3728436827659607,0.37357214093208313,0.37372514605522156,0.3735487759113312,0.37436115741729736,0.3745102286338806,0.3744974732398987,0.37432152032852173,0.373816579580307,0.37513411045074463,0.375442236661911,0.37542882561683655,0.37509122490882874,0.3745897710323334,0.3757619559764862,0.3760637044906616,0.37620797753334045,0.3760329484939575,0.3758578896522522,0.3753599226474762,0.3767082393169403,0.3766891062259674,0.37682899832725525,0.37697067856788635,0.37679606676101685,0.37662145495414734,0.3761270046234131,0.37745991349220276,0.37743890285491943,0.3775750398635864,0.3777129650115967,0.3775383532047272,0.3775213360786438,0.37718909978866577,0.3766975402832031,0.37829455733299255,0.37827226519584656,0.37840545177459717,0.37838539481163025,0.3783662021160126,0.3781920373439789,0.3780178725719452,0.37768691778182983,0.37892794609069824,0.379055380821228,0.3790320158004761,0.37916257977485657,0.3791414201259613,0.3789672553539276,0.3789474368095398,0.37861892580986023,0.37828949093818665,0.3796088993549347,0.37988337874412537,0.37985873222351074,0.37983500957489014,0.3798121511936188,0.37979018688201904,0.37961646914482117,0.3794427216053009,0.3789619207382202,0.3780174255371094,0.38051605224609375,0.38063791394233704,0.38061219453811646,0.3805873692035675,0.3805634379386902,0.3803897202014923,0.38021597266197205,0.38004225492477417,0.379564493894577,0.3787800967693329,0.3811935782432556,0.38145923614501953,0.38128462433815,0.381258100271225,0.38123244047164917,0.3810587227344513,0.38088497519493103,0.38071125745773315,0.38038724660873413,0.37976083159446716,0.3817613422870636,0.3820211887359619,0.3819919526576996,0.3819636404514313,0.3819361925125122,0.38176247477531433,0.38158875703811646,0.3814150094985962,0.3812412917613983,0.38076967000961304,0.37984809279441833,0.38265693187713623,0.3827691674232483,0.38273885846138,0.38270944356918335,0.3825357258319855,0.38250765204429626,0.3823343515396118,0.38201454281806946,0.3818408250808716,0.38137224316596985,0.38287222385406494,0.3834044635295868,0.38351407647132874,0.3834826946258545,0.3833089768886566,0.38327890634536743,0.38310563564300537,0.3829323351383209,0.38261404633522034,0.38244032859802246,0.3818289339542389,0.3836592733860016,0.3841838538646698,0.384149968624115,0.3841169774532318,0.38394322991371155,0.3839115500450134,0.38373827934265137,0.3835650086402893,0.38324832916259766,0.3830746114253998,0.38261231780052185,0.384443074464798,0.384821355342865,0.38478586077690125,0.38475123047828674,0.38471749424934387,0.3845442235469818,0.38437092304229736,0.3841976523399353,0.38402435183525085,0.3837088644504547,0.38324981927871704,0.38235974311828613,0.38552871346473694,0.38549140095710754,0.3854549825191498,0.38541945815086365,0.3852461576461792,0.38507288694381714,0.3848995864391327,0.38472631573677063,0.38441261649131775,0.38409802317619324,0.38349995017051697,0.38596591353416443,0.38619697093963623,0.3861587345600128,0.38598501682281494,0.38594815135002136,0.3857748508453369,0.38560158014297485,0.3854282796382904,0.38525500893592834,0.3849426507949829,0.38448992371559143,0.3863123655319214,0.3868037164211273,0.38676318526268005,0.38672351837158203,0.38668474555015564,0.3865114748477936,0.38647404313087463,0.386301189661026,0.3859916031360626,0.38581833243370056,0.3855074346065521,0.38478145003318787,0.38715073466300964,0.38750356435775757,0.3874620199203491,0.38728830218315125,0.38724809885025024,0.3872087597846985,0.38703593611717224,0.3868630826473236,0.3865549564361572,0.3862459361553192,0.38593602180480957,0.3850787281990051,0.3879833221435547,0.3880697786808014,0.38802680373191833,0.3879847228527069,0.38781142234802246,0.3877706527709961,0.38759782910346985,0.3874249756336212,0.38711827993392944,0.38681069016456604,0.3863674998283386,0.38824915885925293,0.3887162208557129,0.38867083191871643,0.3886263072490692,0.388582706451416,0.38853996992111206,0.3883671164512634,0.3881942927837372,0.38802143931388855,0.38771626353263855,0.3874102234840393,0.38683685660362244,0.38898617029190063,0.38944604992866516,0.38927188515663147,0.3892258405685425,0.3891806900501251,0.3891364336013794,0.38896358013153076,0.3887907564640045,0.3886179029941559,0.38831427693367004,0.3880097568035126,0.3873092830181122,0.38975533843040466,0.3900819420814514,0.3900338411331177,0.3898600935935974,0.3898133337497711,0.38976746797561646,0.3895946145057678,0.3895500600337982,0.38924893736839294,0.38894692063331604,0.3886440098285675,0.38795003294944763,0.39039769768714905,0.3907178044319153,0.3906680941581726,0.39049437642097473,0.3904459774494171,0.3903985023498535,0.3903518617153168,0.39017948508262634,0.38987997174263,0.38957956433296204,0.38927826285362244,0.38871920108795166,0.39104005694389343,0.39135369658470154,0.3913023769855499,0.39112862944602966,0.3910786211490631,0.3910295069217682,0.3909812867641449,0.3908088803291321,0.39051100611686707,0.39021220803260803,0.38991254568099976,0.3893583416938782,0.391477108001709,0.39190372824668884,0.39185023307800293,0.39179766178131104,0.391745924949646,0.391695111989975,0.3916451632976532,0.39147278666496277,0.39130038022994995,0.3908795118331909,0.39058154821395874,0.3901575803756714,0.3893551528453827,0.3925761580467224,0.3925209641456604,0.39246666431427,0.3924132287502289,0.39236071705818176,0.3923090696334839,0.39213666319847107,0.39196428656578064,0.3916693329811096,0.39137354493141174,0.3909534215927124,0.3901599645614624,0.3931313157081604,0.39319169521331787,0.393135666847229,0.39308056235313416,0.39302632212638855,0.3929729759693146,0.39280056953430176,0.39262816309928894,0.3923349380493164,0.39204084873199463,0.3916241526603699,0.3909613788127899,0.3935742974281311,0.39386239647865295,0.3938046991825104,0.39374786615371704,0.39369192719459534,0.3936368525028229,0.39346444606781006,0.39329206943511963,0.3930005431175232,0.3927081525325775,0.3924148678779602,0.39175936579704285,0.394137978553772,0.3945331275463104,0.39447370171546936,0.3944151699542999,0.39435750246047974,0.39430075883865356,0.39412835240364075,0.39395594596862793,0.39366614818573,0.3933754563331604,0.3930838704109192,0.3925539255142212,0.3948590159416199,0.39513418078422546,0.39507320523262024,0.39501315355300903,0.39495396614074707,0.39489567279815674,0.3947232663631439,0.3945508897304535,0.3942626118659973,0.3939734399318695,0.39368337392807007,0.39315804839134216,0.39557698369026184,0.3957352340221405,0.3956727385520935,0.39561113715171814,0.3956630229949951,0.3954906165599823,0.3953182101249695,0.39514580368995667,0.39485907554626465,0.3945714235305786,0.39428290724754333,0.39353078603744507,0.3962918817996979,0.39644598960876465,0.3963824212551117,0.39631974697113037,0.3962579369544983,0.3960855305194855,0.39591315388679504,0.3957407474517822,0.395455539226532,0.3951694071292877,0.39476871490478516,0.3940238058567047,0.39689600467681885,0.3970454931259155,0.3969804048538208,0.3969162106513977,0.39685288071632385,0.39668047428131104,0.3965080678462982,0.3963356614112854,0.3960520029067993,0.3957674205303192,0.3952575922012329,0.39732256531715393,0.3976777195930481,0.39761027693748474,0.397543728351593,0.3975857198238373,0.39741331338882446,0.39724093675613403,0.3970685303211212,0.39678671956062317,0.3965040147304535,0.39622044563293457,0.39571452140808105,0.39810484647750854,0.3982439339160919,0.3982803523540497,0.39821282029151917,0.3981461822986603,0.39797377586364746,0.39780136942863464,0.3976289927959442,0.3973486125469208,0.3970673680305481,0.3966763913631439,0.39595574140548706,0.3988133668899536,0.3989483118057251,0.3988783657550812,0.3988092839717865,0.39874109625816345,0.398568719625473,0.3983963131904602,0.3982239067554474,0.3979450762271881,0.3976653516292572,0.3972774147987366,0.39645665884017944,0.3994174599647522,0.399547815322876,0.3994763493537903,0.39940574765205383,0.399336040019989,0.3991636335849762,0.39899125695228577,0.39881885051727295,0.39854153990745544,0.3981580138206482,0.3977726697921753,0.39976370334625244,0.4001864194869995,0.40021297335624695,0.4001404941082001,0.40006887912750244,0.399896502494812,0.3997240960597992,0.3995516896247864,0.3992762863636017,0.398999959230423,0.398722767829895,0.3980272710323334,0.40069571137428284,0.4008163511753082,0.4007416367530823,0.40066781640052795,0.4005948603153229,0.40052279829978943,0.40025007724761963,0.4000776708126068,0.39980360865592957,0.39942651987075806,0.3990476727485657,0.40111586451530457,0.4014233350753784,0.40144360065460205,0.40136799216270447,0.40129324793815613,0.4012193977832794,0.4009484350681305,0.4007760286331177,0.4005037546157837,0.40023061633110046,0.3998557925224304,0.401700496673584,0.40199899673461914,0.4020153880119324,0.4019376337528229,0.40195712447166443,0.4018815755844116,0.4017096161842346,0.40143993496894836,0.4011693596839905,0.40089792013168335,0.4006255567073822,0.399854838848114,0.40263649821281433,0.4026496708393097,0.40257027745246887,0.40258654952049255,0.4025093615055084,0.4023374021053314,0.4020693600177765,0.40180039405822754,0.40153056383132935,0.4012598395347595,0.4004988372325897,0.4032739996910095,0.4032839238643646,0.40320292115211487,0.4032159447669983,0.4031371474266052,0.40287116169929504,0.4026987552642822,0.4024314284324646,0.40216320753097534,0.401798278093338,0.40114280581474304,0.4039115011692047,0.40391820669174194,0.40383556485176086,0.4038453698158264,0.4036729633808136,0.4035005569458008,0.40332818031311035,0.40306246280670166,0.40279585123062134,0.40243417024612427,0.40178677439689636,0.4045490026473999,0.4045524597167969,0.40446820855140686,0.40447476506233215,0.4043023884296417,0.4041299819946289,0.4039575755596161,0.4036934971809387,0.40342849493026733,0.4030700623989105,0.4024307429790497,0.4051865041255951,0.4051867425441742,0.40510085225105286,0.4051041901111603,0.40493178367614746,0.40475937724113464,0.4045870006084442,0.4043245315551758,0.40406113862991333,0.4037059247493744,0.403074711561203,0.4058240056037903,0.4058209955692291,0.40573349595069885,0.4057336151599884,0.4055612087249756,0.40538880228996277,0.40521639585494995,0.40495553612709045,0.4046938121318817,0.40434181690216064,0.40618425607681274,0.4065104126930237,0.40642049908638,0.40633150935173035,0.4063285291194916,0.40615612268447876,0.40598374605178833,0.4057248532772064,0.4055519998073578,0.4052917957305908,0.4049428701400757,0.4068763554096222,0.4071114659309387,0.4071027636528015,0.4070126712322235,0.40692347288131714,0.4067510664463043,0.4065786600112915,0.40632131695747375,0.4060630798339844,0.40580394864082336,0.4053713381290436,0.4075653851032257,0.40771251916885376,0.407700777053833,0.40760913491249084,0.4075183868408203,0.4073460102081299,0.40709060430526733,0.4069177806377411,0.4066610634326935,0.40640345215797424,0.40589070320129395,0.4082513451576233,0.4083928167819977,0.4082987606525421,0.4082055985927582,0.40803274512290955,0.4078599214553833,0.40768706798553467,0.4075142443180084,0.4072590470314026,0.4070029854774475,0.40641310811042786,0.40893423557281494,0.40899232029914856,0.4088967442512512,0.4088020622730255,0.4086292088031769,0.40845638513565063,0.408283531665802,0.40811070799827576,0.4078570306301117,0.40752124786376953,0.40685686469078064,0.40957337617874146,0.4096266031265259,0.4095293879508972,0.4094330966472626,0.40926024317741394,0.4090874195098877,0.40891456604003906,0.40874171257019043,0.4084896743297577,0.4081571400165558,0.4075024724006653,0.41025158762931824,0.41022610664367676,0.4101274013519287,0.4100295603275299,0.4098567068576813,0.40968388319015503,0.4095110297203064,0.40926095843315125,0.4090876877307892,0.40875816345214844,0.4106680452823639,0.4109267592430115,0.4108986556529999,0.4107988476753235,0.41062602400779724,0.4104531705379486,0.41028034687042236,0.41010749340057373,0.40985894203186035,0.40960952639579773,0.4092060625553131,0.4113488793373108,0.4115278124809265,0.41149666905403137,0.4113953113555908,0.4112224876880646,0.41104963421821594,0.4108767807483673,0.41070395708084106,0.41045695543289185,0.410209059715271,0.4098101854324341,0.41202667355537415,0.41212886571884155,0.4120946526527405,0.41199177503585815,0.4118189513683319,0.4116460978984833,0.41147324442863464,0.4113004207611084,0.41105493903160095,0.4108085632324219,0.4103407561779022,0.41270139813423157,0.4127979278564453,0.4126926362514496,0.4125882387161255,0.412484735250473,0.4123123288154602,0.412069708108902,0.4118262231349945,0.41165292263031006,0.4113365411758423,0.4108743965625763,0.41337308287620544,0.4133974313735962,0.4132906198501587,0.4131847023963928,0.4130796790122986,0.41290727257728577,0.4126661717891693,0.4124242067337036,0.41225090622901917,0.4119375944137573,0.4114815592765808,0.41394779086112976,0.4140317142009735,0.4139232635498047,0.4138157367706299,0.4137090742588043,0.4135366678237915,0.41329720616340637,0.4131243824958801,0.41288357973098755,0.4125734865665436,0.41219276189804077,0.4145885109901428,0.41466596722602844,0.41455593705177307,0.41444677114486694,0.41433849930763245,0.41416609287261963,0.41392824053764343,0.4137553870677948,0.41351622343063354,0.41320937871932983,0.4128335118293762,0.41516807675361633,0.415238618850708,0.41518858075141907,0.415077805519104,0.4149678945541382,0.41479548811912537,0.41462311148643494,0.41438642144203186,0.41414886713027954,0.4139104187488556,0.413539856672287,0.4157620668411255,0.4158843457698822,0.41583025455474854,0.41577795147895813,0.41566628217697144,0.4154938757419586,0.4153214693069458,0.4150865972042084,0.4148508310317993,0.41461417078971863,0.4143766164779663,0.41394543647766113,0.41641759872436523,0.4164755642414093,0.41641920804977417,0.416305273771286,0.4161922335624695,0.41601985692977905,0.41584745049476624,0.41561391949653625,0.41537949442863464,0.4151442050933838,0.4148455560207367,0.41435641050338745,0.4171244204044342,0.41706404089927673,0.4170054495334625,0.41689062118530273,0.4167182147502899,0.4165458083152771,0.41631409525871277,0.4160814583301544,0.41590818762779236,0.41567423939704895,0.415317177772522,0.41764751076698303,0.417692095041275,0.41768449544906616,0.41756734251976013,0.41745108366012573,0.4172786772251129,0.4171062707901001,0.4168759882450104,0.41664478182792664,0.41641274094581604,0.4161797761917114,0.4157669246196747,0.41834598779678345,0.418332576751709,0.4182131886482239,0.418094664812088,0.4179770350456238,0.41780462861061096,0.41763225197792053,0.41740331053733826,0.41717347502708435,0.4169427454471588,0.41665327548980713,0.41888391971588135,0.4189670979976654,0.4188973605632782,0.41882941126823425,0.4186565577983856,0.4185374975204468,0.41836509108543396,0.4181380271911621,0.417910099029541,0.41773679852485657,0.417507529258728,0.41716450452804565,0.4194736182689667,0.41955047845840454,0.41947847604751587,0.41935673356056213,0.41923585534095764,0.4190634787082672,0.4188382029533386,0.41866534948349,0.41843876242637634,0.41821128129959106,0.41798293590545654,0.4174782633781433,0.420158326625824,0.4201311469078064,0.4200071692466736,0.41988405585289,0.4197618365287781,0.41953837871551514,0.4193655252456665,0.4191407263278961,0.41896745562553406,0.4187413156032562,0.41840773820877075,0.420738160610199,0.42075255513191223,0.42067447304725647,0.420501172542572,0.42037680745124817,0.42020395398139954,0.4200311303138733,0.419808030128479,0.41963475942611694,0.4194103181362152,0.4191334545612335,0.42132481932640076,0.421331524848938,0.4212954342365265,0.4211684763431549,0.42104241251945496,0.4208695590496063,0.4206967353820801,0.4204753339290619,0.42030206322669983,0.4200793504714966,0.4198557436466217,0.41937968134880066,0.4219706356525421,0.42188501358032227,0.4218011200428009,0.421673446893692,0.4215005934238434,0.42132776975631714,0.4211079776287079,0.4209347069263458,0.4207136034965515,0.42049163579940796,0.4200252890586853,0.42253202199935913,0.42244288325309753,0.4223991334438324,0.42226991057395935,0.4220970571041107,0.42187926173210144,0.4217059910297394,0.42153269052505493,0.4213131368160248,0.4210459589958191,0.4231258034706116,0.42307382822036743,0.4230245053768158,0.42289313673973083,0.4227626621723175,0.4225465655326843,0.42237329483032227,0.4221999943256378,0.42198213934898376,0.4217633903026581,0.42373037338256836,0.4236730933189392,0.42361849546432495,0.42352578043937683,0.42335250973701477,0.4231792092323303,0.42300593852996826,0.42279013991355896,0.4226164221763611,0.42235589027404785,0.4243405759334564,0.4242404103279114,0.4241807758808136,0.4241237938404083,0.4239504933357239,0.4237772226333618,0.42360392212867737,0.42338964343070984,0.42321592569351196,0.42291659116744995,0.42488133907318115,0.4247790575027466,0.4247160851955414,0.42461779713630676,0.4244445264339447,0.4242323935031891,0.4240586757659912,0.42388492822647095,0.4235907196998596,0.4254903197288513,0.42538437247276306,0.42531606554985046,0.42521411180496216,0.4250403940677643,0.4248666763305664,0.42469292879104614,0.4244810938835144,0.42419129610061646,0.4260298013687134,0.42595523595809937,0.4258488118648529,0.4256742000579834,0.4255349934101105,0.4253966808319092,0.4251866638660431,0.42493897676467896,0.42664003372192383,0.42652830481529236,0.42638537287712097,0.4262433350086212,0.4261021614074707,0.4259275496006012,0.4257529377937317,0.4254726469516754,0.42706918716430664,0.426955908536911,0.4267804026603699,0.42663735151290894,0.4264622926712036,0.42625391483306885,0.42768365144729614,0.4275367558002472,0.4273907542228699,0.4272456467151642,0.42707014083862305,0.4268312156200409,0.428117036819458,0.4279690682888031,0.4278219938278198,0.42761629819869995,0.42855045199394226,0.4283736050128937,0.4290192127227783],\"y\":[0.1302182674407959,0.1339268684387207,0.1296071857213974,0.13250459730625153,0.135721355676651,0.12705636024475098,0.12996651232242584,0.1330137997865677,0.1362224817276001,0.13980241119861603,0.12758344411849976,0.1303190290927887,0.13334845006465912,0.136720210313797,0.14029546082019806,0.12518760561943054,0.12795041501522064,0.13082949817180634,0.13402201235294342,0.1372145265340805,0.1407850980758667,0.12249452620744705,0.12556904554367065,0.12846896052360535,0.13133656978607178,0.1345209926366806,0.13770543038845062,0.14127133786678314,0.1205950379371643,0.12367431074380875,0.1265837699174881,0.1294608861207962,0.13264530897140503,0.1356518417596817,0.13901416957378387,0.14258672297000885,0.11984952539205551,0.12292223423719406,0.1258266717195511,0.12885896861553192,0.13187509775161743,0.1350514441728592,0.13822779059410095,0.14159667491912842,0.11744102090597153,0.12039053440093994,0.12345346808433533,0.1263463944196701,0.12936890125274658,0.13254526257514954,0.13554352521896362,0.13889794051647186,0.14226853847503662,0.116831474006176,0.11964790523052216,0.12270427495241165,0.12574449181556702,0.12876851856708527,0.13177640736103058,0.13494466245174408,0.13811293244361877,0.14166662096977234,0.14585502445697784,0.11725233495235443,0.12018532305955887,0.1232319101691246,0.1262623369693756,0.1292765885591507,0.1324448436498642,0.1356131136417389,0.1387813687324524,0.14233846962451935,0.14633290469646454,0.11664583534002304,0.1194455698132515,0.12263000011444092,0.1256619393825531,0.12867772579193115,0.13184599578380585,0.13501425087451935,0.13818252086639404,0.1415436714887619,0.14532293379306793,0.11552269011735916,0.11833994090557098,0.12139119952917099,0.12442628294229507,0.12744522094726562,0.13061347603797913,0.13378173112869263,0.13695000112056732,0.14011825621128082,0.14368218183517456,0.1478961706161499,0.11594778299331665,0.11887862533330917,0.12192009389400482,0.12494540214538574,0.12811365723609924,0.13111472129821777,0.1342748999595642,0.13761845231056213,0.14078670740127563,0.14435404539108276,0.11390411853790283,0.1164945438504219,0.11941389739513397,0.12244558334350586,0.12561383843421936,0.12862128019332886,0.1317814588546753,0.13494163751602173,0.13828688859939575,0.14145515859127045,0.14522713422775269,0.11381912231445312,0.11640102416276932,0.11944878101348877,0.1224803775548935,0.125648632645607,0.12865598499774933,0.13181616365909576,0.1349763423204422,0.1383216828107834,0.14148995280265808,0.14506086707115173,0.1137339398264885,0.11643598973751068,0.11948366463184357,0.12251516431570053,0.12553051114082336,0.1286906898021698,0.13185086846351624,0.13501104712486267,0.1381712257862091,0.14152474701404572,0.1450958400964737,0.14932774007320404,0.11519718915224075,0.11824800074100494,0.121282659471035,0.12430114299058914,0.12746132910251617,0.13062149286270142,0.13378167152404785,0.13694186508655548,0.140292227268219,0.14365875720977783,0.147454172372818,0.11420316249132156,0.11701234430074692,0.12005013972520828,0.12321840971708298,0.12623195350170135,0.1293921321630478,0.13255231082439423,0.13571248948574066,0.1388726681470871,0.14222797751426697,0.14580266177654266,0.11267083883285522,0.11526712775230408,0.11831776797771454,0.12135224044322968,0.12437054514884949,0.12753072381019592,0.13052478432655334,0.13367688655853271,0.13701127469539642,0.14017145335674286,0.14353007078170776,0.14752447605133057,0.1137542873620987,0.1164468377828598,0.11948607861995697,0.12265433371067047,0.12566933035850525,0.1286681443452835,0.13182023167610168,0.13497233390808105,0.138310045003891,0.14166390895843506,0.14503394067287445,0.149259552359581,0.11482445150613785,0.11775226145982742,0.12078817188739777,0.12380792200565338,0.12696810066699982,0.12996359169483185,0.13311569392681122,0.1362677961587906,0.13960881531238556,0.14296600222587585,0.1465444564819336,0.11277707666158676,0.11537203937768936,0.11842241138219833,0.12145661562681198,0.1244746595621109,0.1274765282869339,0.13062863051891327,0.13378073275089264,0.13693282008171082,0.14027555286884308,0.14363445341587067,0.14742310345172882,0.11333786696195602,0.11591621488332748,0.11909256130456924,0.1221250593662262,0.12514139711856842,0.12814156711101532,0.1312936693429947,0.13444575667381287,0.13759785890579224,0.1409423053264618,0.14430288970470428,0.14830517768859863,0.11325350403785706,0.11595109850168228,0.11899159103631973,0.12215985357761383,0.1251761019229889,0.12817618250846863,0.131328284740448,0.13430412113666534,0.13763247430324554,0.14097701013088226,0.14433768391609192,0.14834032952785492,0.11328873783349991,0.11598597466945648,0.11902638524770737,0.12219464778900146,0.12521080672740936,0.12821079790592194,0.13119462132453918,0.1343386471271515,0.13766708970069885,0.14101170003414154,0.14437247812747955,0.14816679060459137,0.11332397162914276,0.11602085828781128,0.119061179459095,0.1222294420003891,0.12524551153182983,0.12824541330337524,0.13122914731502533,0.13437317311763763,0.13770170509815216,0.141046404838562,0.1444072723388672,0.1482018530368805,0.11295414716005325,0.11554688960313797,0.11859681457281113,0.12163057923316956,0.12464817613363266,0.12764960527420044,0.1306348741054535,0.1337788999080658,0.1369229108095169,0.14044907689094543,0.14380840957164764,0.1473911702632904,0.15165220201015472,0.11494497209787369,0.11799643188714981,0.12103171646595001,0.12405084818601608,0.12705381214618683,0.13004060089588165,0.13318461179733276,0.13632863759994507,0.13966219127178192,0.1430119276046753,0.14658352732658386,0.15082885324954987,0.11446642130613327,0.1173960417509079,0.12043286114931107,0.12345351278781891,0.12645800411701202,0.12944632768630981,0.13259033858776093,0.13573434948921204,0.13906638324260712,0.14241459965705872,0.14598314464092255,0.15000855922698975,0.11410665512084961,0.11679565161466599,0.11983399838209152,0.12285618484020233,0.12586219608783722,0.12885203957557678,0.1319960653781891,0.1351400762796402,0.1384705901145935,0.14181725680828094,0.1451800912618637,0.14919131994247437,0.11362046748399734,0.11619526147842407,0.11923513561487198,0.12225884944200516,0.12526638805866241,0.12825776636600494,0.13140179216861725,0.13454580307006836,0.1378747820854187,0.14121992886066437,0.14458124339580536,0.14837713539600372,0.11417712271213531,0.11686541140079498,0.11990358680486679,0.12292558699846268,0.12593142688274384,0.12892109155654907,0.13206511735916138,0.1352091282606125,0.13853982090950012,0.1418866664171219,0.14524967968463898,0.14905069768428802,0.11473037302494049,0.11753556877374649,0.120572030544281,0.1235923320055008,0.12644042074680328,0.1295844316482544,0.1327284425497055,0.1358724683523178,0.13920484483242035,0.1425534039735794,0.1459181308746338,0.15014950931072235,0.11528021842241287,0.11807221174240112,0.12109889090061188,0.12410939484834671,0.1271037459373474,0.13024775683879852,0.13339176774024963,0.13653579354286194,0.13986988365650177,0.14322015643119812,0.14679281413555145,0.15104080736637115,0.11595378071069717,0.11874065548181534,0.1217656284570694,0.12477443367242813,0.12776707112789154,0.13091108202934265,0.13405510783195496,0.13719911873340607,0.1405349224805832,0.14388689398765564,0.1476709246635437,0.1144404411315918,0.11700493842363358,0.12004275619983673,0.12306440621614456,0.12591518461704254,0.12905919551849365,0.13220322132110596,0.13534723222255707,0.13867828249931335,0.14202548563480377,0.14538885653018951,0.14919093251228333,0.11551108956336975,0.1183103621006012,0.1212029978632927,0.12421324104070663,0.12720732390880585,0.13035133481025696,0.13349536061286926,0.13663937151432037,0.1399737298488617,0.14332427084445953,0.14689746499061584,0.1511467844247818,0.11605895310640335,0.11884503811597824,0.12186974287033081,0.12487827241420746,0.12787064909934998,0.1310146600008011,0.1341586858034134,0.1373026967048645,0.14063875377178192,0.14399100840091705,0.14756761491298676,0.1520417481660843,0.11673251539468765,0.11951348185539246,0.12253648042678833,0.12554331123828888,0.1285339742898941,0.1316780000925064,0.13482201099395752,0.13796602189540863,0.14130379259586334,0.14485958218574524,0.1484476923942566,0.1153494268655777,0.11777973175048828,0.12067507207393646,0.12368666380643845,0.1266821026802063,0.1298261135816574,0.13297012448310852,0.13611415028572083,0.1394471526145935,0.1427963376045227,0.14616167545318604,0.15039615333080292,0.1168026328086853,0.11958306282758713,0.12260588258504868,0.1256125420331955,0.1286030262708664,0.13157735764980316,0.1348910629749298,0.13803507387638092,0.14137302339076996,0.14492915570735931,0.1485176384449005,0.11593909561634064,0.11848476529121399,0.12137652188539505,0.12438631802797318,0.12737995386123657,0.13035741448402405,0.1336679905653,0.1368120014667511,0.14014680683612823,0.1434977799654007,0.14707186818122864,0.11545566469430923,0.11801706999540329,0.12091995775699615,0.12393936514854431,0.12678568065166473,0.12976466119289398,0.13290059566497803,0.13621772825717926,0.13955099880695343,0.14290045201778412,0.14626605808734894,0.15071538090705872,0.11805204302072525,0.12095474451780319,0.12397406995296478,0.12682020664215088,0.12979911267757416,0.132935032248497,0.1362522542476654,0.13958561420440674,0.1429351568222046,0.14630085229873657,0.15075071156024933,0.11808700859546661,0.12098953872919083,0.12400877475738525,0.12685473263263702,0.12983354926109314,0.13314275443553925,0.13628678023815155,0.13962022960186005,0.14296986162662506,0.14654123783111572,0.15078602731227875,0.11812198162078857,0.12102433294057846,0.12404347956180573,0.12688925862312317,0.13003326952457428,0.1331772804260254,0.1363213062286377,0.13965484499931335,0.14300456643104553,0.14657612144947052,0.15082135796546936,0.11815694719552994,0.1210591271519661,0.1240781843662262,0.12692378461360931,0.13006779551506042,0.13321180641651154,0.13635583221912384,0.13968946039676666,0.1430392563343048,0.14661100506782532,0.15085668861865997,0.1181919202208519,0.12109392136335373,0.12411288917064667,0.12695831060409546,0.13010232150554657,0.13324633240699768,0.13639035820960999,0.13972407579421997,0.14307396113872528,0.14664588868618011,0.1508920043706894,0.11822689324617386,0.12112870812416077,0.12414759397506714,0.1269928365945816,0.13013684749603271,0.13328085839748383,0.13642488420009613,0.13975869119167328,0.14310866594314575,0.1466807723045349,0.11634853482246399,0.11876381933689117,0.12179715186357498,0.12481433153152466,0.12765616178512573,0.13080017268657684,0.13394419848918915,0.13727162778377533,0.1404237300157547,0.14377541840076447,0.14735090732574463,0.11690036952495575,0.11943396925926208,0.12232089042663574,0.12532827258110046,0.12831950187683105,0.13146349787712097,0.13460752367973328,0.13793666660785675,0.14128196239471436,0.14464344084262848,0.14843980967998505,0.11744878441095352,0.120104119181633,0.12298762798309326,0.12599331140518188,0.128982812166214,0.1321268379688263,0.1354495882987976,0.13860169053077698,0.14194871485233307,0.1453118771314621,0.1493244469165802,0.1179938018321991,0.12063422799110413,0.12365436553955078,0.1266583353281021,0.12981043756008148,0.13296252489089966,0.13611462712287903,0.1392667293548584,0.1426154524087906,0.1459803283214569,0.15021249651908875,0.11853539943695068,0.12130267173051834,0.1243211105465889,0.12732337415218353,0.1304754763841629,0.13362756371498108,0.13677966594696045,0.13993176817893982,0.1432821899652481,0.1468551754951477,0.15131844580173492,0.11857046186923981,0.12133746594190598,0.12435581535100937,0.12735798954963684,0.1305100917816162,0.1336621791124344,0.13681428134441376,0.13996638357639313,0.14331689476966858,0.1468900591135025,0.1513538509607315,0.11910856515169144,0.12200590968132019,0.12502256035804749,0.12802302837371826,0.13117511570453644,0.1343272179365158,0.13747932016849518,0.14082345366477966,0.1439836323261261,0.1475602090358734,0.11724139750003815,0.11964325606822968,0.12252911180257797,0.1255359649658203,0.12868806719779968,0.13184015452861786,0.13499225676059723,0.1381443589925766,0.14149019122123718,0.1448521912097931,0.1486501693725586,0.11779099702835083,0.12031340599060059,0.12319584935903549,0.12620098888874054,0.1293530911207199,0.13250519335269928,0.13565728068351746,0.13880938291549683,0.1421569287776947,0.1455206423997879,0.1493237316608429,0.11833717674016953,0.1209835559129715,0.12386259436607361,0.12686602771282196,0.13001812994480133,0.1331702172756195,0.13632231950759888,0.13947442173957825,0.14282366633415222,0.14618907868862152,0.15021060407161713,0.11887995153665543,0.12151142954826355,0.12452933192253113,0.12753106653690338,0.1305166333913803,0.13366064429283142,0.1369873583316803,0.1403302252292633,0.14349041879177094,0.1470644623041153,0.15110088884830475,0.11941931396722794,0.12217987328767776,0.12519606947898865,0.1281961053609848,0.13117995858192444,0.13432398438453674,0.13765239715576172,0.14099696278572083,0.14415715634822845,0.1477346122264862,0.15177786350250244,0.11959036439657211,0.1222146674990654,0.12523077428340912,0.1282307207584381,0.13121448457241058,0.1343585103750229,0.13768699765205383,0.1408390998840332,0.14419186115264893,0.147769495844841,0.1515962779521942,0.1196255162358284,0.12224945425987244,0.1252654790878296,0.12826533615589142,0.13124901056289673,0.13439303636550903,0.13772161304950714,0.1408737152814865,0.1442265659570694,0.1478043645620346,0.1516314297914505,0.11979682743549347,0.12242849916219711,0.12530018389225006,0.12829995155334473,0.13128353655338287,0.13442756235599518,0.1375715732574463,0.14090833067893982,0.14426127076148987,0.14763034880161285,0.15144957602024078,0.11881464719772339,0.12133394926786423,0.12421999871730804,0.1270737200975418,0.13006046414375305,0.13320447504520416,0.13634848594665527,0.1396821141242981,0.14303189516067505,0.14639782905578613,0.14977993071079254,0.15384401381015778,0.12050903588533401,0.12313353270292282,0.12600162625312805,0.12899959087371826,0.13198140263557434,0.13512541353702545,0.13826942443847656,0.14160798490047455,0.14496271312236786,0.1483335942029953,0.15193942189216614,0.15625818073749542,0.1220407783985138,0.1249232366681099,0.12777337431907654,0.13075831532478333,0.13390232622623444,0.13704635202884674,0.14038175344467163,0.14373333752155304,0.14689351618289948,0.15026932954788208,0.15410876274108887,0.12071765214204788,0.12334951758384705,0.126071035861969,0.12906882166862488,0.13205045461654663,0.13519446551799774,0.13833847641944885,0.14167721569538116,0.1450321227312088,0.14840316772460938,0.15179039537906647,0.15587492287158966,0.12225379049777985,0.12499282509088516,0.1280018538236618,0.13099469244480133,0.13397137820720673,0.13711540400981903,0.14025941491127014,0.14360308647155762,0.14696292579174042,0.15033891797065735,0.15395498275756836,0.1209266185760498,0.12341945618391037,0.12629492580890656,0.1291380524635315,0.13229015469551086,0.13526351749897003,0.13840752840042114,0.14174644649028778,0.14510151743888855,0.14826169610023499,0.15164101123809814,0.1554909497499466,0.12275367975234985,0.12521374225616455,0.12807124853134155,0.13106392323970795,0.13404043018817902,0.13718445599079132,0.14052021503448486,0.14367231726646423,0.14703233540058136,0.15040850639343262,0.1538008451461792,0.15837015211582184,0.12427447736263275,0.1269981563091278,0.13000206649303436,0.1329897940158844,0.1359613686800003,0.13929399847984314,0.14244608581066132,0.14580295979976654,0.14896315336227417,0.1523442566394806,0.15619955956935883,0.12396436929702759,0.12655404210090637,0.12940473854541779,0.13256490230560303,0.13554608821868896,0.13869819045066833,0.1418502777814865,0.14520563185214996,0.1483658105134964,0.15174539387226105,0.1553686410188675,0.12364814430475235,0.12626010179519653,0.12896870076656342,0.13196757435798645,0.13495028018951416,0.13810238242149353,0.1412544846534729,0.1446083039045334,0.14776848256587982,0.1511465311050415,0.1545407474040985,0.15912136435508728,0.12629516422748566,0.1291648894548416,0.13200227916240692,0.13498489558696747,0.13813699781894684,0.1412891000509262,0.14464300870895386,0.1478031873703003,0.15118132531642914,0.1545756310224533,0.15915678441524506,0.12712374329566956,0.1299981325864792,0.13266901671886444,0.1356499344110489,0.13880203664302826,0.14214956760406494,0.14530974626541138,0.1484699249267578,0.15184977650642395,0.15547354519367218,0.1268257349729538,0.1295577883720398,0.13224133849143982,0.1352318674325943,0.13820622861385345,0.14155222475528717,0.1447124183177948,0.14787259697914124,0.1512509137392044,0.1546453982591629,0.1270146369934082,0.12975451350212097,0.13244587182998657,0.13526657223701477,0.1384267508983612,0.14158692955970764,0.14474712312221527,0.14811745285987854,0.15128570795059204,0.15490660071372986,0.1276950240135193,0.13059313595294952,0.1332874596118927,0.1359333097934723,0.13909348845481873,0.14225366711616516,0.1454138606786728,0.14878588914871216,0.15195414423942566,0.15580646693706512,0.13014847040176392,0.1330253779888153,0.13569197058677673,0.13849616050720215,0.14165633916854858,0.1450187712907791,0.14818702638149261,0.15135528147220612,0.15520302951335907,0.13034571707248688,0.1332305371761322,0.1359049528837204,0.13871702551841736,0.14188529551029205,0.14505356550216675,0.14822182059288025,0.15160857141017914,0.15546467900276184,0.13231602311134338,0.1350160390138626,0.1378505825996399,0.14103500545024872,0.1440202295780182,0.14698930084705353,0.1503729224205017,0.15399613976478577,0.13299641013145447,0.13586795330047607,0.13889189064502716,0.14189967513084412,0.14489127695560455,0.14807571470737457,0.1512601375579834,0.15511998534202576,0.1373666375875473,0.14020727574825287,0.1434078812599182,0.1464042365550995,0.14959675073623657,0.15300963819026947,0.13758201897144318,0.1406187117099762,0.14363925158977509,0.14664360880851746,0.1498442143201828,0.1534857451915741,0.1414872258901596,0.14451414346694946,0.147524893283844,0.1509476602077484,0.14539246261119843,0.14861729741096497,0.14865271747112274],\"z\":[-0.0019121811492368579,-0.0008615690167061985,-0.0019220361718907952,0.00011717805318767205,0.00016131608572322875,-0.001958506880328059,8.088943286566064e-05,0.0011224645422771573,0.0011664917692542076,-0.0007838821038603783,-0.0009530085371807218,0.002083765808492899,0.003125099465250969,0.0021715983748435974,0.00022115306637715548,-0.0019870889373123646,0.0010500699281692505,0.0030890845227986574,0.0031328897457569838,0.0031766952015459538,0.0012261783704161644,-0.0010257679969072342,1.6161870007636026e-05,0.0020554696675390005,0.004094333853572607,0.004138028249144554,0.004181722644716501,0.002231134567409754,-0.0010532980086281896,-1.129908469010843e-05,0.0020281467586755753,0.0040671490132808685,0.004110843408852816,0.005151873920112848,0.00419823219999671,0.0022477279417216778,-6.524286436615512e-05,0.0009766994044184685,0.0030160837341099977,0.004057441838085651,0.005098607856780291,0.0051421914249658585,0.005185774993151426,0.00423221942037344,-0.0010995081393048167,0.0009405020973645151,0.0019822840113192797,0.0040215179324150085,0.00506277522072196,0.005106358788907528,0.006147253327071667,0.005193525925278664,0.004239989910274744,-0.0011093384819105268,0.0019286113092675805,0.002970336936414242,0.004011810757219791,0.00505309272557497,0.006094122771173716,0.006137595511972904,0.006181068252772093,0.004230282735079527,-0.0007110981387086213,0.0008945235749706626,0.0029343217611312866,0.0039758868515491486,0.00501726008951664,0.006058381404727697,0.006101854145526886,0.006145326886326075,0.006188799161463976,0.004238053224980831,0.000293754565063864,0.0008847425342537463,0.003922485280781984,0.003966179676353931,0.00500757759436965,0.006048723589628935,0.0060921963304281235,0.006135668605566025,0.006179141346365213,0.005225494969636202,0.0022779947612434626,-0.00013192679034546018,0.00290609709918499,0.003947733901441097,0.004989177919924259,0.006030370946973562,0.006073843687772751,0.0061173164285719395,0.006160788703709841,0.006204261444509029,0.004253594670444727,-0.0006874905666336417,0.0018720190273597836,0.003911809995770454,0.004953345283865929,0.005994629580527544,0.006038102321326733,0.007079053670167923,0.007122415117919445,0.006168520078063011,0.0062119928188622,0.004261365160346031,-0.0021566147916018963,0.0028778724372386932,0.004917512647807598,0.005958888214081526,0.006002360954880714,0.00704340310767293,0.007086765021085739,0.0071301269344985485,0.0061762514524161816,0.006219723727554083,0.003272120375186205,-0.001159470877610147,0.0038749175146222115,0.004916546866297722,0.005957924760878086,0.006001397501677275,0.007042442448437214,0.007085803896188736,0.007129165809601545,0.006175287999212742,0.0062187607400119305,0.004268167540431023,-0.00016232211783062667,0.0038739494048058987,0.004915581084787846,0.005956961307674646,0.006998119875788689,0.007041481323540211,0.00708484323695302,0.007128204684704542,0.0071715665981173515,0.006217797286808491,0.0042671989649534225,-0.000673713511787355,0.003855503164231777,0.004897181876003742,0.005938609130680561,0.006979814264923334,0.007023175712674856,0.0070665376260876656,0.007109899073839188,0.007153260987251997,0.006199444644153118,0.005245849955826998,0.0022985052783042192,0.0018408031901344657,0.004878782667219639,0.0059202564880251884,0.005963729228824377,0.007004870101809502,0.007048232015222311,0.007091593462973833,0.0071349553763866425,0.007178317289799452,0.006224564742296934,0.004274001345038414,-0.0011810929281637073,0.003853566711768508,0.00489525031298399,0.005936682224273682,0.006977892480790615,0.007021253928542137,0.00806216150522232,0.008105412125587463,0.007151339203119278,0.0071947006508708,0.006240990478545427,0.002296558814123273,0.000831934274174273,0.004868134390562773,0.005909635219722986,0.005953107960522175,0.006994275841861963,0.008035251870751381,0.008078503422439098,0.008121754042804241,0.0071677230298519135,0.006213943473994732,0.005260386038571596,0.0003192835138179362,0.0028447937220335007,0.004884601570665836,0.005926060955971479,0.006967298220843077,0.007010659668594599,0.008051593787968159,0.008094844408333302,0.008138095960021019,0.007184106856584549,0.006230369210243225,0.004279835615307093,-0.001184034743346274,0.0038506616838276386,0.004892352502793074,0.0059337918646633625,0.006975009571760893,0.008016034960746765,0.008059285581111908,0.00810253620147705,0.008145787753164768,0.007191818207502365,0.006238100118935108,0.003290637396275997,-0.00017799668421503156,0.004856519866734743,0.004900103434920311,0.005941523239016533,0.006982720922678709,0.008023726753890514,0.008066977374255657,0.0081102279946208,0.008153478614985943,0.007199529558420181,0.006245831493288279,0.002301448956131935,0.0008192261448130012,0.004855554085224867,0.005897087045013905,0.005940559785813093,0.006981759797781706,0.008022768422961235,0.008066019043326378,0.009106664918363094,0.008152520284056664,0.007198568433523178,0.006244868040084839,0.002300475724041462,0.0008182504680007696,0.004854588303714991,0.005896123591810465,0.0059395963326096535,0.00698079913854599,0.008021809160709381,0.0090625686571002,0.009105708450078964,0.008151561953127384,0.007197607774287462,0.006243904586881399,0.0032964861020445824,0.0008172747911885381,0.004853622522205114,0.005895160138607025,0.005938632879406214,0.006979838013648987,0.008020850829780102,0.009061613120138645,0.009104752913117409,0.008150603622198105,0.007196646649390459,0.0062429411336779594,0.0032955154310911894,-0.001188937691040337,0.0038458202034235,0.004887523595243692,0.005928975064307451,0.006970204878598452,0.008011242374777794,0.009052028879523277,0.00909516867250204,0.009138308465480804,0.007187013514339924,0.006233283318579197,0.004282764624804258,-0.0006579507025890052,0.003836113028228283,0.004877840634435415,0.005919317249208689,0.006960571743547916,0.008001633919775486,0.00904244463890791,0.009085584431886673,0.009128724224865437,0.008174637332558632,0.007220741827040911,0.005270092282444239,0.00032911362359300256,0.002828266704455018,0.0048681581392884254,0.005909658968448639,0.006950938142836094,0.007992025464773178,0.009032860398292542,0.009076000191271305,0.009119140915572643,0.008165028877556324,0.0072111086919903755,0.005260409787297249,0.001316256821155548,0.0008221774478442967,0.004858475644141436,0.005900001153349876,0.006941305007785559,0.00798241700977087,0.009023277088999748,0.009066416881978512,0.009109556674957275,0.008155419491231441,0.00720147555693984,0.006247782148420811,0.0023034196346998215,-0.00018582178745418787,0.004848793148994446,0.005890343338251114,0.0069316718727350235,0.007972807623445988,0.00901369284838438,0.009056832641363144,0.009099972434341908,0.008145811036229134,0.007191841956228018,0.006238124333322048,0.003290661610662937,0.0008202260942198336,0.004856544081121683,0.005898074246942997,0.00693938322365284,0.007980499416589737,0.009021365083754063,0.009064504876732826,0.00910764466971159,0.008153502829372883,0.007199553307145834,0.006245855242013931,0.0032984516583383083,0.00182620482519269,0.0048642950132489204,0.005905805621296167,0.006947094574570656,0.008985896594822407,0.00902903638780117,0.009072176180779934,0.009115316905081272,0.008161194622516632,0.00720726465806365,0.006253586616367102,0.001312354113906622,0.0028321738354861736,0.005870064254850149,0.006911444012075663,0.007952632382512093,0.008993568830192089,0.009036708623170853,0.009079848416149616,0.00912298820912838,0.008168886415660381,0.007214976474642754,0.005264297593384981,0.00032324480707757175,0.0028399641159921885,0.005877795163542032,0.006919155828654766,0.007960324175655842,0.009001241065561771,0.009044380858540535,0.009087520651519299,0.009130660444498062,0.00817657820880413,0.00722268782556057,0.004275017883628607,-0.0001818848541006446,0.004852680489420891,0.0058942208997905254,0.006935539189726114,0.008974400348961353,0.009017540141940117,0.009060680866241455,0.009103820659220219,0.008149669505655766,0.007195709738880396,0.00624200189486146,0.0032945687416940928,0.0018310952000319958,0.004869148135185242,0.006908561568707228,0.00794975645840168,0.008990700356662273,0.009033840149641037,0.009076980873942375,0.009120120666921139,0.008166010491549969,0.007212093565613031,0.005261399783194065,0.0003203103842679411,0.002837051870301366,0.005874905269593,0.006916272919625044,0.00795744825154543,0.008998372592031956,0.00904151238501072,0.009084652177989483,0.009127791970968246,0.008173702284693718,0.0072198049165308475,0.005269150715321302,-0.0006687372224405408,0.0028448421508073807,0.0058826361782848835,0.00692398427054286,0.007965140044689178,0.009006044827401638,0.009049184620380402,0.009092324413359165,0.009135464206337929,0.008181394077837467,0.006230417173355818,0.004279883578419685,-0.0011751360725611448,0.004857534077018499,0.006897006183862686,0.007938231341540813,0.008979205042123795,0.009022344835102558,0.009065484628081322,0.009108624421060085,0.008154485374689102,0.00720053818076849,0.006246842909604311,0.0013055243762210011,0.002842900576069951,0.005880709271878004,0.006922062486410141,0.00796322338283062,0.009004132822155952,0.01004484947770834,0.00909041240811348,0.009133552201092243,0.008179477415978909,0.006228490266948938,0.0042779468931257725,-0.00017009851580951363,0.004864318761974573,0.0069037568755447865,0.007944964803755283,0.008985920809209347,0.01002668496221304,0.009072200395166874,0.009115340188145638,0.008161218836903572,0.00720728887245059,0.0052565704099833965,-0.0011780778877437115,0.00385654391720891,0.0058961715549230576,0.006937485188245773,0.008976336568593979,0.010017124935984612,0.010060153901576996,0.00910575594753027,0.00815160945057869,0.007197655737400055,0.006243952549993992,0.0003056139685213566,0.0038555755745619535,0.005895208101719618,0.00693652406334877,0.008975381031632423,0.01001617219299078,0.010059201158583164,0.009104800410568714,0.00815065111964941,0.007196694612503052,0.006242989096790552,0.0003046358178835362,0.003854607231914997,0.0058942451141774654,0.006935563404113054,0.008974424563348293,0.010015218518674374,0.00906070414930582,0.009103843942284584,0.008149692788720131,0.007195733487606049,0.005244956351816654,0.0003036576963495463,0.0038536391220986843,0.005893281660974026,0.006934602279216051,0.008973469026386738,0.009016608819365501,0.009059748612344265,0.009102888405323029,0.008148734457790852,0.007194772828370333,0.005243990570306778,0.00030267954571172595,0.003852670779451728,0.005892318207770586,0.006933641619980335,0.008972512558102608,0.009015652351081371,0.009058792144060135,0.009101931937038898,0.008147776126861572,0.0071938117034733295,0.005243024788796902,0.00030170142417773604,0.0038517024368047714,0.005891354754567146,0.006932680495083332,0.008971556089818478,0.009014696814119816,0.00905783660709858,0.009100976400077343,0.008146817795932293,0.007192851044237614,0.0052420590072870255,0.0003007232735399157,0.003850734094157815,0.005890391301363707,0.006931719370186329,0.008970600552856922,0.009013740345835686,0.00905688013881445,0.009100019931793213,0.008145859465003014,0.0071918899193406105,0.005241092760115862,-0.0011760921915993094,0.004856592044234276,0.005898122675716877,0.006939431186765432,0.008978272788226604,0.009021412581205368,0.009064552374184132,0.008110299706459045,0.008153550326824188,0.007199601270258427,0.005248843692243099,-0.00017007415590342134,0.004864342976361513,0.006903780624270439,0.007944988086819649,0.008985944092273712,0.009029083885252476,0.009072224609553814,0.008117991499602795,0.007163951173424721,0.006210161838680506,0.003262485144659877,0.0008359341882169247,0.0048720939084887505,0.006911491975188255,0.007952679879963398,0.008993616327643394,0.009036756120622158,0.008082432672381401,0.008125683292746544,0.007171662524342537,0.006217893213033676,0.0022732256911695004,0.0018418733961880207,0.005877843126654625,0.0069192033261060715,0.007960371673107147,0.00800362229347229,0.008046872913837433,0.00809012446552515,0.008133375085890293,0.007179373875260353,0.006225624121725559,0.0012840350391343236,0.0028478028252720833,0.005885574501007795,0.006926915142685175,0.007968063466250896,0.00801131408661604,0.008054564706981182,0.008097815327346325,0.008141066879034042,0.007187085226178169,0.005236263852566481,-0.000702126242686063,0.0028468321543186903,0.005884611047804356,0.006925954017788172,0.007967105135321617,0.00801035575568676,0.008053606376051903,0.008096856996417046,0.008140108548104763,0.007186124566942453,0.005235298071056604,-0.0007031068671494722,0.003852694761008024,0.005892341956496239,0.006933665368705988,0.007974796928465366,0.00801804754883051,0.008061298169195652,0.008104548789560795,0.00715047400444746,0.0071938359178602695,0.005243048537522554,-0.0011741066118702292,0.004858547821640968,0.006898015271872282,0.007939237169921398,0.007982488721609116,0.008025739341974258,0.008068989962339401,0.008112240582704544,0.007158185355365276,0.006204381585121155,0.0032566606532782316,-0.00016809350927360356,0.004866298753768206,0.006905726622790098,0.007946928963065147,0.00799017958343029,0.008033431135118008,0.00807668175548315,0.008119932375848293,0.0071658967062830925,0.006212112959474325,0.0032644509337842464,0.0008379098726436496,0.004874049685895443,0.006913437973707914,0.007954620756208897,0.00799787137657404,0.008041121996939182,0.0080843735486269,0.008127624168992043,0.007173608057200909,0.006219843868166208,0.0022751963697373867,0.001843844074755907,0.005879794247448444,0.0069211493246257305,0.007962312549352646,0.009003223851323128,0.009046363644301891,0.008092065341770649,0.007137957960367203,0.007181319873780012,0.005230468697845936,0.0012860108399763703,0.002849768614396453,0.0058875251561403275,0.006928860675543547,0.007970004342496395,0.00901089608669281,0.009054035879671574,0.008099756203591824,0.007145669311285019,0.007189031224697828,0.005238219629973173,0.0012938405852764845,0.0018506809137761593,0.005886561702936888,0.006927900016307831,0.007969046011567116,0.009009940549731255,0.009053080342710018,0.008098797872662544,0.008142049424350262,0.007188070099800825,0.00523725338280201,0.0022898430470377207,0.0018497076816856861,0.005885598249733448,0.006926938891410828,0.007968087680637836,0.009008984081447124,0.009052123874425888,0.008097839541733265,0.008141090162098408,0.007187109440565109,0.005236287601292133,0.0022888698149472475,0.0008506423328071833,0.0048866537399590015,0.0069259777665138245,0.007967128418385983,0.009008027613162994,0.009051168337464333,0.009094308130443096,0.008140131831169128,0.007186148315668106,0.006232415791600943,0.0032849095296114683,-0.0011642518220469356,0.0038701966404914856,0.005909755360335112,0.007948869839310646,0.008989815600216389,0.009032956324517727,0.00907609611749649,0.008121873252093792,0.0071678427048027515,0.006214063614606857,0.0052605061791837215,0.0013163541443645954,0.0008574964012950659,0.004893438890576363,0.006932728458195925,0.007973861880600452,0.009014744311571121,0.009057884104549885,0.009101023897528648,0.008146865293383598,0.007192899007350206,0.006239183712750673,0.004288694821298122,-0.0006519448943436146,0.003876999020576477,0.005916522815823555,0.007955603301525116,0.008996532298624516,0.009039672091603279,0.009082811884582043,0.008128606714308262,0.0071745929308235645,0.007217954844236374,0.006264303810894489,0.0033170415554195642,-0.00014256444410420954,0.0038935085758566856,0.006930806674063206,0.007971945218741894,0.009012832306325436,0.0090559720993042,0.009099111892282963,0.00814494863152504,0.0071909767575562,0.006237256806343794,0.0052837589755654335,0.0013398433802649379,0.0028770468197762966,0.005914596375077963,0.006955862510949373,0.0079969372600317,0.009037760086357594,0.009080899879336357,0.00912403967231512,0.008169940672814846,0.007216033060103655,0.00626237690448761,0.0043120067566633224,-0.0011426054406911135,0.0038915718905627728,0.005931021645665169,0.007970028556883335,0.008013279177248478,0.009054060094058514,0.009097199887037277,0.008143031038343906,0.007189054973423481,0.00723241688683629,0.006278802640736103,0.0033316512126475573,-0.00011901604011654854,0.004914759658277035,0.006953940726816654,0.007995019666850567,0.009035848081111908,0.009078987874090672,0.00812477245926857,0.008168023079633713,0.007214111275970936,0.006260450463742018,0.005307011306285858,-0.0006302985129877925,0.002900417661294341,0.0059377895668148994,0.006978996563702822,0.008020011708140373,0.009060775861144066,0.008106513880193233,0.008149764500558376,0.007195805665105581,0.007239167112857103,0.006285570561885834,0.003338470822200179,0.0008946937741711736,0.004930261522531509,0.0069693634286522865,0.007012725342065096,0.008053653873503208,0.008096905425190926,0.008140156045556068,0.007186172064393759,0.007229533977806568,0.006275912746787071,0.004325611051172018,-0.0011111286003142595,0.002924759406596422,0.005961946211755276,0.007003091741353273,0.0080440454185009,0.008087296038866043,0.00813054759055376,0.007176538929343224,0.007219900842756033,0.006266254466027021,0.005312830209732056,-0.0006243905518203974,0.0029237885028123856,0.004963196348398924,0.0070021310821175575,0.008043087087571621,0.008086337707936764,0.008129589259624481,0.00717557780444622,0.00721893971785903,0.006265291478484869,0.005311864428222179,-0.0006253711180761456,0.0019336715340614319,0.003973151091486216,0.007009842433035374,0.00805077888071537,0.008094029501080513,0.0071399277076125145,0.007183289621025324,0.007226651068776846,0.006273022387176752,0.004322706256061792,-7.19192175893113e-05,0.002965652383863926,0.006002528592944145,0.0070435707457363605,0.008084421046078205,0.007130294572561979,0.007173656020313501,0.007217017933726311,0.00626336457207799,0.005309932865202427,-0.0010708021000027657,0.001966858049854636,0.005003882572054863,0.007042610086500645,0.007085971534252167,0.007129333447664976,0.0071726953610777855,0.006218928378075361,0.00626240111887455,0.004312030505388975,-0.0010629328899085522,0.0009768939344212413,0.00401394022628665,0.007050321437418461,0.00709368335083127,0.007137044798582792,0.007180406711995602,0.006226659752428532,0.006270132027566433,0.0033229144755750895,-3.071559694944881e-05,0.0020088276360183954,0.005045534111559391,0.007084049750119448,0.007127411663532257,0.0061735291965305805,0.006217001937329769,0.0062604742124676704,0.003313182620331645,-0.0010294949170202017,0.001010164269246161,0.004046959336847067,0.006085620261728764,0.006129093002527952,0.006172565743327141,0.006216038484126329,0.005262486170977354,0.0023152681533247232,-0.0010039262706413865,0.002033231081441045,0.0040722074918448925,0.00411590188741684,0.005156919825822115,0.006197685841470957,0.005244086496531963,0.003293718909844756,-0.000996057060547173,0.0010434344876557589,0.002084957202896476,0.003126288065686822,0.004167367238551378,0.004211061634123325,0.0042547560296952724,0.0013075972674414515,6.247548299143091e-05,0.0021015505772083998,0.002145466860383749,0.003186644520610571,0.003230449976399541,0.002277215477079153,-0.0009360697004012764,0.00010563537944108248,0.001147148315794766,0.002188409911468625,0.0022323261946439743,0.0002821874222718179,-0.000883951666764915,0.0001576228823978454,0.0011990051716566086,0.0002458988456055522,-0.0008318335167132318,-0.0007875845185481012,-0.0007885651430115104],\"type\":\"mesh3d\"}],                        {\"updatemenus\":[{\"buttons\":[{\"args\":[null,{\"frame\":{\"duration\":50,\"redraw\":true},\"transition\":{\"duration\":0},\"fromcurrent\":true,\"mode\":\"immediate\"}],\"label\":\"Play\",\"method\":\"animate\"}],\"pad\":{\"r\":10,\"t\":45},\"showactive\":false,\"type\":\"buttons\",\"x\":0.8,\"xanchor\":\"left\",\"y\":1,\"yanchor\":\"bottom\"}],\"template\":{\"data\":{\"histogram2dcontour\":[{\"type\":\"histogram2dcontour\",\"colorbar\":{\"outlinewidth\":0,\"ticks\":\"\"},\"colorscale\":[[0.0,\"#0d0887\"],[0.1111111111111111,\"#46039f\"],[0.2222222222222222,\"#7201a8\"],[0.3333333333333333,\"#9c179e\"],[0.4444444444444444,\"#bd3786\"],[0.5555555555555556,\"#d8576b\"],[0.6666666666666666,\"#ed7953\"],[0.7777777777777778,\"#fb9f3a\"],[0.8888888888888888,\"#fdca26\"],[1.0,\"#f0f921\"]]}],\"choropleth\":[{\"type\":\"choropleth\",\"colorbar\":{\"outlinewidth\":0,\"ticks\":\"\"}}],\"histogram2d\":[{\"type\":\"histogram2d\",\"colorbar\":{\"outlinewidth\":0,\"ticks\":\"\"},\"colorscale\":[[0.0,\"#0d0887\"],[0.1111111111111111,\"#46039f\"],[0.2222222222222222,\"#7201a8\"],[0.3333333333333333,\"#9c179e\"],[0.4444444444444444,\"#bd3786\"],[0.5555555555555556,\"#d8576b\"],[0.6666666666666666,\"#ed7953\"],[0.7777777777777778,\"#fb9f3a\"],[0.8888888888888888,\"#fdca26\"],[1.0,\"#f0f921\"]]}],\"heatmap\":[{\"type\":\"heatmap\",\"colorbar\":{\"outlinewidth\":0,\"ticks\":\"\"},\"colorscale\":[[0.0,\"#0d0887\"],[0.1111111111111111,\"#46039f\"],[0.2222222222222222,\"#7201a8\"],[0.3333333333333333,\"#9c179e\"],[0.4444444444444444,\"#bd3786\"],[0.5555555555555556,\"#d8576b\"],[0.6666666666666666,\"#ed7953\"],[0.7777777777777778,\"#fb9f3a\"],[0.8888888888888888,\"#fdca26\"],[1.0,\"#f0f921\"]]}],\"heatmapgl\":[{\"type\":\"heatmapgl\",\"colorbar\":{\"outlinewidth\":0,\"ticks\":\"\"},\"colorscale\":[[0.0,\"#0d0887\"],[0.1111111111111111,\"#46039f\"],[0.2222222222222222,\"#7201a8\"],[0.3333333333333333,\"#9c179e\"],[0.4444444444444444,\"#bd3786\"],[0.5555555555555556,\"#d8576b\"],[0.6666666666666666,\"#ed7953\"],[0.7777777777777778,\"#fb9f3a\"],[0.8888888888888888,\"#fdca26\"],[1.0,\"#f0f921\"]]}],\"contourcarpet\":[{\"type\":\"contourcarpet\",\"colorbar\":{\"outlinewidth\":0,\"ticks\":\"\"}}],\"contour\":[{\"type\":\"contour\",\"colorbar\":{\"outlinewidth\":0,\"ticks\":\"\"},\"colorscale\":[[0.0,\"#0d0887\"],[0.1111111111111111,\"#46039f\"],[0.2222222222222222,\"#7201a8\"],[0.3333333333333333,\"#9c179e\"],[0.4444444444444444,\"#bd3786\"],[0.5555555555555556,\"#d8576b\"],[0.6666666666666666,\"#ed7953\"],[0.7777777777777778,\"#fb9f3a\"],[0.8888888888888888,\"#fdca26\"],[1.0,\"#f0f921\"]]}],\"surface\":[{\"type\":\"surface\",\"colorbar\":{\"outlinewidth\":0,\"ticks\":\"\"},\"colorscale\":[[0.0,\"#0d0887\"],[0.1111111111111111,\"#46039f\"],[0.2222222222222222,\"#7201a8\"],[0.3333333333333333,\"#9c179e\"],[0.4444444444444444,\"#bd3786\"],[0.5555555555555556,\"#d8576b\"],[0.6666666666666666,\"#ed7953\"],[0.7777777777777778,\"#fb9f3a\"],[0.8888888888888888,\"#fdca26\"],[1.0,\"#f0f921\"]]}],\"mesh3d\":[{\"type\":\"mesh3d\",\"colorbar\":{\"outlinewidth\":0,\"ticks\":\"\"}}],\"scatter\":[{\"fillpattern\":{\"fillmode\":\"overlay\",\"size\":10,\"solidity\":0.2},\"type\":\"scatter\"}],\"parcoords\":[{\"type\":\"parcoords\",\"line\":{\"colorbar\":{\"outlinewidth\":0,\"ticks\":\"\"}}}],\"scatterpolargl\":[{\"type\":\"scatterpolargl\",\"marker\":{\"colorbar\":{\"outlinewidth\":0,\"ticks\":\"\"}}}],\"bar\":[{\"error_x\":{\"color\":\"#2a3f5f\"},\"error_y\":{\"color\":\"#2a3f5f\"},\"marker\":{\"line\":{\"color\":\"#E5ECF6\",\"width\":0.5},\"pattern\":{\"fillmode\":\"overlay\",\"size\":10,\"solidity\":0.2}},\"type\":\"bar\"}],\"scattergeo\":[{\"type\":\"scattergeo\",\"marker\":{\"colorbar\":{\"outlinewidth\":0,\"ticks\":\"\"}}}],\"scatterpolar\":[{\"type\":\"scatterpolar\",\"marker\":{\"colorbar\":{\"outlinewidth\":0,\"ticks\":\"\"}}}],\"histogram\":[{\"marker\":{\"pattern\":{\"fillmode\":\"overlay\",\"size\":10,\"solidity\":0.2}},\"type\":\"histogram\"}],\"scattergl\":[{\"type\":\"scattergl\",\"marker\":{\"colorbar\":{\"outlinewidth\":0,\"ticks\":\"\"}}}],\"scatter3d\":[{\"type\":\"scatter3d\",\"line\":{\"colorbar\":{\"outlinewidth\":0,\"ticks\":\"\"}},\"marker\":{\"colorbar\":{\"outlinewidth\":0,\"ticks\":\"\"}}}],\"scattermapbox\":[{\"type\":\"scattermapbox\",\"marker\":{\"colorbar\":{\"outlinewidth\":0,\"ticks\":\"\"}}}],\"scatterternary\":[{\"type\":\"scatterternary\",\"marker\":{\"colorbar\":{\"outlinewidth\":0,\"ticks\":\"\"}}}],\"scattercarpet\":[{\"type\":\"scattercarpet\",\"marker\":{\"colorbar\":{\"outlinewidth\":0,\"ticks\":\"\"}}}],\"carpet\":[{\"aaxis\":{\"endlinecolor\":\"#2a3f5f\",\"gridcolor\":\"white\",\"linecolor\":\"white\",\"minorgridcolor\":\"white\",\"startlinecolor\":\"#2a3f5f\"},\"baxis\":{\"endlinecolor\":\"#2a3f5f\",\"gridcolor\":\"white\",\"linecolor\":\"white\",\"minorgridcolor\":\"white\",\"startlinecolor\":\"#2a3f5f\"},\"type\":\"carpet\"}],\"table\":[{\"cells\":{\"fill\":{\"color\":\"#EBF0F8\"},\"line\":{\"color\":\"white\"}},\"header\":{\"fill\":{\"color\":\"#C8D4E3\"},\"line\":{\"color\":\"white\"}},\"type\":\"table\"}],\"barpolar\":[{\"marker\":{\"line\":{\"color\":\"#E5ECF6\",\"width\":0.5},\"pattern\":{\"fillmode\":\"overlay\",\"size\":10,\"solidity\":0.2}},\"type\":\"barpolar\"}],\"pie\":[{\"automargin\":true,\"type\":\"pie\"}]},\"layout\":{\"autotypenumbers\":\"strict\",\"colorway\":[\"#636efa\",\"#EF553B\",\"#00cc96\",\"#ab63fa\",\"#FFA15A\",\"#19d3f3\",\"#FF6692\",\"#B6E880\",\"#FF97FF\",\"#FECB52\"],\"font\":{\"color\":\"#2a3f5f\"},\"hovermode\":\"closest\",\"hoverlabel\":{\"align\":\"left\"},\"paper_bgcolor\":\"white\",\"plot_bgcolor\":\"#E5ECF6\",\"polar\":{\"bgcolor\":\"#E5ECF6\",\"angularaxis\":{\"gridcolor\":\"white\",\"linecolor\":\"white\",\"ticks\":\"\"},\"radialaxis\":{\"gridcolor\":\"white\",\"linecolor\":\"white\",\"ticks\":\"\"}},\"ternary\":{\"bgcolor\":\"#E5ECF6\",\"aaxis\":{\"gridcolor\":\"white\",\"linecolor\":\"white\",\"ticks\":\"\"},\"baxis\":{\"gridcolor\":\"white\",\"linecolor\":\"white\",\"ticks\":\"\"},\"caxis\":{\"gridcolor\":\"white\",\"linecolor\":\"white\",\"ticks\":\"\"}},\"coloraxis\":{\"colorbar\":{\"outlinewidth\":0,\"ticks\":\"\"}},\"colorscale\":{\"sequential\":[[0.0,\"#0d0887\"],[0.1111111111111111,\"#46039f\"],[0.2222222222222222,\"#7201a8\"],[0.3333333333333333,\"#9c179e\"],[0.4444444444444444,\"#bd3786\"],[0.5555555555555556,\"#d8576b\"],[0.6666666666666666,\"#ed7953\"],[0.7777777777777778,\"#fb9f3a\"],[0.8888888888888888,\"#fdca26\"],[1.0,\"#f0f921\"]],\"sequentialminus\":[[0.0,\"#0d0887\"],[0.1111111111111111,\"#46039f\"],[0.2222222222222222,\"#7201a8\"],[0.3333333333333333,\"#9c179e\"],[0.4444444444444444,\"#bd3786\"],[0.5555555555555556,\"#d8576b\"],[0.6666666666666666,\"#ed7953\"],[0.7777777777777778,\"#fb9f3a\"],[0.8888888888888888,\"#fdca26\"],[1.0,\"#f0f921\"]],\"diverging\":[[0,\"#8e0152\"],[0.1,\"#c51b7d\"],[0.2,\"#de77ae\"],[0.3,\"#f1b6da\"],[0.4,\"#fde0ef\"],[0.5,\"#f7f7f7\"],[0.6,\"#e6f5d0\"],[0.7,\"#b8e186\"],[0.8,\"#7fbc41\"],[0.9,\"#4d9221\"],[1,\"#276419\"]]},\"xaxis\":{\"gridcolor\":\"white\",\"linecolor\":\"white\",\"ticks\":\"\",\"title\":{\"standoff\":15},\"zerolinecolor\":\"white\",\"automargin\":true,\"zerolinewidth\":2},\"yaxis\":{\"gridcolor\":\"white\",\"linecolor\":\"white\",\"ticks\":\"\",\"title\":{\"standoff\":15},\"zerolinecolor\":\"white\",\"automargin\":true,\"zerolinewidth\":2},\"scene\":{\"xaxis\":{\"backgroundcolor\":\"#E5ECF6\",\"gridcolor\":\"white\",\"linecolor\":\"white\",\"showbackground\":true,\"ticks\":\"\",\"zerolinecolor\":\"white\",\"gridwidth\":2},\"yaxis\":{\"backgroundcolor\":\"#E5ECF6\",\"gridcolor\":\"white\",\"linecolor\":\"white\",\"showbackground\":true,\"ticks\":\"\",\"zerolinecolor\":\"white\",\"gridwidth\":2},\"zaxis\":{\"backgroundcolor\":\"#E5ECF6\",\"gridcolor\":\"white\",\"linecolor\":\"white\",\"showbackground\":true,\"ticks\":\"\",\"zerolinecolor\":\"white\",\"gridwidth\":2}},\"shapedefaults\":{\"line\":{\"color\":\"#2a3f5f\"}},\"annotationdefaults\":{\"arrowcolor\":\"#2a3f5f\",\"arrowhead\":0,\"arrowwidth\":1},\"geo\":{\"bgcolor\":\"white\",\"landcolor\":\"#E5ECF6\",\"subunitcolor\":\"white\",\"showland\":true,\"showlakes\":true,\"lakecolor\":\"white\"},\"title\":{\"x\":0.05},\"mapbox\":{\"style\":\"light\"}}}},                        {\"responsive\": true}                    ).then(function(){\n",
       "                            Plotly.addFrames('732fea68-f7ea-4c8d-99ed-f1836de8c60e', [{\"layout\":{\"scene\":{\"camera\":{\"eye\":{\"x\":1.25,\"y\":1.25,\"z\":0.8}}}}},{\"layout\":{\"scene\":{\"camera\":{\"eye\":{\"x\":1.3685469774060675,\"y\":1.1189634357889973,\"z\":0.8}}}}},{\"layout\":{\"scene\":{\"camera\":{\"eye\":{\"x\":1.4734198857953784,\"y\":0.9767465588077254,\"z\":0.8}}}}},{\"layout\":{\"scene\":{\"camera\":{\"eye\":{\"x\":1.5635708697336819,\"y\":0.824770353080333,\"z\":0.8}}}}},{\"layout\":{\"scene\":{\"camera\":{\"eye\":{\"x\":1.6380991703894194,\"y\":0.6645533146177932,\"z\":0.8}}}}},{\"layout\":{\"scene\":{\"camera\":{\"eye\":{\"x\":1.6962601256182197,\"y\":0.4976962791077122,\"z\":0.8}}}}},{\"layout\":{\"scene\":{\"camera\":{\"eye\":{\"x\":1.737472610380892,\"y\":0.32586642689330336,\"z\":0.8}}}}},{\"layout\":{\"scene\":{\"camera\":{\"eye\":{\"x\":1.7613248431527242,\"y\":0.15078062505849654,\"z\":0.8}}}}},{\"layout\":{\"scene\":{\"camera\":{\"eye\":{\"x\":1.7675785003083602,\"y\":-0.025811726940446755,\"z\":0.8}}}}},{\"layout\":{\"scene\":{\"camera\":{\"eye\":{\"x\":1.7561710973726847,\"y\":-0.20214617669602375,\"z\":0.8}}}}},{\"layout\":{\"scene\":{\"camera\":{\"eye\":{\"x\":1.7272166133450453,\"y\":-0.376460848674696,\"z\":0.8}}}}},{\"layout\":{\"scene\":{\"camera\":{\"eye\":{\"x\":1.6810043518587658,\"y\":-0.5470140482948226,\"z\":0.8}}}}},{\"layout\":{\"scene\":{\"camera\":{\"eye\":{\"x\":1.6179960505548747,\"y\":-0.7121016643631912,\"z\":0.8}}}}},{\"layout\":{\"scene\":{\"camera\":{\"eye\":{\"x\":1.5388212675522255,\"y\":-0.870074195990757,\"z\":0.8}}}}},{\"layout\":{\"scene\":{\"camera\":{\"eye\":{\"x\":1.4442710911108763,\"y\":-1.0193532338602744,\"z\":0.8}}}}},{\"layout\":{\"scene\":{\"camera\":{\"eye\":{\"x\":1.3352902353396967,\"y\":-1.1584472311704395,\"z\":0.8}}}}},{\"layout\":{\"scene\":{\"camera\":{\"eye\":{\"x\":1.2129676009252703,\"y\":-1.2859664066784924,\"z\":0.8}}}}},{\"layout\":{\"scene\":{\"camera\":{\"eye\":{\"x\":1.0785253951961797,\"y\":-1.4006366309349918,\"z\":0.8}}}}},{\"layout\":{\"scene\":{\"camera\":{\"eye\":{\"x\":0.9333069202313851,\"y\":-1.5013121569641028,\"z\":0.8}}}}},{\"layout\":{\"scene\":{\"camera\":{\"eye\":{\"x\":0.7787631510298885,\"y\":-1.5869870681886475,\"z\":0.8}}}}},{\"layout\":{\"scene\":{\"camera\":{\"eye\":{\"x\":0.6164382378481742,\"y\":-1.6568053292160303,\"z\":0.8}}}}},{\"layout\":{\"scene\":{\"camera\":{\"eye\":{\"x\":0.44795407756127026,\"y\":-1.710069339060914,\"z\":0.8}}}}},{\"layout\":{\"scene\":{\"camera\":{\"eye\":{\"x\":0.27499410820530534,\"y\":-1.7462469013436699,\"z\":0.8}}}}},{\"layout\":{\"scene\":{\"camera\":{\"eye\":{\"x\":0.09928648862111944,\"y\":-1.7649765418206806,\"z\":0.8}}}}},{\"layout\":{\"scene\":{\"camera\":{\"eye\":{\"x\":-0.07741316873761894,\"y\":-1.7660711201154955,\"z\":0.8}}}}},{\"layout\":{\"scene\":{\"camera\":{\"eye\":{\"x\":-0.25333933930372143,\"y\":-1.7495196995636126,\"z\":0.8}}}}},{\"layout\":{\"scene\":{\"camera\":{\"eye\":{\"x\":-0.4267342269343539,\"y\":-1.7154876564880144,\"z\":0.8}}}}},{\"layout\":{\"scene\":{\"camera\":{\"eye\":{\"x\":-0.5958653272290393,\"y\":-1.6643150278136138,\"z\":0.8}}}}},{\"layout\":{\"scene\":{\"camera\":{\"eye\":{\"x\":-0.7590427381409421,\"y\":-1.5965131135307038,\"z\":0.8}}}}},{\"layout\":{\"scene\":{\"camera\":{\"eye\":{\"x\":-0.9146360449195108,\"y\":-1.5127593679544658,\"z\":0.8}}}}},{\"layout\":{\"scene\":{\"camera\":{\"eye\":{\"x\":-1.0610906106757227,\"y\":-1.4138906308253907,\"z\":0.8}}}}},{\"layout\":{\"scene\":{\"camera\":{\"eye\":{\"x\":-1.196943109799986,\"y\":-1.3008947658832124,\"z\":0.8}}}}},{\"layout\":{\"scene\":{\"camera\":{\"eye\":{\"x\":-1.3208361490279166,\"y\":-1.1749007904589663,\"z\":0.8}}}}},{\"layout\":{\"scene\":{\"camera\":{\"eye\":{\"x\":-1.431531830065142,\"y\":-1.0371675947070202,\"z\":0.8}}}}},{\"layout\":{\"scene\":{\"camera\":{\"eye\":{\"x\":-1.5279241182578656,\"y\":-0.8890713631907865,\"z\":0.8}}}}},{\"layout\":{\"scene\":{\"camera\":{\"eye\":{\"x\":-1.6090498937255202,\"y\":-0.7320918245014705,\"z\":0.8}}}}},{\"layout\":{\"scene\":{\"camera\":{\"eye\":{\"x\":-1.6740985745362496,\"y\":-0.5677974662991182,\"z\":0.8}}}}},{\"layout\":{\"scene\":{\"camera\":{\"eye\":{\"x\":-1.7224202157736266,\"y\":-0.39782986350239324,\"z\":0.8}}}}},{\"layout\":{\"scene\":{\"camera\":{\"eye\":{\"x\":-1.7535320035714197,\"y\":-0.22388727621462157,\"z\":0.8}}}}},{\"layout\":{\"scene\":{\"camera\":{\"eye\":{\"x\":-1.7671230792301427,\"y\":-0.04770768127020719,\"z\":0.8}}}}},{\"layout\":{\"scene\":{\"camera\":{\"eye\":{\"x\":-1.7630576452144253,\"y\":0.1289485930553954,\"z\":0.8}}}}},{\"layout\":{\"scene\":{\"camera\":{\"eye\":{\"x\":-1.741376321997099,\"y\":0.30431645566392784,\"z\":0.8}}}}},{\"layout\":{\"scene\":{\"camera\":{\"eye\":{\"x\":-1.7022957421928595,\"y\":0.47664368884111097,\"z\":0.8}}}}},{\"layout\":{\"scene\":{\"camera\":{\"eye\":{\"x\":-1.646206386036788,\"y\":0.6442084558368493,\"z\":0.8}}}}},{\"layout\":{\"scene\":{\"camera\":{\"eye\":{\"x\":-1.573668679834919,\"y\":0.8053365048888708,\"z\":0.8}}}}},{\"layout\":{\"scene\":{\"camera\":{\"eye\":{\"x\":-1.4854073963698458,\"y\":0.9584178977928967,\"z\":0.8}}}}},{\"layout\":{\"scene\":{\"camera\":{\"eye\":{\"x\":-1.3823044132106481,\"y\":1.101923095873013,\"z\":0.8}}}}},{\"layout\":{\"scene\":{\"camera\":{\"eye\":{\"x\":-1.2653899012837393,\"y\":1.2344182426265127,\"z\":0.8}}}}},{\"layout\":{\"scene\":{\"camera\":{\"eye\":{\"x\":-1.1358320317454915,\"y\":1.3545794903441097,\"z\":0.8}}}}},{\"layout\":{\"scene\":{\"camera\":{\"eye\":{\"x\":-0.9949253040021958,\"y\":1.4612062275586353,\"z\":0.8}}}}},{\"layout\":{\"scene\":{\"camera\":{\"eye\":{\"x\":-0.8440776114998902,\"y\":1.553233075157956,\"z\":0.8}}}}},{\"layout\":{\"scene\":{\"camera\":{\"eye\":{\"x\":-0.6847961745184389,\"y\":1.6297405313008917,\"z\":0.8}}}}},{\"layout\":{\"scene\":{\"camera\":{\"eye\":{\"x\":-0.5186724805247199,\"y\":1.6899641587756626,\"z\":0.8}}}}},{\"layout\":{\"scene\":{\"camera\":{\"eye\":{\"x\":-0.347366382555924,\"y\":1.733302223003828,\"z\":0.8}}}}},{\"layout\":{\"scene\":{\"camera\":{\"eye\":{\"x\":-0.17258951451669058,\"y\":1.7593217043732774,\"z\":0.8}}}}},{\"layout\":{\"scene\":{\"camera\":{\"eye\":{\"x\":0.0039118109010850555,\"y\":1.767762624827065,\"z\":0.8}}}}},{\"layout\":{\"scene\":{\"camera\":{\"eye\":{\"x\":0.18037405079741164,\"y\":1.7585406454782138,\"z\":0.8}}}}},{\"layout\":{\"scene\":{\"camera\":{\"eye\":{\"x\":0.3550340528019027,\"y\":1.7317479092959966,\"z\":0.8}}}}},{\"layout\":{\"scene\":{\"camera\":{\"eye\":{\"x\":0.5261466719094534,\"y\":1.6876521204438448,\"z\":0.8}}}}},{\"layout\":{\"scene\":{\"camera\":{\"eye\":{\"x\":0.6920022073922499,\"y\":1.62669386946784,\"z\":0.8}}}}},{\"layout\":{\"scene\":{\"camera\":{\"eye\":{\"x\":0.8509434855643001,\"y\":1.5494822310616148,\"z\":0.8}}}}},{\"layout\":{\"scene\":{\"camera\":{\"eye\":{\"x\":1.001382417713112,\"y\":1.4567886783933495,\"z\":0.8}}}}},{\"layout\":{\"scene\":{\"camera\":{\"eye\":{\"x\":1.1418158677571515,\"y\":1.3495393748008924,\"z\":0.8}}}}},{\"layout\":{\"scene\":{\"camera\":{\"eye\":{\"x\":1.270840671084707,\"y\":1.2288059198738308,\"z\":0.8}}}}},{\"layout\":{\"scene\":{\"camera\":{\"eye\":{\"x\":1.3871676545108578,\"y\":1.0957946423846239,\"z\":0.8}}}}},{\"layout\":{\"scene\":{\"camera\":{\"eye\":{\"x\":1.4896345172697987,\"y\":0.9518345470502599,\"z\":0.8}}}}},{\"layout\":{\"scene\":{\"camera\":{\"eye\":{\"x\":1.577217444339885,\"y\":0.7983640355564382,\"z\":0.8}}}}},{\"layout\":{\"scene\":{\"camera\":{\"eye\":{\"x\":1.6490413360648972,\"y\":0.6369165345234014,\"z\":0.8}}}}},{\"layout\":{\"scene\":{\"camera\":{\"eye\":{\"x\":1.7043885518605422,\"y\":0.46910517401401974,\"z\":0.8}}}}},{\"layout\":{\"scene\":{\"camera\":{\"eye\":{\"x\":1.742706080641946,\"y\":0.2966066696714459,\"z\":0.8}}}}},{\"layout\":{\"scene\":{\"camera\":{\"eye\":{\"x\":1.7636110663276172,\"y\":0.12114456953064445,\"z\":0.8}}}}},{\"layout\":{\"scene\":{\"camera\":{\"eye\":{\"x\":1.766894633210853,\"y\":-0.05552796710383823,\"z\":0.8}}}}},{\"layout\":{\"scene\":{\"camera\":{\"eye\":{\"x\":1.7525239729767597,\"y\":-0.23164568664612328,\"z\":0.8}}}}},{\"layout\":{\"scene\":{\"camera\":{\"eye\":{\"x\":1.7206426725120867,\"y\":-0.4054488790593255,\"z\":0.8}}}}},{\"layout\":{\"scene\":{\"camera\":{\"eye\":{\"x\":1.6715692792325216,\"y\":-0.5752009602965458,\"z\":0.8}}}}},{\"layout\":{\"scene\":{\"camera\":{\"eye\":{\"x\":1.605794118262206,\"y\":-0.7392058236746413,\"z\":0.8}}}}},{\"layout\":{\"scene\":{\"camera\":{\"eye\":{\"x\":1.5239743932671765,\"y\":-0.8958247868115395,\"z\":0.8}}}}},{\"layout\":{\"scene\":{\"camera\":{\"eye\":{\"x\":1.426927619893581,\"y\":-1.04349296479892,\"z\":0.8}}}}},{\"layout\":{\"scene\":{\"camera\":{\"eye\":{\"x\":1.3156234574215673,\"y\":-1.180734906014945,\"z\":0.8}}}}},{\"layout\":{\"scene\":{\"camera\":{\"eye\":{\"x\":1.1911740202502938,\"y\":-1.3061793343491364,\"z\":0.8}}}}},{\"layout\":{\"scene\":{\"camera\":{\"eye\":{\"x\":1.0548227660184604,\"y\":-1.4185728505399942,\"z\":0.8}}}}},{\"layout\":{\"scene\":{\"camera\":{\"eye\":{\"x\":0.9079320713866189,\"y\":-1.5167924557260966,\"z\":0.8}}}}},{\"layout\":{\"scene\":{\"camera\":{\"eye\":{\"x\":0.7519696196199205,\"y\":-1.599856772079511,\"z\":0.8}}}}},{\"layout\":{\"scene\":{\"camera\":{\"eye\":{\"x\":0.5884937359820905,\"y\":-1.6669358484086425,\"z\":0.8}}}}},{\"layout\":{\"scene\":{\"camera\":{\"eye\":{\"x\":0.41913781746449363,\"y\":-1.7173594527562077,\"z\":0.8}}}}},{\"layout\":{\"scene\":{\"camera\":{\"eye\":{\"x\":0.24559401242333323,\"y\":-1.7506237691353923,\"z\":0.8}}}}},{\"layout\":{\"scene\":{\"camera\":{\"eye\":{\"x\":0.06959631319262605,\"y\":-1.7663964314926572,\"z\":0.8}}}}},{\"layout\":{\"scene\":{\"camera\":{\"eye\":{\"x\":-0.10709676939402235,\"y\":-1.7645198445994774,\"z\":0.8}}}}},{\"layout\":{\"scene\":{\"camera\":{\"eye\":{\"x\":-0.2827197764623679,\"y\":-1.745012758691772,\"z\":0.8}}}}},{\"layout\":{\"scene\":{\"camera\":{\"eye\":{\"x\":-0.45551794097903464,\"y\":-1.7080700821237462,\"z\":0.8}}}}},{\"layout\":{\"scene\":{\"camera\":{\"eye\":{\"x\":-0.6237647208036504,\"y\":-1.6540609339080419,\"z\":0.8}}}}},{\"layout\":{\"scene\":{\"camera\":{\"eye\":{\"x\":-0.7857790497271997,\"y\":-1.58352495560058,\"z\":0.8}}}}},{\"layout\":{\"scene\":{\"camera\":{\"eye\":{\"x\":-0.9399421341298975,\"y\":-1.4971669193805124,\"z\":0.8}}}}},{\"layout\":{\"scene\":{\"camera\":{\"eye\":{\"x\":-1.0847136274319271,\"y\":-1.3958496861995813,\"z\":0.8}}}}},{\"layout\":{\"scene\":{\"camera\":{\"eye\":{\"x\":-1.218647020727311,\"y\":-1.2805855843607052,\"z\":0.8}}}}},{\"layout\":{\"scene\":{\"camera\":{\"eye\":{\"x\":-1.3404040958227346,\"y\":-1.1525262946682115,\"z\":0.8}}}}},{\"layout\":{\"scene\":{\"camera\":{\"eye\":{\"x\":-1.448768296271385,\"y\":-1.0129513432139317,\"z\":0.8}}}}},{\"layout\":{\"scene\":{\"camera\":{\"eye\":{\"x\":-1.5426568828028173,\"y\":-0.8632553167754569,\"z\":0.8}}}}},{\"layout\":{\"scene\":{\"camera\":{\"eye\":{\"x\":-1.6211317516958519,\"y\":-0.7049339285660311,\"z\":0.8}}}}},{\"layout\":{\"scene\":{\"camera\":{\"eye\":{\"x\":-1.6834088080008527,\"y\":-0.5395690735625494,\"z\":0.8}}}}},{\"layout\":{\"scene\":{\"camera\":{\"eye\":{\"x\":-1.7288657999572776,\"y\":-0.3688130227338533,\"z\":0.8}}}}},{\"layout\":{\"scene\":{\"camera\":{\"eye\":{\"x\":-1.7570485363275825,\"y\":-0.1943719140953739,\"z\":0.8}}}}},{\"layout\":{\"scene\":{\"camera\":{\"eye\":{\"x\":-1.7676754245259283,\"y\":-0.017988705542069106,\"z\":0.8}}}}}]);\n",
       "                        }).then(function(){\n",
       "                            \n",
       "var gd = document.getElementById('732fea68-f7ea-4c8d-99ed-f1836de8c60e');\n",
       "var x = new MutationObserver(function (mutations, observer) {{\n",
       "        var display = window.getComputedStyle(gd).display;\n",
       "        if (!display || display === 'none') {{\n",
       "            console.log([gd, 'removed!']);\n",
       "            Plotly.purge(gd);\n",
       "            observer.disconnect();\n",
       "        }}\n",
       "}});\n",
       "\n",
       "// Listen for the removal of the full notebook cells\n",
       "var notebookContainer = gd.closest('#notebook-container');\n",
       "if (notebookContainer) {{\n",
       "    x.observe(notebookContainer, {childList: true});\n",
       "}}\n",
       "\n",
       "// Listen for the clearing of the current output cell\n",
       "var outputEl = gd.closest('.output');\n",
       "if (outputEl) {{\n",
       "    x.observe(outputEl, {childList: true});\n",
       "}}\n",
       "\n",
       "                        })                };                });            </script>        </div>"
      ]
     },
     "metadata": {},
     "output_type": "display_data"
    }
   ],
   "source": [
    "x,y,z = xyz[:,0], xyz[:,1], xyz[:,2]\n",
    "visualize_rotate([go.Mesh3d(x=x, y=y, z=z, color='lightpink', opacity=0.50)]).show()"
   ]
  },
  {
   "cell_type": "code",
   "execution_count": 8,
   "id": "fcd4320d",
   "metadata": {
    "scrolled": true
   },
   "outputs": [
    {
     "data": {
      "application/vnd.plotly.v1+json": {
       "config": {
        "plotlyServerURL": "https://plot.ly"
       },
       "data": [
        {
         "mode": "markers",
         "type": "scatter3d",
         "x": [
          0.3728894591331482,
          0.3728436827659607,
          0.37357214093208313,
          0.37372514605522156,
          0.3735487759113312,
          0.37436115741729736,
          0.3745102286338806,
          0.3744974732398987,
          0.37432152032852173,
          0.373816579580307,
          0.37513411045074463,
          0.375442236661911,
          0.37542882561683655,
          0.37509122490882874,
          0.3745897710323334,
          0.3757619559764862,
          0.3760637044906616,
          0.37620797753334045,
          0.3760329484939575,
          0.3758578896522522,
          0.3753599226474762,
          0.3767082393169403,
          0.3766891062259674,
          0.37682899832725525,
          0.37697067856788635,
          0.37679606676101685,
          0.37662145495414734,
          0.3761270046234131,
          0.37745991349220276,
          0.37743890285491943,
          0.3775750398635864,
          0.3777129650115967,
          0.3775383532047272,
          0.3775213360786438,
          0.37718909978866577,
          0.3766975402832031,
          0.37829455733299255,
          0.37827226519584656,
          0.37840545177459717,
          0.37838539481163025,
          0.3783662021160126,
          0.3781920373439789,
          0.3780178725719452,
          0.37768691778182983,
          0.37892794609069824,
          0.379055380821228,
          0.3790320158004761,
          0.37916257977485657,
          0.3791414201259613,
          0.3789672553539276,
          0.3789474368095398,
          0.37861892580986023,
          0.37828949093818665,
          0.3796088993549347,
          0.37988337874412537,
          0.37985873222351074,
          0.37983500957489014,
          0.3798121511936188,
          0.37979018688201904,
          0.37961646914482117,
          0.3794427216053009,
          0.3789619207382202,
          0.3780174255371094,
          0.38051605224609375,
          0.38063791394233704,
          0.38061219453811646,
          0.3805873692035675,
          0.3805634379386902,
          0.3803897202014923,
          0.38021597266197205,
          0.38004225492477417,
          0.379564493894577,
          0.3787800967693329,
          0.3811935782432556,
          0.38145923614501953,
          0.38128462433815,
          0.381258100271225,
          0.38123244047164917,
          0.3810587227344513,
          0.38088497519493103,
          0.38071125745773315,
          0.38038724660873413,
          0.37976083159446716,
          0.3817613422870636,
          0.3820211887359619,
          0.3819919526576996,
          0.3819636404514313,
          0.3819361925125122,
          0.38176247477531433,
          0.38158875703811646,
          0.3814150094985962,
          0.3812412917613983,
          0.38076967000961304,
          0.37984809279441833,
          0.38265693187713623,
          0.3827691674232483,
          0.38273885846138,
          0.38270944356918335,
          0.3825357258319855,
          0.38250765204429626,
          0.3823343515396118,
          0.38201454281806946,
          0.3818408250808716,
          0.38137224316596985,
          0.38287222385406494,
          0.3834044635295868,
          0.38351407647132874,
          0.3834826946258545,
          0.3833089768886566,
          0.38327890634536743,
          0.38310563564300537,
          0.3829323351383209,
          0.38261404633522034,
          0.38244032859802246,
          0.3818289339542389,
          0.3836592733860016,
          0.3841838538646698,
          0.384149968624115,
          0.3841169774532318,
          0.38394322991371155,
          0.3839115500450134,
          0.38373827934265137,
          0.3835650086402893,
          0.38324832916259766,
          0.3830746114253998,
          0.38261231780052185,
          0.384443074464798,
          0.384821355342865,
          0.38478586077690125,
          0.38475123047828674,
          0.38471749424934387,
          0.3845442235469818,
          0.38437092304229736,
          0.3841976523399353,
          0.38402435183525085,
          0.3837088644504547,
          0.38324981927871704,
          0.38235974311828613,
          0.38552871346473694,
          0.38549140095710754,
          0.3854549825191498,
          0.38541945815086365,
          0.3852461576461792,
          0.38507288694381714,
          0.3848995864391327,
          0.38472631573677063,
          0.38441261649131775,
          0.38409802317619324,
          0.38349995017051697,
          0.38596591353416443,
          0.38619697093963623,
          0.3861587345600128,
          0.38598501682281494,
          0.38594815135002136,
          0.3857748508453369,
          0.38560158014297485,
          0.3854282796382904,
          0.38525500893592834,
          0.3849426507949829,
          0.38448992371559143,
          0.3863123655319214,
          0.3868037164211273,
          0.38676318526268005,
          0.38672351837158203,
          0.38668474555015564,
          0.3865114748477936,
          0.38647404313087463,
          0.386301189661026,
          0.3859916031360626,
          0.38581833243370056,
          0.3855074346065521,
          0.38478145003318787,
          0.38715073466300964,
          0.38750356435775757,
          0.3874620199203491,
          0.38728830218315125,
          0.38724809885025024,
          0.3872087597846985,
          0.38703593611717224,
          0.3868630826473236,
          0.3865549564361572,
          0.3862459361553192,
          0.38593602180480957,
          0.3850787281990051,
          0.3879833221435547,
          0.3880697786808014,
          0.38802680373191833,
          0.3879847228527069,
          0.38781142234802246,
          0.3877706527709961,
          0.38759782910346985,
          0.3874249756336212,
          0.38711827993392944,
          0.38681069016456604,
          0.3863674998283386,
          0.38824915885925293,
          0.3887162208557129,
          0.38867083191871643,
          0.3886263072490692,
          0.388582706451416,
          0.38853996992111206,
          0.3883671164512634,
          0.3881942927837372,
          0.38802143931388855,
          0.38771626353263855,
          0.3874102234840393,
          0.38683685660362244,
          0.38898617029190063,
          0.38944604992866516,
          0.38927188515663147,
          0.3892258405685425,
          0.3891806900501251,
          0.3891364336013794,
          0.38896358013153076,
          0.3887907564640045,
          0.3886179029941559,
          0.38831427693367004,
          0.3880097568035126,
          0.3873092830181122,
          0.38975533843040466,
          0.3900819420814514,
          0.3900338411331177,
          0.3898600935935974,
          0.3898133337497711,
          0.38976746797561646,
          0.3895946145057678,
          0.3895500600337982,
          0.38924893736839294,
          0.38894692063331604,
          0.3886440098285675,
          0.38795003294944763,
          0.39039769768714905,
          0.3907178044319153,
          0.3906680941581726,
          0.39049437642097473,
          0.3904459774494171,
          0.3903985023498535,
          0.3903518617153168,
          0.39017948508262634,
          0.38987997174263,
          0.38957956433296204,
          0.38927826285362244,
          0.38871920108795166,
          0.39104005694389343,
          0.39135369658470154,
          0.3913023769855499,
          0.39112862944602966,
          0.3910786211490631,
          0.3910295069217682,
          0.3909812867641449,
          0.3908088803291321,
          0.39051100611686707,
          0.39021220803260803,
          0.38991254568099976,
          0.3893583416938782,
          0.391477108001709,
          0.39190372824668884,
          0.39185023307800293,
          0.39179766178131104,
          0.391745924949646,
          0.391695111989975,
          0.3916451632976532,
          0.39147278666496277,
          0.39130038022994995,
          0.3908795118331909,
          0.39058154821395874,
          0.3901575803756714,
          0.3893551528453827,
          0.3925761580467224,
          0.3925209641456604,
          0.39246666431427,
          0.3924132287502289,
          0.39236071705818176,
          0.3923090696334839,
          0.39213666319847107,
          0.39196428656578064,
          0.3916693329811096,
          0.39137354493141174,
          0.3909534215927124,
          0.3901599645614624,
          0.3931313157081604,
          0.39319169521331787,
          0.393135666847229,
          0.39308056235313416,
          0.39302632212638855,
          0.3929729759693146,
          0.39280056953430176,
          0.39262816309928894,
          0.3923349380493164,
          0.39204084873199463,
          0.3916241526603699,
          0.3909613788127899,
          0.3935742974281311,
          0.39386239647865295,
          0.3938046991825104,
          0.39374786615371704,
          0.39369192719459534,
          0.3936368525028229,
          0.39346444606781006,
          0.39329206943511963,
          0.3930005431175232,
          0.3927081525325775,
          0.3924148678779602,
          0.39175936579704285,
          0.394137978553772,
          0.3945331275463104,
          0.39447370171546936,
          0.3944151699542999,
          0.39435750246047974,
          0.39430075883865356,
          0.39412835240364075,
          0.39395594596862793,
          0.39366614818573,
          0.3933754563331604,
          0.3930838704109192,
          0.3925539255142212,
          0.3948590159416199,
          0.39513418078422546,
          0.39507320523262024,
          0.39501315355300903,
          0.39495396614074707,
          0.39489567279815674,
          0.3947232663631439,
          0.3945508897304535,
          0.3942626118659973,
          0.3939734399318695,
          0.39368337392807007,
          0.39315804839134216,
          0.39557698369026184,
          0.3957352340221405,
          0.3956727385520935,
          0.39561113715171814,
          0.3956630229949951,
          0.3954906165599823,
          0.3953182101249695,
          0.39514580368995667,
          0.39485907554626465,
          0.3945714235305786,
          0.39428290724754333,
          0.39353078603744507,
          0.3962918817996979,
          0.39644598960876465,
          0.3963824212551117,
          0.39631974697113037,
          0.3962579369544983,
          0.3960855305194855,
          0.39591315388679504,
          0.3957407474517822,
          0.395455539226532,
          0.3951694071292877,
          0.39476871490478516,
          0.3940238058567047,
          0.39689600467681885,
          0.3970454931259155,
          0.3969804048538208,
          0.3969162106513977,
          0.39685288071632385,
          0.39668047428131104,
          0.3965080678462982,
          0.3963356614112854,
          0.3960520029067993,
          0.3957674205303192,
          0.3952575922012329,
          0.39732256531715393,
          0.3976777195930481,
          0.39761027693748474,
          0.397543728351593,
          0.3975857198238373,
          0.39741331338882446,
          0.39724093675613403,
          0.3970685303211212,
          0.39678671956062317,
          0.3965040147304535,
          0.39622044563293457,
          0.39571452140808105,
          0.39810484647750854,
          0.3982439339160919,
          0.3982803523540497,
          0.39821282029151917,
          0.3981461822986603,
          0.39797377586364746,
          0.39780136942863464,
          0.3976289927959442,
          0.3973486125469208,
          0.3970673680305481,
          0.3966763913631439,
          0.39595574140548706,
          0.3988133668899536,
          0.3989483118057251,
          0.3988783657550812,
          0.3988092839717865,
          0.39874109625816345,
          0.398568719625473,
          0.3983963131904602,
          0.3982239067554474,
          0.3979450762271881,
          0.3976653516292572,
          0.3972774147987366,
          0.39645665884017944,
          0.3994174599647522,
          0.399547815322876,
          0.3994763493537903,
          0.39940574765205383,
          0.399336040019989,
          0.3991636335849762,
          0.39899125695228577,
          0.39881885051727295,
          0.39854153990745544,
          0.3981580138206482,
          0.3977726697921753,
          0.39976370334625244,
          0.4001864194869995,
          0.40021297335624695,
          0.4001404941082001,
          0.40006887912750244,
          0.399896502494812,
          0.3997240960597992,
          0.3995516896247864,
          0.3992762863636017,
          0.398999959230423,
          0.398722767829895,
          0.3980272710323334,
          0.40069571137428284,
          0.4008163511753082,
          0.4007416367530823,
          0.40066781640052795,
          0.4005948603153229,
          0.40052279829978943,
          0.40025007724761963,
          0.4000776708126068,
          0.39980360865592957,
          0.39942651987075806,
          0.3990476727485657,
          0.40111586451530457,
          0.4014233350753784,
          0.40144360065460205,
          0.40136799216270447,
          0.40129324793815613,
          0.4012193977832794,
          0.4009484350681305,
          0.4007760286331177,
          0.4005037546157837,
          0.40023061633110046,
          0.3998557925224304,
          0.401700496673584,
          0.40199899673461914,
          0.4020153880119324,
          0.4019376337528229,
          0.40195712447166443,
          0.4018815755844116,
          0.4017096161842346,
          0.40143993496894836,
          0.4011693596839905,
          0.40089792013168335,
          0.4006255567073822,
          0.399854838848114,
          0.40263649821281433,
          0.4026496708393097,
          0.40257027745246887,
          0.40258654952049255,
          0.4025093615055084,
          0.4023374021053314,
          0.4020693600177765,
          0.40180039405822754,
          0.40153056383132935,
          0.4012598395347595,
          0.4004988372325897,
          0.4032739996910095,
          0.4032839238643646,
          0.40320292115211487,
          0.4032159447669983,
          0.4031371474266052,
          0.40287116169929504,
          0.4026987552642822,
          0.4024314284324646,
          0.40216320753097534,
          0.401798278093338,
          0.40114280581474304,
          0.4039115011692047,
          0.40391820669174194,
          0.40383556485176086,
          0.4038453698158264,
          0.4036729633808136,
          0.4035005569458008,
          0.40332818031311035,
          0.40306246280670166,
          0.40279585123062134,
          0.40243417024612427,
          0.40178677439689636,
          0.4045490026473999,
          0.4045524597167969,
          0.40446820855140686,
          0.40447476506233215,
          0.4043023884296417,
          0.4041299819946289,
          0.4039575755596161,
          0.4036934971809387,
          0.40342849493026733,
          0.4030700623989105,
          0.4024307429790497,
          0.4051865041255951,
          0.4051867425441742,
          0.40510085225105286,
          0.4051041901111603,
          0.40493178367614746,
          0.40475937724113464,
          0.4045870006084442,
          0.4043245315551758,
          0.40406113862991333,
          0.4037059247493744,
          0.403074711561203,
          0.4058240056037903,
          0.4058209955692291,
          0.40573349595069885,
          0.4057336151599884,
          0.4055612087249756,
          0.40538880228996277,
          0.40521639585494995,
          0.40495553612709045,
          0.4046938121318817,
          0.40434181690216064,
          0.40618425607681274,
          0.4065104126930237,
          0.40642049908638,
          0.40633150935173035,
          0.4063285291194916,
          0.40615612268447876,
          0.40598374605178833,
          0.4057248532772064,
          0.4055519998073578,
          0.4052917957305908,
          0.4049428701400757,
          0.4068763554096222,
          0.4071114659309387,
          0.4071027636528015,
          0.4070126712322235,
          0.40692347288131714,
          0.4067510664463043,
          0.4065786600112915,
          0.40632131695747375,
          0.4060630798339844,
          0.40580394864082336,
          0.4053713381290436,
          0.4075653851032257,
          0.40771251916885376,
          0.407700777053833,
          0.40760913491249084,
          0.4075183868408203,
          0.4073460102081299,
          0.40709060430526733,
          0.4069177806377411,
          0.4066610634326935,
          0.40640345215797424,
          0.40589070320129395,
          0.4082513451576233,
          0.4083928167819977,
          0.4082987606525421,
          0.4082055985927582,
          0.40803274512290955,
          0.4078599214553833,
          0.40768706798553467,
          0.4075142443180084,
          0.4072590470314026,
          0.4070029854774475,
          0.40641310811042786,
          0.40893423557281494,
          0.40899232029914856,
          0.4088967442512512,
          0.4088020622730255,
          0.4086292088031769,
          0.40845638513565063,
          0.408283531665802,
          0.40811070799827576,
          0.4078570306301117,
          0.40752124786376953,
          0.40685686469078064,
          0.40957337617874146,
          0.4096266031265259,
          0.4095293879508972,
          0.4094330966472626,
          0.40926024317741394,
          0.4090874195098877,
          0.40891456604003906,
          0.40874171257019043,
          0.4084896743297577,
          0.4081571400165558,
          0.4075024724006653,
          0.41025158762931824,
          0.41022610664367676,
          0.4101274013519287,
          0.4100295603275299,
          0.4098567068576813,
          0.40968388319015503,
          0.4095110297203064,
          0.40926095843315125,
          0.4090876877307892,
          0.40875816345214844,
          0.4106680452823639,
          0.4109267592430115,
          0.4108986556529999,
          0.4107988476753235,
          0.41062602400779724,
          0.4104531705379486,
          0.41028034687042236,
          0.41010749340057373,
          0.40985894203186035,
          0.40960952639579773,
          0.4092060625553131,
          0.4113488793373108,
          0.4115278124809265,
          0.41149666905403137,
          0.4113953113555908,
          0.4112224876880646,
          0.41104963421821594,
          0.4108767807483673,
          0.41070395708084106,
          0.41045695543289185,
          0.410209059715271,
          0.4098101854324341,
          0.41202667355537415,
          0.41212886571884155,
          0.4120946526527405,
          0.41199177503585815,
          0.4118189513683319,
          0.4116460978984833,
          0.41147324442863464,
          0.4113004207611084,
          0.41105493903160095,
          0.4108085632324219,
          0.4103407561779022,
          0.41270139813423157,
          0.4127979278564453,
          0.4126926362514496,
          0.4125882387161255,
          0.412484735250473,
          0.4123123288154602,
          0.412069708108902,
          0.4118262231349945,
          0.41165292263031006,
          0.4113365411758423,
          0.4108743965625763,
          0.41337308287620544,
          0.4133974313735962,
          0.4132906198501587,
          0.4131847023963928,
          0.4130796790122986,
          0.41290727257728577,
          0.4126661717891693,
          0.4124242067337036,
          0.41225090622901917,
          0.4119375944137573,
          0.4114815592765808,
          0.41394779086112976,
          0.4140317142009735,
          0.4139232635498047,
          0.4138157367706299,
          0.4137090742588043,
          0.4135366678237915,
          0.41329720616340637,
          0.4131243824958801,
          0.41288357973098755,
          0.4125734865665436,
          0.41219276189804077,
          0.4145885109901428,
          0.41466596722602844,
          0.41455593705177307,
          0.41444677114486694,
          0.41433849930763245,
          0.41416609287261963,
          0.41392824053764343,
          0.4137553870677948,
          0.41351622343063354,
          0.41320937871932983,
          0.4128335118293762,
          0.41516807675361633,
          0.415238618850708,
          0.41518858075141907,
          0.415077805519104,
          0.4149678945541382,
          0.41479548811912537,
          0.41462311148643494,
          0.41438642144203186,
          0.41414886713027954,
          0.4139104187488556,
          0.413539856672287,
          0.4157620668411255,
          0.4158843457698822,
          0.41583025455474854,
          0.41577795147895813,
          0.41566628217697144,
          0.4154938757419586,
          0.4153214693069458,
          0.4150865972042084,
          0.4148508310317993,
          0.41461417078971863,
          0.4143766164779663,
          0.41394543647766113,
          0.41641759872436523,
          0.4164755642414093,
          0.41641920804977417,
          0.416305273771286,
          0.4161922335624695,
          0.41601985692977905,
          0.41584745049476624,
          0.41561391949653625,
          0.41537949442863464,
          0.4151442050933838,
          0.4148455560207367,
          0.41435641050338745,
          0.4171244204044342,
          0.41706404089927673,
          0.4170054495334625,
          0.41689062118530273,
          0.4167182147502899,
          0.4165458083152771,
          0.41631409525871277,
          0.4160814583301544,
          0.41590818762779236,
          0.41567423939704895,
          0.415317177772522,
          0.41764751076698303,
          0.417692095041275,
          0.41768449544906616,
          0.41756734251976013,
          0.41745108366012573,
          0.4172786772251129,
          0.4171062707901001,
          0.4168759882450104,
          0.41664478182792664,
          0.41641274094581604,
          0.4161797761917114,
          0.4157669246196747,
          0.41834598779678345,
          0.418332576751709,
          0.4182131886482239,
          0.418094664812088,
          0.4179770350456238,
          0.41780462861061096,
          0.41763225197792053,
          0.41740331053733826,
          0.41717347502708435,
          0.4169427454471588,
          0.41665327548980713,
          0.41888391971588135,
          0.4189670979976654,
          0.4188973605632782,
          0.41882941126823425,
          0.4186565577983856,
          0.4185374975204468,
          0.41836509108543396,
          0.4181380271911621,
          0.417910099029541,
          0.41773679852485657,
          0.417507529258728,
          0.41716450452804565,
          0.4194736182689667,
          0.41955047845840454,
          0.41947847604751587,
          0.41935673356056213,
          0.41923585534095764,
          0.4190634787082672,
          0.4188382029533386,
          0.41866534948349,
          0.41843876242637634,
          0.41821128129959106,
          0.41798293590545654,
          0.4174782633781433,
          0.420158326625824,
          0.4201311469078064,
          0.4200071692466736,
          0.41988405585289,
          0.4197618365287781,
          0.41953837871551514,
          0.4193655252456665,
          0.4191407263278961,
          0.41896745562553406,
          0.4187413156032562,
          0.41840773820877075,
          0.420738160610199,
          0.42075255513191223,
          0.42067447304725647,
          0.420501172542572,
          0.42037680745124817,
          0.42020395398139954,
          0.4200311303138733,
          0.419808030128479,
          0.41963475942611694,
          0.4194103181362152,
          0.4191334545612335,
          0.42132481932640076,
          0.421331524848938,
          0.4212954342365265,
          0.4211684763431549,
          0.42104241251945496,
          0.4208695590496063,
          0.4206967353820801,
          0.4204753339290619,
          0.42030206322669983,
          0.4200793504714966,
          0.4198557436466217,
          0.41937968134880066,
          0.4219706356525421,
          0.42188501358032227,
          0.4218011200428009,
          0.421673446893692,
          0.4215005934238434,
          0.42132776975631714,
          0.4211079776287079,
          0.4209347069263458,
          0.4207136034965515,
          0.42049163579940796,
          0.4200252890586853,
          0.42253202199935913,
          0.42244288325309753,
          0.4223991334438324,
          0.42226991057395935,
          0.4220970571041107,
          0.42187926173210144,
          0.4217059910297394,
          0.42153269052505493,
          0.4213131368160248,
          0.4210459589958191,
          0.4231258034706116,
          0.42307382822036743,
          0.4230245053768158,
          0.42289313673973083,
          0.4227626621723175,
          0.4225465655326843,
          0.42237329483032227,
          0.4221999943256378,
          0.42198213934898376,
          0.4217633903026581,
          0.42373037338256836,
          0.4236730933189392,
          0.42361849546432495,
          0.42352578043937683,
          0.42335250973701477,
          0.4231792092323303,
          0.42300593852996826,
          0.42279013991355896,
          0.4226164221763611,
          0.42235589027404785,
          0.4243405759334564,
          0.4242404103279114,
          0.4241807758808136,
          0.4241237938404083,
          0.4239504933357239,
          0.4237772226333618,
          0.42360392212867737,
          0.42338964343070984,
          0.42321592569351196,
          0.42291659116744995,
          0.42488133907318115,
          0.4247790575027466,
          0.4247160851955414,
          0.42461779713630676,
          0.4244445264339447,
          0.4242323935031891,
          0.4240586757659912,
          0.42388492822647095,
          0.4235907196998596,
          0.4254903197288513,
          0.42538437247276306,
          0.42531606554985046,
          0.42521411180496216,
          0.4250403940677643,
          0.4248666763305664,
          0.42469292879104614,
          0.4244810938835144,
          0.42419129610061646,
          0.4260298013687134,
          0.42595523595809937,
          0.4258488118648529,
          0.4256742000579834,
          0.4255349934101105,
          0.4253966808319092,
          0.4251866638660431,
          0.42493897676467896,
          0.42664003372192383,
          0.42652830481529236,
          0.42638537287712097,
          0.4262433350086212,
          0.4261021614074707,
          0.4259275496006012,
          0.4257529377937317,
          0.4254726469516754,
          0.42706918716430664,
          0.426955908536911,
          0.4267804026603699,
          0.42663735151290894,
          0.4264622926712036,
          0.42625391483306885,
          0.42768365144729614,
          0.4275367558002472,
          0.4273907542228699,
          0.4272456467151642,
          0.42707014083862305,
          0.4268312156200409,
          0.428117036819458,
          0.4279690682888031,
          0.4278219938278198,
          0.42761629819869995,
          0.42855045199394226,
          0.4283736050128937,
          0.4290192127227783
         ],
         "y": [
          0.1302182674407959,
          0.1339268684387207,
          0.1296071857213974,
          0.13250459730625153,
          0.135721355676651,
          0.12705636024475098,
          0.12996651232242584,
          0.1330137997865677,
          0.1362224817276001,
          0.13980241119861603,
          0.12758344411849976,
          0.1303190290927887,
          0.13334845006465912,
          0.136720210313797,
          0.14029546082019806,
          0.12518760561943054,
          0.12795041501522064,
          0.13082949817180634,
          0.13402201235294342,
          0.1372145265340805,
          0.1407850980758667,
          0.12249452620744705,
          0.12556904554367065,
          0.12846896052360535,
          0.13133656978607178,
          0.1345209926366806,
          0.13770543038845062,
          0.14127133786678314,
          0.1205950379371643,
          0.12367431074380875,
          0.1265837699174881,
          0.1294608861207962,
          0.13264530897140503,
          0.1356518417596817,
          0.13901416957378387,
          0.14258672297000885,
          0.11984952539205551,
          0.12292223423719406,
          0.1258266717195511,
          0.12885896861553192,
          0.13187509775161743,
          0.1350514441728592,
          0.13822779059410095,
          0.14159667491912842,
          0.11744102090597153,
          0.12039053440093994,
          0.12345346808433533,
          0.1263463944196701,
          0.12936890125274658,
          0.13254526257514954,
          0.13554352521896362,
          0.13889794051647186,
          0.14226853847503662,
          0.116831474006176,
          0.11964790523052216,
          0.12270427495241165,
          0.12574449181556702,
          0.12876851856708527,
          0.13177640736103058,
          0.13494466245174408,
          0.13811293244361877,
          0.14166662096977234,
          0.14585502445697784,
          0.11725233495235443,
          0.12018532305955887,
          0.1232319101691246,
          0.1262623369693756,
          0.1292765885591507,
          0.1324448436498642,
          0.1356131136417389,
          0.1387813687324524,
          0.14233846962451935,
          0.14633290469646454,
          0.11664583534002304,
          0.1194455698132515,
          0.12263000011444092,
          0.1256619393825531,
          0.12867772579193115,
          0.13184599578380585,
          0.13501425087451935,
          0.13818252086639404,
          0.1415436714887619,
          0.14532293379306793,
          0.11552269011735916,
          0.11833994090557098,
          0.12139119952917099,
          0.12442628294229507,
          0.12744522094726562,
          0.13061347603797913,
          0.13378173112869263,
          0.13695000112056732,
          0.14011825621128082,
          0.14368218183517456,
          0.1478961706161499,
          0.11594778299331665,
          0.11887862533330917,
          0.12192009389400482,
          0.12494540214538574,
          0.12811365723609924,
          0.13111472129821777,
          0.1342748999595642,
          0.13761845231056213,
          0.14078670740127563,
          0.14435404539108276,
          0.11390411853790283,
          0.1164945438504219,
          0.11941389739513397,
          0.12244558334350586,
          0.12561383843421936,
          0.12862128019332886,
          0.1317814588546753,
          0.13494163751602173,
          0.13828688859939575,
          0.14145515859127045,
          0.14522713422775269,
          0.11381912231445312,
          0.11640102416276932,
          0.11944878101348877,
          0.1224803775548935,
          0.125648632645607,
          0.12865598499774933,
          0.13181616365909576,
          0.1349763423204422,
          0.1383216828107834,
          0.14148995280265808,
          0.14506086707115173,
          0.1137339398264885,
          0.11643598973751068,
          0.11948366463184357,
          0.12251516431570053,
          0.12553051114082336,
          0.1286906898021698,
          0.13185086846351624,
          0.13501104712486267,
          0.1381712257862091,
          0.14152474701404572,
          0.1450958400964737,
          0.14932774007320404,
          0.11519718915224075,
          0.11824800074100494,
          0.121282659471035,
          0.12430114299058914,
          0.12746132910251617,
          0.13062149286270142,
          0.13378167152404785,
          0.13694186508655548,
          0.140292227268219,
          0.14365875720977783,
          0.147454172372818,
          0.11420316249132156,
          0.11701234430074692,
          0.12005013972520828,
          0.12321840971708298,
          0.12623195350170135,
          0.1293921321630478,
          0.13255231082439423,
          0.13571248948574066,
          0.1388726681470871,
          0.14222797751426697,
          0.14580266177654266,
          0.11267083883285522,
          0.11526712775230408,
          0.11831776797771454,
          0.12135224044322968,
          0.12437054514884949,
          0.12753072381019592,
          0.13052478432655334,
          0.13367688655853271,
          0.13701127469539642,
          0.14017145335674286,
          0.14353007078170776,
          0.14752447605133057,
          0.1137542873620987,
          0.1164468377828598,
          0.11948607861995697,
          0.12265433371067047,
          0.12566933035850525,
          0.1286681443452835,
          0.13182023167610168,
          0.13497233390808105,
          0.138310045003891,
          0.14166390895843506,
          0.14503394067287445,
          0.149259552359581,
          0.11482445150613785,
          0.11775226145982742,
          0.12078817188739777,
          0.12380792200565338,
          0.12696810066699982,
          0.12996359169483185,
          0.13311569392681122,
          0.1362677961587906,
          0.13960881531238556,
          0.14296600222587585,
          0.1465444564819336,
          0.11277707666158676,
          0.11537203937768936,
          0.11842241138219833,
          0.12145661562681198,
          0.1244746595621109,
          0.1274765282869339,
          0.13062863051891327,
          0.13378073275089264,
          0.13693282008171082,
          0.14027555286884308,
          0.14363445341587067,
          0.14742310345172882,
          0.11333786696195602,
          0.11591621488332748,
          0.11909256130456924,
          0.1221250593662262,
          0.12514139711856842,
          0.12814156711101532,
          0.1312936693429947,
          0.13444575667381287,
          0.13759785890579224,
          0.1409423053264618,
          0.14430288970470428,
          0.14830517768859863,
          0.11325350403785706,
          0.11595109850168228,
          0.11899159103631973,
          0.12215985357761383,
          0.1251761019229889,
          0.12817618250846863,
          0.131328284740448,
          0.13430412113666534,
          0.13763247430324554,
          0.14097701013088226,
          0.14433768391609192,
          0.14834032952785492,
          0.11328873783349991,
          0.11598597466945648,
          0.11902638524770737,
          0.12219464778900146,
          0.12521080672740936,
          0.12821079790592194,
          0.13119462132453918,
          0.1343386471271515,
          0.13766708970069885,
          0.14101170003414154,
          0.14437247812747955,
          0.14816679060459137,
          0.11332397162914276,
          0.11602085828781128,
          0.119061179459095,
          0.1222294420003891,
          0.12524551153182983,
          0.12824541330337524,
          0.13122914731502533,
          0.13437317311763763,
          0.13770170509815216,
          0.141046404838562,
          0.1444072723388672,
          0.1482018530368805,
          0.11295414716005325,
          0.11554688960313797,
          0.11859681457281113,
          0.12163057923316956,
          0.12464817613363266,
          0.12764960527420044,
          0.1306348741054535,
          0.1337788999080658,
          0.1369229108095169,
          0.14044907689094543,
          0.14380840957164764,
          0.1473911702632904,
          0.15165220201015472,
          0.11494497209787369,
          0.11799643188714981,
          0.12103171646595001,
          0.12405084818601608,
          0.12705381214618683,
          0.13004060089588165,
          0.13318461179733276,
          0.13632863759994507,
          0.13966219127178192,
          0.1430119276046753,
          0.14658352732658386,
          0.15082885324954987,
          0.11446642130613327,
          0.1173960417509079,
          0.12043286114931107,
          0.12345351278781891,
          0.12645800411701202,
          0.12944632768630981,
          0.13259033858776093,
          0.13573434948921204,
          0.13906638324260712,
          0.14241459965705872,
          0.14598314464092255,
          0.15000855922698975,
          0.11410665512084961,
          0.11679565161466599,
          0.11983399838209152,
          0.12285618484020233,
          0.12586219608783722,
          0.12885203957557678,
          0.1319960653781891,
          0.1351400762796402,
          0.1384705901145935,
          0.14181725680828094,
          0.1451800912618637,
          0.14919131994247437,
          0.11362046748399734,
          0.11619526147842407,
          0.11923513561487198,
          0.12225884944200516,
          0.12526638805866241,
          0.12825776636600494,
          0.13140179216861725,
          0.13454580307006836,
          0.1378747820854187,
          0.14121992886066437,
          0.14458124339580536,
          0.14837713539600372,
          0.11417712271213531,
          0.11686541140079498,
          0.11990358680486679,
          0.12292558699846268,
          0.12593142688274384,
          0.12892109155654907,
          0.13206511735916138,
          0.1352091282606125,
          0.13853982090950012,
          0.1418866664171219,
          0.14524967968463898,
          0.14905069768428802,
          0.11473037302494049,
          0.11753556877374649,
          0.120572030544281,
          0.1235923320055008,
          0.12644042074680328,
          0.1295844316482544,
          0.1327284425497055,
          0.1358724683523178,
          0.13920484483242035,
          0.1425534039735794,
          0.1459181308746338,
          0.15014950931072235,
          0.11528021842241287,
          0.11807221174240112,
          0.12109889090061188,
          0.12410939484834671,
          0.1271037459373474,
          0.13024775683879852,
          0.13339176774024963,
          0.13653579354286194,
          0.13986988365650177,
          0.14322015643119812,
          0.14679281413555145,
          0.15104080736637115,
          0.11595378071069717,
          0.11874065548181534,
          0.1217656284570694,
          0.12477443367242813,
          0.12776707112789154,
          0.13091108202934265,
          0.13405510783195496,
          0.13719911873340607,
          0.1405349224805832,
          0.14388689398765564,
          0.1476709246635437,
          0.1144404411315918,
          0.11700493842363358,
          0.12004275619983673,
          0.12306440621614456,
          0.12591518461704254,
          0.12905919551849365,
          0.13220322132110596,
          0.13534723222255707,
          0.13867828249931335,
          0.14202548563480377,
          0.14538885653018951,
          0.14919093251228333,
          0.11551108956336975,
          0.1183103621006012,
          0.1212029978632927,
          0.12421324104070663,
          0.12720732390880585,
          0.13035133481025696,
          0.13349536061286926,
          0.13663937151432037,
          0.1399737298488617,
          0.14332427084445953,
          0.14689746499061584,
          0.1511467844247818,
          0.11605895310640335,
          0.11884503811597824,
          0.12186974287033081,
          0.12487827241420746,
          0.12787064909934998,
          0.1310146600008011,
          0.1341586858034134,
          0.1373026967048645,
          0.14063875377178192,
          0.14399100840091705,
          0.14756761491298676,
          0.1520417481660843,
          0.11673251539468765,
          0.11951348185539246,
          0.12253648042678833,
          0.12554331123828888,
          0.1285339742898941,
          0.1316780000925064,
          0.13482201099395752,
          0.13796602189540863,
          0.14130379259586334,
          0.14485958218574524,
          0.1484476923942566,
          0.1153494268655777,
          0.11777973175048828,
          0.12067507207393646,
          0.12368666380643845,
          0.1266821026802063,
          0.1298261135816574,
          0.13297012448310852,
          0.13611415028572083,
          0.1394471526145935,
          0.1427963376045227,
          0.14616167545318604,
          0.15039615333080292,
          0.1168026328086853,
          0.11958306282758713,
          0.12260588258504868,
          0.1256125420331955,
          0.1286030262708664,
          0.13157735764980316,
          0.1348910629749298,
          0.13803507387638092,
          0.14137302339076996,
          0.14492915570735931,
          0.1485176384449005,
          0.11593909561634064,
          0.11848476529121399,
          0.12137652188539505,
          0.12438631802797318,
          0.12737995386123657,
          0.13035741448402405,
          0.1336679905653,
          0.1368120014667511,
          0.14014680683612823,
          0.1434977799654007,
          0.14707186818122864,
          0.11545566469430923,
          0.11801706999540329,
          0.12091995775699615,
          0.12393936514854431,
          0.12678568065166473,
          0.12976466119289398,
          0.13290059566497803,
          0.13621772825717926,
          0.13955099880695343,
          0.14290045201778412,
          0.14626605808734894,
          0.15071538090705872,
          0.11805204302072525,
          0.12095474451780319,
          0.12397406995296478,
          0.12682020664215088,
          0.12979911267757416,
          0.132935032248497,
          0.1362522542476654,
          0.13958561420440674,
          0.1429351568222046,
          0.14630085229873657,
          0.15075071156024933,
          0.11808700859546661,
          0.12098953872919083,
          0.12400877475738525,
          0.12685473263263702,
          0.12983354926109314,
          0.13314275443553925,
          0.13628678023815155,
          0.13962022960186005,
          0.14296986162662506,
          0.14654123783111572,
          0.15078602731227875,
          0.11812198162078857,
          0.12102433294057846,
          0.12404347956180573,
          0.12688925862312317,
          0.13003326952457428,
          0.1331772804260254,
          0.1363213062286377,
          0.13965484499931335,
          0.14300456643104553,
          0.14657612144947052,
          0.15082135796546936,
          0.11815694719552994,
          0.1210591271519661,
          0.1240781843662262,
          0.12692378461360931,
          0.13006779551506042,
          0.13321180641651154,
          0.13635583221912384,
          0.13968946039676666,
          0.1430392563343048,
          0.14661100506782532,
          0.15085668861865997,
          0.1181919202208519,
          0.12109392136335373,
          0.12411288917064667,
          0.12695831060409546,
          0.13010232150554657,
          0.13324633240699768,
          0.13639035820960999,
          0.13972407579421997,
          0.14307396113872528,
          0.14664588868618011,
          0.1508920043706894,
          0.11822689324617386,
          0.12112870812416077,
          0.12414759397506714,
          0.1269928365945816,
          0.13013684749603271,
          0.13328085839748383,
          0.13642488420009613,
          0.13975869119167328,
          0.14310866594314575,
          0.1466807723045349,
          0.11634853482246399,
          0.11876381933689117,
          0.12179715186357498,
          0.12481433153152466,
          0.12765616178512573,
          0.13080017268657684,
          0.13394419848918915,
          0.13727162778377533,
          0.1404237300157547,
          0.14377541840076447,
          0.14735090732574463,
          0.11690036952495575,
          0.11943396925926208,
          0.12232089042663574,
          0.12532827258110046,
          0.12831950187683105,
          0.13146349787712097,
          0.13460752367973328,
          0.13793666660785675,
          0.14128196239471436,
          0.14464344084262848,
          0.14843980967998505,
          0.11744878441095352,
          0.120104119181633,
          0.12298762798309326,
          0.12599331140518188,
          0.128982812166214,
          0.1321268379688263,
          0.1354495882987976,
          0.13860169053077698,
          0.14194871485233307,
          0.1453118771314621,
          0.1493244469165802,
          0.1179938018321991,
          0.12063422799110413,
          0.12365436553955078,
          0.1266583353281021,
          0.12981043756008148,
          0.13296252489089966,
          0.13611462712287903,
          0.1392667293548584,
          0.1426154524087906,
          0.1459803283214569,
          0.15021249651908875,
          0.11853539943695068,
          0.12130267173051834,
          0.1243211105465889,
          0.12732337415218353,
          0.1304754763841629,
          0.13362756371498108,
          0.13677966594696045,
          0.13993176817893982,
          0.1432821899652481,
          0.1468551754951477,
          0.15131844580173492,
          0.11857046186923981,
          0.12133746594190598,
          0.12435581535100937,
          0.12735798954963684,
          0.1305100917816162,
          0.1336621791124344,
          0.13681428134441376,
          0.13996638357639313,
          0.14331689476966858,
          0.1468900591135025,
          0.1513538509607315,
          0.11910856515169144,
          0.12200590968132019,
          0.12502256035804749,
          0.12802302837371826,
          0.13117511570453644,
          0.1343272179365158,
          0.13747932016849518,
          0.14082345366477966,
          0.1439836323261261,
          0.1475602090358734,
          0.11724139750003815,
          0.11964325606822968,
          0.12252911180257797,
          0.1255359649658203,
          0.12868806719779968,
          0.13184015452861786,
          0.13499225676059723,
          0.1381443589925766,
          0.14149019122123718,
          0.1448521912097931,
          0.1486501693725586,
          0.11779099702835083,
          0.12031340599060059,
          0.12319584935903549,
          0.12620098888874054,
          0.1293530911207199,
          0.13250519335269928,
          0.13565728068351746,
          0.13880938291549683,
          0.1421569287776947,
          0.1455206423997879,
          0.1493237316608429,
          0.11833717674016953,
          0.1209835559129715,
          0.12386259436607361,
          0.12686602771282196,
          0.13001812994480133,
          0.1331702172756195,
          0.13632231950759888,
          0.13947442173957825,
          0.14282366633415222,
          0.14618907868862152,
          0.15021060407161713,
          0.11887995153665543,
          0.12151142954826355,
          0.12452933192253113,
          0.12753106653690338,
          0.1305166333913803,
          0.13366064429283142,
          0.1369873583316803,
          0.1403302252292633,
          0.14349041879177094,
          0.1470644623041153,
          0.15110088884830475,
          0.11941931396722794,
          0.12217987328767776,
          0.12519606947898865,
          0.1281961053609848,
          0.13117995858192444,
          0.13432398438453674,
          0.13765239715576172,
          0.14099696278572083,
          0.14415715634822845,
          0.1477346122264862,
          0.15177786350250244,
          0.11959036439657211,
          0.1222146674990654,
          0.12523077428340912,
          0.1282307207584381,
          0.13121448457241058,
          0.1343585103750229,
          0.13768699765205383,
          0.1408390998840332,
          0.14419186115264893,
          0.147769495844841,
          0.1515962779521942,
          0.1196255162358284,
          0.12224945425987244,
          0.1252654790878296,
          0.12826533615589142,
          0.13124901056289673,
          0.13439303636550903,
          0.13772161304950714,
          0.1408737152814865,
          0.1442265659570694,
          0.1478043645620346,
          0.1516314297914505,
          0.11979682743549347,
          0.12242849916219711,
          0.12530018389225006,
          0.12829995155334473,
          0.13128353655338287,
          0.13442756235599518,
          0.1375715732574463,
          0.14090833067893982,
          0.14426127076148987,
          0.14763034880161285,
          0.15144957602024078,
          0.11881464719772339,
          0.12133394926786423,
          0.12421999871730804,
          0.1270737200975418,
          0.13006046414375305,
          0.13320447504520416,
          0.13634848594665527,
          0.1396821141242981,
          0.14303189516067505,
          0.14639782905578613,
          0.14977993071079254,
          0.15384401381015778,
          0.12050903588533401,
          0.12313353270292282,
          0.12600162625312805,
          0.12899959087371826,
          0.13198140263557434,
          0.13512541353702545,
          0.13826942443847656,
          0.14160798490047455,
          0.14496271312236786,
          0.1483335942029953,
          0.15193942189216614,
          0.15625818073749542,
          0.1220407783985138,
          0.1249232366681099,
          0.12777337431907654,
          0.13075831532478333,
          0.13390232622623444,
          0.13704635202884674,
          0.14038175344467163,
          0.14373333752155304,
          0.14689351618289948,
          0.15026932954788208,
          0.15410876274108887,
          0.12071765214204788,
          0.12334951758384705,
          0.126071035861969,
          0.12906882166862488,
          0.13205045461654663,
          0.13519446551799774,
          0.13833847641944885,
          0.14167721569538116,
          0.1450321227312088,
          0.14840316772460938,
          0.15179039537906647,
          0.15587492287158966,
          0.12225379049777985,
          0.12499282509088516,
          0.1280018538236618,
          0.13099469244480133,
          0.13397137820720673,
          0.13711540400981903,
          0.14025941491127014,
          0.14360308647155762,
          0.14696292579174042,
          0.15033891797065735,
          0.15395498275756836,
          0.1209266185760498,
          0.12341945618391037,
          0.12629492580890656,
          0.1291380524635315,
          0.13229015469551086,
          0.13526351749897003,
          0.13840752840042114,
          0.14174644649028778,
          0.14510151743888855,
          0.14826169610023499,
          0.15164101123809814,
          0.1554909497499466,
          0.12275367975234985,
          0.12521374225616455,
          0.12807124853134155,
          0.13106392323970795,
          0.13404043018817902,
          0.13718445599079132,
          0.14052021503448486,
          0.14367231726646423,
          0.14703233540058136,
          0.15040850639343262,
          0.1538008451461792,
          0.15837015211582184,
          0.12427447736263275,
          0.1269981563091278,
          0.13000206649303436,
          0.1329897940158844,
          0.1359613686800003,
          0.13929399847984314,
          0.14244608581066132,
          0.14580295979976654,
          0.14896315336227417,
          0.1523442566394806,
          0.15619955956935883,
          0.12396436929702759,
          0.12655404210090637,
          0.12940473854541779,
          0.13256490230560303,
          0.13554608821868896,
          0.13869819045066833,
          0.1418502777814865,
          0.14520563185214996,
          0.1483658105134964,
          0.15174539387226105,
          0.1553686410188675,
          0.12364814430475235,
          0.12626010179519653,
          0.12896870076656342,
          0.13196757435798645,
          0.13495028018951416,
          0.13810238242149353,
          0.1412544846534729,
          0.1446083039045334,
          0.14776848256587982,
          0.1511465311050415,
          0.1545407474040985,
          0.15912136435508728,
          0.12629516422748566,
          0.1291648894548416,
          0.13200227916240692,
          0.13498489558696747,
          0.13813699781894684,
          0.1412891000509262,
          0.14464300870895386,
          0.1478031873703003,
          0.15118132531642914,
          0.1545756310224533,
          0.15915678441524506,
          0.12712374329566956,
          0.1299981325864792,
          0.13266901671886444,
          0.1356499344110489,
          0.13880203664302826,
          0.14214956760406494,
          0.14530974626541138,
          0.1484699249267578,
          0.15184977650642395,
          0.15547354519367218,
          0.1268257349729538,
          0.1295577883720398,
          0.13224133849143982,
          0.1352318674325943,
          0.13820622861385345,
          0.14155222475528717,
          0.1447124183177948,
          0.14787259697914124,
          0.1512509137392044,
          0.1546453982591629,
          0.1270146369934082,
          0.12975451350212097,
          0.13244587182998657,
          0.13526657223701477,
          0.1384267508983612,
          0.14158692955970764,
          0.14474712312221527,
          0.14811745285987854,
          0.15128570795059204,
          0.15490660071372986,
          0.1276950240135193,
          0.13059313595294952,
          0.1332874596118927,
          0.1359333097934723,
          0.13909348845481873,
          0.14225366711616516,
          0.1454138606786728,
          0.14878588914871216,
          0.15195414423942566,
          0.15580646693706512,
          0.13014847040176392,
          0.1330253779888153,
          0.13569197058677673,
          0.13849616050720215,
          0.14165633916854858,
          0.1450187712907791,
          0.14818702638149261,
          0.15135528147220612,
          0.15520302951335907,
          0.13034571707248688,
          0.1332305371761322,
          0.1359049528837204,
          0.13871702551841736,
          0.14188529551029205,
          0.14505356550216675,
          0.14822182059288025,
          0.15160857141017914,
          0.15546467900276184,
          0.13231602311134338,
          0.1350160390138626,
          0.1378505825996399,
          0.14103500545024872,
          0.1440202295780182,
          0.14698930084705353,
          0.1503729224205017,
          0.15399613976478577,
          0.13299641013145447,
          0.13586795330047607,
          0.13889189064502716,
          0.14189967513084412,
          0.14489127695560455,
          0.14807571470737457,
          0.1512601375579834,
          0.15511998534202576,
          0.1373666375875473,
          0.14020727574825287,
          0.1434078812599182,
          0.1464042365550995,
          0.14959675073623657,
          0.15300963819026947,
          0.13758201897144318,
          0.1406187117099762,
          0.14363925158977509,
          0.14664360880851746,
          0.1498442143201828,
          0.1534857451915741,
          0.1414872258901596,
          0.14451414346694946,
          0.147524893283844,
          0.1509476602077484,
          0.14539246261119843,
          0.14861729741096497,
          0.14865271747112274
         ],
         "z": [
          -0.0019121811492368579,
          -0.0008615690167061985,
          -0.0019220361718907952,
          0.00011717805318767205,
          0.00016131608572322875,
          -0.001958506880328059,
          8.088943286566064e-05,
          0.0011224645422771573,
          0.0011664917692542076,
          -0.0007838821038603783,
          -0.0009530085371807218,
          0.002083765808492899,
          0.003125099465250969,
          0.0021715983748435974,
          0.00022115306637715548,
          -0.0019870889373123646,
          0.0010500699281692505,
          0.0030890845227986574,
          0.0031328897457569838,
          0.0031766952015459538,
          0.0012261783704161644,
          -0.0010257679969072342,
          1.6161870007636026e-05,
          0.0020554696675390005,
          0.004094333853572607,
          0.004138028249144554,
          0.004181722644716501,
          0.002231134567409754,
          -0.0010532980086281896,
          -1.129908469010843e-05,
          0.0020281467586755753,
          0.0040671490132808685,
          0.004110843408852816,
          0.005151873920112848,
          0.00419823219999671,
          0.0022477279417216778,
          -6.524286436615512e-05,
          0.0009766994044184685,
          0.0030160837341099977,
          0.004057441838085651,
          0.005098607856780291,
          0.0051421914249658585,
          0.005185774993151426,
          0.00423221942037344,
          -0.0010995081393048167,
          0.0009405020973645151,
          0.0019822840113192797,
          0.0040215179324150085,
          0.00506277522072196,
          0.005106358788907528,
          0.006147253327071667,
          0.005193525925278664,
          0.004239989910274744,
          -0.0011093384819105268,
          0.0019286113092675805,
          0.002970336936414242,
          0.004011810757219791,
          0.00505309272557497,
          0.006094122771173716,
          0.006137595511972904,
          0.006181068252772093,
          0.004230282735079527,
          -0.0007110981387086213,
          0.0008945235749706626,
          0.0029343217611312866,
          0.0039758868515491486,
          0.00501726008951664,
          0.006058381404727697,
          0.006101854145526886,
          0.006145326886326075,
          0.006188799161463976,
          0.004238053224980831,
          0.000293754565063864,
          0.0008847425342537463,
          0.003922485280781984,
          0.003966179676353931,
          0.00500757759436965,
          0.006048723589628935,
          0.0060921963304281235,
          0.006135668605566025,
          0.006179141346365213,
          0.005225494969636202,
          0.0022779947612434626,
          -0.00013192679034546018,
          0.00290609709918499,
          0.003947733901441097,
          0.004989177919924259,
          0.006030370946973562,
          0.006073843687772751,
          0.0061173164285719395,
          0.006160788703709841,
          0.006204261444509029,
          0.004253594670444727,
          -0.0006874905666336417,
          0.0018720190273597836,
          0.003911809995770454,
          0.004953345283865929,
          0.005994629580527544,
          0.006038102321326733,
          0.007079053670167923,
          0.007122415117919445,
          0.006168520078063011,
          0.0062119928188622,
          0.004261365160346031,
          -0.0021566147916018963,
          0.0028778724372386932,
          0.004917512647807598,
          0.005958888214081526,
          0.006002360954880714,
          0.00704340310767293,
          0.007086765021085739,
          0.0071301269344985485,
          0.0061762514524161816,
          0.006219723727554083,
          0.003272120375186205,
          -0.001159470877610147,
          0.0038749175146222115,
          0.004916546866297722,
          0.005957924760878086,
          0.006001397501677275,
          0.007042442448437214,
          0.007085803896188736,
          0.007129165809601545,
          0.006175287999212742,
          0.0062187607400119305,
          0.004268167540431023,
          -0.00016232211783062667,
          0.0038739494048058987,
          0.004915581084787846,
          0.005956961307674646,
          0.006998119875788689,
          0.007041481323540211,
          0.00708484323695302,
          0.007128204684704542,
          0.0071715665981173515,
          0.006217797286808491,
          0.0042671989649534225,
          -0.000673713511787355,
          0.003855503164231777,
          0.004897181876003742,
          0.005938609130680561,
          0.006979814264923334,
          0.007023175712674856,
          0.0070665376260876656,
          0.007109899073839188,
          0.007153260987251997,
          0.006199444644153118,
          0.005245849955826998,
          0.0022985052783042192,
          0.0018408031901344657,
          0.004878782667219639,
          0.0059202564880251884,
          0.005963729228824377,
          0.007004870101809502,
          0.007048232015222311,
          0.007091593462973833,
          0.0071349553763866425,
          0.007178317289799452,
          0.006224564742296934,
          0.004274001345038414,
          -0.0011810929281637073,
          0.003853566711768508,
          0.00489525031298399,
          0.005936682224273682,
          0.006977892480790615,
          0.007021253928542137,
          0.00806216150522232,
          0.008105412125587463,
          0.007151339203119278,
          0.0071947006508708,
          0.006240990478545427,
          0.002296558814123273,
          0.000831934274174273,
          0.004868134390562773,
          0.005909635219722986,
          0.005953107960522175,
          0.006994275841861963,
          0.008035251870751381,
          0.008078503422439098,
          0.008121754042804241,
          0.0071677230298519135,
          0.006213943473994732,
          0.005260386038571596,
          0.0003192835138179362,
          0.0028447937220335007,
          0.004884601570665836,
          0.005926060955971479,
          0.006967298220843077,
          0.007010659668594599,
          0.008051593787968159,
          0.008094844408333302,
          0.008138095960021019,
          0.007184106856584549,
          0.006230369210243225,
          0.004279835615307093,
          -0.001184034743346274,
          0.0038506616838276386,
          0.004892352502793074,
          0.0059337918646633625,
          0.006975009571760893,
          0.008016034960746765,
          0.008059285581111908,
          0.00810253620147705,
          0.008145787753164768,
          0.007191818207502365,
          0.006238100118935108,
          0.003290637396275997,
          -0.00017799668421503156,
          0.004856519866734743,
          0.004900103434920311,
          0.005941523239016533,
          0.006982720922678709,
          0.008023726753890514,
          0.008066977374255657,
          0.0081102279946208,
          0.008153478614985943,
          0.007199529558420181,
          0.006245831493288279,
          0.002301448956131935,
          0.0008192261448130012,
          0.004855554085224867,
          0.005897087045013905,
          0.005940559785813093,
          0.006981759797781706,
          0.008022768422961235,
          0.008066019043326378,
          0.009106664918363094,
          0.008152520284056664,
          0.007198568433523178,
          0.006244868040084839,
          0.002300475724041462,
          0.0008182504680007696,
          0.004854588303714991,
          0.005896123591810465,
          0.0059395963326096535,
          0.00698079913854599,
          0.008021809160709381,
          0.0090625686571002,
          0.009105708450078964,
          0.008151561953127384,
          0.007197607774287462,
          0.006243904586881399,
          0.0032964861020445824,
          0.0008172747911885381,
          0.004853622522205114,
          0.005895160138607025,
          0.005938632879406214,
          0.006979838013648987,
          0.008020850829780102,
          0.009061613120138645,
          0.009104752913117409,
          0.008150603622198105,
          0.007196646649390459,
          0.0062429411336779594,
          0.0032955154310911894,
          -0.001188937691040337,
          0.0038458202034235,
          0.004887523595243692,
          0.005928975064307451,
          0.006970204878598452,
          0.008011242374777794,
          0.009052028879523277,
          0.00909516867250204,
          0.009138308465480804,
          0.007187013514339924,
          0.006233283318579197,
          0.004282764624804258,
          -0.0006579507025890052,
          0.003836113028228283,
          0.004877840634435415,
          0.005919317249208689,
          0.006960571743547916,
          0.008001633919775486,
          0.00904244463890791,
          0.009085584431886673,
          0.009128724224865437,
          0.008174637332558632,
          0.007220741827040911,
          0.005270092282444239,
          0.00032911362359300256,
          0.002828266704455018,
          0.0048681581392884254,
          0.005909658968448639,
          0.006950938142836094,
          0.007992025464773178,
          0.009032860398292542,
          0.009076000191271305,
          0.009119140915572643,
          0.008165028877556324,
          0.0072111086919903755,
          0.005260409787297249,
          0.001316256821155548,
          0.0008221774478442967,
          0.004858475644141436,
          0.005900001153349876,
          0.006941305007785559,
          0.00798241700977087,
          0.009023277088999748,
          0.009066416881978512,
          0.009109556674957275,
          0.008155419491231441,
          0.00720147555693984,
          0.006247782148420811,
          0.0023034196346998215,
          -0.00018582178745418787,
          0.004848793148994446,
          0.005890343338251114,
          0.0069316718727350235,
          0.007972807623445988,
          0.00901369284838438,
          0.009056832641363144,
          0.009099972434341908,
          0.008145811036229134,
          0.007191841956228018,
          0.006238124333322048,
          0.003290661610662937,
          0.0008202260942198336,
          0.004856544081121683,
          0.005898074246942997,
          0.00693938322365284,
          0.007980499416589737,
          0.009021365083754063,
          0.009064504876732826,
          0.00910764466971159,
          0.008153502829372883,
          0.007199553307145834,
          0.006245855242013931,
          0.0032984516583383083,
          0.00182620482519269,
          0.0048642950132489204,
          0.005905805621296167,
          0.006947094574570656,
          0.008985896594822407,
          0.00902903638780117,
          0.009072176180779934,
          0.009115316905081272,
          0.008161194622516632,
          0.00720726465806365,
          0.006253586616367102,
          0.001312354113906622,
          0.0028321738354861736,
          0.005870064254850149,
          0.006911444012075663,
          0.007952632382512093,
          0.008993568830192089,
          0.009036708623170853,
          0.009079848416149616,
          0.00912298820912838,
          0.008168886415660381,
          0.007214976474642754,
          0.005264297593384981,
          0.00032324480707757175,
          0.0028399641159921885,
          0.005877795163542032,
          0.006919155828654766,
          0.007960324175655842,
          0.009001241065561771,
          0.009044380858540535,
          0.009087520651519299,
          0.009130660444498062,
          0.00817657820880413,
          0.00722268782556057,
          0.004275017883628607,
          -0.0001818848541006446,
          0.004852680489420891,
          0.0058942208997905254,
          0.006935539189726114,
          0.008974400348961353,
          0.009017540141940117,
          0.009060680866241455,
          0.009103820659220219,
          0.008149669505655766,
          0.007195709738880396,
          0.00624200189486146,
          0.0032945687416940928,
          0.0018310952000319958,
          0.004869148135185242,
          0.006908561568707228,
          0.00794975645840168,
          0.008990700356662273,
          0.009033840149641037,
          0.009076980873942375,
          0.009120120666921139,
          0.008166010491549969,
          0.007212093565613031,
          0.005261399783194065,
          0.0003203103842679411,
          0.002837051870301366,
          0.005874905269593,
          0.006916272919625044,
          0.00795744825154543,
          0.008998372592031956,
          0.00904151238501072,
          0.009084652177989483,
          0.009127791970968246,
          0.008173702284693718,
          0.0072198049165308475,
          0.005269150715321302,
          -0.0006687372224405408,
          0.0028448421508073807,
          0.0058826361782848835,
          0.00692398427054286,
          0.007965140044689178,
          0.009006044827401638,
          0.009049184620380402,
          0.009092324413359165,
          0.009135464206337929,
          0.008181394077837467,
          0.006230417173355818,
          0.004279883578419685,
          -0.0011751360725611448,
          0.004857534077018499,
          0.006897006183862686,
          0.007938231341540813,
          0.008979205042123795,
          0.009022344835102558,
          0.009065484628081322,
          0.009108624421060085,
          0.008154485374689102,
          0.00720053818076849,
          0.006246842909604311,
          0.0013055243762210011,
          0.002842900576069951,
          0.005880709271878004,
          0.006922062486410141,
          0.00796322338283062,
          0.009004132822155952,
          0.01004484947770834,
          0.00909041240811348,
          0.009133552201092243,
          0.008179477415978909,
          0.006228490266948938,
          0.0042779468931257725,
          -0.00017009851580951363,
          0.004864318761974573,
          0.0069037568755447865,
          0.007944964803755283,
          0.008985920809209347,
          0.01002668496221304,
          0.009072200395166874,
          0.009115340188145638,
          0.008161218836903572,
          0.00720728887245059,
          0.0052565704099833965,
          -0.0011780778877437115,
          0.00385654391720891,
          0.0058961715549230576,
          0.006937485188245773,
          0.008976336568593979,
          0.010017124935984612,
          0.010060153901576996,
          0.00910575594753027,
          0.00815160945057869,
          0.007197655737400055,
          0.006243952549993992,
          0.0003056139685213566,
          0.0038555755745619535,
          0.005895208101719618,
          0.00693652406334877,
          0.008975381031632423,
          0.01001617219299078,
          0.010059201158583164,
          0.009104800410568714,
          0.00815065111964941,
          0.007196694612503052,
          0.006242989096790552,
          0.0003046358178835362,
          0.003854607231914997,
          0.0058942451141774654,
          0.006935563404113054,
          0.008974424563348293,
          0.010015218518674374,
          0.00906070414930582,
          0.009103843942284584,
          0.008149692788720131,
          0.007195733487606049,
          0.005244956351816654,
          0.0003036576963495463,
          0.0038536391220986843,
          0.005893281660974026,
          0.006934602279216051,
          0.008973469026386738,
          0.009016608819365501,
          0.009059748612344265,
          0.009102888405323029,
          0.008148734457790852,
          0.007194772828370333,
          0.005243990570306778,
          0.00030267954571172595,
          0.003852670779451728,
          0.005892318207770586,
          0.006933641619980335,
          0.008972512558102608,
          0.009015652351081371,
          0.009058792144060135,
          0.009101931937038898,
          0.008147776126861572,
          0.0071938117034733295,
          0.005243024788796902,
          0.00030170142417773604,
          0.0038517024368047714,
          0.005891354754567146,
          0.006932680495083332,
          0.008971556089818478,
          0.009014696814119816,
          0.00905783660709858,
          0.009100976400077343,
          0.008146817795932293,
          0.007192851044237614,
          0.0052420590072870255,
          0.0003007232735399157,
          0.003850734094157815,
          0.005890391301363707,
          0.006931719370186329,
          0.008970600552856922,
          0.009013740345835686,
          0.00905688013881445,
          0.009100019931793213,
          0.008145859465003014,
          0.0071918899193406105,
          0.005241092760115862,
          -0.0011760921915993094,
          0.004856592044234276,
          0.005898122675716877,
          0.006939431186765432,
          0.008978272788226604,
          0.009021412581205368,
          0.009064552374184132,
          0.008110299706459045,
          0.008153550326824188,
          0.007199601270258427,
          0.005248843692243099,
          -0.00017007415590342134,
          0.004864342976361513,
          0.006903780624270439,
          0.007944988086819649,
          0.008985944092273712,
          0.009029083885252476,
          0.009072224609553814,
          0.008117991499602795,
          0.007163951173424721,
          0.006210161838680506,
          0.003262485144659877,
          0.0008359341882169247,
          0.0048720939084887505,
          0.006911491975188255,
          0.007952679879963398,
          0.008993616327643394,
          0.009036756120622158,
          0.008082432672381401,
          0.008125683292746544,
          0.007171662524342537,
          0.006217893213033676,
          0.0022732256911695004,
          0.0018418733961880207,
          0.005877843126654625,
          0.0069192033261060715,
          0.007960371673107147,
          0.00800362229347229,
          0.008046872913837433,
          0.00809012446552515,
          0.008133375085890293,
          0.007179373875260353,
          0.006225624121725559,
          0.0012840350391343236,
          0.0028478028252720833,
          0.005885574501007795,
          0.006926915142685175,
          0.007968063466250896,
          0.00801131408661604,
          0.008054564706981182,
          0.008097815327346325,
          0.008141066879034042,
          0.007187085226178169,
          0.005236263852566481,
          -0.000702126242686063,
          0.0028468321543186903,
          0.005884611047804356,
          0.006925954017788172,
          0.007967105135321617,
          0.00801035575568676,
          0.008053606376051903,
          0.008096856996417046,
          0.008140108548104763,
          0.007186124566942453,
          0.005235298071056604,
          -0.0007031068671494722,
          0.003852694761008024,
          0.005892341956496239,
          0.006933665368705988,
          0.007974796928465366,
          0.00801804754883051,
          0.008061298169195652,
          0.008104548789560795,
          0.00715047400444746,
          0.0071938359178602695,
          0.005243048537522554,
          -0.0011741066118702292,
          0.004858547821640968,
          0.006898015271872282,
          0.007939237169921398,
          0.007982488721609116,
          0.008025739341974258,
          0.008068989962339401,
          0.008112240582704544,
          0.007158185355365276,
          0.006204381585121155,
          0.0032566606532782316,
          -0.00016809350927360356,
          0.004866298753768206,
          0.006905726622790098,
          0.007946928963065147,
          0.00799017958343029,
          0.008033431135118008,
          0.00807668175548315,
          0.008119932375848293,
          0.0071658967062830925,
          0.006212112959474325,
          0.0032644509337842464,
          0.0008379098726436496,
          0.004874049685895443,
          0.006913437973707914,
          0.007954620756208897,
          0.00799787137657404,
          0.008041121996939182,
          0.0080843735486269,
          0.008127624168992043,
          0.007173608057200909,
          0.006219843868166208,
          0.0022751963697373867,
          0.001843844074755907,
          0.005879794247448444,
          0.0069211493246257305,
          0.007962312549352646,
          0.009003223851323128,
          0.009046363644301891,
          0.008092065341770649,
          0.007137957960367203,
          0.007181319873780012,
          0.005230468697845936,
          0.0012860108399763703,
          0.002849768614396453,
          0.0058875251561403275,
          0.006928860675543547,
          0.007970004342496395,
          0.00901089608669281,
          0.009054035879671574,
          0.008099756203591824,
          0.007145669311285019,
          0.007189031224697828,
          0.005238219629973173,
          0.0012938405852764845,
          0.0018506809137761593,
          0.005886561702936888,
          0.006927900016307831,
          0.007969046011567116,
          0.009009940549731255,
          0.009053080342710018,
          0.008098797872662544,
          0.008142049424350262,
          0.007188070099800825,
          0.00523725338280201,
          0.0022898430470377207,
          0.0018497076816856861,
          0.005885598249733448,
          0.006926938891410828,
          0.007968087680637836,
          0.009008984081447124,
          0.009052123874425888,
          0.008097839541733265,
          0.008141090162098408,
          0.007187109440565109,
          0.005236287601292133,
          0.0022888698149472475,
          0.0008506423328071833,
          0.0048866537399590015,
          0.0069259777665138245,
          0.007967128418385983,
          0.009008027613162994,
          0.009051168337464333,
          0.009094308130443096,
          0.008140131831169128,
          0.007186148315668106,
          0.006232415791600943,
          0.0032849095296114683,
          -0.0011642518220469356,
          0.0038701966404914856,
          0.005909755360335112,
          0.007948869839310646,
          0.008989815600216389,
          0.009032956324517727,
          0.00907609611749649,
          0.008121873252093792,
          0.0071678427048027515,
          0.006214063614606857,
          0.0052605061791837215,
          0.0013163541443645954,
          0.0008574964012950659,
          0.004893438890576363,
          0.006932728458195925,
          0.007973861880600452,
          0.009014744311571121,
          0.009057884104549885,
          0.009101023897528648,
          0.008146865293383598,
          0.007192899007350206,
          0.006239183712750673,
          0.004288694821298122,
          -0.0006519448943436146,
          0.003876999020576477,
          0.005916522815823555,
          0.007955603301525116,
          0.008996532298624516,
          0.009039672091603279,
          0.009082811884582043,
          0.008128606714308262,
          0.0071745929308235645,
          0.007217954844236374,
          0.006264303810894489,
          0.0033170415554195642,
          -0.00014256444410420954,
          0.0038935085758566856,
          0.006930806674063206,
          0.007971945218741894,
          0.009012832306325436,
          0.0090559720993042,
          0.009099111892282963,
          0.00814494863152504,
          0.0071909767575562,
          0.006237256806343794,
          0.0052837589755654335,
          0.0013398433802649379,
          0.0028770468197762966,
          0.005914596375077963,
          0.006955862510949373,
          0.0079969372600317,
          0.009037760086357594,
          0.009080899879336357,
          0.00912403967231512,
          0.008169940672814846,
          0.007216033060103655,
          0.00626237690448761,
          0.0043120067566633224,
          -0.0011426054406911135,
          0.0038915718905627728,
          0.005931021645665169,
          0.007970028556883335,
          0.008013279177248478,
          0.009054060094058514,
          0.009097199887037277,
          0.008143031038343906,
          0.007189054973423481,
          0.00723241688683629,
          0.006278802640736103,
          0.0033316512126475573,
          -0.00011901604011654854,
          0.004914759658277035,
          0.006953940726816654,
          0.007995019666850567,
          0.009035848081111908,
          0.009078987874090672,
          0.00812477245926857,
          0.008168023079633713,
          0.007214111275970936,
          0.006260450463742018,
          0.005307011306285858,
          -0.0006302985129877925,
          0.002900417661294341,
          0.0059377895668148994,
          0.006978996563702822,
          0.008020011708140373,
          0.009060775861144066,
          0.008106513880193233,
          0.008149764500558376,
          0.007195805665105581,
          0.007239167112857103,
          0.006285570561885834,
          0.003338470822200179,
          0.0008946937741711736,
          0.004930261522531509,
          0.0069693634286522865,
          0.007012725342065096,
          0.008053653873503208,
          0.008096905425190926,
          0.008140156045556068,
          0.007186172064393759,
          0.007229533977806568,
          0.006275912746787071,
          0.004325611051172018,
          -0.0011111286003142595,
          0.002924759406596422,
          0.005961946211755276,
          0.007003091741353273,
          0.0080440454185009,
          0.008087296038866043,
          0.00813054759055376,
          0.007176538929343224,
          0.007219900842756033,
          0.006266254466027021,
          0.005312830209732056,
          -0.0006243905518203974,
          0.0029237885028123856,
          0.004963196348398924,
          0.0070021310821175575,
          0.008043087087571621,
          0.008086337707936764,
          0.008129589259624481,
          0.00717557780444622,
          0.00721893971785903,
          0.006265291478484869,
          0.005311864428222179,
          -0.0006253711180761456,
          0.0019336715340614319,
          0.003973151091486216,
          0.007009842433035374,
          0.00805077888071537,
          0.008094029501080513,
          0.0071399277076125145,
          0.007183289621025324,
          0.007226651068776846,
          0.006273022387176752,
          0.004322706256061792,
          -7.19192175893113e-05,
          0.002965652383863926,
          0.006002528592944145,
          0.0070435707457363605,
          0.008084421046078205,
          0.007130294572561979,
          0.007173656020313501,
          0.007217017933726311,
          0.00626336457207799,
          0.005309932865202427,
          -0.0010708021000027657,
          0.001966858049854636,
          0.005003882572054863,
          0.007042610086500645,
          0.007085971534252167,
          0.007129333447664976,
          0.0071726953610777855,
          0.006218928378075361,
          0.00626240111887455,
          0.004312030505388975,
          -0.0010629328899085522,
          0.0009768939344212413,
          0.00401394022628665,
          0.007050321437418461,
          0.00709368335083127,
          0.007137044798582792,
          0.007180406711995602,
          0.006226659752428532,
          0.006270132027566433,
          0.0033229144755750895,
          -3.071559694944881e-05,
          0.0020088276360183954,
          0.005045534111559391,
          0.007084049750119448,
          0.007127411663532257,
          0.0061735291965305805,
          0.006217001937329769,
          0.0062604742124676704,
          0.003313182620331645,
          -0.0010294949170202017,
          0.001010164269246161,
          0.004046959336847067,
          0.006085620261728764,
          0.006129093002527952,
          0.006172565743327141,
          0.006216038484126329,
          0.005262486170977354,
          0.0023152681533247232,
          -0.0010039262706413865,
          0.002033231081441045,
          0.0040722074918448925,
          0.00411590188741684,
          0.005156919825822115,
          0.006197685841470957,
          0.005244086496531963,
          0.003293718909844756,
          -0.000996057060547173,
          0.0010434344876557589,
          0.002084957202896476,
          0.003126288065686822,
          0.004167367238551378,
          0.004211061634123325,
          0.0042547560296952724,
          0.0013075972674414515,
          6.247548299143091e-05,
          0.0021015505772083998,
          0.002145466860383749,
          0.003186644520610571,
          0.003230449976399541,
          0.002277215477079153,
          -0.0009360697004012764,
          0.00010563537944108248,
          0.001147148315794766,
          0.002188409911468625,
          0.0022323261946439743,
          0.0002821874222718179,
          -0.000883951666764915,
          0.0001576228823978454,
          0.0011990051716566086,
          0.0002458988456055522,
          -0.0008318335167132318,
          -0.0007875845185481012,
          -0.0007885651430115104
         ]
        }
       ],
       "frames": [
        {
         "layout": {
          "scene": {
           "camera": {
            "eye": {
             "x": 1.25,
             "y": 1.25,
             "z": 0.8
            }
           }
          }
         }
        },
        {
         "layout": {
          "scene": {
           "camera": {
            "eye": {
             "x": 1.3685469774060675,
             "y": 1.1189634357889973,
             "z": 0.8
            }
           }
          }
         }
        },
        {
         "layout": {
          "scene": {
           "camera": {
            "eye": {
             "x": 1.4734198857953784,
             "y": 0.9767465588077254,
             "z": 0.8
            }
           }
          }
         }
        },
        {
         "layout": {
          "scene": {
           "camera": {
            "eye": {
             "x": 1.5635708697336819,
             "y": 0.824770353080333,
             "z": 0.8
            }
           }
          }
         }
        },
        {
         "layout": {
          "scene": {
           "camera": {
            "eye": {
             "x": 1.6380991703894194,
             "y": 0.6645533146177932,
             "z": 0.8
            }
           }
          }
         }
        },
        {
         "layout": {
          "scene": {
           "camera": {
            "eye": {
             "x": 1.6962601256182197,
             "y": 0.4976962791077122,
             "z": 0.8
            }
           }
          }
         }
        },
        {
         "layout": {
          "scene": {
           "camera": {
            "eye": {
             "x": 1.737472610380892,
             "y": 0.32586642689330336,
             "z": 0.8
            }
           }
          }
         }
        },
        {
         "layout": {
          "scene": {
           "camera": {
            "eye": {
             "x": 1.7613248431527242,
             "y": 0.15078062505849654,
             "z": 0.8
            }
           }
          }
         }
        },
        {
         "layout": {
          "scene": {
           "camera": {
            "eye": {
             "x": 1.7675785003083602,
             "y": -0.025811726940446755,
             "z": 0.8
            }
           }
          }
         }
        },
        {
         "layout": {
          "scene": {
           "camera": {
            "eye": {
             "x": 1.7561710973726847,
             "y": -0.20214617669602375,
             "z": 0.8
            }
           }
          }
         }
        },
        {
         "layout": {
          "scene": {
           "camera": {
            "eye": {
             "x": 1.7272166133450453,
             "y": -0.376460848674696,
             "z": 0.8
            }
           }
          }
         }
        },
        {
         "layout": {
          "scene": {
           "camera": {
            "eye": {
             "x": 1.6810043518587658,
             "y": -0.5470140482948226,
             "z": 0.8
            }
           }
          }
         }
        },
        {
         "layout": {
          "scene": {
           "camera": {
            "eye": {
             "x": 1.6179960505548747,
             "y": -0.7121016643631912,
             "z": 0.8
            }
           }
          }
         }
        },
        {
         "layout": {
          "scene": {
           "camera": {
            "eye": {
             "x": 1.5388212675522255,
             "y": -0.870074195990757,
             "z": 0.8
            }
           }
          }
         }
        },
        {
         "layout": {
          "scene": {
           "camera": {
            "eye": {
             "x": 1.4442710911108763,
             "y": -1.0193532338602744,
             "z": 0.8
            }
           }
          }
         }
        },
        {
         "layout": {
          "scene": {
           "camera": {
            "eye": {
             "x": 1.3352902353396967,
             "y": -1.1584472311704395,
             "z": 0.8
            }
           }
          }
         }
        },
        {
         "layout": {
          "scene": {
           "camera": {
            "eye": {
             "x": 1.2129676009252703,
             "y": -1.2859664066784924,
             "z": 0.8
            }
           }
          }
         }
        },
        {
         "layout": {
          "scene": {
           "camera": {
            "eye": {
             "x": 1.0785253951961797,
             "y": -1.4006366309349918,
             "z": 0.8
            }
           }
          }
         }
        },
        {
         "layout": {
          "scene": {
           "camera": {
            "eye": {
             "x": 0.9333069202313851,
             "y": -1.5013121569641028,
             "z": 0.8
            }
           }
          }
         }
        },
        {
         "layout": {
          "scene": {
           "camera": {
            "eye": {
             "x": 0.7787631510298885,
             "y": -1.5869870681886475,
             "z": 0.8
            }
           }
          }
         }
        },
        {
         "layout": {
          "scene": {
           "camera": {
            "eye": {
             "x": 0.6164382378481742,
             "y": -1.6568053292160303,
             "z": 0.8
            }
           }
          }
         }
        },
        {
         "layout": {
          "scene": {
           "camera": {
            "eye": {
             "x": 0.44795407756127026,
             "y": -1.710069339060914,
             "z": 0.8
            }
           }
          }
         }
        },
        {
         "layout": {
          "scene": {
           "camera": {
            "eye": {
             "x": 0.27499410820530534,
             "y": -1.7462469013436699,
             "z": 0.8
            }
           }
          }
         }
        },
        {
         "layout": {
          "scene": {
           "camera": {
            "eye": {
             "x": 0.09928648862111944,
             "y": -1.7649765418206806,
             "z": 0.8
            }
           }
          }
         }
        },
        {
         "layout": {
          "scene": {
           "camera": {
            "eye": {
             "x": -0.07741316873761894,
             "y": -1.7660711201154955,
             "z": 0.8
            }
           }
          }
         }
        },
        {
         "layout": {
          "scene": {
           "camera": {
            "eye": {
             "x": -0.25333933930372143,
             "y": -1.7495196995636126,
             "z": 0.8
            }
           }
          }
         }
        },
        {
         "layout": {
          "scene": {
           "camera": {
            "eye": {
             "x": -0.4267342269343539,
             "y": -1.7154876564880144,
             "z": 0.8
            }
           }
          }
         }
        },
        {
         "layout": {
          "scene": {
           "camera": {
            "eye": {
             "x": -0.5958653272290393,
             "y": -1.6643150278136138,
             "z": 0.8
            }
           }
          }
         }
        },
        {
         "layout": {
          "scene": {
           "camera": {
            "eye": {
             "x": -0.7590427381409421,
             "y": -1.5965131135307038,
             "z": 0.8
            }
           }
          }
         }
        },
        {
         "layout": {
          "scene": {
           "camera": {
            "eye": {
             "x": -0.9146360449195108,
             "y": -1.5127593679544658,
             "z": 0.8
            }
           }
          }
         }
        },
        {
         "layout": {
          "scene": {
           "camera": {
            "eye": {
             "x": -1.0610906106757227,
             "y": -1.4138906308253907,
             "z": 0.8
            }
           }
          }
         }
        },
        {
         "layout": {
          "scene": {
           "camera": {
            "eye": {
             "x": -1.196943109799986,
             "y": -1.3008947658832124,
             "z": 0.8
            }
           }
          }
         }
        },
        {
         "layout": {
          "scene": {
           "camera": {
            "eye": {
             "x": -1.3208361490279166,
             "y": -1.1749007904589663,
             "z": 0.8
            }
           }
          }
         }
        },
        {
         "layout": {
          "scene": {
           "camera": {
            "eye": {
             "x": -1.431531830065142,
             "y": -1.0371675947070202,
             "z": 0.8
            }
           }
          }
         }
        },
        {
         "layout": {
          "scene": {
           "camera": {
            "eye": {
             "x": -1.5279241182578656,
             "y": -0.8890713631907865,
             "z": 0.8
            }
           }
          }
         }
        },
        {
         "layout": {
          "scene": {
           "camera": {
            "eye": {
             "x": -1.6090498937255202,
             "y": -0.7320918245014705,
             "z": 0.8
            }
           }
          }
         }
        },
        {
         "layout": {
          "scene": {
           "camera": {
            "eye": {
             "x": -1.6740985745362496,
             "y": -0.5677974662991182,
             "z": 0.8
            }
           }
          }
         }
        },
        {
         "layout": {
          "scene": {
           "camera": {
            "eye": {
             "x": -1.7224202157736266,
             "y": -0.39782986350239324,
             "z": 0.8
            }
           }
          }
         }
        },
        {
         "layout": {
          "scene": {
           "camera": {
            "eye": {
             "x": -1.7535320035714197,
             "y": -0.22388727621462157,
             "z": 0.8
            }
           }
          }
         }
        },
        {
         "layout": {
          "scene": {
           "camera": {
            "eye": {
             "x": -1.7671230792301427,
             "y": -0.04770768127020719,
             "z": 0.8
            }
           }
          }
         }
        },
        {
         "layout": {
          "scene": {
           "camera": {
            "eye": {
             "x": -1.7630576452144253,
             "y": 0.1289485930553954,
             "z": 0.8
            }
           }
          }
         }
        },
        {
         "layout": {
          "scene": {
           "camera": {
            "eye": {
             "x": -1.741376321997099,
             "y": 0.30431645566392784,
             "z": 0.8
            }
           }
          }
         }
        },
        {
         "layout": {
          "scene": {
           "camera": {
            "eye": {
             "x": -1.7022957421928595,
             "y": 0.47664368884111097,
             "z": 0.8
            }
           }
          }
         }
        },
        {
         "layout": {
          "scene": {
           "camera": {
            "eye": {
             "x": -1.646206386036788,
             "y": 0.6442084558368493,
             "z": 0.8
            }
           }
          }
         }
        },
        {
         "layout": {
          "scene": {
           "camera": {
            "eye": {
             "x": -1.573668679834919,
             "y": 0.8053365048888708,
             "z": 0.8
            }
           }
          }
         }
        },
        {
         "layout": {
          "scene": {
           "camera": {
            "eye": {
             "x": -1.4854073963698458,
             "y": 0.9584178977928967,
             "z": 0.8
            }
           }
          }
         }
        },
        {
         "layout": {
          "scene": {
           "camera": {
            "eye": {
             "x": -1.3823044132106481,
             "y": 1.101923095873013,
             "z": 0.8
            }
           }
          }
         }
        },
        {
         "layout": {
          "scene": {
           "camera": {
            "eye": {
             "x": -1.2653899012837393,
             "y": 1.2344182426265127,
             "z": 0.8
            }
           }
          }
         }
        },
        {
         "layout": {
          "scene": {
           "camera": {
            "eye": {
             "x": -1.1358320317454915,
             "y": 1.3545794903441097,
             "z": 0.8
            }
           }
          }
         }
        },
        {
         "layout": {
          "scene": {
           "camera": {
            "eye": {
             "x": -0.9949253040021958,
             "y": 1.4612062275586353,
             "z": 0.8
            }
           }
          }
         }
        },
        {
         "layout": {
          "scene": {
           "camera": {
            "eye": {
             "x": -0.8440776114998902,
             "y": 1.553233075157956,
             "z": 0.8
            }
           }
          }
         }
        },
        {
         "layout": {
          "scene": {
           "camera": {
            "eye": {
             "x": -0.6847961745184389,
             "y": 1.6297405313008917,
             "z": 0.8
            }
           }
          }
         }
        },
        {
         "layout": {
          "scene": {
           "camera": {
            "eye": {
             "x": -0.5186724805247199,
             "y": 1.6899641587756626,
             "z": 0.8
            }
           }
          }
         }
        },
        {
         "layout": {
          "scene": {
           "camera": {
            "eye": {
             "x": -0.347366382555924,
             "y": 1.733302223003828,
             "z": 0.8
            }
           }
          }
         }
        },
        {
         "layout": {
          "scene": {
           "camera": {
            "eye": {
             "x": -0.17258951451669058,
             "y": 1.7593217043732774,
             "z": 0.8
            }
           }
          }
         }
        },
        {
         "layout": {
          "scene": {
           "camera": {
            "eye": {
             "x": 0.0039118109010850555,
             "y": 1.767762624827065,
             "z": 0.8
            }
           }
          }
         }
        },
        {
         "layout": {
          "scene": {
           "camera": {
            "eye": {
             "x": 0.18037405079741164,
             "y": 1.7585406454782138,
             "z": 0.8
            }
           }
          }
         }
        },
        {
         "layout": {
          "scene": {
           "camera": {
            "eye": {
             "x": 0.3550340528019027,
             "y": 1.7317479092959966,
             "z": 0.8
            }
           }
          }
         }
        },
        {
         "layout": {
          "scene": {
           "camera": {
            "eye": {
             "x": 0.5261466719094534,
             "y": 1.6876521204438448,
             "z": 0.8
            }
           }
          }
         }
        },
        {
         "layout": {
          "scene": {
           "camera": {
            "eye": {
             "x": 0.6920022073922499,
             "y": 1.62669386946784,
             "z": 0.8
            }
           }
          }
         }
        },
        {
         "layout": {
          "scene": {
           "camera": {
            "eye": {
             "x": 0.8509434855643001,
             "y": 1.5494822310616148,
             "z": 0.8
            }
           }
          }
         }
        },
        {
         "layout": {
          "scene": {
           "camera": {
            "eye": {
             "x": 1.001382417713112,
             "y": 1.4567886783933495,
             "z": 0.8
            }
           }
          }
         }
        },
        {
         "layout": {
          "scene": {
           "camera": {
            "eye": {
             "x": 1.1418158677571515,
             "y": 1.3495393748008924,
             "z": 0.8
            }
           }
          }
         }
        },
        {
         "layout": {
          "scene": {
           "camera": {
            "eye": {
             "x": 1.270840671084707,
             "y": 1.2288059198738308,
             "z": 0.8
            }
           }
          }
         }
        },
        {
         "layout": {
          "scene": {
           "camera": {
            "eye": {
             "x": 1.3871676545108578,
             "y": 1.0957946423846239,
             "z": 0.8
            }
           }
          }
         }
        },
        {
         "layout": {
          "scene": {
           "camera": {
            "eye": {
             "x": 1.4896345172697987,
             "y": 0.9518345470502599,
             "z": 0.8
            }
           }
          }
         }
        },
        {
         "layout": {
          "scene": {
           "camera": {
            "eye": {
             "x": 1.577217444339885,
             "y": 0.7983640355564382,
             "z": 0.8
            }
           }
          }
         }
        },
        {
         "layout": {
          "scene": {
           "camera": {
            "eye": {
             "x": 1.6490413360648972,
             "y": 0.6369165345234014,
             "z": 0.8
            }
           }
          }
         }
        },
        {
         "layout": {
          "scene": {
           "camera": {
            "eye": {
             "x": 1.7043885518605422,
             "y": 0.46910517401401974,
             "z": 0.8
            }
           }
          }
         }
        },
        {
         "layout": {
          "scene": {
           "camera": {
            "eye": {
             "x": 1.742706080641946,
             "y": 0.2966066696714459,
             "z": 0.8
            }
           }
          }
         }
        },
        {
         "layout": {
          "scene": {
           "camera": {
            "eye": {
             "x": 1.7636110663276172,
             "y": 0.12114456953064445,
             "z": 0.8
            }
           }
          }
         }
        },
        {
         "layout": {
          "scene": {
           "camera": {
            "eye": {
             "x": 1.766894633210853,
             "y": -0.05552796710383823,
             "z": 0.8
            }
           }
          }
         }
        },
        {
         "layout": {
          "scene": {
           "camera": {
            "eye": {
             "x": 1.7525239729767597,
             "y": -0.23164568664612328,
             "z": 0.8
            }
           }
          }
         }
        },
        {
         "layout": {
          "scene": {
           "camera": {
            "eye": {
             "x": 1.7206426725120867,
             "y": -0.4054488790593255,
             "z": 0.8
            }
           }
          }
         }
        },
        {
         "layout": {
          "scene": {
           "camera": {
            "eye": {
             "x": 1.6715692792325216,
             "y": -0.5752009602965458,
             "z": 0.8
            }
           }
          }
         }
        },
        {
         "layout": {
          "scene": {
           "camera": {
            "eye": {
             "x": 1.605794118262206,
             "y": -0.7392058236746413,
             "z": 0.8
            }
           }
          }
         }
        },
        {
         "layout": {
          "scene": {
           "camera": {
            "eye": {
             "x": 1.5239743932671765,
             "y": -0.8958247868115395,
             "z": 0.8
            }
           }
          }
         }
        },
        {
         "layout": {
          "scene": {
           "camera": {
            "eye": {
             "x": 1.426927619893581,
             "y": -1.04349296479892,
             "z": 0.8
            }
           }
          }
         }
        },
        {
         "layout": {
          "scene": {
           "camera": {
            "eye": {
             "x": 1.3156234574215673,
             "y": -1.180734906014945,
             "z": 0.8
            }
           }
          }
         }
        },
        {
         "layout": {
          "scene": {
           "camera": {
            "eye": {
             "x": 1.1911740202502938,
             "y": -1.3061793343491364,
             "z": 0.8
            }
           }
          }
         }
        },
        {
         "layout": {
          "scene": {
           "camera": {
            "eye": {
             "x": 1.0548227660184604,
             "y": -1.4185728505399942,
             "z": 0.8
            }
           }
          }
         }
        },
        {
         "layout": {
          "scene": {
           "camera": {
            "eye": {
             "x": 0.9079320713866189,
             "y": -1.5167924557260966,
             "z": 0.8
            }
           }
          }
         }
        },
        {
         "layout": {
          "scene": {
           "camera": {
            "eye": {
             "x": 0.7519696196199205,
             "y": -1.599856772079511,
             "z": 0.8
            }
           }
          }
         }
        },
        {
         "layout": {
          "scene": {
           "camera": {
            "eye": {
             "x": 0.5884937359820905,
             "y": -1.6669358484086425,
             "z": 0.8
            }
           }
          }
         }
        },
        {
         "layout": {
          "scene": {
           "camera": {
            "eye": {
             "x": 0.41913781746449363,
             "y": -1.7173594527562077,
             "z": 0.8
            }
           }
          }
         }
        },
        {
         "layout": {
          "scene": {
           "camera": {
            "eye": {
             "x": 0.24559401242333323,
             "y": -1.7506237691353923,
             "z": 0.8
            }
           }
          }
         }
        },
        {
         "layout": {
          "scene": {
           "camera": {
            "eye": {
             "x": 0.06959631319262605,
             "y": -1.7663964314926572,
             "z": 0.8
            }
           }
          }
         }
        },
        {
         "layout": {
          "scene": {
           "camera": {
            "eye": {
             "x": -0.10709676939402235,
             "y": -1.7645198445994774,
             "z": 0.8
            }
           }
          }
         }
        },
        {
         "layout": {
          "scene": {
           "camera": {
            "eye": {
             "x": -0.2827197764623679,
             "y": -1.745012758691772,
             "z": 0.8
            }
           }
          }
         }
        },
        {
         "layout": {
          "scene": {
           "camera": {
            "eye": {
             "x": -0.45551794097903464,
             "y": -1.7080700821237462,
             "z": 0.8
            }
           }
          }
         }
        },
        {
         "layout": {
          "scene": {
           "camera": {
            "eye": {
             "x": -0.6237647208036504,
             "y": -1.6540609339080419,
             "z": 0.8
            }
           }
          }
         }
        },
        {
         "layout": {
          "scene": {
           "camera": {
            "eye": {
             "x": -0.7857790497271997,
             "y": -1.58352495560058,
             "z": 0.8
            }
           }
          }
         }
        },
        {
         "layout": {
          "scene": {
           "camera": {
            "eye": {
             "x": -0.9399421341298975,
             "y": -1.4971669193805124,
             "z": 0.8
            }
           }
          }
         }
        },
        {
         "layout": {
          "scene": {
           "camera": {
            "eye": {
             "x": -1.0847136274319271,
             "y": -1.3958496861995813,
             "z": 0.8
            }
           }
          }
         }
        },
        {
         "layout": {
          "scene": {
           "camera": {
            "eye": {
             "x": -1.218647020727311,
             "y": -1.2805855843607052,
             "z": 0.8
            }
           }
          }
         }
        },
        {
         "layout": {
          "scene": {
           "camera": {
            "eye": {
             "x": -1.3404040958227346,
             "y": -1.1525262946682115,
             "z": 0.8
            }
           }
          }
         }
        },
        {
         "layout": {
          "scene": {
           "camera": {
            "eye": {
             "x": -1.448768296271385,
             "y": -1.0129513432139317,
             "z": 0.8
            }
           }
          }
         }
        },
        {
         "layout": {
          "scene": {
           "camera": {
            "eye": {
             "x": -1.5426568828028173,
             "y": -0.8632553167754569,
             "z": 0.8
            }
           }
          }
         }
        },
        {
         "layout": {
          "scene": {
           "camera": {
            "eye": {
             "x": -1.6211317516958519,
             "y": -0.7049339285660311,
             "z": 0.8
            }
           }
          }
         }
        },
        {
         "layout": {
          "scene": {
           "camera": {
            "eye": {
             "x": -1.6834088080008527,
             "y": -0.5395690735625494,
             "z": 0.8
            }
           }
          }
         }
        },
        {
         "layout": {
          "scene": {
           "camera": {
            "eye": {
             "x": -1.7288657999572776,
             "y": -0.3688130227338533,
             "z": 0.8
            }
           }
          }
         }
        },
        {
         "layout": {
          "scene": {
           "camera": {
            "eye": {
             "x": -1.7570485363275825,
             "y": -0.1943719140953739,
             "z": 0.8
            }
           }
          }
         }
        },
        {
         "layout": {
          "scene": {
           "camera": {
            "eye": {
             "x": -1.7676754245259283,
             "y": -0.017988705542069106,
             "z": 0.8
            }
           }
          }
         }
        }
       ],
       "layout": {
        "template": {
         "data": {
          "bar": [
           {
            "error_x": {
             "color": "#2a3f5f"
            },
            "error_y": {
             "color": "#2a3f5f"
            },
            "marker": {
             "line": {
              "color": "#E5ECF6",
              "width": 0.5
             },
             "pattern": {
              "fillmode": "overlay",
              "size": 10,
              "solidity": 0.2
             }
            },
            "type": "bar"
           }
          ],
          "barpolar": [
           {
            "marker": {
             "line": {
              "color": "#E5ECF6",
              "width": 0.5
             },
             "pattern": {
              "fillmode": "overlay",
              "size": 10,
              "solidity": 0.2
             }
            },
            "type": "barpolar"
           }
          ],
          "carpet": [
           {
            "aaxis": {
             "endlinecolor": "#2a3f5f",
             "gridcolor": "white",
             "linecolor": "white",
             "minorgridcolor": "white",
             "startlinecolor": "#2a3f5f"
            },
            "baxis": {
             "endlinecolor": "#2a3f5f",
             "gridcolor": "white",
             "linecolor": "white",
             "minorgridcolor": "white",
             "startlinecolor": "#2a3f5f"
            },
            "type": "carpet"
           }
          ],
          "choropleth": [
           {
            "colorbar": {
             "outlinewidth": 0,
             "ticks": ""
            },
            "type": "choropleth"
           }
          ],
          "contour": [
           {
            "colorbar": {
             "outlinewidth": 0,
             "ticks": ""
            },
            "colorscale": [
             [
              0,
              "#0d0887"
             ],
             [
              0.1111111111111111,
              "#46039f"
             ],
             [
              0.2222222222222222,
              "#7201a8"
             ],
             [
              0.3333333333333333,
              "#9c179e"
             ],
             [
              0.4444444444444444,
              "#bd3786"
             ],
             [
              0.5555555555555556,
              "#d8576b"
             ],
             [
              0.6666666666666666,
              "#ed7953"
             ],
             [
              0.7777777777777778,
              "#fb9f3a"
             ],
             [
              0.8888888888888888,
              "#fdca26"
             ],
             [
              1,
              "#f0f921"
             ]
            ],
            "type": "contour"
           }
          ],
          "contourcarpet": [
           {
            "colorbar": {
             "outlinewidth": 0,
             "ticks": ""
            },
            "type": "contourcarpet"
           }
          ],
          "heatmap": [
           {
            "colorbar": {
             "outlinewidth": 0,
             "ticks": ""
            },
            "colorscale": [
             [
              0,
              "#0d0887"
             ],
             [
              0.1111111111111111,
              "#46039f"
             ],
             [
              0.2222222222222222,
              "#7201a8"
             ],
             [
              0.3333333333333333,
              "#9c179e"
             ],
             [
              0.4444444444444444,
              "#bd3786"
             ],
             [
              0.5555555555555556,
              "#d8576b"
             ],
             [
              0.6666666666666666,
              "#ed7953"
             ],
             [
              0.7777777777777778,
              "#fb9f3a"
             ],
             [
              0.8888888888888888,
              "#fdca26"
             ],
             [
              1,
              "#f0f921"
             ]
            ],
            "type": "heatmap"
           }
          ],
          "heatmapgl": [
           {
            "colorbar": {
             "outlinewidth": 0,
             "ticks": ""
            },
            "colorscale": [
             [
              0,
              "#0d0887"
             ],
             [
              0.1111111111111111,
              "#46039f"
             ],
             [
              0.2222222222222222,
              "#7201a8"
             ],
             [
              0.3333333333333333,
              "#9c179e"
             ],
             [
              0.4444444444444444,
              "#bd3786"
             ],
             [
              0.5555555555555556,
              "#d8576b"
             ],
             [
              0.6666666666666666,
              "#ed7953"
             ],
             [
              0.7777777777777778,
              "#fb9f3a"
             ],
             [
              0.8888888888888888,
              "#fdca26"
             ],
             [
              1,
              "#f0f921"
             ]
            ],
            "type": "heatmapgl"
           }
          ],
          "histogram": [
           {
            "marker": {
             "pattern": {
              "fillmode": "overlay",
              "size": 10,
              "solidity": 0.2
             }
            },
            "type": "histogram"
           }
          ],
          "histogram2d": [
           {
            "colorbar": {
             "outlinewidth": 0,
             "ticks": ""
            },
            "colorscale": [
             [
              0,
              "#0d0887"
             ],
             [
              0.1111111111111111,
              "#46039f"
             ],
             [
              0.2222222222222222,
              "#7201a8"
             ],
             [
              0.3333333333333333,
              "#9c179e"
             ],
             [
              0.4444444444444444,
              "#bd3786"
             ],
             [
              0.5555555555555556,
              "#d8576b"
             ],
             [
              0.6666666666666666,
              "#ed7953"
             ],
             [
              0.7777777777777778,
              "#fb9f3a"
             ],
             [
              0.8888888888888888,
              "#fdca26"
             ],
             [
              1,
              "#f0f921"
             ]
            ],
            "type": "histogram2d"
           }
          ],
          "histogram2dcontour": [
           {
            "colorbar": {
             "outlinewidth": 0,
             "ticks": ""
            },
            "colorscale": [
             [
              0,
              "#0d0887"
             ],
             [
              0.1111111111111111,
              "#46039f"
             ],
             [
              0.2222222222222222,
              "#7201a8"
             ],
             [
              0.3333333333333333,
              "#9c179e"
             ],
             [
              0.4444444444444444,
              "#bd3786"
             ],
             [
              0.5555555555555556,
              "#d8576b"
             ],
             [
              0.6666666666666666,
              "#ed7953"
             ],
             [
              0.7777777777777778,
              "#fb9f3a"
             ],
             [
              0.8888888888888888,
              "#fdca26"
             ],
             [
              1,
              "#f0f921"
             ]
            ],
            "type": "histogram2dcontour"
           }
          ],
          "mesh3d": [
           {
            "colorbar": {
             "outlinewidth": 0,
             "ticks": ""
            },
            "type": "mesh3d"
           }
          ],
          "parcoords": [
           {
            "line": {
             "colorbar": {
              "outlinewidth": 0,
              "ticks": ""
             }
            },
            "type": "parcoords"
           }
          ],
          "pie": [
           {
            "automargin": true,
            "type": "pie"
           }
          ],
          "scatter": [
           {
            "fillpattern": {
             "fillmode": "overlay",
             "size": 10,
             "solidity": 0.2
            },
            "type": "scatter"
           }
          ],
          "scatter3d": [
           {
            "line": {
             "colorbar": {
              "outlinewidth": 0,
              "ticks": ""
             }
            },
            "marker": {
             "colorbar": {
              "outlinewidth": 0,
              "ticks": ""
             }
            },
            "type": "scatter3d"
           }
          ],
          "scattercarpet": [
           {
            "marker": {
             "colorbar": {
              "outlinewidth": 0,
              "ticks": ""
             }
            },
            "type": "scattercarpet"
           }
          ],
          "scattergeo": [
           {
            "marker": {
             "colorbar": {
              "outlinewidth": 0,
              "ticks": ""
             }
            },
            "type": "scattergeo"
           }
          ],
          "scattergl": [
           {
            "marker": {
             "colorbar": {
              "outlinewidth": 0,
              "ticks": ""
             }
            },
            "type": "scattergl"
           }
          ],
          "scattermapbox": [
           {
            "marker": {
             "colorbar": {
              "outlinewidth": 0,
              "ticks": ""
             }
            },
            "type": "scattermapbox"
           }
          ],
          "scatterpolar": [
           {
            "marker": {
             "colorbar": {
              "outlinewidth": 0,
              "ticks": ""
             }
            },
            "type": "scatterpolar"
           }
          ],
          "scatterpolargl": [
           {
            "marker": {
             "colorbar": {
              "outlinewidth": 0,
              "ticks": ""
             }
            },
            "type": "scatterpolargl"
           }
          ],
          "scatterternary": [
           {
            "marker": {
             "colorbar": {
              "outlinewidth": 0,
              "ticks": ""
             }
            },
            "type": "scatterternary"
           }
          ],
          "surface": [
           {
            "colorbar": {
             "outlinewidth": 0,
             "ticks": ""
            },
            "colorscale": [
             [
              0,
              "#0d0887"
             ],
             [
              0.1111111111111111,
              "#46039f"
             ],
             [
              0.2222222222222222,
              "#7201a8"
             ],
             [
              0.3333333333333333,
              "#9c179e"
             ],
             [
              0.4444444444444444,
              "#bd3786"
             ],
             [
              0.5555555555555556,
              "#d8576b"
             ],
             [
              0.6666666666666666,
              "#ed7953"
             ],
             [
              0.7777777777777778,
              "#fb9f3a"
             ],
             [
              0.8888888888888888,
              "#fdca26"
             ],
             [
              1,
              "#f0f921"
             ]
            ],
            "type": "surface"
           }
          ],
          "table": [
           {
            "cells": {
             "fill": {
              "color": "#EBF0F8"
             },
             "line": {
              "color": "white"
             }
            },
            "header": {
             "fill": {
              "color": "#C8D4E3"
             },
             "line": {
              "color": "white"
             }
            },
            "type": "table"
           }
          ]
         },
         "layout": {
          "annotationdefaults": {
           "arrowcolor": "#2a3f5f",
           "arrowhead": 0,
           "arrowwidth": 1
          },
          "autotypenumbers": "strict",
          "coloraxis": {
           "colorbar": {
            "outlinewidth": 0,
            "ticks": ""
           }
          },
          "colorscale": {
           "diverging": [
            [
             0,
             "#8e0152"
            ],
            [
             0.1,
             "#c51b7d"
            ],
            [
             0.2,
             "#de77ae"
            ],
            [
             0.3,
             "#f1b6da"
            ],
            [
             0.4,
             "#fde0ef"
            ],
            [
             0.5,
             "#f7f7f7"
            ],
            [
             0.6,
             "#e6f5d0"
            ],
            [
             0.7,
             "#b8e186"
            ],
            [
             0.8,
             "#7fbc41"
            ],
            [
             0.9,
             "#4d9221"
            ],
            [
             1,
             "#276419"
            ]
           ],
           "sequential": [
            [
             0,
             "#0d0887"
            ],
            [
             0.1111111111111111,
             "#46039f"
            ],
            [
             0.2222222222222222,
             "#7201a8"
            ],
            [
             0.3333333333333333,
             "#9c179e"
            ],
            [
             0.4444444444444444,
             "#bd3786"
            ],
            [
             0.5555555555555556,
             "#d8576b"
            ],
            [
             0.6666666666666666,
             "#ed7953"
            ],
            [
             0.7777777777777778,
             "#fb9f3a"
            ],
            [
             0.8888888888888888,
             "#fdca26"
            ],
            [
             1,
             "#f0f921"
            ]
           ],
           "sequentialminus": [
            [
             0,
             "#0d0887"
            ],
            [
             0.1111111111111111,
             "#46039f"
            ],
            [
             0.2222222222222222,
             "#7201a8"
            ],
            [
             0.3333333333333333,
             "#9c179e"
            ],
            [
             0.4444444444444444,
             "#bd3786"
            ],
            [
             0.5555555555555556,
             "#d8576b"
            ],
            [
             0.6666666666666666,
             "#ed7953"
            ],
            [
             0.7777777777777778,
             "#fb9f3a"
            ],
            [
             0.8888888888888888,
             "#fdca26"
            ],
            [
             1,
             "#f0f921"
            ]
           ]
          },
          "colorway": [
           "#636efa",
           "#EF553B",
           "#00cc96",
           "#ab63fa",
           "#FFA15A",
           "#19d3f3",
           "#FF6692",
           "#B6E880",
           "#FF97FF",
           "#FECB52"
          ],
          "font": {
           "color": "#2a3f5f"
          },
          "geo": {
           "bgcolor": "white",
           "lakecolor": "white",
           "landcolor": "#E5ECF6",
           "showlakes": true,
           "showland": true,
           "subunitcolor": "white"
          },
          "hoverlabel": {
           "align": "left"
          },
          "hovermode": "closest",
          "mapbox": {
           "style": "light"
          },
          "paper_bgcolor": "white",
          "plot_bgcolor": "#E5ECF6",
          "polar": {
           "angularaxis": {
            "gridcolor": "white",
            "linecolor": "white",
            "ticks": ""
           },
           "bgcolor": "#E5ECF6",
           "radialaxis": {
            "gridcolor": "white",
            "linecolor": "white",
            "ticks": ""
           }
          },
          "scene": {
           "xaxis": {
            "backgroundcolor": "#E5ECF6",
            "gridcolor": "white",
            "gridwidth": 2,
            "linecolor": "white",
            "showbackground": true,
            "ticks": "",
            "zerolinecolor": "white"
           },
           "yaxis": {
            "backgroundcolor": "#E5ECF6",
            "gridcolor": "white",
            "gridwidth": 2,
            "linecolor": "white",
            "showbackground": true,
            "ticks": "",
            "zerolinecolor": "white"
           },
           "zaxis": {
            "backgroundcolor": "#E5ECF6",
            "gridcolor": "white",
            "gridwidth": 2,
            "linecolor": "white",
            "showbackground": true,
            "ticks": "",
            "zerolinecolor": "white"
           }
          },
          "shapedefaults": {
           "line": {
            "color": "#2a3f5f"
           }
          },
          "ternary": {
           "aaxis": {
            "gridcolor": "white",
            "linecolor": "white",
            "ticks": ""
           },
           "baxis": {
            "gridcolor": "white",
            "linecolor": "white",
            "ticks": ""
           },
           "bgcolor": "#E5ECF6",
           "caxis": {
            "gridcolor": "white",
            "linecolor": "white",
            "ticks": ""
           }
          },
          "title": {
           "x": 0.05
          },
          "xaxis": {
           "automargin": true,
           "gridcolor": "white",
           "linecolor": "white",
           "ticks": "",
           "title": {
            "standoff": 15
           },
           "zerolinecolor": "white",
           "zerolinewidth": 2
          },
          "yaxis": {
           "automargin": true,
           "gridcolor": "white",
           "linecolor": "white",
           "ticks": "",
           "title": {
            "standoff": 15
           },
           "zerolinecolor": "white",
           "zerolinewidth": 2
          }
         }
        },
        "updatemenus": [
         {
          "buttons": [
           {
            "args": [
             null,
             {
              "frame": {
               "duration": 50,
               "redraw": true
              },
              "fromcurrent": true,
              "mode": "immediate",
              "transition": {
               "duration": 0
              }
             }
            ],
            "label": "Play",
            "method": "animate"
           }
          ],
          "pad": {
           "r": 10,
           "t": 45
          },
          "showactive": false,
          "type": "buttons",
          "x": 0.8,
          "xanchor": "left",
          "y": 1,
          "yanchor": "bottom"
         }
        ]
       }
      },
      "text/html": [
       "<div>                            <div id=\"6a5100ec-46a7-4fd2-97cb-e8a12b316a6f\" class=\"plotly-graph-div\" style=\"height:525px; width:100%;\"></div>            <script type=\"text/javascript\">                require([\"plotly\"], function(Plotly) {                    window.PLOTLYENV=window.PLOTLYENV || {};                                    if (document.getElementById(\"6a5100ec-46a7-4fd2-97cb-e8a12b316a6f\")) {                    Plotly.newPlot(                        \"6a5100ec-46a7-4fd2-97cb-e8a12b316a6f\",                        [{\"mode\":\"markers\",\"x\":[0.3728894591331482,0.3728436827659607,0.37357214093208313,0.37372514605522156,0.3735487759113312,0.37436115741729736,0.3745102286338806,0.3744974732398987,0.37432152032852173,0.373816579580307,0.37513411045074463,0.375442236661911,0.37542882561683655,0.37509122490882874,0.3745897710323334,0.3757619559764862,0.3760637044906616,0.37620797753334045,0.3760329484939575,0.3758578896522522,0.3753599226474762,0.3767082393169403,0.3766891062259674,0.37682899832725525,0.37697067856788635,0.37679606676101685,0.37662145495414734,0.3761270046234131,0.37745991349220276,0.37743890285491943,0.3775750398635864,0.3777129650115967,0.3775383532047272,0.3775213360786438,0.37718909978866577,0.3766975402832031,0.37829455733299255,0.37827226519584656,0.37840545177459717,0.37838539481163025,0.3783662021160126,0.3781920373439789,0.3780178725719452,0.37768691778182983,0.37892794609069824,0.379055380821228,0.3790320158004761,0.37916257977485657,0.3791414201259613,0.3789672553539276,0.3789474368095398,0.37861892580986023,0.37828949093818665,0.3796088993549347,0.37988337874412537,0.37985873222351074,0.37983500957489014,0.3798121511936188,0.37979018688201904,0.37961646914482117,0.3794427216053009,0.3789619207382202,0.3780174255371094,0.38051605224609375,0.38063791394233704,0.38061219453811646,0.3805873692035675,0.3805634379386902,0.3803897202014923,0.38021597266197205,0.38004225492477417,0.379564493894577,0.3787800967693329,0.3811935782432556,0.38145923614501953,0.38128462433815,0.381258100271225,0.38123244047164917,0.3810587227344513,0.38088497519493103,0.38071125745773315,0.38038724660873413,0.37976083159446716,0.3817613422870636,0.3820211887359619,0.3819919526576996,0.3819636404514313,0.3819361925125122,0.38176247477531433,0.38158875703811646,0.3814150094985962,0.3812412917613983,0.38076967000961304,0.37984809279441833,0.38265693187713623,0.3827691674232483,0.38273885846138,0.38270944356918335,0.3825357258319855,0.38250765204429626,0.3823343515396118,0.38201454281806946,0.3818408250808716,0.38137224316596985,0.38287222385406494,0.3834044635295868,0.38351407647132874,0.3834826946258545,0.3833089768886566,0.38327890634536743,0.38310563564300537,0.3829323351383209,0.38261404633522034,0.38244032859802246,0.3818289339542389,0.3836592733860016,0.3841838538646698,0.384149968624115,0.3841169774532318,0.38394322991371155,0.3839115500450134,0.38373827934265137,0.3835650086402893,0.38324832916259766,0.3830746114253998,0.38261231780052185,0.384443074464798,0.384821355342865,0.38478586077690125,0.38475123047828674,0.38471749424934387,0.3845442235469818,0.38437092304229736,0.3841976523399353,0.38402435183525085,0.3837088644504547,0.38324981927871704,0.38235974311828613,0.38552871346473694,0.38549140095710754,0.3854549825191498,0.38541945815086365,0.3852461576461792,0.38507288694381714,0.3848995864391327,0.38472631573677063,0.38441261649131775,0.38409802317619324,0.38349995017051697,0.38596591353416443,0.38619697093963623,0.3861587345600128,0.38598501682281494,0.38594815135002136,0.3857748508453369,0.38560158014297485,0.3854282796382904,0.38525500893592834,0.3849426507949829,0.38448992371559143,0.3863123655319214,0.3868037164211273,0.38676318526268005,0.38672351837158203,0.38668474555015564,0.3865114748477936,0.38647404313087463,0.386301189661026,0.3859916031360626,0.38581833243370056,0.3855074346065521,0.38478145003318787,0.38715073466300964,0.38750356435775757,0.3874620199203491,0.38728830218315125,0.38724809885025024,0.3872087597846985,0.38703593611717224,0.3868630826473236,0.3865549564361572,0.3862459361553192,0.38593602180480957,0.3850787281990051,0.3879833221435547,0.3880697786808014,0.38802680373191833,0.3879847228527069,0.38781142234802246,0.3877706527709961,0.38759782910346985,0.3874249756336212,0.38711827993392944,0.38681069016456604,0.3863674998283386,0.38824915885925293,0.3887162208557129,0.38867083191871643,0.3886263072490692,0.388582706451416,0.38853996992111206,0.3883671164512634,0.3881942927837372,0.38802143931388855,0.38771626353263855,0.3874102234840393,0.38683685660362244,0.38898617029190063,0.38944604992866516,0.38927188515663147,0.3892258405685425,0.3891806900501251,0.3891364336013794,0.38896358013153076,0.3887907564640045,0.3886179029941559,0.38831427693367004,0.3880097568035126,0.3873092830181122,0.38975533843040466,0.3900819420814514,0.3900338411331177,0.3898600935935974,0.3898133337497711,0.38976746797561646,0.3895946145057678,0.3895500600337982,0.38924893736839294,0.38894692063331604,0.3886440098285675,0.38795003294944763,0.39039769768714905,0.3907178044319153,0.3906680941581726,0.39049437642097473,0.3904459774494171,0.3903985023498535,0.3903518617153168,0.39017948508262634,0.38987997174263,0.38957956433296204,0.38927826285362244,0.38871920108795166,0.39104005694389343,0.39135369658470154,0.3913023769855499,0.39112862944602966,0.3910786211490631,0.3910295069217682,0.3909812867641449,0.3908088803291321,0.39051100611686707,0.39021220803260803,0.38991254568099976,0.3893583416938782,0.391477108001709,0.39190372824668884,0.39185023307800293,0.39179766178131104,0.391745924949646,0.391695111989975,0.3916451632976532,0.39147278666496277,0.39130038022994995,0.3908795118331909,0.39058154821395874,0.3901575803756714,0.3893551528453827,0.3925761580467224,0.3925209641456604,0.39246666431427,0.3924132287502289,0.39236071705818176,0.3923090696334839,0.39213666319847107,0.39196428656578064,0.3916693329811096,0.39137354493141174,0.3909534215927124,0.3901599645614624,0.3931313157081604,0.39319169521331787,0.393135666847229,0.39308056235313416,0.39302632212638855,0.3929729759693146,0.39280056953430176,0.39262816309928894,0.3923349380493164,0.39204084873199463,0.3916241526603699,0.3909613788127899,0.3935742974281311,0.39386239647865295,0.3938046991825104,0.39374786615371704,0.39369192719459534,0.3936368525028229,0.39346444606781006,0.39329206943511963,0.3930005431175232,0.3927081525325775,0.3924148678779602,0.39175936579704285,0.394137978553772,0.3945331275463104,0.39447370171546936,0.3944151699542999,0.39435750246047974,0.39430075883865356,0.39412835240364075,0.39395594596862793,0.39366614818573,0.3933754563331604,0.3930838704109192,0.3925539255142212,0.3948590159416199,0.39513418078422546,0.39507320523262024,0.39501315355300903,0.39495396614074707,0.39489567279815674,0.3947232663631439,0.3945508897304535,0.3942626118659973,0.3939734399318695,0.39368337392807007,0.39315804839134216,0.39557698369026184,0.3957352340221405,0.3956727385520935,0.39561113715171814,0.3956630229949951,0.3954906165599823,0.3953182101249695,0.39514580368995667,0.39485907554626465,0.3945714235305786,0.39428290724754333,0.39353078603744507,0.3962918817996979,0.39644598960876465,0.3963824212551117,0.39631974697113037,0.3962579369544983,0.3960855305194855,0.39591315388679504,0.3957407474517822,0.395455539226532,0.3951694071292877,0.39476871490478516,0.3940238058567047,0.39689600467681885,0.3970454931259155,0.3969804048538208,0.3969162106513977,0.39685288071632385,0.39668047428131104,0.3965080678462982,0.3963356614112854,0.3960520029067993,0.3957674205303192,0.3952575922012329,0.39732256531715393,0.3976777195930481,0.39761027693748474,0.397543728351593,0.3975857198238373,0.39741331338882446,0.39724093675613403,0.3970685303211212,0.39678671956062317,0.3965040147304535,0.39622044563293457,0.39571452140808105,0.39810484647750854,0.3982439339160919,0.3982803523540497,0.39821282029151917,0.3981461822986603,0.39797377586364746,0.39780136942863464,0.3976289927959442,0.3973486125469208,0.3970673680305481,0.3966763913631439,0.39595574140548706,0.3988133668899536,0.3989483118057251,0.3988783657550812,0.3988092839717865,0.39874109625816345,0.398568719625473,0.3983963131904602,0.3982239067554474,0.3979450762271881,0.3976653516292572,0.3972774147987366,0.39645665884017944,0.3994174599647522,0.399547815322876,0.3994763493537903,0.39940574765205383,0.399336040019989,0.3991636335849762,0.39899125695228577,0.39881885051727295,0.39854153990745544,0.3981580138206482,0.3977726697921753,0.39976370334625244,0.4001864194869995,0.40021297335624695,0.4001404941082001,0.40006887912750244,0.399896502494812,0.3997240960597992,0.3995516896247864,0.3992762863636017,0.398999959230423,0.398722767829895,0.3980272710323334,0.40069571137428284,0.4008163511753082,0.4007416367530823,0.40066781640052795,0.4005948603153229,0.40052279829978943,0.40025007724761963,0.4000776708126068,0.39980360865592957,0.39942651987075806,0.3990476727485657,0.40111586451530457,0.4014233350753784,0.40144360065460205,0.40136799216270447,0.40129324793815613,0.4012193977832794,0.4009484350681305,0.4007760286331177,0.4005037546157837,0.40023061633110046,0.3998557925224304,0.401700496673584,0.40199899673461914,0.4020153880119324,0.4019376337528229,0.40195712447166443,0.4018815755844116,0.4017096161842346,0.40143993496894836,0.4011693596839905,0.40089792013168335,0.4006255567073822,0.399854838848114,0.40263649821281433,0.4026496708393097,0.40257027745246887,0.40258654952049255,0.4025093615055084,0.4023374021053314,0.4020693600177765,0.40180039405822754,0.40153056383132935,0.4012598395347595,0.4004988372325897,0.4032739996910095,0.4032839238643646,0.40320292115211487,0.4032159447669983,0.4031371474266052,0.40287116169929504,0.4026987552642822,0.4024314284324646,0.40216320753097534,0.401798278093338,0.40114280581474304,0.4039115011692047,0.40391820669174194,0.40383556485176086,0.4038453698158264,0.4036729633808136,0.4035005569458008,0.40332818031311035,0.40306246280670166,0.40279585123062134,0.40243417024612427,0.40178677439689636,0.4045490026473999,0.4045524597167969,0.40446820855140686,0.40447476506233215,0.4043023884296417,0.4041299819946289,0.4039575755596161,0.4036934971809387,0.40342849493026733,0.4030700623989105,0.4024307429790497,0.4051865041255951,0.4051867425441742,0.40510085225105286,0.4051041901111603,0.40493178367614746,0.40475937724113464,0.4045870006084442,0.4043245315551758,0.40406113862991333,0.4037059247493744,0.403074711561203,0.4058240056037903,0.4058209955692291,0.40573349595069885,0.4057336151599884,0.4055612087249756,0.40538880228996277,0.40521639585494995,0.40495553612709045,0.4046938121318817,0.40434181690216064,0.40618425607681274,0.4065104126930237,0.40642049908638,0.40633150935173035,0.4063285291194916,0.40615612268447876,0.40598374605178833,0.4057248532772064,0.4055519998073578,0.4052917957305908,0.4049428701400757,0.4068763554096222,0.4071114659309387,0.4071027636528015,0.4070126712322235,0.40692347288131714,0.4067510664463043,0.4065786600112915,0.40632131695747375,0.4060630798339844,0.40580394864082336,0.4053713381290436,0.4075653851032257,0.40771251916885376,0.407700777053833,0.40760913491249084,0.4075183868408203,0.4073460102081299,0.40709060430526733,0.4069177806377411,0.4066610634326935,0.40640345215797424,0.40589070320129395,0.4082513451576233,0.4083928167819977,0.4082987606525421,0.4082055985927582,0.40803274512290955,0.4078599214553833,0.40768706798553467,0.4075142443180084,0.4072590470314026,0.4070029854774475,0.40641310811042786,0.40893423557281494,0.40899232029914856,0.4088967442512512,0.4088020622730255,0.4086292088031769,0.40845638513565063,0.408283531665802,0.40811070799827576,0.4078570306301117,0.40752124786376953,0.40685686469078064,0.40957337617874146,0.4096266031265259,0.4095293879508972,0.4094330966472626,0.40926024317741394,0.4090874195098877,0.40891456604003906,0.40874171257019043,0.4084896743297577,0.4081571400165558,0.4075024724006653,0.41025158762931824,0.41022610664367676,0.4101274013519287,0.4100295603275299,0.4098567068576813,0.40968388319015503,0.4095110297203064,0.40926095843315125,0.4090876877307892,0.40875816345214844,0.4106680452823639,0.4109267592430115,0.4108986556529999,0.4107988476753235,0.41062602400779724,0.4104531705379486,0.41028034687042236,0.41010749340057373,0.40985894203186035,0.40960952639579773,0.4092060625553131,0.4113488793373108,0.4115278124809265,0.41149666905403137,0.4113953113555908,0.4112224876880646,0.41104963421821594,0.4108767807483673,0.41070395708084106,0.41045695543289185,0.410209059715271,0.4098101854324341,0.41202667355537415,0.41212886571884155,0.4120946526527405,0.41199177503585815,0.4118189513683319,0.4116460978984833,0.41147324442863464,0.4113004207611084,0.41105493903160095,0.4108085632324219,0.4103407561779022,0.41270139813423157,0.4127979278564453,0.4126926362514496,0.4125882387161255,0.412484735250473,0.4123123288154602,0.412069708108902,0.4118262231349945,0.41165292263031006,0.4113365411758423,0.4108743965625763,0.41337308287620544,0.4133974313735962,0.4132906198501587,0.4131847023963928,0.4130796790122986,0.41290727257728577,0.4126661717891693,0.4124242067337036,0.41225090622901917,0.4119375944137573,0.4114815592765808,0.41394779086112976,0.4140317142009735,0.4139232635498047,0.4138157367706299,0.4137090742588043,0.4135366678237915,0.41329720616340637,0.4131243824958801,0.41288357973098755,0.4125734865665436,0.41219276189804077,0.4145885109901428,0.41466596722602844,0.41455593705177307,0.41444677114486694,0.41433849930763245,0.41416609287261963,0.41392824053764343,0.4137553870677948,0.41351622343063354,0.41320937871932983,0.4128335118293762,0.41516807675361633,0.415238618850708,0.41518858075141907,0.415077805519104,0.4149678945541382,0.41479548811912537,0.41462311148643494,0.41438642144203186,0.41414886713027954,0.4139104187488556,0.413539856672287,0.4157620668411255,0.4158843457698822,0.41583025455474854,0.41577795147895813,0.41566628217697144,0.4154938757419586,0.4153214693069458,0.4150865972042084,0.4148508310317993,0.41461417078971863,0.4143766164779663,0.41394543647766113,0.41641759872436523,0.4164755642414093,0.41641920804977417,0.416305273771286,0.4161922335624695,0.41601985692977905,0.41584745049476624,0.41561391949653625,0.41537949442863464,0.4151442050933838,0.4148455560207367,0.41435641050338745,0.4171244204044342,0.41706404089927673,0.4170054495334625,0.41689062118530273,0.4167182147502899,0.4165458083152771,0.41631409525871277,0.4160814583301544,0.41590818762779236,0.41567423939704895,0.415317177772522,0.41764751076698303,0.417692095041275,0.41768449544906616,0.41756734251976013,0.41745108366012573,0.4172786772251129,0.4171062707901001,0.4168759882450104,0.41664478182792664,0.41641274094581604,0.4161797761917114,0.4157669246196747,0.41834598779678345,0.418332576751709,0.4182131886482239,0.418094664812088,0.4179770350456238,0.41780462861061096,0.41763225197792053,0.41740331053733826,0.41717347502708435,0.4169427454471588,0.41665327548980713,0.41888391971588135,0.4189670979976654,0.4188973605632782,0.41882941126823425,0.4186565577983856,0.4185374975204468,0.41836509108543396,0.4181380271911621,0.417910099029541,0.41773679852485657,0.417507529258728,0.41716450452804565,0.4194736182689667,0.41955047845840454,0.41947847604751587,0.41935673356056213,0.41923585534095764,0.4190634787082672,0.4188382029533386,0.41866534948349,0.41843876242637634,0.41821128129959106,0.41798293590545654,0.4174782633781433,0.420158326625824,0.4201311469078064,0.4200071692466736,0.41988405585289,0.4197618365287781,0.41953837871551514,0.4193655252456665,0.4191407263278961,0.41896745562553406,0.4187413156032562,0.41840773820877075,0.420738160610199,0.42075255513191223,0.42067447304725647,0.420501172542572,0.42037680745124817,0.42020395398139954,0.4200311303138733,0.419808030128479,0.41963475942611694,0.4194103181362152,0.4191334545612335,0.42132481932640076,0.421331524848938,0.4212954342365265,0.4211684763431549,0.42104241251945496,0.4208695590496063,0.4206967353820801,0.4204753339290619,0.42030206322669983,0.4200793504714966,0.4198557436466217,0.41937968134880066,0.4219706356525421,0.42188501358032227,0.4218011200428009,0.421673446893692,0.4215005934238434,0.42132776975631714,0.4211079776287079,0.4209347069263458,0.4207136034965515,0.42049163579940796,0.4200252890586853,0.42253202199935913,0.42244288325309753,0.4223991334438324,0.42226991057395935,0.4220970571041107,0.42187926173210144,0.4217059910297394,0.42153269052505493,0.4213131368160248,0.4210459589958191,0.4231258034706116,0.42307382822036743,0.4230245053768158,0.42289313673973083,0.4227626621723175,0.4225465655326843,0.42237329483032227,0.4221999943256378,0.42198213934898376,0.4217633903026581,0.42373037338256836,0.4236730933189392,0.42361849546432495,0.42352578043937683,0.42335250973701477,0.4231792092323303,0.42300593852996826,0.42279013991355896,0.4226164221763611,0.42235589027404785,0.4243405759334564,0.4242404103279114,0.4241807758808136,0.4241237938404083,0.4239504933357239,0.4237772226333618,0.42360392212867737,0.42338964343070984,0.42321592569351196,0.42291659116744995,0.42488133907318115,0.4247790575027466,0.4247160851955414,0.42461779713630676,0.4244445264339447,0.4242323935031891,0.4240586757659912,0.42388492822647095,0.4235907196998596,0.4254903197288513,0.42538437247276306,0.42531606554985046,0.42521411180496216,0.4250403940677643,0.4248666763305664,0.42469292879104614,0.4244810938835144,0.42419129610061646,0.4260298013687134,0.42595523595809937,0.4258488118648529,0.4256742000579834,0.4255349934101105,0.4253966808319092,0.4251866638660431,0.42493897676467896,0.42664003372192383,0.42652830481529236,0.42638537287712097,0.4262433350086212,0.4261021614074707,0.4259275496006012,0.4257529377937317,0.4254726469516754,0.42706918716430664,0.426955908536911,0.4267804026603699,0.42663735151290894,0.4264622926712036,0.42625391483306885,0.42768365144729614,0.4275367558002472,0.4273907542228699,0.4272456467151642,0.42707014083862305,0.4268312156200409,0.428117036819458,0.4279690682888031,0.4278219938278198,0.42761629819869995,0.42855045199394226,0.4283736050128937,0.4290192127227783],\"y\":[0.1302182674407959,0.1339268684387207,0.1296071857213974,0.13250459730625153,0.135721355676651,0.12705636024475098,0.12996651232242584,0.1330137997865677,0.1362224817276001,0.13980241119861603,0.12758344411849976,0.1303190290927887,0.13334845006465912,0.136720210313797,0.14029546082019806,0.12518760561943054,0.12795041501522064,0.13082949817180634,0.13402201235294342,0.1372145265340805,0.1407850980758667,0.12249452620744705,0.12556904554367065,0.12846896052360535,0.13133656978607178,0.1345209926366806,0.13770543038845062,0.14127133786678314,0.1205950379371643,0.12367431074380875,0.1265837699174881,0.1294608861207962,0.13264530897140503,0.1356518417596817,0.13901416957378387,0.14258672297000885,0.11984952539205551,0.12292223423719406,0.1258266717195511,0.12885896861553192,0.13187509775161743,0.1350514441728592,0.13822779059410095,0.14159667491912842,0.11744102090597153,0.12039053440093994,0.12345346808433533,0.1263463944196701,0.12936890125274658,0.13254526257514954,0.13554352521896362,0.13889794051647186,0.14226853847503662,0.116831474006176,0.11964790523052216,0.12270427495241165,0.12574449181556702,0.12876851856708527,0.13177640736103058,0.13494466245174408,0.13811293244361877,0.14166662096977234,0.14585502445697784,0.11725233495235443,0.12018532305955887,0.1232319101691246,0.1262623369693756,0.1292765885591507,0.1324448436498642,0.1356131136417389,0.1387813687324524,0.14233846962451935,0.14633290469646454,0.11664583534002304,0.1194455698132515,0.12263000011444092,0.1256619393825531,0.12867772579193115,0.13184599578380585,0.13501425087451935,0.13818252086639404,0.1415436714887619,0.14532293379306793,0.11552269011735916,0.11833994090557098,0.12139119952917099,0.12442628294229507,0.12744522094726562,0.13061347603797913,0.13378173112869263,0.13695000112056732,0.14011825621128082,0.14368218183517456,0.1478961706161499,0.11594778299331665,0.11887862533330917,0.12192009389400482,0.12494540214538574,0.12811365723609924,0.13111472129821777,0.1342748999595642,0.13761845231056213,0.14078670740127563,0.14435404539108276,0.11390411853790283,0.1164945438504219,0.11941389739513397,0.12244558334350586,0.12561383843421936,0.12862128019332886,0.1317814588546753,0.13494163751602173,0.13828688859939575,0.14145515859127045,0.14522713422775269,0.11381912231445312,0.11640102416276932,0.11944878101348877,0.1224803775548935,0.125648632645607,0.12865598499774933,0.13181616365909576,0.1349763423204422,0.1383216828107834,0.14148995280265808,0.14506086707115173,0.1137339398264885,0.11643598973751068,0.11948366463184357,0.12251516431570053,0.12553051114082336,0.1286906898021698,0.13185086846351624,0.13501104712486267,0.1381712257862091,0.14152474701404572,0.1450958400964737,0.14932774007320404,0.11519718915224075,0.11824800074100494,0.121282659471035,0.12430114299058914,0.12746132910251617,0.13062149286270142,0.13378167152404785,0.13694186508655548,0.140292227268219,0.14365875720977783,0.147454172372818,0.11420316249132156,0.11701234430074692,0.12005013972520828,0.12321840971708298,0.12623195350170135,0.1293921321630478,0.13255231082439423,0.13571248948574066,0.1388726681470871,0.14222797751426697,0.14580266177654266,0.11267083883285522,0.11526712775230408,0.11831776797771454,0.12135224044322968,0.12437054514884949,0.12753072381019592,0.13052478432655334,0.13367688655853271,0.13701127469539642,0.14017145335674286,0.14353007078170776,0.14752447605133057,0.1137542873620987,0.1164468377828598,0.11948607861995697,0.12265433371067047,0.12566933035850525,0.1286681443452835,0.13182023167610168,0.13497233390808105,0.138310045003891,0.14166390895843506,0.14503394067287445,0.149259552359581,0.11482445150613785,0.11775226145982742,0.12078817188739777,0.12380792200565338,0.12696810066699982,0.12996359169483185,0.13311569392681122,0.1362677961587906,0.13960881531238556,0.14296600222587585,0.1465444564819336,0.11277707666158676,0.11537203937768936,0.11842241138219833,0.12145661562681198,0.1244746595621109,0.1274765282869339,0.13062863051891327,0.13378073275089264,0.13693282008171082,0.14027555286884308,0.14363445341587067,0.14742310345172882,0.11333786696195602,0.11591621488332748,0.11909256130456924,0.1221250593662262,0.12514139711856842,0.12814156711101532,0.1312936693429947,0.13444575667381287,0.13759785890579224,0.1409423053264618,0.14430288970470428,0.14830517768859863,0.11325350403785706,0.11595109850168228,0.11899159103631973,0.12215985357761383,0.1251761019229889,0.12817618250846863,0.131328284740448,0.13430412113666534,0.13763247430324554,0.14097701013088226,0.14433768391609192,0.14834032952785492,0.11328873783349991,0.11598597466945648,0.11902638524770737,0.12219464778900146,0.12521080672740936,0.12821079790592194,0.13119462132453918,0.1343386471271515,0.13766708970069885,0.14101170003414154,0.14437247812747955,0.14816679060459137,0.11332397162914276,0.11602085828781128,0.119061179459095,0.1222294420003891,0.12524551153182983,0.12824541330337524,0.13122914731502533,0.13437317311763763,0.13770170509815216,0.141046404838562,0.1444072723388672,0.1482018530368805,0.11295414716005325,0.11554688960313797,0.11859681457281113,0.12163057923316956,0.12464817613363266,0.12764960527420044,0.1306348741054535,0.1337788999080658,0.1369229108095169,0.14044907689094543,0.14380840957164764,0.1473911702632904,0.15165220201015472,0.11494497209787369,0.11799643188714981,0.12103171646595001,0.12405084818601608,0.12705381214618683,0.13004060089588165,0.13318461179733276,0.13632863759994507,0.13966219127178192,0.1430119276046753,0.14658352732658386,0.15082885324954987,0.11446642130613327,0.1173960417509079,0.12043286114931107,0.12345351278781891,0.12645800411701202,0.12944632768630981,0.13259033858776093,0.13573434948921204,0.13906638324260712,0.14241459965705872,0.14598314464092255,0.15000855922698975,0.11410665512084961,0.11679565161466599,0.11983399838209152,0.12285618484020233,0.12586219608783722,0.12885203957557678,0.1319960653781891,0.1351400762796402,0.1384705901145935,0.14181725680828094,0.1451800912618637,0.14919131994247437,0.11362046748399734,0.11619526147842407,0.11923513561487198,0.12225884944200516,0.12526638805866241,0.12825776636600494,0.13140179216861725,0.13454580307006836,0.1378747820854187,0.14121992886066437,0.14458124339580536,0.14837713539600372,0.11417712271213531,0.11686541140079498,0.11990358680486679,0.12292558699846268,0.12593142688274384,0.12892109155654907,0.13206511735916138,0.1352091282606125,0.13853982090950012,0.1418866664171219,0.14524967968463898,0.14905069768428802,0.11473037302494049,0.11753556877374649,0.120572030544281,0.1235923320055008,0.12644042074680328,0.1295844316482544,0.1327284425497055,0.1358724683523178,0.13920484483242035,0.1425534039735794,0.1459181308746338,0.15014950931072235,0.11528021842241287,0.11807221174240112,0.12109889090061188,0.12410939484834671,0.1271037459373474,0.13024775683879852,0.13339176774024963,0.13653579354286194,0.13986988365650177,0.14322015643119812,0.14679281413555145,0.15104080736637115,0.11595378071069717,0.11874065548181534,0.1217656284570694,0.12477443367242813,0.12776707112789154,0.13091108202934265,0.13405510783195496,0.13719911873340607,0.1405349224805832,0.14388689398765564,0.1476709246635437,0.1144404411315918,0.11700493842363358,0.12004275619983673,0.12306440621614456,0.12591518461704254,0.12905919551849365,0.13220322132110596,0.13534723222255707,0.13867828249931335,0.14202548563480377,0.14538885653018951,0.14919093251228333,0.11551108956336975,0.1183103621006012,0.1212029978632927,0.12421324104070663,0.12720732390880585,0.13035133481025696,0.13349536061286926,0.13663937151432037,0.1399737298488617,0.14332427084445953,0.14689746499061584,0.1511467844247818,0.11605895310640335,0.11884503811597824,0.12186974287033081,0.12487827241420746,0.12787064909934998,0.1310146600008011,0.1341586858034134,0.1373026967048645,0.14063875377178192,0.14399100840091705,0.14756761491298676,0.1520417481660843,0.11673251539468765,0.11951348185539246,0.12253648042678833,0.12554331123828888,0.1285339742898941,0.1316780000925064,0.13482201099395752,0.13796602189540863,0.14130379259586334,0.14485958218574524,0.1484476923942566,0.1153494268655777,0.11777973175048828,0.12067507207393646,0.12368666380643845,0.1266821026802063,0.1298261135816574,0.13297012448310852,0.13611415028572083,0.1394471526145935,0.1427963376045227,0.14616167545318604,0.15039615333080292,0.1168026328086853,0.11958306282758713,0.12260588258504868,0.1256125420331955,0.1286030262708664,0.13157735764980316,0.1348910629749298,0.13803507387638092,0.14137302339076996,0.14492915570735931,0.1485176384449005,0.11593909561634064,0.11848476529121399,0.12137652188539505,0.12438631802797318,0.12737995386123657,0.13035741448402405,0.1336679905653,0.1368120014667511,0.14014680683612823,0.1434977799654007,0.14707186818122864,0.11545566469430923,0.11801706999540329,0.12091995775699615,0.12393936514854431,0.12678568065166473,0.12976466119289398,0.13290059566497803,0.13621772825717926,0.13955099880695343,0.14290045201778412,0.14626605808734894,0.15071538090705872,0.11805204302072525,0.12095474451780319,0.12397406995296478,0.12682020664215088,0.12979911267757416,0.132935032248497,0.1362522542476654,0.13958561420440674,0.1429351568222046,0.14630085229873657,0.15075071156024933,0.11808700859546661,0.12098953872919083,0.12400877475738525,0.12685473263263702,0.12983354926109314,0.13314275443553925,0.13628678023815155,0.13962022960186005,0.14296986162662506,0.14654123783111572,0.15078602731227875,0.11812198162078857,0.12102433294057846,0.12404347956180573,0.12688925862312317,0.13003326952457428,0.1331772804260254,0.1363213062286377,0.13965484499931335,0.14300456643104553,0.14657612144947052,0.15082135796546936,0.11815694719552994,0.1210591271519661,0.1240781843662262,0.12692378461360931,0.13006779551506042,0.13321180641651154,0.13635583221912384,0.13968946039676666,0.1430392563343048,0.14661100506782532,0.15085668861865997,0.1181919202208519,0.12109392136335373,0.12411288917064667,0.12695831060409546,0.13010232150554657,0.13324633240699768,0.13639035820960999,0.13972407579421997,0.14307396113872528,0.14664588868618011,0.1508920043706894,0.11822689324617386,0.12112870812416077,0.12414759397506714,0.1269928365945816,0.13013684749603271,0.13328085839748383,0.13642488420009613,0.13975869119167328,0.14310866594314575,0.1466807723045349,0.11634853482246399,0.11876381933689117,0.12179715186357498,0.12481433153152466,0.12765616178512573,0.13080017268657684,0.13394419848918915,0.13727162778377533,0.1404237300157547,0.14377541840076447,0.14735090732574463,0.11690036952495575,0.11943396925926208,0.12232089042663574,0.12532827258110046,0.12831950187683105,0.13146349787712097,0.13460752367973328,0.13793666660785675,0.14128196239471436,0.14464344084262848,0.14843980967998505,0.11744878441095352,0.120104119181633,0.12298762798309326,0.12599331140518188,0.128982812166214,0.1321268379688263,0.1354495882987976,0.13860169053077698,0.14194871485233307,0.1453118771314621,0.1493244469165802,0.1179938018321991,0.12063422799110413,0.12365436553955078,0.1266583353281021,0.12981043756008148,0.13296252489089966,0.13611462712287903,0.1392667293548584,0.1426154524087906,0.1459803283214569,0.15021249651908875,0.11853539943695068,0.12130267173051834,0.1243211105465889,0.12732337415218353,0.1304754763841629,0.13362756371498108,0.13677966594696045,0.13993176817893982,0.1432821899652481,0.1468551754951477,0.15131844580173492,0.11857046186923981,0.12133746594190598,0.12435581535100937,0.12735798954963684,0.1305100917816162,0.1336621791124344,0.13681428134441376,0.13996638357639313,0.14331689476966858,0.1468900591135025,0.1513538509607315,0.11910856515169144,0.12200590968132019,0.12502256035804749,0.12802302837371826,0.13117511570453644,0.1343272179365158,0.13747932016849518,0.14082345366477966,0.1439836323261261,0.1475602090358734,0.11724139750003815,0.11964325606822968,0.12252911180257797,0.1255359649658203,0.12868806719779968,0.13184015452861786,0.13499225676059723,0.1381443589925766,0.14149019122123718,0.1448521912097931,0.1486501693725586,0.11779099702835083,0.12031340599060059,0.12319584935903549,0.12620098888874054,0.1293530911207199,0.13250519335269928,0.13565728068351746,0.13880938291549683,0.1421569287776947,0.1455206423997879,0.1493237316608429,0.11833717674016953,0.1209835559129715,0.12386259436607361,0.12686602771282196,0.13001812994480133,0.1331702172756195,0.13632231950759888,0.13947442173957825,0.14282366633415222,0.14618907868862152,0.15021060407161713,0.11887995153665543,0.12151142954826355,0.12452933192253113,0.12753106653690338,0.1305166333913803,0.13366064429283142,0.1369873583316803,0.1403302252292633,0.14349041879177094,0.1470644623041153,0.15110088884830475,0.11941931396722794,0.12217987328767776,0.12519606947898865,0.1281961053609848,0.13117995858192444,0.13432398438453674,0.13765239715576172,0.14099696278572083,0.14415715634822845,0.1477346122264862,0.15177786350250244,0.11959036439657211,0.1222146674990654,0.12523077428340912,0.1282307207584381,0.13121448457241058,0.1343585103750229,0.13768699765205383,0.1408390998840332,0.14419186115264893,0.147769495844841,0.1515962779521942,0.1196255162358284,0.12224945425987244,0.1252654790878296,0.12826533615589142,0.13124901056289673,0.13439303636550903,0.13772161304950714,0.1408737152814865,0.1442265659570694,0.1478043645620346,0.1516314297914505,0.11979682743549347,0.12242849916219711,0.12530018389225006,0.12829995155334473,0.13128353655338287,0.13442756235599518,0.1375715732574463,0.14090833067893982,0.14426127076148987,0.14763034880161285,0.15144957602024078,0.11881464719772339,0.12133394926786423,0.12421999871730804,0.1270737200975418,0.13006046414375305,0.13320447504520416,0.13634848594665527,0.1396821141242981,0.14303189516067505,0.14639782905578613,0.14977993071079254,0.15384401381015778,0.12050903588533401,0.12313353270292282,0.12600162625312805,0.12899959087371826,0.13198140263557434,0.13512541353702545,0.13826942443847656,0.14160798490047455,0.14496271312236786,0.1483335942029953,0.15193942189216614,0.15625818073749542,0.1220407783985138,0.1249232366681099,0.12777337431907654,0.13075831532478333,0.13390232622623444,0.13704635202884674,0.14038175344467163,0.14373333752155304,0.14689351618289948,0.15026932954788208,0.15410876274108887,0.12071765214204788,0.12334951758384705,0.126071035861969,0.12906882166862488,0.13205045461654663,0.13519446551799774,0.13833847641944885,0.14167721569538116,0.1450321227312088,0.14840316772460938,0.15179039537906647,0.15587492287158966,0.12225379049777985,0.12499282509088516,0.1280018538236618,0.13099469244480133,0.13397137820720673,0.13711540400981903,0.14025941491127014,0.14360308647155762,0.14696292579174042,0.15033891797065735,0.15395498275756836,0.1209266185760498,0.12341945618391037,0.12629492580890656,0.1291380524635315,0.13229015469551086,0.13526351749897003,0.13840752840042114,0.14174644649028778,0.14510151743888855,0.14826169610023499,0.15164101123809814,0.1554909497499466,0.12275367975234985,0.12521374225616455,0.12807124853134155,0.13106392323970795,0.13404043018817902,0.13718445599079132,0.14052021503448486,0.14367231726646423,0.14703233540058136,0.15040850639343262,0.1538008451461792,0.15837015211582184,0.12427447736263275,0.1269981563091278,0.13000206649303436,0.1329897940158844,0.1359613686800003,0.13929399847984314,0.14244608581066132,0.14580295979976654,0.14896315336227417,0.1523442566394806,0.15619955956935883,0.12396436929702759,0.12655404210090637,0.12940473854541779,0.13256490230560303,0.13554608821868896,0.13869819045066833,0.1418502777814865,0.14520563185214996,0.1483658105134964,0.15174539387226105,0.1553686410188675,0.12364814430475235,0.12626010179519653,0.12896870076656342,0.13196757435798645,0.13495028018951416,0.13810238242149353,0.1412544846534729,0.1446083039045334,0.14776848256587982,0.1511465311050415,0.1545407474040985,0.15912136435508728,0.12629516422748566,0.1291648894548416,0.13200227916240692,0.13498489558696747,0.13813699781894684,0.1412891000509262,0.14464300870895386,0.1478031873703003,0.15118132531642914,0.1545756310224533,0.15915678441524506,0.12712374329566956,0.1299981325864792,0.13266901671886444,0.1356499344110489,0.13880203664302826,0.14214956760406494,0.14530974626541138,0.1484699249267578,0.15184977650642395,0.15547354519367218,0.1268257349729538,0.1295577883720398,0.13224133849143982,0.1352318674325943,0.13820622861385345,0.14155222475528717,0.1447124183177948,0.14787259697914124,0.1512509137392044,0.1546453982591629,0.1270146369934082,0.12975451350212097,0.13244587182998657,0.13526657223701477,0.1384267508983612,0.14158692955970764,0.14474712312221527,0.14811745285987854,0.15128570795059204,0.15490660071372986,0.1276950240135193,0.13059313595294952,0.1332874596118927,0.1359333097934723,0.13909348845481873,0.14225366711616516,0.1454138606786728,0.14878588914871216,0.15195414423942566,0.15580646693706512,0.13014847040176392,0.1330253779888153,0.13569197058677673,0.13849616050720215,0.14165633916854858,0.1450187712907791,0.14818702638149261,0.15135528147220612,0.15520302951335907,0.13034571707248688,0.1332305371761322,0.1359049528837204,0.13871702551841736,0.14188529551029205,0.14505356550216675,0.14822182059288025,0.15160857141017914,0.15546467900276184,0.13231602311134338,0.1350160390138626,0.1378505825996399,0.14103500545024872,0.1440202295780182,0.14698930084705353,0.1503729224205017,0.15399613976478577,0.13299641013145447,0.13586795330047607,0.13889189064502716,0.14189967513084412,0.14489127695560455,0.14807571470737457,0.1512601375579834,0.15511998534202576,0.1373666375875473,0.14020727574825287,0.1434078812599182,0.1464042365550995,0.14959675073623657,0.15300963819026947,0.13758201897144318,0.1406187117099762,0.14363925158977509,0.14664360880851746,0.1498442143201828,0.1534857451915741,0.1414872258901596,0.14451414346694946,0.147524893283844,0.1509476602077484,0.14539246261119843,0.14861729741096497,0.14865271747112274],\"z\":[-0.0019121811492368579,-0.0008615690167061985,-0.0019220361718907952,0.00011717805318767205,0.00016131608572322875,-0.001958506880328059,8.088943286566064e-05,0.0011224645422771573,0.0011664917692542076,-0.0007838821038603783,-0.0009530085371807218,0.002083765808492899,0.003125099465250969,0.0021715983748435974,0.00022115306637715548,-0.0019870889373123646,0.0010500699281692505,0.0030890845227986574,0.0031328897457569838,0.0031766952015459538,0.0012261783704161644,-0.0010257679969072342,1.6161870007636026e-05,0.0020554696675390005,0.004094333853572607,0.004138028249144554,0.004181722644716501,0.002231134567409754,-0.0010532980086281896,-1.129908469010843e-05,0.0020281467586755753,0.0040671490132808685,0.004110843408852816,0.005151873920112848,0.00419823219999671,0.0022477279417216778,-6.524286436615512e-05,0.0009766994044184685,0.0030160837341099977,0.004057441838085651,0.005098607856780291,0.0051421914249658585,0.005185774993151426,0.00423221942037344,-0.0010995081393048167,0.0009405020973645151,0.0019822840113192797,0.0040215179324150085,0.00506277522072196,0.005106358788907528,0.006147253327071667,0.005193525925278664,0.004239989910274744,-0.0011093384819105268,0.0019286113092675805,0.002970336936414242,0.004011810757219791,0.00505309272557497,0.006094122771173716,0.006137595511972904,0.006181068252772093,0.004230282735079527,-0.0007110981387086213,0.0008945235749706626,0.0029343217611312866,0.0039758868515491486,0.00501726008951664,0.006058381404727697,0.006101854145526886,0.006145326886326075,0.006188799161463976,0.004238053224980831,0.000293754565063864,0.0008847425342537463,0.003922485280781984,0.003966179676353931,0.00500757759436965,0.006048723589628935,0.0060921963304281235,0.006135668605566025,0.006179141346365213,0.005225494969636202,0.0022779947612434626,-0.00013192679034546018,0.00290609709918499,0.003947733901441097,0.004989177919924259,0.006030370946973562,0.006073843687772751,0.0061173164285719395,0.006160788703709841,0.006204261444509029,0.004253594670444727,-0.0006874905666336417,0.0018720190273597836,0.003911809995770454,0.004953345283865929,0.005994629580527544,0.006038102321326733,0.007079053670167923,0.007122415117919445,0.006168520078063011,0.0062119928188622,0.004261365160346031,-0.0021566147916018963,0.0028778724372386932,0.004917512647807598,0.005958888214081526,0.006002360954880714,0.00704340310767293,0.007086765021085739,0.0071301269344985485,0.0061762514524161816,0.006219723727554083,0.003272120375186205,-0.001159470877610147,0.0038749175146222115,0.004916546866297722,0.005957924760878086,0.006001397501677275,0.007042442448437214,0.007085803896188736,0.007129165809601545,0.006175287999212742,0.0062187607400119305,0.004268167540431023,-0.00016232211783062667,0.0038739494048058987,0.004915581084787846,0.005956961307674646,0.006998119875788689,0.007041481323540211,0.00708484323695302,0.007128204684704542,0.0071715665981173515,0.006217797286808491,0.0042671989649534225,-0.000673713511787355,0.003855503164231777,0.004897181876003742,0.005938609130680561,0.006979814264923334,0.007023175712674856,0.0070665376260876656,0.007109899073839188,0.007153260987251997,0.006199444644153118,0.005245849955826998,0.0022985052783042192,0.0018408031901344657,0.004878782667219639,0.0059202564880251884,0.005963729228824377,0.007004870101809502,0.007048232015222311,0.007091593462973833,0.0071349553763866425,0.007178317289799452,0.006224564742296934,0.004274001345038414,-0.0011810929281637073,0.003853566711768508,0.00489525031298399,0.005936682224273682,0.006977892480790615,0.007021253928542137,0.00806216150522232,0.008105412125587463,0.007151339203119278,0.0071947006508708,0.006240990478545427,0.002296558814123273,0.000831934274174273,0.004868134390562773,0.005909635219722986,0.005953107960522175,0.006994275841861963,0.008035251870751381,0.008078503422439098,0.008121754042804241,0.0071677230298519135,0.006213943473994732,0.005260386038571596,0.0003192835138179362,0.0028447937220335007,0.004884601570665836,0.005926060955971479,0.006967298220843077,0.007010659668594599,0.008051593787968159,0.008094844408333302,0.008138095960021019,0.007184106856584549,0.006230369210243225,0.004279835615307093,-0.001184034743346274,0.0038506616838276386,0.004892352502793074,0.0059337918646633625,0.006975009571760893,0.008016034960746765,0.008059285581111908,0.00810253620147705,0.008145787753164768,0.007191818207502365,0.006238100118935108,0.003290637396275997,-0.00017799668421503156,0.004856519866734743,0.004900103434920311,0.005941523239016533,0.006982720922678709,0.008023726753890514,0.008066977374255657,0.0081102279946208,0.008153478614985943,0.007199529558420181,0.006245831493288279,0.002301448956131935,0.0008192261448130012,0.004855554085224867,0.005897087045013905,0.005940559785813093,0.006981759797781706,0.008022768422961235,0.008066019043326378,0.009106664918363094,0.008152520284056664,0.007198568433523178,0.006244868040084839,0.002300475724041462,0.0008182504680007696,0.004854588303714991,0.005896123591810465,0.0059395963326096535,0.00698079913854599,0.008021809160709381,0.0090625686571002,0.009105708450078964,0.008151561953127384,0.007197607774287462,0.006243904586881399,0.0032964861020445824,0.0008172747911885381,0.004853622522205114,0.005895160138607025,0.005938632879406214,0.006979838013648987,0.008020850829780102,0.009061613120138645,0.009104752913117409,0.008150603622198105,0.007196646649390459,0.0062429411336779594,0.0032955154310911894,-0.001188937691040337,0.0038458202034235,0.004887523595243692,0.005928975064307451,0.006970204878598452,0.008011242374777794,0.009052028879523277,0.00909516867250204,0.009138308465480804,0.007187013514339924,0.006233283318579197,0.004282764624804258,-0.0006579507025890052,0.003836113028228283,0.004877840634435415,0.005919317249208689,0.006960571743547916,0.008001633919775486,0.00904244463890791,0.009085584431886673,0.009128724224865437,0.008174637332558632,0.007220741827040911,0.005270092282444239,0.00032911362359300256,0.002828266704455018,0.0048681581392884254,0.005909658968448639,0.006950938142836094,0.007992025464773178,0.009032860398292542,0.009076000191271305,0.009119140915572643,0.008165028877556324,0.0072111086919903755,0.005260409787297249,0.001316256821155548,0.0008221774478442967,0.004858475644141436,0.005900001153349876,0.006941305007785559,0.00798241700977087,0.009023277088999748,0.009066416881978512,0.009109556674957275,0.008155419491231441,0.00720147555693984,0.006247782148420811,0.0023034196346998215,-0.00018582178745418787,0.004848793148994446,0.005890343338251114,0.0069316718727350235,0.007972807623445988,0.00901369284838438,0.009056832641363144,0.009099972434341908,0.008145811036229134,0.007191841956228018,0.006238124333322048,0.003290661610662937,0.0008202260942198336,0.004856544081121683,0.005898074246942997,0.00693938322365284,0.007980499416589737,0.009021365083754063,0.009064504876732826,0.00910764466971159,0.008153502829372883,0.007199553307145834,0.006245855242013931,0.0032984516583383083,0.00182620482519269,0.0048642950132489204,0.005905805621296167,0.006947094574570656,0.008985896594822407,0.00902903638780117,0.009072176180779934,0.009115316905081272,0.008161194622516632,0.00720726465806365,0.006253586616367102,0.001312354113906622,0.0028321738354861736,0.005870064254850149,0.006911444012075663,0.007952632382512093,0.008993568830192089,0.009036708623170853,0.009079848416149616,0.00912298820912838,0.008168886415660381,0.007214976474642754,0.005264297593384981,0.00032324480707757175,0.0028399641159921885,0.005877795163542032,0.006919155828654766,0.007960324175655842,0.009001241065561771,0.009044380858540535,0.009087520651519299,0.009130660444498062,0.00817657820880413,0.00722268782556057,0.004275017883628607,-0.0001818848541006446,0.004852680489420891,0.0058942208997905254,0.006935539189726114,0.008974400348961353,0.009017540141940117,0.009060680866241455,0.009103820659220219,0.008149669505655766,0.007195709738880396,0.00624200189486146,0.0032945687416940928,0.0018310952000319958,0.004869148135185242,0.006908561568707228,0.00794975645840168,0.008990700356662273,0.009033840149641037,0.009076980873942375,0.009120120666921139,0.008166010491549969,0.007212093565613031,0.005261399783194065,0.0003203103842679411,0.002837051870301366,0.005874905269593,0.006916272919625044,0.00795744825154543,0.008998372592031956,0.00904151238501072,0.009084652177989483,0.009127791970968246,0.008173702284693718,0.0072198049165308475,0.005269150715321302,-0.0006687372224405408,0.0028448421508073807,0.0058826361782848835,0.00692398427054286,0.007965140044689178,0.009006044827401638,0.009049184620380402,0.009092324413359165,0.009135464206337929,0.008181394077837467,0.006230417173355818,0.004279883578419685,-0.0011751360725611448,0.004857534077018499,0.006897006183862686,0.007938231341540813,0.008979205042123795,0.009022344835102558,0.009065484628081322,0.009108624421060085,0.008154485374689102,0.00720053818076849,0.006246842909604311,0.0013055243762210011,0.002842900576069951,0.005880709271878004,0.006922062486410141,0.00796322338283062,0.009004132822155952,0.01004484947770834,0.00909041240811348,0.009133552201092243,0.008179477415978909,0.006228490266948938,0.0042779468931257725,-0.00017009851580951363,0.004864318761974573,0.0069037568755447865,0.007944964803755283,0.008985920809209347,0.01002668496221304,0.009072200395166874,0.009115340188145638,0.008161218836903572,0.00720728887245059,0.0052565704099833965,-0.0011780778877437115,0.00385654391720891,0.0058961715549230576,0.006937485188245773,0.008976336568593979,0.010017124935984612,0.010060153901576996,0.00910575594753027,0.00815160945057869,0.007197655737400055,0.006243952549993992,0.0003056139685213566,0.0038555755745619535,0.005895208101719618,0.00693652406334877,0.008975381031632423,0.01001617219299078,0.010059201158583164,0.009104800410568714,0.00815065111964941,0.007196694612503052,0.006242989096790552,0.0003046358178835362,0.003854607231914997,0.0058942451141774654,0.006935563404113054,0.008974424563348293,0.010015218518674374,0.00906070414930582,0.009103843942284584,0.008149692788720131,0.007195733487606049,0.005244956351816654,0.0003036576963495463,0.0038536391220986843,0.005893281660974026,0.006934602279216051,0.008973469026386738,0.009016608819365501,0.009059748612344265,0.009102888405323029,0.008148734457790852,0.007194772828370333,0.005243990570306778,0.00030267954571172595,0.003852670779451728,0.005892318207770586,0.006933641619980335,0.008972512558102608,0.009015652351081371,0.009058792144060135,0.009101931937038898,0.008147776126861572,0.0071938117034733295,0.005243024788796902,0.00030170142417773604,0.0038517024368047714,0.005891354754567146,0.006932680495083332,0.008971556089818478,0.009014696814119816,0.00905783660709858,0.009100976400077343,0.008146817795932293,0.007192851044237614,0.0052420590072870255,0.0003007232735399157,0.003850734094157815,0.005890391301363707,0.006931719370186329,0.008970600552856922,0.009013740345835686,0.00905688013881445,0.009100019931793213,0.008145859465003014,0.0071918899193406105,0.005241092760115862,-0.0011760921915993094,0.004856592044234276,0.005898122675716877,0.006939431186765432,0.008978272788226604,0.009021412581205368,0.009064552374184132,0.008110299706459045,0.008153550326824188,0.007199601270258427,0.005248843692243099,-0.00017007415590342134,0.004864342976361513,0.006903780624270439,0.007944988086819649,0.008985944092273712,0.009029083885252476,0.009072224609553814,0.008117991499602795,0.007163951173424721,0.006210161838680506,0.003262485144659877,0.0008359341882169247,0.0048720939084887505,0.006911491975188255,0.007952679879963398,0.008993616327643394,0.009036756120622158,0.008082432672381401,0.008125683292746544,0.007171662524342537,0.006217893213033676,0.0022732256911695004,0.0018418733961880207,0.005877843126654625,0.0069192033261060715,0.007960371673107147,0.00800362229347229,0.008046872913837433,0.00809012446552515,0.008133375085890293,0.007179373875260353,0.006225624121725559,0.0012840350391343236,0.0028478028252720833,0.005885574501007795,0.006926915142685175,0.007968063466250896,0.00801131408661604,0.008054564706981182,0.008097815327346325,0.008141066879034042,0.007187085226178169,0.005236263852566481,-0.000702126242686063,0.0028468321543186903,0.005884611047804356,0.006925954017788172,0.007967105135321617,0.00801035575568676,0.008053606376051903,0.008096856996417046,0.008140108548104763,0.007186124566942453,0.005235298071056604,-0.0007031068671494722,0.003852694761008024,0.005892341956496239,0.006933665368705988,0.007974796928465366,0.00801804754883051,0.008061298169195652,0.008104548789560795,0.00715047400444746,0.0071938359178602695,0.005243048537522554,-0.0011741066118702292,0.004858547821640968,0.006898015271872282,0.007939237169921398,0.007982488721609116,0.008025739341974258,0.008068989962339401,0.008112240582704544,0.007158185355365276,0.006204381585121155,0.0032566606532782316,-0.00016809350927360356,0.004866298753768206,0.006905726622790098,0.007946928963065147,0.00799017958343029,0.008033431135118008,0.00807668175548315,0.008119932375848293,0.0071658967062830925,0.006212112959474325,0.0032644509337842464,0.0008379098726436496,0.004874049685895443,0.006913437973707914,0.007954620756208897,0.00799787137657404,0.008041121996939182,0.0080843735486269,0.008127624168992043,0.007173608057200909,0.006219843868166208,0.0022751963697373867,0.001843844074755907,0.005879794247448444,0.0069211493246257305,0.007962312549352646,0.009003223851323128,0.009046363644301891,0.008092065341770649,0.007137957960367203,0.007181319873780012,0.005230468697845936,0.0012860108399763703,0.002849768614396453,0.0058875251561403275,0.006928860675543547,0.007970004342496395,0.00901089608669281,0.009054035879671574,0.008099756203591824,0.007145669311285019,0.007189031224697828,0.005238219629973173,0.0012938405852764845,0.0018506809137761593,0.005886561702936888,0.006927900016307831,0.007969046011567116,0.009009940549731255,0.009053080342710018,0.008098797872662544,0.008142049424350262,0.007188070099800825,0.00523725338280201,0.0022898430470377207,0.0018497076816856861,0.005885598249733448,0.006926938891410828,0.007968087680637836,0.009008984081447124,0.009052123874425888,0.008097839541733265,0.008141090162098408,0.007187109440565109,0.005236287601292133,0.0022888698149472475,0.0008506423328071833,0.0048866537399590015,0.0069259777665138245,0.007967128418385983,0.009008027613162994,0.009051168337464333,0.009094308130443096,0.008140131831169128,0.007186148315668106,0.006232415791600943,0.0032849095296114683,-0.0011642518220469356,0.0038701966404914856,0.005909755360335112,0.007948869839310646,0.008989815600216389,0.009032956324517727,0.00907609611749649,0.008121873252093792,0.0071678427048027515,0.006214063614606857,0.0052605061791837215,0.0013163541443645954,0.0008574964012950659,0.004893438890576363,0.006932728458195925,0.007973861880600452,0.009014744311571121,0.009057884104549885,0.009101023897528648,0.008146865293383598,0.007192899007350206,0.006239183712750673,0.004288694821298122,-0.0006519448943436146,0.003876999020576477,0.005916522815823555,0.007955603301525116,0.008996532298624516,0.009039672091603279,0.009082811884582043,0.008128606714308262,0.0071745929308235645,0.007217954844236374,0.006264303810894489,0.0033170415554195642,-0.00014256444410420954,0.0038935085758566856,0.006930806674063206,0.007971945218741894,0.009012832306325436,0.0090559720993042,0.009099111892282963,0.00814494863152504,0.0071909767575562,0.006237256806343794,0.0052837589755654335,0.0013398433802649379,0.0028770468197762966,0.005914596375077963,0.006955862510949373,0.0079969372600317,0.009037760086357594,0.009080899879336357,0.00912403967231512,0.008169940672814846,0.007216033060103655,0.00626237690448761,0.0043120067566633224,-0.0011426054406911135,0.0038915718905627728,0.005931021645665169,0.007970028556883335,0.008013279177248478,0.009054060094058514,0.009097199887037277,0.008143031038343906,0.007189054973423481,0.00723241688683629,0.006278802640736103,0.0033316512126475573,-0.00011901604011654854,0.004914759658277035,0.006953940726816654,0.007995019666850567,0.009035848081111908,0.009078987874090672,0.00812477245926857,0.008168023079633713,0.007214111275970936,0.006260450463742018,0.005307011306285858,-0.0006302985129877925,0.002900417661294341,0.0059377895668148994,0.006978996563702822,0.008020011708140373,0.009060775861144066,0.008106513880193233,0.008149764500558376,0.007195805665105581,0.007239167112857103,0.006285570561885834,0.003338470822200179,0.0008946937741711736,0.004930261522531509,0.0069693634286522865,0.007012725342065096,0.008053653873503208,0.008096905425190926,0.008140156045556068,0.007186172064393759,0.007229533977806568,0.006275912746787071,0.004325611051172018,-0.0011111286003142595,0.002924759406596422,0.005961946211755276,0.007003091741353273,0.0080440454185009,0.008087296038866043,0.00813054759055376,0.007176538929343224,0.007219900842756033,0.006266254466027021,0.005312830209732056,-0.0006243905518203974,0.0029237885028123856,0.004963196348398924,0.0070021310821175575,0.008043087087571621,0.008086337707936764,0.008129589259624481,0.00717557780444622,0.00721893971785903,0.006265291478484869,0.005311864428222179,-0.0006253711180761456,0.0019336715340614319,0.003973151091486216,0.007009842433035374,0.00805077888071537,0.008094029501080513,0.0071399277076125145,0.007183289621025324,0.007226651068776846,0.006273022387176752,0.004322706256061792,-7.19192175893113e-05,0.002965652383863926,0.006002528592944145,0.0070435707457363605,0.008084421046078205,0.007130294572561979,0.007173656020313501,0.007217017933726311,0.00626336457207799,0.005309932865202427,-0.0010708021000027657,0.001966858049854636,0.005003882572054863,0.007042610086500645,0.007085971534252167,0.007129333447664976,0.0071726953610777855,0.006218928378075361,0.00626240111887455,0.004312030505388975,-0.0010629328899085522,0.0009768939344212413,0.00401394022628665,0.007050321437418461,0.00709368335083127,0.007137044798582792,0.007180406711995602,0.006226659752428532,0.006270132027566433,0.0033229144755750895,-3.071559694944881e-05,0.0020088276360183954,0.005045534111559391,0.007084049750119448,0.007127411663532257,0.0061735291965305805,0.006217001937329769,0.0062604742124676704,0.003313182620331645,-0.0010294949170202017,0.001010164269246161,0.004046959336847067,0.006085620261728764,0.006129093002527952,0.006172565743327141,0.006216038484126329,0.005262486170977354,0.0023152681533247232,-0.0010039262706413865,0.002033231081441045,0.0040722074918448925,0.00411590188741684,0.005156919825822115,0.006197685841470957,0.005244086496531963,0.003293718909844756,-0.000996057060547173,0.0010434344876557589,0.002084957202896476,0.003126288065686822,0.004167367238551378,0.004211061634123325,0.0042547560296952724,0.0013075972674414515,6.247548299143091e-05,0.0021015505772083998,0.002145466860383749,0.003186644520610571,0.003230449976399541,0.002277215477079153,-0.0009360697004012764,0.00010563537944108248,0.001147148315794766,0.002188409911468625,0.0022323261946439743,0.0002821874222718179,-0.000883951666764915,0.0001576228823978454,0.0011990051716566086,0.0002458988456055522,-0.0008318335167132318,-0.0007875845185481012,-0.0007885651430115104],\"type\":\"scatter3d\"}],                        {\"updatemenus\":[{\"buttons\":[{\"args\":[null,{\"frame\":{\"duration\":50,\"redraw\":true},\"transition\":{\"duration\":0},\"fromcurrent\":true,\"mode\":\"immediate\"}],\"label\":\"Play\",\"method\":\"animate\"}],\"pad\":{\"r\":10,\"t\":45},\"showactive\":false,\"type\":\"buttons\",\"x\":0.8,\"xanchor\":\"left\",\"y\":1,\"yanchor\":\"bottom\"}],\"template\":{\"data\":{\"histogram2dcontour\":[{\"type\":\"histogram2dcontour\",\"colorbar\":{\"outlinewidth\":0,\"ticks\":\"\"},\"colorscale\":[[0.0,\"#0d0887\"],[0.1111111111111111,\"#46039f\"],[0.2222222222222222,\"#7201a8\"],[0.3333333333333333,\"#9c179e\"],[0.4444444444444444,\"#bd3786\"],[0.5555555555555556,\"#d8576b\"],[0.6666666666666666,\"#ed7953\"],[0.7777777777777778,\"#fb9f3a\"],[0.8888888888888888,\"#fdca26\"],[1.0,\"#f0f921\"]]}],\"choropleth\":[{\"type\":\"choropleth\",\"colorbar\":{\"outlinewidth\":0,\"ticks\":\"\"}}],\"histogram2d\":[{\"type\":\"histogram2d\",\"colorbar\":{\"outlinewidth\":0,\"ticks\":\"\"},\"colorscale\":[[0.0,\"#0d0887\"],[0.1111111111111111,\"#46039f\"],[0.2222222222222222,\"#7201a8\"],[0.3333333333333333,\"#9c179e\"],[0.4444444444444444,\"#bd3786\"],[0.5555555555555556,\"#d8576b\"],[0.6666666666666666,\"#ed7953\"],[0.7777777777777778,\"#fb9f3a\"],[0.8888888888888888,\"#fdca26\"],[1.0,\"#f0f921\"]]}],\"heatmap\":[{\"type\":\"heatmap\",\"colorbar\":{\"outlinewidth\":0,\"ticks\":\"\"},\"colorscale\":[[0.0,\"#0d0887\"],[0.1111111111111111,\"#46039f\"],[0.2222222222222222,\"#7201a8\"],[0.3333333333333333,\"#9c179e\"],[0.4444444444444444,\"#bd3786\"],[0.5555555555555556,\"#d8576b\"],[0.6666666666666666,\"#ed7953\"],[0.7777777777777778,\"#fb9f3a\"],[0.8888888888888888,\"#fdca26\"],[1.0,\"#f0f921\"]]}],\"heatmapgl\":[{\"type\":\"heatmapgl\",\"colorbar\":{\"outlinewidth\":0,\"ticks\":\"\"},\"colorscale\":[[0.0,\"#0d0887\"],[0.1111111111111111,\"#46039f\"],[0.2222222222222222,\"#7201a8\"],[0.3333333333333333,\"#9c179e\"],[0.4444444444444444,\"#bd3786\"],[0.5555555555555556,\"#d8576b\"],[0.6666666666666666,\"#ed7953\"],[0.7777777777777778,\"#fb9f3a\"],[0.8888888888888888,\"#fdca26\"],[1.0,\"#f0f921\"]]}],\"contourcarpet\":[{\"type\":\"contourcarpet\",\"colorbar\":{\"outlinewidth\":0,\"ticks\":\"\"}}],\"contour\":[{\"type\":\"contour\",\"colorbar\":{\"outlinewidth\":0,\"ticks\":\"\"},\"colorscale\":[[0.0,\"#0d0887\"],[0.1111111111111111,\"#46039f\"],[0.2222222222222222,\"#7201a8\"],[0.3333333333333333,\"#9c179e\"],[0.4444444444444444,\"#bd3786\"],[0.5555555555555556,\"#d8576b\"],[0.6666666666666666,\"#ed7953\"],[0.7777777777777778,\"#fb9f3a\"],[0.8888888888888888,\"#fdca26\"],[1.0,\"#f0f921\"]]}],\"surface\":[{\"type\":\"surface\",\"colorbar\":{\"outlinewidth\":0,\"ticks\":\"\"},\"colorscale\":[[0.0,\"#0d0887\"],[0.1111111111111111,\"#46039f\"],[0.2222222222222222,\"#7201a8\"],[0.3333333333333333,\"#9c179e\"],[0.4444444444444444,\"#bd3786\"],[0.5555555555555556,\"#d8576b\"],[0.6666666666666666,\"#ed7953\"],[0.7777777777777778,\"#fb9f3a\"],[0.8888888888888888,\"#fdca26\"],[1.0,\"#f0f921\"]]}],\"mesh3d\":[{\"type\":\"mesh3d\",\"colorbar\":{\"outlinewidth\":0,\"ticks\":\"\"}}],\"scatter\":[{\"fillpattern\":{\"fillmode\":\"overlay\",\"size\":10,\"solidity\":0.2},\"type\":\"scatter\"}],\"parcoords\":[{\"type\":\"parcoords\",\"line\":{\"colorbar\":{\"outlinewidth\":0,\"ticks\":\"\"}}}],\"scatterpolargl\":[{\"type\":\"scatterpolargl\",\"marker\":{\"colorbar\":{\"outlinewidth\":0,\"ticks\":\"\"}}}],\"bar\":[{\"error_x\":{\"color\":\"#2a3f5f\"},\"error_y\":{\"color\":\"#2a3f5f\"},\"marker\":{\"line\":{\"color\":\"#E5ECF6\",\"width\":0.5},\"pattern\":{\"fillmode\":\"overlay\",\"size\":10,\"solidity\":0.2}},\"type\":\"bar\"}],\"scattergeo\":[{\"type\":\"scattergeo\",\"marker\":{\"colorbar\":{\"outlinewidth\":0,\"ticks\":\"\"}}}],\"scatterpolar\":[{\"type\":\"scatterpolar\",\"marker\":{\"colorbar\":{\"outlinewidth\":0,\"ticks\":\"\"}}}],\"histogram\":[{\"marker\":{\"pattern\":{\"fillmode\":\"overlay\",\"size\":10,\"solidity\":0.2}},\"type\":\"histogram\"}],\"scattergl\":[{\"type\":\"scattergl\",\"marker\":{\"colorbar\":{\"outlinewidth\":0,\"ticks\":\"\"}}}],\"scatter3d\":[{\"type\":\"scatter3d\",\"line\":{\"colorbar\":{\"outlinewidth\":0,\"ticks\":\"\"}},\"marker\":{\"colorbar\":{\"outlinewidth\":0,\"ticks\":\"\"}}}],\"scattermapbox\":[{\"type\":\"scattermapbox\",\"marker\":{\"colorbar\":{\"outlinewidth\":0,\"ticks\":\"\"}}}],\"scatterternary\":[{\"type\":\"scatterternary\",\"marker\":{\"colorbar\":{\"outlinewidth\":0,\"ticks\":\"\"}}}],\"scattercarpet\":[{\"type\":\"scattercarpet\",\"marker\":{\"colorbar\":{\"outlinewidth\":0,\"ticks\":\"\"}}}],\"carpet\":[{\"aaxis\":{\"endlinecolor\":\"#2a3f5f\",\"gridcolor\":\"white\",\"linecolor\":\"white\",\"minorgridcolor\":\"white\",\"startlinecolor\":\"#2a3f5f\"},\"baxis\":{\"endlinecolor\":\"#2a3f5f\",\"gridcolor\":\"white\",\"linecolor\":\"white\",\"minorgridcolor\":\"white\",\"startlinecolor\":\"#2a3f5f\"},\"type\":\"carpet\"}],\"table\":[{\"cells\":{\"fill\":{\"color\":\"#EBF0F8\"},\"line\":{\"color\":\"white\"}},\"header\":{\"fill\":{\"color\":\"#C8D4E3\"},\"line\":{\"color\":\"white\"}},\"type\":\"table\"}],\"barpolar\":[{\"marker\":{\"line\":{\"color\":\"#E5ECF6\",\"width\":0.5},\"pattern\":{\"fillmode\":\"overlay\",\"size\":10,\"solidity\":0.2}},\"type\":\"barpolar\"}],\"pie\":[{\"automargin\":true,\"type\":\"pie\"}]},\"layout\":{\"autotypenumbers\":\"strict\",\"colorway\":[\"#636efa\",\"#EF553B\",\"#00cc96\",\"#ab63fa\",\"#FFA15A\",\"#19d3f3\",\"#FF6692\",\"#B6E880\",\"#FF97FF\",\"#FECB52\"],\"font\":{\"color\":\"#2a3f5f\"},\"hovermode\":\"closest\",\"hoverlabel\":{\"align\":\"left\"},\"paper_bgcolor\":\"white\",\"plot_bgcolor\":\"#E5ECF6\",\"polar\":{\"bgcolor\":\"#E5ECF6\",\"angularaxis\":{\"gridcolor\":\"white\",\"linecolor\":\"white\",\"ticks\":\"\"},\"radialaxis\":{\"gridcolor\":\"white\",\"linecolor\":\"white\",\"ticks\":\"\"}},\"ternary\":{\"bgcolor\":\"#E5ECF6\",\"aaxis\":{\"gridcolor\":\"white\",\"linecolor\":\"white\",\"ticks\":\"\"},\"baxis\":{\"gridcolor\":\"white\",\"linecolor\":\"white\",\"ticks\":\"\"},\"caxis\":{\"gridcolor\":\"white\",\"linecolor\":\"white\",\"ticks\":\"\"}},\"coloraxis\":{\"colorbar\":{\"outlinewidth\":0,\"ticks\":\"\"}},\"colorscale\":{\"sequential\":[[0.0,\"#0d0887\"],[0.1111111111111111,\"#46039f\"],[0.2222222222222222,\"#7201a8\"],[0.3333333333333333,\"#9c179e\"],[0.4444444444444444,\"#bd3786\"],[0.5555555555555556,\"#d8576b\"],[0.6666666666666666,\"#ed7953\"],[0.7777777777777778,\"#fb9f3a\"],[0.8888888888888888,\"#fdca26\"],[1.0,\"#f0f921\"]],\"sequentialminus\":[[0.0,\"#0d0887\"],[0.1111111111111111,\"#46039f\"],[0.2222222222222222,\"#7201a8\"],[0.3333333333333333,\"#9c179e\"],[0.4444444444444444,\"#bd3786\"],[0.5555555555555556,\"#d8576b\"],[0.6666666666666666,\"#ed7953\"],[0.7777777777777778,\"#fb9f3a\"],[0.8888888888888888,\"#fdca26\"],[1.0,\"#f0f921\"]],\"diverging\":[[0,\"#8e0152\"],[0.1,\"#c51b7d\"],[0.2,\"#de77ae\"],[0.3,\"#f1b6da\"],[0.4,\"#fde0ef\"],[0.5,\"#f7f7f7\"],[0.6,\"#e6f5d0\"],[0.7,\"#b8e186\"],[0.8,\"#7fbc41\"],[0.9,\"#4d9221\"],[1,\"#276419\"]]},\"xaxis\":{\"gridcolor\":\"white\",\"linecolor\":\"white\",\"ticks\":\"\",\"title\":{\"standoff\":15},\"zerolinecolor\":\"white\",\"automargin\":true,\"zerolinewidth\":2},\"yaxis\":{\"gridcolor\":\"white\",\"linecolor\":\"white\",\"ticks\":\"\",\"title\":{\"standoff\":15},\"zerolinecolor\":\"white\",\"automargin\":true,\"zerolinewidth\":2},\"scene\":{\"xaxis\":{\"backgroundcolor\":\"#E5ECF6\",\"gridcolor\":\"white\",\"linecolor\":\"white\",\"showbackground\":true,\"ticks\":\"\",\"zerolinecolor\":\"white\",\"gridwidth\":2},\"yaxis\":{\"backgroundcolor\":\"#E5ECF6\",\"gridcolor\":\"white\",\"linecolor\":\"white\",\"showbackground\":true,\"ticks\":\"\",\"zerolinecolor\":\"white\",\"gridwidth\":2},\"zaxis\":{\"backgroundcolor\":\"#E5ECF6\",\"gridcolor\":\"white\",\"linecolor\":\"white\",\"showbackground\":true,\"ticks\":\"\",\"zerolinecolor\":\"white\",\"gridwidth\":2}},\"shapedefaults\":{\"line\":{\"color\":\"#2a3f5f\"}},\"annotationdefaults\":{\"arrowcolor\":\"#2a3f5f\",\"arrowhead\":0,\"arrowwidth\":1},\"geo\":{\"bgcolor\":\"white\",\"landcolor\":\"#E5ECF6\",\"subunitcolor\":\"white\",\"showland\":true,\"showlakes\":true,\"lakecolor\":\"white\"},\"title\":{\"x\":0.05},\"mapbox\":{\"style\":\"light\"}}}},                        {\"responsive\": true}                    ).then(function(){\n",
       "                            Plotly.addFrames('6a5100ec-46a7-4fd2-97cb-e8a12b316a6f', [{\"layout\":{\"scene\":{\"camera\":{\"eye\":{\"x\":1.25,\"y\":1.25,\"z\":0.8}}}}},{\"layout\":{\"scene\":{\"camera\":{\"eye\":{\"x\":1.3685469774060675,\"y\":1.1189634357889973,\"z\":0.8}}}}},{\"layout\":{\"scene\":{\"camera\":{\"eye\":{\"x\":1.4734198857953784,\"y\":0.9767465588077254,\"z\":0.8}}}}},{\"layout\":{\"scene\":{\"camera\":{\"eye\":{\"x\":1.5635708697336819,\"y\":0.824770353080333,\"z\":0.8}}}}},{\"layout\":{\"scene\":{\"camera\":{\"eye\":{\"x\":1.6380991703894194,\"y\":0.6645533146177932,\"z\":0.8}}}}},{\"layout\":{\"scene\":{\"camera\":{\"eye\":{\"x\":1.6962601256182197,\"y\":0.4976962791077122,\"z\":0.8}}}}},{\"layout\":{\"scene\":{\"camera\":{\"eye\":{\"x\":1.737472610380892,\"y\":0.32586642689330336,\"z\":0.8}}}}},{\"layout\":{\"scene\":{\"camera\":{\"eye\":{\"x\":1.7613248431527242,\"y\":0.15078062505849654,\"z\":0.8}}}}},{\"layout\":{\"scene\":{\"camera\":{\"eye\":{\"x\":1.7675785003083602,\"y\":-0.025811726940446755,\"z\":0.8}}}}},{\"layout\":{\"scene\":{\"camera\":{\"eye\":{\"x\":1.7561710973726847,\"y\":-0.20214617669602375,\"z\":0.8}}}}},{\"layout\":{\"scene\":{\"camera\":{\"eye\":{\"x\":1.7272166133450453,\"y\":-0.376460848674696,\"z\":0.8}}}}},{\"layout\":{\"scene\":{\"camera\":{\"eye\":{\"x\":1.6810043518587658,\"y\":-0.5470140482948226,\"z\":0.8}}}}},{\"layout\":{\"scene\":{\"camera\":{\"eye\":{\"x\":1.6179960505548747,\"y\":-0.7121016643631912,\"z\":0.8}}}}},{\"layout\":{\"scene\":{\"camera\":{\"eye\":{\"x\":1.5388212675522255,\"y\":-0.870074195990757,\"z\":0.8}}}}},{\"layout\":{\"scene\":{\"camera\":{\"eye\":{\"x\":1.4442710911108763,\"y\":-1.0193532338602744,\"z\":0.8}}}}},{\"layout\":{\"scene\":{\"camera\":{\"eye\":{\"x\":1.3352902353396967,\"y\":-1.1584472311704395,\"z\":0.8}}}}},{\"layout\":{\"scene\":{\"camera\":{\"eye\":{\"x\":1.2129676009252703,\"y\":-1.2859664066784924,\"z\":0.8}}}}},{\"layout\":{\"scene\":{\"camera\":{\"eye\":{\"x\":1.0785253951961797,\"y\":-1.4006366309349918,\"z\":0.8}}}}},{\"layout\":{\"scene\":{\"camera\":{\"eye\":{\"x\":0.9333069202313851,\"y\":-1.5013121569641028,\"z\":0.8}}}}},{\"layout\":{\"scene\":{\"camera\":{\"eye\":{\"x\":0.7787631510298885,\"y\":-1.5869870681886475,\"z\":0.8}}}}},{\"layout\":{\"scene\":{\"camera\":{\"eye\":{\"x\":0.6164382378481742,\"y\":-1.6568053292160303,\"z\":0.8}}}}},{\"layout\":{\"scene\":{\"camera\":{\"eye\":{\"x\":0.44795407756127026,\"y\":-1.710069339060914,\"z\":0.8}}}}},{\"layout\":{\"scene\":{\"camera\":{\"eye\":{\"x\":0.27499410820530534,\"y\":-1.7462469013436699,\"z\":0.8}}}}},{\"layout\":{\"scene\":{\"camera\":{\"eye\":{\"x\":0.09928648862111944,\"y\":-1.7649765418206806,\"z\":0.8}}}}},{\"layout\":{\"scene\":{\"camera\":{\"eye\":{\"x\":-0.07741316873761894,\"y\":-1.7660711201154955,\"z\":0.8}}}}},{\"layout\":{\"scene\":{\"camera\":{\"eye\":{\"x\":-0.25333933930372143,\"y\":-1.7495196995636126,\"z\":0.8}}}}},{\"layout\":{\"scene\":{\"camera\":{\"eye\":{\"x\":-0.4267342269343539,\"y\":-1.7154876564880144,\"z\":0.8}}}}},{\"layout\":{\"scene\":{\"camera\":{\"eye\":{\"x\":-0.5958653272290393,\"y\":-1.6643150278136138,\"z\":0.8}}}}},{\"layout\":{\"scene\":{\"camera\":{\"eye\":{\"x\":-0.7590427381409421,\"y\":-1.5965131135307038,\"z\":0.8}}}}},{\"layout\":{\"scene\":{\"camera\":{\"eye\":{\"x\":-0.9146360449195108,\"y\":-1.5127593679544658,\"z\":0.8}}}}},{\"layout\":{\"scene\":{\"camera\":{\"eye\":{\"x\":-1.0610906106757227,\"y\":-1.4138906308253907,\"z\":0.8}}}}},{\"layout\":{\"scene\":{\"camera\":{\"eye\":{\"x\":-1.196943109799986,\"y\":-1.3008947658832124,\"z\":0.8}}}}},{\"layout\":{\"scene\":{\"camera\":{\"eye\":{\"x\":-1.3208361490279166,\"y\":-1.1749007904589663,\"z\":0.8}}}}},{\"layout\":{\"scene\":{\"camera\":{\"eye\":{\"x\":-1.431531830065142,\"y\":-1.0371675947070202,\"z\":0.8}}}}},{\"layout\":{\"scene\":{\"camera\":{\"eye\":{\"x\":-1.5279241182578656,\"y\":-0.8890713631907865,\"z\":0.8}}}}},{\"layout\":{\"scene\":{\"camera\":{\"eye\":{\"x\":-1.6090498937255202,\"y\":-0.7320918245014705,\"z\":0.8}}}}},{\"layout\":{\"scene\":{\"camera\":{\"eye\":{\"x\":-1.6740985745362496,\"y\":-0.5677974662991182,\"z\":0.8}}}}},{\"layout\":{\"scene\":{\"camera\":{\"eye\":{\"x\":-1.7224202157736266,\"y\":-0.39782986350239324,\"z\":0.8}}}}},{\"layout\":{\"scene\":{\"camera\":{\"eye\":{\"x\":-1.7535320035714197,\"y\":-0.22388727621462157,\"z\":0.8}}}}},{\"layout\":{\"scene\":{\"camera\":{\"eye\":{\"x\":-1.7671230792301427,\"y\":-0.04770768127020719,\"z\":0.8}}}}},{\"layout\":{\"scene\":{\"camera\":{\"eye\":{\"x\":-1.7630576452144253,\"y\":0.1289485930553954,\"z\":0.8}}}}},{\"layout\":{\"scene\":{\"camera\":{\"eye\":{\"x\":-1.741376321997099,\"y\":0.30431645566392784,\"z\":0.8}}}}},{\"layout\":{\"scene\":{\"camera\":{\"eye\":{\"x\":-1.7022957421928595,\"y\":0.47664368884111097,\"z\":0.8}}}}},{\"layout\":{\"scene\":{\"camera\":{\"eye\":{\"x\":-1.646206386036788,\"y\":0.6442084558368493,\"z\":0.8}}}}},{\"layout\":{\"scene\":{\"camera\":{\"eye\":{\"x\":-1.573668679834919,\"y\":0.8053365048888708,\"z\":0.8}}}}},{\"layout\":{\"scene\":{\"camera\":{\"eye\":{\"x\":-1.4854073963698458,\"y\":0.9584178977928967,\"z\":0.8}}}}},{\"layout\":{\"scene\":{\"camera\":{\"eye\":{\"x\":-1.3823044132106481,\"y\":1.101923095873013,\"z\":0.8}}}}},{\"layout\":{\"scene\":{\"camera\":{\"eye\":{\"x\":-1.2653899012837393,\"y\":1.2344182426265127,\"z\":0.8}}}}},{\"layout\":{\"scene\":{\"camera\":{\"eye\":{\"x\":-1.1358320317454915,\"y\":1.3545794903441097,\"z\":0.8}}}}},{\"layout\":{\"scene\":{\"camera\":{\"eye\":{\"x\":-0.9949253040021958,\"y\":1.4612062275586353,\"z\":0.8}}}}},{\"layout\":{\"scene\":{\"camera\":{\"eye\":{\"x\":-0.8440776114998902,\"y\":1.553233075157956,\"z\":0.8}}}}},{\"layout\":{\"scene\":{\"camera\":{\"eye\":{\"x\":-0.6847961745184389,\"y\":1.6297405313008917,\"z\":0.8}}}}},{\"layout\":{\"scene\":{\"camera\":{\"eye\":{\"x\":-0.5186724805247199,\"y\":1.6899641587756626,\"z\":0.8}}}}},{\"layout\":{\"scene\":{\"camera\":{\"eye\":{\"x\":-0.347366382555924,\"y\":1.733302223003828,\"z\":0.8}}}}},{\"layout\":{\"scene\":{\"camera\":{\"eye\":{\"x\":-0.17258951451669058,\"y\":1.7593217043732774,\"z\":0.8}}}}},{\"layout\":{\"scene\":{\"camera\":{\"eye\":{\"x\":0.0039118109010850555,\"y\":1.767762624827065,\"z\":0.8}}}}},{\"layout\":{\"scene\":{\"camera\":{\"eye\":{\"x\":0.18037405079741164,\"y\":1.7585406454782138,\"z\":0.8}}}}},{\"layout\":{\"scene\":{\"camera\":{\"eye\":{\"x\":0.3550340528019027,\"y\":1.7317479092959966,\"z\":0.8}}}}},{\"layout\":{\"scene\":{\"camera\":{\"eye\":{\"x\":0.5261466719094534,\"y\":1.6876521204438448,\"z\":0.8}}}}},{\"layout\":{\"scene\":{\"camera\":{\"eye\":{\"x\":0.6920022073922499,\"y\":1.62669386946784,\"z\":0.8}}}}},{\"layout\":{\"scene\":{\"camera\":{\"eye\":{\"x\":0.8509434855643001,\"y\":1.5494822310616148,\"z\":0.8}}}}},{\"layout\":{\"scene\":{\"camera\":{\"eye\":{\"x\":1.001382417713112,\"y\":1.4567886783933495,\"z\":0.8}}}}},{\"layout\":{\"scene\":{\"camera\":{\"eye\":{\"x\":1.1418158677571515,\"y\":1.3495393748008924,\"z\":0.8}}}}},{\"layout\":{\"scene\":{\"camera\":{\"eye\":{\"x\":1.270840671084707,\"y\":1.2288059198738308,\"z\":0.8}}}}},{\"layout\":{\"scene\":{\"camera\":{\"eye\":{\"x\":1.3871676545108578,\"y\":1.0957946423846239,\"z\":0.8}}}}},{\"layout\":{\"scene\":{\"camera\":{\"eye\":{\"x\":1.4896345172697987,\"y\":0.9518345470502599,\"z\":0.8}}}}},{\"layout\":{\"scene\":{\"camera\":{\"eye\":{\"x\":1.577217444339885,\"y\":0.7983640355564382,\"z\":0.8}}}}},{\"layout\":{\"scene\":{\"camera\":{\"eye\":{\"x\":1.6490413360648972,\"y\":0.6369165345234014,\"z\":0.8}}}}},{\"layout\":{\"scene\":{\"camera\":{\"eye\":{\"x\":1.7043885518605422,\"y\":0.46910517401401974,\"z\":0.8}}}}},{\"layout\":{\"scene\":{\"camera\":{\"eye\":{\"x\":1.742706080641946,\"y\":0.2966066696714459,\"z\":0.8}}}}},{\"layout\":{\"scene\":{\"camera\":{\"eye\":{\"x\":1.7636110663276172,\"y\":0.12114456953064445,\"z\":0.8}}}}},{\"layout\":{\"scene\":{\"camera\":{\"eye\":{\"x\":1.766894633210853,\"y\":-0.05552796710383823,\"z\":0.8}}}}},{\"layout\":{\"scene\":{\"camera\":{\"eye\":{\"x\":1.7525239729767597,\"y\":-0.23164568664612328,\"z\":0.8}}}}},{\"layout\":{\"scene\":{\"camera\":{\"eye\":{\"x\":1.7206426725120867,\"y\":-0.4054488790593255,\"z\":0.8}}}}},{\"layout\":{\"scene\":{\"camera\":{\"eye\":{\"x\":1.6715692792325216,\"y\":-0.5752009602965458,\"z\":0.8}}}}},{\"layout\":{\"scene\":{\"camera\":{\"eye\":{\"x\":1.605794118262206,\"y\":-0.7392058236746413,\"z\":0.8}}}}},{\"layout\":{\"scene\":{\"camera\":{\"eye\":{\"x\":1.5239743932671765,\"y\":-0.8958247868115395,\"z\":0.8}}}}},{\"layout\":{\"scene\":{\"camera\":{\"eye\":{\"x\":1.426927619893581,\"y\":-1.04349296479892,\"z\":0.8}}}}},{\"layout\":{\"scene\":{\"camera\":{\"eye\":{\"x\":1.3156234574215673,\"y\":-1.180734906014945,\"z\":0.8}}}}},{\"layout\":{\"scene\":{\"camera\":{\"eye\":{\"x\":1.1911740202502938,\"y\":-1.3061793343491364,\"z\":0.8}}}}},{\"layout\":{\"scene\":{\"camera\":{\"eye\":{\"x\":1.0548227660184604,\"y\":-1.4185728505399942,\"z\":0.8}}}}},{\"layout\":{\"scene\":{\"camera\":{\"eye\":{\"x\":0.9079320713866189,\"y\":-1.5167924557260966,\"z\":0.8}}}}},{\"layout\":{\"scene\":{\"camera\":{\"eye\":{\"x\":0.7519696196199205,\"y\":-1.599856772079511,\"z\":0.8}}}}},{\"layout\":{\"scene\":{\"camera\":{\"eye\":{\"x\":0.5884937359820905,\"y\":-1.6669358484086425,\"z\":0.8}}}}},{\"layout\":{\"scene\":{\"camera\":{\"eye\":{\"x\":0.41913781746449363,\"y\":-1.7173594527562077,\"z\":0.8}}}}},{\"layout\":{\"scene\":{\"camera\":{\"eye\":{\"x\":0.24559401242333323,\"y\":-1.7506237691353923,\"z\":0.8}}}}},{\"layout\":{\"scene\":{\"camera\":{\"eye\":{\"x\":0.06959631319262605,\"y\":-1.7663964314926572,\"z\":0.8}}}}},{\"layout\":{\"scene\":{\"camera\":{\"eye\":{\"x\":-0.10709676939402235,\"y\":-1.7645198445994774,\"z\":0.8}}}}},{\"layout\":{\"scene\":{\"camera\":{\"eye\":{\"x\":-0.2827197764623679,\"y\":-1.745012758691772,\"z\":0.8}}}}},{\"layout\":{\"scene\":{\"camera\":{\"eye\":{\"x\":-0.45551794097903464,\"y\":-1.7080700821237462,\"z\":0.8}}}}},{\"layout\":{\"scene\":{\"camera\":{\"eye\":{\"x\":-0.6237647208036504,\"y\":-1.6540609339080419,\"z\":0.8}}}}},{\"layout\":{\"scene\":{\"camera\":{\"eye\":{\"x\":-0.7857790497271997,\"y\":-1.58352495560058,\"z\":0.8}}}}},{\"layout\":{\"scene\":{\"camera\":{\"eye\":{\"x\":-0.9399421341298975,\"y\":-1.4971669193805124,\"z\":0.8}}}}},{\"layout\":{\"scene\":{\"camera\":{\"eye\":{\"x\":-1.0847136274319271,\"y\":-1.3958496861995813,\"z\":0.8}}}}},{\"layout\":{\"scene\":{\"camera\":{\"eye\":{\"x\":-1.218647020727311,\"y\":-1.2805855843607052,\"z\":0.8}}}}},{\"layout\":{\"scene\":{\"camera\":{\"eye\":{\"x\":-1.3404040958227346,\"y\":-1.1525262946682115,\"z\":0.8}}}}},{\"layout\":{\"scene\":{\"camera\":{\"eye\":{\"x\":-1.448768296271385,\"y\":-1.0129513432139317,\"z\":0.8}}}}},{\"layout\":{\"scene\":{\"camera\":{\"eye\":{\"x\":-1.5426568828028173,\"y\":-0.8632553167754569,\"z\":0.8}}}}},{\"layout\":{\"scene\":{\"camera\":{\"eye\":{\"x\":-1.6211317516958519,\"y\":-0.7049339285660311,\"z\":0.8}}}}},{\"layout\":{\"scene\":{\"camera\":{\"eye\":{\"x\":-1.6834088080008527,\"y\":-0.5395690735625494,\"z\":0.8}}}}},{\"layout\":{\"scene\":{\"camera\":{\"eye\":{\"x\":-1.7288657999572776,\"y\":-0.3688130227338533,\"z\":0.8}}}}},{\"layout\":{\"scene\":{\"camera\":{\"eye\":{\"x\":-1.7570485363275825,\"y\":-0.1943719140953739,\"z\":0.8}}}}},{\"layout\":{\"scene\":{\"camera\":{\"eye\":{\"x\":-1.7676754245259283,\"y\":-0.017988705542069106,\"z\":0.8}}}}}]);\n",
       "                        }).then(function(){\n",
       "                            \n",
       "var gd = document.getElementById('6a5100ec-46a7-4fd2-97cb-e8a12b316a6f');\n",
       "var x = new MutationObserver(function (mutations, observer) {{\n",
       "        var display = window.getComputedStyle(gd).display;\n",
       "        if (!display || display === 'none') {{\n",
       "            console.log([gd, 'removed!']);\n",
       "            Plotly.purge(gd);\n",
       "            observer.disconnect();\n",
       "        }}\n",
       "}});\n",
       "\n",
       "// Listen for the removal of the full notebook cells\n",
       "var notebookContainer = gd.closest('#notebook-container');\n",
       "if (notebookContainer) {{\n",
       "    x.observe(notebookContainer, {childList: true});\n",
       "}}\n",
       "\n",
       "// Listen for the clearing of the current output cell\n",
       "var outputEl = gd.closest('.output');\n",
       "if (outputEl) {{\n",
       "    x.observe(outputEl, {childList: true});\n",
       "}}\n",
       "\n",
       "                        })                };                });            </script>        </div>"
      ]
     },
     "metadata": {},
     "output_type": "display_data"
    }
   ],
   "source": [
    "visualize_rotate([go.Scatter3d(x=x, y=y, z=z,mode='markers')]).show()"
   ]
  },
  {
   "cell_type": "code",
   "execution_count": 190,
   "id": "d244eadf",
   "metadata": {},
   "outputs": [],
   "source": [
    "class PointCloudData(Dataset):\n",
    "    def __init__(self, root_dir, valid=False, folder=\"train\"):\n",
    "        self.files = []\n",
    "        target_output = {\n",
    "        #     x1, y1, x2, y2, pitch, f1, f2\n",
    "            \"nugg_1\": np.array([0.4133, 0.115, 0.4024, 0.1550, 0.524, 0.5, 0.75]),\n",
    "            \"nugg_2\": np.array([0.4054, 0.094, 0.4535, 0.1271, 0.524, 0.5, 0.75]),\n",
    "            \"nugg_3\": np.array([0.4156, 0.1164, 0.4132, 0.1621, 0.524, 0.5, 0.75]),\n",
    "            \"nugg_4\": np.array([0.4017, 0.0874, 0.4305, 0.1325, 0.524, 0.5, 0.75]),\n",
    "            \"nugg_5\": np.array([0.4115, 0.0840, 0.4457, 0.1250, 0.524, 0.5, 0.75])\n",
    "        }\n",
    "        for i in range(5):\n",
    "            pcd = o3d.io.read_point_cloud(f'{root_dir}/{folder}/nugg_{i+1}.pcd')\n",
    "            xyz = np.asarray(pcd.points)\n",
    "            xyz = xyz[np.where((xyz[:,2]>center[2]-0.001) & (xyz[:,2]<center[2]+0.001))]\n",
    "            idx = np.random.choice(np.arange(xyz.shape[0]), size=128)\n",
    "            xyz = xyz[idx]\n",
    "            sample = {}\n",
    "            sample['pt_cld'] = xyz\n",
    "            sample['target'] = target_output[f'nugg_{i+1}']\n",
    "            self.files.append(sample)\n",
    "\n",
    "    def __len__(self):\n",
    "        return len(self.files)\n",
    "\n",
    "    def __getitem__(self, idx):\n",
    "        pointcloud = self.files[idx]['pt_cld']\n",
    "        target = self.files[idx]['target']\n",
    "        return {'pointcloud': torch.from_numpy(pointcloud), \n",
    "                'target': torch.from_numpy(target)}"
   ]
  },
  {
   "cell_type": "code",
   "execution_count": 191,
   "id": "0dd4535d",
   "metadata": {},
   "outputs": [],
   "source": [
    "train_ds = PointCloudData('./')\n",
    "# valid_ds = PointCloudData('./data', valid=True, folder='test', transform=train_transforms)"
   ]
  },
  {
   "cell_type": "code",
   "execution_count": 192,
   "id": "b98483fa",
   "metadata": {},
   "outputs": [],
   "source": [
    "train_loader = DataLoader(dataset=train_ds, batch_size=1, shuffle=True)\n",
    "# valid_loader = DataLoader(dataset=valid_ds, batch_size=64)"
   ]
  },
  {
   "cell_type": "code",
   "execution_count": 193,
   "id": "fde43612",
   "metadata": {},
   "outputs": [],
   "source": [
    "class Tnet(nn.Module):\n",
    "    def __init__(self, k=3):\n",
    "        super().__init__()\n",
    "        self.k = k\n",
    "        self.conv1 = nn.Conv1d(k, 64, 1)\n",
    "        self.conv2 = nn.Conv1d(64, 128, 1)\n",
    "        self.conv3 = nn.Conv1d(128, 512, 1)\n",
    "        self.fc1 = nn.Linear(512,256)\n",
    "        self.fc2 = nn.Linear(256,128)\n",
    "        self.fc3 = nn.Linear(128, k*k)\n",
    "        \n",
    "#         self.bn1 = nn.BatchNorm1d(64)\n",
    "#         self.bn2 = nn.BatchNorm1d(128)\n",
    "#         self.bn3 = nn.BatchNorm1d(512)\n",
    "#         self.bn4 = nn.BatchNorm1d(256)\n",
    "#         self.bn5 = nn.BatchNorm1d(128)\n",
    "    def forward(self, x):\n",
    "        bs = x.size(0)\n",
    "        x = F.relu(self.conv1(x))\n",
    "        x = F.relu(self.conv2(x))\n",
    "        x = F.relu(self.conv3(x))\n",
    "        x = nn.MaxPool1d(x.size(-1))(x)\n",
    "        x = nn.Flatten(1)(x)\n",
    "        x = F.relu(self.fc1(x))\n",
    "        x = F.relu(self.fc2(x))\n",
    "        \n",
    "        init = torch.eye(self.k, requires_grad=True).repeat(bs,1,1)\n",
    "        if x.is_cuda:\n",
    "            init = init.cuda()\n",
    "        matrix = self.fc3(x).view(-1, self.k, self.k) + init\n",
    "        return matrix\n",
    "    \n",
    "class Transform(nn.Module):\n",
    "    def __init__(self):\n",
    "        super().__init__()\n",
    "        self.input_transform = Tnet(k=3)\n",
    "        self.feature_transform = Tnet(k=64)\n",
    "        self.conv1 = nn.Conv1d(3, 64, 1)\n",
    "        self.conv2 = nn.Conv1d(64, 128, 1)\n",
    "        self.conv3 = nn.Conv1d(128, 512, 1)\n",
    "        \n",
    "#         self.bn1 = nn.BatchNorm1d(64)\n",
    "#         self.bn2 = nn.BatchNorm1d(128)\n",
    "#         self.bn3 = nn.BatchNorm1d(512)\n",
    "    def forward(self, x):\n",
    "        matrix3x3 = self.input_transform(x)\n",
    "        x = torch.bmm(torch.transpose(x, 1, 2), matrix3x3).transpose(1,2)\n",
    "        x = F.relu(self.conv1(x))\n",
    "        matrix64x64 = self.feature_transform(x)\n",
    "        x = torch.bmm(torch.transpose(x, 1, 2), matrix64x64).transpose(1,2)\n",
    "        x = F.relu(self.conv2(x))\n",
    "        x = self.conv3(x)\n",
    "        x = nn.MaxPool1d(x.size(-1))(x)\n",
    "        x = nn.Flatten(1)(x)\n",
    "        return x, matrix3x3, matrix64x64\n",
    "    \n",
    "class PointNet(nn.Module):\n",
    "    def __init__(self, tgt_layer = 7):\n",
    "        super().__init__()\n",
    "        self.transform = Transform()\n",
    "        self.fc1 = nn.Linear(512, 256)\n",
    "        self.fc2 = nn.Linear(256, 128)\n",
    "        self.fc3 = nn.Linear(128, tgt_layer)\n",
    "        \n",
    "#         self.bn1 = nn.BatchNorm1d(256)\n",
    "#         self.bn2 = nn.BatchNorm1d(128)\n",
    "        self.dropout = nn.Dropout(p=0.3)\n",
    "#         self.logsoftmax = nn.LogSoftmax(dim=1)\n",
    "        \n",
    "    def forward(self, x):\n",
    "        x, mat3, mat64 = self.transform(x)\n",
    "        x = F.relu(self.fc1(x))\n",
    "        x = F.relu(self.dropout(self.fc2(x)))\n",
    "        x = self.fc3(x)\n",
    "        return x, mat3, mat64"
   ]
  },
  {
   "cell_type": "code",
   "execution_count": 194,
   "id": "1fda4eb2",
   "metadata": {},
   "outputs": [],
   "source": [
    "def pointnetloss(output, target, m3x3, m64x64, alpha = 0.0001):\n",
    "    criterion = torch.nn.MSELoss()\n",
    "#     bs=target.size(0)\n",
    "#     id3x3 = torch.eye(3, requires_grad=True).repeat(bs,1,1)\n",
    "#     id64x64 = torch.eye(64, requires_grad=True).repeat(bs,1,1)\n",
    "#     if target.is_cuda:\n",
    "#         id3x3=id3x3.cuda()\n",
    "#         id64x64=id64x64.cuda()\n",
    "#     diff3x3 = id3x3-torch.bmm(m3x3,m3x3.transpose(1,2))\n",
    "#     diff64x64 = id64x64-torch.bmm(m64x64,m64x64.transpose(1,2))\n",
    "    final_loss = criterion(output, target) #+ alpha * (torch.norm(diff3x3)+torch.norm(diff64x64)) / float(bs)\n",
    "    return final_loss"
   ]
  },
  {
   "cell_type": "code",
   "execution_count": 195,
   "id": "afbc665f",
   "metadata": {},
   "outputs": [
    {
     "data": {
      "text/plain": [
       "device(type='cuda', index=0)"
      ]
     },
     "execution_count": 195,
     "metadata": {},
     "output_type": "execute_result"
    }
   ],
   "source": [
    "device = torch.device(\"cuda:0\" if torch.cuda.is_available() else \"cpu\")\n",
    "device"
   ]
  },
  {
   "cell_type": "code",
   "execution_count": 196,
   "id": "b3da2295",
   "metadata": {},
   "outputs": [],
   "source": [
    "def train(model, optim, train_loader, val_loader=None, epochs=20, save=True, print_every=10):\n",
    "    prev_val_acc = 0\n",
    "    min_loss = 999\n",
    "    for epoch in range(epochs):\n",
    "        model.train()\n",
    "        avg_loss = 0\n",
    "        for i,data in enumerate(train_loader, 0):\n",
    "            inputs, labels = data['pointcloud'].to(device).float(), data['target'].to(device).float()\n",
    "#             print(inputs.shape)\n",
    "            optim.zero_grad()\n",
    "            y, m3, m64 = model(inputs.transpose(1,2))\n",
    "            loss = pointnetloss(y, labels, m3, m64)\n",
    "            loss.backward()\n",
    "            optim.step()\n",
    "            avg_loss += loss.item()\n",
    "            if i%print_every==0:\n",
    "                pass\n",
    "        \n",
    "        if min_loss > avg_loss/5:\n",
    "            min_loss = avg_loss/5\n",
    "            \n",
    "            print(f\"Epoch {epoch}, avg_loss: {avg_loss/5}, min_loss: {min_loss}\")\n",
    "            if save:\n",
    "                torch.save(model.state_dict(), f\"./checkpoints/ckpt_min_loss.pt\")\n",
    "        model.eval()\n",
    "        correct = total = 0\n",
    "        if val_loader:\n",
    "            with torch.no_grad():\n",
    "                for data in val_loader:\n",
    "                    inputs, labels = data['pointcloud'].to(device).float(), data['target'].to(device)\n",
    "                    y, _, _ = model(inputs.transpose(1,2))\n",
    "                    _, predicted = torch.max(y.data, 1)\n",
    "                    total += labels.size(0)\n",
    "                    correct += (predicted == labels).sum().item()\n",
    "            val_acc = 100*correct/total\n",
    "            if val_acc > prev_val_acc:\n",
    "                prev_val_acc = val_acc\n",
    "    return model\n",
    "                \n",
    "\n",
    "def load_model(path, device):\n",
    "    pointnet = PointNet()\n",
    "    pointnet.to(device)\n",
    "    optimizer = torch.optim.Adam(pointnet.parameters(), lr=0.001)\n",
    "    torch.load(path, map_location=device)"
   ]
  },
  {
   "cell_type": "code",
   "execution_count": 197,
   "id": "ee183ef0",
   "metadata": {
    "scrolled": true
   },
   "outputs": [
    {
     "name": "stdout",
     "output_type": "stream",
     "text": [
      "Epoch 0, avg_loss: 0.167088320851326, min_loss: 0.167088320851326\n",
      "Epoch 1, avg_loss: 0.06633727699518203, min_loss: 0.06633727699518203\n",
      "Epoch 2, avg_loss: 0.022996257431805132, min_loss: 0.022996257431805132\n",
      "Epoch 4, avg_loss: 0.022837360575795173, min_loss: 0.022837360575795173\n",
      "Epoch 5, avg_loss: 0.016622455976903438, min_loss: 0.016622455976903438\n",
      "Epoch 9, avg_loss: 0.01329210503026843, min_loss: 0.01329210503026843\n",
      "Epoch 11, avg_loss: 0.011769658792763949, min_loss: 0.011769658792763949\n",
      "Epoch 14, avg_loss: 0.0073987339623272416, min_loss: 0.0073987339623272416\n",
      "Epoch 17, avg_loss: 0.006342638144269585, min_loss: 0.006342638144269585\n",
      "Epoch 18, avg_loss: 0.00577927915728651, min_loss: 0.00577927915728651\n",
      "Epoch 19, avg_loss: 0.005114735988900066, min_loss: 0.005114735988900066\n",
      "Epoch 25, avg_loss: 0.00372562687844038, min_loss: 0.00372562687844038\n",
      "Epoch 37, avg_loss: 0.0033924121642485263, min_loss: 0.0033924121642485263\n",
      "Epoch 53, avg_loss: 0.0018549016676843166, min_loss: 0.0018549016676843166\n",
      "Epoch 83, avg_loss: 0.0012739742756821214, min_loss: 0.0012739742756821214\n",
      "Epoch 145, avg_loss: 0.0008746691019041464, min_loss: 0.0008746691019041464\n",
      "Epoch 164, avg_loss: 0.0005865770275704562, min_loss: 0.0005865770275704562\n",
      "Epoch 219, avg_loss: 0.0005712294776458293, min_loss: 0.0005712294776458293\n",
      "Epoch 231, avg_loss: 0.0005409223027527333, min_loss: 0.0005409223027527333\n",
      "Epoch 241, avg_loss: 0.0005119282810483128, min_loss: 0.0005119282810483128\n",
      "Epoch 346, avg_loss: 0.0005083836585981771, min_loss: 0.0005083836585981771\n",
      "Epoch 360, avg_loss: 0.0005034044937929138, min_loss: 0.0005034044937929138\n",
      "Epoch 366, avg_loss: 0.00036085007595829663, min_loss: 0.00036085007595829663\n",
      "Epoch 438, avg_loss: 0.00035589064791565763, min_loss: 0.00035589064791565763\n",
      "Epoch 447, avg_loss: 0.0003422412963118404, min_loss: 0.0003422412963118404\n",
      "Epoch 493, avg_loss: 0.00025502187199890616, min_loss: 0.00025502187199890616\n",
      "Epoch 532, avg_loss: 0.0002349358081119135, min_loss: 0.0002349358081119135\n",
      "Epoch 621, avg_loss: 0.0001828288528486155, min_loss: 0.0001828288528486155\n",
      "Epoch 817, avg_loss: 0.00016176891658687965, min_loss: 0.00016176891658687965\n"
     ]
    },
    {
     "data": {
      "text/plain": [
       "PointNet(\n",
       "  (transform): Transform(\n",
       "    (input_transform): Tnet(\n",
       "      (conv1): Conv1d(3, 64, kernel_size=(1,), stride=(1,))\n",
       "      (conv2): Conv1d(64, 128, kernel_size=(1,), stride=(1,))\n",
       "      (conv3): Conv1d(128, 512, kernel_size=(1,), stride=(1,))\n",
       "      (fc1): Linear(in_features=512, out_features=256, bias=True)\n",
       "      (fc2): Linear(in_features=256, out_features=128, bias=True)\n",
       "      (fc3): Linear(in_features=128, out_features=9, bias=True)\n",
       "    )\n",
       "    (feature_transform): Tnet(\n",
       "      (conv1): Conv1d(64, 64, kernel_size=(1,), stride=(1,))\n",
       "      (conv2): Conv1d(64, 128, kernel_size=(1,), stride=(1,))\n",
       "      (conv3): Conv1d(128, 512, kernel_size=(1,), stride=(1,))\n",
       "      (fc1): Linear(in_features=512, out_features=256, bias=True)\n",
       "      (fc2): Linear(in_features=256, out_features=128, bias=True)\n",
       "      (fc3): Linear(in_features=128, out_features=4096, bias=True)\n",
       "    )\n",
       "    (conv1): Conv1d(3, 64, kernel_size=(1,), stride=(1,))\n",
       "    (conv2): Conv1d(64, 128, kernel_size=(1,), stride=(1,))\n",
       "    (conv3): Conv1d(128, 512, kernel_size=(1,), stride=(1,))\n",
       "  )\n",
       "  (fc1): Linear(in_features=512, out_features=256, bias=True)\n",
       "  (fc2): Linear(in_features=256, out_features=128, bias=True)\n",
       "  (fc3): Linear(in_features=128, out_features=7, bias=True)\n",
       "  (dropout): Dropout(p=0.3, inplace=False)\n",
       ")"
      ]
     },
     "execution_count": 197,
     "metadata": {},
     "output_type": "execute_result"
    }
   ],
   "source": [
    "pointnet = PointNet()\n",
    "pointnet.to(device)\n",
    "optimizer = torch.optim.Adam(pointnet.parameters(), lr=0.001)\n",
    "train(pointnet, optimizer, train_loader, epochs=1000,  save=True, print_every=5)"
   ]
  },
  {
   "cell_type": "code",
   "execution_count": 200,
   "id": "9d02c4b0",
   "metadata": {},
   "outputs": [],
   "source": [
    "def test(model, pcd_path):\n",
    "    pcd = o3d.io.read_point_cloud(pcd_path)\n",
    "    xyz = np.asarray(pcd.points)\n",
    "    center = np.mean(xyz, axis=0)\n",
    "    fig = plt.figure()\n",
    "    ax = fig.add_subplot(projection='3d')\n",
    "    ax.scatter(xyz[:,0], xyz[:,1], xyz[:,2])\n",
    "    xyz = xyz[np.where((xyz[:,2]>center[2]-0.001) & (xyz[:,2]<center[2]+0.001))]\n",
    "    idx = np.random.choice(np.arange(xyz.shape[0]), size=128)\n",
    "    xyz = xyz[idx]\n",
    "    \n",
    "\n",
    "    ax.set_xlabel('X')\n",
    "    ax.set_ylabel('Y')\n",
    "    ax.set_zlabel('Z')\n",
    "\n",
    "\n",
    "    xyz = torch.from_numpy(xyz).unsqueeze(0).to(device).float()\n",
    "    \n",
    "    with torch.no_grad():\n",
    "        result = model(xyz.transpose(1,2))[0].detach().cpu().numpy()[0]\n",
    "    print(result)\n",
    "    \n",
    "    x1 = result[:2]\n",
    "    x2 = result[2:4]\n",
    "    ax.scatter(x1[0], x1[1], center[2])\n",
    "    ax.scatter(x2[0], x2[1], center[2])\n",
    "    plt.show()"
   ]
  },
  {
   "cell_type": "code",
   "execution_count": 205,
   "id": "43dc025a",
   "metadata": {},
   "outputs": [
    {
     "data": {
      "application/javascript": [
       "/* Put everything inside the global mpl namespace */\n",
       "/* global mpl */\n",
       "window.mpl = {};\n",
       "\n",
       "mpl.get_websocket_type = function () {\n",
       "    if (typeof WebSocket !== 'undefined') {\n",
       "        return WebSocket;\n",
       "    } else if (typeof MozWebSocket !== 'undefined') {\n",
       "        return MozWebSocket;\n",
       "    } else {\n",
       "        alert(\n",
       "            'Your browser does not have WebSocket support. ' +\n",
       "                'Please try Chrome, Safari or Firefox ≥ 6. ' +\n",
       "                'Firefox 4 and 5 are also supported but you ' +\n",
       "                'have to enable WebSockets in about:config.'\n",
       "        );\n",
       "    }\n",
       "};\n",
       "\n",
       "mpl.figure = function (figure_id, websocket, ondownload, parent_element) {\n",
       "    this.id = figure_id;\n",
       "\n",
       "    this.ws = websocket;\n",
       "\n",
       "    this.supports_binary = this.ws.binaryType !== undefined;\n",
       "\n",
       "    if (!this.supports_binary) {\n",
       "        var warnings = document.getElementById('mpl-warnings');\n",
       "        if (warnings) {\n",
       "            warnings.style.display = 'block';\n",
       "            warnings.textContent =\n",
       "                'This browser does not support binary websocket messages. ' +\n",
       "                'Performance may be slow.';\n",
       "        }\n",
       "    }\n",
       "\n",
       "    this.imageObj = new Image();\n",
       "\n",
       "    this.context = undefined;\n",
       "    this.message = undefined;\n",
       "    this.canvas = undefined;\n",
       "    this.rubberband_canvas = undefined;\n",
       "    this.rubberband_context = undefined;\n",
       "    this.format_dropdown = undefined;\n",
       "\n",
       "    this.image_mode = 'full';\n",
       "\n",
       "    this.root = document.createElement('div');\n",
       "    this.root.setAttribute('style', 'display: inline-block');\n",
       "    this._root_extra_style(this.root);\n",
       "\n",
       "    parent_element.appendChild(this.root);\n",
       "\n",
       "    this._init_header(this);\n",
       "    this._init_canvas(this);\n",
       "    this._init_toolbar(this);\n",
       "\n",
       "    var fig = this;\n",
       "\n",
       "    this.waiting = false;\n",
       "\n",
       "    this.ws.onopen = function () {\n",
       "        fig.send_message('supports_binary', { value: fig.supports_binary });\n",
       "        fig.send_message('send_image_mode', {});\n",
       "        if (fig.ratio !== 1) {\n",
       "            fig.send_message('set_device_pixel_ratio', {\n",
       "                device_pixel_ratio: fig.ratio,\n",
       "            });\n",
       "        }\n",
       "        fig.send_message('refresh', {});\n",
       "    };\n",
       "\n",
       "    this.imageObj.onload = function () {\n",
       "        if (fig.image_mode === 'full') {\n",
       "            // Full images could contain transparency (where diff images\n",
       "            // almost always do), so we need to clear the canvas so that\n",
       "            // there is no ghosting.\n",
       "            fig.context.clearRect(0, 0, fig.canvas.width, fig.canvas.height);\n",
       "        }\n",
       "        fig.context.drawImage(fig.imageObj, 0, 0);\n",
       "    };\n",
       "\n",
       "    this.imageObj.onunload = function () {\n",
       "        fig.ws.close();\n",
       "    };\n",
       "\n",
       "    this.ws.onmessage = this._make_on_message_function(this);\n",
       "\n",
       "    this.ondownload = ondownload;\n",
       "};\n",
       "\n",
       "mpl.figure.prototype._init_header = function () {\n",
       "    var titlebar = document.createElement('div');\n",
       "    titlebar.classList =\n",
       "        'ui-dialog-titlebar ui-widget-header ui-corner-all ui-helper-clearfix';\n",
       "    var titletext = document.createElement('div');\n",
       "    titletext.classList = 'ui-dialog-title';\n",
       "    titletext.setAttribute(\n",
       "        'style',\n",
       "        'width: 100%; text-align: center; padding: 3px;'\n",
       "    );\n",
       "    titlebar.appendChild(titletext);\n",
       "    this.root.appendChild(titlebar);\n",
       "    this.header = titletext;\n",
       "};\n",
       "\n",
       "mpl.figure.prototype._canvas_extra_style = function (_canvas_div) {};\n",
       "\n",
       "mpl.figure.prototype._root_extra_style = function (_canvas_div) {};\n",
       "\n",
       "mpl.figure.prototype._init_canvas = function () {\n",
       "    var fig = this;\n",
       "\n",
       "    var canvas_div = (this.canvas_div = document.createElement('div'));\n",
       "    canvas_div.setAttribute(\n",
       "        'style',\n",
       "        'border: 1px solid #ddd;' +\n",
       "            'box-sizing: content-box;' +\n",
       "            'clear: both;' +\n",
       "            'min-height: 1px;' +\n",
       "            'min-width: 1px;' +\n",
       "            'outline: 0;' +\n",
       "            'overflow: hidden;' +\n",
       "            'position: relative;' +\n",
       "            'resize: both;'\n",
       "    );\n",
       "\n",
       "    function on_keyboard_event_closure(name) {\n",
       "        return function (event) {\n",
       "            return fig.key_event(event, name);\n",
       "        };\n",
       "    }\n",
       "\n",
       "    canvas_div.addEventListener(\n",
       "        'keydown',\n",
       "        on_keyboard_event_closure('key_press')\n",
       "    );\n",
       "    canvas_div.addEventListener(\n",
       "        'keyup',\n",
       "        on_keyboard_event_closure('key_release')\n",
       "    );\n",
       "\n",
       "    this._canvas_extra_style(canvas_div);\n",
       "    this.root.appendChild(canvas_div);\n",
       "\n",
       "    var canvas = (this.canvas = document.createElement('canvas'));\n",
       "    canvas.classList.add('mpl-canvas');\n",
       "    canvas.setAttribute('style', 'box-sizing: content-box;');\n",
       "\n",
       "    this.context = canvas.getContext('2d');\n",
       "\n",
       "    var backingStore =\n",
       "        this.context.backingStorePixelRatio ||\n",
       "        this.context.webkitBackingStorePixelRatio ||\n",
       "        this.context.mozBackingStorePixelRatio ||\n",
       "        this.context.msBackingStorePixelRatio ||\n",
       "        this.context.oBackingStorePixelRatio ||\n",
       "        this.context.backingStorePixelRatio ||\n",
       "        1;\n",
       "\n",
       "    this.ratio = (window.devicePixelRatio || 1) / backingStore;\n",
       "\n",
       "    var rubberband_canvas = (this.rubberband_canvas = document.createElement(\n",
       "        'canvas'\n",
       "    ));\n",
       "    rubberband_canvas.setAttribute(\n",
       "        'style',\n",
       "        'box-sizing: content-box; position: absolute; left: 0; top: 0; z-index: 1;'\n",
       "    );\n",
       "\n",
       "    // Apply a ponyfill if ResizeObserver is not implemented by browser.\n",
       "    if (this.ResizeObserver === undefined) {\n",
       "        if (window.ResizeObserver !== undefined) {\n",
       "            this.ResizeObserver = window.ResizeObserver;\n",
       "        } else {\n",
       "            var obs = _JSXTOOLS_RESIZE_OBSERVER({});\n",
       "            this.ResizeObserver = obs.ResizeObserver;\n",
       "        }\n",
       "    }\n",
       "\n",
       "    this.resizeObserverInstance = new this.ResizeObserver(function (entries) {\n",
       "        var nentries = entries.length;\n",
       "        for (var i = 0; i < nentries; i++) {\n",
       "            var entry = entries[i];\n",
       "            var width, height;\n",
       "            if (entry.contentBoxSize) {\n",
       "                if (entry.contentBoxSize instanceof Array) {\n",
       "                    // Chrome 84 implements new version of spec.\n",
       "                    width = entry.contentBoxSize[0].inlineSize;\n",
       "                    height = entry.contentBoxSize[0].blockSize;\n",
       "                } else {\n",
       "                    // Firefox implements old version of spec.\n",
       "                    width = entry.contentBoxSize.inlineSize;\n",
       "                    height = entry.contentBoxSize.blockSize;\n",
       "                }\n",
       "            } else {\n",
       "                // Chrome <84 implements even older version of spec.\n",
       "                width = entry.contentRect.width;\n",
       "                height = entry.contentRect.height;\n",
       "            }\n",
       "\n",
       "            // Keep the size of the canvas and rubber band canvas in sync with\n",
       "            // the canvas container.\n",
       "            if (entry.devicePixelContentBoxSize) {\n",
       "                // Chrome 84 implements new version of spec.\n",
       "                canvas.setAttribute(\n",
       "                    'width',\n",
       "                    entry.devicePixelContentBoxSize[0].inlineSize\n",
       "                );\n",
       "                canvas.setAttribute(\n",
       "                    'height',\n",
       "                    entry.devicePixelContentBoxSize[0].blockSize\n",
       "                );\n",
       "            } else {\n",
       "                canvas.setAttribute('width', width * fig.ratio);\n",
       "                canvas.setAttribute('height', height * fig.ratio);\n",
       "            }\n",
       "            canvas.setAttribute(\n",
       "                'style',\n",
       "                'width: ' + width + 'px; height: ' + height + 'px;'\n",
       "            );\n",
       "\n",
       "            rubberband_canvas.setAttribute('width', width);\n",
       "            rubberband_canvas.setAttribute('height', height);\n",
       "\n",
       "            // And update the size in Python. We ignore the initial 0/0 size\n",
       "            // that occurs as the element is placed into the DOM, which should\n",
       "            // otherwise not happen due to the minimum size styling.\n",
       "            if (fig.ws.readyState == 1 && width != 0 && height != 0) {\n",
       "                fig.request_resize(width, height);\n",
       "            }\n",
       "        }\n",
       "    });\n",
       "    this.resizeObserverInstance.observe(canvas_div);\n",
       "\n",
       "    function on_mouse_event_closure(name) {\n",
       "        return function (event) {\n",
       "            return fig.mouse_event(event, name);\n",
       "        };\n",
       "    }\n",
       "\n",
       "    rubberband_canvas.addEventListener(\n",
       "        'mousedown',\n",
       "        on_mouse_event_closure('button_press')\n",
       "    );\n",
       "    rubberband_canvas.addEventListener(\n",
       "        'mouseup',\n",
       "        on_mouse_event_closure('button_release')\n",
       "    );\n",
       "    rubberband_canvas.addEventListener(\n",
       "        'dblclick',\n",
       "        on_mouse_event_closure('dblclick')\n",
       "    );\n",
       "    // Throttle sequential mouse events to 1 every 20ms.\n",
       "    rubberband_canvas.addEventListener(\n",
       "        'mousemove',\n",
       "        on_mouse_event_closure('motion_notify')\n",
       "    );\n",
       "\n",
       "    rubberband_canvas.addEventListener(\n",
       "        'mouseenter',\n",
       "        on_mouse_event_closure('figure_enter')\n",
       "    );\n",
       "    rubberband_canvas.addEventListener(\n",
       "        'mouseleave',\n",
       "        on_mouse_event_closure('figure_leave')\n",
       "    );\n",
       "\n",
       "    canvas_div.addEventListener('wheel', function (event) {\n",
       "        if (event.deltaY < 0) {\n",
       "            event.step = 1;\n",
       "        } else {\n",
       "            event.step = -1;\n",
       "        }\n",
       "        on_mouse_event_closure('scroll')(event);\n",
       "    });\n",
       "\n",
       "    canvas_div.appendChild(canvas);\n",
       "    canvas_div.appendChild(rubberband_canvas);\n",
       "\n",
       "    this.rubberband_context = rubberband_canvas.getContext('2d');\n",
       "    this.rubberband_context.strokeStyle = '#000000';\n",
       "\n",
       "    this._resize_canvas = function (width, height, forward) {\n",
       "        if (forward) {\n",
       "            canvas_div.style.width = width + 'px';\n",
       "            canvas_div.style.height = height + 'px';\n",
       "        }\n",
       "    };\n",
       "\n",
       "    // Disable right mouse context menu.\n",
       "    this.rubberband_canvas.addEventListener('contextmenu', function (_e) {\n",
       "        event.preventDefault();\n",
       "        return false;\n",
       "    });\n",
       "\n",
       "    function set_focus() {\n",
       "        canvas.focus();\n",
       "        canvas_div.focus();\n",
       "    }\n",
       "\n",
       "    window.setTimeout(set_focus, 100);\n",
       "};\n",
       "\n",
       "mpl.figure.prototype._init_toolbar = function () {\n",
       "    var fig = this;\n",
       "\n",
       "    var toolbar = document.createElement('div');\n",
       "    toolbar.classList = 'mpl-toolbar';\n",
       "    this.root.appendChild(toolbar);\n",
       "\n",
       "    function on_click_closure(name) {\n",
       "        return function (_event) {\n",
       "            return fig.toolbar_button_onclick(name);\n",
       "        };\n",
       "    }\n",
       "\n",
       "    function on_mouseover_closure(tooltip) {\n",
       "        return function (event) {\n",
       "            if (!event.currentTarget.disabled) {\n",
       "                return fig.toolbar_button_onmouseover(tooltip);\n",
       "            }\n",
       "        };\n",
       "    }\n",
       "\n",
       "    fig.buttons = {};\n",
       "    var buttonGroup = document.createElement('div');\n",
       "    buttonGroup.classList = 'mpl-button-group';\n",
       "    for (var toolbar_ind in mpl.toolbar_items) {\n",
       "        var name = mpl.toolbar_items[toolbar_ind][0];\n",
       "        var tooltip = mpl.toolbar_items[toolbar_ind][1];\n",
       "        var image = mpl.toolbar_items[toolbar_ind][2];\n",
       "        var method_name = mpl.toolbar_items[toolbar_ind][3];\n",
       "\n",
       "        if (!name) {\n",
       "            /* Instead of a spacer, we start a new button group. */\n",
       "            if (buttonGroup.hasChildNodes()) {\n",
       "                toolbar.appendChild(buttonGroup);\n",
       "            }\n",
       "            buttonGroup = document.createElement('div');\n",
       "            buttonGroup.classList = 'mpl-button-group';\n",
       "            continue;\n",
       "        }\n",
       "\n",
       "        var button = (fig.buttons[name] = document.createElement('button'));\n",
       "        button.classList = 'mpl-widget';\n",
       "        button.setAttribute('role', 'button');\n",
       "        button.setAttribute('aria-disabled', 'false');\n",
       "        button.addEventListener('click', on_click_closure(method_name));\n",
       "        button.addEventListener('mouseover', on_mouseover_closure(tooltip));\n",
       "\n",
       "        var icon_img = document.createElement('img');\n",
       "        icon_img.src = '_images/' + image + '.png';\n",
       "        icon_img.srcset = '_images/' + image + '_large.png 2x';\n",
       "        icon_img.alt = tooltip;\n",
       "        button.appendChild(icon_img);\n",
       "\n",
       "        buttonGroup.appendChild(button);\n",
       "    }\n",
       "\n",
       "    if (buttonGroup.hasChildNodes()) {\n",
       "        toolbar.appendChild(buttonGroup);\n",
       "    }\n",
       "\n",
       "    var fmt_picker = document.createElement('select');\n",
       "    fmt_picker.classList = 'mpl-widget';\n",
       "    toolbar.appendChild(fmt_picker);\n",
       "    this.format_dropdown = fmt_picker;\n",
       "\n",
       "    for (var ind in mpl.extensions) {\n",
       "        var fmt = mpl.extensions[ind];\n",
       "        var option = document.createElement('option');\n",
       "        option.selected = fmt === mpl.default_extension;\n",
       "        option.innerHTML = fmt;\n",
       "        fmt_picker.appendChild(option);\n",
       "    }\n",
       "\n",
       "    var status_bar = document.createElement('span');\n",
       "    status_bar.classList = 'mpl-message';\n",
       "    toolbar.appendChild(status_bar);\n",
       "    this.message = status_bar;\n",
       "};\n",
       "\n",
       "mpl.figure.prototype.request_resize = function (x_pixels, y_pixels) {\n",
       "    // Request matplotlib to resize the figure. Matplotlib will then trigger a resize in the client,\n",
       "    // which will in turn request a refresh of the image.\n",
       "    this.send_message('resize', { width: x_pixels, height: y_pixels });\n",
       "};\n",
       "\n",
       "mpl.figure.prototype.send_message = function (type, properties) {\n",
       "    properties['type'] = type;\n",
       "    properties['figure_id'] = this.id;\n",
       "    this.ws.send(JSON.stringify(properties));\n",
       "};\n",
       "\n",
       "mpl.figure.prototype.send_draw_message = function () {\n",
       "    if (!this.waiting) {\n",
       "        this.waiting = true;\n",
       "        this.ws.send(JSON.stringify({ type: 'draw', figure_id: this.id }));\n",
       "    }\n",
       "};\n",
       "\n",
       "mpl.figure.prototype.handle_save = function (fig, _msg) {\n",
       "    var format_dropdown = fig.format_dropdown;\n",
       "    var format = format_dropdown.options[format_dropdown.selectedIndex].value;\n",
       "    fig.ondownload(fig, format);\n",
       "};\n",
       "\n",
       "mpl.figure.prototype.handle_resize = function (fig, msg) {\n",
       "    var size = msg['size'];\n",
       "    if (size[0] !== fig.canvas.width || size[1] !== fig.canvas.height) {\n",
       "        fig._resize_canvas(size[0], size[1], msg['forward']);\n",
       "        fig.send_message('refresh', {});\n",
       "    }\n",
       "};\n",
       "\n",
       "mpl.figure.prototype.handle_rubberband = function (fig, msg) {\n",
       "    var x0 = msg['x0'] / fig.ratio;\n",
       "    var y0 = (fig.canvas.height - msg['y0']) / fig.ratio;\n",
       "    var x1 = msg['x1'] / fig.ratio;\n",
       "    var y1 = (fig.canvas.height - msg['y1']) / fig.ratio;\n",
       "    x0 = Math.floor(x0) + 0.5;\n",
       "    y0 = Math.floor(y0) + 0.5;\n",
       "    x1 = Math.floor(x1) + 0.5;\n",
       "    y1 = Math.floor(y1) + 0.5;\n",
       "    var min_x = Math.min(x0, x1);\n",
       "    var min_y = Math.min(y0, y1);\n",
       "    var width = Math.abs(x1 - x0);\n",
       "    var height = Math.abs(y1 - y0);\n",
       "\n",
       "    fig.rubberband_context.clearRect(\n",
       "        0,\n",
       "        0,\n",
       "        fig.canvas.width / fig.ratio,\n",
       "        fig.canvas.height / fig.ratio\n",
       "    );\n",
       "\n",
       "    fig.rubberband_context.strokeRect(min_x, min_y, width, height);\n",
       "};\n",
       "\n",
       "mpl.figure.prototype.handle_figure_label = function (fig, msg) {\n",
       "    // Updates the figure title.\n",
       "    fig.header.textContent = msg['label'];\n",
       "};\n",
       "\n",
       "mpl.figure.prototype.handle_cursor = function (fig, msg) {\n",
       "    fig.rubberband_canvas.style.cursor = msg['cursor'];\n",
       "};\n",
       "\n",
       "mpl.figure.prototype.handle_message = function (fig, msg) {\n",
       "    fig.message.textContent = msg['message'];\n",
       "};\n",
       "\n",
       "mpl.figure.prototype.handle_draw = function (fig, _msg) {\n",
       "    // Request the server to send over a new figure.\n",
       "    fig.send_draw_message();\n",
       "};\n",
       "\n",
       "mpl.figure.prototype.handle_image_mode = function (fig, msg) {\n",
       "    fig.image_mode = msg['mode'];\n",
       "};\n",
       "\n",
       "mpl.figure.prototype.handle_history_buttons = function (fig, msg) {\n",
       "    for (var key in msg) {\n",
       "        if (!(key in fig.buttons)) {\n",
       "            continue;\n",
       "        }\n",
       "        fig.buttons[key].disabled = !msg[key];\n",
       "        fig.buttons[key].setAttribute('aria-disabled', !msg[key]);\n",
       "    }\n",
       "};\n",
       "\n",
       "mpl.figure.prototype.handle_navigate_mode = function (fig, msg) {\n",
       "    if (msg['mode'] === 'PAN') {\n",
       "        fig.buttons['Pan'].classList.add('active');\n",
       "        fig.buttons['Zoom'].classList.remove('active');\n",
       "    } else if (msg['mode'] === 'ZOOM') {\n",
       "        fig.buttons['Pan'].classList.remove('active');\n",
       "        fig.buttons['Zoom'].classList.add('active');\n",
       "    } else {\n",
       "        fig.buttons['Pan'].classList.remove('active');\n",
       "        fig.buttons['Zoom'].classList.remove('active');\n",
       "    }\n",
       "};\n",
       "\n",
       "mpl.figure.prototype.updated_canvas_event = function () {\n",
       "    // Called whenever the canvas gets updated.\n",
       "    this.send_message('ack', {});\n",
       "};\n",
       "\n",
       "// A function to construct a web socket function for onmessage handling.\n",
       "// Called in the figure constructor.\n",
       "mpl.figure.prototype._make_on_message_function = function (fig) {\n",
       "    return function socket_on_message(evt) {\n",
       "        if (evt.data instanceof Blob) {\n",
       "            var img = evt.data;\n",
       "            if (img.type !== 'image/png') {\n",
       "                /* FIXME: We get \"Resource interpreted as Image but\n",
       "                 * transferred with MIME type text/plain:\" errors on\n",
       "                 * Chrome.  But how to set the MIME type?  It doesn't seem\n",
       "                 * to be part of the websocket stream */\n",
       "                img.type = 'image/png';\n",
       "            }\n",
       "\n",
       "            /* Free the memory for the previous frames */\n",
       "            if (fig.imageObj.src) {\n",
       "                (window.URL || window.webkitURL).revokeObjectURL(\n",
       "                    fig.imageObj.src\n",
       "                );\n",
       "            }\n",
       "\n",
       "            fig.imageObj.src = (window.URL || window.webkitURL).createObjectURL(\n",
       "                img\n",
       "            );\n",
       "            fig.updated_canvas_event();\n",
       "            fig.waiting = false;\n",
       "            return;\n",
       "        } else if (\n",
       "            typeof evt.data === 'string' &&\n",
       "            evt.data.slice(0, 21) === 'data:image/png;base64'\n",
       "        ) {\n",
       "            fig.imageObj.src = evt.data;\n",
       "            fig.updated_canvas_event();\n",
       "            fig.waiting = false;\n",
       "            return;\n",
       "        }\n",
       "\n",
       "        var msg = JSON.parse(evt.data);\n",
       "        var msg_type = msg['type'];\n",
       "\n",
       "        // Call the  \"handle_{type}\" callback, which takes\n",
       "        // the figure and JSON message as its only arguments.\n",
       "        try {\n",
       "            var callback = fig['handle_' + msg_type];\n",
       "        } catch (e) {\n",
       "            console.log(\n",
       "                \"No handler for the '\" + msg_type + \"' message type: \",\n",
       "                msg\n",
       "            );\n",
       "            return;\n",
       "        }\n",
       "\n",
       "        if (callback) {\n",
       "            try {\n",
       "                // console.log(\"Handling '\" + msg_type + \"' message: \", msg);\n",
       "                callback(fig, msg);\n",
       "            } catch (e) {\n",
       "                console.log(\n",
       "                    \"Exception inside the 'handler_\" + msg_type + \"' callback:\",\n",
       "                    e,\n",
       "                    e.stack,\n",
       "                    msg\n",
       "                );\n",
       "            }\n",
       "        }\n",
       "    };\n",
       "};\n",
       "\n",
       "// from https://stackoverflow.com/questions/1114465/getting-mouse-location-in-canvas\n",
       "mpl.findpos = function (e) {\n",
       "    //this section is from http://www.quirksmode.org/js/events_properties.html\n",
       "    var targ;\n",
       "    if (!e) {\n",
       "        e = window.event;\n",
       "    }\n",
       "    if (e.target) {\n",
       "        targ = e.target;\n",
       "    } else if (e.srcElement) {\n",
       "        targ = e.srcElement;\n",
       "    }\n",
       "    if (targ.nodeType === 3) {\n",
       "        // defeat Safari bug\n",
       "        targ = targ.parentNode;\n",
       "    }\n",
       "\n",
       "    // pageX,Y are the mouse positions relative to the document\n",
       "    var boundingRect = targ.getBoundingClientRect();\n",
       "    var x = e.pageX - (boundingRect.left + document.body.scrollLeft);\n",
       "    var y = e.pageY - (boundingRect.top + document.body.scrollTop);\n",
       "\n",
       "    return { x: x, y: y };\n",
       "};\n",
       "\n",
       "/*\n",
       " * return a copy of an object with only non-object keys\n",
       " * we need this to avoid circular references\n",
       " * https://stackoverflow.com/a/24161582/3208463\n",
       " */\n",
       "function simpleKeys(original) {\n",
       "    return Object.keys(original).reduce(function (obj, key) {\n",
       "        if (typeof original[key] !== 'object') {\n",
       "            obj[key] = original[key];\n",
       "        }\n",
       "        return obj;\n",
       "    }, {});\n",
       "}\n",
       "\n",
       "mpl.figure.prototype.mouse_event = function (event, name) {\n",
       "    var canvas_pos = mpl.findpos(event);\n",
       "\n",
       "    if (name === 'button_press') {\n",
       "        this.canvas.focus();\n",
       "        this.canvas_div.focus();\n",
       "    }\n",
       "\n",
       "    var x = canvas_pos.x * this.ratio;\n",
       "    var y = canvas_pos.y * this.ratio;\n",
       "\n",
       "    this.send_message(name, {\n",
       "        x: x,\n",
       "        y: y,\n",
       "        button: event.button,\n",
       "        step: event.step,\n",
       "        guiEvent: simpleKeys(event),\n",
       "    });\n",
       "\n",
       "    /* This prevents the web browser from automatically changing to\n",
       "     * the text insertion cursor when the button is pressed.  We want\n",
       "     * to control all of the cursor setting manually through the\n",
       "     * 'cursor' event from matplotlib */\n",
       "    event.preventDefault();\n",
       "    return false;\n",
       "};\n",
       "\n",
       "mpl.figure.prototype._key_event_extra = function (_event, _name) {\n",
       "    // Handle any extra behaviour associated with a key event\n",
       "};\n",
       "\n",
       "mpl.figure.prototype.key_event = function (event, name) {\n",
       "    // Prevent repeat events\n",
       "    if (name === 'key_press') {\n",
       "        if (event.key === this._key) {\n",
       "            return;\n",
       "        } else {\n",
       "            this._key = event.key;\n",
       "        }\n",
       "    }\n",
       "    if (name === 'key_release') {\n",
       "        this._key = null;\n",
       "    }\n",
       "\n",
       "    var value = '';\n",
       "    if (event.ctrlKey && event.key !== 'Control') {\n",
       "        value += 'ctrl+';\n",
       "    }\n",
       "    else if (event.altKey && event.key !== 'Alt') {\n",
       "        value += 'alt+';\n",
       "    }\n",
       "    else if (event.shiftKey && event.key !== 'Shift') {\n",
       "        value += 'shift+';\n",
       "    }\n",
       "\n",
       "    value += 'k' + event.key;\n",
       "\n",
       "    this._key_event_extra(event, name);\n",
       "\n",
       "    this.send_message(name, { key: value, guiEvent: simpleKeys(event) });\n",
       "    return false;\n",
       "};\n",
       "\n",
       "mpl.figure.prototype.toolbar_button_onclick = function (name) {\n",
       "    if (name === 'download') {\n",
       "        this.handle_save(this, null);\n",
       "    } else {\n",
       "        this.send_message('toolbar_button', { name: name });\n",
       "    }\n",
       "};\n",
       "\n",
       "mpl.figure.prototype.toolbar_button_onmouseover = function (tooltip) {\n",
       "    this.message.textContent = tooltip;\n",
       "};\n",
       "\n",
       "///////////////// REMAINING CONTENT GENERATED BY embed_js.py /////////////////\n",
       "// prettier-ignore\n",
       "var _JSXTOOLS_RESIZE_OBSERVER=function(A){var t,i=new WeakMap,n=new WeakMap,a=new WeakMap,r=new WeakMap,o=new Set;function s(e){if(!(this instanceof s))throw new TypeError(\"Constructor requires 'new' operator\");i.set(this,e)}function h(){throw new TypeError(\"Function is not a constructor\")}function c(e,t,i,n){e=0 in arguments?Number(arguments[0]):0,t=1 in arguments?Number(arguments[1]):0,i=2 in arguments?Number(arguments[2]):0,n=3 in arguments?Number(arguments[3]):0,this.right=(this.x=this.left=e)+(this.width=i),this.bottom=(this.y=this.top=t)+(this.height=n),Object.freeze(this)}function d(){t=requestAnimationFrame(d);var s=new WeakMap,p=new Set;o.forEach((function(t){r.get(t).forEach((function(i){var r=t instanceof window.SVGElement,o=a.get(t),d=r?0:parseFloat(o.paddingTop),f=r?0:parseFloat(o.paddingRight),l=r?0:parseFloat(o.paddingBottom),u=r?0:parseFloat(o.paddingLeft),g=r?0:parseFloat(o.borderTopWidth),m=r?0:parseFloat(o.borderRightWidth),w=r?0:parseFloat(o.borderBottomWidth),b=u+f,F=d+l,v=(r?0:parseFloat(o.borderLeftWidth))+m,W=g+w,y=r?0:t.offsetHeight-W-t.clientHeight,E=r?0:t.offsetWidth-v-t.clientWidth,R=b+v,z=F+W,M=r?t.width:parseFloat(o.width)-R-E,O=r?t.height:parseFloat(o.height)-z-y;if(n.has(t)){var k=n.get(t);if(k[0]===M&&k[1]===O)return}n.set(t,[M,O]);var S=Object.create(h.prototype);S.target=t,S.contentRect=new c(u,d,M,O),s.has(i)||(s.set(i,[]),p.add(i)),s.get(i).push(S)}))})),p.forEach((function(e){i.get(e).call(e,s.get(e),e)}))}return s.prototype.observe=function(i){if(i instanceof window.Element){r.has(i)||(r.set(i,new Set),o.add(i),a.set(i,window.getComputedStyle(i)));var n=r.get(i);n.has(this)||n.add(this),cancelAnimationFrame(t),t=requestAnimationFrame(d)}},s.prototype.unobserve=function(i){if(i instanceof window.Element&&r.has(i)){var n=r.get(i);n.has(this)&&(n.delete(this),n.size||(r.delete(i),o.delete(i))),n.size||r.delete(i),o.size||cancelAnimationFrame(t)}},A.DOMRectReadOnly=c,A.ResizeObserver=s,A.ResizeObserverEntry=h,A}; // eslint-disable-line\n",
       "mpl.toolbar_items = [[\"Home\", \"Reset original view\", \"fa fa-home icon-home\", \"home\"], [\"Back\", \"Back to previous view\", \"fa fa-arrow-left icon-arrow-left\", \"back\"], [\"Forward\", \"Forward to next view\", \"fa fa-arrow-right icon-arrow-right\", \"forward\"], [\"\", \"\", \"\", \"\"], [\"Pan\", \"Left button pans, Right button zooms\\nx/y fixes axis, CTRL fixes aspect\", \"fa fa-arrows icon-move\", \"pan\"], [\"Zoom\", \"Zoom to rectangle\\nx/y fixes axis\", \"fa fa-square-o icon-check-empty\", \"zoom\"], [\"\", \"\", \"\", \"\"], [\"Download\", \"Download plot\", \"fa fa-floppy-o icon-save\", \"download\"]];\n",
       "\n",
       "mpl.extensions = [\"eps\", \"jpeg\", \"pgf\", \"pdf\", \"png\", \"ps\", \"raw\", \"svg\", \"tif\"];\n",
       "\n",
       "mpl.default_extension = \"png\";/* global mpl */\n",
       "\n",
       "var comm_websocket_adapter = function (comm) {\n",
       "    // Create a \"websocket\"-like object which calls the given IPython comm\n",
       "    // object with the appropriate methods. Currently this is a non binary\n",
       "    // socket, so there is still some room for performance tuning.\n",
       "    var ws = {};\n",
       "\n",
       "    ws.binaryType = comm.kernel.ws.binaryType;\n",
       "    ws.readyState = comm.kernel.ws.readyState;\n",
       "    function updateReadyState(_event) {\n",
       "        if (comm.kernel.ws) {\n",
       "            ws.readyState = comm.kernel.ws.readyState;\n",
       "        } else {\n",
       "            ws.readyState = 3; // Closed state.\n",
       "        }\n",
       "    }\n",
       "    comm.kernel.ws.addEventListener('open', updateReadyState);\n",
       "    comm.kernel.ws.addEventListener('close', updateReadyState);\n",
       "    comm.kernel.ws.addEventListener('error', updateReadyState);\n",
       "\n",
       "    ws.close = function () {\n",
       "        comm.close();\n",
       "    };\n",
       "    ws.send = function (m) {\n",
       "        //console.log('sending', m);\n",
       "        comm.send(m);\n",
       "    };\n",
       "    // Register the callback with on_msg.\n",
       "    comm.on_msg(function (msg) {\n",
       "        //console.log('receiving', msg['content']['data'], msg);\n",
       "        var data = msg['content']['data'];\n",
       "        if (data['blob'] !== undefined) {\n",
       "            data = {\n",
       "                data: new Blob(msg['buffers'], { type: data['blob'] }),\n",
       "            };\n",
       "        }\n",
       "        // Pass the mpl event to the overridden (by mpl) onmessage function.\n",
       "        ws.onmessage(data);\n",
       "    });\n",
       "    return ws;\n",
       "};\n",
       "\n",
       "mpl.mpl_figure_comm = function (comm, msg) {\n",
       "    // This is the function which gets called when the mpl process\n",
       "    // starts-up an IPython Comm through the \"matplotlib\" channel.\n",
       "\n",
       "    var id = msg.content.data.id;\n",
       "    // Get hold of the div created by the display call when the Comm\n",
       "    // socket was opened in Python.\n",
       "    var element = document.getElementById(id);\n",
       "    var ws_proxy = comm_websocket_adapter(comm);\n",
       "\n",
       "    function ondownload(figure, _format) {\n",
       "        window.open(figure.canvas.toDataURL());\n",
       "    }\n",
       "\n",
       "    var fig = new mpl.figure(id, ws_proxy, ondownload, element);\n",
       "\n",
       "    // Call onopen now - mpl needs it, as it is assuming we've passed it a real\n",
       "    // web socket which is closed, not our websocket->open comm proxy.\n",
       "    ws_proxy.onopen();\n",
       "\n",
       "    fig.parent_element = element;\n",
       "    fig.cell_info = mpl.find_output_cell(\"<div id='\" + id + \"'></div>\");\n",
       "    if (!fig.cell_info) {\n",
       "        console.error('Failed to find cell for figure', id, fig);\n",
       "        return;\n",
       "    }\n",
       "    fig.cell_info[0].output_area.element.on(\n",
       "        'cleared',\n",
       "        { fig: fig },\n",
       "        fig._remove_fig_handler\n",
       "    );\n",
       "};\n",
       "\n",
       "mpl.figure.prototype.handle_close = function (fig, msg) {\n",
       "    var width = fig.canvas.width / fig.ratio;\n",
       "    fig.cell_info[0].output_area.element.off(\n",
       "        'cleared',\n",
       "        fig._remove_fig_handler\n",
       "    );\n",
       "    fig.resizeObserverInstance.unobserve(fig.canvas_div);\n",
       "\n",
       "    // Update the output cell to use the data from the current canvas.\n",
       "    fig.push_to_output();\n",
       "    var dataURL = fig.canvas.toDataURL();\n",
       "    // Re-enable the keyboard manager in IPython - without this line, in FF,\n",
       "    // the notebook keyboard shortcuts fail.\n",
       "    IPython.keyboard_manager.enable();\n",
       "    fig.parent_element.innerHTML =\n",
       "        '<img src=\"' + dataURL + '\" width=\"' + width + '\">';\n",
       "    fig.close_ws(fig, msg);\n",
       "};\n",
       "\n",
       "mpl.figure.prototype.close_ws = function (fig, msg) {\n",
       "    fig.send_message('closing', msg);\n",
       "    // fig.ws.close()\n",
       "};\n",
       "\n",
       "mpl.figure.prototype.push_to_output = function (_remove_interactive) {\n",
       "    // Turn the data on the canvas into data in the output cell.\n",
       "    var width = this.canvas.width / this.ratio;\n",
       "    var dataURL = this.canvas.toDataURL();\n",
       "    this.cell_info[1]['text/html'] =\n",
       "        '<img src=\"' + dataURL + '\" width=\"' + width + '\">';\n",
       "};\n",
       "\n",
       "mpl.figure.prototype.updated_canvas_event = function () {\n",
       "    // Tell IPython that the notebook contents must change.\n",
       "    IPython.notebook.set_dirty(true);\n",
       "    this.send_message('ack', {});\n",
       "    var fig = this;\n",
       "    // Wait a second, then push the new image to the DOM so\n",
       "    // that it is saved nicely (might be nice to debounce this).\n",
       "    setTimeout(function () {\n",
       "        fig.push_to_output();\n",
       "    }, 1000);\n",
       "};\n",
       "\n",
       "mpl.figure.prototype._init_toolbar = function () {\n",
       "    var fig = this;\n",
       "\n",
       "    var toolbar = document.createElement('div');\n",
       "    toolbar.classList = 'btn-toolbar';\n",
       "    this.root.appendChild(toolbar);\n",
       "\n",
       "    function on_click_closure(name) {\n",
       "        return function (_event) {\n",
       "            return fig.toolbar_button_onclick(name);\n",
       "        };\n",
       "    }\n",
       "\n",
       "    function on_mouseover_closure(tooltip) {\n",
       "        return function (event) {\n",
       "            if (!event.currentTarget.disabled) {\n",
       "                return fig.toolbar_button_onmouseover(tooltip);\n",
       "            }\n",
       "        };\n",
       "    }\n",
       "\n",
       "    fig.buttons = {};\n",
       "    var buttonGroup = document.createElement('div');\n",
       "    buttonGroup.classList = 'btn-group';\n",
       "    var button;\n",
       "    for (var toolbar_ind in mpl.toolbar_items) {\n",
       "        var name = mpl.toolbar_items[toolbar_ind][0];\n",
       "        var tooltip = mpl.toolbar_items[toolbar_ind][1];\n",
       "        var image = mpl.toolbar_items[toolbar_ind][2];\n",
       "        var method_name = mpl.toolbar_items[toolbar_ind][3];\n",
       "\n",
       "        if (!name) {\n",
       "            /* Instead of a spacer, we start a new button group. */\n",
       "            if (buttonGroup.hasChildNodes()) {\n",
       "                toolbar.appendChild(buttonGroup);\n",
       "            }\n",
       "            buttonGroup = document.createElement('div');\n",
       "            buttonGroup.classList = 'btn-group';\n",
       "            continue;\n",
       "        }\n",
       "\n",
       "        button = fig.buttons[name] = document.createElement('button');\n",
       "        button.classList = 'btn btn-default';\n",
       "        button.href = '#';\n",
       "        button.title = name;\n",
       "        button.innerHTML = '<i class=\"fa ' + image + ' fa-lg\"></i>';\n",
       "        button.addEventListener('click', on_click_closure(method_name));\n",
       "        button.addEventListener('mouseover', on_mouseover_closure(tooltip));\n",
       "        buttonGroup.appendChild(button);\n",
       "    }\n",
       "\n",
       "    if (buttonGroup.hasChildNodes()) {\n",
       "        toolbar.appendChild(buttonGroup);\n",
       "    }\n",
       "\n",
       "    // Add the status bar.\n",
       "    var status_bar = document.createElement('span');\n",
       "    status_bar.classList = 'mpl-message pull-right';\n",
       "    toolbar.appendChild(status_bar);\n",
       "    this.message = status_bar;\n",
       "\n",
       "    // Add the close button to the window.\n",
       "    var buttongrp = document.createElement('div');\n",
       "    buttongrp.classList = 'btn-group inline pull-right';\n",
       "    button = document.createElement('button');\n",
       "    button.classList = 'btn btn-mini btn-primary';\n",
       "    button.href = '#';\n",
       "    button.title = 'Stop Interaction';\n",
       "    button.innerHTML = '<i class=\"fa fa-power-off icon-remove icon-large\"></i>';\n",
       "    button.addEventListener('click', function (_evt) {\n",
       "        fig.handle_close(fig, {});\n",
       "    });\n",
       "    button.addEventListener(\n",
       "        'mouseover',\n",
       "        on_mouseover_closure('Stop Interaction')\n",
       "    );\n",
       "    buttongrp.appendChild(button);\n",
       "    var titlebar = this.root.querySelector('.ui-dialog-titlebar');\n",
       "    titlebar.insertBefore(buttongrp, titlebar.firstChild);\n",
       "};\n",
       "\n",
       "mpl.figure.prototype._remove_fig_handler = function (event) {\n",
       "    var fig = event.data.fig;\n",
       "    if (event.target !== this) {\n",
       "        // Ignore bubbled events from children.\n",
       "        return;\n",
       "    }\n",
       "    fig.close_ws(fig, {});\n",
       "};\n",
       "\n",
       "mpl.figure.prototype._root_extra_style = function (el) {\n",
       "    el.style.boxSizing = 'content-box'; // override notebook setting of border-box.\n",
       "};\n",
       "\n",
       "mpl.figure.prototype._canvas_extra_style = function (el) {\n",
       "    // this is important to make the div 'focusable\n",
       "    el.setAttribute('tabindex', 0);\n",
       "    // reach out to IPython and tell the keyboard manager to turn it's self\n",
       "    // off when our div gets focus\n",
       "\n",
       "    // location in version 3\n",
       "    if (IPython.notebook.keyboard_manager) {\n",
       "        IPython.notebook.keyboard_manager.register_events(el);\n",
       "    } else {\n",
       "        // location in version 2\n",
       "        IPython.keyboard_manager.register_events(el);\n",
       "    }\n",
       "};\n",
       "\n",
       "mpl.figure.prototype._key_event_extra = function (event, _name) {\n",
       "    // Check for shift+enter\n",
       "    if (event.shiftKey && event.which === 13) {\n",
       "        this.canvas_div.blur();\n",
       "        // select the cell after this one\n",
       "        var index = IPython.notebook.find_cell_index(this.cell_info[0]);\n",
       "        IPython.notebook.select(index + 1);\n",
       "    }\n",
       "};\n",
       "\n",
       "mpl.figure.prototype.handle_save = function (fig, _msg) {\n",
       "    fig.ondownload(fig, null);\n",
       "};\n",
       "\n",
       "mpl.find_output_cell = function (html_output) {\n",
       "    // Return the cell and output element which can be found *uniquely* in the notebook.\n",
       "    // Note - this is a bit hacky, but it is done because the \"notebook_saving.Notebook\"\n",
       "    // IPython event is triggered only after the cells have been serialised, which for\n",
       "    // our purposes (turning an active figure into a static one), is too late.\n",
       "    var cells = IPython.notebook.get_cells();\n",
       "    var ncells = cells.length;\n",
       "    for (var i = 0; i < ncells; i++) {\n",
       "        var cell = cells[i];\n",
       "        if (cell.cell_type === 'code') {\n",
       "            for (var j = 0; j < cell.output_area.outputs.length; j++) {\n",
       "                var data = cell.output_area.outputs[j];\n",
       "                if (data.data) {\n",
       "                    // IPython >= 3 moved mimebundle to data attribute of output\n",
       "                    data = data.data;\n",
       "                }\n",
       "                if (data['text/html'] === html_output) {\n",
       "                    return [cell, data, j];\n",
       "                }\n",
       "            }\n",
       "        }\n",
       "    }\n",
       "};\n",
       "\n",
       "// Register the function which deals with the matplotlib target/channel.\n",
       "// The kernel may be null if the page has been refreshed.\n",
       "if (IPython.notebook.kernel !== null) {\n",
       "    IPython.notebook.kernel.comm_manager.register_target(\n",
       "        'matplotlib',\n",
       "        mpl.mpl_figure_comm\n",
       "    );\n",
       "}\n"
      ],
      "text/plain": [
       "<IPython.core.display.Javascript object>"
      ]
     },
     "metadata": {},
     "output_type": "display_data"
    },
    {
     "data": {
      "text/html": [
       "<img src=\"data:image/png;base64,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\" width=\"640\">"
      ],
      "text/plain": [
       "<IPython.core.display.HTML object>"
      ]
     },
     "metadata": {},
     "output_type": "display_data"
    },
    {
     "name": "stdout",
     "output_type": "stream",
     "text": [
      "[0.4079442  0.10172078 0.43036288 0.14215162 0.52175903 0.50023067\n",
      " 0.7473546 ]\n"
     ]
    }
   ],
   "source": [
    "\n",
    "pointnet = PointNet()\n",
    "pointnet.load_state_dict(torch.load(\"./checkpoints/ckpt_min_loss.pt\"))\n",
    "pointnet.eval();\n",
    "\n",
    "test(trained_model, './train/nugg_1.pcd')"
   ]
  },
  {
   "cell_type": "code",
   "execution_count": null,
   "id": "8924b03b",
   "metadata": {},
   "outputs": [],
   "source": []
  },
  {
   "cell_type": "code",
   "execution_count": null,
   "id": "24e5cf58",
   "metadata": {},
   "outputs": [],
   "source": []
  },
  {
   "cell_type": "code",
   "execution_count": null,
   "id": "0589b0cb",
   "metadata": {},
   "outputs": [],
   "source": []
  }
 ],
 "metadata": {
  "kernelspec": {
   "display_name": "Python 3 (ipykernel)",
   "language": "python",
   "name": "python3"
  },
  "language_info": {
   "codemirror_mode": {
    "name": "ipython",
    "version": 3
   },
   "file_extension": ".py",
   "mimetype": "text/x-python",
   "name": "python",
   "nbconvert_exporter": "python",
   "pygments_lexer": "ipython3",
   "version": "3.8.13"
  }
 },
 "nbformat": 4,
 "nbformat_minor": 5
}
