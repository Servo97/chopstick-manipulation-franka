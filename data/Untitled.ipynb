{
 "cells": [
  {
   "cell_type": "code",
   "execution_count": 2,
   "id": "97b5a614",
   "metadata": {},
   "outputs": [
    {
     "name": "stdout",
     "output_type": "stream",
     "text": [
      "Jupyter environment detected. Enabling Open3D WebVisualizer.\n",
      "[Open3D INFO] WebRTC GUI backend enabled.\n",
      "[Open3D INFO] WebRTCWindowSystem: HTTP handshake server disabled.\n"
     ]
    }
   ],
   "source": [
    "%matplotlib notebook\n",
    "import numpy as np\n",
    "import matplotlib.pyplot as plt\n",
    "plt.ion()\n",
    "import scipy\n",
    "import math\n",
    "import os\n",
    "import random\n",
    "import open3d as o3d\n",
    "# from open3d. import uniform_down_sample\n",
    "import torch\n",
    "import scipy.spatial.distance\n",
    "from glob import glob\n",
    "\n",
    "import torch\n",
    "import torch.nn as nn\n",
    "import torch.nn.functional as F\n",
    "from torch.utils.data import Dataset, DataLoader\n",
    "from torchvision import transforms, utils\n",
    "\n",
    "import plotly.graph_objects as go\n",
    "import plotly.express as px"
   ]
  },
  {
   "cell_type": "code",
   "execution_count": 3,
   "id": "723a087f",
   "metadata": {},
   "outputs": [
    {
     "name": "stdout",
     "output_type": "stream",
     "text": [
      "[0.40176077 0.1337709  0.00571454]\n",
      "0.0027145419237331325 0.006714541923733133\n"
     ]
    },
    {
     "data": {
      "application/javascript": [
       "/* Put everything inside the global mpl namespace */\n",
       "/* global mpl */\n",
       "window.mpl = {};\n",
       "\n",
       "mpl.get_websocket_type = function () {\n",
       "    if (typeof WebSocket !== 'undefined') {\n",
       "        return WebSocket;\n",
       "    } else if (typeof MozWebSocket !== 'undefined') {\n",
       "        return MozWebSocket;\n",
       "    } else {\n",
       "        alert(\n",
       "            'Your browser does not have WebSocket support. ' +\n",
       "                'Please try Chrome, Safari or Firefox ≥ 6. ' +\n",
       "                'Firefox 4 and 5 are also supported but you ' +\n",
       "                'have to enable WebSockets in about:config.'\n",
       "        );\n",
       "    }\n",
       "};\n",
       "\n",
       "mpl.figure = function (figure_id, websocket, ondownload, parent_element) {\n",
       "    this.id = figure_id;\n",
       "\n",
       "    this.ws = websocket;\n",
       "\n",
       "    this.supports_binary = this.ws.binaryType !== undefined;\n",
       "\n",
       "    if (!this.supports_binary) {\n",
       "        var warnings = document.getElementById('mpl-warnings');\n",
       "        if (warnings) {\n",
       "            warnings.style.display = 'block';\n",
       "            warnings.textContent =\n",
       "                'This browser does not support binary websocket messages. ' +\n",
       "                'Performance may be slow.';\n",
       "        }\n",
       "    }\n",
       "\n",
       "    this.imageObj = new Image();\n",
       "\n",
       "    this.context = undefined;\n",
       "    this.message = undefined;\n",
       "    this.canvas = undefined;\n",
       "    this.rubberband_canvas = undefined;\n",
       "    this.rubberband_context = undefined;\n",
       "    this.format_dropdown = undefined;\n",
       "\n",
       "    this.image_mode = 'full';\n",
       "\n",
       "    this.root = document.createElement('div');\n",
       "    this.root.setAttribute('style', 'display: inline-block');\n",
       "    this._root_extra_style(this.root);\n",
       "\n",
       "    parent_element.appendChild(this.root);\n",
       "\n",
       "    this._init_header(this);\n",
       "    this._init_canvas(this);\n",
       "    this._init_toolbar(this);\n",
       "\n",
       "    var fig = this;\n",
       "\n",
       "    this.waiting = false;\n",
       "\n",
       "    this.ws.onopen = function () {\n",
       "        fig.send_message('supports_binary', { value: fig.supports_binary });\n",
       "        fig.send_message('send_image_mode', {});\n",
       "        if (fig.ratio !== 1) {\n",
       "            fig.send_message('set_device_pixel_ratio', {\n",
       "                device_pixel_ratio: fig.ratio,\n",
       "            });\n",
       "        }\n",
       "        fig.send_message('refresh', {});\n",
       "    };\n",
       "\n",
       "    this.imageObj.onload = function () {\n",
       "        if (fig.image_mode === 'full') {\n",
       "            // Full images could contain transparency (where diff images\n",
       "            // almost always do), so we need to clear the canvas so that\n",
       "            // there is no ghosting.\n",
       "            fig.context.clearRect(0, 0, fig.canvas.width, fig.canvas.height);\n",
       "        }\n",
       "        fig.context.drawImage(fig.imageObj, 0, 0);\n",
       "    };\n",
       "\n",
       "    this.imageObj.onunload = function () {\n",
       "        fig.ws.close();\n",
       "    };\n",
       "\n",
       "    this.ws.onmessage = this._make_on_message_function(this);\n",
       "\n",
       "    this.ondownload = ondownload;\n",
       "};\n",
       "\n",
       "mpl.figure.prototype._init_header = function () {\n",
       "    var titlebar = document.createElement('div');\n",
       "    titlebar.classList =\n",
       "        'ui-dialog-titlebar ui-widget-header ui-corner-all ui-helper-clearfix';\n",
       "    var titletext = document.createElement('div');\n",
       "    titletext.classList = 'ui-dialog-title';\n",
       "    titletext.setAttribute(\n",
       "        'style',\n",
       "        'width: 100%; text-align: center; padding: 3px;'\n",
       "    );\n",
       "    titlebar.appendChild(titletext);\n",
       "    this.root.appendChild(titlebar);\n",
       "    this.header = titletext;\n",
       "};\n",
       "\n",
       "mpl.figure.prototype._canvas_extra_style = function (_canvas_div) {};\n",
       "\n",
       "mpl.figure.prototype._root_extra_style = function (_canvas_div) {};\n",
       "\n",
       "mpl.figure.prototype._init_canvas = function () {\n",
       "    var fig = this;\n",
       "\n",
       "    var canvas_div = (this.canvas_div = document.createElement('div'));\n",
       "    canvas_div.setAttribute(\n",
       "        'style',\n",
       "        'border: 1px solid #ddd;' +\n",
       "            'box-sizing: content-box;' +\n",
       "            'clear: both;' +\n",
       "            'min-height: 1px;' +\n",
       "            'min-width: 1px;' +\n",
       "            'outline: 0;' +\n",
       "            'overflow: hidden;' +\n",
       "            'position: relative;' +\n",
       "            'resize: both;'\n",
       "    );\n",
       "\n",
       "    function on_keyboard_event_closure(name) {\n",
       "        return function (event) {\n",
       "            return fig.key_event(event, name);\n",
       "        };\n",
       "    }\n",
       "\n",
       "    canvas_div.addEventListener(\n",
       "        'keydown',\n",
       "        on_keyboard_event_closure('key_press')\n",
       "    );\n",
       "    canvas_div.addEventListener(\n",
       "        'keyup',\n",
       "        on_keyboard_event_closure('key_release')\n",
       "    );\n",
       "\n",
       "    this._canvas_extra_style(canvas_div);\n",
       "    this.root.appendChild(canvas_div);\n",
       "\n",
       "    var canvas = (this.canvas = document.createElement('canvas'));\n",
       "    canvas.classList.add('mpl-canvas');\n",
       "    canvas.setAttribute('style', 'box-sizing: content-box;');\n",
       "\n",
       "    this.context = canvas.getContext('2d');\n",
       "\n",
       "    var backingStore =\n",
       "        this.context.backingStorePixelRatio ||\n",
       "        this.context.webkitBackingStorePixelRatio ||\n",
       "        this.context.mozBackingStorePixelRatio ||\n",
       "        this.context.msBackingStorePixelRatio ||\n",
       "        this.context.oBackingStorePixelRatio ||\n",
       "        this.context.backingStorePixelRatio ||\n",
       "        1;\n",
       "\n",
       "    this.ratio = (window.devicePixelRatio || 1) / backingStore;\n",
       "\n",
       "    var rubberband_canvas = (this.rubberband_canvas = document.createElement(\n",
       "        'canvas'\n",
       "    ));\n",
       "    rubberband_canvas.setAttribute(\n",
       "        'style',\n",
       "        'box-sizing: content-box; position: absolute; left: 0; top: 0; z-index: 1;'\n",
       "    );\n",
       "\n",
       "    // Apply a ponyfill if ResizeObserver is not implemented by browser.\n",
       "    if (this.ResizeObserver === undefined) {\n",
       "        if (window.ResizeObserver !== undefined) {\n",
       "            this.ResizeObserver = window.ResizeObserver;\n",
       "        } else {\n",
       "            var obs = _JSXTOOLS_RESIZE_OBSERVER({});\n",
       "            this.ResizeObserver = obs.ResizeObserver;\n",
       "        }\n",
       "    }\n",
       "\n",
       "    this.resizeObserverInstance = new this.ResizeObserver(function (entries) {\n",
       "        var nentries = entries.length;\n",
       "        for (var i = 0; i < nentries; i++) {\n",
       "            var entry = entries[i];\n",
       "            var width, height;\n",
       "            if (entry.contentBoxSize) {\n",
       "                if (entry.contentBoxSize instanceof Array) {\n",
       "                    // Chrome 84 implements new version of spec.\n",
       "                    width = entry.contentBoxSize[0].inlineSize;\n",
       "                    height = entry.contentBoxSize[0].blockSize;\n",
       "                } else {\n",
       "                    // Firefox implements old version of spec.\n",
       "                    width = entry.contentBoxSize.inlineSize;\n",
       "                    height = entry.contentBoxSize.blockSize;\n",
       "                }\n",
       "            } else {\n",
       "                // Chrome <84 implements even older version of spec.\n",
       "                width = entry.contentRect.width;\n",
       "                height = entry.contentRect.height;\n",
       "            }\n",
       "\n",
       "            // Keep the size of the canvas and rubber band canvas in sync with\n",
       "            // the canvas container.\n",
       "            if (entry.devicePixelContentBoxSize) {\n",
       "                // Chrome 84 implements new version of spec.\n",
       "                canvas.setAttribute(\n",
       "                    'width',\n",
       "                    entry.devicePixelContentBoxSize[0].inlineSize\n",
       "                );\n",
       "                canvas.setAttribute(\n",
       "                    'height',\n",
       "                    entry.devicePixelContentBoxSize[0].blockSize\n",
       "                );\n",
       "            } else {\n",
       "                canvas.setAttribute('width', width * fig.ratio);\n",
       "                canvas.setAttribute('height', height * fig.ratio);\n",
       "            }\n",
       "            canvas.setAttribute(\n",
       "                'style',\n",
       "                'width: ' + width + 'px; height: ' + height + 'px;'\n",
       "            );\n",
       "\n",
       "            rubberband_canvas.setAttribute('width', width);\n",
       "            rubberband_canvas.setAttribute('height', height);\n",
       "\n",
       "            // And update the size in Python. We ignore the initial 0/0 size\n",
       "            // that occurs as the element is placed into the DOM, which should\n",
       "            // otherwise not happen due to the minimum size styling.\n",
       "            if (fig.ws.readyState == 1 && width != 0 && height != 0) {\n",
       "                fig.request_resize(width, height);\n",
       "            }\n",
       "        }\n",
       "    });\n",
       "    this.resizeObserverInstance.observe(canvas_div);\n",
       "\n",
       "    function on_mouse_event_closure(name) {\n",
       "        return function (event) {\n",
       "            return fig.mouse_event(event, name);\n",
       "        };\n",
       "    }\n",
       "\n",
       "    rubberband_canvas.addEventListener(\n",
       "        'mousedown',\n",
       "        on_mouse_event_closure('button_press')\n",
       "    );\n",
       "    rubberband_canvas.addEventListener(\n",
       "        'mouseup',\n",
       "        on_mouse_event_closure('button_release')\n",
       "    );\n",
       "    rubberband_canvas.addEventListener(\n",
       "        'dblclick',\n",
       "        on_mouse_event_closure('dblclick')\n",
       "    );\n",
       "    // Throttle sequential mouse events to 1 every 20ms.\n",
       "    rubberband_canvas.addEventListener(\n",
       "        'mousemove',\n",
       "        on_mouse_event_closure('motion_notify')\n",
       "    );\n",
       "\n",
       "    rubberband_canvas.addEventListener(\n",
       "        'mouseenter',\n",
       "        on_mouse_event_closure('figure_enter')\n",
       "    );\n",
       "    rubberband_canvas.addEventListener(\n",
       "        'mouseleave',\n",
       "        on_mouse_event_closure('figure_leave')\n",
       "    );\n",
       "\n",
       "    canvas_div.addEventListener('wheel', function (event) {\n",
       "        if (event.deltaY < 0) {\n",
       "            event.step = 1;\n",
       "        } else {\n",
       "            event.step = -1;\n",
       "        }\n",
       "        on_mouse_event_closure('scroll')(event);\n",
       "    });\n",
       "\n",
       "    canvas_div.appendChild(canvas);\n",
       "    canvas_div.appendChild(rubberband_canvas);\n",
       "\n",
       "    this.rubberband_context = rubberband_canvas.getContext('2d');\n",
       "    this.rubberband_context.strokeStyle = '#000000';\n",
       "\n",
       "    this._resize_canvas = function (width, height, forward) {\n",
       "        if (forward) {\n",
       "            canvas_div.style.width = width + 'px';\n",
       "            canvas_div.style.height = height + 'px';\n",
       "        }\n",
       "    };\n",
       "\n",
       "    // Disable right mouse context menu.\n",
       "    this.rubberband_canvas.addEventListener('contextmenu', function (_e) {\n",
       "        event.preventDefault();\n",
       "        return false;\n",
       "    });\n",
       "\n",
       "    function set_focus() {\n",
       "        canvas.focus();\n",
       "        canvas_div.focus();\n",
       "    }\n",
       "\n",
       "    window.setTimeout(set_focus, 100);\n",
       "};\n",
       "\n",
       "mpl.figure.prototype._init_toolbar = function () {\n",
       "    var fig = this;\n",
       "\n",
       "    var toolbar = document.createElement('div');\n",
       "    toolbar.classList = 'mpl-toolbar';\n",
       "    this.root.appendChild(toolbar);\n",
       "\n",
       "    function on_click_closure(name) {\n",
       "        return function (_event) {\n",
       "            return fig.toolbar_button_onclick(name);\n",
       "        };\n",
       "    }\n",
       "\n",
       "    function on_mouseover_closure(tooltip) {\n",
       "        return function (event) {\n",
       "            if (!event.currentTarget.disabled) {\n",
       "                return fig.toolbar_button_onmouseover(tooltip);\n",
       "            }\n",
       "        };\n",
       "    }\n",
       "\n",
       "    fig.buttons = {};\n",
       "    var buttonGroup = document.createElement('div');\n",
       "    buttonGroup.classList = 'mpl-button-group';\n",
       "    for (var toolbar_ind in mpl.toolbar_items) {\n",
       "        var name = mpl.toolbar_items[toolbar_ind][0];\n",
       "        var tooltip = mpl.toolbar_items[toolbar_ind][1];\n",
       "        var image = mpl.toolbar_items[toolbar_ind][2];\n",
       "        var method_name = mpl.toolbar_items[toolbar_ind][3];\n",
       "\n",
       "        if (!name) {\n",
       "            /* Instead of a spacer, we start a new button group. */\n",
       "            if (buttonGroup.hasChildNodes()) {\n",
       "                toolbar.appendChild(buttonGroup);\n",
       "            }\n",
       "            buttonGroup = document.createElement('div');\n",
       "            buttonGroup.classList = 'mpl-button-group';\n",
       "            continue;\n",
       "        }\n",
       "\n",
       "        var button = (fig.buttons[name] = document.createElement('button'));\n",
       "        button.classList = 'mpl-widget';\n",
       "        button.setAttribute('role', 'button');\n",
       "        button.setAttribute('aria-disabled', 'false');\n",
       "        button.addEventListener('click', on_click_closure(method_name));\n",
       "        button.addEventListener('mouseover', on_mouseover_closure(tooltip));\n",
       "\n",
       "        var icon_img = document.createElement('img');\n",
       "        icon_img.src = '_images/' + image + '.png';\n",
       "        icon_img.srcset = '_images/' + image + '_large.png 2x';\n",
       "        icon_img.alt = tooltip;\n",
       "        button.appendChild(icon_img);\n",
       "\n",
       "        buttonGroup.appendChild(button);\n",
       "    }\n",
       "\n",
       "    if (buttonGroup.hasChildNodes()) {\n",
       "        toolbar.appendChild(buttonGroup);\n",
       "    }\n",
       "\n",
       "    var fmt_picker = document.createElement('select');\n",
       "    fmt_picker.classList = 'mpl-widget';\n",
       "    toolbar.appendChild(fmt_picker);\n",
       "    this.format_dropdown = fmt_picker;\n",
       "\n",
       "    for (var ind in mpl.extensions) {\n",
       "        var fmt = mpl.extensions[ind];\n",
       "        var option = document.createElement('option');\n",
       "        option.selected = fmt === mpl.default_extension;\n",
       "        option.innerHTML = fmt;\n",
       "        fmt_picker.appendChild(option);\n",
       "    }\n",
       "\n",
       "    var status_bar = document.createElement('span');\n",
       "    status_bar.classList = 'mpl-message';\n",
       "    toolbar.appendChild(status_bar);\n",
       "    this.message = status_bar;\n",
       "};\n",
       "\n",
       "mpl.figure.prototype.request_resize = function (x_pixels, y_pixels) {\n",
       "    // Request matplotlib to resize the figure. Matplotlib will then trigger a resize in the client,\n",
       "    // which will in turn request a refresh of the image.\n",
       "    this.send_message('resize', { width: x_pixels, height: y_pixels });\n",
       "};\n",
       "\n",
       "mpl.figure.prototype.send_message = function (type, properties) {\n",
       "    properties['type'] = type;\n",
       "    properties['figure_id'] = this.id;\n",
       "    this.ws.send(JSON.stringify(properties));\n",
       "};\n",
       "\n",
       "mpl.figure.prototype.send_draw_message = function () {\n",
       "    if (!this.waiting) {\n",
       "        this.waiting = true;\n",
       "        this.ws.send(JSON.stringify({ type: 'draw', figure_id: this.id }));\n",
       "    }\n",
       "};\n",
       "\n",
       "mpl.figure.prototype.handle_save = function (fig, _msg) {\n",
       "    var format_dropdown = fig.format_dropdown;\n",
       "    var format = format_dropdown.options[format_dropdown.selectedIndex].value;\n",
       "    fig.ondownload(fig, format);\n",
       "};\n",
       "\n",
       "mpl.figure.prototype.handle_resize = function (fig, msg) {\n",
       "    var size = msg['size'];\n",
       "    if (size[0] !== fig.canvas.width || size[1] !== fig.canvas.height) {\n",
       "        fig._resize_canvas(size[0], size[1], msg['forward']);\n",
       "        fig.send_message('refresh', {});\n",
       "    }\n",
       "};\n",
       "\n",
       "mpl.figure.prototype.handle_rubberband = function (fig, msg) {\n",
       "    var x0 = msg['x0'] / fig.ratio;\n",
       "    var y0 = (fig.canvas.height - msg['y0']) / fig.ratio;\n",
       "    var x1 = msg['x1'] / fig.ratio;\n",
       "    var y1 = (fig.canvas.height - msg['y1']) / fig.ratio;\n",
       "    x0 = Math.floor(x0) + 0.5;\n",
       "    y0 = Math.floor(y0) + 0.5;\n",
       "    x1 = Math.floor(x1) + 0.5;\n",
       "    y1 = Math.floor(y1) + 0.5;\n",
       "    var min_x = Math.min(x0, x1);\n",
       "    var min_y = Math.min(y0, y1);\n",
       "    var width = Math.abs(x1 - x0);\n",
       "    var height = Math.abs(y1 - y0);\n",
       "\n",
       "    fig.rubberband_context.clearRect(\n",
       "        0,\n",
       "        0,\n",
       "        fig.canvas.width / fig.ratio,\n",
       "        fig.canvas.height / fig.ratio\n",
       "    );\n",
       "\n",
       "    fig.rubberband_context.strokeRect(min_x, min_y, width, height);\n",
       "};\n",
       "\n",
       "mpl.figure.prototype.handle_figure_label = function (fig, msg) {\n",
       "    // Updates the figure title.\n",
       "    fig.header.textContent = msg['label'];\n",
       "};\n",
       "\n",
       "mpl.figure.prototype.handle_cursor = function (fig, msg) {\n",
       "    fig.rubberband_canvas.style.cursor = msg['cursor'];\n",
       "};\n",
       "\n",
       "mpl.figure.prototype.handle_message = function (fig, msg) {\n",
       "    fig.message.textContent = msg['message'];\n",
       "};\n",
       "\n",
       "mpl.figure.prototype.handle_draw = function (fig, _msg) {\n",
       "    // Request the server to send over a new figure.\n",
       "    fig.send_draw_message();\n",
       "};\n",
       "\n",
       "mpl.figure.prototype.handle_image_mode = function (fig, msg) {\n",
       "    fig.image_mode = msg['mode'];\n",
       "};\n",
       "\n",
       "mpl.figure.prototype.handle_history_buttons = function (fig, msg) {\n",
       "    for (var key in msg) {\n",
       "        if (!(key in fig.buttons)) {\n",
       "            continue;\n",
       "        }\n",
       "        fig.buttons[key].disabled = !msg[key];\n",
       "        fig.buttons[key].setAttribute('aria-disabled', !msg[key]);\n",
       "    }\n",
       "};\n",
       "\n",
       "mpl.figure.prototype.handle_navigate_mode = function (fig, msg) {\n",
       "    if (msg['mode'] === 'PAN') {\n",
       "        fig.buttons['Pan'].classList.add('active');\n",
       "        fig.buttons['Zoom'].classList.remove('active');\n",
       "    } else if (msg['mode'] === 'ZOOM') {\n",
       "        fig.buttons['Pan'].classList.remove('active');\n",
       "        fig.buttons['Zoom'].classList.add('active');\n",
       "    } else {\n",
       "        fig.buttons['Pan'].classList.remove('active');\n",
       "        fig.buttons['Zoom'].classList.remove('active');\n",
       "    }\n",
       "};\n",
       "\n",
       "mpl.figure.prototype.updated_canvas_event = function () {\n",
       "    // Called whenever the canvas gets updated.\n",
       "    this.send_message('ack', {});\n",
       "};\n",
       "\n",
       "// A function to construct a web socket function for onmessage handling.\n",
       "// Called in the figure constructor.\n",
       "mpl.figure.prototype._make_on_message_function = function (fig) {\n",
       "    return function socket_on_message(evt) {\n",
       "        if (evt.data instanceof Blob) {\n",
       "            var img = evt.data;\n",
       "            if (img.type !== 'image/png') {\n",
       "                /* FIXME: We get \"Resource interpreted as Image but\n",
       "                 * transferred with MIME type text/plain:\" errors on\n",
       "                 * Chrome.  But how to set the MIME type?  It doesn't seem\n",
       "                 * to be part of the websocket stream */\n",
       "                img.type = 'image/png';\n",
       "            }\n",
       "\n",
       "            /* Free the memory for the previous frames */\n",
       "            if (fig.imageObj.src) {\n",
       "                (window.URL || window.webkitURL).revokeObjectURL(\n",
       "                    fig.imageObj.src\n",
       "                );\n",
       "            }\n",
       "\n",
       "            fig.imageObj.src = (window.URL || window.webkitURL).createObjectURL(\n",
       "                img\n",
       "            );\n",
       "            fig.updated_canvas_event();\n",
       "            fig.waiting = false;\n",
       "            return;\n",
       "        } else if (\n",
       "            typeof evt.data === 'string' &&\n",
       "            evt.data.slice(0, 21) === 'data:image/png;base64'\n",
       "        ) {\n",
       "            fig.imageObj.src = evt.data;\n",
       "            fig.updated_canvas_event();\n",
       "            fig.waiting = false;\n",
       "            return;\n",
       "        }\n",
       "\n",
       "        var msg = JSON.parse(evt.data);\n",
       "        var msg_type = msg['type'];\n",
       "\n",
       "        // Call the  \"handle_{type}\" callback, which takes\n",
       "        // the figure and JSON message as its only arguments.\n",
       "        try {\n",
       "            var callback = fig['handle_' + msg_type];\n",
       "        } catch (e) {\n",
       "            console.log(\n",
       "                \"No handler for the '\" + msg_type + \"' message type: \",\n",
       "                msg\n",
       "            );\n",
       "            return;\n",
       "        }\n",
       "\n",
       "        if (callback) {\n",
       "            try {\n",
       "                // console.log(\"Handling '\" + msg_type + \"' message: \", msg);\n",
       "                callback(fig, msg);\n",
       "            } catch (e) {\n",
       "                console.log(\n",
       "                    \"Exception inside the 'handler_\" + msg_type + \"' callback:\",\n",
       "                    e,\n",
       "                    e.stack,\n",
       "                    msg\n",
       "                );\n",
       "            }\n",
       "        }\n",
       "    };\n",
       "};\n",
       "\n",
       "// from https://stackoverflow.com/questions/1114465/getting-mouse-location-in-canvas\n",
       "mpl.findpos = function (e) {\n",
       "    //this section is from http://www.quirksmode.org/js/events_properties.html\n",
       "    var targ;\n",
       "    if (!e) {\n",
       "        e = window.event;\n",
       "    }\n",
       "    if (e.target) {\n",
       "        targ = e.target;\n",
       "    } else if (e.srcElement) {\n",
       "        targ = e.srcElement;\n",
       "    }\n",
       "    if (targ.nodeType === 3) {\n",
       "        // defeat Safari bug\n",
       "        targ = targ.parentNode;\n",
       "    }\n",
       "\n",
       "    // pageX,Y are the mouse positions relative to the document\n",
       "    var boundingRect = targ.getBoundingClientRect();\n",
       "    var x = e.pageX - (boundingRect.left + document.body.scrollLeft);\n",
       "    var y = e.pageY - (boundingRect.top + document.body.scrollTop);\n",
       "\n",
       "    return { x: x, y: y };\n",
       "};\n",
       "\n",
       "/*\n",
       " * return a copy of an object with only non-object keys\n",
       " * we need this to avoid circular references\n",
       " * https://stackoverflow.com/a/24161582/3208463\n",
       " */\n",
       "function simpleKeys(original) {\n",
       "    return Object.keys(original).reduce(function (obj, key) {\n",
       "        if (typeof original[key] !== 'object') {\n",
       "            obj[key] = original[key];\n",
       "        }\n",
       "        return obj;\n",
       "    }, {});\n",
       "}\n",
       "\n",
       "mpl.figure.prototype.mouse_event = function (event, name) {\n",
       "    var canvas_pos = mpl.findpos(event);\n",
       "\n",
       "    if (name === 'button_press') {\n",
       "        this.canvas.focus();\n",
       "        this.canvas_div.focus();\n",
       "    }\n",
       "\n",
       "    var x = canvas_pos.x * this.ratio;\n",
       "    var y = canvas_pos.y * this.ratio;\n",
       "\n",
       "    this.send_message(name, {\n",
       "        x: x,\n",
       "        y: y,\n",
       "        button: event.button,\n",
       "        step: event.step,\n",
       "        guiEvent: simpleKeys(event),\n",
       "    });\n",
       "\n",
       "    /* This prevents the web browser from automatically changing to\n",
       "     * the text insertion cursor when the button is pressed.  We want\n",
       "     * to control all of the cursor setting manually through the\n",
       "     * 'cursor' event from matplotlib */\n",
       "    event.preventDefault();\n",
       "    return false;\n",
       "};\n",
       "\n",
       "mpl.figure.prototype._key_event_extra = function (_event, _name) {\n",
       "    // Handle any extra behaviour associated with a key event\n",
       "};\n",
       "\n",
       "mpl.figure.prototype.key_event = function (event, name) {\n",
       "    // Prevent repeat events\n",
       "    if (name === 'key_press') {\n",
       "        if (event.key === this._key) {\n",
       "            return;\n",
       "        } else {\n",
       "            this._key = event.key;\n",
       "        }\n",
       "    }\n",
       "    if (name === 'key_release') {\n",
       "        this._key = null;\n",
       "    }\n",
       "\n",
       "    var value = '';\n",
       "    if (event.ctrlKey && event.key !== 'Control') {\n",
       "        value += 'ctrl+';\n",
       "    }\n",
       "    else if (event.altKey && event.key !== 'Alt') {\n",
       "        value += 'alt+';\n",
       "    }\n",
       "    else if (event.shiftKey && event.key !== 'Shift') {\n",
       "        value += 'shift+';\n",
       "    }\n",
       "\n",
       "    value += 'k' + event.key;\n",
       "\n",
       "    this._key_event_extra(event, name);\n",
       "\n",
       "    this.send_message(name, { key: value, guiEvent: simpleKeys(event) });\n",
       "    return false;\n",
       "};\n",
       "\n",
       "mpl.figure.prototype.toolbar_button_onclick = function (name) {\n",
       "    if (name === 'download') {\n",
       "        this.handle_save(this, null);\n",
       "    } else {\n",
       "        this.send_message('toolbar_button', { name: name });\n",
       "    }\n",
       "};\n",
       "\n",
       "mpl.figure.prototype.toolbar_button_onmouseover = function (tooltip) {\n",
       "    this.message.textContent = tooltip;\n",
       "};\n",
       "\n",
       "///////////////// REMAINING CONTENT GENERATED BY embed_js.py /////////////////\n",
       "// prettier-ignore\n",
       "var _JSXTOOLS_RESIZE_OBSERVER=function(A){var t,i=new WeakMap,n=new WeakMap,a=new WeakMap,r=new WeakMap,o=new Set;function s(e){if(!(this instanceof s))throw new TypeError(\"Constructor requires 'new' operator\");i.set(this,e)}function h(){throw new TypeError(\"Function is not a constructor\")}function c(e,t,i,n){e=0 in arguments?Number(arguments[0]):0,t=1 in arguments?Number(arguments[1]):0,i=2 in arguments?Number(arguments[2]):0,n=3 in arguments?Number(arguments[3]):0,this.right=(this.x=this.left=e)+(this.width=i),this.bottom=(this.y=this.top=t)+(this.height=n),Object.freeze(this)}function d(){t=requestAnimationFrame(d);var s=new WeakMap,p=new Set;o.forEach((function(t){r.get(t).forEach((function(i){var r=t instanceof window.SVGElement,o=a.get(t),d=r?0:parseFloat(o.paddingTop),f=r?0:parseFloat(o.paddingRight),l=r?0:parseFloat(o.paddingBottom),u=r?0:parseFloat(o.paddingLeft),g=r?0:parseFloat(o.borderTopWidth),m=r?0:parseFloat(o.borderRightWidth),w=r?0:parseFloat(o.borderBottomWidth),b=u+f,F=d+l,v=(r?0:parseFloat(o.borderLeftWidth))+m,W=g+w,y=r?0:t.offsetHeight-W-t.clientHeight,E=r?0:t.offsetWidth-v-t.clientWidth,R=b+v,z=F+W,M=r?t.width:parseFloat(o.width)-R-E,O=r?t.height:parseFloat(o.height)-z-y;if(n.has(t)){var k=n.get(t);if(k[0]===M&&k[1]===O)return}n.set(t,[M,O]);var S=Object.create(h.prototype);S.target=t,S.contentRect=new c(u,d,M,O),s.has(i)||(s.set(i,[]),p.add(i)),s.get(i).push(S)}))})),p.forEach((function(e){i.get(e).call(e,s.get(e),e)}))}return s.prototype.observe=function(i){if(i instanceof window.Element){r.has(i)||(r.set(i,new Set),o.add(i),a.set(i,window.getComputedStyle(i)));var n=r.get(i);n.has(this)||n.add(this),cancelAnimationFrame(t),t=requestAnimationFrame(d)}},s.prototype.unobserve=function(i){if(i instanceof window.Element&&r.has(i)){var n=r.get(i);n.has(this)&&(n.delete(this),n.size||(r.delete(i),o.delete(i))),n.size||r.delete(i),o.size||cancelAnimationFrame(t)}},A.DOMRectReadOnly=c,A.ResizeObserver=s,A.ResizeObserverEntry=h,A}; // eslint-disable-line\n",
       "mpl.toolbar_items = [[\"Home\", \"Reset original view\", \"fa fa-home icon-home\", \"home\"], [\"Back\", \"Back to previous view\", \"fa fa-arrow-left icon-arrow-left\", \"back\"], [\"Forward\", \"Forward to next view\", \"fa fa-arrow-right icon-arrow-right\", \"forward\"], [\"\", \"\", \"\", \"\"], [\"Pan\", \"Left button pans, Right button zooms\\nx/y fixes axis, CTRL fixes aspect\", \"fa fa-arrows icon-move\", \"pan\"], [\"Zoom\", \"Zoom to rectangle\\nx/y fixes axis\", \"fa fa-square-o icon-check-empty\", \"zoom\"], [\"\", \"\", \"\", \"\"], [\"Download\", \"Download plot\", \"fa fa-floppy-o icon-save\", \"download\"]];\n",
       "\n",
       "mpl.extensions = [\"eps\", \"jpeg\", \"pgf\", \"pdf\", \"png\", \"ps\", \"raw\", \"svg\", \"tif\"];\n",
       "\n",
       "mpl.default_extension = \"png\";/* global mpl */\n",
       "\n",
       "var comm_websocket_adapter = function (comm) {\n",
       "    // Create a \"websocket\"-like object which calls the given IPython comm\n",
       "    // object with the appropriate methods. Currently this is a non binary\n",
       "    // socket, so there is still some room for performance tuning.\n",
       "    var ws = {};\n",
       "\n",
       "    ws.binaryType = comm.kernel.ws.binaryType;\n",
       "    ws.readyState = comm.kernel.ws.readyState;\n",
       "    function updateReadyState(_event) {\n",
       "        if (comm.kernel.ws) {\n",
       "            ws.readyState = comm.kernel.ws.readyState;\n",
       "        } else {\n",
       "            ws.readyState = 3; // Closed state.\n",
       "        }\n",
       "    }\n",
       "    comm.kernel.ws.addEventListener('open', updateReadyState);\n",
       "    comm.kernel.ws.addEventListener('close', updateReadyState);\n",
       "    comm.kernel.ws.addEventListener('error', updateReadyState);\n",
       "\n",
       "    ws.close = function () {\n",
       "        comm.close();\n",
       "    };\n",
       "    ws.send = function (m) {\n",
       "        //console.log('sending', m);\n",
       "        comm.send(m);\n",
       "    };\n",
       "    // Register the callback with on_msg.\n",
       "    comm.on_msg(function (msg) {\n",
       "        //console.log('receiving', msg['content']['data'], msg);\n",
       "        var data = msg['content']['data'];\n",
       "        if (data['blob'] !== undefined) {\n",
       "            data = {\n",
       "                data: new Blob(msg['buffers'], { type: data['blob'] }),\n",
       "            };\n",
       "        }\n",
       "        // Pass the mpl event to the overridden (by mpl) onmessage function.\n",
       "        ws.onmessage(data);\n",
       "    });\n",
       "    return ws;\n",
       "};\n",
       "\n",
       "mpl.mpl_figure_comm = function (comm, msg) {\n",
       "    // This is the function which gets called when the mpl process\n",
       "    // starts-up an IPython Comm through the \"matplotlib\" channel.\n",
       "\n",
       "    var id = msg.content.data.id;\n",
       "    // Get hold of the div created by the display call when the Comm\n",
       "    // socket was opened in Python.\n",
       "    var element = document.getElementById(id);\n",
       "    var ws_proxy = comm_websocket_adapter(comm);\n",
       "\n",
       "    function ondownload(figure, _format) {\n",
       "        window.open(figure.canvas.toDataURL());\n",
       "    }\n",
       "\n",
       "    var fig = new mpl.figure(id, ws_proxy, ondownload, element);\n",
       "\n",
       "    // Call onopen now - mpl needs it, as it is assuming we've passed it a real\n",
       "    // web socket which is closed, not our websocket->open comm proxy.\n",
       "    ws_proxy.onopen();\n",
       "\n",
       "    fig.parent_element = element;\n",
       "    fig.cell_info = mpl.find_output_cell(\"<div id='\" + id + \"'></div>\");\n",
       "    if (!fig.cell_info) {\n",
       "        console.error('Failed to find cell for figure', id, fig);\n",
       "        return;\n",
       "    }\n",
       "    fig.cell_info[0].output_area.element.on(\n",
       "        'cleared',\n",
       "        { fig: fig },\n",
       "        fig._remove_fig_handler\n",
       "    );\n",
       "};\n",
       "\n",
       "mpl.figure.prototype.handle_close = function (fig, msg) {\n",
       "    var width = fig.canvas.width / fig.ratio;\n",
       "    fig.cell_info[0].output_area.element.off(\n",
       "        'cleared',\n",
       "        fig._remove_fig_handler\n",
       "    );\n",
       "    fig.resizeObserverInstance.unobserve(fig.canvas_div);\n",
       "\n",
       "    // Update the output cell to use the data from the current canvas.\n",
       "    fig.push_to_output();\n",
       "    var dataURL = fig.canvas.toDataURL();\n",
       "    // Re-enable the keyboard manager in IPython - without this line, in FF,\n",
       "    // the notebook keyboard shortcuts fail.\n",
       "    IPython.keyboard_manager.enable();\n",
       "    fig.parent_element.innerHTML =\n",
       "        '<img src=\"' + dataURL + '\" width=\"' + width + '\">';\n",
       "    fig.close_ws(fig, msg);\n",
       "};\n",
       "\n",
       "mpl.figure.prototype.close_ws = function (fig, msg) {\n",
       "    fig.send_message('closing', msg);\n",
       "    // fig.ws.close()\n",
       "};\n",
       "\n",
       "mpl.figure.prototype.push_to_output = function (_remove_interactive) {\n",
       "    // Turn the data on the canvas into data in the output cell.\n",
       "    var width = this.canvas.width / this.ratio;\n",
       "    var dataURL = this.canvas.toDataURL();\n",
       "    this.cell_info[1]['text/html'] =\n",
       "        '<img src=\"' + dataURL + '\" width=\"' + width + '\">';\n",
       "};\n",
       "\n",
       "mpl.figure.prototype.updated_canvas_event = function () {\n",
       "    // Tell IPython that the notebook contents must change.\n",
       "    IPython.notebook.set_dirty(true);\n",
       "    this.send_message('ack', {});\n",
       "    var fig = this;\n",
       "    // Wait a second, then push the new image to the DOM so\n",
       "    // that it is saved nicely (might be nice to debounce this).\n",
       "    setTimeout(function () {\n",
       "        fig.push_to_output();\n",
       "    }, 1000);\n",
       "};\n",
       "\n",
       "mpl.figure.prototype._init_toolbar = function () {\n",
       "    var fig = this;\n",
       "\n",
       "    var toolbar = document.createElement('div');\n",
       "    toolbar.classList = 'btn-toolbar';\n",
       "    this.root.appendChild(toolbar);\n",
       "\n",
       "    function on_click_closure(name) {\n",
       "        return function (_event) {\n",
       "            return fig.toolbar_button_onclick(name);\n",
       "        };\n",
       "    }\n",
       "\n",
       "    function on_mouseover_closure(tooltip) {\n",
       "        return function (event) {\n",
       "            if (!event.currentTarget.disabled) {\n",
       "                return fig.toolbar_button_onmouseover(tooltip);\n",
       "            }\n",
       "        };\n",
       "    }\n",
       "\n",
       "    fig.buttons = {};\n",
       "    var buttonGroup = document.createElement('div');\n",
       "    buttonGroup.classList = 'btn-group';\n",
       "    var button;\n",
       "    for (var toolbar_ind in mpl.toolbar_items) {\n",
       "        var name = mpl.toolbar_items[toolbar_ind][0];\n",
       "        var tooltip = mpl.toolbar_items[toolbar_ind][1];\n",
       "        var image = mpl.toolbar_items[toolbar_ind][2];\n",
       "        var method_name = mpl.toolbar_items[toolbar_ind][3];\n",
       "\n",
       "        if (!name) {\n",
       "            /* Instead of a spacer, we start a new button group. */\n",
       "            if (buttonGroup.hasChildNodes()) {\n",
       "                toolbar.appendChild(buttonGroup);\n",
       "            }\n",
       "            buttonGroup = document.createElement('div');\n",
       "            buttonGroup.classList = 'btn-group';\n",
       "            continue;\n",
       "        }\n",
       "\n",
       "        button = fig.buttons[name] = document.createElement('button');\n",
       "        button.classList = 'btn btn-default';\n",
       "        button.href = '#';\n",
       "        button.title = name;\n",
       "        button.innerHTML = '<i class=\"fa ' + image + ' fa-lg\"></i>';\n",
       "        button.addEventListener('click', on_click_closure(method_name));\n",
       "        button.addEventListener('mouseover', on_mouseover_closure(tooltip));\n",
       "        buttonGroup.appendChild(button);\n",
       "    }\n",
       "\n",
       "    if (buttonGroup.hasChildNodes()) {\n",
       "        toolbar.appendChild(buttonGroup);\n",
       "    }\n",
       "\n",
       "    // Add the status bar.\n",
       "    var status_bar = document.createElement('span');\n",
       "    status_bar.classList = 'mpl-message pull-right';\n",
       "    toolbar.appendChild(status_bar);\n",
       "    this.message = status_bar;\n",
       "\n",
       "    // Add the close button to the window.\n",
       "    var buttongrp = document.createElement('div');\n",
       "    buttongrp.classList = 'btn-group inline pull-right';\n",
       "    button = document.createElement('button');\n",
       "    button.classList = 'btn btn-mini btn-primary';\n",
       "    button.href = '#';\n",
       "    button.title = 'Stop Interaction';\n",
       "    button.innerHTML = '<i class=\"fa fa-power-off icon-remove icon-large\"></i>';\n",
       "    button.addEventListener('click', function (_evt) {\n",
       "        fig.handle_close(fig, {});\n",
       "    });\n",
       "    button.addEventListener(\n",
       "        'mouseover',\n",
       "        on_mouseover_closure('Stop Interaction')\n",
       "    );\n",
       "    buttongrp.appendChild(button);\n",
       "    var titlebar = this.root.querySelector('.ui-dialog-titlebar');\n",
       "    titlebar.insertBefore(buttongrp, titlebar.firstChild);\n",
       "};\n",
       "\n",
       "mpl.figure.prototype._remove_fig_handler = function (event) {\n",
       "    var fig = event.data.fig;\n",
       "    if (event.target !== this) {\n",
       "        // Ignore bubbled events from children.\n",
       "        return;\n",
       "    }\n",
       "    fig.close_ws(fig, {});\n",
       "};\n",
       "\n",
       "mpl.figure.prototype._root_extra_style = function (el) {\n",
       "    el.style.boxSizing = 'content-box'; // override notebook setting of border-box.\n",
       "};\n",
       "\n",
       "mpl.figure.prototype._canvas_extra_style = function (el) {\n",
       "    // this is important to make the div 'focusable\n",
       "    el.setAttribute('tabindex', 0);\n",
       "    // reach out to IPython and tell the keyboard manager to turn it's self\n",
       "    // off when our div gets focus\n",
       "\n",
       "    // location in version 3\n",
       "    if (IPython.notebook.keyboard_manager) {\n",
       "        IPython.notebook.keyboard_manager.register_events(el);\n",
       "    } else {\n",
       "        // location in version 2\n",
       "        IPython.keyboard_manager.register_events(el);\n",
       "    }\n",
       "};\n",
       "\n",
       "mpl.figure.prototype._key_event_extra = function (event, _name) {\n",
       "    // Check for shift+enter\n",
       "    if (event.shiftKey && event.which === 13) {\n",
       "        this.canvas_div.blur();\n",
       "        // select the cell after this one\n",
       "        var index = IPython.notebook.find_cell_index(this.cell_info[0]);\n",
       "        IPython.notebook.select(index + 1);\n",
       "    }\n",
       "};\n",
       "\n",
       "mpl.figure.prototype.handle_save = function (fig, _msg) {\n",
       "    fig.ondownload(fig, null);\n",
       "};\n",
       "\n",
       "mpl.find_output_cell = function (html_output) {\n",
       "    // Return the cell and output element which can be found *uniquely* in the notebook.\n",
       "    // Note - this is a bit hacky, but it is done because the \"notebook_saving.Notebook\"\n",
       "    // IPython event is triggered only after the cells have been serialised, which for\n",
       "    // our purposes (turning an active figure into a static one), is too late.\n",
       "    var cells = IPython.notebook.get_cells();\n",
       "    var ncells = cells.length;\n",
       "    for (var i = 0; i < ncells; i++) {\n",
       "        var cell = cells[i];\n",
       "        if (cell.cell_type === 'code') {\n",
       "            for (var j = 0; j < cell.output_area.outputs.length; j++) {\n",
       "                var data = cell.output_area.outputs[j];\n",
       "                if (data.data) {\n",
       "                    // IPython >= 3 moved mimebundle to data attribute of output\n",
       "                    data = data.data;\n",
       "                }\n",
       "                if (data['text/html'] === html_output) {\n",
       "                    return [cell, data, j];\n",
       "                }\n",
       "            }\n",
       "        }\n",
       "    }\n",
       "};\n",
       "\n",
       "// Register the function which deals with the matplotlib target/channel.\n",
       "// The kernel may be null if the page has been refreshed.\n",
       "if (IPython.notebook.kernel !== null) {\n",
       "    IPython.notebook.kernel.comm_manager.register_target(\n",
       "        'matplotlib',\n",
       "        mpl.mpl_figure_comm\n",
       "    );\n",
       "}\n"
      ],
      "text/plain": [
       "<IPython.core.display.Javascript object>"
      ]
     },
     "metadata": {},
     "output_type": "display_data"
    },
    {
     "data": {
      "text/html": [
       "<img src=\"data:image/png;base64,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\" width=\"640\">"
      ],
      "text/plain": [
       "<IPython.core.display.HTML object>"
      ]
     },
     "metadata": {},
     "output_type": "display_data"
    }
   ],
   "source": [
    "pcd = o3d.io.read_point_cloud('./train/nugg_1.pcd')\n",
    "xyz = np.asarray(pcd.points)\n",
    "\n",
    "center = np.mean(xyz, axis=0)\n",
    "print(center)\n",
    "print(center[2]-0.003, center[2]+0.001)\n",
    "xyz = xyz[np.where((xyz[:,2]>center[2]-0.001) & (xyz[:,2]<center[2]+0.001))]\n",
    "idx = np.random.choice(np.arange(xyz.shape[0]), size=128)\n",
    "xyz = xyz[idx] - center\n",
    "\n",
    "\n",
    "fig = plt.figure()\n",
    "ax = fig.add_subplot(projection='3d')\n",
    "ax.scatter(xyz[:,0], xyz[:,1], xyz[:,2])\n",
    "\n",
    "test = [0.4, 0.113, 0.405, 0.16, 0.523599, 0.5, 0.75]\n",
    "\n",
    "ax.set_xlabel('X')\n",
    "ax.set_ylabel('Y')\n",
    "ax.set_zlabel('Z')\n",
    "\n",
    "x1 = test[:2]\n",
    "x2 = test[2:4]\n",
    "ax.scatter(x1[0], x1[1], center[2])\n",
    "ax.scatter(x2[0], x2[1], center[2])\n",
    "\n",
    "plt.show()\n",
    "# # o3d.visualization.draw_geometries([pcd], mesh_show_wireframe=True)"
   ]
  },
  {
   "cell_type": "code",
   "execution_count": 146,
   "id": "e3e5d63b",
   "metadata": {},
   "outputs": [],
   "source": [
    "# np.save('data.npy', pt_cloud_data) "
   ]
  },
  {
   "cell_type": "code",
   "execution_count": 147,
   "id": "d030c938",
   "metadata": {},
   "outputs": [
    {
     "ename": "SyntaxError",
     "evalue": "invalid syntax (3273502987.py, line 4)",
     "output_type": "error",
     "traceback": [
      "\u001b[0;36m  Input \u001b[0;32mIn [147]\u001b[0;36m\u001b[0m\n\u001b[0;31m    \"nugg_2\": np.array([0.432, 0.08, 0.432, 0.1384, 0.523599, 0.5, 0.75],)\u001b[0m\n\u001b[0m    ^\u001b[0m\n\u001b[0;31mSyntaxError\u001b[0m\u001b[0;31m:\u001b[0m invalid syntax\n"
     ]
    }
   ],
   "source": [
    "target_output = {\n",
    "#     x1, y1, x2, y2, pitch, f1, f2\n",
    "    \"nugg_1\": np.array([0.4, 0.113, 0.405, 0.16, 0.523599, 0.5, 0.75],)\n",
    "    \"nugg_2\": np.array([0.432, 0.08, 0.432, 0.1384, 0.523599, 0.5, 0.75],)\n",
    "    \"nugg_3\": np.array([0.42, 0.11, 0.415, 0.163, 0.523599, 0.5, 0.75],)\n",
    "    \"nugg_4\": np.array([0.39, 0.11, 0.45, 0.118, 0.523599, 0.5, 0.75],)\n",
    "    \"nugg_5\": np.array([0.405, 0.09, 0.46, 0.118, 0.523599, 0.5, 0.75])\n",
    "}"
   ]
  },
  {
   "cell_type": "code",
   "execution_count": 148,
   "id": "e97ddf8b",
   "metadata": {},
   "outputs": [],
   "source": [
    "def visualize_rotate(data):\n",
    "    x_eye, y_eye, z_eye = 1.25, 1.25, 0.8\n",
    "    frames=[]\n",
    "\n",
    "    def rotate_z(x, y, z, theta):\n",
    "        w = x+1j*y\n",
    "        return np.real(np.exp(1j*theta)*w), np.imag(np.exp(1j*theta)*w), z\n",
    "\n",
    "    for t in np.arange(0, 10.26, 0.1):\n",
    "        xe, ye, ze = rotate_z(x_eye, y_eye, z_eye, -t)\n",
    "        frames.append(dict(layout=dict(scene=dict(camera=dict(eye=dict(x=xe, y=ye, z=ze))))))\n",
    "        fig = go.Figure(data=data,\n",
    "            layout=go.Layout(\n",
    "                updatemenus=[dict(type='buttons',\n",
    "                    showactive=False,\n",
    "                    y=1,\n",
    "                    x=0.8,\n",
    "                    xanchor='left',\n",
    "                    yanchor='bottom',\n",
    "                    pad=dict(t=45, r=10),\n",
    "                    buttons=[dict(label='Play',\n",
    "                    method='animate',\n",
    "                    args=[None, dict(frame=dict(duration=50, redraw=True),\n",
    "                        transition=dict(duration=0),\n",
    "                        fromcurrent=True,\n",
    "                        mode='immediate'\n",
    "                        )]\n",
    "                    )\n",
    "                ])]\n",
    "            ),\n",
    "        frames=frames\n",
    "        )\n",
    "    return fig"
   ]
  },
  {
   "cell_type": "code",
   "execution_count": 7,
   "id": "c3b89ac4",
   "metadata": {},
   "outputs": [
    {
     "data": {
      "application/vnd.plotly.v1+json": {
       "config": {
        "plotlyServerURL": "https://plot.ly"
       },
       "data": [
        {
         "color": "lightpink",
         "opacity": 0.5,
         "type": "mesh3d",
         "x": [
          0.3728894591331482,
          0.3728436827659607,
          0.37357214093208313,
          0.37372514605522156,
          0.3735487759113312,
          0.37436115741729736,
          0.3745102286338806,
          0.3744974732398987,
          0.37432152032852173,
          0.373816579580307,
          0.37513411045074463,
          0.375442236661911,
          0.37542882561683655,
          0.37509122490882874,
          0.3745897710323334,
          0.3757619559764862,
          0.3760637044906616,
          0.37620797753334045,
          0.3760329484939575,
          0.3758578896522522,
          0.3753599226474762,
          0.3767082393169403,
          0.3766891062259674,
          0.37682899832725525,
          0.37697067856788635,
          0.37679606676101685,
          0.37662145495414734,
          0.3761270046234131,
          0.37745991349220276,
          0.37743890285491943,
          0.3775750398635864,
          0.3777129650115967,
          0.3775383532047272,
          0.3775213360786438,
          0.37718909978866577,
          0.3766975402832031,
          0.37829455733299255,
          0.37827226519584656,
          0.37840545177459717,
          0.37838539481163025,
          0.3783662021160126,
          0.3781920373439789,
          0.3780178725719452,
          0.37768691778182983,
          0.37892794609069824,
          0.379055380821228,
          0.3790320158004761,
          0.37916257977485657,
          0.3791414201259613,
          0.3789672553539276,
          0.3789474368095398,
          0.37861892580986023,
          0.37828949093818665,
          0.3796088993549347,
          0.37988337874412537,
          0.37985873222351074,
          0.37983500957489014,
          0.3798121511936188,
          0.37979018688201904,
          0.37961646914482117,
          0.3794427216053009,
          0.3789619207382202,
          0.3780174255371094,
          0.38051605224609375,
          0.38063791394233704,
          0.38061219453811646,
          0.3805873692035675,
          0.3805634379386902,
          0.3803897202014923,
          0.38021597266197205,
          0.38004225492477417,
          0.379564493894577,
          0.3787800967693329,
          0.3811935782432556,
          0.38145923614501953,
          0.38128462433815,
          0.381258100271225,
          0.38123244047164917,
          0.3810587227344513,
          0.38088497519493103,
          0.38071125745773315,
          0.38038724660873413,
          0.37976083159446716,
          0.3817613422870636,
          0.3820211887359619,
          0.3819919526576996,
          0.3819636404514313,
          0.3819361925125122,
          0.38176247477531433,
          0.38158875703811646,
          0.3814150094985962,
          0.3812412917613983,
          0.38076967000961304,
          0.37984809279441833,
          0.38265693187713623,
          0.3827691674232483,
          0.38273885846138,
          0.38270944356918335,
          0.3825357258319855,
          0.38250765204429626,
          0.3823343515396118,
          0.38201454281806946,
          0.3818408250808716,
          0.38137224316596985,
          0.38287222385406494,
          0.3834044635295868,
          0.38351407647132874,
          0.3834826946258545,
          0.3833089768886566,
          0.38327890634536743,
          0.38310563564300537,
          0.3829323351383209,
          0.38261404633522034,
          0.38244032859802246,
          0.3818289339542389,
          0.3836592733860016,
          0.3841838538646698,
          0.384149968624115,
          0.3841169774532318,
          0.38394322991371155,
          0.3839115500450134,
          0.38373827934265137,
          0.3835650086402893,
          0.38324832916259766,
          0.3830746114253998,
          0.38261231780052185,
          0.384443074464798,
          0.384821355342865,
          0.38478586077690125,
          0.38475123047828674,
          0.38471749424934387,
          0.3845442235469818,
          0.38437092304229736,
          0.3841976523399353,
          0.38402435183525085,
          0.3837088644504547,
          0.38324981927871704,
          0.38235974311828613,
          0.38552871346473694,
          0.38549140095710754,
          0.3854549825191498,
          0.38541945815086365,
          0.3852461576461792,
          0.38507288694381714,
          0.3848995864391327,
          0.38472631573677063,
          0.38441261649131775,
          0.38409802317619324,
          0.38349995017051697,
          0.38596591353416443,
          0.38619697093963623,
          0.3861587345600128,
          0.38598501682281494,
          0.38594815135002136,
          0.3857748508453369,
          0.38560158014297485,
          0.3854282796382904,
          0.38525500893592834,
          0.3849426507949829,
          0.38448992371559143,
          0.3863123655319214,
          0.3868037164211273,
          0.38676318526268005,
          0.38672351837158203,
          0.38668474555015564,
          0.3865114748477936,
          0.38647404313087463,
          0.386301189661026,
          0.3859916031360626,
          0.38581833243370056,
          0.3855074346065521,
          0.38478145003318787,
          0.38715073466300964,
          0.38750356435775757,
          0.3874620199203491,
          0.38728830218315125,
          0.38724809885025024,
          0.3872087597846985,
          0.38703593611717224,
          0.3868630826473236,
          0.3865549564361572,
          0.3862459361553192,
          0.38593602180480957,
          0.3850787281990051,
          0.3879833221435547,
          0.3880697786808014,
          0.38802680373191833,
          0.3879847228527069,
          0.38781142234802246,
          0.3877706527709961,
          0.38759782910346985,
          0.3874249756336212,
          0.38711827993392944,
          0.38681069016456604,
          0.3863674998283386,
          0.38824915885925293,
          0.3887162208557129,
          0.38867083191871643,
          0.3886263072490692,
          0.388582706451416,
          0.38853996992111206,
          0.3883671164512634,
          0.3881942927837372,
          0.38802143931388855,
          0.38771626353263855,
          0.3874102234840393,
          0.38683685660362244,
          0.38898617029190063,
          0.38944604992866516,
          0.38927188515663147,
          0.3892258405685425,
          0.3891806900501251,
          0.3891364336013794,
          0.38896358013153076,
          0.3887907564640045,
          0.3886179029941559,
          0.38831427693367004,
          0.3880097568035126,
          0.3873092830181122,
          0.38975533843040466,
          0.3900819420814514,
          0.3900338411331177,
          0.3898600935935974,
          0.3898133337497711,
          0.38976746797561646,
          0.3895946145057678,
          0.3895500600337982,
          0.38924893736839294,
          0.38894692063331604,
          0.3886440098285675,
          0.38795003294944763,
          0.39039769768714905,
          0.3907178044319153,
          0.3906680941581726,
          0.39049437642097473,
          0.3904459774494171,
          0.3903985023498535,
          0.3903518617153168,
          0.39017948508262634,
          0.38987997174263,
          0.38957956433296204,
          0.38927826285362244,
          0.38871920108795166,
          0.39104005694389343,
          0.39135369658470154,
          0.3913023769855499,
          0.39112862944602966,
          0.3910786211490631,
          0.3910295069217682,
          0.3909812867641449,
          0.3908088803291321,
          0.39051100611686707,
          0.39021220803260803,
          0.38991254568099976,
          0.3893583416938782,
          0.391477108001709,
          0.39190372824668884,
          0.39185023307800293,
          0.39179766178131104,
          0.391745924949646,
          0.391695111989975,
          0.3916451632976532,
          0.39147278666496277,
          0.39130038022994995,
          0.3908795118331909,
          0.39058154821395874,
          0.3901575803756714,
          0.3893551528453827,
          0.3925761580467224,
          0.3925209641456604,
          0.39246666431427,
          0.3924132287502289,
          0.39236071705818176,
          0.3923090696334839,
          0.39213666319847107,
          0.39196428656578064,
          0.3916693329811096,
          0.39137354493141174,
          0.3909534215927124,
          0.3901599645614624,
          0.3931313157081604,
          0.39319169521331787,
          0.393135666847229,
          0.39308056235313416,
          0.39302632212638855,
          0.3929729759693146,
          0.39280056953430176,
          0.39262816309928894,
          0.3923349380493164,
          0.39204084873199463,
          0.3916241526603699,
          0.3909613788127899,
          0.3935742974281311,
          0.39386239647865295,
          0.3938046991825104,
          0.39374786615371704,
          0.39369192719459534,
          0.3936368525028229,
          0.39346444606781006,
          0.39329206943511963,
          0.3930005431175232,
          0.3927081525325775,
          0.3924148678779602,
          0.39175936579704285,
          0.394137978553772,
          0.3945331275463104,
          0.39447370171546936,
          0.3944151699542999,
          0.39435750246047974,
          0.39430075883865356,
          0.39412835240364075,
          0.39395594596862793,
          0.39366614818573,
          0.3933754563331604,
          0.3930838704109192,
          0.3925539255142212,
          0.3948590159416199,
          0.39513418078422546,
          0.39507320523262024,
          0.39501315355300903,
          0.39495396614074707,
          0.39489567279815674,
          0.3947232663631439,
          0.3945508897304535,
          0.3942626118659973,
          0.3939734399318695,
          0.39368337392807007,
          0.39315804839134216,
          0.39557698369026184,
          0.3957352340221405,
          0.3956727385520935,
          0.39561113715171814,
          0.3956630229949951,
          0.3954906165599823,
          0.3953182101249695,
          0.39514580368995667,
          0.39485907554626465,
          0.3945714235305786,
          0.39428290724754333,
          0.39353078603744507,
          0.3962918817996979,
          0.39644598960876465,
          0.3963824212551117,
          0.39631974697113037,
          0.3962579369544983,
          0.3960855305194855,
          0.39591315388679504,
          0.3957407474517822,
          0.395455539226532,
          0.3951694071292877,
          0.39476871490478516,
          0.3940238058567047,
          0.39689600467681885,
          0.3970454931259155,
          0.3969804048538208,
          0.3969162106513977,
          0.39685288071632385,
          0.39668047428131104,
          0.3965080678462982,
          0.3963356614112854,
          0.3960520029067993,
          0.3957674205303192,
          0.3952575922012329,
          0.39732256531715393,
          0.3976777195930481,
          0.39761027693748474,
          0.397543728351593,
          0.3975857198238373,
          0.39741331338882446,
          0.39724093675613403,
          0.3970685303211212,
          0.39678671956062317,
          0.3965040147304535,
          0.39622044563293457,
          0.39571452140808105,
          0.39810484647750854,
          0.3982439339160919,
          0.3982803523540497,
          0.39821282029151917,
          0.3981461822986603,
          0.39797377586364746,
          0.39780136942863464,
          0.3976289927959442,
          0.3973486125469208,
          0.3970673680305481,
          0.3966763913631439,
          0.39595574140548706,
          0.3988133668899536,
          0.3989483118057251,
          0.3988783657550812,
          0.3988092839717865,
          0.39874109625816345,
          0.398568719625473,
          0.3983963131904602,
          0.3982239067554474,
          0.3979450762271881,
          0.3976653516292572,
          0.3972774147987366,
          0.39645665884017944,
          0.3994174599647522,
          0.399547815322876,
          0.3994763493537903,
          0.39940574765205383,
          0.399336040019989,
          0.3991636335849762,
          0.39899125695228577,
          0.39881885051727295,
          0.39854153990745544,
          0.3981580138206482,
          0.3977726697921753,
          0.39976370334625244,
          0.4001864194869995,
          0.40021297335624695,
          0.4001404941082001,
          0.40006887912750244,
          0.399896502494812,
          0.3997240960597992,
          0.3995516896247864,
          0.3992762863636017,
          0.398999959230423,
          0.398722767829895,
          0.3980272710323334,
          0.40069571137428284,
          0.4008163511753082,
          0.4007416367530823,
          0.40066781640052795,
          0.4005948603153229,
          0.40052279829978943,
          0.40025007724761963,
          0.4000776708126068,
          0.39980360865592957,
          0.39942651987075806,
          0.3990476727485657,
          0.40111586451530457,
          0.4014233350753784,
          0.40144360065460205,
          0.40136799216270447,
          0.40129324793815613,
          0.4012193977832794,
          0.4009484350681305,
          0.4007760286331177,
          0.4005037546157837,
          0.40023061633110046,
          0.3998557925224304,
          0.401700496673584,
          0.40199899673461914,
          0.4020153880119324,
          0.4019376337528229,
          0.40195712447166443,
          0.4018815755844116,
          0.4017096161842346,
          0.40143993496894836,
          0.4011693596839905,
          0.40089792013168335,
          0.4006255567073822,
          0.399854838848114,
          0.40263649821281433,
          0.4026496708393097,
          0.40257027745246887,
          0.40258654952049255,
          0.4025093615055084,
          0.4023374021053314,
          0.4020693600177765,
          0.40180039405822754,
          0.40153056383132935,
          0.4012598395347595,
          0.4004988372325897,
          0.4032739996910095,
          0.4032839238643646,
          0.40320292115211487,
          0.4032159447669983,
          0.4031371474266052,
          0.40287116169929504,
          0.4026987552642822,
          0.4024314284324646,
          0.40216320753097534,
          0.401798278093338,
          0.40114280581474304,
          0.4039115011692047,
          0.40391820669174194,
          0.40383556485176086,
          0.4038453698158264,
          0.4036729633808136,
          0.4035005569458008,
          0.40332818031311035,
          0.40306246280670166,
          0.40279585123062134,
          0.40243417024612427,
          0.40178677439689636,
          0.4045490026473999,
          0.4045524597167969,
          0.40446820855140686,
          0.40447476506233215,
          0.4043023884296417,
          0.4041299819946289,
          0.4039575755596161,
          0.4036934971809387,
          0.40342849493026733,
          0.4030700623989105,
          0.4024307429790497,
          0.4051865041255951,
          0.4051867425441742,
          0.40510085225105286,
          0.4051041901111603,
          0.40493178367614746,
          0.40475937724113464,
          0.4045870006084442,
          0.4043245315551758,
          0.40406113862991333,
          0.4037059247493744,
          0.403074711561203,
          0.4058240056037903,
          0.4058209955692291,
          0.40573349595069885,
          0.4057336151599884,
          0.4055612087249756,
          0.40538880228996277,
          0.40521639585494995,
          0.40495553612709045,
          0.4046938121318817,
          0.40434181690216064,
          0.40618425607681274,
          0.4065104126930237,
          0.40642049908638,
          0.40633150935173035,
          0.4063285291194916,
          0.40615612268447876,
          0.40598374605178833,
          0.4057248532772064,
          0.4055519998073578,
          0.4052917957305908,
          0.4049428701400757,
          0.4068763554096222,
          0.4071114659309387,
          0.4071027636528015,
          0.4070126712322235,
          0.40692347288131714,
          0.4067510664463043,
          0.4065786600112915,
          0.40632131695747375,
          0.4060630798339844,
          0.40580394864082336,
          0.4053713381290436,
          0.4075653851032257,
          0.40771251916885376,
          0.407700777053833,
          0.40760913491249084,
          0.4075183868408203,
          0.4073460102081299,
          0.40709060430526733,
          0.4069177806377411,
          0.4066610634326935,
          0.40640345215797424,
          0.40589070320129395,
          0.4082513451576233,
          0.4083928167819977,
          0.4082987606525421,
          0.4082055985927582,
          0.40803274512290955,
          0.4078599214553833,
          0.40768706798553467,
          0.4075142443180084,
          0.4072590470314026,
          0.4070029854774475,
          0.40641310811042786,
          0.40893423557281494,
          0.40899232029914856,
          0.4088967442512512,
          0.4088020622730255,
          0.4086292088031769,
          0.40845638513565063,
          0.408283531665802,
          0.40811070799827576,
          0.4078570306301117,
          0.40752124786376953,
          0.40685686469078064,
          0.40957337617874146,
          0.4096266031265259,
          0.4095293879508972,
          0.4094330966472626,
          0.40926024317741394,
          0.4090874195098877,
          0.40891456604003906,
          0.40874171257019043,
          0.4084896743297577,
          0.4081571400165558,
          0.4075024724006653,
          0.41025158762931824,
          0.41022610664367676,
          0.4101274013519287,
          0.4100295603275299,
          0.4098567068576813,
          0.40968388319015503,
          0.4095110297203064,
          0.40926095843315125,
          0.4090876877307892,
          0.40875816345214844,
          0.4106680452823639,
          0.4109267592430115,
          0.4108986556529999,
          0.4107988476753235,
          0.41062602400779724,
          0.4104531705379486,
          0.41028034687042236,
          0.41010749340057373,
          0.40985894203186035,
          0.40960952639579773,
          0.4092060625553131,
          0.4113488793373108,
          0.4115278124809265,
          0.41149666905403137,
          0.4113953113555908,
          0.4112224876880646,
          0.41104963421821594,
          0.4108767807483673,
          0.41070395708084106,
          0.41045695543289185,
          0.410209059715271,
          0.4098101854324341,
          0.41202667355537415,
          0.41212886571884155,
          0.4120946526527405,
          0.41199177503585815,
          0.4118189513683319,
          0.4116460978984833,
          0.41147324442863464,
          0.4113004207611084,
          0.41105493903160095,
          0.4108085632324219,
          0.4103407561779022,
          0.41270139813423157,
          0.4127979278564453,
          0.4126926362514496,
          0.4125882387161255,
          0.412484735250473,
          0.4123123288154602,
          0.412069708108902,
          0.4118262231349945,
          0.41165292263031006,
          0.4113365411758423,
          0.4108743965625763,
          0.41337308287620544,
          0.4133974313735962,
          0.4132906198501587,
          0.4131847023963928,
          0.4130796790122986,
          0.41290727257728577,
          0.4126661717891693,
          0.4124242067337036,
          0.41225090622901917,
          0.4119375944137573,
          0.4114815592765808,
          0.41394779086112976,
          0.4140317142009735,
          0.4139232635498047,
          0.4138157367706299,
          0.4137090742588043,
          0.4135366678237915,
          0.41329720616340637,
          0.4131243824958801,
          0.41288357973098755,
          0.4125734865665436,
          0.41219276189804077,
          0.4145885109901428,
          0.41466596722602844,
          0.41455593705177307,
          0.41444677114486694,
          0.41433849930763245,
          0.41416609287261963,
          0.41392824053764343,
          0.4137553870677948,
          0.41351622343063354,
          0.41320937871932983,
          0.4128335118293762,
          0.41516807675361633,
          0.415238618850708,
          0.41518858075141907,
          0.415077805519104,
          0.4149678945541382,
          0.41479548811912537,
          0.41462311148643494,
          0.41438642144203186,
          0.41414886713027954,
          0.4139104187488556,
          0.413539856672287,
          0.4157620668411255,
          0.4158843457698822,
          0.41583025455474854,
          0.41577795147895813,
          0.41566628217697144,
          0.4154938757419586,
          0.4153214693069458,
          0.4150865972042084,
          0.4148508310317993,
          0.41461417078971863,
          0.4143766164779663,
          0.41394543647766113,
          0.41641759872436523,
          0.4164755642414093,
          0.41641920804977417,
          0.416305273771286,
          0.4161922335624695,
          0.41601985692977905,
          0.41584745049476624,
          0.41561391949653625,
          0.41537949442863464,
          0.4151442050933838,
          0.4148455560207367,
          0.41435641050338745,
          0.4171244204044342,
          0.41706404089927673,
          0.4170054495334625,
          0.41689062118530273,
          0.4167182147502899,
          0.4165458083152771,
          0.41631409525871277,
          0.4160814583301544,
          0.41590818762779236,
          0.41567423939704895,
          0.415317177772522,
          0.41764751076698303,
          0.417692095041275,
          0.41768449544906616,
          0.41756734251976013,
          0.41745108366012573,
          0.4172786772251129,
          0.4171062707901001,
          0.4168759882450104,
          0.41664478182792664,
          0.41641274094581604,
          0.4161797761917114,
          0.4157669246196747,
          0.41834598779678345,
          0.418332576751709,
          0.4182131886482239,
          0.418094664812088,
          0.4179770350456238,
          0.41780462861061096,
          0.41763225197792053,
          0.41740331053733826,
          0.41717347502708435,
          0.4169427454471588,
          0.41665327548980713,
          0.41888391971588135,
          0.4189670979976654,
          0.4188973605632782,
          0.41882941126823425,
          0.4186565577983856,
          0.4185374975204468,
          0.41836509108543396,
          0.4181380271911621,
          0.417910099029541,
          0.41773679852485657,
          0.417507529258728,
          0.41716450452804565,
          0.4194736182689667,
          0.41955047845840454,
          0.41947847604751587,
          0.41935673356056213,
          0.41923585534095764,
          0.4190634787082672,
          0.4188382029533386,
          0.41866534948349,
          0.41843876242637634,
          0.41821128129959106,
          0.41798293590545654,
          0.4174782633781433,
          0.420158326625824,
          0.4201311469078064,
          0.4200071692466736,
          0.41988405585289,
          0.4197618365287781,
          0.41953837871551514,
          0.4193655252456665,
          0.4191407263278961,
          0.41896745562553406,
          0.4187413156032562,
          0.41840773820877075,
          0.420738160610199,
          0.42075255513191223,
          0.42067447304725647,
          0.420501172542572,
          0.42037680745124817,
          0.42020395398139954,
          0.4200311303138733,
          0.419808030128479,
          0.41963475942611694,
          0.4194103181362152,
          0.4191334545612335,
          0.42132481932640076,
          0.421331524848938,
          0.4212954342365265,
          0.4211684763431549,
          0.42104241251945496,
          0.4208695590496063,
          0.4206967353820801,
          0.4204753339290619,
          0.42030206322669983,
          0.4200793504714966,
          0.4198557436466217,
          0.41937968134880066,
          0.4219706356525421,
          0.42188501358032227,
          0.4218011200428009,
          0.421673446893692,
          0.4215005934238434,
          0.42132776975631714,
          0.4211079776287079,
          0.4209347069263458,
          0.4207136034965515,
          0.42049163579940796,
          0.4200252890586853,
          0.42253202199935913,
          0.42244288325309753,
          0.4223991334438324,
          0.42226991057395935,
          0.4220970571041107,
          0.42187926173210144,
          0.4217059910297394,
          0.42153269052505493,
          0.4213131368160248,
          0.4210459589958191,
          0.4231258034706116,
          0.42307382822036743,
          0.4230245053768158,
          0.42289313673973083,
          0.4227626621723175,
          0.4225465655326843,
          0.42237329483032227,
          0.4221999943256378,
          0.42198213934898376,
          0.4217633903026581,
          0.42373037338256836,
          0.4236730933189392,
          0.42361849546432495,
          0.42352578043937683,
          0.42335250973701477,
          0.4231792092323303,
          0.42300593852996826,
          0.42279013991355896,
          0.4226164221763611,
          0.42235589027404785,
          0.4243405759334564,
          0.4242404103279114,
          0.4241807758808136,
          0.4241237938404083,
          0.4239504933357239,
          0.4237772226333618,
          0.42360392212867737,
          0.42338964343070984,
          0.42321592569351196,
          0.42291659116744995,
          0.42488133907318115,
          0.4247790575027466,
          0.4247160851955414,
          0.42461779713630676,
          0.4244445264339447,
          0.4242323935031891,
          0.4240586757659912,
          0.42388492822647095,
          0.4235907196998596,
          0.4254903197288513,
          0.42538437247276306,
          0.42531606554985046,
          0.42521411180496216,
          0.4250403940677643,
          0.4248666763305664,
          0.42469292879104614,
          0.4244810938835144,
          0.42419129610061646,
          0.4260298013687134,
          0.42595523595809937,
          0.4258488118648529,
          0.4256742000579834,
          0.4255349934101105,
          0.4253966808319092,
          0.4251866638660431,
          0.42493897676467896,
          0.42664003372192383,
          0.42652830481529236,
          0.42638537287712097,
          0.4262433350086212,
          0.4261021614074707,
          0.4259275496006012,
          0.4257529377937317,
          0.4254726469516754,
          0.42706918716430664,
          0.426955908536911,
          0.4267804026603699,
          0.42663735151290894,
          0.4264622926712036,
          0.42625391483306885,
          0.42768365144729614,
          0.4275367558002472,
          0.4273907542228699,
          0.4272456467151642,
          0.42707014083862305,
          0.4268312156200409,
          0.428117036819458,
          0.4279690682888031,
          0.4278219938278198,
          0.42761629819869995,
          0.42855045199394226,
          0.4283736050128937,
          0.4290192127227783
         ],
         "y": [
          0.1302182674407959,
          0.1339268684387207,
          0.1296071857213974,
          0.13250459730625153,
          0.135721355676651,
          0.12705636024475098,
          0.12996651232242584,
          0.1330137997865677,
          0.1362224817276001,
          0.13980241119861603,
          0.12758344411849976,
          0.1303190290927887,
          0.13334845006465912,
          0.136720210313797,
          0.14029546082019806,
          0.12518760561943054,
          0.12795041501522064,
          0.13082949817180634,
          0.13402201235294342,
          0.1372145265340805,
          0.1407850980758667,
          0.12249452620744705,
          0.12556904554367065,
          0.12846896052360535,
          0.13133656978607178,
          0.1345209926366806,
          0.13770543038845062,
          0.14127133786678314,
          0.1205950379371643,
          0.12367431074380875,
          0.1265837699174881,
          0.1294608861207962,
          0.13264530897140503,
          0.1356518417596817,
          0.13901416957378387,
          0.14258672297000885,
          0.11984952539205551,
          0.12292223423719406,
          0.1258266717195511,
          0.12885896861553192,
          0.13187509775161743,
          0.1350514441728592,
          0.13822779059410095,
          0.14159667491912842,
          0.11744102090597153,
          0.12039053440093994,
          0.12345346808433533,
          0.1263463944196701,
          0.12936890125274658,
          0.13254526257514954,
          0.13554352521896362,
          0.13889794051647186,
          0.14226853847503662,
          0.116831474006176,
          0.11964790523052216,
          0.12270427495241165,
          0.12574449181556702,
          0.12876851856708527,
          0.13177640736103058,
          0.13494466245174408,
          0.13811293244361877,
          0.14166662096977234,
          0.14585502445697784,
          0.11725233495235443,
          0.12018532305955887,
          0.1232319101691246,
          0.1262623369693756,
          0.1292765885591507,
          0.1324448436498642,
          0.1356131136417389,
          0.1387813687324524,
          0.14233846962451935,
          0.14633290469646454,
          0.11664583534002304,
          0.1194455698132515,
          0.12263000011444092,
          0.1256619393825531,
          0.12867772579193115,
          0.13184599578380585,
          0.13501425087451935,
          0.13818252086639404,
          0.1415436714887619,
          0.14532293379306793,
          0.11552269011735916,
          0.11833994090557098,
          0.12139119952917099,
          0.12442628294229507,
          0.12744522094726562,
          0.13061347603797913,
          0.13378173112869263,
          0.13695000112056732,
          0.14011825621128082,
          0.14368218183517456,
          0.1478961706161499,
          0.11594778299331665,
          0.11887862533330917,
          0.12192009389400482,
          0.12494540214538574,
          0.12811365723609924,
          0.13111472129821777,
          0.1342748999595642,
          0.13761845231056213,
          0.14078670740127563,
          0.14435404539108276,
          0.11390411853790283,
          0.1164945438504219,
          0.11941389739513397,
          0.12244558334350586,
          0.12561383843421936,
          0.12862128019332886,
          0.1317814588546753,
          0.13494163751602173,
          0.13828688859939575,
          0.14145515859127045,
          0.14522713422775269,
          0.11381912231445312,
          0.11640102416276932,
          0.11944878101348877,
          0.1224803775548935,
          0.125648632645607,
          0.12865598499774933,
          0.13181616365909576,
          0.1349763423204422,
          0.1383216828107834,
          0.14148995280265808,
          0.14506086707115173,
          0.1137339398264885,
          0.11643598973751068,
          0.11948366463184357,
          0.12251516431570053,
          0.12553051114082336,
          0.1286906898021698,
          0.13185086846351624,
          0.13501104712486267,
          0.1381712257862091,
          0.14152474701404572,
          0.1450958400964737,
          0.14932774007320404,
          0.11519718915224075,
          0.11824800074100494,
          0.121282659471035,
          0.12430114299058914,
          0.12746132910251617,
          0.13062149286270142,
          0.13378167152404785,
          0.13694186508655548,
          0.140292227268219,
          0.14365875720977783,
          0.147454172372818,
          0.11420316249132156,
          0.11701234430074692,
          0.12005013972520828,
          0.12321840971708298,
          0.12623195350170135,
          0.1293921321630478,
          0.13255231082439423,
          0.13571248948574066,
          0.1388726681470871,
          0.14222797751426697,
          0.14580266177654266,
          0.11267083883285522,
          0.11526712775230408,
          0.11831776797771454,
          0.12135224044322968,
          0.12437054514884949,
          0.12753072381019592,
          0.13052478432655334,
          0.13367688655853271,
          0.13701127469539642,
          0.14017145335674286,
          0.14353007078170776,
          0.14752447605133057,
          0.1137542873620987,
          0.1164468377828598,
          0.11948607861995697,
          0.12265433371067047,
          0.12566933035850525,
          0.1286681443452835,
          0.13182023167610168,
          0.13497233390808105,
          0.138310045003891,
          0.14166390895843506,
          0.14503394067287445,
          0.149259552359581,
          0.11482445150613785,
          0.11775226145982742,
          0.12078817188739777,
          0.12380792200565338,
          0.12696810066699982,
          0.12996359169483185,
          0.13311569392681122,
          0.1362677961587906,
          0.13960881531238556,
          0.14296600222587585,
          0.1465444564819336,
          0.11277707666158676,
          0.11537203937768936,
          0.11842241138219833,
          0.12145661562681198,
          0.1244746595621109,
          0.1274765282869339,
          0.13062863051891327,
          0.13378073275089264,
          0.13693282008171082,
          0.14027555286884308,
          0.14363445341587067,
          0.14742310345172882,
          0.11333786696195602,
          0.11591621488332748,
          0.11909256130456924,
          0.1221250593662262,
          0.12514139711856842,
          0.12814156711101532,
          0.1312936693429947,
          0.13444575667381287,
          0.13759785890579224,
          0.1409423053264618,
          0.14430288970470428,
          0.14830517768859863,
          0.11325350403785706,
          0.11595109850168228,
          0.11899159103631973,
          0.12215985357761383,
          0.1251761019229889,
          0.12817618250846863,
          0.131328284740448,
          0.13430412113666534,
          0.13763247430324554,
          0.14097701013088226,
          0.14433768391609192,
          0.14834032952785492,
          0.11328873783349991,
          0.11598597466945648,
          0.11902638524770737,
          0.12219464778900146,
          0.12521080672740936,
          0.12821079790592194,
          0.13119462132453918,
          0.1343386471271515,
          0.13766708970069885,
          0.14101170003414154,
          0.14437247812747955,
          0.14816679060459137,
          0.11332397162914276,
          0.11602085828781128,
          0.119061179459095,
          0.1222294420003891,
          0.12524551153182983,
          0.12824541330337524,
          0.13122914731502533,
          0.13437317311763763,
          0.13770170509815216,
          0.141046404838562,
          0.1444072723388672,
          0.1482018530368805,
          0.11295414716005325,
          0.11554688960313797,
          0.11859681457281113,
          0.12163057923316956,
          0.12464817613363266,
          0.12764960527420044,
          0.1306348741054535,
          0.1337788999080658,
          0.1369229108095169,
          0.14044907689094543,
          0.14380840957164764,
          0.1473911702632904,
          0.15165220201015472,
          0.11494497209787369,
          0.11799643188714981,
          0.12103171646595001,
          0.12405084818601608,
          0.12705381214618683,
          0.13004060089588165,
          0.13318461179733276,
          0.13632863759994507,
          0.13966219127178192,
          0.1430119276046753,
          0.14658352732658386,
          0.15082885324954987,
          0.11446642130613327,
          0.1173960417509079,
          0.12043286114931107,
          0.12345351278781891,
          0.12645800411701202,
          0.12944632768630981,
          0.13259033858776093,
          0.13573434948921204,
          0.13906638324260712,
          0.14241459965705872,
          0.14598314464092255,
          0.15000855922698975,
          0.11410665512084961,
          0.11679565161466599,
          0.11983399838209152,
          0.12285618484020233,
          0.12586219608783722,
          0.12885203957557678,
          0.1319960653781891,
          0.1351400762796402,
          0.1384705901145935,
          0.14181725680828094,
          0.1451800912618637,
          0.14919131994247437,
          0.11362046748399734,
          0.11619526147842407,
          0.11923513561487198,
          0.12225884944200516,
          0.12526638805866241,
          0.12825776636600494,
          0.13140179216861725,
          0.13454580307006836,
          0.1378747820854187,
          0.14121992886066437,
          0.14458124339580536,
          0.14837713539600372,
          0.11417712271213531,
          0.11686541140079498,
          0.11990358680486679,
          0.12292558699846268,
          0.12593142688274384,
          0.12892109155654907,
          0.13206511735916138,
          0.1352091282606125,
          0.13853982090950012,
          0.1418866664171219,
          0.14524967968463898,
          0.14905069768428802,
          0.11473037302494049,
          0.11753556877374649,
          0.120572030544281,
          0.1235923320055008,
          0.12644042074680328,
          0.1295844316482544,
          0.1327284425497055,
          0.1358724683523178,
          0.13920484483242035,
          0.1425534039735794,
          0.1459181308746338,
          0.15014950931072235,
          0.11528021842241287,
          0.11807221174240112,
          0.12109889090061188,
          0.12410939484834671,
          0.1271037459373474,
          0.13024775683879852,
          0.13339176774024963,
          0.13653579354286194,
          0.13986988365650177,
          0.14322015643119812,
          0.14679281413555145,
          0.15104080736637115,
          0.11595378071069717,
          0.11874065548181534,
          0.1217656284570694,
          0.12477443367242813,
          0.12776707112789154,
          0.13091108202934265,
          0.13405510783195496,
          0.13719911873340607,
          0.1405349224805832,
          0.14388689398765564,
          0.1476709246635437,
          0.1144404411315918,
          0.11700493842363358,
          0.12004275619983673,
          0.12306440621614456,
          0.12591518461704254,
          0.12905919551849365,
          0.13220322132110596,
          0.13534723222255707,
          0.13867828249931335,
          0.14202548563480377,
          0.14538885653018951,
          0.14919093251228333,
          0.11551108956336975,
          0.1183103621006012,
          0.1212029978632927,
          0.12421324104070663,
          0.12720732390880585,
          0.13035133481025696,
          0.13349536061286926,
          0.13663937151432037,
          0.1399737298488617,
          0.14332427084445953,
          0.14689746499061584,
          0.1511467844247818,
          0.11605895310640335,
          0.11884503811597824,
          0.12186974287033081,
          0.12487827241420746,
          0.12787064909934998,
          0.1310146600008011,
          0.1341586858034134,
          0.1373026967048645,
          0.14063875377178192,
          0.14399100840091705,
          0.14756761491298676,
          0.1520417481660843,
          0.11673251539468765,
          0.11951348185539246,
          0.12253648042678833,
          0.12554331123828888,
          0.1285339742898941,
          0.1316780000925064,
          0.13482201099395752,
          0.13796602189540863,
          0.14130379259586334,
          0.14485958218574524,
          0.1484476923942566,
          0.1153494268655777,
          0.11777973175048828,
          0.12067507207393646,
          0.12368666380643845,
          0.1266821026802063,
          0.1298261135816574,
          0.13297012448310852,
          0.13611415028572083,
          0.1394471526145935,
          0.1427963376045227,
          0.14616167545318604,
          0.15039615333080292,
          0.1168026328086853,
          0.11958306282758713,
          0.12260588258504868,
          0.1256125420331955,
          0.1286030262708664,
          0.13157735764980316,
          0.1348910629749298,
          0.13803507387638092,
          0.14137302339076996,
          0.14492915570735931,
          0.1485176384449005,
          0.11593909561634064,
          0.11848476529121399,
          0.12137652188539505,
          0.12438631802797318,
          0.12737995386123657,
          0.13035741448402405,
          0.1336679905653,
          0.1368120014667511,
          0.14014680683612823,
          0.1434977799654007,
          0.14707186818122864,
          0.11545566469430923,
          0.11801706999540329,
          0.12091995775699615,
          0.12393936514854431,
          0.12678568065166473,
          0.12976466119289398,
          0.13290059566497803,
          0.13621772825717926,
          0.13955099880695343,
          0.14290045201778412,
          0.14626605808734894,
          0.15071538090705872,
          0.11805204302072525,
          0.12095474451780319,
          0.12397406995296478,
          0.12682020664215088,
          0.12979911267757416,
          0.132935032248497,
          0.1362522542476654,
          0.13958561420440674,
          0.1429351568222046,
          0.14630085229873657,
          0.15075071156024933,
          0.11808700859546661,
          0.12098953872919083,
          0.12400877475738525,
          0.12685473263263702,
          0.12983354926109314,
          0.13314275443553925,
          0.13628678023815155,
          0.13962022960186005,
          0.14296986162662506,
          0.14654123783111572,
          0.15078602731227875,
          0.11812198162078857,
          0.12102433294057846,
          0.12404347956180573,
          0.12688925862312317,
          0.13003326952457428,
          0.1331772804260254,
          0.1363213062286377,
          0.13965484499931335,
          0.14300456643104553,
          0.14657612144947052,
          0.15082135796546936,
          0.11815694719552994,
          0.1210591271519661,
          0.1240781843662262,
          0.12692378461360931,
          0.13006779551506042,
          0.13321180641651154,
          0.13635583221912384,
          0.13968946039676666,
          0.1430392563343048,
          0.14661100506782532,
          0.15085668861865997,
          0.1181919202208519,
          0.12109392136335373,
          0.12411288917064667,
          0.12695831060409546,
          0.13010232150554657,
          0.13324633240699768,
          0.13639035820960999,
          0.13972407579421997,
          0.14307396113872528,
          0.14664588868618011,
          0.1508920043706894,
          0.11822689324617386,
          0.12112870812416077,
          0.12414759397506714,
          0.1269928365945816,
          0.13013684749603271,
          0.13328085839748383,
          0.13642488420009613,
          0.13975869119167328,
          0.14310866594314575,
          0.1466807723045349,
          0.11634853482246399,
          0.11876381933689117,
          0.12179715186357498,
          0.12481433153152466,
          0.12765616178512573,
          0.13080017268657684,
          0.13394419848918915,
          0.13727162778377533,
          0.1404237300157547,
          0.14377541840076447,
          0.14735090732574463,
          0.11690036952495575,
          0.11943396925926208,
          0.12232089042663574,
          0.12532827258110046,
          0.12831950187683105,
          0.13146349787712097,
          0.13460752367973328,
          0.13793666660785675,
          0.14128196239471436,
          0.14464344084262848,
          0.14843980967998505,
          0.11744878441095352,
          0.120104119181633,
          0.12298762798309326,
          0.12599331140518188,
          0.128982812166214,
          0.1321268379688263,
          0.1354495882987976,
          0.13860169053077698,
          0.14194871485233307,
          0.1453118771314621,
          0.1493244469165802,
          0.1179938018321991,
          0.12063422799110413,
          0.12365436553955078,
          0.1266583353281021,
          0.12981043756008148,
          0.13296252489089966,
          0.13611462712287903,
          0.1392667293548584,
          0.1426154524087906,
          0.1459803283214569,
          0.15021249651908875,
          0.11853539943695068,
          0.12130267173051834,
          0.1243211105465889,
          0.12732337415218353,
          0.1304754763841629,
          0.13362756371498108,
          0.13677966594696045,
          0.13993176817893982,
          0.1432821899652481,
          0.1468551754951477,
          0.15131844580173492,
          0.11857046186923981,
          0.12133746594190598,
          0.12435581535100937,
          0.12735798954963684,
          0.1305100917816162,
          0.1336621791124344,
          0.13681428134441376,
          0.13996638357639313,
          0.14331689476966858,
          0.1468900591135025,
          0.1513538509607315,
          0.11910856515169144,
          0.12200590968132019,
          0.12502256035804749,
          0.12802302837371826,
          0.13117511570453644,
          0.1343272179365158,
          0.13747932016849518,
          0.14082345366477966,
          0.1439836323261261,
          0.1475602090358734,
          0.11724139750003815,
          0.11964325606822968,
          0.12252911180257797,
          0.1255359649658203,
          0.12868806719779968,
          0.13184015452861786,
          0.13499225676059723,
          0.1381443589925766,
          0.14149019122123718,
          0.1448521912097931,
          0.1486501693725586,
          0.11779099702835083,
          0.12031340599060059,
          0.12319584935903549,
          0.12620098888874054,
          0.1293530911207199,
          0.13250519335269928,
          0.13565728068351746,
          0.13880938291549683,
          0.1421569287776947,
          0.1455206423997879,
          0.1493237316608429,
          0.11833717674016953,
          0.1209835559129715,
          0.12386259436607361,
          0.12686602771282196,
          0.13001812994480133,
          0.1331702172756195,
          0.13632231950759888,
          0.13947442173957825,
          0.14282366633415222,
          0.14618907868862152,
          0.15021060407161713,
          0.11887995153665543,
          0.12151142954826355,
          0.12452933192253113,
          0.12753106653690338,
          0.1305166333913803,
          0.13366064429283142,
          0.1369873583316803,
          0.1403302252292633,
          0.14349041879177094,
          0.1470644623041153,
          0.15110088884830475,
          0.11941931396722794,
          0.12217987328767776,
          0.12519606947898865,
          0.1281961053609848,
          0.13117995858192444,
          0.13432398438453674,
          0.13765239715576172,
          0.14099696278572083,
          0.14415715634822845,
          0.1477346122264862,
          0.15177786350250244,
          0.11959036439657211,
          0.1222146674990654,
          0.12523077428340912,
          0.1282307207584381,
          0.13121448457241058,
          0.1343585103750229,
          0.13768699765205383,
          0.1408390998840332,
          0.14419186115264893,
          0.147769495844841,
          0.1515962779521942,
          0.1196255162358284,
          0.12224945425987244,
          0.1252654790878296,
          0.12826533615589142,
          0.13124901056289673,
          0.13439303636550903,
          0.13772161304950714,
          0.1408737152814865,
          0.1442265659570694,
          0.1478043645620346,
          0.1516314297914505,
          0.11979682743549347,
          0.12242849916219711,
          0.12530018389225006,
          0.12829995155334473,
          0.13128353655338287,
          0.13442756235599518,
          0.1375715732574463,
          0.14090833067893982,
          0.14426127076148987,
          0.14763034880161285,
          0.15144957602024078,
          0.11881464719772339,
          0.12133394926786423,
          0.12421999871730804,
          0.1270737200975418,
          0.13006046414375305,
          0.13320447504520416,
          0.13634848594665527,
          0.1396821141242981,
          0.14303189516067505,
          0.14639782905578613,
          0.14977993071079254,
          0.15384401381015778,
          0.12050903588533401,
          0.12313353270292282,
          0.12600162625312805,
          0.12899959087371826,
          0.13198140263557434,
          0.13512541353702545,
          0.13826942443847656,
          0.14160798490047455,
          0.14496271312236786,
          0.1483335942029953,
          0.15193942189216614,
          0.15625818073749542,
          0.1220407783985138,
          0.1249232366681099,
          0.12777337431907654,
          0.13075831532478333,
          0.13390232622623444,
          0.13704635202884674,
          0.14038175344467163,
          0.14373333752155304,
          0.14689351618289948,
          0.15026932954788208,
          0.15410876274108887,
          0.12071765214204788,
          0.12334951758384705,
          0.126071035861969,
          0.12906882166862488,
          0.13205045461654663,
          0.13519446551799774,
          0.13833847641944885,
          0.14167721569538116,
          0.1450321227312088,
          0.14840316772460938,
          0.15179039537906647,
          0.15587492287158966,
          0.12225379049777985,
          0.12499282509088516,
          0.1280018538236618,
          0.13099469244480133,
          0.13397137820720673,
          0.13711540400981903,
          0.14025941491127014,
          0.14360308647155762,
          0.14696292579174042,
          0.15033891797065735,
          0.15395498275756836,
          0.1209266185760498,
          0.12341945618391037,
          0.12629492580890656,
          0.1291380524635315,
          0.13229015469551086,
          0.13526351749897003,
          0.13840752840042114,
          0.14174644649028778,
          0.14510151743888855,
          0.14826169610023499,
          0.15164101123809814,
          0.1554909497499466,
          0.12275367975234985,
          0.12521374225616455,
          0.12807124853134155,
          0.13106392323970795,
          0.13404043018817902,
          0.13718445599079132,
          0.14052021503448486,
          0.14367231726646423,
          0.14703233540058136,
          0.15040850639343262,
          0.1538008451461792,
          0.15837015211582184,
          0.12427447736263275,
          0.1269981563091278,
          0.13000206649303436,
          0.1329897940158844,
          0.1359613686800003,
          0.13929399847984314,
          0.14244608581066132,
          0.14580295979976654,
          0.14896315336227417,
          0.1523442566394806,
          0.15619955956935883,
          0.12396436929702759,
          0.12655404210090637,
          0.12940473854541779,
          0.13256490230560303,
          0.13554608821868896,
          0.13869819045066833,
          0.1418502777814865,
          0.14520563185214996,
          0.1483658105134964,
          0.15174539387226105,
          0.1553686410188675,
          0.12364814430475235,
          0.12626010179519653,
          0.12896870076656342,
          0.13196757435798645,
          0.13495028018951416,
          0.13810238242149353,
          0.1412544846534729,
          0.1446083039045334,
          0.14776848256587982,
          0.1511465311050415,
          0.1545407474040985,
          0.15912136435508728,
          0.12629516422748566,
          0.1291648894548416,
          0.13200227916240692,
          0.13498489558696747,
          0.13813699781894684,
          0.1412891000509262,
          0.14464300870895386,
          0.1478031873703003,
          0.15118132531642914,
          0.1545756310224533,
          0.15915678441524506,
          0.12712374329566956,
          0.1299981325864792,
          0.13266901671886444,
          0.1356499344110489,
          0.13880203664302826,
          0.14214956760406494,
          0.14530974626541138,
          0.1484699249267578,
          0.15184977650642395,
          0.15547354519367218,
          0.1268257349729538,
          0.1295577883720398,
          0.13224133849143982,
          0.1352318674325943,
          0.13820622861385345,
          0.14155222475528717,
          0.1447124183177948,
          0.14787259697914124,
          0.1512509137392044,
          0.1546453982591629,
          0.1270146369934082,
          0.12975451350212097,
          0.13244587182998657,
          0.13526657223701477,
          0.1384267508983612,
          0.14158692955970764,
          0.14474712312221527,
          0.14811745285987854,
          0.15128570795059204,
          0.15490660071372986,
          0.1276950240135193,
          0.13059313595294952,
          0.1332874596118927,
          0.1359333097934723,
          0.13909348845481873,
          0.14225366711616516,
          0.1454138606786728,
          0.14878588914871216,
          0.15195414423942566,
          0.15580646693706512,
          0.13014847040176392,
          0.1330253779888153,
          0.13569197058677673,
          0.13849616050720215,
          0.14165633916854858,
          0.1450187712907791,
          0.14818702638149261,
          0.15135528147220612,
          0.15520302951335907,
          0.13034571707248688,
          0.1332305371761322,
          0.1359049528837204,
          0.13871702551841736,
          0.14188529551029205,
          0.14505356550216675,
          0.14822182059288025,
          0.15160857141017914,
          0.15546467900276184,
          0.13231602311134338,
          0.1350160390138626,
          0.1378505825996399,
          0.14103500545024872,
          0.1440202295780182,
          0.14698930084705353,
          0.1503729224205017,
          0.15399613976478577,
          0.13299641013145447,
          0.13586795330047607,
          0.13889189064502716,
          0.14189967513084412,
          0.14489127695560455,
          0.14807571470737457,
          0.1512601375579834,
          0.15511998534202576,
          0.1373666375875473,
          0.14020727574825287,
          0.1434078812599182,
          0.1464042365550995,
          0.14959675073623657,
          0.15300963819026947,
          0.13758201897144318,
          0.1406187117099762,
          0.14363925158977509,
          0.14664360880851746,
          0.1498442143201828,
          0.1534857451915741,
          0.1414872258901596,
          0.14451414346694946,
          0.147524893283844,
          0.1509476602077484,
          0.14539246261119843,
          0.14861729741096497,
          0.14865271747112274
         ],
         "z": [
          -0.0019121811492368579,
          -0.0008615690167061985,
          -0.0019220361718907952,
          0.00011717805318767205,
          0.00016131608572322875,
          -0.001958506880328059,
          8.088943286566064e-05,
          0.0011224645422771573,
          0.0011664917692542076,
          -0.0007838821038603783,
          -0.0009530085371807218,
          0.002083765808492899,
          0.003125099465250969,
          0.0021715983748435974,
          0.00022115306637715548,
          -0.0019870889373123646,
          0.0010500699281692505,
          0.0030890845227986574,
          0.0031328897457569838,
          0.0031766952015459538,
          0.0012261783704161644,
          -0.0010257679969072342,
          1.6161870007636026e-05,
          0.0020554696675390005,
          0.004094333853572607,
          0.004138028249144554,
          0.004181722644716501,
          0.002231134567409754,
          -0.0010532980086281896,
          -1.129908469010843e-05,
          0.0020281467586755753,
          0.0040671490132808685,
          0.004110843408852816,
          0.005151873920112848,
          0.00419823219999671,
          0.0022477279417216778,
          -6.524286436615512e-05,
          0.0009766994044184685,
          0.0030160837341099977,
          0.004057441838085651,
          0.005098607856780291,
          0.0051421914249658585,
          0.005185774993151426,
          0.00423221942037344,
          -0.0010995081393048167,
          0.0009405020973645151,
          0.0019822840113192797,
          0.0040215179324150085,
          0.00506277522072196,
          0.005106358788907528,
          0.006147253327071667,
          0.005193525925278664,
          0.004239989910274744,
          -0.0011093384819105268,
          0.0019286113092675805,
          0.002970336936414242,
          0.004011810757219791,
          0.00505309272557497,
          0.006094122771173716,
          0.006137595511972904,
          0.006181068252772093,
          0.004230282735079527,
          -0.0007110981387086213,
          0.0008945235749706626,
          0.0029343217611312866,
          0.0039758868515491486,
          0.00501726008951664,
          0.006058381404727697,
          0.006101854145526886,
          0.006145326886326075,
          0.006188799161463976,
          0.004238053224980831,
          0.000293754565063864,
          0.0008847425342537463,
          0.003922485280781984,
          0.003966179676353931,
          0.00500757759436965,
          0.006048723589628935,
          0.0060921963304281235,
          0.006135668605566025,
          0.006179141346365213,
          0.005225494969636202,
          0.0022779947612434626,
          -0.00013192679034546018,
          0.00290609709918499,
          0.003947733901441097,
          0.004989177919924259,
          0.006030370946973562,
          0.006073843687772751,
          0.0061173164285719395,
          0.006160788703709841,
          0.006204261444509029,
          0.004253594670444727,
          -0.0006874905666336417,
          0.0018720190273597836,
          0.003911809995770454,
          0.004953345283865929,
          0.005994629580527544,
          0.006038102321326733,
          0.007079053670167923,
          0.007122415117919445,
          0.006168520078063011,
          0.0062119928188622,
          0.004261365160346031,
          -0.0021566147916018963,
          0.0028778724372386932,
          0.004917512647807598,
          0.005958888214081526,
          0.006002360954880714,
          0.00704340310767293,
          0.007086765021085739,
          0.0071301269344985485,
          0.0061762514524161816,
          0.006219723727554083,
          0.003272120375186205,
          -0.001159470877610147,
          0.0038749175146222115,
          0.004916546866297722,
          0.005957924760878086,
          0.006001397501677275,
          0.007042442448437214,
          0.007085803896188736,
          0.007129165809601545,
          0.006175287999212742,
          0.0062187607400119305,
          0.004268167540431023,
          -0.00016232211783062667,
          0.0038739494048058987,
          0.004915581084787846,
          0.005956961307674646,
          0.006998119875788689,
          0.007041481323540211,
          0.00708484323695302,
          0.007128204684704542,
          0.0071715665981173515,
          0.006217797286808491,
          0.0042671989649534225,
          -0.000673713511787355,
          0.003855503164231777,
          0.004897181876003742,
          0.005938609130680561,
          0.006979814264923334,
          0.007023175712674856,
          0.0070665376260876656,
          0.007109899073839188,
          0.007153260987251997,
          0.006199444644153118,
          0.005245849955826998,
          0.0022985052783042192,
          0.0018408031901344657,
          0.004878782667219639,
          0.0059202564880251884,
          0.005963729228824377,
          0.007004870101809502,
          0.007048232015222311,
          0.007091593462973833,
          0.0071349553763866425,
          0.007178317289799452,
          0.006224564742296934,
          0.004274001345038414,
          -0.0011810929281637073,
          0.003853566711768508,
          0.00489525031298399,
          0.005936682224273682,
          0.006977892480790615,
          0.007021253928542137,
          0.00806216150522232,
          0.008105412125587463,
          0.007151339203119278,
          0.0071947006508708,
          0.006240990478545427,
          0.002296558814123273,
          0.000831934274174273,
          0.004868134390562773,
          0.005909635219722986,
          0.005953107960522175,
          0.006994275841861963,
          0.008035251870751381,
          0.008078503422439098,
          0.008121754042804241,
          0.0071677230298519135,
          0.006213943473994732,
          0.005260386038571596,
          0.0003192835138179362,
          0.0028447937220335007,
          0.004884601570665836,
          0.005926060955971479,
          0.006967298220843077,
          0.007010659668594599,
          0.008051593787968159,
          0.008094844408333302,
          0.008138095960021019,
          0.007184106856584549,
          0.006230369210243225,
          0.004279835615307093,
          -0.001184034743346274,
          0.0038506616838276386,
          0.004892352502793074,
          0.0059337918646633625,
          0.006975009571760893,
          0.008016034960746765,
          0.008059285581111908,
          0.00810253620147705,
          0.008145787753164768,
          0.007191818207502365,
          0.006238100118935108,
          0.003290637396275997,
          -0.00017799668421503156,
          0.004856519866734743,
          0.004900103434920311,
          0.005941523239016533,
          0.006982720922678709,
          0.008023726753890514,
          0.008066977374255657,
          0.0081102279946208,
          0.008153478614985943,
          0.007199529558420181,
          0.006245831493288279,
          0.002301448956131935,
          0.0008192261448130012,
          0.004855554085224867,
          0.005897087045013905,
          0.005940559785813093,
          0.006981759797781706,
          0.008022768422961235,
          0.008066019043326378,
          0.009106664918363094,
          0.008152520284056664,
          0.007198568433523178,
          0.006244868040084839,
          0.002300475724041462,
          0.0008182504680007696,
          0.004854588303714991,
          0.005896123591810465,
          0.0059395963326096535,
          0.00698079913854599,
          0.008021809160709381,
          0.0090625686571002,
          0.009105708450078964,
          0.008151561953127384,
          0.007197607774287462,
          0.006243904586881399,
          0.0032964861020445824,
          0.0008172747911885381,
          0.004853622522205114,
          0.005895160138607025,
          0.005938632879406214,
          0.006979838013648987,
          0.008020850829780102,
          0.009061613120138645,
          0.009104752913117409,
          0.008150603622198105,
          0.007196646649390459,
          0.0062429411336779594,
          0.0032955154310911894,
          -0.001188937691040337,
          0.0038458202034235,
          0.004887523595243692,
          0.005928975064307451,
          0.006970204878598452,
          0.008011242374777794,
          0.009052028879523277,
          0.00909516867250204,
          0.009138308465480804,
          0.007187013514339924,
          0.006233283318579197,
          0.004282764624804258,
          -0.0006579507025890052,
          0.003836113028228283,
          0.004877840634435415,
          0.005919317249208689,
          0.006960571743547916,
          0.008001633919775486,
          0.00904244463890791,
          0.009085584431886673,
          0.009128724224865437,
          0.008174637332558632,
          0.007220741827040911,
          0.005270092282444239,
          0.00032911362359300256,
          0.002828266704455018,
          0.0048681581392884254,
          0.005909658968448639,
          0.006950938142836094,
          0.007992025464773178,
          0.009032860398292542,
          0.009076000191271305,
          0.009119140915572643,
          0.008165028877556324,
          0.0072111086919903755,
          0.005260409787297249,
          0.001316256821155548,
          0.0008221774478442967,
          0.004858475644141436,
          0.005900001153349876,
          0.006941305007785559,
          0.00798241700977087,
          0.009023277088999748,
          0.009066416881978512,
          0.009109556674957275,
          0.008155419491231441,
          0.00720147555693984,
          0.006247782148420811,
          0.0023034196346998215,
          -0.00018582178745418787,
          0.004848793148994446,
          0.005890343338251114,
          0.0069316718727350235,
          0.007972807623445988,
          0.00901369284838438,
          0.009056832641363144,
          0.009099972434341908,
          0.008145811036229134,
          0.007191841956228018,
          0.006238124333322048,
          0.003290661610662937,
          0.0008202260942198336,
          0.004856544081121683,
          0.005898074246942997,
          0.00693938322365284,
          0.007980499416589737,
          0.009021365083754063,
          0.009064504876732826,
          0.00910764466971159,
          0.008153502829372883,
          0.007199553307145834,
          0.006245855242013931,
          0.0032984516583383083,
          0.00182620482519269,
          0.0048642950132489204,
          0.005905805621296167,
          0.006947094574570656,
          0.008985896594822407,
          0.00902903638780117,
          0.009072176180779934,
          0.009115316905081272,
          0.008161194622516632,
          0.00720726465806365,
          0.006253586616367102,
          0.001312354113906622,
          0.0028321738354861736,
          0.005870064254850149,
          0.006911444012075663,
          0.007952632382512093,
          0.008993568830192089,
          0.009036708623170853,
          0.009079848416149616,
          0.00912298820912838,
          0.008168886415660381,
          0.007214976474642754,
          0.005264297593384981,
          0.00032324480707757175,
          0.0028399641159921885,
          0.005877795163542032,
          0.006919155828654766,
          0.007960324175655842,
          0.009001241065561771,
          0.009044380858540535,
          0.009087520651519299,
          0.009130660444498062,
          0.00817657820880413,
          0.00722268782556057,
          0.004275017883628607,
          -0.0001818848541006446,
          0.004852680489420891,
          0.0058942208997905254,
          0.006935539189726114,
          0.008974400348961353,
          0.009017540141940117,
          0.009060680866241455,
          0.009103820659220219,
          0.008149669505655766,
          0.007195709738880396,
          0.00624200189486146,
          0.0032945687416940928,
          0.0018310952000319958,
          0.004869148135185242,
          0.006908561568707228,
          0.00794975645840168,
          0.008990700356662273,
          0.009033840149641037,
          0.009076980873942375,
          0.009120120666921139,
          0.008166010491549969,
          0.007212093565613031,
          0.005261399783194065,
          0.0003203103842679411,
          0.002837051870301366,
          0.005874905269593,
          0.006916272919625044,
          0.00795744825154543,
          0.008998372592031956,
          0.00904151238501072,
          0.009084652177989483,
          0.009127791970968246,
          0.008173702284693718,
          0.0072198049165308475,
          0.005269150715321302,
          -0.0006687372224405408,
          0.0028448421508073807,
          0.0058826361782848835,
          0.00692398427054286,
          0.007965140044689178,
          0.009006044827401638,
          0.009049184620380402,
          0.009092324413359165,
          0.009135464206337929,
          0.008181394077837467,
          0.006230417173355818,
          0.004279883578419685,
          -0.0011751360725611448,
          0.004857534077018499,
          0.006897006183862686,
          0.007938231341540813,
          0.008979205042123795,
          0.009022344835102558,
          0.009065484628081322,
          0.009108624421060085,
          0.008154485374689102,
          0.00720053818076849,
          0.006246842909604311,
          0.0013055243762210011,
          0.002842900576069951,
          0.005880709271878004,
          0.006922062486410141,
          0.00796322338283062,
          0.009004132822155952,
          0.01004484947770834,
          0.00909041240811348,
          0.009133552201092243,
          0.008179477415978909,
          0.006228490266948938,
          0.0042779468931257725,
          -0.00017009851580951363,
          0.004864318761974573,
          0.0069037568755447865,
          0.007944964803755283,
          0.008985920809209347,
          0.01002668496221304,
          0.009072200395166874,
          0.009115340188145638,
          0.008161218836903572,
          0.00720728887245059,
          0.0052565704099833965,
          -0.0011780778877437115,
          0.00385654391720891,
          0.0058961715549230576,
          0.006937485188245773,
          0.008976336568593979,
          0.010017124935984612,
          0.010060153901576996,
          0.00910575594753027,
          0.00815160945057869,
          0.007197655737400055,
          0.006243952549993992,
          0.0003056139685213566,
          0.0038555755745619535,
          0.005895208101719618,
          0.00693652406334877,
          0.008975381031632423,
          0.01001617219299078,
          0.010059201158583164,
          0.009104800410568714,
          0.00815065111964941,
          0.007196694612503052,
          0.006242989096790552,
          0.0003046358178835362,
          0.003854607231914997,
          0.0058942451141774654,
          0.006935563404113054,
          0.008974424563348293,
          0.010015218518674374,
          0.00906070414930582,
          0.009103843942284584,
          0.008149692788720131,
          0.007195733487606049,
          0.005244956351816654,
          0.0003036576963495463,
          0.0038536391220986843,
          0.005893281660974026,
          0.006934602279216051,
          0.008973469026386738,
          0.009016608819365501,
          0.009059748612344265,
          0.009102888405323029,
          0.008148734457790852,
          0.007194772828370333,
          0.005243990570306778,
          0.00030267954571172595,
          0.003852670779451728,
          0.005892318207770586,
          0.006933641619980335,
          0.008972512558102608,
          0.009015652351081371,
          0.009058792144060135,
          0.009101931937038898,
          0.008147776126861572,
          0.0071938117034733295,
          0.005243024788796902,
          0.00030170142417773604,
          0.0038517024368047714,
          0.005891354754567146,
          0.006932680495083332,
          0.008971556089818478,
          0.009014696814119816,
          0.00905783660709858,
          0.009100976400077343,
          0.008146817795932293,
          0.007192851044237614,
          0.0052420590072870255,
          0.0003007232735399157,
          0.003850734094157815,
          0.005890391301363707,
          0.006931719370186329,
          0.008970600552856922,
          0.009013740345835686,
          0.00905688013881445,
          0.009100019931793213,
          0.008145859465003014,
          0.0071918899193406105,
          0.005241092760115862,
          -0.0011760921915993094,
          0.004856592044234276,
          0.005898122675716877,
          0.006939431186765432,
          0.008978272788226604,
          0.009021412581205368,
          0.009064552374184132,
          0.008110299706459045,
          0.008153550326824188,
          0.007199601270258427,
          0.005248843692243099,
          -0.00017007415590342134,
          0.004864342976361513,
          0.006903780624270439,
          0.007944988086819649,
          0.008985944092273712,
          0.009029083885252476,
          0.009072224609553814,
          0.008117991499602795,
          0.007163951173424721,
          0.006210161838680506,
          0.003262485144659877,
          0.0008359341882169247,
          0.0048720939084887505,
          0.006911491975188255,
          0.007952679879963398,
          0.008993616327643394,
          0.009036756120622158,
          0.008082432672381401,
          0.008125683292746544,
          0.007171662524342537,
          0.006217893213033676,
          0.0022732256911695004,
          0.0018418733961880207,
          0.005877843126654625,
          0.0069192033261060715,
          0.007960371673107147,
          0.00800362229347229,
          0.008046872913837433,
          0.00809012446552515,
          0.008133375085890293,
          0.007179373875260353,
          0.006225624121725559,
          0.0012840350391343236,
          0.0028478028252720833,
          0.005885574501007795,
          0.006926915142685175,
          0.007968063466250896,
          0.00801131408661604,
          0.008054564706981182,
          0.008097815327346325,
          0.008141066879034042,
          0.007187085226178169,
          0.005236263852566481,
          -0.000702126242686063,
          0.0028468321543186903,
          0.005884611047804356,
          0.006925954017788172,
          0.007967105135321617,
          0.00801035575568676,
          0.008053606376051903,
          0.008096856996417046,
          0.008140108548104763,
          0.007186124566942453,
          0.005235298071056604,
          -0.0007031068671494722,
          0.003852694761008024,
          0.005892341956496239,
          0.006933665368705988,
          0.007974796928465366,
          0.00801804754883051,
          0.008061298169195652,
          0.008104548789560795,
          0.00715047400444746,
          0.0071938359178602695,
          0.005243048537522554,
          -0.0011741066118702292,
          0.004858547821640968,
          0.006898015271872282,
          0.007939237169921398,
          0.007982488721609116,
          0.008025739341974258,
          0.008068989962339401,
          0.008112240582704544,
          0.007158185355365276,
          0.006204381585121155,
          0.0032566606532782316,
          -0.00016809350927360356,
          0.004866298753768206,
          0.006905726622790098,
          0.007946928963065147,
          0.00799017958343029,
          0.008033431135118008,
          0.00807668175548315,
          0.008119932375848293,
          0.0071658967062830925,
          0.006212112959474325,
          0.0032644509337842464,
          0.0008379098726436496,
          0.004874049685895443,
          0.006913437973707914,
          0.007954620756208897,
          0.00799787137657404,
          0.008041121996939182,
          0.0080843735486269,
          0.008127624168992043,
          0.007173608057200909,
          0.006219843868166208,
          0.0022751963697373867,
          0.001843844074755907,
          0.005879794247448444,
          0.0069211493246257305,
          0.007962312549352646,
          0.009003223851323128,
          0.009046363644301891,
          0.008092065341770649,
          0.007137957960367203,
          0.007181319873780012,
          0.005230468697845936,
          0.0012860108399763703,
          0.002849768614396453,
          0.0058875251561403275,
          0.006928860675543547,
          0.007970004342496395,
          0.00901089608669281,
          0.009054035879671574,
          0.008099756203591824,
          0.007145669311285019,
          0.007189031224697828,
          0.005238219629973173,
          0.0012938405852764845,
          0.0018506809137761593,
          0.005886561702936888,
          0.006927900016307831,
          0.007969046011567116,
          0.009009940549731255,
          0.009053080342710018,
          0.008098797872662544,
          0.008142049424350262,
          0.007188070099800825,
          0.00523725338280201,
          0.0022898430470377207,
          0.0018497076816856861,
          0.005885598249733448,
          0.006926938891410828,
          0.007968087680637836,
          0.009008984081447124,
          0.009052123874425888,
          0.008097839541733265,
          0.008141090162098408,
          0.007187109440565109,
          0.005236287601292133,
          0.0022888698149472475,
          0.0008506423328071833,
          0.0048866537399590015,
          0.0069259777665138245,
          0.007967128418385983,
          0.009008027613162994,
          0.009051168337464333,
          0.009094308130443096,
          0.008140131831169128,
          0.007186148315668106,
          0.006232415791600943,
          0.0032849095296114683,
          -0.0011642518220469356,
          0.0038701966404914856,
          0.005909755360335112,
          0.007948869839310646,
          0.008989815600216389,
          0.009032956324517727,
          0.00907609611749649,
          0.008121873252093792,
          0.0071678427048027515,
          0.006214063614606857,
          0.0052605061791837215,
          0.0013163541443645954,
          0.0008574964012950659,
          0.004893438890576363,
          0.006932728458195925,
          0.007973861880600452,
          0.009014744311571121,
          0.009057884104549885,
          0.009101023897528648,
          0.008146865293383598,
          0.007192899007350206,
          0.006239183712750673,
          0.004288694821298122,
          -0.0006519448943436146,
          0.003876999020576477,
          0.005916522815823555,
          0.007955603301525116,
          0.008996532298624516,
          0.009039672091603279,
          0.009082811884582043,
          0.008128606714308262,
          0.0071745929308235645,
          0.007217954844236374,
          0.006264303810894489,
          0.0033170415554195642,
          -0.00014256444410420954,
          0.0038935085758566856,
          0.006930806674063206,
          0.007971945218741894,
          0.009012832306325436,
          0.0090559720993042,
          0.009099111892282963,
          0.00814494863152504,
          0.0071909767575562,
          0.006237256806343794,
          0.0052837589755654335,
          0.0013398433802649379,
          0.0028770468197762966,
          0.005914596375077963,
          0.006955862510949373,
          0.0079969372600317,
          0.009037760086357594,
          0.009080899879336357,
          0.00912403967231512,
          0.008169940672814846,
          0.007216033060103655,
          0.00626237690448761,
          0.0043120067566633224,
          -0.0011426054406911135,
          0.0038915718905627728,
          0.005931021645665169,
          0.007970028556883335,
          0.008013279177248478,
          0.009054060094058514,
          0.009097199887037277,
          0.008143031038343906,
          0.007189054973423481,
          0.00723241688683629,
          0.006278802640736103,
          0.0033316512126475573,
          -0.00011901604011654854,
          0.004914759658277035,
          0.006953940726816654,
          0.007995019666850567,
          0.009035848081111908,
          0.009078987874090672,
          0.00812477245926857,
          0.008168023079633713,
          0.007214111275970936,
          0.006260450463742018,
          0.005307011306285858,
          -0.0006302985129877925,
          0.002900417661294341,
          0.0059377895668148994,
          0.006978996563702822,
          0.008020011708140373,
          0.009060775861144066,
          0.008106513880193233,
          0.008149764500558376,
          0.007195805665105581,
          0.007239167112857103,
          0.006285570561885834,
          0.003338470822200179,
          0.0008946937741711736,
          0.004930261522531509,
          0.0069693634286522865,
          0.007012725342065096,
          0.008053653873503208,
          0.008096905425190926,
          0.008140156045556068,
          0.007186172064393759,
          0.007229533977806568,
          0.006275912746787071,
          0.004325611051172018,
          -0.0011111286003142595,
          0.002924759406596422,
          0.005961946211755276,
          0.007003091741353273,
          0.0080440454185009,
          0.008087296038866043,
          0.00813054759055376,
          0.007176538929343224,
          0.007219900842756033,
          0.006266254466027021,
          0.005312830209732056,
          -0.0006243905518203974,
          0.0029237885028123856,
          0.004963196348398924,
          0.0070021310821175575,
          0.008043087087571621,
          0.008086337707936764,
          0.008129589259624481,
          0.00717557780444622,
          0.00721893971785903,
          0.006265291478484869,
          0.005311864428222179,
          -0.0006253711180761456,
          0.0019336715340614319,
          0.003973151091486216,
          0.007009842433035374,
          0.00805077888071537,
          0.008094029501080513,
          0.0071399277076125145,
          0.007183289621025324,
          0.007226651068776846,
          0.006273022387176752,
          0.004322706256061792,
          -7.19192175893113e-05,
          0.002965652383863926,
          0.006002528592944145,
          0.0070435707457363605,
          0.008084421046078205,
          0.007130294572561979,
          0.007173656020313501,
          0.007217017933726311,
          0.00626336457207799,
          0.005309932865202427,
          -0.0010708021000027657,
          0.001966858049854636,
          0.005003882572054863,
          0.007042610086500645,
          0.007085971534252167,
          0.007129333447664976,
          0.0071726953610777855,
          0.006218928378075361,
          0.00626240111887455,
          0.004312030505388975,
          -0.0010629328899085522,
          0.0009768939344212413,
          0.00401394022628665,
          0.007050321437418461,
          0.00709368335083127,
          0.007137044798582792,
          0.007180406711995602,
          0.006226659752428532,
          0.006270132027566433,
          0.0033229144755750895,
          -3.071559694944881e-05,
          0.0020088276360183954,
          0.005045534111559391,
          0.007084049750119448,
          0.007127411663532257,
          0.0061735291965305805,
          0.006217001937329769,
          0.0062604742124676704,
          0.003313182620331645,
          -0.0010294949170202017,
          0.001010164269246161,
          0.004046959336847067,
          0.006085620261728764,
          0.006129093002527952,
          0.006172565743327141,
          0.006216038484126329,
          0.005262486170977354,
          0.0023152681533247232,
          -0.0010039262706413865,
          0.002033231081441045,
          0.0040722074918448925,
          0.00411590188741684,
          0.005156919825822115,
          0.006197685841470957,
          0.005244086496531963,
          0.003293718909844756,
          -0.000996057060547173,
          0.0010434344876557589,
          0.002084957202896476,
          0.003126288065686822,
          0.004167367238551378,
          0.004211061634123325,
          0.0042547560296952724,
          0.0013075972674414515,
          6.247548299143091e-05,
          0.0021015505772083998,
          0.002145466860383749,
          0.003186644520610571,
          0.003230449976399541,
          0.002277215477079153,
          -0.0009360697004012764,
          0.00010563537944108248,
          0.001147148315794766,
          0.002188409911468625,
          0.0022323261946439743,
          0.0002821874222718179,
          -0.000883951666764915,
          0.0001576228823978454,
          0.0011990051716566086,
          0.0002458988456055522,
          -0.0008318335167132318,
          -0.0007875845185481012,
          -0.0007885651430115104
         ]
        }
       ],
       "frames": [
        {
         "layout": {
          "scene": {
           "camera": {
            "eye": {
             "x": 1.25,
             "y": 1.25,
             "z": 0.8
            }
           }
          }
         }
        },
        {
         "layout": {
          "scene": {
           "camera": {
            "eye": {
             "x": 1.3685469774060675,
             "y": 1.1189634357889973,
             "z": 0.8
            }
           }
          }
         }
        },
        {
         "layout": {
          "scene": {
           "camera": {
            "eye": {
             "x": 1.4734198857953784,
             "y": 0.9767465588077254,
             "z": 0.8
            }
           }
          }
         }
        },
        {
         "layout": {
          "scene": {
           "camera": {
            "eye": {
             "x": 1.5635708697336819,
             "y": 0.824770353080333,
             "z": 0.8
            }
           }
          }
         }
        },
        {
         "layout": {
          "scene": {
           "camera": {
            "eye": {
             "x": 1.6380991703894194,
             "y": 0.6645533146177932,
             "z": 0.8
            }
           }
          }
         }
        },
        {
         "layout": {
          "scene": {
           "camera": {
            "eye": {
             "x": 1.6962601256182197,
             "y": 0.4976962791077122,
             "z": 0.8
            }
           }
          }
         }
        },
        {
         "layout": {
          "scene": {
           "camera": {
            "eye": {
             "x": 1.737472610380892,
             "y": 0.32586642689330336,
             "z": 0.8
            }
           }
          }
         }
        },
        {
         "layout": {
          "scene": {
           "camera": {
            "eye": {
             "x": 1.7613248431527242,
             "y": 0.15078062505849654,
             "z": 0.8
            }
           }
          }
         }
        },
        {
         "layout": {
          "scene": {
           "camera": {
            "eye": {
             "x": 1.7675785003083602,
             "y": -0.025811726940446755,
             "z": 0.8
            }
           }
          }
         }
        },
        {
         "layout": {
          "scene": {
           "camera": {
            "eye": {
             "x": 1.7561710973726847,
             "y": -0.20214617669602375,
             "z": 0.8
            }
           }
          }
         }
        },
        {
         "layout": {
          "scene": {
           "camera": {
            "eye": {
             "x": 1.7272166133450453,
             "y": -0.376460848674696,
             "z": 0.8
            }
           }
          }
         }
        },
        {
         "layout": {
          "scene": {
           "camera": {
            "eye": {
             "x": 1.6810043518587658,
             "y": -0.5470140482948226,
             "z": 0.8
            }
           }
          }
         }
        },
        {
         "layout": {
          "scene": {
           "camera": {
            "eye": {
             "x": 1.6179960505548747,
             "y": -0.7121016643631912,
             "z": 0.8
            }
           }
          }
         }
        },
        {
         "layout": {
          "scene": {
           "camera": {
            "eye": {
             "x": 1.5388212675522255,
             "y": -0.870074195990757,
             "z": 0.8
            }
           }
          }
         }
        },
        {
         "layout": {
          "scene": {
           "camera": {
            "eye": {
             "x": 1.4442710911108763,
             "y": -1.0193532338602744,
             "z": 0.8
            }
           }
          }
         }
        },
        {
         "layout": {
          "scene": {
           "camera": {
            "eye": {
             "x": 1.3352902353396967,
             "y": -1.1584472311704395,
             "z": 0.8
            }
           }
          }
         }
        },
        {
         "layout": {
          "scene": {
           "camera": {
            "eye": {
             "x": 1.2129676009252703,
             "y": -1.2859664066784924,
             "z": 0.8
            }
           }
          }
         }
        },
        {
         "layout": {
          "scene": {
           "camera": {
            "eye": {
             "x": 1.0785253951961797,
             "y": -1.4006366309349918,
             "z": 0.8
            }
           }
          }
         }
        },
        {
         "layout": {
          "scene": {
           "camera": {
            "eye": {
             "x": 0.9333069202313851,
             "y": -1.5013121569641028,
             "z": 0.8
            }
           }
          }
         }
        },
        {
         "layout": {
          "scene": {
           "camera": {
            "eye": {
             "x": 0.7787631510298885,
             "y": -1.5869870681886475,
             "z": 0.8
            }
           }
          }
         }
        },
        {
         "layout": {
          "scene": {
           "camera": {
            "eye": {
             "x": 0.6164382378481742,
             "y": -1.6568053292160303,
             "z": 0.8
            }
           }
          }
         }
        },
        {
         "layout": {
          "scene": {
           "camera": {
            "eye": {
             "x": 0.44795407756127026,
             "y": -1.710069339060914,
             "z": 0.8
            }
           }
          }
         }
        },
        {
         "layout": {
          "scene": {
           "camera": {
            "eye": {
             "x": 0.27499410820530534,
             "y": -1.7462469013436699,
             "z": 0.8
            }
           }
          }
         }
        },
        {
         "layout": {
          "scene": {
           "camera": {
            "eye": {
             "x": 0.09928648862111944,
             "y": -1.7649765418206806,
             "z": 0.8
            }
           }
          }
         }
        },
        {
         "layout": {
          "scene": {
           "camera": {
            "eye": {
             "x": -0.07741316873761894,
             "y": -1.7660711201154955,
             "z": 0.8
            }
           }
          }
         }
        },
        {
         "layout": {
          "scene": {
           "camera": {
            "eye": {
             "x": -0.25333933930372143,
             "y": -1.7495196995636126,
             "z": 0.8
            }
           }
          }
         }
        },
        {
         "layout": {
          "scene": {
           "camera": {
            "eye": {
             "x": -0.4267342269343539,
             "y": -1.7154876564880144,
             "z": 0.8
            }
           }
          }
         }
        },
        {
         "layout": {
          "scene": {
           "camera": {
            "eye": {
             "x": -0.5958653272290393,
             "y": -1.6643150278136138,
             "z": 0.8
            }
           }
          }
         }
        },
        {
         "layout": {
          "scene": {
           "camera": {
            "eye": {
             "x": -0.7590427381409421,
             "y": -1.5965131135307038,
             "z": 0.8
            }
           }
          }
         }
        },
        {
         "layout": {
          "scene": {
           "camera": {
            "eye": {
             "x": -0.9146360449195108,
             "y": -1.5127593679544658,
             "z": 0.8
            }
           }
          }
         }
        },
        {
         "layout": {
          "scene": {
           "camera": {
            "eye": {
             "x": -1.0610906106757227,
             "y": -1.4138906308253907,
             "z": 0.8
            }
           }
          }
         }
        },
        {
         "layout": {
          "scene": {
           "camera": {
            "eye": {
             "x": -1.196943109799986,
             "y": -1.3008947658832124,
             "z": 0.8
            }
           }
          }
         }
        },
        {
         "layout": {
          "scene": {
           "camera": {
            "eye": {
             "x": -1.3208361490279166,
             "y": -1.1749007904589663,
             "z": 0.8
            }
           }
          }
         }
        },
        {
         "layout": {
          "scene": {
           "camera": {
            "eye": {
             "x": -1.431531830065142,
             "y": -1.0371675947070202,
             "z": 0.8
            }
           }
          }
         }
        },
        {
         "layout": {
          "scene": {
           "camera": {
            "eye": {
             "x": -1.5279241182578656,
             "y": -0.8890713631907865,
             "z": 0.8
            }
           }
          }
         }
        },
        {
         "layout": {
          "scene": {
           "camera": {
            "eye": {
             "x": -1.6090498937255202,
             "y": -0.7320918245014705,
             "z": 0.8
            }
           }
          }
         }
        },
        {
         "layout": {
          "scene": {
           "camera": {
            "eye": {
             "x": -1.6740985745362496,
             "y": -0.5677974662991182,
             "z": 0.8
            }
           }
          }
         }
        },
        {
         "layout": {
          "scene": {
           "camera": {
            "eye": {
             "x": -1.7224202157736266,
             "y": -0.39782986350239324,
             "z": 0.8
            }
           }
          }
         }
        },
        {
         "layout": {
          "scene": {
           "camera": {
            "eye": {
             "x": -1.7535320035714197,
             "y": -0.22388727621462157,
             "z": 0.8
            }
           }
          }
         }
        },
        {
         "layout": {
          "scene": {
           "camera": {
            "eye": {
             "x": -1.7671230792301427,
             "y": -0.04770768127020719,
             "z": 0.8
            }
           }
          }
         }
        },
        {
         "layout": {
          "scene": {
           "camera": {
            "eye": {
             "x": -1.7630576452144253,
             "y": 0.1289485930553954,
             "z": 0.8
            }
           }
          }
         }
        },
        {
         "layout": {
          "scene": {
           "camera": {
            "eye": {
             "x": -1.741376321997099,
             "y": 0.30431645566392784,
             "z": 0.8
            }
           }
          }
         }
        },
        {
         "layout": {
          "scene": {
           "camera": {
            "eye": {
             "x": -1.7022957421928595,
             "y": 0.47664368884111097,
             "z": 0.8
            }
           }
          }
         }
        },
        {
         "layout": {
          "scene": {
           "camera": {
            "eye": {
             "x": -1.646206386036788,
             "y": 0.6442084558368493,
             "z": 0.8
            }
           }
          }
         }
        },
        {
         "layout": {
          "scene": {
           "camera": {
            "eye": {
             "x": -1.573668679834919,
             "y": 0.8053365048888708,
             "z": 0.8
            }
           }
          }
         }
        },
        {
         "layout": {
          "scene": {
           "camera": {
            "eye": {
             "x": -1.4854073963698458,
             "y": 0.9584178977928967,
             "z": 0.8
            }
           }
          }
         }
        },
        {
         "layout": {
          "scene": {
           "camera": {
            "eye": {
             "x": -1.3823044132106481,
             "y": 1.101923095873013,
             "z": 0.8
            }
           }
          }
         }
        },
        {
         "layout": {
          "scene": {
           "camera": {
            "eye": {
             "x": -1.2653899012837393,
             "y": 1.2344182426265127,
             "z": 0.8
            }
           }
          }
         }
        },
        {
         "layout": {
          "scene": {
           "camera": {
            "eye": {
             "x": -1.1358320317454915,
             "y": 1.3545794903441097,
             "z": 0.8
            }
           }
          }
         }
        },
        {
         "layout": {
          "scene": {
           "camera": {
            "eye": {
             "x": -0.9949253040021958,
             "y": 1.4612062275586353,
             "z": 0.8
            }
           }
          }
         }
        },
        {
         "layout": {
          "scene": {
           "camera": {
            "eye": {
             "x": -0.8440776114998902,
             "y": 1.553233075157956,
             "z": 0.8
            }
           }
          }
         }
        },
        {
         "layout": {
          "scene": {
           "camera": {
            "eye": {
             "x": -0.6847961745184389,
             "y": 1.6297405313008917,
             "z": 0.8
            }
           }
          }
         }
        },
        {
         "layout": {
          "scene": {
           "camera": {
            "eye": {
             "x": -0.5186724805247199,
             "y": 1.6899641587756626,
             "z": 0.8
            }
           }
          }
         }
        },
        {
         "layout": {
          "scene": {
           "camera": {
            "eye": {
             "x": -0.347366382555924,
             "y": 1.733302223003828,
             "z": 0.8
            }
           }
          }
         }
        },
        {
         "layout": {
          "scene": {
           "camera": {
            "eye": {
             "x": -0.17258951451669058,
             "y": 1.7593217043732774,
             "z": 0.8
            }
           }
          }
         }
        },
        {
         "layout": {
          "scene": {
           "camera": {
            "eye": {
             "x": 0.0039118109010850555,
             "y": 1.767762624827065,
             "z": 0.8
            }
           }
          }
         }
        },
        {
         "layout": {
          "scene": {
           "camera": {
            "eye": {
             "x": 0.18037405079741164,
             "y": 1.7585406454782138,
             "z": 0.8
            }
           }
          }
         }
        },
        {
         "layout": {
          "scene": {
           "camera": {
            "eye": {
             "x": 0.3550340528019027,
             "y": 1.7317479092959966,
             "z": 0.8
            }
           }
          }
         }
        },
        {
         "layout": {
          "scene": {
           "camera": {
            "eye": {
             "x": 0.5261466719094534,
             "y": 1.6876521204438448,
             "z": 0.8
            }
           }
          }
         }
        },
        {
         "layout": {
          "scene": {
           "camera": {
            "eye": {
             "x": 0.6920022073922499,
             "y": 1.62669386946784,
             "z": 0.8
            }
           }
          }
         }
        },
        {
         "layout": {
          "scene": {
           "camera": {
            "eye": {
             "x": 0.8509434855643001,
             "y": 1.5494822310616148,
             "z": 0.8
            }
           }
          }
         }
        },
        {
         "layout": {
          "scene": {
           "camera": {
            "eye": {
             "x": 1.001382417713112,
             "y": 1.4567886783933495,
             "z": 0.8
            }
           }
          }
         }
        },
        {
         "layout": {
          "scene": {
           "camera": {
            "eye": {
             "x": 1.1418158677571515,
             "y": 1.3495393748008924,
             "z": 0.8
            }
           }
          }
         }
        },
        {
         "layout": {
          "scene": {
           "camera": {
            "eye": {
             "x": 1.270840671084707,
             "y": 1.2288059198738308,
             "z": 0.8
            }
           }
          }
         }
        },
        {
         "layout": {
          "scene": {
           "camera": {
            "eye": {
             "x": 1.3871676545108578,
             "y": 1.0957946423846239,
             "z": 0.8
            }
           }
          }
         }
        },
        {
         "layout": {
          "scene": {
           "camera": {
            "eye": {
             "x": 1.4896345172697987,
             "y": 0.9518345470502599,
             "z": 0.8
            }
           }
          }
         }
        },
        {
         "layout": {
          "scene": {
           "camera": {
            "eye": {
             "x": 1.577217444339885,
             "y": 0.7983640355564382,
             "z": 0.8
            }
           }
          }
         }
        },
        {
         "layout": {
          "scene": {
           "camera": {
            "eye": {
             "x": 1.6490413360648972,
             "y": 0.6369165345234014,
             "z": 0.8
            }
           }
          }
         }
        },
        {
         "layout": {
          "scene": {
           "camera": {
            "eye": {
             "x": 1.7043885518605422,
             "y": 0.46910517401401974,
             "z": 0.8
            }
           }
          }
         }
        },
        {
         "layout": {
          "scene": {
           "camera": {
            "eye": {
             "x": 1.742706080641946,
             "y": 0.2966066696714459,
             "z": 0.8
            }
           }
          }
         }
        },
        {
         "layout": {
          "scene": {
           "camera": {
            "eye": {
             "x": 1.7636110663276172,
             "y": 0.12114456953064445,
             "z": 0.8
            }
           }
          }
         }
        },
        {
         "layout": {
          "scene": {
           "camera": {
            "eye": {
             "x": 1.766894633210853,
             "y": -0.05552796710383823,
             "z": 0.8
            }
           }
          }
         }
        },
        {
         "layout": {
          "scene": {
           "camera": {
            "eye": {
             "x": 1.7525239729767597,
             "y": -0.23164568664612328,
             "z": 0.8
            }
           }
          }
         }
        },
        {
         "layout": {
          "scene": {
           "camera": {
            "eye": {
             "x": 1.7206426725120867,
             "y": -0.4054488790593255,
             "z": 0.8
            }
           }
          }
         }
        },
        {
         "layout": {
          "scene": {
           "camera": {
            "eye": {
             "x": 1.6715692792325216,
             "y": -0.5752009602965458,
             "z": 0.8
            }
           }
          }
         }
        },
        {
         "layout": {
          "scene": {
           "camera": {
            "eye": {
             "x": 1.605794118262206,
             "y": -0.7392058236746413,
             "z": 0.8
            }
           }
          }
         }
        },
        {
         "layout": {
          "scene": {
           "camera": {
            "eye": {
             "x": 1.5239743932671765,
             "y": -0.8958247868115395,
             "z": 0.8
            }
           }
          }
         }
        },
        {
         "layout": {
          "scene": {
           "camera": {
            "eye": {
             "x": 1.426927619893581,
             "y": -1.04349296479892,
             "z": 0.8
            }
           }
          }
         }
        },
        {
         "layout": {
          "scene": {
           "camera": {
            "eye": {
             "x": 1.3156234574215673,
             "y": -1.180734906014945,
             "z": 0.8
            }
           }
          }
         }
        },
        {
         "layout": {
          "scene": {
           "camera": {
            "eye": {
             "x": 1.1911740202502938,
             "y": -1.3061793343491364,
             "z": 0.8
            }
           }
          }
         }
        },
        {
         "layout": {
          "scene": {
           "camera": {
            "eye": {
             "x": 1.0548227660184604,
             "y": -1.4185728505399942,
             "z": 0.8
            }
           }
          }
         }
        },
        {
         "layout": {
          "scene": {
           "camera": {
            "eye": {
             "x": 0.9079320713866189,
             "y": -1.5167924557260966,
             "z": 0.8
            }
           }
          }
         }
        },
        {
         "layout": {
          "scene": {
           "camera": {
            "eye": {
             "x": 0.7519696196199205,
             "y": -1.599856772079511,
             "z": 0.8
            }
           }
          }
         }
        },
        {
         "layout": {
          "scene": {
           "camera": {
            "eye": {
             "x": 0.5884937359820905,
             "y": -1.6669358484086425,
             "z": 0.8
            }
           }
          }
         }
        },
        {
         "layout": {
          "scene": {
           "camera": {
            "eye": {
             "x": 0.41913781746449363,
             "y": -1.7173594527562077,
             "z": 0.8
            }
           }
          }
         }
        },
        {
         "layout": {
          "scene": {
           "camera": {
            "eye": {
             "x": 0.24559401242333323,
             "y": -1.7506237691353923,
             "z": 0.8
            }
           }
          }
         }
        },
        {
         "layout": {
          "scene": {
           "camera": {
            "eye": {
             "x": 0.06959631319262605,
             "y": -1.7663964314926572,
             "z": 0.8
            }
           }
          }
         }
        },
        {
         "layout": {
          "scene": {
           "camera": {
            "eye": {
             "x": -0.10709676939402235,
             "y": -1.7645198445994774,
             "z": 0.8
            }
           }
          }
         }
        },
        {
         "layout": {
          "scene": {
           "camera": {
            "eye": {
             "x": -0.2827197764623679,
             "y": -1.745012758691772,
             "z": 0.8
            }
           }
          }
         }
        },
        {
         "layout": {
          "scene": {
           "camera": {
            "eye": {
             "x": -0.45551794097903464,
             "y": -1.7080700821237462,
             "z": 0.8
            }
           }
          }
         }
        },
        {
         "layout": {
          "scene": {
           "camera": {
            "eye": {
             "x": -0.6237647208036504,
             "y": -1.6540609339080419,
             "z": 0.8
            }
           }
          }
         }
        },
        {
         "layout": {
          "scene": {
           "camera": {
            "eye": {
             "x": -0.7857790497271997,
             "y": -1.58352495560058,
             "z": 0.8
            }
           }
          }
         }
        },
        {
         "layout": {
          "scene": {
           "camera": {
            "eye": {
             "x": -0.9399421341298975,
             "y": -1.4971669193805124,
             "z": 0.8
            }
           }
          }
         }
        },
        {
         "layout": {
          "scene": {
           "camera": {
            "eye": {
             "x": -1.0847136274319271,
             "y": -1.3958496861995813,
             "z": 0.8
            }
           }
          }
         }
        },
        {
         "layout": {
          "scene": {
           "camera": {
            "eye": {
             "x": -1.218647020727311,
             "y": -1.2805855843607052,
             "z": 0.8
            }
           }
          }
         }
        },
        {
         "layout": {
          "scene": {
           "camera": {
            "eye": {
             "x": -1.3404040958227346,
             "y": -1.1525262946682115,
             "z": 0.8
            }
           }
          }
         }
        },
        {
         "layout": {
          "scene": {
           "camera": {
            "eye": {
             "x": -1.448768296271385,
             "y": -1.0129513432139317,
             "z": 0.8
            }
           }
          }
         }
        },
        {
         "layout": {
          "scene": {
           "camera": {
            "eye": {
             "x": -1.5426568828028173,
             "y": -0.8632553167754569,
             "z": 0.8
            }
           }
          }
         }
        },
        {
         "layout": {
          "scene": {
           "camera": {
            "eye": {
             "x": -1.6211317516958519,
             "y": -0.7049339285660311,
             "z": 0.8
            }
           }
          }
         }
        },
        {
         "layout": {
          "scene": {
           "camera": {
            "eye": {
             "x": -1.6834088080008527,
             "y": -0.5395690735625494,
             "z": 0.8
            }
           }
          }
         }
        },
        {
         "layout": {
          "scene": {
           "camera": {
            "eye": {
             "x": -1.7288657999572776,
             "y": -0.3688130227338533,
             "z": 0.8
            }
           }
          }
         }
        },
        {
         "layout": {
          "scene": {
           "camera": {
            "eye": {
             "x": -1.7570485363275825,
             "y": -0.1943719140953739,
             "z": 0.8
            }
           }
          }
         }
        },
        {
         "layout": {
          "scene": {
           "camera": {
            "eye": {
             "x": -1.7676754245259283,
             "y": -0.017988705542069106,
             "z": 0.8
            }
           }
          }
         }
        }
       ],
       "layout": {
        "template": {
         "data": {
          "bar": [
           {
            "error_x": {
             "color": "#2a3f5f"
            },
            "error_y": {
             "color": "#2a3f5f"
            },
            "marker": {
             "line": {
              "color": "#E5ECF6",
              "width": 0.5
             },
             "pattern": {
              "fillmode": "overlay",
              "size": 10,
              "solidity": 0.2
             }
            },
            "type": "bar"
           }
          ],
          "barpolar": [
           {
            "marker": {
             "line": {
              "color": "#E5ECF6",
              "width": 0.5
             },
             "pattern": {
              "fillmode": "overlay",
              "size": 10,
              "solidity": 0.2
             }
            },
            "type": "barpolar"
           }
          ],
          "carpet": [
           {
            "aaxis": {
             "endlinecolor": "#2a3f5f",
             "gridcolor": "white",
             "linecolor": "white",
             "minorgridcolor": "white",
             "startlinecolor": "#2a3f5f"
            },
            "baxis": {
             "endlinecolor": "#2a3f5f",
             "gridcolor": "white",
             "linecolor": "white",
             "minorgridcolor": "white",
             "startlinecolor": "#2a3f5f"
            },
            "type": "carpet"
           }
          ],
          "choropleth": [
           {
            "colorbar": {
             "outlinewidth": 0,
             "ticks": ""
            },
            "type": "choropleth"
           }
          ],
          "contour": [
           {
            "colorbar": {
             "outlinewidth": 0,
             "ticks": ""
            },
            "colorscale": [
             [
              0,
              "#0d0887"
             ],
             [
              0.1111111111111111,
              "#46039f"
             ],
             [
              0.2222222222222222,
              "#7201a8"
             ],
             [
              0.3333333333333333,
              "#9c179e"
             ],
             [
              0.4444444444444444,
              "#bd3786"
             ],
             [
              0.5555555555555556,
              "#d8576b"
             ],
             [
              0.6666666666666666,
              "#ed7953"
             ],
             [
              0.7777777777777778,
              "#fb9f3a"
             ],
             [
              0.8888888888888888,
              "#fdca26"
             ],
             [
              1,
              "#f0f921"
             ]
            ],
            "type": "contour"
           }
          ],
          "contourcarpet": [
           {
            "colorbar": {
             "outlinewidth": 0,
             "ticks": ""
            },
            "type": "contourcarpet"
           }
          ],
          "heatmap": [
           {
            "colorbar": {
             "outlinewidth": 0,
             "ticks": ""
            },
            "colorscale": [
             [
              0,
              "#0d0887"
             ],
             [
              0.1111111111111111,
              "#46039f"
             ],
             [
              0.2222222222222222,
              "#7201a8"
             ],
             [
              0.3333333333333333,
              "#9c179e"
             ],
             [
              0.4444444444444444,
              "#bd3786"
             ],
             [
              0.5555555555555556,
              "#d8576b"
             ],
             [
              0.6666666666666666,
              "#ed7953"
             ],
             [
              0.7777777777777778,
              "#fb9f3a"
             ],
             [
              0.8888888888888888,
              "#fdca26"
             ],
             [
              1,
              "#f0f921"
             ]
            ],
            "type": "heatmap"
           }
          ],
          "heatmapgl": [
           {
            "colorbar": {
             "outlinewidth": 0,
             "ticks": ""
            },
            "colorscale": [
             [
              0,
              "#0d0887"
             ],
             [
              0.1111111111111111,
              "#46039f"
             ],
             [
              0.2222222222222222,
              "#7201a8"
             ],
             [
              0.3333333333333333,
              "#9c179e"
             ],
             [
              0.4444444444444444,
              "#bd3786"
             ],
             [
              0.5555555555555556,
              "#d8576b"
             ],
             [
              0.6666666666666666,
              "#ed7953"
             ],
             [
              0.7777777777777778,
              "#fb9f3a"
             ],
             [
              0.8888888888888888,
              "#fdca26"
             ],
             [
              1,
              "#f0f921"
             ]
            ],
            "type": "heatmapgl"
           }
          ],
          "histogram": [
           {
            "marker": {
             "pattern": {
              "fillmode": "overlay",
              "size": 10,
              "solidity": 0.2
             }
            },
            "type": "histogram"
           }
          ],
          "histogram2d": [
           {
            "colorbar": {
             "outlinewidth": 0,
             "ticks": ""
            },
            "colorscale": [
             [
              0,
              "#0d0887"
             ],
             [
              0.1111111111111111,
              "#46039f"
             ],
             [
              0.2222222222222222,
              "#7201a8"
             ],
             [
              0.3333333333333333,
              "#9c179e"
             ],
             [
              0.4444444444444444,
              "#bd3786"
             ],
             [
              0.5555555555555556,
              "#d8576b"
             ],
             [
              0.6666666666666666,
              "#ed7953"
             ],
             [
              0.7777777777777778,
              "#fb9f3a"
             ],
             [
              0.8888888888888888,
              "#fdca26"
             ],
             [
              1,
              "#f0f921"
             ]
            ],
            "type": "histogram2d"
           }
          ],
          "histogram2dcontour": [
           {
            "colorbar": {
             "outlinewidth": 0,
             "ticks": ""
            },
            "colorscale": [
             [
              0,
              "#0d0887"
             ],
             [
              0.1111111111111111,
              "#46039f"
             ],
             [
              0.2222222222222222,
              "#7201a8"
             ],
             [
              0.3333333333333333,
              "#9c179e"
             ],
             [
              0.4444444444444444,
              "#bd3786"
             ],
             [
              0.5555555555555556,
              "#d8576b"
             ],
             [
              0.6666666666666666,
              "#ed7953"
             ],
             [
              0.7777777777777778,
              "#fb9f3a"
             ],
             [
              0.8888888888888888,
              "#fdca26"
             ],
             [
              1,
              "#f0f921"
             ]
            ],
            "type": "histogram2dcontour"
           }
          ],
          "mesh3d": [
           {
            "colorbar": {
             "outlinewidth": 0,
             "ticks": ""
            },
            "type": "mesh3d"
           }
          ],
          "parcoords": [
           {
            "line": {
             "colorbar": {
              "outlinewidth": 0,
              "ticks": ""
             }
            },
            "type": "parcoords"
           }
          ],
          "pie": [
           {
            "automargin": true,
            "type": "pie"
           }
          ],
          "scatter": [
           {
            "fillpattern": {
             "fillmode": "overlay",
             "size": 10,
             "solidity": 0.2
            },
            "type": "scatter"
           }
          ],
          "scatter3d": [
           {
            "line": {
             "colorbar": {
              "outlinewidth": 0,
              "ticks": ""
             }
            },
            "marker": {
             "colorbar": {
              "outlinewidth": 0,
              "ticks": ""
             }
            },
            "type": "scatter3d"
           }
          ],
          "scattercarpet": [
           {
            "marker": {
             "colorbar": {
              "outlinewidth": 0,
              "ticks": ""
             }
            },
            "type": "scattercarpet"
           }
          ],
          "scattergeo": [
           {
            "marker": {
             "colorbar": {
              "outlinewidth": 0,
              "ticks": ""
             }
            },
            "type": "scattergeo"
           }
          ],
          "scattergl": [
           {
            "marker": {
             "colorbar": {
              "outlinewidth": 0,
              "ticks": ""
             }
            },
            "type": "scattergl"
           }
          ],
          "scattermapbox": [
           {
            "marker": {
             "colorbar": {
              "outlinewidth": 0,
              "ticks": ""
             }
            },
            "type": "scattermapbox"
           }
          ],
          "scatterpolar": [
           {
            "marker": {
             "colorbar": {
              "outlinewidth": 0,
              "ticks": ""
             }
            },
            "type": "scatterpolar"
           }
          ],
          "scatterpolargl": [
           {
            "marker": {
             "colorbar": {
              "outlinewidth": 0,
              "ticks": ""
             }
            },
            "type": "scatterpolargl"
           }
          ],
          "scatterternary": [
           {
            "marker": {
             "colorbar": {
              "outlinewidth": 0,
              "ticks": ""
             }
            },
            "type": "scatterternary"
           }
          ],
          "surface": [
           {
            "colorbar": {
             "outlinewidth": 0,
             "ticks": ""
            },
            "colorscale": [
             [
              0,
              "#0d0887"
             ],
             [
              0.1111111111111111,
              "#46039f"
             ],
             [
              0.2222222222222222,
              "#7201a8"
             ],
             [
              0.3333333333333333,
              "#9c179e"
             ],
             [
              0.4444444444444444,
              "#bd3786"
             ],
             [
              0.5555555555555556,
              "#d8576b"
             ],
             [
              0.6666666666666666,
              "#ed7953"
             ],
             [
              0.7777777777777778,
              "#fb9f3a"
             ],
             [
              0.8888888888888888,
              "#fdca26"
             ],
             [
              1,
              "#f0f921"
             ]
            ],
            "type": "surface"
           }
          ],
          "table": [
           {
            "cells": {
             "fill": {
              "color": "#EBF0F8"
             },
             "line": {
              "color": "white"
             }
            },
            "header": {
             "fill": {
              "color": "#C8D4E3"
             },
             "line": {
              "color": "white"
             }
            },
            "type": "table"
           }
          ]
         },
         "layout": {
          "annotationdefaults": {
           "arrowcolor": "#2a3f5f",
           "arrowhead": 0,
           "arrowwidth": 1
          },
          "autotypenumbers": "strict",
          "coloraxis": {
           "colorbar": {
            "outlinewidth": 0,
            "ticks": ""
           }
          },
          "colorscale": {
           "diverging": [
            [
             0,
             "#8e0152"
            ],
            [
             0.1,
             "#c51b7d"
            ],
            [
             0.2,
             "#de77ae"
            ],
            [
             0.3,
             "#f1b6da"
            ],
            [
             0.4,
             "#fde0ef"
            ],
            [
             0.5,
             "#f7f7f7"
            ],
            [
             0.6,
             "#e6f5d0"
            ],
            [
             0.7,
             "#b8e186"
            ],
            [
             0.8,
             "#7fbc41"
            ],
            [
             0.9,
             "#4d9221"
            ],
            [
             1,
             "#276419"
            ]
           ],
           "sequential": [
            [
             0,
             "#0d0887"
            ],
            [
             0.1111111111111111,
             "#46039f"
            ],
            [
             0.2222222222222222,
             "#7201a8"
            ],
            [
             0.3333333333333333,
             "#9c179e"
            ],
            [
             0.4444444444444444,
             "#bd3786"
            ],
            [
             0.5555555555555556,
             "#d8576b"
            ],
            [
             0.6666666666666666,
             "#ed7953"
            ],
            [
             0.7777777777777778,
             "#fb9f3a"
            ],
            [
             0.8888888888888888,
             "#fdca26"
            ],
            [
             1,
             "#f0f921"
            ]
           ],
           "sequentialminus": [
            [
             0,
             "#0d0887"
            ],
            [
             0.1111111111111111,
             "#46039f"
            ],
            [
             0.2222222222222222,
             "#7201a8"
            ],
            [
             0.3333333333333333,
             "#9c179e"
            ],
            [
             0.4444444444444444,
             "#bd3786"
            ],
            [
             0.5555555555555556,
             "#d8576b"
            ],
            [
             0.6666666666666666,
             "#ed7953"
            ],
            [
             0.7777777777777778,
             "#fb9f3a"
            ],
            [
             0.8888888888888888,
             "#fdca26"
            ],
            [
             1,
             "#f0f921"
            ]
           ]
          },
          "colorway": [
           "#636efa",
           "#EF553B",
           "#00cc96",
           "#ab63fa",
           "#FFA15A",
           "#19d3f3",
           "#FF6692",
           "#B6E880",
           "#FF97FF",
           "#FECB52"
          ],
          "font": {
           "color": "#2a3f5f"
          },
          "geo": {
           "bgcolor": "white",
           "lakecolor": "white",
           "landcolor": "#E5ECF6",
           "showlakes": true,
           "showland": true,
           "subunitcolor": "white"
          },
          "hoverlabel": {
           "align": "left"
          },
          "hovermode": "closest",
          "mapbox": {
           "style": "light"
          },
          "paper_bgcolor": "white",
          "plot_bgcolor": "#E5ECF6",
          "polar": {
           "angularaxis": {
            "gridcolor": "white",
            "linecolor": "white",
            "ticks": ""
           },
           "bgcolor": "#E5ECF6",
           "radialaxis": {
            "gridcolor": "white",
            "linecolor": "white",
            "ticks": ""
           }
          },
          "scene": {
           "xaxis": {
            "backgroundcolor": "#E5ECF6",
            "gridcolor": "white",
            "gridwidth": 2,
            "linecolor": "white",
            "showbackground": true,
            "ticks": "",
            "zerolinecolor": "white"
           },
           "yaxis": {
            "backgroundcolor": "#E5ECF6",
            "gridcolor": "white",
            "gridwidth": 2,
            "linecolor": "white",
            "showbackground": true,
            "ticks": "",
            "zerolinecolor": "white"
           },
           "zaxis": {
            "backgroundcolor": "#E5ECF6",
            "gridcolor": "white",
            "gridwidth": 2,
            "linecolor": "white",
            "showbackground": true,
            "ticks": "",
            "zerolinecolor": "white"
           }
          },
          "shapedefaults": {
           "line": {
            "color": "#2a3f5f"
           }
          },
          "ternary": {
           "aaxis": {
            "gridcolor": "white",
            "linecolor": "white",
            "ticks": ""
           },
           "baxis": {
            "gridcolor": "white",
            "linecolor": "white",
            "ticks": ""
           },
           "bgcolor": "#E5ECF6",
           "caxis": {
            "gridcolor": "white",
            "linecolor": "white",
            "ticks": ""
           }
          },
          "title": {
           "x": 0.05
          },
          "xaxis": {
           "automargin": true,
           "gridcolor": "white",
           "linecolor": "white",
           "ticks": "",
           "title": {
            "standoff": 15
           },
           "zerolinecolor": "white",
           "zerolinewidth": 2
          },
          "yaxis": {
           "automargin": true,
           "gridcolor": "white",
           "linecolor": "white",
           "ticks": "",
           "title": {
            "standoff": 15
           },
           "zerolinecolor": "white",
           "zerolinewidth": 2
          }
         }
        },
        "updatemenus": [
         {
          "buttons": [
           {
            "args": [
             null,
             {
              "frame": {
               "duration": 50,
               "redraw": true
              },
              "fromcurrent": true,
              "mode": "immediate",
              "transition": {
               "duration": 0
              }
             }
            ],
            "label": "Play",
            "method": "animate"
           }
          ],
          "pad": {
           "r": 10,
           "t": 45
          },
          "showactive": false,
          "type": "buttons",
          "x": 0.8,
          "xanchor": "left",
          "y": 1,
          "yanchor": "bottom"
         }
        ]
       }
      },
      "text/html": [
       "<div>                            <div id=\"732fea68-f7ea-4c8d-99ed-f1836de8c60e\" class=\"plotly-graph-div\" style=\"height:525px; width:100%;\"></div>            <script type=\"text/javascript\">                require([\"plotly\"], function(Plotly) {                    window.PLOTLYENV=window.PLOTLYENV || {};                                    if (document.getElementById(\"732fea68-f7ea-4c8d-99ed-f1836de8c60e\")) {                    Plotly.newPlot(                        \"732fea68-f7ea-4c8d-99ed-f1836de8c60e\",                        [{\"color\":\"lightpink\",\"opacity\":0.5,\"x\":[0.3728894591331482,0.3728436827659607,0.37357214093208313,0.37372514605522156,0.3735487759113312,0.37436115741729736,0.3745102286338806,0.3744974732398987,0.37432152032852173,0.373816579580307,0.37513411045074463,0.375442236661911,0.37542882561683655,0.37509122490882874,0.3745897710323334,0.3757619559764862,0.3760637044906616,0.37620797753334045,0.3760329484939575,0.3758578896522522,0.3753599226474762,0.3767082393169403,0.3766891062259674,0.37682899832725525,0.37697067856788635,0.37679606676101685,0.37662145495414734,0.3761270046234131,0.37745991349220276,0.37743890285491943,0.3775750398635864,0.3777129650115967,0.3775383532047272,0.3775213360786438,0.37718909978866577,0.3766975402832031,0.37829455733299255,0.37827226519584656,0.37840545177459717,0.37838539481163025,0.3783662021160126,0.3781920373439789,0.3780178725719452,0.37768691778182983,0.37892794609069824,0.379055380821228,0.3790320158004761,0.37916257977485657,0.3791414201259613,0.3789672553539276,0.3789474368095398,0.37861892580986023,0.37828949093818665,0.3796088993549347,0.37988337874412537,0.37985873222351074,0.37983500957489014,0.3798121511936188,0.37979018688201904,0.37961646914482117,0.3794427216053009,0.3789619207382202,0.3780174255371094,0.38051605224609375,0.38063791394233704,0.38061219453811646,0.3805873692035675,0.3805634379386902,0.3803897202014923,0.38021597266197205,0.38004225492477417,0.379564493894577,0.3787800967693329,0.3811935782432556,0.38145923614501953,0.38128462433815,0.381258100271225,0.38123244047164917,0.3810587227344513,0.38088497519493103,0.38071125745773315,0.38038724660873413,0.37976083159446716,0.3817613422870636,0.3820211887359619,0.3819919526576996,0.3819636404514313,0.3819361925125122,0.38176247477531433,0.38158875703811646,0.3814150094985962,0.3812412917613983,0.38076967000961304,0.37984809279441833,0.38265693187713623,0.3827691674232483,0.38273885846138,0.38270944356918335,0.3825357258319855,0.38250765204429626,0.3823343515396118,0.38201454281806946,0.3818408250808716,0.38137224316596985,0.38287222385406494,0.3834044635295868,0.38351407647132874,0.3834826946258545,0.3833089768886566,0.38327890634536743,0.38310563564300537,0.3829323351383209,0.38261404633522034,0.38244032859802246,0.3818289339542389,0.3836592733860016,0.3841838538646698,0.384149968624115,0.3841169774532318,0.38394322991371155,0.3839115500450134,0.38373827934265137,0.3835650086402893,0.38324832916259766,0.3830746114253998,0.38261231780052185,0.384443074464798,0.384821355342865,0.38478586077690125,0.38475123047828674,0.38471749424934387,0.3845442235469818,0.38437092304229736,0.3841976523399353,0.38402435183525085,0.3837088644504547,0.38324981927871704,0.38235974311828613,0.38552871346473694,0.38549140095710754,0.3854549825191498,0.38541945815086365,0.3852461576461792,0.38507288694381714,0.3848995864391327,0.38472631573677063,0.38441261649131775,0.38409802317619324,0.38349995017051697,0.38596591353416443,0.38619697093963623,0.3861587345600128,0.38598501682281494,0.38594815135002136,0.3857748508453369,0.38560158014297485,0.3854282796382904,0.38525500893592834,0.3849426507949829,0.38448992371559143,0.3863123655319214,0.3868037164211273,0.38676318526268005,0.38672351837158203,0.38668474555015564,0.3865114748477936,0.38647404313087463,0.386301189661026,0.3859916031360626,0.38581833243370056,0.3855074346065521,0.38478145003318787,0.38715073466300964,0.38750356435775757,0.3874620199203491,0.38728830218315125,0.38724809885025024,0.3872087597846985,0.38703593611717224,0.3868630826473236,0.3865549564361572,0.3862459361553192,0.38593602180480957,0.3850787281990051,0.3879833221435547,0.3880697786808014,0.38802680373191833,0.3879847228527069,0.38781142234802246,0.3877706527709961,0.38759782910346985,0.3874249756336212,0.38711827993392944,0.38681069016456604,0.3863674998283386,0.38824915885925293,0.3887162208557129,0.38867083191871643,0.3886263072490692,0.388582706451416,0.38853996992111206,0.3883671164512634,0.3881942927837372,0.38802143931388855,0.38771626353263855,0.3874102234840393,0.38683685660362244,0.38898617029190063,0.38944604992866516,0.38927188515663147,0.3892258405685425,0.3891806900501251,0.3891364336013794,0.38896358013153076,0.3887907564640045,0.3886179029941559,0.38831427693367004,0.3880097568035126,0.3873092830181122,0.38975533843040466,0.3900819420814514,0.3900338411331177,0.3898600935935974,0.3898133337497711,0.38976746797561646,0.3895946145057678,0.3895500600337982,0.38924893736839294,0.38894692063331604,0.3886440098285675,0.38795003294944763,0.39039769768714905,0.3907178044319153,0.3906680941581726,0.39049437642097473,0.3904459774494171,0.3903985023498535,0.3903518617153168,0.39017948508262634,0.38987997174263,0.38957956433296204,0.38927826285362244,0.38871920108795166,0.39104005694389343,0.39135369658470154,0.3913023769855499,0.39112862944602966,0.3910786211490631,0.3910295069217682,0.3909812867641449,0.3908088803291321,0.39051100611686707,0.39021220803260803,0.38991254568099976,0.3893583416938782,0.391477108001709,0.39190372824668884,0.39185023307800293,0.39179766178131104,0.391745924949646,0.391695111989975,0.3916451632976532,0.39147278666496277,0.39130038022994995,0.3908795118331909,0.39058154821395874,0.3901575803756714,0.3893551528453827,0.3925761580467224,0.3925209641456604,0.39246666431427,0.3924132287502289,0.39236071705818176,0.3923090696334839,0.39213666319847107,0.39196428656578064,0.3916693329811096,0.39137354493141174,0.3909534215927124,0.3901599645614624,0.3931313157081604,0.39319169521331787,0.393135666847229,0.39308056235313416,0.39302632212638855,0.3929729759693146,0.39280056953430176,0.39262816309928894,0.3923349380493164,0.39204084873199463,0.3916241526603699,0.3909613788127899,0.3935742974281311,0.39386239647865295,0.3938046991825104,0.39374786615371704,0.39369192719459534,0.3936368525028229,0.39346444606781006,0.39329206943511963,0.3930005431175232,0.3927081525325775,0.3924148678779602,0.39175936579704285,0.394137978553772,0.3945331275463104,0.39447370171546936,0.3944151699542999,0.39435750246047974,0.39430075883865356,0.39412835240364075,0.39395594596862793,0.39366614818573,0.3933754563331604,0.3930838704109192,0.3925539255142212,0.3948590159416199,0.39513418078422546,0.39507320523262024,0.39501315355300903,0.39495396614074707,0.39489567279815674,0.3947232663631439,0.3945508897304535,0.3942626118659973,0.3939734399318695,0.39368337392807007,0.39315804839134216,0.39557698369026184,0.3957352340221405,0.3956727385520935,0.39561113715171814,0.3956630229949951,0.3954906165599823,0.3953182101249695,0.39514580368995667,0.39485907554626465,0.3945714235305786,0.39428290724754333,0.39353078603744507,0.3962918817996979,0.39644598960876465,0.3963824212551117,0.39631974697113037,0.3962579369544983,0.3960855305194855,0.39591315388679504,0.3957407474517822,0.395455539226532,0.3951694071292877,0.39476871490478516,0.3940238058567047,0.39689600467681885,0.3970454931259155,0.3969804048538208,0.3969162106513977,0.39685288071632385,0.39668047428131104,0.3965080678462982,0.3963356614112854,0.3960520029067993,0.3957674205303192,0.3952575922012329,0.39732256531715393,0.3976777195930481,0.39761027693748474,0.397543728351593,0.3975857198238373,0.39741331338882446,0.39724093675613403,0.3970685303211212,0.39678671956062317,0.3965040147304535,0.39622044563293457,0.39571452140808105,0.39810484647750854,0.3982439339160919,0.3982803523540497,0.39821282029151917,0.3981461822986603,0.39797377586364746,0.39780136942863464,0.3976289927959442,0.3973486125469208,0.3970673680305481,0.3966763913631439,0.39595574140548706,0.3988133668899536,0.3989483118057251,0.3988783657550812,0.3988092839717865,0.39874109625816345,0.398568719625473,0.3983963131904602,0.3982239067554474,0.3979450762271881,0.3976653516292572,0.3972774147987366,0.39645665884017944,0.3994174599647522,0.399547815322876,0.3994763493537903,0.39940574765205383,0.399336040019989,0.3991636335849762,0.39899125695228577,0.39881885051727295,0.39854153990745544,0.3981580138206482,0.3977726697921753,0.39976370334625244,0.4001864194869995,0.40021297335624695,0.4001404941082001,0.40006887912750244,0.399896502494812,0.3997240960597992,0.3995516896247864,0.3992762863636017,0.398999959230423,0.398722767829895,0.3980272710323334,0.40069571137428284,0.4008163511753082,0.4007416367530823,0.40066781640052795,0.4005948603153229,0.40052279829978943,0.40025007724761963,0.4000776708126068,0.39980360865592957,0.39942651987075806,0.3990476727485657,0.40111586451530457,0.4014233350753784,0.40144360065460205,0.40136799216270447,0.40129324793815613,0.4012193977832794,0.4009484350681305,0.4007760286331177,0.4005037546157837,0.40023061633110046,0.3998557925224304,0.401700496673584,0.40199899673461914,0.4020153880119324,0.4019376337528229,0.40195712447166443,0.4018815755844116,0.4017096161842346,0.40143993496894836,0.4011693596839905,0.40089792013168335,0.4006255567073822,0.399854838848114,0.40263649821281433,0.4026496708393097,0.40257027745246887,0.40258654952049255,0.4025093615055084,0.4023374021053314,0.4020693600177765,0.40180039405822754,0.40153056383132935,0.4012598395347595,0.4004988372325897,0.4032739996910095,0.4032839238643646,0.40320292115211487,0.4032159447669983,0.4031371474266052,0.40287116169929504,0.4026987552642822,0.4024314284324646,0.40216320753097534,0.401798278093338,0.40114280581474304,0.4039115011692047,0.40391820669174194,0.40383556485176086,0.4038453698158264,0.4036729633808136,0.4035005569458008,0.40332818031311035,0.40306246280670166,0.40279585123062134,0.40243417024612427,0.40178677439689636,0.4045490026473999,0.4045524597167969,0.40446820855140686,0.40447476506233215,0.4043023884296417,0.4041299819946289,0.4039575755596161,0.4036934971809387,0.40342849493026733,0.4030700623989105,0.4024307429790497,0.4051865041255951,0.4051867425441742,0.40510085225105286,0.4051041901111603,0.40493178367614746,0.40475937724113464,0.4045870006084442,0.4043245315551758,0.40406113862991333,0.4037059247493744,0.403074711561203,0.4058240056037903,0.4058209955692291,0.40573349595069885,0.4057336151599884,0.4055612087249756,0.40538880228996277,0.40521639585494995,0.40495553612709045,0.4046938121318817,0.40434181690216064,0.40618425607681274,0.4065104126930237,0.40642049908638,0.40633150935173035,0.4063285291194916,0.40615612268447876,0.40598374605178833,0.4057248532772064,0.4055519998073578,0.4052917957305908,0.4049428701400757,0.4068763554096222,0.4071114659309387,0.4071027636528015,0.4070126712322235,0.40692347288131714,0.4067510664463043,0.4065786600112915,0.40632131695747375,0.4060630798339844,0.40580394864082336,0.4053713381290436,0.4075653851032257,0.40771251916885376,0.407700777053833,0.40760913491249084,0.4075183868408203,0.4073460102081299,0.40709060430526733,0.4069177806377411,0.4066610634326935,0.40640345215797424,0.40589070320129395,0.4082513451576233,0.4083928167819977,0.4082987606525421,0.4082055985927582,0.40803274512290955,0.4078599214553833,0.40768706798553467,0.4075142443180084,0.4072590470314026,0.4070029854774475,0.40641310811042786,0.40893423557281494,0.40899232029914856,0.4088967442512512,0.4088020622730255,0.4086292088031769,0.40845638513565063,0.408283531665802,0.40811070799827576,0.4078570306301117,0.40752124786376953,0.40685686469078064,0.40957337617874146,0.4096266031265259,0.4095293879508972,0.4094330966472626,0.40926024317741394,0.4090874195098877,0.40891456604003906,0.40874171257019043,0.4084896743297577,0.4081571400165558,0.4075024724006653,0.41025158762931824,0.41022610664367676,0.4101274013519287,0.4100295603275299,0.4098567068576813,0.40968388319015503,0.4095110297203064,0.40926095843315125,0.4090876877307892,0.40875816345214844,0.4106680452823639,0.4109267592430115,0.4108986556529999,0.4107988476753235,0.41062602400779724,0.4104531705379486,0.41028034687042236,0.41010749340057373,0.40985894203186035,0.40960952639579773,0.4092060625553131,0.4113488793373108,0.4115278124809265,0.41149666905403137,0.4113953113555908,0.4112224876880646,0.41104963421821594,0.4108767807483673,0.41070395708084106,0.41045695543289185,0.410209059715271,0.4098101854324341,0.41202667355537415,0.41212886571884155,0.4120946526527405,0.41199177503585815,0.4118189513683319,0.4116460978984833,0.41147324442863464,0.4113004207611084,0.41105493903160095,0.4108085632324219,0.4103407561779022,0.41270139813423157,0.4127979278564453,0.4126926362514496,0.4125882387161255,0.412484735250473,0.4123123288154602,0.412069708108902,0.4118262231349945,0.41165292263031006,0.4113365411758423,0.4108743965625763,0.41337308287620544,0.4133974313735962,0.4132906198501587,0.4131847023963928,0.4130796790122986,0.41290727257728577,0.4126661717891693,0.4124242067337036,0.41225090622901917,0.4119375944137573,0.4114815592765808,0.41394779086112976,0.4140317142009735,0.4139232635498047,0.4138157367706299,0.4137090742588043,0.4135366678237915,0.41329720616340637,0.4131243824958801,0.41288357973098755,0.4125734865665436,0.41219276189804077,0.4145885109901428,0.41466596722602844,0.41455593705177307,0.41444677114486694,0.41433849930763245,0.41416609287261963,0.41392824053764343,0.4137553870677948,0.41351622343063354,0.41320937871932983,0.4128335118293762,0.41516807675361633,0.415238618850708,0.41518858075141907,0.415077805519104,0.4149678945541382,0.41479548811912537,0.41462311148643494,0.41438642144203186,0.41414886713027954,0.4139104187488556,0.413539856672287,0.4157620668411255,0.4158843457698822,0.41583025455474854,0.41577795147895813,0.41566628217697144,0.4154938757419586,0.4153214693069458,0.4150865972042084,0.4148508310317993,0.41461417078971863,0.4143766164779663,0.41394543647766113,0.41641759872436523,0.4164755642414093,0.41641920804977417,0.416305273771286,0.4161922335624695,0.41601985692977905,0.41584745049476624,0.41561391949653625,0.41537949442863464,0.4151442050933838,0.4148455560207367,0.41435641050338745,0.4171244204044342,0.41706404089927673,0.4170054495334625,0.41689062118530273,0.4167182147502899,0.4165458083152771,0.41631409525871277,0.4160814583301544,0.41590818762779236,0.41567423939704895,0.415317177772522,0.41764751076698303,0.417692095041275,0.41768449544906616,0.41756734251976013,0.41745108366012573,0.4172786772251129,0.4171062707901001,0.4168759882450104,0.41664478182792664,0.41641274094581604,0.4161797761917114,0.4157669246196747,0.41834598779678345,0.418332576751709,0.4182131886482239,0.418094664812088,0.4179770350456238,0.41780462861061096,0.41763225197792053,0.41740331053733826,0.41717347502708435,0.4169427454471588,0.41665327548980713,0.41888391971588135,0.4189670979976654,0.4188973605632782,0.41882941126823425,0.4186565577983856,0.4185374975204468,0.41836509108543396,0.4181380271911621,0.417910099029541,0.41773679852485657,0.417507529258728,0.41716450452804565,0.4194736182689667,0.41955047845840454,0.41947847604751587,0.41935673356056213,0.41923585534095764,0.4190634787082672,0.4188382029533386,0.41866534948349,0.41843876242637634,0.41821128129959106,0.41798293590545654,0.4174782633781433,0.420158326625824,0.4201311469078064,0.4200071692466736,0.41988405585289,0.4197618365287781,0.41953837871551514,0.4193655252456665,0.4191407263278961,0.41896745562553406,0.4187413156032562,0.41840773820877075,0.420738160610199,0.42075255513191223,0.42067447304725647,0.420501172542572,0.42037680745124817,0.42020395398139954,0.4200311303138733,0.419808030128479,0.41963475942611694,0.4194103181362152,0.4191334545612335,0.42132481932640076,0.421331524848938,0.4212954342365265,0.4211684763431549,0.42104241251945496,0.4208695590496063,0.4206967353820801,0.4204753339290619,0.42030206322669983,0.4200793504714966,0.4198557436466217,0.41937968134880066,0.4219706356525421,0.42188501358032227,0.4218011200428009,0.421673446893692,0.4215005934238434,0.42132776975631714,0.4211079776287079,0.4209347069263458,0.4207136034965515,0.42049163579940796,0.4200252890586853,0.42253202199935913,0.42244288325309753,0.4223991334438324,0.42226991057395935,0.4220970571041107,0.42187926173210144,0.4217059910297394,0.42153269052505493,0.4213131368160248,0.4210459589958191,0.4231258034706116,0.42307382822036743,0.4230245053768158,0.42289313673973083,0.4227626621723175,0.4225465655326843,0.42237329483032227,0.4221999943256378,0.42198213934898376,0.4217633903026581,0.42373037338256836,0.4236730933189392,0.42361849546432495,0.42352578043937683,0.42335250973701477,0.4231792092323303,0.42300593852996826,0.42279013991355896,0.4226164221763611,0.42235589027404785,0.4243405759334564,0.4242404103279114,0.4241807758808136,0.4241237938404083,0.4239504933357239,0.4237772226333618,0.42360392212867737,0.42338964343070984,0.42321592569351196,0.42291659116744995,0.42488133907318115,0.4247790575027466,0.4247160851955414,0.42461779713630676,0.4244445264339447,0.4242323935031891,0.4240586757659912,0.42388492822647095,0.4235907196998596,0.4254903197288513,0.42538437247276306,0.42531606554985046,0.42521411180496216,0.4250403940677643,0.4248666763305664,0.42469292879104614,0.4244810938835144,0.42419129610061646,0.4260298013687134,0.42595523595809937,0.4258488118648529,0.4256742000579834,0.4255349934101105,0.4253966808319092,0.4251866638660431,0.42493897676467896,0.42664003372192383,0.42652830481529236,0.42638537287712097,0.4262433350086212,0.4261021614074707,0.4259275496006012,0.4257529377937317,0.4254726469516754,0.42706918716430664,0.426955908536911,0.4267804026603699,0.42663735151290894,0.4264622926712036,0.42625391483306885,0.42768365144729614,0.4275367558002472,0.4273907542228699,0.4272456467151642,0.42707014083862305,0.4268312156200409,0.428117036819458,0.4279690682888031,0.4278219938278198,0.42761629819869995,0.42855045199394226,0.4283736050128937,0.4290192127227783],\"y\":[0.1302182674407959,0.1339268684387207,0.1296071857213974,0.13250459730625153,0.135721355676651,0.12705636024475098,0.12996651232242584,0.1330137997865677,0.1362224817276001,0.13980241119861603,0.12758344411849976,0.1303190290927887,0.13334845006465912,0.136720210313797,0.14029546082019806,0.12518760561943054,0.12795041501522064,0.13082949817180634,0.13402201235294342,0.1372145265340805,0.1407850980758667,0.12249452620744705,0.12556904554367065,0.12846896052360535,0.13133656978607178,0.1345209926366806,0.13770543038845062,0.14127133786678314,0.1205950379371643,0.12367431074380875,0.1265837699174881,0.1294608861207962,0.13264530897140503,0.1356518417596817,0.13901416957378387,0.14258672297000885,0.11984952539205551,0.12292223423719406,0.1258266717195511,0.12885896861553192,0.13187509775161743,0.1350514441728592,0.13822779059410095,0.14159667491912842,0.11744102090597153,0.12039053440093994,0.12345346808433533,0.1263463944196701,0.12936890125274658,0.13254526257514954,0.13554352521896362,0.13889794051647186,0.14226853847503662,0.116831474006176,0.11964790523052216,0.12270427495241165,0.12574449181556702,0.12876851856708527,0.13177640736103058,0.13494466245174408,0.13811293244361877,0.14166662096977234,0.14585502445697784,0.11725233495235443,0.12018532305955887,0.1232319101691246,0.1262623369693756,0.1292765885591507,0.1324448436498642,0.1356131136417389,0.1387813687324524,0.14233846962451935,0.14633290469646454,0.11664583534002304,0.1194455698132515,0.12263000011444092,0.1256619393825531,0.12867772579193115,0.13184599578380585,0.13501425087451935,0.13818252086639404,0.1415436714887619,0.14532293379306793,0.11552269011735916,0.11833994090557098,0.12139119952917099,0.12442628294229507,0.12744522094726562,0.13061347603797913,0.13378173112869263,0.13695000112056732,0.14011825621128082,0.14368218183517456,0.1478961706161499,0.11594778299331665,0.11887862533330917,0.12192009389400482,0.12494540214538574,0.12811365723609924,0.13111472129821777,0.1342748999595642,0.13761845231056213,0.14078670740127563,0.14435404539108276,0.11390411853790283,0.1164945438504219,0.11941389739513397,0.12244558334350586,0.12561383843421936,0.12862128019332886,0.1317814588546753,0.13494163751602173,0.13828688859939575,0.14145515859127045,0.14522713422775269,0.11381912231445312,0.11640102416276932,0.11944878101348877,0.1224803775548935,0.125648632645607,0.12865598499774933,0.13181616365909576,0.1349763423204422,0.1383216828107834,0.14148995280265808,0.14506086707115173,0.1137339398264885,0.11643598973751068,0.11948366463184357,0.12251516431570053,0.12553051114082336,0.1286906898021698,0.13185086846351624,0.13501104712486267,0.1381712257862091,0.14152474701404572,0.1450958400964737,0.14932774007320404,0.11519718915224075,0.11824800074100494,0.121282659471035,0.12430114299058914,0.12746132910251617,0.13062149286270142,0.13378167152404785,0.13694186508655548,0.140292227268219,0.14365875720977783,0.147454172372818,0.11420316249132156,0.11701234430074692,0.12005013972520828,0.12321840971708298,0.12623195350170135,0.1293921321630478,0.13255231082439423,0.13571248948574066,0.1388726681470871,0.14222797751426697,0.14580266177654266,0.11267083883285522,0.11526712775230408,0.11831776797771454,0.12135224044322968,0.12437054514884949,0.12753072381019592,0.13052478432655334,0.13367688655853271,0.13701127469539642,0.14017145335674286,0.14353007078170776,0.14752447605133057,0.1137542873620987,0.1164468377828598,0.11948607861995697,0.12265433371067047,0.12566933035850525,0.1286681443452835,0.13182023167610168,0.13497233390808105,0.138310045003891,0.14166390895843506,0.14503394067287445,0.149259552359581,0.11482445150613785,0.11775226145982742,0.12078817188739777,0.12380792200565338,0.12696810066699982,0.12996359169483185,0.13311569392681122,0.1362677961587906,0.13960881531238556,0.14296600222587585,0.1465444564819336,0.11277707666158676,0.11537203937768936,0.11842241138219833,0.12145661562681198,0.1244746595621109,0.1274765282869339,0.13062863051891327,0.13378073275089264,0.13693282008171082,0.14027555286884308,0.14363445341587067,0.14742310345172882,0.11333786696195602,0.11591621488332748,0.11909256130456924,0.1221250593662262,0.12514139711856842,0.12814156711101532,0.1312936693429947,0.13444575667381287,0.13759785890579224,0.1409423053264618,0.14430288970470428,0.14830517768859863,0.11325350403785706,0.11595109850168228,0.11899159103631973,0.12215985357761383,0.1251761019229889,0.12817618250846863,0.131328284740448,0.13430412113666534,0.13763247430324554,0.14097701013088226,0.14433768391609192,0.14834032952785492,0.11328873783349991,0.11598597466945648,0.11902638524770737,0.12219464778900146,0.12521080672740936,0.12821079790592194,0.13119462132453918,0.1343386471271515,0.13766708970069885,0.14101170003414154,0.14437247812747955,0.14816679060459137,0.11332397162914276,0.11602085828781128,0.119061179459095,0.1222294420003891,0.12524551153182983,0.12824541330337524,0.13122914731502533,0.13437317311763763,0.13770170509815216,0.141046404838562,0.1444072723388672,0.1482018530368805,0.11295414716005325,0.11554688960313797,0.11859681457281113,0.12163057923316956,0.12464817613363266,0.12764960527420044,0.1306348741054535,0.1337788999080658,0.1369229108095169,0.14044907689094543,0.14380840957164764,0.1473911702632904,0.15165220201015472,0.11494497209787369,0.11799643188714981,0.12103171646595001,0.12405084818601608,0.12705381214618683,0.13004060089588165,0.13318461179733276,0.13632863759994507,0.13966219127178192,0.1430119276046753,0.14658352732658386,0.15082885324954987,0.11446642130613327,0.1173960417509079,0.12043286114931107,0.12345351278781891,0.12645800411701202,0.12944632768630981,0.13259033858776093,0.13573434948921204,0.13906638324260712,0.14241459965705872,0.14598314464092255,0.15000855922698975,0.11410665512084961,0.11679565161466599,0.11983399838209152,0.12285618484020233,0.12586219608783722,0.12885203957557678,0.1319960653781891,0.1351400762796402,0.1384705901145935,0.14181725680828094,0.1451800912618637,0.14919131994247437,0.11362046748399734,0.11619526147842407,0.11923513561487198,0.12225884944200516,0.12526638805866241,0.12825776636600494,0.13140179216861725,0.13454580307006836,0.1378747820854187,0.14121992886066437,0.14458124339580536,0.14837713539600372,0.11417712271213531,0.11686541140079498,0.11990358680486679,0.12292558699846268,0.12593142688274384,0.12892109155654907,0.13206511735916138,0.1352091282606125,0.13853982090950012,0.1418866664171219,0.14524967968463898,0.14905069768428802,0.11473037302494049,0.11753556877374649,0.120572030544281,0.1235923320055008,0.12644042074680328,0.1295844316482544,0.1327284425497055,0.1358724683523178,0.13920484483242035,0.1425534039735794,0.1459181308746338,0.15014950931072235,0.11528021842241287,0.11807221174240112,0.12109889090061188,0.12410939484834671,0.1271037459373474,0.13024775683879852,0.13339176774024963,0.13653579354286194,0.13986988365650177,0.14322015643119812,0.14679281413555145,0.15104080736637115,0.11595378071069717,0.11874065548181534,0.1217656284570694,0.12477443367242813,0.12776707112789154,0.13091108202934265,0.13405510783195496,0.13719911873340607,0.1405349224805832,0.14388689398765564,0.1476709246635437,0.1144404411315918,0.11700493842363358,0.12004275619983673,0.12306440621614456,0.12591518461704254,0.12905919551849365,0.13220322132110596,0.13534723222255707,0.13867828249931335,0.14202548563480377,0.14538885653018951,0.14919093251228333,0.11551108956336975,0.1183103621006012,0.1212029978632927,0.12421324104070663,0.12720732390880585,0.13035133481025696,0.13349536061286926,0.13663937151432037,0.1399737298488617,0.14332427084445953,0.14689746499061584,0.1511467844247818,0.11605895310640335,0.11884503811597824,0.12186974287033081,0.12487827241420746,0.12787064909934998,0.1310146600008011,0.1341586858034134,0.1373026967048645,0.14063875377178192,0.14399100840091705,0.14756761491298676,0.1520417481660843,0.11673251539468765,0.11951348185539246,0.12253648042678833,0.12554331123828888,0.1285339742898941,0.1316780000925064,0.13482201099395752,0.13796602189540863,0.14130379259586334,0.14485958218574524,0.1484476923942566,0.1153494268655777,0.11777973175048828,0.12067507207393646,0.12368666380643845,0.1266821026802063,0.1298261135816574,0.13297012448310852,0.13611415028572083,0.1394471526145935,0.1427963376045227,0.14616167545318604,0.15039615333080292,0.1168026328086853,0.11958306282758713,0.12260588258504868,0.1256125420331955,0.1286030262708664,0.13157735764980316,0.1348910629749298,0.13803507387638092,0.14137302339076996,0.14492915570735931,0.1485176384449005,0.11593909561634064,0.11848476529121399,0.12137652188539505,0.12438631802797318,0.12737995386123657,0.13035741448402405,0.1336679905653,0.1368120014667511,0.14014680683612823,0.1434977799654007,0.14707186818122864,0.11545566469430923,0.11801706999540329,0.12091995775699615,0.12393936514854431,0.12678568065166473,0.12976466119289398,0.13290059566497803,0.13621772825717926,0.13955099880695343,0.14290045201778412,0.14626605808734894,0.15071538090705872,0.11805204302072525,0.12095474451780319,0.12397406995296478,0.12682020664215088,0.12979911267757416,0.132935032248497,0.1362522542476654,0.13958561420440674,0.1429351568222046,0.14630085229873657,0.15075071156024933,0.11808700859546661,0.12098953872919083,0.12400877475738525,0.12685473263263702,0.12983354926109314,0.13314275443553925,0.13628678023815155,0.13962022960186005,0.14296986162662506,0.14654123783111572,0.15078602731227875,0.11812198162078857,0.12102433294057846,0.12404347956180573,0.12688925862312317,0.13003326952457428,0.1331772804260254,0.1363213062286377,0.13965484499931335,0.14300456643104553,0.14657612144947052,0.15082135796546936,0.11815694719552994,0.1210591271519661,0.1240781843662262,0.12692378461360931,0.13006779551506042,0.13321180641651154,0.13635583221912384,0.13968946039676666,0.1430392563343048,0.14661100506782532,0.15085668861865997,0.1181919202208519,0.12109392136335373,0.12411288917064667,0.12695831060409546,0.13010232150554657,0.13324633240699768,0.13639035820960999,0.13972407579421997,0.14307396113872528,0.14664588868618011,0.1508920043706894,0.11822689324617386,0.12112870812416077,0.12414759397506714,0.1269928365945816,0.13013684749603271,0.13328085839748383,0.13642488420009613,0.13975869119167328,0.14310866594314575,0.1466807723045349,0.11634853482246399,0.11876381933689117,0.12179715186357498,0.12481433153152466,0.12765616178512573,0.13080017268657684,0.13394419848918915,0.13727162778377533,0.1404237300157547,0.14377541840076447,0.14735090732574463,0.11690036952495575,0.11943396925926208,0.12232089042663574,0.12532827258110046,0.12831950187683105,0.13146349787712097,0.13460752367973328,0.13793666660785675,0.14128196239471436,0.14464344084262848,0.14843980967998505,0.11744878441095352,0.120104119181633,0.12298762798309326,0.12599331140518188,0.128982812166214,0.1321268379688263,0.1354495882987976,0.13860169053077698,0.14194871485233307,0.1453118771314621,0.1493244469165802,0.1179938018321991,0.12063422799110413,0.12365436553955078,0.1266583353281021,0.12981043756008148,0.13296252489089966,0.13611462712287903,0.1392667293548584,0.1426154524087906,0.1459803283214569,0.15021249651908875,0.11853539943695068,0.12130267173051834,0.1243211105465889,0.12732337415218353,0.1304754763841629,0.13362756371498108,0.13677966594696045,0.13993176817893982,0.1432821899652481,0.1468551754951477,0.15131844580173492,0.11857046186923981,0.12133746594190598,0.12435581535100937,0.12735798954963684,0.1305100917816162,0.1336621791124344,0.13681428134441376,0.13996638357639313,0.14331689476966858,0.1468900591135025,0.1513538509607315,0.11910856515169144,0.12200590968132019,0.12502256035804749,0.12802302837371826,0.13117511570453644,0.1343272179365158,0.13747932016849518,0.14082345366477966,0.1439836323261261,0.1475602090358734,0.11724139750003815,0.11964325606822968,0.12252911180257797,0.1255359649658203,0.12868806719779968,0.13184015452861786,0.13499225676059723,0.1381443589925766,0.14149019122123718,0.1448521912097931,0.1486501693725586,0.11779099702835083,0.12031340599060059,0.12319584935903549,0.12620098888874054,0.1293530911207199,0.13250519335269928,0.13565728068351746,0.13880938291549683,0.1421569287776947,0.1455206423997879,0.1493237316608429,0.11833717674016953,0.1209835559129715,0.12386259436607361,0.12686602771282196,0.13001812994480133,0.1331702172756195,0.13632231950759888,0.13947442173957825,0.14282366633415222,0.14618907868862152,0.15021060407161713,0.11887995153665543,0.12151142954826355,0.12452933192253113,0.12753106653690338,0.1305166333913803,0.13366064429283142,0.1369873583316803,0.1403302252292633,0.14349041879177094,0.1470644623041153,0.15110088884830475,0.11941931396722794,0.12217987328767776,0.12519606947898865,0.1281961053609848,0.13117995858192444,0.13432398438453674,0.13765239715576172,0.14099696278572083,0.14415715634822845,0.1477346122264862,0.15177786350250244,0.11959036439657211,0.1222146674990654,0.12523077428340912,0.1282307207584381,0.13121448457241058,0.1343585103750229,0.13768699765205383,0.1408390998840332,0.14419186115264893,0.147769495844841,0.1515962779521942,0.1196255162358284,0.12224945425987244,0.1252654790878296,0.12826533615589142,0.13124901056289673,0.13439303636550903,0.13772161304950714,0.1408737152814865,0.1442265659570694,0.1478043645620346,0.1516314297914505,0.11979682743549347,0.12242849916219711,0.12530018389225006,0.12829995155334473,0.13128353655338287,0.13442756235599518,0.1375715732574463,0.14090833067893982,0.14426127076148987,0.14763034880161285,0.15144957602024078,0.11881464719772339,0.12133394926786423,0.12421999871730804,0.1270737200975418,0.13006046414375305,0.13320447504520416,0.13634848594665527,0.1396821141242981,0.14303189516067505,0.14639782905578613,0.14977993071079254,0.15384401381015778,0.12050903588533401,0.12313353270292282,0.12600162625312805,0.12899959087371826,0.13198140263557434,0.13512541353702545,0.13826942443847656,0.14160798490047455,0.14496271312236786,0.1483335942029953,0.15193942189216614,0.15625818073749542,0.1220407783985138,0.1249232366681099,0.12777337431907654,0.13075831532478333,0.13390232622623444,0.13704635202884674,0.14038175344467163,0.14373333752155304,0.14689351618289948,0.15026932954788208,0.15410876274108887,0.12071765214204788,0.12334951758384705,0.126071035861969,0.12906882166862488,0.13205045461654663,0.13519446551799774,0.13833847641944885,0.14167721569538116,0.1450321227312088,0.14840316772460938,0.15179039537906647,0.15587492287158966,0.12225379049777985,0.12499282509088516,0.1280018538236618,0.13099469244480133,0.13397137820720673,0.13711540400981903,0.14025941491127014,0.14360308647155762,0.14696292579174042,0.15033891797065735,0.15395498275756836,0.1209266185760498,0.12341945618391037,0.12629492580890656,0.1291380524635315,0.13229015469551086,0.13526351749897003,0.13840752840042114,0.14174644649028778,0.14510151743888855,0.14826169610023499,0.15164101123809814,0.1554909497499466,0.12275367975234985,0.12521374225616455,0.12807124853134155,0.13106392323970795,0.13404043018817902,0.13718445599079132,0.14052021503448486,0.14367231726646423,0.14703233540058136,0.15040850639343262,0.1538008451461792,0.15837015211582184,0.12427447736263275,0.1269981563091278,0.13000206649303436,0.1329897940158844,0.1359613686800003,0.13929399847984314,0.14244608581066132,0.14580295979976654,0.14896315336227417,0.1523442566394806,0.15619955956935883,0.12396436929702759,0.12655404210090637,0.12940473854541779,0.13256490230560303,0.13554608821868896,0.13869819045066833,0.1418502777814865,0.14520563185214996,0.1483658105134964,0.15174539387226105,0.1553686410188675,0.12364814430475235,0.12626010179519653,0.12896870076656342,0.13196757435798645,0.13495028018951416,0.13810238242149353,0.1412544846534729,0.1446083039045334,0.14776848256587982,0.1511465311050415,0.1545407474040985,0.15912136435508728,0.12629516422748566,0.1291648894548416,0.13200227916240692,0.13498489558696747,0.13813699781894684,0.1412891000509262,0.14464300870895386,0.1478031873703003,0.15118132531642914,0.1545756310224533,0.15915678441524506,0.12712374329566956,0.1299981325864792,0.13266901671886444,0.1356499344110489,0.13880203664302826,0.14214956760406494,0.14530974626541138,0.1484699249267578,0.15184977650642395,0.15547354519367218,0.1268257349729538,0.1295577883720398,0.13224133849143982,0.1352318674325943,0.13820622861385345,0.14155222475528717,0.1447124183177948,0.14787259697914124,0.1512509137392044,0.1546453982591629,0.1270146369934082,0.12975451350212097,0.13244587182998657,0.13526657223701477,0.1384267508983612,0.14158692955970764,0.14474712312221527,0.14811745285987854,0.15128570795059204,0.15490660071372986,0.1276950240135193,0.13059313595294952,0.1332874596118927,0.1359333097934723,0.13909348845481873,0.14225366711616516,0.1454138606786728,0.14878588914871216,0.15195414423942566,0.15580646693706512,0.13014847040176392,0.1330253779888153,0.13569197058677673,0.13849616050720215,0.14165633916854858,0.1450187712907791,0.14818702638149261,0.15135528147220612,0.15520302951335907,0.13034571707248688,0.1332305371761322,0.1359049528837204,0.13871702551841736,0.14188529551029205,0.14505356550216675,0.14822182059288025,0.15160857141017914,0.15546467900276184,0.13231602311134338,0.1350160390138626,0.1378505825996399,0.14103500545024872,0.1440202295780182,0.14698930084705353,0.1503729224205017,0.15399613976478577,0.13299641013145447,0.13586795330047607,0.13889189064502716,0.14189967513084412,0.14489127695560455,0.14807571470737457,0.1512601375579834,0.15511998534202576,0.1373666375875473,0.14020727574825287,0.1434078812599182,0.1464042365550995,0.14959675073623657,0.15300963819026947,0.13758201897144318,0.1406187117099762,0.14363925158977509,0.14664360880851746,0.1498442143201828,0.1534857451915741,0.1414872258901596,0.14451414346694946,0.147524893283844,0.1509476602077484,0.14539246261119843,0.14861729741096497,0.14865271747112274],\"z\":[-0.0019121811492368579,-0.0008615690167061985,-0.0019220361718907952,0.00011717805318767205,0.00016131608572322875,-0.001958506880328059,8.088943286566064e-05,0.0011224645422771573,0.0011664917692542076,-0.0007838821038603783,-0.0009530085371807218,0.002083765808492899,0.003125099465250969,0.0021715983748435974,0.00022115306637715548,-0.0019870889373123646,0.0010500699281692505,0.0030890845227986574,0.0031328897457569838,0.0031766952015459538,0.0012261783704161644,-0.0010257679969072342,1.6161870007636026e-05,0.0020554696675390005,0.004094333853572607,0.004138028249144554,0.004181722644716501,0.002231134567409754,-0.0010532980086281896,-1.129908469010843e-05,0.0020281467586755753,0.0040671490132808685,0.004110843408852816,0.005151873920112848,0.00419823219999671,0.0022477279417216778,-6.524286436615512e-05,0.0009766994044184685,0.0030160837341099977,0.004057441838085651,0.005098607856780291,0.0051421914249658585,0.005185774993151426,0.00423221942037344,-0.0010995081393048167,0.0009405020973645151,0.0019822840113192797,0.0040215179324150085,0.00506277522072196,0.005106358788907528,0.006147253327071667,0.005193525925278664,0.004239989910274744,-0.0011093384819105268,0.0019286113092675805,0.002970336936414242,0.004011810757219791,0.00505309272557497,0.006094122771173716,0.006137595511972904,0.006181068252772093,0.004230282735079527,-0.0007110981387086213,0.0008945235749706626,0.0029343217611312866,0.0039758868515491486,0.00501726008951664,0.006058381404727697,0.006101854145526886,0.006145326886326075,0.006188799161463976,0.004238053224980831,0.000293754565063864,0.0008847425342537463,0.003922485280781984,0.003966179676353931,0.00500757759436965,0.006048723589628935,0.0060921963304281235,0.006135668605566025,0.006179141346365213,0.005225494969636202,0.0022779947612434626,-0.00013192679034546018,0.00290609709918499,0.003947733901441097,0.004989177919924259,0.006030370946973562,0.006073843687772751,0.0061173164285719395,0.006160788703709841,0.006204261444509029,0.004253594670444727,-0.0006874905666336417,0.0018720190273597836,0.003911809995770454,0.004953345283865929,0.005994629580527544,0.006038102321326733,0.007079053670167923,0.007122415117919445,0.006168520078063011,0.0062119928188622,0.004261365160346031,-0.0021566147916018963,0.0028778724372386932,0.004917512647807598,0.005958888214081526,0.006002360954880714,0.00704340310767293,0.007086765021085739,0.0071301269344985485,0.0061762514524161816,0.006219723727554083,0.003272120375186205,-0.001159470877610147,0.0038749175146222115,0.004916546866297722,0.005957924760878086,0.006001397501677275,0.007042442448437214,0.007085803896188736,0.007129165809601545,0.006175287999212742,0.0062187607400119305,0.004268167540431023,-0.00016232211783062667,0.0038739494048058987,0.004915581084787846,0.005956961307674646,0.006998119875788689,0.007041481323540211,0.00708484323695302,0.007128204684704542,0.0071715665981173515,0.006217797286808491,0.0042671989649534225,-0.000673713511787355,0.003855503164231777,0.004897181876003742,0.005938609130680561,0.006979814264923334,0.007023175712674856,0.0070665376260876656,0.007109899073839188,0.007153260987251997,0.006199444644153118,0.005245849955826998,0.0022985052783042192,0.0018408031901344657,0.004878782667219639,0.0059202564880251884,0.005963729228824377,0.007004870101809502,0.007048232015222311,0.007091593462973833,0.0071349553763866425,0.007178317289799452,0.006224564742296934,0.004274001345038414,-0.0011810929281637073,0.003853566711768508,0.00489525031298399,0.005936682224273682,0.006977892480790615,0.007021253928542137,0.00806216150522232,0.008105412125587463,0.007151339203119278,0.0071947006508708,0.006240990478545427,0.002296558814123273,0.000831934274174273,0.004868134390562773,0.005909635219722986,0.005953107960522175,0.006994275841861963,0.008035251870751381,0.008078503422439098,0.008121754042804241,0.0071677230298519135,0.006213943473994732,0.005260386038571596,0.0003192835138179362,0.0028447937220335007,0.004884601570665836,0.005926060955971479,0.006967298220843077,0.007010659668594599,0.008051593787968159,0.008094844408333302,0.008138095960021019,0.007184106856584549,0.006230369210243225,0.004279835615307093,-0.001184034743346274,0.0038506616838276386,0.004892352502793074,0.0059337918646633625,0.006975009571760893,0.008016034960746765,0.008059285581111908,0.00810253620147705,0.008145787753164768,0.007191818207502365,0.006238100118935108,0.003290637396275997,-0.00017799668421503156,0.004856519866734743,0.004900103434920311,0.005941523239016533,0.006982720922678709,0.008023726753890514,0.008066977374255657,0.0081102279946208,0.008153478614985943,0.007199529558420181,0.006245831493288279,0.002301448956131935,0.0008192261448130012,0.004855554085224867,0.005897087045013905,0.005940559785813093,0.006981759797781706,0.008022768422961235,0.008066019043326378,0.009106664918363094,0.008152520284056664,0.007198568433523178,0.006244868040084839,0.002300475724041462,0.0008182504680007696,0.004854588303714991,0.005896123591810465,0.0059395963326096535,0.00698079913854599,0.008021809160709381,0.0090625686571002,0.009105708450078964,0.008151561953127384,0.007197607774287462,0.006243904586881399,0.0032964861020445824,0.0008172747911885381,0.004853622522205114,0.005895160138607025,0.005938632879406214,0.006979838013648987,0.008020850829780102,0.009061613120138645,0.009104752913117409,0.008150603622198105,0.007196646649390459,0.0062429411336779594,0.0032955154310911894,-0.001188937691040337,0.0038458202034235,0.004887523595243692,0.005928975064307451,0.006970204878598452,0.008011242374777794,0.009052028879523277,0.00909516867250204,0.009138308465480804,0.007187013514339924,0.006233283318579197,0.004282764624804258,-0.0006579507025890052,0.003836113028228283,0.004877840634435415,0.005919317249208689,0.006960571743547916,0.008001633919775486,0.00904244463890791,0.009085584431886673,0.009128724224865437,0.008174637332558632,0.007220741827040911,0.005270092282444239,0.00032911362359300256,0.002828266704455018,0.0048681581392884254,0.005909658968448639,0.006950938142836094,0.007992025464773178,0.009032860398292542,0.009076000191271305,0.009119140915572643,0.008165028877556324,0.0072111086919903755,0.005260409787297249,0.001316256821155548,0.0008221774478442967,0.004858475644141436,0.005900001153349876,0.006941305007785559,0.00798241700977087,0.009023277088999748,0.009066416881978512,0.009109556674957275,0.008155419491231441,0.00720147555693984,0.006247782148420811,0.0023034196346998215,-0.00018582178745418787,0.004848793148994446,0.005890343338251114,0.0069316718727350235,0.007972807623445988,0.00901369284838438,0.009056832641363144,0.009099972434341908,0.008145811036229134,0.007191841956228018,0.006238124333322048,0.003290661610662937,0.0008202260942198336,0.004856544081121683,0.005898074246942997,0.00693938322365284,0.007980499416589737,0.009021365083754063,0.009064504876732826,0.00910764466971159,0.008153502829372883,0.007199553307145834,0.006245855242013931,0.0032984516583383083,0.00182620482519269,0.0048642950132489204,0.005905805621296167,0.006947094574570656,0.008985896594822407,0.00902903638780117,0.009072176180779934,0.009115316905081272,0.008161194622516632,0.00720726465806365,0.006253586616367102,0.001312354113906622,0.0028321738354861736,0.005870064254850149,0.006911444012075663,0.007952632382512093,0.008993568830192089,0.009036708623170853,0.009079848416149616,0.00912298820912838,0.008168886415660381,0.007214976474642754,0.005264297593384981,0.00032324480707757175,0.0028399641159921885,0.005877795163542032,0.006919155828654766,0.007960324175655842,0.009001241065561771,0.009044380858540535,0.009087520651519299,0.009130660444498062,0.00817657820880413,0.00722268782556057,0.004275017883628607,-0.0001818848541006446,0.004852680489420891,0.0058942208997905254,0.006935539189726114,0.008974400348961353,0.009017540141940117,0.009060680866241455,0.009103820659220219,0.008149669505655766,0.007195709738880396,0.00624200189486146,0.0032945687416940928,0.0018310952000319958,0.004869148135185242,0.006908561568707228,0.00794975645840168,0.008990700356662273,0.009033840149641037,0.009076980873942375,0.009120120666921139,0.008166010491549969,0.007212093565613031,0.005261399783194065,0.0003203103842679411,0.002837051870301366,0.005874905269593,0.006916272919625044,0.00795744825154543,0.008998372592031956,0.00904151238501072,0.009084652177989483,0.009127791970968246,0.008173702284693718,0.0072198049165308475,0.005269150715321302,-0.0006687372224405408,0.0028448421508073807,0.0058826361782848835,0.00692398427054286,0.007965140044689178,0.009006044827401638,0.009049184620380402,0.009092324413359165,0.009135464206337929,0.008181394077837467,0.006230417173355818,0.004279883578419685,-0.0011751360725611448,0.004857534077018499,0.006897006183862686,0.007938231341540813,0.008979205042123795,0.009022344835102558,0.009065484628081322,0.009108624421060085,0.008154485374689102,0.00720053818076849,0.006246842909604311,0.0013055243762210011,0.002842900576069951,0.005880709271878004,0.006922062486410141,0.00796322338283062,0.009004132822155952,0.01004484947770834,0.00909041240811348,0.009133552201092243,0.008179477415978909,0.006228490266948938,0.0042779468931257725,-0.00017009851580951363,0.004864318761974573,0.0069037568755447865,0.007944964803755283,0.008985920809209347,0.01002668496221304,0.009072200395166874,0.009115340188145638,0.008161218836903572,0.00720728887245059,0.0052565704099833965,-0.0011780778877437115,0.00385654391720891,0.0058961715549230576,0.006937485188245773,0.008976336568593979,0.010017124935984612,0.010060153901576996,0.00910575594753027,0.00815160945057869,0.007197655737400055,0.006243952549993992,0.0003056139685213566,0.0038555755745619535,0.005895208101719618,0.00693652406334877,0.008975381031632423,0.01001617219299078,0.010059201158583164,0.009104800410568714,0.00815065111964941,0.007196694612503052,0.006242989096790552,0.0003046358178835362,0.003854607231914997,0.0058942451141774654,0.006935563404113054,0.008974424563348293,0.010015218518674374,0.00906070414930582,0.009103843942284584,0.008149692788720131,0.007195733487606049,0.005244956351816654,0.0003036576963495463,0.0038536391220986843,0.005893281660974026,0.006934602279216051,0.008973469026386738,0.009016608819365501,0.009059748612344265,0.009102888405323029,0.008148734457790852,0.007194772828370333,0.005243990570306778,0.00030267954571172595,0.003852670779451728,0.005892318207770586,0.006933641619980335,0.008972512558102608,0.009015652351081371,0.009058792144060135,0.009101931937038898,0.008147776126861572,0.0071938117034733295,0.005243024788796902,0.00030170142417773604,0.0038517024368047714,0.005891354754567146,0.006932680495083332,0.008971556089818478,0.009014696814119816,0.00905783660709858,0.009100976400077343,0.008146817795932293,0.007192851044237614,0.0052420590072870255,0.0003007232735399157,0.003850734094157815,0.005890391301363707,0.006931719370186329,0.008970600552856922,0.009013740345835686,0.00905688013881445,0.009100019931793213,0.008145859465003014,0.0071918899193406105,0.005241092760115862,-0.0011760921915993094,0.004856592044234276,0.005898122675716877,0.006939431186765432,0.008978272788226604,0.009021412581205368,0.009064552374184132,0.008110299706459045,0.008153550326824188,0.007199601270258427,0.005248843692243099,-0.00017007415590342134,0.004864342976361513,0.006903780624270439,0.007944988086819649,0.008985944092273712,0.009029083885252476,0.009072224609553814,0.008117991499602795,0.007163951173424721,0.006210161838680506,0.003262485144659877,0.0008359341882169247,0.0048720939084887505,0.006911491975188255,0.007952679879963398,0.008993616327643394,0.009036756120622158,0.008082432672381401,0.008125683292746544,0.007171662524342537,0.006217893213033676,0.0022732256911695004,0.0018418733961880207,0.005877843126654625,0.0069192033261060715,0.007960371673107147,0.00800362229347229,0.008046872913837433,0.00809012446552515,0.008133375085890293,0.007179373875260353,0.006225624121725559,0.0012840350391343236,0.0028478028252720833,0.005885574501007795,0.006926915142685175,0.007968063466250896,0.00801131408661604,0.008054564706981182,0.008097815327346325,0.008141066879034042,0.007187085226178169,0.005236263852566481,-0.000702126242686063,0.0028468321543186903,0.005884611047804356,0.006925954017788172,0.007967105135321617,0.00801035575568676,0.008053606376051903,0.008096856996417046,0.008140108548104763,0.007186124566942453,0.005235298071056604,-0.0007031068671494722,0.003852694761008024,0.005892341956496239,0.006933665368705988,0.007974796928465366,0.00801804754883051,0.008061298169195652,0.008104548789560795,0.00715047400444746,0.0071938359178602695,0.005243048537522554,-0.0011741066118702292,0.004858547821640968,0.006898015271872282,0.007939237169921398,0.007982488721609116,0.008025739341974258,0.008068989962339401,0.008112240582704544,0.007158185355365276,0.006204381585121155,0.0032566606532782316,-0.00016809350927360356,0.004866298753768206,0.006905726622790098,0.007946928963065147,0.00799017958343029,0.008033431135118008,0.00807668175548315,0.008119932375848293,0.0071658967062830925,0.006212112959474325,0.0032644509337842464,0.0008379098726436496,0.004874049685895443,0.006913437973707914,0.007954620756208897,0.00799787137657404,0.008041121996939182,0.0080843735486269,0.008127624168992043,0.007173608057200909,0.006219843868166208,0.0022751963697373867,0.001843844074755907,0.005879794247448444,0.0069211493246257305,0.007962312549352646,0.009003223851323128,0.009046363644301891,0.008092065341770649,0.007137957960367203,0.007181319873780012,0.005230468697845936,0.0012860108399763703,0.002849768614396453,0.0058875251561403275,0.006928860675543547,0.007970004342496395,0.00901089608669281,0.009054035879671574,0.008099756203591824,0.007145669311285019,0.007189031224697828,0.005238219629973173,0.0012938405852764845,0.0018506809137761593,0.005886561702936888,0.006927900016307831,0.007969046011567116,0.009009940549731255,0.009053080342710018,0.008098797872662544,0.008142049424350262,0.007188070099800825,0.00523725338280201,0.0022898430470377207,0.0018497076816856861,0.005885598249733448,0.006926938891410828,0.007968087680637836,0.009008984081447124,0.009052123874425888,0.008097839541733265,0.008141090162098408,0.007187109440565109,0.005236287601292133,0.0022888698149472475,0.0008506423328071833,0.0048866537399590015,0.0069259777665138245,0.007967128418385983,0.009008027613162994,0.009051168337464333,0.009094308130443096,0.008140131831169128,0.007186148315668106,0.006232415791600943,0.0032849095296114683,-0.0011642518220469356,0.0038701966404914856,0.005909755360335112,0.007948869839310646,0.008989815600216389,0.009032956324517727,0.00907609611749649,0.008121873252093792,0.0071678427048027515,0.006214063614606857,0.0052605061791837215,0.0013163541443645954,0.0008574964012950659,0.004893438890576363,0.006932728458195925,0.007973861880600452,0.009014744311571121,0.009057884104549885,0.009101023897528648,0.008146865293383598,0.007192899007350206,0.006239183712750673,0.004288694821298122,-0.0006519448943436146,0.003876999020576477,0.005916522815823555,0.007955603301525116,0.008996532298624516,0.009039672091603279,0.009082811884582043,0.008128606714308262,0.0071745929308235645,0.007217954844236374,0.006264303810894489,0.0033170415554195642,-0.00014256444410420954,0.0038935085758566856,0.006930806674063206,0.007971945218741894,0.009012832306325436,0.0090559720993042,0.009099111892282963,0.00814494863152504,0.0071909767575562,0.006237256806343794,0.0052837589755654335,0.0013398433802649379,0.0028770468197762966,0.005914596375077963,0.006955862510949373,0.0079969372600317,0.009037760086357594,0.009080899879336357,0.00912403967231512,0.008169940672814846,0.007216033060103655,0.00626237690448761,0.0043120067566633224,-0.0011426054406911135,0.0038915718905627728,0.005931021645665169,0.007970028556883335,0.008013279177248478,0.009054060094058514,0.009097199887037277,0.008143031038343906,0.007189054973423481,0.00723241688683629,0.006278802640736103,0.0033316512126475573,-0.00011901604011654854,0.004914759658277035,0.006953940726816654,0.007995019666850567,0.009035848081111908,0.009078987874090672,0.00812477245926857,0.008168023079633713,0.007214111275970936,0.006260450463742018,0.005307011306285858,-0.0006302985129877925,0.002900417661294341,0.0059377895668148994,0.006978996563702822,0.008020011708140373,0.009060775861144066,0.008106513880193233,0.008149764500558376,0.007195805665105581,0.007239167112857103,0.006285570561885834,0.003338470822200179,0.0008946937741711736,0.004930261522531509,0.0069693634286522865,0.007012725342065096,0.008053653873503208,0.008096905425190926,0.008140156045556068,0.007186172064393759,0.007229533977806568,0.006275912746787071,0.004325611051172018,-0.0011111286003142595,0.002924759406596422,0.005961946211755276,0.007003091741353273,0.0080440454185009,0.008087296038866043,0.00813054759055376,0.007176538929343224,0.007219900842756033,0.006266254466027021,0.005312830209732056,-0.0006243905518203974,0.0029237885028123856,0.004963196348398924,0.0070021310821175575,0.008043087087571621,0.008086337707936764,0.008129589259624481,0.00717557780444622,0.00721893971785903,0.006265291478484869,0.005311864428222179,-0.0006253711180761456,0.0019336715340614319,0.003973151091486216,0.007009842433035374,0.00805077888071537,0.008094029501080513,0.0071399277076125145,0.007183289621025324,0.007226651068776846,0.006273022387176752,0.004322706256061792,-7.19192175893113e-05,0.002965652383863926,0.006002528592944145,0.0070435707457363605,0.008084421046078205,0.007130294572561979,0.007173656020313501,0.007217017933726311,0.00626336457207799,0.005309932865202427,-0.0010708021000027657,0.001966858049854636,0.005003882572054863,0.007042610086500645,0.007085971534252167,0.007129333447664976,0.0071726953610777855,0.006218928378075361,0.00626240111887455,0.004312030505388975,-0.0010629328899085522,0.0009768939344212413,0.00401394022628665,0.007050321437418461,0.00709368335083127,0.007137044798582792,0.007180406711995602,0.006226659752428532,0.006270132027566433,0.0033229144755750895,-3.071559694944881e-05,0.0020088276360183954,0.005045534111559391,0.007084049750119448,0.007127411663532257,0.0061735291965305805,0.006217001937329769,0.0062604742124676704,0.003313182620331645,-0.0010294949170202017,0.001010164269246161,0.004046959336847067,0.006085620261728764,0.006129093002527952,0.006172565743327141,0.006216038484126329,0.005262486170977354,0.0023152681533247232,-0.0010039262706413865,0.002033231081441045,0.0040722074918448925,0.00411590188741684,0.005156919825822115,0.006197685841470957,0.005244086496531963,0.003293718909844756,-0.000996057060547173,0.0010434344876557589,0.002084957202896476,0.003126288065686822,0.004167367238551378,0.004211061634123325,0.0042547560296952724,0.0013075972674414515,6.247548299143091e-05,0.0021015505772083998,0.002145466860383749,0.003186644520610571,0.003230449976399541,0.002277215477079153,-0.0009360697004012764,0.00010563537944108248,0.001147148315794766,0.002188409911468625,0.0022323261946439743,0.0002821874222718179,-0.000883951666764915,0.0001576228823978454,0.0011990051716566086,0.0002458988456055522,-0.0008318335167132318,-0.0007875845185481012,-0.0007885651430115104],\"type\":\"mesh3d\"}],                        {\"updatemenus\":[{\"buttons\":[{\"args\":[null,{\"frame\":{\"duration\":50,\"redraw\":true},\"transition\":{\"duration\":0},\"fromcurrent\":true,\"mode\":\"immediate\"}],\"label\":\"Play\",\"method\":\"animate\"}],\"pad\":{\"r\":10,\"t\":45},\"showactive\":false,\"type\":\"buttons\",\"x\":0.8,\"xanchor\":\"left\",\"y\":1,\"yanchor\":\"bottom\"}],\"template\":{\"data\":{\"histogram2dcontour\":[{\"type\":\"histogram2dcontour\",\"colorbar\":{\"outlinewidth\":0,\"ticks\":\"\"},\"colorscale\":[[0.0,\"#0d0887\"],[0.1111111111111111,\"#46039f\"],[0.2222222222222222,\"#7201a8\"],[0.3333333333333333,\"#9c179e\"],[0.4444444444444444,\"#bd3786\"],[0.5555555555555556,\"#d8576b\"],[0.6666666666666666,\"#ed7953\"],[0.7777777777777778,\"#fb9f3a\"],[0.8888888888888888,\"#fdca26\"],[1.0,\"#f0f921\"]]}],\"choropleth\":[{\"type\":\"choropleth\",\"colorbar\":{\"outlinewidth\":0,\"ticks\":\"\"}}],\"histogram2d\":[{\"type\":\"histogram2d\",\"colorbar\":{\"outlinewidth\":0,\"ticks\":\"\"},\"colorscale\":[[0.0,\"#0d0887\"],[0.1111111111111111,\"#46039f\"],[0.2222222222222222,\"#7201a8\"],[0.3333333333333333,\"#9c179e\"],[0.4444444444444444,\"#bd3786\"],[0.5555555555555556,\"#d8576b\"],[0.6666666666666666,\"#ed7953\"],[0.7777777777777778,\"#fb9f3a\"],[0.8888888888888888,\"#fdca26\"],[1.0,\"#f0f921\"]]}],\"heatmap\":[{\"type\":\"heatmap\",\"colorbar\":{\"outlinewidth\":0,\"ticks\":\"\"},\"colorscale\":[[0.0,\"#0d0887\"],[0.1111111111111111,\"#46039f\"],[0.2222222222222222,\"#7201a8\"],[0.3333333333333333,\"#9c179e\"],[0.4444444444444444,\"#bd3786\"],[0.5555555555555556,\"#d8576b\"],[0.6666666666666666,\"#ed7953\"],[0.7777777777777778,\"#fb9f3a\"],[0.8888888888888888,\"#fdca26\"],[1.0,\"#f0f921\"]]}],\"heatmapgl\":[{\"type\":\"heatmapgl\",\"colorbar\":{\"outlinewidth\":0,\"ticks\":\"\"},\"colorscale\":[[0.0,\"#0d0887\"],[0.1111111111111111,\"#46039f\"],[0.2222222222222222,\"#7201a8\"],[0.3333333333333333,\"#9c179e\"],[0.4444444444444444,\"#bd3786\"],[0.5555555555555556,\"#d8576b\"],[0.6666666666666666,\"#ed7953\"],[0.7777777777777778,\"#fb9f3a\"],[0.8888888888888888,\"#fdca26\"],[1.0,\"#f0f921\"]]}],\"contourcarpet\":[{\"type\":\"contourcarpet\",\"colorbar\":{\"outlinewidth\":0,\"ticks\":\"\"}}],\"contour\":[{\"type\":\"contour\",\"colorbar\":{\"outlinewidth\":0,\"ticks\":\"\"},\"colorscale\":[[0.0,\"#0d0887\"],[0.1111111111111111,\"#46039f\"],[0.2222222222222222,\"#7201a8\"],[0.3333333333333333,\"#9c179e\"],[0.4444444444444444,\"#bd3786\"],[0.5555555555555556,\"#d8576b\"],[0.6666666666666666,\"#ed7953\"],[0.7777777777777778,\"#fb9f3a\"],[0.8888888888888888,\"#fdca26\"],[1.0,\"#f0f921\"]]}],\"surface\":[{\"type\":\"surface\",\"colorbar\":{\"outlinewidth\":0,\"ticks\":\"\"},\"colorscale\":[[0.0,\"#0d0887\"],[0.1111111111111111,\"#46039f\"],[0.2222222222222222,\"#7201a8\"],[0.3333333333333333,\"#9c179e\"],[0.4444444444444444,\"#bd3786\"],[0.5555555555555556,\"#d8576b\"],[0.6666666666666666,\"#ed7953\"],[0.7777777777777778,\"#fb9f3a\"],[0.8888888888888888,\"#fdca26\"],[1.0,\"#f0f921\"]]}],\"mesh3d\":[{\"type\":\"mesh3d\",\"colorbar\":{\"outlinewidth\":0,\"ticks\":\"\"}}],\"scatter\":[{\"fillpattern\":{\"fillmode\":\"overlay\",\"size\":10,\"solidity\":0.2},\"type\":\"scatter\"}],\"parcoords\":[{\"type\":\"parcoords\",\"line\":{\"colorbar\":{\"outlinewidth\":0,\"ticks\":\"\"}}}],\"scatterpolargl\":[{\"type\":\"scatterpolargl\",\"marker\":{\"colorbar\":{\"outlinewidth\":0,\"ticks\":\"\"}}}],\"bar\":[{\"error_x\":{\"color\":\"#2a3f5f\"},\"error_y\":{\"color\":\"#2a3f5f\"},\"marker\":{\"line\":{\"color\":\"#E5ECF6\",\"width\":0.5},\"pattern\":{\"fillmode\":\"overlay\",\"size\":10,\"solidity\":0.2}},\"type\":\"bar\"}],\"scattergeo\":[{\"type\":\"scattergeo\",\"marker\":{\"colorbar\":{\"outlinewidth\":0,\"ticks\":\"\"}}}],\"scatterpolar\":[{\"type\":\"scatterpolar\",\"marker\":{\"colorbar\":{\"outlinewidth\":0,\"ticks\":\"\"}}}],\"histogram\":[{\"marker\":{\"pattern\":{\"fillmode\":\"overlay\",\"size\":10,\"solidity\":0.2}},\"type\":\"histogram\"}],\"scattergl\":[{\"type\":\"scattergl\",\"marker\":{\"colorbar\":{\"outlinewidth\":0,\"ticks\":\"\"}}}],\"scatter3d\":[{\"type\":\"scatter3d\",\"line\":{\"colorbar\":{\"outlinewidth\":0,\"ticks\":\"\"}},\"marker\":{\"colorbar\":{\"outlinewidth\":0,\"ticks\":\"\"}}}],\"scattermapbox\":[{\"type\":\"scattermapbox\",\"marker\":{\"colorbar\":{\"outlinewidth\":0,\"ticks\":\"\"}}}],\"scatterternary\":[{\"type\":\"scatterternary\",\"marker\":{\"colorbar\":{\"outlinewidth\":0,\"ticks\":\"\"}}}],\"scattercarpet\":[{\"type\":\"scattercarpet\",\"marker\":{\"colorbar\":{\"outlinewidth\":0,\"ticks\":\"\"}}}],\"carpet\":[{\"aaxis\":{\"endlinecolor\":\"#2a3f5f\",\"gridcolor\":\"white\",\"linecolor\":\"white\",\"minorgridcolor\":\"white\",\"startlinecolor\":\"#2a3f5f\"},\"baxis\":{\"endlinecolor\":\"#2a3f5f\",\"gridcolor\":\"white\",\"linecolor\":\"white\",\"minorgridcolor\":\"white\",\"startlinecolor\":\"#2a3f5f\"},\"type\":\"carpet\"}],\"table\":[{\"cells\":{\"fill\":{\"color\":\"#EBF0F8\"},\"line\":{\"color\":\"white\"}},\"header\":{\"fill\":{\"color\":\"#C8D4E3\"},\"line\":{\"color\":\"white\"}},\"type\":\"table\"}],\"barpolar\":[{\"marker\":{\"line\":{\"color\":\"#E5ECF6\",\"width\":0.5},\"pattern\":{\"fillmode\":\"overlay\",\"size\":10,\"solidity\":0.2}},\"type\":\"barpolar\"}],\"pie\":[{\"automargin\":true,\"type\":\"pie\"}]},\"layout\":{\"autotypenumbers\":\"strict\",\"colorway\":[\"#636efa\",\"#EF553B\",\"#00cc96\",\"#ab63fa\",\"#FFA15A\",\"#19d3f3\",\"#FF6692\",\"#B6E880\",\"#FF97FF\",\"#FECB52\"],\"font\":{\"color\":\"#2a3f5f\"},\"hovermode\":\"closest\",\"hoverlabel\":{\"align\":\"left\"},\"paper_bgcolor\":\"white\",\"plot_bgcolor\":\"#E5ECF6\",\"polar\":{\"bgcolor\":\"#E5ECF6\",\"angularaxis\":{\"gridcolor\":\"white\",\"linecolor\":\"white\",\"ticks\":\"\"},\"radialaxis\":{\"gridcolor\":\"white\",\"linecolor\":\"white\",\"ticks\":\"\"}},\"ternary\":{\"bgcolor\":\"#E5ECF6\",\"aaxis\":{\"gridcolor\":\"white\",\"linecolor\":\"white\",\"ticks\":\"\"},\"baxis\":{\"gridcolor\":\"white\",\"linecolor\":\"white\",\"ticks\":\"\"},\"caxis\":{\"gridcolor\":\"white\",\"linecolor\":\"white\",\"ticks\":\"\"}},\"coloraxis\":{\"colorbar\":{\"outlinewidth\":0,\"ticks\":\"\"}},\"colorscale\":{\"sequential\":[[0.0,\"#0d0887\"],[0.1111111111111111,\"#46039f\"],[0.2222222222222222,\"#7201a8\"],[0.3333333333333333,\"#9c179e\"],[0.4444444444444444,\"#bd3786\"],[0.5555555555555556,\"#d8576b\"],[0.6666666666666666,\"#ed7953\"],[0.7777777777777778,\"#fb9f3a\"],[0.8888888888888888,\"#fdca26\"],[1.0,\"#f0f921\"]],\"sequentialminus\":[[0.0,\"#0d0887\"],[0.1111111111111111,\"#46039f\"],[0.2222222222222222,\"#7201a8\"],[0.3333333333333333,\"#9c179e\"],[0.4444444444444444,\"#bd3786\"],[0.5555555555555556,\"#d8576b\"],[0.6666666666666666,\"#ed7953\"],[0.7777777777777778,\"#fb9f3a\"],[0.8888888888888888,\"#fdca26\"],[1.0,\"#f0f921\"]],\"diverging\":[[0,\"#8e0152\"],[0.1,\"#c51b7d\"],[0.2,\"#de77ae\"],[0.3,\"#f1b6da\"],[0.4,\"#fde0ef\"],[0.5,\"#f7f7f7\"],[0.6,\"#e6f5d0\"],[0.7,\"#b8e186\"],[0.8,\"#7fbc41\"],[0.9,\"#4d9221\"],[1,\"#276419\"]]},\"xaxis\":{\"gridcolor\":\"white\",\"linecolor\":\"white\",\"ticks\":\"\",\"title\":{\"standoff\":15},\"zerolinecolor\":\"white\",\"automargin\":true,\"zerolinewidth\":2},\"yaxis\":{\"gridcolor\":\"white\",\"linecolor\":\"white\",\"ticks\":\"\",\"title\":{\"standoff\":15},\"zerolinecolor\":\"white\",\"automargin\":true,\"zerolinewidth\":2},\"scene\":{\"xaxis\":{\"backgroundcolor\":\"#E5ECF6\",\"gridcolor\":\"white\",\"linecolor\":\"white\",\"showbackground\":true,\"ticks\":\"\",\"zerolinecolor\":\"white\",\"gridwidth\":2},\"yaxis\":{\"backgroundcolor\":\"#E5ECF6\",\"gridcolor\":\"white\",\"linecolor\":\"white\",\"showbackground\":true,\"ticks\":\"\",\"zerolinecolor\":\"white\",\"gridwidth\":2},\"zaxis\":{\"backgroundcolor\":\"#E5ECF6\",\"gridcolor\":\"white\",\"linecolor\":\"white\",\"showbackground\":true,\"ticks\":\"\",\"zerolinecolor\":\"white\",\"gridwidth\":2}},\"shapedefaults\":{\"line\":{\"color\":\"#2a3f5f\"}},\"annotationdefaults\":{\"arrowcolor\":\"#2a3f5f\",\"arrowhead\":0,\"arrowwidth\":1},\"geo\":{\"bgcolor\":\"white\",\"landcolor\":\"#E5ECF6\",\"subunitcolor\":\"white\",\"showland\":true,\"showlakes\":true,\"lakecolor\":\"white\"},\"title\":{\"x\":0.05},\"mapbox\":{\"style\":\"light\"}}}},                        {\"responsive\": true}                    ).then(function(){\n",
       "                            Plotly.addFrames('732fea68-f7ea-4c8d-99ed-f1836de8c60e', [{\"layout\":{\"scene\":{\"camera\":{\"eye\":{\"x\":1.25,\"y\":1.25,\"z\":0.8}}}}},{\"layout\":{\"scene\":{\"camera\":{\"eye\":{\"x\":1.3685469774060675,\"y\":1.1189634357889973,\"z\":0.8}}}}},{\"layout\":{\"scene\":{\"camera\":{\"eye\":{\"x\":1.4734198857953784,\"y\":0.9767465588077254,\"z\":0.8}}}}},{\"layout\":{\"scene\":{\"camera\":{\"eye\":{\"x\":1.5635708697336819,\"y\":0.824770353080333,\"z\":0.8}}}}},{\"layout\":{\"scene\":{\"camera\":{\"eye\":{\"x\":1.6380991703894194,\"y\":0.6645533146177932,\"z\":0.8}}}}},{\"layout\":{\"scene\":{\"camera\":{\"eye\":{\"x\":1.6962601256182197,\"y\":0.4976962791077122,\"z\":0.8}}}}},{\"layout\":{\"scene\":{\"camera\":{\"eye\":{\"x\":1.737472610380892,\"y\":0.32586642689330336,\"z\":0.8}}}}},{\"layout\":{\"scene\":{\"camera\":{\"eye\":{\"x\":1.7613248431527242,\"y\":0.15078062505849654,\"z\":0.8}}}}},{\"layout\":{\"scene\":{\"camera\":{\"eye\":{\"x\":1.7675785003083602,\"y\":-0.025811726940446755,\"z\":0.8}}}}},{\"layout\":{\"scene\":{\"camera\":{\"eye\":{\"x\":1.7561710973726847,\"y\":-0.20214617669602375,\"z\":0.8}}}}},{\"layout\":{\"scene\":{\"camera\":{\"eye\":{\"x\":1.7272166133450453,\"y\":-0.376460848674696,\"z\":0.8}}}}},{\"layout\":{\"scene\":{\"camera\":{\"eye\":{\"x\":1.6810043518587658,\"y\":-0.5470140482948226,\"z\":0.8}}}}},{\"layout\":{\"scene\":{\"camera\":{\"eye\":{\"x\":1.6179960505548747,\"y\":-0.7121016643631912,\"z\":0.8}}}}},{\"layout\":{\"scene\":{\"camera\":{\"eye\":{\"x\":1.5388212675522255,\"y\":-0.870074195990757,\"z\":0.8}}}}},{\"layout\":{\"scene\":{\"camera\":{\"eye\":{\"x\":1.4442710911108763,\"y\":-1.0193532338602744,\"z\":0.8}}}}},{\"layout\":{\"scene\":{\"camera\":{\"eye\":{\"x\":1.3352902353396967,\"y\":-1.1584472311704395,\"z\":0.8}}}}},{\"layout\":{\"scene\":{\"camera\":{\"eye\":{\"x\":1.2129676009252703,\"y\":-1.2859664066784924,\"z\":0.8}}}}},{\"layout\":{\"scene\":{\"camera\":{\"eye\":{\"x\":1.0785253951961797,\"y\":-1.4006366309349918,\"z\":0.8}}}}},{\"layout\":{\"scene\":{\"camera\":{\"eye\":{\"x\":0.9333069202313851,\"y\":-1.5013121569641028,\"z\":0.8}}}}},{\"layout\":{\"scene\":{\"camera\":{\"eye\":{\"x\":0.7787631510298885,\"y\":-1.5869870681886475,\"z\":0.8}}}}},{\"layout\":{\"scene\":{\"camera\":{\"eye\":{\"x\":0.6164382378481742,\"y\":-1.6568053292160303,\"z\":0.8}}}}},{\"layout\":{\"scene\":{\"camera\":{\"eye\":{\"x\":0.44795407756127026,\"y\":-1.710069339060914,\"z\":0.8}}}}},{\"layout\":{\"scene\":{\"camera\":{\"eye\":{\"x\":0.27499410820530534,\"y\":-1.7462469013436699,\"z\":0.8}}}}},{\"layout\":{\"scene\":{\"camera\":{\"eye\":{\"x\":0.09928648862111944,\"y\":-1.7649765418206806,\"z\":0.8}}}}},{\"layout\":{\"scene\":{\"camera\":{\"eye\":{\"x\":-0.07741316873761894,\"y\":-1.7660711201154955,\"z\":0.8}}}}},{\"layout\":{\"scene\":{\"camera\":{\"eye\":{\"x\":-0.25333933930372143,\"y\":-1.7495196995636126,\"z\":0.8}}}}},{\"layout\":{\"scene\":{\"camera\":{\"eye\":{\"x\":-0.4267342269343539,\"y\":-1.7154876564880144,\"z\":0.8}}}}},{\"layout\":{\"scene\":{\"camera\":{\"eye\":{\"x\":-0.5958653272290393,\"y\":-1.6643150278136138,\"z\":0.8}}}}},{\"layout\":{\"scene\":{\"camera\":{\"eye\":{\"x\":-0.7590427381409421,\"y\":-1.5965131135307038,\"z\":0.8}}}}},{\"layout\":{\"scene\":{\"camera\":{\"eye\":{\"x\":-0.9146360449195108,\"y\":-1.5127593679544658,\"z\":0.8}}}}},{\"layout\":{\"scene\":{\"camera\":{\"eye\":{\"x\":-1.0610906106757227,\"y\":-1.4138906308253907,\"z\":0.8}}}}},{\"layout\":{\"scene\":{\"camera\":{\"eye\":{\"x\":-1.196943109799986,\"y\":-1.3008947658832124,\"z\":0.8}}}}},{\"layout\":{\"scene\":{\"camera\":{\"eye\":{\"x\":-1.3208361490279166,\"y\":-1.1749007904589663,\"z\":0.8}}}}},{\"layout\":{\"scene\":{\"camera\":{\"eye\":{\"x\":-1.431531830065142,\"y\":-1.0371675947070202,\"z\":0.8}}}}},{\"layout\":{\"scene\":{\"camera\":{\"eye\":{\"x\":-1.5279241182578656,\"y\":-0.8890713631907865,\"z\":0.8}}}}},{\"layout\":{\"scene\":{\"camera\":{\"eye\":{\"x\":-1.6090498937255202,\"y\":-0.7320918245014705,\"z\":0.8}}}}},{\"layout\":{\"scene\":{\"camera\":{\"eye\":{\"x\":-1.6740985745362496,\"y\":-0.5677974662991182,\"z\":0.8}}}}},{\"layout\":{\"scene\":{\"camera\":{\"eye\":{\"x\":-1.7224202157736266,\"y\":-0.39782986350239324,\"z\":0.8}}}}},{\"layout\":{\"scene\":{\"camera\":{\"eye\":{\"x\":-1.7535320035714197,\"y\":-0.22388727621462157,\"z\":0.8}}}}},{\"layout\":{\"scene\":{\"camera\":{\"eye\":{\"x\":-1.7671230792301427,\"y\":-0.04770768127020719,\"z\":0.8}}}}},{\"layout\":{\"scene\":{\"camera\":{\"eye\":{\"x\":-1.7630576452144253,\"y\":0.1289485930553954,\"z\":0.8}}}}},{\"layout\":{\"scene\":{\"camera\":{\"eye\":{\"x\":-1.741376321997099,\"y\":0.30431645566392784,\"z\":0.8}}}}},{\"layout\":{\"scene\":{\"camera\":{\"eye\":{\"x\":-1.7022957421928595,\"y\":0.47664368884111097,\"z\":0.8}}}}},{\"layout\":{\"scene\":{\"camera\":{\"eye\":{\"x\":-1.646206386036788,\"y\":0.6442084558368493,\"z\":0.8}}}}},{\"layout\":{\"scene\":{\"camera\":{\"eye\":{\"x\":-1.573668679834919,\"y\":0.8053365048888708,\"z\":0.8}}}}},{\"layout\":{\"scene\":{\"camera\":{\"eye\":{\"x\":-1.4854073963698458,\"y\":0.9584178977928967,\"z\":0.8}}}}},{\"layout\":{\"scene\":{\"camera\":{\"eye\":{\"x\":-1.3823044132106481,\"y\":1.101923095873013,\"z\":0.8}}}}},{\"layout\":{\"scene\":{\"camera\":{\"eye\":{\"x\":-1.2653899012837393,\"y\":1.2344182426265127,\"z\":0.8}}}}},{\"layout\":{\"scene\":{\"camera\":{\"eye\":{\"x\":-1.1358320317454915,\"y\":1.3545794903441097,\"z\":0.8}}}}},{\"layout\":{\"scene\":{\"camera\":{\"eye\":{\"x\":-0.9949253040021958,\"y\":1.4612062275586353,\"z\":0.8}}}}},{\"layout\":{\"scene\":{\"camera\":{\"eye\":{\"x\":-0.8440776114998902,\"y\":1.553233075157956,\"z\":0.8}}}}},{\"layout\":{\"scene\":{\"camera\":{\"eye\":{\"x\":-0.6847961745184389,\"y\":1.6297405313008917,\"z\":0.8}}}}},{\"layout\":{\"scene\":{\"camera\":{\"eye\":{\"x\":-0.5186724805247199,\"y\":1.6899641587756626,\"z\":0.8}}}}},{\"layout\":{\"scene\":{\"camera\":{\"eye\":{\"x\":-0.347366382555924,\"y\":1.733302223003828,\"z\":0.8}}}}},{\"layout\":{\"scene\":{\"camera\":{\"eye\":{\"x\":-0.17258951451669058,\"y\":1.7593217043732774,\"z\":0.8}}}}},{\"layout\":{\"scene\":{\"camera\":{\"eye\":{\"x\":0.0039118109010850555,\"y\":1.767762624827065,\"z\":0.8}}}}},{\"layout\":{\"scene\":{\"camera\":{\"eye\":{\"x\":0.18037405079741164,\"y\":1.7585406454782138,\"z\":0.8}}}}},{\"layout\":{\"scene\":{\"camera\":{\"eye\":{\"x\":0.3550340528019027,\"y\":1.7317479092959966,\"z\":0.8}}}}},{\"layout\":{\"scene\":{\"camera\":{\"eye\":{\"x\":0.5261466719094534,\"y\":1.6876521204438448,\"z\":0.8}}}}},{\"layout\":{\"scene\":{\"camera\":{\"eye\":{\"x\":0.6920022073922499,\"y\":1.62669386946784,\"z\":0.8}}}}},{\"layout\":{\"scene\":{\"camera\":{\"eye\":{\"x\":0.8509434855643001,\"y\":1.5494822310616148,\"z\":0.8}}}}},{\"layout\":{\"scene\":{\"camera\":{\"eye\":{\"x\":1.001382417713112,\"y\":1.4567886783933495,\"z\":0.8}}}}},{\"layout\":{\"scene\":{\"camera\":{\"eye\":{\"x\":1.1418158677571515,\"y\":1.3495393748008924,\"z\":0.8}}}}},{\"layout\":{\"scene\":{\"camera\":{\"eye\":{\"x\":1.270840671084707,\"y\":1.2288059198738308,\"z\":0.8}}}}},{\"layout\":{\"scene\":{\"camera\":{\"eye\":{\"x\":1.3871676545108578,\"y\":1.0957946423846239,\"z\":0.8}}}}},{\"layout\":{\"scene\":{\"camera\":{\"eye\":{\"x\":1.4896345172697987,\"y\":0.9518345470502599,\"z\":0.8}}}}},{\"layout\":{\"scene\":{\"camera\":{\"eye\":{\"x\":1.577217444339885,\"y\":0.7983640355564382,\"z\":0.8}}}}},{\"layout\":{\"scene\":{\"camera\":{\"eye\":{\"x\":1.6490413360648972,\"y\":0.6369165345234014,\"z\":0.8}}}}},{\"layout\":{\"scene\":{\"camera\":{\"eye\":{\"x\":1.7043885518605422,\"y\":0.46910517401401974,\"z\":0.8}}}}},{\"layout\":{\"scene\":{\"camera\":{\"eye\":{\"x\":1.742706080641946,\"y\":0.2966066696714459,\"z\":0.8}}}}},{\"layout\":{\"scene\":{\"camera\":{\"eye\":{\"x\":1.7636110663276172,\"y\":0.12114456953064445,\"z\":0.8}}}}},{\"layout\":{\"scene\":{\"camera\":{\"eye\":{\"x\":1.766894633210853,\"y\":-0.05552796710383823,\"z\":0.8}}}}},{\"layout\":{\"scene\":{\"camera\":{\"eye\":{\"x\":1.7525239729767597,\"y\":-0.23164568664612328,\"z\":0.8}}}}},{\"layout\":{\"scene\":{\"camera\":{\"eye\":{\"x\":1.7206426725120867,\"y\":-0.4054488790593255,\"z\":0.8}}}}},{\"layout\":{\"scene\":{\"camera\":{\"eye\":{\"x\":1.6715692792325216,\"y\":-0.5752009602965458,\"z\":0.8}}}}},{\"layout\":{\"scene\":{\"camera\":{\"eye\":{\"x\":1.605794118262206,\"y\":-0.7392058236746413,\"z\":0.8}}}}},{\"layout\":{\"scene\":{\"camera\":{\"eye\":{\"x\":1.5239743932671765,\"y\":-0.8958247868115395,\"z\":0.8}}}}},{\"layout\":{\"scene\":{\"camera\":{\"eye\":{\"x\":1.426927619893581,\"y\":-1.04349296479892,\"z\":0.8}}}}},{\"layout\":{\"scene\":{\"camera\":{\"eye\":{\"x\":1.3156234574215673,\"y\":-1.180734906014945,\"z\":0.8}}}}},{\"layout\":{\"scene\":{\"camera\":{\"eye\":{\"x\":1.1911740202502938,\"y\":-1.3061793343491364,\"z\":0.8}}}}},{\"layout\":{\"scene\":{\"camera\":{\"eye\":{\"x\":1.0548227660184604,\"y\":-1.4185728505399942,\"z\":0.8}}}}},{\"layout\":{\"scene\":{\"camera\":{\"eye\":{\"x\":0.9079320713866189,\"y\":-1.5167924557260966,\"z\":0.8}}}}},{\"layout\":{\"scene\":{\"camera\":{\"eye\":{\"x\":0.7519696196199205,\"y\":-1.599856772079511,\"z\":0.8}}}}},{\"layout\":{\"scene\":{\"camera\":{\"eye\":{\"x\":0.5884937359820905,\"y\":-1.6669358484086425,\"z\":0.8}}}}},{\"layout\":{\"scene\":{\"camera\":{\"eye\":{\"x\":0.41913781746449363,\"y\":-1.7173594527562077,\"z\":0.8}}}}},{\"layout\":{\"scene\":{\"camera\":{\"eye\":{\"x\":0.24559401242333323,\"y\":-1.7506237691353923,\"z\":0.8}}}}},{\"layout\":{\"scene\":{\"camera\":{\"eye\":{\"x\":0.06959631319262605,\"y\":-1.7663964314926572,\"z\":0.8}}}}},{\"layout\":{\"scene\":{\"camera\":{\"eye\":{\"x\":-0.10709676939402235,\"y\":-1.7645198445994774,\"z\":0.8}}}}},{\"layout\":{\"scene\":{\"camera\":{\"eye\":{\"x\":-0.2827197764623679,\"y\":-1.745012758691772,\"z\":0.8}}}}},{\"layout\":{\"scene\":{\"camera\":{\"eye\":{\"x\":-0.45551794097903464,\"y\":-1.7080700821237462,\"z\":0.8}}}}},{\"layout\":{\"scene\":{\"camera\":{\"eye\":{\"x\":-0.6237647208036504,\"y\":-1.6540609339080419,\"z\":0.8}}}}},{\"layout\":{\"scene\":{\"camera\":{\"eye\":{\"x\":-0.7857790497271997,\"y\":-1.58352495560058,\"z\":0.8}}}}},{\"layout\":{\"scene\":{\"camera\":{\"eye\":{\"x\":-0.9399421341298975,\"y\":-1.4971669193805124,\"z\":0.8}}}}},{\"layout\":{\"scene\":{\"camera\":{\"eye\":{\"x\":-1.0847136274319271,\"y\":-1.3958496861995813,\"z\":0.8}}}}},{\"layout\":{\"scene\":{\"camera\":{\"eye\":{\"x\":-1.218647020727311,\"y\":-1.2805855843607052,\"z\":0.8}}}}},{\"layout\":{\"scene\":{\"camera\":{\"eye\":{\"x\":-1.3404040958227346,\"y\":-1.1525262946682115,\"z\":0.8}}}}},{\"layout\":{\"scene\":{\"camera\":{\"eye\":{\"x\":-1.448768296271385,\"y\":-1.0129513432139317,\"z\":0.8}}}}},{\"layout\":{\"scene\":{\"camera\":{\"eye\":{\"x\":-1.5426568828028173,\"y\":-0.8632553167754569,\"z\":0.8}}}}},{\"layout\":{\"scene\":{\"camera\":{\"eye\":{\"x\":-1.6211317516958519,\"y\":-0.7049339285660311,\"z\":0.8}}}}},{\"layout\":{\"scene\":{\"camera\":{\"eye\":{\"x\":-1.6834088080008527,\"y\":-0.5395690735625494,\"z\":0.8}}}}},{\"layout\":{\"scene\":{\"camera\":{\"eye\":{\"x\":-1.7288657999572776,\"y\":-0.3688130227338533,\"z\":0.8}}}}},{\"layout\":{\"scene\":{\"camera\":{\"eye\":{\"x\":-1.7570485363275825,\"y\":-0.1943719140953739,\"z\":0.8}}}}},{\"layout\":{\"scene\":{\"camera\":{\"eye\":{\"x\":-1.7676754245259283,\"y\":-0.017988705542069106,\"z\":0.8}}}}}]);\n",
       "                        }).then(function(){\n",
       "                            \n",
       "var gd = document.getElementById('732fea68-f7ea-4c8d-99ed-f1836de8c60e');\n",
       "var x = new MutationObserver(function (mutations, observer) {{\n",
       "        var display = window.getComputedStyle(gd).display;\n",
       "        if (!display || display === 'none') {{\n",
       "            console.log([gd, 'removed!']);\n",
       "            Plotly.purge(gd);\n",
       "            observer.disconnect();\n",
       "        }}\n",
       "}});\n",
       "\n",
       "// Listen for the removal of the full notebook cells\n",
       "var notebookContainer = gd.closest('#notebook-container');\n",
       "if (notebookContainer) {{\n",
       "    x.observe(notebookContainer, {childList: true});\n",
       "}}\n",
       "\n",
       "// Listen for the clearing of the current output cell\n",
       "var outputEl = gd.closest('.output');\n",
       "if (outputEl) {{\n",
       "    x.observe(outputEl, {childList: true});\n",
       "}}\n",
       "\n",
       "                        })                };                });            </script>        </div>"
      ]
     },
     "metadata": {},
     "output_type": "display_data"
    }
   ],
   "source": [
    "x,y,z = xyz[:,0], xyz[:,1], xyz[:,2]\n",
    "visualize_rotate([go.Mesh3d(x=x, y=y, z=z, color='lightpink', opacity=0.50)]).show()"
   ]
  },
  {
   "cell_type": "code",
   "execution_count": 8,
   "id": "fcd4320d",
   "metadata": {
    "scrolled": true
   },
   "outputs": [
    {
     "data": {
      "application/vnd.plotly.v1+json": {
       "config": {
        "plotlyServerURL": "https://plot.ly"
       },
       "data": [
        {
         "mode": "markers",
         "type": "scatter3d",
         "x": [
          0.3728894591331482,
          0.3728436827659607,
          0.37357214093208313,
          0.37372514605522156,
          0.3735487759113312,
          0.37436115741729736,
          0.3745102286338806,
          0.3744974732398987,
          0.37432152032852173,
          0.373816579580307,
          0.37513411045074463,
          0.375442236661911,
          0.37542882561683655,
          0.37509122490882874,
          0.3745897710323334,
          0.3757619559764862,
          0.3760637044906616,
          0.37620797753334045,
          0.3760329484939575,
          0.3758578896522522,
          0.3753599226474762,
          0.3767082393169403,
          0.3766891062259674,
          0.37682899832725525,
          0.37697067856788635,
          0.37679606676101685,
          0.37662145495414734,
          0.3761270046234131,
          0.37745991349220276,
          0.37743890285491943,
          0.3775750398635864,
          0.3777129650115967,
          0.3775383532047272,
          0.3775213360786438,
          0.37718909978866577,
          0.3766975402832031,
          0.37829455733299255,
          0.37827226519584656,
          0.37840545177459717,
          0.37838539481163025,
          0.3783662021160126,
          0.3781920373439789,
          0.3780178725719452,
          0.37768691778182983,
          0.37892794609069824,
          0.379055380821228,
          0.3790320158004761,
          0.37916257977485657,
          0.3791414201259613,
          0.3789672553539276,
          0.3789474368095398,
          0.37861892580986023,
          0.37828949093818665,
          0.3796088993549347,
          0.37988337874412537,
          0.37985873222351074,
          0.37983500957489014,
          0.3798121511936188,
          0.37979018688201904,
          0.37961646914482117,
          0.3794427216053009,
          0.3789619207382202,
          0.3780174255371094,
          0.38051605224609375,
          0.38063791394233704,
          0.38061219453811646,
          0.3805873692035675,
          0.3805634379386902,
          0.3803897202014923,
          0.38021597266197205,
          0.38004225492477417,
          0.379564493894577,
          0.3787800967693329,
          0.3811935782432556,
          0.38145923614501953,
          0.38128462433815,
          0.381258100271225,
          0.38123244047164917,
          0.3810587227344513,
          0.38088497519493103,
          0.38071125745773315,
          0.38038724660873413,
          0.37976083159446716,
          0.3817613422870636,
          0.3820211887359619,
          0.3819919526576996,
          0.3819636404514313,
          0.3819361925125122,
          0.38176247477531433,
          0.38158875703811646,
          0.3814150094985962,
          0.3812412917613983,
          0.38076967000961304,
          0.37984809279441833,
          0.38265693187713623,
          0.3827691674232483,
          0.38273885846138,
          0.38270944356918335,
          0.3825357258319855,
          0.38250765204429626,
          0.3823343515396118,
          0.38201454281806946,
          0.3818408250808716,
          0.38137224316596985,
          0.38287222385406494,
          0.3834044635295868,
          0.38351407647132874,
          0.3834826946258545,
          0.3833089768886566,
          0.38327890634536743,
          0.38310563564300537,
          0.3829323351383209,
          0.38261404633522034,
          0.38244032859802246,
          0.3818289339542389,
          0.3836592733860016,
          0.3841838538646698,
          0.384149968624115,
          0.3841169774532318,
          0.38394322991371155,
          0.3839115500450134,
          0.38373827934265137,
          0.3835650086402893,
          0.38324832916259766,
          0.3830746114253998,
          0.38261231780052185,
          0.384443074464798,
          0.384821355342865,
          0.38478586077690125,
          0.38475123047828674,
          0.38471749424934387,
          0.3845442235469818,
          0.38437092304229736,
          0.3841976523399353,
          0.38402435183525085,
          0.3837088644504547,
          0.38324981927871704,
          0.38235974311828613,
          0.38552871346473694,
          0.38549140095710754,
          0.3854549825191498,
          0.38541945815086365,
          0.3852461576461792,
          0.38507288694381714,
          0.3848995864391327,
          0.38472631573677063,
          0.38441261649131775,
          0.38409802317619324,
          0.38349995017051697,
          0.38596591353416443,
          0.38619697093963623,
          0.3861587345600128,
          0.38598501682281494,
          0.38594815135002136,
          0.3857748508453369,
          0.38560158014297485,
          0.3854282796382904,
          0.38525500893592834,
          0.3849426507949829,
          0.38448992371559143,
          0.3863123655319214,
          0.3868037164211273,
          0.38676318526268005,
          0.38672351837158203,
          0.38668474555015564,
          0.3865114748477936,
          0.38647404313087463,
          0.386301189661026,
          0.3859916031360626,
          0.38581833243370056,
          0.3855074346065521,
          0.38478145003318787,
          0.38715073466300964,
          0.38750356435775757,
          0.3874620199203491,
          0.38728830218315125,
          0.38724809885025024,
          0.3872087597846985,
          0.38703593611717224,
          0.3868630826473236,
          0.3865549564361572,
          0.3862459361553192,
          0.38593602180480957,
          0.3850787281990051,
          0.3879833221435547,
          0.3880697786808014,
          0.38802680373191833,
          0.3879847228527069,
          0.38781142234802246,
          0.3877706527709961,
          0.38759782910346985,
          0.3874249756336212,
          0.38711827993392944,
          0.38681069016456604,
          0.3863674998283386,
          0.38824915885925293,
          0.3887162208557129,
          0.38867083191871643,
          0.3886263072490692,
          0.388582706451416,
          0.38853996992111206,
          0.3883671164512634,
          0.3881942927837372,
          0.38802143931388855,
          0.38771626353263855,
          0.3874102234840393,
          0.38683685660362244,
          0.38898617029190063,
          0.38944604992866516,
          0.38927188515663147,
          0.3892258405685425,
          0.3891806900501251,
          0.3891364336013794,
          0.38896358013153076,
          0.3887907564640045,
          0.3886179029941559,
          0.38831427693367004,
          0.3880097568035126,
          0.3873092830181122,
          0.38975533843040466,
          0.3900819420814514,
          0.3900338411331177,
          0.3898600935935974,
          0.3898133337497711,
          0.38976746797561646,
          0.3895946145057678,
          0.3895500600337982,
          0.38924893736839294,
          0.38894692063331604,
          0.3886440098285675,
          0.38795003294944763,
          0.39039769768714905,
          0.3907178044319153,
          0.3906680941581726,
          0.39049437642097473,
          0.3904459774494171,
          0.3903985023498535,
          0.3903518617153168,
          0.39017948508262634,
          0.38987997174263,
          0.38957956433296204,
          0.38927826285362244,
          0.38871920108795166,
          0.39104005694389343,
          0.39135369658470154,
          0.3913023769855499,
          0.39112862944602966,
          0.3910786211490631,
          0.3910295069217682,
          0.3909812867641449,
          0.3908088803291321,
          0.39051100611686707,
          0.39021220803260803,
          0.38991254568099976,
          0.3893583416938782,
          0.391477108001709,
          0.39190372824668884,
          0.39185023307800293,
          0.39179766178131104,
          0.391745924949646,
          0.391695111989975,
          0.3916451632976532,
          0.39147278666496277,
          0.39130038022994995,
          0.3908795118331909,
          0.39058154821395874,
          0.3901575803756714,
          0.3893551528453827,
          0.3925761580467224,
          0.3925209641456604,
          0.39246666431427,
          0.3924132287502289,
          0.39236071705818176,
          0.3923090696334839,
          0.39213666319847107,
          0.39196428656578064,
          0.3916693329811096,
          0.39137354493141174,
          0.3909534215927124,
          0.3901599645614624,
          0.3931313157081604,
          0.39319169521331787,
          0.393135666847229,
          0.39308056235313416,
          0.39302632212638855,
          0.3929729759693146,
          0.39280056953430176,
          0.39262816309928894,
          0.3923349380493164,
          0.39204084873199463,
          0.3916241526603699,
          0.3909613788127899,
          0.3935742974281311,
          0.39386239647865295,
          0.3938046991825104,
          0.39374786615371704,
          0.39369192719459534,
          0.3936368525028229,
          0.39346444606781006,
          0.39329206943511963,
          0.3930005431175232,
          0.3927081525325775,
          0.3924148678779602,
          0.39175936579704285,
          0.394137978553772,
          0.3945331275463104,
          0.39447370171546936,
          0.3944151699542999,
          0.39435750246047974,
          0.39430075883865356,
          0.39412835240364075,
          0.39395594596862793,
          0.39366614818573,
          0.3933754563331604,
          0.3930838704109192,
          0.3925539255142212,
          0.3948590159416199,
          0.39513418078422546,
          0.39507320523262024,
          0.39501315355300903,
          0.39495396614074707,
          0.39489567279815674,
          0.3947232663631439,
          0.3945508897304535,
          0.3942626118659973,
          0.3939734399318695,
          0.39368337392807007,
          0.39315804839134216,
          0.39557698369026184,
          0.3957352340221405,
          0.3956727385520935,
          0.39561113715171814,
          0.3956630229949951,
          0.3954906165599823,
          0.3953182101249695,
          0.39514580368995667,
          0.39485907554626465,
          0.3945714235305786,
          0.39428290724754333,
          0.39353078603744507,
          0.3962918817996979,
          0.39644598960876465,
          0.3963824212551117,
          0.39631974697113037,
          0.3962579369544983,
          0.3960855305194855,
          0.39591315388679504,
          0.3957407474517822,
          0.395455539226532,
          0.3951694071292877,
          0.39476871490478516,
          0.3940238058567047,
          0.39689600467681885,
          0.3970454931259155,
          0.3969804048538208,
          0.3969162106513977,
          0.39685288071632385,
          0.39668047428131104,
          0.3965080678462982,
          0.3963356614112854,
          0.3960520029067993,
          0.3957674205303192,
          0.3952575922012329,
          0.39732256531715393,
          0.3976777195930481,
          0.39761027693748474,
          0.397543728351593,
          0.3975857198238373,
          0.39741331338882446,
          0.39724093675613403,
          0.3970685303211212,
          0.39678671956062317,
          0.3965040147304535,
          0.39622044563293457,
          0.39571452140808105,
          0.39810484647750854,
          0.3982439339160919,
          0.3982803523540497,
          0.39821282029151917,
          0.3981461822986603,
          0.39797377586364746,
          0.39780136942863464,
          0.3976289927959442,
          0.3973486125469208,
          0.3970673680305481,
          0.3966763913631439,
          0.39595574140548706,
          0.3988133668899536,
          0.3989483118057251,
          0.3988783657550812,
          0.3988092839717865,
          0.39874109625816345,
          0.398568719625473,
          0.3983963131904602,
          0.3982239067554474,
          0.3979450762271881,
          0.3976653516292572,
          0.3972774147987366,
          0.39645665884017944,
          0.3994174599647522,
          0.399547815322876,
          0.3994763493537903,
          0.39940574765205383,
          0.399336040019989,
          0.3991636335849762,
          0.39899125695228577,
          0.39881885051727295,
          0.39854153990745544,
          0.3981580138206482,
          0.3977726697921753,
          0.39976370334625244,
          0.4001864194869995,
          0.40021297335624695,
          0.4001404941082001,
          0.40006887912750244,
          0.399896502494812,
          0.3997240960597992,
          0.3995516896247864,
          0.3992762863636017,
          0.398999959230423,
          0.398722767829895,
          0.3980272710323334,
          0.40069571137428284,
          0.4008163511753082,
          0.4007416367530823,
          0.40066781640052795,
          0.4005948603153229,
          0.40052279829978943,
          0.40025007724761963,
          0.4000776708126068,
          0.39980360865592957,
          0.39942651987075806,
          0.3990476727485657,
          0.40111586451530457,
          0.4014233350753784,
          0.40144360065460205,
          0.40136799216270447,
          0.40129324793815613,
          0.4012193977832794,
          0.4009484350681305,
          0.4007760286331177,
          0.4005037546157837,
          0.40023061633110046,
          0.3998557925224304,
          0.401700496673584,
          0.40199899673461914,
          0.4020153880119324,
          0.4019376337528229,
          0.40195712447166443,
          0.4018815755844116,
          0.4017096161842346,
          0.40143993496894836,
          0.4011693596839905,
          0.40089792013168335,
          0.4006255567073822,
          0.399854838848114,
          0.40263649821281433,
          0.4026496708393097,
          0.40257027745246887,
          0.40258654952049255,
          0.4025093615055084,
          0.4023374021053314,
          0.4020693600177765,
          0.40180039405822754,
          0.40153056383132935,
          0.4012598395347595,
          0.4004988372325897,
          0.4032739996910095,
          0.4032839238643646,
          0.40320292115211487,
          0.4032159447669983,
          0.4031371474266052,
          0.40287116169929504,
          0.4026987552642822,
          0.4024314284324646,
          0.40216320753097534,
          0.401798278093338,
          0.40114280581474304,
          0.4039115011692047,
          0.40391820669174194,
          0.40383556485176086,
          0.4038453698158264,
          0.4036729633808136,
          0.4035005569458008,
          0.40332818031311035,
          0.40306246280670166,
          0.40279585123062134,
          0.40243417024612427,
          0.40178677439689636,
          0.4045490026473999,
          0.4045524597167969,
          0.40446820855140686,
          0.40447476506233215,
          0.4043023884296417,
          0.4041299819946289,
          0.4039575755596161,
          0.4036934971809387,
          0.40342849493026733,
          0.4030700623989105,
          0.4024307429790497,
          0.4051865041255951,
          0.4051867425441742,
          0.40510085225105286,
          0.4051041901111603,
          0.40493178367614746,
          0.40475937724113464,
          0.4045870006084442,
          0.4043245315551758,
          0.40406113862991333,
          0.4037059247493744,
          0.403074711561203,
          0.4058240056037903,
          0.4058209955692291,
          0.40573349595069885,
          0.4057336151599884,
          0.4055612087249756,
          0.40538880228996277,
          0.40521639585494995,
          0.40495553612709045,
          0.4046938121318817,
          0.40434181690216064,
          0.40618425607681274,
          0.4065104126930237,
          0.40642049908638,
          0.40633150935173035,
          0.4063285291194916,
          0.40615612268447876,
          0.40598374605178833,
          0.4057248532772064,
          0.4055519998073578,
          0.4052917957305908,
          0.4049428701400757,
          0.4068763554096222,
          0.4071114659309387,
          0.4071027636528015,
          0.4070126712322235,
          0.40692347288131714,
          0.4067510664463043,
          0.4065786600112915,
          0.40632131695747375,
          0.4060630798339844,
          0.40580394864082336,
          0.4053713381290436,
          0.4075653851032257,
          0.40771251916885376,
          0.407700777053833,
          0.40760913491249084,
          0.4075183868408203,
          0.4073460102081299,
          0.40709060430526733,
          0.4069177806377411,
          0.4066610634326935,
          0.40640345215797424,
          0.40589070320129395,
          0.4082513451576233,
          0.4083928167819977,
          0.4082987606525421,
          0.4082055985927582,
          0.40803274512290955,
          0.4078599214553833,
          0.40768706798553467,
          0.4075142443180084,
          0.4072590470314026,
          0.4070029854774475,
          0.40641310811042786,
          0.40893423557281494,
          0.40899232029914856,
          0.4088967442512512,
          0.4088020622730255,
          0.4086292088031769,
          0.40845638513565063,
          0.408283531665802,
          0.40811070799827576,
          0.4078570306301117,
          0.40752124786376953,
          0.40685686469078064,
          0.40957337617874146,
          0.4096266031265259,
          0.4095293879508972,
          0.4094330966472626,
          0.40926024317741394,
          0.4090874195098877,
          0.40891456604003906,
          0.40874171257019043,
          0.4084896743297577,
          0.4081571400165558,
          0.4075024724006653,
          0.41025158762931824,
          0.41022610664367676,
          0.4101274013519287,
          0.4100295603275299,
          0.4098567068576813,
          0.40968388319015503,
          0.4095110297203064,
          0.40926095843315125,
          0.4090876877307892,
          0.40875816345214844,
          0.4106680452823639,
          0.4109267592430115,
          0.4108986556529999,
          0.4107988476753235,
          0.41062602400779724,
          0.4104531705379486,
          0.41028034687042236,
          0.41010749340057373,
          0.40985894203186035,
          0.40960952639579773,
          0.4092060625553131,
          0.4113488793373108,
          0.4115278124809265,
          0.41149666905403137,
          0.4113953113555908,
          0.4112224876880646,
          0.41104963421821594,
          0.4108767807483673,
          0.41070395708084106,
          0.41045695543289185,
          0.410209059715271,
          0.4098101854324341,
          0.41202667355537415,
          0.41212886571884155,
          0.4120946526527405,
          0.41199177503585815,
          0.4118189513683319,
          0.4116460978984833,
          0.41147324442863464,
          0.4113004207611084,
          0.41105493903160095,
          0.4108085632324219,
          0.4103407561779022,
          0.41270139813423157,
          0.4127979278564453,
          0.4126926362514496,
          0.4125882387161255,
          0.412484735250473,
          0.4123123288154602,
          0.412069708108902,
          0.4118262231349945,
          0.41165292263031006,
          0.4113365411758423,
          0.4108743965625763,
          0.41337308287620544,
          0.4133974313735962,
          0.4132906198501587,
          0.4131847023963928,
          0.4130796790122986,
          0.41290727257728577,
          0.4126661717891693,
          0.4124242067337036,
          0.41225090622901917,
          0.4119375944137573,
          0.4114815592765808,
          0.41394779086112976,
          0.4140317142009735,
          0.4139232635498047,
          0.4138157367706299,
          0.4137090742588043,
          0.4135366678237915,
          0.41329720616340637,
          0.4131243824958801,
          0.41288357973098755,
          0.4125734865665436,
          0.41219276189804077,
          0.4145885109901428,
          0.41466596722602844,
          0.41455593705177307,
          0.41444677114486694,
          0.41433849930763245,
          0.41416609287261963,
          0.41392824053764343,
          0.4137553870677948,
          0.41351622343063354,
          0.41320937871932983,
          0.4128335118293762,
          0.41516807675361633,
          0.415238618850708,
          0.41518858075141907,
          0.415077805519104,
          0.4149678945541382,
          0.41479548811912537,
          0.41462311148643494,
          0.41438642144203186,
          0.41414886713027954,
          0.4139104187488556,
          0.413539856672287,
          0.4157620668411255,
          0.4158843457698822,
          0.41583025455474854,
          0.41577795147895813,
          0.41566628217697144,
          0.4154938757419586,
          0.4153214693069458,
          0.4150865972042084,
          0.4148508310317993,
          0.41461417078971863,
          0.4143766164779663,
          0.41394543647766113,
          0.41641759872436523,
          0.4164755642414093,
          0.41641920804977417,
          0.416305273771286,
          0.4161922335624695,
          0.41601985692977905,
          0.41584745049476624,
          0.41561391949653625,
          0.41537949442863464,
          0.4151442050933838,
          0.4148455560207367,
          0.41435641050338745,
          0.4171244204044342,
          0.41706404089927673,
          0.4170054495334625,
          0.41689062118530273,
          0.4167182147502899,
          0.4165458083152771,
          0.41631409525871277,
          0.4160814583301544,
          0.41590818762779236,
          0.41567423939704895,
          0.415317177772522,
          0.41764751076698303,
          0.417692095041275,
          0.41768449544906616,
          0.41756734251976013,
          0.41745108366012573,
          0.4172786772251129,
          0.4171062707901001,
          0.4168759882450104,
          0.41664478182792664,
          0.41641274094581604,
          0.4161797761917114,
          0.4157669246196747,
          0.41834598779678345,
          0.418332576751709,
          0.4182131886482239,
          0.418094664812088,
          0.4179770350456238,
          0.41780462861061096,
          0.41763225197792053,
          0.41740331053733826,
          0.41717347502708435,
          0.4169427454471588,
          0.41665327548980713,
          0.41888391971588135,
          0.4189670979976654,
          0.4188973605632782,
          0.41882941126823425,
          0.4186565577983856,
          0.4185374975204468,
          0.41836509108543396,
          0.4181380271911621,
          0.417910099029541,
          0.41773679852485657,
          0.417507529258728,
          0.41716450452804565,
          0.4194736182689667,
          0.41955047845840454,
          0.41947847604751587,
          0.41935673356056213,
          0.41923585534095764,
          0.4190634787082672,
          0.4188382029533386,
          0.41866534948349,
          0.41843876242637634,
          0.41821128129959106,
          0.41798293590545654,
          0.4174782633781433,
          0.420158326625824,
          0.4201311469078064,
          0.4200071692466736,
          0.41988405585289,
          0.4197618365287781,
          0.41953837871551514,
          0.4193655252456665,
          0.4191407263278961,
          0.41896745562553406,
          0.4187413156032562,
          0.41840773820877075,
          0.420738160610199,
          0.42075255513191223,
          0.42067447304725647,
          0.420501172542572,
          0.42037680745124817,
          0.42020395398139954,
          0.4200311303138733,
          0.419808030128479,
          0.41963475942611694,
          0.4194103181362152,
          0.4191334545612335,
          0.42132481932640076,
          0.421331524848938,
          0.4212954342365265,
          0.4211684763431549,
          0.42104241251945496,
          0.4208695590496063,
          0.4206967353820801,
          0.4204753339290619,
          0.42030206322669983,
          0.4200793504714966,
          0.4198557436466217,
          0.41937968134880066,
          0.4219706356525421,
          0.42188501358032227,
          0.4218011200428009,
          0.421673446893692,
          0.4215005934238434,
          0.42132776975631714,
          0.4211079776287079,
          0.4209347069263458,
          0.4207136034965515,
          0.42049163579940796,
          0.4200252890586853,
          0.42253202199935913,
          0.42244288325309753,
          0.4223991334438324,
          0.42226991057395935,
          0.4220970571041107,
          0.42187926173210144,
          0.4217059910297394,
          0.42153269052505493,
          0.4213131368160248,
          0.4210459589958191,
          0.4231258034706116,
          0.42307382822036743,
          0.4230245053768158,
          0.42289313673973083,
          0.4227626621723175,
          0.4225465655326843,
          0.42237329483032227,
          0.4221999943256378,
          0.42198213934898376,
          0.4217633903026581,
          0.42373037338256836,
          0.4236730933189392,
          0.42361849546432495,
          0.42352578043937683,
          0.42335250973701477,
          0.4231792092323303,
          0.42300593852996826,
          0.42279013991355896,
          0.4226164221763611,
          0.42235589027404785,
          0.4243405759334564,
          0.4242404103279114,
          0.4241807758808136,
          0.4241237938404083,
          0.4239504933357239,
          0.4237772226333618,
          0.42360392212867737,
          0.42338964343070984,
          0.42321592569351196,
          0.42291659116744995,
          0.42488133907318115,
          0.4247790575027466,
          0.4247160851955414,
          0.42461779713630676,
          0.4244445264339447,
          0.4242323935031891,
          0.4240586757659912,
          0.42388492822647095,
          0.4235907196998596,
          0.4254903197288513,
          0.42538437247276306,
          0.42531606554985046,
          0.42521411180496216,
          0.4250403940677643,
          0.4248666763305664,
          0.42469292879104614,
          0.4244810938835144,
          0.42419129610061646,
          0.4260298013687134,
          0.42595523595809937,
          0.4258488118648529,
          0.4256742000579834,
          0.4255349934101105,
          0.4253966808319092,
          0.4251866638660431,
          0.42493897676467896,
          0.42664003372192383,
          0.42652830481529236,
          0.42638537287712097,
          0.4262433350086212,
          0.4261021614074707,
          0.4259275496006012,
          0.4257529377937317,
          0.4254726469516754,
          0.42706918716430664,
          0.426955908536911,
          0.4267804026603699,
          0.42663735151290894,
          0.4264622926712036,
          0.42625391483306885,
          0.42768365144729614,
          0.4275367558002472,
          0.4273907542228699,
          0.4272456467151642,
          0.42707014083862305,
          0.4268312156200409,
          0.428117036819458,
          0.4279690682888031,
          0.4278219938278198,
          0.42761629819869995,
          0.42855045199394226,
          0.4283736050128937,
          0.4290192127227783
         ],
         "y": [
          0.1302182674407959,
          0.1339268684387207,
          0.1296071857213974,
          0.13250459730625153,
          0.135721355676651,
          0.12705636024475098,
          0.12996651232242584,
          0.1330137997865677,
          0.1362224817276001,
          0.13980241119861603,
          0.12758344411849976,
          0.1303190290927887,
          0.13334845006465912,
          0.136720210313797,
          0.14029546082019806,
          0.12518760561943054,
          0.12795041501522064,
          0.13082949817180634,
          0.13402201235294342,
          0.1372145265340805,
          0.1407850980758667,
          0.12249452620744705,
          0.12556904554367065,
          0.12846896052360535,
          0.13133656978607178,
          0.1345209926366806,
          0.13770543038845062,
          0.14127133786678314,
          0.1205950379371643,
          0.12367431074380875,
          0.1265837699174881,
          0.1294608861207962,
          0.13264530897140503,
          0.1356518417596817,
          0.13901416957378387,
          0.14258672297000885,
          0.11984952539205551,
          0.12292223423719406,
          0.1258266717195511,
          0.12885896861553192,
          0.13187509775161743,
          0.1350514441728592,
          0.13822779059410095,
          0.14159667491912842,
          0.11744102090597153,
          0.12039053440093994,
          0.12345346808433533,
          0.1263463944196701,
          0.12936890125274658,
          0.13254526257514954,
          0.13554352521896362,
          0.13889794051647186,
          0.14226853847503662,
          0.116831474006176,
          0.11964790523052216,
          0.12270427495241165,
          0.12574449181556702,
          0.12876851856708527,
          0.13177640736103058,
          0.13494466245174408,
          0.13811293244361877,
          0.14166662096977234,
          0.14585502445697784,
          0.11725233495235443,
          0.12018532305955887,
          0.1232319101691246,
          0.1262623369693756,
          0.1292765885591507,
          0.1324448436498642,
          0.1356131136417389,
          0.1387813687324524,
          0.14233846962451935,
          0.14633290469646454,
          0.11664583534002304,
          0.1194455698132515,
          0.12263000011444092,
          0.1256619393825531,
          0.12867772579193115,
          0.13184599578380585,
          0.13501425087451935,
          0.13818252086639404,
          0.1415436714887619,
          0.14532293379306793,
          0.11552269011735916,
          0.11833994090557098,
          0.12139119952917099,
          0.12442628294229507,
          0.12744522094726562,
          0.13061347603797913,
          0.13378173112869263,
          0.13695000112056732,
          0.14011825621128082,
          0.14368218183517456,
          0.1478961706161499,
          0.11594778299331665,
          0.11887862533330917,
          0.12192009389400482,
          0.12494540214538574,
          0.12811365723609924,
          0.13111472129821777,
          0.1342748999595642,
          0.13761845231056213,
          0.14078670740127563,
          0.14435404539108276,
          0.11390411853790283,
          0.1164945438504219,
          0.11941389739513397,
          0.12244558334350586,
          0.12561383843421936,
          0.12862128019332886,
          0.1317814588546753,
          0.13494163751602173,
          0.13828688859939575,
          0.14145515859127045,
          0.14522713422775269,
          0.11381912231445312,
          0.11640102416276932,
          0.11944878101348877,
          0.1224803775548935,
          0.125648632645607,
          0.12865598499774933,
          0.13181616365909576,
          0.1349763423204422,
          0.1383216828107834,
          0.14148995280265808,
          0.14506086707115173,
          0.1137339398264885,
          0.11643598973751068,
          0.11948366463184357,
          0.12251516431570053,
          0.12553051114082336,
          0.1286906898021698,
          0.13185086846351624,
          0.13501104712486267,
          0.1381712257862091,
          0.14152474701404572,
          0.1450958400964737,
          0.14932774007320404,
          0.11519718915224075,
          0.11824800074100494,
          0.121282659471035,
          0.12430114299058914,
          0.12746132910251617,
          0.13062149286270142,
          0.13378167152404785,
          0.13694186508655548,
          0.140292227268219,
          0.14365875720977783,
          0.147454172372818,
          0.11420316249132156,
          0.11701234430074692,
          0.12005013972520828,
          0.12321840971708298,
          0.12623195350170135,
          0.1293921321630478,
          0.13255231082439423,
          0.13571248948574066,
          0.1388726681470871,
          0.14222797751426697,
          0.14580266177654266,
          0.11267083883285522,
          0.11526712775230408,
          0.11831776797771454,
          0.12135224044322968,
          0.12437054514884949,
          0.12753072381019592,
          0.13052478432655334,
          0.13367688655853271,
          0.13701127469539642,
          0.14017145335674286,
          0.14353007078170776,
          0.14752447605133057,
          0.1137542873620987,
          0.1164468377828598,
          0.11948607861995697,
          0.12265433371067047,
          0.12566933035850525,
          0.1286681443452835,
          0.13182023167610168,
          0.13497233390808105,
          0.138310045003891,
          0.14166390895843506,
          0.14503394067287445,
          0.149259552359581,
          0.11482445150613785,
          0.11775226145982742,
          0.12078817188739777,
          0.12380792200565338,
          0.12696810066699982,
          0.12996359169483185,
          0.13311569392681122,
          0.1362677961587906,
          0.13960881531238556,
          0.14296600222587585,
          0.1465444564819336,
          0.11277707666158676,
          0.11537203937768936,
          0.11842241138219833,
          0.12145661562681198,
          0.1244746595621109,
          0.1274765282869339,
          0.13062863051891327,
          0.13378073275089264,
          0.13693282008171082,
          0.14027555286884308,
          0.14363445341587067,
          0.14742310345172882,
          0.11333786696195602,
          0.11591621488332748,
          0.11909256130456924,
          0.1221250593662262,
          0.12514139711856842,
          0.12814156711101532,
          0.1312936693429947,
          0.13444575667381287,
          0.13759785890579224,
          0.1409423053264618,
          0.14430288970470428,
          0.14830517768859863,
          0.11325350403785706,
          0.11595109850168228,
          0.11899159103631973,
          0.12215985357761383,
          0.1251761019229889,
          0.12817618250846863,
          0.131328284740448,
          0.13430412113666534,
          0.13763247430324554,
          0.14097701013088226,
          0.14433768391609192,
          0.14834032952785492,
          0.11328873783349991,
          0.11598597466945648,
          0.11902638524770737,
          0.12219464778900146,
          0.12521080672740936,
          0.12821079790592194,
          0.13119462132453918,
          0.1343386471271515,
          0.13766708970069885,
          0.14101170003414154,
          0.14437247812747955,
          0.14816679060459137,
          0.11332397162914276,
          0.11602085828781128,
          0.119061179459095,
          0.1222294420003891,
          0.12524551153182983,
          0.12824541330337524,
          0.13122914731502533,
          0.13437317311763763,
          0.13770170509815216,
          0.141046404838562,
          0.1444072723388672,
          0.1482018530368805,
          0.11295414716005325,
          0.11554688960313797,
          0.11859681457281113,
          0.12163057923316956,
          0.12464817613363266,
          0.12764960527420044,
          0.1306348741054535,
          0.1337788999080658,
          0.1369229108095169,
          0.14044907689094543,
          0.14380840957164764,
          0.1473911702632904,
          0.15165220201015472,
          0.11494497209787369,
          0.11799643188714981,
          0.12103171646595001,
          0.12405084818601608,
          0.12705381214618683,
          0.13004060089588165,
          0.13318461179733276,
          0.13632863759994507,
          0.13966219127178192,
          0.1430119276046753,
          0.14658352732658386,
          0.15082885324954987,
          0.11446642130613327,
          0.1173960417509079,
          0.12043286114931107,
          0.12345351278781891,
          0.12645800411701202,
          0.12944632768630981,
          0.13259033858776093,
          0.13573434948921204,
          0.13906638324260712,
          0.14241459965705872,
          0.14598314464092255,
          0.15000855922698975,
          0.11410665512084961,
          0.11679565161466599,
          0.11983399838209152,
          0.12285618484020233,
          0.12586219608783722,
          0.12885203957557678,
          0.1319960653781891,
          0.1351400762796402,
          0.1384705901145935,
          0.14181725680828094,
          0.1451800912618637,
          0.14919131994247437,
          0.11362046748399734,
          0.11619526147842407,
          0.11923513561487198,
          0.12225884944200516,
          0.12526638805866241,
          0.12825776636600494,
          0.13140179216861725,
          0.13454580307006836,
          0.1378747820854187,
          0.14121992886066437,
          0.14458124339580536,
          0.14837713539600372,
          0.11417712271213531,
          0.11686541140079498,
          0.11990358680486679,
          0.12292558699846268,
          0.12593142688274384,
          0.12892109155654907,
          0.13206511735916138,
          0.1352091282606125,
          0.13853982090950012,
          0.1418866664171219,
          0.14524967968463898,
          0.14905069768428802,
          0.11473037302494049,
          0.11753556877374649,
          0.120572030544281,
          0.1235923320055008,
          0.12644042074680328,
          0.1295844316482544,
          0.1327284425497055,
          0.1358724683523178,
          0.13920484483242035,
          0.1425534039735794,
          0.1459181308746338,
          0.15014950931072235,
          0.11528021842241287,
          0.11807221174240112,
          0.12109889090061188,
          0.12410939484834671,
          0.1271037459373474,
          0.13024775683879852,
          0.13339176774024963,
          0.13653579354286194,
          0.13986988365650177,
          0.14322015643119812,
          0.14679281413555145,
          0.15104080736637115,
          0.11595378071069717,
          0.11874065548181534,
          0.1217656284570694,
          0.12477443367242813,
          0.12776707112789154,
          0.13091108202934265,
          0.13405510783195496,
          0.13719911873340607,
          0.1405349224805832,
          0.14388689398765564,
          0.1476709246635437,
          0.1144404411315918,
          0.11700493842363358,
          0.12004275619983673,
          0.12306440621614456,
          0.12591518461704254,
          0.12905919551849365,
          0.13220322132110596,
          0.13534723222255707,
          0.13867828249931335,
          0.14202548563480377,
          0.14538885653018951,
          0.14919093251228333,
          0.11551108956336975,
          0.1183103621006012,
          0.1212029978632927,
          0.12421324104070663,
          0.12720732390880585,
          0.13035133481025696,
          0.13349536061286926,
          0.13663937151432037,
          0.1399737298488617,
          0.14332427084445953,
          0.14689746499061584,
          0.1511467844247818,
          0.11605895310640335,
          0.11884503811597824,
          0.12186974287033081,
          0.12487827241420746,
          0.12787064909934998,
          0.1310146600008011,
          0.1341586858034134,
          0.1373026967048645,
          0.14063875377178192,
          0.14399100840091705,
          0.14756761491298676,
          0.1520417481660843,
          0.11673251539468765,
          0.11951348185539246,
          0.12253648042678833,
          0.12554331123828888,
          0.1285339742898941,
          0.1316780000925064,
          0.13482201099395752,
          0.13796602189540863,
          0.14130379259586334,
          0.14485958218574524,
          0.1484476923942566,
          0.1153494268655777,
          0.11777973175048828,
          0.12067507207393646,
          0.12368666380643845,
          0.1266821026802063,
          0.1298261135816574,
          0.13297012448310852,
          0.13611415028572083,
          0.1394471526145935,
          0.1427963376045227,
          0.14616167545318604,
          0.15039615333080292,
          0.1168026328086853,
          0.11958306282758713,
          0.12260588258504868,
          0.1256125420331955,
          0.1286030262708664,
          0.13157735764980316,
          0.1348910629749298,
          0.13803507387638092,
          0.14137302339076996,
          0.14492915570735931,
          0.1485176384449005,
          0.11593909561634064,
          0.11848476529121399,
          0.12137652188539505,
          0.12438631802797318,
          0.12737995386123657,
          0.13035741448402405,
          0.1336679905653,
          0.1368120014667511,
          0.14014680683612823,
          0.1434977799654007,
          0.14707186818122864,
          0.11545566469430923,
          0.11801706999540329,
          0.12091995775699615,
          0.12393936514854431,
          0.12678568065166473,
          0.12976466119289398,
          0.13290059566497803,
          0.13621772825717926,
          0.13955099880695343,
          0.14290045201778412,
          0.14626605808734894,
          0.15071538090705872,
          0.11805204302072525,
          0.12095474451780319,
          0.12397406995296478,
          0.12682020664215088,
          0.12979911267757416,
          0.132935032248497,
          0.1362522542476654,
          0.13958561420440674,
          0.1429351568222046,
          0.14630085229873657,
          0.15075071156024933,
          0.11808700859546661,
          0.12098953872919083,
          0.12400877475738525,
          0.12685473263263702,
          0.12983354926109314,
          0.13314275443553925,
          0.13628678023815155,
          0.13962022960186005,
          0.14296986162662506,
          0.14654123783111572,
          0.15078602731227875,
          0.11812198162078857,
          0.12102433294057846,
          0.12404347956180573,
          0.12688925862312317,
          0.13003326952457428,
          0.1331772804260254,
          0.1363213062286377,
          0.13965484499931335,
          0.14300456643104553,
          0.14657612144947052,
          0.15082135796546936,
          0.11815694719552994,
          0.1210591271519661,
          0.1240781843662262,
          0.12692378461360931,
          0.13006779551506042,
          0.13321180641651154,
          0.13635583221912384,
          0.13968946039676666,
          0.1430392563343048,
          0.14661100506782532,
          0.15085668861865997,
          0.1181919202208519,
          0.12109392136335373,
          0.12411288917064667,
          0.12695831060409546,
          0.13010232150554657,
          0.13324633240699768,
          0.13639035820960999,
          0.13972407579421997,
          0.14307396113872528,
          0.14664588868618011,
          0.1508920043706894,
          0.11822689324617386,
          0.12112870812416077,
          0.12414759397506714,
          0.1269928365945816,
          0.13013684749603271,
          0.13328085839748383,
          0.13642488420009613,
          0.13975869119167328,
          0.14310866594314575,
          0.1466807723045349,
          0.11634853482246399,
          0.11876381933689117,
          0.12179715186357498,
          0.12481433153152466,
          0.12765616178512573,
          0.13080017268657684,
          0.13394419848918915,
          0.13727162778377533,
          0.1404237300157547,
          0.14377541840076447,
          0.14735090732574463,
          0.11690036952495575,
          0.11943396925926208,
          0.12232089042663574,
          0.12532827258110046,
          0.12831950187683105,
          0.13146349787712097,
          0.13460752367973328,
          0.13793666660785675,
          0.14128196239471436,
          0.14464344084262848,
          0.14843980967998505,
          0.11744878441095352,
          0.120104119181633,
          0.12298762798309326,
          0.12599331140518188,
          0.128982812166214,
          0.1321268379688263,
          0.1354495882987976,
          0.13860169053077698,
          0.14194871485233307,
          0.1453118771314621,
          0.1493244469165802,
          0.1179938018321991,
          0.12063422799110413,
          0.12365436553955078,
          0.1266583353281021,
          0.12981043756008148,
          0.13296252489089966,
          0.13611462712287903,
          0.1392667293548584,
          0.1426154524087906,
          0.1459803283214569,
          0.15021249651908875,
          0.11853539943695068,
          0.12130267173051834,
          0.1243211105465889,
          0.12732337415218353,
          0.1304754763841629,
          0.13362756371498108,
          0.13677966594696045,
          0.13993176817893982,
          0.1432821899652481,
          0.1468551754951477,
          0.15131844580173492,
          0.11857046186923981,
          0.12133746594190598,
          0.12435581535100937,
          0.12735798954963684,
          0.1305100917816162,
          0.1336621791124344,
          0.13681428134441376,
          0.13996638357639313,
          0.14331689476966858,
          0.1468900591135025,
          0.1513538509607315,
          0.11910856515169144,
          0.12200590968132019,
          0.12502256035804749,
          0.12802302837371826,
          0.13117511570453644,
          0.1343272179365158,
          0.13747932016849518,
          0.14082345366477966,
          0.1439836323261261,
          0.1475602090358734,
          0.11724139750003815,
          0.11964325606822968,
          0.12252911180257797,
          0.1255359649658203,
          0.12868806719779968,
          0.13184015452861786,
          0.13499225676059723,
          0.1381443589925766,
          0.14149019122123718,
          0.1448521912097931,
          0.1486501693725586,
          0.11779099702835083,
          0.12031340599060059,
          0.12319584935903549,
          0.12620098888874054,
          0.1293530911207199,
          0.13250519335269928,
          0.13565728068351746,
          0.13880938291549683,
          0.1421569287776947,
          0.1455206423997879,
          0.1493237316608429,
          0.11833717674016953,
          0.1209835559129715,
          0.12386259436607361,
          0.12686602771282196,
          0.13001812994480133,
          0.1331702172756195,
          0.13632231950759888,
          0.13947442173957825,
          0.14282366633415222,
          0.14618907868862152,
          0.15021060407161713,
          0.11887995153665543,
          0.12151142954826355,
          0.12452933192253113,
          0.12753106653690338,
          0.1305166333913803,
          0.13366064429283142,
          0.1369873583316803,
          0.1403302252292633,
          0.14349041879177094,
          0.1470644623041153,
          0.15110088884830475,
          0.11941931396722794,
          0.12217987328767776,
          0.12519606947898865,
          0.1281961053609848,
          0.13117995858192444,
          0.13432398438453674,
          0.13765239715576172,
          0.14099696278572083,
          0.14415715634822845,
          0.1477346122264862,
          0.15177786350250244,
          0.11959036439657211,
          0.1222146674990654,
          0.12523077428340912,
          0.1282307207584381,
          0.13121448457241058,
          0.1343585103750229,
          0.13768699765205383,
          0.1408390998840332,
          0.14419186115264893,
          0.147769495844841,
          0.1515962779521942,
          0.1196255162358284,
          0.12224945425987244,
          0.1252654790878296,
          0.12826533615589142,
          0.13124901056289673,
          0.13439303636550903,
          0.13772161304950714,
          0.1408737152814865,
          0.1442265659570694,
          0.1478043645620346,
          0.1516314297914505,
          0.11979682743549347,
          0.12242849916219711,
          0.12530018389225006,
          0.12829995155334473,
          0.13128353655338287,
          0.13442756235599518,
          0.1375715732574463,
          0.14090833067893982,
          0.14426127076148987,
          0.14763034880161285,
          0.15144957602024078,
          0.11881464719772339,
          0.12133394926786423,
          0.12421999871730804,
          0.1270737200975418,
          0.13006046414375305,
          0.13320447504520416,
          0.13634848594665527,
          0.1396821141242981,
          0.14303189516067505,
          0.14639782905578613,
          0.14977993071079254,
          0.15384401381015778,
          0.12050903588533401,
          0.12313353270292282,
          0.12600162625312805,
          0.12899959087371826,
          0.13198140263557434,
          0.13512541353702545,
          0.13826942443847656,
          0.14160798490047455,
          0.14496271312236786,
          0.1483335942029953,
          0.15193942189216614,
          0.15625818073749542,
          0.1220407783985138,
          0.1249232366681099,
          0.12777337431907654,
          0.13075831532478333,
          0.13390232622623444,
          0.13704635202884674,
          0.14038175344467163,
          0.14373333752155304,
          0.14689351618289948,
          0.15026932954788208,
          0.15410876274108887,
          0.12071765214204788,
          0.12334951758384705,
          0.126071035861969,
          0.12906882166862488,
          0.13205045461654663,
          0.13519446551799774,
          0.13833847641944885,
          0.14167721569538116,
          0.1450321227312088,
          0.14840316772460938,
          0.15179039537906647,
          0.15587492287158966,
          0.12225379049777985,
          0.12499282509088516,
          0.1280018538236618,
          0.13099469244480133,
          0.13397137820720673,
          0.13711540400981903,
          0.14025941491127014,
          0.14360308647155762,
          0.14696292579174042,
          0.15033891797065735,
          0.15395498275756836,
          0.1209266185760498,
          0.12341945618391037,
          0.12629492580890656,
          0.1291380524635315,
          0.13229015469551086,
          0.13526351749897003,
          0.13840752840042114,
          0.14174644649028778,
          0.14510151743888855,
          0.14826169610023499,
          0.15164101123809814,
          0.1554909497499466,
          0.12275367975234985,
          0.12521374225616455,
          0.12807124853134155,
          0.13106392323970795,
          0.13404043018817902,
          0.13718445599079132,
          0.14052021503448486,
          0.14367231726646423,
          0.14703233540058136,
          0.15040850639343262,
          0.1538008451461792,
          0.15837015211582184,
          0.12427447736263275,
          0.1269981563091278,
          0.13000206649303436,
          0.1329897940158844,
          0.1359613686800003,
          0.13929399847984314,
          0.14244608581066132,
          0.14580295979976654,
          0.14896315336227417,
          0.1523442566394806,
          0.15619955956935883,
          0.12396436929702759,
          0.12655404210090637,
          0.12940473854541779,
          0.13256490230560303,
          0.13554608821868896,
          0.13869819045066833,
          0.1418502777814865,
          0.14520563185214996,
          0.1483658105134964,
          0.15174539387226105,
          0.1553686410188675,
          0.12364814430475235,
          0.12626010179519653,
          0.12896870076656342,
          0.13196757435798645,
          0.13495028018951416,
          0.13810238242149353,
          0.1412544846534729,
          0.1446083039045334,
          0.14776848256587982,
          0.1511465311050415,
          0.1545407474040985,
          0.15912136435508728,
          0.12629516422748566,
          0.1291648894548416,
          0.13200227916240692,
          0.13498489558696747,
          0.13813699781894684,
          0.1412891000509262,
          0.14464300870895386,
          0.1478031873703003,
          0.15118132531642914,
          0.1545756310224533,
          0.15915678441524506,
          0.12712374329566956,
          0.1299981325864792,
          0.13266901671886444,
          0.1356499344110489,
          0.13880203664302826,
          0.14214956760406494,
          0.14530974626541138,
          0.1484699249267578,
          0.15184977650642395,
          0.15547354519367218,
          0.1268257349729538,
          0.1295577883720398,
          0.13224133849143982,
          0.1352318674325943,
          0.13820622861385345,
          0.14155222475528717,
          0.1447124183177948,
          0.14787259697914124,
          0.1512509137392044,
          0.1546453982591629,
          0.1270146369934082,
          0.12975451350212097,
          0.13244587182998657,
          0.13526657223701477,
          0.1384267508983612,
          0.14158692955970764,
          0.14474712312221527,
          0.14811745285987854,
          0.15128570795059204,
          0.15490660071372986,
          0.1276950240135193,
          0.13059313595294952,
          0.1332874596118927,
          0.1359333097934723,
          0.13909348845481873,
          0.14225366711616516,
          0.1454138606786728,
          0.14878588914871216,
          0.15195414423942566,
          0.15580646693706512,
          0.13014847040176392,
          0.1330253779888153,
          0.13569197058677673,
          0.13849616050720215,
          0.14165633916854858,
          0.1450187712907791,
          0.14818702638149261,
          0.15135528147220612,
          0.15520302951335907,
          0.13034571707248688,
          0.1332305371761322,
          0.1359049528837204,
          0.13871702551841736,
          0.14188529551029205,
          0.14505356550216675,
          0.14822182059288025,
          0.15160857141017914,
          0.15546467900276184,
          0.13231602311134338,
          0.1350160390138626,
          0.1378505825996399,
          0.14103500545024872,
          0.1440202295780182,
          0.14698930084705353,
          0.1503729224205017,
          0.15399613976478577,
          0.13299641013145447,
          0.13586795330047607,
          0.13889189064502716,
          0.14189967513084412,
          0.14489127695560455,
          0.14807571470737457,
          0.1512601375579834,
          0.15511998534202576,
          0.1373666375875473,
          0.14020727574825287,
          0.1434078812599182,
          0.1464042365550995,
          0.14959675073623657,
          0.15300963819026947,
          0.13758201897144318,
          0.1406187117099762,
          0.14363925158977509,
          0.14664360880851746,
          0.1498442143201828,
          0.1534857451915741,
          0.1414872258901596,
          0.14451414346694946,
          0.147524893283844,
          0.1509476602077484,
          0.14539246261119843,
          0.14861729741096497,
          0.14865271747112274
         ],
         "z": [
          -0.0019121811492368579,
          -0.0008615690167061985,
          -0.0019220361718907952,
          0.00011717805318767205,
          0.00016131608572322875,
          -0.001958506880328059,
          8.088943286566064e-05,
          0.0011224645422771573,
          0.0011664917692542076,
          -0.0007838821038603783,
          -0.0009530085371807218,
          0.002083765808492899,
          0.003125099465250969,
          0.0021715983748435974,
          0.00022115306637715548,
          -0.0019870889373123646,
          0.0010500699281692505,
          0.0030890845227986574,
          0.0031328897457569838,
          0.0031766952015459538,
          0.0012261783704161644,
          -0.0010257679969072342,
          1.6161870007636026e-05,
          0.0020554696675390005,
          0.004094333853572607,
          0.004138028249144554,
          0.004181722644716501,
          0.002231134567409754,
          -0.0010532980086281896,
          -1.129908469010843e-05,
          0.0020281467586755753,
          0.0040671490132808685,
          0.004110843408852816,
          0.005151873920112848,
          0.00419823219999671,
          0.0022477279417216778,
          -6.524286436615512e-05,
          0.0009766994044184685,
          0.0030160837341099977,
          0.004057441838085651,
          0.005098607856780291,
          0.0051421914249658585,
          0.005185774993151426,
          0.00423221942037344,
          -0.0010995081393048167,
          0.0009405020973645151,
          0.0019822840113192797,
          0.0040215179324150085,
          0.00506277522072196,
          0.005106358788907528,
          0.006147253327071667,
          0.005193525925278664,
          0.004239989910274744,
          -0.0011093384819105268,
          0.0019286113092675805,
          0.002970336936414242,
          0.004011810757219791,
          0.00505309272557497,
          0.006094122771173716,
          0.006137595511972904,
          0.006181068252772093,
          0.004230282735079527,
          -0.0007110981387086213,
          0.0008945235749706626,
          0.0029343217611312866,
          0.0039758868515491486,
          0.00501726008951664,
          0.006058381404727697,
          0.006101854145526886,
          0.006145326886326075,
          0.006188799161463976,
          0.004238053224980831,
          0.000293754565063864,
          0.0008847425342537463,
          0.003922485280781984,
          0.003966179676353931,
          0.00500757759436965,
          0.006048723589628935,
          0.0060921963304281235,
          0.006135668605566025,
          0.006179141346365213,
          0.005225494969636202,
          0.0022779947612434626,
          -0.00013192679034546018,
          0.00290609709918499,
          0.003947733901441097,
          0.004989177919924259,
          0.006030370946973562,
          0.006073843687772751,
          0.0061173164285719395,
          0.006160788703709841,
          0.006204261444509029,
          0.004253594670444727,
          -0.0006874905666336417,
          0.0018720190273597836,
          0.003911809995770454,
          0.004953345283865929,
          0.005994629580527544,
          0.006038102321326733,
          0.007079053670167923,
          0.007122415117919445,
          0.006168520078063011,
          0.0062119928188622,
          0.004261365160346031,
          -0.0021566147916018963,
          0.0028778724372386932,
          0.004917512647807598,
          0.005958888214081526,
          0.006002360954880714,
          0.00704340310767293,
          0.007086765021085739,
          0.0071301269344985485,
          0.0061762514524161816,
          0.006219723727554083,
          0.003272120375186205,
          -0.001159470877610147,
          0.0038749175146222115,
          0.004916546866297722,
          0.005957924760878086,
          0.006001397501677275,
          0.007042442448437214,
          0.007085803896188736,
          0.007129165809601545,
          0.006175287999212742,
          0.0062187607400119305,
          0.004268167540431023,
          -0.00016232211783062667,
          0.0038739494048058987,
          0.004915581084787846,
          0.005956961307674646,
          0.006998119875788689,
          0.007041481323540211,
          0.00708484323695302,
          0.007128204684704542,
          0.0071715665981173515,
          0.006217797286808491,
          0.0042671989649534225,
          -0.000673713511787355,
          0.003855503164231777,
          0.004897181876003742,
          0.005938609130680561,
          0.006979814264923334,
          0.007023175712674856,
          0.0070665376260876656,
          0.007109899073839188,
          0.007153260987251997,
          0.006199444644153118,
          0.005245849955826998,
          0.0022985052783042192,
          0.0018408031901344657,
          0.004878782667219639,
          0.0059202564880251884,
          0.005963729228824377,
          0.007004870101809502,
          0.007048232015222311,
          0.007091593462973833,
          0.0071349553763866425,
          0.007178317289799452,
          0.006224564742296934,
          0.004274001345038414,
          -0.0011810929281637073,
          0.003853566711768508,
          0.00489525031298399,
          0.005936682224273682,
          0.006977892480790615,
          0.007021253928542137,
          0.00806216150522232,
          0.008105412125587463,
          0.007151339203119278,
          0.0071947006508708,
          0.006240990478545427,
          0.002296558814123273,
          0.000831934274174273,
          0.004868134390562773,
          0.005909635219722986,
          0.005953107960522175,
          0.006994275841861963,
          0.008035251870751381,
          0.008078503422439098,
          0.008121754042804241,
          0.0071677230298519135,
          0.006213943473994732,
          0.005260386038571596,
          0.0003192835138179362,
          0.0028447937220335007,
          0.004884601570665836,
          0.005926060955971479,
          0.006967298220843077,
          0.007010659668594599,
          0.008051593787968159,
          0.008094844408333302,
          0.008138095960021019,
          0.007184106856584549,
          0.006230369210243225,
          0.004279835615307093,
          -0.001184034743346274,
          0.0038506616838276386,
          0.004892352502793074,
          0.0059337918646633625,
          0.006975009571760893,
          0.008016034960746765,
          0.008059285581111908,
          0.00810253620147705,
          0.008145787753164768,
          0.007191818207502365,
          0.006238100118935108,
          0.003290637396275997,
          -0.00017799668421503156,
          0.004856519866734743,
          0.004900103434920311,
          0.005941523239016533,
          0.006982720922678709,
          0.008023726753890514,
          0.008066977374255657,
          0.0081102279946208,
          0.008153478614985943,
          0.007199529558420181,
          0.006245831493288279,
          0.002301448956131935,
          0.0008192261448130012,
          0.004855554085224867,
          0.005897087045013905,
          0.005940559785813093,
          0.006981759797781706,
          0.008022768422961235,
          0.008066019043326378,
          0.009106664918363094,
          0.008152520284056664,
          0.007198568433523178,
          0.006244868040084839,
          0.002300475724041462,
          0.0008182504680007696,
          0.004854588303714991,
          0.005896123591810465,
          0.0059395963326096535,
          0.00698079913854599,
          0.008021809160709381,
          0.0090625686571002,
          0.009105708450078964,
          0.008151561953127384,
          0.007197607774287462,
          0.006243904586881399,
          0.0032964861020445824,
          0.0008172747911885381,
          0.004853622522205114,
          0.005895160138607025,
          0.005938632879406214,
          0.006979838013648987,
          0.008020850829780102,
          0.009061613120138645,
          0.009104752913117409,
          0.008150603622198105,
          0.007196646649390459,
          0.0062429411336779594,
          0.0032955154310911894,
          -0.001188937691040337,
          0.0038458202034235,
          0.004887523595243692,
          0.005928975064307451,
          0.006970204878598452,
          0.008011242374777794,
          0.009052028879523277,
          0.00909516867250204,
          0.009138308465480804,
          0.007187013514339924,
          0.006233283318579197,
          0.004282764624804258,
          -0.0006579507025890052,
          0.003836113028228283,
          0.004877840634435415,
          0.005919317249208689,
          0.006960571743547916,
          0.008001633919775486,
          0.00904244463890791,
          0.009085584431886673,
          0.009128724224865437,
          0.008174637332558632,
          0.007220741827040911,
          0.005270092282444239,
          0.00032911362359300256,
          0.002828266704455018,
          0.0048681581392884254,
          0.005909658968448639,
          0.006950938142836094,
          0.007992025464773178,
          0.009032860398292542,
          0.009076000191271305,
          0.009119140915572643,
          0.008165028877556324,
          0.0072111086919903755,
          0.005260409787297249,
          0.001316256821155548,
          0.0008221774478442967,
          0.004858475644141436,
          0.005900001153349876,
          0.006941305007785559,
          0.00798241700977087,
          0.009023277088999748,
          0.009066416881978512,
          0.009109556674957275,
          0.008155419491231441,
          0.00720147555693984,
          0.006247782148420811,
          0.0023034196346998215,
          -0.00018582178745418787,
          0.004848793148994446,
          0.005890343338251114,
          0.0069316718727350235,
          0.007972807623445988,
          0.00901369284838438,
          0.009056832641363144,
          0.009099972434341908,
          0.008145811036229134,
          0.007191841956228018,
          0.006238124333322048,
          0.003290661610662937,
          0.0008202260942198336,
          0.004856544081121683,
          0.005898074246942997,
          0.00693938322365284,
          0.007980499416589737,
          0.009021365083754063,
          0.009064504876732826,
          0.00910764466971159,
          0.008153502829372883,
          0.007199553307145834,
          0.006245855242013931,
          0.0032984516583383083,
          0.00182620482519269,
          0.0048642950132489204,
          0.005905805621296167,
          0.006947094574570656,
          0.008985896594822407,
          0.00902903638780117,
          0.009072176180779934,
          0.009115316905081272,
          0.008161194622516632,
          0.00720726465806365,
          0.006253586616367102,
          0.001312354113906622,
          0.0028321738354861736,
          0.005870064254850149,
          0.006911444012075663,
          0.007952632382512093,
          0.008993568830192089,
          0.009036708623170853,
          0.009079848416149616,
          0.00912298820912838,
          0.008168886415660381,
          0.007214976474642754,
          0.005264297593384981,
          0.00032324480707757175,
          0.0028399641159921885,
          0.005877795163542032,
          0.006919155828654766,
          0.007960324175655842,
          0.009001241065561771,
          0.009044380858540535,
          0.009087520651519299,
          0.009130660444498062,
          0.00817657820880413,
          0.00722268782556057,
          0.004275017883628607,
          -0.0001818848541006446,
          0.004852680489420891,
          0.0058942208997905254,
          0.006935539189726114,
          0.008974400348961353,
          0.009017540141940117,
          0.009060680866241455,
          0.009103820659220219,
          0.008149669505655766,
          0.007195709738880396,
          0.00624200189486146,
          0.0032945687416940928,
          0.0018310952000319958,
          0.004869148135185242,
          0.006908561568707228,
          0.00794975645840168,
          0.008990700356662273,
          0.009033840149641037,
          0.009076980873942375,
          0.009120120666921139,
          0.008166010491549969,
          0.007212093565613031,
          0.005261399783194065,
          0.0003203103842679411,
          0.002837051870301366,
          0.005874905269593,
          0.006916272919625044,
          0.00795744825154543,
          0.008998372592031956,
          0.00904151238501072,
          0.009084652177989483,
          0.009127791970968246,
          0.008173702284693718,
          0.0072198049165308475,
          0.005269150715321302,
          -0.0006687372224405408,
          0.0028448421508073807,
          0.0058826361782848835,
          0.00692398427054286,
          0.007965140044689178,
          0.009006044827401638,
          0.009049184620380402,
          0.009092324413359165,
          0.009135464206337929,
          0.008181394077837467,
          0.006230417173355818,
          0.004279883578419685,
          -0.0011751360725611448,
          0.004857534077018499,
          0.006897006183862686,
          0.007938231341540813,
          0.008979205042123795,
          0.009022344835102558,
          0.009065484628081322,
          0.009108624421060085,
          0.008154485374689102,
          0.00720053818076849,
          0.006246842909604311,
          0.0013055243762210011,
          0.002842900576069951,
          0.005880709271878004,
          0.006922062486410141,
          0.00796322338283062,
          0.009004132822155952,
          0.01004484947770834,
          0.00909041240811348,
          0.009133552201092243,
          0.008179477415978909,
          0.006228490266948938,
          0.0042779468931257725,
          -0.00017009851580951363,
          0.004864318761974573,
          0.0069037568755447865,
          0.007944964803755283,
          0.008985920809209347,
          0.01002668496221304,
          0.009072200395166874,
          0.009115340188145638,
          0.008161218836903572,
          0.00720728887245059,
          0.0052565704099833965,
          -0.0011780778877437115,
          0.00385654391720891,
          0.0058961715549230576,
          0.006937485188245773,
          0.008976336568593979,
          0.010017124935984612,
          0.010060153901576996,
          0.00910575594753027,
          0.00815160945057869,
          0.007197655737400055,
          0.006243952549993992,
          0.0003056139685213566,
          0.0038555755745619535,
          0.005895208101719618,
          0.00693652406334877,
          0.008975381031632423,
          0.01001617219299078,
          0.010059201158583164,
          0.009104800410568714,
          0.00815065111964941,
          0.007196694612503052,
          0.006242989096790552,
          0.0003046358178835362,
          0.003854607231914997,
          0.0058942451141774654,
          0.006935563404113054,
          0.008974424563348293,
          0.010015218518674374,
          0.00906070414930582,
          0.009103843942284584,
          0.008149692788720131,
          0.007195733487606049,
          0.005244956351816654,
          0.0003036576963495463,
          0.0038536391220986843,
          0.005893281660974026,
          0.006934602279216051,
          0.008973469026386738,
          0.009016608819365501,
          0.009059748612344265,
          0.009102888405323029,
          0.008148734457790852,
          0.007194772828370333,
          0.005243990570306778,
          0.00030267954571172595,
          0.003852670779451728,
          0.005892318207770586,
          0.006933641619980335,
          0.008972512558102608,
          0.009015652351081371,
          0.009058792144060135,
          0.009101931937038898,
          0.008147776126861572,
          0.0071938117034733295,
          0.005243024788796902,
          0.00030170142417773604,
          0.0038517024368047714,
          0.005891354754567146,
          0.006932680495083332,
          0.008971556089818478,
          0.009014696814119816,
          0.00905783660709858,
          0.009100976400077343,
          0.008146817795932293,
          0.007192851044237614,
          0.0052420590072870255,
          0.0003007232735399157,
          0.003850734094157815,
          0.005890391301363707,
          0.006931719370186329,
          0.008970600552856922,
          0.009013740345835686,
          0.00905688013881445,
          0.009100019931793213,
          0.008145859465003014,
          0.0071918899193406105,
          0.005241092760115862,
          -0.0011760921915993094,
          0.004856592044234276,
          0.005898122675716877,
          0.006939431186765432,
          0.008978272788226604,
          0.009021412581205368,
          0.009064552374184132,
          0.008110299706459045,
          0.008153550326824188,
          0.007199601270258427,
          0.005248843692243099,
          -0.00017007415590342134,
          0.004864342976361513,
          0.006903780624270439,
          0.007944988086819649,
          0.008985944092273712,
          0.009029083885252476,
          0.009072224609553814,
          0.008117991499602795,
          0.007163951173424721,
          0.006210161838680506,
          0.003262485144659877,
          0.0008359341882169247,
          0.0048720939084887505,
          0.006911491975188255,
          0.007952679879963398,
          0.008993616327643394,
          0.009036756120622158,
          0.008082432672381401,
          0.008125683292746544,
          0.007171662524342537,
          0.006217893213033676,
          0.0022732256911695004,
          0.0018418733961880207,
          0.005877843126654625,
          0.0069192033261060715,
          0.007960371673107147,
          0.00800362229347229,
          0.008046872913837433,
          0.00809012446552515,
          0.008133375085890293,
          0.007179373875260353,
          0.006225624121725559,
          0.0012840350391343236,
          0.0028478028252720833,
          0.005885574501007795,
          0.006926915142685175,
          0.007968063466250896,
          0.00801131408661604,
          0.008054564706981182,
          0.008097815327346325,
          0.008141066879034042,
          0.007187085226178169,
          0.005236263852566481,
          -0.000702126242686063,
          0.0028468321543186903,
          0.005884611047804356,
          0.006925954017788172,
          0.007967105135321617,
          0.00801035575568676,
          0.008053606376051903,
          0.008096856996417046,
          0.008140108548104763,
          0.007186124566942453,
          0.005235298071056604,
          -0.0007031068671494722,
          0.003852694761008024,
          0.005892341956496239,
          0.006933665368705988,
          0.007974796928465366,
          0.00801804754883051,
          0.008061298169195652,
          0.008104548789560795,
          0.00715047400444746,
          0.0071938359178602695,
          0.005243048537522554,
          -0.0011741066118702292,
          0.004858547821640968,
          0.006898015271872282,
          0.007939237169921398,
          0.007982488721609116,
          0.008025739341974258,
          0.008068989962339401,
          0.008112240582704544,
          0.007158185355365276,
          0.006204381585121155,
          0.0032566606532782316,
          -0.00016809350927360356,
          0.004866298753768206,
          0.006905726622790098,
          0.007946928963065147,
          0.00799017958343029,
          0.008033431135118008,
          0.00807668175548315,
          0.008119932375848293,
          0.0071658967062830925,
          0.006212112959474325,
          0.0032644509337842464,
          0.0008379098726436496,
          0.004874049685895443,
          0.006913437973707914,
          0.007954620756208897,
          0.00799787137657404,
          0.008041121996939182,
          0.0080843735486269,
          0.008127624168992043,
          0.007173608057200909,
          0.006219843868166208,
          0.0022751963697373867,
          0.001843844074755907,
          0.005879794247448444,
          0.0069211493246257305,
          0.007962312549352646,
          0.009003223851323128,
          0.009046363644301891,
          0.008092065341770649,
          0.007137957960367203,
          0.007181319873780012,
          0.005230468697845936,
          0.0012860108399763703,
          0.002849768614396453,
          0.0058875251561403275,
          0.006928860675543547,
          0.007970004342496395,
          0.00901089608669281,
          0.009054035879671574,
          0.008099756203591824,
          0.007145669311285019,
          0.007189031224697828,
          0.005238219629973173,
          0.0012938405852764845,
          0.0018506809137761593,
          0.005886561702936888,
          0.006927900016307831,
          0.007969046011567116,
          0.009009940549731255,
          0.009053080342710018,
          0.008098797872662544,
          0.008142049424350262,
          0.007188070099800825,
          0.00523725338280201,
          0.0022898430470377207,
          0.0018497076816856861,
          0.005885598249733448,
          0.006926938891410828,
          0.007968087680637836,
          0.009008984081447124,
          0.009052123874425888,
          0.008097839541733265,
          0.008141090162098408,
          0.007187109440565109,
          0.005236287601292133,
          0.0022888698149472475,
          0.0008506423328071833,
          0.0048866537399590015,
          0.0069259777665138245,
          0.007967128418385983,
          0.009008027613162994,
          0.009051168337464333,
          0.009094308130443096,
          0.008140131831169128,
          0.007186148315668106,
          0.006232415791600943,
          0.0032849095296114683,
          -0.0011642518220469356,
          0.0038701966404914856,
          0.005909755360335112,
          0.007948869839310646,
          0.008989815600216389,
          0.009032956324517727,
          0.00907609611749649,
          0.008121873252093792,
          0.0071678427048027515,
          0.006214063614606857,
          0.0052605061791837215,
          0.0013163541443645954,
          0.0008574964012950659,
          0.004893438890576363,
          0.006932728458195925,
          0.007973861880600452,
          0.009014744311571121,
          0.009057884104549885,
          0.009101023897528648,
          0.008146865293383598,
          0.007192899007350206,
          0.006239183712750673,
          0.004288694821298122,
          -0.0006519448943436146,
          0.003876999020576477,
          0.005916522815823555,
          0.007955603301525116,
          0.008996532298624516,
          0.009039672091603279,
          0.009082811884582043,
          0.008128606714308262,
          0.0071745929308235645,
          0.007217954844236374,
          0.006264303810894489,
          0.0033170415554195642,
          -0.00014256444410420954,
          0.0038935085758566856,
          0.006930806674063206,
          0.007971945218741894,
          0.009012832306325436,
          0.0090559720993042,
          0.009099111892282963,
          0.00814494863152504,
          0.0071909767575562,
          0.006237256806343794,
          0.0052837589755654335,
          0.0013398433802649379,
          0.0028770468197762966,
          0.005914596375077963,
          0.006955862510949373,
          0.0079969372600317,
          0.009037760086357594,
          0.009080899879336357,
          0.00912403967231512,
          0.008169940672814846,
          0.007216033060103655,
          0.00626237690448761,
          0.0043120067566633224,
          -0.0011426054406911135,
          0.0038915718905627728,
          0.005931021645665169,
          0.007970028556883335,
          0.008013279177248478,
          0.009054060094058514,
          0.009097199887037277,
          0.008143031038343906,
          0.007189054973423481,
          0.00723241688683629,
          0.006278802640736103,
          0.0033316512126475573,
          -0.00011901604011654854,
          0.004914759658277035,
          0.006953940726816654,
          0.007995019666850567,
          0.009035848081111908,
          0.009078987874090672,
          0.00812477245926857,
          0.008168023079633713,
          0.007214111275970936,
          0.006260450463742018,
          0.005307011306285858,
          -0.0006302985129877925,
          0.002900417661294341,
          0.0059377895668148994,
          0.006978996563702822,
          0.008020011708140373,
          0.009060775861144066,
          0.008106513880193233,
          0.008149764500558376,
          0.007195805665105581,
          0.007239167112857103,
          0.006285570561885834,
          0.003338470822200179,
          0.0008946937741711736,
          0.004930261522531509,
          0.0069693634286522865,
          0.007012725342065096,
          0.008053653873503208,
          0.008096905425190926,
          0.008140156045556068,
          0.007186172064393759,
          0.007229533977806568,
          0.006275912746787071,
          0.004325611051172018,
          -0.0011111286003142595,
          0.002924759406596422,
          0.005961946211755276,
          0.007003091741353273,
          0.0080440454185009,
          0.008087296038866043,
          0.00813054759055376,
          0.007176538929343224,
          0.007219900842756033,
          0.006266254466027021,
          0.005312830209732056,
          -0.0006243905518203974,
          0.0029237885028123856,
          0.004963196348398924,
          0.0070021310821175575,
          0.008043087087571621,
          0.008086337707936764,
          0.008129589259624481,
          0.00717557780444622,
          0.00721893971785903,
          0.006265291478484869,
          0.005311864428222179,
          -0.0006253711180761456,
          0.0019336715340614319,
          0.003973151091486216,
          0.007009842433035374,
          0.00805077888071537,
          0.008094029501080513,
          0.0071399277076125145,
          0.007183289621025324,
          0.007226651068776846,
          0.006273022387176752,
          0.004322706256061792,
          -7.19192175893113e-05,
          0.002965652383863926,
          0.006002528592944145,
          0.0070435707457363605,
          0.008084421046078205,
          0.007130294572561979,
          0.007173656020313501,
          0.007217017933726311,
          0.00626336457207799,
          0.005309932865202427,
          -0.0010708021000027657,
          0.001966858049854636,
          0.005003882572054863,
          0.007042610086500645,
          0.007085971534252167,
          0.007129333447664976,
          0.0071726953610777855,
          0.006218928378075361,
          0.00626240111887455,
          0.004312030505388975,
          -0.0010629328899085522,
          0.0009768939344212413,
          0.00401394022628665,
          0.007050321437418461,
          0.00709368335083127,
          0.007137044798582792,
          0.007180406711995602,
          0.006226659752428532,
          0.006270132027566433,
          0.0033229144755750895,
          -3.071559694944881e-05,
          0.0020088276360183954,
          0.005045534111559391,
          0.007084049750119448,
          0.007127411663532257,
          0.0061735291965305805,
          0.006217001937329769,
          0.0062604742124676704,
          0.003313182620331645,
          -0.0010294949170202017,
          0.001010164269246161,
          0.004046959336847067,
          0.006085620261728764,
          0.006129093002527952,
          0.006172565743327141,
          0.006216038484126329,
          0.005262486170977354,
          0.0023152681533247232,
          -0.0010039262706413865,
          0.002033231081441045,
          0.0040722074918448925,
          0.00411590188741684,
          0.005156919825822115,
          0.006197685841470957,
          0.005244086496531963,
          0.003293718909844756,
          -0.000996057060547173,
          0.0010434344876557589,
          0.002084957202896476,
          0.003126288065686822,
          0.004167367238551378,
          0.004211061634123325,
          0.0042547560296952724,
          0.0013075972674414515,
          6.247548299143091e-05,
          0.0021015505772083998,
          0.002145466860383749,
          0.003186644520610571,
          0.003230449976399541,
          0.002277215477079153,
          -0.0009360697004012764,
          0.00010563537944108248,
          0.001147148315794766,
          0.002188409911468625,
          0.0022323261946439743,
          0.0002821874222718179,
          -0.000883951666764915,
          0.0001576228823978454,
          0.0011990051716566086,
          0.0002458988456055522,
          -0.0008318335167132318,
          -0.0007875845185481012,
          -0.0007885651430115104
         ]
        }
       ],
       "frames": [
        {
         "layout": {
          "scene": {
           "camera": {
            "eye": {
             "x": 1.25,
             "y": 1.25,
             "z": 0.8
            }
           }
          }
         }
        },
        {
         "layout": {
          "scene": {
           "camera": {
            "eye": {
             "x": 1.3685469774060675,
             "y": 1.1189634357889973,
             "z": 0.8
            }
           }
          }
         }
        },
        {
         "layout": {
          "scene": {
           "camera": {
            "eye": {
             "x": 1.4734198857953784,
             "y": 0.9767465588077254,
             "z": 0.8
            }
           }
          }
         }
        },
        {
         "layout": {
          "scene": {
           "camera": {
            "eye": {
             "x": 1.5635708697336819,
             "y": 0.824770353080333,
             "z": 0.8
            }
           }
          }
         }
        },
        {
         "layout": {
          "scene": {
           "camera": {
            "eye": {
             "x": 1.6380991703894194,
             "y": 0.6645533146177932,
             "z": 0.8
            }
           }
          }
         }
        },
        {
         "layout": {
          "scene": {
           "camera": {
            "eye": {
             "x": 1.6962601256182197,
             "y": 0.4976962791077122,
             "z": 0.8
            }
           }
          }
         }
        },
        {
         "layout": {
          "scene": {
           "camera": {
            "eye": {
             "x": 1.737472610380892,
             "y": 0.32586642689330336,
             "z": 0.8
            }
           }
          }
         }
        },
        {
         "layout": {
          "scene": {
           "camera": {
            "eye": {
             "x": 1.7613248431527242,
             "y": 0.15078062505849654,
             "z": 0.8
            }
           }
          }
         }
        },
        {
         "layout": {
          "scene": {
           "camera": {
            "eye": {
             "x": 1.7675785003083602,
             "y": -0.025811726940446755,
             "z": 0.8
            }
           }
          }
         }
        },
        {
         "layout": {
          "scene": {
           "camera": {
            "eye": {
             "x": 1.7561710973726847,
             "y": -0.20214617669602375,
             "z": 0.8
            }
           }
          }
         }
        },
        {
         "layout": {
          "scene": {
           "camera": {
            "eye": {
             "x": 1.7272166133450453,
             "y": -0.376460848674696,
             "z": 0.8
            }
           }
          }
         }
        },
        {
         "layout": {
          "scene": {
           "camera": {
            "eye": {
             "x": 1.6810043518587658,
             "y": -0.5470140482948226,
             "z": 0.8
            }
           }
          }
         }
        },
        {
         "layout": {
          "scene": {
           "camera": {
            "eye": {
             "x": 1.6179960505548747,
             "y": -0.7121016643631912,
             "z": 0.8
            }
           }
          }
         }
        },
        {
         "layout": {
          "scene": {
           "camera": {
            "eye": {
             "x": 1.5388212675522255,
             "y": -0.870074195990757,
             "z": 0.8
            }
           }
          }
         }
        },
        {
         "layout": {
          "scene": {
           "camera": {
            "eye": {
             "x": 1.4442710911108763,
             "y": -1.0193532338602744,
             "z": 0.8
            }
           }
          }
         }
        },
        {
         "layout": {
          "scene": {
           "camera": {
            "eye": {
             "x": 1.3352902353396967,
             "y": -1.1584472311704395,
             "z": 0.8
            }
           }
          }
         }
        },
        {
         "layout": {
          "scene": {
           "camera": {
            "eye": {
             "x": 1.2129676009252703,
             "y": -1.2859664066784924,
             "z": 0.8
            }
           }
          }
         }
        },
        {
         "layout": {
          "scene": {
           "camera": {
            "eye": {
             "x": 1.0785253951961797,
             "y": -1.4006366309349918,
             "z": 0.8
            }
           }
          }
         }
        },
        {
         "layout": {
          "scene": {
           "camera": {
            "eye": {
             "x": 0.9333069202313851,
             "y": -1.5013121569641028,
             "z": 0.8
            }
           }
          }
         }
        },
        {
         "layout": {
          "scene": {
           "camera": {
            "eye": {
             "x": 0.7787631510298885,
             "y": -1.5869870681886475,
             "z": 0.8
            }
           }
          }
         }
        },
        {
         "layout": {
          "scene": {
           "camera": {
            "eye": {
             "x": 0.6164382378481742,
             "y": -1.6568053292160303,
             "z": 0.8
            }
           }
          }
         }
        },
        {
         "layout": {
          "scene": {
           "camera": {
            "eye": {
             "x": 0.44795407756127026,
             "y": -1.710069339060914,
             "z": 0.8
            }
           }
          }
         }
        },
        {
         "layout": {
          "scene": {
           "camera": {
            "eye": {
             "x": 0.27499410820530534,
             "y": -1.7462469013436699,
             "z": 0.8
            }
           }
          }
         }
        },
        {
         "layout": {
          "scene": {
           "camera": {
            "eye": {
             "x": 0.09928648862111944,
             "y": -1.7649765418206806,
             "z": 0.8
            }
           }
          }
         }
        },
        {
         "layout": {
          "scene": {
           "camera": {
            "eye": {
             "x": -0.07741316873761894,
             "y": -1.7660711201154955,
             "z": 0.8
            }
           }
          }
         }
        },
        {
         "layout": {
          "scene": {
           "camera": {
            "eye": {
             "x": -0.25333933930372143,
             "y": -1.7495196995636126,
             "z": 0.8
            }
           }
          }
         }
        },
        {
         "layout": {
          "scene": {
           "camera": {
            "eye": {
             "x": -0.4267342269343539,
             "y": -1.7154876564880144,
             "z": 0.8
            }
           }
          }
         }
        },
        {
         "layout": {
          "scene": {
           "camera": {
            "eye": {
             "x": -0.5958653272290393,
             "y": -1.6643150278136138,
             "z": 0.8
            }
           }
          }
         }
        },
        {
         "layout": {
          "scene": {
           "camera": {
            "eye": {
             "x": -0.7590427381409421,
             "y": -1.5965131135307038,
             "z": 0.8
            }
           }
          }
         }
        },
        {
         "layout": {
          "scene": {
           "camera": {
            "eye": {
             "x": -0.9146360449195108,
             "y": -1.5127593679544658,
             "z": 0.8
            }
           }
          }
         }
        },
        {
         "layout": {
          "scene": {
           "camera": {
            "eye": {
             "x": -1.0610906106757227,
             "y": -1.4138906308253907,
             "z": 0.8
            }
           }
          }
         }
        },
        {
         "layout": {
          "scene": {
           "camera": {
            "eye": {
             "x": -1.196943109799986,
             "y": -1.3008947658832124,
             "z": 0.8
            }
           }
          }
         }
        },
        {
         "layout": {
          "scene": {
           "camera": {
            "eye": {
             "x": -1.3208361490279166,
             "y": -1.1749007904589663,
             "z": 0.8
            }
           }
          }
         }
        },
        {
         "layout": {
          "scene": {
           "camera": {
            "eye": {
             "x": -1.431531830065142,
             "y": -1.0371675947070202,
             "z": 0.8
            }
           }
          }
         }
        },
        {
         "layout": {
          "scene": {
           "camera": {
            "eye": {
             "x": -1.5279241182578656,
             "y": -0.8890713631907865,
             "z": 0.8
            }
           }
          }
         }
        },
        {
         "layout": {
          "scene": {
           "camera": {
            "eye": {
             "x": -1.6090498937255202,
             "y": -0.7320918245014705,
             "z": 0.8
            }
           }
          }
         }
        },
        {
         "layout": {
          "scene": {
           "camera": {
            "eye": {
             "x": -1.6740985745362496,
             "y": -0.5677974662991182,
             "z": 0.8
            }
           }
          }
         }
        },
        {
         "layout": {
          "scene": {
           "camera": {
            "eye": {
             "x": -1.7224202157736266,
             "y": -0.39782986350239324,
             "z": 0.8
            }
           }
          }
         }
        },
        {
         "layout": {
          "scene": {
           "camera": {
            "eye": {
             "x": -1.7535320035714197,
             "y": -0.22388727621462157,
             "z": 0.8
            }
           }
          }
         }
        },
        {
         "layout": {
          "scene": {
           "camera": {
            "eye": {
             "x": -1.7671230792301427,
             "y": -0.04770768127020719,
             "z": 0.8
            }
           }
          }
         }
        },
        {
         "layout": {
          "scene": {
           "camera": {
            "eye": {
             "x": -1.7630576452144253,
             "y": 0.1289485930553954,
             "z": 0.8
            }
           }
          }
         }
        },
        {
         "layout": {
          "scene": {
           "camera": {
            "eye": {
             "x": -1.741376321997099,
             "y": 0.30431645566392784,
             "z": 0.8
            }
           }
          }
         }
        },
        {
         "layout": {
          "scene": {
           "camera": {
            "eye": {
             "x": -1.7022957421928595,
             "y": 0.47664368884111097,
             "z": 0.8
            }
           }
          }
         }
        },
        {
         "layout": {
          "scene": {
           "camera": {
            "eye": {
             "x": -1.646206386036788,
             "y": 0.6442084558368493,
             "z": 0.8
            }
           }
          }
         }
        },
        {
         "layout": {
          "scene": {
           "camera": {
            "eye": {
             "x": -1.573668679834919,
             "y": 0.8053365048888708,
             "z": 0.8
            }
           }
          }
         }
        },
        {
         "layout": {
          "scene": {
           "camera": {
            "eye": {
             "x": -1.4854073963698458,
             "y": 0.9584178977928967,
             "z": 0.8
            }
           }
          }
         }
        },
        {
         "layout": {
          "scene": {
           "camera": {
            "eye": {
             "x": -1.3823044132106481,
             "y": 1.101923095873013,
             "z": 0.8
            }
           }
          }
         }
        },
        {
         "layout": {
          "scene": {
           "camera": {
            "eye": {
             "x": -1.2653899012837393,
             "y": 1.2344182426265127,
             "z": 0.8
            }
           }
          }
         }
        },
        {
         "layout": {
          "scene": {
           "camera": {
            "eye": {
             "x": -1.1358320317454915,
             "y": 1.3545794903441097,
             "z": 0.8
            }
           }
          }
         }
        },
        {
         "layout": {
          "scene": {
           "camera": {
            "eye": {
             "x": -0.9949253040021958,
             "y": 1.4612062275586353,
             "z": 0.8
            }
           }
          }
         }
        },
        {
         "layout": {
          "scene": {
           "camera": {
            "eye": {
             "x": -0.8440776114998902,
             "y": 1.553233075157956,
             "z": 0.8
            }
           }
          }
         }
        },
        {
         "layout": {
          "scene": {
           "camera": {
            "eye": {
             "x": -0.6847961745184389,
             "y": 1.6297405313008917,
             "z": 0.8
            }
           }
          }
         }
        },
        {
         "layout": {
          "scene": {
           "camera": {
            "eye": {
             "x": -0.5186724805247199,
             "y": 1.6899641587756626,
             "z": 0.8
            }
           }
          }
         }
        },
        {
         "layout": {
          "scene": {
           "camera": {
            "eye": {
             "x": -0.347366382555924,
             "y": 1.733302223003828,
             "z": 0.8
            }
           }
          }
         }
        },
        {
         "layout": {
          "scene": {
           "camera": {
            "eye": {
             "x": -0.17258951451669058,
             "y": 1.7593217043732774,
             "z": 0.8
            }
           }
          }
         }
        },
        {
         "layout": {
          "scene": {
           "camera": {
            "eye": {
             "x": 0.0039118109010850555,
             "y": 1.767762624827065,
             "z": 0.8
            }
           }
          }
         }
        },
        {
         "layout": {
          "scene": {
           "camera": {
            "eye": {
             "x": 0.18037405079741164,
             "y": 1.7585406454782138,
             "z": 0.8
            }
           }
          }
         }
        },
        {
         "layout": {
          "scene": {
           "camera": {
            "eye": {
             "x": 0.3550340528019027,
             "y": 1.7317479092959966,
             "z": 0.8
            }
           }
          }
         }
        },
        {
         "layout": {
          "scene": {
           "camera": {
            "eye": {
             "x": 0.5261466719094534,
             "y": 1.6876521204438448,
             "z": 0.8
            }
           }
          }
         }
        },
        {
         "layout": {
          "scene": {
           "camera": {
            "eye": {
             "x": 0.6920022073922499,
             "y": 1.62669386946784,
             "z": 0.8
            }
           }
          }
         }
        },
        {
         "layout": {
          "scene": {
           "camera": {
            "eye": {
             "x": 0.8509434855643001,
             "y": 1.5494822310616148,
             "z": 0.8
            }
           }
          }
         }
        },
        {
         "layout": {
          "scene": {
           "camera": {
            "eye": {
             "x": 1.001382417713112,
             "y": 1.4567886783933495,
             "z": 0.8
            }
           }
          }
         }
        },
        {
         "layout": {
          "scene": {
           "camera": {
            "eye": {
             "x": 1.1418158677571515,
             "y": 1.3495393748008924,
             "z": 0.8
            }
           }
          }
         }
        },
        {
         "layout": {
          "scene": {
           "camera": {
            "eye": {
             "x": 1.270840671084707,
             "y": 1.2288059198738308,
             "z": 0.8
            }
           }
          }
         }
        },
        {
         "layout": {
          "scene": {
           "camera": {
            "eye": {
             "x": 1.3871676545108578,
             "y": 1.0957946423846239,
             "z": 0.8
            }
           }
          }
         }
        },
        {
         "layout": {
          "scene": {
           "camera": {
            "eye": {
             "x": 1.4896345172697987,
             "y": 0.9518345470502599,
             "z": 0.8
            }
           }
          }
         }
        },
        {
         "layout": {
          "scene": {
           "camera": {
            "eye": {
             "x": 1.577217444339885,
             "y": 0.7983640355564382,
             "z": 0.8
            }
           }
          }
         }
        },
        {
         "layout": {
          "scene": {
           "camera": {
            "eye": {
             "x": 1.6490413360648972,
             "y": 0.6369165345234014,
             "z": 0.8
            }
           }
          }
         }
        },
        {
         "layout": {
          "scene": {
           "camera": {
            "eye": {
             "x": 1.7043885518605422,
             "y": 0.46910517401401974,
             "z": 0.8
            }
           }
          }
         }
        },
        {
         "layout": {
          "scene": {
           "camera": {
            "eye": {
             "x": 1.742706080641946,
             "y": 0.2966066696714459,
             "z": 0.8
            }
           }
          }
         }
        },
        {
         "layout": {
          "scene": {
           "camera": {
            "eye": {
             "x": 1.7636110663276172,
             "y": 0.12114456953064445,
             "z": 0.8
            }
           }
          }
         }
        },
        {
         "layout": {
          "scene": {
           "camera": {
            "eye": {
             "x": 1.766894633210853,
             "y": -0.05552796710383823,
             "z": 0.8
            }
           }
          }
         }
        },
        {
         "layout": {
          "scene": {
           "camera": {
            "eye": {
             "x": 1.7525239729767597,
             "y": -0.23164568664612328,
             "z": 0.8
            }
           }
          }
         }
        },
        {
         "layout": {
          "scene": {
           "camera": {
            "eye": {
             "x": 1.7206426725120867,
             "y": -0.4054488790593255,
             "z": 0.8
            }
           }
          }
         }
        },
        {
         "layout": {
          "scene": {
           "camera": {
            "eye": {
             "x": 1.6715692792325216,
             "y": -0.5752009602965458,
             "z": 0.8
            }
           }
          }
         }
        },
        {
         "layout": {
          "scene": {
           "camera": {
            "eye": {
             "x": 1.605794118262206,
             "y": -0.7392058236746413,
             "z": 0.8
            }
           }
          }
         }
        },
        {
         "layout": {
          "scene": {
           "camera": {
            "eye": {
             "x": 1.5239743932671765,
             "y": -0.8958247868115395,
             "z": 0.8
            }
           }
          }
         }
        },
        {
         "layout": {
          "scene": {
           "camera": {
            "eye": {
             "x": 1.426927619893581,
             "y": -1.04349296479892,
             "z": 0.8
            }
           }
          }
         }
        },
        {
         "layout": {
          "scene": {
           "camera": {
            "eye": {
             "x": 1.3156234574215673,
             "y": -1.180734906014945,
             "z": 0.8
            }
           }
          }
         }
        },
        {
         "layout": {
          "scene": {
           "camera": {
            "eye": {
             "x": 1.1911740202502938,
             "y": -1.3061793343491364,
             "z": 0.8
            }
           }
          }
         }
        },
        {
         "layout": {
          "scene": {
           "camera": {
            "eye": {
             "x": 1.0548227660184604,
             "y": -1.4185728505399942,
             "z": 0.8
            }
           }
          }
         }
        },
        {
         "layout": {
          "scene": {
           "camera": {
            "eye": {
             "x": 0.9079320713866189,
             "y": -1.5167924557260966,
             "z": 0.8
            }
           }
          }
         }
        },
        {
         "layout": {
          "scene": {
           "camera": {
            "eye": {
             "x": 0.7519696196199205,
             "y": -1.599856772079511,
             "z": 0.8
            }
           }
          }
         }
        },
        {
         "layout": {
          "scene": {
           "camera": {
            "eye": {
             "x": 0.5884937359820905,
             "y": -1.6669358484086425,
             "z": 0.8
            }
           }
          }
         }
        },
        {
         "layout": {
          "scene": {
           "camera": {
            "eye": {
             "x": 0.41913781746449363,
             "y": -1.7173594527562077,
             "z": 0.8
            }
           }
          }
         }
        },
        {
         "layout": {
          "scene": {
           "camera": {
            "eye": {
             "x": 0.24559401242333323,
             "y": -1.7506237691353923,
             "z": 0.8
            }
           }
          }
         }
        },
        {
         "layout": {
          "scene": {
           "camera": {
            "eye": {
             "x": 0.06959631319262605,
             "y": -1.7663964314926572,
             "z": 0.8
            }
           }
          }
         }
        },
        {
         "layout": {
          "scene": {
           "camera": {
            "eye": {
             "x": -0.10709676939402235,
             "y": -1.7645198445994774,
             "z": 0.8
            }
           }
          }
         }
        },
        {
         "layout": {
          "scene": {
           "camera": {
            "eye": {
             "x": -0.2827197764623679,
             "y": -1.745012758691772,
             "z": 0.8
            }
           }
          }
         }
        },
        {
         "layout": {
          "scene": {
           "camera": {
            "eye": {
             "x": -0.45551794097903464,
             "y": -1.7080700821237462,
             "z": 0.8
            }
           }
          }
         }
        },
        {
         "layout": {
          "scene": {
           "camera": {
            "eye": {
             "x": -0.6237647208036504,
             "y": -1.6540609339080419,
             "z": 0.8
            }
           }
          }
         }
        },
        {
         "layout": {
          "scene": {
           "camera": {
            "eye": {
             "x": -0.7857790497271997,
             "y": -1.58352495560058,
             "z": 0.8
            }
           }
          }
         }
        },
        {
         "layout": {
          "scene": {
           "camera": {
            "eye": {
             "x": -0.9399421341298975,
             "y": -1.4971669193805124,
             "z": 0.8
            }
           }
          }
         }
        },
        {
         "layout": {
          "scene": {
           "camera": {
            "eye": {
             "x": -1.0847136274319271,
             "y": -1.3958496861995813,
             "z": 0.8
            }
           }
          }
         }
        },
        {
         "layout": {
          "scene": {
           "camera": {
            "eye": {
             "x": -1.218647020727311,
             "y": -1.2805855843607052,
             "z": 0.8
            }
           }
          }
         }
        },
        {
         "layout": {
          "scene": {
           "camera": {
            "eye": {
             "x": -1.3404040958227346,
             "y": -1.1525262946682115,
             "z": 0.8
            }
           }
          }
         }
        },
        {
         "layout": {
          "scene": {
           "camera": {
            "eye": {
             "x": -1.448768296271385,
             "y": -1.0129513432139317,
             "z": 0.8
            }
           }
          }
         }
        },
        {
         "layout": {
          "scene": {
           "camera": {
            "eye": {
             "x": -1.5426568828028173,
             "y": -0.8632553167754569,
             "z": 0.8
            }
           }
          }
         }
        },
        {
         "layout": {
          "scene": {
           "camera": {
            "eye": {
             "x": -1.6211317516958519,
             "y": -0.7049339285660311,
             "z": 0.8
            }
           }
          }
         }
        },
        {
         "layout": {
          "scene": {
           "camera": {
            "eye": {
             "x": -1.6834088080008527,
             "y": -0.5395690735625494,
             "z": 0.8
            }
           }
          }
         }
        },
        {
         "layout": {
          "scene": {
           "camera": {
            "eye": {
             "x": -1.7288657999572776,
             "y": -0.3688130227338533,
             "z": 0.8
            }
           }
          }
         }
        },
        {
         "layout": {
          "scene": {
           "camera": {
            "eye": {
             "x": -1.7570485363275825,
             "y": -0.1943719140953739,
             "z": 0.8
            }
           }
          }
         }
        },
        {
         "layout": {
          "scene": {
           "camera": {
            "eye": {
             "x": -1.7676754245259283,
             "y": -0.017988705542069106,
             "z": 0.8
            }
           }
          }
         }
        }
       ],
       "layout": {
        "template": {
         "data": {
          "bar": [
           {
            "error_x": {
             "color": "#2a3f5f"
            },
            "error_y": {
             "color": "#2a3f5f"
            },
            "marker": {
             "line": {
              "color": "#E5ECF6",
              "width": 0.5
             },
             "pattern": {
              "fillmode": "overlay",
              "size": 10,
              "solidity": 0.2
             }
            },
            "type": "bar"
           }
          ],
          "barpolar": [
           {
            "marker": {
             "line": {
              "color": "#E5ECF6",
              "width": 0.5
             },
             "pattern": {
              "fillmode": "overlay",
              "size": 10,
              "solidity": 0.2
             }
            },
            "type": "barpolar"
           }
          ],
          "carpet": [
           {
            "aaxis": {
             "endlinecolor": "#2a3f5f",
             "gridcolor": "white",
             "linecolor": "white",
             "minorgridcolor": "white",
             "startlinecolor": "#2a3f5f"
            },
            "baxis": {
             "endlinecolor": "#2a3f5f",
             "gridcolor": "white",
             "linecolor": "white",
             "minorgridcolor": "white",
             "startlinecolor": "#2a3f5f"
            },
            "type": "carpet"
           }
          ],
          "choropleth": [
           {
            "colorbar": {
             "outlinewidth": 0,
             "ticks": ""
            },
            "type": "choropleth"
           }
          ],
          "contour": [
           {
            "colorbar": {
             "outlinewidth": 0,
             "ticks": ""
            },
            "colorscale": [
             [
              0,
              "#0d0887"
             ],
             [
              0.1111111111111111,
              "#46039f"
             ],
             [
              0.2222222222222222,
              "#7201a8"
             ],
             [
              0.3333333333333333,
              "#9c179e"
             ],
             [
              0.4444444444444444,
              "#bd3786"
             ],
             [
              0.5555555555555556,
              "#d8576b"
             ],
             [
              0.6666666666666666,
              "#ed7953"
             ],
             [
              0.7777777777777778,
              "#fb9f3a"
             ],
             [
              0.8888888888888888,
              "#fdca26"
             ],
             [
              1,
              "#f0f921"
             ]
            ],
            "type": "contour"
           }
          ],
          "contourcarpet": [
           {
            "colorbar": {
             "outlinewidth": 0,
             "ticks": ""
            },
            "type": "contourcarpet"
           }
          ],
          "heatmap": [
           {
            "colorbar": {
             "outlinewidth": 0,
             "ticks": ""
            },
            "colorscale": [
             [
              0,
              "#0d0887"
             ],
             [
              0.1111111111111111,
              "#46039f"
             ],
             [
              0.2222222222222222,
              "#7201a8"
             ],
             [
              0.3333333333333333,
              "#9c179e"
             ],
             [
              0.4444444444444444,
              "#bd3786"
             ],
             [
              0.5555555555555556,
              "#d8576b"
             ],
             [
              0.6666666666666666,
              "#ed7953"
             ],
             [
              0.7777777777777778,
              "#fb9f3a"
             ],
             [
              0.8888888888888888,
              "#fdca26"
             ],
             [
              1,
              "#f0f921"
             ]
            ],
            "type": "heatmap"
           }
          ],
          "heatmapgl": [
           {
            "colorbar": {
             "outlinewidth": 0,
             "ticks": ""
            },
            "colorscale": [
             [
              0,
              "#0d0887"
             ],
             [
              0.1111111111111111,
              "#46039f"
             ],
             [
              0.2222222222222222,
              "#7201a8"
             ],
             [
              0.3333333333333333,
              "#9c179e"
             ],
             [
              0.4444444444444444,
              "#bd3786"
             ],
             [
              0.5555555555555556,
              "#d8576b"
             ],
             [
              0.6666666666666666,
              "#ed7953"
             ],
             [
              0.7777777777777778,
              "#fb9f3a"
             ],
             [
              0.8888888888888888,
              "#fdca26"
             ],
             [
              1,
              "#f0f921"
             ]
            ],
            "type": "heatmapgl"
           }
          ],
          "histogram": [
           {
            "marker": {
             "pattern": {
              "fillmode": "overlay",
              "size": 10,
              "solidity": 0.2
             }
            },
            "type": "histogram"
           }
          ],
          "histogram2d": [
           {
            "colorbar": {
             "outlinewidth": 0,
             "ticks": ""
            },
            "colorscale": [
             [
              0,
              "#0d0887"
             ],
             [
              0.1111111111111111,
              "#46039f"
             ],
             [
              0.2222222222222222,
              "#7201a8"
             ],
             [
              0.3333333333333333,
              "#9c179e"
             ],
             [
              0.4444444444444444,
              "#bd3786"
             ],
             [
              0.5555555555555556,
              "#d8576b"
             ],
             [
              0.6666666666666666,
              "#ed7953"
             ],
             [
              0.7777777777777778,
              "#fb9f3a"
             ],
             [
              0.8888888888888888,
              "#fdca26"
             ],
             [
              1,
              "#f0f921"
             ]
            ],
            "type": "histogram2d"
           }
          ],
          "histogram2dcontour": [
           {
            "colorbar": {
             "outlinewidth": 0,
             "ticks": ""
            },
            "colorscale": [
             [
              0,
              "#0d0887"
             ],
             [
              0.1111111111111111,
              "#46039f"
             ],
             [
              0.2222222222222222,
              "#7201a8"
             ],
             [
              0.3333333333333333,
              "#9c179e"
             ],
             [
              0.4444444444444444,
              "#bd3786"
             ],
             [
              0.5555555555555556,
              "#d8576b"
             ],
             [
              0.6666666666666666,
              "#ed7953"
             ],
             [
              0.7777777777777778,
              "#fb9f3a"
             ],
             [
              0.8888888888888888,
              "#fdca26"
             ],
             [
              1,
              "#f0f921"
             ]
            ],
            "type": "histogram2dcontour"
           }
          ],
          "mesh3d": [
           {
            "colorbar": {
             "outlinewidth": 0,
             "ticks": ""
            },
            "type": "mesh3d"
           }
          ],
          "parcoords": [
           {
            "line": {
             "colorbar": {
              "outlinewidth": 0,
              "ticks": ""
             }
            },
            "type": "parcoords"
           }
          ],
          "pie": [
           {
            "automargin": true,
            "type": "pie"
           }
          ],
          "scatter": [
           {
            "fillpattern": {
             "fillmode": "overlay",
             "size": 10,
             "solidity": 0.2
            },
            "type": "scatter"
           }
          ],
          "scatter3d": [
           {
            "line": {
             "colorbar": {
              "outlinewidth": 0,
              "ticks": ""
             }
            },
            "marker": {
             "colorbar": {
              "outlinewidth": 0,
              "ticks": ""
             }
            },
            "type": "scatter3d"
           }
          ],
          "scattercarpet": [
           {
            "marker": {
             "colorbar": {
              "outlinewidth": 0,
              "ticks": ""
             }
            },
            "type": "scattercarpet"
           }
          ],
          "scattergeo": [
           {
            "marker": {
             "colorbar": {
              "outlinewidth": 0,
              "ticks": ""
             }
            },
            "type": "scattergeo"
           }
          ],
          "scattergl": [
           {
            "marker": {
             "colorbar": {
              "outlinewidth": 0,
              "ticks": ""
             }
            },
            "type": "scattergl"
           }
          ],
          "scattermapbox": [
           {
            "marker": {
             "colorbar": {
              "outlinewidth": 0,
              "ticks": ""
             }
            },
            "type": "scattermapbox"
           }
          ],
          "scatterpolar": [
           {
            "marker": {
             "colorbar": {
              "outlinewidth": 0,
              "ticks": ""
             }
            },
            "type": "scatterpolar"
           }
          ],
          "scatterpolargl": [
           {
            "marker": {
             "colorbar": {
              "outlinewidth": 0,
              "ticks": ""
             }
            },
            "type": "scatterpolargl"
           }
          ],
          "scatterternary": [
           {
            "marker": {
             "colorbar": {
              "outlinewidth": 0,
              "ticks": ""
             }
            },
            "type": "scatterternary"
           }
          ],
          "surface": [
           {
            "colorbar": {
             "outlinewidth": 0,
             "ticks": ""
            },
            "colorscale": [
             [
              0,
              "#0d0887"
             ],
             [
              0.1111111111111111,
              "#46039f"
             ],
             [
              0.2222222222222222,
              "#7201a8"
             ],
             [
              0.3333333333333333,
              "#9c179e"
             ],
             [
              0.4444444444444444,
              "#bd3786"
             ],
             [
              0.5555555555555556,
              "#d8576b"
             ],
             [
              0.6666666666666666,
              "#ed7953"
             ],
             [
              0.7777777777777778,
              "#fb9f3a"
             ],
             [
              0.8888888888888888,
              "#fdca26"
             ],
             [
              1,
              "#f0f921"
             ]
            ],
            "type": "surface"
           }
          ],
          "table": [
           {
            "cells": {
             "fill": {
              "color": "#EBF0F8"
             },
             "line": {
              "color": "white"
             }
            },
            "header": {
             "fill": {
              "color": "#C8D4E3"
             },
             "line": {
              "color": "white"
             }
            },
            "type": "table"
           }
          ]
         },
         "layout": {
          "annotationdefaults": {
           "arrowcolor": "#2a3f5f",
           "arrowhead": 0,
           "arrowwidth": 1
          },
          "autotypenumbers": "strict",
          "coloraxis": {
           "colorbar": {
            "outlinewidth": 0,
            "ticks": ""
           }
          },
          "colorscale": {
           "diverging": [
            [
             0,
             "#8e0152"
            ],
            [
             0.1,
             "#c51b7d"
            ],
            [
             0.2,
             "#de77ae"
            ],
            [
             0.3,
             "#f1b6da"
            ],
            [
             0.4,
             "#fde0ef"
            ],
            [
             0.5,
             "#f7f7f7"
            ],
            [
             0.6,
             "#e6f5d0"
            ],
            [
             0.7,
             "#b8e186"
            ],
            [
             0.8,
             "#7fbc41"
            ],
            [
             0.9,
             "#4d9221"
            ],
            [
             1,
             "#276419"
            ]
           ],
           "sequential": [
            [
             0,
             "#0d0887"
            ],
            [
             0.1111111111111111,
             "#46039f"
            ],
            [
             0.2222222222222222,
             "#7201a8"
            ],
            [
             0.3333333333333333,
             "#9c179e"
            ],
            [
             0.4444444444444444,
             "#bd3786"
            ],
            [
             0.5555555555555556,
             "#d8576b"
            ],
            [
             0.6666666666666666,
             "#ed7953"
            ],
            [
             0.7777777777777778,
             "#fb9f3a"
            ],
            [
             0.8888888888888888,
             "#fdca26"
            ],
            [
             1,
             "#f0f921"
            ]
           ],
           "sequentialminus": [
            [
             0,
             "#0d0887"
            ],
            [
             0.1111111111111111,
             "#46039f"
            ],
            [
             0.2222222222222222,
             "#7201a8"
            ],
            [
             0.3333333333333333,
             "#9c179e"
            ],
            [
             0.4444444444444444,
             "#bd3786"
            ],
            [
             0.5555555555555556,
             "#d8576b"
            ],
            [
             0.6666666666666666,
             "#ed7953"
            ],
            [
             0.7777777777777778,
             "#fb9f3a"
            ],
            [
             0.8888888888888888,
             "#fdca26"
            ],
            [
             1,
             "#f0f921"
            ]
           ]
          },
          "colorway": [
           "#636efa",
           "#EF553B",
           "#00cc96",
           "#ab63fa",
           "#FFA15A",
           "#19d3f3",
           "#FF6692",
           "#B6E880",
           "#FF97FF",
           "#FECB52"
          ],
          "font": {
           "color": "#2a3f5f"
          },
          "geo": {
           "bgcolor": "white",
           "lakecolor": "white",
           "landcolor": "#E5ECF6",
           "showlakes": true,
           "showland": true,
           "subunitcolor": "white"
          },
          "hoverlabel": {
           "align": "left"
          },
          "hovermode": "closest",
          "mapbox": {
           "style": "light"
          },
          "paper_bgcolor": "white",
          "plot_bgcolor": "#E5ECF6",
          "polar": {
           "angularaxis": {
            "gridcolor": "white",
            "linecolor": "white",
            "ticks": ""
           },
           "bgcolor": "#E5ECF6",
           "radialaxis": {
            "gridcolor": "white",
            "linecolor": "white",
            "ticks": ""
           }
          },
          "scene": {
           "xaxis": {
            "backgroundcolor": "#E5ECF6",
            "gridcolor": "white",
            "gridwidth": 2,
            "linecolor": "white",
            "showbackground": true,
            "ticks": "",
            "zerolinecolor": "white"
           },
           "yaxis": {
            "backgroundcolor": "#E5ECF6",
            "gridcolor": "white",
            "gridwidth": 2,
            "linecolor": "white",
            "showbackground": true,
            "ticks": "",
            "zerolinecolor": "white"
           },
           "zaxis": {
            "backgroundcolor": "#E5ECF6",
            "gridcolor": "white",
            "gridwidth": 2,
            "linecolor": "white",
            "showbackground": true,
            "ticks": "",
            "zerolinecolor": "white"
           }
          },
          "shapedefaults": {
           "line": {
            "color": "#2a3f5f"
           }
          },
          "ternary": {
           "aaxis": {
            "gridcolor": "white",
            "linecolor": "white",
            "ticks": ""
           },
           "baxis": {
            "gridcolor": "white",
            "linecolor": "white",
            "ticks": ""
           },
           "bgcolor": "#E5ECF6",
           "caxis": {
            "gridcolor": "white",
            "linecolor": "white",
            "ticks": ""
           }
          },
          "title": {
           "x": 0.05
          },
          "xaxis": {
           "automargin": true,
           "gridcolor": "white",
           "linecolor": "white",
           "ticks": "",
           "title": {
            "standoff": 15
           },
           "zerolinecolor": "white",
           "zerolinewidth": 2
          },
          "yaxis": {
           "automargin": true,
           "gridcolor": "white",
           "linecolor": "white",
           "ticks": "",
           "title": {
            "standoff": 15
           },
           "zerolinecolor": "white",
           "zerolinewidth": 2
          }
         }
        },
        "updatemenus": [
         {
          "buttons": [
           {
            "args": [
             null,
             {
              "frame": {
               "duration": 50,
               "redraw": true
              },
              "fromcurrent": true,
              "mode": "immediate",
              "transition": {
               "duration": 0
              }
             }
            ],
            "label": "Play",
            "method": "animate"
           }
          ],
          "pad": {
           "r": 10,
           "t": 45
          },
          "showactive": false,
          "type": "buttons",
          "x": 0.8,
          "xanchor": "left",
          "y": 1,
          "yanchor": "bottom"
         }
        ]
       }
      },
      "text/html": [
       "<div>                            <div id=\"6a5100ec-46a7-4fd2-97cb-e8a12b316a6f\" class=\"plotly-graph-div\" style=\"height:525px; width:100%;\"></div>            <script type=\"text/javascript\">                require([\"plotly\"], function(Plotly) {                    window.PLOTLYENV=window.PLOTLYENV || {};                                    if (document.getElementById(\"6a5100ec-46a7-4fd2-97cb-e8a12b316a6f\")) {                    Plotly.newPlot(                        \"6a5100ec-46a7-4fd2-97cb-e8a12b316a6f\",                        [{\"mode\":\"markers\",\"x\":[0.3728894591331482,0.3728436827659607,0.37357214093208313,0.37372514605522156,0.3735487759113312,0.37436115741729736,0.3745102286338806,0.3744974732398987,0.37432152032852173,0.373816579580307,0.37513411045074463,0.375442236661911,0.37542882561683655,0.37509122490882874,0.3745897710323334,0.3757619559764862,0.3760637044906616,0.37620797753334045,0.3760329484939575,0.3758578896522522,0.3753599226474762,0.3767082393169403,0.3766891062259674,0.37682899832725525,0.37697067856788635,0.37679606676101685,0.37662145495414734,0.3761270046234131,0.37745991349220276,0.37743890285491943,0.3775750398635864,0.3777129650115967,0.3775383532047272,0.3775213360786438,0.37718909978866577,0.3766975402832031,0.37829455733299255,0.37827226519584656,0.37840545177459717,0.37838539481163025,0.3783662021160126,0.3781920373439789,0.3780178725719452,0.37768691778182983,0.37892794609069824,0.379055380821228,0.3790320158004761,0.37916257977485657,0.3791414201259613,0.3789672553539276,0.3789474368095398,0.37861892580986023,0.37828949093818665,0.3796088993549347,0.37988337874412537,0.37985873222351074,0.37983500957489014,0.3798121511936188,0.37979018688201904,0.37961646914482117,0.3794427216053009,0.3789619207382202,0.3780174255371094,0.38051605224609375,0.38063791394233704,0.38061219453811646,0.3805873692035675,0.3805634379386902,0.3803897202014923,0.38021597266197205,0.38004225492477417,0.379564493894577,0.3787800967693329,0.3811935782432556,0.38145923614501953,0.38128462433815,0.381258100271225,0.38123244047164917,0.3810587227344513,0.38088497519493103,0.38071125745773315,0.38038724660873413,0.37976083159446716,0.3817613422870636,0.3820211887359619,0.3819919526576996,0.3819636404514313,0.3819361925125122,0.38176247477531433,0.38158875703811646,0.3814150094985962,0.3812412917613983,0.38076967000961304,0.37984809279441833,0.38265693187713623,0.3827691674232483,0.38273885846138,0.38270944356918335,0.3825357258319855,0.38250765204429626,0.3823343515396118,0.38201454281806946,0.3818408250808716,0.38137224316596985,0.38287222385406494,0.3834044635295868,0.38351407647132874,0.3834826946258545,0.3833089768886566,0.38327890634536743,0.38310563564300537,0.3829323351383209,0.38261404633522034,0.38244032859802246,0.3818289339542389,0.3836592733860016,0.3841838538646698,0.384149968624115,0.3841169774532318,0.38394322991371155,0.3839115500450134,0.38373827934265137,0.3835650086402893,0.38324832916259766,0.3830746114253998,0.38261231780052185,0.384443074464798,0.384821355342865,0.38478586077690125,0.38475123047828674,0.38471749424934387,0.3845442235469818,0.38437092304229736,0.3841976523399353,0.38402435183525085,0.3837088644504547,0.38324981927871704,0.38235974311828613,0.38552871346473694,0.38549140095710754,0.3854549825191498,0.38541945815086365,0.3852461576461792,0.38507288694381714,0.3848995864391327,0.38472631573677063,0.38441261649131775,0.38409802317619324,0.38349995017051697,0.38596591353416443,0.38619697093963623,0.3861587345600128,0.38598501682281494,0.38594815135002136,0.3857748508453369,0.38560158014297485,0.3854282796382904,0.38525500893592834,0.3849426507949829,0.38448992371559143,0.3863123655319214,0.3868037164211273,0.38676318526268005,0.38672351837158203,0.38668474555015564,0.3865114748477936,0.38647404313087463,0.386301189661026,0.3859916031360626,0.38581833243370056,0.3855074346065521,0.38478145003318787,0.38715073466300964,0.38750356435775757,0.3874620199203491,0.38728830218315125,0.38724809885025024,0.3872087597846985,0.38703593611717224,0.3868630826473236,0.3865549564361572,0.3862459361553192,0.38593602180480957,0.3850787281990051,0.3879833221435547,0.3880697786808014,0.38802680373191833,0.3879847228527069,0.38781142234802246,0.3877706527709961,0.38759782910346985,0.3874249756336212,0.38711827993392944,0.38681069016456604,0.3863674998283386,0.38824915885925293,0.3887162208557129,0.38867083191871643,0.3886263072490692,0.388582706451416,0.38853996992111206,0.3883671164512634,0.3881942927837372,0.38802143931388855,0.38771626353263855,0.3874102234840393,0.38683685660362244,0.38898617029190063,0.38944604992866516,0.38927188515663147,0.3892258405685425,0.3891806900501251,0.3891364336013794,0.38896358013153076,0.3887907564640045,0.3886179029941559,0.38831427693367004,0.3880097568035126,0.3873092830181122,0.38975533843040466,0.3900819420814514,0.3900338411331177,0.3898600935935974,0.3898133337497711,0.38976746797561646,0.3895946145057678,0.3895500600337982,0.38924893736839294,0.38894692063331604,0.3886440098285675,0.38795003294944763,0.39039769768714905,0.3907178044319153,0.3906680941581726,0.39049437642097473,0.3904459774494171,0.3903985023498535,0.3903518617153168,0.39017948508262634,0.38987997174263,0.38957956433296204,0.38927826285362244,0.38871920108795166,0.39104005694389343,0.39135369658470154,0.3913023769855499,0.39112862944602966,0.3910786211490631,0.3910295069217682,0.3909812867641449,0.3908088803291321,0.39051100611686707,0.39021220803260803,0.38991254568099976,0.3893583416938782,0.391477108001709,0.39190372824668884,0.39185023307800293,0.39179766178131104,0.391745924949646,0.391695111989975,0.3916451632976532,0.39147278666496277,0.39130038022994995,0.3908795118331909,0.39058154821395874,0.3901575803756714,0.3893551528453827,0.3925761580467224,0.3925209641456604,0.39246666431427,0.3924132287502289,0.39236071705818176,0.3923090696334839,0.39213666319847107,0.39196428656578064,0.3916693329811096,0.39137354493141174,0.3909534215927124,0.3901599645614624,0.3931313157081604,0.39319169521331787,0.393135666847229,0.39308056235313416,0.39302632212638855,0.3929729759693146,0.39280056953430176,0.39262816309928894,0.3923349380493164,0.39204084873199463,0.3916241526603699,0.3909613788127899,0.3935742974281311,0.39386239647865295,0.3938046991825104,0.39374786615371704,0.39369192719459534,0.3936368525028229,0.39346444606781006,0.39329206943511963,0.3930005431175232,0.3927081525325775,0.3924148678779602,0.39175936579704285,0.394137978553772,0.3945331275463104,0.39447370171546936,0.3944151699542999,0.39435750246047974,0.39430075883865356,0.39412835240364075,0.39395594596862793,0.39366614818573,0.3933754563331604,0.3930838704109192,0.3925539255142212,0.3948590159416199,0.39513418078422546,0.39507320523262024,0.39501315355300903,0.39495396614074707,0.39489567279815674,0.3947232663631439,0.3945508897304535,0.3942626118659973,0.3939734399318695,0.39368337392807007,0.39315804839134216,0.39557698369026184,0.3957352340221405,0.3956727385520935,0.39561113715171814,0.3956630229949951,0.3954906165599823,0.3953182101249695,0.39514580368995667,0.39485907554626465,0.3945714235305786,0.39428290724754333,0.39353078603744507,0.3962918817996979,0.39644598960876465,0.3963824212551117,0.39631974697113037,0.3962579369544983,0.3960855305194855,0.39591315388679504,0.3957407474517822,0.395455539226532,0.3951694071292877,0.39476871490478516,0.3940238058567047,0.39689600467681885,0.3970454931259155,0.3969804048538208,0.3969162106513977,0.39685288071632385,0.39668047428131104,0.3965080678462982,0.3963356614112854,0.3960520029067993,0.3957674205303192,0.3952575922012329,0.39732256531715393,0.3976777195930481,0.39761027693748474,0.397543728351593,0.3975857198238373,0.39741331338882446,0.39724093675613403,0.3970685303211212,0.39678671956062317,0.3965040147304535,0.39622044563293457,0.39571452140808105,0.39810484647750854,0.3982439339160919,0.3982803523540497,0.39821282029151917,0.3981461822986603,0.39797377586364746,0.39780136942863464,0.3976289927959442,0.3973486125469208,0.3970673680305481,0.3966763913631439,0.39595574140548706,0.3988133668899536,0.3989483118057251,0.3988783657550812,0.3988092839717865,0.39874109625816345,0.398568719625473,0.3983963131904602,0.3982239067554474,0.3979450762271881,0.3976653516292572,0.3972774147987366,0.39645665884017944,0.3994174599647522,0.399547815322876,0.3994763493537903,0.39940574765205383,0.399336040019989,0.3991636335849762,0.39899125695228577,0.39881885051727295,0.39854153990745544,0.3981580138206482,0.3977726697921753,0.39976370334625244,0.4001864194869995,0.40021297335624695,0.4001404941082001,0.40006887912750244,0.399896502494812,0.3997240960597992,0.3995516896247864,0.3992762863636017,0.398999959230423,0.398722767829895,0.3980272710323334,0.40069571137428284,0.4008163511753082,0.4007416367530823,0.40066781640052795,0.4005948603153229,0.40052279829978943,0.40025007724761963,0.4000776708126068,0.39980360865592957,0.39942651987075806,0.3990476727485657,0.40111586451530457,0.4014233350753784,0.40144360065460205,0.40136799216270447,0.40129324793815613,0.4012193977832794,0.4009484350681305,0.4007760286331177,0.4005037546157837,0.40023061633110046,0.3998557925224304,0.401700496673584,0.40199899673461914,0.4020153880119324,0.4019376337528229,0.40195712447166443,0.4018815755844116,0.4017096161842346,0.40143993496894836,0.4011693596839905,0.40089792013168335,0.4006255567073822,0.399854838848114,0.40263649821281433,0.4026496708393097,0.40257027745246887,0.40258654952049255,0.4025093615055084,0.4023374021053314,0.4020693600177765,0.40180039405822754,0.40153056383132935,0.4012598395347595,0.4004988372325897,0.4032739996910095,0.4032839238643646,0.40320292115211487,0.4032159447669983,0.4031371474266052,0.40287116169929504,0.4026987552642822,0.4024314284324646,0.40216320753097534,0.401798278093338,0.40114280581474304,0.4039115011692047,0.40391820669174194,0.40383556485176086,0.4038453698158264,0.4036729633808136,0.4035005569458008,0.40332818031311035,0.40306246280670166,0.40279585123062134,0.40243417024612427,0.40178677439689636,0.4045490026473999,0.4045524597167969,0.40446820855140686,0.40447476506233215,0.4043023884296417,0.4041299819946289,0.4039575755596161,0.4036934971809387,0.40342849493026733,0.4030700623989105,0.4024307429790497,0.4051865041255951,0.4051867425441742,0.40510085225105286,0.4051041901111603,0.40493178367614746,0.40475937724113464,0.4045870006084442,0.4043245315551758,0.40406113862991333,0.4037059247493744,0.403074711561203,0.4058240056037903,0.4058209955692291,0.40573349595069885,0.4057336151599884,0.4055612087249756,0.40538880228996277,0.40521639585494995,0.40495553612709045,0.4046938121318817,0.40434181690216064,0.40618425607681274,0.4065104126930237,0.40642049908638,0.40633150935173035,0.4063285291194916,0.40615612268447876,0.40598374605178833,0.4057248532772064,0.4055519998073578,0.4052917957305908,0.4049428701400757,0.4068763554096222,0.4071114659309387,0.4071027636528015,0.4070126712322235,0.40692347288131714,0.4067510664463043,0.4065786600112915,0.40632131695747375,0.4060630798339844,0.40580394864082336,0.4053713381290436,0.4075653851032257,0.40771251916885376,0.407700777053833,0.40760913491249084,0.4075183868408203,0.4073460102081299,0.40709060430526733,0.4069177806377411,0.4066610634326935,0.40640345215797424,0.40589070320129395,0.4082513451576233,0.4083928167819977,0.4082987606525421,0.4082055985927582,0.40803274512290955,0.4078599214553833,0.40768706798553467,0.4075142443180084,0.4072590470314026,0.4070029854774475,0.40641310811042786,0.40893423557281494,0.40899232029914856,0.4088967442512512,0.4088020622730255,0.4086292088031769,0.40845638513565063,0.408283531665802,0.40811070799827576,0.4078570306301117,0.40752124786376953,0.40685686469078064,0.40957337617874146,0.4096266031265259,0.4095293879508972,0.4094330966472626,0.40926024317741394,0.4090874195098877,0.40891456604003906,0.40874171257019043,0.4084896743297577,0.4081571400165558,0.4075024724006653,0.41025158762931824,0.41022610664367676,0.4101274013519287,0.4100295603275299,0.4098567068576813,0.40968388319015503,0.4095110297203064,0.40926095843315125,0.4090876877307892,0.40875816345214844,0.4106680452823639,0.4109267592430115,0.4108986556529999,0.4107988476753235,0.41062602400779724,0.4104531705379486,0.41028034687042236,0.41010749340057373,0.40985894203186035,0.40960952639579773,0.4092060625553131,0.4113488793373108,0.4115278124809265,0.41149666905403137,0.4113953113555908,0.4112224876880646,0.41104963421821594,0.4108767807483673,0.41070395708084106,0.41045695543289185,0.410209059715271,0.4098101854324341,0.41202667355537415,0.41212886571884155,0.4120946526527405,0.41199177503585815,0.4118189513683319,0.4116460978984833,0.41147324442863464,0.4113004207611084,0.41105493903160095,0.4108085632324219,0.4103407561779022,0.41270139813423157,0.4127979278564453,0.4126926362514496,0.4125882387161255,0.412484735250473,0.4123123288154602,0.412069708108902,0.4118262231349945,0.41165292263031006,0.4113365411758423,0.4108743965625763,0.41337308287620544,0.4133974313735962,0.4132906198501587,0.4131847023963928,0.4130796790122986,0.41290727257728577,0.4126661717891693,0.4124242067337036,0.41225090622901917,0.4119375944137573,0.4114815592765808,0.41394779086112976,0.4140317142009735,0.4139232635498047,0.4138157367706299,0.4137090742588043,0.4135366678237915,0.41329720616340637,0.4131243824958801,0.41288357973098755,0.4125734865665436,0.41219276189804077,0.4145885109901428,0.41466596722602844,0.41455593705177307,0.41444677114486694,0.41433849930763245,0.41416609287261963,0.41392824053764343,0.4137553870677948,0.41351622343063354,0.41320937871932983,0.4128335118293762,0.41516807675361633,0.415238618850708,0.41518858075141907,0.415077805519104,0.4149678945541382,0.41479548811912537,0.41462311148643494,0.41438642144203186,0.41414886713027954,0.4139104187488556,0.413539856672287,0.4157620668411255,0.4158843457698822,0.41583025455474854,0.41577795147895813,0.41566628217697144,0.4154938757419586,0.4153214693069458,0.4150865972042084,0.4148508310317993,0.41461417078971863,0.4143766164779663,0.41394543647766113,0.41641759872436523,0.4164755642414093,0.41641920804977417,0.416305273771286,0.4161922335624695,0.41601985692977905,0.41584745049476624,0.41561391949653625,0.41537949442863464,0.4151442050933838,0.4148455560207367,0.41435641050338745,0.4171244204044342,0.41706404089927673,0.4170054495334625,0.41689062118530273,0.4167182147502899,0.4165458083152771,0.41631409525871277,0.4160814583301544,0.41590818762779236,0.41567423939704895,0.415317177772522,0.41764751076698303,0.417692095041275,0.41768449544906616,0.41756734251976013,0.41745108366012573,0.4172786772251129,0.4171062707901001,0.4168759882450104,0.41664478182792664,0.41641274094581604,0.4161797761917114,0.4157669246196747,0.41834598779678345,0.418332576751709,0.4182131886482239,0.418094664812088,0.4179770350456238,0.41780462861061096,0.41763225197792053,0.41740331053733826,0.41717347502708435,0.4169427454471588,0.41665327548980713,0.41888391971588135,0.4189670979976654,0.4188973605632782,0.41882941126823425,0.4186565577983856,0.4185374975204468,0.41836509108543396,0.4181380271911621,0.417910099029541,0.41773679852485657,0.417507529258728,0.41716450452804565,0.4194736182689667,0.41955047845840454,0.41947847604751587,0.41935673356056213,0.41923585534095764,0.4190634787082672,0.4188382029533386,0.41866534948349,0.41843876242637634,0.41821128129959106,0.41798293590545654,0.4174782633781433,0.420158326625824,0.4201311469078064,0.4200071692466736,0.41988405585289,0.4197618365287781,0.41953837871551514,0.4193655252456665,0.4191407263278961,0.41896745562553406,0.4187413156032562,0.41840773820877075,0.420738160610199,0.42075255513191223,0.42067447304725647,0.420501172542572,0.42037680745124817,0.42020395398139954,0.4200311303138733,0.419808030128479,0.41963475942611694,0.4194103181362152,0.4191334545612335,0.42132481932640076,0.421331524848938,0.4212954342365265,0.4211684763431549,0.42104241251945496,0.4208695590496063,0.4206967353820801,0.4204753339290619,0.42030206322669983,0.4200793504714966,0.4198557436466217,0.41937968134880066,0.4219706356525421,0.42188501358032227,0.4218011200428009,0.421673446893692,0.4215005934238434,0.42132776975631714,0.4211079776287079,0.4209347069263458,0.4207136034965515,0.42049163579940796,0.4200252890586853,0.42253202199935913,0.42244288325309753,0.4223991334438324,0.42226991057395935,0.4220970571041107,0.42187926173210144,0.4217059910297394,0.42153269052505493,0.4213131368160248,0.4210459589958191,0.4231258034706116,0.42307382822036743,0.4230245053768158,0.42289313673973083,0.4227626621723175,0.4225465655326843,0.42237329483032227,0.4221999943256378,0.42198213934898376,0.4217633903026581,0.42373037338256836,0.4236730933189392,0.42361849546432495,0.42352578043937683,0.42335250973701477,0.4231792092323303,0.42300593852996826,0.42279013991355896,0.4226164221763611,0.42235589027404785,0.4243405759334564,0.4242404103279114,0.4241807758808136,0.4241237938404083,0.4239504933357239,0.4237772226333618,0.42360392212867737,0.42338964343070984,0.42321592569351196,0.42291659116744995,0.42488133907318115,0.4247790575027466,0.4247160851955414,0.42461779713630676,0.4244445264339447,0.4242323935031891,0.4240586757659912,0.42388492822647095,0.4235907196998596,0.4254903197288513,0.42538437247276306,0.42531606554985046,0.42521411180496216,0.4250403940677643,0.4248666763305664,0.42469292879104614,0.4244810938835144,0.42419129610061646,0.4260298013687134,0.42595523595809937,0.4258488118648529,0.4256742000579834,0.4255349934101105,0.4253966808319092,0.4251866638660431,0.42493897676467896,0.42664003372192383,0.42652830481529236,0.42638537287712097,0.4262433350086212,0.4261021614074707,0.4259275496006012,0.4257529377937317,0.4254726469516754,0.42706918716430664,0.426955908536911,0.4267804026603699,0.42663735151290894,0.4264622926712036,0.42625391483306885,0.42768365144729614,0.4275367558002472,0.4273907542228699,0.4272456467151642,0.42707014083862305,0.4268312156200409,0.428117036819458,0.4279690682888031,0.4278219938278198,0.42761629819869995,0.42855045199394226,0.4283736050128937,0.4290192127227783],\"y\":[0.1302182674407959,0.1339268684387207,0.1296071857213974,0.13250459730625153,0.135721355676651,0.12705636024475098,0.12996651232242584,0.1330137997865677,0.1362224817276001,0.13980241119861603,0.12758344411849976,0.1303190290927887,0.13334845006465912,0.136720210313797,0.14029546082019806,0.12518760561943054,0.12795041501522064,0.13082949817180634,0.13402201235294342,0.1372145265340805,0.1407850980758667,0.12249452620744705,0.12556904554367065,0.12846896052360535,0.13133656978607178,0.1345209926366806,0.13770543038845062,0.14127133786678314,0.1205950379371643,0.12367431074380875,0.1265837699174881,0.1294608861207962,0.13264530897140503,0.1356518417596817,0.13901416957378387,0.14258672297000885,0.11984952539205551,0.12292223423719406,0.1258266717195511,0.12885896861553192,0.13187509775161743,0.1350514441728592,0.13822779059410095,0.14159667491912842,0.11744102090597153,0.12039053440093994,0.12345346808433533,0.1263463944196701,0.12936890125274658,0.13254526257514954,0.13554352521896362,0.13889794051647186,0.14226853847503662,0.116831474006176,0.11964790523052216,0.12270427495241165,0.12574449181556702,0.12876851856708527,0.13177640736103058,0.13494466245174408,0.13811293244361877,0.14166662096977234,0.14585502445697784,0.11725233495235443,0.12018532305955887,0.1232319101691246,0.1262623369693756,0.1292765885591507,0.1324448436498642,0.1356131136417389,0.1387813687324524,0.14233846962451935,0.14633290469646454,0.11664583534002304,0.1194455698132515,0.12263000011444092,0.1256619393825531,0.12867772579193115,0.13184599578380585,0.13501425087451935,0.13818252086639404,0.1415436714887619,0.14532293379306793,0.11552269011735916,0.11833994090557098,0.12139119952917099,0.12442628294229507,0.12744522094726562,0.13061347603797913,0.13378173112869263,0.13695000112056732,0.14011825621128082,0.14368218183517456,0.1478961706161499,0.11594778299331665,0.11887862533330917,0.12192009389400482,0.12494540214538574,0.12811365723609924,0.13111472129821777,0.1342748999595642,0.13761845231056213,0.14078670740127563,0.14435404539108276,0.11390411853790283,0.1164945438504219,0.11941389739513397,0.12244558334350586,0.12561383843421936,0.12862128019332886,0.1317814588546753,0.13494163751602173,0.13828688859939575,0.14145515859127045,0.14522713422775269,0.11381912231445312,0.11640102416276932,0.11944878101348877,0.1224803775548935,0.125648632645607,0.12865598499774933,0.13181616365909576,0.1349763423204422,0.1383216828107834,0.14148995280265808,0.14506086707115173,0.1137339398264885,0.11643598973751068,0.11948366463184357,0.12251516431570053,0.12553051114082336,0.1286906898021698,0.13185086846351624,0.13501104712486267,0.1381712257862091,0.14152474701404572,0.1450958400964737,0.14932774007320404,0.11519718915224075,0.11824800074100494,0.121282659471035,0.12430114299058914,0.12746132910251617,0.13062149286270142,0.13378167152404785,0.13694186508655548,0.140292227268219,0.14365875720977783,0.147454172372818,0.11420316249132156,0.11701234430074692,0.12005013972520828,0.12321840971708298,0.12623195350170135,0.1293921321630478,0.13255231082439423,0.13571248948574066,0.1388726681470871,0.14222797751426697,0.14580266177654266,0.11267083883285522,0.11526712775230408,0.11831776797771454,0.12135224044322968,0.12437054514884949,0.12753072381019592,0.13052478432655334,0.13367688655853271,0.13701127469539642,0.14017145335674286,0.14353007078170776,0.14752447605133057,0.1137542873620987,0.1164468377828598,0.11948607861995697,0.12265433371067047,0.12566933035850525,0.1286681443452835,0.13182023167610168,0.13497233390808105,0.138310045003891,0.14166390895843506,0.14503394067287445,0.149259552359581,0.11482445150613785,0.11775226145982742,0.12078817188739777,0.12380792200565338,0.12696810066699982,0.12996359169483185,0.13311569392681122,0.1362677961587906,0.13960881531238556,0.14296600222587585,0.1465444564819336,0.11277707666158676,0.11537203937768936,0.11842241138219833,0.12145661562681198,0.1244746595621109,0.1274765282869339,0.13062863051891327,0.13378073275089264,0.13693282008171082,0.14027555286884308,0.14363445341587067,0.14742310345172882,0.11333786696195602,0.11591621488332748,0.11909256130456924,0.1221250593662262,0.12514139711856842,0.12814156711101532,0.1312936693429947,0.13444575667381287,0.13759785890579224,0.1409423053264618,0.14430288970470428,0.14830517768859863,0.11325350403785706,0.11595109850168228,0.11899159103631973,0.12215985357761383,0.1251761019229889,0.12817618250846863,0.131328284740448,0.13430412113666534,0.13763247430324554,0.14097701013088226,0.14433768391609192,0.14834032952785492,0.11328873783349991,0.11598597466945648,0.11902638524770737,0.12219464778900146,0.12521080672740936,0.12821079790592194,0.13119462132453918,0.1343386471271515,0.13766708970069885,0.14101170003414154,0.14437247812747955,0.14816679060459137,0.11332397162914276,0.11602085828781128,0.119061179459095,0.1222294420003891,0.12524551153182983,0.12824541330337524,0.13122914731502533,0.13437317311763763,0.13770170509815216,0.141046404838562,0.1444072723388672,0.1482018530368805,0.11295414716005325,0.11554688960313797,0.11859681457281113,0.12163057923316956,0.12464817613363266,0.12764960527420044,0.1306348741054535,0.1337788999080658,0.1369229108095169,0.14044907689094543,0.14380840957164764,0.1473911702632904,0.15165220201015472,0.11494497209787369,0.11799643188714981,0.12103171646595001,0.12405084818601608,0.12705381214618683,0.13004060089588165,0.13318461179733276,0.13632863759994507,0.13966219127178192,0.1430119276046753,0.14658352732658386,0.15082885324954987,0.11446642130613327,0.1173960417509079,0.12043286114931107,0.12345351278781891,0.12645800411701202,0.12944632768630981,0.13259033858776093,0.13573434948921204,0.13906638324260712,0.14241459965705872,0.14598314464092255,0.15000855922698975,0.11410665512084961,0.11679565161466599,0.11983399838209152,0.12285618484020233,0.12586219608783722,0.12885203957557678,0.1319960653781891,0.1351400762796402,0.1384705901145935,0.14181725680828094,0.1451800912618637,0.14919131994247437,0.11362046748399734,0.11619526147842407,0.11923513561487198,0.12225884944200516,0.12526638805866241,0.12825776636600494,0.13140179216861725,0.13454580307006836,0.1378747820854187,0.14121992886066437,0.14458124339580536,0.14837713539600372,0.11417712271213531,0.11686541140079498,0.11990358680486679,0.12292558699846268,0.12593142688274384,0.12892109155654907,0.13206511735916138,0.1352091282606125,0.13853982090950012,0.1418866664171219,0.14524967968463898,0.14905069768428802,0.11473037302494049,0.11753556877374649,0.120572030544281,0.1235923320055008,0.12644042074680328,0.1295844316482544,0.1327284425497055,0.1358724683523178,0.13920484483242035,0.1425534039735794,0.1459181308746338,0.15014950931072235,0.11528021842241287,0.11807221174240112,0.12109889090061188,0.12410939484834671,0.1271037459373474,0.13024775683879852,0.13339176774024963,0.13653579354286194,0.13986988365650177,0.14322015643119812,0.14679281413555145,0.15104080736637115,0.11595378071069717,0.11874065548181534,0.1217656284570694,0.12477443367242813,0.12776707112789154,0.13091108202934265,0.13405510783195496,0.13719911873340607,0.1405349224805832,0.14388689398765564,0.1476709246635437,0.1144404411315918,0.11700493842363358,0.12004275619983673,0.12306440621614456,0.12591518461704254,0.12905919551849365,0.13220322132110596,0.13534723222255707,0.13867828249931335,0.14202548563480377,0.14538885653018951,0.14919093251228333,0.11551108956336975,0.1183103621006012,0.1212029978632927,0.12421324104070663,0.12720732390880585,0.13035133481025696,0.13349536061286926,0.13663937151432037,0.1399737298488617,0.14332427084445953,0.14689746499061584,0.1511467844247818,0.11605895310640335,0.11884503811597824,0.12186974287033081,0.12487827241420746,0.12787064909934998,0.1310146600008011,0.1341586858034134,0.1373026967048645,0.14063875377178192,0.14399100840091705,0.14756761491298676,0.1520417481660843,0.11673251539468765,0.11951348185539246,0.12253648042678833,0.12554331123828888,0.1285339742898941,0.1316780000925064,0.13482201099395752,0.13796602189540863,0.14130379259586334,0.14485958218574524,0.1484476923942566,0.1153494268655777,0.11777973175048828,0.12067507207393646,0.12368666380643845,0.1266821026802063,0.1298261135816574,0.13297012448310852,0.13611415028572083,0.1394471526145935,0.1427963376045227,0.14616167545318604,0.15039615333080292,0.1168026328086853,0.11958306282758713,0.12260588258504868,0.1256125420331955,0.1286030262708664,0.13157735764980316,0.1348910629749298,0.13803507387638092,0.14137302339076996,0.14492915570735931,0.1485176384449005,0.11593909561634064,0.11848476529121399,0.12137652188539505,0.12438631802797318,0.12737995386123657,0.13035741448402405,0.1336679905653,0.1368120014667511,0.14014680683612823,0.1434977799654007,0.14707186818122864,0.11545566469430923,0.11801706999540329,0.12091995775699615,0.12393936514854431,0.12678568065166473,0.12976466119289398,0.13290059566497803,0.13621772825717926,0.13955099880695343,0.14290045201778412,0.14626605808734894,0.15071538090705872,0.11805204302072525,0.12095474451780319,0.12397406995296478,0.12682020664215088,0.12979911267757416,0.132935032248497,0.1362522542476654,0.13958561420440674,0.1429351568222046,0.14630085229873657,0.15075071156024933,0.11808700859546661,0.12098953872919083,0.12400877475738525,0.12685473263263702,0.12983354926109314,0.13314275443553925,0.13628678023815155,0.13962022960186005,0.14296986162662506,0.14654123783111572,0.15078602731227875,0.11812198162078857,0.12102433294057846,0.12404347956180573,0.12688925862312317,0.13003326952457428,0.1331772804260254,0.1363213062286377,0.13965484499931335,0.14300456643104553,0.14657612144947052,0.15082135796546936,0.11815694719552994,0.1210591271519661,0.1240781843662262,0.12692378461360931,0.13006779551506042,0.13321180641651154,0.13635583221912384,0.13968946039676666,0.1430392563343048,0.14661100506782532,0.15085668861865997,0.1181919202208519,0.12109392136335373,0.12411288917064667,0.12695831060409546,0.13010232150554657,0.13324633240699768,0.13639035820960999,0.13972407579421997,0.14307396113872528,0.14664588868618011,0.1508920043706894,0.11822689324617386,0.12112870812416077,0.12414759397506714,0.1269928365945816,0.13013684749603271,0.13328085839748383,0.13642488420009613,0.13975869119167328,0.14310866594314575,0.1466807723045349,0.11634853482246399,0.11876381933689117,0.12179715186357498,0.12481433153152466,0.12765616178512573,0.13080017268657684,0.13394419848918915,0.13727162778377533,0.1404237300157547,0.14377541840076447,0.14735090732574463,0.11690036952495575,0.11943396925926208,0.12232089042663574,0.12532827258110046,0.12831950187683105,0.13146349787712097,0.13460752367973328,0.13793666660785675,0.14128196239471436,0.14464344084262848,0.14843980967998505,0.11744878441095352,0.120104119181633,0.12298762798309326,0.12599331140518188,0.128982812166214,0.1321268379688263,0.1354495882987976,0.13860169053077698,0.14194871485233307,0.1453118771314621,0.1493244469165802,0.1179938018321991,0.12063422799110413,0.12365436553955078,0.1266583353281021,0.12981043756008148,0.13296252489089966,0.13611462712287903,0.1392667293548584,0.1426154524087906,0.1459803283214569,0.15021249651908875,0.11853539943695068,0.12130267173051834,0.1243211105465889,0.12732337415218353,0.1304754763841629,0.13362756371498108,0.13677966594696045,0.13993176817893982,0.1432821899652481,0.1468551754951477,0.15131844580173492,0.11857046186923981,0.12133746594190598,0.12435581535100937,0.12735798954963684,0.1305100917816162,0.1336621791124344,0.13681428134441376,0.13996638357639313,0.14331689476966858,0.1468900591135025,0.1513538509607315,0.11910856515169144,0.12200590968132019,0.12502256035804749,0.12802302837371826,0.13117511570453644,0.1343272179365158,0.13747932016849518,0.14082345366477966,0.1439836323261261,0.1475602090358734,0.11724139750003815,0.11964325606822968,0.12252911180257797,0.1255359649658203,0.12868806719779968,0.13184015452861786,0.13499225676059723,0.1381443589925766,0.14149019122123718,0.1448521912097931,0.1486501693725586,0.11779099702835083,0.12031340599060059,0.12319584935903549,0.12620098888874054,0.1293530911207199,0.13250519335269928,0.13565728068351746,0.13880938291549683,0.1421569287776947,0.1455206423997879,0.1493237316608429,0.11833717674016953,0.1209835559129715,0.12386259436607361,0.12686602771282196,0.13001812994480133,0.1331702172756195,0.13632231950759888,0.13947442173957825,0.14282366633415222,0.14618907868862152,0.15021060407161713,0.11887995153665543,0.12151142954826355,0.12452933192253113,0.12753106653690338,0.1305166333913803,0.13366064429283142,0.1369873583316803,0.1403302252292633,0.14349041879177094,0.1470644623041153,0.15110088884830475,0.11941931396722794,0.12217987328767776,0.12519606947898865,0.1281961053609848,0.13117995858192444,0.13432398438453674,0.13765239715576172,0.14099696278572083,0.14415715634822845,0.1477346122264862,0.15177786350250244,0.11959036439657211,0.1222146674990654,0.12523077428340912,0.1282307207584381,0.13121448457241058,0.1343585103750229,0.13768699765205383,0.1408390998840332,0.14419186115264893,0.147769495844841,0.1515962779521942,0.1196255162358284,0.12224945425987244,0.1252654790878296,0.12826533615589142,0.13124901056289673,0.13439303636550903,0.13772161304950714,0.1408737152814865,0.1442265659570694,0.1478043645620346,0.1516314297914505,0.11979682743549347,0.12242849916219711,0.12530018389225006,0.12829995155334473,0.13128353655338287,0.13442756235599518,0.1375715732574463,0.14090833067893982,0.14426127076148987,0.14763034880161285,0.15144957602024078,0.11881464719772339,0.12133394926786423,0.12421999871730804,0.1270737200975418,0.13006046414375305,0.13320447504520416,0.13634848594665527,0.1396821141242981,0.14303189516067505,0.14639782905578613,0.14977993071079254,0.15384401381015778,0.12050903588533401,0.12313353270292282,0.12600162625312805,0.12899959087371826,0.13198140263557434,0.13512541353702545,0.13826942443847656,0.14160798490047455,0.14496271312236786,0.1483335942029953,0.15193942189216614,0.15625818073749542,0.1220407783985138,0.1249232366681099,0.12777337431907654,0.13075831532478333,0.13390232622623444,0.13704635202884674,0.14038175344467163,0.14373333752155304,0.14689351618289948,0.15026932954788208,0.15410876274108887,0.12071765214204788,0.12334951758384705,0.126071035861969,0.12906882166862488,0.13205045461654663,0.13519446551799774,0.13833847641944885,0.14167721569538116,0.1450321227312088,0.14840316772460938,0.15179039537906647,0.15587492287158966,0.12225379049777985,0.12499282509088516,0.1280018538236618,0.13099469244480133,0.13397137820720673,0.13711540400981903,0.14025941491127014,0.14360308647155762,0.14696292579174042,0.15033891797065735,0.15395498275756836,0.1209266185760498,0.12341945618391037,0.12629492580890656,0.1291380524635315,0.13229015469551086,0.13526351749897003,0.13840752840042114,0.14174644649028778,0.14510151743888855,0.14826169610023499,0.15164101123809814,0.1554909497499466,0.12275367975234985,0.12521374225616455,0.12807124853134155,0.13106392323970795,0.13404043018817902,0.13718445599079132,0.14052021503448486,0.14367231726646423,0.14703233540058136,0.15040850639343262,0.1538008451461792,0.15837015211582184,0.12427447736263275,0.1269981563091278,0.13000206649303436,0.1329897940158844,0.1359613686800003,0.13929399847984314,0.14244608581066132,0.14580295979976654,0.14896315336227417,0.1523442566394806,0.15619955956935883,0.12396436929702759,0.12655404210090637,0.12940473854541779,0.13256490230560303,0.13554608821868896,0.13869819045066833,0.1418502777814865,0.14520563185214996,0.1483658105134964,0.15174539387226105,0.1553686410188675,0.12364814430475235,0.12626010179519653,0.12896870076656342,0.13196757435798645,0.13495028018951416,0.13810238242149353,0.1412544846534729,0.1446083039045334,0.14776848256587982,0.1511465311050415,0.1545407474040985,0.15912136435508728,0.12629516422748566,0.1291648894548416,0.13200227916240692,0.13498489558696747,0.13813699781894684,0.1412891000509262,0.14464300870895386,0.1478031873703003,0.15118132531642914,0.1545756310224533,0.15915678441524506,0.12712374329566956,0.1299981325864792,0.13266901671886444,0.1356499344110489,0.13880203664302826,0.14214956760406494,0.14530974626541138,0.1484699249267578,0.15184977650642395,0.15547354519367218,0.1268257349729538,0.1295577883720398,0.13224133849143982,0.1352318674325943,0.13820622861385345,0.14155222475528717,0.1447124183177948,0.14787259697914124,0.1512509137392044,0.1546453982591629,0.1270146369934082,0.12975451350212097,0.13244587182998657,0.13526657223701477,0.1384267508983612,0.14158692955970764,0.14474712312221527,0.14811745285987854,0.15128570795059204,0.15490660071372986,0.1276950240135193,0.13059313595294952,0.1332874596118927,0.1359333097934723,0.13909348845481873,0.14225366711616516,0.1454138606786728,0.14878588914871216,0.15195414423942566,0.15580646693706512,0.13014847040176392,0.1330253779888153,0.13569197058677673,0.13849616050720215,0.14165633916854858,0.1450187712907791,0.14818702638149261,0.15135528147220612,0.15520302951335907,0.13034571707248688,0.1332305371761322,0.1359049528837204,0.13871702551841736,0.14188529551029205,0.14505356550216675,0.14822182059288025,0.15160857141017914,0.15546467900276184,0.13231602311134338,0.1350160390138626,0.1378505825996399,0.14103500545024872,0.1440202295780182,0.14698930084705353,0.1503729224205017,0.15399613976478577,0.13299641013145447,0.13586795330047607,0.13889189064502716,0.14189967513084412,0.14489127695560455,0.14807571470737457,0.1512601375579834,0.15511998534202576,0.1373666375875473,0.14020727574825287,0.1434078812599182,0.1464042365550995,0.14959675073623657,0.15300963819026947,0.13758201897144318,0.1406187117099762,0.14363925158977509,0.14664360880851746,0.1498442143201828,0.1534857451915741,0.1414872258901596,0.14451414346694946,0.147524893283844,0.1509476602077484,0.14539246261119843,0.14861729741096497,0.14865271747112274],\"z\":[-0.0019121811492368579,-0.0008615690167061985,-0.0019220361718907952,0.00011717805318767205,0.00016131608572322875,-0.001958506880328059,8.088943286566064e-05,0.0011224645422771573,0.0011664917692542076,-0.0007838821038603783,-0.0009530085371807218,0.002083765808492899,0.003125099465250969,0.0021715983748435974,0.00022115306637715548,-0.0019870889373123646,0.0010500699281692505,0.0030890845227986574,0.0031328897457569838,0.0031766952015459538,0.0012261783704161644,-0.0010257679969072342,1.6161870007636026e-05,0.0020554696675390005,0.004094333853572607,0.004138028249144554,0.004181722644716501,0.002231134567409754,-0.0010532980086281896,-1.129908469010843e-05,0.0020281467586755753,0.0040671490132808685,0.004110843408852816,0.005151873920112848,0.00419823219999671,0.0022477279417216778,-6.524286436615512e-05,0.0009766994044184685,0.0030160837341099977,0.004057441838085651,0.005098607856780291,0.0051421914249658585,0.005185774993151426,0.00423221942037344,-0.0010995081393048167,0.0009405020973645151,0.0019822840113192797,0.0040215179324150085,0.00506277522072196,0.005106358788907528,0.006147253327071667,0.005193525925278664,0.004239989910274744,-0.0011093384819105268,0.0019286113092675805,0.002970336936414242,0.004011810757219791,0.00505309272557497,0.006094122771173716,0.006137595511972904,0.006181068252772093,0.004230282735079527,-0.0007110981387086213,0.0008945235749706626,0.0029343217611312866,0.0039758868515491486,0.00501726008951664,0.006058381404727697,0.006101854145526886,0.006145326886326075,0.006188799161463976,0.004238053224980831,0.000293754565063864,0.0008847425342537463,0.003922485280781984,0.003966179676353931,0.00500757759436965,0.006048723589628935,0.0060921963304281235,0.006135668605566025,0.006179141346365213,0.005225494969636202,0.0022779947612434626,-0.00013192679034546018,0.00290609709918499,0.003947733901441097,0.004989177919924259,0.006030370946973562,0.006073843687772751,0.0061173164285719395,0.006160788703709841,0.006204261444509029,0.004253594670444727,-0.0006874905666336417,0.0018720190273597836,0.003911809995770454,0.004953345283865929,0.005994629580527544,0.006038102321326733,0.007079053670167923,0.007122415117919445,0.006168520078063011,0.0062119928188622,0.004261365160346031,-0.0021566147916018963,0.0028778724372386932,0.004917512647807598,0.005958888214081526,0.006002360954880714,0.00704340310767293,0.007086765021085739,0.0071301269344985485,0.0061762514524161816,0.006219723727554083,0.003272120375186205,-0.001159470877610147,0.0038749175146222115,0.004916546866297722,0.005957924760878086,0.006001397501677275,0.007042442448437214,0.007085803896188736,0.007129165809601545,0.006175287999212742,0.0062187607400119305,0.004268167540431023,-0.00016232211783062667,0.0038739494048058987,0.004915581084787846,0.005956961307674646,0.006998119875788689,0.007041481323540211,0.00708484323695302,0.007128204684704542,0.0071715665981173515,0.006217797286808491,0.0042671989649534225,-0.000673713511787355,0.003855503164231777,0.004897181876003742,0.005938609130680561,0.006979814264923334,0.007023175712674856,0.0070665376260876656,0.007109899073839188,0.007153260987251997,0.006199444644153118,0.005245849955826998,0.0022985052783042192,0.0018408031901344657,0.004878782667219639,0.0059202564880251884,0.005963729228824377,0.007004870101809502,0.007048232015222311,0.007091593462973833,0.0071349553763866425,0.007178317289799452,0.006224564742296934,0.004274001345038414,-0.0011810929281637073,0.003853566711768508,0.00489525031298399,0.005936682224273682,0.006977892480790615,0.007021253928542137,0.00806216150522232,0.008105412125587463,0.007151339203119278,0.0071947006508708,0.006240990478545427,0.002296558814123273,0.000831934274174273,0.004868134390562773,0.005909635219722986,0.005953107960522175,0.006994275841861963,0.008035251870751381,0.008078503422439098,0.008121754042804241,0.0071677230298519135,0.006213943473994732,0.005260386038571596,0.0003192835138179362,0.0028447937220335007,0.004884601570665836,0.005926060955971479,0.006967298220843077,0.007010659668594599,0.008051593787968159,0.008094844408333302,0.008138095960021019,0.007184106856584549,0.006230369210243225,0.004279835615307093,-0.001184034743346274,0.0038506616838276386,0.004892352502793074,0.0059337918646633625,0.006975009571760893,0.008016034960746765,0.008059285581111908,0.00810253620147705,0.008145787753164768,0.007191818207502365,0.006238100118935108,0.003290637396275997,-0.00017799668421503156,0.004856519866734743,0.004900103434920311,0.005941523239016533,0.006982720922678709,0.008023726753890514,0.008066977374255657,0.0081102279946208,0.008153478614985943,0.007199529558420181,0.006245831493288279,0.002301448956131935,0.0008192261448130012,0.004855554085224867,0.005897087045013905,0.005940559785813093,0.006981759797781706,0.008022768422961235,0.008066019043326378,0.009106664918363094,0.008152520284056664,0.007198568433523178,0.006244868040084839,0.002300475724041462,0.0008182504680007696,0.004854588303714991,0.005896123591810465,0.0059395963326096535,0.00698079913854599,0.008021809160709381,0.0090625686571002,0.009105708450078964,0.008151561953127384,0.007197607774287462,0.006243904586881399,0.0032964861020445824,0.0008172747911885381,0.004853622522205114,0.005895160138607025,0.005938632879406214,0.006979838013648987,0.008020850829780102,0.009061613120138645,0.009104752913117409,0.008150603622198105,0.007196646649390459,0.0062429411336779594,0.0032955154310911894,-0.001188937691040337,0.0038458202034235,0.004887523595243692,0.005928975064307451,0.006970204878598452,0.008011242374777794,0.009052028879523277,0.00909516867250204,0.009138308465480804,0.007187013514339924,0.006233283318579197,0.004282764624804258,-0.0006579507025890052,0.003836113028228283,0.004877840634435415,0.005919317249208689,0.006960571743547916,0.008001633919775486,0.00904244463890791,0.009085584431886673,0.009128724224865437,0.008174637332558632,0.007220741827040911,0.005270092282444239,0.00032911362359300256,0.002828266704455018,0.0048681581392884254,0.005909658968448639,0.006950938142836094,0.007992025464773178,0.009032860398292542,0.009076000191271305,0.009119140915572643,0.008165028877556324,0.0072111086919903755,0.005260409787297249,0.001316256821155548,0.0008221774478442967,0.004858475644141436,0.005900001153349876,0.006941305007785559,0.00798241700977087,0.009023277088999748,0.009066416881978512,0.009109556674957275,0.008155419491231441,0.00720147555693984,0.006247782148420811,0.0023034196346998215,-0.00018582178745418787,0.004848793148994446,0.005890343338251114,0.0069316718727350235,0.007972807623445988,0.00901369284838438,0.009056832641363144,0.009099972434341908,0.008145811036229134,0.007191841956228018,0.006238124333322048,0.003290661610662937,0.0008202260942198336,0.004856544081121683,0.005898074246942997,0.00693938322365284,0.007980499416589737,0.009021365083754063,0.009064504876732826,0.00910764466971159,0.008153502829372883,0.007199553307145834,0.006245855242013931,0.0032984516583383083,0.00182620482519269,0.0048642950132489204,0.005905805621296167,0.006947094574570656,0.008985896594822407,0.00902903638780117,0.009072176180779934,0.009115316905081272,0.008161194622516632,0.00720726465806365,0.006253586616367102,0.001312354113906622,0.0028321738354861736,0.005870064254850149,0.006911444012075663,0.007952632382512093,0.008993568830192089,0.009036708623170853,0.009079848416149616,0.00912298820912838,0.008168886415660381,0.007214976474642754,0.005264297593384981,0.00032324480707757175,0.0028399641159921885,0.005877795163542032,0.006919155828654766,0.007960324175655842,0.009001241065561771,0.009044380858540535,0.009087520651519299,0.009130660444498062,0.00817657820880413,0.00722268782556057,0.004275017883628607,-0.0001818848541006446,0.004852680489420891,0.0058942208997905254,0.006935539189726114,0.008974400348961353,0.009017540141940117,0.009060680866241455,0.009103820659220219,0.008149669505655766,0.007195709738880396,0.00624200189486146,0.0032945687416940928,0.0018310952000319958,0.004869148135185242,0.006908561568707228,0.00794975645840168,0.008990700356662273,0.009033840149641037,0.009076980873942375,0.009120120666921139,0.008166010491549969,0.007212093565613031,0.005261399783194065,0.0003203103842679411,0.002837051870301366,0.005874905269593,0.006916272919625044,0.00795744825154543,0.008998372592031956,0.00904151238501072,0.009084652177989483,0.009127791970968246,0.008173702284693718,0.0072198049165308475,0.005269150715321302,-0.0006687372224405408,0.0028448421508073807,0.0058826361782848835,0.00692398427054286,0.007965140044689178,0.009006044827401638,0.009049184620380402,0.009092324413359165,0.009135464206337929,0.008181394077837467,0.006230417173355818,0.004279883578419685,-0.0011751360725611448,0.004857534077018499,0.006897006183862686,0.007938231341540813,0.008979205042123795,0.009022344835102558,0.009065484628081322,0.009108624421060085,0.008154485374689102,0.00720053818076849,0.006246842909604311,0.0013055243762210011,0.002842900576069951,0.005880709271878004,0.006922062486410141,0.00796322338283062,0.009004132822155952,0.01004484947770834,0.00909041240811348,0.009133552201092243,0.008179477415978909,0.006228490266948938,0.0042779468931257725,-0.00017009851580951363,0.004864318761974573,0.0069037568755447865,0.007944964803755283,0.008985920809209347,0.01002668496221304,0.009072200395166874,0.009115340188145638,0.008161218836903572,0.00720728887245059,0.0052565704099833965,-0.0011780778877437115,0.00385654391720891,0.0058961715549230576,0.006937485188245773,0.008976336568593979,0.010017124935984612,0.010060153901576996,0.00910575594753027,0.00815160945057869,0.007197655737400055,0.006243952549993992,0.0003056139685213566,0.0038555755745619535,0.005895208101719618,0.00693652406334877,0.008975381031632423,0.01001617219299078,0.010059201158583164,0.009104800410568714,0.00815065111964941,0.007196694612503052,0.006242989096790552,0.0003046358178835362,0.003854607231914997,0.0058942451141774654,0.006935563404113054,0.008974424563348293,0.010015218518674374,0.00906070414930582,0.009103843942284584,0.008149692788720131,0.007195733487606049,0.005244956351816654,0.0003036576963495463,0.0038536391220986843,0.005893281660974026,0.006934602279216051,0.008973469026386738,0.009016608819365501,0.009059748612344265,0.009102888405323029,0.008148734457790852,0.007194772828370333,0.005243990570306778,0.00030267954571172595,0.003852670779451728,0.005892318207770586,0.006933641619980335,0.008972512558102608,0.009015652351081371,0.009058792144060135,0.009101931937038898,0.008147776126861572,0.0071938117034733295,0.005243024788796902,0.00030170142417773604,0.0038517024368047714,0.005891354754567146,0.006932680495083332,0.008971556089818478,0.009014696814119816,0.00905783660709858,0.009100976400077343,0.008146817795932293,0.007192851044237614,0.0052420590072870255,0.0003007232735399157,0.003850734094157815,0.005890391301363707,0.006931719370186329,0.008970600552856922,0.009013740345835686,0.00905688013881445,0.009100019931793213,0.008145859465003014,0.0071918899193406105,0.005241092760115862,-0.0011760921915993094,0.004856592044234276,0.005898122675716877,0.006939431186765432,0.008978272788226604,0.009021412581205368,0.009064552374184132,0.008110299706459045,0.008153550326824188,0.007199601270258427,0.005248843692243099,-0.00017007415590342134,0.004864342976361513,0.006903780624270439,0.007944988086819649,0.008985944092273712,0.009029083885252476,0.009072224609553814,0.008117991499602795,0.007163951173424721,0.006210161838680506,0.003262485144659877,0.0008359341882169247,0.0048720939084887505,0.006911491975188255,0.007952679879963398,0.008993616327643394,0.009036756120622158,0.008082432672381401,0.008125683292746544,0.007171662524342537,0.006217893213033676,0.0022732256911695004,0.0018418733961880207,0.005877843126654625,0.0069192033261060715,0.007960371673107147,0.00800362229347229,0.008046872913837433,0.00809012446552515,0.008133375085890293,0.007179373875260353,0.006225624121725559,0.0012840350391343236,0.0028478028252720833,0.005885574501007795,0.006926915142685175,0.007968063466250896,0.00801131408661604,0.008054564706981182,0.008097815327346325,0.008141066879034042,0.007187085226178169,0.005236263852566481,-0.000702126242686063,0.0028468321543186903,0.005884611047804356,0.006925954017788172,0.007967105135321617,0.00801035575568676,0.008053606376051903,0.008096856996417046,0.008140108548104763,0.007186124566942453,0.005235298071056604,-0.0007031068671494722,0.003852694761008024,0.005892341956496239,0.006933665368705988,0.007974796928465366,0.00801804754883051,0.008061298169195652,0.008104548789560795,0.00715047400444746,0.0071938359178602695,0.005243048537522554,-0.0011741066118702292,0.004858547821640968,0.006898015271872282,0.007939237169921398,0.007982488721609116,0.008025739341974258,0.008068989962339401,0.008112240582704544,0.007158185355365276,0.006204381585121155,0.0032566606532782316,-0.00016809350927360356,0.004866298753768206,0.006905726622790098,0.007946928963065147,0.00799017958343029,0.008033431135118008,0.00807668175548315,0.008119932375848293,0.0071658967062830925,0.006212112959474325,0.0032644509337842464,0.0008379098726436496,0.004874049685895443,0.006913437973707914,0.007954620756208897,0.00799787137657404,0.008041121996939182,0.0080843735486269,0.008127624168992043,0.007173608057200909,0.006219843868166208,0.0022751963697373867,0.001843844074755907,0.005879794247448444,0.0069211493246257305,0.007962312549352646,0.009003223851323128,0.009046363644301891,0.008092065341770649,0.007137957960367203,0.007181319873780012,0.005230468697845936,0.0012860108399763703,0.002849768614396453,0.0058875251561403275,0.006928860675543547,0.007970004342496395,0.00901089608669281,0.009054035879671574,0.008099756203591824,0.007145669311285019,0.007189031224697828,0.005238219629973173,0.0012938405852764845,0.0018506809137761593,0.005886561702936888,0.006927900016307831,0.007969046011567116,0.009009940549731255,0.009053080342710018,0.008098797872662544,0.008142049424350262,0.007188070099800825,0.00523725338280201,0.0022898430470377207,0.0018497076816856861,0.005885598249733448,0.006926938891410828,0.007968087680637836,0.009008984081447124,0.009052123874425888,0.008097839541733265,0.008141090162098408,0.007187109440565109,0.005236287601292133,0.0022888698149472475,0.0008506423328071833,0.0048866537399590015,0.0069259777665138245,0.007967128418385983,0.009008027613162994,0.009051168337464333,0.009094308130443096,0.008140131831169128,0.007186148315668106,0.006232415791600943,0.0032849095296114683,-0.0011642518220469356,0.0038701966404914856,0.005909755360335112,0.007948869839310646,0.008989815600216389,0.009032956324517727,0.00907609611749649,0.008121873252093792,0.0071678427048027515,0.006214063614606857,0.0052605061791837215,0.0013163541443645954,0.0008574964012950659,0.004893438890576363,0.006932728458195925,0.007973861880600452,0.009014744311571121,0.009057884104549885,0.009101023897528648,0.008146865293383598,0.007192899007350206,0.006239183712750673,0.004288694821298122,-0.0006519448943436146,0.003876999020576477,0.005916522815823555,0.007955603301525116,0.008996532298624516,0.009039672091603279,0.009082811884582043,0.008128606714308262,0.0071745929308235645,0.007217954844236374,0.006264303810894489,0.0033170415554195642,-0.00014256444410420954,0.0038935085758566856,0.006930806674063206,0.007971945218741894,0.009012832306325436,0.0090559720993042,0.009099111892282963,0.00814494863152504,0.0071909767575562,0.006237256806343794,0.0052837589755654335,0.0013398433802649379,0.0028770468197762966,0.005914596375077963,0.006955862510949373,0.0079969372600317,0.009037760086357594,0.009080899879336357,0.00912403967231512,0.008169940672814846,0.007216033060103655,0.00626237690448761,0.0043120067566633224,-0.0011426054406911135,0.0038915718905627728,0.005931021645665169,0.007970028556883335,0.008013279177248478,0.009054060094058514,0.009097199887037277,0.008143031038343906,0.007189054973423481,0.00723241688683629,0.006278802640736103,0.0033316512126475573,-0.00011901604011654854,0.004914759658277035,0.006953940726816654,0.007995019666850567,0.009035848081111908,0.009078987874090672,0.00812477245926857,0.008168023079633713,0.007214111275970936,0.006260450463742018,0.005307011306285858,-0.0006302985129877925,0.002900417661294341,0.0059377895668148994,0.006978996563702822,0.008020011708140373,0.009060775861144066,0.008106513880193233,0.008149764500558376,0.007195805665105581,0.007239167112857103,0.006285570561885834,0.003338470822200179,0.0008946937741711736,0.004930261522531509,0.0069693634286522865,0.007012725342065096,0.008053653873503208,0.008096905425190926,0.008140156045556068,0.007186172064393759,0.007229533977806568,0.006275912746787071,0.004325611051172018,-0.0011111286003142595,0.002924759406596422,0.005961946211755276,0.007003091741353273,0.0080440454185009,0.008087296038866043,0.00813054759055376,0.007176538929343224,0.007219900842756033,0.006266254466027021,0.005312830209732056,-0.0006243905518203974,0.0029237885028123856,0.004963196348398924,0.0070021310821175575,0.008043087087571621,0.008086337707936764,0.008129589259624481,0.00717557780444622,0.00721893971785903,0.006265291478484869,0.005311864428222179,-0.0006253711180761456,0.0019336715340614319,0.003973151091486216,0.007009842433035374,0.00805077888071537,0.008094029501080513,0.0071399277076125145,0.007183289621025324,0.007226651068776846,0.006273022387176752,0.004322706256061792,-7.19192175893113e-05,0.002965652383863926,0.006002528592944145,0.0070435707457363605,0.008084421046078205,0.007130294572561979,0.007173656020313501,0.007217017933726311,0.00626336457207799,0.005309932865202427,-0.0010708021000027657,0.001966858049854636,0.005003882572054863,0.007042610086500645,0.007085971534252167,0.007129333447664976,0.0071726953610777855,0.006218928378075361,0.00626240111887455,0.004312030505388975,-0.0010629328899085522,0.0009768939344212413,0.00401394022628665,0.007050321437418461,0.00709368335083127,0.007137044798582792,0.007180406711995602,0.006226659752428532,0.006270132027566433,0.0033229144755750895,-3.071559694944881e-05,0.0020088276360183954,0.005045534111559391,0.007084049750119448,0.007127411663532257,0.0061735291965305805,0.006217001937329769,0.0062604742124676704,0.003313182620331645,-0.0010294949170202017,0.001010164269246161,0.004046959336847067,0.006085620261728764,0.006129093002527952,0.006172565743327141,0.006216038484126329,0.005262486170977354,0.0023152681533247232,-0.0010039262706413865,0.002033231081441045,0.0040722074918448925,0.00411590188741684,0.005156919825822115,0.006197685841470957,0.005244086496531963,0.003293718909844756,-0.000996057060547173,0.0010434344876557589,0.002084957202896476,0.003126288065686822,0.004167367238551378,0.004211061634123325,0.0042547560296952724,0.0013075972674414515,6.247548299143091e-05,0.0021015505772083998,0.002145466860383749,0.003186644520610571,0.003230449976399541,0.002277215477079153,-0.0009360697004012764,0.00010563537944108248,0.001147148315794766,0.002188409911468625,0.0022323261946439743,0.0002821874222718179,-0.000883951666764915,0.0001576228823978454,0.0011990051716566086,0.0002458988456055522,-0.0008318335167132318,-0.0007875845185481012,-0.0007885651430115104],\"type\":\"scatter3d\"}],                        {\"updatemenus\":[{\"buttons\":[{\"args\":[null,{\"frame\":{\"duration\":50,\"redraw\":true},\"transition\":{\"duration\":0},\"fromcurrent\":true,\"mode\":\"immediate\"}],\"label\":\"Play\",\"method\":\"animate\"}],\"pad\":{\"r\":10,\"t\":45},\"showactive\":false,\"type\":\"buttons\",\"x\":0.8,\"xanchor\":\"left\",\"y\":1,\"yanchor\":\"bottom\"}],\"template\":{\"data\":{\"histogram2dcontour\":[{\"type\":\"histogram2dcontour\",\"colorbar\":{\"outlinewidth\":0,\"ticks\":\"\"},\"colorscale\":[[0.0,\"#0d0887\"],[0.1111111111111111,\"#46039f\"],[0.2222222222222222,\"#7201a8\"],[0.3333333333333333,\"#9c179e\"],[0.4444444444444444,\"#bd3786\"],[0.5555555555555556,\"#d8576b\"],[0.6666666666666666,\"#ed7953\"],[0.7777777777777778,\"#fb9f3a\"],[0.8888888888888888,\"#fdca26\"],[1.0,\"#f0f921\"]]}],\"choropleth\":[{\"type\":\"choropleth\",\"colorbar\":{\"outlinewidth\":0,\"ticks\":\"\"}}],\"histogram2d\":[{\"type\":\"histogram2d\",\"colorbar\":{\"outlinewidth\":0,\"ticks\":\"\"},\"colorscale\":[[0.0,\"#0d0887\"],[0.1111111111111111,\"#46039f\"],[0.2222222222222222,\"#7201a8\"],[0.3333333333333333,\"#9c179e\"],[0.4444444444444444,\"#bd3786\"],[0.5555555555555556,\"#d8576b\"],[0.6666666666666666,\"#ed7953\"],[0.7777777777777778,\"#fb9f3a\"],[0.8888888888888888,\"#fdca26\"],[1.0,\"#f0f921\"]]}],\"heatmap\":[{\"type\":\"heatmap\",\"colorbar\":{\"outlinewidth\":0,\"ticks\":\"\"},\"colorscale\":[[0.0,\"#0d0887\"],[0.1111111111111111,\"#46039f\"],[0.2222222222222222,\"#7201a8\"],[0.3333333333333333,\"#9c179e\"],[0.4444444444444444,\"#bd3786\"],[0.5555555555555556,\"#d8576b\"],[0.6666666666666666,\"#ed7953\"],[0.7777777777777778,\"#fb9f3a\"],[0.8888888888888888,\"#fdca26\"],[1.0,\"#f0f921\"]]}],\"heatmapgl\":[{\"type\":\"heatmapgl\",\"colorbar\":{\"outlinewidth\":0,\"ticks\":\"\"},\"colorscale\":[[0.0,\"#0d0887\"],[0.1111111111111111,\"#46039f\"],[0.2222222222222222,\"#7201a8\"],[0.3333333333333333,\"#9c179e\"],[0.4444444444444444,\"#bd3786\"],[0.5555555555555556,\"#d8576b\"],[0.6666666666666666,\"#ed7953\"],[0.7777777777777778,\"#fb9f3a\"],[0.8888888888888888,\"#fdca26\"],[1.0,\"#f0f921\"]]}],\"contourcarpet\":[{\"type\":\"contourcarpet\",\"colorbar\":{\"outlinewidth\":0,\"ticks\":\"\"}}],\"contour\":[{\"type\":\"contour\",\"colorbar\":{\"outlinewidth\":0,\"ticks\":\"\"},\"colorscale\":[[0.0,\"#0d0887\"],[0.1111111111111111,\"#46039f\"],[0.2222222222222222,\"#7201a8\"],[0.3333333333333333,\"#9c179e\"],[0.4444444444444444,\"#bd3786\"],[0.5555555555555556,\"#d8576b\"],[0.6666666666666666,\"#ed7953\"],[0.7777777777777778,\"#fb9f3a\"],[0.8888888888888888,\"#fdca26\"],[1.0,\"#f0f921\"]]}],\"surface\":[{\"type\":\"surface\",\"colorbar\":{\"outlinewidth\":0,\"ticks\":\"\"},\"colorscale\":[[0.0,\"#0d0887\"],[0.1111111111111111,\"#46039f\"],[0.2222222222222222,\"#7201a8\"],[0.3333333333333333,\"#9c179e\"],[0.4444444444444444,\"#bd3786\"],[0.5555555555555556,\"#d8576b\"],[0.6666666666666666,\"#ed7953\"],[0.7777777777777778,\"#fb9f3a\"],[0.8888888888888888,\"#fdca26\"],[1.0,\"#f0f921\"]]}],\"mesh3d\":[{\"type\":\"mesh3d\",\"colorbar\":{\"outlinewidth\":0,\"ticks\":\"\"}}],\"scatter\":[{\"fillpattern\":{\"fillmode\":\"overlay\",\"size\":10,\"solidity\":0.2},\"type\":\"scatter\"}],\"parcoords\":[{\"type\":\"parcoords\",\"line\":{\"colorbar\":{\"outlinewidth\":0,\"ticks\":\"\"}}}],\"scatterpolargl\":[{\"type\":\"scatterpolargl\",\"marker\":{\"colorbar\":{\"outlinewidth\":0,\"ticks\":\"\"}}}],\"bar\":[{\"error_x\":{\"color\":\"#2a3f5f\"},\"error_y\":{\"color\":\"#2a3f5f\"},\"marker\":{\"line\":{\"color\":\"#E5ECF6\",\"width\":0.5},\"pattern\":{\"fillmode\":\"overlay\",\"size\":10,\"solidity\":0.2}},\"type\":\"bar\"}],\"scattergeo\":[{\"type\":\"scattergeo\",\"marker\":{\"colorbar\":{\"outlinewidth\":0,\"ticks\":\"\"}}}],\"scatterpolar\":[{\"type\":\"scatterpolar\",\"marker\":{\"colorbar\":{\"outlinewidth\":0,\"ticks\":\"\"}}}],\"histogram\":[{\"marker\":{\"pattern\":{\"fillmode\":\"overlay\",\"size\":10,\"solidity\":0.2}},\"type\":\"histogram\"}],\"scattergl\":[{\"type\":\"scattergl\",\"marker\":{\"colorbar\":{\"outlinewidth\":0,\"ticks\":\"\"}}}],\"scatter3d\":[{\"type\":\"scatter3d\",\"line\":{\"colorbar\":{\"outlinewidth\":0,\"ticks\":\"\"}},\"marker\":{\"colorbar\":{\"outlinewidth\":0,\"ticks\":\"\"}}}],\"scattermapbox\":[{\"type\":\"scattermapbox\",\"marker\":{\"colorbar\":{\"outlinewidth\":0,\"ticks\":\"\"}}}],\"scatterternary\":[{\"type\":\"scatterternary\",\"marker\":{\"colorbar\":{\"outlinewidth\":0,\"ticks\":\"\"}}}],\"scattercarpet\":[{\"type\":\"scattercarpet\",\"marker\":{\"colorbar\":{\"outlinewidth\":0,\"ticks\":\"\"}}}],\"carpet\":[{\"aaxis\":{\"endlinecolor\":\"#2a3f5f\",\"gridcolor\":\"white\",\"linecolor\":\"white\",\"minorgridcolor\":\"white\",\"startlinecolor\":\"#2a3f5f\"},\"baxis\":{\"endlinecolor\":\"#2a3f5f\",\"gridcolor\":\"white\",\"linecolor\":\"white\",\"minorgridcolor\":\"white\",\"startlinecolor\":\"#2a3f5f\"},\"type\":\"carpet\"}],\"table\":[{\"cells\":{\"fill\":{\"color\":\"#EBF0F8\"},\"line\":{\"color\":\"white\"}},\"header\":{\"fill\":{\"color\":\"#C8D4E3\"},\"line\":{\"color\":\"white\"}},\"type\":\"table\"}],\"barpolar\":[{\"marker\":{\"line\":{\"color\":\"#E5ECF6\",\"width\":0.5},\"pattern\":{\"fillmode\":\"overlay\",\"size\":10,\"solidity\":0.2}},\"type\":\"barpolar\"}],\"pie\":[{\"automargin\":true,\"type\":\"pie\"}]},\"layout\":{\"autotypenumbers\":\"strict\",\"colorway\":[\"#636efa\",\"#EF553B\",\"#00cc96\",\"#ab63fa\",\"#FFA15A\",\"#19d3f3\",\"#FF6692\",\"#B6E880\",\"#FF97FF\",\"#FECB52\"],\"font\":{\"color\":\"#2a3f5f\"},\"hovermode\":\"closest\",\"hoverlabel\":{\"align\":\"left\"},\"paper_bgcolor\":\"white\",\"plot_bgcolor\":\"#E5ECF6\",\"polar\":{\"bgcolor\":\"#E5ECF6\",\"angularaxis\":{\"gridcolor\":\"white\",\"linecolor\":\"white\",\"ticks\":\"\"},\"radialaxis\":{\"gridcolor\":\"white\",\"linecolor\":\"white\",\"ticks\":\"\"}},\"ternary\":{\"bgcolor\":\"#E5ECF6\",\"aaxis\":{\"gridcolor\":\"white\",\"linecolor\":\"white\",\"ticks\":\"\"},\"baxis\":{\"gridcolor\":\"white\",\"linecolor\":\"white\",\"ticks\":\"\"},\"caxis\":{\"gridcolor\":\"white\",\"linecolor\":\"white\",\"ticks\":\"\"}},\"coloraxis\":{\"colorbar\":{\"outlinewidth\":0,\"ticks\":\"\"}},\"colorscale\":{\"sequential\":[[0.0,\"#0d0887\"],[0.1111111111111111,\"#46039f\"],[0.2222222222222222,\"#7201a8\"],[0.3333333333333333,\"#9c179e\"],[0.4444444444444444,\"#bd3786\"],[0.5555555555555556,\"#d8576b\"],[0.6666666666666666,\"#ed7953\"],[0.7777777777777778,\"#fb9f3a\"],[0.8888888888888888,\"#fdca26\"],[1.0,\"#f0f921\"]],\"sequentialminus\":[[0.0,\"#0d0887\"],[0.1111111111111111,\"#46039f\"],[0.2222222222222222,\"#7201a8\"],[0.3333333333333333,\"#9c179e\"],[0.4444444444444444,\"#bd3786\"],[0.5555555555555556,\"#d8576b\"],[0.6666666666666666,\"#ed7953\"],[0.7777777777777778,\"#fb9f3a\"],[0.8888888888888888,\"#fdca26\"],[1.0,\"#f0f921\"]],\"diverging\":[[0,\"#8e0152\"],[0.1,\"#c51b7d\"],[0.2,\"#de77ae\"],[0.3,\"#f1b6da\"],[0.4,\"#fde0ef\"],[0.5,\"#f7f7f7\"],[0.6,\"#e6f5d0\"],[0.7,\"#b8e186\"],[0.8,\"#7fbc41\"],[0.9,\"#4d9221\"],[1,\"#276419\"]]},\"xaxis\":{\"gridcolor\":\"white\",\"linecolor\":\"white\",\"ticks\":\"\",\"title\":{\"standoff\":15},\"zerolinecolor\":\"white\",\"automargin\":true,\"zerolinewidth\":2},\"yaxis\":{\"gridcolor\":\"white\",\"linecolor\":\"white\",\"ticks\":\"\",\"title\":{\"standoff\":15},\"zerolinecolor\":\"white\",\"automargin\":true,\"zerolinewidth\":2},\"scene\":{\"xaxis\":{\"backgroundcolor\":\"#E5ECF6\",\"gridcolor\":\"white\",\"linecolor\":\"white\",\"showbackground\":true,\"ticks\":\"\",\"zerolinecolor\":\"white\",\"gridwidth\":2},\"yaxis\":{\"backgroundcolor\":\"#E5ECF6\",\"gridcolor\":\"white\",\"linecolor\":\"white\",\"showbackground\":true,\"ticks\":\"\",\"zerolinecolor\":\"white\",\"gridwidth\":2},\"zaxis\":{\"backgroundcolor\":\"#E5ECF6\",\"gridcolor\":\"white\",\"linecolor\":\"white\",\"showbackground\":true,\"ticks\":\"\",\"zerolinecolor\":\"white\",\"gridwidth\":2}},\"shapedefaults\":{\"line\":{\"color\":\"#2a3f5f\"}},\"annotationdefaults\":{\"arrowcolor\":\"#2a3f5f\",\"arrowhead\":0,\"arrowwidth\":1},\"geo\":{\"bgcolor\":\"white\",\"landcolor\":\"#E5ECF6\",\"subunitcolor\":\"white\",\"showland\":true,\"showlakes\":true,\"lakecolor\":\"white\"},\"title\":{\"x\":0.05},\"mapbox\":{\"style\":\"light\"}}}},                        {\"responsive\": true}                    ).then(function(){\n",
       "                            Plotly.addFrames('6a5100ec-46a7-4fd2-97cb-e8a12b316a6f', [{\"layout\":{\"scene\":{\"camera\":{\"eye\":{\"x\":1.25,\"y\":1.25,\"z\":0.8}}}}},{\"layout\":{\"scene\":{\"camera\":{\"eye\":{\"x\":1.3685469774060675,\"y\":1.1189634357889973,\"z\":0.8}}}}},{\"layout\":{\"scene\":{\"camera\":{\"eye\":{\"x\":1.4734198857953784,\"y\":0.9767465588077254,\"z\":0.8}}}}},{\"layout\":{\"scene\":{\"camera\":{\"eye\":{\"x\":1.5635708697336819,\"y\":0.824770353080333,\"z\":0.8}}}}},{\"layout\":{\"scene\":{\"camera\":{\"eye\":{\"x\":1.6380991703894194,\"y\":0.6645533146177932,\"z\":0.8}}}}},{\"layout\":{\"scene\":{\"camera\":{\"eye\":{\"x\":1.6962601256182197,\"y\":0.4976962791077122,\"z\":0.8}}}}},{\"layout\":{\"scene\":{\"camera\":{\"eye\":{\"x\":1.737472610380892,\"y\":0.32586642689330336,\"z\":0.8}}}}},{\"layout\":{\"scene\":{\"camera\":{\"eye\":{\"x\":1.7613248431527242,\"y\":0.15078062505849654,\"z\":0.8}}}}},{\"layout\":{\"scene\":{\"camera\":{\"eye\":{\"x\":1.7675785003083602,\"y\":-0.025811726940446755,\"z\":0.8}}}}},{\"layout\":{\"scene\":{\"camera\":{\"eye\":{\"x\":1.7561710973726847,\"y\":-0.20214617669602375,\"z\":0.8}}}}},{\"layout\":{\"scene\":{\"camera\":{\"eye\":{\"x\":1.7272166133450453,\"y\":-0.376460848674696,\"z\":0.8}}}}},{\"layout\":{\"scene\":{\"camera\":{\"eye\":{\"x\":1.6810043518587658,\"y\":-0.5470140482948226,\"z\":0.8}}}}},{\"layout\":{\"scene\":{\"camera\":{\"eye\":{\"x\":1.6179960505548747,\"y\":-0.7121016643631912,\"z\":0.8}}}}},{\"layout\":{\"scene\":{\"camera\":{\"eye\":{\"x\":1.5388212675522255,\"y\":-0.870074195990757,\"z\":0.8}}}}},{\"layout\":{\"scene\":{\"camera\":{\"eye\":{\"x\":1.4442710911108763,\"y\":-1.0193532338602744,\"z\":0.8}}}}},{\"layout\":{\"scene\":{\"camera\":{\"eye\":{\"x\":1.3352902353396967,\"y\":-1.1584472311704395,\"z\":0.8}}}}},{\"layout\":{\"scene\":{\"camera\":{\"eye\":{\"x\":1.2129676009252703,\"y\":-1.2859664066784924,\"z\":0.8}}}}},{\"layout\":{\"scene\":{\"camera\":{\"eye\":{\"x\":1.0785253951961797,\"y\":-1.4006366309349918,\"z\":0.8}}}}},{\"layout\":{\"scene\":{\"camera\":{\"eye\":{\"x\":0.9333069202313851,\"y\":-1.5013121569641028,\"z\":0.8}}}}},{\"layout\":{\"scene\":{\"camera\":{\"eye\":{\"x\":0.7787631510298885,\"y\":-1.5869870681886475,\"z\":0.8}}}}},{\"layout\":{\"scene\":{\"camera\":{\"eye\":{\"x\":0.6164382378481742,\"y\":-1.6568053292160303,\"z\":0.8}}}}},{\"layout\":{\"scene\":{\"camera\":{\"eye\":{\"x\":0.44795407756127026,\"y\":-1.710069339060914,\"z\":0.8}}}}},{\"layout\":{\"scene\":{\"camera\":{\"eye\":{\"x\":0.27499410820530534,\"y\":-1.7462469013436699,\"z\":0.8}}}}},{\"layout\":{\"scene\":{\"camera\":{\"eye\":{\"x\":0.09928648862111944,\"y\":-1.7649765418206806,\"z\":0.8}}}}},{\"layout\":{\"scene\":{\"camera\":{\"eye\":{\"x\":-0.07741316873761894,\"y\":-1.7660711201154955,\"z\":0.8}}}}},{\"layout\":{\"scene\":{\"camera\":{\"eye\":{\"x\":-0.25333933930372143,\"y\":-1.7495196995636126,\"z\":0.8}}}}},{\"layout\":{\"scene\":{\"camera\":{\"eye\":{\"x\":-0.4267342269343539,\"y\":-1.7154876564880144,\"z\":0.8}}}}},{\"layout\":{\"scene\":{\"camera\":{\"eye\":{\"x\":-0.5958653272290393,\"y\":-1.6643150278136138,\"z\":0.8}}}}},{\"layout\":{\"scene\":{\"camera\":{\"eye\":{\"x\":-0.7590427381409421,\"y\":-1.5965131135307038,\"z\":0.8}}}}},{\"layout\":{\"scene\":{\"camera\":{\"eye\":{\"x\":-0.9146360449195108,\"y\":-1.5127593679544658,\"z\":0.8}}}}},{\"layout\":{\"scene\":{\"camera\":{\"eye\":{\"x\":-1.0610906106757227,\"y\":-1.4138906308253907,\"z\":0.8}}}}},{\"layout\":{\"scene\":{\"camera\":{\"eye\":{\"x\":-1.196943109799986,\"y\":-1.3008947658832124,\"z\":0.8}}}}},{\"layout\":{\"scene\":{\"camera\":{\"eye\":{\"x\":-1.3208361490279166,\"y\":-1.1749007904589663,\"z\":0.8}}}}},{\"layout\":{\"scene\":{\"camera\":{\"eye\":{\"x\":-1.431531830065142,\"y\":-1.0371675947070202,\"z\":0.8}}}}},{\"layout\":{\"scene\":{\"camera\":{\"eye\":{\"x\":-1.5279241182578656,\"y\":-0.8890713631907865,\"z\":0.8}}}}},{\"layout\":{\"scene\":{\"camera\":{\"eye\":{\"x\":-1.6090498937255202,\"y\":-0.7320918245014705,\"z\":0.8}}}}},{\"layout\":{\"scene\":{\"camera\":{\"eye\":{\"x\":-1.6740985745362496,\"y\":-0.5677974662991182,\"z\":0.8}}}}},{\"layout\":{\"scene\":{\"camera\":{\"eye\":{\"x\":-1.7224202157736266,\"y\":-0.39782986350239324,\"z\":0.8}}}}},{\"layout\":{\"scene\":{\"camera\":{\"eye\":{\"x\":-1.7535320035714197,\"y\":-0.22388727621462157,\"z\":0.8}}}}},{\"layout\":{\"scene\":{\"camera\":{\"eye\":{\"x\":-1.7671230792301427,\"y\":-0.04770768127020719,\"z\":0.8}}}}},{\"layout\":{\"scene\":{\"camera\":{\"eye\":{\"x\":-1.7630576452144253,\"y\":0.1289485930553954,\"z\":0.8}}}}},{\"layout\":{\"scene\":{\"camera\":{\"eye\":{\"x\":-1.741376321997099,\"y\":0.30431645566392784,\"z\":0.8}}}}},{\"layout\":{\"scene\":{\"camera\":{\"eye\":{\"x\":-1.7022957421928595,\"y\":0.47664368884111097,\"z\":0.8}}}}},{\"layout\":{\"scene\":{\"camera\":{\"eye\":{\"x\":-1.646206386036788,\"y\":0.6442084558368493,\"z\":0.8}}}}},{\"layout\":{\"scene\":{\"camera\":{\"eye\":{\"x\":-1.573668679834919,\"y\":0.8053365048888708,\"z\":0.8}}}}},{\"layout\":{\"scene\":{\"camera\":{\"eye\":{\"x\":-1.4854073963698458,\"y\":0.9584178977928967,\"z\":0.8}}}}},{\"layout\":{\"scene\":{\"camera\":{\"eye\":{\"x\":-1.3823044132106481,\"y\":1.101923095873013,\"z\":0.8}}}}},{\"layout\":{\"scene\":{\"camera\":{\"eye\":{\"x\":-1.2653899012837393,\"y\":1.2344182426265127,\"z\":0.8}}}}},{\"layout\":{\"scene\":{\"camera\":{\"eye\":{\"x\":-1.1358320317454915,\"y\":1.3545794903441097,\"z\":0.8}}}}},{\"layout\":{\"scene\":{\"camera\":{\"eye\":{\"x\":-0.9949253040021958,\"y\":1.4612062275586353,\"z\":0.8}}}}},{\"layout\":{\"scene\":{\"camera\":{\"eye\":{\"x\":-0.8440776114998902,\"y\":1.553233075157956,\"z\":0.8}}}}},{\"layout\":{\"scene\":{\"camera\":{\"eye\":{\"x\":-0.6847961745184389,\"y\":1.6297405313008917,\"z\":0.8}}}}},{\"layout\":{\"scene\":{\"camera\":{\"eye\":{\"x\":-0.5186724805247199,\"y\":1.6899641587756626,\"z\":0.8}}}}},{\"layout\":{\"scene\":{\"camera\":{\"eye\":{\"x\":-0.347366382555924,\"y\":1.733302223003828,\"z\":0.8}}}}},{\"layout\":{\"scene\":{\"camera\":{\"eye\":{\"x\":-0.17258951451669058,\"y\":1.7593217043732774,\"z\":0.8}}}}},{\"layout\":{\"scene\":{\"camera\":{\"eye\":{\"x\":0.0039118109010850555,\"y\":1.767762624827065,\"z\":0.8}}}}},{\"layout\":{\"scene\":{\"camera\":{\"eye\":{\"x\":0.18037405079741164,\"y\":1.7585406454782138,\"z\":0.8}}}}},{\"layout\":{\"scene\":{\"camera\":{\"eye\":{\"x\":0.3550340528019027,\"y\":1.7317479092959966,\"z\":0.8}}}}},{\"layout\":{\"scene\":{\"camera\":{\"eye\":{\"x\":0.5261466719094534,\"y\":1.6876521204438448,\"z\":0.8}}}}},{\"layout\":{\"scene\":{\"camera\":{\"eye\":{\"x\":0.6920022073922499,\"y\":1.62669386946784,\"z\":0.8}}}}},{\"layout\":{\"scene\":{\"camera\":{\"eye\":{\"x\":0.8509434855643001,\"y\":1.5494822310616148,\"z\":0.8}}}}},{\"layout\":{\"scene\":{\"camera\":{\"eye\":{\"x\":1.001382417713112,\"y\":1.4567886783933495,\"z\":0.8}}}}},{\"layout\":{\"scene\":{\"camera\":{\"eye\":{\"x\":1.1418158677571515,\"y\":1.3495393748008924,\"z\":0.8}}}}},{\"layout\":{\"scene\":{\"camera\":{\"eye\":{\"x\":1.270840671084707,\"y\":1.2288059198738308,\"z\":0.8}}}}},{\"layout\":{\"scene\":{\"camera\":{\"eye\":{\"x\":1.3871676545108578,\"y\":1.0957946423846239,\"z\":0.8}}}}},{\"layout\":{\"scene\":{\"camera\":{\"eye\":{\"x\":1.4896345172697987,\"y\":0.9518345470502599,\"z\":0.8}}}}},{\"layout\":{\"scene\":{\"camera\":{\"eye\":{\"x\":1.577217444339885,\"y\":0.7983640355564382,\"z\":0.8}}}}},{\"layout\":{\"scene\":{\"camera\":{\"eye\":{\"x\":1.6490413360648972,\"y\":0.6369165345234014,\"z\":0.8}}}}},{\"layout\":{\"scene\":{\"camera\":{\"eye\":{\"x\":1.7043885518605422,\"y\":0.46910517401401974,\"z\":0.8}}}}},{\"layout\":{\"scene\":{\"camera\":{\"eye\":{\"x\":1.742706080641946,\"y\":0.2966066696714459,\"z\":0.8}}}}},{\"layout\":{\"scene\":{\"camera\":{\"eye\":{\"x\":1.7636110663276172,\"y\":0.12114456953064445,\"z\":0.8}}}}},{\"layout\":{\"scene\":{\"camera\":{\"eye\":{\"x\":1.766894633210853,\"y\":-0.05552796710383823,\"z\":0.8}}}}},{\"layout\":{\"scene\":{\"camera\":{\"eye\":{\"x\":1.7525239729767597,\"y\":-0.23164568664612328,\"z\":0.8}}}}},{\"layout\":{\"scene\":{\"camera\":{\"eye\":{\"x\":1.7206426725120867,\"y\":-0.4054488790593255,\"z\":0.8}}}}},{\"layout\":{\"scene\":{\"camera\":{\"eye\":{\"x\":1.6715692792325216,\"y\":-0.5752009602965458,\"z\":0.8}}}}},{\"layout\":{\"scene\":{\"camera\":{\"eye\":{\"x\":1.605794118262206,\"y\":-0.7392058236746413,\"z\":0.8}}}}},{\"layout\":{\"scene\":{\"camera\":{\"eye\":{\"x\":1.5239743932671765,\"y\":-0.8958247868115395,\"z\":0.8}}}}},{\"layout\":{\"scene\":{\"camera\":{\"eye\":{\"x\":1.426927619893581,\"y\":-1.04349296479892,\"z\":0.8}}}}},{\"layout\":{\"scene\":{\"camera\":{\"eye\":{\"x\":1.3156234574215673,\"y\":-1.180734906014945,\"z\":0.8}}}}},{\"layout\":{\"scene\":{\"camera\":{\"eye\":{\"x\":1.1911740202502938,\"y\":-1.3061793343491364,\"z\":0.8}}}}},{\"layout\":{\"scene\":{\"camera\":{\"eye\":{\"x\":1.0548227660184604,\"y\":-1.4185728505399942,\"z\":0.8}}}}},{\"layout\":{\"scene\":{\"camera\":{\"eye\":{\"x\":0.9079320713866189,\"y\":-1.5167924557260966,\"z\":0.8}}}}},{\"layout\":{\"scene\":{\"camera\":{\"eye\":{\"x\":0.7519696196199205,\"y\":-1.599856772079511,\"z\":0.8}}}}},{\"layout\":{\"scene\":{\"camera\":{\"eye\":{\"x\":0.5884937359820905,\"y\":-1.6669358484086425,\"z\":0.8}}}}},{\"layout\":{\"scene\":{\"camera\":{\"eye\":{\"x\":0.41913781746449363,\"y\":-1.7173594527562077,\"z\":0.8}}}}},{\"layout\":{\"scene\":{\"camera\":{\"eye\":{\"x\":0.24559401242333323,\"y\":-1.7506237691353923,\"z\":0.8}}}}},{\"layout\":{\"scene\":{\"camera\":{\"eye\":{\"x\":0.06959631319262605,\"y\":-1.7663964314926572,\"z\":0.8}}}}},{\"layout\":{\"scene\":{\"camera\":{\"eye\":{\"x\":-0.10709676939402235,\"y\":-1.7645198445994774,\"z\":0.8}}}}},{\"layout\":{\"scene\":{\"camera\":{\"eye\":{\"x\":-0.2827197764623679,\"y\":-1.745012758691772,\"z\":0.8}}}}},{\"layout\":{\"scene\":{\"camera\":{\"eye\":{\"x\":-0.45551794097903464,\"y\":-1.7080700821237462,\"z\":0.8}}}}},{\"layout\":{\"scene\":{\"camera\":{\"eye\":{\"x\":-0.6237647208036504,\"y\":-1.6540609339080419,\"z\":0.8}}}}},{\"layout\":{\"scene\":{\"camera\":{\"eye\":{\"x\":-0.7857790497271997,\"y\":-1.58352495560058,\"z\":0.8}}}}},{\"layout\":{\"scene\":{\"camera\":{\"eye\":{\"x\":-0.9399421341298975,\"y\":-1.4971669193805124,\"z\":0.8}}}}},{\"layout\":{\"scene\":{\"camera\":{\"eye\":{\"x\":-1.0847136274319271,\"y\":-1.3958496861995813,\"z\":0.8}}}}},{\"layout\":{\"scene\":{\"camera\":{\"eye\":{\"x\":-1.218647020727311,\"y\":-1.2805855843607052,\"z\":0.8}}}}},{\"layout\":{\"scene\":{\"camera\":{\"eye\":{\"x\":-1.3404040958227346,\"y\":-1.1525262946682115,\"z\":0.8}}}}},{\"layout\":{\"scene\":{\"camera\":{\"eye\":{\"x\":-1.448768296271385,\"y\":-1.0129513432139317,\"z\":0.8}}}}},{\"layout\":{\"scene\":{\"camera\":{\"eye\":{\"x\":-1.5426568828028173,\"y\":-0.8632553167754569,\"z\":0.8}}}}},{\"layout\":{\"scene\":{\"camera\":{\"eye\":{\"x\":-1.6211317516958519,\"y\":-0.7049339285660311,\"z\":0.8}}}}},{\"layout\":{\"scene\":{\"camera\":{\"eye\":{\"x\":-1.6834088080008527,\"y\":-0.5395690735625494,\"z\":0.8}}}}},{\"layout\":{\"scene\":{\"camera\":{\"eye\":{\"x\":-1.7288657999572776,\"y\":-0.3688130227338533,\"z\":0.8}}}}},{\"layout\":{\"scene\":{\"camera\":{\"eye\":{\"x\":-1.7570485363275825,\"y\":-0.1943719140953739,\"z\":0.8}}}}},{\"layout\":{\"scene\":{\"camera\":{\"eye\":{\"x\":-1.7676754245259283,\"y\":-0.017988705542069106,\"z\":0.8}}}}}]);\n",
       "                        }).then(function(){\n",
       "                            \n",
       "var gd = document.getElementById('6a5100ec-46a7-4fd2-97cb-e8a12b316a6f');\n",
       "var x = new MutationObserver(function (mutations, observer) {{\n",
       "        var display = window.getComputedStyle(gd).display;\n",
       "        if (!display || display === 'none') {{\n",
       "            console.log([gd, 'removed!']);\n",
       "            Plotly.purge(gd);\n",
       "            observer.disconnect();\n",
       "        }}\n",
       "}});\n",
       "\n",
       "// Listen for the removal of the full notebook cells\n",
       "var notebookContainer = gd.closest('#notebook-container');\n",
       "if (notebookContainer) {{\n",
       "    x.observe(notebookContainer, {childList: true});\n",
       "}}\n",
       "\n",
       "// Listen for the clearing of the current output cell\n",
       "var outputEl = gd.closest('.output');\n",
       "if (outputEl) {{\n",
       "    x.observe(outputEl, {childList: true});\n",
       "}}\n",
       "\n",
       "                        })                };                });            </script>        </div>"
      ]
     },
     "metadata": {},
     "output_type": "display_data"
    }
   ],
   "source": [
    "visualize_rotate([go.Scatter3d(x=x, y=y, z=z,mode='markers')]).show()"
   ]
  },
  {
   "cell_type": "code",
   "execution_count": 4,
   "id": "d244eadf",
   "metadata": {},
   "outputs": [],
   "source": [
    "class PointCloudData(Dataset):\n",
    "    def __init__(self, root_dir, valid=False, folder=\"train\"):\n",
    "        self.files = []\n",
    "        target_output = {\n",
    "        #     x1, y1, x2, y2, pitch, f1, f2\n",
    "            \"nugg_1\": np.array([0.4133, 0.115, 0.4024, 0.1550, 0.524, 0.5, 0.75]),\n",
    "            \"nugg_2\": np.array([0.4054, 0.094, 0.4535, 0.1271, 0.524, 0.5, 0.75]),\n",
    "            \"nugg_3\": np.array([0.4156, 0.1164, 0.4132, 0.1621, 0.524, 0.5, 0.75]),\n",
    "            \"nugg_4\": np.array([0.4017, 0.0874, 0.4305, 0.1325, 0.524, 0.5, 0.75]),\n",
    "            \"nugg_5\": np.array([0.4115, 0.0840, 0.4457, 0.1250, 0.524, 0.5, 0.75])\n",
    "        }\n",
    "        for i in range(5):\n",
    "            pcd = o3d.io.read_point_cloud(f'{root_dir}/{folder}/nugg_{i+1}.pcd')\n",
    "            xyz = np.asarray(pcd.points)\n",
    "            center = np.mean(xyz, axis=0)\n",
    "            xyz = xyz[np.where((xyz[:,2]>center[2]-0.001) & (xyz[:,2]<center[2]+0.001))]\n",
    "            idx = np.random.choice(np.arange(xyz.shape[0]), size=128)\n",
    "            xyz = xyz[idx]\n",
    "            sample = {}\n",
    "            sample['pt_cld'] = xyz\n",
    "            sample['target'] = target_output[f'nugg_{i+1}']\n",
    "            self.files.append(sample)\n",
    "\n",
    "    def __len__(self):\n",
    "        return len(self.files)\n",
    "\n",
    "    def __getitem__(self, idx):\n",
    "        pointcloud = self.files[idx]['pt_cld']\n",
    "        target = self.files[idx]['target']\n",
    "        return {'pointcloud': torch.from_numpy(pointcloud), \n",
    "                'target': torch.from_numpy(target)}"
   ]
  },
  {
   "cell_type": "code",
   "execution_count": 5,
   "id": "0dd4535d",
   "metadata": {},
   "outputs": [],
   "source": [
    "train_ds = PointCloudData('./')\n",
    "# valid_ds = PointCloudData('./data', valid=True, folder='test', transform=train_transforms)"
   ]
  },
  {
   "cell_type": "code",
   "execution_count": 6,
   "id": "b98483fa",
   "metadata": {},
   "outputs": [],
   "source": [
    "train_loader = DataLoader(dataset=train_ds, batch_size=1, shuffle=True)\n",
    "# valid_loader = DataLoader(dataset=valid_ds, batch_size=64)"
   ]
  },
  {
   "cell_type": "code",
   "execution_count": 7,
   "id": "fde43612",
   "metadata": {},
   "outputs": [],
   "source": [
    "class Tnet(nn.Module):\n",
    "    def __init__(self, k=3):\n",
    "        super().__init__()\n",
    "        self.k = k\n",
    "        self.conv1 = nn.Conv1d(k, 64, 1)\n",
    "        self.conv2 = nn.Conv1d(64, 128, 1)\n",
    "        self.conv3 = nn.Conv1d(128, 512, 1)\n",
    "        self.fc1 = nn.Linear(512,256)\n",
    "        self.fc2 = nn.Linear(256,128)\n",
    "        self.fc3 = nn.Linear(128, k*k)\n",
    "        \n",
    "#         self.bn1 = nn.BatchNorm1d(64)\n",
    "#         self.bn2 = nn.BatchNorm1d(128)\n",
    "#         self.bn3 = nn.BatchNorm1d(512)\n",
    "#         self.bn4 = nn.BatchNorm1d(256)\n",
    "#         self.bn5 = nn.BatchNorm1d(128)\n",
    "    def forward(self, x):\n",
    "        bs = x.size(0)\n",
    "        x = F.relu(self.conv1(x))\n",
    "        x = F.relu(self.conv2(x))\n",
    "        x = F.relu(self.conv3(x))\n",
    "        x = nn.MaxPool1d(x.size(-1))(x)\n",
    "        x = nn.Flatten(1)(x)\n",
    "        x = F.relu(self.fc1(x))\n",
    "        x = F.relu(self.fc2(x))\n",
    "        \n",
    "        init = torch.eye(self.k, requires_grad=True).repeat(bs,1,1)\n",
    "        if x.is_cuda:\n",
    "            init = init.cuda()\n",
    "        matrix = self.fc3(x).view(-1, self.k, self.k) + init\n",
    "        return matrix\n",
    "    \n",
    "class Transform(nn.Module):\n",
    "    def __init__(self):\n",
    "        super().__init__()\n",
    "        self.input_transform = Tnet(k=3)\n",
    "        self.feature_transform = Tnet(k=64)\n",
    "        self.conv1 = nn.Conv1d(3, 64, 1)\n",
    "        self.conv2 = nn.Conv1d(64, 128, 1)\n",
    "        self.conv3 = nn.Conv1d(128, 512, 1)\n",
    "        \n",
    "#         self.bn1 = nn.BatchNorm1d(64)\n",
    "#         self.bn2 = nn.BatchNorm1d(128)\n",
    "#         self.bn3 = nn.BatchNorm1d(512)\n",
    "    def forward(self, x):\n",
    "        matrix3x3 = self.input_transform(x)\n",
    "        x = torch.bmm(torch.transpose(x, 1, 2), matrix3x3).transpose(1,2)\n",
    "        x = F.relu(self.conv1(x))\n",
    "        matrix64x64 = self.feature_transform(x)\n",
    "        x = torch.bmm(torch.transpose(x, 1, 2), matrix64x64).transpose(1,2)\n",
    "        x = F.relu(self.conv2(x))\n",
    "        x = self.conv3(x)\n",
    "        x = nn.MaxPool1d(x.size(-1))(x)\n",
    "        x = nn.Flatten(1)(x)\n",
    "        return x, matrix3x3, matrix64x64\n",
    "    \n",
    "class PointNet(nn.Module):\n",
    "    def __init__(self, tgt_layer = 7):\n",
    "        super().__init__()\n",
    "        self.transform = Transform()\n",
    "        self.fc1 = nn.Linear(512, 256)\n",
    "        self.fc2 = nn.Linear(256, 128)\n",
    "        self.fc3 = nn.Linear(128, tgt_layer)\n",
    "        \n",
    "#         self.bn1 = nn.BatchNorm1d(256)\n",
    "#         self.bn2 = nn.BatchNorm1d(128)\n",
    "        self.dropout = nn.Dropout(p=0.3)\n",
    "#         self.logsoftmax = nn.LogSoftmax(dim=1)\n",
    "        \n",
    "    def forward(self, x):\n",
    "        x, mat3, mat64 = self.transform(x)\n",
    "        x = F.relu(self.fc1(x))\n",
    "        x = F.relu(self.dropout(self.fc2(x)))\n",
    "        x = self.fc3(x)\n",
    "        return x, mat3, mat64"
   ]
  },
  {
   "cell_type": "code",
   "execution_count": 8,
   "id": "1fda4eb2",
   "metadata": {},
   "outputs": [],
   "source": [
    "def pointnetloss(output, target, m3x3, m64x64, alpha = 0.0001):\n",
    "    criterion = torch.nn.MSELoss()\n",
    "#     bs=target.size(0)\n",
    "#     id3x3 = torch.eye(3, requires_grad=True).repeat(bs,1,1)\n",
    "#     id64x64 = torch.eye(64, requires_grad=True).repeat(bs,1,1)\n",
    "#     if target.is_cuda:\n",
    "#         id3x3=id3x3.cuda()\n",
    "#         id64x64=id64x64.cuda()\n",
    "#     diff3x3 = id3x3-torch.bmm(m3x3,m3x3.transpose(1,2))\n",
    "#     diff64x64 = id64x64-torch.bmm(m64x64,m64x64.transpose(1,2))\n",
    "    final_loss = criterion(output, target) #+ alpha * (torch.norm(diff3x3)+torch.norm(diff64x64)) / float(bs)\n",
    "    return final_loss"
   ]
  },
  {
   "cell_type": "code",
   "execution_count": 9,
   "id": "afbc665f",
   "metadata": {},
   "outputs": [
    {
     "data": {
      "text/plain": [
       "device(type='cuda', index=0)"
      ]
     },
     "execution_count": 9,
     "metadata": {},
     "output_type": "execute_result"
    }
   ],
   "source": [
    "device = torch.device(\"cuda:0\" if torch.cuda.is_available() else \"cpu\")\n",
    "device"
   ]
  },
  {
   "cell_type": "code",
   "execution_count": 10,
   "id": "b3da2295",
   "metadata": {},
   "outputs": [],
   "source": [
    "def train(model, optim, train_loader, val_loader=None, epochs=20, save=True, print_every=10):\n",
    "    prev_val_acc = 0\n",
    "    min_loss = 999\n",
    "    for epoch in range(epochs):\n",
    "        model.train()\n",
    "        avg_loss = 0\n",
    "        for i,data in enumerate(train_loader, 0):\n",
    "            inputs, labels = data['pointcloud'].to(device).float(), data['target'].to(device).float()\n",
    "#             print(inputs.shape)\n",
    "            optim.zero_grad()\n",
    "            y, m3, m64 = model(inputs.transpose(1,2))\n",
    "            loss = pointnetloss(y, labels, m3, m64)\n",
    "            loss.backward()\n",
    "            optim.step()\n",
    "            avg_loss += loss.item()\n",
    "            if i%print_every==0:\n",
    "                pass\n",
    "        \n",
    "        if min_loss > avg_loss/5:\n",
    "            min_loss = avg_loss/5\n",
    "            \n",
    "            print(f\"Epoch {epoch}, avg_loss: {avg_loss/5}, min_loss: {min_loss}\")\n",
    "            if save:\n",
    "                torch.save(model.state_dict(), f\"./checkpoints/ckpt_min_loss.pt\")\n",
    "        model.eval()\n",
    "        correct = total = 0\n",
    "        if val_loader:\n",
    "            with torch.no_grad():\n",
    "                for data in val_loader:\n",
    "                    inputs, labels = data['pointcloud'].to(device).float(), data['target'].to(device)\n",
    "                    y, _, _ = model(inputs.transpose(1,2))\n",
    "                    _, predicted = torch.max(y.data, 1)\n",
    "                    total += labels.size(0)\n",
    "                    correct += (predicted == labels).sum().item()\n",
    "            val_acc = 100*correct/total\n",
    "            if val_acc > prev_val_acc:\n",
    "                prev_val_acc = val_acc\n",
    "    return model\n",
    "                \n",
    "\n",
    "def load_model(path, device):\n",
    "    pointnet = PointNet()\n",
    "    pointnet.to(device)\n",
    "    optimizer = torch.optim.Adam(pointnet.parameters(), lr=0.001)\n",
    "    torch.load(path, map_location=device)"
   ]
  },
  {
   "cell_type": "code",
   "execution_count": 11,
   "id": "ee183ef0",
   "metadata": {
    "scrolled": true
   },
   "outputs": [
    {
     "name": "stdout",
     "output_type": "stream",
     "text": [
      "Epoch 0, avg_loss: 0.1553087964653969, min_loss: 0.1553087964653969\n",
      "Epoch 1, avg_loss: 0.0476755253970623, min_loss: 0.0476755253970623\n",
      "Epoch 2, avg_loss: 0.026929286774247885, min_loss: 0.026929286774247885\n",
      "Epoch 4, avg_loss: 0.022957361303269863, min_loss: 0.022957361303269863\n",
      "Epoch 5, avg_loss: 0.007798287831246853, min_loss: 0.007798287831246853\n",
      "Epoch 16, avg_loss: 0.005981071200221777, min_loss: 0.005981071200221777\n",
      "Epoch 21, avg_loss: 0.004749214346520603, min_loss: 0.004749214346520603\n",
      "Epoch 23, avg_loss: 0.004461962124332785, min_loss: 0.004461962124332785\n",
      "Epoch 24, avg_loss: 0.0025388784939423203, min_loss: 0.0025388784939423203\n",
      "Epoch 56, avg_loss: 0.0024443425005301832, min_loss: 0.0024443425005301832\n",
      "Epoch 88, avg_loss: 0.0018105294788256288, min_loss: 0.0018105294788256288\n",
      "Epoch 104, avg_loss: 0.0015514858765527605, min_loss: 0.0015514858765527605\n",
      "Epoch 114, avg_loss: 0.0010916067520156502, min_loss: 0.0010916067520156502\n",
      "Epoch 116, avg_loss: 0.0009158418513834476, min_loss: 0.0009158418513834476\n",
      "Epoch 133, avg_loss: 0.0005392988852690906, min_loss: 0.0005392988852690906\n",
      "Epoch 319, avg_loss: 0.0005352446416509338, min_loss: 0.0005352446416509338\n",
      "Epoch 330, avg_loss: 0.00036902854626532646, min_loss: 0.00036902854626532646\n",
      "Epoch 366, avg_loss: 0.00029138751851860435, min_loss: 0.00029138751851860435\n",
      "Epoch 372, avg_loss: 0.0002471036263159476, min_loss: 0.0002471036263159476\n",
      "Epoch 496, avg_loss: 0.00023616947000846267, min_loss: 0.00023616947000846267\n",
      "Epoch 621, avg_loss: 0.000192764971870929, min_loss: 0.000192764971870929\n",
      "Epoch 655, avg_loss: 0.0001798988232621923, min_loss: 0.0001798988232621923\n",
      "Epoch 694, avg_loss: 0.00011880390156875365, min_loss: 0.00011880390156875365\n",
      "Epoch 789, avg_loss: 0.00011471071047708392, min_loss: 0.00011471071047708392\n"
     ]
    },
    {
     "data": {
      "text/plain": [
       "PointNet(\n",
       "  (transform): Transform(\n",
       "    (input_transform): Tnet(\n",
       "      (conv1): Conv1d(3, 64, kernel_size=(1,), stride=(1,))\n",
       "      (conv2): Conv1d(64, 128, kernel_size=(1,), stride=(1,))\n",
       "      (conv3): Conv1d(128, 512, kernel_size=(1,), stride=(1,))\n",
       "      (fc1): Linear(in_features=512, out_features=256, bias=True)\n",
       "      (fc2): Linear(in_features=256, out_features=128, bias=True)\n",
       "      (fc3): Linear(in_features=128, out_features=9, bias=True)\n",
       "    )\n",
       "    (feature_transform): Tnet(\n",
       "      (conv1): Conv1d(64, 64, kernel_size=(1,), stride=(1,))\n",
       "      (conv2): Conv1d(64, 128, kernel_size=(1,), stride=(1,))\n",
       "      (conv3): Conv1d(128, 512, kernel_size=(1,), stride=(1,))\n",
       "      (fc1): Linear(in_features=512, out_features=256, bias=True)\n",
       "      (fc2): Linear(in_features=256, out_features=128, bias=True)\n",
       "      (fc3): Linear(in_features=128, out_features=4096, bias=True)\n",
       "    )\n",
       "    (conv1): Conv1d(3, 64, kernel_size=(1,), stride=(1,))\n",
       "    (conv2): Conv1d(64, 128, kernel_size=(1,), stride=(1,))\n",
       "    (conv3): Conv1d(128, 512, kernel_size=(1,), stride=(1,))\n",
       "  )\n",
       "  (fc1): Linear(in_features=512, out_features=256, bias=True)\n",
       "  (fc2): Linear(in_features=256, out_features=128, bias=True)\n",
       "  (fc3): Linear(in_features=128, out_features=7, bias=True)\n",
       "  (dropout): Dropout(p=0.3, inplace=False)\n",
       ")"
      ]
     },
     "execution_count": 11,
     "metadata": {},
     "output_type": "execute_result"
    }
   ],
   "source": [
    "pointnet = PointNet()\n",
    "pointnet.to(device)\n",
    "optimizer = torch.optim.Adam(pointnet.parameters(), lr=0.001)\n",
    "train(pointnet, optimizer, train_loader, epochs=1000,  save=True, print_every=5)"
   ]
  },
  {
   "cell_type": "code",
   "execution_count": 17,
   "id": "9d02c4b0",
   "metadata": {},
   "outputs": [],
   "source": [
    "def test(model, pcd_path):\n",
    "    pcd = o3d.io.read_point_cloud(pcd_path)\n",
    "    xyz = np.asarray(pcd.points)\n",
    "    \n",
    "    fig = plt.figure()\n",
    "    ax = fig.add_subplot(projection='3d')\n",
    "    ax.scatter(xyz[:,0], xyz[:,1], xyz[:,2])\n",
    "    \n",
    "    center = np.mean(xyz, axis=0)\n",
    "    xyz = xyz[np.where((xyz[:,2]>center[2]-0.001) & (xyz[:,2]<center[2]+0.001))]\n",
    "    idx = np.random.choice(np.arange(xyz.shape[0]), size=128)\n",
    "    xyz = xyz[idx]\n",
    "    \n",
    "\n",
    "    ax.set_xlabel('X')\n",
    "    ax.set_ylabel('Y')\n",
    "    ax.set_zlabel('Z')\n",
    "\n",
    "\n",
    "    xyz = torch.from_numpy(xyz).unsqueeze(0).to(device).float()\n",
    "    \n",
    "    with torch.no_grad():\n",
    "        result = model(xyz.transpose(1,2))[0].detach().cpu().numpy()[0]\n",
    "    print(result)\n",
    "    \n",
    "    x1 = result[:2]\n",
    "    x2 = result[2:4]\n",
    "    ax.scatter(x1[0], x1[1], center[2])\n",
    "    ax.scatter(x2[0], x2[1], center[2])\n",
    "    plt.show()"
   ]
  },
  {
   "cell_type": "code",
   "execution_count": 18,
   "id": "43dc025a",
   "metadata": {
    "scrolled": false
   },
   "outputs": [
    {
     "data": {
      "application/javascript": [
       "/* Put everything inside the global mpl namespace */\n",
       "/* global mpl */\n",
       "window.mpl = {};\n",
       "\n",
       "mpl.get_websocket_type = function () {\n",
       "    if (typeof WebSocket !== 'undefined') {\n",
       "        return WebSocket;\n",
       "    } else if (typeof MozWebSocket !== 'undefined') {\n",
       "        return MozWebSocket;\n",
       "    } else {\n",
       "        alert(\n",
       "            'Your browser does not have WebSocket support. ' +\n",
       "                'Please try Chrome, Safari or Firefox ≥ 6. ' +\n",
       "                'Firefox 4 and 5 are also supported but you ' +\n",
       "                'have to enable WebSockets in about:config.'\n",
       "        );\n",
       "    }\n",
       "};\n",
       "\n",
       "mpl.figure = function (figure_id, websocket, ondownload, parent_element) {\n",
       "    this.id = figure_id;\n",
       "\n",
       "    this.ws = websocket;\n",
       "\n",
       "    this.supports_binary = this.ws.binaryType !== undefined;\n",
       "\n",
       "    if (!this.supports_binary) {\n",
       "        var warnings = document.getElementById('mpl-warnings');\n",
       "        if (warnings) {\n",
       "            warnings.style.display = 'block';\n",
       "            warnings.textContent =\n",
       "                'This browser does not support binary websocket messages. ' +\n",
       "                'Performance may be slow.';\n",
       "        }\n",
       "    }\n",
       "\n",
       "    this.imageObj = new Image();\n",
       "\n",
       "    this.context = undefined;\n",
       "    this.message = undefined;\n",
       "    this.canvas = undefined;\n",
       "    this.rubberband_canvas = undefined;\n",
       "    this.rubberband_context = undefined;\n",
       "    this.format_dropdown = undefined;\n",
       "\n",
       "    this.image_mode = 'full';\n",
       "\n",
       "    this.root = document.createElement('div');\n",
       "    this.root.setAttribute('style', 'display: inline-block');\n",
       "    this._root_extra_style(this.root);\n",
       "\n",
       "    parent_element.appendChild(this.root);\n",
       "\n",
       "    this._init_header(this);\n",
       "    this._init_canvas(this);\n",
       "    this._init_toolbar(this);\n",
       "\n",
       "    var fig = this;\n",
       "\n",
       "    this.waiting = false;\n",
       "\n",
       "    this.ws.onopen = function () {\n",
       "        fig.send_message('supports_binary', { value: fig.supports_binary });\n",
       "        fig.send_message('send_image_mode', {});\n",
       "        if (fig.ratio !== 1) {\n",
       "            fig.send_message('set_device_pixel_ratio', {\n",
       "                device_pixel_ratio: fig.ratio,\n",
       "            });\n",
       "        }\n",
       "        fig.send_message('refresh', {});\n",
       "    };\n",
       "\n",
       "    this.imageObj.onload = function () {\n",
       "        if (fig.image_mode === 'full') {\n",
       "            // Full images could contain transparency (where diff images\n",
       "            // almost always do), so we need to clear the canvas so that\n",
       "            // there is no ghosting.\n",
       "            fig.context.clearRect(0, 0, fig.canvas.width, fig.canvas.height);\n",
       "        }\n",
       "        fig.context.drawImage(fig.imageObj, 0, 0);\n",
       "    };\n",
       "\n",
       "    this.imageObj.onunload = function () {\n",
       "        fig.ws.close();\n",
       "    };\n",
       "\n",
       "    this.ws.onmessage = this._make_on_message_function(this);\n",
       "\n",
       "    this.ondownload = ondownload;\n",
       "};\n",
       "\n",
       "mpl.figure.prototype._init_header = function () {\n",
       "    var titlebar = document.createElement('div');\n",
       "    titlebar.classList =\n",
       "        'ui-dialog-titlebar ui-widget-header ui-corner-all ui-helper-clearfix';\n",
       "    var titletext = document.createElement('div');\n",
       "    titletext.classList = 'ui-dialog-title';\n",
       "    titletext.setAttribute(\n",
       "        'style',\n",
       "        'width: 100%; text-align: center; padding: 3px;'\n",
       "    );\n",
       "    titlebar.appendChild(titletext);\n",
       "    this.root.appendChild(titlebar);\n",
       "    this.header = titletext;\n",
       "};\n",
       "\n",
       "mpl.figure.prototype._canvas_extra_style = function (_canvas_div) {};\n",
       "\n",
       "mpl.figure.prototype._root_extra_style = function (_canvas_div) {};\n",
       "\n",
       "mpl.figure.prototype._init_canvas = function () {\n",
       "    var fig = this;\n",
       "\n",
       "    var canvas_div = (this.canvas_div = document.createElement('div'));\n",
       "    canvas_div.setAttribute(\n",
       "        'style',\n",
       "        'border: 1px solid #ddd;' +\n",
       "            'box-sizing: content-box;' +\n",
       "            'clear: both;' +\n",
       "            'min-height: 1px;' +\n",
       "            'min-width: 1px;' +\n",
       "            'outline: 0;' +\n",
       "            'overflow: hidden;' +\n",
       "            'position: relative;' +\n",
       "            'resize: both;'\n",
       "    );\n",
       "\n",
       "    function on_keyboard_event_closure(name) {\n",
       "        return function (event) {\n",
       "            return fig.key_event(event, name);\n",
       "        };\n",
       "    }\n",
       "\n",
       "    canvas_div.addEventListener(\n",
       "        'keydown',\n",
       "        on_keyboard_event_closure('key_press')\n",
       "    );\n",
       "    canvas_div.addEventListener(\n",
       "        'keyup',\n",
       "        on_keyboard_event_closure('key_release')\n",
       "    );\n",
       "\n",
       "    this._canvas_extra_style(canvas_div);\n",
       "    this.root.appendChild(canvas_div);\n",
       "\n",
       "    var canvas = (this.canvas = document.createElement('canvas'));\n",
       "    canvas.classList.add('mpl-canvas');\n",
       "    canvas.setAttribute('style', 'box-sizing: content-box;');\n",
       "\n",
       "    this.context = canvas.getContext('2d');\n",
       "\n",
       "    var backingStore =\n",
       "        this.context.backingStorePixelRatio ||\n",
       "        this.context.webkitBackingStorePixelRatio ||\n",
       "        this.context.mozBackingStorePixelRatio ||\n",
       "        this.context.msBackingStorePixelRatio ||\n",
       "        this.context.oBackingStorePixelRatio ||\n",
       "        this.context.backingStorePixelRatio ||\n",
       "        1;\n",
       "\n",
       "    this.ratio = (window.devicePixelRatio || 1) / backingStore;\n",
       "\n",
       "    var rubberband_canvas = (this.rubberband_canvas = document.createElement(\n",
       "        'canvas'\n",
       "    ));\n",
       "    rubberband_canvas.setAttribute(\n",
       "        'style',\n",
       "        'box-sizing: content-box; position: absolute; left: 0; top: 0; z-index: 1;'\n",
       "    );\n",
       "\n",
       "    // Apply a ponyfill if ResizeObserver is not implemented by browser.\n",
       "    if (this.ResizeObserver === undefined) {\n",
       "        if (window.ResizeObserver !== undefined) {\n",
       "            this.ResizeObserver = window.ResizeObserver;\n",
       "        } else {\n",
       "            var obs = _JSXTOOLS_RESIZE_OBSERVER({});\n",
       "            this.ResizeObserver = obs.ResizeObserver;\n",
       "        }\n",
       "    }\n",
       "\n",
       "    this.resizeObserverInstance = new this.ResizeObserver(function (entries) {\n",
       "        var nentries = entries.length;\n",
       "        for (var i = 0; i < nentries; i++) {\n",
       "            var entry = entries[i];\n",
       "            var width, height;\n",
       "            if (entry.contentBoxSize) {\n",
       "                if (entry.contentBoxSize instanceof Array) {\n",
       "                    // Chrome 84 implements new version of spec.\n",
       "                    width = entry.contentBoxSize[0].inlineSize;\n",
       "                    height = entry.contentBoxSize[0].blockSize;\n",
       "                } else {\n",
       "                    // Firefox implements old version of spec.\n",
       "                    width = entry.contentBoxSize.inlineSize;\n",
       "                    height = entry.contentBoxSize.blockSize;\n",
       "                }\n",
       "            } else {\n",
       "                // Chrome <84 implements even older version of spec.\n",
       "                width = entry.contentRect.width;\n",
       "                height = entry.contentRect.height;\n",
       "            }\n",
       "\n",
       "            // Keep the size of the canvas and rubber band canvas in sync with\n",
       "            // the canvas container.\n",
       "            if (entry.devicePixelContentBoxSize) {\n",
       "                // Chrome 84 implements new version of spec.\n",
       "                canvas.setAttribute(\n",
       "                    'width',\n",
       "                    entry.devicePixelContentBoxSize[0].inlineSize\n",
       "                );\n",
       "                canvas.setAttribute(\n",
       "                    'height',\n",
       "                    entry.devicePixelContentBoxSize[0].blockSize\n",
       "                );\n",
       "            } else {\n",
       "                canvas.setAttribute('width', width * fig.ratio);\n",
       "                canvas.setAttribute('height', height * fig.ratio);\n",
       "            }\n",
       "            canvas.setAttribute(\n",
       "                'style',\n",
       "                'width: ' + width + 'px; height: ' + height + 'px;'\n",
       "            );\n",
       "\n",
       "            rubberband_canvas.setAttribute('width', width);\n",
       "            rubberband_canvas.setAttribute('height', height);\n",
       "\n",
       "            // And update the size in Python. We ignore the initial 0/0 size\n",
       "            // that occurs as the element is placed into the DOM, which should\n",
       "            // otherwise not happen due to the minimum size styling.\n",
       "            if (fig.ws.readyState == 1 && width != 0 && height != 0) {\n",
       "                fig.request_resize(width, height);\n",
       "            }\n",
       "        }\n",
       "    });\n",
       "    this.resizeObserverInstance.observe(canvas_div);\n",
       "\n",
       "    function on_mouse_event_closure(name) {\n",
       "        return function (event) {\n",
       "            return fig.mouse_event(event, name);\n",
       "        };\n",
       "    }\n",
       "\n",
       "    rubberband_canvas.addEventListener(\n",
       "        'mousedown',\n",
       "        on_mouse_event_closure('button_press')\n",
       "    );\n",
       "    rubberband_canvas.addEventListener(\n",
       "        'mouseup',\n",
       "        on_mouse_event_closure('button_release')\n",
       "    );\n",
       "    rubberband_canvas.addEventListener(\n",
       "        'dblclick',\n",
       "        on_mouse_event_closure('dblclick')\n",
       "    );\n",
       "    // Throttle sequential mouse events to 1 every 20ms.\n",
       "    rubberband_canvas.addEventListener(\n",
       "        'mousemove',\n",
       "        on_mouse_event_closure('motion_notify')\n",
       "    );\n",
       "\n",
       "    rubberband_canvas.addEventListener(\n",
       "        'mouseenter',\n",
       "        on_mouse_event_closure('figure_enter')\n",
       "    );\n",
       "    rubberband_canvas.addEventListener(\n",
       "        'mouseleave',\n",
       "        on_mouse_event_closure('figure_leave')\n",
       "    );\n",
       "\n",
       "    canvas_div.addEventListener('wheel', function (event) {\n",
       "        if (event.deltaY < 0) {\n",
       "            event.step = 1;\n",
       "        } else {\n",
       "            event.step = -1;\n",
       "        }\n",
       "        on_mouse_event_closure('scroll')(event);\n",
       "    });\n",
       "\n",
       "    canvas_div.appendChild(canvas);\n",
       "    canvas_div.appendChild(rubberband_canvas);\n",
       "\n",
       "    this.rubberband_context = rubberband_canvas.getContext('2d');\n",
       "    this.rubberband_context.strokeStyle = '#000000';\n",
       "\n",
       "    this._resize_canvas = function (width, height, forward) {\n",
       "        if (forward) {\n",
       "            canvas_div.style.width = width + 'px';\n",
       "            canvas_div.style.height = height + 'px';\n",
       "        }\n",
       "    };\n",
       "\n",
       "    // Disable right mouse context menu.\n",
       "    this.rubberband_canvas.addEventListener('contextmenu', function (_e) {\n",
       "        event.preventDefault();\n",
       "        return false;\n",
       "    });\n",
       "\n",
       "    function set_focus() {\n",
       "        canvas.focus();\n",
       "        canvas_div.focus();\n",
       "    }\n",
       "\n",
       "    window.setTimeout(set_focus, 100);\n",
       "};\n",
       "\n",
       "mpl.figure.prototype._init_toolbar = function () {\n",
       "    var fig = this;\n",
       "\n",
       "    var toolbar = document.createElement('div');\n",
       "    toolbar.classList = 'mpl-toolbar';\n",
       "    this.root.appendChild(toolbar);\n",
       "\n",
       "    function on_click_closure(name) {\n",
       "        return function (_event) {\n",
       "            return fig.toolbar_button_onclick(name);\n",
       "        };\n",
       "    }\n",
       "\n",
       "    function on_mouseover_closure(tooltip) {\n",
       "        return function (event) {\n",
       "            if (!event.currentTarget.disabled) {\n",
       "                return fig.toolbar_button_onmouseover(tooltip);\n",
       "            }\n",
       "        };\n",
       "    }\n",
       "\n",
       "    fig.buttons = {};\n",
       "    var buttonGroup = document.createElement('div');\n",
       "    buttonGroup.classList = 'mpl-button-group';\n",
       "    for (var toolbar_ind in mpl.toolbar_items) {\n",
       "        var name = mpl.toolbar_items[toolbar_ind][0];\n",
       "        var tooltip = mpl.toolbar_items[toolbar_ind][1];\n",
       "        var image = mpl.toolbar_items[toolbar_ind][2];\n",
       "        var method_name = mpl.toolbar_items[toolbar_ind][3];\n",
       "\n",
       "        if (!name) {\n",
       "            /* Instead of a spacer, we start a new button group. */\n",
       "            if (buttonGroup.hasChildNodes()) {\n",
       "                toolbar.appendChild(buttonGroup);\n",
       "            }\n",
       "            buttonGroup = document.createElement('div');\n",
       "            buttonGroup.classList = 'mpl-button-group';\n",
       "            continue;\n",
       "        }\n",
       "\n",
       "        var button = (fig.buttons[name] = document.createElement('button'));\n",
       "        button.classList = 'mpl-widget';\n",
       "        button.setAttribute('role', 'button');\n",
       "        button.setAttribute('aria-disabled', 'false');\n",
       "        button.addEventListener('click', on_click_closure(method_name));\n",
       "        button.addEventListener('mouseover', on_mouseover_closure(tooltip));\n",
       "\n",
       "        var icon_img = document.createElement('img');\n",
       "        icon_img.src = '_images/' + image + '.png';\n",
       "        icon_img.srcset = '_images/' + image + '_large.png 2x';\n",
       "        icon_img.alt = tooltip;\n",
       "        button.appendChild(icon_img);\n",
       "\n",
       "        buttonGroup.appendChild(button);\n",
       "    }\n",
       "\n",
       "    if (buttonGroup.hasChildNodes()) {\n",
       "        toolbar.appendChild(buttonGroup);\n",
       "    }\n",
       "\n",
       "    var fmt_picker = document.createElement('select');\n",
       "    fmt_picker.classList = 'mpl-widget';\n",
       "    toolbar.appendChild(fmt_picker);\n",
       "    this.format_dropdown = fmt_picker;\n",
       "\n",
       "    for (var ind in mpl.extensions) {\n",
       "        var fmt = mpl.extensions[ind];\n",
       "        var option = document.createElement('option');\n",
       "        option.selected = fmt === mpl.default_extension;\n",
       "        option.innerHTML = fmt;\n",
       "        fmt_picker.appendChild(option);\n",
       "    }\n",
       "\n",
       "    var status_bar = document.createElement('span');\n",
       "    status_bar.classList = 'mpl-message';\n",
       "    toolbar.appendChild(status_bar);\n",
       "    this.message = status_bar;\n",
       "};\n",
       "\n",
       "mpl.figure.prototype.request_resize = function (x_pixels, y_pixels) {\n",
       "    // Request matplotlib to resize the figure. Matplotlib will then trigger a resize in the client,\n",
       "    // which will in turn request a refresh of the image.\n",
       "    this.send_message('resize', { width: x_pixels, height: y_pixels });\n",
       "};\n",
       "\n",
       "mpl.figure.prototype.send_message = function (type, properties) {\n",
       "    properties['type'] = type;\n",
       "    properties['figure_id'] = this.id;\n",
       "    this.ws.send(JSON.stringify(properties));\n",
       "};\n",
       "\n",
       "mpl.figure.prototype.send_draw_message = function () {\n",
       "    if (!this.waiting) {\n",
       "        this.waiting = true;\n",
       "        this.ws.send(JSON.stringify({ type: 'draw', figure_id: this.id }));\n",
       "    }\n",
       "};\n",
       "\n",
       "mpl.figure.prototype.handle_save = function (fig, _msg) {\n",
       "    var format_dropdown = fig.format_dropdown;\n",
       "    var format = format_dropdown.options[format_dropdown.selectedIndex].value;\n",
       "    fig.ondownload(fig, format);\n",
       "};\n",
       "\n",
       "mpl.figure.prototype.handle_resize = function (fig, msg) {\n",
       "    var size = msg['size'];\n",
       "    if (size[0] !== fig.canvas.width || size[1] !== fig.canvas.height) {\n",
       "        fig._resize_canvas(size[0], size[1], msg['forward']);\n",
       "        fig.send_message('refresh', {});\n",
       "    }\n",
       "};\n",
       "\n",
       "mpl.figure.prototype.handle_rubberband = function (fig, msg) {\n",
       "    var x0 = msg['x0'] / fig.ratio;\n",
       "    var y0 = (fig.canvas.height - msg['y0']) / fig.ratio;\n",
       "    var x1 = msg['x1'] / fig.ratio;\n",
       "    var y1 = (fig.canvas.height - msg['y1']) / fig.ratio;\n",
       "    x0 = Math.floor(x0) + 0.5;\n",
       "    y0 = Math.floor(y0) + 0.5;\n",
       "    x1 = Math.floor(x1) + 0.5;\n",
       "    y1 = Math.floor(y1) + 0.5;\n",
       "    var min_x = Math.min(x0, x1);\n",
       "    var min_y = Math.min(y0, y1);\n",
       "    var width = Math.abs(x1 - x0);\n",
       "    var height = Math.abs(y1 - y0);\n",
       "\n",
       "    fig.rubberband_context.clearRect(\n",
       "        0,\n",
       "        0,\n",
       "        fig.canvas.width / fig.ratio,\n",
       "        fig.canvas.height / fig.ratio\n",
       "    );\n",
       "\n",
       "    fig.rubberband_context.strokeRect(min_x, min_y, width, height);\n",
       "};\n",
       "\n",
       "mpl.figure.prototype.handle_figure_label = function (fig, msg) {\n",
       "    // Updates the figure title.\n",
       "    fig.header.textContent = msg['label'];\n",
       "};\n",
       "\n",
       "mpl.figure.prototype.handle_cursor = function (fig, msg) {\n",
       "    fig.rubberband_canvas.style.cursor = msg['cursor'];\n",
       "};\n",
       "\n",
       "mpl.figure.prototype.handle_message = function (fig, msg) {\n",
       "    fig.message.textContent = msg['message'];\n",
       "};\n",
       "\n",
       "mpl.figure.prototype.handle_draw = function (fig, _msg) {\n",
       "    // Request the server to send over a new figure.\n",
       "    fig.send_draw_message();\n",
       "};\n",
       "\n",
       "mpl.figure.prototype.handle_image_mode = function (fig, msg) {\n",
       "    fig.image_mode = msg['mode'];\n",
       "};\n",
       "\n",
       "mpl.figure.prototype.handle_history_buttons = function (fig, msg) {\n",
       "    for (var key in msg) {\n",
       "        if (!(key in fig.buttons)) {\n",
       "            continue;\n",
       "        }\n",
       "        fig.buttons[key].disabled = !msg[key];\n",
       "        fig.buttons[key].setAttribute('aria-disabled', !msg[key]);\n",
       "    }\n",
       "};\n",
       "\n",
       "mpl.figure.prototype.handle_navigate_mode = function (fig, msg) {\n",
       "    if (msg['mode'] === 'PAN') {\n",
       "        fig.buttons['Pan'].classList.add('active');\n",
       "        fig.buttons['Zoom'].classList.remove('active');\n",
       "    } else if (msg['mode'] === 'ZOOM') {\n",
       "        fig.buttons['Pan'].classList.remove('active');\n",
       "        fig.buttons['Zoom'].classList.add('active');\n",
       "    } else {\n",
       "        fig.buttons['Pan'].classList.remove('active');\n",
       "        fig.buttons['Zoom'].classList.remove('active');\n",
       "    }\n",
       "};\n",
       "\n",
       "mpl.figure.prototype.updated_canvas_event = function () {\n",
       "    // Called whenever the canvas gets updated.\n",
       "    this.send_message('ack', {});\n",
       "};\n",
       "\n",
       "// A function to construct a web socket function for onmessage handling.\n",
       "// Called in the figure constructor.\n",
       "mpl.figure.prototype._make_on_message_function = function (fig) {\n",
       "    return function socket_on_message(evt) {\n",
       "        if (evt.data instanceof Blob) {\n",
       "            var img = evt.data;\n",
       "            if (img.type !== 'image/png') {\n",
       "                /* FIXME: We get \"Resource interpreted as Image but\n",
       "                 * transferred with MIME type text/plain:\" errors on\n",
       "                 * Chrome.  But how to set the MIME type?  It doesn't seem\n",
       "                 * to be part of the websocket stream */\n",
       "                img.type = 'image/png';\n",
       "            }\n",
       "\n",
       "            /* Free the memory for the previous frames */\n",
       "            if (fig.imageObj.src) {\n",
       "                (window.URL || window.webkitURL).revokeObjectURL(\n",
       "                    fig.imageObj.src\n",
       "                );\n",
       "            }\n",
       "\n",
       "            fig.imageObj.src = (window.URL || window.webkitURL).createObjectURL(\n",
       "                img\n",
       "            );\n",
       "            fig.updated_canvas_event();\n",
       "            fig.waiting = false;\n",
       "            return;\n",
       "        } else if (\n",
       "            typeof evt.data === 'string' &&\n",
       "            evt.data.slice(0, 21) === 'data:image/png;base64'\n",
       "        ) {\n",
       "            fig.imageObj.src = evt.data;\n",
       "            fig.updated_canvas_event();\n",
       "            fig.waiting = false;\n",
       "            return;\n",
       "        }\n",
       "\n",
       "        var msg = JSON.parse(evt.data);\n",
       "        var msg_type = msg['type'];\n",
       "\n",
       "        // Call the  \"handle_{type}\" callback, which takes\n",
       "        // the figure and JSON message as its only arguments.\n",
       "        try {\n",
       "            var callback = fig['handle_' + msg_type];\n",
       "        } catch (e) {\n",
       "            console.log(\n",
       "                \"No handler for the '\" + msg_type + \"' message type: \",\n",
       "                msg\n",
       "            );\n",
       "            return;\n",
       "        }\n",
       "\n",
       "        if (callback) {\n",
       "            try {\n",
       "                // console.log(\"Handling '\" + msg_type + \"' message: \", msg);\n",
       "                callback(fig, msg);\n",
       "            } catch (e) {\n",
       "                console.log(\n",
       "                    \"Exception inside the 'handler_\" + msg_type + \"' callback:\",\n",
       "                    e,\n",
       "                    e.stack,\n",
       "                    msg\n",
       "                );\n",
       "            }\n",
       "        }\n",
       "    };\n",
       "};\n",
       "\n",
       "// from https://stackoverflow.com/questions/1114465/getting-mouse-location-in-canvas\n",
       "mpl.findpos = function (e) {\n",
       "    //this section is from http://www.quirksmode.org/js/events_properties.html\n",
       "    var targ;\n",
       "    if (!e) {\n",
       "        e = window.event;\n",
       "    }\n",
       "    if (e.target) {\n",
       "        targ = e.target;\n",
       "    } else if (e.srcElement) {\n",
       "        targ = e.srcElement;\n",
       "    }\n",
       "    if (targ.nodeType === 3) {\n",
       "        // defeat Safari bug\n",
       "        targ = targ.parentNode;\n",
       "    }\n",
       "\n",
       "    // pageX,Y are the mouse positions relative to the document\n",
       "    var boundingRect = targ.getBoundingClientRect();\n",
       "    var x = e.pageX - (boundingRect.left + document.body.scrollLeft);\n",
       "    var y = e.pageY - (boundingRect.top + document.body.scrollTop);\n",
       "\n",
       "    return { x: x, y: y };\n",
       "};\n",
       "\n",
       "/*\n",
       " * return a copy of an object with only non-object keys\n",
       " * we need this to avoid circular references\n",
       " * https://stackoverflow.com/a/24161582/3208463\n",
       " */\n",
       "function simpleKeys(original) {\n",
       "    return Object.keys(original).reduce(function (obj, key) {\n",
       "        if (typeof original[key] !== 'object') {\n",
       "            obj[key] = original[key];\n",
       "        }\n",
       "        return obj;\n",
       "    }, {});\n",
       "}\n",
       "\n",
       "mpl.figure.prototype.mouse_event = function (event, name) {\n",
       "    var canvas_pos = mpl.findpos(event);\n",
       "\n",
       "    if (name === 'button_press') {\n",
       "        this.canvas.focus();\n",
       "        this.canvas_div.focus();\n",
       "    }\n",
       "\n",
       "    var x = canvas_pos.x * this.ratio;\n",
       "    var y = canvas_pos.y * this.ratio;\n",
       "\n",
       "    this.send_message(name, {\n",
       "        x: x,\n",
       "        y: y,\n",
       "        button: event.button,\n",
       "        step: event.step,\n",
       "        guiEvent: simpleKeys(event),\n",
       "    });\n",
       "\n",
       "    /* This prevents the web browser from automatically changing to\n",
       "     * the text insertion cursor when the button is pressed.  We want\n",
       "     * to control all of the cursor setting manually through the\n",
       "     * 'cursor' event from matplotlib */\n",
       "    event.preventDefault();\n",
       "    return false;\n",
       "};\n",
       "\n",
       "mpl.figure.prototype._key_event_extra = function (_event, _name) {\n",
       "    // Handle any extra behaviour associated with a key event\n",
       "};\n",
       "\n",
       "mpl.figure.prototype.key_event = function (event, name) {\n",
       "    // Prevent repeat events\n",
       "    if (name === 'key_press') {\n",
       "        if (event.key === this._key) {\n",
       "            return;\n",
       "        } else {\n",
       "            this._key = event.key;\n",
       "        }\n",
       "    }\n",
       "    if (name === 'key_release') {\n",
       "        this._key = null;\n",
       "    }\n",
       "\n",
       "    var value = '';\n",
       "    if (event.ctrlKey && event.key !== 'Control') {\n",
       "        value += 'ctrl+';\n",
       "    }\n",
       "    else if (event.altKey && event.key !== 'Alt') {\n",
       "        value += 'alt+';\n",
       "    }\n",
       "    else if (event.shiftKey && event.key !== 'Shift') {\n",
       "        value += 'shift+';\n",
       "    }\n",
       "\n",
       "    value += 'k' + event.key;\n",
       "\n",
       "    this._key_event_extra(event, name);\n",
       "\n",
       "    this.send_message(name, { key: value, guiEvent: simpleKeys(event) });\n",
       "    return false;\n",
       "};\n",
       "\n",
       "mpl.figure.prototype.toolbar_button_onclick = function (name) {\n",
       "    if (name === 'download') {\n",
       "        this.handle_save(this, null);\n",
       "    } else {\n",
       "        this.send_message('toolbar_button', { name: name });\n",
       "    }\n",
       "};\n",
       "\n",
       "mpl.figure.prototype.toolbar_button_onmouseover = function (tooltip) {\n",
       "    this.message.textContent = tooltip;\n",
       "};\n",
       "\n",
       "///////////////// REMAINING CONTENT GENERATED BY embed_js.py /////////////////\n",
       "// prettier-ignore\n",
       "var _JSXTOOLS_RESIZE_OBSERVER=function(A){var t,i=new WeakMap,n=new WeakMap,a=new WeakMap,r=new WeakMap,o=new Set;function s(e){if(!(this instanceof s))throw new TypeError(\"Constructor requires 'new' operator\");i.set(this,e)}function h(){throw new TypeError(\"Function is not a constructor\")}function c(e,t,i,n){e=0 in arguments?Number(arguments[0]):0,t=1 in arguments?Number(arguments[1]):0,i=2 in arguments?Number(arguments[2]):0,n=3 in arguments?Number(arguments[3]):0,this.right=(this.x=this.left=e)+(this.width=i),this.bottom=(this.y=this.top=t)+(this.height=n),Object.freeze(this)}function d(){t=requestAnimationFrame(d);var s=new WeakMap,p=new Set;o.forEach((function(t){r.get(t).forEach((function(i){var r=t instanceof window.SVGElement,o=a.get(t),d=r?0:parseFloat(o.paddingTop),f=r?0:parseFloat(o.paddingRight),l=r?0:parseFloat(o.paddingBottom),u=r?0:parseFloat(o.paddingLeft),g=r?0:parseFloat(o.borderTopWidth),m=r?0:parseFloat(o.borderRightWidth),w=r?0:parseFloat(o.borderBottomWidth),b=u+f,F=d+l,v=(r?0:parseFloat(o.borderLeftWidth))+m,W=g+w,y=r?0:t.offsetHeight-W-t.clientHeight,E=r?0:t.offsetWidth-v-t.clientWidth,R=b+v,z=F+W,M=r?t.width:parseFloat(o.width)-R-E,O=r?t.height:parseFloat(o.height)-z-y;if(n.has(t)){var k=n.get(t);if(k[0]===M&&k[1]===O)return}n.set(t,[M,O]);var S=Object.create(h.prototype);S.target=t,S.contentRect=new c(u,d,M,O),s.has(i)||(s.set(i,[]),p.add(i)),s.get(i).push(S)}))})),p.forEach((function(e){i.get(e).call(e,s.get(e),e)}))}return s.prototype.observe=function(i){if(i instanceof window.Element){r.has(i)||(r.set(i,new Set),o.add(i),a.set(i,window.getComputedStyle(i)));var n=r.get(i);n.has(this)||n.add(this),cancelAnimationFrame(t),t=requestAnimationFrame(d)}},s.prototype.unobserve=function(i){if(i instanceof window.Element&&r.has(i)){var n=r.get(i);n.has(this)&&(n.delete(this),n.size||(r.delete(i),o.delete(i))),n.size||r.delete(i),o.size||cancelAnimationFrame(t)}},A.DOMRectReadOnly=c,A.ResizeObserver=s,A.ResizeObserverEntry=h,A}; // eslint-disable-line\n",
       "mpl.toolbar_items = [[\"Home\", \"Reset original view\", \"fa fa-home icon-home\", \"home\"], [\"Back\", \"Back to previous view\", \"fa fa-arrow-left icon-arrow-left\", \"back\"], [\"Forward\", \"Forward to next view\", \"fa fa-arrow-right icon-arrow-right\", \"forward\"], [\"\", \"\", \"\", \"\"], [\"Pan\", \"Left button pans, Right button zooms\\nx/y fixes axis, CTRL fixes aspect\", \"fa fa-arrows icon-move\", \"pan\"], [\"Zoom\", \"Zoom to rectangle\\nx/y fixes axis\", \"fa fa-square-o icon-check-empty\", \"zoom\"], [\"\", \"\", \"\", \"\"], [\"Download\", \"Download plot\", \"fa fa-floppy-o icon-save\", \"download\"]];\n",
       "\n",
       "mpl.extensions = [\"eps\", \"jpeg\", \"pgf\", \"pdf\", \"png\", \"ps\", \"raw\", \"svg\", \"tif\"];\n",
       "\n",
       "mpl.default_extension = \"png\";/* global mpl */\n",
       "\n",
       "var comm_websocket_adapter = function (comm) {\n",
       "    // Create a \"websocket\"-like object which calls the given IPython comm\n",
       "    // object with the appropriate methods. Currently this is a non binary\n",
       "    // socket, so there is still some room for performance tuning.\n",
       "    var ws = {};\n",
       "\n",
       "    ws.binaryType = comm.kernel.ws.binaryType;\n",
       "    ws.readyState = comm.kernel.ws.readyState;\n",
       "    function updateReadyState(_event) {\n",
       "        if (comm.kernel.ws) {\n",
       "            ws.readyState = comm.kernel.ws.readyState;\n",
       "        } else {\n",
       "            ws.readyState = 3; // Closed state.\n",
       "        }\n",
       "    }\n",
       "    comm.kernel.ws.addEventListener('open', updateReadyState);\n",
       "    comm.kernel.ws.addEventListener('close', updateReadyState);\n",
       "    comm.kernel.ws.addEventListener('error', updateReadyState);\n",
       "\n",
       "    ws.close = function () {\n",
       "        comm.close();\n",
       "    };\n",
       "    ws.send = function (m) {\n",
       "        //console.log('sending', m);\n",
       "        comm.send(m);\n",
       "    };\n",
       "    // Register the callback with on_msg.\n",
       "    comm.on_msg(function (msg) {\n",
       "        //console.log('receiving', msg['content']['data'], msg);\n",
       "        var data = msg['content']['data'];\n",
       "        if (data['blob'] !== undefined) {\n",
       "            data = {\n",
       "                data: new Blob(msg['buffers'], { type: data['blob'] }),\n",
       "            };\n",
       "        }\n",
       "        // Pass the mpl event to the overridden (by mpl) onmessage function.\n",
       "        ws.onmessage(data);\n",
       "    });\n",
       "    return ws;\n",
       "};\n",
       "\n",
       "mpl.mpl_figure_comm = function (comm, msg) {\n",
       "    // This is the function which gets called when the mpl process\n",
       "    // starts-up an IPython Comm through the \"matplotlib\" channel.\n",
       "\n",
       "    var id = msg.content.data.id;\n",
       "    // Get hold of the div created by the display call when the Comm\n",
       "    // socket was opened in Python.\n",
       "    var element = document.getElementById(id);\n",
       "    var ws_proxy = comm_websocket_adapter(comm);\n",
       "\n",
       "    function ondownload(figure, _format) {\n",
       "        window.open(figure.canvas.toDataURL());\n",
       "    }\n",
       "\n",
       "    var fig = new mpl.figure(id, ws_proxy, ondownload, element);\n",
       "\n",
       "    // Call onopen now - mpl needs it, as it is assuming we've passed it a real\n",
       "    // web socket which is closed, not our websocket->open comm proxy.\n",
       "    ws_proxy.onopen();\n",
       "\n",
       "    fig.parent_element = element;\n",
       "    fig.cell_info = mpl.find_output_cell(\"<div id='\" + id + \"'></div>\");\n",
       "    if (!fig.cell_info) {\n",
       "        console.error('Failed to find cell for figure', id, fig);\n",
       "        return;\n",
       "    }\n",
       "    fig.cell_info[0].output_area.element.on(\n",
       "        'cleared',\n",
       "        { fig: fig },\n",
       "        fig._remove_fig_handler\n",
       "    );\n",
       "};\n",
       "\n",
       "mpl.figure.prototype.handle_close = function (fig, msg) {\n",
       "    var width = fig.canvas.width / fig.ratio;\n",
       "    fig.cell_info[0].output_area.element.off(\n",
       "        'cleared',\n",
       "        fig._remove_fig_handler\n",
       "    );\n",
       "    fig.resizeObserverInstance.unobserve(fig.canvas_div);\n",
       "\n",
       "    // Update the output cell to use the data from the current canvas.\n",
       "    fig.push_to_output();\n",
       "    var dataURL = fig.canvas.toDataURL();\n",
       "    // Re-enable the keyboard manager in IPython - without this line, in FF,\n",
       "    // the notebook keyboard shortcuts fail.\n",
       "    IPython.keyboard_manager.enable();\n",
       "    fig.parent_element.innerHTML =\n",
       "        '<img src=\"' + dataURL + '\" width=\"' + width + '\">';\n",
       "    fig.close_ws(fig, msg);\n",
       "};\n",
       "\n",
       "mpl.figure.prototype.close_ws = function (fig, msg) {\n",
       "    fig.send_message('closing', msg);\n",
       "    // fig.ws.close()\n",
       "};\n",
       "\n",
       "mpl.figure.prototype.push_to_output = function (_remove_interactive) {\n",
       "    // Turn the data on the canvas into data in the output cell.\n",
       "    var width = this.canvas.width / this.ratio;\n",
       "    var dataURL = this.canvas.toDataURL();\n",
       "    this.cell_info[1]['text/html'] =\n",
       "        '<img src=\"' + dataURL + '\" width=\"' + width + '\">';\n",
       "};\n",
       "\n",
       "mpl.figure.prototype.updated_canvas_event = function () {\n",
       "    // Tell IPython that the notebook contents must change.\n",
       "    IPython.notebook.set_dirty(true);\n",
       "    this.send_message('ack', {});\n",
       "    var fig = this;\n",
       "    // Wait a second, then push the new image to the DOM so\n",
       "    // that it is saved nicely (might be nice to debounce this).\n",
       "    setTimeout(function () {\n",
       "        fig.push_to_output();\n",
       "    }, 1000);\n",
       "};\n",
       "\n",
       "mpl.figure.prototype._init_toolbar = function () {\n",
       "    var fig = this;\n",
       "\n",
       "    var toolbar = document.createElement('div');\n",
       "    toolbar.classList = 'btn-toolbar';\n",
       "    this.root.appendChild(toolbar);\n",
       "\n",
       "    function on_click_closure(name) {\n",
       "        return function (_event) {\n",
       "            return fig.toolbar_button_onclick(name);\n",
       "        };\n",
       "    }\n",
       "\n",
       "    function on_mouseover_closure(tooltip) {\n",
       "        return function (event) {\n",
       "            if (!event.currentTarget.disabled) {\n",
       "                return fig.toolbar_button_onmouseover(tooltip);\n",
       "            }\n",
       "        };\n",
       "    }\n",
       "\n",
       "    fig.buttons = {};\n",
       "    var buttonGroup = document.createElement('div');\n",
       "    buttonGroup.classList = 'btn-group';\n",
       "    var button;\n",
       "    for (var toolbar_ind in mpl.toolbar_items) {\n",
       "        var name = mpl.toolbar_items[toolbar_ind][0];\n",
       "        var tooltip = mpl.toolbar_items[toolbar_ind][1];\n",
       "        var image = mpl.toolbar_items[toolbar_ind][2];\n",
       "        var method_name = mpl.toolbar_items[toolbar_ind][3];\n",
       "\n",
       "        if (!name) {\n",
       "            /* Instead of a spacer, we start a new button group. */\n",
       "            if (buttonGroup.hasChildNodes()) {\n",
       "                toolbar.appendChild(buttonGroup);\n",
       "            }\n",
       "            buttonGroup = document.createElement('div');\n",
       "            buttonGroup.classList = 'btn-group';\n",
       "            continue;\n",
       "        }\n",
       "\n",
       "        button = fig.buttons[name] = document.createElement('button');\n",
       "        button.classList = 'btn btn-default';\n",
       "        button.href = '#';\n",
       "        button.title = name;\n",
       "        button.innerHTML = '<i class=\"fa ' + image + ' fa-lg\"></i>';\n",
       "        button.addEventListener('click', on_click_closure(method_name));\n",
       "        button.addEventListener('mouseover', on_mouseover_closure(tooltip));\n",
       "        buttonGroup.appendChild(button);\n",
       "    }\n",
       "\n",
       "    if (buttonGroup.hasChildNodes()) {\n",
       "        toolbar.appendChild(buttonGroup);\n",
       "    }\n",
       "\n",
       "    // Add the status bar.\n",
       "    var status_bar = document.createElement('span');\n",
       "    status_bar.classList = 'mpl-message pull-right';\n",
       "    toolbar.appendChild(status_bar);\n",
       "    this.message = status_bar;\n",
       "\n",
       "    // Add the close button to the window.\n",
       "    var buttongrp = document.createElement('div');\n",
       "    buttongrp.classList = 'btn-group inline pull-right';\n",
       "    button = document.createElement('button');\n",
       "    button.classList = 'btn btn-mini btn-primary';\n",
       "    button.href = '#';\n",
       "    button.title = 'Stop Interaction';\n",
       "    button.innerHTML = '<i class=\"fa fa-power-off icon-remove icon-large\"></i>';\n",
       "    button.addEventListener('click', function (_evt) {\n",
       "        fig.handle_close(fig, {});\n",
       "    });\n",
       "    button.addEventListener(\n",
       "        'mouseover',\n",
       "        on_mouseover_closure('Stop Interaction')\n",
       "    );\n",
       "    buttongrp.appendChild(button);\n",
       "    var titlebar = this.root.querySelector('.ui-dialog-titlebar');\n",
       "    titlebar.insertBefore(buttongrp, titlebar.firstChild);\n",
       "};\n",
       "\n",
       "mpl.figure.prototype._remove_fig_handler = function (event) {\n",
       "    var fig = event.data.fig;\n",
       "    if (event.target !== this) {\n",
       "        // Ignore bubbled events from children.\n",
       "        return;\n",
       "    }\n",
       "    fig.close_ws(fig, {});\n",
       "};\n",
       "\n",
       "mpl.figure.prototype._root_extra_style = function (el) {\n",
       "    el.style.boxSizing = 'content-box'; // override notebook setting of border-box.\n",
       "};\n",
       "\n",
       "mpl.figure.prototype._canvas_extra_style = function (el) {\n",
       "    // this is important to make the div 'focusable\n",
       "    el.setAttribute('tabindex', 0);\n",
       "    // reach out to IPython and tell the keyboard manager to turn it's self\n",
       "    // off when our div gets focus\n",
       "\n",
       "    // location in version 3\n",
       "    if (IPython.notebook.keyboard_manager) {\n",
       "        IPython.notebook.keyboard_manager.register_events(el);\n",
       "    } else {\n",
       "        // location in version 2\n",
       "        IPython.keyboard_manager.register_events(el);\n",
       "    }\n",
       "};\n",
       "\n",
       "mpl.figure.prototype._key_event_extra = function (event, _name) {\n",
       "    // Check for shift+enter\n",
       "    if (event.shiftKey && event.which === 13) {\n",
       "        this.canvas_div.blur();\n",
       "        // select the cell after this one\n",
       "        var index = IPython.notebook.find_cell_index(this.cell_info[0]);\n",
       "        IPython.notebook.select(index + 1);\n",
       "    }\n",
       "};\n",
       "\n",
       "mpl.figure.prototype.handle_save = function (fig, _msg) {\n",
       "    fig.ondownload(fig, null);\n",
       "};\n",
       "\n",
       "mpl.find_output_cell = function (html_output) {\n",
       "    // Return the cell and output element which can be found *uniquely* in the notebook.\n",
       "    // Note - this is a bit hacky, but it is done because the \"notebook_saving.Notebook\"\n",
       "    // IPython event is triggered only after the cells have been serialised, which for\n",
       "    // our purposes (turning an active figure into a static one), is too late.\n",
       "    var cells = IPython.notebook.get_cells();\n",
       "    var ncells = cells.length;\n",
       "    for (var i = 0; i < ncells; i++) {\n",
       "        var cell = cells[i];\n",
       "        if (cell.cell_type === 'code') {\n",
       "            for (var j = 0; j < cell.output_area.outputs.length; j++) {\n",
       "                var data = cell.output_area.outputs[j];\n",
       "                if (data.data) {\n",
       "                    // IPython >= 3 moved mimebundle to data attribute of output\n",
       "                    data = data.data;\n",
       "                }\n",
       "                if (data['text/html'] === html_output) {\n",
       "                    return [cell, data, j];\n",
       "                }\n",
       "            }\n",
       "        }\n",
       "    }\n",
       "};\n",
       "\n",
       "// Register the function which deals with the matplotlib target/channel.\n",
       "// The kernel may be null if the page has been refreshed.\n",
       "if (IPython.notebook.kernel !== null) {\n",
       "    IPython.notebook.kernel.comm_manager.register_target(\n",
       "        'matplotlib',\n",
       "        mpl.mpl_figure_comm\n",
       "    );\n",
       "}\n"
      ],
      "text/plain": [
       "<IPython.core.display.Javascript object>"
      ]
     },
     "metadata": {},
     "output_type": "display_data"
    },
    {
     "data": {
      "text/html": [
       "<img src=\"data:image/png;base64,iVBORw0KGgoAAAANSUhEUgAAAoAAAAHgCAYAAAA10dzkAAAAAXNSR0IArs4c6QAAIABJREFUeF7svQeYXVW5//9Or8mk90JJQgi9ShFEuoAK9yKI+hOvCpYLNlDxCiJyFQGvV6kqeP9gQapSbRTpvQYSkhASQnoyqdP7//msyZqs7Ox9djn7zJnMedfzzDPJnL3XXuu71tn7u9/yfYt6enp6RJsioAgoAoqAIqAIKAKKQMEgUKQEsGDWWieqCCgCioAioAgoAoqAQUAJoG4ERUARUAQUAUVAEVAECgwBJYAFtuA6XUVAEVAEFAFFQBFQBJQA6h5QBBQBRUARUAQUAUWgwBBQAlhgC67TVQQUAUVAEVAEFAFFQAmg7gFFQBFQBBQBRUARUAQKDAElgAW24DpdRUARUAQUAUVAEVAElADqHlAEFAFFQBFQBBQBRaDAEFACWGALrtNVBBQBRUARUAQUAUVACaDuAUVAEVAEFAFFQBFQBAoMASWABbbgOl1FQBFQBBQBRUARUASUAOoeUAQUAUVAEVAEFAFFoMAQUAJYYAuu01UEFAFFQBFQBBQBRUAJoO4BRUARUAQUAUVAEVAECgwBJYAFtuA6XUVAEVAEFAFFQBFQBJQA6h5QBBQBRUARUAQUAUWgwBBQAlhgC67TVQQUAUVAEVAEFAFFQAmg7gFFQBFQBBQBRUARUAQKDAElgAW24DpdRUARUAQUAUVAEVAElADqHlAEFAFFQBFQBBQBRaDAEFACWGALrtNVBBQBRUARUAQUAUVACaDuAUVAEVAEFAFFQBFQBAoMASWABbbgOl1FQBFQBBQBRUARUASUAOoeUAQUAUVAEVAEFAFFoMAQUAJYYAuu01UEFAFFQBFQBBQBRUAJoO4BRUARUAQUAUVAEVAECgwBJYAFtuA6XUVAEVAEFAFFQBFQBJQA6h5QBBQBRUARUAQUAUWgwBBQAlhgC67TVQQUAUVAEVAEFAFFQAmg7gFFQBFQBBQBRUARUAQKDAElgAW24DpdRUARUAQUAUVAEVAElADqHlAEFAFFQBFQBBQBRaDAEFACWGALrtNVBBQBRUARUAQUAUVACaDuAUVAEVAEFAFFQBFQBAoMASWABbbgOl1FQBFQBBQBRUARUASUAOoeUAQUAUVAEVAEFAFFoMAQUAJYYAuu01UEFAFFQBFQBBQBRUAJoO4BRUARUAQUAUVAEVAECgwBJYAFtuA6XUVAEVAEFAFFQBFQBJQA6h5QBBQBRUARUAQUAUWgwBBQAlhgC67TVQQUAUVAEVAEFAFFQAmg7gFFQBFQBBQBRUARUAQKDAElgAW24DpdRUARUAQUAUVAEVAElADqHlAEFAFFQBFQBBQBRaDAEFACWGALrtNVBBQBRUARUAQUAUVACaDuAUVAEVAEFAFFQBFQBAoMASWABbbgOl1FQBFQBBQBRUARUASUAOoeUAQUAUVAEVAEFAFFoMAQUAJYYAuu01UEFAFFQBFQBBQBRUAJoO4BRUARUAQUAUVAEVAECgwBJYAFtuA6XUVAEVAEFAFFQBFQBJQA6h5QBBQBRUARUAQUAUWgwBBQAlhgC67TVQQUAUVAEVAEFAFFQAmg7gFFQBFQBBQBRUARUAQKDAElgAW24DpdRUARUAQUAUVAEVAElADqHlAEFAFFQBFQBBQBRaDAEFACWGALrtNVBBQBRUARUAQUAUVACaDuAUVAEVAEFAFFQBFQBAoMASWABbbgOl1FQBFQBBQBRUARUASUAOoeUAQUAUVAEVAEFAFFoMAQUAJYYAuu01UEFAFFQBFQBBQBRUAJoO4BRUARUAQUAUVAEVAECgwBJYAFtuA6XUVAEVAEFAFFQBFQBJQA6h5QBBQBRUARUAQUAUWgwBBQAlhgC67TVQQUAUVAEVAEFAFFQAmg7gFFQBFQBBQBRUARUAQKDAElgAW24DpdRUARUAQUAUVAEVAElADqHlAEFAFFQBFQBBQBRaDAEFACWGALrtNVBBQBRUARUAQUAUVACaDuAUVAEVAEFAFFQBFQBAoMASWABbbgOl1FQBFQBBQBRUARUASUAOoeUAQUAUVAEVAEFAFFoMAQUAJYYAuu01UEFAFFQBFQBBQBRUAJoO4BRUARUAQUAUVAEVAECgwBJYAFtuA6XUVAEVAEFAFFQBFQBJQA6h5QBBQBRUARUAQUAUWgwBBQAlhgC67TVQQUAUVAEVAEFAFFQAmg7gFFQBFQBBQBRUARUAQKDAElgAW24DpdRUARUAQUAUVAEVAElADqHlAEFAFFQBFQBBQBRaDAEFACWGALrtNVBBQBRUARUAQUAUVACaDuAUVAEVAEFAFFQBFQBAoMASWABbbgOl1FQBFQBBQBRUARUASUAOoeUAQUAUVAEVAEFAFFoMAQUAJYYAuu01UEBiICPT090tXVZYZWUlIiRUVFA3GYOiZFQBFQBAYNAkoAB81S6kQUgR0Tge7ubuno6JCWlhaBCBYXF0tZWZkhgqWlpeb/Sgh3zLXVUSsCisDARUAJ4MBdGx2ZIjCoEbBWv87OTrEkkL/R+D8N4mcJIWQQUqiEcFBvC52cIqAI9BMCSgD7CWi9jCKgCGxFAKKH1c+6fSF67e3tfaSPf3CM/VFCqLtHEVAEFIF0EVACmC6e2psioAiEIACZg+zx21rzIHpeAujtJogQWlexWgh16ykCioAiEB0BJYDRsdIjFQFFIAsErMt3/vz5MmTIEBkzZkxfbJ+1CPI7aryfSwjtvyGU/EAGlRBmsVh6qiKgCAx6BJQADvol1gkqAvlHAGsfsX64fF977TUZNWqUTJ06tW9gSQhgkIXQuov53MYQKiHM/x7QESgCisDAQkAJ4MBaDx2NIjCoEIDYuQkeEDII4IgRI2SnnXZKlQBmIoTWssj1rcvY/uZvUa2Og2pxdDKKgCJQ0AgoASzo5dfJKwK5QwDShdWPH2uNswRw2LBhsvPOO+eUAMYlhNZlrIQwd3tCe1YEFIGBg4ASwIGzFjoSRWDQIGCtfrh8rRvWTu7111+Xurq6fieAUQkhY66srJTy8vI+2ZlBszA6EUVAEVAEtiCgBFC3giKgCKSGgFfbz0+z74033jBJILvssku/WgDDJmkTSV5++WWZPHmyiVP0JpRYHcKwvvRzRUARUAQGOgJKAAf6Cun4FIEdBAE/bT+/2LrZs2dLTU2N7Lrrrn0zW7t2rcybN08qKipMfODw4cOltrY2L7F5L730kolPhADaGEYrUK2EcAfZjDpMRUARCEVACWAoRHqAIqAIhCHgp+0XdM6bb74pVVVVMm3aNJMgsnDhQlmyZImxCEK0NmzYIBs3bjTkDyJIvCC/IY39kaxhCeDo0aO3mYKXDPIh43EzjNVCGLZT9HNFQBEYKAgoARwoK6HjUAR2QASsy5eqHraObxhJe+utt4ylb9KkSYI7mCSRffbZx/zNZutCDBsbGw0ZtIQQcgURtD+QyLBrJYEUAohEDTqFmVoUQgg5zMUYk8xLz1EEFAFFwEVACaDuB0VAEUiEQFSXr7fzOXPmmKof69evl7Fjx8ruu+9uYu0gkbY6iPcc/r558+Y+Qrhp0yaTpGHJIFZCCGEaLSoB9F7LJYSWyDIvb6USJYRprJL2oQgoAtkioAQwWwT1fEWgABEgU9YlbFFJDec999xz0tTUJHvvvbeMHz/eoGfJZBAB9EJMP5BAax2EHGJBdC2E/D9JS0oAoxJCr8s4KnZJ5qLnKAKKgCIQhIASQN0bioAiEBmBIG2/KB1A+pCAaWtrE+Lr9tprr77T4hJA7/VwI1tCCClsaGiQ6urqbSyEWAyjNLKAp0yZEuoCjtKXPcYmkUBwbbaxX5USrIVKCOMgq8cqAopAUgSUACZFTs9TBAoMAavtZ0utxRFMXr58ucydO9fIq1gyhOvXJUiZXMBxoaYvEklsDCHkk6xim1SCy7isrMy321wQQD/rIH/zEkLiHpHIwZ0NGVRCGHfl9XhFQBGIioASwKhI6XGKQIEi4JZzsy7aqFYqLHMQP2ResPiRWDF//nxTE3jWrFk5I4DepSLm0CWEzc3Nhmi5MYSQLVp/EMAgQvjCCy8YgeyRI0eaQ/xkZ6JiX6DbVaetCCgCERFQAhgRKD1MEShEBJImeoAVcXlk+eJ6JcuX6hq0BQsWmPjBPfbYo98IoHftcENb6yC/+f/QoUMNIVyzZo3RARw3bly/L/nzzz8v06dPN1qI1lUM6bakD0KI5dImlvgJbff7oPWCioAisEMioARwh1w2HbQikHsE3HJucYgGxGXp0qXG0geRQu/PtVq98847hnDtueeeeSOAXvRaWlr6CCEEkEa5OmshhByCQa6bJYDWAmivZ8mgtcbydxtDCCG0dYzjrFOu56L9KwKKwMBGQAngwF4fHZ0i0O8IQDJaW1sNISJWLg6pwLKHzh/uVrJ8vUSGyUAA6T/NJJA0QSILGHkarGzWSggZdgkh7uNcuGIhgDNmzDAWwExNCWGaK659KQKFiYASwMJcd521IuCLgHX5otH36quvytFHHx2Z6ED6yPKFHEHugrJu33333T4ZGHcQkEdiA/vD0pZp+W0tYEggDUxIInFFqfm7rVDC77TK1iGRs9tuu4USQO/4gwihV4MwDpnXr4gioAgMbgSUAA7u9dXZKQKREXC1/chGxRJ27LHHhp4P+Vi8eLFA7HD34vbNZB3jOPonLnBHIIB+ZAuZGZtUwm+IlSWEuI2RoEliIYQAzpw507ies2kuIbT/ZozepBIlhNmgrOcqAjs2AkoAd+z109ErAlkj4Gr72XJuWLwgI8cdd1zG/onlo7Yvx++7777GTRrWFi1aZBJEOH4gEsBXXnnFlKmzFsCw+eAehhBaCyF6hMTkuaLUJMBEIYTPPvusqYySLQEMshBaCR8+99MhVEIYttr6uSIweBBQAjh41lJnogjERgBCgFQL1j9LCiAGELqnn35aTjjhhMA+161bJ7NnzzZkhYzeIF09bwdYCyFJg4UAeucHlm7ZOlulxLUQ2oxo77m5IoBRCCFSOewF4g+t6ziO1mPszacnKAKKQF4RUAKYV/j14opAfhBwtf1s3VrXQoVO3pNPPiknnnjidgOENC5cuFCWLFli3JVYy6JYt2xH7733nrGW7bfffoPCAhi2gm7ZOlulBALoWghtvOQzzzxjyDRksT8be2DlypXmh+QdS/z86hjHWev+nINeSxFQBOIhoAQwHl56tCKwwyMQRduPLN3HH3/cWADdBz5yKVj9sBZhwSPhI26DOGI93H///bc5FesTP/lOAsEFPHHixJzpADJHV5SaeMiamhpDCFetWmUIoF/2dFyc4x6/YsUKWb16tSHmrgah+4IAIbQ6hPw732sVd456vCKgCGxFQAmg7gZFoIAQiKrtR2zfv/71LxMDaCtkoI9HvB+xcVj+iHNL0t5//31TGeSAAw4YsBbAXBJAL2ZkP9v4QUgYhMuWrbOl65JiHWd9KNdXX1+/XXIOfSghjIOkHqsI7BgIKAHcMdZJR6kIZIUAD3BckVifopRzg5Q8+uijJgsYKw+izhAEyrdNmDAhq7EgEo2l6cADD1QC6EGSuEvINWtlSSHWWLdsHYk2lpRntRCek5ctWybI/+ACDmteQsjxfmXr1EIYhqR+rgjkDwElgPnDXq+sCPQLAlFcvt6BQBQfeeQROeSQQ0wtXxqyLbgqs20QDWLNDjroICWAPgQQAkblEdusKLclhLjfIYE2qYR/p0G0IOa4pl2B7qhrHWQhxHJpq5SoyzgqmnqcItA/CCgB7B+c9SqKQF4QwNoHYYhi9XMHiAXq4YcfNpYmkjwQJ06DZHANLIn8HHzwwUoAPbviqaeeMkTbJYDuIRAtW7bOxhFC1r1VSpKsFa55MpbdEn1JN61NMuK3bcSSuoSQf2tCSVKE9TxFIHsElABmj6H2oAgMOASsyxdXrtX2i/qwhVC8/fbbhqRBBiCAaTbi3LA2feADH9imW6RnIKoVFRVpXi52X1RAwc09bty42OdmewIEME5yDWtLxra1DvKbv7mSM1GrlJCcQ0IKSShpN5cQukkllhBaK2HUPZr2+LQ/RaAQEVACWIirrnMe1AgEaftFmTSCxpRzQ5YEMnHkkUeaqhZpNty/kA3cy7bxN2oIY3kk3g0tOhIgchXvlmk++SSASO+QhZsku5o5Qa4gcW7ZOkiVSwhx4/sRLeR5IJPEeea6+RFCq0XJ3LE886OEMNcrof0XMgJKAAt59XXugwqBMG2/TJPlXKxyJHtQym3XXXc1LuAPfvCDqcT9uddG6gQx6EMPPdQQvnnz5hn5E4gHZNOVSMGCiTvUEkLIQRL3ZpyFzjcBRB4Hq10ajZcBCCHJHeDKD8TK1SCsqqoyRIs1Id6QSiT92aybmP3HOLFA+lUpUULYn6ui1yoEBJQAFsIq6xwHPQJuOTcmG6eCAyRrzpw5xmpEAoLVoIMAQtLSIiN2EcgAph4wsW5vvPGGGSv/xuro6gAGuTdd8hJkzcpmwSGA48ePNz/93Z544gkjj5M25nYeEEK3SgkVWcAdTNkHkKw0YgCT4GaTUOz1GatNLlFCmARRPUcRyIyAEkDdIYrADo6Aq+1nH5RRp4RFCBIGkSL7042/IwuYRI2ghISo1/Aeh54gmcWQPfT2bIJJmBC0dW9iJYKsMnZvzV2sWdm2wUwAvdi4VUqwwqL/6K1S0l8xmUExiNZCaAmhnYOf7Iy6jLPd/Xp+ISGgBLCQVlvnOqgQiKvt506ec4n5euedd2T69OnG7et9eD722GPGGkUcXlqNh/hrr71mhKCJdUNU2jbICFaoqC5e+sKCZePdbM1d6y7GqmVLrMUZf74JIPqIacjtxJkzx1LeDxI+evToPkyJCcUtb62uxBImwTTKWHBBk+EcFoNorYI25MHuWyWEUVDWYxSBrQgoAdTdoAjsgAjw8MMChsQLFro4Ll/OoZwbWbe4XoPqzlIJhIxUHv5pNBIMSDCBZDD+D33oQ9t0G5cAescUVGLNEkLmGaWiRj4JIOX30EfMBwHkZYDGC4FtEHI3JpM9Y6uUgCc/lIZLoy1atMjsZ4Sw4zQvIeRcawlnbDbDGIKoFsI4yOqxgx0BJYCDfYV1foMOAavtxwMTqxeWtKiNGryQPx7cxFplenhDRogJhEBl24j7o4wc8ipYmJCZIcPYbdkSQO8YIROuPIqtqOFmGPtZG/NNAHG7p515HWX9FixYYKyv06ZNCzwcTF1CCKn3VimJQrL9LoAFkr09Y8aMKMMNPEYJYVbw6ckFhIASwAJabJ3qjo2AV9vPZk2SNRrWOJcHLG5fYu4mT54cag1BkoSMTJsUEnYNv895oNsychBOtPUgoUi++FkAIRi5KHPG2KyAsiWFVkDZzTDGQoSLmnHmIwkEqyv6iPkggKwT5I0M8KiNmEGXZPN/LNLWZcy/o66nnwUy6jgyHRdECBmXK0ytFsI00NY+diQElADuSKulYy1YBPzKuVFSza+mrhckLF8kekCu4ogMI0qMOw6LXZKGdYjrQgK5rnVrksSBFfKoo47aplsImc1ETXK9OOeAJ+5Ml7xA/iAuyKZA/qZOnRpKkuNcM8qxEED0EdNIZolyPfcY5HiI79tll13intp3vB/J9hLCoBjPJAQ0yUD9CCFj8sYQKiFMgq6esyMhoARwR1otHWtBImBdo95ybhBAqmp4S6q5IJFxi+t1zJgxRt8tjnvumWeeMfFgnBu32etiSYNEulYgSBfEMJ8E0DsfsCXhgbFREg3McY+7CSVkx+a6kXiD9E4+CCBueea48847pzJNiJaXEIKrK0qN+9jG5XF9Mo6zIaBJBm4JIXvg+eefN9nwxDkqIUyCpp6zIyGgBHBHWi0da0EhEKbtB/mDrLgVNSxA1vUKScSNS+xd3Pbss8+ah3Gckmhcl1gy3NO4fP3cqMSQ4Wb98Ic/vM2Q+tMCmAkLxobVEzestRBCDiFlrgZhWskP7ljySQCR5mHOZITnonmtruwDmiWEWIaxFqZFQJPMwbrgIcLsZdvcpBLrOo6TeJVkLHqOIpBrBJQA5hph7V8RSICA1fazDyG/hw26bSSCHHbYYdtcwWbb8keyfJNmlD733HOGDESNhcPaQ5av1+XrnT7SLa+88oocffTRA5YAIk/jkmbIqesuxn3sJj9AYqLGugVtBwgSBIT17A9ro3cciIFj+cL13R+N+UKsbVIJBJB9TsypJdoQ0v7K3LX4H3744dvoYboWQv5tv4veGEIlhP2xa/QaaSKgBDBNNLUvRSBLBNxybl6Xr7dr3KxY2yjXZhs1dXmQuwLLSYf0wgsvmGSRKNZD6/KFOOFqzkSGyFx+6aWX5JhjjtlhCKAXQ7/kB/QS3eSHqHqGtu98E0ASc7DATZkyJemWyeo84kIhvrYONS8KXqFvPs8VIcQ9TSWWI444ImN2fCZCiFXY1jGOu/5ZgacnKwIJEFACmAA0PUURyAUCfokemR529fX1pqIGcio8vIihIikE16srsJx0rC+++KIhf5MmTQrsApJK9iau6KiuZqw+kMtjjz12hyWA7sD9Yt3AxY11w7IWRlyCLFBJ1y/uecSKMmZIfz4acaGjRo0yLy809rRbto5/27J1lminaSklSerpp5822elxrLlKCPOxW/SaaSCgBDANFLUPRSBLBNxyblGzD3GZ8dBGBoaHJ9YSXL5pJRC8/PLLhkgGEQKyi62wM1m+UevXkmWLe/m4444bkASQOZH4EsXy6bfstmSddRnj4mRN3fhB1shLCNkDaC96XZBZbq3Ip2OBI+klE+GP3FmCA4m99Lre3W4ghGBpXca8SHjL1mVTpYT9TNwrsalhZD3T9LyEkGP9qpSohTDBJtFTUkVACWCqcGpnikA8BLIp5wbBIJaOPojbQsA3zYcKfWOR8YsJo5QbhAGiROmuOBYT4ufIMD7++OO3AYsHfC51AKOuTLYE0HsdiJ1rycK1CVFxM4zJfrUEEJd+NkQm6jy9x3ktcEn7SXoeAtyQ7qhJR0GVX9yydXESdYidxertzU5POh97XpCF0NUg5PuT5nc32zHr+YWBgBLAwlhnneUARCCuy9edAg8/LCaIKlM7FqKWdqN/HqZuVigkBUHpJUuWGOJn3XVxrs2DFo3BE044oSAIoBcba8lyM4xJ1MH9unz5cpPVnQ8h6LSJb5w9wbFYnIk/TCI7xPloSLpWV7dsHfs4rBQglmlIqLdCTdx5hB1v43z5bRsWR5cQ8u9srJBhY9DPFQEQUAKo+0ARyAMCQdp+UYaCBYmHNVYjLEteS1qUPqIcwzVIbLCyHFZQmgdtHJev91pkCxNsf+KJJw5YAogMTBJyGwVX7zGWuODSR9qH5oonswZxLKxJxsA5+ayAwvWxvrHXkgqPe+dNoo5bts6WArQWQi+ufJewartJVUmxjHOeSwj5N5n9EGFeAlxSqIQwDqp6bBQElABGQUmPUQRSQsDV9uPfUeP9uDzHY3kj6YJyXVhKcKV6LWkpDdXEFRLXx7VIOOHhiKURy18cQWnveHgQE+vGuN2HGtZFHtr9QXYyYQTx7U8CaMeCVZfyewh7W1FqLFoQRDfDGPmZXLgL47pg09pnth8SgwhjyKb0YKYxse9cKR/CDcDVJutY7UyvrFLa88zUn00EohwgL3hWdob15nvhZhkrIezPlRmc11ICODjXVWc1ABHgAcNDHusfLY5uGA8rEj4gBiR6YMWwljQvkUpr6lzPZllSQxh5F6xi2T54IHno3WG5dIkM+DDPXJCbOJjkmwC6MiQQAFzmLnHhb25CCe7jbNcEfIj5JAEkjQzyOHjbY0kMok41sZG5bm7mtrUSQrTBkZAH8M0V0c40NytF48aBei2EVpSalyi+Kx/96EdzDZf2P0gRUAI4SBdWpzVwEHC1/Vwh2agjxDWINQ5LBRIvNrA9iEhF7TfsOK4J8cDyEKeGcFi/kDwqXpAF7Fr7BgoBzFcyhLUAEoMWZGG14slurJtXKy9pFni2MXhh6x72ORm4WJfZ5/3dwJWqOcgZ4X4HX/4WV8on23FDQomPDZKisXGDfFcuvPBCM9af//zn2V5Wzy9QBJQAFujC67T7B4FsEj04991335XFixfLjBkzTFyQa+nhYfHoo48aPb1sXLJ+SJBcgkUIMkFt2jT79xu3dW9DdrEA8ZOmxluc1c4XAbQP/0wE0DsPiAAxoZYQEseG69DNMI6aUYw4N9avtGLw4mDOsWjw7b333obU5KNRWYcknAMOOMCQP5JCXKLNd88lhGlZXt25xpGi+dKXvmTCMy6//PJ8wKXXHAQIKAEcBIuoUxiYCCTR9rMz4UFAzB2/sb75PRRxFz388MOmpFrUh3wYUi7pJD6KGECsMmk2LF2PPPKIqQSCNZP/426GyBDXyG+IjK29C5nhwRtH0iOb8eabAMYVInbn6ieNwhq60ihBZJ4kDGo/5yKjPMp6EP+43377GddrPhoJOAipMwY/og0h5AXFahFivQ7Tdow7DzKXIeJRpGg+85nPmJeziy66KO5l9HhFwCCgBFA3giKQMgJW24+EDQgcb+lxYrSsxh6WmEwJF1znH//4h3lYpGEtw6UM6SS2ENLJAxESmysCCHHlmmSfQvb22msvsxLENVkiwwOXH8Zka+9CCCGnuYoVzBcBTFqJItP2pU83fpD96M0wtjjmOgkj7GtGZjiSRklrV4f1H/Y5LmAs38TYhrUgbUcrN8PvJK54XnzYf8SBhrXTTjtNTj31VDnvvPPCDtXPFQFfBJQA6sZQBFJEwHX54rrFahDlgcIQeKhQ23fp0qWRNfYggDwsstWNs3GGPLiIM8RKxFhwS1LiLc3GPP/5z3+apBKugduR7E+wC0oCgShaMgihgSBiFbTu4jTdcfkmgBD6XJFbiLRLCC2OrDvuT5IwcpWFG7aHSAwi+zXbvRx2naDPif/D+mxfROL0gzXedcWTrIUr3rUQ8v+wxtpQ0jFKJjJJVLiBP/dsJlALAAAgAElEQVS5z4V1q58rAkoAdQ8oArlEwCYx8JsHOBZAbuh+LiXvOMj0hHhwLoQxalk1XMC4gaIe772u1R1De4yHP2XfrLUSuRmIF4QwzWZjAG3pOhtzFjUJhDHjKgNb65IDbxv3lm38IOsACervkmhgjaxPLgmgu44ujmCJ1A9uTTd+EDIWx3qddJ9Y+ROITxrW7CTjINOd72EaFm+ItZcQgqXrivcL22ANiPuFCIc1MoUvvvhi+cQnPhF2qH6uCCgB1D2gCOQCAevyhdi42n5YFNasWWPcWpkawedvvfWWKYMFCYujg0cSyEEHHZQocB5rGy5fHnp+cYY8iCBaBOan1bgWMiu4uqh44WZ8RiWA3rFYd5y1EGJ9ceMHeejGSWIpFALoxZEkDISYrTA1BIa4S0taIIZRrFhJ9kq+y+AxZl6C+E7MnDkzyRQyngOmrii1rVJik0psjCv3C+4bYfcM7jPUAL/22mvlIx/5SOrj1Q4LAwF1ARfGOussc4RAJm0/XGr8IOzr13AbzZs3T1auXGmsbFFroLp9IafCgyCudEaQtIzbNw9EqzuYBnw83CCcEF0ecmS7uu6+pATQOzasL9bN6cYPWstWWPxgvgnghz/84X6xuvkRQNyf4EPzujUh7a4VC2KYVmKOlcBxNRDT2HNx+sDiDbEi4z7XDaLpEkJejIhxxSpInCaZyJleWuw477777n6vXJJrbLT//kNACWD/Ya1XGkQIRNH2g9jhVsJF623EBmIJw9qHyzdp3BNisFYYOgq8jJvYRKx7ftIybh8cx0Mqigs707Xd+sHEE0IA/WIX0yKA3rHYChCQQRs/6Fq1vPGDkFTIYn+7gONIgERZ67jHhMmw+FmxbGKOTX6IY712xxemfxd3LkmOnz9/vvk+Eo/a3w33P3uTRBTuDXxPbbIOL3fesnV8zv4kcxrrvTZFIAkCSgCToKbnFDQC3HyxWPBDC6rogcULq8Lhhx/ehxfnYhUk0Btdv+nTp2cV8M8DAFIVJXDfVhPhAcNDw1p6ghYT8gppwsKYtPFgw6LGb4ikjVUkCQRc3IzPXBFAd+w27s2SQQiulfOwFkISU/JJAMmOzkdDgDiO4LclLdbayv/dknUQmKjJLP0d/+iHL99JXNxI4eSrETeM1R3lAG+yjiWEuI8ZIy9SeBC4h2Rq119/vVx99dVCqAkvi7iNg7wS9HPXXXfJJZdcYl5e6fvKK6+Uk046qe8Sf/7zn+VXv/qV0Qnle0QWv5eE8jJzwQUXyO23326++1QruuGGG/JWZSZf6znQr6sEcKCvkI5vQCHgavvZkkxBAySgm4eKlXSAMM6ZM8dITRBXl4beGlYb4gbDxHt5mEDEeEC71UQygYubFkka3FFJGtfEyulmFtt+/JJX+oMAeufhCinzMOPhC2nBskVCTNz4wSQ42XPI0KUcWr4IIC8TkP0kCUUQa2+GMdhGraRh554v9zdrwHeTuU+dOjWbZczqXMIuIExkyNvmxfYrX/mKIX4QwnPPPVc+/vGPm5crP5fxHXfcIZ/97GcNYSOx5Be/+IUheFg70dz0NqqxEJpxxRVXyCmnnCK33XabIYDUibbJYL///e+NFwECes455/gSQMb40EMPyS233GLuOUjV8L0iyUnbwEFACeDAWQsdyQBGwCZ6QOJslm9YdiSEAnciWZ0E1EPASE6A/KUVTM8NG2tBUP1Wxs2b/MKFC83bPA+3sHHbZUCOBqsBSSZxmnvNIDczQtA8kFzR33wQQO+8cEVCWnlY8W+rP2jlZuJYteJgxrFc6/nnnxdIUD5amjp8fpU0wDRIOJkYOISoowgg5wobxMghrBD/fLUocYjEZiKZg/wLL5eQKr47V111lZGFcRvfMb6/1113nfkzxzG/888/31dA+swzzzSJXw8++GBfNyRrYeGDRLqN+wpJQ14LIPc6Xkghj6effro5BcIKqeUFh/60DQwElAAOjHXQUQxgBJKWc+NGSH1VCBo3dtw2/EQlYFEg4YaKjt748eO3O9y6fLFqcQOPmygSlsTiNz63qkema/plLw8EAsic3BhAXFnWXcxva9Wy7uI09QchQYgx54sAEk+KazBpPGqm/eonnOzq5JH8AAGjCkq+GsQf4jJx4sR8DcFY5rDkcc/I1LDAYfXjO05j7LxMuQksfMZakiiCYLRtZ599tontve+++7a7BGEp3/rWt+Qb3/hG32eXXnqp3HvvveYFNgoBJDGNKj94ANx7Di+f9PvNb34zb/jqhbdFQAmg7ghFIAMCXm2/OOQNwkBZJx50cRI14iwIhIFgcO9Dixs8DwUsVrhukpSKoxIIbuCob+wQTVvVg/lmuiYPCVzLbhziQCKAWKq8liA3ftDqD/Kw5lhrIczGsptvKxhWJdY6SQWLOHuWY7FiuVmw7B0ae9laCeNI98S9vt/xuDl5kfJ7mUqj/yh9zJ071+CPZS1TQzaKuDowDIqz5PvLfQEvgZuI9p3vfEew9nLv8Da+s7feequcddZZfR8Ru3fZZZeZMnlRCCCWv//4j/8wrmy38XLByw0uZW0DAwElgANjHXQUAwyBIG2/qMPk7RcyxFt4mrV6vdeHYCIfY8kK4yaQnEQGXL5YB+OQVrd/3L9YGvyymL3jwFrIw8tW9Qi7JmQDC0YaOoBR1yTqcVgA/Qig93wbP2gthFYmxZJB5haHxMSpAxt1LlGPy7cQM3GxxOARysB3xy39x1p4s2CjzivOcVjrsYD5xcbF6SebY7GCMlfGkakRKkBsHyQv6LumBDCblSiMc5UAFsY66yxjIJDU5csl3MoavMUTe8ebehghijG8bQ4lE49kEtwrxKzxAIGIpGFx5I0fuZhMZamw5JDowrHENoYlo9jB+8nXDHQLYNgaWZkUSwghMTZzE1IYFj+YTwJohZjJzM7GihmGUdDn3hJoVrrHVnshtMDNMMbdGTXDOOqYiEEkRCON5Kyo1/QeF9UNjQWdLFtCS4LuLeoCTroKhXOeEsDCWWudaQQEIDQ8yKMmerhd8tCCgPHgh4DhyuFGfdxxx8Wq7hFhmH2HYGW0NXF5eJDFiJhvEpev97rI2GBJpOSUX7NVPXgAEe8Xx3WIC4pxQoxsGygEMK1kAJsVawmhGz/IvL1l1iCAWKHyEQfHvmdNWOs09k6cPcyxYMRe8ws34KWKvebKonCOm2GcRiwmVjVi6Nw9GXce2R7PCx1u2zBR+AceeEB++tOfmnjVTI0kEFyvSL/Q2INYF8nKveiii7Y7lSQQsKZ/23gB5OUubhLIn/70J/n3f/930w2xjVRY0SSQbHdIuucrAUwXT+1tB0UgqrZf0PSQS4E4oMeHLh+uP6wWZLvm0gUM6ePhzQOUwHGsjmlZG70yNu7c3aoe3NjjWmP89AsHGwF08XKzYt34Qbd+MS8eEIB8EMB8V+KIUwMXLIkZtISQODgbi2njB+O8jNh1IpuW727cZKk0b3mEdBBGEWZJh1whsUJ8X6aGDAxJH7/+9a8NEUQG5s477zRZubjbcSNDOJF9odEf+w9yefLJJxsdv5/85CfbyMCwf4kNxsVsj0GKCtJqiSsyMH/961/NGLF8k3Vs+08TL+0rOwSUAGaHn549CBCw2n78pgUJO/tNlXNww3BDROaAm6klYDyoqHiBtEUuCtxDGHho8ZvaoTz80mzEZRFs7hISt6oHySVJA+YRHQYv1902mAmgd1384gchLViRsYzGjR/Mdt1tJQ404OLELWZ7XXs+L1DIisSVHOJ8V8sRUkgIBN83V3ImilUzrhB2WnN3+4lqhbz55pvlb3/7myCoHtaQgLFC0Fjqr7nmGiPBROPeBOGEqNmGTuDFF1/cJwSNvIwrBM2xJHl4G9nCP/zhD82frRA0RNUVgg6zbIbNRT9PFwElgOniqb3tQAi45dySuHxxlSCNgAWOG6ufgC4EELeaW/EiDYiQmMH6xxx4k3eFY9Ponz6seLTVZguq6pHken4C1oVEAL2YQcCwqCAEDHnhAYrlxFoIw+IHk6yBew7xYqwJZD9pObdsxkAMKbqTvMhk27BmuhnGVL7hu2kJYRC5TlMHMekceKHjxSqsSs8vf/lLYy3+y1/+kvRSep4iIEoAdRMUJALZJHoAGBmyWMewgOECDXpoUvGCuCZX8DgbwBk3D0piaghYh5ThfmUMaTceosQYIt2QqapHkutCNoi3cjMurSU2LRd2knFxTloxgHGvj1sTUo+4r1/8oFu/2Bs/GPda3uPzXYqNutn8ZFN2MAgDyK11F+O+ZK42OcdmGPMd6k8ZnKCxEhpBdnzY/QK3LPeBP/zhD9kuvZ5fwAgoASzgxS/UqUM0cDkRd0TcXBzCgbUP8oW1hjf1MJeGn95dUtyxbEA6eZiRZIJ1iFge5jNr1qyk3Qaeh5WRmCQwIps5qKpHkgsTazRt2jRfAkh/cdYkyfUznRNViiPt6+K6xKJsSwfa/m38oFu/GDetlZuBxGSbuYvFkTXJVyk2vk/ElXpryqaNMf15S9bZDGP3e5Wv/QcJxT0bJsb9/e9/30hMeRMzcoGX9jl4EVACOHjXVmfmQcAt54a1Ab28KBp3thtcSTygsRZAwMJu0pyH3AkZdNlmFkIOsA55S8mROcmDwNbpTHPReSAijQG5SFJJJNNYIBtYMF0CTRYseoK4v/iJm1iS1twHGgH0zouXEMi5lUjBckiIgXUXJ4kfzHcd4mXLlpka2Xyv+rNZcW+ujeQRlnzInxs/mLa1NWh+caR4vv71r5v1/tnPftafcOm1BhkCSgAH2YLqdPwR8Lp8sf5lkjjx9mKFjpFQQGA5KjnxS3aIs0auy5cMX6/FEsscsYiQzDQbpIIYIyxDuchiRg6C+VgCyHpAriEyEEEehrl0eQ5UCyCyHkGyO0FjJn7QkkF+u/GDkIQomnn5LkOHO5OQAxJg8tFsDCRJMOw/6zKGaJeVlW2zF7O1tgbNz2ZiR0nEOffcc4XMW5t0kQ/M9Jo7PgJKAHf8NdQZhCDgp+3nl+Hq1w03ZSpc4DKOI3Rs+yKoG8KYpLoA16Y6grWMIDHjbSQNYB1M03VmyS5lubCSnnjiianvMbIdIdPEUDIHftysYPsQZu72IWxdnvzmoZyrhpudGLGwagxpX595Yn2MSwC948CaZ93FEBlLpq2F0M+ilU8RasbPPsPCjgxLPlqQC9y1ttoMY/BzLYRp7UUbhxnFDf+pT33KhApQ1k2bIpAUASWASZHT8wY8Aq62H//Gamdje7A2UPsT61ZQs25XsjIhf0mkXLB0IbMQVy7F1tXlmrjFgqwOSGfwYCJwPNvmrepB5iSZkbmoZEId0gkTJhhizVwZP9fDEuOV4XHrxkJsIApYtSwhTNtdnE8CyLWpxpFWc+MHwc61aFlCyN4C03xpEDJXSg5CXHMRyxoFy6h1mG21F2shhDizF90M46RZ1FHHwHw+/vGPy+mnny5f/epXo0xPj1EEfBFQAqgbY1AigNUDCxrkgeYlFZAOrFBU6fA2Hpro+uEi9nO7xgGMGDq0AfmJ0rg2FjjKq0Wpq8s4IVEHHHBAlO4Dj/Gr6oFVhBjG448/PrLLO+ogiAG0rkrINTptVgYmTIcRS4m1cPGbNbbVUPwqbEQdkz0uXwSQlxIsvmkSQO/crUXL4mfjByHf7COsj/nQAcQCDPnPRTZ7lPW3L1y4X+M09qKbYcwcbMm6qO53e704Y+C+BflDyFmbIpAUASWASZHT8wYkAq62H/8OIhMQHuLzIDduxh9v+BAAHsY20zabiVLaC/dvFHeidTcTDwcpilKTlOB5ElqSCOjaeQVV9eBhlotSdoyXeD+qHSD74Qpn80ANJYCd3fLXt9bIvxbUS0Nbl+w+ulIOm1gitV2NZt1wybkZslFEgN01zicBJNwgU+3lbPai37k2fhBZI/Yd2CclMNmMjVhWyClxbfloabjfud94M4xt+T8shOzJTCXr4rwAsEeI/7Ol1vKBmV5zx0dACeCOv4Y6gy0IxNH2g2ggueBat6zwMS6dtOrpoqPHzR9rXqZmNeAgKxDPqO5m5DMIoLfK/nE2g1vFxK+qB+Tg0UcflWOPPTYVqxDXQ0IHCyfZzJDiyZMn9w2Z9YN00oJkOLp7euSqh9+VJxeul2JznEhrR4+MGVIml52ym+w8otK4ObFwJXUX54sAsv+w/PYnAbTgWwKEJdm1rrImlrzwO1cZsVTToREvm4+WC+zd8n/0D8EjDMVNbnJL1hHvCg5+9ZBdTOiXmF8kYLh/aVMEkiKgBDApcnregELAighjRXBj/YIGaev0HnPMMYbcEIOEDAQPoKlTp6amQ4elC0KJ5ElQw4rHg5/roo0XNcOY/rDcMPY4cjacF6WqB1giZJ1GFjDXQ8YGUkm8H/qFWABdy2gUAvjG8s3ygwfmS3GRyPqWTmlp73XxS4/I0buNlJ+euvs2MEMoLRmM6i6GALJmrEd/tlyQkKjj97M+uTV33fhBt35xXOtq0Hh4MeB7SJZ7PhrkCytkkhepqOPlHkVcsZthTPylJYR8zstRmDWfdeE+RRWQfLwsRJ2vHjfwEVACOPDXSEeYAQFX2y9OOTdbp5cbKA8fXDdY3sJKMMVdDLI6seb5WTYgWLj8cMEmyTBmLJTQ4sEVJ27MVvXgQU7WZVDMF3hSa5SsxGykL/yuRwIOWc0uyVq+oUXeq2+QkTVlsvPIal8SfucrK+SmZ96XhvYu6ejsluLiIunpEens6paykiL5y5cOlEnDqnyXyWq+WUIY5C7OFwFkXOzFuGQ+7p70Oz4K+fSLH7Ql1thLxGEmTYDgBYg9lulFKY15BvWRTS3ipONyk5vAHy8AL38kR1lS6PfdZB8TU4zCQNryT0nnouftmAgoAdwx101HjdGnp8dYlIISPcJAok4vN1iICC7QXAS/Q/B4KHpjm8i6xCJGvFocl693Tjy4IA1RpEPAi6zhqFU9LEmmPqzrqgrD1X7uahh6Lauua7y5vUuu+9cieeKdemlo7ZC2zm6pKS+RfScNlT0nDJX9Jw+VmeNqpbioSO6bvcq4gLH84Sbu7O4xBLAHd7CI/L8PTJRvHxtsRaLvtY1t0t3dI/98e608vmCtdHR0yoyhXbL/sDaZNHJIX1IJlU94ILd2dMn7G1qlurxYJtZVpmYd9uIIASTxKMwFGBX/OMclubZfiTVeoKyFMIr+oB0j3xPcy2GhEnHmFOdYLOlY37JNpopzTe+xJHQxDjCEEPJS6mYY83fuJdzvwBh3cZjF9Prrr5err77a9Mt95tprr5WDDz44cJh33XWXXHLJJeY+wXf2yiuvlJNOOqnveL7Tl156qdx0003Gpc2L54033rjNCy57+Nvf/rYhqOwRSOrll19uXiS1DSwElAAOrPXQ0UREwGaMxrH62a45BxJE5iE3UNyuuSr9hKuTmyYad7YRt0e2Z1xRaT9ocF3RV1j2ok1uIdYrTlUPSDJ6Y1Gqnrjj4yFlNQy5HhYNt0F+eaCRZX3NY+/Kn19faSx49Q1thgB29fQSuuJikaGVpbL3hKHyzaN3lqryEvnEza9KY1unIX60Lb/Mv0dUl8pDXz1YaitKzf/pa/byzdLS0SUL1zbJI/PWycaWDlnf1GHOHF5dZoglx+08okouOHykrF6+ROat65SG9h5pLqqSN9f1SENHkZSVFMus8bXy1SOnSjeks0dk6ogqKcEfnUJLQsJSuKzpIlsXqJsAYWMI6dcb7xb0PcuX1dX9TmJNT0NOKemaQAD5floxbLLk3Qxjwlbuuecek0gCUSO8JJO81B133GGyhIkVxLX9i1/8wpzHC6OfLimZ+dxHrrjiCjnllFPktttuMwQQa72tNMT/+fzWW281313IIl4OCLyNW+bFCfLIcbw4ct1bbrnFhNiElc5Mip2elwwBJYDJcNOz8oSAdflCaLzaflGGxFs1N05upsSlkYXqJSdR+ol6jFuqzauzRwxcts0mrhx11FGBXVl5CUiclVyJel1cwLjJcfVFbWRYY+HDWgH580tosbGRI8ZNlrNvfcW4cDc0d8jmlk4T39cGAxSRki3cqrqiVKaPqpYbPrmnXHTvPHl84Xrf4XD4yXuOkc7ublm6oVXWNrQLiSMQvJYOLIvFUllaLPXNHVIkRTKsqlQmD6+UjS2dsraxXWaOrZV1mxplQ2u3NHf2CCGG9Flb1iMVxUXS2g0pLZYhlWXG/TxpWKWcc/gUOWjqsKjwBB4XNQkg6wv5dEAGMA/otGLgbPygW7+YeMGg7GxIBC5kNykoF/MM6pM4XMaaT5dqJi1E8OR79dvf/lb+/ve/GwkriCDfe+KYP/axj20Xs8paEk943XXXmWnz4gu+559/vlx00UXbQXHmmWeaKigPPvhg32dYo23CCWPAPX3BBRfIhRdeaI6BsI4dO9YQvE9+8pMmk5z72pNPPtlX05r7D8LqxBOTUKZt4CCgBHDgrIWOJASBMG2/MAB5w8fSwA0LixwuCoRno8ithPUd9DkPVW6qxDZh9cLNjCsmiUvV7xrcgBHwDRK0tlU9kuoZPvLII4YU4IqK0nBJU84MywSabkEJLRzDA6xnyFj5z9tnS1VZsSxe12xIfWdXj7EAug1SWFpcJBces4tMH1Mj5/xxtnR6jnGPhzjaPspIF+YB2CPGWldRWiytnd1SUlQkXd3dUlFWIm0dXeZ406WPZZE/WzsfHw8v75Ga8iJp6SqWoVVl8j//vodMHxOdJPthma0VLsr6BB3DukFAMrkHs+nfT8yblwrrLiaTHeIQVS8zm7H4nYv1jQSNXNTUjjrWqFI4eC5wVXP/QqcTqaZPf/rT22gC4nrlhe/uu++WU089tW8IZ599tnHd3nfffdsNC4/Et771LfnGN77R9xnu3nvvvde8NFuPCS93buUhQkT4/y9/+cs+bwdeAyx/xHXyGzc03pBcvmxHxVmP24qAEkDdDQMegajafkETgThy88H1StKDdZtwA8X9CyHMVeOhSvwNMX+8fdu4srSux9s1VTW8b9ZpWRuRgcGKwBt8psYaQXaZLxhjKcjUIIA8oMZO2knOvuUVaWrrlFUNbdLV1S0d3cFn1pYXy5c/OEVuf2WlLNvUFnigSwDtQRA/Yv+KpMdcAwkZSKG3QfQycEtz+KiaMhlVXSxdnZ2ytqlLDhnTI5/epzf+LUzvLWjQaVvh4uwxEpEoxxaWgRqnz0zH2vhBayHE3cl+wEVoBZRzFZbhN658VyJhTHgLeGHinhT23SEuDyIXhBH3Osg0bl03qYjScVT34Z7hbVhoce2eddZZfR/dcMMNctlll5lkM/oi5o++XdfzGWecYcaBy5mGNRXSieuY+eBufuihh/LqXk9r3w62fpQADrYVHWTzMRahzk7zQwsTCfZOH+sbb6803lLdWDZbjzaMrCSFFBL20ksvGTcJsUVJ6gGHXRtiyY3Z1QPzq+oR1k/Q52glMnbcc0ENdzyEDqw5Noq1EEss1oG2mrFy1T8WmDg93LR+hMx7Xcgdlrx2x0wYhbRxHsdlshxGxQnyWFZcJOWlxcZ9PbGuQr57xCip7mwwcVtYet3axVHkUiCAWFlyZYXLNDce8FjhDjzwwKgQpHYc33EE07EI850BP1rU+ME0BsLLC/s4X5VImEPUTGi+75///OcN0RpoBJC1hPyB5fe//33j6bj55pvl/vvvN/fCuCUx01hb7SMYASWAujsGLAJW24/ftDj6eBxvky2CLG/2hjRp0qTUMYAM4fKFuEJ0cpXZCdkj3ubEE080cwiq6pF0griYcFkHuW5sfCEPb+KnyGqO0p5/dbY8srhNnl3RYdyw65o6TFWPHbUNrSiRycOrZK8JQ6SxvUvqyrtl7xFFMrq40ch7WHcnpNBmc3rnmms3bCZs850FCwHEBclLkhs/aPUHrV6edRlHIdRx9hIZtVwXC32+WtREGMIyvvvd75pkjiACmC8XMB4DXkYh8a7XgKSQL3zhC76xh/nCW68rogRQd8GAQyCptp+diC2pxgOVjLogy5ufFl0aYPAw5WaOCwZrGG/quSKAtl4vLmCsGMQy+VX1SDov3EX0h1SOt1mCHTW+cG1Dmzzy9hr525w1MnfFRmlq75EerHlFRcYda9N6O7vDXbAcXlIswrE0Nz4v6VyzOQ/XdEtnt5SXIBVTYVzM1eUl8vlDJ8nR04aZB6LVH8Q64tYutuXB8kkAKc/HD0lR+Wi8jCEB45cYFRY/mI3+oJ1rvoWoGQeeCr5nYS+kxO/97Gc/My+YmRqxu1iTkX6h8SINyT7vvPMCk0B4oXzggQf6uiUBjBc7MoltEggJICSC0Iib5P5qk0A4FwsgXg83cQwZLOIP/+u//isf20uvGYCAEkDdGgMKgWy1/eKUVItSpSMOOG6sIcST2ELIIG69XCn223q9WOj4Ny7YOBm7YfPDuuhNlLEl3SCAUQWs31/fLD96aL4sWN1grH1d6Pf5XDyKK9ee5j02zrlh887mc+Rs6ip7ZWgQtf7Np/aWETXl5v82m9OSQdddjNuY/6eViRtnDqxlPmVQiEkj9s3vRcM7Dzd+EBwh1N76xXHjB3G/kq3Oy0y+Gi+kuEjD3KR//OMf5Q9/+IM8/fTTGYdKTB6k69e//rUhgiRj3HnnnSYemnsTEjG8pCLXQsO1TELHT3/6Uzn55JPl9ttvl5/85CfbycDwuSsDQ/iHlYEhjAE3Ov384Ac/MC5gNANJEIHk403QNnAQUAI4cNai4EeSjbafKzqMJSGKtp+NQ0uj/qiNu2MR3VjDOELNSTYA/ZMFzA0d0pm2mDUPGd7erWUGi6OV0YFsBukDtnd2y3OL1subyzdJaUmxzFmxWV5fulFaO3sE4WesfUGxeBC50hKRjh3XI7zNUg6pLJF9JgyR/SbXyf6T62SPCUOkqqzEHMOet7WLIWDgG8VdnGSvZDqHbHEe3vl6QE5F7FgAACAASURBVD/33HNmn+HijdOs/qBNJnHjB627GBISRgijul/jjC3usRAkKuOExQpDqNDn5CesIQFjhaC5L11zzTV9LxhIyHCvxHpnGzqBF198cZ8Q9FVXXeUrBP2b3/zGJKEgQE+iiOs6x51P/B+/IeckhUEGP/KRj4QNVz/vZwSUAPYz4Hq5YAS4WfATpZav24sVOeaGhEUqihWB83lr5VrZBn5bly/JJF7pE6Q9eLjwRpxms1U9iF2CRHAz99Pby/aabqa0LekGvtzUg8p+UaXjir8vkBfe22AsfW2dXVLf2G70/ayAcliWbVVpkbSkka2RLQApng+xxTpIrOAXDpssH91r2+xz4jepwAAJCHMXpzgs01W+dfCwPmFpzpRsFGXOfBfwAliXO+Sa+EFLBrGU+8UPYsXis3zpEDK3qFbQ//3f/zUvYYhCa1MEskFACWA26Om5qSJgs33D3tbdi0L6iIUh1g4LWJzgcOJ+uCZkJkmzrlCsJ8TJ+ancMz50s9Isg+RW9cBiw4Mjabm2sHljmcFKgGg2ZJM3feKIMq3Rva+vkBufWCwjayukvKRI5q9pNJU3TGUPR58v07XR7uP49gySMGFjH2ifb5EjNNVMaipK5PJTZshhu2y1eHkzcb3uYvYSpNsVU86mRrOLDxnA9G+rUPQ3dliaeXkLkxuKOy4bP2gthGTN2/JqbkIO95B86hAyL0gw+qRhWnn//d//beI1f/e738WFQ49XBLZBQAmgbogBgwA3ayv3EjYoHo5odyGeigsXkhKHONI/5+K6TaL+z3m8hTMOr7yMO3aCpHHtoNafRvOr6kG1DvS5SCZIu0EAwZUKKn4l3fyu9+173pI3V2yWicOqZH1Tm7yzpsmIO4dZ/bx9jaktkzWNlGwbHM0mqpAcgiXwkJ2Hy9WnbS0RCAHEEhdUj9Z1F0No3OxiSEM2yRD5FkIm1jSqhFA2u4H4QUsG3fhB9jexd0nuI9mMxz33qaeeMi74MBL8ve99z1j9cb1qUwSyQUAJYDbo6bmpImBlX8I6xRpF6SikVrhhJnUbQSCxesSt/8mDmuvj8iVuKcgVyjz8dPrC5hf0eVBVj7jVOqJeH3yxSuBaJog8qrXpvNvfkLkrG2T0kApZsaFF1jS2R72kcxyCzUWmFNwg8wSbOWIJrSkvkS9SRm5Kb1wgoQSPv7VUNlWONa5zJGUO3Xm40Rr0a1iCravYJTO46CGExBJGfSlCBJq9mskaTuzmYwvqZXF9i4yuLZdjZ46SUbW9yS3ZNrLN0SDMxUtM0NishRV3MYlatq442Fkra1oVe6Lgg+QSQtxhGHzta18z1YuI7dOmCGSDgBLAbNDTc1NFIAoBJKbOxuvwsIqqO+c3UKweJFEEWVy851iXL1aaqFIrWBZ4uJ1wwgmRH8be67pVPSC83tJ1aG/x8CQTMq1m9QRJKtl1110DY6MgKq0dXUbyBLLxz7lr5Kp/LpAVm9p6RZejKDtnGHR1iUizSQbBfmhtaGnNMv/9QASpUEJSSG2ZyKaWDqmqKDdTLS0uloOm1sn3TpjWlzQSRmYsIbTuYpfMZCLwxB5i1SYOz68t3dAiF/x5rizb2LuukKe6qjL50SkzUqmDjOA42c9BSUW5XinCKCjXSAiJtRC68YM2hjCb+02mOYAnGKAWEBbLi54e9x8SK7QpAtkgoAQwG/T03FQRyEQA+QydOx5UJFqglRXVuhE0SCxq/ESpvACRI06IceAKDXtLt9fEWsmNHXHUuELW9BGlqgf9R3XPhi0YDyJc4+DMQwZ8yEok7o9Gdu9765qNhWruys2G8K3a3GZi/SYOr5I3lm0yWb6NrZ0xLHfB5I5kkLbOHtk2FHBwkUEIlS1Lh8Vz3NAKGV9XaYj1+uYO+coRU+XUfcaFLd02n7vuYixchCKwZ61ly+sufv3thbKuoUU+uP8ehpB62zfuniMvvLdRhlaWmprM3T09sqmlU8YMqZDbP7+fVG7Jao41yC0HxyE/SfqPco5fFjLhKDZDG1KIRdwvfjBK/2HHcC3c4NTQDSOZlGoj6Qs9Pm2KQDYIKAHMBj09N1UEeBAQo+NtVnqEzyA6UUqNRRkYLjfcwG6tTL/zsIbh8kVqhSDtTC5f7/nc2HHREgMYdmP3nhu1qkcmseYoONhjwBfrKqTTxmO5YtkvLF4vtzz3vixZ3yIbmtqloa1DKNLiVGTruxwkgXJtlHfLpkXT9tvxCaGtXUzyS0lxsUwfU2OI2MrNbbLn+Fr52b/NMqRr/uom2djSITuNqDIkMWrDXfzKuyvlrldXydtrW6W2tEeOmFIlR0wfKX+a2yLPLt5oSP3I2kr5zMET5bR9xsraxg6pqyqVxrYu+eT/vWrc1la+husS10nVk6tPm7lNMkvUMdnjIKu4P5EUiZPEFfc6mY4n250XnkxWdF7mbHYxv63+oCXVcVzu3rHw3SMRBmIX9qL40Y9+VD75yU/Kl7/85TQh0L4KEAElgAW46AN1yn4E0CVfWP7S1LkL0+jjwUTmK65i3M1JagbTB0kaZAFHjaFzrxvF1UzwOMTU6xqOs85YiMhWttnUlqzyN6xFHdWj5cJ73pJVm1qN+29zSNm2/FXmiE8GsXdlR1PjIB1+LERr7JAKGV1bJqsb2g0JO2HWGHl8wTpZualV2rt6S6UMry6TI6ePNHIyu4+rzdgxtZa/dc9caWrrkqJi9Ad7jBZjBS72jm4p3VJfubOnyFhuh1SUGvd9WUmxHDx1mDyzaL1JXKHSCcSeBiHd2NIpl5+ym3xo+gh5b12LVJYVy6RhlbGs83GsX+HoJTuC71Ccl0s3ftC6jCFu3vrFUUeDh4Ha5BDAMM8GL5Nf//rX5dOf/nTU7vU4RcAXASWAujEGDAIuAXTj7ZKSr7CJcePGsuen0ccN2Qoe82BIWl2DOSHYeuSRR0aKb8LKwHX5HbWqB9YLMqHDBGSD8LDJJcRA8eM+gHB7k5V454JOueuV5eYBD8WimseO0fwJodUkZA4QwOLiIkNsITeVxb0u56bO3tDDuNnLaeNSVlxkyJiZiWMS5d9Y5MYMKZdvH7urHDEtWET5q7e/Ja8u3SR1lb2xmrTNrZ3GujesqlRKpcsQOnh9Y0dvAk5dRZF0S7G0d/VIR1e3sfSCG0kpwypLzd/B68tHTJH7Z6+WtUbrsUhmjq2R8z60k5G6aenoNoQQIhnUsKRBwPgexrGup4lztkkoVn/QxmDyQkUsn43B5HcmDwAJOAi6R9ELpawkUjCnnXZamhBoXwWIgBLAAlz0gTplSwCJtYEE0Uh6iBpvF3dexPdw0z366KO3ORXLIK7QJC5fvzE8/PDDxs0cRiJ5eDBvXEqQ3qjWTuKXKGHlp0OYCRNbug5NsaCSbuAA/j94YoPJ7B1VUy5N7Z1ZEMD4Frq468rxWKs6/HzTTjKJIVClxXLWAePl0F1HGvf27BWNMqysW4qKi2Vda49xc+Ia7cgymSXJHMLOMWSspEiGVpYZcembPr2XL9FqaO2UU258STq7uo0Qd1dPjyGS/J+iLLjrmaPllnaFRlQVS1dXt2yiZrMnAYdja8tL5MjpI2T28gZjlSQ+EMgJD6APspxpY4dWyGc/MEmO2W2U+T9EkzhR4ga5Ni87jz/1jIyesb85f8aYGpNg0l/NxiDyHU0r6xerJok41mVs4wdtMgmuZpfsci/iZRQ3eKbGWPmu3nzzzUL9b22KQDYIKAHMBj09N3UEiMmbM2eOSfJAYiUsHiabAaCjhtvluOOO630wOS5fsiGpk5lGI0sXeYcgfS9b1YPkC+ZMNYIwN5A7LjIYOSeOi5q4SjepJSj7kocSlowrnmuQ15ZuNASQh/2qzUmkXfzRhCZkW/XNjRWsLis2Fj1IRibeVl3SIzsNLZLzDxklM6eMkUffa5UbnloqPV2dpnxdc2cvARxSWSoNbZ0mGWUgNJs00tNDybwimTK8yiSM/PhjM0284JINrTJ/daOJIaQmcWtnt3zn3nlChRZa1FlAMLmGPb4c17Ep4Yd9UOTgSdUyYkiVvLx0s3FZs2chkovXNZtrjqwpN9fH0lhZWiyXnjRdmtq75IE318jqhjYZUlEix+0+WsZVl8g1j8yVjtJa6ZYeGVZVJqfvN15O2XNMrO9B0rXpjxhEN36QFz0IIiTQxg8SA7hgwYLQeGTuFZS5vP/++wVLoDZFIBsElABmg56emyoCuILIhKPaRFJ3ZpwBkezA9ZBosa5XxpCNy9fv+pmydN2qHlw3iaYhQtOI2EKaozQeQLbyAUTXtUSs2Ngqzy9eb2LNeKjXtq2V9W1F8tyaInli/lqpKMUd2Rs3lrTZiiDEneFTnDa6VtY1tsuqhrbYXdIHZM8Qk5AhGeJkr1AkssvIKvm3PYfJQSO7ZO269fLGqjZ5cFmpbG7rkapSkZKyCkNeOrq6ZExNufQUFZmSdlgD820QtITX1E0uRm5HpLoMHHrjGXHF4jbmcyxzuOyjEr9Mi4DlkIQVkn8m1BZJUXe3tHYXybDqMunoKZb6pk6TGEKrLS+WKSOqjDt5dWObIaq4nCGJtRUl0trRbUg6+Epnu4wbMdQQRMg2ru3vnzBNPrDz8Nh7Iu4JNgaRMI2oVve413CPdyu8YCG09Ysh0JA73MVBlkjO5bvOSx/xwdoUgWwQUAKYDXp6buoIQMT6q1mJlv3339+4XygFBSFK+yEAycSl661RTJwQRAzrG26dpBmQFF13pVqC8OPhgeAviS1+lkZkXa5/fJEsqm82D2YsfS1tnVJS1CPdRcXS0o59JvsGKYGsEE3Y3lMs+04aatyFj7+zLpRYcW5VebE0h9SI8ys7Z0kTBIZ/n33oZPnaUTsZQnLnKyvkuUXrZUNjiyxa1yZNndu7PXG37jKqWo6eMdLE3T23aIM8+e4GQ2TSwCV7ZLfvgcg7rITE66XdwAM3MCEBYEr8IETcdReDM+F/jAMCTTwg7mrb3l3bJGsa2mRYWY+0EIm4hVnzm8SW3529ryGzNP5mE1DSnEucDNw0r2v7wgLJ93LFihXG2m7jB936xTZ+ELLK3xGuJuwjU7v++uuNWDRqB4TSXHvttRklr+666y655JJLjAQUMcVXXnmlnHTSSX2X4P5x6aWXyk033WTc21QfuvHGG82xbnvooYfkRz/6kQmjYT7ENd577725gE77zBIBJYBZAqinp4sAN2NuNP3RsL7hnsUCRhZtVAta3LEh7wDhgmDahpj022+/bW7iCC3Hcfl6r49UCw8FylgFNR4cb731lrE2kFzitTQSD3bZQ/Pk8QX1QsyYCfrvTTY1LZoci/fq28f7WfclyQhlRd2y+8QRJg5s4domQWzYJmdksrDBB8K2COSEJIQNzWRybJ0D/2JUuIn/8qUDZUJdpZAh+/89t0yqyoplTUOrvLp0s2xv4Nx+LsQZ4iK2fUbdF4YMxXDFRu23v4+rKSvuswT7f2O3xwzcse519vQY8kg2MpVieuMZi01sIrGb/EBcv3vcLsaC+K931hlNRNbr5D3GyNG7jczqO+NiRcIXcbRk6mfzPcwGf8gfFYb4btr4QZtdbOMHsfTzonfOOecYUpcp6/+OO+6Qz372s/KrX/3KCGz/4he/EAge9c/9vCtU/MECesUVV8gpp5wit912myGA3FuspZH/8/mtt95q7luQRV6c586d2ydefc8995jx/eQnPzGx1fa+c8YZZ2QDj56bIwSUAOYIWO02GQKQMt6Ic92stiCEiCoa2UiohI2VmyvZtSRphFX1COvL73OsiMQTBVkEeIAg54KFEUuAnxzNknXN8s07Z8s7a5uMFYeHbpqJD72WKJER1eWmRNyhkyplYlmTnHncoSZ79Au/e02Wbmg28iONbZ2GWCQjnVvJXkVZsbHO+bWJdRXy9/M+YD66b/YqeeDN1UbYeENTR1/pusyvIdkls0B6oYFhbusk+6E/z2EWZAUjEB7+2taLGS5ryHNPT2/mNdZJ+2LgNVRatz2WPwh6eVmJ1JQXy+cPnSz/tu/4VKbK9wNyhQRLvtrSpUvNy5lfXXI8FZDBH/7wh0ZRgIQRyCqhKySCcI43VhrSR9zxddddZ6bEPZU44fPPP18uuuii7aZ55plnGqHrBx98sO8zYgwJS4FEsk7EGF9wwQV9AtSMg0S5W265xegSQvZ4Cb3sssuEaiXaBj4CSgAH/hoV1Aj7gwBSTo5sW0gfGbBk3uUq05jFs0kaWN0ga1gZuLGmlXFoM3WxJHqbrVvMzR9XTVBSDdU9zr7lFeOOs5Id2Yo4+21c3IEn7jFWvnnICFm+bGlfIPupNz5vBKZtbBixd9k2RJW9/A9CAfmYOqJK/nzugeYS97+5Wm59fqlxcWM5XLSuxRCS6K8h0cmgG4c4GKyA4GfJGwwwCma4i6tKerOR27qKIltD7XUgz9Qgvv0/9pPhNdnXIiYZjBckLGD5arhdIWCZajEzNhJFuF/99Kc/NQLzCGjj5nVFofGiEFZy9913y6mnnto3pbPPPtu4bu+7777tpkmln29961vyjW98o+8z3L24brlX4nLm/gJO3Ltsw73L/3/5y1/Kiy++aKyN//d//yfXXHONsVLyGePTeMV87azM11UCODDXpWBHlUsC6JY5s+XkHnvssYwZumksBNYFbsiQTTKL085uxrWLVc+NxWGuxPoRW7TXXnuFSsTgAj7x2mdl2YbWPq2/IOtZNpjw8Cer9jP7jZIDhzb0ZT3+7OF35I8vLjOuWRgFrlsbD+Z3PauBR6xi3AaROH2/cfKDk2aYU5G3ufDPbxv3IwkTb69q9K1uEv06/oSQ65INS4asPSLMapaNFTT6ePNzJHhbdUDIYNRazxhPiQs8Y//xpk5ytg1LFt8hYtry1Shzyb2P+1Kmxgvkxz72MWMR5EWSc/hxs/hxJ3OfwfPgVjn6zne+Y+qS80LqbXgHcO1SZs62G264wVjzeImkL/Chb5JQbMO1yzhwOd9+++3mfMjkz3/+c2MN/J//+R8jhA9xJUxF28BCQAngwFqPgh9NrgigzfLF9WvLnAE2b9C4Rcm8y0XD9YLILdeHiLk3z7SuRwwOcYwQSxoWAN7a7VzD9AftOC6+b47c89pK81AuKg7S0QsadbwH+PCqErny8HI54oOHm3hDXNDn3z5bVm1uNRfAFehaIK2r0boMEUeGSDa3d0prAnmWCXUVcuS0EXLktJFy0NQ6QwAhfghdb2hqk0ajfZdG68XFJK+U4fIUaenskcpSXJolsqm1sy/u0YpOu9cdzAQQdIPjOTPvJ9zI44dWynEzR8m65naZNKxKPjR9ZGhFFL8VxfU6b968UAmWNHZDUB+8rNG8CRXe4xF9/+IXvyi4jIPiFfNFAIkbpDrJr3/9azn33HPN0LnvEVuNcPWXvvSlXEKofSdAQAlgAtD0lNwhQBwJcXJpNly+uEkhebgi3CxfMnTJ/M1FDKAlnWT1cRMMe7tPOmeSSWgksmDNwE1DTCCEM0pG80vvbZA7X1kubyzbJMs3tpjkjzgu0LgkxR5/xoxSOeagPeX1pZtMXeGSoiKThPHm8s0mdg/JEEhgcTFSJ8XGPYvlB9JEIy6MvqzcCXIwWBj5bcSbI2a+4lIcWVNmEjrqqkulWtqNpMnyxm5TOi0uEeyVXimRIZX02WWsfptb2mVEpciapm5p7CiS2opi4+5e1dBbUQViaHT3jFBy0p2wY54Xbf9sTwhZ6zFDKmRUbZnZL1hvz/3gVDlsl+Emi50MY/bC9NE1Jk4xqNXX1wsWONyX+WoQUDJ9/cI43DFhTfv+979vCGtQy5cLGLkrEj944XUFrcGVWMUf//jH+YJXrxuAgBJA3RoDCoE0CSDWImJX+AkSWOaNGu0tgpnTbG5VD8aBFY7r5KKR2WeFZSGDPERICMmU0UjQ/lsrNsvzi9bLn15eJptaOnqrXiQgH0i4dKEHF9MSV1kiMmlEtUwZUS27jKoxmntrNrdIR2e3jB9WKS++t1GWbui1CBq335ZybRCkaaOqpay02JA/tAshAFXlJYYwksQCo8pCqlDwRDOGk2aNls2tiBevNoQ0EzyWyDDWE2eNNseT3UzN3o3NHbLH+CEm0WXBmmapLeslfZs7thKbaEQoFztoYPSZJDsavcbq8jKz5iSTQOTBfs7KRpM1zFqMr6uUzx48UfabXOc7UeqNEypB0kS+GuL3xCFnyuRnbH/5y19MRi/ZuZkapOvggw820i80PBG4Zs8777zAJBB0UR944IG+bg877DCTYOImgVx44YUmEYTGiy0ZxTYJxP4f+RmbBIJHh5ffyy+/vM8qmC+M9brbI6AEUHfFgEIgLQKI9Q2rHxIPBCIHVeGgEgg3xjhVNDIB5lfVAxctb/cIXOeiEV9DwDU3W9zZYdZMEj6u+9ciWVzfKAvrm6XNYUoJ+F+v1a2oSMi6RdpjY0uHsb5FIZMkY1D2i4fzqNoKeWLBWtnQ3G7I0tyVjUYcGmsOZMm6C9HgO2P/CX2acI/OrzfuW8ZBLBmWRK6NFTDJfPzWyOjZUT4tQ4eIUtvEjj0nDDGWJ+rvQmgZ/N4TauX9Da0yb3XjFsultyqH7bxX905bOAIghZ6kqUKypWoJFl0yhncaUWX+xssNlsIrPj5TJg6r3K5TvjvUwz7ggAPCL5ijI6yHgmStTO33v/+9ibXDc5GpEZNH0gfuWIggpPHOO+80lkNedpGIIU4QWRcaMX4kdJBccvLJJ5trIOXilYHhc1cGhnG7MjAkkZB8QiLI1KlTTQIIpJLr5irMJkdLUhDdKgEsiGXecSaJ+xcSmE2z1jc/l6+337hVNDKNCwKGLhZvwm5VD9dFm828/M6F4EJiecPnjT0ssxjL33/dO1feWdMoI2vL5PlFG0KJGpaZbbM7t1qt+GxoVakhXaOGlMuQijJpbOswlUSqy0ulqa1DNrcF54ZSbWR4TZmpErHXxDp56p21RhZmdG25IX61FaWmbBg/lDbD+nfYzsNlt7G1fXBQReSJhetk+aZeEXGbLbrbmBpjCUqLBFqNwqA1JIHFWqIgth/YaZgs29Ai89c0Gb07pG2wWEJMo7l5o8dVpr2v3P6sZY6/RU1eSToe1g5vLcIw4ASpNkZSn+ZmH7Po/L/3paP3JcDGjfaSwx752F5j5ZKPbCtazNHEzGEFdLNbk44/6XmEbUDMwl5EIXRol/7tb38LvRQSMFYImrmRmWvd3EjeYG3EemcbOoEXX3xxnxD0VVdd5SsE/Zvf/MZkE+PmJVHEfbHlHvi9731PIKrcm6wGYVh2c+hk9ICcIKAEMCewaqdJEciGALouX25KWPbChF2jiChHmUumqh7WRZv2TdDK2UD6UNwnuSWsUc/3x3+dbywikKq3VjSEnbLN59ZNiTWORAwkY8bUlhvNQCwtyHPgMqU2LUkax+w2Um57aUUgCcOqNnP8EBlWWSaH7DJCXly8zghCT6yrlA0tnTKipswQgQ3NHbLTyCp5c3mD7DVhiMwcN6RvXMs3tkpdZbGJp6MOLS7XXUfVyLCqUvnz66tk2cbW1EigC4bXZUvpMwgeBr/DdxluBK7LSoukpqxE/jmv3nxG4gdziU9K+4cMsh7GiulY03YbW2MILMLMJkPaEQgP2jy5dGdH6dtG/CE3g/RQS5fIsMoSueGMWTJz4rYJX4iy89Lop8EX68uRxcFU88H6FxaKQnYtGcuQNW2KQLYIKAHMFkE9P1UEkhJAAp9xR6ClxdsuSRBRGtmyQ4YMMULNSVtYVY+FCxeat2GSMtJorpuZxBKsf5BBStqFtSfeqZefP7LQWNzmrGyQlRtbI2m32X6pBVxdVmKItXkQo+lWVixtHT1GLLa2stTUczWlwTq75agZo+SlJRsFkhbUKkuKpLK8xFj9ejrapLK0RyrKy4Xwv+qKUuNOHllbLpOHVRiL3qiaMpkxdkhvxm5zh/n56F5jDVF88K3VJiO0mioTPT2yuL5Z5q9pNLGELdkEBfoMHj1Bm2hi9QUhT8fPHCWXfGSarG/uNAkg1z/5nvzj7Xqpqyw1EjDrm7YkfmzpMwqh2f7yuSGEJhFlCzvlF2PedXS1uTzjxr2/sSWZhT7Mghq2dzORb79ze62JRUaAvKurR6rLRI6b2C3H71xpJEn4QZsT9y9agPnUqkNDj3tQWPgGJdbWrl27jeUuDm56rCKwzfeop7/qbinuikAEBCAzuBHiNGQcIHKQPm7itm5mlD78NPSinMcxUat6kIRi3cJR+w46Dvc4bmayfbH4MWckIdDqoqJJWCMz8uL75xoXGbGA65vaQ13AWx1/vZm3kLuy4mIpKSkysXrLNraYBA7+VltZIo2txOz1SHlpkew+fqixEv5j7pqMQ8NKg+kJ99+/zaqT7vYWeXVlqzR2ki1bahIyxtTVmLrB65o6ZMmGVlN9gszP/afUmfq8WNjum71a5qxo6K1i0kNSQLmctOcY2XlktSGDT727Xp54Z528W9+ciBDikrRxgCSK4Kqk5NzI6jJzfSygk4dXyvTRtXLCrFEybmilfO53r8s7a5vNWCHF9Y3txl9piVYyAuiFMx4h7LPkbnG5GgkaYii3WPdY470mDjFu+AaK/JrM5lI5YtcR8qeXl0tTSC3moMVOY642QpIZu+EJfgQTAsiLAPuWNTpj/3Fy6m41xuLHD1JJaGiSLc/LFC+DYV6DsO9Yks8pRUeiWphW3ne/+10zPhItBkNDhouqJkENVzXZxdpyg4BaAHODq/aaEIE4BBCSsXjxYiPhgH4WQcdxb97E53FOXIkWMuaiVvVA5Z+HTRQLXSbYGhsbjcQL7l6SPRBvpWHB4Idg76CG1t7LSzbKvFUN8vTCdfL++mZZ19gmzVjuMq6Vo2NXXiIdnV3GxcnDlji8Y3cfI88tWmcSNnjYjqgtl41NHeaBS2zgtNE1MmNsrfz6qfcyyrLUqLTTwAAAIABJREFUYvUrK5G27iJjdbrnnAOkqbVd5i2rl6VrNkpjw2YZUdYpu44dKiNGjpS20iEipeXGajjCqQYBCYPoUdEE6Q+uj0vY23BRL1zbLC+8t0HufnWlrNjcFhiX52b3kuyC5ZE4xGHVZbLH+Frjkr7t5RW9yQa1FSbebHVDu0lCOOfwKXLVw+/KI/PrZUhFiSFODW2dobWME359tpwWnQyiR8hadXZ2y6jaUkOExg+tkPM+tJPsM6nOkNU3lm02/e4zaagh0P/33FJpbe/sk7CJO1aIMyTaSN9ErItsjsPavEXOhXUm+5yXgKYMll2kg9iX7NeS4mK59OTpctzMrTW5scwTosH32cYeEztsLYRhMbVx5x50PPXC8RCEeS4o5YabmLq8g6HhueHe6G3333+/qW5CMssnPvGJwTDVATkHJYADclkKd1BRCSA3DixhuG7chIu4yCWJzyNgHHdz1KoecSx0QeMnUxFrJXFCxDe6RJcKI8hYULvTr0F2fvbwQkN2qPhBPNeGlg5paO2MmIzQWz4NSx4ZrRAcKAYP4CnDq430xuL1zVJXWSZjh1YYS9iyDc3G2jVjTK1UlpXKe+uaTPxYUCN+rq663EjRIO78v6fPkg/stDVWC7LPwxpXNw8MrL5YekeOHGl+eGhH0Tz0uz7E7cE3V8uLSzbKik1tsmZTszR29MbyQfggksftNlJ2G1dr5njUjJHGGmbbvW+skn8tWCfTR1f3rQvu6EX1zcb6SEzjb59dKm0dXYY5U/ysLZkXNe72DiWE5SW4ectkn5Fd8sHdJsi0iaNkz/FD+jKsvRf8+9w18qun3jdWTiqorGmMZ62HTFeWFUlHZ882GdUlWNQ9F3NFok1MX1GvS5fWm0TTS3StDqT9iz0WKzdai/TT1tljwgJu/ew+Mnl41TZXsiLMyDRxP7F7DKs9BNASwmz2WNjCUaGDLOQw0fbPf/7zJlbxkksuCetyh/2cl3KSR772ta8ZAWltuUNACWDusNWeEyBgKj20t2c8kww0rG9Iu/DWHMfl6+0Y6yFxg1ECwCGnPCzef/9942qOWtUD6xxxgkmEZu01IZHM1S9IHHKIm5ksYL923xsr5TdPvWcehlifcPtu2hLHFS0bFctLkdFZ43iMMBBQLGAQtk8dPEkm1FXK68s2GVLZW/mixySaTB5RJROHVcno2go58+aXzMN6a9tqqSLDF/dpU1un0c87eKdhcsqeY+SkPcb4khHc7+wD+7CGHGI9gQxiveFByhghv9QYZpzIx4weUrENRC0dXQYL4hjREiR+cf3KJcYK2T10vIkvxNLpZ0W0Hd3w5BJD8iYNqzSkl0QUXKdIvmxu6ejLDI6KdYKvzTanGGkUI4nj11Mv5mgwzhxdIUNrqmRja5fUdjfJZafsJuPGbLWO2bMhrk8sXC+PzKs3GdorNrUaS9y4oRXywpJNnjXd/pqGsm0xo1pSxwsFrlmLCeOhmg3WSF4AOrewQTsFdyrMjdhKsqpt11vpIOEJIhXlJYbYsv7sA9z0rM/PTttdaiq2knfO4yWQlwevCDMWQfaYdRezx7jnWOsg/47rcfBdkZ4e4+akbFuYxfHMM880osrU7R2MDbzxZOCRoWZxGvgORpzSmpMSwLSQ1H5SQSATAbTJD5AwXL7IGGR7g8CFzE0nLIMWXUFIJ/GJWBzD3tRdMCBoXMetyxkFLIgw1+TajC/omlgkbZF4v36/8+e35LX3N8mmVvT5uo3uXxSNPrcvV5kOQeYhFaWG3K3e1Cr7TqmTa8/cxwgyL17XZE7baWS1IX5uO/OmlwxJ3BoH5sjJIOOxJQaNc2yVj1nja+WmT+1lJGVsYw5/nbPGEBJI2yE7D5eTZg6TruZNfdZByERbeZ28vr5YNneWUNvOaBQeMKXOlAzjWi+9t1Feen+TrGtqk6a2bkPyDpxSJ1Wt9TJuSFlk4e47Xlkhzy3eYPp/ZP46QwLZq2AcRMa8sXBpxca5zl/+TSwfiTlYb8uLRdY0tEtZSa8lbXSlyJjKLukpKpV1Ld1y3uHj5MP7TpO2Liy4xFh2yWvLNsufXlohyzZtFeRmVpAwrL0t7V0mJjMsq9kkyZT2WpBpuGbBB2s0f6kuFdl5NGLgXbJqc5sh7L31novNd9zG8kEYpwyvNAkpkHNeSvyuTf9oMXIs64Fl94TdR8v/+8Ck7b4i6NhBvBBPz9QggFieLSHk2DTcxbzMYAFEVsWGdQSN45RTTjHl1myptSj3kR3lGF52mR8hM9QrJh5TW24RUAKYW3y195gIBBHAII29mN1vdzjWPLLqMonAulU9kHKJ62qEoEFa4xSbtyXdyFL0lq/zToJSVjzEjjzySF84zr/9DXn63fXm4ctDlYemf4sWO4b1BfJXiaRJU7uJwbvr3OD4Q3utxxfUyzfvnG3GQXk3Hv4dBHZ5GokW9A3Rw2J46j7j5MPTR8jvX1oh76xpkg6qjrR3GxLChJgTUjQHTh1mSAFVQg6ZWC7/nLNaVm1qlmElnVJdVSGdJZXSXlQupx8wyZAP3L6cu3xTq9Q3tBuiAAmcVN0lH5xSLScfMivS9pq/ulF++9xSeXzBOhPniIUUl2MYKcrUOcTN5LFsMZ5ROo4sZuLmsORiJXWXEWvcEbsOl/fWtchskmC6uk22NnqExDcSf8jxxEYi3wMphFQdOHmINLe2yaLVm+W0nYukoaNHXttQJk1dJbK2uVtau3qMVdbPegk5mzmmRhata5HNTlyj1efjHPNv6R0z+44saCx0fmF7NpOakIL2zh5jjUUG6GtH7SQzx9bKRffNM4QQCx7xm+g/Eo7AdWz2ssWroqz3ypPqKo2lmheJcw+fYkTHvY3QCqx5yEZFbdyncBdbMsj3ldhcax2M4y7m3kb5NISYeXHJ1EiYoBLHWWedFXWoO8xxF110kRGuJiM6rCbyDjOpAT5QJYADfIEKcXhYvNxmXb68EeIGDXtLjoNZJvesX1WPJBbHMILmHS/uXpTziUmKYuXkIUQ8JA8Qv/aft78uj7xd71jeMiPkZ50iS9fExInIpOGVUlpSbISZSRI4YtpIueK0PTJ2ahN2fvHou/Lc2lJDRlraO6VberOKeXC7JIPkBLeaiAniLyoyxBFyReMYyABWKNyBNkPZxu3tN2moHDx1mHR1d0pzU7M0NTfJkvpmGVlVJGWVVdJRVCHtUirvbWjtrQXc3WOIZV1JuwyvKpULT97baBm6jXlQYowYv/fXt8gbyzcbN+/idS3y5ML1W0rWFZvkBJcAxrXwMTfIHtY4sK8oLTHk5z+PnGoEpikxN3dVo8HomN1Gyd4Th/YNk7FRHeV3LyyT8pJiWVjfZCy2NKxrED/iN8tLS+TgqXWm2kpLw0Y56+Cpcvsb66S9o0O6OjtkyaYu6eguylj9hD5NXF9pkRkrjf5JjMG9Ttk7MGOv8Cljs0LYfgTZvg5AzHuJZJF89cipcto+4+Q/73jL9E1yEfN4d21zH8buawR4ITAO4Zwxpka+cuRUmTWu1lhB/RrxvBA3SpYlbWHuYu5dxWxen0YmMpU4IHdh9xfco1Tj+PjHP550qAPyPCqPfOYzn5GHHnpITjjhhAE5xsE4KCWAg3FVd/A5WQLIg4PkBqxnUclQ3KkHuWddi6OVW4nbtz3eytQgaZCpWVkZLIZk+RLPFqVBkMkO9pNToKzal//wmry+PJ7gs3tdLHK473Ad466zjzH+TSzXR/YYKx/de5zsNXGoDK/uzUx2G/PCygIOYLmypVgeeH2Z3PL8MikvKzVkxJaPyzRfo+vm0d4bWlli3IbW8oMFj33T2N5l+sXq4z5UV29ukba2dmlqaZHO1hZ5Z2OnlBSXSF11hXmx2NjWLVNruoQQyXM+PNPI3NhGnB/JHks3tsrS9S2G+JEMgUYhAtVvrmgwiQaQFK5vNQI535UuibKmECqyog/ZaZgcMLlOqitK5PBdRpg4ySiNxJYrH35XFqxuMnF7XJ+YO7DANonrHKthXVWpIYn71GyWhvJRMmdNq+w8ssrELxLL2N4BFm4k3vYWW8aDy5VmYzz3njjExIW+s6ZZJg6rMG56sqK/e988EycKod/iDQ6cjiXNkPP7v3yQXPv4Ynlm0QYZN6TCxCHi1g0ikWRqDzMahjXy89NnGcsxLxgQQtbIbVGrcETB3R4DqbPWQZvlGuQuJgaZikRh9wf2Nd4AqnccffTRcYYzoI8lzAXvyGWXXSbUGtbWfwgoAew/rPVKEREg9o0fSAPkhpi7XNWRxP1LEDjxN7ZlquoRcQrbHIZ76JVXXsl40ya+iAcRD2hIEu6kqI3x8gA55phjtjvlpfc2yEV/mWNKs0WJ+4M0YVGzxduMZEdvKds+C52fhZDPebCSYXnMzNFyyl7jZOdRNUZnjWorWD+YF5prtPfXbJSP/eolk8CDdQh3H4kTYc2r9YY7GreiJVlVWLYgiZ3dxiJ11oETDBGxbcGaJtl/8lBZublNNja3y4I1jdLR0SmlPZ3S3NohSN7tNrxImrpL5YtHzZD9pvaScCydv39xudQ3thl35uvLGozLmHJ6ELSmti4jBYMVEncr1ie0EeM2sKWPo6aPkO8ev6vREUzaIKx3vbpSnnl3vZGloV/K7hFr1dLebdZrl1HV8skDJkj9u2/KDQsqpL6xw1jKet3MvQk9m3znsW24AOMm0QJMIIFo7rEXZoytka8cMdXoMdK+ftdb8q8FvbIfmVzkrkuX/XHpSdNlv8lD5Yp/vGtqKW9uQUqnx+BsyK0HJEtTR9WWmZcSmz0MgT7zgAly5LQRfWfw3SSjf9y4cUmhznhemLsYt++cOXPkiCOOCO0Hsei//vWvGSWfcjKJHHWKdwT9UkJrfvvb3253FbAZPXr7xKQcDafgulUCWHBLPvAnDCmDDNXU1Jjs3DRdvt7Ze92nYVU9kqBHrBD1eo877jjf07kJImTNA2j33XcPdBUFXRt9QIRk/fqn9NuX/vi6cUnyYN5qlfKP9zPkabvA+q3HuuQvyK3JA3v0kHL59lGTpXz9uzJmzBiZNWvWNvNCd+30G56W5S2lhmzwGMdaGZQpG3QtV5jZ4sOxVCyhrw9OGyFTh1cZUrOuqd1YvD6x/3hTmeRvb62VNU1tJpYMtyIC1qOqS6Sso1Gku0s+PK5Txg6vNZbYeZtL5cklzUJ94VUNaONtkhHVZVLf1GEsZsTnoZcHWYI0kyjTElTENmAh8TZDVDp7ioxV7u//efB2Lui4+w/yQdwfQtTUJSY+8OG3603sHK5yrIK7jKyWDQ1NUt/aS/JtDJ/RPCzFmhlcy3nreHqkurQ3OaStq0iO3m2kIVrWNf384g3yyvubZG1Dm/zrnfXSTs3vrq3X8r6cuBVJ2E/oKX7hsMmyYHWj/Orp9wVBcyyY9U3tvVnezhBdGyWWQOYxdWSVTBhaYZJgkPW56Phd++pJ8/KEhij7tD+a113Md4EXP8I9cEUHuYtZS1QAIKx8nwZDu/XWW+Vzn/tc4FRYF5JCtOUGASWAucFVe02IANaJxx57zLyRk5UXFhOT8DJ9p1nrHPFz6E9RUQP3a1hJpjjX5QZPkLc3tsUVsob4JY1BCuqfMW5s7pCTrnvWWKh4qFrpDL/x90pz9BaCJf5s6zMVetb7WLXyImFlvSBBIyt65OZPTJNpu2yfrY1l8Lf3Py5/WAx56trioiQ5oDfRgXHgVcRKhbvSVPaI2SYNq5ALj91F3l7VZJIiJg+rkoN2GmYSIyDDWMZIjpm9vMHIhZBwMHZIpXS3Ncqhkyrl5INm9Lnx7n2rXpZs7pGpI6tlU2epvLyi1YyRsZsSc1sSNryjzBT758XQyJcQ+yfFhqDd+YX9TQWTbBp7DP3F9ze0mIoqF/55rrGaQfT5bhGPx8sBc6FyC9m3ttm/cUwUd21NeZFJ3mAeF+3XIzuPHSZ1w4bL3xZ3yCvLGw0JxwqJa3n1lkxfeznW2iWBloSSsIL5+dMHTZD5q5sMiUXDknHifp84rFJeXbpJmtt7X3CMuHQxRLpYurpJFCoSog97ioqMSPf4ugpTyu4je4yWLx7Wm/RBxikSMGl+5+Os2YoVK4yMEwlfhEmwZn7uYogjBBFCBDHK1KgUcvXVVwshLtzPrr322oxWQ2oLoy1I3yRgIDR90kkn9V2CMV166aVy0003Ga8MLtsbb7zRN1mDEB4kr3ip5UUeD462gYmAEsCBuS4FPSrIQa6JnwUY6xkB2FgbcVNyswrT4oq7OMyHkkfHH398nxXMr6Rb3H7t8bZ/CKbFbVF9k9z7+kqZvXyTLFrbJGsb2g2hCyIkNlMTV6wlJlABU2rLlNIqNg8mm6zhluAKGjf9XHHqLDl13wnbHcJDAu2znfY9TG5/abnMXrHZBO5/bK+xMqamRM750xxDTrDgkC28eUs5MrejsMSKk2aNlitP270vm7gK/RNPIx4NCxKVUYjbI1misnWdTBpaah5uEEeu/+N/LJRH59UbLCB8ELStkX3BKxdGlN0zIUHkanT3FAuubCyA3ni1OHsEvcdv/+VtI+ViiT0ky+S1FBX3SdRAnljZmrKS/5+98wCPo7zW/1Fb9d5lyUWWu40LbmBs00wNCdWY0AkEEiBwITflBi4hBQhpQOgt9F5M6NXYxgb3XmXLVZbVey/7f35n9K1H693VSpbB989+z6PHlnbKN2dmZ955z3nfo2bMgCvONevgnfjTaTkyd02xrC+qOyhta84Bc0cYRA0m6dpx6Q4Fz8u2l8irG+uVSWxyhklHcIhUNrZrqlk9ATkgpwV8AZnMhJlR6wl4I6WM6TY/gHTOByyrESTRQ5p9tynYC9bzQxkDcceeRhnNzrZ7AEOAb3I0iukk+Z/T8jScsOf4zh2uMpPuzhk1v7gRkAr1lC6mbIJOIYC/2267TVs/+moZR/eMyy67TB599FEFYvfdd58A8Ch18cRycv/DQeDuu+9WG5aXXnpJASClG6Y/Mr/zOYwdL+aARYRnuA+4l6vcdNNNWrf94YcfBgBgdyf/O/48AAC/4xMQ2P3BEUCAARP4bQxuvNzEsIDgIeBNqXcoc6GeEVYTA1csZACd3FwBmvaWbr3dhwFTBmDCkvzxgy2yo6xOGZm6phapbfHMoAHkqItC5AFggG0jfUnaDQDGAxdaJSTESqUZdWt34Mscy8T+CfLiT7r2KKa2bPWucnl/0WoZMXy49gselRWnYAdgzPl/d32p/P3zAle/Xks5isUKDJk1mIOxtIG9ZBnL+86yhjl3bIbcdvqQg8LKMcFEcTyeBg+vxXsa5b2CVu3mwTYVFPk8Qf4BQvdNeIvj0LQouemEQTK2X5yCn968EP381fVC6pV9AIhgUTmdnkG0AU5WfAFOnOuZQ5LkvvNHKTBZtqta5q4pkkUFVVrfyDYBqmeMSpUxWXEKnqcMShA70H53XbE8uWi3ijZg6Kxew1asLMbTEhclR4fK0f0TZENxvVryMFfON9scnRkjW0pQMoeoOMWkrilVMKw1pxKGk/sG1y/XPeys3YoGUMk1wrIoi6+ZZrFoixYtUqDTXRu23n4/u1uPTj78eGoViYAKVhAARu2fMZTnZY/vO6pgd1sqQN+kSZPkwQcf1F0TEzoI0UYOqxX3gbk0QpT33nvP9RFdhXgZBkRy7rOystR+xog0yJyQjkaQMmfOHNd6gD5Mqt98802t6wswgN2d/e/28wAA/G7jH9i7hwh8GwDQ3tWDmyz1c915cPX2ZLH9Tz/9VEUgpuaQeh+Uzb15sLvPg3h9/vnnLoD5zOJd8vTXu6WqvqXTKNczOFFVbXCQevo9ccl4eW3FXnlhyV4FYvilAdSoH7NYlVBl4+iawQPcHUh4iw3b//zmYyUj3jKFRujxnzVFsnl/jZQV7ZEBAwcp6ByRGStnjcmQkCCnAkDOBYAU1SfgK7+0Xl5bWdTJ9lhqVuZvF4BYoM5iLEla/3pWrlw0sZ9raoA5jKixEAE8kA4cmRGrQgg70/bUZ2vlwWVVuh5En0lN+gt6D7j39faK6bpeRqxDxuXEy8nDU+TEocnKir2yfJ98AiPZ4ZQThibLJZP7dfG4QwBy9mPLdUPEhUEcvafSndpdw1ilWGDNKb8/c6icNSb9oAPZX9Mk5XWteu3Y2+K5L/jSskL52+cF+mfSueplaFvIiqlVYnDhUQkSFRUl28sa1eeQTjJzJmbJIwt2KYDkuDGApoaPwe+wfQA66jGZe1ENyzklPATfRIspZH/smzjoC42IXD9zoNYVMhYsWKACpe/KeBhQR0cbXgZ9DWP2DrD77LPP9Ofee++VK6+80rUaL5vE8I033pCzzz7b9ffLL79cU7d013AfvPwC2m6++WbXR6R7586dq2lc0tOkyN3BHGUzgMT7779f16N8Bj9V1iOdDlMYAIB9cw84XFsJAMDDFdnAdnsdAVggQNPhGvauHvgKkgICnB0usQlv0B9//LHW+FGTg7ClLwvO7QCTY7j51bXy2eZSlyWHp7o0HoaGDUFwcExuklwyJUfeWFlosUadvnv1LW3S2tYu8ZEOiYkIk1NGpMoJQ1NkbWGNLN1ZqfVX2KH4SoneePwgueGEwXo6V++plnfXFWmHhu1btyjriuhBAcvYTBmWFuUCgPbzv7eqUWY/ubKTEXQqy6edJDrrFVnWKhezGKyosGC55+zhMiPPUvFiA/L+hhKpa2pVRW9RTYuCgcz4CJmQEy+njEhR1SoxOfWBxVLa0G6piTss77pDG71jB933yfFhpQKTVVDWqMduHXeQpESHydjsOLV8GZIWrf187/wgXz0EDdMJYPJ2KNGhTmlxdvWpI036t3NHePXP8ycmD87fqX2QwWwwc6Sb7cNueJ0QHiS3jW2VDke0xMbHy9B+qZKSnCh3vJ8v3+ys7Oxh3aYCGYaqsKPDFNgB5P/n1MGyurBGxSY7yhqUsQRc8nlnqKz/i6g9kAGAlGfAmFEG8l0MrK4Qipl0q7c5kDU499xzBdEY1zkvsdwr7fct6gmpnyata+889Ktf/Uq7jVDv6D5Yn9Su3Vz64YcfVlsWQB3bouaPbdvbX86ePVvnQcqZexw1gyxHmppawgAA/C6upp7tMwAAexavwNLfQgQOJwB07+oB0wQ4w4OrJ9YrPQmDSdHyZs4bcl8/aAzANMdw5b+XyeKdVss1Hnhd++92nTnMSFhokFqlDE2PlVOGp0ppfYt8vLFE2Tpao2U37ZTTTpwu8dER2qGD1OBX28pkXWGNFJaUy+6SGllT2Skg8RAYwMmCX87Quby7tkg27KtVIcamTRtl2LDhEhoaosbGUwYmqv2JYQDdN4UH3+/e3ayCFgbbG5oarYrSfdWkr9v1b3mp0YIPHfu4ZHK2AqXXVuxT42ZiQToxMdIyfm4BBMaFa+u6iyf1U5Pn0x+yHpIwSjCFvuLXkxo/63gODQya/Smg6kxhq7myrRuG1UbP+pup4+RvnjrA6CacIqMSO+T8qXnyza5aBdLHD0lWxtGbebK/1//jX+2SJxfv6UwrIzjpCqbBck6t/bPavv317GEyPL5DGTF+tle1yzfl4bKqxOpGAoMJ+OecMHVS0Jzf88dnyn+fbL1kMFCUX/rsalX9wg6yLstxjVDm8btTB8upI9MUuPjbh9ffY+7pcjBs3CMQgvkaCMmuu+469Ub1ljn4rgDgAw88IK+99pqCTO6pAQDY06vgu1k+AAC/m7gH9uojAocDAPrq6vHJJ5/om2tfAzMO0Zg0k5qhNgel3+EYgFh8xHYWV8otb2ySHXXWXnylLfksITJUH6qjs+I0nQe78l8n5bnsRwy7OPP4E6Sx3bInWb67SuZtLpHW+koJbmuSpLQseW1ViaozPQ0AxWMXj5PxOQkyb0uJvLWqSFN6lbUNMjg9To7JTdaashlDUmRaboJXAMi2abv20IJdys4NS49RU2G6cQAKhqRFSU5ilNaVsX3YIQAgy/z7mz2aFlxPm7QOp5W2dDoV7B6VFaep5NkTMjXtePw/FytgoC4SEAXgNcM9nqZHLQind1WrvQOEpnsK87Kzejqfzv663q4zyybHYtGM2GN6Rrv89eJj+5wFp0fyL9/apKwlMWpobdeUv3s8mQ3xvv20PPnRWMuPb+XuKnlx6R6pbaBVX7PsqWmX5g6LweMYKEkACAEc6fhy4/EDlcU1441VRXL/vB0KFk3tKOsNSY2Wv583UgUrsGgwgP704T0c31u2uW3bNp3H0KFDfe7io48+UiUuNcvexneVAibd/O6773YBptw7AIP0LoZhDIwjLwIBAHjknZPv/Yz6GgB219WD+jlSQPQD7avBgxW1Hso71KS85VPkfbgAICA2MS1LHllcJEUt4bKjsqXbXrQ8k2MjwjTde8rINEmIDJPCqkb5+cxc7aBgAMIzb38sHSlDpLyRFKJTdpXViaOlWtJjwyQnO1tCQkJl8fZy+XRzqdfw4fWHNQeF+QAqC39Qy2fVnZ08IlWun5krWLfwEPNWj8n+F26rUBBKTRtsIPWBsHiTBibqg57ULq3ZSOtOGpCgrA9dR/gXI2iYMxWcdDiFjhkYOVc0tsp54zJlREaMXPvsUlm6r0nZRACGsUkxBwegZT98nh4XLldOzZYPN5bKsp1Vrv69/l5HXQGlXd7i7xYOLGcYXyOG4RNPLwCcd1MXSOoeUH/LqBY575Tpaszdm0G9KLFFiDEkNUrjhgXRx5tK5fmle7Xukv2wX2xY7IN4avpeguTiyVnyi+MHaU/nX83dJAWlDcryYfnCz4qdlZq+jwpleaekx4TI4ORIqWwNkdNGZ8iPjjpg5sy1Qg3i22uK9QWDlwbqPa87boCMyrI6vHCvoQYQFWxPe3z3Jk6e1uEewb6ps/M1EFZQ/7d8uVXb6W3wook4BOsXBuCSOr8bbrjBqwgEKykAnBnHHnuslqrYRSAIQBCCMDCfp4wGisJBAAAgAElEQVTFiEAQ0/E3M2AiEapQi8h8emtx1VcxDmzHcwQCADBwZRxxEeDNkRtzXwx/unrAAFCA3Vc2EMwfZ39qdSiSxrKB1Aj1hr7sG3p7vMQKELu8IlQ+3RemrBVdLuyNNQwQMP5qynAFi8REhCozhwq3pqlV2bJfnDBYa+MYu8ob5C9vLJTUjH6SkRAtReXVsjC/TB/GJ43OlrBQq8csBff/+HSbz76x1OUZH0IFIdRnhYZompUH8qtXT9KHlS8AqA80p1N2ljeqfQv/x1yY9mzt7U6tMwMAUQd3xqg0l7hjfn65LMgvV1BS2dim7E9FQ4skRTtkcEqUgjzYQhTRS9Zulj/Mr5DCunYVnagIxOmU7MRIFUrAlB6VFSu1zW0KBC+d3E+O+8fXGgfAJaDK1Jx1d07tNXAHL9szdtBTyr9T/6HzAXzRBWVzcb12XmHAkt5+aq50FK7vFQjiRQdwTd/h+uY2jRXgGv9CrIio0zOqXF40UPWmxzpUXQ0TC/hvb+9QwEjKfmBypFw4IUseWrBTex0bRTeRSIl2SFZ8uGwvb5DpuUmSGBUijQ2N0tiEjU+TDIgVmX1Ukhp38z0zXWeo+dxeVq/9lOkJbEQkHD+pV1TAlE8cDgeA7s4/n8Po4QhAzZyv8dxzz6mdC/crX4OaPEQfjz32mAJBbGBIz9JfHOUuFjHUCWLrwqDGD0EHPYbPPPNMoS/vXXfddZANDJ/bbWDooezJBoZtBlLA/pz5736ZAAD87s9BYAZuEegrAGi6etA+iR9vdTPU1lB/0xdGsLxJ09vSeAqaukL2geChr9saYd9Acfjeygb516ZwqWhApet5UIs3PjtWtpQ0SLGqe0VToWP6xSszghBjQv8EufKYA/1zUezOXbROpo3OlfqGeiksKpHdLVHS7AyV4/KSXa3KUOx+sH6/bC9r8Ho9my4jZoGIEKdEhTtcPn15aTFSXtcsQ5MdcuW0gTK+f6Jf3w3tGV3RqKwf7B/1jHmpUVqvaAb1jAhjlu+u1hrANm3j5pDshAgFcYhgUNMySMk1t7bLHmeSth2jrRzpbYQV9msIhTQ2JADA6f/42qq3Q4TitOrvzDA+dOZ3e90gRCipTIyJQ5trZEN5u2yraHOpmw9spXswqFrfTs871775k7JrlkDm3HEZcsuJg7QjCMc9LjtOnO1t6jMHCOipEv7t1fvlnk+2KcAE0LnXSxKfOOxZMM1ua5cJ2XHy6EVj5PpX18uawlqtwQxydmiHlQn9E2VbWYOC8wXbKjq9/YJ0noB6wGT/pEhVhyPuMe3liPfW0no5YVCMjE/uUKU9L34xMTEKBPmBeec7CRikPIAUONd8W0uzdunx1Efbr4uvDxbCTw8LGlg6XwPjZV4k33///W73ClNojKB5CaVGDyaOAdjFhQD2zgyApRFvkLFAXezJCPrxxx/XshZS5ghFvKWtAwCw21N0RCwQAIBHxGkITMIegUMFgKzPmykGq/509eANmPQLb8eHMmhhx1sxSjl3T8G+2od9fhwf+8Pj6y/z9sjXRb7r0GCANPXZ3qEsiNqodNpywOj9YEymzD66nwIjMx5dsEPWbc6XnORYAdySyims65Dlu6pkVGasjMyMUyaMHrmZcRFy/7ztXpWmpr2XAUThIU5JiA5Xw17SudoFw0knEDzinHLjhCiZPixdGR0ENIdqmQNbSAu4LfvrZGdFo2UyHBmqHnajs2Jd/WLda7JIEz+7ZK9gTUnKlwHQwWB7Wl6SnDwsRa57eZ18s7NKmULTYcOe0HWZEcN8hgTLScOS5YJxmYrMhqZFq4WLnQk6/r6vNS7eBulPSwbR/VAA2CkI+ed5I+Wk4SldVrKzYMx9b1WTptYxgYYh9TUueHKFgm+Ar2EV3Zcn/R8RaomHMIGhw8n760tky/5a6ZcQKYWFe6VfVqayybSsA2zvq2pSY2lSy7CEXDvMiRcW+vvSajArLlLBLV1FEqMdcu1xOa4XEso+AIL8ICZpaW2TTQ3Rsr4ySCqaqDcMUQHRBWOTpWT7egW/39XghZEXQ1g5X+Nvf/ubsngwfIERiEBfRCAAAPsiioFt9GkESANyA+/NAKTgPQWTwZuvP8peGADevjE77c2AgaDGjx96dHq6kbMP2jfZbRR6sy/WYX/bt2+XHTt2qHVEWlq6TPjzF9LUjXMOdXfYoOGdRkszAAoPbVg3/n/j8blywdH9tI7LjBe/2SnzVm2RnPhwjRE1YgCnrwvKtW1abESoRDqCZVRmnBw3OEnOfOgbBRAGmrh7vun8OzeO519YSIiyXfT0jQpzSlgoNYlB6gM3OClMfjMpXBkHrCoAgvyQqndnqmCIluyslPX76hQkALBSYy2w5m0ACD2ZQXsqyl+1p1q+2FKm8aKWEQBIupLOJQlRYapivvy5NaqcZi6G5QNwA7xh2q6ZliPZCZEKwj11+LADwMueXa3iFnsq2R5Le2rX/D0mDKuVYK3rLK5t6ZKKZnlqHR+/+CgX0DVx2VlSLe8vXCnx2UNk7tr9arbM+aPN2oUTMuXc8Zke1cDEYOY/v9br0Ve7PtLcsHrGh/CZS8cqyHt5eaGkx4RLRXGhZGZlSnmjZdJc29SuNkOk46kFpHaTY+S6I13/y5NytbsJwJPBPE8bmarqb0+D+X22YZ88vmiPxgWfwA4qDoOCJDcxTK7Ka5FTTpzR26/jIa9Hb1/uGfQC9zWwZQHQPv3004e8z8AGAhEgAgEAGLgOjrgI9BYA4llFOoWb6bBhw/yu6aEZPDdfmLSeDoAqLBzdPTCT9SYkWbp0qQLMQy2Gpt6P/eEbZvYHGLvquVVemTdzTKRgsQLB+iUvLVof2jAttNEiRRcdHqIP0b+dN1pykqI0jfbO/BWycG+r9M/OkJyUBE2xkiqmRvCcsZma6oThiYu0xAOPL9wh//zcYgE9CRAOFj1YUDEyRCQ6wtqGPuxb29XEd3BqlJTXt0huokNOGRAmmSG1WiNISs8AwvZgh9zy5kZZTcszcXa2MrOOh7TtcYMTlfUCfPkzvKkyOe7tpQ2qZEV0AnMXbQPLpBZfWrZPvRGxHvnR2HRlB/1lLgGAMJ2k5xBPoJ61D3uK1w6wAXfjsmIkqKNNUhyt0tbaKi1BYbKrLkiK6y3ASi9dfO/saXGA0SebSuWjDcWyvahcdtdZqme2rWytWC8Lt52eJ2eMStfzDoMK4DJq23MeX65/82WXw/biI0MVwAEE37l2ooLiN1ftl2W7qqSwuEQSE5MkKTpcU+GYjf/ts+36IkJ6nPVgAgGQ/3vGULWnAbyTzuU6S41xuEQt3gDgHz7Il8+3lut1ZXlHWq3u+Jme3i5XjIvTVDHXFIbQ/p4zf66n7pbh/sM57648BC8/xCJG3NHddgOfByLQXQQCALC7CAU+/9Yj0FMAaO/qASPWU5aNGjpu/tyEezIAYbCN2MegmPOloOQtnxt8d3U+vvZv6v1gNe0t5B74Yrs8uXCHNHfjQ2L69/Jveny41lLB4pAM5mGPBQoq3amDEuXX01Nl/fr1Wjv5yeodUhORKY1OS8UJkJo1Ik1FEe4DkcW5jy3RhzO1WzA6sHnuQwULnSAD0MH/oxyohLvWkSFUIRXIg5p5j8/B7LhZ4sJEpqY7ZWhEvby3N0zm77PauzW1em7Zxv6iHcHaUQPLkOl5SR4ZI0QwG7Zul/hwkRHDhrmmDWgg1YiaFPaOOkOjpO3JNeNrWYRDXEvmOqSF2sMLdym4YgC0//CDoVLX1C6PL9qtwAsGFpYOC5sHvtyp5zE5KlSamho1Zb+jolkGxIj8eGyC1rgCcIw4YtP+Onl04S4JkQ5Zu7tCips8p5Sz4/FJjJTle2rUYgZRBybRdAn5aEOJdvrgOjLz9HSuqQUklXvLSYNk9gSLaYcp3VZaJx8uXC5Dhw2XMdnxauPDS8afPsyXhdsrXSbc2MicMjxFfnny4B7Hnbn95Pk1sqm4TsEfamSt1RSnXpsJDpEnz8+VptpKbbsG+INldheT9NV5dt8O2QHq7tifr3H99dd3EW8crvkEtvv9iUAAAH5/zvX/mSPl7RyWx59h7+pBypfC754O2h3x1g/Y8XfQuxOA5G9LN4AiD5WegkwzH3u9Hw8Lu2LxT+9vlrdX7pW6HginjQEwaWHSYTyg+ydGSUNLmzQ0tcjUtA5JSU2Tkf1TpKNosxx91Ghpd0TrcoAfQJm3sXZvtfzunY1abA+gJO0MkFNLFZs6IjzIKW1idfTwNmCiSOnC/tS1tCs7BZOpIyhILpyQIfSbJTVLjV6b5ky7r41ju7Bb47PjZPLARBmWHi1vrS6S+dsqtQtNcmSI3HTyEFUSk9b9Mr9c07zUsQH8+idGyknDUjT921cDAMj1S6mAGaRAYckALfY+u5p2betQMYNJY3+6qVS7nQCsYPpgzRBKnD86QeKlQWvheGkBZPLCs3CfyNd7G2RgokOtUprafccNQO8ItQy/2T8gED89QORLy/cpc2eGAfdmi6iCrzmuv5w+MrULu7ZkR4X844O1UtYWoT6ApO6vPra/AtslOyq1qwenc8rAhE5Lnw5ZuL1C/SCjwkLkmNxEVfb6YuyY689fWa81msw/LNi6do0xtCNY5MGLjhL6VvMySYyIlRGTEC8DBhFr9FQo0931gQqZvrndWURdccUVaiX1u9/9rrtNBj4PRMCvCAQAoF9hCiz0bUbAXwDo3tWjtz5eADlYEYBVd4MHBL5dhYWFPWrpBsjk4d6d15f7/t3r/Tyxm898vUv+/km+uHXZ6u5QXJ8DqEhlwry0tLZr+7OosCAFhqTfoJVSY8PkqOwEOWm41QouIcq3OAChCXVzN722ToEIrBngCaBmpYH997wz6xqFaWx4iLJQzM0ADEAQYLNrqzP/wKAJBNuCaQru7HUMyL3rR8OUuVqys0r6xUcoaKQmDduZ4ekx8oMxaS4AhlgE5pPl6TPc0y4aXIe8iNgBoN8nsbM2lLpBlM6V9a0yIDlSpg5MVOWsGUYcAcB5eXWZ5Fc5JSfeIQv3tkh9W/fAGdNl4mJ66r51zdGaDiZN/9w3e+WDjSVaWqAxiAvXFC7eijedMOigeNCXmTR3TUOzxEaGa80iLOLIzBh5aPboLnYtzB92+fcfbBWYSz3PTqd6BNLB5cKjfdfvPrVotzy4YJcEBznFERqiTCbXI5uJCBG58cTB8uOJWQcBSbuYhPsNv/MiZ9TFfSFO8rcX8QUXXCCnn3663HTTTT25LALLBiLgNQIBABi4OI64CHQHAPkcAQRCCGr9qN07lJqdTZs26food30NwzZSh0f9HTd/f0dPQKbZpqd6P0/721RUIxc+vrTbFLBZF8DHg8+k7OyPfQPL7JYt7uIDwFZWQoQqhi+bkiPhNrsV9/nRV3d/dZOrZZfFEvUMmJnaRdf8QzGPtoAadnbY25SpkrjDJ5voz36JRWSnBoYexViF0P8YzsiuiAXIws6RekWRunRnlQLe6ibLGxDwc8KwFGVL/R1cI9SQHkqZQHf7WlxQqcbM20obNOUe5HTK0ARRa6CCWjWL8bkJiN8oB7YuTrXH+dfs0XJsrmXXA0D/YH2JLC6okJpmq2cvog1SvkY9bd/4L9/aKMwnQtokOjpKdw2wJC1755lDlWG1j6cW75ZXVhRpzR8qdu4DnAOux3+cN1LPlbdBD+jZT62SopomrW80zV34P+z0qKx4uWRyv4P2ad8e+6MMw6iLESdR9mHYQYBhb4y0aUWHRUt39xNsWfD3u/rqq7s7zYHPAxHwKwIBAOhXmAILfdsRAGx5Gt119ejNPLdu3apv9qRhvA1qg7Br4GbPcj1NA1HgzzoAVn+Gt3o/T+uW1zfL6fctlJrOrLmPjKorhUoq1tty9lpBJVo87JRlEFmcMCxV7j13lFcA/s/Ptskz3+xWMODsaFcFpiem0t0rz75LMx/3afDgJg1MBw/SwDCCvvr2dl3fOwgND7E6fVhcpcilk/ppGhqfwZK6ZomPCJUR6TH6/+SYcPlwQ4nsq25Wk2J6GSdGObSjCipkwI8nxa+n8+ivH5w/149ZBqBGXSOA6fMtZXLHe1v1fBp1MZ9nxDokNaxF1lV0bSvnCTBr6ryTLWYfb159dBeGkb9RW4raFrYQ9tGT0prlTntoqTS1tEtIR4sFfjqxJ6AONu7nM7rW5NLbl89QB5sBKCuqbparj82R2Z0sIH8D4JI+VuVwapSmj1furlbPQlTqsI20BuQaSo8SyUpJUIbyttPyurW+MfumVAAQaAAhNZcA+J6ISUwrOlpRmtpMb+cX/z6EIBdeeGFPLoHAsoEIeI1AAAAGLo4jMgKeAKA/XT16czAwiQAuhBzug4cJbY4AiZiews70hm3Ev4ubPTYx3Q1f9X72dan1+nRTsTz51W7ZWlwjHrQWB+0KYANI6moabIEho9C1GxX7mit1XqT4nrx0ghpIexqk7a56boVsLbaaE1O7SEwBRbQE0204QrSLBzVtPR2wg+/9bJLkl9TLo1/tko1Fdd2wgN72cAAQAgr4AaiGBAdLv/hwBXiacg46AJKMr6HZoraICwnSlCTM347yBm1NRgrUnwEApA6sN2p06hRhIbkmJg6IV1/BDftqZcG2cimqaVZA+/GmMqlrahNK4KjLPGDHIzIuRaRWotSIGXB4MOi34sP5gn1V9Wxektx3vveXpu6O+cKnVqqQJTyo1cV+Waxem/x8xgCNo31c9PRKLSGwM7EGAF4+Ndu1/Dtr98trK4pcNaOqks6OVwEKRuW3/WeL1nXGRYSoACQ+rF1f7HaUNcjPZgxQsNib0dTU5PId5IWRYVLFdvGNfds9aUU3ceJEwQvwrLPO6s30AusEInBQBAIAMHBRHJERQATCzd0Mf7t69OZgSCfzJk9atwvA6mzpRr0UApNDaRWXn5+vbadQKXuFIG7+fr7UzDzoH5m/Q95YVSiV9VasAIB2mxVPNiz2fZvP1fYDNq3zwe8ZAHiP7KzhqfLgRWM9LkBcv162UjY1xsie5ghNH6Igpqh/1j++lOqWIC3+Z/cY/bpDQFcrNi+7h3X7+AarwwGjvqVNVu2pUXsTABFMlP+soNnKATDYXQzNGszTgENMta+YmqOikVNHpMr4nHjX/KgTpFYxNSZcxSScN0ypt5XUy9aCXTIoLU6mj8lVEYS/46ONJfLHD7dprSUDYQipaUArALxfQriql+dtrTioU4jZx9R0kb9ffIzcjJ3OnmqtAzXD+EcSFfwaAVTDE5xy3YQYaQ+Plx11IVLR1K7M4ICkKAW8vpg/s13MtR//apeEdLRJXEykgk5KBBB3PHPZ2IPS5//4vEA+2FCif6cGlMExN7Z0yN0/GiZH9YuTneUNctu7WxTEYhjNyxo1m/trWhQgnjEqVW6HBXU6lUmsra2T1tYWiU9Ikp0VDQo8EYMc6nAXkyAsgeU07KARk/jbio75knl4/vnntZNHYAQi0BcRCADAvohiYBt9HgEDAHva1aM3E4Hhg3XjDdsMYyiNsATLFX8MpX3t2xfLyHr+1vuZfSzbWSl//mCL7Cin36rndK4qfA2GxvPMbYKwXHCBgEnAC6k66sJqunOUdtsO9iTzb53exUCaRWgIj7IVcQ3CBsOc4sVGGu7tecvko8IQKalrdYF96hKpM2MuACTzAOc46BSi3m06Xws8UYv4wc8nHxR60/UDELa9tF7bv60trNUWeLBf/g5/2VCWY77MjWDeOGOAVDS2ak2ZEdJgfIy1CcvERIRoBxJq5ACEjOrKCgkJC5dR/VOUOfRHYbx5f538+JlVeg6NOLpTt6Pb1Kq+INGWdxg8exvhwSLzbzlWU8W0YQNAL99VLRUNliE7/XsBlcPSY9QHMC1S5MsNe+U/G8pVxFHbFiy1bZyzEMlNjVZl9XnjMnymU4nL7e9slK+2V0hwiAV4KSu49aRcrbt0H7srGuW297Zoyhfml2PmCFEO33pyrl4ztKYDWA5IiujC1LMOwhwYS2oJF26rkEEp0dJQVyttba3SEBylfYpvO32Ipvv7elBiAito1MX8DtuL6GfXrl3aiq47JbP6Q378sUyaNKmvpxfY3vc0AgEA+D098Uf6YQMAScv2tKtHb44LRS8Mo+mVSUs3VLs9NZT2tW96Y/IAcGcZWacn9X5mH08t2qkMYK2HvK+aXASJRIaFuMAFf6LGCVBY31mEh9I3PCxUaptatSiez2DoSI/xgOUBrZYffgT192cOk4smW0baADMYT4A14NlucFvZ0CLzt5ZrjRwPviR86SKiBJuQdme73PHuVhcANLslNWwAIClZsw8AADYtfzyra10lf1+6q0rWF9Zof1pz7GOyYmVAUqSs21crX2wtkw83lHZrnn3woXuuHVRfw86etawzNjtW47Bxf70ykIbM9sYoEu/kiCAZlBQuSXExMmtEqqTHhstLywu1ng0fvosm9tOOIvbxp4/y5a1V+5W+NQACEH2QxrqTufMGfgGwT11iWaEw9tc0y3NL9kp+ab04goMUXEWGh8iZo9Jk5pBkZdXum7dDa/IamtuU7XQEdej/Q4OckhwdIuP6xck10wdKnA9jZRjidxevk+DUXC0LwFrGXuPnHn+shaj3XLO3Rl84jh+aLLOGp7gUxq+t3Kdm3MTLPujbTFr8kTljZH9Nkzz21W7ZWd4ozU2Nen4yk+JkzsQsOWaQf/2n/fhKeF2E64IXTMAgL56UtlD/Z9hBT2IS1uF7xH2pO7HaocwtsO73KwIBAPj9Ot//Z452z5492vGiL0GYt4Pfv3+/qoqnTp3qarFGuqW3reE87QcwBLA8+uijuz6YbP183f39fJ2sv32SL08t3uUCMPbOEKyXEBmqnnuAOT4LDwuWhIgQaWvF7iNYmtrwioNFsdTAmt4LDtLUY1psmIzNTpDBKdGys7xeVmwvlsJ6LFy8Q0HA1RvXTlEmk1o2Ul54ltl9GbXzxMYS2VpSrxYl2/O3SmpahlS2hkpeapTMzEuU855cqR0nAByAEjwCnR20jAuywJxFsOlxIzJ49rJxMiStawswWoTRSSM5KszVqYNUIWCFlCzpyb9/XiAvLC20DGmc1n4OZbjH/1C2xXGPyoxR8Mh2ld3rBJfnjstQlSy1hrOGpcjrq/bJ1zuqXO3diLE9fWtvGafA2cPEjGffy1eOl5GZsbrEK8v3KTPHeTHpVoywQ4KC5KYTB2lK+eH5uyQ5JkzFFWwXAMe1VN/cKrnxodLQ3CynZLZIenSISykLyLErZQGACKSOPfbYQwmZa11ayP3pw20SFxniYqSJH+zhWWPS5epp/XVZelf/Z22xrNheJJGhwXLelDyZOiihV/W9hzJxjh/194gRIzyKSYgXwhIYQ4y8uS/66ib00EMPyV//+lfhnsbLF11DJk8+mCE3c3799dfl9ttvF15Quf/85S9/EdTGZnA93XHHHfLEE09omQxilUceecRlmcV6f/zjH+WLL77QfXLPvOSSS9SrkPaNgXFkRyAAAI/s8/O9nB03HdojpaWl9birR28CBjBDpEGNDmwcLB2pmb4cMIykRM3N2B9/P1/7p+XaPz7brovYhQlmHWqdfnBUlvz67Q0KIqJDndLW1i4OR5hUN3doKo+CetKjgC3sN7p66FkAa3x2vGQ6GqRZHDJ/Z4NHxpF9wst9eP1EKczfoA94aiZDQ8NU2MF2YKdQh85dXSQxEaH6cN66dYv2MQ52REpNY6ucMz5T0883v75eBRQAMwDMjCHJcsOMgfLIwp2aniS9O7ZfrNwwvb8CJYQl5oe5YEOydl+tDEzqagtCfRgMGp1O5jy9Ujbur1PgxH581Qn6Wwfoj81MT6+pTqFzFyaWmCgwdIoMTIrsBMyW0TaxsWtp3HsGq71PJ5C2QLbVEi01Mkg+vvk4vRZg9+75hHZ+Vp2cGfxeUNYgl03JVnbyofk71QJoXWGN1h2SPoY1xl8PIUpxTYv8dFqOZEa0ucQR7kpZgA1sMS9ffTEAew/O3ynz88v1ewHr3djSrl6F/3NantYPknJ/aVmhtg6srqmVoKBgSU+OkzNGpsrxQ7taz/TFnHxtAxbQ/fiNmMSoi++99151EECIRgrYm1vBq6++Kpdddpk8+uijms247777BICHbyn3UvexePFimTFjhtx9993ygx/8QF566SUFgHRGMrXK/M7nzz77rAwaNEjBIi94gHbKYj766CNhvxdddJHk5eUpmL3mmmvk0ksvVcFKYBzZEQgAwCP7/HxvZ8eDgULqb2MAzqhV4w27u5ZuvZ0PnUNIefKg62m9n6d90m1jzlPLlMGzq1EtQUeQ3H7GMJkzKVsemrdNnl4EU+iUsNBQrQOk1unmkwbLnz/cYokvWtpdnoB2hsikNQEHl01IlqKWCHluyR6vIZiVLXLW6BQZPDhXFuZXyCsr9gkpX8DCpVP6a7runTVFkhIbLuGhPNC2SHJSskTExKmR8NnjMlUcwVzx1CNtl5ca04XhA1y0trdLRGiwduwASJsfCwwHydc7qxXcDUzuygwCAGEqpw1OkmteXCvLdle5LErsbcw8AT4TY/+Jwp55HXoKqp7LTmrRnop3ZxsBXu3tlkLZzmaafr5G3MN6v5qVKw8t2KVmzWZ5SgF+MTZULpxlgTBA3N0fb1OrFDz3ugDA0ka54phsGdsvTh5Ddb2/Ts2vOS+IQKoaWrSlICwrLxU3HT9I7XDMsCtlAThmYI8E29UmIfpSQr/lpCiHDEqJcrGb7jFi+wvyK5SpZHmUvqSDqeGbl18ui/h7S7uKQ04ZkSIZcZYn47yt5fL6yiKti2yoqZSQ0BBpCuZlwamG1T3xbuzt/cCsx8snLJq3uj6ubYyi33rrLXnttdeE+JECPvXUU9UPEObQDEAf23nwwQf1T9w/UZTfeOON8pvf/OagqWInwwvve++95/qM+xMvb4BIrbHNypJbb5smw+kAACAASURBVL1VfvnLX+oy1dXVkp6eLs8884zMmTPH4+HDQMISFhQUHGp4Ausf5ggEAOBhDnBg872LACCJB/zhHrByvLUCHE4++eTDlgIqLi7W9DJpGd6w3fv59uQ4ERGU1DbJVc+tUqZMQUJnahRRR1J0mLx69WSJC20TehBvrguX9bURapY8OjNOLji6nxSU1ctv526UqLBgKa+3Cv27gL/ObSIKYX93n5olY4cOkln3L/LCljk7RSQhCiBgYvD+gxmCcWJz184YqA91QALiDYB3RUWl1Hc4JD0pVi6Y1F9SkhJ7fA540BkwyP9hqT7bUi4ZceFaBxmkXUOcWteGuADDYOrIUIsakYR7GlgFFUEiMY5QBdRH9YuVlGiHvLmaervejN4BQiPssKeoDQBkFoC4CTnxCpYLq5sVAcLiAd70c2O7HSQyLTdRHrpwjC77n3XFsreySWsvp2YGS01JYRcQ8vrKffJlfoUMTonUzh+AgX1VTdLQ6lTRBalimN2Xl++TNXur1WqG/SZGhSnbRuu+44cmybnjMr0Gi3NFaQTXAenCnWV1sqY6XGo7wrUmLiLCod1WfnRU+kECI14SHpi3U70N+T8pckD8oORIueOMoR6Np1FEF1Y3yWsr9mkKu39SlJSVlooj3CGxsXFax3jBhCw5Yajvnry9Ofve1iFtSg2ye2mI+/JkKFD/Ei+Mo2ECYfumT5+ui1IzTQbjjTfekLPPPtu1OsbRpG7feeedg6aApdUtt9wiN998s+sz0r1z587VWkMAHJ2LqMMGFJoxc+ZM/f3+++/3eFi33XabMoPLly/vy1AFtnUYIhAAgIchqIFNHnoEDjcA5OHDTRVmDn8//j9r1qxDn7iXLfCmD9AEqPBW3pN6P/sm528tk79/lq81TaQtAVo2txx9AN9ycp7MzAnTGsrUrBypDEmSDUW1+qAckRErEwck6sPuupdWq3LU9HC1A0DDeMVHhkpTa5v85Ohk+cUZ4+X8x5aoiMLbABQ0dhahsQ1MkXk41ze36UP8wTlHyTcFZdLShhdgsJoUt7U0yrCYVolsrdbN4pkGG8tPTzsrcF5b2tplQX6ZoJDV+jWUw06nDM+IURBEKzCQ0+3vbpX31xe7WEBAE6rc2JA2rVu75sSR2jmCFCeKUdKGpJYNo9b7i8U3GLQzkCYF7A0AMocZQ5LkgQtGydZiS3CSHB0mv35nswolzJ6mDEyUv54zXIUQ7oOXE2rL7Cp4WD06hgCmAXYwbGy/rqVNj5/U+eSBCfLrWYNld2Wjtp9DVIGQKC4iTCYNiNd0Ki8AZsDYwTxSK8g1wTD7Hjt+glDWsL24RpJCW6W5uUm7vFR3hMnMvGQ5d+KALkbJpG9///5W3ZaxzOHY91U1yvnjM+Unx1q1fgy+I2+v2S+fbS5T4MeLANcppQCNNRX6MgYAzC+pk3PGZQi2Rt/WAPxxb7ADLE/75kWOVnCIRjyphXmRpV6atO4xxxzj2gTG0fPnz5clS5YctFlAN6ld0rdmPPzww3LnnXfqeWFb1Pyxbbsl1ezZs3UOpH7dx7Zt2xTMkv4lFRwYR3YEAgDwyD4/39vZHU4ASBqFrh6AMaPKJc1CWqU3Js/dnSTYE8AfN3sYQF/+fr62tWJXpVz74hqX35t7OhJbl+PykmX28Ahpr9grQ0eMki/3tCn4o38ux0atHWnV2RP7ybUvrpatxbVap2ev/zMME+wSgBLwdvMxKXLlyWPlleV75Y53N3udpvHtMyCG3rnaOaKtXVPNpOFI9yJSmTggQWaNSJGhabGSnRipLBMpprKyMv2pq6sT/NIMGERQ4u/5aWnvkF3lDbK7vEE6nB2SFeeQ/okRrnQi2+FndWGtLNheqTbYJwxN0tQmgiAYFVJtGBV/tLFUexd/uqlM+9D6nwbuGiaA2ciMaNlR3qQMLgDHGl19BwGtxId+vvzfsjs5wNDaU8D8/7en5slFEw/uhQsAZv4IbgC2dDKBMaZlHvEemhatNXLeWCjAOaIKFNsvLNun2yLdbMzEYflgy+49x0pDAvAAWIAymFczAGZ4Mi7fXaVG1FxT2MRMyInTffMSFp8zTJ5Zsley4yOsNm+kopuaZG95rbQ0NclJ6U2SFB/jEpO8t7VOXl5eJDm2Psfsr7S2WZKjHfLExQdM3Tl/z36zR+eFtc7u8kbZXdUoWXERMiS2VWJjoqUjNFI9EzGCJi7f1oDR45ofM2aMz11yf7r++uv12jxSASD3N9hBmMonn3zy2wphYD+HEIEAADyE4AVWPXwRAJwBAvt6UHdEesPe0o2HPSo2GMCetnjrbn5GFUsaBnbqpJNO6m4Vr5//9IVV8tW2cv3ck2oVrgWvvMRwpzw05yhpCQpXwIY5r2FiePhvL6uXs8dlaa3TL99cr106PHXhALzxII4JE3noB1ly1MhhQk/VaX9d2G3XDlNfxn5hnQCe7AMRAqBDu5EEifz0uAFy3fSuLb8AnOoH6GxVbzzAIOcNT0YDBuMSEqWoplUtPdgOwDJbAd4Bxsk9kMQfkMm1Zf5vlrELSUh9YdBr6qvoMkJN4sLtFZoWZXQnDOFzatHolgHgoeVZVVOr9E+MEoyiYcCw31lUUCXVDS2yt6pRqpuoy3PKuJRguXZysnQ4YgWgU1DeqO3aVu6pUfBvzj0kGsDuhSvG+2w3xzF/sbVcve9UFY5nYVCQjM2Ok7PHZkhFabGCMFTbnsbGolq54vk1OmfOnRn4OTLeuProg4CYfTufbi7VVC0Gz/j8ARLp/PLDozIk29GgbFN4Rp68sKxQ8lKiugAcjLO5bq6emiVtDTUuMcm8vR2yYH+IZMU7JNzhkOAQC3CiVMbvD7sX/Z50OOW372zWFDX+hYzm1g7ZXFwnVY2tkh3llKTYSAkLD1d2mNZ9hp3s9Re1BysC6BobG7vtEPTBBx/IH/7wB61V9jS+6xQwLCHAjxpC6gP5PgXGkR+BAAA88s/R93KGfQ0AeQgiwkBxR8E5aVjzJg1I++yzz+TEE0/sU+sCu78ftTTU/lFn2Nsx428LpbSu2at3XZA4JTqMzhqh6smXlxqtgHFIWtdWZIghSIf+eHKOskEwMx9vKFbl5P7qJt0+D0F+YFN+NiFKxmZGa9zwMrz62RWy3up0dRAQMsIFO0iBMcKSBsCSYEtBosaMCAuRD66foiARcLKusFoNi2GTSO2NzIjVmj3OHyBw8ZYibW9WUt+htY79U2PVZy401CHDMqK1jZcvEGiPvakdNGDQdJ6BlTEMoHmQMTcYsF/P3aTtxAxjalfkAvROHpasKXnAdWqsw5VeJo0MCCFdS22kGbChXIcXHZ0p36xYLdmZ6ZIUG6UecfzAVmMYDPBtc8TKS6tKVcQAEDt9ZKpccUxOt8bFnO9nvtmrKXfTRo3joVMIZs39wiwQ5smjknl+saVMfjV3s0SEcoVZBtycX1WOdzjl9FGpalxNSti97y8A7uEFu/RCsQtKiCXlBT/MDZXaqkrJzhshTyzarcDUrjwmBY0VzaVTsl3bZv8rCorlzo92iLO9XSJD2rVlnwSHSmVLkFwyOVuXZwCY/+sN+nDDqh5If1OnuqmoVpJDWyU1IUaykmNVIDSxf3wX0Upvv6v+rkfKlHtddz3CUfMizFi6dKnXTSMCwWUA6xcG1zV1fjfccINXEQiq7Hfffde1Tex4EMLZRSAIQBCCMPAsRFFsF4HA/GFkTer3hRde6POXaH9jGViu5xEIAMCexyywxrcQgb4EgAA83pwBEDzkeKDaBw8Uiqp5gz3Ujh9mu+79fHnLX7RokZxyyim9jt6ZD36ttXueh5VGJNWLNQc2LxdPytaODvzfPraV1smkAYlyzngrbcjx/2ftftmwr0aL52FRAA0AmUun5Ehqe6mCFFKwmzZtksbYHPntx4VerVO8sWMACIym9eHkdCp4oF4QpWdpbYt2x6CNGDVfAENqE2EKpw9JUmHBnz7cKnNX75f2jg61OjGJ06Rwp2RFBysLddnUHBk9MKPHDAQPS35IO2NzgdKRlwRq1vLLGmRXpQW84yNCZU1hjczfVqHKV1KgtH0DtJD+5njoRlFW3yL94iPUr6+ivlXTqM3tTk172kESbBi2Kz+e1E+2blirqsuMjAzX6aqpq5d9xWVSV10hdTXVWgcHe80P17E/jPWXW8u1hdrQ9INV0UPTYuSk7CBlWSlP8DQAYfTtNR1jqJU0daeAe6tmzqmCD0CgfbDuk4t3W+l3G/AFgBKXH+WFSWhLnaZAYQmZK9uMdHD+W1Wxfu74zIPSslyzdPyYu7ZY2VXr/LVLdlSHzM7tkH6piVaMEpPkz5/tVqsc0t5m8PKBqCW8vUGCwiIlzBGmx5QW65DLp2S7/BB7/WX1c0WsXXjJwELF1wBwvf3225qp8DaoyUP08dhjjykQxAYG5TD1zVzPiEaoE8TWhUGNHynbe+65R84880x55ZVX5K677jrIBobP7TYw1BYbGxjAH/dNOv2wjP16tF/HfoYjsNi3HIEAAPyWAx7YnX8R4IaOFcyhDtNNxHjT8QD1ND755BM1o7UbF/dm3zyYSCHyg5eWqfcDAFKMfSh1hv/95noFagePAzVkMFIwTKhsTxuVrowe7Brsi/Hiq25qkx9PypYRnaa/LEOqGAaLej0zSK8C2CbG1UttdaWyUVZP5CS5/NkVsnZvjbJ6AJq6AwVtXaZHypcBA8iIDA2SFhWvHFiMRWBoSAsyLAsRp4KnvJRoOX1UmoK93/1nM/yT19Z3rMu2+kU55ajMCDl+aKocPypHoiKt1J8Z1AdSXwcDBdA0A3aT8gBAWG5urjJcC7eVK+gGiABMahrbJD4qTC1tUmO7btdsh24VpFuttnNOZegwq96yv07PgZ3hoiYPhhOT4lUrV+oDmgcnABmxzZo9Vjs24pEZ55Ds6A6Jaq+X5tpKaW9r1f7UBhBGRnbtfmHmA7DCGNvUtnGNImZZsataFdu5SQ45bUCI/OTUA60Q7fHihYAUMMfFuQa4mzpIjgtz7b2VjZIc49BeuvY08YcbSpQBJJa8XODbCAuJJyTXwA9zQ8TZXK/fFWIFuCbdDvinhzEAFcWxXUxi5sZxIAZZsrNK08QohqcPThRna5OLQaW+DhX8Z3uDJCI8TFJiI/RaRORCKry1oV5G5STpNULMd5UDFCPkt6fkaS3i4R68UHFP4nrzNTB45gXSztZ5Wh4LGGMEzXf1gQcecHU4AqjRTg4waQbMIqpdYwSN56AnI+jHH39c1cTHHXecIBRBOMdgW1deeaXHqRtG/XDHMLD93kcgAAB7H7vAmocxAn0BAA0Lh3M+NyxfdSmff/652mDgut/bYer9SJPANNq31Rd1hv/9xlr5z7oSv6ZHwTvdMyJCQ2R8/3gtyuexHe0IlWNykxTQ4MlH7Rn2JogN+Lt9ULBf09giQ5yFEiZtqi6MjrZYpPK6Frnz/c2yeHuFNLVZPoKIUIix9r7tHDy4AXL1HlrWmWWAiBEOvOycLqBo7E94SmN2nJUQLkt2VOk8YeX8HWFBTsmJDZJJ/eNk5rB02VjWKvTkReAAy3TB+Cy54fhBUl5arKwGqTjTaQHWDgY1NSZMwtQwGtayQ3ZWNMrozBiZ1D/+IBNqMy8AD2pTS5XrUBC4fFeVLCqwcueoUOnoQZrbdCdB6WkA4IrdVfLZ5nI9Z6RLS2pbVIxDPBGI5CRFSf+4UMmKbJOotlppbaiR6KjILuygud7pvEJbt5SYMFViA04BTjBeVr2bBeduO22InDf+YNsWWLk3VxdpD17S3wA1Mq4xjhCZkJMgo7NiNZ4ohH9x/CB9kWC8umKfgr/6ljaXXyXznzkkSX+nPnJ0TMNBNXDEGdD62soijSHr0FP50sn9urygeLoG9AWsrEEVyVHhITI6PUoa6qrlP6sL5cuCWqltoQNOqAxOjZLypiCN24CMZHF0vhhy7fJCdMtJuQcx5/5ecz1ZDnEYpvMwaL4GwIx08csvv9yTzQeWDUTAZwQCADBwgRyRETgUAMhDgJslb7V2Fs7XgX755ZeaAoNR6c3orp+vqTNEBNJTaxPmwzFd+OQy2biv1tXf1tc8YVsiwoKloq5FGacrjx0gn28pVRYK9SYPaxgt6uVIqZLePG1Umkzo7AXLtneV1kpNWZHMyAqS1OQkrQ1yH6TRrn9ljeQX1ymgAhyg9jUDIBcWankJGhbQ07wBqyxjagf53bQ/Y245CRHq4cawmzb35lzB6wBKDYs1c2C0nJ1Zq8dHrZ0ZiB8wEyZFbQbnAR89mMwzR6V2MSuH3QN0mX/d5wbDhKBkS3GdMlyZ8REyMjPGZTyMbxpp5/ikFHl+aaF2rIApA8zQyk+tfxDHBAdJm1MkIiRIwRGMZHacQ/rFBElaWItEt9dIeFC7ix2MT0iUT/NrtD8y6WZqCIHQnH+ArX7XOkSZuY+un3wQ80XLtIXby7WmFBBIzSipcM4n4BYfQoAa19svjh+orCq1jRc+tUqa29oVtAFeSZmzDgD2mmk5WjdYXLi7i+CGmH2+uUz+/kWBnueY8BBdh3kfl5skvz9ziFclOOANc2pa49H9A2xLjGElR2XG6hx2FFdJS32NsllPrqqV8BBLBIKHHkwc1x/+iDefMEhGZfVtNyBP16oRpPlq78Z6+PPxYhlQ1/bmGx9Yx1sEAgAwcG0ckRHoLQCEaaNGheLmnrR0W7hwoao+7QDA38D4wzRyPKSZe1pnyEOTBzXM15wnlsm6fdVCgxRfHBicTqQjWK1NeHDaRR0YP5MC5m+AB4Aiy1ODBwtHzR/sYFF5jezet19mjUiVkelRytJ4AoDE6CfPr5SlOyr1wQ+oovDe1IhpeheQ0enFd4B16tp+zb3TBqljI9IBVJImpccvAMwXkPT3nClbKQBOiwF7bs4QGZuX3QVc0JFi3pYyTUmbfrhsn3Qn9YYnDbMAoN2E2qS9jM2MvUVdd3MDAFK074yIlxeXFUpcRIgqf0lVYtYNy8b1wOBvyoa2tLsEGaTrURgjZmhuaZVVe6qksblNhsW1yaxB4dIeHi8LC9vkoy1W72B+2JCTYyCtGxQkL10xXgVC9kFrvTdX7VfWjBTw6j3Vsr8zvU19KS8YpFTPGJUmJw6zADTK3/99b6uCPdbhugC8cj3yf/oOU5PnLoIAJF/38joFvVybZlAzCCD+69kjvAKzN1cVKXBGHEQtrPoCVjerIfhfzxnRxUya4733k22yPL9QBiZHarlJe1ub1LSHSUJ0hNx2Wp6kJcX5bTvU3bn19jnCMMpEurOGQohBip+6vsAIRKCvIhAAgH0VycB2+jQC+qBvaenRNnlDxrWelApF5T1h2iiIRqlLsbS/w17vR39Oasd8DYQmOPfDNnQ3lu2slJeW7ZWtJXXajQJ2bmVBiXy+rUqBHQyQt2HvHsEz3q5YJQVMSs4k/jBqJg2JpQfA7YdjM0VaGqWyokyGD0iXH04cIo0VRVJbW+tVJPDa8r3yxw+2WKAiJFjrvYwZtNVRI0hr83gQ80BWts8pCmbMYVBuRVrQ/E79lbaiCwqSto4OOXlEqqzaXa3iikNlAImbMpPBVmxgfa4c1iGTMh1SHxYv2+rCJCE2Ro4dnKRmytjmYJWzp7JJbUxQJl95TP8uzCDb7M5mxg4Kzbkj5pUNrQqSCzatlSGDBkhkfLKmbGHPluys1rrH+pYO7dtb3dgu0Y5gBVJgwarGti6+hNgAYbdS1WSdYwYALCkqRP44PU7W7KmUxzZ0aFzZJ3PiOrZseYJk7rUTVXBjH4gxnv56jzJj6XEOrcEkLq2oTBMjtb50fE68prJN3Rymy//73hats7SLXpg38QYAws6hymdgjM6A8TSWM6SrzWCOsIy0aqNe0n0A6H7x+gZlHrnOzEDlzjV384m5MiOva4nD+n018pd3VkpHRJy+VLBvXgqmZITI9JRGiYkI0/Z01FjyLzZEfT0M6PfUq9e+r5/97GeaJv7zn//c11MIbO97HIEAAPwen/wj+dB7CgBRo1HDRTE1P/4aBpsY4JRP+q07EOd6sLS1qVrUU72ft7h++umnWkfXndBkyY4K+f17mzWVihcfgKehuUVSHe2yrzFYwYAnH0CzXwP6TJszQI5h2GCNSLXqv06ngkuK9wEbpNBumRQrH22ukE01oZoWJFU6MTNC5gwLk2mTD/aJ4zw1tWC1sV7TpQce2KLbhQECaNCnFaD55KLduogyWHiydR4I4FGVwU5ELJbfHMvAGvH3f54/WnJTo+Th+Tu1Ls9eZ9ib65jYhIfApAIwnQoOKmqbZN3+Bt2cJXMI0rl06RPciaoAFFdP81235c1mRq/NoCBZU1gr6/bVyYJtFWrWTW1jakyo/GzGINlb2SDPL93nYjvZLewttYMAKs5XbUtXA297HBQ8wxxrf2COJkjmTMySX8wcIKc/tFRT0NaLgvUZcR+eHiUvXjnBY61sUXWTdtIo6FSHk5IflRWjnV5IA9uFLWwVU+XZT61Uax+YTI6Z8whghaF87KIx+rctW7aoctSoYDmvlzyzShpaOySps5aQ7fFSAQt6++lDDgJyfA6wvO7l9Xo0pgbRxIOazWuO7S9njk7TP5EKhk3m+Bd8s0wW1yTJvppmZb4x67au11j54bAYtajBjgcGnJpeI7jpiSm5r+uT+w7HznZ9DRS8KHt/+9vf9uZyD6wTiIDHCAQAYODCOCIj4C8A5CGLko6OAtTw9SaFSwCWLVum6ktAYHeju3o/b+sjNKHdFt0tvA2O+xevrZU1e2rU0JZRV18vZfXt0uIMlrjIMCmrbfbJALoDAQWEMEGd5f78DtsGDoFl4YEJC5UW4ZRBcU75ej/skAUgAD9t7e0yLs0hz1w7o8u07abKgCisURZ0GiXPHJIsJwxL1hpD+g4v2VkpNQ1tWj+GatMFAoOC5Oj+8cokMY8vtpZpET+pYubHOHVkmtxz9ggXkwSQwKbmvbX7ZX5+hTJ0PU0LEwNzfOzDdDDxfF4sMMgypjMHgPWTXxwjabGeVeXExv4S4s4OUgc4L79CvtpeJZtK6l0pcwPaFTDZ1LbdXZMmnib1bgeAfMb5gRn7+IYpsrigUn751iYV77CcKpUdIjeMFsmIki6sl7tqnuuEuWMrs6GoTlKiw9TQGS9Adw/AuWv2y33zdrjS1syDThz2NK4nFeyjC3fJ66uK1LcPwMvcSTHjrfjYj8d06TJi4kK8aQ2HuhnLGRN7AGhVQ5vcdnqeAs8vtpTLe+uLVVnNsddWV0lMXIKaYmtKvBNM7q1ulquOydYXFwYAEBspwCBqcUCrnR3sSbbBfi7JPFB60l3t8fnnny8/+MEP5MYbb/TnUggsE4iAXxEIAEC/whRY6LuIAN0YfA1sSUj5cvOn3s+bDYY/c6cWhxs6Ngm+hj/1ft7W90doAjtxwRPLFKqhsqyorpWienEBPrvHnvWQ5+Huegx2WjMfmAEpQcCLqR1TM+aoUKlosHq6RjhChEXCg9vl8jHR8tzGVmVTYGJaoYU6c7KkS9+8bqoM7fQUtIM/I3zwFTfSa+qF14b3X7uCwuCgYFWCDkw+kBInPf3u2mKh7owaRWoQqbXz1Z2BhzzehtTrIXAAHHoChFbsDoA5w6IC7GyH6vUwANCGSSXkt0zPkEunDVbzcAAKwHTpzkp54qvdCkpJfwIgqIs7ZUSaq2ctYBBwtGV/rbywfJ/G2GwXVOJK2bM/1MedIM1XfO3t4RQMdgpdzN8BUXTC+ODnk3UzWLu8t75E06pxUi/T+jlk/Ojhmuo3JtSw25RTGNYLBmzFnmoFj4gsDKsH8Lvw6Ez5rxMPtjKhlRxgERXzkNRoOeuoNMlOOJBihrUPdURIQno/tSvinPMduPfTAlm2u0qvW/aTGRcuvz5lsIo5vI1lu6oUcDI3Ys81gNJ6yoB4+fUpeap8fmjBTo0NyndY1OU7yyQyPEJOGZHaxWpmS0m9nDYy1WO6mfOHvQxxAhTiHWlnB4mZvxkIao95ce3OfeD000+Xq666Sn8CIxCBvopAAAD2VSQD2+nzCPgCgNx8UdBRO8MbtD+GuL4myLZI61AH6Gn0tN7P0zbo50mtoK90D6mu2U8sk5qGZgnraJGiBpGmA6LabmJMtw3SflZak6Heu511bvwOkIt0WGlZPNZiwjqkrb5aZgxJlgE5OfJfr6/T9Bvskx1W8v8Lj+4nf/jhiC7t1PwBf31+YXSzQcQSdBSB6foyv1zVs4AzAkFK/ZxxWVor9sH6EgVePKxNvLqbKylh0wnj8pEOSQlplLd2hcn26u6taUgvony9/Jgc+WhDqc7x/fUlVq2eQfY2AAgwNTV69pS/u2DGrM6/5qyxOWot9W+dKeDLp2arutV9IMQA1BhvN/M5NbiG9eL7Rggf3BQqO6vbNV0a1MmYAeipS33xinFdwHx3sSTm/3h3hXxV2CrNHcGqFv7RmHT58aQsZeM27q9TNhhgOGmAZWXU3YBpfmdNsezB5Dk0WI4bnCjnj89UpvufnxcogB3U+cKBeGfVjlKp6QiTqQMTZEBnX2HitbW0QX54VLrWNXY3uE8ZMEi8OGe8TBqGkBcEb4OXQuynjL2St+WoHf7d734nF1xwQXfTCXweiIDfEQgAQL9DFVjw244ADyB3M1F+x96Fh9bw4cP9Stn6M2/8uEh3mWJ0+zq+/P382bZZBiNXtu+r4Jvju+udVfLOhnKJjXTIvppWZYQMPrADOtg9GDUDABzBTi1UJ3VKPZknUAMmiIsIkxlDk2VwbIds21MsMYnJEhMbB1KQ55fsUQGHnWk08wfALLj1OFWN6j6DDih1exKHb3NZ4rlu0xZZuLlIa0NnjszWvrkvLyuUP3+0VY+T41AVrB8Tw2QbUQoA5fkrJshVz69WRtOGl31uBcwEE0cP5G92VCoItWJ5YDWAFnNRxrHTf9AOAO0iwmPm2gAAIABJREFUH7OWrt95AJQOwOwZ8Mi/eCk+e9lYBVPuw12I4ekAiOOu/eVy0QublKIMCeZlI9hle1Pf2iH/ffJguWDCwT6C3gKCZcvz3+zWMgEEF5g5c82eNy5TbjzeNxPvK8jMlQ4rqNLtBtL//fYm7S6S3pm253tdUFQmexvDZGhalIzPjtf7TUmdZVJ93fT+PQK0zAkgDXNqgDOMKoygAYMwfcafkX3NmzdPDeh9dSBiOdqsoQCmY0dgBCLQVxEIAMC+imRgO30eAXcAyA0boIaHFy737i3dDmUC1CLxoARU2kdv6/08zeXrr7+WQYMGdWn1ZV+Ohwct6/bsL5WPyxJkxd46Ka2zlNCqG+hUxQJVeEBhjZIURWuyWhVrhEu7dASHSXN7uzS1UoNmreMLnABkxvSLkzNHpwstvp5atEvTdd7Gvy89StvIGfAHGKI7RkxEaJcet4dyLvpqXRgerhdSdJQI2NXX+PGd85jVV9XYlAACfQ1TV8dSGB7XNrfJvxfv0bh5AswHmtV13SogkH61MQ6RpxbvFWObaECcMmudRZD6AoSFTucmTO9hfuUj/o4yubm1Q2v8rjomR84emy6fbLK6f5DKn5abKOeMzXCloN2P0d92ZICnMx9ZpiApotPbkfZrGHg3tov8ZFyMnDehn4Kd7mriEIlc8uxqqWtoUh9DR5gFTAFusNPPXTaui7AEZpxzxjnKS4v2iw10P84HvtyhZuJ8bxhYv5SUVUhRa4Skx1pqeG33FxkqpwxPEepY/U3lertu7CwqoJDYme4t3L+++eYbdQbwFS/WIcuBCfSMGV3rcPvquxLYzvczAgEA+P087/8njtoOAHmIU+8HSwf485VW6c3B8RDkgUCK1oxDqffzNAcUfxi+0u3BfZBGstczhjnCZUF+mdzy+jplRrDXoB4K+w4AB+PoAQlq+YE1CobMjc0tIkEY51rqUHrvNvnyi+mcBKlCCuyvmzFIPttUol0YvI1Zw5Ll58fn6oN45e4qeWFZodpnwKrB3Fw7faDHFlq0lVNvt9jwg+xTenO+uluHa2f16tX6AKfGytP18tu5G+XddcWunsJs044BAXV0vOBvyVFhOvfMhAi5YEKWTM9LlqueXyXf7MCWxxr+MIhm3ngrzu7fJGtqIuSD7U16bo0yOzMuQn57ap7c90WB0CqOoS3YDDXYuRGA4rDUKPn3xaOktSNIgWBPfAd1zk6nvLN4veyp7ZChA7JkZl5Sl/Z47nG++Y0NmlrXfXVayKBWDw8Jln+emiLt9VXCS5O7YpYYUoO3u7JRbWMwjf7V25slTFol0hHmAkAwgFWNrXLv2SNk0gCrr/DqvdXy2Fe7tSMKIYCJpj0gPoEAXOoDManmGrTOodU9BcEKDCCMK6l/Wuv968udqihGucz3ZU9ZjYwakCaXTOqnL1uwqwBMtnmo4M89dsTavcaSZRCeIV5DHOapWxHr4Q+JiAwmMDACEeirCAQAYF9FMrCdPo8AgAxWrLi4WC1XuFGSQvXV0q23k9i+fbs+uDA77ot6P0/zwPMLn0F3pTEF5YhQqA0EgFLPSA0eassnvtohn2ws1Yea/fkfFxmqzM6O8kY5figig1R5+L0lEpmUIbsrm2T9vlr1j/OnaxqpZLZ98ZQcFZ48upCHpDucOdBvGPYHEIpFC8yj/t7hVDbqzFHp8scfHmBRKbS/66N8oScsywNyUP3+6azhkupFQdvbc2jWM/2fASEmnp62CXv57Nd7tGUZIJpesqRmUYtSK/bVtgoF08cNTpZTRqYexHD+5u2N8v6GEj12zwyg9yMh/f6byRHSLztH2sPj5KudtQqkAR+zhqdaptp0tCmt15R8RpxDfjN3k6Wg7jwVIzJi5L5zR2irOq3z63wx6K4jiZkVbNsv39ootJ2zNmn1KcY0+ah+nlsiIrC58bUNyhLj4ggIpJvIrSfnKsvIQJxlUqD829AeLK/sCJMd1e1qu8M6MG60E5SONokMD5PQkBD1kMSPEmugR+aMVlBH/2FEJ4A5gB/r8jcEHog7AIHGKBxQCKP9xdZy/e6QBue7wPfg6Jx4rXNFMPThxlLt5tLR3iaJQY1yy1lHH+R9eKjXoD/rkyrmnoD7AHGCsTbsICyqEbVxXrk3kB1wr9O074d+waYPMC89//rXv9Q6xtugD/Dtt9/u6gP8l7/8xWMf4CeeeEKzLtOmTZNHHnmkS5kM80aZTI9i7svnnXee3H///d1aXfkTn8Ayhz8CAQB4+GMc2EMvIwCLg0/Yrl271NiZG+XhGtQVYu/Afnrq7+fvnAzIs/f93Ldvn97Y8QJDgczDmw4U932+TbYW10t1Y4v6AQKeLBmD5QeXFuOQpnanpsJI4dKRIbJss5x76kypaBI5+9ElqnJsaeu+tg2rDfAe/VbpzrBmb5Us3Vnt9bDCgkRaFWwAGURTZ7CIxpvvtasnumqn7v44X15fsU/TegCFtk7gyJyfuWxcn7MsnEOYP5hWYtrXLI49KJh1X/7can9Pv205p1w3KUnOGh4vZWVlqihFBAAL5IsJYgMAG4QRsFoAVXN83ZlQm5cm+8vTnR9slXfXIULpkFDqOTv7OAMC37l2olcmEKAK8OX6TISNG5kmgFFPg3n99u0NsrCgSiKoG0SHHRwsiNCpIURxrv2iQ60uMu3tHTJ5YIL887yRemwvLStUU+yshAgFf9pjubpJ6lraZVRGrJw6MlX/Zr0IJSuDh9VLYXWjrNlbq+w5g32Mz47T5U8cmiLFtc1SV1Ml9SV7ZMqUKb04h4e+ClkN+j/PnDlTwTu/GzEJ1wQAkGuZa+KnP/2p3ge9+ZS++uqrglfgo48+qsdDvSAAj/unp5pj7GdIJ999991qL/PSSy8JAJB7FO0zGfzO588++6yWrgAWuTei3DY1i6iTi4qK5LHHHtMMypVXXqmiFrYXGEd+BAIA8Mg/R9/bGS5dutRltNydefKhBmn37t16IwN0cnPzljY8lP1wM4eVQoygSsOtW2XPnj26r9RUS20IQ3HjK2ukoLReaprbVMxhFygYew9SboCAY3KTxBEaIkXVjdqx43fnTpaslAT59+Jd8uCXBbo9K615gMFzP4bI0GAFZtNyk2RaXrKmg69/Za3XQ7V3F2Gh0CCnRIVZgpD6VqfafMCo4etHizkYGJTHZvDAJtX36EVHSUKUQ5czRsLMl57FMEx5KVEyLS9JRQL+DM4fD6dhw4YpAPw2xtOLd8s/Pt9u+fh1lu4dm5uoDO66fTVq2m2GYQnHZ0XLv6+Y6EqV8+DkwQ8Y5Idrw4BBmJ/elDv4MqEGBBLn0x5ergxnKFbQqMdDrJ7NAPl7zh6uTOShDuxxLvr3Ki1YROXb4bRa5zU0t0lNc4eEY2NE4IKszi/4BP7hzKEyZZDVk/v+eTuUPebFhEHnFBTcMNSkkuccbXXfge0jzctGAKaLCir12GIdIcpMs158RJhMG5wgl03J0RcUSjz43uPN+V0MQB6A6rjjjjto99Q7w67dc889MnfuXH05pY84YA3QZYyzzYqAPoDXgw8+qH/i/JNpgJ37zW9+c9D2L7zwQs14vPfee67Ppk6dquU1gEiuQcDmrbfeKrShYzBfMhjPPPOMzJkzR/1XR44cqR6qJoYfffSRsoh79+7121T/u4h9YJ9WBAIAMHAlHLER4KEIGDscLZjcD5qbGQ8D2DnSLIcjzczNnrd69oHtDOayEyZM6GIBMW9Lqdz10VbFa6S6AFvunnad7hvaSmvmkBT9lwf3gnXb5arjh8vJoy3w8/X2cnly3iZZvb9JrWQO+AUeOHrSvwhKYBLvOHOYTB6UqMKS6X//SiqhaXwMA2hIu8U4glUNS/qOOkVt7ea09gnzB0toBg+n2uYOiXIE67HB7MwckiTnjc+U29/dog94U182ODVagaKvdDEPqx07driY4t6agff2i0B947wt5VZHkSFJMiDJEhkA3HdXNKin4Rfr92pq9KwJA+S8SQO104mnwbHwoDVg0HjMcUy8JPSmAwXxtv+wj6KaZjn/qTWdHVk67YNCgvXBz0vHr2YNlgs7wVVv48J6pLCveXGtXl+mTRx/51oBHE5Oc0pcpEPVuQ5pl1CHQ8blJMh5EweoaOfVFUXyzDd7XAwgQK6srlnV7yMzYrT0gQEAjHSEKFO+cHuFsuik0Y0VjvEtHJYeLdceN0DLEHhh4Ifv4HcxAHgwdHQH8jW4tqn9u+uuu7SfOHZSTz/9tFx88cW6Gi+txOqNN96Qs88+27Wpyy+/XFO377zzzkGbp6bwlltukZtvvtn12R133KFgk3tTQUGBWmJRlwwoNAO2kt9J8zIHACLg1AyAK/ds2MdzzjnnuwhrYJ89iEAAAPYgWIFFv90IcDOBLTicw9T7UQOIwIQb3OEapHp5EHPDJOVHvaG7+u+15YXyxFc7VWGKnx3z89T2DRBI0fvYfvEyNdfqcbpw7TY5a2KuzJ6Sqw8Fbt7Ejxv23toOWbitXL4pqJCVe6q0roxtAN6Soh3y5x+NkKmDknR59nnn+1vk9VX7vYYC/AJwZOCNRxq5utOwEDAIggWUNqgIxQKIYdrfN0iNfgGK7BtQoC3gdFtWHVt4mCUwAEBhRj19cJL868IxHudiOsHwsoDSF8uNI2kYZTegDqDhTx9o+/wBjYYd5F9ehgw76Ks/LTF+YelebZtHHE8YmiKXTsnW1nzU2c3PL5P/fT9fmUDLboa2fwBAS138xMVjXF0wfMWTFO6bq/frfrimJg+I15ZzxuyZ7c95eqWqe+nsYUZFQ4sCzVNyRPJyMiQ6Klqv2Z2l1eJob5JJCQ3KfDojE+RfK+qlqskSblB7uqeyUQH0uWMzlAWHUabd2/FDkpV5fmzhbqluatUXEa4vjl+FU05Rr79bT8rVsgnaRwK0YeC/i8G+AVq+6vSYF6z2ySefrC8GvJjyUgBja7wDKSNBWEZa1w4mf/WrX8n8+fMF8Zn7ILakdi+66CLXRw8//LDceeedWnPNtqj5Y9uZmQesfWbPnq37JuUMIGUbgFj7IOXMduhfHBhHdgQCAPDIPj/f69kdbgBo9/ej/o50rKd0TF+dBOprSktLtdYPltFTfRog7Y/vb1ZGBLbDE2vHfGDfqGuiM8esEWkKor5aVyCXTMuTaYOTtJaHdDM1jZ4Y1E1FtbJ+X436wqFoRZUJ+AOw8JCBuTn/ieUexCDWvqPD6diADMACgAzScmzHzm41trRZPYWDRPAp7HAGSRNt6DprB01ssTFpbu9QQYmdKeLhzvjwhqkHtV0jdbp27VqtPQLk+vJSM/uh08jbq/fLV9vLVblK7E4blep3mrkn1wLXF2wK/zI/97ZqPdkWy5qXB8MOwiAjGgiPtUyHs1KstmWALvwJN+2vPdBVpNN/8IUrJsiawmpt2Uc3luW7ql3FAZ0timV0Zow8dZElRvKlKobx/NXbm+Qbbe1nsYiAftL5D1042iWseHFZoap4OedcHyieqc1D7Xx0QoPk9MuSyEiLNc0vrZcpAxPk+LxEZa8AvcsLSuXdgjapaGU+IeoZOCA5SlPA1JaqJVJqlJw+MlUVxLSEo00dl2VIZ/lAJAx1S4dMHZQg/3Nqnl73fN/ZB9+R72IAtJhDdyloUqwANdpderpnBADgd3H2/v/YZwAA/v9xHv+/PAoACQ/PwzGMUpSHMgwAb9WkaA8HA2hSlBju8sD29cYPO3PDK2u0d64xefZ2/DB49KJFpUq9U1NViVw5NVsqiqxUtr8iCGUZO5k/u7nzTa+vlwX55ZomhE0BjJGy5cEKyMMK5IxR6ZqeI8X3l0/ydap2AAgwBZBgoGyNDmlug3m0fgAN7BOmj+MNx8/Q1vEB9gag8drVR8uQtANCA8APDCcpdW8g16hi6f2KEIW0Z21Tq9Q3tysCtSQsoq3a/n7eKJ/t5np6DZo2hVxfML2Ho4xh5Y5S+csn22RTSZO2uBsUFyzXTEqWktZwuX+hJbwx/XmVZXU6tf6NtCj+fWu3FUpBrUhNq9UqkGUHJEXIrOEpcuWUfrqcL2Xx/Pxy+Z//bFFQZwyX2Ud1Y5v8cEy6WtnoGXc65Y2VRfLaqiJV88Jcnzo8ReIjQmXJph0yTBnASLVhiYsIlXPGpUtGXIQr5CqQqG+QNTv2S1lFpUS11kpjULg0hMZIeFSM5GYkybCMWJc3ICn3v35aICV1zXqOla12itr4/O/pQ7TvLwNRBd97u/VTT8/zoSwPcAMEwlz7GnQLuemmm4QshScAGEgBH8pZ+H6vGwCA3+/zf0Qf/eECgLBwMDMIBUy9H+kVFHknnnhin8bEmBGT9iV1B4sDIPA2SKnd8MpaWbazwi8PPx5uIUHBckxuokyPK5f0iA4ZOHSkZGVkqDlzd8NeG+be1o0UNCrezzZbaUSYORSfiBxIFx7dP6FLbd/PX1krXxdUas2f6WCBoCAuMkyeuXSc7K9t1jTgT15Yrek/BRgdHQoyAHktHVbtIGDSPOiIB+t/cuNUlyoV+wzAH6kmBB/u9ZrYmjw0f6es2mMpmS1w07XfL4DUYo8sYAQApO+wvwMl7K6KRgXgpCHtw5iHA/Ypkrd3fsCLDnZ3REasMmUcO9Yu87Yi/hBNY3Iuu1Mv761sVIYWcG18COFjAdA50U7Jr3JqfA8A+iB9SaAjyJQBcVJfWSw7akMkMSFOIkJDdDsNre3qvcd5v3hytvRPjHC9GBiVsTlOjumB+bvljVVFKtywD9ZH2POf6yZ1+TsvEABAQB71eZhB//vDryUoLkNCwhxqZI0C2LRk83YueCn8emuRvLt2v2wra5ToUKcckxMlZ4zJkPTUFH0pWFdYI2+sLpL8kgY9x9T+XTo5W4akRbs2S/oV/01Mlrn+qBtEfMSLzbC0aBWtHM4B+8d9wdf9gP0j1CDdyguqt4EIhBdLrF8YnC/q/G644QavIpCGhga1bzGDjiTMxS4CQQBCnR+D7x3fOXcRCFY2xp+QGsXTTjstIAI5nBdOH247AAD7MJiBTfVtBPoaAPry94MJoFPHrFmz+uwgYIFIxfKw5C2fN36Apr2o2n1nGDH/+cOtkhQdpoxIcU2z1/lQQwcApH4O0mx8YrvUBEXJvjqrlRtKyl+cONhjOytiYcAfO/DV1q20rllKaloU6Lg/7O2TA5Rc+9JaKaxq7ASAVsrv3nNGaprZjHs+zpdXsIbprEFEpQw4AKSRRkY1rOnETgPkm07MlSuP6a+rA955EKKkhuV0B0qAv2teWKMPdHv9pLtPn0mhK/vY3iFnjE6Te84e6TXWgBplZVs7ZFFBhXyA/197h+7/uMFJ8ucfDZfEKIemFI0NDUX0Zn75JXVyyxsbBB890uacO0QWgMH3N5TqsVsPbqecOjJN7jlnhM+09L2fbJMXl+3V+j2zDz2nIgqkiqqbFUwbf0CWoZwgNylc/h975wFfRZm18ZPeO53Qe0dEESzYsGEv2Htb27rqrq77qaurrmtZXXvvDXsXFUUQpSiI9N5CCySk9+Tmfr//uXnD5OaWuckNos77+/ItJnNn3jkzd95nnnOe5/RJqpa4+ETJq42VuOgoBWOkxrkOo3ukqXIbAIhS1gxfNjNPfb9J3vw5V9LjaT/YcAIRop1haEf3ziXBTYupURs4dKTEJybqy4RhLAN9CQH2D3yzToEqYK2yuk5q61wyuoPI+HZVkpiYoL55pMVdMUnKKPtqgUc7SZ4xXXv2kcnztsrSbaXKRHMmCKtQGJuuIWF7KFh2hPUULwvBGEjq7Z577jntGuJvsA2iD+xYAILYwLz99tuyYsUKVe5iEUOdILYuDGr8yHagMqa93OTJkxVketvA8HerDQwlF942MLCYgEZjA0NK27GBaYs7Jvz7dABg+GPq7DFMEWDR4aESjhGsny8pRRajI488Mij7Ymc+vNkblsqwQKScqGkKpDp8fPo6eXv+FumKlUpZtRa8++pQZtqSqZAjwq3txMwanNJQbA/zRSrt1Qv3VqGHGdaUL78Lp+IZJmnq8jxZtaNMa7SOGdqxWe0eCtCbP1yu6WWAGufAPO89aZBMW5kv7y3YJhU1dZIaFyGHdK6XgzpLo00Oiw0+ZSxqvga1b/M2FjUyfr76IZvPkbY03nKArvtP3gUA8VBkLpsKq2R7SZV8uDBX69YavJYVJADitE9zhGha8YGju6qnI2blVrNvzveoR+co+0Wq1rTnM+48zMEAQPV6dLvlX8cNlJNG+u+re+5LP8svm4qbqYkBs4AXVLHsF5aT+jyXKoFFjunmko6JEbK+MkHK6qOkqj5KgRd2NX3aJ0pMZKQg0Ni3Z4aygaiwfQ2+mwtyiuTP7yzVdDrelAZMs68LxmTL5Qf2CPpVoRcu7JVdcQyxueWTldrVA4bSAE9q/3h5uPvYfpIaUaXiDr5rVnNlQKG1ThQbJj6/vDJVvliWJ90y4jU9XaeikirplhEn1x7Su0k/4aAnFMIGpHR5vnm3n/TeBWrbjz/+WDuBBBpYwBgjaF4yH3nkkUaPw4MPPlhrj2HvzECpe8sttzQaQd93330+jaCfeeYZfbGhPhqhiNWMGiUzLKPVCJrjtrVtVwhhdjYNEAEHADq3xx4bgXABQO96P1++atTRTJs2TRlAit9bM/DAwlaGByVpGLNIkfKhkBu/Ln/jpVkb5cXZOerFx4K2YntpQ5rSI5ww/Tm0vqsBLGB/RlkbA0FGSkKsR11b75aSqlr58yF95PwGBs0wfyyMNL2nPRtpTH8LfWviEOyzq7aXyfLcMmU79+uV0QhmSFWWVdUpawN+YfFhsSYFRSxJrRpbFCtw4NxG3fOdxsukd60A0JsFRHACoEMhCoN33DCP0TipwEtfX6jsK6ls0yOYeO9y9fMAQNOijWNfP9wtE8cObWa8+9HCXPm/j5fruVgZS9NthZS59fcud72CrxfO9V8bdt27S+SbFfk6B+vgfMf1wTsxQgH2ruGW7klu+e9xvSQ9PU2+XLRJU8/riuq0fWDH1HiJiIqWxbkVet8AaqnlnDi0g9x8VD+fbCTn/MSMDfLGvC3KojKYzeBOSXLv8f09jF5kZOMLhveLBp8HAJJ6tCPgYf8wpldOXqLMt5XVY190/aBH8+ED2+lctHawrEx25OXL7DV5smhbhdRFRMugzqly+JDOUlWcLxIVK2+tdun8+R6YwcvT5qIqufyA7jK4c9soy6kJZvDCEGiQ1kXJ68vOJdh3zPm7E4FAEXAAoHN/7LERCAcA9FXv5+uEAURTp07VGsCWGO+yT+ZLygVvMd7AYRysgxQwIDBQ5wHAx9WTf5GyapeCCxg11MAwTR5zFc8gvUftmrJHkZHKWoAFqPtKiotpFFIUltfIEZpSHOJJiaoJb6088M16+XJZni58gKWR2Wnyr+MGNGPrfu2bg/mS8gXEk0YHKHFNYXhgH6j3wh8PQJieni4H/HeWCj3U0qSh/s+cAylnq6UOIAnAMqp7mjx91ggFzcTo+Cd/VFsR0CFx99fjl896BBUeq55bJvSQM8f2bhayR6evl+d+2Njs9/4AIC3qhnROkbcu8W9QjFr8qsmemrAGEXbjuT102hA5qG+WWrPAYpZVVEq3qGI558CB0rPbrj7UgKk1uUWycnOerMktlo9WVYrLHSGJsdRiRgoe1uC66w7rLWft49tYm3j9vKlYpq/aqd5+e3VLk0P6ZUqMliZ46jv9CUn4OwIH7EbsKqQ5xp/eXNzYz9cEFf+/rSVVcuPhfVQFbwbHptyA9m+1MLj1dVJZXSvtY10ysZtL0pMT5OPNsZKalCiZybsAIJ9bk1chF4/rpufUFoNnBTZQlAoEGqRhSRe//vrrbTENZ59/4Ag4APAPfPH39FPnIQwz15IRqN7P1/7Y/ssvv9S6GNODM5TjMk9qv/hff35vsH+YuvoyfiXd+9niXJm7vlAWbi6WggpL6tvtqaWj/i45LlrNhWEoSCYaLz3Ylp1l1QpIUuJj1XOPc2KRn7R3tvxtQp/Gmr8Hp5Fm3tZgk+FR4MJy0f/1hXPD354tlDhat6VAn5gCcAHU3p6JpluCAYQAis+3xcuX66o8nS2oe3PVNwIjkzYnRtTJwSDRP/a0UV0aBSbE/uwXf9ZpGC9CfwCQbRToNGzw4nl7yege6c1O9+NFufKPj/wzgFjkWIUi7O7Csd3kusMCA4OnvtugfZvN8WHtLh7XXa45uFcT1hmmCaW06Tbj63rQ0eSJ79ZLYjRpbU99KAC4yhUh2Wmx8tbFo1r0vfBlQm0FZz/88IMceOCBza5toHvm6e83agu7zqmxet24d7cUV0uHlFj53ymDm4g3aJt39xdrJDba43fJgCXdkF8hI9Jr5KjecfL+ikpZV1gj2anRmorm+19eF6nfi2sP6aX3SlsMygXw8iM1G2jQgg3BBqlYZzgRCGcEHAAYzmg6+wprBFoKAIPV+/mbJAo20lGh1q+UlpYG9d3jmLSeIpXp7TW4s6xGbv1kmazZUa6AJbcU0OvWAn2sMmD2ME7GELmoqFBTk2XuOCmrqdderKO7pUthZa1MW5En0VENC11EhDKH9Hh96qwRmpZjYDB93JM/SVUNXTvqtXOCGbCKz5/rG8SE9cLa2BmpO2ooYfUokg9Wp8i9Qop4w5btcsvUrbK+GD9DT3qUMxyRnSaZiTEysGOynDqqi1+m89uV+XL1W4sb07Wkh03dn/e02TugC6BI/dz7l+3js34U1urox+ZIQXnTGkD2R80ZiujG2sIIUQXtu5eODtj9xMwF4Q12LJzjgX13dSEhHqY7CswpcQw07p+6Rt6ev1VfMDzDw9whDqH387/2rlNwZEyo2V+wa+J9PMMIGlAIg7tkyRJ9IcImx6jQg+2XWsr7v16r5QMmPd8uKVauGt9TO3xYB23k6CXcq11ik2uzo7Ra6irK5KZDusrSklj5Yul2qamtlZQdbJ82AAAgAElEQVToeimtqFbvynHdE+WUUV2VyW9pViBQzBFUUM5grRf1tT0dOzA4f/DBB218c5xNnAjYj4ADAO3HytlyN0egJQDQTr2fv9OgyJr6PAyU7Q5ECTzIaZZuVX36+jxF6bz104TdOl6fu0lenpMj2enxsn5nhap/YfZIEWKbAvNXVFEj/VLr5fQBsdKj3yDpnJmsgGL2ugLZVlylbN7Pa7fKygKXeDTAHjuVKw/qKaeN8ogJYMVgRM58Yb7QGgvsZ60gA0QcNbi9PHiqpxn8rzUABtj0sDAGi6mvOZLWnrp0m8xavV2ktkoGJVVKj4y4xlQxi64/kEFbtwmPzFHwo+3oGlq6meN41wES9wGdkuXh04Y1s4Oxzo3U/g3vLdX6QvZJfd1Z+3TVH5i8qSvydXM8CQEyiIBaOpg73Rm4N2Gj7XRHoU7xzimrJDEmqtEPUWvoqutkn54Z8uhpg5v0KwbEobKFVQQg2U3hmnMyam7q3xD0+LKZ4Rot3FKqbB+m1Z3S4uXIQe3l4H6ZyuLNyymWTQWVWmuIfQydQrwH4o6X52xqBgARyfDCkJ2RKOX10VpygeVQWkK0tpgb1jFO+iTWSFFhgfCCRww5T354PgSz6bFz7XjB4dzpuRtoXH755erp+a9//cvObp1tnAjYjoADAG2Hytlwd0cgVABot97P33lQj4QpNAAh2GBuqPhgWUivderkERAEGiiDATYo8qzj+ncWq2oW4cfK7WWSV+qxfiG1R30ewg4WyBEdY+XFS/ZvIlKh/gxWD8C4duUyKayLkW2uFP3vsb3TpX1STCOzwj6xzpjwyGxtzWUYLH7vUZ+KetN9fe1Yi3FzsLMK79+pk/xhwXLZFNlB6qMTZFCnZBnfP0uSYi1WIyEekjpCQCX3Bz/EkoXcsFne7M4/P12hSmTiAcPX0EVMjwqpmBYrcuKAJBnWr4cqbkmd2wEE3DOwVvjfDeyU3ESZHeIp+d28pa3nYPrOfXGBlhdQPwn4RQmNX+KDpw6RsQ3tBvVecbsVFBFLXmoAUgAkE89gAIlSCF6ErGpuq82MqRukp++jM3KkorZeWw1iFM734Zx9usgZo3fVMgaKHSr6O6d4xBamnzQvCGvzKqSmqkI6piVK745pep1h4strXHLJuG7qcWkGZR2cJz/cR1xrwK8BhN6lCXavJf55vOT4U7Sb/Zxzzjmambjpppvs7trZzomArQg4ANBWmJyNfq0IUAcWbIRa7+dvfzNnzlRTWBayQMOaYrbLsLA/FkraOh122GFNdn/zh0tl4eYSZQDxicspqPQwc4g6QBzueqlzR8ik0V3l9mMH+Z0a6TSYGNgCa1s3b3By8asLZPb6okYA2GhHEomdR7R8etW+0t5SEB8s/uH4u7mGH87PkbfXR2mNIwDYqHg7psbK3t3S5bCB7eTg/u0aa/ZCPbYVvCAkAcgAWIyQhPQ/x8RI+s2fNisggGE6Z99s2bdznKxYtVJG9+0iAwf4buUX6nzCuT3XHDYa/0nuy1BZua3FVfLfr9fIrHWFCnqzM+LlioN6ymEDAhtkA5BMezpAEswd4IiYApSsAIn+u7CTGA57f88AZj9tLJJFW0oUZE5fma+WNJ1T4xoB9s7yWrVleeKModLO5j1KDeaHi7Z7TLMV0Yskx0fJzsJiGdY1XRKTdvkdrs8vl72y0/xa2ABU+R4bQEjGwcoO8m87LwNc9x9//FH9LIM9b04++WQ54YQT1G7FGU4EwhkBBwCGM5rOvsIeARYXoyL0tXMDxjBYZtELJX3rvT/MUUk5Bnojpxib1A2LGsKEUGqD/JlNI/54dPo6yUqM0bTuxoKKxsL+qAi3LqiIOk4e2VluOWag3xhj0Mq2AEDT09fXYvT1ih1y/bvLFOiYFDDCCNgVzIynXD2mmb9c2C+sZYfMlbnnbC+QO+dHqN8eCIS6R1+DeeLZNqZHhhw8IEs960h3t2QAlqzghevZCAZT06S0pl7T8MWFBQquuD8woN7TBn5y3Jdcb1+CmVDmC0NJ3WLH1DhbxszWfXMt+S4SUxhCvi/UCwJymCMqeOYHMLQOAD+tBL9fW6B1qdybzIN6yJ5ZCXpePAeokd1eWiO3HNlb9u2R1shuq+inoe+v97ka5hW1cmVtvZo7w7K/9+M6GZqdIfEJu9LtW4uq1MT670d42tgFG7ygWtlBLKQMO+gNfr33hfE8nWy8Y+G9Hd6kl112mVxwwQXBpuP83YlASBFwAGBI4XI23t0RCAQAW1Pv5+s88NoiJeOvJocHParUzp07q3lrsGJ172OwGH733XfNzKbp//sAzMvaAtlZXiNlVbWNwIx0XFxMpERHRMrgriny+BkjfIIzFjlsJWAn8B+EyfI3P5iWM5+fr/WA+Klh+YHYAeEn5r2XHrD7AA6ggLQ4QH59ZBe57+v1qtgsq3L5tV/xjispcnwMaaO2f99MbbPWEkAIg0aa3qiKmRuLMwIF0pakLO2k+nf3d8T0HcZLD2attT6W4Zw/BuuAwZycHAWDAGxesACElFqYuX66eLs88u06VWYjjAEQLs8t1Xugb/skbR/H4Pco5O+Y2E9GdEkWRDBfLM+XxVvLVClPV5YjBrVTK6RAY876QnlwymIZ0CVDkhsYQLV+2VEhRwxuL5Ma6mZDiYUBvwYQcr68kJpUMd9J6wvZ999/r+UjaWmBbWYQjaEEPvXUU0OZjrOtE4GgEXAAYNAQORv8mhHwBwBbW+/n65yoyWFx8lblsTCwgKHgBfgFU+35ixdsAca3RxxxRDNwBrMxL6dI3p+/WWauypOsBJEKd6yyYdTzlVd7GJkz9smWc8d0a1xIUEH+tKFQNhWUS3JUnWTW7VS2yjBZsFm+RA8snLd+skLbX5FqJa12yl6d5c+H9ArYgiyc9wLgANYK2w0WwjfmbZP/TVunoJRuEi0ZMJoU8l8wtrtcsn/3kBksc0yTKsZChbovhjVVHEqqL9TzoB6Pbip0IaEvLj2K/QFaQAbtu2DZrH2HQz1mW22voGrNGm2DCPNnTRfzbwA2YPCRuUWycGuZ1lR6hltfUFD8dkiOlR5Zieq3uK2kWrplJMiTZw4XWhTe+fkq2VJUJUmxkSqa4uUGZvDP47tLXExTI2rrOZIO/scbP0ihJEv7tAQVUZFe5lhXju8h2a0Q4ZjjAMwNGOTFArBrwCDnjQUOPXQDuQ4QP7ahu8bRRx/dVpfJ2e8fNAIOAPyDXvjfymnDwqgnmVkW3G6hiTs/2IMEU9CFcp6AEcCS1ZfLpCexcMFOw45AxN8xOReUxocffriyStbBg37+2lz5YcEy+aUwRtaWiNYsJcZGC50xYEb6d0jSRe6vE/pK3w7Jagdz0wdLZEWDHQblgr3aJcndx/WXJHdlM9GDSW2amixjdovCuHf7JJ8qylDiF8q2pAlhUwHcpMFgRqj9uvCVBcr6YI3S0kEcSBPTxuuicZ4ewqEOw6jyosF1B1CzmBvhA9fPdCNhMQ8X64YI6E9vLlJBgulmgr/d3ccPkh3q8+hhubBrMfZDMNKoae3WnoUai5Zub9TIfHcAMXjeWb/HMPgm/f7fucWytSJSOqbEanlFVFS0VNfVqygKg27S8NwX2L3cdERfGdktTc21P1qUK70yExstf8qr65RF/+thPWVUdqpfE2rm8dnX30leQjdZnlet3od92yUq2G6L/r88R+hoYwAhLz/Eh05BsMrExtf1Yxu+H7Rt87aPaul1cT7nRMBEwAGAzr2wR0fACgDDWe/n66RJRfI2bpz5YewAhTy8AQEtMYi2Hof94DV4yCGHNCnQxwT63s+WyMKcAomIjpWkhHjZUVIl7ogIZX4AAD0yEzU1tiavXBnAwwd1kGvfWiSz1hVIclyUMniAQ9S9Q7ukyLNnj2ismyItbBSwLLqAWMAgP609p5bcPAACBCvE2doqj8Xur+8vUz/DGhddc1s2tE9vVISChql/HqsAItgAAMxcUyDTV+Ur09Q9pkQGpNTK3qOaGyBzHU2qmLgaJssAbLttzcycAC2wWHg6XvzqQq0B1VZ/EbShq9friihDbQ0jIiQpNkpuGN9V2lVs1JcVfvY08EeMaIdInAB/we4zWiC+NCdHMmJF6l11Ghp3RJSU1EUoKOuQkiBZybHqdWgESldNXqQ1szDj1rE+v0JOH91Fzti7S6P5uS+bGURfdOWJiInTa873a3fFkXpgRCB8F3kZAvQadpDfmRdEvhPZ2dlaOgKDanfAWl9zzTVNevQ+/PDDAdlGGMsbbrhBJk+eLDz7qD2k96+1JppMyBVXXKGZDJ6V559/vtxzzz2N833//fflySef1Jc79sFL+u233677csaeFwEHAO5518SZkSUCBgCGu97PV5CNihY2hYeyYQSp/QoHw8PD3LvbCAvT3978SeZvLpWumUmSEB+nad8V20olPSFaxvXJagQwpGrxkbtoXA/plZUgZ70wX0EBC5dx9KOeEINnWpv56mEK82DAIIszzIMBg8HsO8JxY7KAkBIkph06dGi2S2q8XpqzSSbP26IMZ0tAIDiJuklA06dXjgnoz8cEaL329w+Xy1fL8jy2L/Ue8Dm+X6Y8dNqwgIIYNUsuL2+sG+S+YWE0YNDEFIAHwJm5ukASYiPl2KEd5fTRXYUOHK//uFnFCRwbAQSCHGo/dW6uegXDDGodud4AwsgItzx+Qg85YFjgbiGhXjPOZ/HWUpmxKl8ZOOxQDuxHb+HgINoci3vatO8D/NlRI8PacQ3W5ZVrDaied51LeqW4ZVKPWmmXkdpoM2PS7397f6mq5q2eicwfL83z9+uuJQ3WOfE3Y0INe8r3e99999X52TWhDjWe/rbnuQYApfMQw8oOAsRI6dNTnHITtqH8BHGX3UG6mJaUTz/9tIpvLrzwQvU4feONN/zuAmD32WefyUsvvaR1iaiOiQupagY1soBQGMv7779f93/eeefJpZdeKv/+9791m7/85S+aleEll3N48cUX5YEHHtBexrxEO2PPioADAPes6+HMxisCPLwwtIWd400YgUOo4gu7QYWxYPDgMgwVBs/hZAWs3UZgNL+c/Ys8OrdIImLjpaDCpele7S1bX699WFMToiU+OlKtSEj/USP1z2MHyJbCCrly8hKtfYqJ2qWApSawuKpW/nvyEBln6YnqKwbE1qQ1ScURVwMGw5nW5NgmHYiYgoUgWOE7n8Gz8Mtl2+Urivy3lCi7aQcQUjMJUKKTyrTrxqqHYKCBTcgtH69QABbhdntAoNASTeS2Y/pr5xC7w3jGmVQxMXUlZMitM4qktNrTG5fBPQWzC8j1tK2j766npzDH55rze8yJTas3PPkAfi5ujIhIOXvfbLnRplrVzvyZ2xPfbVBAaux3+Bwmy/edNKThRSPwnowVDewPqvxQVPL5ZTXy8aJtMmd9kTKg9DM+bnhHiRFXE6U2L2Ok3xcUxsjbiwulY0qctn9j/jtKazQdfPfxA6Vn1i57F+usYcTnz5+v7DMAy58JdVs9Z5gLIA/XAYCS9/OFuk6+l3fccYd88MEHClAnTZokp5xyinqI0pEl0OA5Rj0ollOjR3v6SX/xxRdyzDHHKKj0VTbDiwvffQCiEZsgKsMWC7XyfvvtJ1OmTJFjjz1W6zkNK/jUU0+pPyH3u79rDQt4+umny2233WbnNnS22Y0RcADgbgy2c6jQI4BnGIX44a738zUTjgUQgiVDTemLoQr9DJp+wnQb4WFJ8f66EpHnlrq02N0MQKAxH4Z3YUGD/YHpG90zXW49qp9uOun5nxUgpMbvUjzSuYHU4ZsXj5JOqaagPvisTY2SYQdZwI2XG4utHRbH31EABTBCLGwwCMEWMF/7obgf4coP6wpl6vIdsnRrqbJmvgChpnzdbgVutxzdP+jJX/HmIvlhbYFEAvvUTsRjjgPTRm9f+iO3ZJiY3vH5apm2vkLoK8L++SHljNuNspUNKWrOBdaNwe8AQXRsMecYF4UVCi3uolTsMGFQBzVpDtdYsKlYrpy8SOdE6QHzhJGtqnNpRxmENYEGLzSk/gBi3lY0MHWk1wH11K+O75dlC1B6H896n27bkS/vrKiSdeXREhEZJZFR0ZKeGCtn7tNVJg7t6HOqAB2+d/jvGTsfqwm1LzBorlk4ASGsMQDN2xTee9IbNmzQNDVm0FOnTlU1+muvvaZg0N944YUXNJULw28G14bSBGoJTzrppGYfnTZtmvqT8hlr20BiBKt33XXXKYD7+OOP9RqbgRE+sSSmvhg+4kmJwo033uj4GIbrixrG/TgAMIzBdHYV/gjwxgr4aI2/n51ZwYbxpgvwoTdpqP2A7RyDbaidIZVDGpQ37rQuveXEp+bqwg/AQ/gB+IMFBArAEvFvxn69MrQ1F6mtwwZ20BZir8zdpAs1jBH7wM7lxBGd5KYjPCAx2MBr7bs1O/W4dLSg8wbDpDUBhDAmRgHLnP0VrPs6lqmjpKaJList7ZrgvW9AMqwgdXvY59BJRX0NIyJUNY1Q4j8nDQrK/rHfc57/UX7ZUq6pVwP++D3gZ0iXVJl88d7Bwhjw7+Mf/EEKymu0LlGBvfYXdqu5N2CLlKfnX+JhgBvq/TgPk/7lRQCc6AEhMMQey54rx/dq1dysH/7v12s19Y7lipWVKqmqld7tkgLGwfgQws4B/qwlE18s26Hq7opql+dwEaKCpntOHNRqw/GSsnL5fvlmWbKpQGqrKmRgu1gZ0t1T3+qtfifNStrX1J76CxygxRipm2ul027wGgzkOWj3YvCdIqtx4IEHBvwIAAtgBbPMteclFXY+0Msp6diXX35Zt7UOPgOrSKrXe8D8kSb2Nt4nRQ5Lee+996oX4caNG7WMxQxe6ngefP755z5Vyvfdd5/85z//UYuqtnihthtvZzvfEXAAoHNn7NER4M2Vh3FbDsAOb7AM2CnqltpqwAByPqSyebum9mniY3OkoqZOGR/Pgu/x5GOQAsaioqbOLUO7pkhKXLQM7ZKqXn2kDF/7cbO8u2CrlFTWqTjghBGd5MKx3W0JH75ekSd3T1mtoJLB8em08c+JA5q0gmNRMMa+pKaiY2IlJaOdxCSnywfLSoSWXXQsOXxge7lgbLfGFmcUups6SlJJhZV0YpA2URvDiM1dXyj55TUysGOKtlqzM6hjeujLZfLFZg/jBnvKYOEHZGElc80hve3syu82hz88S1O9pq6PDQEZCJ1VsNJQXmfaznELIGAxXUgAjwwAoX6WThZxUfLB5fs2E0C0ZqJ3TVkl9ARGcW4d3B+8iHx8xRifuweckFI1dj5W8IdVywUv/6L3N716AU9cK+570rs3TrD3omLnvKwt/7hfeXYYmxlePGg/R31vKDZOwdhBwwqGyg7CtJGqpcVboMGcsY0CvP7jH/9QIBZosE+EGHsCAARUUh/40UcfqfOBM/a8CDgAcM+7Js6MLBHgoc6DvK2G8RNkUWABQ6Fq6mbCeUwABals7GtgAE1BNyncSc/+JDtKq3VhpAODhw/ypAgTqfGLjJSa+nppnxyr9h8njuis9V9mwFQVVdaq/x11b3bGtuIqOf35+ZpiTIqLUiACg0ja86rxvtN9zPWZmRvkg1+2KWikNyuDJhyREZHijhBlip4/Z6TUVpTIt3MXSnxmR0nN7CAvztksy7eV6vYA2OsO6+1TpGJn7uHYhusBm8H16NF/sFz94QahFVqTGr3kOHnz4r21P3JrBszaK3M2KdozAFPr/ZSxFInStLBbgR0MYUacW+47OEXSM7KkvKRQZuVUyMc5UVrf5mHPkuX2iQNkSJcUW9PinmK/HrGQ//HZku1yx2crNf1LvSmDVDVp2xNHdpL/O6p5Op1aNsBfZHyylMR3Em6JEV1TJTvD013jk8W5cv/UtXrvmnPn98WVtfqS8d7lo23fs3ZOlv7Fy7eVeTqZJLgloqpE06a8jJBJoP6NkgZqUFtS2xsudpAXKbIApHcDDcQT5557rtbdAWr5XKBBOpYU8a+dAkZJfNFFF2nKeeLEiXYunbPNrxABBwD+CkF3Dmk/Am0FAFnoqa/hIWzqC3nI0qoq2EPZ/uw9WwJgaSPGIsSiA/tniqhJvT42fa18sihXwV1FdZ0UVdUpGGTRpu6LRTWGPr2xUarGvPWY/nJIkP6sweb48pxN8tj09cokWRdCFvuu6fHy4Z/2bbaLv3+4TL5ekS9Ag9p6twJGgGNSbITEIE6od0tNfYScMjBRlueWyarSaBU1oGrmMxwLBMMiTWu7jIQYKa12yZDOKXLh2G4ytnfT9mDBzqGlf+fao6o0ghTS2zBVz/2Qo0pgNMCwmbB/odRR+psPYOeCVxbImrwKRXja1kxEjhnSQXaWV8uPG4oVaPF7+kE/cEI/Sawr0fuTewdWOqtde6mITpHMtFQ1RbYDXqi7e+Tb9WoVRGlAdlq8xhiWd1S35gCI63LFm4tlydYSz0tIgzAlMylWnjl7uFoRWQfpP8DfmqokeXdVjRRXekQ6CTGetoV/OqinvL9gmzwyfb0aLHvfZ9w87106WgUc4RjLtpXK87NytFaU86U2dly3BOnp2iL9+/XV8gMriKLGFTDIT0tKE4yi2PyveXngXGAEzY+vc+NFE0V8sJdNavMAc7w82rnmHMuIQDC2N9kMxGdHHXVUUBHIm2++2VhfSAoZ43tvEQisuUnnPvPMM/K3v/1NX5xNnTD7APwBAulh7Iw9NwIOANxzr40zswbrgXAzgIBKUiu8TaNUNIpUAAGMULC0TCgXBkEJ6WXTO5h/oz7Mat9R3vxps3y5fIeUVdUpIwKogg2CaVNw1bAAw5zEUycWEaHMzLWH9pZT9rKvTPU1X2qy3vhps4LOJot6jUsFCDOu37/J71dtL5NzX16gQC4+JkoKKmrUsoQFH7IIg14AK6bS8VFuqXJ5UpaA15qGDH5iTKQeD5Uy7CF/p30XwJHzuu+kwXJQv6xQwhvytubaYwNCbVVLBCkhH5Saypo6+Xjhdpm7oVDP+chBHWR8/yxlxQAuGB7jZzemZ4a46jx9famb5OUE4YJpT8exjTiH//UHXOh1e/aLP2tKnOsCS2zEJBx/v54Z8sApzZW91Pu9/uMWoW6vurZexvbOkPP369ZMUcvLDODPldhO/jO7RBk3+vaSpS6tcum9fPOR/dRU+erJi7X+0dxrAKXtpdWyT490efDUoS0JZ7PP8P1ByZ1bUq0vMBxve2G57Cwuk4vGZsupY3exlxyflGrujnwpKsjXeleeAQYMerdsszNBY1Zvt3YQEMUPz59A45NPPtG0L/WCoQxsYHBPQKVrbGAAm8YGZsuWLSr6eOWVV9QKh0FtILV82MDwUoSPIAO1MsPYwMCiUtvH8xJ28pJLLmm0gWH/eAPiOXjyySc3Tpnsih3lfyjn6Gzb+gg4ALD1MXT20IYR0Fqp2l0K2dYeyvRNZT8AAKtpL4ssb73hctynzoeFHLaPGjgYAZR/dG54b1W1fLo4t4HVo/dtrdb57d/Qy/STxdsFVWZ0dKQg1KAVnKqBIyPkqCEd5LaJA1rc5oxzn7J0u9z2yUpJUFZxV90bjBzK16fOHN4k1NSG/evzlVqDCBAtrKjRdLEZsERSXyclVfVqYE09IrVtxVV1mspmcJTUuEgpwQ6lwdeOejMW5LIal6Y237xolG2mI9R7wfQdZiEz3T1C3Udbb29eGPC6wyvRWltGnACDph4T4IJi03QksXbaeGrmBnn2+41aC0p9qFUtjdiFesfzx3TTl4lQBwIGXmQom5i2LVp9G9snxzS5bnmlNbJXtzR5ZNJQuX/qGvl8yQ69AWCwYRph5/59wkAZkR24D67duU1bmS9PfLdeWUrOrbqqSkFeWUSCDO6aIXceN1B3RQzpAzx99U7Joy4zOkK6p8dJn5R6yZRyTbmbLi/EFZDdEg/QYOwg4A+zZoRRgQYsGl56BoTZjQf7xscPAMk9hGqYdnJG3Aa7jMUVojSjRDZG0DB4ViNoa/9ryiYAitOnT1fxB2APkYcxrmZfM2bMaDZNtgNYOmPPioADAPes6+HMxisC4QSARgXIgx1mxbtwm4cmqdpg1gx2LhJv2MuWLWsUe5jPwJq4E9Ll39/lq+IT5qKsQR0JDuuSFicvnzdSPlq0XV6evUkBFMIQhCAGb1FM/9Yle0uHlKYdEOzMy2wDy3jBK79oZxEAIPuHdQQwwMqgOLYOLDzo0pEYE+WxJ6l1aW0YwEKBXawo24eylVq2tAYlKd59sE+6+GJvEilSrarmCE1vI3LxpIU920y5eoxkJLau5s5XHAzwB/Bj8dOSRT2U+LZkW1g1gBUKVlJvwVJ+y7cUyMuzNsiSrWWSGFknB3SNkSMGt9f03C1fbZbZ6wo9faQbKFiuE5Hnd4BAwPfX144N6UXCfIcAD9h73PfVGm3HhkjEOrA1In2OgppyBl5ovly2QwrLa7VTDRY9vozKWxI3PkNd6hs/bZFe7RLVY495pqelS6mL+yxSnjrLA7QAim/N2yK19fXabg+GlNsRL8ER2alyzr5dJTOqphFkA4RQExt2sCWMsVVIYlTFZBrYt3kx9Kcsfu6555SVwwLGGU4Ewh0BBwCGO6LO/sIagXABQAPIUAGivvW1uMKuANAOPfTQFp+DqS+jlhA7DBYO64ARzKmKk//N3qlKyNo6jxAgIhITYmxIRO47cbBkZybIVW8ukjzsQxq84wBe2i2i3q3+dtRZtWaQJnz423UyY/VOTcNinHv5gT3Vo817wNqc9NRPsr20Rtk95gkzCTglLYy+ICY6Slt1zVhdoACDtC4g1zBQABBELeU1HrCXHCPqvQcQ51ex0VHy9bXjgooVQj1nA6y4FgAr0pPfrS4QjIf7dUiSvbu3TBAQ6jwCbW86z2B2jk1JMPCHBQ49g9U2qIHfi3CLHN0nXo7sXC2vrKiX+fke0UkV91jDwQGAXIO+fUoAACAASURBVBvS/NT5zbxhf1uKcT5OyQSpSKuS9r0FW+Whb9ZJZlKMvhgw+A7kldXKEYPaq6J8dwxYvQe/WSuZsSIV5SXKjFKTRh3kvj0z5G8T+mqs7vx8pb5U0TFnbX6F3su8oDB3XqgAkKSuKXNgWPsVw+iTyjRg0Ntmxu55Ym1FDeqwYcMEpjdQ7SCpVJ5JGEI7w4lAuCPgAMBwR9TZX1gjwMMRm4mWDgAkaV0EHqRbvAGZdb8ABQqeJ0yY0KLDUavIAsmiQfG1NSVndgjDuLkiSm7+ertU1dYr82aMganVYiGih+nfjugrxzw2R/LKalSV6enERW9Yj9gCL8C/HxkeCw3q05hLZmLTNJ53EBZuLpa/vb9MCipqFVBwbdJi6mWvLomS3bGd1u+NzE5VZnHptlJVeVKLBcMJw8e5Aj60/g8GKt5Tf1hb51KhyF5Zbrl4WFxjNxJqhkK11/CeM4s2xrXUXaKQRJxy7TtLBPCL8AL2h3mO7JYm5+6bLYcMaArYW3QjhPghA6xQhjNPBvMDXMMI+wKDF76yQEsEqOczfyfGwLp3Lt1b1m4rkJs+Watg19PVw0BARDuRmpYf3DlZXr/Qv+WRdm/ZXq4ehmmRVZK7brkyVtZOEjDYl7+xUDYVVEliHJ1KuN51Wu/34ClDbSuVQwxZs815Qfm/9xbJws2F0iUjWRIT4vUFC8YaxTmpZnoE3/vVaslKipFfNpdobACAfJ9gSYd1SdH6xT8f0stnaprvN1kCUvDGZsYqJLFjls5zCE88ShAAkMFsZkiv8vKKstcZTgTCHQEHAIY7os7+whqB1gBAgCOAzLSlCpa+of6K+hUalwdjYLxPEkUk6TsWAe8uCNZtaTG3YEed3P/DzkYhhEnNecQQEdIrK1H26ZmhnRNQp8ZHRynHA8GC4XOVq17O3Ltrq/3pWnKhyqvr5NtVO2V97k6JKMmViXv3kV49ezTZVW5Jldz84XIFgZwTdV+0ExvXJ0PPBUCCCAWRAYwmQKxPuyR5dNIQiagubexVzE5NfRsLrakzsjtviuAR+6C6hlmD6Tn2iblquaO2N5YaRmILY3ndob3lvP262T1Eq7ejkJ450rqL2tDVO8rk31+sVoDC6JGZIDcc3kcO7LuLlcXy5/CHZysA164nDYP/Blyz/dn7dJVnf8iR577fIOV0TGkoAoyKoI+wxyz7n0f2kGP36uETZG8pqpQ7PlulApVal0si3S6ZMCBLbjluWDPGcFNhpTwxY73My/GombmWl+7fXe9hX4N+1h8s3CaLt5RKemKMHD6wnRw1uEPAnsvBAk1N3dyFy2W1u6Os3FmrAqWuGfFywvBOygAyuC/vmrJabYuwiiEO9IzmvgBs790tTcUpeGyOC6JIJ9YIiQwYpC6S+jpzv/rqq80cUejyfMCf0New2szwb0yYue+NT2mwODh/dyIQSgQcABhKtJxtd3sEWgoATbN3HsrUfNkBDwBGbBdgAEOpEYMVILXLAk6KMRBrxQLw6aoy+XBVhdZD6cK8i5zRf3ZOi5NxvbO0Pg9LDlgejIG1nqvBJ/Dh04bKsK6pv8r1wL5i7dq1KlLw5+7PdYNtwwCZtJp3X9YtRVXy1fId2gKP7iOHDmjXxA/OCB5MazoANoum6VVsFe/4CgJzxOKHNBufYXy7Ml+ue3epilN8tZGj3R6pvy+u2U/j7W/AmL42d7MqZRHC0LMWpSwq3lAGZQLYe5g5AvZPfWae1oVa/QKxzHn+nBGNrBRK3UP/5xsAku69aUJfbYfG2FhQIV8uzZMZa/JlbV6FArSuqTFyQr846R1bpjYz1pZ/tCgEtMMwrtxRLnGRbnG76sQdGa31nbCkVx3su/sIJQHU++Gb6O8Fanluqdz68QqtveNlgO15CTh6SAe5/rDAqW8A3LqGtO2gzimNZuWGVYPh51yIH2wotbImLU0sTK/juesLtCyhpIGppJa1fXKc9MxKUCaQdLG/PsL+rq93D2jO36SKmRNAke++mWOw+wTwR49dUr+wf60pSwl2LOfvf9wIOADwj3vtfzNn7t2eKNjE8aQi1UqtH2k1u2we6lCKrXnY2m1iTz0PD/YBAwY0pu8CzY909NQ1JfLZ2lpl9wAi2upNmTAPFhzVLVX92vjvb1bkycaCSmUqsIgBDJ6/X3c5d8wuI+hg8QjX31mUqF2CWYPF2J22DqYWC0BIgT/A3oBB6qjMNWaRB/iRNiPNZp3juz9vlTunrNKuJRW04fAa1CcC6B46dagCUl8D8cxFr3pS3IB3rhcApn1KnLx2wShbIJA50uILRSVzNL1Xn/l+ozJpsMDW86l1iRw6sJ08eMquvr+kXX/cUCRxDfZAhv3jJeGDy/dpNGK2ngNpUlL9ptWblcUirrw0wVxtrUuWe7/PV5EOym5YbV5qAEqYhuMRSVlCS8atnyzX9n1d0+Ibz5H9UitK3H11cKmrr5dX5myWqSvydA7Ep1tGglxzcG9JrC3SEg+7wIrU+guzc+TnnGL1C+Q7BguJdQzM9Pi+WdrNxu4zw1cM+J4YtTbAj9ISBqlznknBWiny+VtvvVXefvttVdtSc+kMJwJtEQEHALZFVJ19hjUCdgEgCxrqOn5gVaz2BXYmxOfpczl+/Hgt9g402JZaHtgHwBBv+XYGjM/a3EJ5c02kshk7K2pUmqkN4NweE13ABGIK1LAc56eNRbrg9euQrD1uYdR294ApWrx4sZAmB7QEi09bzs/KtrDA4oVn2BZSqiy+zNG7BhPhxPkvL1DRhOliYubpEah4GKlHTx/WJOVqPZf3FmxTOxzAuFX0AHigOwvsUbD7xphQ4wEHeDXjr+8tla+W5ynItw5SlB1T4+XLa/Zr/DWp4steX6QdYGD1YAxJY9Mb+OJxnjrCUIdp+ffe/M3y8uJySYoWiY6OUvYcRtzTKaZelb1d0wN/P3wdGwA66dn5Ol9ruznu8W0l1XLlQT1VHew9Pl6UqybdGIkD1mrr6nX79gkik7LLZczevlOqS7eWyrer8oUUNSpfalQR/FD7R1ea+RuLZcX2Mj0v9j2ud4YcPqh9WDuT8LLE94YSBL47ZAt4uTT3K6y2NdtALO688061TMGihZpLZzgRaKsIOACwrSLr7DdsEWDBtyrlfO0YgEJ9HewQCytMRksGDODYsWMb/bJ87cP4yfFA51i+xB6+PsebPUwL9jDLdrpk8tpIKalBgYhYIlJIQVK0zgJFu7QBHZOVHVyTXy5nje7qt6aqJecZymdy8orl/e8XS0x0tJx60HDpmLb7Aai/+RJTFlVYX2qs+G8WV8C/d4cH7qErJy+W2esKlOmzeuMRewbABKBlVKDexzUgDRWtN0jrlpkgn17pv7UXc+Pam3vUuyb1P1+ulsnzt2rXFysDBQAc3jVVXrmgqWkwKdF3f94mi7eWqBH38cM7yRgv+x5fcYNt+271Tlm0pURB74SB7aVP+yTdlBh9NGup3D0jTxLjoiWaDi8uWsm5pao+UtnDdy8ZJWnJ/u8B0vukYXlpSWkQ+rBvwCPtB2FRMy1WPwBCDJz/cmhvPQfr4LhXv7VEtpVUSZe0+MY/lZZXyOaCCrn+sN4yca+mNahsRF9ouoIgSIG1RAGM2OesfbJlwiBPSYA5X1j42GjqIpte01C+I7625Z4E/FGCYsoQiCXCJFM7aGxmZs6cqbXHH374oTz55JNaisJLrDOcCLRlBBwA2JbRdfYdlggEA4DGPBemorUGv9988422Z/KX3iQVSUE2DBhpJzstpIz3Fw9/M0i33fbJCm0PlhCNAjdOaiNiZHOpSxerLunx0jMz0VNTlRInV4/vpezH7hzM++kZa+SlOZulth6LGk8nj2sO6dXMgoZtES4ArhgYWgNaWpNKs3uuLKLUYHItUPoCCAHapN5Ir5pUMYALEQt2IfgsEmeGEYCQPr3nxEHaBs7f+MdHy4WeuYAJ64BF6tM+UT64vHkLPbbj2lOWgEcdLw2+FKPUx9G9gxo8A0h5GYAZxsjYGxzZjY91O+oHr3tnqcCGkr9m3whJUL5OGtVFWe0deXny0vokWbadezNSU67Einvx6J5RcmC7KmUujeDBpOBJrz40bZ3MzylSgA34O2lEJxXVmJrGh6etkw8XblPLFUQ33DemHvCZs0c0S6HDGl786kIF63QaYVRWVEh5RYWUuuPksgN7ywkjmoJGAO7tn67UFG/3zITGe5Bez8mxUXLX8YOaANOWxDHYZ7j/uN6AuEB1sjxPKAW47LLLFCxyD59++uly4YUXakciO8+XYHNx/u5EwF8EHADo3Bt7fAQCAUAWe2w+rN02WnNC1NwA7LBo8B7YdXCsrl27as2fHXDDAmcYFAUbDSwDHnSPTF8nP6wpkPZJ0ZIW65b62hpZklcr5XURkhATob546YmxcvH+3eXEEa3z/GtJTD6dv17u+HKDdiBJSfAY/WLpAlB68szhjSIUAMs9X66WzxZv1x6sDNKjKDBvPKJvSEbDoc7TAHKuF0paqwAHsGVEJNwnAEADBqMTkmTVjnJlwqixhF06aWRn6dvAhPmbx9cr8uSG95Y2KmkV3NVjJ+PW9OtlBzRno2CMuW8YgRTi/B1DY2JJrR6DWJ+9b9egAgm7cXvk23Xy6tzNkhALsPMAMLrMwED/c/9kSXSVqYVRWV2kqpHn5xRrbRzbnziik1xxUE+pr6trNErmO8GLV0ZWljw8r1JW5lcpuAIgw77x2T8d2FPOGO0RpWDNQss2WguqOw29pOOidL8Th3ZsdhrM7+aPlqsauXtmoiAG4ic+KUWKqurVD5PONdaRU1Apt3+2UtIToyUpdlerQwAs7ORNR/RVhr2tBvccYA6zedPzO9CxOMfHHntMHnroIbn22mu1zhbzZ557iJmsZQJtNWdnv3/MCDgA8I953X9TZ80CanptNnnQ5+RoAbhdAYadkyYVQ92Nt18gD2KOxd+o57EzeLAbWweAiQGMMBMYMONLhu0EKShSihT0w7RkJURJh/h6qautlVp3pGRnJioA6Nw+0xbotDO3YNsgovj7RytlRXGUZNDmrWGoOreqThlA40NIhwfYTEAENjUMfP2w4vj3iQPlsAH+GbVg8wj0d1KpBpAHE/tQIgBYsfbUNWAwlHZfAD1YwClLd+jUVAgSIdrdAgbLCjj4O+wkjHEoHUhos4dRNYCFlC6p1HCNIx+drXWD1h7Q7nq3FFfWyLG9ouQfJ49pwk4CppgPTJqvDi3c36Q0v1u+RR74Yaf2gU6IiZZofqKjpaAChW2svHrhqEbWlHv8uzU7ZfWOckmJwzw8qzEF7es8f1hboLZBFZVVEuOulfjEJCmtccvw7BT517EDm9nHkBrnfkSokmpRc9O9Jr+0Rv5xVD/p3zE5XCFtsh9SuzB/oYC/Z599Vm6//XaZMmWKlp8wTLkASntnOBFoqwg4ALCtIuvsN2wR8AaAPBxR3ho1qj9PrZZMgJ6bdGIwb+4ci7QY9WWkl+0eyzB/fN4K/pjT4zPW6wKIXxqLPKmpTQWVCv4GdEqWkdlpuqjxWWqd1u0olYM71kjvtEhlsEgpMY/WmiT7ig/zxuIFi5Kn1yTJhsJqrfuyDqxbDuqbKf891bM4Xf/uElV2Wgv7+T11YKhX7z1xcEsuRcDPGJbFap5s9yBGpWnYQZhCYzED8A9mMQMIpKUYP1w/FNvHDOnQrG7QeEOShvZmJ+3ONZzbcW0PfmiWKm6p/fMgWJGa2hqpqHFrqvbawwKLWPzNB6HGA1+vVTYbsM2Pq84lNe4Ikcgoee6MwdKrc5bfFxhehqavztfuLABeVNim1SHznvzdUvloSZ7URidKfEy0sn5Y72gPaq/B9v/9eq3MyylST01eTGBp6QoCw3vbxP5hr/djCsbQm2ttR4DGPF9++WX5+9//Lp9++qkcdNBB4bzczr6cCASNgAMAg4bI2eDXjoAVAJIWod6LBYZaqnCrUefOnatN7rFsMKk7u0bSJk7WRvDe4I8aNLppwBpZFy8K4+ndCpM0sNMuZShgAz/Ai8Z2k45xdfLhz5vk500lEi31MqZHihw1rKt07NA+LLVCzBtTYpg1wO4j32+VDxfmNvb15fyYD/19LxrXXVN7jMteX6hdKXwBQAygHz9jeFhvIdNKyy7LEuzgpJENGERBTMrNsIPYzdhJ9XsfgxpPmD+AAEbULdlHsHm35O/XNYD11PgobQXH94k6w/qIKLWZOcBiOG3dP2AF0Qg/1AyiRrcqgan9/MdHKyQtIbrRKBpmMb+0ShKi3fKXoS5lua3eeMabc+aanfLot+uVmaQek8wwfYT/76h+2qoPVT8vJMNH7iWVEqssa7B6WIysH5+xQTburBCS6R5/zXj504E9VE0f7mFKUcgQ4AcabBDP119/XW644Qb5+OOP1fDZGU4EdncEHAC4uyPuHC/kCCib4HIJbvssqjAqpEbsmDuHerB58+Yp+wcjRA9OFL7UBNo5lrfYg0Xfe+GnLgoAyEIHAEThiYAA5SfArkNqnOzbI73xc3StIM94yf495D9frZEVuaUNljF4x7hlZJbI8d1qJCszQ5lBgEswBstXTEzXFEAgdWqIFLAaufyNReq9hj0NCzO1aRjsvnjeSF1QGU/N3CDP/5AjKXHRWi/IgHEpq6mTPx3QQy7ev3ldXKjXhe2NzQ/peOboq07T134xbv5k0XahXywt6EhJTxjUzicLRBxI45lUMZYdBgza7f1q2s/17NlT+NlTwB+xwRrlqrcWaX1eRH29gqPIyCjt1PLwpKG+Y+Kql3u+WK2WKqT1GQmxnro9048aVvGKNxbJqh1lCs5MDSD3C75654/J1hcLE1uEW3zHktIy5a7v8jVV3DnV0/YO5fvm4iplwi8eEq3sO3WJgPFQBi9b1DDSTpF6wL27pwc0+A5l39ZtDfjDBN7aJs/f/riP33nnHbn66qvlvffeU/WvM5wI/BoRcADgrxF155ghRQAASE0ahdWoPPlpq0UVdpFFn0UHJtAue+Mt9vAF/sxJPzadFHC+1o9tK67WQnmYtYyEGBneJUXKaj2+ZLRKA1DRJYHi9Rdn50hmUkxjzRMp48oal/zzqD7SK7FaQQuLrGGwAITBTGeZE6lKzpsFFmBt9SVD0fnIt+uF9l2MIV1S1K5jkIWlRP158Wu/6LkgWgAiAAAx133+3JEKGFs7TNqfNBvMr10wAHj90xsL1e/NGG3DvgICqU8MZP3BS4dRFBNb5mDtmuFLoWlS06b9XGvPuy0+/8vGnfLwl0tkTbFbMpITVHxx7phuu9LCXgd9e/5WeXT6Ov07LwKMoso6jR1iIFg6BrWt//5ytQo8UAGz/ZGD26s4xls1bYy9Z67MlWd/KZfM+AhJiI/T7x4vW1y30opKuWxgvUzYf3QTqyVemmas3qmAHuacPs6kjMNxn4Uab8A+3x3qkBGH2Rl090D1+9Zbb8mxxx5r5yPONk4E2iQCDgBsk7A6Ow1nBBBf0N0BPy1/lgrhOB4gbs6cOco0AoTsPtD9iT38zYnC+j+/vUg27KxUtSyAhJEYG621ZCyo1ERhewFrMTw7VS559RdZt7NC22xZB63WTtmri4IyhjHzBYgAlmDyDDMIc+oNnI2QgrSVP7DL+eHTxlxNXZb3uZFyw3cNVS0Jt4P7Z6khsWEJW3N9rBYqpKZDYTifnrlB6LARFx3VaNwMW1Xnqpd7Txoc0PLFOme1KykokhU526WmtEDcNRXKQKZkZMnyoigpqRXJjKqS2KIcGT5sqC31Z2ti0tLPUu8Is41PJil0O3WkF7/6izJ71nuPeOSV1coF+3XT3rlm8CKzcnuZ0Baud7ukoJ1RAHG3f7pCshIipb6uVmpqaz33scvz8+ikoTKw2y4REV1BSBd/v7ZAvze8cMAy4mN485H9mn0/WhonO5/juwP4o1OHXWEYtX5YvNDe7aSTTrJzGGcbJwJtFgEHALZZaJ0dhysCGKqyULWlHYJhmGAaqdsCbNoZgcQe/j5Pofulr/+iLAf+aKQlqZ+D2eC/nzhzmPYmtQ56s64PAABP2auzvDJ3k3y/pkCZxb7tE7WzwfB2kRJRWaTsIMMqIiEdR81fS4QUdmITjm1MzSespF3fRetxJz07T2sok+KaCllIDx47rKP867iBQacJqHlxVo689uNmrX9EoHP4gEwZ0ylK7v8uV+1I3BKhLC5/G5mdKmfv200OH9iuzZjqoJP2sQFML+APFpNaNbss+qnP/KT2Ld51dztKa+TUvTrLdYf1acl09DMIha54c5GUVdUpWIQ9Li0pkW1lddI9JVLO61un5Q3Gc3BZXo3cN3WNvhwZJTNgHiuf0/fuImfuY0+h3+IJN3yQWlHKUfjukCmwM7744gs599xz5cUXX5RJkybZ+YizjROBNo2AAwDbNLzOzsMRARgg0sBtNQAZ2Ikg+oAZIQVlpwVTILGHr7mqwja/QrC1AKyRIo2zGAqjKIVVwYwYE2XrgF17yUcKmDTwXw/vq+nhbcVVCv6o76JUC2KRgv0OKbHKLE7okyRRVcUKBmGCmE/37t01pU46k/+2Cwra6lpY92tS0wB/GFk7bJX3vE555icFzt72LADAY4Z2lLuODw4An/thowoKGPQRxutQ08m0yq0H+rmlWmvjPFQu/59WuRft01GuOmxAk5T67oibr2Ngig34g+mFsQrlOt/5+Sq1vemQEtP4Oe7Vooo6+b+j+2uJQmsGxtrPfr9RsGmBBayudUmnjCS5+agBMiArprFrBun4OfmxMmtHhPRpn6z3rDkPlPT0F37A0i+5NXMK9FkD/nAL4PtjZ9DZ44wzzpCnnnpKzj777JDib2f/zjZOBFoSAQcAtiRqzmd2awTaEgCyMPImT00ZrB+KQ4Ag6TF/w47Yw/uzADXSkfM2FqmP3taiKomLiVQrGFNXBbtE7RS9aAGH1kFK7a/vL9X6KgZwA7aQ2if6nAIoYURI1VJ/Z7YxgIR6LMyOHzx1sFTn5aiFDkznjp1F8tmaCvmlMFpq6iNlRHaqXDiup9ZV/ZqDNDzptdaqaB/9dp28NGdTkxQwjBFpYMDf0UOamw9bz5sasyMfnaPMH75yZgBWEO/ERYnQUMTaVo5tKJXj59ZR9dKjU5Yyr7BYvjqAtHWcjXgKpqol9bOIgf7yzhLB/of7iPurxuWWQZ2S9V61xqWl5/JzTpG89cMKyS2uklH9usqxw7s08wbkJfDFmWvk/UU7JCvG5XnBiYvVmOZXuqVvh2T59wlt2zuXWAKkiWOPHvbETd99952cdtpp8sgjj8gFF1zggL+W3iTO58IeAQcAhj2kzg7DHYG2AoAwYQsXLtS3eMOK4IFHgbq/FLA15WuEHnbYlFfnbpL3FmyTrORYZY0QVVBITxeEgZ2SVczBAju+Xzs1qvU1SJfBxAAiAY8Y6B42oJ1c89ZiWbKtVBdE9kGZfl0DImkQ5apBM35oo9pHyjkDIjwt8+LiFVTOWVeIwYtEuN0eRXJUhAxqnyC1EVHSs12ydiHx7rYQ7mts3Z8x02WRRUXbmkHqkvrJnMJKZUcVEEeI7NMjXR45fVgzcYL3sbhOk56bp/WDVsFIdW2dVNa5JTpiV6yJvwGCSbFR6hF45zF9ZGh6nbKugAcYZqMqtiPQac2581lTp9arV69WxZJOHC/P2SQLNhdrzHjxuHBsN5/m0KHOme8UpQgwa6h9A9V4rsgtkzunrFQmNjUuUqqrqqS4okp2VtTLxL7xcuLILhpfur7Y+V6GMlesfQB/Rt1t57OzZ8/WWr/77rtPLr/88rDPyc4cnG2cCPiLgAMAnXtjj48AqVZYuXANFhz6b65evVqZPqt1w4YNG7SzAQDJe3iDP7spSdiia99eIgUVNVJQXquGz656WCg6hbgVFKajAO6aKgf0zdTUGmrfsb0zmqUufcXgb+8v1bSy1k9V1SkQbHDrULsZ/N6oM0yIqtei+a/+PE7i42Jl7vpCbWsWHxPZaGJcVlWraWg+R1cHEpykka85MFtOH9OrRWnYUK7b1q1b1eQbM107fmp29k0ni7fmb9X6SM5lwsD2ctLITs2Mm33tC+b1iEdni6te1MfOM9xSVVMnVS5Pqre2ocWzAYAATHrOcn3/d9pQGd8vSz/lS6BjwCACHbv3k51zZhtjTBxORTKgFjBsevvanYu/7Yz3JOAK8BeMIeU7yLXEeJrvETFnPiO6JssZgxKlrLhAldvsx7Cudu17Ap2LAX+wfoBpO+Onn36SE044Qe688061fAk3ILUzB2cbJwKBIuAAQOf+2OMjEE4AaFoswcgA8lh4rQPDWdKjo0ePbvL7log9zA4QfVz79mJloWDYSJkBsGh0Tx9WWL/z9suWl2ZvkpXbywVJAf/XJT1ee50OCNK2ilZsd01ZpR5tpdWeWknTZxXAhzghPgoAEyHJCXHy+VX76aL5wqwcob7NGFJzjtjNkIYGxNCRwVVXp0xlYrRb/j5KJLujpxNJKO3T7NxgHBvwzQ9iD7sdV+zsu7Xb3Pzhcvli2Q4Fz2DA2jqX0Ko3JjpSaml5V980BRwfTcxFQf2Ua/bzmSL1ZTFjhA7E1pfFTCjngXBqyZIlWssaLiAdyvHtbMt3kTnCuGPtEwz8mX1yryzPLVPzcVL5AzokK0MNuGcQW8Cv8Rw09j3GhBqrmVAGZSL4g5p6WTufpXwBi5dbbrlFrr/+egf82Qmas81uj4ADAHd7yJ0DhhqBcAFAoyhlgWDB8ZVqgoECBI4ZM6Zxmq0Bf+wE64pLXl2oXRRSE6Ib2RPYFFK/Q7qkSs+sBO3/itUGTBN1ajvKarSV1VNnDW/W79QaQwAera8+WZSrKWDD/jW4yyjYzEqMkur6CDl+eCe1y2BMnrdFexKjqITRAZwaIQlgR+sQSXG66qWs2iX/OqqndI+rFMAFbJbxxINpCXVRtc6f+NJugsoRCQAAIABJREFUj/1yXdpS7R3qvcf2dKiAKV2QU6zXkrjSBeOekwbJlCU75P1ftml8+D2+jcSONOndJwy0ZTPD+ZMeNt1IAESwVoYdDLXbDR6Wy5Ytk2HDhrWpbVJLYmk+w3caX0+EPjB/5v7JK6vW78GmwgrJSoqTA/tmSs+sxBYfitjC3pnYAuZCScMb8Qw2L4g+7AzO65hjjpG//vWv2ubNYf7sRM3Z5teIgAMAf42oO8cMKQI8xAFvrRmmNRcPfxZGf509YP+oAxw3bpyqYg3449iBzJ2DzQ2A9vqPm5WloMaOQnoMoOme0T4lVlO3sHKp8TGNuwKQUff3nxMHyajuTZlK7+NpHdW2Uvli6Q6Zta5A8BqsrAWsuLVeEB+8HpmJ8tBpQ7TNFgOwd+5LP+t26QnRmrI0ABCgCjBkAFTLq+vlkUlDlWnhWKZ9GqCN2KalpTX6DVJ/ZXcAxg0LBCMbKtixe5zWbsc5vjf9ZymNTJbh/XrI2D6ZjfWDCEWoFZy+eqd6O3ZOi5MTR3RSH7yWDECRYa8oR6BW0IBB7l9f3WU27qzUbhfusp2yatUqrWGF8doTB+Bv0aJFqkQH8BvwRwzv+XK19sYGTMOicg9ePb6XjOuTGZZT4ZjElh9YQtPphVh599fmHof5ww8Uuxc7A+B99NFHy1VXXSX//Oc/HfBnJ2jONr9aBBwA+KuF3jmw3Qi0FgACUlhwqN/hQR7ojRymADbqgAMO0M4P/LQW/PH5xVuK5cYPlgv2I4A/mCK8/qiyw74CexhPp4VdSlOYPVS9t08cIAc11JHZiRnx+mnRCqHLQll8O6mRaBnWJVWOGtKhWSssRCUPfL1G66lQScBkkf/tkhangJR9FVbUqQH0O5furUDSe7CoGoaF+isDWEgVw+b5i7fptcwxAH+tTXt6zwtfxeKqWj1n/PlaOhAnkNIzLNDuZHSIkQGDABb8EE2qOC09Q16au0XenLdFKjT175beyfVyx/GDpX+3wOrmlsaitZ8zpt680AH+zDXnHrj1k5WCGpjSA3PvAQbbJcep2pjvRziHScOb+KIyhtUmvrzEwOSRPg/2zDBzwrAe8HfRRRfJ3Xff7YC/cF4sZ19tEgEHALZJWJ2dhjMCLQWApq6MLiL4yNmphQLAABYBgHyeEY7ifMAc/VTnbCgUFKIsZsWVmApHyGUH9JAXZm0S+v5aO23A/jGePnuEWrgEGmaupqielCKgCjAWbLDIfrsyX/0DSV9OnrdVawk9EpAIne9tEwc0ihkC7Q/AAlABdLOwssD76qVLL1hAFQstjKy1/Vyw+Qb7O3Vh9Cb2pGbrFACeMbqrnLNvdmM3kGD7MH83Qoo9wSybawsjaMD2Vxtq5fNNEXp/YjlDPWJ9RKSqyl8+f6+Abe7snr91u02FlfLegq3yc06xWg4dNrC9HDe8Y1AltdkHgAvVPUDLG/DT0eaatxfrvlLjd5l2wz7zEvTPiQPaVInO94d0L7ElC8C/YQcB/bzIYBMVCPiTNTjqqKPU6+/+++8PyzOjJdfI+YwTgVAi4ADAUKLlbPurRYCas1CGKTA3vWNJUdoZsD0//vijshOk28IB/sxxSfNOnr9FZq0t0K4fdD6gJg+V6OdLd2iLK2rMAIe0twI0kkq8+mBPmzdfI7ekSt74aYvMXL1TAVvfpFo5rHu0HDZ2V2rNznlbt9lYUCGfLd6u3RWoA8QwuW/74EDS+zhcA9NLF0DIf8OuwAqiwmZhHThwYNiZkru/WCUf/pKrtY9Y3wAiwPIXjesmVxxkT8HJuQAESE+HU5Ec6rXwt32tyyXHPTFX8ktrJA61thtWOVIhe019hDx82tCwpU2Zw4adFVoHyUuKp4TBMzNa/gHOgqmCAX+YrXMPAP68SzAQH/3lncXKgJsOH+yfMgleUG49ur+M6ZURrvD53Q8vJqR9YQJ5ZphUMfM1zCupYusLC8IlmL/jjz9eHn744bA+M9r8hJ0D/KEj4ADAP/Tl/+2cfCgAkG1hl0xq0W7vWMM0UsfDgx8GAJDCD4tBuFJ/pIFJuWYkxTSyNBz7m5X56hWISTRttyYO7ah2Jf7SlwXlNWrQS6eL2KgIrZOsc0dInw4p8vCkYZKVFJrasS3vBiN0yMnJkdzcXI2lVURiVwEabI6AhdOenaf2OgmWlCEx578/vmLfJnWW/vaHEGje0tVSmNBVYuKTZO/uaWp8HOweALTP31gkP28qVpsZ/PJIaSIAevOnLdpTt1NqnPZvPqR/VtD9+ZsfYonjn/xR3C6XREW4JTYmRl8Y6l0uKa+tl5P7RsukvTop+8q929oXGWrzeCnokBrbCPa4hytr6uX+kwcHZOdg/AB/5vvoq/6Wud/4/jJV93bPiG+MC+xfclyUpoBpl9iWw4A/YjZgwIDGOXgzr3zPEIvxUkOmgJTvkUceKU888USr4+x9fo8//rgyinxnUMc/+uijsu+++/oMA16Kt912m3oV8oL10EMPyV/+8pdm29Lu8qabbpIpU6aoCAd2m/Z03s4HbRlrZ997RgQcALhnXAdnFkEiwEPXpDkDbWq6HmDvYje1aMQepuaPxdKwVzzkSQux8BswGA5fMX/nwFwQfyAWCcaqvPHTZnnquw2SkRAt1VWVEhsbI9ExcZJfXiOX7t9dzh1jr0fp7rr5WMRYpLAmAZQQV+JrDJKJL4uvnbS1vznPWL1T/vreUjXYtsYPJXNVXb08e/YIGZHtnw0m/uvXr5e3f9woH+V4vPwY1KQdOaiD3Daxv19ADqv79w+XycyGfswwsoD3Y4d2lM+Xbtfryn2kbF1EhFw5vqdcONZeKzHv88WH8MhHfpCy6npJTYxtBCswZijL/3FoF+mfVN3YA9pqMeNPABXoPjjhyR+lvKaueT/gkhq1MLpkf99dMQB/vIzxnRo5cmTAVP/CzcVy/9S16pdJKhjmFkbwonHdlYVuy0Edq2H+ArHSRgD1wQcfKBjDs5LnwRVXXKGef2QOWgu2zXm+9dZbct5552n7OFwJ/ve//8k777wj1BryXfEe+A6+/fbbqqq+7rrrFOR5A0DjcXrIIYfonPm+4YeKwtmuyrktr4Oz790bAQcA7t54O0drYQTsAEBSdtTv0UHCbssrHujBxB78nY4KgBV+SGfx4GwLP7xQwnPTB8tk1tp8SYqsU0sbo6akngq17n93Q19Uu/OFkaBOypc6FcbW1LWRsqcu0MTXl+o10DFh2i59faGmKQERZtBflqzlWxePlu6ZCT53wb2AgnbB2m3y0OJITT/CGqJIBQi6XG657rDecva+2T4/T6/mR6evV9DH8RkorFEJY8SdGhfdCNRgzwD5H/1pX7X+CWUYC5U3F5fIN5vdum+sgxAXcbzs9Hh5+5LRun/OibIGE18YH1KYpi7TLjs+6dl5+mKBQbkZ7HtHaY2Cv/P3a/6yQT0o4I90aTDwZ/aJEnjqijxZn18hHVNi5ZAB7WWvNm5LaMAfceHlJBjLy1x51mD1Qm3xcccdJ5999pl88cUXMnHiRHnjjTdCuZx+twX07bPPPvLYY4/pNlx32vldc801ai8TaNCtBPDnDQD53A8//CAzZ84Myxydnfy2I+AAwN/29fvDzD4QAGQhoocvP7B+9I+1M4zFSyhiD5PKNGCQxQN2BTDI/7ZEyQoYwLqFOivSXPv3ybQl+rjxrfkyc32JdE5PlJiYXYXzucXVcuiALLn92IF2wqDbIJxYtrVUWarBnVMkxVKIb3snPjY0oApvOmq/gtViwhhZRSSABwNWvG06fM2LVOI5L/4sq3aUay0lohb1W6ytlzE90+XxM4b7PB1jEA7Q/6myg7w2b5t+3goGSCNj7fLOpU1Nws0OT376J6F+Milu17WAecRIGxNuq8UP8yyvcWnv2qMGN2dz/MXcCCm0X/WwEfLQ9I3aHhCACubs1S5J7j5+YLM+umZ/WJsY1WteQZFURCZK1w5ZMrhn54CK7admblAbI2xZGoFlZZ3G54kzhku/Dk1rRJkfPbb5PpC6DKfIpzX3o/dnefmA+SNjQK2nHfBH/AB/dBF6/fXXG+sZjWLbjtgs2DnwvONF6N1335UTTzyxcfPzzz9fX0Y/+uijFgFAzpF09ebNm2XGjBlqcXPllVfKpZdeGmxKzt9/hxFwAODv8KL+Hk+Jh6uxZLGen/GRI7VhhBt2zt+AP/ZJysbOg997vyYdZMAgykHDrgAI7dS1UVR/5+ertDbM9KpFtXrtob0VCPoEOfX1alUzfeUOeWd9tMTFRktKnMciAxsXQNw/j+kv4/vb84Gjt/B9U9cIwJEuJGnxMdrn9dRRXeyE0u82RohDipdrE4o/IDu11l4Z5pW6QQO2/aUyYY8QLKBaZdDVBBHLg6fu8kD0voesvnT3T9soH/yyrQmQY3tSq2kJ0fL1teN8nvNhD8+SkkpPraEZ1CIWVNRqjaa1ho3fV9S65L6TB8thA9rbirNJp7KxVUixubBSAS/gjHaCpKsDDe7bDxfmCoxlflm1iLteeibVyyl9o2RQd08a3htsY4b99w+WybJtZVprSEyxBDpvTLac58X+8V2lDs0VGStlSV1lR1mt1j2O62OvtaGtYIRhI8Af8+SlxC74Q9REhw/awZFubckLn52pU2MIOJs1a5aMHTu28SM33nijAre5c+e2CAAaxpfuJKeddpqQNr722ms1zQy4dMYfKwIOAPxjXe/f7Nn6AoCwb6SYGKG2kgI4shC2xtzZO5gUkRswSNqNhcWkMv2BnwemrpEvl+dJ59Q4TR0yp20l1bqYP33WiGZMHCAAsMLiNWLkSHlhbq58tChXVcVUq5EKpObsmkN6Ba0hZP6IJi557Reh5y0ABexQWu3S//3XsQN9+g+SaqT9HMpl+uwO7ZIqp+7VpQkLxPXC8oM4A1a8O4WQFl24uUTTrICWYIwjccGM2dRkwmQFSmXCaKK23lZcrSnfMb3SfdqiGC9CYkGakgUdq5N/f7FaRRwGTCnYr6FtX5Y8dOpQn98jejIj5ME2x7xQECvsfNhPWrwnBWz2xTl/euWYJqpXf1/QcDJqXy3fIXd9vlpcbreynJo6rnFJt/RY+b9xqVJSmK+9t41IB2ab60dP6+mr8mXp1lIFuQf1zZKhXXb5PAIM567Nl09/XCHldVGysSJaSqrq9D6kHhIxDIrh1nT2CNcDDIYN5o8SA5g8Oy+AfKdJ95JheO+992y94LV0vm0FALmOiD0Almb8+c9/ViA4e/bslk7X+dxvNAIOAPyNXrg/2rS9AaAx5wUE8AC3m2Iy9X6tYf7sxN7UtQFYjDmyEZEYTzE86i58ZYFaapiuG+ybBXlbSZW2bDvYwuIZwAuzSC0dDBhgAuUkLB4AcJ8e6bbUquYcXp6zSZ75nn7AnnZwZtC/eL9eGT7rCB/6Zq2qlVnwATbMF/CIGhQw6Gue1pgh1Hjwm7XCMZg0XUcuPaCHnDyys53Q6jbUshkRCfdCKO29zEG4RqQpYUWIp7mHSPWe/eLPyiByfoADPPbiYyLlyTOH+xWRAIwuf2OhMnuknmF0iREejlxrwBDdLQDXpFFvO6a/HD0kuLjBzNN4JrZWZMA9t3J7WWMPaOJBqpr53X7sAJkwsL364Bmwzb/Ny4w/kQ73wENfr5ZPFm4RlztCyuvYp1vvawA4f99eWiMjslPlwVPsAS7bN0OIGwL+YP74HlLDZwf88fKByIM4kH61WzsZ4tQaN2+rFDBm+BMmTJDnnnuu8VhPPvmk3HXXXYI62Bl/rAg4APCPdb1/s2cL8wWbxEBNiks/qjVSMXYe4HbEHm0VHFMbZMyRAXAdO3aUmOQMuf7jdRIV2dT8lrluLqqSGw7vI0c21IexAMF2wsagUmwtCDDneu+Xq5VBbJ8S1+T0YQQ7psTJ2171bmvyypUxBCsavzbmu7OsVn3a7jq6p87TFNR7z5P07GWvL1RFKQwY166soQ3evScNVtAZ6mCxtIpIWJyNotiffQ8AEvBnar+850lLPPokf7d6p/ZWHtAhSa4a3yuoFx1K1qdmbpQFm4pVCML1u+KgnsrQfrQwV9bml2tcjxveSQZ0TA56qrDKzNOkKVt73QFiRzw6W21yrLWKTIQ+0hfs103BuHV4d3oxIh1jMcM1nLY8V27/ZLkyismJCdrZBt4PwJudkSCZiTFqfUQt5qOnD21xm7ygAQuygQF/KM0Bf3biCdt88sknKzv86aefhlzK0NI5IwLB8gW1MYOX1u7du8vVV1/dYhHIWWedpb3OrSIQFMOklK2sYEvn7HzutxUBBwD+tq7XH3a2AEB+UJJi00FhuS8rBF8BaonYo60CDYg1IocdO/Lk5VUiG8siNT0WExujnTdYiEmZkWosr3bJ1rydUpG7Tob37yWo++wAXrvzf+3HzfLkjA2SmbyLASResHMH9M2S+04a3GRXb8/fKv+btlYZQ2+BhLveLX8bViv9e3VTcO5rno/PWC+vzd3c5PMcjzq5g/tlyT0nNj2e3fMw21njS7E+c7CKSGD5TF9oUnn9+/cPGE9ACyISulOEEndS0FEREUHr8QKdHyAVpopUrF11arB4Eesznp+vLxjerDOp6puO6CcnjPAvojIiHQA38WUA9p+bt1MW7IyUnu1SNFW+Lr9cSxpM7Ej7AoILK+vkv6d4mOLdPUxtIv2mEYvZAX9cA2rluK8+//xzZQ1318AGhrq8p59+WoEgNjDUHVL/ywskFjHUCd5zzz06JcAtHqYMRCpnn322/jBn08uYVC99zu+44w6ZNGmSmt4jAHnmmWd0W2f8sSLgAMA/1vX+zZ4taTDMZFHA4XNFNwk7wzB/PMBbKvawc5yWbMMb/Yxlm+W/0zZKcVWdxEWKtvIitTu+XzvZVFQlq7eXSHVNraQnxcupe3sK7oP5A4Yyl7zSarn4tV8U8MHIsW86lsRER8p/ThjUjPFCHHH/1DVqYm2dR3FFjdTX1cqLk/pKv17+ve1u/WSFTF2e18z6BMaxV7tEefWCUaFMv8m2sJOz1xVqT9z9emVKn3YJer+YVDEAgFQxKWNSYf5AaosnEMYPknYF/KEoTe/UXT5evF1T/VlJMZo2bo01yuR5W9SuhjQ1fomwgqR/2yfHavyDGS5X17lk2sp8Va5XVFRJBymS1cVuWV4g0iE5WqKiYmRDUY0yp3z/YIp7t0uUvLIaBdIvnDuyGfsYxtD53JUBfybdbwf8wXyefvrpmg7/8ssv9d7Z3QMLGGMETY3qI488op6AjIMPPlhfCF966SX9bzqSkBHxHuPHj5fp06c3/hoW8+abb1b/P7ZHEOKogHf3ld0zjucAwD3jOjizCBIBUr7U0iEosKOuZXfhUPrujguzbFupfLwoV5ZsKZKkSJf0SaqWmVtcUlAdIcnRbklJSpSKOpHaerdcc3AvOWJQe5m1rlByCiq0jotifDqHtHRQu3b/12vUhoaUHSCD/sS+6tNoPYfNCkpjFLGwYlXVtSoGOaRvhtw/aa+A03juh43y/KwcZZ8MgFQGsLxWjhzSQW6fOCDk0+DzT8zYoG32jHEz6dfTR3WRqw/2lAiwDV1IWPQohIctwcDXiHTauqYrlJMyZuZ4vrlTOspf3vW0YDMDZu3q8b3kzH26hrLbxm0BfABA7jnEH5GREVqnSE3isK6BQQ4s3u2frZQ56wvF5aqX2joELpHSNTNJcourJD0uQqS+TgorXVJYHaHei5kJ0RIXE61sKOnlU/ayX+vZohP0+pAR0HDdyRzYAX+8cJ5zzjlaB/nVV1/pveIMJwK/twg4APD3dkV/p+fDA9kIN+yc4u4Se9iZS6jbTFmSK//+fIWkxLiVpeFcomOipbgmQrpmJGqd1Zq8Ct0two92SbFyy9H9Ana4CDYHxAqY8NbUuaVvh0S1+PA3EIA8Nn29VNW5NDVG6rd7VqI8cvpw6Zru22TZ7Iuer5e+/oumuY1aFoEEHR/+d9pQVQSHOqjTowMHgJLYMEjdck73nDBI7XBQVdK1gbov0mfU1hlmEJaQNJmpGzQinVDn0ZLtjQelSS9jZwTTjZE5LOV17y6R79cWSHqCh51VNXS1S02u37pkb+mUGt+Sw+pnqHOEVaTV2shuaU2Ms/3tFPX3vV+tkZTYSKmrqZSY6BiJjInT7h0wiDvLa/WeZZRUIvJxS1J0vXRMjJQj+qfLsSOzm1nMtPgEbHyQlLXVj9AO+AMwkl7FvPybb77RFLwznAj8HiPgAMDf41X9HZ4TQIOHebDBAmmYP7YNp81LsGOH4+8wUw989JNMWV8r3dt5LDYAgLW1NcqyFVV62sS1S4qRxPhYcUuEskMAr+fOGaHWJbtjLN1aLJO/XyH5pZUyblAPOW6vbMG/0M5AKPHgN+u0hzEItlNanFx5UM8mimc7+zHb/N9Hy+XrFXmSnti0o0ZRRY0cOqC9/GmvRK0dhf3xtZgTc+rZfly9TT5ZUSybyiIkKzlOThjeUU4b00sZrnAPevm+OCtHpq7I1zq5A/pkyimDU6UwZ6XWJWZnZ0tJVa0c+/hcBfkG2DIPgG1xZZ2qxE8KQTkdjnO4c8oq+Xr5DkmOrFVRREK8B/DDDAMi9+6eroAVkQk+lscN6ygpcZFS3JCKB3TzXbZazLSVl57xTaTu064ZNZ+hty91dt9++60yxM5wIvB7jYADAH+vV/Z3dl52AKC32GNPB3/U3329Il9IAWOFMrprokTvXCtrKhPk9eU1kpUU26Tv7JaiSq3VapcYJXER9VLnqpOoyCiRyGi13bj7hEEytndT82g6U8xYtVM/179jkhzYN0vZttYM40UIcAolJW89JiBmXX6F1p9RH0Zas6XjqsmL5KeNxU1EDewLADggK1ou6uuZZ6AuJPNziuT6d5eqgCFS3OKqr1cblwM6i1w+xmOODGixazcU6FyosaTuEkW057Q93UqSolzy0Al9ZO8BHhUu5svHPTFXW9FZzaW5z+kuctMRfeWUvVpn1h1qzG/7aKlMXb5DOqbsAn8GAO7TM13uO2lIwF368nNEiW2EOqGahfs7GM8LmD87PYjNPvjM5ZdfrgzstGnTbHcUCjWGzvZOBPaUCDgAcE+5Es48AkbAw4LV+t1mTxZ7+Jo0YI4OIDmFlRITGSk1dXVSW1MtR/VPkyuPGCbXvrtU1uwo14J86tnoMIFpMj/Uz8EIcc7ERG1QKlxyzsAYOWJIJ01lUrD+1fI8eXjaOgU1Hpgh0r9jstxz4iAFly0ZpOKxeTEtvvx142jJvlv6madnbpAXZm1SEG3qCuvd9VJYXiMTsiPklpNHC7Yf/gZxvPjVhbJoa4mkxu8ycSaNDAq865BMiasuUvNtbHgAK8YcuSVzfmv+Fnlg6loVYKiPosslNTW1UuOOktNHd5X/b+88oKWq7rb/p5cXIRFE4FUCGkBFYwt2RcQowRJjxIaKaOzYXgvRD7GBNRFDoqKwRI0ggj0KdkVFpUgsoIgUKQpYqNLbt35b981wnXvvPjNn5s498+y17kK5p+z922c4z/zrVb/7dcllL3jsI/tg7jLnAvZuYlzmrHP4WXu77PE4hiskvnmzvTNrsT39nwXuuWz5y3p23B7NrXO7Ju7elEN5YMxEe2p2NWuyVb0SazPxoFinL+m0Q2SLpHfFYxnE/Z1NH+hUIecLxCP8Q0Q7e0CPXUqhYPkju1ZDBJJOQAIw6TuckPWVJwCrSrJH6lZQY+7Fqd+4l+z69WvthxU/2Iaa9axGzR8LKiP6Br4x26Z8vcKJPuqonbBXc/v3x4vcy5nWWn5QvgM34a1H/q9VX73UuTNXbqxhAz8xW7e5mm2zVV0nGChNQr0+ynxQYzDqQADwYsWSRvHtkHiqqPfI5Hhc4NQmXLh8bUkc22oyp+uYDT1jL2u5TaNyL4t4OfreCS6iMtWF7qxVazY6QdZtr+ZOAKW2/cNy5eMGKS0SOq599jPXSYXEnY0bNrpEitq1atvK9ZusdeP69vif/9treMrXy+2yUVOdO5jQOqySJG3Qgu2CQ36e8Rk6B38cFuKh785zSR0r1m4wOrTQTYYvGAi7mjWq2wUHt7Ku7Rq6rOSmzVrYI5+tt/FfLnVu3h9rh1ezPbdvaDcfu5P9T+3/9kGOOhe+zFAiyZeY4fkqXcKnomsi5LDg8e8F3YFCxB/HUguPeD+yZam1pyECxUBAArAYdjkBayxLAFbFZI8NmzZZz0c+tLXrN1n96htcVwssdljV5i5ZY+cd/Cs79jfNnEWGpAkseFh6eCkT6/a3V2e6FzVuQa7BILPywo4/CgKYjHhvpt0z7mtrUHOTEw5Y6rj+D+sQOdXtiXM7BAX9l4jMZcuc+GvRooW1adMmuCYerk26lCxasdZlmhIjVlGv2kweV4QMHU3GzVjsrKLtG1e3q47e3do0K1/8cS9csl3++b7jvUUf382b7Yc1G+3aLj+PtfPFkRGEWK6wMJbu9FLWOvq/ON2e+XCh1a9Jt4yNVrt2LSemsfLSKWPIaXtscSqu4lH/+dqmfr3cWW6P3q2ZdWrbOHgPypoHIQgXjvjEvl662urUqmHfrljn4gsRgNv9sq5zyy9euc7+p3Z1u6jdGmvbuqUrnUMZmNemfWfvzV7ijt+31S/t8J222SJOMZM9TD2HZ9iX8EEQYn1NjRtMVwkA8ZfafjDEOs19evfu7Qo8Y/kj+UZDBIqFgARgsex0FV8nL2dcnX5U5WQPBOBZj3xoS5avtPo1Nlijho1K2rph3Tv/kFZ2zG5lF+MdN3Ox61dLJjCZl0fvtq0TjKnCatTkr12mbtOtatumn8p1bFi/3lat3+ysIkNObGPbN2/q7lvR4AVMGR6KyUaxjuDmpu4f83Rt46pVc90vbj5mJ9s2xYJZ0f1Df8/zMfGDyW5Ne++5R9Da/LWveHKq0aJuqzo1nIWN5+uHtRudRfDJc39r2zTYslNK6px8pxdjXI2FAAAgAElEQVRvuUJo+/IyWAlLW0rHz15sFz/+iW3etMka1K1l1apXc9nXWGjzGdf34LtzjR9KCSHU+bLhundYNWtcv5Y1blDb1qzbYIt/WGN9OjWzo/bdOXQrYj2OvcD66ru9UCandOs/jsHyR3wqlr+Q5xrx16dPH3viiSec+OOLjYYIFBMBCcBi2u0qvNZUAVjVkj1KY0cw3PjEBBv31XrboWkjZ31hUCgXa91f/9Q+KLYLDmV1p/hs4Qq7ZOQUq12jWknLNkQYpT/ab1PLerTZ5Eqh0MXBuzGpk1Z60B+UjEhcvnTOCB3Mrdfjn9iH85e77GAyl3Ep4q6m3dvtf9zZxs1cYhO/XOIEF3/HT6ZFrn3LNAqEh7b4Sl3L3MWrrdfjH9uCZWtdFxY6sjBnXOVRehRjhaJepRcrcEiNG0QMTp8+3Ya8/7W9s6iGK5bMYB+JtbvpmHZWMwdZx+n2DdE7/sslTtxi1Zu/ZI17/kjMwRLaomFtW7ZitW2sXsPuP21P27lZWPH10Gck0+OwBhLmAGNcxlgD4Qzb3/72t0F1Qjn+pptusocffti5fWmvqCECxUZAArDYdryKrtcLwKoY75eKHKGCpWLV5lr29NxaNvv7Ne7XiA6yc0/+bQvrtlf2Aehwuv2VGS7OkDAt3Hmr1290YqzfsTu5moGpMW20R/MxbQhCXqqzZs1yxZMpoYFQjDKmL/rBzn/sYyeiUrOOV63b4KxNu7ZoZP+Z92McGXKrZo1qrsA1pU2iuojp1EDGJ0Irm5ZpdCN5Ycoim/7ND45Tl/ZNsxI97AFdR3y9QdzGiGxvpfpqVXV7a8b3TnDhRt2rZaOMBXCUvfHH3jT6c3v5029/6gO92eYtWWNr1/+YMERtwAbVN9rKTdVt5+aNbPBpu+d1bqHr8UWe+Vz5kklecOMyTldihn257bbbbNCgQc7yxxcGDREoRgISgMW461V0zbxAsbD4gtBRerMWwpJxXRFHh3sQi8PytRuNIsYIjq3q1HQWMAohx7UuhNa/P1lkL039xpasXm+7tWjoEknSWXJg6xMciL3ChQZneqZmUgttwpdLDAsTtfl8YWD2gDkRe8Ya6STixSEZtwjUm47eyTq1axK8XQisSZMnW8vttnMu6rjYBU8g8EBYfvzxxy6uja4jiFaSabyrOJvyJ4jtJ4gRXLDipxjBbV1MXkXWVFq5UUOR42gDiBXwq6Vrf7QA1jCrXauGtfhFPZfcUSjWv1TcMCU0AfFHe0ieWT5j3vrKFxzf7YUvMBT4RvwNGDDA/ZD0QXu1uMc999xT0r6NL0//+Mc/XC/fdGPq1KnWt29fl2BD4Wnmddlll21x6A033OB696aOdu3aOcu8hghkQ0ACMBt6OjdvBN5//32bNGmSHXXUUe6lWSgZqKEAfByd7/BQqELFZ1EiUHhhIljIcPUJDrhYQ+ZOoePuD062jZs3W8O6/y0QjQt4+er1zjLYdKst4+rI5sXq1rdrxe3geJGPHD/Lhr0/x5ZtrGnNf1Hf1cTDXRvVghi6h5ke54UKyT7Ep2Fd9UkkPBe4jEki8RmvxLeFMGY+H85bZlc9/alLZEFowxtBd2qH/7WLfkoKKmveMCQG8LFJX7ukIkbN6mbNa6+z37Tc2nZqua11atskqzaDmTKr6DyYTpkyxVmxEX/pwhfg7V3F9NTl3w++eL399tv2yiuvlPTUreheUX7/+OOPuy4iWBfp2Xv33XfbqFGj7PPPP3efodJj4sSJNnLkSLcGMpFJSEknAIlTfPXVV0tOR+xi6dQQgWwISABmQ0/n5o3AmDFj3Ddl3KcHHHCAHXfccXbssce6uLTQl2XeJlvqRvPmzXM9aHfZZZdIcXT5ni9JFPCFJ5YR3Ge4K4mzWrRokXuZ8ndeDOIyLo89NQixTCHIaC2HyCAOEUGIEGzSYMuYw29WrHPZrRS0rmgMeWOaPfD+11ateg2rV7umUceOuYQIn4quHefvfWYqrkrEXzqXJIxhiwUW1iTp+LhMLFhlfdlBwOFm/2g+2cG1SvYCMUh5lkd67GUtt664PA09oIkFREzVWz7fDt7jx04khToQf1jO+JJSlvgrPXfY9uvXz1588UX3pQaRfcwxx9jJJ59snTp1im2piL4OHToYgpPBXOnpTI3Bv/zlL+Xep1WrVk78pROAzzzzjPtsaohAnAQkAOOkqWvllAAvPNwkTz75pD311FM2fvx49y37D3/4g/vhpVVIYpD5IvzoQ4ugQjAV6vBJFFj9iIlKVz+NlxkChZcpliuGF4O42EoLFdy9wybMt2c+WmgUL25Yr5az0PH3Q8bNdQWtvXuYv6O7RUjSxRez59i5T8y0NZtrupZtfngr2Ig/711u1m7qHnBfBBTz26X5Vj+zSmazX74VGdegIHFIZuqK1evsi6++tU0rl9qqZd+7kAcsPXAmpi31GpRoOf6BiVv0QOZePHeLV6633kf+2o7bvXnQEthXSqhgIaPUT6EO1ob4w9VLwkc6y1/puXPOQw89ZNdcc40r97Lffvs5K+Bzzz3n2F533XWxLJcvULjysdbxBdWPHj16ONH57LPPZiwA77zzThcyQPjA/vvvb7feemukjPxYFqiLJI6ABGDitrQ4FuRq5H31lROCCMJx48Y5Cwv/8CIG+TZdmWKQFzcuKqwUvPyzifHK9Y762MRtt93WiC0K4ZZapw1BiNgpS6hgnVu2Zr01qvtjNjCFly8dOcVm0gqN4sauv61Z++Zb2YBu7cssJsyez549296ZOsfun1bT/qdOTXc9P4hdo33a7cftYoe0aVwhto+/Wm43vfC5fbVsjbt/vVrVf6yneAj9f12F44wHYiC1Y0pFBYkRooPfmWNPf7TQiIesXaO6dWm/jfXYq7H9sHSxE924NFOzttdsqm7HDZroUohg4QeJNcR89vl9Wztq120rXAPWR+ITSaBp3jxMMFZ40RwckCr+sPylqwWYTvwNGzbMrrjiCif44rT2lb4XX/ToIEI3EUSaH1dffbWNHTvWfWEtb5RlAcT7wb8jfDYXLFjg4gH5t49/XwjJ0BCBTAlIAGZKTucVDAFeDAsXLjTcJIhB/rHFioUQRBBGKVwcx6JSXakEgYdYKeK4bybXwPLDy79169b2q1/9Kkj8pXvJ+uB7hArWRKxV3o2Zzu35/cp19uR/FtjbM753FqyObRq7BJXUeMHU+7DHlE9hn5vusIudP2q6sx6mFm5GaCKe/nHSbrbn9uUXgEYonvrgB/b9D+usQd2arkbhqvUbbePGzfZ/h+9o3fbKzArGdcd8vMA++PxLa96ojvXsvIdtXU4NQb/GgW/MsuETv3IsKMRMTcANGzfbETs3sZuP/dElnloLj+QX3JgPTTP7YMEaV8sP0QonLKn1a9Wwx87e+2du9tJ7hyWX/Y9a5ieTZy2bc1jXp59+6ixpUUq9EH/Xq1cv9+/CkUcemc0UKjw3VwKw9I1hwGf1rrvusrPPPrvCeekAESiLgASgno1EEeBFgajB3YIrhqbubdu2dfGCf/zjH7MqExICyrdL4+XMS7Uiy0/INXN1DNYEXqrEJsZp+cFagbAgbpD/Jo7Ni0FcWFEH1kb/8sfKS1IKNQZ9j1zalWH9W7JqvbVuUt8ePXOvCi14iM87X5lhDevWdHUI/aAUzK+2rrdFO7bQ+VJ78f9GTbFvlq9xxZ1xidO5429/au/cy2UNROPx9090dRIbpFjyVq/b6MoDDeu5989i+aiF5xKLZi+0u8Yvt6XrqlFM0N0TUXz5YTu6ln/lDcQ6WbR8WcL6W6iDz/Rnn33mkmUQf6HP0NNPP23nnXeekZhB8liuR65cwOnmTZzh4Ycf7lzBGiKQKQEJwEzJ6byCJ+CsIUuXOtcPruKXX37Zxc1gGUQMUuIkzmxiXlDEURH0TcusEFdqZUD0sZS4U3/zm984a12uBtZAXwfPB997MUjma0UDVzoWKrJmfQYt51C4+aqnptq8JatdnUMa4jVtUMduPW7ncsWWv999b31pj7w/zxrV/2+GMr9buXaDE4+vX3ZAhWVUUudOcsspQybaF9+stAZ1qlvd2rVdjcNlazbYjtvUdyKuLLcy/X7PHfaR6zpCvUY/uCbt4e44fhdnIS1rfLNslT01aY59+tVSq7lxje3dtJrt2bqpE93pYjO5DuIcFyKfgXTZqRXtS75+z7NKuRO+1EURf8T69ezZ03D/psbj5XrexCRT8oXSLwy+vPBvDlbITJNASs+ZL1Vck/Iwl1xySa6XpOsnmIAEYII3V0vbkgBuSl4MiEGyAXnxeTGIuMhGDHprGnE6hZxByQuVkhQIAGITsVTma2Ah8WKQF3pF/XPJnPWZjz4rOXWu1A2kfdu8xatdazlKllDPLmRQ8Pnm0dOd+ze1TuGSlettp2YN7OEee4ZcpuSYD2YtsvNHfOrct/Xr/je7Gbf0WuL7uu9uu7ZIz3rh8jXWbfAHTsimurSpy7d+42Z3bnkWxC2E6KZNrjexr4UHw9ROJLjjcaOTSIH4z6TGYyQwWRzsn1XWgvjD8hsy+GxTimXo0KHWrVu3kFNiOwZrI0kf999/vxOClIGhzAsiFisr8yJO0Fvu+Exg3WZ07drVunfv7n5IxqKuJePKK690Gcu4fXEzX3/99e5zwXmFvH+xQdWFckZAAjBnaHXhQiaAq5bgamKDXnjhBeemxE2MIORbfKjr1icmkJ2ca2tatjxTE1O8KzXba2Z6fmrpE5IQiJPkZcZLkmxHXox098DdB9fQ/QidD7GCZzw02ei9XL92DWftQ1Dy53Vd21qXXX5es62saxOPN+rNyfbAZ7Tdq2W4pP3YsGmzrSQu8cRdbZ9Wvyxzer2f/tTenP6dE4AkgCD8Vq7b4Ip3Dzlt94ysyTybdHjxWds884hu/sTtX+jZvsR8Mvco4o+QD0q7IMBOPfXUjLiFPkNlHUcJGLJ2Edp8cRk4cGBJzcFDDz3UJaiRlcz48ssvXfxt6dGxY0fXoo7Bet566y1nBeUzctBBB1n//v2dl0FDBLIhIAGYDT2dmwgCuClxDyMGsRAiOhCDuI6oOVhW+Q7cO8Qm8Q8z1rRCzsjz1jREAS+lQkpM8f1zU8vLwBYhSBJNSPmUTB7EOYtX2e0vzbBPvl7usoBp/9Zz/+1dJnCo+x5rG9aYbbdrZZeM/qncTYoVktI09evUsKfP61BmggtzJzP6/z03zZWkIQGkVvVq1qZpA+fSbtEoetxkOh6IjRkzZpSIQJ7XVHd86JozYR3lHF8+CQGF+AvNoEckYfHD/YoVrlDWE2XtOlYE8klAAjCftHWvgieA5YmK+4hBYgd5iRx99NEuZvCQQw4pKeSL1YqXKQNBFRqYXhkAiJ/DmsaLlJivuK1pca4JNz1tseCJaEUc+nZpxCrmYu7EEa5cu9FaNa7n4vBCh6+dR5IRbv9HJ8y3e8bOdgkpxPJR2oXs4gs7trLT992+wsu6MicLVri4RrqkkMlcUTu3Ci/60wGUDcH1z7NKXCDPeWrxaUqq+JqOCO/KEk8w4HNFSAWlXkLiRFkipVeOP/54Z3k799xzK23+ofuh40SgEAhIABbCLmgOBUkAAUJJGbKJKTHD/5NNiFWQZvK4i2+++eacWajigELAOOKPODCK/GYT5xjHfMq7hrem4SLjh4Eg9D2KEbI+ng1RmK68TK7n6K/PnEiiSK2dh3h58dNvbcSkr5yI2/6X9eykvVvY79s3rVRBMn/+fFdCBys1oQ6lByLbF/hGFCL+fE1HxGIuRHdZ+4T4Q6xi+QsVf7RT47NIp4+LLrqoUlnn6/nTfUQgDgISgHFQ1DUST4CXJN0D7r33XqO8BLUFiU3DMkg5htAA9XyC8lnJBI8TZ1RZVp2QNfteyd6aVvocxBWxa14MppaXwXIVUhQ4ZB4hx2CdwvVP+ZRCzqBlLbQhRFQh/kI60ZQu8M2XHiyvvk9xLkX3zJkzDbGK5Y8kiJBBsW0s9HTzoJduIT/jIevRMSKQTwISgPmkrXtVaQK4hMnQ42WDFZBsYsQgVhOKzBIzeMQRRwS/vHIJw5f5wOpH1mEhDzIbvaAKrUdH3KYXg74osndhhsaMZcLEW9OITcxl+ZxM5lb6HBKTZs2aFSz+0oluhLaPzfSi24vBOL/0MM+5c+c6y1+o+KOGIZmzV111lfXu3VviL46HRtcoKgISgEW13VpspgSwQGHtO+200+yEE04ouQwWE2LWcBMjBhEIv/vd75xLipdTPsus+EnxIsXqQ7xfoZeJQKRg+clGUPmiyAgVrJ4VlZfJ9BkgiYLaiaHWtEzvE8d5fq5kexPTF8fwNR2x1uKuR6j5+Ez+O1PrG0x5DrD8hSZSUQLl97//vauv17dv34zvHQcXXUMEqioBCcCqunOad94JIALLe8khBila7MUgwqZz584uoxg3FS64TF+SIYv12ZNY1BApcb34Q+4d9Rjm6l1+cc4Vl6VPbuDPOJIbmCsWKtypCKrKEPVR+HpBlcu5wtnXGvScvWWQ5zw01hShyk8U8UcyC+KPNmjE/eXyMxWFu44VgapGQAKwqu2Y5lslCPj2VYhBXMVYLKjthZsYMUiQfZwvLsQnxX1xhyKoQgPoKwOmZ4NwiJLpGXWuqckNiBWSGbzFimSIEJGS2oM4Smxa1LnGdTyiGqEaRVBle+90ZXy8GCwvc9u7qJlrqKjGso34O+WUU+yOO+4I2sNs16fzRSCpBCQAk7qzWlfBEPClLbwYpG7cgQce6MQg1kHi3rIRgxRVpgUdVhnEXz4TIqJCRqgSu0VCBxaqfJXP4b64LX3cIP9fUXkZL1TJkEWk5DK2MCrH0sd7iyoZtJUpVJkHX0I8Z9zziEDiM/nS4+tPEqaAWI3iosZS2KVLF/e5ocNGiIDPlqvOF4EkE5AATPLuam0FR4AXJC8y6gxiGZwwYYLtt99+LmaQHxI2oohBXrCUeUH0kZWcq6LJcYD0QpU/EaqVVYw6nUjxZU/4k0xXb1GlDA2CKl9CNRPO/gsGrv/KFH/pRKnP3MYCS1cSwhLYdy+qQ8MUiK0l0YofMvEl/jJ5UnSOCGxJQAJQT4QIVBIBXty82BCC/IwbN869wLFwIAYp31KeGOTlivjDnUlrr0J+KVJ4mJIdCNRcdveIupXsgc90xWoFU2rfIawRgWSlFrJFNbVrRi7d6VG5pjueOo6+vRu/J0zBW2FJ/ijrWafsDpY/CrE/8MADea1LGMe6dQ0RKFQCEoCFujOaV1ER4EVO6ysyibEO0taKLF6EIIKQxvCpL0jcmbh96UBBT9AoVsN8gyV7FKFKpihrKmShipWKRB4EILFtJDT48jJxlj2JYw98fCLCtdBd1KzXdyPB+suzQAwolkH+xOrqxWBqEgnljIj569Chg+ufm4ui1Pfcc09J716+nNBKbp999km7RcTZknVM5j8xjAMGDLDLLruszO2kYPw111xjl156qXNba4hAIRGQACyk3dBcRMDMeLHzUnz22WedGKTBfbt27Ur6EyOm7rvvPhs+fLizEhbySO1EQteMQhaqvl8yc6RlGq5qBAoCy5c98WIQ61VlroVnZNq0ae45wUpZaOK09DOJe5r5putGgqWV8j2+3iBZzP/+979dOaUHH3zQ2rdvb8OGDctJeMPjjz9uZ5xxhg0aNMj23XdfJ9JGjRrl2ualK/JN15GRI0c6wU3haeoPliUAOfbEE090CS6dOnWSACzkf6iKdG4SgEW68Vp21SDAi37p0qWuLzFi8MUXX3TCgxcLba/oRlGoFjWSAXD7VgUrJS5qhDXxaViBSluafNkTRArxa8QEejHICz6fYtAnpyCaECKFLv585xTfh7i8T57rhzx1qv3zn/+0l19+2Qlw3L/U4DzmmGNcwlScA9GHdZH7MRCj22+/vV188cX2l7/8pdxb0a4Q8ZdOAPLFhwQX4hUpVcPaZQGMc+d0rTgISADGQVHXEIEcE+DFiOuJF9Ull1zi+tAiBps1a1biJuaFUyhiEJGEixr3dKFbKXH34tLDqhfiosY1nFprELHoxWCUGniZPDI8B5QUwiKJ5a+Qk1NYH2ENzDdKoW++8CD2mjdvbrfccouNGTPG9eLmOgjCuJKHEP1kdpOdT5iFHz169HBfurDAlzfKE4Bcg1hSXMSHHnqoBGAmD7vOyTkBCcCcI9YNRCB7Arh7sUgg+kj4YGBl4OWIZXD06NEuGYSyMrzMiGHKRbxUyEp8Gzpcvi1atAg5pdKOIT4R8YdwyySRprT7EoHmY9kQAHHugbeOYVkt9MxkNpTnAGse2elkV4cMsq55fskORoClClx+F1ovMOReuKXJun/33Xdt//33Lznl6quvtrFjx9r48eMzEoAjRoyw/v37Gy5g5i8BGLIbOqYyCEgAVgZ13VMEIhLwRY3TxSVxKYTMSy+95LKJiZ/CsoEYJImEvsX5Kg9DEeIvvviiSrSh81nUiBN6JmfrxvXuel8DD7dxanmZbPbAl6UhSQXxV8iZyaniL0o7Qr7QHH/88c7C98ILL+TctZ0LAcjzj2X2lVdeccKXIQEY8R87HZ43AhKAeUOtG4lAfghQbuO1115zYhArClYouo8QR3XwwQe7jMu4B+LHtyAj3glrZCEPhBQxf1goS2dYxzFvX14GKxiCcNWqVSUFkbEQRnFjIv5w+SNYEX9Rzo1jLVGvwXop9o0ACu1FDR96bMMN8UeWcK5HLlzAuKr5nKVafvnyxpcLwjMIN4jTKpxrRrp+sglIACZ7f7W6IieAFQp3FnFOvJz4f8QgbjYsE3FYklLbpRGHSE23Qh4+OaVly5bWunXrrC1/IWv1BZERR4jP1PIy5cXx+c4pCKSqIP6I0aOMDpa/sqzVpXnxheWkk05yApcQhzjdvBXtDUkghEtQ+oUBb56LXr16ZZQEwt5SHiZ19OzZ01mYyRgmaUtDBAqFgARgoeyE5iECOSZAWZN33nmnRAzicuvatasTg507d87I5cYLk+B8guYRf4XcLg28JE/Qim+HHXaotOQUBI8vecJ8EMyp5WX8YwBbEmmwGiH+cmG5jfORIzGG+SJyQrN1WVv37t1dUg1ZvwjjfA7KwJCwcf/99zshSKYuZV4oWcMaKBFDnOCtt97qpoXVkOedwWeHufODxRJLcrohF3A+d1T3ikJAAjAKLR0rAgkhgFvq/fffLxGDvIApt0HMIO22yIitaHANrD0IGsRfHNbEiu6Zze9ZI/OlpiIv9UIYCArmhauYsi6UdEEM0j8XlzoWW9gWuvjzWd8k0pCZHjJYGwKLvsCELJA0UxmDzPo777zTZSwTvjBw4EBXE5CBeCPblyLUDNo4YjUuPTp27GhvvvmmBGBlbKDumTEBCcCM0elEEUgGASxNkyZNcmKQTiQEx1OEFzFIF4Z0LjlfNBkCvDQLXaD4zGSKCocKlHzvLhZahBRCBFcqgxhFyqFgGcs2SSVX6/Hij6xv5hoyWOtZZ53lCi5T6Dw0VjDk2jpGBEQgjIAEYBgnHSUCRUHAux0pLUMSyaxZs+zwww93GcVHHXWUEyJYbPg93Q0I9C/0oHZfiDhKRmplbTZWVVzU/En9RMQV7mKGdxNjKSuUeo9YLZlvFPHH2s477zx33htvvBHsLq6sPdF9RSCpBCQAk7qzWpcIZEnAFx3GMogY/Oyzz1y9NKw2xKRR76zQxZ8vSxOlEHGW2DI+HasYoshbVX3ZmNLlZTjOl5fBVZxNeZmMJ/tTPCWdXkhwCK33iPijywa193CZhp6XzTx1rgiIQHoCEoB6MkRABCokgAihviAB77hQiYU66KCDXAKJb9FVaC5K5kgcHf1n851cUCHQUgcg6hBTWPZwqZclrNkHMk19rUHqPyICsQ4iCvNVIoakH8roRImnxLpM2zSsfvyQbashAiJQeQQkACuPve4sAlWGwLhx41z5mKuuusqVx0Bc4QYmZnDChAnOMkjMIK5iEiwqUwwiknBdY/0jgSKfZUUy2VDiKRF/WPLS9SEu75pkchMv6MvLUH8RMUhMXa7axCH+mG+bNm1cn+eQgfijwwY1/rD8pUukCLmOjhEBEYiPgARgfCx1pQIjcM8995Rk9/FipdYXpR7SDVyc9B2dMWOGy7zk5XbFFVfY6aefXnI4L1vED/X0iM3iJUZf3vPPP7/AVh7/dLD28PPnP/95i4sjthBa8EMMIhTphIAY5Ic4tnyKwdSahLip81FQOBvaPGtwxXKXbTwl1kAvBhFpCF8vBkOyukPWQQ1F5kvJk+233z7kFFdbr0+fPi7JCMsfny0NERCByicgAVj5e6AZ5IAA9b0oMTFo0CBX0oH6XqNGjXLxa+kK1GKVoCYb8Uy8jJ9//nknALFYUBaFce6557qMxSFDhrjSENQtu/DCC534wfJV7APxRcIFQhAmb731lhM1XgzmouNGKnPuT5wi4hzxV+g1CSkBg5jCUgenOBM7uLYXg/BAAPokEkRxJqKcXrz0Td5xxx2D3bfsyU033WSPPPKIE398vjREQAQKg4AEYGHsg2YRMwFEX4cOHYwaXwysEFgsCEDHihcycB+S+XrzzTe7wylwS8eC6667ruR0hAalUvr16xdyyaI5hhc/9e2wluIqRjjz8kcMEjcYR+/dVJi+Vy4ihT3Jlfszrg1EoCGmEKlkJ8cp/krPkfhC9gI3MX/yBQcXMYWOGzVqFCQGvfiLUkCbZ+C2225zRZbZf3XBiOvp0XVEIB4CEoDxcNRVCohAtj0+eXHxwsKqh4ChJp63ABL7xN+RvYjVkGOwEh5yyCEFRKCwpgJPrKvPPfecE4OvvPKKc58jBumbSm2+bAQQmaX0nsUFWhXapXnxh1UOUZTN2qPuNKwo3eI7kWAJ9GKQ+MF0cyHpBLGK1ZufkMGeDxgwwP3wWSIEQ0MERKCwCEgAFtZ+aDYxEKCQMYkIlJogOcEPgsYcrjYAABhlSURBVNDpizt+/Pi0dyG+ifN8w/Z7773XFav1g7/HDYw7i4B9XpaDBw92rmaNcAJwxsWOm5jerxQP9pZBMnajCKLUunmcW+gFqXmGEFO0f8tW+IYTT38kVlNiBX1GMSwRg/yQUUwmshd/xHKGJm4g/rC833777S5MgphQDREQgcIjIAFYeHuiGWVJIFMByAuR7FGSPWhNhesXax/toBh//etfneDjT16IxLhdc801LuaNYska0QnAevTo0U4M8idFjrGq4ibGhV9enUHfjQQrFqVTKqseXuiqaZmH+MPtivjLJA4v9F5Rj0O04eb1YpC5UjoHsU7oRGjiBtd54IEH7MYbb3Tifr/99os6FR0vAiKQJwISgHkCrdvkj0C2LmA/UzJeyXB96aWXnHuRFzdij7jA1GPmz5/vXnYa2RFYtWqVsxjhJsZCiIuUGoOIQSy5qQIPSxruePoPZ5s9m92sw85GUNFuDzcr/XILSfyVXoGP38StjgBHaPvyMiSSlNXzmfPomcuXIsIiDj744DA4EY+Kkt0/depU69u3rxPec+bMcS5pahGmjvvuu8/4obQRA3HOOcT2aohAkglIACZ5d4t4bSSBUPKF0i8MrHsUnu3Vq1dwEgjuXyyCxPphHUEAYqVKfTHQ0opiwwgXjfgIIJiwwiIGiR1E/FGHkJhB9tEn4yAQo7iM45th+JX48oAAwbpJy7RCFn+sauXKlU6sEg5Bxi974S2DWAR9eRnEoM+0Rvw9+uijduWVV7qC4d5qHk4p7Mio2f0TJ060kSNHutjQyy+/3Hr37v0zAch8EbpYOVnHww8/7MpH8QUDMaghAkklIAGY1J0t8nXxoujRo4fLQEQIUgaGF8G0adNc9iNxe7zgbr31VkeKP4lV4oWHdQmhR7YwlgFf+46XGlmUxDfhAiae8IILLrC77rrL/amRGwJYoBDh1JFDEGLhRUgR09m5c+e8db/IZHVYNRF/xNTFnfmcyXwqOof5Iv6Iy0xXtofPhi8vQzIJnykEIUlRfIawkB9xxBEV3Sbj32eT3U8CC9a/0hbAdJNBrCMCzz777IzmipAkeQxhiQchdRBbfO2119qUKVOCC2lnNAmdJAIVEJAA1COSWAIINf4RX7hwoYsRGzhwoKsJyEDM8ULAZcWgUC2iEXduvXr13Mv60ksvdZYmP7gO7i2sfbz8EIEkhWBZKHSrThI2efr06U7wYc1BcDz77LPOWoVLniQS4jALqfyLF39Yytq2bVvwz4gXf7T6wxpW0TONMB82bJhLikI0ss7TTjvNWWn5nMVtmc02tCNEAJIIQ71QvjxiAcRdn+kgfIQSPyTD4Clg4C3g7/himVpkPtN76DwRyIaABGA29HSuCIhAXgjghkREnXrqqc7ShDjhZf3ee++VtKRDlHfp0sWJQaxQcXW/yGSBCFMsf6FiKpN7xHkObmov4qKIVWI1e/bsaQ8++KAT3yTz4FI988wznWU8zpFpcpefQ3kCkHhH4kx5ziiUPXz4cOvatWvW08edTNjJxx9/7L5w8gWG5Bo4aYhAZROQAKzsHdD9E0kgSqB6SBu6RYsWufglrI+U7qDuIPGNodmZSYCM+75du3ZpLVPEeBLv5fsTIxYQgYhBYjYpu5KvQWYz4g8rZa67n8SxJi/+KP9SFt909yHxiVCKoUOHWrdu3UoOwTJI+RjcqHGOXApArItz5851Wc+EGtDthxCPbCyAfu0kMXHd448/3lUWIDEF1hoiUNkEJAArewd0/8QRiBqoXlEbOuKJDjjgAFfj7m9/+5uLucK6wgv4008/rVRLVyFuHmLwo48+ci9yxDXZnVheEIO4i0O7X2SyNi/+fAJFRW7UTO4R5zk+O7lx48aRYhQp7nzyySe7ki+nnHJKhe7iOOacDxewnyfhBMQDE0Oc7SCBhmQSLNR8QUEQaohAIRCQACyEXdAcEkUgm0B1DyK1DR2xb1hmCBr3WYmIHNyLt9xyS0mSSqIgxrQYxDMWF8QgCQpYEYn/5CVMVjFWqrhEmi+aTN08xEOhDy/+omYnU/8Six8WaGLl4uIXwiub7P6QGEA/h8MOO8xlm/sY4ZC5lXcMMcbUFOUzrCEChUJAArBQdkLzSASBbK0U6drQEZ9ErbsZM2ZsISwQGli24npJJWIDylkEbBHTWGGwDGIlpFYdYpByMiQxZCpmKBM0efJklxgU2jGjMnmTzUvMH/FoUeoS0l0HVybF0M8555yMeWW69qjZ/XwesZIziOnr3r27+yHOD/c8g8QuwgQQfIh44v9I3CB717eBzHS+/rwbbrjBCcAPP/ww20vpfBGIjYAEYGwodSERMMs0Tqm8NnTEVPGywvqBS4rkBgraUqaGOLfSZSa0DxUTQAySkenFIGKIJADcxHQiIX4vVAyyd4g/hF9or9yKZ5i7I3w7OkIJonQkmTBhghPL/fr1s4suuiiYT9wriZLdj/s/nSDv2LGjKy3EoNQLNScXLFjgwgP4skW8bVzij3tIAMb9FOh6cRCQAIyDoq4hAj8RyFQAVtSGjqQCXlRYragtRowSZTYQMmPGjBH/LAjAkJIdWAX5wcpFGzrfkg7LUFlikIQcyoXssMMOzvpX6AOLGGKXpJhdd901WMQhcLGS0iGDOnqh4rjQeeRrfhKA+SKt+0QhIAEYhZaOFYEKCGTrAvaXT21Dl3pLrE3cgyxCLIIUrybjWCMeAohBLEHEC2IdfPvtt51FCMsX1kFi+7z4mTlzpsscxTqLO77QB88NXySwICP+Quv0UcKE5BkKb/Mj8Rd9pyUAozPTGbknIAGYe8a6Q5ERyCZQ3aNKbUOXDt8XX3zhsjax/uWy80KRbd0Wy/U9cb0YfOONNxxzxCDdZBBDiERK8hT6IIwAy19U8Uf8HPFxF198sV133XUSf4W+0ZqfCEQgIAEYAZYOFYEQAlED1UPa0NGdAKsf7kiSQuhSQkcMBIhG7gkgBpcsWeK6j1D6hJqDtBgklozOFyRShFrUcj/bLe+A+MPyR4cbulCEzvPzzz934o/QA+L+ZPnL987pfiKQWwISgLnlq6sXKYEogeohbehoY0dbOwpC06eVArxYZGrXrl2khCtn2RTi9lmwZJISM0gSDkkj3k1M28FQkZXrVSD+iN+rU6eOc2WHzouMc8QfnVfIiA09L9fr0fVFQATiIyABGB9LXUkERCDBBIihI2v2xhtvdMLID4o/jx492llj+bNJkyYlCSQkk1SWeNqwYYMTfxQQ33333YPnQeYsLfUQtHfffXfweQneei1NBBJJQAIwkduqRRU7gSit6FJZjRgxwnV2IOGBumV+4AK9/vrrbfDgwa4V3YEHHuga2hdTKzpYrFq1yurXr1/m48XvsQgiBl944QVXb47sWcQUZWbI4M7H8OKvZs2aTvyF3pdsaMTfkUceaffee6/EXz42S/cQgUoiIAFYSeB1WxHIFYGorej8PLD8HHTQQa6kCd0hUgUgbkBiFWluT1013M/EIpIkULdu3VwtpUpfl04br776qnMTEzuIJQ4xSMwgApr/z8VA/FGaBssj7uhQ8Uf2M8KPuEbiHEPPy8UadE0REIHcE5AAzD1j3UEE8kogk1Z0GzdudNmsZB9T+gQrnxeAWP+IcbviiivsyiuvdGuhHA2ZsHQhoSesRvkEiMUjixjLIFzhTSs6LIO0posrlpPr4vaNKv6ILSXmj8SWoUOHSvzpgRaBIiAgAVgEm6wlFg+BTOsQ4t6l3hslT84888wtBOCsWbNc/TusSliU/MBSxP///e9/Lx7AMawUCx0im/7EiEHcxtTZo/A0Bb4ztagi/tgjxp577hks4r777jvXJo3agI8++qjhNtYQARFIPgEJwOTvsVZYRAQy6UTyzjvvOCsefUpJYCgtAOmMgcuSa5OB7MeJJ57oSoPgctbIjACiDb5YBhHfWF6JwSMGk/qO5cUbpt6R67B/dJRB/IWKuMWLFzvxicBnH3Plls6Mjs4SARHIJQEJwFzS1bVFIM8EogrAFStWuPIgBPzjAmRIAOZ50366HeKN+oJYBhGDCxcudP1ocRMjCmnflm4g/mgRiGVxr732ChZ/iE1iEnHvI0DjckNXDj3dVQREICoBCcCoxHS8CBQwgaguYKxGpd2FCBEGcWQUA8bKJxdwfjedPWBvvBgkQQf3MJZB3LWNGjVy+7J69WrDgsv/RxF/y5cvd8LyF7/4hXNDZ+p2zi8V3U0ERCBOAhKAcdLUtUSgAAhEaUVHpipFf1MHhamxDBLb17ZtW+cWxEpEAgiJIAwERNOmTZUEkof9Jgln6tSpTgySUYwo79Spk0sieeyxx5zlDhEX6r6lbiHFrCkO/fzzz7sOIbkaUcoRsca+ffu6riVz5syxAQMG2GWXXbbF1MhEh8G0adPcvA844ABXqLpdu3a5WoKuKwKJJSABmNit1cKKlUDUVnSlOZV2AfN7XrK33XbbFmVgSBpRGZj8PmWIwenTp9vIkSOdQKJUC3X+SCDBnYsoL69lGwknJ5xwgnEdX6cwVyuIWo4I9zfrosXh5Zdfbr179/6ZAMQVTrwqBbZxeV977bU2ZcoU9xzS51hDBEQgnIAEYDgrHSkCVYZAlFZ0IQLQF4KmPhyxY9QLJG4QC6FGfglQUoZi3TNnzrQhQ4bYa6+95qxiWM4oNo2bmB8SdlLFINbek046yVauXGkvvviiNWzYMKcTz6QckZ9Qq1atnPgrbQEsPeFvv/3Wid6xY8e6MkYaIiAC4QQkAMNZ6UgREIEIBKK4/1IvW1Y3EkTOoEGDnNAhe7V0WZoIU6vSh5IgcsMNN9jrr79ujRs3dmtBoNPFw2cTv/fee85KhmWQWD9qNnbv3t0o+UI/Y2L/cjmixqKWnkuoACR8gW40FCWnjI2GCIhAOAEJwHBWOlIERCCQQFT3n79sed1I/vWvf9ns2bNdPOI555xTtAIQViR/lBW7hxgkGxyhiGh+6623XAYxljKEIV1ecj2iZqNnIgBJlEHgYpEmEUZDBEQgGgEJwGi8dLQIiEAAgUzcf+V1I0m9JSKRdnTFagEMwF9yCGIQNynxdCTw5MtKlg8BeMEFF9iYMWOc+Ntuu+2iYNGxIiACZiYBqMdABEQgVgKZuv/K60YiARjrFuX8Ypk+A35iFbmAe/Xq5forY93ky4CGCIhAdAISgNGZ6QwREIFyCGRi/amoG4kEYNV75KKUIyq9urIEIBbNiy++2Lm333zzTRf/pyECIpAZAQnAzLjpLBEQgTIIRBWAId1IJACr3uMWtRwRVkPKuTAodk3SCj8NGjSwX//61+7vL7zwQhs+fLiz/qXW/qMQdi7rGVY9+pqxCFRMQAKwYkY6QgREIAKBqO6/kG4kdCLxQzGAETajkg+NUo7I72vpKXfs2NFZ+xhl1TgcOnSoa2GoIQIiEE5AAjCclY4UAREIJBDF/RfSjSS1T60EYOAm6DAREAERKIeABKAeDxEQgdgJRHX/lZ5Aum4k1P6bO3euK3Fy1FFHGfUCcQM2a9bM/WiIgAiIgAiEE5AADGelI0VABCIQiOL+CxGADz30kPXs2fNnMyB7mMLIGiIgAiIgAuEEJADDWelIEagSBKind/DBBzurGIWA/Vi2bJmrA3fGGWdY//79q8RaNEkREAEREIHcEJAAzA1XXVUEKpXA9OnTbY899rDBgwe7TEoGwu+jjz6yiRMnWmpMXaVONMc3j7MdHT14+/TpY6NHj7ZZs2YZmaeHH3643Xbbba47iYYIiIAIVCUCEoBVabc0VxGIQGDgwIHONTp16lSbMGGCdevWzYm/3XffPcJVqu6hcbejw4J6wgknuDZ0MFyyZIldeumlhsV10qRJVReUZi4CIlCUBCQAi3LbtehiIEDR3MMOO8xq1Khhn3zyiSugiwWrWEYu29F5hgjqffbZx+bMmWMtW7YsFrRapwiIQAIISAAmYBO1BBEoi8C0adNs5513tt12280mT55sNWvWLApYUWsReiih7ej88a+++qodccQRtnTpUmvYsGFRsNUiRUAEkkFAAjAZ+6hViEBaAldffbURB1e9enVnBaTFVjGMqN1IYBKlHR3HU7/wwAMPtJ122smGDRtWDFi1RhEQgQQRkABM0GZqKSKQSuDdd981uii8/PLL1q9fP/crLFZldVNIEr2oAjBqOzoSQv70pz/Z/PnzXZcKWf+S9PRoLSJQHAQkAItjn7XKIiOwatUqlwXcpUsXIxmE7hm4ge+44w674IILEk8jqgs4Sjs6xN+JJ57oMoFff/11a9y4ceJ5aoEiIALJIyABmLw91YpEwGWnUq6Esi/169d3RO6//3678sori8YVnIt2dF78ffHFF/bGG2/YNttso6dNBERABKokAQnAKrltmrQIlE1g7Nix1rlzZ+eaPOigg7Y48Mgjj7QNGzYUhSs47nZ0iD/KwJBM8/zzz9u2225bwnbrrbcumtqK+uyJgAgkg4AEYDL2UasQARFIQyDOdnS40Vu3bp2WM9bAQw89VHsgAiIgAlWGgARgldkqTVQEREAEREAEREAE4iEgARgPR11FBERABERABERABKoMAQnAKrNVmqgIiEBVJBBnP2LWT3u/ESNG2Lx581zc4d577239+/c3kl40REAERCCUgARgKCkdJwIiIAIRCcTdj5jbDx8+3Jo2bWo77LCDrV692gYMGGCjRo2yGTNmKCs54v7ocBEoZgISgMW8+1q7CIhATgnkox/x8uXLrVGjRi6zm+xvDREQAREIISABGEJJx4iACIhARAJRi1H7y0fpR8w9KPRNpxcsgE2aNIk4Sx0uAiJQrAQkAIt157VuERCBnBKI2o6OyYT2I6YO4cknn2x0fGnevLk988wz1qFDh5yuRxcXARFIFgEJwGTtp1YjAiJQIASiCsAo/YhXrlxpCxYssO+++84GDx7sWtKNHz/exQZqiIAIiEAIAQnAEEo6RgREQAQiEojqAo7Sj7j0VNq0aWNnnXWWXXPNNRFnqcNFQASKlYAEYLHuvNYtAiKQcwK56EecbtI77rijnX766a5EjIYIiIAIhBCQAAyhpGNEQAREIAMCcfcjxvVLzb9jjz3Wxf7hAqbOIKVhPvjgA2vfvn0Gs9QpIiACxUhAArAYd11rFgERyBuBOPsRr1mzxk499VQX74f4a9y4sUv+6NOnj5JA8rajupEIJIOABGAy9lGrEAEREAEREAEREIFgAhKAwah0oAiIgAiIgAiIgAgkg4AEYDL2UasQAREQAREQAREQgWACEoDBqHSgCIiACIiACIiACCSDgARgMvZRqxABERABERABERCBYAISgMGodKAIiIAIiIAIiIAIJIOABGAy9lGrEAEREAEREAEREIFgAhKAwah0oAiIgAiIgAiIgAgkg4AEYDL2UasQAREQAREQAREQgWACEoDBqHSgCIiACIiACIiACCSDgARgMvZRqxABERABERABERCBYAISgMGodKAIiIAIiIAIiIAIJIOABGAy9lGrEAEREAEREAEREIFgAhKAwah0oAiIgAiIgAiIgAgkg4AEYDL2UasQAREQAREQAREQgWACEoDBqHSgCIiACIiACIiACCSDgARgMvZRqxABERABERABERCBYAISgMGodKAIiIAIiIAIiIAIJIOABGAy9lGrEAEREAEREAEREIFgAhKAwah0oAiIgAiIgAiIgAgkg4AEYDL2UasQAREQAREQAREQgWACEoDBqHSgCIiACIiACIiACCSDgARgMvZRqxABERABERABERCBYAISgMGodKAIiIAIiIAIiIAIJIOABGAy9lGrEAEREAEREAEREIFgAhKAwah0oAiIgAiIgAiIgAgkg4AEYDL2UasQAREQAREQAREQgWACEoDBqHSgCIiACIiACIiACCSDgARgMvZRqxABERABERABERCBYAISgMGodKAIiIAIiIAIiIAIJIOABGAy9lGrEAEREAEREAEREIFgAhKAwah0oAiIgAiIgAiIgAgkg4AEYDL2UasQAREQAREQAREQgWACEoDBqHSgCIiACIiACIiACCSDgARgMvZRqxABERABERABERCBYAISgMGodKAIiIAIiIAIiIAIJIOABGAy9lGrEAEREAEREAEREIFgAhKAwah0oAiIgAiIgAiIgAgkg4AEYDL2UasQAREQAREQAREQgWACEoDBqHSgCIiACIiACIiACCSDgARgMvZRqxABERABERABERCBYAISgMGodKAIiIAIiIAIiIAIJIOABGAy9lGrEAEREAEREAEREIFgAhKAwah0oAiIgAiIgAiIgAgkg4AEYDL2UasQAREQAREQAREQgWAC/x/kG6nNopbocgAAAABJRU5ErkJggg==\" width=\"640\">"
      ],
      "text/plain": [
       "<IPython.core.display.HTML object>"
      ]
     },
     "metadata": {},
     "output_type": "display_data"
    },
    {
     "ename": "RuntimeError",
     "evalue": "Input type (torch.cuda.FloatTensor) and weight type (torch.FloatTensor) should be the same",
     "output_type": "error",
     "traceback": [
      "\u001b[0;31m---------------------------------------------------------------------------\u001b[0m",
      "\u001b[0;31mRuntimeError\u001b[0m                              Traceback (most recent call last)",
      "Input \u001b[0;32mIn [18]\u001b[0m, in \u001b[0;36m<cell line: 5>\u001b[0;34m()\u001b[0m\n\u001b[1;32m      2\u001b[0m pointnet\u001b[38;5;241m.\u001b[39mload_state_dict(torch\u001b[38;5;241m.\u001b[39mload(\u001b[38;5;124m\"\u001b[39m\u001b[38;5;124m./checkpoints/ckpt_min_loss.pt\u001b[39m\u001b[38;5;124m\"\u001b[39m))\n\u001b[1;32m      3\u001b[0m pointnet\u001b[38;5;241m.\u001b[39meval();\n\u001b[0;32m----> 5\u001b[0m \u001b[43mtest\u001b[49m\u001b[43m(\u001b[49m\u001b[43mpointnet\u001b[49m\u001b[43m,\u001b[49m\u001b[43m \u001b[49m\u001b[38;5;124;43m'\u001b[39;49m\u001b[38;5;124;43m./train/nugg_1.pcd\u001b[39;49m\u001b[38;5;124;43m'\u001b[39;49m\u001b[43m)\u001b[49m\n",
      "Input \u001b[0;32mIn [17]\u001b[0m, in \u001b[0;36mtest\u001b[0;34m(model, pcd_path)\u001b[0m\n\u001b[1;32m     20\u001b[0m xyz \u001b[38;5;241m=\u001b[39m torch\u001b[38;5;241m.\u001b[39mfrom_numpy(xyz)\u001b[38;5;241m.\u001b[39munsqueeze(\u001b[38;5;241m0\u001b[39m)\u001b[38;5;241m.\u001b[39mto(device)\u001b[38;5;241m.\u001b[39mfloat()\n\u001b[1;32m     22\u001b[0m \u001b[38;5;28;01mwith\u001b[39;00m torch\u001b[38;5;241m.\u001b[39mno_grad():\n\u001b[0;32m---> 23\u001b[0m     result \u001b[38;5;241m=\u001b[39m \u001b[43mmodel\u001b[49m\u001b[43m(\u001b[49m\u001b[43mxyz\u001b[49m\u001b[38;5;241;43m.\u001b[39;49m\u001b[43mtranspose\u001b[49m\u001b[43m(\u001b[49m\u001b[38;5;241;43m1\u001b[39;49m\u001b[43m,\u001b[49m\u001b[38;5;241;43m2\u001b[39;49m\u001b[43m)\u001b[49m\u001b[43m)\u001b[49m[\u001b[38;5;241m0\u001b[39m]\u001b[38;5;241m.\u001b[39mdetach()\u001b[38;5;241m.\u001b[39mcpu()\u001b[38;5;241m.\u001b[39mnumpy()[\u001b[38;5;241m0\u001b[39m]\n\u001b[1;32m     24\u001b[0m \u001b[38;5;28mprint\u001b[39m(result)\n\u001b[1;32m     26\u001b[0m x1 \u001b[38;5;241m=\u001b[39m result[:\u001b[38;5;241m2\u001b[39m]\n",
      "File \u001b[0;32m~/anaconda3/envs/py38/lib/python3.8/site-packages/torch/nn/modules/module.py:1110\u001b[0m, in \u001b[0;36mModule._call_impl\u001b[0;34m(self, *input, **kwargs)\u001b[0m\n\u001b[1;32m   1106\u001b[0m \u001b[38;5;66;03m# If we don't have any hooks, we want to skip the rest of the logic in\u001b[39;00m\n\u001b[1;32m   1107\u001b[0m \u001b[38;5;66;03m# this function, and just call forward.\u001b[39;00m\n\u001b[1;32m   1108\u001b[0m \u001b[38;5;28;01mif\u001b[39;00m \u001b[38;5;129;01mnot\u001b[39;00m (\u001b[38;5;28mself\u001b[39m\u001b[38;5;241m.\u001b[39m_backward_hooks \u001b[38;5;129;01mor\u001b[39;00m \u001b[38;5;28mself\u001b[39m\u001b[38;5;241m.\u001b[39m_forward_hooks \u001b[38;5;129;01mor\u001b[39;00m \u001b[38;5;28mself\u001b[39m\u001b[38;5;241m.\u001b[39m_forward_pre_hooks \u001b[38;5;129;01mor\u001b[39;00m _global_backward_hooks\n\u001b[1;32m   1109\u001b[0m         \u001b[38;5;129;01mor\u001b[39;00m _global_forward_hooks \u001b[38;5;129;01mor\u001b[39;00m _global_forward_pre_hooks):\n\u001b[0;32m-> 1110\u001b[0m     \u001b[38;5;28;01mreturn\u001b[39;00m \u001b[43mforward_call\u001b[49m\u001b[43m(\u001b[49m\u001b[38;5;241;43m*\u001b[39;49m\u001b[38;5;28;43minput\u001b[39;49m\u001b[43m,\u001b[49m\u001b[43m \u001b[49m\u001b[38;5;241;43m*\u001b[39;49m\u001b[38;5;241;43m*\u001b[39;49m\u001b[43mkwargs\u001b[49m\u001b[43m)\u001b[49m\n\u001b[1;32m   1111\u001b[0m \u001b[38;5;66;03m# Do not call functions when jit is used\u001b[39;00m\n\u001b[1;32m   1112\u001b[0m full_backward_hooks, non_full_backward_hooks \u001b[38;5;241m=\u001b[39m [], []\n",
      "Input \u001b[0;32mIn [7]\u001b[0m, in \u001b[0;36mPointNet.forward\u001b[0;34m(self, x)\u001b[0m\n\u001b[1;32m     70\u001b[0m \u001b[38;5;28;01mdef\u001b[39;00m \u001b[38;5;21mforward\u001b[39m(\u001b[38;5;28mself\u001b[39m, x):\n\u001b[0;32m---> 71\u001b[0m     x, mat3, mat64 \u001b[38;5;241m=\u001b[39m \u001b[38;5;28;43mself\u001b[39;49m\u001b[38;5;241;43m.\u001b[39;49m\u001b[43mtransform\u001b[49m\u001b[43m(\u001b[49m\u001b[43mx\u001b[49m\u001b[43m)\u001b[49m\n\u001b[1;32m     72\u001b[0m     x \u001b[38;5;241m=\u001b[39m F\u001b[38;5;241m.\u001b[39mrelu(\u001b[38;5;28mself\u001b[39m\u001b[38;5;241m.\u001b[39mfc1(x))\n\u001b[1;32m     73\u001b[0m     x \u001b[38;5;241m=\u001b[39m F\u001b[38;5;241m.\u001b[39mrelu(\u001b[38;5;28mself\u001b[39m\u001b[38;5;241m.\u001b[39mdropout(\u001b[38;5;28mself\u001b[39m\u001b[38;5;241m.\u001b[39mfc2(x)))\n",
      "File \u001b[0;32m~/anaconda3/envs/py38/lib/python3.8/site-packages/torch/nn/modules/module.py:1110\u001b[0m, in \u001b[0;36mModule._call_impl\u001b[0;34m(self, *input, **kwargs)\u001b[0m\n\u001b[1;32m   1106\u001b[0m \u001b[38;5;66;03m# If we don't have any hooks, we want to skip the rest of the logic in\u001b[39;00m\n\u001b[1;32m   1107\u001b[0m \u001b[38;5;66;03m# this function, and just call forward.\u001b[39;00m\n\u001b[1;32m   1108\u001b[0m \u001b[38;5;28;01mif\u001b[39;00m \u001b[38;5;129;01mnot\u001b[39;00m (\u001b[38;5;28mself\u001b[39m\u001b[38;5;241m.\u001b[39m_backward_hooks \u001b[38;5;129;01mor\u001b[39;00m \u001b[38;5;28mself\u001b[39m\u001b[38;5;241m.\u001b[39m_forward_hooks \u001b[38;5;129;01mor\u001b[39;00m \u001b[38;5;28mself\u001b[39m\u001b[38;5;241m.\u001b[39m_forward_pre_hooks \u001b[38;5;129;01mor\u001b[39;00m _global_backward_hooks\n\u001b[1;32m   1109\u001b[0m         \u001b[38;5;129;01mor\u001b[39;00m _global_forward_hooks \u001b[38;5;129;01mor\u001b[39;00m _global_forward_pre_hooks):\n\u001b[0;32m-> 1110\u001b[0m     \u001b[38;5;28;01mreturn\u001b[39;00m \u001b[43mforward_call\u001b[49m\u001b[43m(\u001b[49m\u001b[38;5;241;43m*\u001b[39;49m\u001b[38;5;28;43minput\u001b[39;49m\u001b[43m,\u001b[49m\u001b[43m \u001b[49m\u001b[38;5;241;43m*\u001b[39;49m\u001b[38;5;241;43m*\u001b[39;49m\u001b[43mkwargs\u001b[49m\u001b[43m)\u001b[49m\n\u001b[1;32m   1111\u001b[0m \u001b[38;5;66;03m# Do not call functions when jit is used\u001b[39;00m\n\u001b[1;32m   1112\u001b[0m full_backward_hooks, non_full_backward_hooks \u001b[38;5;241m=\u001b[39m [], []\n",
      "Input \u001b[0;32mIn [7]\u001b[0m, in \u001b[0;36mTransform.forward\u001b[0;34m(self, x)\u001b[0m\n\u001b[1;32m     45\u001b[0m \u001b[38;5;28;01mdef\u001b[39;00m \u001b[38;5;21mforward\u001b[39m(\u001b[38;5;28mself\u001b[39m, x):\n\u001b[0;32m---> 46\u001b[0m     matrix3x3 \u001b[38;5;241m=\u001b[39m \u001b[38;5;28;43mself\u001b[39;49m\u001b[38;5;241;43m.\u001b[39;49m\u001b[43minput_transform\u001b[49m\u001b[43m(\u001b[49m\u001b[43mx\u001b[49m\u001b[43m)\u001b[49m\n\u001b[1;32m     47\u001b[0m     x \u001b[38;5;241m=\u001b[39m torch\u001b[38;5;241m.\u001b[39mbmm(torch\u001b[38;5;241m.\u001b[39mtranspose(x, \u001b[38;5;241m1\u001b[39m, \u001b[38;5;241m2\u001b[39m), matrix3x3)\u001b[38;5;241m.\u001b[39mtranspose(\u001b[38;5;241m1\u001b[39m,\u001b[38;5;241m2\u001b[39m)\n\u001b[1;32m     48\u001b[0m     x \u001b[38;5;241m=\u001b[39m F\u001b[38;5;241m.\u001b[39mrelu(\u001b[38;5;28mself\u001b[39m\u001b[38;5;241m.\u001b[39mconv1(x))\n",
      "File \u001b[0;32m~/anaconda3/envs/py38/lib/python3.8/site-packages/torch/nn/modules/module.py:1110\u001b[0m, in \u001b[0;36mModule._call_impl\u001b[0;34m(self, *input, **kwargs)\u001b[0m\n\u001b[1;32m   1106\u001b[0m \u001b[38;5;66;03m# If we don't have any hooks, we want to skip the rest of the logic in\u001b[39;00m\n\u001b[1;32m   1107\u001b[0m \u001b[38;5;66;03m# this function, and just call forward.\u001b[39;00m\n\u001b[1;32m   1108\u001b[0m \u001b[38;5;28;01mif\u001b[39;00m \u001b[38;5;129;01mnot\u001b[39;00m (\u001b[38;5;28mself\u001b[39m\u001b[38;5;241m.\u001b[39m_backward_hooks \u001b[38;5;129;01mor\u001b[39;00m \u001b[38;5;28mself\u001b[39m\u001b[38;5;241m.\u001b[39m_forward_hooks \u001b[38;5;129;01mor\u001b[39;00m \u001b[38;5;28mself\u001b[39m\u001b[38;5;241m.\u001b[39m_forward_pre_hooks \u001b[38;5;129;01mor\u001b[39;00m _global_backward_hooks\n\u001b[1;32m   1109\u001b[0m         \u001b[38;5;129;01mor\u001b[39;00m _global_forward_hooks \u001b[38;5;129;01mor\u001b[39;00m _global_forward_pre_hooks):\n\u001b[0;32m-> 1110\u001b[0m     \u001b[38;5;28;01mreturn\u001b[39;00m \u001b[43mforward_call\u001b[49m\u001b[43m(\u001b[49m\u001b[38;5;241;43m*\u001b[39;49m\u001b[38;5;28;43minput\u001b[39;49m\u001b[43m,\u001b[49m\u001b[43m \u001b[49m\u001b[38;5;241;43m*\u001b[39;49m\u001b[38;5;241;43m*\u001b[39;49m\u001b[43mkwargs\u001b[49m\u001b[43m)\u001b[49m\n\u001b[1;32m   1111\u001b[0m \u001b[38;5;66;03m# Do not call functions when jit is used\u001b[39;00m\n\u001b[1;32m   1112\u001b[0m full_backward_hooks, non_full_backward_hooks \u001b[38;5;241m=\u001b[39m [], []\n",
      "Input \u001b[0;32mIn [7]\u001b[0m, in \u001b[0;36mTnet.forward\u001b[0;34m(self, x)\u001b[0m\n\u001b[1;32m     17\u001b[0m \u001b[38;5;28;01mdef\u001b[39;00m \u001b[38;5;21mforward\u001b[39m(\u001b[38;5;28mself\u001b[39m, x):\n\u001b[1;32m     18\u001b[0m     bs \u001b[38;5;241m=\u001b[39m x\u001b[38;5;241m.\u001b[39msize(\u001b[38;5;241m0\u001b[39m)\n\u001b[0;32m---> 19\u001b[0m     x \u001b[38;5;241m=\u001b[39m F\u001b[38;5;241m.\u001b[39mrelu(\u001b[38;5;28;43mself\u001b[39;49m\u001b[38;5;241;43m.\u001b[39;49m\u001b[43mconv1\u001b[49m\u001b[43m(\u001b[49m\u001b[43mx\u001b[49m\u001b[43m)\u001b[49m)\n\u001b[1;32m     20\u001b[0m     x \u001b[38;5;241m=\u001b[39m F\u001b[38;5;241m.\u001b[39mrelu(\u001b[38;5;28mself\u001b[39m\u001b[38;5;241m.\u001b[39mconv2(x))\n\u001b[1;32m     21\u001b[0m     x \u001b[38;5;241m=\u001b[39m F\u001b[38;5;241m.\u001b[39mrelu(\u001b[38;5;28mself\u001b[39m\u001b[38;5;241m.\u001b[39mconv3(x))\n",
      "File \u001b[0;32m~/anaconda3/envs/py38/lib/python3.8/site-packages/torch/nn/modules/module.py:1110\u001b[0m, in \u001b[0;36mModule._call_impl\u001b[0;34m(self, *input, **kwargs)\u001b[0m\n\u001b[1;32m   1106\u001b[0m \u001b[38;5;66;03m# If we don't have any hooks, we want to skip the rest of the logic in\u001b[39;00m\n\u001b[1;32m   1107\u001b[0m \u001b[38;5;66;03m# this function, and just call forward.\u001b[39;00m\n\u001b[1;32m   1108\u001b[0m \u001b[38;5;28;01mif\u001b[39;00m \u001b[38;5;129;01mnot\u001b[39;00m (\u001b[38;5;28mself\u001b[39m\u001b[38;5;241m.\u001b[39m_backward_hooks \u001b[38;5;129;01mor\u001b[39;00m \u001b[38;5;28mself\u001b[39m\u001b[38;5;241m.\u001b[39m_forward_hooks \u001b[38;5;129;01mor\u001b[39;00m \u001b[38;5;28mself\u001b[39m\u001b[38;5;241m.\u001b[39m_forward_pre_hooks \u001b[38;5;129;01mor\u001b[39;00m _global_backward_hooks\n\u001b[1;32m   1109\u001b[0m         \u001b[38;5;129;01mor\u001b[39;00m _global_forward_hooks \u001b[38;5;129;01mor\u001b[39;00m _global_forward_pre_hooks):\n\u001b[0;32m-> 1110\u001b[0m     \u001b[38;5;28;01mreturn\u001b[39;00m \u001b[43mforward_call\u001b[49m\u001b[43m(\u001b[49m\u001b[38;5;241;43m*\u001b[39;49m\u001b[38;5;28;43minput\u001b[39;49m\u001b[43m,\u001b[49m\u001b[43m \u001b[49m\u001b[38;5;241;43m*\u001b[39;49m\u001b[38;5;241;43m*\u001b[39;49m\u001b[43mkwargs\u001b[49m\u001b[43m)\u001b[49m\n\u001b[1;32m   1111\u001b[0m \u001b[38;5;66;03m# Do not call functions when jit is used\u001b[39;00m\n\u001b[1;32m   1112\u001b[0m full_backward_hooks, non_full_backward_hooks \u001b[38;5;241m=\u001b[39m [], []\n",
      "File \u001b[0;32m~/anaconda3/envs/py38/lib/python3.8/site-packages/torch/nn/modules/conv.py:302\u001b[0m, in \u001b[0;36mConv1d.forward\u001b[0;34m(self, input)\u001b[0m\n\u001b[1;32m    301\u001b[0m \u001b[38;5;28;01mdef\u001b[39;00m \u001b[38;5;21mforward\u001b[39m(\u001b[38;5;28mself\u001b[39m, \u001b[38;5;28minput\u001b[39m: Tensor) \u001b[38;5;241m-\u001b[39m\u001b[38;5;241m>\u001b[39m Tensor:\n\u001b[0;32m--> 302\u001b[0m     \u001b[38;5;28;01mreturn\u001b[39;00m \u001b[38;5;28;43mself\u001b[39;49m\u001b[38;5;241;43m.\u001b[39;49m\u001b[43m_conv_forward\u001b[49m\u001b[43m(\u001b[49m\u001b[38;5;28;43minput\u001b[39;49m\u001b[43m,\u001b[49m\u001b[43m \u001b[49m\u001b[38;5;28;43mself\u001b[39;49m\u001b[38;5;241;43m.\u001b[39;49m\u001b[43mweight\u001b[49m\u001b[43m,\u001b[49m\u001b[43m \u001b[49m\u001b[38;5;28;43mself\u001b[39;49m\u001b[38;5;241;43m.\u001b[39;49m\u001b[43mbias\u001b[49m\u001b[43m)\u001b[49m\n",
      "File \u001b[0;32m~/anaconda3/envs/py38/lib/python3.8/site-packages/torch/nn/modules/conv.py:298\u001b[0m, in \u001b[0;36mConv1d._conv_forward\u001b[0;34m(self, input, weight, bias)\u001b[0m\n\u001b[1;32m    294\u001b[0m \u001b[38;5;28;01mif\u001b[39;00m \u001b[38;5;28mself\u001b[39m\u001b[38;5;241m.\u001b[39mpadding_mode \u001b[38;5;241m!=\u001b[39m \u001b[38;5;124m'\u001b[39m\u001b[38;5;124mzeros\u001b[39m\u001b[38;5;124m'\u001b[39m:\n\u001b[1;32m    295\u001b[0m     \u001b[38;5;28;01mreturn\u001b[39;00m F\u001b[38;5;241m.\u001b[39mconv1d(F\u001b[38;5;241m.\u001b[39mpad(\u001b[38;5;28minput\u001b[39m, \u001b[38;5;28mself\u001b[39m\u001b[38;5;241m.\u001b[39m_reversed_padding_repeated_twice, mode\u001b[38;5;241m=\u001b[39m\u001b[38;5;28mself\u001b[39m\u001b[38;5;241m.\u001b[39mpadding_mode),\n\u001b[1;32m    296\u001b[0m                     weight, bias, \u001b[38;5;28mself\u001b[39m\u001b[38;5;241m.\u001b[39mstride,\n\u001b[1;32m    297\u001b[0m                     _single(\u001b[38;5;241m0\u001b[39m), \u001b[38;5;28mself\u001b[39m\u001b[38;5;241m.\u001b[39mdilation, \u001b[38;5;28mself\u001b[39m\u001b[38;5;241m.\u001b[39mgroups)\n\u001b[0;32m--> 298\u001b[0m \u001b[38;5;28;01mreturn\u001b[39;00m \u001b[43mF\u001b[49m\u001b[38;5;241;43m.\u001b[39;49m\u001b[43mconv1d\u001b[49m\u001b[43m(\u001b[49m\u001b[38;5;28;43minput\u001b[39;49m\u001b[43m,\u001b[49m\u001b[43m \u001b[49m\u001b[43mweight\u001b[49m\u001b[43m,\u001b[49m\u001b[43m \u001b[49m\u001b[43mbias\u001b[49m\u001b[43m,\u001b[49m\u001b[43m \u001b[49m\u001b[38;5;28;43mself\u001b[39;49m\u001b[38;5;241;43m.\u001b[39;49m\u001b[43mstride\u001b[49m\u001b[43m,\u001b[49m\n\u001b[1;32m    299\u001b[0m \u001b[43m                \u001b[49m\u001b[38;5;28;43mself\u001b[39;49m\u001b[38;5;241;43m.\u001b[39;49m\u001b[43mpadding\u001b[49m\u001b[43m,\u001b[49m\u001b[43m \u001b[49m\u001b[38;5;28;43mself\u001b[39;49m\u001b[38;5;241;43m.\u001b[39;49m\u001b[43mdilation\u001b[49m\u001b[43m,\u001b[49m\u001b[43m \u001b[49m\u001b[38;5;28;43mself\u001b[39;49m\u001b[38;5;241;43m.\u001b[39;49m\u001b[43mgroups\u001b[49m\u001b[43m)\u001b[49m\n",
      "\u001b[0;31mRuntimeError\u001b[0m: Input type (torch.cuda.FloatTensor) and weight type (torch.FloatTensor) should be the same"
     ]
    }
   ],
   "source": [
    "\n",
    "pointnet = PointNet()\n",
    "pointnet.load_state_dict(torch.load(\"./checkpoints/ckpt_min_loss.pt\"))\n",
    "pointnet.eval();\n",
    "\n",
    "test(pointnet, './train/nugg_1.pcd')"
   ]
  },
  {
   "cell_type": "code",
   "execution_count": null,
   "id": "8924b03b",
   "metadata": {},
   "outputs": [],
   "source": []
  },
  {
   "cell_type": "code",
   "execution_count": null,
   "id": "24e5cf58",
   "metadata": {},
   "outputs": [],
   "source": []
  },
  {
   "cell_type": "code",
   "execution_count": null,
   "id": "0589b0cb",
   "metadata": {},
   "outputs": [],
   "source": []
  }
 ],
 "metadata": {
  "kernelspec": {
   "display_name": "Python 3 (ipykernel)",
   "language": "python",
   "name": "python3"
  },
  "language_info": {
   "codemirror_mode": {
    "name": "ipython",
    "version": 3
   },
   "file_extension": ".py",
   "mimetype": "text/x-python",
   "name": "python",
   "nbconvert_exporter": "python",
   "pygments_lexer": "ipython3",
   "version": "3.8.13"
  }
 },
 "nbformat": 4,
 "nbformat_minor": 5
}
