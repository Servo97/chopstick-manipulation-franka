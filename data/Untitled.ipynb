{
 "cells": [
  {
   "cell_type": "code",
   "execution_count": 22,
   "id": "97b5a614",
   "metadata": {},
   "outputs": [],
   "source": [
    "%matplotlib notebook\n",
    "import numpy as np\n",
    "import matplotlib.pyplot as plt\n",
    "plt.ion()\n",
    "import scipy\n",
    "import math\n",
    "import os\n",
    "import random\n",
    "import open3d as o3d\n",
    "# from open3d. import uniform_down_sample\n",
    "import torch\n",
    "import scipy.spatial.distance\n",
    "from glob import glob\n",
    "\n",
    "import torch\n",
    "import torch.nn as nn\n",
    "import torch.nn.functional as F\n",
    "from torch.utils.data import Dataset, DataLoader\n",
    "from torchvision import transforms, utils\n",
    "\n",
    "import plotly.graph_objects as go\n",
    "import plotly.express as px"
   ]
  },
  {
   "cell_type": "code",
   "execution_count": 33,
   "id": "723a087f",
   "metadata": {},
   "outputs": [
    {
     "name": "stdout",
     "output_type": "stream",
     "text": [
      "[0.40176077 0.1337709  0.00571454]\n",
      "0.0027145419237331325 0.006714541923733133\n"
     ]
    },
    {
     "data": {
      "application/javascript": [
       "/* Put everything inside the global mpl namespace */\n",
       "/* global mpl */\n",
       "window.mpl = {};\n",
       "\n",
       "mpl.get_websocket_type = function () {\n",
       "    if (typeof WebSocket !== 'undefined') {\n",
       "        return WebSocket;\n",
       "    } else if (typeof MozWebSocket !== 'undefined') {\n",
       "        return MozWebSocket;\n",
       "    } else {\n",
       "        alert(\n",
       "            'Your browser does not have WebSocket support. ' +\n",
       "                'Please try Chrome, Safari or Firefox ≥ 6. ' +\n",
       "                'Firefox 4 and 5 are also supported but you ' +\n",
       "                'have to enable WebSockets in about:config.'\n",
       "        );\n",
       "    }\n",
       "};\n",
       "\n",
       "mpl.figure = function (figure_id, websocket, ondownload, parent_element) {\n",
       "    this.id = figure_id;\n",
       "\n",
       "    this.ws = websocket;\n",
       "\n",
       "    this.supports_binary = this.ws.binaryType !== undefined;\n",
       "\n",
       "    if (!this.supports_binary) {\n",
       "        var warnings = document.getElementById('mpl-warnings');\n",
       "        if (warnings) {\n",
       "            warnings.style.display = 'block';\n",
       "            warnings.textContent =\n",
       "                'This browser does not support binary websocket messages. ' +\n",
       "                'Performance may be slow.';\n",
       "        }\n",
       "    }\n",
       "\n",
       "    this.imageObj = new Image();\n",
       "\n",
       "    this.context = undefined;\n",
       "    this.message = undefined;\n",
       "    this.canvas = undefined;\n",
       "    this.rubberband_canvas = undefined;\n",
       "    this.rubberband_context = undefined;\n",
       "    this.format_dropdown = undefined;\n",
       "\n",
       "    this.image_mode = 'full';\n",
       "\n",
       "    this.root = document.createElement('div');\n",
       "    this.root.setAttribute('style', 'display: inline-block');\n",
       "    this._root_extra_style(this.root);\n",
       "\n",
       "    parent_element.appendChild(this.root);\n",
       "\n",
       "    this._init_header(this);\n",
       "    this._init_canvas(this);\n",
       "    this._init_toolbar(this);\n",
       "\n",
       "    var fig = this;\n",
       "\n",
       "    this.waiting = false;\n",
       "\n",
       "    this.ws.onopen = function () {\n",
       "        fig.send_message('supports_binary', { value: fig.supports_binary });\n",
       "        fig.send_message('send_image_mode', {});\n",
       "        if (fig.ratio !== 1) {\n",
       "            fig.send_message('set_device_pixel_ratio', {\n",
       "                device_pixel_ratio: fig.ratio,\n",
       "            });\n",
       "        }\n",
       "        fig.send_message('refresh', {});\n",
       "    };\n",
       "\n",
       "    this.imageObj.onload = function () {\n",
       "        if (fig.image_mode === 'full') {\n",
       "            // Full images could contain transparency (where diff images\n",
       "            // almost always do), so we need to clear the canvas so that\n",
       "            // there is no ghosting.\n",
       "            fig.context.clearRect(0, 0, fig.canvas.width, fig.canvas.height);\n",
       "        }\n",
       "        fig.context.drawImage(fig.imageObj, 0, 0);\n",
       "    };\n",
       "\n",
       "    this.imageObj.onunload = function () {\n",
       "        fig.ws.close();\n",
       "    };\n",
       "\n",
       "    this.ws.onmessage = this._make_on_message_function(this);\n",
       "\n",
       "    this.ondownload = ondownload;\n",
       "};\n",
       "\n",
       "mpl.figure.prototype._init_header = function () {\n",
       "    var titlebar = document.createElement('div');\n",
       "    titlebar.classList =\n",
       "        'ui-dialog-titlebar ui-widget-header ui-corner-all ui-helper-clearfix';\n",
       "    var titletext = document.createElement('div');\n",
       "    titletext.classList = 'ui-dialog-title';\n",
       "    titletext.setAttribute(\n",
       "        'style',\n",
       "        'width: 100%; text-align: center; padding: 3px;'\n",
       "    );\n",
       "    titlebar.appendChild(titletext);\n",
       "    this.root.appendChild(titlebar);\n",
       "    this.header = titletext;\n",
       "};\n",
       "\n",
       "mpl.figure.prototype._canvas_extra_style = function (_canvas_div) {};\n",
       "\n",
       "mpl.figure.prototype._root_extra_style = function (_canvas_div) {};\n",
       "\n",
       "mpl.figure.prototype._init_canvas = function () {\n",
       "    var fig = this;\n",
       "\n",
       "    var canvas_div = (this.canvas_div = document.createElement('div'));\n",
       "    canvas_div.setAttribute(\n",
       "        'style',\n",
       "        'border: 1px solid #ddd;' +\n",
       "            'box-sizing: content-box;' +\n",
       "            'clear: both;' +\n",
       "            'min-height: 1px;' +\n",
       "            'min-width: 1px;' +\n",
       "            'outline: 0;' +\n",
       "            'overflow: hidden;' +\n",
       "            'position: relative;' +\n",
       "            'resize: both;'\n",
       "    );\n",
       "\n",
       "    function on_keyboard_event_closure(name) {\n",
       "        return function (event) {\n",
       "            return fig.key_event(event, name);\n",
       "        };\n",
       "    }\n",
       "\n",
       "    canvas_div.addEventListener(\n",
       "        'keydown',\n",
       "        on_keyboard_event_closure('key_press')\n",
       "    );\n",
       "    canvas_div.addEventListener(\n",
       "        'keyup',\n",
       "        on_keyboard_event_closure('key_release')\n",
       "    );\n",
       "\n",
       "    this._canvas_extra_style(canvas_div);\n",
       "    this.root.appendChild(canvas_div);\n",
       "\n",
       "    var canvas = (this.canvas = document.createElement('canvas'));\n",
       "    canvas.classList.add('mpl-canvas');\n",
       "    canvas.setAttribute('style', 'box-sizing: content-box;');\n",
       "\n",
       "    this.context = canvas.getContext('2d');\n",
       "\n",
       "    var backingStore =\n",
       "        this.context.backingStorePixelRatio ||\n",
       "        this.context.webkitBackingStorePixelRatio ||\n",
       "        this.context.mozBackingStorePixelRatio ||\n",
       "        this.context.msBackingStorePixelRatio ||\n",
       "        this.context.oBackingStorePixelRatio ||\n",
       "        this.context.backingStorePixelRatio ||\n",
       "        1;\n",
       "\n",
       "    this.ratio = (window.devicePixelRatio || 1) / backingStore;\n",
       "\n",
       "    var rubberband_canvas = (this.rubberband_canvas = document.createElement(\n",
       "        'canvas'\n",
       "    ));\n",
       "    rubberband_canvas.setAttribute(\n",
       "        'style',\n",
       "        'box-sizing: content-box; position: absolute; left: 0; top: 0; z-index: 1;'\n",
       "    );\n",
       "\n",
       "    // Apply a ponyfill if ResizeObserver is not implemented by browser.\n",
       "    if (this.ResizeObserver === undefined) {\n",
       "        if (window.ResizeObserver !== undefined) {\n",
       "            this.ResizeObserver = window.ResizeObserver;\n",
       "        } else {\n",
       "            var obs = _JSXTOOLS_RESIZE_OBSERVER({});\n",
       "            this.ResizeObserver = obs.ResizeObserver;\n",
       "        }\n",
       "    }\n",
       "\n",
       "    this.resizeObserverInstance = new this.ResizeObserver(function (entries) {\n",
       "        var nentries = entries.length;\n",
       "        for (var i = 0; i < nentries; i++) {\n",
       "            var entry = entries[i];\n",
       "            var width, height;\n",
       "            if (entry.contentBoxSize) {\n",
       "                if (entry.contentBoxSize instanceof Array) {\n",
       "                    // Chrome 84 implements new version of spec.\n",
       "                    width = entry.contentBoxSize[0].inlineSize;\n",
       "                    height = entry.contentBoxSize[0].blockSize;\n",
       "                } else {\n",
       "                    // Firefox implements old version of spec.\n",
       "                    width = entry.contentBoxSize.inlineSize;\n",
       "                    height = entry.contentBoxSize.blockSize;\n",
       "                }\n",
       "            } else {\n",
       "                // Chrome <84 implements even older version of spec.\n",
       "                width = entry.contentRect.width;\n",
       "                height = entry.contentRect.height;\n",
       "            }\n",
       "\n",
       "            // Keep the size of the canvas and rubber band canvas in sync with\n",
       "            // the canvas container.\n",
       "            if (entry.devicePixelContentBoxSize) {\n",
       "                // Chrome 84 implements new version of spec.\n",
       "                canvas.setAttribute(\n",
       "                    'width',\n",
       "                    entry.devicePixelContentBoxSize[0].inlineSize\n",
       "                );\n",
       "                canvas.setAttribute(\n",
       "                    'height',\n",
       "                    entry.devicePixelContentBoxSize[0].blockSize\n",
       "                );\n",
       "            } else {\n",
       "                canvas.setAttribute('width', width * fig.ratio);\n",
       "                canvas.setAttribute('height', height * fig.ratio);\n",
       "            }\n",
       "            canvas.setAttribute(\n",
       "                'style',\n",
       "                'width: ' + width + 'px; height: ' + height + 'px;'\n",
       "            );\n",
       "\n",
       "            rubberband_canvas.setAttribute('width', width);\n",
       "            rubberband_canvas.setAttribute('height', height);\n",
       "\n",
       "            // And update the size in Python. We ignore the initial 0/0 size\n",
       "            // that occurs as the element is placed into the DOM, which should\n",
       "            // otherwise not happen due to the minimum size styling.\n",
       "            if (fig.ws.readyState == 1 && width != 0 && height != 0) {\n",
       "                fig.request_resize(width, height);\n",
       "            }\n",
       "        }\n",
       "    });\n",
       "    this.resizeObserverInstance.observe(canvas_div);\n",
       "\n",
       "    function on_mouse_event_closure(name) {\n",
       "        return function (event) {\n",
       "            return fig.mouse_event(event, name);\n",
       "        };\n",
       "    }\n",
       "\n",
       "    rubberband_canvas.addEventListener(\n",
       "        'mousedown',\n",
       "        on_mouse_event_closure('button_press')\n",
       "    );\n",
       "    rubberband_canvas.addEventListener(\n",
       "        'mouseup',\n",
       "        on_mouse_event_closure('button_release')\n",
       "    );\n",
       "    rubberband_canvas.addEventListener(\n",
       "        'dblclick',\n",
       "        on_mouse_event_closure('dblclick')\n",
       "    );\n",
       "    // Throttle sequential mouse events to 1 every 20ms.\n",
       "    rubberband_canvas.addEventListener(\n",
       "        'mousemove',\n",
       "        on_mouse_event_closure('motion_notify')\n",
       "    );\n",
       "\n",
       "    rubberband_canvas.addEventListener(\n",
       "        'mouseenter',\n",
       "        on_mouse_event_closure('figure_enter')\n",
       "    );\n",
       "    rubberband_canvas.addEventListener(\n",
       "        'mouseleave',\n",
       "        on_mouse_event_closure('figure_leave')\n",
       "    );\n",
       "\n",
       "    canvas_div.addEventListener('wheel', function (event) {\n",
       "        if (event.deltaY < 0) {\n",
       "            event.step = 1;\n",
       "        } else {\n",
       "            event.step = -1;\n",
       "        }\n",
       "        on_mouse_event_closure('scroll')(event);\n",
       "    });\n",
       "\n",
       "    canvas_div.appendChild(canvas);\n",
       "    canvas_div.appendChild(rubberband_canvas);\n",
       "\n",
       "    this.rubberband_context = rubberband_canvas.getContext('2d');\n",
       "    this.rubberband_context.strokeStyle = '#000000';\n",
       "\n",
       "    this._resize_canvas = function (width, height, forward) {\n",
       "        if (forward) {\n",
       "            canvas_div.style.width = width + 'px';\n",
       "            canvas_div.style.height = height + 'px';\n",
       "        }\n",
       "    };\n",
       "\n",
       "    // Disable right mouse context menu.\n",
       "    this.rubberband_canvas.addEventListener('contextmenu', function (_e) {\n",
       "        event.preventDefault();\n",
       "        return false;\n",
       "    });\n",
       "\n",
       "    function set_focus() {\n",
       "        canvas.focus();\n",
       "        canvas_div.focus();\n",
       "    }\n",
       "\n",
       "    window.setTimeout(set_focus, 100);\n",
       "};\n",
       "\n",
       "mpl.figure.prototype._init_toolbar = function () {\n",
       "    var fig = this;\n",
       "\n",
       "    var toolbar = document.createElement('div');\n",
       "    toolbar.classList = 'mpl-toolbar';\n",
       "    this.root.appendChild(toolbar);\n",
       "\n",
       "    function on_click_closure(name) {\n",
       "        return function (_event) {\n",
       "            return fig.toolbar_button_onclick(name);\n",
       "        };\n",
       "    }\n",
       "\n",
       "    function on_mouseover_closure(tooltip) {\n",
       "        return function (event) {\n",
       "            if (!event.currentTarget.disabled) {\n",
       "                return fig.toolbar_button_onmouseover(tooltip);\n",
       "            }\n",
       "        };\n",
       "    }\n",
       "\n",
       "    fig.buttons = {};\n",
       "    var buttonGroup = document.createElement('div');\n",
       "    buttonGroup.classList = 'mpl-button-group';\n",
       "    for (var toolbar_ind in mpl.toolbar_items) {\n",
       "        var name = mpl.toolbar_items[toolbar_ind][0];\n",
       "        var tooltip = mpl.toolbar_items[toolbar_ind][1];\n",
       "        var image = mpl.toolbar_items[toolbar_ind][2];\n",
       "        var method_name = mpl.toolbar_items[toolbar_ind][3];\n",
       "\n",
       "        if (!name) {\n",
       "            /* Instead of a spacer, we start a new button group. */\n",
       "            if (buttonGroup.hasChildNodes()) {\n",
       "                toolbar.appendChild(buttonGroup);\n",
       "            }\n",
       "            buttonGroup = document.createElement('div');\n",
       "            buttonGroup.classList = 'mpl-button-group';\n",
       "            continue;\n",
       "        }\n",
       "\n",
       "        var button = (fig.buttons[name] = document.createElement('button'));\n",
       "        button.classList = 'mpl-widget';\n",
       "        button.setAttribute('role', 'button');\n",
       "        button.setAttribute('aria-disabled', 'false');\n",
       "        button.addEventListener('click', on_click_closure(method_name));\n",
       "        button.addEventListener('mouseover', on_mouseover_closure(tooltip));\n",
       "\n",
       "        var icon_img = document.createElement('img');\n",
       "        icon_img.src = '_images/' + image + '.png';\n",
       "        icon_img.srcset = '_images/' + image + '_large.png 2x';\n",
       "        icon_img.alt = tooltip;\n",
       "        button.appendChild(icon_img);\n",
       "\n",
       "        buttonGroup.appendChild(button);\n",
       "    }\n",
       "\n",
       "    if (buttonGroup.hasChildNodes()) {\n",
       "        toolbar.appendChild(buttonGroup);\n",
       "    }\n",
       "\n",
       "    var fmt_picker = document.createElement('select');\n",
       "    fmt_picker.classList = 'mpl-widget';\n",
       "    toolbar.appendChild(fmt_picker);\n",
       "    this.format_dropdown = fmt_picker;\n",
       "\n",
       "    for (var ind in mpl.extensions) {\n",
       "        var fmt = mpl.extensions[ind];\n",
       "        var option = document.createElement('option');\n",
       "        option.selected = fmt === mpl.default_extension;\n",
       "        option.innerHTML = fmt;\n",
       "        fmt_picker.appendChild(option);\n",
       "    }\n",
       "\n",
       "    var status_bar = document.createElement('span');\n",
       "    status_bar.classList = 'mpl-message';\n",
       "    toolbar.appendChild(status_bar);\n",
       "    this.message = status_bar;\n",
       "};\n",
       "\n",
       "mpl.figure.prototype.request_resize = function (x_pixels, y_pixels) {\n",
       "    // Request matplotlib to resize the figure. Matplotlib will then trigger a resize in the client,\n",
       "    // which will in turn request a refresh of the image.\n",
       "    this.send_message('resize', { width: x_pixels, height: y_pixels });\n",
       "};\n",
       "\n",
       "mpl.figure.prototype.send_message = function (type, properties) {\n",
       "    properties['type'] = type;\n",
       "    properties['figure_id'] = this.id;\n",
       "    this.ws.send(JSON.stringify(properties));\n",
       "};\n",
       "\n",
       "mpl.figure.prototype.send_draw_message = function () {\n",
       "    if (!this.waiting) {\n",
       "        this.waiting = true;\n",
       "        this.ws.send(JSON.stringify({ type: 'draw', figure_id: this.id }));\n",
       "    }\n",
       "};\n",
       "\n",
       "mpl.figure.prototype.handle_save = function (fig, _msg) {\n",
       "    var format_dropdown = fig.format_dropdown;\n",
       "    var format = format_dropdown.options[format_dropdown.selectedIndex].value;\n",
       "    fig.ondownload(fig, format);\n",
       "};\n",
       "\n",
       "mpl.figure.prototype.handle_resize = function (fig, msg) {\n",
       "    var size = msg['size'];\n",
       "    if (size[0] !== fig.canvas.width || size[1] !== fig.canvas.height) {\n",
       "        fig._resize_canvas(size[0], size[1], msg['forward']);\n",
       "        fig.send_message('refresh', {});\n",
       "    }\n",
       "};\n",
       "\n",
       "mpl.figure.prototype.handle_rubberband = function (fig, msg) {\n",
       "    var x0 = msg['x0'] / fig.ratio;\n",
       "    var y0 = (fig.canvas.height - msg['y0']) / fig.ratio;\n",
       "    var x1 = msg['x1'] / fig.ratio;\n",
       "    var y1 = (fig.canvas.height - msg['y1']) / fig.ratio;\n",
       "    x0 = Math.floor(x0) + 0.5;\n",
       "    y0 = Math.floor(y0) + 0.5;\n",
       "    x1 = Math.floor(x1) + 0.5;\n",
       "    y1 = Math.floor(y1) + 0.5;\n",
       "    var min_x = Math.min(x0, x1);\n",
       "    var min_y = Math.min(y0, y1);\n",
       "    var width = Math.abs(x1 - x0);\n",
       "    var height = Math.abs(y1 - y0);\n",
       "\n",
       "    fig.rubberband_context.clearRect(\n",
       "        0,\n",
       "        0,\n",
       "        fig.canvas.width / fig.ratio,\n",
       "        fig.canvas.height / fig.ratio\n",
       "    );\n",
       "\n",
       "    fig.rubberband_context.strokeRect(min_x, min_y, width, height);\n",
       "};\n",
       "\n",
       "mpl.figure.prototype.handle_figure_label = function (fig, msg) {\n",
       "    // Updates the figure title.\n",
       "    fig.header.textContent = msg['label'];\n",
       "};\n",
       "\n",
       "mpl.figure.prototype.handle_cursor = function (fig, msg) {\n",
       "    fig.rubberband_canvas.style.cursor = msg['cursor'];\n",
       "};\n",
       "\n",
       "mpl.figure.prototype.handle_message = function (fig, msg) {\n",
       "    fig.message.textContent = msg['message'];\n",
       "};\n",
       "\n",
       "mpl.figure.prototype.handle_draw = function (fig, _msg) {\n",
       "    // Request the server to send over a new figure.\n",
       "    fig.send_draw_message();\n",
       "};\n",
       "\n",
       "mpl.figure.prototype.handle_image_mode = function (fig, msg) {\n",
       "    fig.image_mode = msg['mode'];\n",
       "};\n",
       "\n",
       "mpl.figure.prototype.handle_history_buttons = function (fig, msg) {\n",
       "    for (var key in msg) {\n",
       "        if (!(key in fig.buttons)) {\n",
       "            continue;\n",
       "        }\n",
       "        fig.buttons[key].disabled = !msg[key];\n",
       "        fig.buttons[key].setAttribute('aria-disabled', !msg[key]);\n",
       "    }\n",
       "};\n",
       "\n",
       "mpl.figure.prototype.handle_navigate_mode = function (fig, msg) {\n",
       "    if (msg['mode'] === 'PAN') {\n",
       "        fig.buttons['Pan'].classList.add('active');\n",
       "        fig.buttons['Zoom'].classList.remove('active');\n",
       "    } else if (msg['mode'] === 'ZOOM') {\n",
       "        fig.buttons['Pan'].classList.remove('active');\n",
       "        fig.buttons['Zoom'].classList.add('active');\n",
       "    } else {\n",
       "        fig.buttons['Pan'].classList.remove('active');\n",
       "        fig.buttons['Zoom'].classList.remove('active');\n",
       "    }\n",
       "};\n",
       "\n",
       "mpl.figure.prototype.updated_canvas_event = function () {\n",
       "    // Called whenever the canvas gets updated.\n",
       "    this.send_message('ack', {});\n",
       "};\n",
       "\n",
       "// A function to construct a web socket function for onmessage handling.\n",
       "// Called in the figure constructor.\n",
       "mpl.figure.prototype._make_on_message_function = function (fig) {\n",
       "    return function socket_on_message(evt) {\n",
       "        if (evt.data instanceof Blob) {\n",
       "            var img = evt.data;\n",
       "            if (img.type !== 'image/png') {\n",
       "                /* FIXME: We get \"Resource interpreted as Image but\n",
       "                 * transferred with MIME type text/plain:\" errors on\n",
       "                 * Chrome.  But how to set the MIME type?  It doesn't seem\n",
       "                 * to be part of the websocket stream */\n",
       "                img.type = 'image/png';\n",
       "            }\n",
       "\n",
       "            /* Free the memory for the previous frames */\n",
       "            if (fig.imageObj.src) {\n",
       "                (window.URL || window.webkitURL).revokeObjectURL(\n",
       "                    fig.imageObj.src\n",
       "                );\n",
       "            }\n",
       "\n",
       "            fig.imageObj.src = (window.URL || window.webkitURL).createObjectURL(\n",
       "                img\n",
       "            );\n",
       "            fig.updated_canvas_event();\n",
       "            fig.waiting = false;\n",
       "            return;\n",
       "        } else if (\n",
       "            typeof evt.data === 'string' &&\n",
       "            evt.data.slice(0, 21) === 'data:image/png;base64'\n",
       "        ) {\n",
       "            fig.imageObj.src = evt.data;\n",
       "            fig.updated_canvas_event();\n",
       "            fig.waiting = false;\n",
       "            return;\n",
       "        }\n",
       "\n",
       "        var msg = JSON.parse(evt.data);\n",
       "        var msg_type = msg['type'];\n",
       "\n",
       "        // Call the  \"handle_{type}\" callback, which takes\n",
       "        // the figure and JSON message as its only arguments.\n",
       "        try {\n",
       "            var callback = fig['handle_' + msg_type];\n",
       "        } catch (e) {\n",
       "            console.log(\n",
       "                \"No handler for the '\" + msg_type + \"' message type: \",\n",
       "                msg\n",
       "            );\n",
       "            return;\n",
       "        }\n",
       "\n",
       "        if (callback) {\n",
       "            try {\n",
       "                // console.log(\"Handling '\" + msg_type + \"' message: \", msg);\n",
       "                callback(fig, msg);\n",
       "            } catch (e) {\n",
       "                console.log(\n",
       "                    \"Exception inside the 'handler_\" + msg_type + \"' callback:\",\n",
       "                    e,\n",
       "                    e.stack,\n",
       "                    msg\n",
       "                );\n",
       "            }\n",
       "        }\n",
       "    };\n",
       "};\n",
       "\n",
       "// from https://stackoverflow.com/questions/1114465/getting-mouse-location-in-canvas\n",
       "mpl.findpos = function (e) {\n",
       "    //this section is from http://www.quirksmode.org/js/events_properties.html\n",
       "    var targ;\n",
       "    if (!e) {\n",
       "        e = window.event;\n",
       "    }\n",
       "    if (e.target) {\n",
       "        targ = e.target;\n",
       "    } else if (e.srcElement) {\n",
       "        targ = e.srcElement;\n",
       "    }\n",
       "    if (targ.nodeType === 3) {\n",
       "        // defeat Safari bug\n",
       "        targ = targ.parentNode;\n",
       "    }\n",
       "\n",
       "    // pageX,Y are the mouse positions relative to the document\n",
       "    var boundingRect = targ.getBoundingClientRect();\n",
       "    var x = e.pageX - (boundingRect.left + document.body.scrollLeft);\n",
       "    var y = e.pageY - (boundingRect.top + document.body.scrollTop);\n",
       "\n",
       "    return { x: x, y: y };\n",
       "};\n",
       "\n",
       "/*\n",
       " * return a copy of an object with only non-object keys\n",
       " * we need this to avoid circular references\n",
       " * https://stackoverflow.com/a/24161582/3208463\n",
       " */\n",
       "function simpleKeys(original) {\n",
       "    return Object.keys(original).reduce(function (obj, key) {\n",
       "        if (typeof original[key] !== 'object') {\n",
       "            obj[key] = original[key];\n",
       "        }\n",
       "        return obj;\n",
       "    }, {});\n",
       "}\n",
       "\n",
       "mpl.figure.prototype.mouse_event = function (event, name) {\n",
       "    var canvas_pos = mpl.findpos(event);\n",
       "\n",
       "    if (name === 'button_press') {\n",
       "        this.canvas.focus();\n",
       "        this.canvas_div.focus();\n",
       "    }\n",
       "\n",
       "    var x = canvas_pos.x * this.ratio;\n",
       "    var y = canvas_pos.y * this.ratio;\n",
       "\n",
       "    this.send_message(name, {\n",
       "        x: x,\n",
       "        y: y,\n",
       "        button: event.button,\n",
       "        step: event.step,\n",
       "        guiEvent: simpleKeys(event),\n",
       "    });\n",
       "\n",
       "    /* This prevents the web browser from automatically changing to\n",
       "     * the text insertion cursor when the button is pressed.  We want\n",
       "     * to control all of the cursor setting manually through the\n",
       "     * 'cursor' event from matplotlib */\n",
       "    event.preventDefault();\n",
       "    return false;\n",
       "};\n",
       "\n",
       "mpl.figure.prototype._key_event_extra = function (_event, _name) {\n",
       "    // Handle any extra behaviour associated with a key event\n",
       "};\n",
       "\n",
       "mpl.figure.prototype.key_event = function (event, name) {\n",
       "    // Prevent repeat events\n",
       "    if (name === 'key_press') {\n",
       "        if (event.key === this._key) {\n",
       "            return;\n",
       "        } else {\n",
       "            this._key = event.key;\n",
       "        }\n",
       "    }\n",
       "    if (name === 'key_release') {\n",
       "        this._key = null;\n",
       "    }\n",
       "\n",
       "    var value = '';\n",
       "    if (event.ctrlKey && event.key !== 'Control') {\n",
       "        value += 'ctrl+';\n",
       "    }\n",
       "    else if (event.altKey && event.key !== 'Alt') {\n",
       "        value += 'alt+';\n",
       "    }\n",
       "    else if (event.shiftKey && event.key !== 'Shift') {\n",
       "        value += 'shift+';\n",
       "    }\n",
       "\n",
       "    value += 'k' + event.key;\n",
       "\n",
       "    this._key_event_extra(event, name);\n",
       "\n",
       "    this.send_message(name, { key: value, guiEvent: simpleKeys(event) });\n",
       "    return false;\n",
       "};\n",
       "\n",
       "mpl.figure.prototype.toolbar_button_onclick = function (name) {\n",
       "    if (name === 'download') {\n",
       "        this.handle_save(this, null);\n",
       "    } else {\n",
       "        this.send_message('toolbar_button', { name: name });\n",
       "    }\n",
       "};\n",
       "\n",
       "mpl.figure.prototype.toolbar_button_onmouseover = function (tooltip) {\n",
       "    this.message.textContent = tooltip;\n",
       "};\n",
       "\n",
       "///////////////// REMAINING CONTENT GENERATED BY embed_js.py /////////////////\n",
       "// prettier-ignore\n",
       "var _JSXTOOLS_RESIZE_OBSERVER=function(A){var t,i=new WeakMap,n=new WeakMap,a=new WeakMap,r=new WeakMap,o=new Set;function s(e){if(!(this instanceof s))throw new TypeError(\"Constructor requires 'new' operator\");i.set(this,e)}function h(){throw new TypeError(\"Function is not a constructor\")}function c(e,t,i,n){e=0 in arguments?Number(arguments[0]):0,t=1 in arguments?Number(arguments[1]):0,i=2 in arguments?Number(arguments[2]):0,n=3 in arguments?Number(arguments[3]):0,this.right=(this.x=this.left=e)+(this.width=i),this.bottom=(this.y=this.top=t)+(this.height=n),Object.freeze(this)}function d(){t=requestAnimationFrame(d);var s=new WeakMap,p=new Set;o.forEach((function(t){r.get(t).forEach((function(i){var r=t instanceof window.SVGElement,o=a.get(t),d=r?0:parseFloat(o.paddingTop),f=r?0:parseFloat(o.paddingRight),l=r?0:parseFloat(o.paddingBottom),u=r?0:parseFloat(o.paddingLeft),g=r?0:parseFloat(o.borderTopWidth),m=r?0:parseFloat(o.borderRightWidth),w=r?0:parseFloat(o.borderBottomWidth),b=u+f,F=d+l,v=(r?0:parseFloat(o.borderLeftWidth))+m,W=g+w,y=r?0:t.offsetHeight-W-t.clientHeight,E=r?0:t.offsetWidth-v-t.clientWidth,R=b+v,z=F+W,M=r?t.width:parseFloat(o.width)-R-E,O=r?t.height:parseFloat(o.height)-z-y;if(n.has(t)){var k=n.get(t);if(k[0]===M&&k[1]===O)return}n.set(t,[M,O]);var S=Object.create(h.prototype);S.target=t,S.contentRect=new c(u,d,M,O),s.has(i)||(s.set(i,[]),p.add(i)),s.get(i).push(S)}))})),p.forEach((function(e){i.get(e).call(e,s.get(e),e)}))}return s.prototype.observe=function(i){if(i instanceof window.Element){r.has(i)||(r.set(i,new Set),o.add(i),a.set(i,window.getComputedStyle(i)));var n=r.get(i);n.has(this)||n.add(this),cancelAnimationFrame(t),t=requestAnimationFrame(d)}},s.prototype.unobserve=function(i){if(i instanceof window.Element&&r.has(i)){var n=r.get(i);n.has(this)&&(n.delete(this),n.size||(r.delete(i),o.delete(i))),n.size||r.delete(i),o.size||cancelAnimationFrame(t)}},A.DOMRectReadOnly=c,A.ResizeObserver=s,A.ResizeObserverEntry=h,A}; // eslint-disable-line\n",
       "mpl.toolbar_items = [[\"Home\", \"Reset original view\", \"fa fa-home icon-home\", \"home\"], [\"Back\", \"Back to previous view\", \"fa fa-arrow-left icon-arrow-left\", \"back\"], [\"Forward\", \"Forward to next view\", \"fa fa-arrow-right icon-arrow-right\", \"forward\"], [\"\", \"\", \"\", \"\"], [\"Pan\", \"Left button pans, Right button zooms\\nx/y fixes axis, CTRL fixes aspect\", \"fa fa-arrows icon-move\", \"pan\"], [\"Zoom\", \"Zoom to rectangle\\nx/y fixes axis\", \"fa fa-square-o icon-check-empty\", \"zoom\"], [\"\", \"\", \"\", \"\"], [\"Download\", \"Download plot\", \"fa fa-floppy-o icon-save\", \"download\"]];\n",
       "\n",
       "mpl.extensions = [\"eps\", \"jpeg\", \"pgf\", \"pdf\", \"png\", \"ps\", \"raw\", \"svg\", \"tif\"];\n",
       "\n",
       "mpl.default_extension = \"png\";/* global mpl */\n",
       "\n",
       "var comm_websocket_adapter = function (comm) {\n",
       "    // Create a \"websocket\"-like object which calls the given IPython comm\n",
       "    // object with the appropriate methods. Currently this is a non binary\n",
       "    // socket, so there is still some room for performance tuning.\n",
       "    var ws = {};\n",
       "\n",
       "    ws.binaryType = comm.kernel.ws.binaryType;\n",
       "    ws.readyState = comm.kernel.ws.readyState;\n",
       "    function updateReadyState(_event) {\n",
       "        if (comm.kernel.ws) {\n",
       "            ws.readyState = comm.kernel.ws.readyState;\n",
       "        } else {\n",
       "            ws.readyState = 3; // Closed state.\n",
       "        }\n",
       "    }\n",
       "    comm.kernel.ws.addEventListener('open', updateReadyState);\n",
       "    comm.kernel.ws.addEventListener('close', updateReadyState);\n",
       "    comm.kernel.ws.addEventListener('error', updateReadyState);\n",
       "\n",
       "    ws.close = function () {\n",
       "        comm.close();\n",
       "    };\n",
       "    ws.send = function (m) {\n",
       "        //console.log('sending', m);\n",
       "        comm.send(m);\n",
       "    };\n",
       "    // Register the callback with on_msg.\n",
       "    comm.on_msg(function (msg) {\n",
       "        //console.log('receiving', msg['content']['data'], msg);\n",
       "        var data = msg['content']['data'];\n",
       "        if (data['blob'] !== undefined) {\n",
       "            data = {\n",
       "                data: new Blob(msg['buffers'], { type: data['blob'] }),\n",
       "            };\n",
       "        }\n",
       "        // Pass the mpl event to the overridden (by mpl) onmessage function.\n",
       "        ws.onmessage(data);\n",
       "    });\n",
       "    return ws;\n",
       "};\n",
       "\n",
       "mpl.mpl_figure_comm = function (comm, msg) {\n",
       "    // This is the function which gets called when the mpl process\n",
       "    // starts-up an IPython Comm through the \"matplotlib\" channel.\n",
       "\n",
       "    var id = msg.content.data.id;\n",
       "    // Get hold of the div created by the display call when the Comm\n",
       "    // socket was opened in Python.\n",
       "    var element = document.getElementById(id);\n",
       "    var ws_proxy = comm_websocket_adapter(comm);\n",
       "\n",
       "    function ondownload(figure, _format) {\n",
       "        window.open(figure.canvas.toDataURL());\n",
       "    }\n",
       "\n",
       "    var fig = new mpl.figure(id, ws_proxy, ondownload, element);\n",
       "\n",
       "    // Call onopen now - mpl needs it, as it is assuming we've passed it a real\n",
       "    // web socket which is closed, not our websocket->open comm proxy.\n",
       "    ws_proxy.onopen();\n",
       "\n",
       "    fig.parent_element = element;\n",
       "    fig.cell_info = mpl.find_output_cell(\"<div id='\" + id + \"'></div>\");\n",
       "    if (!fig.cell_info) {\n",
       "        console.error('Failed to find cell for figure', id, fig);\n",
       "        return;\n",
       "    }\n",
       "    fig.cell_info[0].output_area.element.on(\n",
       "        'cleared',\n",
       "        { fig: fig },\n",
       "        fig._remove_fig_handler\n",
       "    );\n",
       "};\n",
       "\n",
       "mpl.figure.prototype.handle_close = function (fig, msg) {\n",
       "    var width = fig.canvas.width / fig.ratio;\n",
       "    fig.cell_info[0].output_area.element.off(\n",
       "        'cleared',\n",
       "        fig._remove_fig_handler\n",
       "    );\n",
       "    fig.resizeObserverInstance.unobserve(fig.canvas_div);\n",
       "\n",
       "    // Update the output cell to use the data from the current canvas.\n",
       "    fig.push_to_output();\n",
       "    var dataURL = fig.canvas.toDataURL();\n",
       "    // Re-enable the keyboard manager in IPython - without this line, in FF,\n",
       "    // the notebook keyboard shortcuts fail.\n",
       "    IPython.keyboard_manager.enable();\n",
       "    fig.parent_element.innerHTML =\n",
       "        '<img src=\"' + dataURL + '\" width=\"' + width + '\">';\n",
       "    fig.close_ws(fig, msg);\n",
       "};\n",
       "\n",
       "mpl.figure.prototype.close_ws = function (fig, msg) {\n",
       "    fig.send_message('closing', msg);\n",
       "    // fig.ws.close()\n",
       "};\n",
       "\n",
       "mpl.figure.prototype.push_to_output = function (_remove_interactive) {\n",
       "    // Turn the data on the canvas into data in the output cell.\n",
       "    var width = this.canvas.width / this.ratio;\n",
       "    var dataURL = this.canvas.toDataURL();\n",
       "    this.cell_info[1]['text/html'] =\n",
       "        '<img src=\"' + dataURL + '\" width=\"' + width + '\">';\n",
       "};\n",
       "\n",
       "mpl.figure.prototype.updated_canvas_event = function () {\n",
       "    // Tell IPython that the notebook contents must change.\n",
       "    IPython.notebook.set_dirty(true);\n",
       "    this.send_message('ack', {});\n",
       "    var fig = this;\n",
       "    // Wait a second, then push the new image to the DOM so\n",
       "    // that it is saved nicely (might be nice to debounce this).\n",
       "    setTimeout(function () {\n",
       "        fig.push_to_output();\n",
       "    }, 1000);\n",
       "};\n",
       "\n",
       "mpl.figure.prototype._init_toolbar = function () {\n",
       "    var fig = this;\n",
       "\n",
       "    var toolbar = document.createElement('div');\n",
       "    toolbar.classList = 'btn-toolbar';\n",
       "    this.root.appendChild(toolbar);\n",
       "\n",
       "    function on_click_closure(name) {\n",
       "        return function (_event) {\n",
       "            return fig.toolbar_button_onclick(name);\n",
       "        };\n",
       "    }\n",
       "\n",
       "    function on_mouseover_closure(tooltip) {\n",
       "        return function (event) {\n",
       "            if (!event.currentTarget.disabled) {\n",
       "                return fig.toolbar_button_onmouseover(tooltip);\n",
       "            }\n",
       "        };\n",
       "    }\n",
       "\n",
       "    fig.buttons = {};\n",
       "    var buttonGroup = document.createElement('div');\n",
       "    buttonGroup.classList = 'btn-group';\n",
       "    var button;\n",
       "    for (var toolbar_ind in mpl.toolbar_items) {\n",
       "        var name = mpl.toolbar_items[toolbar_ind][0];\n",
       "        var tooltip = mpl.toolbar_items[toolbar_ind][1];\n",
       "        var image = mpl.toolbar_items[toolbar_ind][2];\n",
       "        var method_name = mpl.toolbar_items[toolbar_ind][3];\n",
       "\n",
       "        if (!name) {\n",
       "            /* Instead of a spacer, we start a new button group. */\n",
       "            if (buttonGroup.hasChildNodes()) {\n",
       "                toolbar.appendChild(buttonGroup);\n",
       "            }\n",
       "            buttonGroup = document.createElement('div');\n",
       "            buttonGroup.classList = 'btn-group';\n",
       "            continue;\n",
       "        }\n",
       "\n",
       "        button = fig.buttons[name] = document.createElement('button');\n",
       "        button.classList = 'btn btn-default';\n",
       "        button.href = '#';\n",
       "        button.title = name;\n",
       "        button.innerHTML = '<i class=\"fa ' + image + ' fa-lg\"></i>';\n",
       "        button.addEventListener('click', on_click_closure(method_name));\n",
       "        button.addEventListener('mouseover', on_mouseover_closure(tooltip));\n",
       "        buttonGroup.appendChild(button);\n",
       "    }\n",
       "\n",
       "    if (buttonGroup.hasChildNodes()) {\n",
       "        toolbar.appendChild(buttonGroup);\n",
       "    }\n",
       "\n",
       "    // Add the status bar.\n",
       "    var status_bar = document.createElement('span');\n",
       "    status_bar.classList = 'mpl-message pull-right';\n",
       "    toolbar.appendChild(status_bar);\n",
       "    this.message = status_bar;\n",
       "\n",
       "    // Add the close button to the window.\n",
       "    var buttongrp = document.createElement('div');\n",
       "    buttongrp.classList = 'btn-group inline pull-right';\n",
       "    button = document.createElement('button');\n",
       "    button.classList = 'btn btn-mini btn-primary';\n",
       "    button.href = '#';\n",
       "    button.title = 'Stop Interaction';\n",
       "    button.innerHTML = '<i class=\"fa fa-power-off icon-remove icon-large\"></i>';\n",
       "    button.addEventListener('click', function (_evt) {\n",
       "        fig.handle_close(fig, {});\n",
       "    });\n",
       "    button.addEventListener(\n",
       "        'mouseover',\n",
       "        on_mouseover_closure('Stop Interaction')\n",
       "    );\n",
       "    buttongrp.appendChild(button);\n",
       "    var titlebar = this.root.querySelector('.ui-dialog-titlebar');\n",
       "    titlebar.insertBefore(buttongrp, titlebar.firstChild);\n",
       "};\n",
       "\n",
       "mpl.figure.prototype._remove_fig_handler = function (event) {\n",
       "    var fig = event.data.fig;\n",
       "    if (event.target !== this) {\n",
       "        // Ignore bubbled events from children.\n",
       "        return;\n",
       "    }\n",
       "    fig.close_ws(fig, {});\n",
       "};\n",
       "\n",
       "mpl.figure.prototype._root_extra_style = function (el) {\n",
       "    el.style.boxSizing = 'content-box'; // override notebook setting of border-box.\n",
       "};\n",
       "\n",
       "mpl.figure.prototype._canvas_extra_style = function (el) {\n",
       "    // this is important to make the div 'focusable\n",
       "    el.setAttribute('tabindex', 0);\n",
       "    // reach out to IPython and tell the keyboard manager to turn it's self\n",
       "    // off when our div gets focus\n",
       "\n",
       "    // location in version 3\n",
       "    if (IPython.notebook.keyboard_manager) {\n",
       "        IPython.notebook.keyboard_manager.register_events(el);\n",
       "    } else {\n",
       "        // location in version 2\n",
       "        IPython.keyboard_manager.register_events(el);\n",
       "    }\n",
       "};\n",
       "\n",
       "mpl.figure.prototype._key_event_extra = function (event, _name) {\n",
       "    // Check for shift+enter\n",
       "    if (event.shiftKey && event.which === 13) {\n",
       "        this.canvas_div.blur();\n",
       "        // select the cell after this one\n",
       "        var index = IPython.notebook.find_cell_index(this.cell_info[0]);\n",
       "        IPython.notebook.select(index + 1);\n",
       "    }\n",
       "};\n",
       "\n",
       "mpl.figure.prototype.handle_save = function (fig, _msg) {\n",
       "    fig.ondownload(fig, null);\n",
       "};\n",
       "\n",
       "mpl.find_output_cell = function (html_output) {\n",
       "    // Return the cell and output element which can be found *uniquely* in the notebook.\n",
       "    // Note - this is a bit hacky, but it is done because the \"notebook_saving.Notebook\"\n",
       "    // IPython event is triggered only after the cells have been serialised, which for\n",
       "    // our purposes (turning an active figure into a static one), is too late.\n",
       "    var cells = IPython.notebook.get_cells();\n",
       "    var ncells = cells.length;\n",
       "    for (var i = 0; i < ncells; i++) {\n",
       "        var cell = cells[i];\n",
       "        if (cell.cell_type === 'code') {\n",
       "            for (var j = 0; j < cell.output_area.outputs.length; j++) {\n",
       "                var data = cell.output_area.outputs[j];\n",
       "                if (data.data) {\n",
       "                    // IPython >= 3 moved mimebundle to data attribute of output\n",
       "                    data = data.data;\n",
       "                }\n",
       "                if (data['text/html'] === html_output) {\n",
       "                    return [cell, data, j];\n",
       "                }\n",
       "            }\n",
       "        }\n",
       "    }\n",
       "};\n",
       "\n",
       "// Register the function which deals with the matplotlib target/channel.\n",
       "// The kernel may be null if the page has been refreshed.\n",
       "if (IPython.notebook.kernel !== null) {\n",
       "    IPython.notebook.kernel.comm_manager.register_target(\n",
       "        'matplotlib',\n",
       "        mpl.mpl_figure_comm\n",
       "    );\n",
       "}\n"
      ],
      "text/plain": [
       "<IPython.core.display.Javascript object>"
      ]
     },
     "metadata": {},
     "output_type": "display_data"
    },
    {
     "data": {
      "text/html": [
       "<img src=\"data:image/png;base64,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\" width=\"640\">"
      ],
      "text/plain": [
       "<IPython.core.display.HTML object>"
      ]
     },
     "metadata": {},
     "output_type": "display_data"
    }
   ],
   "source": [
    "pcd = o3d.io.read_point_cloud('./train/nugg_1.pcd')\n",
    "xyz = np.asarray(pcd.points)\n",
    "\n",
    "center = np.mean(xyz, axis=0)\n",
    "print(center)\n",
    "print(center[2]-0.003, center[2]+0.001)\n",
    "# xyz = xyz[np.where((xyz[:,2]>center[2]-0.001) & (xyz[:,2]<center[2]+0.001))]\n",
    "# idx = np.random.choice(np.arange(xyz.shape[0]), size=128)\n",
    "# xyz = xyz[idx] - center\n",
    "\n",
    "\n",
    "fig = plt.figure()\n",
    "ax = fig.add_subplot(projection='3d')\n",
    "ax.scatter(xyz[:,0], xyz[:,1], xyz[:,2])\n",
    "\n",
    "test = [0.4, 0.113, 0.405, 0.16, 0.523599, 0.5, 0.75]\n",
    "\n",
    "ax.set_xlabel('X')\n",
    "ax.set_ylabel('Y')\n",
    "ax.set_zlabel('Z')\n",
    "ax.set_zlim(0, 0.03)\n",
    "x1 = test[:2]\n",
    "x2 = test[2:4]\n",
    "# ax.scatter(x1[0], x1[1], center[2])\n",
    "# ax.scatter(x2[0], x2[1], center[2])\n",
    "\n",
    "plt.show()\n",
    "# # o3d.visualization.draw_geometries([pcd], mesh_show_wireframe=True)"
   ]
  },
  {
   "cell_type": "code",
   "execution_count": 146,
   "id": "e3e5d63b",
   "metadata": {},
   "outputs": [],
   "source": [
    "# np.save('data.npy', pt_cloud_data) "
   ]
  },
  {
   "cell_type": "code",
   "execution_count": 147,
   "id": "d030c938",
   "metadata": {},
   "outputs": [
    {
     "ename": "SyntaxError",
     "evalue": "invalid syntax (3273502987.py, line 4)",
     "output_type": "error",
     "traceback": [
      "\u001b[0;36m  Input \u001b[0;32mIn [147]\u001b[0;36m\u001b[0m\n\u001b[0;31m    \"nugg_2\": np.array([0.432, 0.08, 0.432, 0.1384, 0.523599, 0.5, 0.75],)\u001b[0m\n\u001b[0m    ^\u001b[0m\n\u001b[0;31mSyntaxError\u001b[0m\u001b[0;31m:\u001b[0m invalid syntax\n"
     ]
    }
   ],
   "source": [
    "target_output = {\n",
    "#     x1, y1, x2, y2, pitch, f1, f2\n",
    "    \"nugg_1\": np.array([0.4, 0.113, 0.405, 0.16, 0.523599, 0.5, 0.75],)\n",
    "    \"nugg_2\": np.array([0.432, 0.08, 0.432, 0.1384, 0.523599, 0.5, 0.75],)\n",
    "    \"nugg_3\": np.array([0.42, 0.11, 0.415, 0.163, 0.523599, 0.5, 0.75],)\n",
    "    \"nugg_4\": np.array([0.39, 0.11, 0.45, 0.118, 0.523599, 0.5, 0.75],)\n",
    "    \"nugg_5\": np.array([0.405, 0.09, 0.46, 0.118, 0.523599, 0.5, 0.75])\n",
    "}"
   ]
  },
  {
   "cell_type": "code",
   "execution_count": 37,
   "id": "e97ddf8b",
   "metadata": {},
   "outputs": [],
   "source": [
    "def visualize_rotate(data):\n",
    "    x_eye, y_eye, z_eye = 1.25, 1.25, 0.8\n",
    "    frames=[]\n",
    "\n",
    "    def rotate_z(x, y, z, theta):\n",
    "        w = x+1j*y\n",
    "        return np.real(np.exp(1j*theta)*w), np.imag(np.exp(1j*theta)*w), z\n",
    "\n",
    "    for t in np.arange(0, 10.26, 0.1):\n",
    "        xe, ye, ze = rotate_z(x_eye, y_eye, z_eye, -t)\n",
    "        frames.append(dict(layout=dict(scene=dict(camera=dict(eye=dict(x=xe, y=ye, z=ze))))))\n",
    "        fig = go.Figure(data=data,\n",
    "            layout=go.Layout(\n",
    "                updatemenus=[dict(type='buttons',\n",
    "                    showactive=False,\n",
    "                    y=1,\n",
    "                    x=1,\n",
    "                    xanchor='left',\n",
    "                    yanchor='bottom',\n",
    "                    pad=dict(t=45, r=10),\n",
    "                    buttons=[dict(label='Play',\n",
    "                    method='animate',\n",
    "                    args=[None, dict(frame=dict(duration=50, redraw=True),\n",
    "                        transition=dict(duration=0),\n",
    "                        fromcurrent=True,\n",
    "                        mode='immediate'\n",
    "                        )]\n",
    "                    )\n",
    "                ])]\n",
    "            ),\n",
    "        frames=frames\n",
    "        )\n",
    "    return fig"
   ]
  },
  {
   "cell_type": "code",
   "execution_count": 38,
   "id": "c3b89ac4",
   "metadata": {},
   "outputs": [
    {
     "data": {
      "application/vnd.plotly.v1+json": {
       "config": {
        "plotlyServerURL": "https://plot.ly"
       },
       "data": [
        {
         "color": "lightpink",
         "opacity": 0.5,
         "type": "mesh3d",
         "x": [
          0.3728894591331482,
          0.3728436827659607,
          0.37357214093208313,
          0.37372514605522156,
          0.3735487759113312,
          0.37436115741729736,
          0.3745102286338806,
          0.3744974732398987,
          0.37432152032852173,
          0.373816579580307,
          0.37513411045074463,
          0.375442236661911,
          0.37542882561683655,
          0.37509122490882874,
          0.3745897710323334,
          0.3757619559764862,
          0.3760637044906616,
          0.37620797753334045,
          0.3760329484939575,
          0.3758578896522522,
          0.3753599226474762,
          0.3767082393169403,
          0.3766891062259674,
          0.37682899832725525,
          0.37697067856788635,
          0.37679606676101685,
          0.37662145495414734,
          0.3761270046234131,
          0.37745991349220276,
          0.37743890285491943,
          0.3775750398635864,
          0.3777129650115967,
          0.3775383532047272,
          0.3775213360786438,
          0.37718909978866577,
          0.3766975402832031,
          0.37829455733299255,
          0.37827226519584656,
          0.37840545177459717,
          0.37838539481163025,
          0.3783662021160126,
          0.3781920373439789,
          0.3780178725719452,
          0.37768691778182983,
          0.37892794609069824,
          0.379055380821228,
          0.3790320158004761,
          0.37916257977485657,
          0.3791414201259613,
          0.3789672553539276,
          0.3789474368095398,
          0.37861892580986023,
          0.37828949093818665,
          0.3796088993549347,
          0.37988337874412537,
          0.37985873222351074,
          0.37983500957489014,
          0.3798121511936188,
          0.37979018688201904,
          0.37961646914482117,
          0.3794427216053009,
          0.3789619207382202,
          0.3780174255371094,
          0.38051605224609375,
          0.38063791394233704,
          0.38061219453811646,
          0.3805873692035675,
          0.3805634379386902,
          0.3803897202014923,
          0.38021597266197205,
          0.38004225492477417,
          0.379564493894577,
          0.3787800967693329,
          0.3811935782432556,
          0.38145923614501953,
          0.38128462433815,
          0.381258100271225,
          0.38123244047164917,
          0.3810587227344513,
          0.38088497519493103,
          0.38071125745773315,
          0.38038724660873413,
          0.37976083159446716,
          0.3817613422870636,
          0.3820211887359619,
          0.3819919526576996,
          0.3819636404514313,
          0.3819361925125122,
          0.38176247477531433,
          0.38158875703811646,
          0.3814150094985962,
          0.3812412917613983,
          0.38076967000961304,
          0.37984809279441833,
          0.38265693187713623,
          0.3827691674232483,
          0.38273885846138,
          0.38270944356918335,
          0.3825357258319855,
          0.38250765204429626,
          0.3823343515396118,
          0.38201454281806946,
          0.3818408250808716,
          0.38137224316596985,
          0.38287222385406494,
          0.3834044635295868,
          0.38351407647132874,
          0.3834826946258545,
          0.3833089768886566,
          0.38327890634536743,
          0.38310563564300537,
          0.3829323351383209,
          0.38261404633522034,
          0.38244032859802246,
          0.3818289339542389,
          0.3836592733860016,
          0.3841838538646698,
          0.384149968624115,
          0.3841169774532318,
          0.38394322991371155,
          0.3839115500450134,
          0.38373827934265137,
          0.3835650086402893,
          0.38324832916259766,
          0.3830746114253998,
          0.38261231780052185,
          0.384443074464798,
          0.384821355342865,
          0.38478586077690125,
          0.38475123047828674,
          0.38471749424934387,
          0.3845442235469818,
          0.38437092304229736,
          0.3841976523399353,
          0.38402435183525085,
          0.3837088644504547,
          0.38324981927871704,
          0.38235974311828613,
          0.38552871346473694,
          0.38549140095710754,
          0.3854549825191498,
          0.38541945815086365,
          0.3852461576461792,
          0.38507288694381714,
          0.3848995864391327,
          0.38472631573677063,
          0.38441261649131775,
          0.38409802317619324,
          0.38349995017051697,
          0.38596591353416443,
          0.38619697093963623,
          0.3861587345600128,
          0.38598501682281494,
          0.38594815135002136,
          0.3857748508453369,
          0.38560158014297485,
          0.3854282796382904,
          0.38525500893592834,
          0.3849426507949829,
          0.38448992371559143,
          0.3863123655319214,
          0.3868037164211273,
          0.38676318526268005,
          0.38672351837158203,
          0.38668474555015564,
          0.3865114748477936,
          0.38647404313087463,
          0.386301189661026,
          0.3859916031360626,
          0.38581833243370056,
          0.3855074346065521,
          0.38478145003318787,
          0.38715073466300964,
          0.38750356435775757,
          0.3874620199203491,
          0.38728830218315125,
          0.38724809885025024,
          0.3872087597846985,
          0.38703593611717224,
          0.3868630826473236,
          0.3865549564361572,
          0.3862459361553192,
          0.38593602180480957,
          0.3850787281990051,
          0.3879833221435547,
          0.3880697786808014,
          0.38802680373191833,
          0.3879847228527069,
          0.38781142234802246,
          0.3877706527709961,
          0.38759782910346985,
          0.3874249756336212,
          0.38711827993392944,
          0.38681069016456604,
          0.3863674998283386,
          0.38824915885925293,
          0.3887162208557129,
          0.38867083191871643,
          0.3886263072490692,
          0.388582706451416,
          0.38853996992111206,
          0.3883671164512634,
          0.3881942927837372,
          0.38802143931388855,
          0.38771626353263855,
          0.3874102234840393,
          0.38683685660362244,
          0.38898617029190063,
          0.38944604992866516,
          0.38927188515663147,
          0.3892258405685425,
          0.3891806900501251,
          0.3891364336013794,
          0.38896358013153076,
          0.3887907564640045,
          0.3886179029941559,
          0.38831427693367004,
          0.3880097568035126,
          0.3873092830181122,
          0.38975533843040466,
          0.3900819420814514,
          0.3900338411331177,
          0.3898600935935974,
          0.3898133337497711,
          0.38976746797561646,
          0.3895946145057678,
          0.3895500600337982,
          0.38924893736839294,
          0.38894692063331604,
          0.3886440098285675,
          0.38795003294944763,
          0.39039769768714905,
          0.3907178044319153,
          0.3906680941581726,
          0.39049437642097473,
          0.3904459774494171,
          0.3903985023498535,
          0.3903518617153168,
          0.39017948508262634,
          0.38987997174263,
          0.38957956433296204,
          0.38927826285362244,
          0.38871920108795166,
          0.39104005694389343,
          0.39135369658470154,
          0.3913023769855499,
          0.39112862944602966,
          0.3910786211490631,
          0.3910295069217682,
          0.3909812867641449,
          0.3908088803291321,
          0.39051100611686707,
          0.39021220803260803,
          0.38991254568099976,
          0.3893583416938782,
          0.391477108001709,
          0.39190372824668884,
          0.39185023307800293,
          0.39179766178131104,
          0.391745924949646,
          0.391695111989975,
          0.3916451632976532,
          0.39147278666496277,
          0.39130038022994995,
          0.3908795118331909,
          0.39058154821395874,
          0.3901575803756714,
          0.3893551528453827,
          0.3925761580467224,
          0.3925209641456604,
          0.39246666431427,
          0.3924132287502289,
          0.39236071705818176,
          0.3923090696334839,
          0.39213666319847107,
          0.39196428656578064,
          0.3916693329811096,
          0.39137354493141174,
          0.3909534215927124,
          0.3901599645614624,
          0.3931313157081604,
          0.39319169521331787,
          0.393135666847229,
          0.39308056235313416,
          0.39302632212638855,
          0.3929729759693146,
          0.39280056953430176,
          0.39262816309928894,
          0.3923349380493164,
          0.39204084873199463,
          0.3916241526603699,
          0.3909613788127899,
          0.3935742974281311,
          0.39386239647865295,
          0.3938046991825104,
          0.39374786615371704,
          0.39369192719459534,
          0.3936368525028229,
          0.39346444606781006,
          0.39329206943511963,
          0.3930005431175232,
          0.3927081525325775,
          0.3924148678779602,
          0.39175936579704285,
          0.394137978553772,
          0.3945331275463104,
          0.39447370171546936,
          0.3944151699542999,
          0.39435750246047974,
          0.39430075883865356,
          0.39412835240364075,
          0.39395594596862793,
          0.39366614818573,
          0.3933754563331604,
          0.3930838704109192,
          0.3925539255142212,
          0.3948590159416199,
          0.39513418078422546,
          0.39507320523262024,
          0.39501315355300903,
          0.39495396614074707,
          0.39489567279815674,
          0.3947232663631439,
          0.3945508897304535,
          0.3942626118659973,
          0.3939734399318695,
          0.39368337392807007,
          0.39315804839134216,
          0.39557698369026184,
          0.3957352340221405,
          0.3956727385520935,
          0.39561113715171814,
          0.3956630229949951,
          0.3954906165599823,
          0.3953182101249695,
          0.39514580368995667,
          0.39485907554626465,
          0.3945714235305786,
          0.39428290724754333,
          0.39353078603744507,
          0.3962918817996979,
          0.39644598960876465,
          0.3963824212551117,
          0.39631974697113037,
          0.3962579369544983,
          0.3960855305194855,
          0.39591315388679504,
          0.3957407474517822,
          0.395455539226532,
          0.3951694071292877,
          0.39476871490478516,
          0.3940238058567047,
          0.39689600467681885,
          0.3970454931259155,
          0.3969804048538208,
          0.3969162106513977,
          0.39685288071632385,
          0.39668047428131104,
          0.3965080678462982,
          0.3963356614112854,
          0.3960520029067993,
          0.3957674205303192,
          0.3952575922012329,
          0.39732256531715393,
          0.3976777195930481,
          0.39761027693748474,
          0.397543728351593,
          0.3975857198238373,
          0.39741331338882446,
          0.39724093675613403,
          0.3970685303211212,
          0.39678671956062317,
          0.3965040147304535,
          0.39622044563293457,
          0.39571452140808105,
          0.39810484647750854,
          0.3982439339160919,
          0.3982803523540497,
          0.39821282029151917,
          0.3981461822986603,
          0.39797377586364746,
          0.39780136942863464,
          0.3976289927959442,
          0.3973486125469208,
          0.3970673680305481,
          0.3966763913631439,
          0.39595574140548706,
          0.3988133668899536,
          0.3989483118057251,
          0.3988783657550812,
          0.3988092839717865,
          0.39874109625816345,
          0.398568719625473,
          0.3983963131904602,
          0.3982239067554474,
          0.3979450762271881,
          0.3976653516292572,
          0.3972774147987366,
          0.39645665884017944,
          0.3994174599647522,
          0.399547815322876,
          0.3994763493537903,
          0.39940574765205383,
          0.399336040019989,
          0.3991636335849762,
          0.39899125695228577,
          0.39881885051727295,
          0.39854153990745544,
          0.3981580138206482,
          0.3977726697921753,
          0.39976370334625244,
          0.4001864194869995,
          0.40021297335624695,
          0.4001404941082001,
          0.40006887912750244,
          0.399896502494812,
          0.3997240960597992,
          0.3995516896247864,
          0.3992762863636017,
          0.398999959230423,
          0.398722767829895,
          0.3980272710323334,
          0.40069571137428284,
          0.4008163511753082,
          0.4007416367530823,
          0.40066781640052795,
          0.4005948603153229,
          0.40052279829978943,
          0.40025007724761963,
          0.4000776708126068,
          0.39980360865592957,
          0.39942651987075806,
          0.3990476727485657,
          0.40111586451530457,
          0.4014233350753784,
          0.40144360065460205,
          0.40136799216270447,
          0.40129324793815613,
          0.4012193977832794,
          0.4009484350681305,
          0.4007760286331177,
          0.4005037546157837,
          0.40023061633110046,
          0.3998557925224304,
          0.401700496673584,
          0.40199899673461914,
          0.4020153880119324,
          0.4019376337528229,
          0.40195712447166443,
          0.4018815755844116,
          0.4017096161842346,
          0.40143993496894836,
          0.4011693596839905,
          0.40089792013168335,
          0.4006255567073822,
          0.399854838848114,
          0.40263649821281433,
          0.4026496708393097,
          0.40257027745246887,
          0.40258654952049255,
          0.4025093615055084,
          0.4023374021053314,
          0.4020693600177765,
          0.40180039405822754,
          0.40153056383132935,
          0.4012598395347595,
          0.4004988372325897,
          0.4032739996910095,
          0.4032839238643646,
          0.40320292115211487,
          0.4032159447669983,
          0.4031371474266052,
          0.40287116169929504,
          0.4026987552642822,
          0.4024314284324646,
          0.40216320753097534,
          0.401798278093338,
          0.40114280581474304,
          0.4039115011692047,
          0.40391820669174194,
          0.40383556485176086,
          0.4038453698158264,
          0.4036729633808136,
          0.4035005569458008,
          0.40332818031311035,
          0.40306246280670166,
          0.40279585123062134,
          0.40243417024612427,
          0.40178677439689636,
          0.4045490026473999,
          0.4045524597167969,
          0.40446820855140686,
          0.40447476506233215,
          0.4043023884296417,
          0.4041299819946289,
          0.4039575755596161,
          0.4036934971809387,
          0.40342849493026733,
          0.4030700623989105,
          0.4024307429790497,
          0.4051865041255951,
          0.4051867425441742,
          0.40510085225105286,
          0.4051041901111603,
          0.40493178367614746,
          0.40475937724113464,
          0.4045870006084442,
          0.4043245315551758,
          0.40406113862991333,
          0.4037059247493744,
          0.403074711561203,
          0.4058240056037903,
          0.4058209955692291,
          0.40573349595069885,
          0.4057336151599884,
          0.4055612087249756,
          0.40538880228996277,
          0.40521639585494995,
          0.40495553612709045,
          0.4046938121318817,
          0.40434181690216064,
          0.40618425607681274,
          0.4065104126930237,
          0.40642049908638,
          0.40633150935173035,
          0.4063285291194916,
          0.40615612268447876,
          0.40598374605178833,
          0.4057248532772064,
          0.4055519998073578,
          0.4052917957305908,
          0.4049428701400757,
          0.4068763554096222,
          0.4071114659309387,
          0.4071027636528015,
          0.4070126712322235,
          0.40692347288131714,
          0.4067510664463043,
          0.4065786600112915,
          0.40632131695747375,
          0.4060630798339844,
          0.40580394864082336,
          0.4053713381290436,
          0.4075653851032257,
          0.40771251916885376,
          0.407700777053833,
          0.40760913491249084,
          0.4075183868408203,
          0.4073460102081299,
          0.40709060430526733,
          0.4069177806377411,
          0.4066610634326935,
          0.40640345215797424,
          0.40589070320129395,
          0.4082513451576233,
          0.4083928167819977,
          0.4082987606525421,
          0.4082055985927582,
          0.40803274512290955,
          0.4078599214553833,
          0.40768706798553467,
          0.4075142443180084,
          0.4072590470314026,
          0.4070029854774475,
          0.40641310811042786,
          0.40893423557281494,
          0.40899232029914856,
          0.4088967442512512,
          0.4088020622730255,
          0.4086292088031769,
          0.40845638513565063,
          0.408283531665802,
          0.40811070799827576,
          0.4078570306301117,
          0.40752124786376953,
          0.40685686469078064,
          0.40957337617874146,
          0.4096266031265259,
          0.4095293879508972,
          0.4094330966472626,
          0.40926024317741394,
          0.4090874195098877,
          0.40891456604003906,
          0.40874171257019043,
          0.4084896743297577,
          0.4081571400165558,
          0.4075024724006653,
          0.41025158762931824,
          0.41022610664367676,
          0.4101274013519287,
          0.4100295603275299,
          0.4098567068576813,
          0.40968388319015503,
          0.4095110297203064,
          0.40926095843315125,
          0.4090876877307892,
          0.40875816345214844,
          0.4106680452823639,
          0.4109267592430115,
          0.4108986556529999,
          0.4107988476753235,
          0.41062602400779724,
          0.4104531705379486,
          0.41028034687042236,
          0.41010749340057373,
          0.40985894203186035,
          0.40960952639579773,
          0.4092060625553131,
          0.4113488793373108,
          0.4115278124809265,
          0.41149666905403137,
          0.4113953113555908,
          0.4112224876880646,
          0.41104963421821594,
          0.4108767807483673,
          0.41070395708084106,
          0.41045695543289185,
          0.410209059715271,
          0.4098101854324341,
          0.41202667355537415,
          0.41212886571884155,
          0.4120946526527405,
          0.41199177503585815,
          0.4118189513683319,
          0.4116460978984833,
          0.41147324442863464,
          0.4113004207611084,
          0.41105493903160095,
          0.4108085632324219,
          0.4103407561779022,
          0.41270139813423157,
          0.4127979278564453,
          0.4126926362514496,
          0.4125882387161255,
          0.412484735250473,
          0.4123123288154602,
          0.412069708108902,
          0.4118262231349945,
          0.41165292263031006,
          0.4113365411758423,
          0.4108743965625763,
          0.41337308287620544,
          0.4133974313735962,
          0.4132906198501587,
          0.4131847023963928,
          0.4130796790122986,
          0.41290727257728577,
          0.4126661717891693,
          0.4124242067337036,
          0.41225090622901917,
          0.4119375944137573,
          0.4114815592765808,
          0.41394779086112976,
          0.4140317142009735,
          0.4139232635498047,
          0.4138157367706299,
          0.4137090742588043,
          0.4135366678237915,
          0.41329720616340637,
          0.4131243824958801,
          0.41288357973098755,
          0.4125734865665436,
          0.41219276189804077,
          0.4145885109901428,
          0.41466596722602844,
          0.41455593705177307,
          0.41444677114486694,
          0.41433849930763245,
          0.41416609287261963,
          0.41392824053764343,
          0.4137553870677948,
          0.41351622343063354,
          0.41320937871932983,
          0.4128335118293762,
          0.41516807675361633,
          0.415238618850708,
          0.41518858075141907,
          0.415077805519104,
          0.4149678945541382,
          0.41479548811912537,
          0.41462311148643494,
          0.41438642144203186,
          0.41414886713027954,
          0.4139104187488556,
          0.413539856672287,
          0.4157620668411255,
          0.4158843457698822,
          0.41583025455474854,
          0.41577795147895813,
          0.41566628217697144,
          0.4154938757419586,
          0.4153214693069458,
          0.4150865972042084,
          0.4148508310317993,
          0.41461417078971863,
          0.4143766164779663,
          0.41394543647766113,
          0.41641759872436523,
          0.4164755642414093,
          0.41641920804977417,
          0.416305273771286,
          0.4161922335624695,
          0.41601985692977905,
          0.41584745049476624,
          0.41561391949653625,
          0.41537949442863464,
          0.4151442050933838,
          0.4148455560207367,
          0.41435641050338745,
          0.4171244204044342,
          0.41706404089927673,
          0.4170054495334625,
          0.41689062118530273,
          0.4167182147502899,
          0.4165458083152771,
          0.41631409525871277,
          0.4160814583301544,
          0.41590818762779236,
          0.41567423939704895,
          0.415317177772522,
          0.41764751076698303,
          0.417692095041275,
          0.41768449544906616,
          0.41756734251976013,
          0.41745108366012573,
          0.4172786772251129,
          0.4171062707901001,
          0.4168759882450104,
          0.41664478182792664,
          0.41641274094581604,
          0.4161797761917114,
          0.4157669246196747,
          0.41834598779678345,
          0.418332576751709,
          0.4182131886482239,
          0.418094664812088,
          0.4179770350456238,
          0.41780462861061096,
          0.41763225197792053,
          0.41740331053733826,
          0.41717347502708435,
          0.4169427454471588,
          0.41665327548980713,
          0.41888391971588135,
          0.4189670979976654,
          0.4188973605632782,
          0.41882941126823425,
          0.4186565577983856,
          0.4185374975204468,
          0.41836509108543396,
          0.4181380271911621,
          0.417910099029541,
          0.41773679852485657,
          0.417507529258728,
          0.41716450452804565,
          0.4194736182689667,
          0.41955047845840454,
          0.41947847604751587,
          0.41935673356056213,
          0.41923585534095764,
          0.4190634787082672,
          0.4188382029533386,
          0.41866534948349,
          0.41843876242637634,
          0.41821128129959106,
          0.41798293590545654,
          0.4174782633781433,
          0.420158326625824,
          0.4201311469078064,
          0.4200071692466736,
          0.41988405585289,
          0.4197618365287781,
          0.41953837871551514,
          0.4193655252456665,
          0.4191407263278961,
          0.41896745562553406,
          0.4187413156032562,
          0.41840773820877075,
          0.420738160610199,
          0.42075255513191223,
          0.42067447304725647,
          0.420501172542572,
          0.42037680745124817,
          0.42020395398139954,
          0.4200311303138733,
          0.419808030128479,
          0.41963475942611694,
          0.4194103181362152,
          0.4191334545612335,
          0.42132481932640076,
          0.421331524848938,
          0.4212954342365265,
          0.4211684763431549,
          0.42104241251945496,
          0.4208695590496063,
          0.4206967353820801,
          0.4204753339290619,
          0.42030206322669983,
          0.4200793504714966,
          0.4198557436466217,
          0.41937968134880066,
          0.4219706356525421,
          0.42188501358032227,
          0.4218011200428009,
          0.421673446893692,
          0.4215005934238434,
          0.42132776975631714,
          0.4211079776287079,
          0.4209347069263458,
          0.4207136034965515,
          0.42049163579940796,
          0.4200252890586853,
          0.42253202199935913,
          0.42244288325309753,
          0.4223991334438324,
          0.42226991057395935,
          0.4220970571041107,
          0.42187926173210144,
          0.4217059910297394,
          0.42153269052505493,
          0.4213131368160248,
          0.4210459589958191,
          0.4231258034706116,
          0.42307382822036743,
          0.4230245053768158,
          0.42289313673973083,
          0.4227626621723175,
          0.4225465655326843,
          0.42237329483032227,
          0.4221999943256378,
          0.42198213934898376,
          0.4217633903026581,
          0.42373037338256836,
          0.4236730933189392,
          0.42361849546432495,
          0.42352578043937683,
          0.42335250973701477,
          0.4231792092323303,
          0.42300593852996826,
          0.42279013991355896,
          0.4226164221763611,
          0.42235589027404785,
          0.4243405759334564,
          0.4242404103279114,
          0.4241807758808136,
          0.4241237938404083,
          0.4239504933357239,
          0.4237772226333618,
          0.42360392212867737,
          0.42338964343070984,
          0.42321592569351196,
          0.42291659116744995,
          0.42488133907318115,
          0.4247790575027466,
          0.4247160851955414,
          0.42461779713630676,
          0.4244445264339447,
          0.4242323935031891,
          0.4240586757659912,
          0.42388492822647095,
          0.4235907196998596,
          0.4254903197288513,
          0.42538437247276306,
          0.42531606554985046,
          0.42521411180496216,
          0.4250403940677643,
          0.4248666763305664,
          0.42469292879104614,
          0.4244810938835144,
          0.42419129610061646,
          0.4260298013687134,
          0.42595523595809937,
          0.4258488118648529,
          0.4256742000579834,
          0.4255349934101105,
          0.4253966808319092,
          0.4251866638660431,
          0.42493897676467896,
          0.42664003372192383,
          0.42652830481529236,
          0.42638537287712097,
          0.4262433350086212,
          0.4261021614074707,
          0.4259275496006012,
          0.4257529377937317,
          0.4254726469516754,
          0.42706918716430664,
          0.426955908536911,
          0.4267804026603699,
          0.42663735151290894,
          0.4264622926712036,
          0.42625391483306885,
          0.42768365144729614,
          0.4275367558002472,
          0.4273907542228699,
          0.4272456467151642,
          0.42707014083862305,
          0.4268312156200409,
          0.428117036819458,
          0.4279690682888031,
          0.4278219938278198,
          0.42761629819869995,
          0.42855045199394226,
          0.4283736050128937,
          0.4290192127227783
         ],
         "y": [
          0.1302182674407959,
          0.1339268684387207,
          0.1296071857213974,
          0.13250459730625153,
          0.135721355676651,
          0.12705636024475098,
          0.12996651232242584,
          0.1330137997865677,
          0.1362224817276001,
          0.13980241119861603,
          0.12758344411849976,
          0.1303190290927887,
          0.13334845006465912,
          0.136720210313797,
          0.14029546082019806,
          0.12518760561943054,
          0.12795041501522064,
          0.13082949817180634,
          0.13402201235294342,
          0.1372145265340805,
          0.1407850980758667,
          0.12249452620744705,
          0.12556904554367065,
          0.12846896052360535,
          0.13133656978607178,
          0.1345209926366806,
          0.13770543038845062,
          0.14127133786678314,
          0.1205950379371643,
          0.12367431074380875,
          0.1265837699174881,
          0.1294608861207962,
          0.13264530897140503,
          0.1356518417596817,
          0.13901416957378387,
          0.14258672297000885,
          0.11984952539205551,
          0.12292223423719406,
          0.1258266717195511,
          0.12885896861553192,
          0.13187509775161743,
          0.1350514441728592,
          0.13822779059410095,
          0.14159667491912842,
          0.11744102090597153,
          0.12039053440093994,
          0.12345346808433533,
          0.1263463944196701,
          0.12936890125274658,
          0.13254526257514954,
          0.13554352521896362,
          0.13889794051647186,
          0.14226853847503662,
          0.116831474006176,
          0.11964790523052216,
          0.12270427495241165,
          0.12574449181556702,
          0.12876851856708527,
          0.13177640736103058,
          0.13494466245174408,
          0.13811293244361877,
          0.14166662096977234,
          0.14585502445697784,
          0.11725233495235443,
          0.12018532305955887,
          0.1232319101691246,
          0.1262623369693756,
          0.1292765885591507,
          0.1324448436498642,
          0.1356131136417389,
          0.1387813687324524,
          0.14233846962451935,
          0.14633290469646454,
          0.11664583534002304,
          0.1194455698132515,
          0.12263000011444092,
          0.1256619393825531,
          0.12867772579193115,
          0.13184599578380585,
          0.13501425087451935,
          0.13818252086639404,
          0.1415436714887619,
          0.14532293379306793,
          0.11552269011735916,
          0.11833994090557098,
          0.12139119952917099,
          0.12442628294229507,
          0.12744522094726562,
          0.13061347603797913,
          0.13378173112869263,
          0.13695000112056732,
          0.14011825621128082,
          0.14368218183517456,
          0.1478961706161499,
          0.11594778299331665,
          0.11887862533330917,
          0.12192009389400482,
          0.12494540214538574,
          0.12811365723609924,
          0.13111472129821777,
          0.1342748999595642,
          0.13761845231056213,
          0.14078670740127563,
          0.14435404539108276,
          0.11390411853790283,
          0.1164945438504219,
          0.11941389739513397,
          0.12244558334350586,
          0.12561383843421936,
          0.12862128019332886,
          0.1317814588546753,
          0.13494163751602173,
          0.13828688859939575,
          0.14145515859127045,
          0.14522713422775269,
          0.11381912231445312,
          0.11640102416276932,
          0.11944878101348877,
          0.1224803775548935,
          0.125648632645607,
          0.12865598499774933,
          0.13181616365909576,
          0.1349763423204422,
          0.1383216828107834,
          0.14148995280265808,
          0.14506086707115173,
          0.1137339398264885,
          0.11643598973751068,
          0.11948366463184357,
          0.12251516431570053,
          0.12553051114082336,
          0.1286906898021698,
          0.13185086846351624,
          0.13501104712486267,
          0.1381712257862091,
          0.14152474701404572,
          0.1450958400964737,
          0.14932774007320404,
          0.11519718915224075,
          0.11824800074100494,
          0.121282659471035,
          0.12430114299058914,
          0.12746132910251617,
          0.13062149286270142,
          0.13378167152404785,
          0.13694186508655548,
          0.140292227268219,
          0.14365875720977783,
          0.147454172372818,
          0.11420316249132156,
          0.11701234430074692,
          0.12005013972520828,
          0.12321840971708298,
          0.12623195350170135,
          0.1293921321630478,
          0.13255231082439423,
          0.13571248948574066,
          0.1388726681470871,
          0.14222797751426697,
          0.14580266177654266,
          0.11267083883285522,
          0.11526712775230408,
          0.11831776797771454,
          0.12135224044322968,
          0.12437054514884949,
          0.12753072381019592,
          0.13052478432655334,
          0.13367688655853271,
          0.13701127469539642,
          0.14017145335674286,
          0.14353007078170776,
          0.14752447605133057,
          0.1137542873620987,
          0.1164468377828598,
          0.11948607861995697,
          0.12265433371067047,
          0.12566933035850525,
          0.1286681443452835,
          0.13182023167610168,
          0.13497233390808105,
          0.138310045003891,
          0.14166390895843506,
          0.14503394067287445,
          0.149259552359581,
          0.11482445150613785,
          0.11775226145982742,
          0.12078817188739777,
          0.12380792200565338,
          0.12696810066699982,
          0.12996359169483185,
          0.13311569392681122,
          0.1362677961587906,
          0.13960881531238556,
          0.14296600222587585,
          0.1465444564819336,
          0.11277707666158676,
          0.11537203937768936,
          0.11842241138219833,
          0.12145661562681198,
          0.1244746595621109,
          0.1274765282869339,
          0.13062863051891327,
          0.13378073275089264,
          0.13693282008171082,
          0.14027555286884308,
          0.14363445341587067,
          0.14742310345172882,
          0.11333786696195602,
          0.11591621488332748,
          0.11909256130456924,
          0.1221250593662262,
          0.12514139711856842,
          0.12814156711101532,
          0.1312936693429947,
          0.13444575667381287,
          0.13759785890579224,
          0.1409423053264618,
          0.14430288970470428,
          0.14830517768859863,
          0.11325350403785706,
          0.11595109850168228,
          0.11899159103631973,
          0.12215985357761383,
          0.1251761019229889,
          0.12817618250846863,
          0.131328284740448,
          0.13430412113666534,
          0.13763247430324554,
          0.14097701013088226,
          0.14433768391609192,
          0.14834032952785492,
          0.11328873783349991,
          0.11598597466945648,
          0.11902638524770737,
          0.12219464778900146,
          0.12521080672740936,
          0.12821079790592194,
          0.13119462132453918,
          0.1343386471271515,
          0.13766708970069885,
          0.14101170003414154,
          0.14437247812747955,
          0.14816679060459137,
          0.11332397162914276,
          0.11602085828781128,
          0.119061179459095,
          0.1222294420003891,
          0.12524551153182983,
          0.12824541330337524,
          0.13122914731502533,
          0.13437317311763763,
          0.13770170509815216,
          0.141046404838562,
          0.1444072723388672,
          0.1482018530368805,
          0.11295414716005325,
          0.11554688960313797,
          0.11859681457281113,
          0.12163057923316956,
          0.12464817613363266,
          0.12764960527420044,
          0.1306348741054535,
          0.1337788999080658,
          0.1369229108095169,
          0.14044907689094543,
          0.14380840957164764,
          0.1473911702632904,
          0.15165220201015472,
          0.11494497209787369,
          0.11799643188714981,
          0.12103171646595001,
          0.12405084818601608,
          0.12705381214618683,
          0.13004060089588165,
          0.13318461179733276,
          0.13632863759994507,
          0.13966219127178192,
          0.1430119276046753,
          0.14658352732658386,
          0.15082885324954987,
          0.11446642130613327,
          0.1173960417509079,
          0.12043286114931107,
          0.12345351278781891,
          0.12645800411701202,
          0.12944632768630981,
          0.13259033858776093,
          0.13573434948921204,
          0.13906638324260712,
          0.14241459965705872,
          0.14598314464092255,
          0.15000855922698975,
          0.11410665512084961,
          0.11679565161466599,
          0.11983399838209152,
          0.12285618484020233,
          0.12586219608783722,
          0.12885203957557678,
          0.1319960653781891,
          0.1351400762796402,
          0.1384705901145935,
          0.14181725680828094,
          0.1451800912618637,
          0.14919131994247437,
          0.11362046748399734,
          0.11619526147842407,
          0.11923513561487198,
          0.12225884944200516,
          0.12526638805866241,
          0.12825776636600494,
          0.13140179216861725,
          0.13454580307006836,
          0.1378747820854187,
          0.14121992886066437,
          0.14458124339580536,
          0.14837713539600372,
          0.11417712271213531,
          0.11686541140079498,
          0.11990358680486679,
          0.12292558699846268,
          0.12593142688274384,
          0.12892109155654907,
          0.13206511735916138,
          0.1352091282606125,
          0.13853982090950012,
          0.1418866664171219,
          0.14524967968463898,
          0.14905069768428802,
          0.11473037302494049,
          0.11753556877374649,
          0.120572030544281,
          0.1235923320055008,
          0.12644042074680328,
          0.1295844316482544,
          0.1327284425497055,
          0.1358724683523178,
          0.13920484483242035,
          0.1425534039735794,
          0.1459181308746338,
          0.15014950931072235,
          0.11528021842241287,
          0.11807221174240112,
          0.12109889090061188,
          0.12410939484834671,
          0.1271037459373474,
          0.13024775683879852,
          0.13339176774024963,
          0.13653579354286194,
          0.13986988365650177,
          0.14322015643119812,
          0.14679281413555145,
          0.15104080736637115,
          0.11595378071069717,
          0.11874065548181534,
          0.1217656284570694,
          0.12477443367242813,
          0.12776707112789154,
          0.13091108202934265,
          0.13405510783195496,
          0.13719911873340607,
          0.1405349224805832,
          0.14388689398765564,
          0.1476709246635437,
          0.1144404411315918,
          0.11700493842363358,
          0.12004275619983673,
          0.12306440621614456,
          0.12591518461704254,
          0.12905919551849365,
          0.13220322132110596,
          0.13534723222255707,
          0.13867828249931335,
          0.14202548563480377,
          0.14538885653018951,
          0.14919093251228333,
          0.11551108956336975,
          0.1183103621006012,
          0.1212029978632927,
          0.12421324104070663,
          0.12720732390880585,
          0.13035133481025696,
          0.13349536061286926,
          0.13663937151432037,
          0.1399737298488617,
          0.14332427084445953,
          0.14689746499061584,
          0.1511467844247818,
          0.11605895310640335,
          0.11884503811597824,
          0.12186974287033081,
          0.12487827241420746,
          0.12787064909934998,
          0.1310146600008011,
          0.1341586858034134,
          0.1373026967048645,
          0.14063875377178192,
          0.14399100840091705,
          0.14756761491298676,
          0.1520417481660843,
          0.11673251539468765,
          0.11951348185539246,
          0.12253648042678833,
          0.12554331123828888,
          0.1285339742898941,
          0.1316780000925064,
          0.13482201099395752,
          0.13796602189540863,
          0.14130379259586334,
          0.14485958218574524,
          0.1484476923942566,
          0.1153494268655777,
          0.11777973175048828,
          0.12067507207393646,
          0.12368666380643845,
          0.1266821026802063,
          0.1298261135816574,
          0.13297012448310852,
          0.13611415028572083,
          0.1394471526145935,
          0.1427963376045227,
          0.14616167545318604,
          0.15039615333080292,
          0.1168026328086853,
          0.11958306282758713,
          0.12260588258504868,
          0.1256125420331955,
          0.1286030262708664,
          0.13157735764980316,
          0.1348910629749298,
          0.13803507387638092,
          0.14137302339076996,
          0.14492915570735931,
          0.1485176384449005,
          0.11593909561634064,
          0.11848476529121399,
          0.12137652188539505,
          0.12438631802797318,
          0.12737995386123657,
          0.13035741448402405,
          0.1336679905653,
          0.1368120014667511,
          0.14014680683612823,
          0.1434977799654007,
          0.14707186818122864,
          0.11545566469430923,
          0.11801706999540329,
          0.12091995775699615,
          0.12393936514854431,
          0.12678568065166473,
          0.12976466119289398,
          0.13290059566497803,
          0.13621772825717926,
          0.13955099880695343,
          0.14290045201778412,
          0.14626605808734894,
          0.15071538090705872,
          0.11805204302072525,
          0.12095474451780319,
          0.12397406995296478,
          0.12682020664215088,
          0.12979911267757416,
          0.132935032248497,
          0.1362522542476654,
          0.13958561420440674,
          0.1429351568222046,
          0.14630085229873657,
          0.15075071156024933,
          0.11808700859546661,
          0.12098953872919083,
          0.12400877475738525,
          0.12685473263263702,
          0.12983354926109314,
          0.13314275443553925,
          0.13628678023815155,
          0.13962022960186005,
          0.14296986162662506,
          0.14654123783111572,
          0.15078602731227875,
          0.11812198162078857,
          0.12102433294057846,
          0.12404347956180573,
          0.12688925862312317,
          0.13003326952457428,
          0.1331772804260254,
          0.1363213062286377,
          0.13965484499931335,
          0.14300456643104553,
          0.14657612144947052,
          0.15082135796546936,
          0.11815694719552994,
          0.1210591271519661,
          0.1240781843662262,
          0.12692378461360931,
          0.13006779551506042,
          0.13321180641651154,
          0.13635583221912384,
          0.13968946039676666,
          0.1430392563343048,
          0.14661100506782532,
          0.15085668861865997,
          0.1181919202208519,
          0.12109392136335373,
          0.12411288917064667,
          0.12695831060409546,
          0.13010232150554657,
          0.13324633240699768,
          0.13639035820960999,
          0.13972407579421997,
          0.14307396113872528,
          0.14664588868618011,
          0.1508920043706894,
          0.11822689324617386,
          0.12112870812416077,
          0.12414759397506714,
          0.1269928365945816,
          0.13013684749603271,
          0.13328085839748383,
          0.13642488420009613,
          0.13975869119167328,
          0.14310866594314575,
          0.1466807723045349,
          0.11634853482246399,
          0.11876381933689117,
          0.12179715186357498,
          0.12481433153152466,
          0.12765616178512573,
          0.13080017268657684,
          0.13394419848918915,
          0.13727162778377533,
          0.1404237300157547,
          0.14377541840076447,
          0.14735090732574463,
          0.11690036952495575,
          0.11943396925926208,
          0.12232089042663574,
          0.12532827258110046,
          0.12831950187683105,
          0.13146349787712097,
          0.13460752367973328,
          0.13793666660785675,
          0.14128196239471436,
          0.14464344084262848,
          0.14843980967998505,
          0.11744878441095352,
          0.120104119181633,
          0.12298762798309326,
          0.12599331140518188,
          0.128982812166214,
          0.1321268379688263,
          0.1354495882987976,
          0.13860169053077698,
          0.14194871485233307,
          0.1453118771314621,
          0.1493244469165802,
          0.1179938018321991,
          0.12063422799110413,
          0.12365436553955078,
          0.1266583353281021,
          0.12981043756008148,
          0.13296252489089966,
          0.13611462712287903,
          0.1392667293548584,
          0.1426154524087906,
          0.1459803283214569,
          0.15021249651908875,
          0.11853539943695068,
          0.12130267173051834,
          0.1243211105465889,
          0.12732337415218353,
          0.1304754763841629,
          0.13362756371498108,
          0.13677966594696045,
          0.13993176817893982,
          0.1432821899652481,
          0.1468551754951477,
          0.15131844580173492,
          0.11857046186923981,
          0.12133746594190598,
          0.12435581535100937,
          0.12735798954963684,
          0.1305100917816162,
          0.1336621791124344,
          0.13681428134441376,
          0.13996638357639313,
          0.14331689476966858,
          0.1468900591135025,
          0.1513538509607315,
          0.11910856515169144,
          0.12200590968132019,
          0.12502256035804749,
          0.12802302837371826,
          0.13117511570453644,
          0.1343272179365158,
          0.13747932016849518,
          0.14082345366477966,
          0.1439836323261261,
          0.1475602090358734,
          0.11724139750003815,
          0.11964325606822968,
          0.12252911180257797,
          0.1255359649658203,
          0.12868806719779968,
          0.13184015452861786,
          0.13499225676059723,
          0.1381443589925766,
          0.14149019122123718,
          0.1448521912097931,
          0.1486501693725586,
          0.11779099702835083,
          0.12031340599060059,
          0.12319584935903549,
          0.12620098888874054,
          0.1293530911207199,
          0.13250519335269928,
          0.13565728068351746,
          0.13880938291549683,
          0.1421569287776947,
          0.1455206423997879,
          0.1493237316608429,
          0.11833717674016953,
          0.1209835559129715,
          0.12386259436607361,
          0.12686602771282196,
          0.13001812994480133,
          0.1331702172756195,
          0.13632231950759888,
          0.13947442173957825,
          0.14282366633415222,
          0.14618907868862152,
          0.15021060407161713,
          0.11887995153665543,
          0.12151142954826355,
          0.12452933192253113,
          0.12753106653690338,
          0.1305166333913803,
          0.13366064429283142,
          0.1369873583316803,
          0.1403302252292633,
          0.14349041879177094,
          0.1470644623041153,
          0.15110088884830475,
          0.11941931396722794,
          0.12217987328767776,
          0.12519606947898865,
          0.1281961053609848,
          0.13117995858192444,
          0.13432398438453674,
          0.13765239715576172,
          0.14099696278572083,
          0.14415715634822845,
          0.1477346122264862,
          0.15177786350250244,
          0.11959036439657211,
          0.1222146674990654,
          0.12523077428340912,
          0.1282307207584381,
          0.13121448457241058,
          0.1343585103750229,
          0.13768699765205383,
          0.1408390998840332,
          0.14419186115264893,
          0.147769495844841,
          0.1515962779521942,
          0.1196255162358284,
          0.12224945425987244,
          0.1252654790878296,
          0.12826533615589142,
          0.13124901056289673,
          0.13439303636550903,
          0.13772161304950714,
          0.1408737152814865,
          0.1442265659570694,
          0.1478043645620346,
          0.1516314297914505,
          0.11979682743549347,
          0.12242849916219711,
          0.12530018389225006,
          0.12829995155334473,
          0.13128353655338287,
          0.13442756235599518,
          0.1375715732574463,
          0.14090833067893982,
          0.14426127076148987,
          0.14763034880161285,
          0.15144957602024078,
          0.11881464719772339,
          0.12133394926786423,
          0.12421999871730804,
          0.1270737200975418,
          0.13006046414375305,
          0.13320447504520416,
          0.13634848594665527,
          0.1396821141242981,
          0.14303189516067505,
          0.14639782905578613,
          0.14977993071079254,
          0.15384401381015778,
          0.12050903588533401,
          0.12313353270292282,
          0.12600162625312805,
          0.12899959087371826,
          0.13198140263557434,
          0.13512541353702545,
          0.13826942443847656,
          0.14160798490047455,
          0.14496271312236786,
          0.1483335942029953,
          0.15193942189216614,
          0.15625818073749542,
          0.1220407783985138,
          0.1249232366681099,
          0.12777337431907654,
          0.13075831532478333,
          0.13390232622623444,
          0.13704635202884674,
          0.14038175344467163,
          0.14373333752155304,
          0.14689351618289948,
          0.15026932954788208,
          0.15410876274108887,
          0.12071765214204788,
          0.12334951758384705,
          0.126071035861969,
          0.12906882166862488,
          0.13205045461654663,
          0.13519446551799774,
          0.13833847641944885,
          0.14167721569538116,
          0.1450321227312088,
          0.14840316772460938,
          0.15179039537906647,
          0.15587492287158966,
          0.12225379049777985,
          0.12499282509088516,
          0.1280018538236618,
          0.13099469244480133,
          0.13397137820720673,
          0.13711540400981903,
          0.14025941491127014,
          0.14360308647155762,
          0.14696292579174042,
          0.15033891797065735,
          0.15395498275756836,
          0.1209266185760498,
          0.12341945618391037,
          0.12629492580890656,
          0.1291380524635315,
          0.13229015469551086,
          0.13526351749897003,
          0.13840752840042114,
          0.14174644649028778,
          0.14510151743888855,
          0.14826169610023499,
          0.15164101123809814,
          0.1554909497499466,
          0.12275367975234985,
          0.12521374225616455,
          0.12807124853134155,
          0.13106392323970795,
          0.13404043018817902,
          0.13718445599079132,
          0.14052021503448486,
          0.14367231726646423,
          0.14703233540058136,
          0.15040850639343262,
          0.1538008451461792,
          0.15837015211582184,
          0.12427447736263275,
          0.1269981563091278,
          0.13000206649303436,
          0.1329897940158844,
          0.1359613686800003,
          0.13929399847984314,
          0.14244608581066132,
          0.14580295979976654,
          0.14896315336227417,
          0.1523442566394806,
          0.15619955956935883,
          0.12396436929702759,
          0.12655404210090637,
          0.12940473854541779,
          0.13256490230560303,
          0.13554608821868896,
          0.13869819045066833,
          0.1418502777814865,
          0.14520563185214996,
          0.1483658105134964,
          0.15174539387226105,
          0.1553686410188675,
          0.12364814430475235,
          0.12626010179519653,
          0.12896870076656342,
          0.13196757435798645,
          0.13495028018951416,
          0.13810238242149353,
          0.1412544846534729,
          0.1446083039045334,
          0.14776848256587982,
          0.1511465311050415,
          0.1545407474040985,
          0.15912136435508728,
          0.12629516422748566,
          0.1291648894548416,
          0.13200227916240692,
          0.13498489558696747,
          0.13813699781894684,
          0.1412891000509262,
          0.14464300870895386,
          0.1478031873703003,
          0.15118132531642914,
          0.1545756310224533,
          0.15915678441524506,
          0.12712374329566956,
          0.1299981325864792,
          0.13266901671886444,
          0.1356499344110489,
          0.13880203664302826,
          0.14214956760406494,
          0.14530974626541138,
          0.1484699249267578,
          0.15184977650642395,
          0.15547354519367218,
          0.1268257349729538,
          0.1295577883720398,
          0.13224133849143982,
          0.1352318674325943,
          0.13820622861385345,
          0.14155222475528717,
          0.1447124183177948,
          0.14787259697914124,
          0.1512509137392044,
          0.1546453982591629,
          0.1270146369934082,
          0.12975451350212097,
          0.13244587182998657,
          0.13526657223701477,
          0.1384267508983612,
          0.14158692955970764,
          0.14474712312221527,
          0.14811745285987854,
          0.15128570795059204,
          0.15490660071372986,
          0.1276950240135193,
          0.13059313595294952,
          0.1332874596118927,
          0.1359333097934723,
          0.13909348845481873,
          0.14225366711616516,
          0.1454138606786728,
          0.14878588914871216,
          0.15195414423942566,
          0.15580646693706512,
          0.13014847040176392,
          0.1330253779888153,
          0.13569197058677673,
          0.13849616050720215,
          0.14165633916854858,
          0.1450187712907791,
          0.14818702638149261,
          0.15135528147220612,
          0.15520302951335907,
          0.13034571707248688,
          0.1332305371761322,
          0.1359049528837204,
          0.13871702551841736,
          0.14188529551029205,
          0.14505356550216675,
          0.14822182059288025,
          0.15160857141017914,
          0.15546467900276184,
          0.13231602311134338,
          0.1350160390138626,
          0.1378505825996399,
          0.14103500545024872,
          0.1440202295780182,
          0.14698930084705353,
          0.1503729224205017,
          0.15399613976478577,
          0.13299641013145447,
          0.13586795330047607,
          0.13889189064502716,
          0.14189967513084412,
          0.14489127695560455,
          0.14807571470737457,
          0.1512601375579834,
          0.15511998534202576,
          0.1373666375875473,
          0.14020727574825287,
          0.1434078812599182,
          0.1464042365550995,
          0.14959675073623657,
          0.15300963819026947,
          0.13758201897144318,
          0.1406187117099762,
          0.14363925158977509,
          0.14664360880851746,
          0.1498442143201828,
          0.1534857451915741,
          0.1414872258901596,
          0.14451414346694946,
          0.147524893283844,
          0.1509476602077484,
          0.14539246261119843,
          0.14861729741096497,
          0.14865271747112274
         ],
         "z": [
          -0.0019121811492368579,
          -0.0008615690167061985,
          -0.0019220361718907952,
          0.00011717805318767205,
          0.00016131608572322875,
          -0.001958506880328059,
          8.088943286566064e-05,
          0.0011224645422771573,
          0.0011664917692542076,
          -0.0007838821038603783,
          -0.0009530085371807218,
          0.002083765808492899,
          0.003125099465250969,
          0.0021715983748435974,
          0.00022115306637715548,
          -0.0019870889373123646,
          0.0010500699281692505,
          0.0030890845227986574,
          0.0031328897457569838,
          0.0031766952015459538,
          0.0012261783704161644,
          -0.0010257679969072342,
          1.6161870007636026e-05,
          0.0020554696675390005,
          0.004094333853572607,
          0.004138028249144554,
          0.004181722644716501,
          0.002231134567409754,
          -0.0010532980086281896,
          -1.129908469010843e-05,
          0.0020281467586755753,
          0.0040671490132808685,
          0.004110843408852816,
          0.005151873920112848,
          0.00419823219999671,
          0.0022477279417216778,
          -6.524286436615512e-05,
          0.0009766994044184685,
          0.0030160837341099977,
          0.004057441838085651,
          0.005098607856780291,
          0.0051421914249658585,
          0.005185774993151426,
          0.00423221942037344,
          -0.0010995081393048167,
          0.0009405020973645151,
          0.0019822840113192797,
          0.0040215179324150085,
          0.00506277522072196,
          0.005106358788907528,
          0.006147253327071667,
          0.005193525925278664,
          0.004239989910274744,
          -0.0011093384819105268,
          0.0019286113092675805,
          0.002970336936414242,
          0.004011810757219791,
          0.00505309272557497,
          0.006094122771173716,
          0.006137595511972904,
          0.006181068252772093,
          0.004230282735079527,
          -0.0007110981387086213,
          0.0008945235749706626,
          0.0029343217611312866,
          0.0039758868515491486,
          0.00501726008951664,
          0.006058381404727697,
          0.006101854145526886,
          0.006145326886326075,
          0.006188799161463976,
          0.004238053224980831,
          0.000293754565063864,
          0.0008847425342537463,
          0.003922485280781984,
          0.003966179676353931,
          0.00500757759436965,
          0.006048723589628935,
          0.0060921963304281235,
          0.006135668605566025,
          0.006179141346365213,
          0.005225494969636202,
          0.0022779947612434626,
          -0.00013192679034546018,
          0.00290609709918499,
          0.003947733901441097,
          0.004989177919924259,
          0.006030370946973562,
          0.006073843687772751,
          0.0061173164285719395,
          0.006160788703709841,
          0.006204261444509029,
          0.004253594670444727,
          -0.0006874905666336417,
          0.0018720190273597836,
          0.003911809995770454,
          0.004953345283865929,
          0.005994629580527544,
          0.006038102321326733,
          0.007079053670167923,
          0.007122415117919445,
          0.006168520078063011,
          0.0062119928188622,
          0.004261365160346031,
          -0.0021566147916018963,
          0.0028778724372386932,
          0.004917512647807598,
          0.005958888214081526,
          0.006002360954880714,
          0.00704340310767293,
          0.007086765021085739,
          0.0071301269344985485,
          0.0061762514524161816,
          0.006219723727554083,
          0.003272120375186205,
          -0.001159470877610147,
          0.0038749175146222115,
          0.004916546866297722,
          0.005957924760878086,
          0.006001397501677275,
          0.007042442448437214,
          0.007085803896188736,
          0.007129165809601545,
          0.006175287999212742,
          0.0062187607400119305,
          0.004268167540431023,
          -0.00016232211783062667,
          0.0038739494048058987,
          0.004915581084787846,
          0.005956961307674646,
          0.006998119875788689,
          0.007041481323540211,
          0.00708484323695302,
          0.007128204684704542,
          0.0071715665981173515,
          0.006217797286808491,
          0.0042671989649534225,
          -0.000673713511787355,
          0.003855503164231777,
          0.004897181876003742,
          0.005938609130680561,
          0.006979814264923334,
          0.007023175712674856,
          0.0070665376260876656,
          0.007109899073839188,
          0.007153260987251997,
          0.006199444644153118,
          0.005245849955826998,
          0.0022985052783042192,
          0.0018408031901344657,
          0.004878782667219639,
          0.0059202564880251884,
          0.005963729228824377,
          0.007004870101809502,
          0.007048232015222311,
          0.007091593462973833,
          0.0071349553763866425,
          0.007178317289799452,
          0.006224564742296934,
          0.004274001345038414,
          -0.0011810929281637073,
          0.003853566711768508,
          0.00489525031298399,
          0.005936682224273682,
          0.006977892480790615,
          0.007021253928542137,
          0.00806216150522232,
          0.008105412125587463,
          0.007151339203119278,
          0.0071947006508708,
          0.006240990478545427,
          0.002296558814123273,
          0.000831934274174273,
          0.004868134390562773,
          0.005909635219722986,
          0.005953107960522175,
          0.006994275841861963,
          0.008035251870751381,
          0.008078503422439098,
          0.008121754042804241,
          0.0071677230298519135,
          0.006213943473994732,
          0.005260386038571596,
          0.0003192835138179362,
          0.0028447937220335007,
          0.004884601570665836,
          0.005926060955971479,
          0.006967298220843077,
          0.007010659668594599,
          0.008051593787968159,
          0.008094844408333302,
          0.008138095960021019,
          0.007184106856584549,
          0.006230369210243225,
          0.004279835615307093,
          -0.001184034743346274,
          0.0038506616838276386,
          0.004892352502793074,
          0.0059337918646633625,
          0.006975009571760893,
          0.008016034960746765,
          0.008059285581111908,
          0.00810253620147705,
          0.008145787753164768,
          0.007191818207502365,
          0.006238100118935108,
          0.003290637396275997,
          -0.00017799668421503156,
          0.004856519866734743,
          0.004900103434920311,
          0.005941523239016533,
          0.006982720922678709,
          0.008023726753890514,
          0.008066977374255657,
          0.0081102279946208,
          0.008153478614985943,
          0.007199529558420181,
          0.006245831493288279,
          0.002301448956131935,
          0.0008192261448130012,
          0.004855554085224867,
          0.005897087045013905,
          0.005940559785813093,
          0.006981759797781706,
          0.008022768422961235,
          0.008066019043326378,
          0.009106664918363094,
          0.008152520284056664,
          0.007198568433523178,
          0.006244868040084839,
          0.002300475724041462,
          0.0008182504680007696,
          0.004854588303714991,
          0.005896123591810465,
          0.0059395963326096535,
          0.00698079913854599,
          0.008021809160709381,
          0.0090625686571002,
          0.009105708450078964,
          0.008151561953127384,
          0.007197607774287462,
          0.006243904586881399,
          0.0032964861020445824,
          0.0008172747911885381,
          0.004853622522205114,
          0.005895160138607025,
          0.005938632879406214,
          0.006979838013648987,
          0.008020850829780102,
          0.009061613120138645,
          0.009104752913117409,
          0.008150603622198105,
          0.007196646649390459,
          0.0062429411336779594,
          0.0032955154310911894,
          -0.001188937691040337,
          0.0038458202034235,
          0.004887523595243692,
          0.005928975064307451,
          0.006970204878598452,
          0.008011242374777794,
          0.009052028879523277,
          0.00909516867250204,
          0.009138308465480804,
          0.007187013514339924,
          0.006233283318579197,
          0.004282764624804258,
          -0.0006579507025890052,
          0.003836113028228283,
          0.004877840634435415,
          0.005919317249208689,
          0.006960571743547916,
          0.008001633919775486,
          0.00904244463890791,
          0.009085584431886673,
          0.009128724224865437,
          0.008174637332558632,
          0.007220741827040911,
          0.005270092282444239,
          0.00032911362359300256,
          0.002828266704455018,
          0.0048681581392884254,
          0.005909658968448639,
          0.006950938142836094,
          0.007992025464773178,
          0.009032860398292542,
          0.009076000191271305,
          0.009119140915572643,
          0.008165028877556324,
          0.0072111086919903755,
          0.005260409787297249,
          0.001316256821155548,
          0.0008221774478442967,
          0.004858475644141436,
          0.005900001153349876,
          0.006941305007785559,
          0.00798241700977087,
          0.009023277088999748,
          0.009066416881978512,
          0.009109556674957275,
          0.008155419491231441,
          0.00720147555693984,
          0.006247782148420811,
          0.0023034196346998215,
          -0.00018582178745418787,
          0.004848793148994446,
          0.005890343338251114,
          0.0069316718727350235,
          0.007972807623445988,
          0.00901369284838438,
          0.009056832641363144,
          0.009099972434341908,
          0.008145811036229134,
          0.007191841956228018,
          0.006238124333322048,
          0.003290661610662937,
          0.0008202260942198336,
          0.004856544081121683,
          0.005898074246942997,
          0.00693938322365284,
          0.007980499416589737,
          0.009021365083754063,
          0.009064504876732826,
          0.00910764466971159,
          0.008153502829372883,
          0.007199553307145834,
          0.006245855242013931,
          0.0032984516583383083,
          0.00182620482519269,
          0.0048642950132489204,
          0.005905805621296167,
          0.006947094574570656,
          0.008985896594822407,
          0.00902903638780117,
          0.009072176180779934,
          0.009115316905081272,
          0.008161194622516632,
          0.00720726465806365,
          0.006253586616367102,
          0.001312354113906622,
          0.0028321738354861736,
          0.005870064254850149,
          0.006911444012075663,
          0.007952632382512093,
          0.008993568830192089,
          0.009036708623170853,
          0.009079848416149616,
          0.00912298820912838,
          0.008168886415660381,
          0.007214976474642754,
          0.005264297593384981,
          0.00032324480707757175,
          0.0028399641159921885,
          0.005877795163542032,
          0.006919155828654766,
          0.007960324175655842,
          0.009001241065561771,
          0.009044380858540535,
          0.009087520651519299,
          0.009130660444498062,
          0.00817657820880413,
          0.00722268782556057,
          0.004275017883628607,
          -0.0001818848541006446,
          0.004852680489420891,
          0.0058942208997905254,
          0.006935539189726114,
          0.008974400348961353,
          0.009017540141940117,
          0.009060680866241455,
          0.009103820659220219,
          0.008149669505655766,
          0.007195709738880396,
          0.00624200189486146,
          0.0032945687416940928,
          0.0018310952000319958,
          0.004869148135185242,
          0.006908561568707228,
          0.00794975645840168,
          0.008990700356662273,
          0.009033840149641037,
          0.009076980873942375,
          0.009120120666921139,
          0.008166010491549969,
          0.007212093565613031,
          0.005261399783194065,
          0.0003203103842679411,
          0.002837051870301366,
          0.005874905269593,
          0.006916272919625044,
          0.00795744825154543,
          0.008998372592031956,
          0.00904151238501072,
          0.009084652177989483,
          0.009127791970968246,
          0.008173702284693718,
          0.0072198049165308475,
          0.005269150715321302,
          -0.0006687372224405408,
          0.0028448421508073807,
          0.0058826361782848835,
          0.00692398427054286,
          0.007965140044689178,
          0.009006044827401638,
          0.009049184620380402,
          0.009092324413359165,
          0.009135464206337929,
          0.008181394077837467,
          0.006230417173355818,
          0.004279883578419685,
          -0.0011751360725611448,
          0.004857534077018499,
          0.006897006183862686,
          0.007938231341540813,
          0.008979205042123795,
          0.009022344835102558,
          0.009065484628081322,
          0.009108624421060085,
          0.008154485374689102,
          0.00720053818076849,
          0.006246842909604311,
          0.0013055243762210011,
          0.002842900576069951,
          0.005880709271878004,
          0.006922062486410141,
          0.00796322338283062,
          0.009004132822155952,
          0.01004484947770834,
          0.00909041240811348,
          0.009133552201092243,
          0.008179477415978909,
          0.006228490266948938,
          0.0042779468931257725,
          -0.00017009851580951363,
          0.004864318761974573,
          0.0069037568755447865,
          0.007944964803755283,
          0.008985920809209347,
          0.01002668496221304,
          0.009072200395166874,
          0.009115340188145638,
          0.008161218836903572,
          0.00720728887245059,
          0.0052565704099833965,
          -0.0011780778877437115,
          0.00385654391720891,
          0.0058961715549230576,
          0.006937485188245773,
          0.008976336568593979,
          0.010017124935984612,
          0.010060153901576996,
          0.00910575594753027,
          0.00815160945057869,
          0.007197655737400055,
          0.006243952549993992,
          0.0003056139685213566,
          0.0038555755745619535,
          0.005895208101719618,
          0.00693652406334877,
          0.008975381031632423,
          0.01001617219299078,
          0.010059201158583164,
          0.009104800410568714,
          0.00815065111964941,
          0.007196694612503052,
          0.006242989096790552,
          0.0003046358178835362,
          0.003854607231914997,
          0.0058942451141774654,
          0.006935563404113054,
          0.008974424563348293,
          0.010015218518674374,
          0.00906070414930582,
          0.009103843942284584,
          0.008149692788720131,
          0.007195733487606049,
          0.005244956351816654,
          0.0003036576963495463,
          0.0038536391220986843,
          0.005893281660974026,
          0.006934602279216051,
          0.008973469026386738,
          0.009016608819365501,
          0.009059748612344265,
          0.009102888405323029,
          0.008148734457790852,
          0.007194772828370333,
          0.005243990570306778,
          0.00030267954571172595,
          0.003852670779451728,
          0.005892318207770586,
          0.006933641619980335,
          0.008972512558102608,
          0.009015652351081371,
          0.009058792144060135,
          0.009101931937038898,
          0.008147776126861572,
          0.0071938117034733295,
          0.005243024788796902,
          0.00030170142417773604,
          0.0038517024368047714,
          0.005891354754567146,
          0.006932680495083332,
          0.008971556089818478,
          0.009014696814119816,
          0.00905783660709858,
          0.009100976400077343,
          0.008146817795932293,
          0.007192851044237614,
          0.0052420590072870255,
          0.0003007232735399157,
          0.003850734094157815,
          0.005890391301363707,
          0.006931719370186329,
          0.008970600552856922,
          0.009013740345835686,
          0.00905688013881445,
          0.009100019931793213,
          0.008145859465003014,
          0.0071918899193406105,
          0.005241092760115862,
          -0.0011760921915993094,
          0.004856592044234276,
          0.005898122675716877,
          0.006939431186765432,
          0.008978272788226604,
          0.009021412581205368,
          0.009064552374184132,
          0.008110299706459045,
          0.008153550326824188,
          0.007199601270258427,
          0.005248843692243099,
          -0.00017007415590342134,
          0.004864342976361513,
          0.006903780624270439,
          0.007944988086819649,
          0.008985944092273712,
          0.009029083885252476,
          0.009072224609553814,
          0.008117991499602795,
          0.007163951173424721,
          0.006210161838680506,
          0.003262485144659877,
          0.0008359341882169247,
          0.0048720939084887505,
          0.006911491975188255,
          0.007952679879963398,
          0.008993616327643394,
          0.009036756120622158,
          0.008082432672381401,
          0.008125683292746544,
          0.007171662524342537,
          0.006217893213033676,
          0.0022732256911695004,
          0.0018418733961880207,
          0.005877843126654625,
          0.0069192033261060715,
          0.007960371673107147,
          0.00800362229347229,
          0.008046872913837433,
          0.00809012446552515,
          0.008133375085890293,
          0.007179373875260353,
          0.006225624121725559,
          0.0012840350391343236,
          0.0028478028252720833,
          0.005885574501007795,
          0.006926915142685175,
          0.007968063466250896,
          0.00801131408661604,
          0.008054564706981182,
          0.008097815327346325,
          0.008141066879034042,
          0.007187085226178169,
          0.005236263852566481,
          -0.000702126242686063,
          0.0028468321543186903,
          0.005884611047804356,
          0.006925954017788172,
          0.007967105135321617,
          0.00801035575568676,
          0.008053606376051903,
          0.008096856996417046,
          0.008140108548104763,
          0.007186124566942453,
          0.005235298071056604,
          -0.0007031068671494722,
          0.003852694761008024,
          0.005892341956496239,
          0.006933665368705988,
          0.007974796928465366,
          0.00801804754883051,
          0.008061298169195652,
          0.008104548789560795,
          0.00715047400444746,
          0.0071938359178602695,
          0.005243048537522554,
          -0.0011741066118702292,
          0.004858547821640968,
          0.006898015271872282,
          0.007939237169921398,
          0.007982488721609116,
          0.008025739341974258,
          0.008068989962339401,
          0.008112240582704544,
          0.007158185355365276,
          0.006204381585121155,
          0.0032566606532782316,
          -0.00016809350927360356,
          0.004866298753768206,
          0.006905726622790098,
          0.007946928963065147,
          0.00799017958343029,
          0.008033431135118008,
          0.00807668175548315,
          0.008119932375848293,
          0.0071658967062830925,
          0.006212112959474325,
          0.0032644509337842464,
          0.0008379098726436496,
          0.004874049685895443,
          0.006913437973707914,
          0.007954620756208897,
          0.00799787137657404,
          0.008041121996939182,
          0.0080843735486269,
          0.008127624168992043,
          0.007173608057200909,
          0.006219843868166208,
          0.0022751963697373867,
          0.001843844074755907,
          0.005879794247448444,
          0.0069211493246257305,
          0.007962312549352646,
          0.009003223851323128,
          0.009046363644301891,
          0.008092065341770649,
          0.007137957960367203,
          0.007181319873780012,
          0.005230468697845936,
          0.0012860108399763703,
          0.002849768614396453,
          0.0058875251561403275,
          0.006928860675543547,
          0.007970004342496395,
          0.00901089608669281,
          0.009054035879671574,
          0.008099756203591824,
          0.007145669311285019,
          0.007189031224697828,
          0.005238219629973173,
          0.0012938405852764845,
          0.0018506809137761593,
          0.005886561702936888,
          0.006927900016307831,
          0.007969046011567116,
          0.009009940549731255,
          0.009053080342710018,
          0.008098797872662544,
          0.008142049424350262,
          0.007188070099800825,
          0.00523725338280201,
          0.0022898430470377207,
          0.0018497076816856861,
          0.005885598249733448,
          0.006926938891410828,
          0.007968087680637836,
          0.009008984081447124,
          0.009052123874425888,
          0.008097839541733265,
          0.008141090162098408,
          0.007187109440565109,
          0.005236287601292133,
          0.0022888698149472475,
          0.0008506423328071833,
          0.0048866537399590015,
          0.0069259777665138245,
          0.007967128418385983,
          0.009008027613162994,
          0.009051168337464333,
          0.009094308130443096,
          0.008140131831169128,
          0.007186148315668106,
          0.006232415791600943,
          0.0032849095296114683,
          -0.0011642518220469356,
          0.0038701966404914856,
          0.005909755360335112,
          0.007948869839310646,
          0.008989815600216389,
          0.009032956324517727,
          0.00907609611749649,
          0.008121873252093792,
          0.0071678427048027515,
          0.006214063614606857,
          0.0052605061791837215,
          0.0013163541443645954,
          0.0008574964012950659,
          0.004893438890576363,
          0.006932728458195925,
          0.007973861880600452,
          0.009014744311571121,
          0.009057884104549885,
          0.009101023897528648,
          0.008146865293383598,
          0.007192899007350206,
          0.006239183712750673,
          0.004288694821298122,
          -0.0006519448943436146,
          0.003876999020576477,
          0.005916522815823555,
          0.007955603301525116,
          0.008996532298624516,
          0.009039672091603279,
          0.009082811884582043,
          0.008128606714308262,
          0.0071745929308235645,
          0.007217954844236374,
          0.006264303810894489,
          0.0033170415554195642,
          -0.00014256444410420954,
          0.0038935085758566856,
          0.006930806674063206,
          0.007971945218741894,
          0.009012832306325436,
          0.0090559720993042,
          0.009099111892282963,
          0.00814494863152504,
          0.0071909767575562,
          0.006237256806343794,
          0.0052837589755654335,
          0.0013398433802649379,
          0.0028770468197762966,
          0.005914596375077963,
          0.006955862510949373,
          0.0079969372600317,
          0.009037760086357594,
          0.009080899879336357,
          0.00912403967231512,
          0.008169940672814846,
          0.007216033060103655,
          0.00626237690448761,
          0.0043120067566633224,
          -0.0011426054406911135,
          0.0038915718905627728,
          0.005931021645665169,
          0.007970028556883335,
          0.008013279177248478,
          0.009054060094058514,
          0.009097199887037277,
          0.008143031038343906,
          0.007189054973423481,
          0.00723241688683629,
          0.006278802640736103,
          0.0033316512126475573,
          -0.00011901604011654854,
          0.004914759658277035,
          0.006953940726816654,
          0.007995019666850567,
          0.009035848081111908,
          0.009078987874090672,
          0.00812477245926857,
          0.008168023079633713,
          0.007214111275970936,
          0.006260450463742018,
          0.005307011306285858,
          -0.0006302985129877925,
          0.002900417661294341,
          0.0059377895668148994,
          0.006978996563702822,
          0.008020011708140373,
          0.009060775861144066,
          0.008106513880193233,
          0.008149764500558376,
          0.007195805665105581,
          0.007239167112857103,
          0.006285570561885834,
          0.003338470822200179,
          0.0008946937741711736,
          0.004930261522531509,
          0.0069693634286522865,
          0.007012725342065096,
          0.008053653873503208,
          0.008096905425190926,
          0.008140156045556068,
          0.007186172064393759,
          0.007229533977806568,
          0.006275912746787071,
          0.004325611051172018,
          -0.0011111286003142595,
          0.002924759406596422,
          0.005961946211755276,
          0.007003091741353273,
          0.0080440454185009,
          0.008087296038866043,
          0.00813054759055376,
          0.007176538929343224,
          0.007219900842756033,
          0.006266254466027021,
          0.005312830209732056,
          -0.0006243905518203974,
          0.0029237885028123856,
          0.004963196348398924,
          0.0070021310821175575,
          0.008043087087571621,
          0.008086337707936764,
          0.008129589259624481,
          0.00717557780444622,
          0.00721893971785903,
          0.006265291478484869,
          0.005311864428222179,
          -0.0006253711180761456,
          0.0019336715340614319,
          0.003973151091486216,
          0.007009842433035374,
          0.00805077888071537,
          0.008094029501080513,
          0.0071399277076125145,
          0.007183289621025324,
          0.007226651068776846,
          0.006273022387176752,
          0.004322706256061792,
          -7.19192175893113e-05,
          0.002965652383863926,
          0.006002528592944145,
          0.0070435707457363605,
          0.008084421046078205,
          0.007130294572561979,
          0.007173656020313501,
          0.007217017933726311,
          0.00626336457207799,
          0.005309932865202427,
          -0.0010708021000027657,
          0.001966858049854636,
          0.005003882572054863,
          0.007042610086500645,
          0.007085971534252167,
          0.007129333447664976,
          0.0071726953610777855,
          0.006218928378075361,
          0.00626240111887455,
          0.004312030505388975,
          -0.0010629328899085522,
          0.0009768939344212413,
          0.00401394022628665,
          0.007050321437418461,
          0.00709368335083127,
          0.007137044798582792,
          0.007180406711995602,
          0.006226659752428532,
          0.006270132027566433,
          0.0033229144755750895,
          -3.071559694944881e-05,
          0.0020088276360183954,
          0.005045534111559391,
          0.007084049750119448,
          0.007127411663532257,
          0.0061735291965305805,
          0.006217001937329769,
          0.0062604742124676704,
          0.003313182620331645,
          -0.0010294949170202017,
          0.001010164269246161,
          0.004046959336847067,
          0.006085620261728764,
          0.006129093002527952,
          0.006172565743327141,
          0.006216038484126329,
          0.005262486170977354,
          0.0023152681533247232,
          -0.0010039262706413865,
          0.002033231081441045,
          0.0040722074918448925,
          0.00411590188741684,
          0.005156919825822115,
          0.006197685841470957,
          0.005244086496531963,
          0.003293718909844756,
          -0.000996057060547173,
          0.0010434344876557589,
          0.002084957202896476,
          0.003126288065686822,
          0.004167367238551378,
          0.004211061634123325,
          0.0042547560296952724,
          0.0013075972674414515,
          6.247548299143091e-05,
          0.0021015505772083998,
          0.002145466860383749,
          0.003186644520610571,
          0.003230449976399541,
          0.002277215477079153,
          -0.0009360697004012764,
          0.00010563537944108248,
          0.001147148315794766,
          0.002188409911468625,
          0.0022323261946439743,
          0.0002821874222718179,
          -0.000883951666764915,
          0.0001576228823978454,
          0.0011990051716566086,
          0.0002458988456055522,
          -0.0008318335167132318,
          -0.0007875845185481012,
          -0.0007885651430115104
         ]
        }
       ],
       "frames": [
        {
         "layout": {
          "scene": {
           "camera": {
            "eye": {
             "x": 1.25,
             "y": 1.25,
             "z": 0.8
            }
           }
          }
         }
        },
        {
         "layout": {
          "scene": {
           "camera": {
            "eye": {
             "x": 1.3685469774060675,
             "y": 1.1189634357889973,
             "z": 0.8
            }
           }
          }
         }
        },
        {
         "layout": {
          "scene": {
           "camera": {
            "eye": {
             "x": 1.4734198857953784,
             "y": 0.9767465588077254,
             "z": 0.8
            }
           }
          }
         }
        },
        {
         "layout": {
          "scene": {
           "camera": {
            "eye": {
             "x": 1.5635708697336819,
             "y": 0.824770353080333,
             "z": 0.8
            }
           }
          }
         }
        },
        {
         "layout": {
          "scene": {
           "camera": {
            "eye": {
             "x": 1.6380991703894194,
             "y": 0.6645533146177932,
             "z": 0.8
            }
           }
          }
         }
        },
        {
         "layout": {
          "scene": {
           "camera": {
            "eye": {
             "x": 1.6962601256182197,
             "y": 0.4976962791077122,
             "z": 0.8
            }
           }
          }
         }
        },
        {
         "layout": {
          "scene": {
           "camera": {
            "eye": {
             "x": 1.737472610380892,
             "y": 0.32586642689330336,
             "z": 0.8
            }
           }
          }
         }
        },
        {
         "layout": {
          "scene": {
           "camera": {
            "eye": {
             "x": 1.7613248431527242,
             "y": 0.15078062505849654,
             "z": 0.8
            }
           }
          }
         }
        },
        {
         "layout": {
          "scene": {
           "camera": {
            "eye": {
             "x": 1.7675785003083602,
             "y": -0.025811726940446755,
             "z": 0.8
            }
           }
          }
         }
        },
        {
         "layout": {
          "scene": {
           "camera": {
            "eye": {
             "x": 1.7561710973726847,
             "y": -0.20214617669602375,
             "z": 0.8
            }
           }
          }
         }
        },
        {
         "layout": {
          "scene": {
           "camera": {
            "eye": {
             "x": 1.7272166133450453,
             "y": -0.376460848674696,
             "z": 0.8
            }
           }
          }
         }
        },
        {
         "layout": {
          "scene": {
           "camera": {
            "eye": {
             "x": 1.6810043518587658,
             "y": -0.5470140482948226,
             "z": 0.8
            }
           }
          }
         }
        },
        {
         "layout": {
          "scene": {
           "camera": {
            "eye": {
             "x": 1.6179960505548747,
             "y": -0.7121016643631912,
             "z": 0.8
            }
           }
          }
         }
        },
        {
         "layout": {
          "scene": {
           "camera": {
            "eye": {
             "x": 1.5388212675522255,
             "y": -0.870074195990757,
             "z": 0.8
            }
           }
          }
         }
        },
        {
         "layout": {
          "scene": {
           "camera": {
            "eye": {
             "x": 1.4442710911108763,
             "y": -1.0193532338602744,
             "z": 0.8
            }
           }
          }
         }
        },
        {
         "layout": {
          "scene": {
           "camera": {
            "eye": {
             "x": 1.3352902353396967,
             "y": -1.1584472311704395,
             "z": 0.8
            }
           }
          }
         }
        },
        {
         "layout": {
          "scene": {
           "camera": {
            "eye": {
             "x": 1.2129676009252703,
             "y": -1.2859664066784924,
             "z": 0.8
            }
           }
          }
         }
        },
        {
         "layout": {
          "scene": {
           "camera": {
            "eye": {
             "x": 1.0785253951961797,
             "y": -1.4006366309349918,
             "z": 0.8
            }
           }
          }
         }
        },
        {
         "layout": {
          "scene": {
           "camera": {
            "eye": {
             "x": 0.9333069202313851,
             "y": -1.5013121569641028,
             "z": 0.8
            }
           }
          }
         }
        },
        {
         "layout": {
          "scene": {
           "camera": {
            "eye": {
             "x": 0.7787631510298885,
             "y": -1.5869870681886475,
             "z": 0.8
            }
           }
          }
         }
        },
        {
         "layout": {
          "scene": {
           "camera": {
            "eye": {
             "x": 0.6164382378481742,
             "y": -1.6568053292160303,
             "z": 0.8
            }
           }
          }
         }
        },
        {
         "layout": {
          "scene": {
           "camera": {
            "eye": {
             "x": 0.44795407756127026,
             "y": -1.710069339060914,
             "z": 0.8
            }
           }
          }
         }
        },
        {
         "layout": {
          "scene": {
           "camera": {
            "eye": {
             "x": 0.27499410820530534,
             "y": -1.7462469013436699,
             "z": 0.8
            }
           }
          }
         }
        },
        {
         "layout": {
          "scene": {
           "camera": {
            "eye": {
             "x": 0.09928648862111944,
             "y": -1.7649765418206806,
             "z": 0.8
            }
           }
          }
         }
        },
        {
         "layout": {
          "scene": {
           "camera": {
            "eye": {
             "x": -0.07741316873761894,
             "y": -1.7660711201154955,
             "z": 0.8
            }
           }
          }
         }
        },
        {
         "layout": {
          "scene": {
           "camera": {
            "eye": {
             "x": -0.25333933930372143,
             "y": -1.7495196995636126,
             "z": 0.8
            }
           }
          }
         }
        },
        {
         "layout": {
          "scene": {
           "camera": {
            "eye": {
             "x": -0.4267342269343539,
             "y": -1.7154876564880144,
             "z": 0.8
            }
           }
          }
         }
        },
        {
         "layout": {
          "scene": {
           "camera": {
            "eye": {
             "x": -0.5958653272290393,
             "y": -1.6643150278136138,
             "z": 0.8
            }
           }
          }
         }
        },
        {
         "layout": {
          "scene": {
           "camera": {
            "eye": {
             "x": -0.7590427381409421,
             "y": -1.5965131135307038,
             "z": 0.8
            }
           }
          }
         }
        },
        {
         "layout": {
          "scene": {
           "camera": {
            "eye": {
             "x": -0.9146360449195108,
             "y": -1.5127593679544658,
             "z": 0.8
            }
           }
          }
         }
        },
        {
         "layout": {
          "scene": {
           "camera": {
            "eye": {
             "x": -1.0610906106757227,
             "y": -1.4138906308253907,
             "z": 0.8
            }
           }
          }
         }
        },
        {
         "layout": {
          "scene": {
           "camera": {
            "eye": {
             "x": -1.196943109799986,
             "y": -1.3008947658832124,
             "z": 0.8
            }
           }
          }
         }
        },
        {
         "layout": {
          "scene": {
           "camera": {
            "eye": {
             "x": -1.3208361490279166,
             "y": -1.1749007904589663,
             "z": 0.8
            }
           }
          }
         }
        },
        {
         "layout": {
          "scene": {
           "camera": {
            "eye": {
             "x": -1.431531830065142,
             "y": -1.0371675947070202,
             "z": 0.8
            }
           }
          }
         }
        },
        {
         "layout": {
          "scene": {
           "camera": {
            "eye": {
             "x": -1.5279241182578656,
             "y": -0.8890713631907865,
             "z": 0.8
            }
           }
          }
         }
        },
        {
         "layout": {
          "scene": {
           "camera": {
            "eye": {
             "x": -1.6090498937255202,
             "y": -0.7320918245014705,
             "z": 0.8
            }
           }
          }
         }
        },
        {
         "layout": {
          "scene": {
           "camera": {
            "eye": {
             "x": -1.6740985745362496,
             "y": -0.5677974662991182,
             "z": 0.8
            }
           }
          }
         }
        },
        {
         "layout": {
          "scene": {
           "camera": {
            "eye": {
             "x": -1.7224202157736266,
             "y": -0.39782986350239324,
             "z": 0.8
            }
           }
          }
         }
        },
        {
         "layout": {
          "scene": {
           "camera": {
            "eye": {
             "x": -1.7535320035714197,
             "y": -0.22388727621462157,
             "z": 0.8
            }
           }
          }
         }
        },
        {
         "layout": {
          "scene": {
           "camera": {
            "eye": {
             "x": -1.7671230792301427,
             "y": -0.04770768127020719,
             "z": 0.8
            }
           }
          }
         }
        },
        {
         "layout": {
          "scene": {
           "camera": {
            "eye": {
             "x": -1.7630576452144253,
             "y": 0.1289485930553954,
             "z": 0.8
            }
           }
          }
         }
        },
        {
         "layout": {
          "scene": {
           "camera": {
            "eye": {
             "x": -1.741376321997099,
             "y": 0.30431645566392784,
             "z": 0.8
            }
           }
          }
         }
        },
        {
         "layout": {
          "scene": {
           "camera": {
            "eye": {
             "x": -1.7022957421928595,
             "y": 0.47664368884111097,
             "z": 0.8
            }
           }
          }
         }
        },
        {
         "layout": {
          "scene": {
           "camera": {
            "eye": {
             "x": -1.646206386036788,
             "y": 0.6442084558368493,
             "z": 0.8
            }
           }
          }
         }
        },
        {
         "layout": {
          "scene": {
           "camera": {
            "eye": {
             "x": -1.573668679834919,
             "y": 0.8053365048888708,
             "z": 0.8
            }
           }
          }
         }
        },
        {
         "layout": {
          "scene": {
           "camera": {
            "eye": {
             "x": -1.4854073963698458,
             "y": 0.9584178977928967,
             "z": 0.8
            }
           }
          }
         }
        },
        {
         "layout": {
          "scene": {
           "camera": {
            "eye": {
             "x": -1.3823044132106481,
             "y": 1.101923095873013,
             "z": 0.8
            }
           }
          }
         }
        },
        {
         "layout": {
          "scene": {
           "camera": {
            "eye": {
             "x": -1.2653899012837393,
             "y": 1.2344182426265127,
             "z": 0.8
            }
           }
          }
         }
        },
        {
         "layout": {
          "scene": {
           "camera": {
            "eye": {
             "x": -1.1358320317454915,
             "y": 1.3545794903441097,
             "z": 0.8
            }
           }
          }
         }
        },
        {
         "layout": {
          "scene": {
           "camera": {
            "eye": {
             "x": -0.9949253040021958,
             "y": 1.4612062275586353,
             "z": 0.8
            }
           }
          }
         }
        },
        {
         "layout": {
          "scene": {
           "camera": {
            "eye": {
             "x": -0.8440776114998902,
             "y": 1.553233075157956,
             "z": 0.8
            }
           }
          }
         }
        },
        {
         "layout": {
          "scene": {
           "camera": {
            "eye": {
             "x": -0.6847961745184389,
             "y": 1.6297405313008917,
             "z": 0.8
            }
           }
          }
         }
        },
        {
         "layout": {
          "scene": {
           "camera": {
            "eye": {
             "x": -0.5186724805247199,
             "y": 1.6899641587756626,
             "z": 0.8
            }
           }
          }
         }
        },
        {
         "layout": {
          "scene": {
           "camera": {
            "eye": {
             "x": -0.347366382555924,
             "y": 1.733302223003828,
             "z": 0.8
            }
           }
          }
         }
        },
        {
         "layout": {
          "scene": {
           "camera": {
            "eye": {
             "x": -0.17258951451669058,
             "y": 1.7593217043732774,
             "z": 0.8
            }
           }
          }
         }
        },
        {
         "layout": {
          "scene": {
           "camera": {
            "eye": {
             "x": 0.0039118109010850555,
             "y": 1.767762624827065,
             "z": 0.8
            }
           }
          }
         }
        },
        {
         "layout": {
          "scene": {
           "camera": {
            "eye": {
             "x": 0.18037405079741164,
             "y": 1.7585406454782138,
             "z": 0.8
            }
           }
          }
         }
        },
        {
         "layout": {
          "scene": {
           "camera": {
            "eye": {
             "x": 0.3550340528019027,
             "y": 1.7317479092959966,
             "z": 0.8
            }
           }
          }
         }
        },
        {
         "layout": {
          "scene": {
           "camera": {
            "eye": {
             "x": 0.5261466719094534,
             "y": 1.6876521204438448,
             "z": 0.8
            }
           }
          }
         }
        },
        {
         "layout": {
          "scene": {
           "camera": {
            "eye": {
             "x": 0.6920022073922499,
             "y": 1.62669386946784,
             "z": 0.8
            }
           }
          }
         }
        },
        {
         "layout": {
          "scene": {
           "camera": {
            "eye": {
             "x": 0.8509434855643001,
             "y": 1.5494822310616148,
             "z": 0.8
            }
           }
          }
         }
        },
        {
         "layout": {
          "scene": {
           "camera": {
            "eye": {
             "x": 1.001382417713112,
             "y": 1.4567886783933495,
             "z": 0.8
            }
           }
          }
         }
        },
        {
         "layout": {
          "scene": {
           "camera": {
            "eye": {
             "x": 1.1418158677571515,
             "y": 1.3495393748008924,
             "z": 0.8
            }
           }
          }
         }
        },
        {
         "layout": {
          "scene": {
           "camera": {
            "eye": {
             "x": 1.270840671084707,
             "y": 1.2288059198738308,
             "z": 0.8
            }
           }
          }
         }
        },
        {
         "layout": {
          "scene": {
           "camera": {
            "eye": {
             "x": 1.3871676545108578,
             "y": 1.0957946423846239,
             "z": 0.8
            }
           }
          }
         }
        },
        {
         "layout": {
          "scene": {
           "camera": {
            "eye": {
             "x": 1.4896345172697987,
             "y": 0.9518345470502599,
             "z": 0.8
            }
           }
          }
         }
        },
        {
         "layout": {
          "scene": {
           "camera": {
            "eye": {
             "x": 1.577217444339885,
             "y": 0.7983640355564382,
             "z": 0.8
            }
           }
          }
         }
        },
        {
         "layout": {
          "scene": {
           "camera": {
            "eye": {
             "x": 1.6490413360648972,
             "y": 0.6369165345234014,
             "z": 0.8
            }
           }
          }
         }
        },
        {
         "layout": {
          "scene": {
           "camera": {
            "eye": {
             "x": 1.7043885518605422,
             "y": 0.46910517401401974,
             "z": 0.8
            }
           }
          }
         }
        },
        {
         "layout": {
          "scene": {
           "camera": {
            "eye": {
             "x": 1.742706080641946,
             "y": 0.2966066696714459,
             "z": 0.8
            }
           }
          }
         }
        },
        {
         "layout": {
          "scene": {
           "camera": {
            "eye": {
             "x": 1.7636110663276172,
             "y": 0.12114456953064445,
             "z": 0.8
            }
           }
          }
         }
        },
        {
         "layout": {
          "scene": {
           "camera": {
            "eye": {
             "x": 1.766894633210853,
             "y": -0.05552796710383823,
             "z": 0.8
            }
           }
          }
         }
        },
        {
         "layout": {
          "scene": {
           "camera": {
            "eye": {
             "x": 1.7525239729767597,
             "y": -0.23164568664612328,
             "z": 0.8
            }
           }
          }
         }
        },
        {
         "layout": {
          "scene": {
           "camera": {
            "eye": {
             "x": 1.7206426725120867,
             "y": -0.4054488790593255,
             "z": 0.8
            }
           }
          }
         }
        },
        {
         "layout": {
          "scene": {
           "camera": {
            "eye": {
             "x": 1.6715692792325216,
             "y": -0.5752009602965458,
             "z": 0.8
            }
           }
          }
         }
        },
        {
         "layout": {
          "scene": {
           "camera": {
            "eye": {
             "x": 1.605794118262206,
             "y": -0.7392058236746413,
             "z": 0.8
            }
           }
          }
         }
        },
        {
         "layout": {
          "scene": {
           "camera": {
            "eye": {
             "x": 1.5239743932671765,
             "y": -0.8958247868115395,
             "z": 0.8
            }
           }
          }
         }
        },
        {
         "layout": {
          "scene": {
           "camera": {
            "eye": {
             "x": 1.426927619893581,
             "y": -1.04349296479892,
             "z": 0.8
            }
           }
          }
         }
        },
        {
         "layout": {
          "scene": {
           "camera": {
            "eye": {
             "x": 1.3156234574215673,
             "y": -1.180734906014945,
             "z": 0.8
            }
           }
          }
         }
        },
        {
         "layout": {
          "scene": {
           "camera": {
            "eye": {
             "x": 1.1911740202502938,
             "y": -1.3061793343491364,
             "z": 0.8
            }
           }
          }
         }
        },
        {
         "layout": {
          "scene": {
           "camera": {
            "eye": {
             "x": 1.0548227660184604,
             "y": -1.4185728505399942,
             "z": 0.8
            }
           }
          }
         }
        },
        {
         "layout": {
          "scene": {
           "camera": {
            "eye": {
             "x": 0.9079320713866189,
             "y": -1.5167924557260966,
             "z": 0.8
            }
           }
          }
         }
        },
        {
         "layout": {
          "scene": {
           "camera": {
            "eye": {
             "x": 0.7519696196199205,
             "y": -1.599856772079511,
             "z": 0.8
            }
           }
          }
         }
        },
        {
         "layout": {
          "scene": {
           "camera": {
            "eye": {
             "x": 0.5884937359820905,
             "y": -1.6669358484086425,
             "z": 0.8
            }
           }
          }
         }
        },
        {
         "layout": {
          "scene": {
           "camera": {
            "eye": {
             "x": 0.41913781746449363,
             "y": -1.7173594527562077,
             "z": 0.8
            }
           }
          }
         }
        },
        {
         "layout": {
          "scene": {
           "camera": {
            "eye": {
             "x": 0.24559401242333323,
             "y": -1.7506237691353923,
             "z": 0.8
            }
           }
          }
         }
        },
        {
         "layout": {
          "scene": {
           "camera": {
            "eye": {
             "x": 0.06959631319262605,
             "y": -1.7663964314926572,
             "z": 0.8
            }
           }
          }
         }
        },
        {
         "layout": {
          "scene": {
           "camera": {
            "eye": {
             "x": -0.10709676939402235,
             "y": -1.7645198445994774,
             "z": 0.8
            }
           }
          }
         }
        },
        {
         "layout": {
          "scene": {
           "camera": {
            "eye": {
             "x": -0.2827197764623679,
             "y": -1.745012758691772,
             "z": 0.8
            }
           }
          }
         }
        },
        {
         "layout": {
          "scene": {
           "camera": {
            "eye": {
             "x": -0.45551794097903464,
             "y": -1.7080700821237462,
             "z": 0.8
            }
           }
          }
         }
        },
        {
         "layout": {
          "scene": {
           "camera": {
            "eye": {
             "x": -0.6237647208036504,
             "y": -1.6540609339080419,
             "z": 0.8
            }
           }
          }
         }
        },
        {
         "layout": {
          "scene": {
           "camera": {
            "eye": {
             "x": -0.7857790497271997,
             "y": -1.58352495560058,
             "z": 0.8
            }
           }
          }
         }
        },
        {
         "layout": {
          "scene": {
           "camera": {
            "eye": {
             "x": -0.9399421341298975,
             "y": -1.4971669193805124,
             "z": 0.8
            }
           }
          }
         }
        },
        {
         "layout": {
          "scene": {
           "camera": {
            "eye": {
             "x": -1.0847136274319271,
             "y": -1.3958496861995813,
             "z": 0.8
            }
           }
          }
         }
        },
        {
         "layout": {
          "scene": {
           "camera": {
            "eye": {
             "x": -1.218647020727311,
             "y": -1.2805855843607052,
             "z": 0.8
            }
           }
          }
         }
        },
        {
         "layout": {
          "scene": {
           "camera": {
            "eye": {
             "x": -1.3404040958227346,
             "y": -1.1525262946682115,
             "z": 0.8
            }
           }
          }
         }
        },
        {
         "layout": {
          "scene": {
           "camera": {
            "eye": {
             "x": -1.448768296271385,
             "y": -1.0129513432139317,
             "z": 0.8
            }
           }
          }
         }
        },
        {
         "layout": {
          "scene": {
           "camera": {
            "eye": {
             "x": -1.5426568828028173,
             "y": -0.8632553167754569,
             "z": 0.8
            }
           }
          }
         }
        },
        {
         "layout": {
          "scene": {
           "camera": {
            "eye": {
             "x": -1.6211317516958519,
             "y": -0.7049339285660311,
             "z": 0.8
            }
           }
          }
         }
        },
        {
         "layout": {
          "scene": {
           "camera": {
            "eye": {
             "x": -1.6834088080008527,
             "y": -0.5395690735625494,
             "z": 0.8
            }
           }
          }
         }
        },
        {
         "layout": {
          "scene": {
           "camera": {
            "eye": {
             "x": -1.7288657999572776,
             "y": -0.3688130227338533,
             "z": 0.8
            }
           }
          }
         }
        },
        {
         "layout": {
          "scene": {
           "camera": {
            "eye": {
             "x": -1.7570485363275825,
             "y": -0.1943719140953739,
             "z": 0.8
            }
           }
          }
         }
        },
        {
         "layout": {
          "scene": {
           "camera": {
            "eye": {
             "x": -1.7676754245259283,
             "y": -0.017988705542069106,
             "z": 0.8
            }
           }
          }
         }
        }
       ],
       "layout": {
        "template": {
         "data": {
          "bar": [
           {
            "error_x": {
             "color": "#2a3f5f"
            },
            "error_y": {
             "color": "#2a3f5f"
            },
            "marker": {
             "line": {
              "color": "#E5ECF6",
              "width": 0.5
             },
             "pattern": {
              "fillmode": "overlay",
              "size": 10,
              "solidity": 0.2
             }
            },
            "type": "bar"
           }
          ],
          "barpolar": [
           {
            "marker": {
             "line": {
              "color": "#E5ECF6",
              "width": 0.5
             },
             "pattern": {
              "fillmode": "overlay",
              "size": 10,
              "solidity": 0.2
             }
            },
            "type": "barpolar"
           }
          ],
          "carpet": [
           {
            "aaxis": {
             "endlinecolor": "#2a3f5f",
             "gridcolor": "white",
             "linecolor": "white",
             "minorgridcolor": "white",
             "startlinecolor": "#2a3f5f"
            },
            "baxis": {
             "endlinecolor": "#2a3f5f",
             "gridcolor": "white",
             "linecolor": "white",
             "minorgridcolor": "white",
             "startlinecolor": "#2a3f5f"
            },
            "type": "carpet"
           }
          ],
          "choropleth": [
           {
            "colorbar": {
             "outlinewidth": 0,
             "ticks": ""
            },
            "type": "choropleth"
           }
          ],
          "contour": [
           {
            "colorbar": {
             "outlinewidth": 0,
             "ticks": ""
            },
            "colorscale": [
             [
              0,
              "#0d0887"
             ],
             [
              0.1111111111111111,
              "#46039f"
             ],
             [
              0.2222222222222222,
              "#7201a8"
             ],
             [
              0.3333333333333333,
              "#9c179e"
             ],
             [
              0.4444444444444444,
              "#bd3786"
             ],
             [
              0.5555555555555556,
              "#d8576b"
             ],
             [
              0.6666666666666666,
              "#ed7953"
             ],
             [
              0.7777777777777778,
              "#fb9f3a"
             ],
             [
              0.8888888888888888,
              "#fdca26"
             ],
             [
              1,
              "#f0f921"
             ]
            ],
            "type": "contour"
           }
          ],
          "contourcarpet": [
           {
            "colorbar": {
             "outlinewidth": 0,
             "ticks": ""
            },
            "type": "contourcarpet"
           }
          ],
          "heatmap": [
           {
            "colorbar": {
             "outlinewidth": 0,
             "ticks": ""
            },
            "colorscale": [
             [
              0,
              "#0d0887"
             ],
             [
              0.1111111111111111,
              "#46039f"
             ],
             [
              0.2222222222222222,
              "#7201a8"
             ],
             [
              0.3333333333333333,
              "#9c179e"
             ],
             [
              0.4444444444444444,
              "#bd3786"
             ],
             [
              0.5555555555555556,
              "#d8576b"
             ],
             [
              0.6666666666666666,
              "#ed7953"
             ],
             [
              0.7777777777777778,
              "#fb9f3a"
             ],
             [
              0.8888888888888888,
              "#fdca26"
             ],
             [
              1,
              "#f0f921"
             ]
            ],
            "type": "heatmap"
           }
          ],
          "heatmapgl": [
           {
            "colorbar": {
             "outlinewidth": 0,
             "ticks": ""
            },
            "colorscale": [
             [
              0,
              "#0d0887"
             ],
             [
              0.1111111111111111,
              "#46039f"
             ],
             [
              0.2222222222222222,
              "#7201a8"
             ],
             [
              0.3333333333333333,
              "#9c179e"
             ],
             [
              0.4444444444444444,
              "#bd3786"
             ],
             [
              0.5555555555555556,
              "#d8576b"
             ],
             [
              0.6666666666666666,
              "#ed7953"
             ],
             [
              0.7777777777777778,
              "#fb9f3a"
             ],
             [
              0.8888888888888888,
              "#fdca26"
             ],
             [
              1,
              "#f0f921"
             ]
            ],
            "type": "heatmapgl"
           }
          ],
          "histogram": [
           {
            "marker": {
             "pattern": {
              "fillmode": "overlay",
              "size": 10,
              "solidity": 0.2
             }
            },
            "type": "histogram"
           }
          ],
          "histogram2d": [
           {
            "colorbar": {
             "outlinewidth": 0,
             "ticks": ""
            },
            "colorscale": [
             [
              0,
              "#0d0887"
             ],
             [
              0.1111111111111111,
              "#46039f"
             ],
             [
              0.2222222222222222,
              "#7201a8"
             ],
             [
              0.3333333333333333,
              "#9c179e"
             ],
             [
              0.4444444444444444,
              "#bd3786"
             ],
             [
              0.5555555555555556,
              "#d8576b"
             ],
             [
              0.6666666666666666,
              "#ed7953"
             ],
             [
              0.7777777777777778,
              "#fb9f3a"
             ],
             [
              0.8888888888888888,
              "#fdca26"
             ],
             [
              1,
              "#f0f921"
             ]
            ],
            "type": "histogram2d"
           }
          ],
          "histogram2dcontour": [
           {
            "colorbar": {
             "outlinewidth": 0,
             "ticks": ""
            },
            "colorscale": [
             [
              0,
              "#0d0887"
             ],
             [
              0.1111111111111111,
              "#46039f"
             ],
             [
              0.2222222222222222,
              "#7201a8"
             ],
             [
              0.3333333333333333,
              "#9c179e"
             ],
             [
              0.4444444444444444,
              "#bd3786"
             ],
             [
              0.5555555555555556,
              "#d8576b"
             ],
             [
              0.6666666666666666,
              "#ed7953"
             ],
             [
              0.7777777777777778,
              "#fb9f3a"
             ],
             [
              0.8888888888888888,
              "#fdca26"
             ],
             [
              1,
              "#f0f921"
             ]
            ],
            "type": "histogram2dcontour"
           }
          ],
          "mesh3d": [
           {
            "colorbar": {
             "outlinewidth": 0,
             "ticks": ""
            },
            "type": "mesh3d"
           }
          ],
          "parcoords": [
           {
            "line": {
             "colorbar": {
              "outlinewidth": 0,
              "ticks": ""
             }
            },
            "type": "parcoords"
           }
          ],
          "pie": [
           {
            "automargin": true,
            "type": "pie"
           }
          ],
          "scatter": [
           {
            "fillpattern": {
             "fillmode": "overlay",
             "size": 10,
             "solidity": 0.2
            },
            "type": "scatter"
           }
          ],
          "scatter3d": [
           {
            "line": {
             "colorbar": {
              "outlinewidth": 0,
              "ticks": ""
             }
            },
            "marker": {
             "colorbar": {
              "outlinewidth": 0,
              "ticks": ""
             }
            },
            "type": "scatter3d"
           }
          ],
          "scattercarpet": [
           {
            "marker": {
             "colorbar": {
              "outlinewidth": 0,
              "ticks": ""
             }
            },
            "type": "scattercarpet"
           }
          ],
          "scattergeo": [
           {
            "marker": {
             "colorbar": {
              "outlinewidth": 0,
              "ticks": ""
             }
            },
            "type": "scattergeo"
           }
          ],
          "scattergl": [
           {
            "marker": {
             "colorbar": {
              "outlinewidth": 0,
              "ticks": ""
             }
            },
            "type": "scattergl"
           }
          ],
          "scattermapbox": [
           {
            "marker": {
             "colorbar": {
              "outlinewidth": 0,
              "ticks": ""
             }
            },
            "type": "scattermapbox"
           }
          ],
          "scatterpolar": [
           {
            "marker": {
             "colorbar": {
              "outlinewidth": 0,
              "ticks": ""
             }
            },
            "type": "scatterpolar"
           }
          ],
          "scatterpolargl": [
           {
            "marker": {
             "colorbar": {
              "outlinewidth": 0,
              "ticks": ""
             }
            },
            "type": "scatterpolargl"
           }
          ],
          "scatterternary": [
           {
            "marker": {
             "colorbar": {
              "outlinewidth": 0,
              "ticks": ""
             }
            },
            "type": "scatterternary"
           }
          ],
          "surface": [
           {
            "colorbar": {
             "outlinewidth": 0,
             "ticks": ""
            },
            "colorscale": [
             [
              0,
              "#0d0887"
             ],
             [
              0.1111111111111111,
              "#46039f"
             ],
             [
              0.2222222222222222,
              "#7201a8"
             ],
             [
              0.3333333333333333,
              "#9c179e"
             ],
             [
              0.4444444444444444,
              "#bd3786"
             ],
             [
              0.5555555555555556,
              "#d8576b"
             ],
             [
              0.6666666666666666,
              "#ed7953"
             ],
             [
              0.7777777777777778,
              "#fb9f3a"
             ],
             [
              0.8888888888888888,
              "#fdca26"
             ],
             [
              1,
              "#f0f921"
             ]
            ],
            "type": "surface"
           }
          ],
          "table": [
           {
            "cells": {
             "fill": {
              "color": "#EBF0F8"
             },
             "line": {
              "color": "white"
             }
            },
            "header": {
             "fill": {
              "color": "#C8D4E3"
             },
             "line": {
              "color": "white"
             }
            },
            "type": "table"
           }
          ]
         },
         "layout": {
          "annotationdefaults": {
           "arrowcolor": "#2a3f5f",
           "arrowhead": 0,
           "arrowwidth": 1
          },
          "autotypenumbers": "strict",
          "coloraxis": {
           "colorbar": {
            "outlinewidth": 0,
            "ticks": ""
           }
          },
          "colorscale": {
           "diverging": [
            [
             0,
             "#8e0152"
            ],
            [
             0.1,
             "#c51b7d"
            ],
            [
             0.2,
             "#de77ae"
            ],
            [
             0.3,
             "#f1b6da"
            ],
            [
             0.4,
             "#fde0ef"
            ],
            [
             0.5,
             "#f7f7f7"
            ],
            [
             0.6,
             "#e6f5d0"
            ],
            [
             0.7,
             "#b8e186"
            ],
            [
             0.8,
             "#7fbc41"
            ],
            [
             0.9,
             "#4d9221"
            ],
            [
             1,
             "#276419"
            ]
           ],
           "sequential": [
            [
             0,
             "#0d0887"
            ],
            [
             0.1111111111111111,
             "#46039f"
            ],
            [
             0.2222222222222222,
             "#7201a8"
            ],
            [
             0.3333333333333333,
             "#9c179e"
            ],
            [
             0.4444444444444444,
             "#bd3786"
            ],
            [
             0.5555555555555556,
             "#d8576b"
            ],
            [
             0.6666666666666666,
             "#ed7953"
            ],
            [
             0.7777777777777778,
             "#fb9f3a"
            ],
            [
             0.8888888888888888,
             "#fdca26"
            ],
            [
             1,
             "#f0f921"
            ]
           ],
           "sequentialminus": [
            [
             0,
             "#0d0887"
            ],
            [
             0.1111111111111111,
             "#46039f"
            ],
            [
             0.2222222222222222,
             "#7201a8"
            ],
            [
             0.3333333333333333,
             "#9c179e"
            ],
            [
             0.4444444444444444,
             "#bd3786"
            ],
            [
             0.5555555555555556,
             "#d8576b"
            ],
            [
             0.6666666666666666,
             "#ed7953"
            ],
            [
             0.7777777777777778,
             "#fb9f3a"
            ],
            [
             0.8888888888888888,
             "#fdca26"
            ],
            [
             1,
             "#f0f921"
            ]
           ]
          },
          "colorway": [
           "#636efa",
           "#EF553B",
           "#00cc96",
           "#ab63fa",
           "#FFA15A",
           "#19d3f3",
           "#FF6692",
           "#B6E880",
           "#FF97FF",
           "#FECB52"
          ],
          "font": {
           "color": "#2a3f5f"
          },
          "geo": {
           "bgcolor": "white",
           "lakecolor": "white",
           "landcolor": "#E5ECF6",
           "showlakes": true,
           "showland": true,
           "subunitcolor": "white"
          },
          "hoverlabel": {
           "align": "left"
          },
          "hovermode": "closest",
          "mapbox": {
           "style": "light"
          },
          "paper_bgcolor": "white",
          "plot_bgcolor": "#E5ECF6",
          "polar": {
           "angularaxis": {
            "gridcolor": "white",
            "linecolor": "white",
            "ticks": ""
           },
           "bgcolor": "#E5ECF6",
           "radialaxis": {
            "gridcolor": "white",
            "linecolor": "white",
            "ticks": ""
           }
          },
          "scene": {
           "xaxis": {
            "backgroundcolor": "#E5ECF6",
            "gridcolor": "white",
            "gridwidth": 2,
            "linecolor": "white",
            "showbackground": true,
            "ticks": "",
            "zerolinecolor": "white"
           },
           "yaxis": {
            "backgroundcolor": "#E5ECF6",
            "gridcolor": "white",
            "gridwidth": 2,
            "linecolor": "white",
            "showbackground": true,
            "ticks": "",
            "zerolinecolor": "white"
           },
           "zaxis": {
            "backgroundcolor": "#E5ECF6",
            "gridcolor": "white",
            "gridwidth": 2,
            "linecolor": "white",
            "showbackground": true,
            "ticks": "",
            "zerolinecolor": "white"
           }
          },
          "shapedefaults": {
           "line": {
            "color": "#2a3f5f"
           }
          },
          "ternary": {
           "aaxis": {
            "gridcolor": "white",
            "linecolor": "white",
            "ticks": ""
           },
           "baxis": {
            "gridcolor": "white",
            "linecolor": "white",
            "ticks": ""
           },
           "bgcolor": "#E5ECF6",
           "caxis": {
            "gridcolor": "white",
            "linecolor": "white",
            "ticks": ""
           }
          },
          "title": {
           "x": 0.05
          },
          "xaxis": {
           "automargin": true,
           "gridcolor": "white",
           "linecolor": "white",
           "ticks": "",
           "title": {
            "standoff": 15
           },
           "zerolinecolor": "white",
           "zerolinewidth": 2
          },
          "yaxis": {
           "automargin": true,
           "gridcolor": "white",
           "linecolor": "white",
           "ticks": "",
           "title": {
            "standoff": 15
           },
           "zerolinecolor": "white",
           "zerolinewidth": 2
          }
         }
        },
        "updatemenus": [
         {
          "buttons": [
           {
            "args": [
             null,
             {
              "frame": {
               "duration": 50,
               "redraw": true
              },
              "fromcurrent": true,
              "mode": "immediate",
              "transition": {
               "duration": 0
              }
             }
            ],
            "label": "Play",
            "method": "animate"
           }
          ],
          "pad": {
           "r": 10,
           "t": 45
          },
          "showactive": false,
          "type": "buttons",
          "x": 1,
          "xanchor": "left",
          "y": 1,
          "yanchor": "bottom"
         }
        ]
       }
      },
      "text/html": [
       "<div>                            <div id=\"bc6eb586-5311-4e8e-a91e-0f2bff1e1f0e\" class=\"plotly-graph-div\" style=\"height:525px; width:100%;\"></div>            <script type=\"text/javascript\">                require([\"plotly\"], function(Plotly) {                    window.PLOTLYENV=window.PLOTLYENV || {};                                    if (document.getElementById(\"bc6eb586-5311-4e8e-a91e-0f2bff1e1f0e\")) {                    Plotly.newPlot(                        \"bc6eb586-5311-4e8e-a91e-0f2bff1e1f0e\",                        [{\"color\":\"lightpink\",\"opacity\":0.5,\"x\":[0.3728894591331482,0.3728436827659607,0.37357214093208313,0.37372514605522156,0.3735487759113312,0.37436115741729736,0.3745102286338806,0.3744974732398987,0.37432152032852173,0.373816579580307,0.37513411045074463,0.375442236661911,0.37542882561683655,0.37509122490882874,0.3745897710323334,0.3757619559764862,0.3760637044906616,0.37620797753334045,0.3760329484939575,0.3758578896522522,0.3753599226474762,0.3767082393169403,0.3766891062259674,0.37682899832725525,0.37697067856788635,0.37679606676101685,0.37662145495414734,0.3761270046234131,0.37745991349220276,0.37743890285491943,0.3775750398635864,0.3777129650115967,0.3775383532047272,0.3775213360786438,0.37718909978866577,0.3766975402832031,0.37829455733299255,0.37827226519584656,0.37840545177459717,0.37838539481163025,0.3783662021160126,0.3781920373439789,0.3780178725719452,0.37768691778182983,0.37892794609069824,0.379055380821228,0.3790320158004761,0.37916257977485657,0.3791414201259613,0.3789672553539276,0.3789474368095398,0.37861892580986023,0.37828949093818665,0.3796088993549347,0.37988337874412537,0.37985873222351074,0.37983500957489014,0.3798121511936188,0.37979018688201904,0.37961646914482117,0.3794427216053009,0.3789619207382202,0.3780174255371094,0.38051605224609375,0.38063791394233704,0.38061219453811646,0.3805873692035675,0.3805634379386902,0.3803897202014923,0.38021597266197205,0.38004225492477417,0.379564493894577,0.3787800967693329,0.3811935782432556,0.38145923614501953,0.38128462433815,0.381258100271225,0.38123244047164917,0.3810587227344513,0.38088497519493103,0.38071125745773315,0.38038724660873413,0.37976083159446716,0.3817613422870636,0.3820211887359619,0.3819919526576996,0.3819636404514313,0.3819361925125122,0.38176247477531433,0.38158875703811646,0.3814150094985962,0.3812412917613983,0.38076967000961304,0.37984809279441833,0.38265693187713623,0.3827691674232483,0.38273885846138,0.38270944356918335,0.3825357258319855,0.38250765204429626,0.3823343515396118,0.38201454281806946,0.3818408250808716,0.38137224316596985,0.38287222385406494,0.3834044635295868,0.38351407647132874,0.3834826946258545,0.3833089768886566,0.38327890634536743,0.38310563564300537,0.3829323351383209,0.38261404633522034,0.38244032859802246,0.3818289339542389,0.3836592733860016,0.3841838538646698,0.384149968624115,0.3841169774532318,0.38394322991371155,0.3839115500450134,0.38373827934265137,0.3835650086402893,0.38324832916259766,0.3830746114253998,0.38261231780052185,0.384443074464798,0.384821355342865,0.38478586077690125,0.38475123047828674,0.38471749424934387,0.3845442235469818,0.38437092304229736,0.3841976523399353,0.38402435183525085,0.3837088644504547,0.38324981927871704,0.38235974311828613,0.38552871346473694,0.38549140095710754,0.3854549825191498,0.38541945815086365,0.3852461576461792,0.38507288694381714,0.3848995864391327,0.38472631573677063,0.38441261649131775,0.38409802317619324,0.38349995017051697,0.38596591353416443,0.38619697093963623,0.3861587345600128,0.38598501682281494,0.38594815135002136,0.3857748508453369,0.38560158014297485,0.3854282796382904,0.38525500893592834,0.3849426507949829,0.38448992371559143,0.3863123655319214,0.3868037164211273,0.38676318526268005,0.38672351837158203,0.38668474555015564,0.3865114748477936,0.38647404313087463,0.386301189661026,0.3859916031360626,0.38581833243370056,0.3855074346065521,0.38478145003318787,0.38715073466300964,0.38750356435775757,0.3874620199203491,0.38728830218315125,0.38724809885025024,0.3872087597846985,0.38703593611717224,0.3868630826473236,0.3865549564361572,0.3862459361553192,0.38593602180480957,0.3850787281990051,0.3879833221435547,0.3880697786808014,0.38802680373191833,0.3879847228527069,0.38781142234802246,0.3877706527709961,0.38759782910346985,0.3874249756336212,0.38711827993392944,0.38681069016456604,0.3863674998283386,0.38824915885925293,0.3887162208557129,0.38867083191871643,0.3886263072490692,0.388582706451416,0.38853996992111206,0.3883671164512634,0.3881942927837372,0.38802143931388855,0.38771626353263855,0.3874102234840393,0.38683685660362244,0.38898617029190063,0.38944604992866516,0.38927188515663147,0.3892258405685425,0.3891806900501251,0.3891364336013794,0.38896358013153076,0.3887907564640045,0.3886179029941559,0.38831427693367004,0.3880097568035126,0.3873092830181122,0.38975533843040466,0.3900819420814514,0.3900338411331177,0.3898600935935974,0.3898133337497711,0.38976746797561646,0.3895946145057678,0.3895500600337982,0.38924893736839294,0.38894692063331604,0.3886440098285675,0.38795003294944763,0.39039769768714905,0.3907178044319153,0.3906680941581726,0.39049437642097473,0.3904459774494171,0.3903985023498535,0.3903518617153168,0.39017948508262634,0.38987997174263,0.38957956433296204,0.38927826285362244,0.38871920108795166,0.39104005694389343,0.39135369658470154,0.3913023769855499,0.39112862944602966,0.3910786211490631,0.3910295069217682,0.3909812867641449,0.3908088803291321,0.39051100611686707,0.39021220803260803,0.38991254568099976,0.3893583416938782,0.391477108001709,0.39190372824668884,0.39185023307800293,0.39179766178131104,0.391745924949646,0.391695111989975,0.3916451632976532,0.39147278666496277,0.39130038022994995,0.3908795118331909,0.39058154821395874,0.3901575803756714,0.3893551528453827,0.3925761580467224,0.3925209641456604,0.39246666431427,0.3924132287502289,0.39236071705818176,0.3923090696334839,0.39213666319847107,0.39196428656578064,0.3916693329811096,0.39137354493141174,0.3909534215927124,0.3901599645614624,0.3931313157081604,0.39319169521331787,0.393135666847229,0.39308056235313416,0.39302632212638855,0.3929729759693146,0.39280056953430176,0.39262816309928894,0.3923349380493164,0.39204084873199463,0.3916241526603699,0.3909613788127899,0.3935742974281311,0.39386239647865295,0.3938046991825104,0.39374786615371704,0.39369192719459534,0.3936368525028229,0.39346444606781006,0.39329206943511963,0.3930005431175232,0.3927081525325775,0.3924148678779602,0.39175936579704285,0.394137978553772,0.3945331275463104,0.39447370171546936,0.3944151699542999,0.39435750246047974,0.39430075883865356,0.39412835240364075,0.39395594596862793,0.39366614818573,0.3933754563331604,0.3930838704109192,0.3925539255142212,0.3948590159416199,0.39513418078422546,0.39507320523262024,0.39501315355300903,0.39495396614074707,0.39489567279815674,0.3947232663631439,0.3945508897304535,0.3942626118659973,0.3939734399318695,0.39368337392807007,0.39315804839134216,0.39557698369026184,0.3957352340221405,0.3956727385520935,0.39561113715171814,0.3956630229949951,0.3954906165599823,0.3953182101249695,0.39514580368995667,0.39485907554626465,0.3945714235305786,0.39428290724754333,0.39353078603744507,0.3962918817996979,0.39644598960876465,0.3963824212551117,0.39631974697113037,0.3962579369544983,0.3960855305194855,0.39591315388679504,0.3957407474517822,0.395455539226532,0.3951694071292877,0.39476871490478516,0.3940238058567047,0.39689600467681885,0.3970454931259155,0.3969804048538208,0.3969162106513977,0.39685288071632385,0.39668047428131104,0.3965080678462982,0.3963356614112854,0.3960520029067993,0.3957674205303192,0.3952575922012329,0.39732256531715393,0.3976777195930481,0.39761027693748474,0.397543728351593,0.3975857198238373,0.39741331338882446,0.39724093675613403,0.3970685303211212,0.39678671956062317,0.3965040147304535,0.39622044563293457,0.39571452140808105,0.39810484647750854,0.3982439339160919,0.3982803523540497,0.39821282029151917,0.3981461822986603,0.39797377586364746,0.39780136942863464,0.3976289927959442,0.3973486125469208,0.3970673680305481,0.3966763913631439,0.39595574140548706,0.3988133668899536,0.3989483118057251,0.3988783657550812,0.3988092839717865,0.39874109625816345,0.398568719625473,0.3983963131904602,0.3982239067554474,0.3979450762271881,0.3976653516292572,0.3972774147987366,0.39645665884017944,0.3994174599647522,0.399547815322876,0.3994763493537903,0.39940574765205383,0.399336040019989,0.3991636335849762,0.39899125695228577,0.39881885051727295,0.39854153990745544,0.3981580138206482,0.3977726697921753,0.39976370334625244,0.4001864194869995,0.40021297335624695,0.4001404941082001,0.40006887912750244,0.399896502494812,0.3997240960597992,0.3995516896247864,0.3992762863636017,0.398999959230423,0.398722767829895,0.3980272710323334,0.40069571137428284,0.4008163511753082,0.4007416367530823,0.40066781640052795,0.4005948603153229,0.40052279829978943,0.40025007724761963,0.4000776708126068,0.39980360865592957,0.39942651987075806,0.3990476727485657,0.40111586451530457,0.4014233350753784,0.40144360065460205,0.40136799216270447,0.40129324793815613,0.4012193977832794,0.4009484350681305,0.4007760286331177,0.4005037546157837,0.40023061633110046,0.3998557925224304,0.401700496673584,0.40199899673461914,0.4020153880119324,0.4019376337528229,0.40195712447166443,0.4018815755844116,0.4017096161842346,0.40143993496894836,0.4011693596839905,0.40089792013168335,0.4006255567073822,0.399854838848114,0.40263649821281433,0.4026496708393097,0.40257027745246887,0.40258654952049255,0.4025093615055084,0.4023374021053314,0.4020693600177765,0.40180039405822754,0.40153056383132935,0.4012598395347595,0.4004988372325897,0.4032739996910095,0.4032839238643646,0.40320292115211487,0.4032159447669983,0.4031371474266052,0.40287116169929504,0.4026987552642822,0.4024314284324646,0.40216320753097534,0.401798278093338,0.40114280581474304,0.4039115011692047,0.40391820669174194,0.40383556485176086,0.4038453698158264,0.4036729633808136,0.4035005569458008,0.40332818031311035,0.40306246280670166,0.40279585123062134,0.40243417024612427,0.40178677439689636,0.4045490026473999,0.4045524597167969,0.40446820855140686,0.40447476506233215,0.4043023884296417,0.4041299819946289,0.4039575755596161,0.4036934971809387,0.40342849493026733,0.4030700623989105,0.4024307429790497,0.4051865041255951,0.4051867425441742,0.40510085225105286,0.4051041901111603,0.40493178367614746,0.40475937724113464,0.4045870006084442,0.4043245315551758,0.40406113862991333,0.4037059247493744,0.403074711561203,0.4058240056037903,0.4058209955692291,0.40573349595069885,0.4057336151599884,0.4055612087249756,0.40538880228996277,0.40521639585494995,0.40495553612709045,0.4046938121318817,0.40434181690216064,0.40618425607681274,0.4065104126930237,0.40642049908638,0.40633150935173035,0.4063285291194916,0.40615612268447876,0.40598374605178833,0.4057248532772064,0.4055519998073578,0.4052917957305908,0.4049428701400757,0.4068763554096222,0.4071114659309387,0.4071027636528015,0.4070126712322235,0.40692347288131714,0.4067510664463043,0.4065786600112915,0.40632131695747375,0.4060630798339844,0.40580394864082336,0.4053713381290436,0.4075653851032257,0.40771251916885376,0.407700777053833,0.40760913491249084,0.4075183868408203,0.4073460102081299,0.40709060430526733,0.4069177806377411,0.4066610634326935,0.40640345215797424,0.40589070320129395,0.4082513451576233,0.4083928167819977,0.4082987606525421,0.4082055985927582,0.40803274512290955,0.4078599214553833,0.40768706798553467,0.4075142443180084,0.4072590470314026,0.4070029854774475,0.40641310811042786,0.40893423557281494,0.40899232029914856,0.4088967442512512,0.4088020622730255,0.4086292088031769,0.40845638513565063,0.408283531665802,0.40811070799827576,0.4078570306301117,0.40752124786376953,0.40685686469078064,0.40957337617874146,0.4096266031265259,0.4095293879508972,0.4094330966472626,0.40926024317741394,0.4090874195098877,0.40891456604003906,0.40874171257019043,0.4084896743297577,0.4081571400165558,0.4075024724006653,0.41025158762931824,0.41022610664367676,0.4101274013519287,0.4100295603275299,0.4098567068576813,0.40968388319015503,0.4095110297203064,0.40926095843315125,0.4090876877307892,0.40875816345214844,0.4106680452823639,0.4109267592430115,0.4108986556529999,0.4107988476753235,0.41062602400779724,0.4104531705379486,0.41028034687042236,0.41010749340057373,0.40985894203186035,0.40960952639579773,0.4092060625553131,0.4113488793373108,0.4115278124809265,0.41149666905403137,0.4113953113555908,0.4112224876880646,0.41104963421821594,0.4108767807483673,0.41070395708084106,0.41045695543289185,0.410209059715271,0.4098101854324341,0.41202667355537415,0.41212886571884155,0.4120946526527405,0.41199177503585815,0.4118189513683319,0.4116460978984833,0.41147324442863464,0.4113004207611084,0.41105493903160095,0.4108085632324219,0.4103407561779022,0.41270139813423157,0.4127979278564453,0.4126926362514496,0.4125882387161255,0.412484735250473,0.4123123288154602,0.412069708108902,0.4118262231349945,0.41165292263031006,0.4113365411758423,0.4108743965625763,0.41337308287620544,0.4133974313735962,0.4132906198501587,0.4131847023963928,0.4130796790122986,0.41290727257728577,0.4126661717891693,0.4124242067337036,0.41225090622901917,0.4119375944137573,0.4114815592765808,0.41394779086112976,0.4140317142009735,0.4139232635498047,0.4138157367706299,0.4137090742588043,0.4135366678237915,0.41329720616340637,0.4131243824958801,0.41288357973098755,0.4125734865665436,0.41219276189804077,0.4145885109901428,0.41466596722602844,0.41455593705177307,0.41444677114486694,0.41433849930763245,0.41416609287261963,0.41392824053764343,0.4137553870677948,0.41351622343063354,0.41320937871932983,0.4128335118293762,0.41516807675361633,0.415238618850708,0.41518858075141907,0.415077805519104,0.4149678945541382,0.41479548811912537,0.41462311148643494,0.41438642144203186,0.41414886713027954,0.4139104187488556,0.413539856672287,0.4157620668411255,0.4158843457698822,0.41583025455474854,0.41577795147895813,0.41566628217697144,0.4154938757419586,0.4153214693069458,0.4150865972042084,0.4148508310317993,0.41461417078971863,0.4143766164779663,0.41394543647766113,0.41641759872436523,0.4164755642414093,0.41641920804977417,0.416305273771286,0.4161922335624695,0.41601985692977905,0.41584745049476624,0.41561391949653625,0.41537949442863464,0.4151442050933838,0.4148455560207367,0.41435641050338745,0.4171244204044342,0.41706404089927673,0.4170054495334625,0.41689062118530273,0.4167182147502899,0.4165458083152771,0.41631409525871277,0.4160814583301544,0.41590818762779236,0.41567423939704895,0.415317177772522,0.41764751076698303,0.417692095041275,0.41768449544906616,0.41756734251976013,0.41745108366012573,0.4172786772251129,0.4171062707901001,0.4168759882450104,0.41664478182792664,0.41641274094581604,0.4161797761917114,0.4157669246196747,0.41834598779678345,0.418332576751709,0.4182131886482239,0.418094664812088,0.4179770350456238,0.41780462861061096,0.41763225197792053,0.41740331053733826,0.41717347502708435,0.4169427454471588,0.41665327548980713,0.41888391971588135,0.4189670979976654,0.4188973605632782,0.41882941126823425,0.4186565577983856,0.4185374975204468,0.41836509108543396,0.4181380271911621,0.417910099029541,0.41773679852485657,0.417507529258728,0.41716450452804565,0.4194736182689667,0.41955047845840454,0.41947847604751587,0.41935673356056213,0.41923585534095764,0.4190634787082672,0.4188382029533386,0.41866534948349,0.41843876242637634,0.41821128129959106,0.41798293590545654,0.4174782633781433,0.420158326625824,0.4201311469078064,0.4200071692466736,0.41988405585289,0.4197618365287781,0.41953837871551514,0.4193655252456665,0.4191407263278961,0.41896745562553406,0.4187413156032562,0.41840773820877075,0.420738160610199,0.42075255513191223,0.42067447304725647,0.420501172542572,0.42037680745124817,0.42020395398139954,0.4200311303138733,0.419808030128479,0.41963475942611694,0.4194103181362152,0.4191334545612335,0.42132481932640076,0.421331524848938,0.4212954342365265,0.4211684763431549,0.42104241251945496,0.4208695590496063,0.4206967353820801,0.4204753339290619,0.42030206322669983,0.4200793504714966,0.4198557436466217,0.41937968134880066,0.4219706356525421,0.42188501358032227,0.4218011200428009,0.421673446893692,0.4215005934238434,0.42132776975631714,0.4211079776287079,0.4209347069263458,0.4207136034965515,0.42049163579940796,0.4200252890586853,0.42253202199935913,0.42244288325309753,0.4223991334438324,0.42226991057395935,0.4220970571041107,0.42187926173210144,0.4217059910297394,0.42153269052505493,0.4213131368160248,0.4210459589958191,0.4231258034706116,0.42307382822036743,0.4230245053768158,0.42289313673973083,0.4227626621723175,0.4225465655326843,0.42237329483032227,0.4221999943256378,0.42198213934898376,0.4217633903026581,0.42373037338256836,0.4236730933189392,0.42361849546432495,0.42352578043937683,0.42335250973701477,0.4231792092323303,0.42300593852996826,0.42279013991355896,0.4226164221763611,0.42235589027404785,0.4243405759334564,0.4242404103279114,0.4241807758808136,0.4241237938404083,0.4239504933357239,0.4237772226333618,0.42360392212867737,0.42338964343070984,0.42321592569351196,0.42291659116744995,0.42488133907318115,0.4247790575027466,0.4247160851955414,0.42461779713630676,0.4244445264339447,0.4242323935031891,0.4240586757659912,0.42388492822647095,0.4235907196998596,0.4254903197288513,0.42538437247276306,0.42531606554985046,0.42521411180496216,0.4250403940677643,0.4248666763305664,0.42469292879104614,0.4244810938835144,0.42419129610061646,0.4260298013687134,0.42595523595809937,0.4258488118648529,0.4256742000579834,0.4255349934101105,0.4253966808319092,0.4251866638660431,0.42493897676467896,0.42664003372192383,0.42652830481529236,0.42638537287712097,0.4262433350086212,0.4261021614074707,0.4259275496006012,0.4257529377937317,0.4254726469516754,0.42706918716430664,0.426955908536911,0.4267804026603699,0.42663735151290894,0.4264622926712036,0.42625391483306885,0.42768365144729614,0.4275367558002472,0.4273907542228699,0.4272456467151642,0.42707014083862305,0.4268312156200409,0.428117036819458,0.4279690682888031,0.4278219938278198,0.42761629819869995,0.42855045199394226,0.4283736050128937,0.4290192127227783],\"y\":[0.1302182674407959,0.1339268684387207,0.1296071857213974,0.13250459730625153,0.135721355676651,0.12705636024475098,0.12996651232242584,0.1330137997865677,0.1362224817276001,0.13980241119861603,0.12758344411849976,0.1303190290927887,0.13334845006465912,0.136720210313797,0.14029546082019806,0.12518760561943054,0.12795041501522064,0.13082949817180634,0.13402201235294342,0.1372145265340805,0.1407850980758667,0.12249452620744705,0.12556904554367065,0.12846896052360535,0.13133656978607178,0.1345209926366806,0.13770543038845062,0.14127133786678314,0.1205950379371643,0.12367431074380875,0.1265837699174881,0.1294608861207962,0.13264530897140503,0.1356518417596817,0.13901416957378387,0.14258672297000885,0.11984952539205551,0.12292223423719406,0.1258266717195511,0.12885896861553192,0.13187509775161743,0.1350514441728592,0.13822779059410095,0.14159667491912842,0.11744102090597153,0.12039053440093994,0.12345346808433533,0.1263463944196701,0.12936890125274658,0.13254526257514954,0.13554352521896362,0.13889794051647186,0.14226853847503662,0.116831474006176,0.11964790523052216,0.12270427495241165,0.12574449181556702,0.12876851856708527,0.13177640736103058,0.13494466245174408,0.13811293244361877,0.14166662096977234,0.14585502445697784,0.11725233495235443,0.12018532305955887,0.1232319101691246,0.1262623369693756,0.1292765885591507,0.1324448436498642,0.1356131136417389,0.1387813687324524,0.14233846962451935,0.14633290469646454,0.11664583534002304,0.1194455698132515,0.12263000011444092,0.1256619393825531,0.12867772579193115,0.13184599578380585,0.13501425087451935,0.13818252086639404,0.1415436714887619,0.14532293379306793,0.11552269011735916,0.11833994090557098,0.12139119952917099,0.12442628294229507,0.12744522094726562,0.13061347603797913,0.13378173112869263,0.13695000112056732,0.14011825621128082,0.14368218183517456,0.1478961706161499,0.11594778299331665,0.11887862533330917,0.12192009389400482,0.12494540214538574,0.12811365723609924,0.13111472129821777,0.1342748999595642,0.13761845231056213,0.14078670740127563,0.14435404539108276,0.11390411853790283,0.1164945438504219,0.11941389739513397,0.12244558334350586,0.12561383843421936,0.12862128019332886,0.1317814588546753,0.13494163751602173,0.13828688859939575,0.14145515859127045,0.14522713422775269,0.11381912231445312,0.11640102416276932,0.11944878101348877,0.1224803775548935,0.125648632645607,0.12865598499774933,0.13181616365909576,0.1349763423204422,0.1383216828107834,0.14148995280265808,0.14506086707115173,0.1137339398264885,0.11643598973751068,0.11948366463184357,0.12251516431570053,0.12553051114082336,0.1286906898021698,0.13185086846351624,0.13501104712486267,0.1381712257862091,0.14152474701404572,0.1450958400964737,0.14932774007320404,0.11519718915224075,0.11824800074100494,0.121282659471035,0.12430114299058914,0.12746132910251617,0.13062149286270142,0.13378167152404785,0.13694186508655548,0.140292227268219,0.14365875720977783,0.147454172372818,0.11420316249132156,0.11701234430074692,0.12005013972520828,0.12321840971708298,0.12623195350170135,0.1293921321630478,0.13255231082439423,0.13571248948574066,0.1388726681470871,0.14222797751426697,0.14580266177654266,0.11267083883285522,0.11526712775230408,0.11831776797771454,0.12135224044322968,0.12437054514884949,0.12753072381019592,0.13052478432655334,0.13367688655853271,0.13701127469539642,0.14017145335674286,0.14353007078170776,0.14752447605133057,0.1137542873620987,0.1164468377828598,0.11948607861995697,0.12265433371067047,0.12566933035850525,0.1286681443452835,0.13182023167610168,0.13497233390808105,0.138310045003891,0.14166390895843506,0.14503394067287445,0.149259552359581,0.11482445150613785,0.11775226145982742,0.12078817188739777,0.12380792200565338,0.12696810066699982,0.12996359169483185,0.13311569392681122,0.1362677961587906,0.13960881531238556,0.14296600222587585,0.1465444564819336,0.11277707666158676,0.11537203937768936,0.11842241138219833,0.12145661562681198,0.1244746595621109,0.1274765282869339,0.13062863051891327,0.13378073275089264,0.13693282008171082,0.14027555286884308,0.14363445341587067,0.14742310345172882,0.11333786696195602,0.11591621488332748,0.11909256130456924,0.1221250593662262,0.12514139711856842,0.12814156711101532,0.1312936693429947,0.13444575667381287,0.13759785890579224,0.1409423053264618,0.14430288970470428,0.14830517768859863,0.11325350403785706,0.11595109850168228,0.11899159103631973,0.12215985357761383,0.1251761019229889,0.12817618250846863,0.131328284740448,0.13430412113666534,0.13763247430324554,0.14097701013088226,0.14433768391609192,0.14834032952785492,0.11328873783349991,0.11598597466945648,0.11902638524770737,0.12219464778900146,0.12521080672740936,0.12821079790592194,0.13119462132453918,0.1343386471271515,0.13766708970069885,0.14101170003414154,0.14437247812747955,0.14816679060459137,0.11332397162914276,0.11602085828781128,0.119061179459095,0.1222294420003891,0.12524551153182983,0.12824541330337524,0.13122914731502533,0.13437317311763763,0.13770170509815216,0.141046404838562,0.1444072723388672,0.1482018530368805,0.11295414716005325,0.11554688960313797,0.11859681457281113,0.12163057923316956,0.12464817613363266,0.12764960527420044,0.1306348741054535,0.1337788999080658,0.1369229108095169,0.14044907689094543,0.14380840957164764,0.1473911702632904,0.15165220201015472,0.11494497209787369,0.11799643188714981,0.12103171646595001,0.12405084818601608,0.12705381214618683,0.13004060089588165,0.13318461179733276,0.13632863759994507,0.13966219127178192,0.1430119276046753,0.14658352732658386,0.15082885324954987,0.11446642130613327,0.1173960417509079,0.12043286114931107,0.12345351278781891,0.12645800411701202,0.12944632768630981,0.13259033858776093,0.13573434948921204,0.13906638324260712,0.14241459965705872,0.14598314464092255,0.15000855922698975,0.11410665512084961,0.11679565161466599,0.11983399838209152,0.12285618484020233,0.12586219608783722,0.12885203957557678,0.1319960653781891,0.1351400762796402,0.1384705901145935,0.14181725680828094,0.1451800912618637,0.14919131994247437,0.11362046748399734,0.11619526147842407,0.11923513561487198,0.12225884944200516,0.12526638805866241,0.12825776636600494,0.13140179216861725,0.13454580307006836,0.1378747820854187,0.14121992886066437,0.14458124339580536,0.14837713539600372,0.11417712271213531,0.11686541140079498,0.11990358680486679,0.12292558699846268,0.12593142688274384,0.12892109155654907,0.13206511735916138,0.1352091282606125,0.13853982090950012,0.1418866664171219,0.14524967968463898,0.14905069768428802,0.11473037302494049,0.11753556877374649,0.120572030544281,0.1235923320055008,0.12644042074680328,0.1295844316482544,0.1327284425497055,0.1358724683523178,0.13920484483242035,0.1425534039735794,0.1459181308746338,0.15014950931072235,0.11528021842241287,0.11807221174240112,0.12109889090061188,0.12410939484834671,0.1271037459373474,0.13024775683879852,0.13339176774024963,0.13653579354286194,0.13986988365650177,0.14322015643119812,0.14679281413555145,0.15104080736637115,0.11595378071069717,0.11874065548181534,0.1217656284570694,0.12477443367242813,0.12776707112789154,0.13091108202934265,0.13405510783195496,0.13719911873340607,0.1405349224805832,0.14388689398765564,0.1476709246635437,0.1144404411315918,0.11700493842363358,0.12004275619983673,0.12306440621614456,0.12591518461704254,0.12905919551849365,0.13220322132110596,0.13534723222255707,0.13867828249931335,0.14202548563480377,0.14538885653018951,0.14919093251228333,0.11551108956336975,0.1183103621006012,0.1212029978632927,0.12421324104070663,0.12720732390880585,0.13035133481025696,0.13349536061286926,0.13663937151432037,0.1399737298488617,0.14332427084445953,0.14689746499061584,0.1511467844247818,0.11605895310640335,0.11884503811597824,0.12186974287033081,0.12487827241420746,0.12787064909934998,0.1310146600008011,0.1341586858034134,0.1373026967048645,0.14063875377178192,0.14399100840091705,0.14756761491298676,0.1520417481660843,0.11673251539468765,0.11951348185539246,0.12253648042678833,0.12554331123828888,0.1285339742898941,0.1316780000925064,0.13482201099395752,0.13796602189540863,0.14130379259586334,0.14485958218574524,0.1484476923942566,0.1153494268655777,0.11777973175048828,0.12067507207393646,0.12368666380643845,0.1266821026802063,0.1298261135816574,0.13297012448310852,0.13611415028572083,0.1394471526145935,0.1427963376045227,0.14616167545318604,0.15039615333080292,0.1168026328086853,0.11958306282758713,0.12260588258504868,0.1256125420331955,0.1286030262708664,0.13157735764980316,0.1348910629749298,0.13803507387638092,0.14137302339076996,0.14492915570735931,0.1485176384449005,0.11593909561634064,0.11848476529121399,0.12137652188539505,0.12438631802797318,0.12737995386123657,0.13035741448402405,0.1336679905653,0.1368120014667511,0.14014680683612823,0.1434977799654007,0.14707186818122864,0.11545566469430923,0.11801706999540329,0.12091995775699615,0.12393936514854431,0.12678568065166473,0.12976466119289398,0.13290059566497803,0.13621772825717926,0.13955099880695343,0.14290045201778412,0.14626605808734894,0.15071538090705872,0.11805204302072525,0.12095474451780319,0.12397406995296478,0.12682020664215088,0.12979911267757416,0.132935032248497,0.1362522542476654,0.13958561420440674,0.1429351568222046,0.14630085229873657,0.15075071156024933,0.11808700859546661,0.12098953872919083,0.12400877475738525,0.12685473263263702,0.12983354926109314,0.13314275443553925,0.13628678023815155,0.13962022960186005,0.14296986162662506,0.14654123783111572,0.15078602731227875,0.11812198162078857,0.12102433294057846,0.12404347956180573,0.12688925862312317,0.13003326952457428,0.1331772804260254,0.1363213062286377,0.13965484499931335,0.14300456643104553,0.14657612144947052,0.15082135796546936,0.11815694719552994,0.1210591271519661,0.1240781843662262,0.12692378461360931,0.13006779551506042,0.13321180641651154,0.13635583221912384,0.13968946039676666,0.1430392563343048,0.14661100506782532,0.15085668861865997,0.1181919202208519,0.12109392136335373,0.12411288917064667,0.12695831060409546,0.13010232150554657,0.13324633240699768,0.13639035820960999,0.13972407579421997,0.14307396113872528,0.14664588868618011,0.1508920043706894,0.11822689324617386,0.12112870812416077,0.12414759397506714,0.1269928365945816,0.13013684749603271,0.13328085839748383,0.13642488420009613,0.13975869119167328,0.14310866594314575,0.1466807723045349,0.11634853482246399,0.11876381933689117,0.12179715186357498,0.12481433153152466,0.12765616178512573,0.13080017268657684,0.13394419848918915,0.13727162778377533,0.1404237300157547,0.14377541840076447,0.14735090732574463,0.11690036952495575,0.11943396925926208,0.12232089042663574,0.12532827258110046,0.12831950187683105,0.13146349787712097,0.13460752367973328,0.13793666660785675,0.14128196239471436,0.14464344084262848,0.14843980967998505,0.11744878441095352,0.120104119181633,0.12298762798309326,0.12599331140518188,0.128982812166214,0.1321268379688263,0.1354495882987976,0.13860169053077698,0.14194871485233307,0.1453118771314621,0.1493244469165802,0.1179938018321991,0.12063422799110413,0.12365436553955078,0.1266583353281021,0.12981043756008148,0.13296252489089966,0.13611462712287903,0.1392667293548584,0.1426154524087906,0.1459803283214569,0.15021249651908875,0.11853539943695068,0.12130267173051834,0.1243211105465889,0.12732337415218353,0.1304754763841629,0.13362756371498108,0.13677966594696045,0.13993176817893982,0.1432821899652481,0.1468551754951477,0.15131844580173492,0.11857046186923981,0.12133746594190598,0.12435581535100937,0.12735798954963684,0.1305100917816162,0.1336621791124344,0.13681428134441376,0.13996638357639313,0.14331689476966858,0.1468900591135025,0.1513538509607315,0.11910856515169144,0.12200590968132019,0.12502256035804749,0.12802302837371826,0.13117511570453644,0.1343272179365158,0.13747932016849518,0.14082345366477966,0.1439836323261261,0.1475602090358734,0.11724139750003815,0.11964325606822968,0.12252911180257797,0.1255359649658203,0.12868806719779968,0.13184015452861786,0.13499225676059723,0.1381443589925766,0.14149019122123718,0.1448521912097931,0.1486501693725586,0.11779099702835083,0.12031340599060059,0.12319584935903549,0.12620098888874054,0.1293530911207199,0.13250519335269928,0.13565728068351746,0.13880938291549683,0.1421569287776947,0.1455206423997879,0.1493237316608429,0.11833717674016953,0.1209835559129715,0.12386259436607361,0.12686602771282196,0.13001812994480133,0.1331702172756195,0.13632231950759888,0.13947442173957825,0.14282366633415222,0.14618907868862152,0.15021060407161713,0.11887995153665543,0.12151142954826355,0.12452933192253113,0.12753106653690338,0.1305166333913803,0.13366064429283142,0.1369873583316803,0.1403302252292633,0.14349041879177094,0.1470644623041153,0.15110088884830475,0.11941931396722794,0.12217987328767776,0.12519606947898865,0.1281961053609848,0.13117995858192444,0.13432398438453674,0.13765239715576172,0.14099696278572083,0.14415715634822845,0.1477346122264862,0.15177786350250244,0.11959036439657211,0.1222146674990654,0.12523077428340912,0.1282307207584381,0.13121448457241058,0.1343585103750229,0.13768699765205383,0.1408390998840332,0.14419186115264893,0.147769495844841,0.1515962779521942,0.1196255162358284,0.12224945425987244,0.1252654790878296,0.12826533615589142,0.13124901056289673,0.13439303636550903,0.13772161304950714,0.1408737152814865,0.1442265659570694,0.1478043645620346,0.1516314297914505,0.11979682743549347,0.12242849916219711,0.12530018389225006,0.12829995155334473,0.13128353655338287,0.13442756235599518,0.1375715732574463,0.14090833067893982,0.14426127076148987,0.14763034880161285,0.15144957602024078,0.11881464719772339,0.12133394926786423,0.12421999871730804,0.1270737200975418,0.13006046414375305,0.13320447504520416,0.13634848594665527,0.1396821141242981,0.14303189516067505,0.14639782905578613,0.14977993071079254,0.15384401381015778,0.12050903588533401,0.12313353270292282,0.12600162625312805,0.12899959087371826,0.13198140263557434,0.13512541353702545,0.13826942443847656,0.14160798490047455,0.14496271312236786,0.1483335942029953,0.15193942189216614,0.15625818073749542,0.1220407783985138,0.1249232366681099,0.12777337431907654,0.13075831532478333,0.13390232622623444,0.13704635202884674,0.14038175344467163,0.14373333752155304,0.14689351618289948,0.15026932954788208,0.15410876274108887,0.12071765214204788,0.12334951758384705,0.126071035861969,0.12906882166862488,0.13205045461654663,0.13519446551799774,0.13833847641944885,0.14167721569538116,0.1450321227312088,0.14840316772460938,0.15179039537906647,0.15587492287158966,0.12225379049777985,0.12499282509088516,0.1280018538236618,0.13099469244480133,0.13397137820720673,0.13711540400981903,0.14025941491127014,0.14360308647155762,0.14696292579174042,0.15033891797065735,0.15395498275756836,0.1209266185760498,0.12341945618391037,0.12629492580890656,0.1291380524635315,0.13229015469551086,0.13526351749897003,0.13840752840042114,0.14174644649028778,0.14510151743888855,0.14826169610023499,0.15164101123809814,0.1554909497499466,0.12275367975234985,0.12521374225616455,0.12807124853134155,0.13106392323970795,0.13404043018817902,0.13718445599079132,0.14052021503448486,0.14367231726646423,0.14703233540058136,0.15040850639343262,0.1538008451461792,0.15837015211582184,0.12427447736263275,0.1269981563091278,0.13000206649303436,0.1329897940158844,0.1359613686800003,0.13929399847984314,0.14244608581066132,0.14580295979976654,0.14896315336227417,0.1523442566394806,0.15619955956935883,0.12396436929702759,0.12655404210090637,0.12940473854541779,0.13256490230560303,0.13554608821868896,0.13869819045066833,0.1418502777814865,0.14520563185214996,0.1483658105134964,0.15174539387226105,0.1553686410188675,0.12364814430475235,0.12626010179519653,0.12896870076656342,0.13196757435798645,0.13495028018951416,0.13810238242149353,0.1412544846534729,0.1446083039045334,0.14776848256587982,0.1511465311050415,0.1545407474040985,0.15912136435508728,0.12629516422748566,0.1291648894548416,0.13200227916240692,0.13498489558696747,0.13813699781894684,0.1412891000509262,0.14464300870895386,0.1478031873703003,0.15118132531642914,0.1545756310224533,0.15915678441524506,0.12712374329566956,0.1299981325864792,0.13266901671886444,0.1356499344110489,0.13880203664302826,0.14214956760406494,0.14530974626541138,0.1484699249267578,0.15184977650642395,0.15547354519367218,0.1268257349729538,0.1295577883720398,0.13224133849143982,0.1352318674325943,0.13820622861385345,0.14155222475528717,0.1447124183177948,0.14787259697914124,0.1512509137392044,0.1546453982591629,0.1270146369934082,0.12975451350212097,0.13244587182998657,0.13526657223701477,0.1384267508983612,0.14158692955970764,0.14474712312221527,0.14811745285987854,0.15128570795059204,0.15490660071372986,0.1276950240135193,0.13059313595294952,0.1332874596118927,0.1359333097934723,0.13909348845481873,0.14225366711616516,0.1454138606786728,0.14878588914871216,0.15195414423942566,0.15580646693706512,0.13014847040176392,0.1330253779888153,0.13569197058677673,0.13849616050720215,0.14165633916854858,0.1450187712907791,0.14818702638149261,0.15135528147220612,0.15520302951335907,0.13034571707248688,0.1332305371761322,0.1359049528837204,0.13871702551841736,0.14188529551029205,0.14505356550216675,0.14822182059288025,0.15160857141017914,0.15546467900276184,0.13231602311134338,0.1350160390138626,0.1378505825996399,0.14103500545024872,0.1440202295780182,0.14698930084705353,0.1503729224205017,0.15399613976478577,0.13299641013145447,0.13586795330047607,0.13889189064502716,0.14189967513084412,0.14489127695560455,0.14807571470737457,0.1512601375579834,0.15511998534202576,0.1373666375875473,0.14020727574825287,0.1434078812599182,0.1464042365550995,0.14959675073623657,0.15300963819026947,0.13758201897144318,0.1406187117099762,0.14363925158977509,0.14664360880851746,0.1498442143201828,0.1534857451915741,0.1414872258901596,0.14451414346694946,0.147524893283844,0.1509476602077484,0.14539246261119843,0.14861729741096497,0.14865271747112274],\"z\":[-0.0019121811492368579,-0.0008615690167061985,-0.0019220361718907952,0.00011717805318767205,0.00016131608572322875,-0.001958506880328059,8.088943286566064e-05,0.0011224645422771573,0.0011664917692542076,-0.0007838821038603783,-0.0009530085371807218,0.002083765808492899,0.003125099465250969,0.0021715983748435974,0.00022115306637715548,-0.0019870889373123646,0.0010500699281692505,0.0030890845227986574,0.0031328897457569838,0.0031766952015459538,0.0012261783704161644,-0.0010257679969072342,1.6161870007636026e-05,0.0020554696675390005,0.004094333853572607,0.004138028249144554,0.004181722644716501,0.002231134567409754,-0.0010532980086281896,-1.129908469010843e-05,0.0020281467586755753,0.0040671490132808685,0.004110843408852816,0.005151873920112848,0.00419823219999671,0.0022477279417216778,-6.524286436615512e-05,0.0009766994044184685,0.0030160837341099977,0.004057441838085651,0.005098607856780291,0.0051421914249658585,0.005185774993151426,0.00423221942037344,-0.0010995081393048167,0.0009405020973645151,0.0019822840113192797,0.0040215179324150085,0.00506277522072196,0.005106358788907528,0.006147253327071667,0.005193525925278664,0.004239989910274744,-0.0011093384819105268,0.0019286113092675805,0.002970336936414242,0.004011810757219791,0.00505309272557497,0.006094122771173716,0.006137595511972904,0.006181068252772093,0.004230282735079527,-0.0007110981387086213,0.0008945235749706626,0.0029343217611312866,0.0039758868515491486,0.00501726008951664,0.006058381404727697,0.006101854145526886,0.006145326886326075,0.006188799161463976,0.004238053224980831,0.000293754565063864,0.0008847425342537463,0.003922485280781984,0.003966179676353931,0.00500757759436965,0.006048723589628935,0.0060921963304281235,0.006135668605566025,0.006179141346365213,0.005225494969636202,0.0022779947612434626,-0.00013192679034546018,0.00290609709918499,0.003947733901441097,0.004989177919924259,0.006030370946973562,0.006073843687772751,0.0061173164285719395,0.006160788703709841,0.006204261444509029,0.004253594670444727,-0.0006874905666336417,0.0018720190273597836,0.003911809995770454,0.004953345283865929,0.005994629580527544,0.006038102321326733,0.007079053670167923,0.007122415117919445,0.006168520078063011,0.0062119928188622,0.004261365160346031,-0.0021566147916018963,0.0028778724372386932,0.004917512647807598,0.005958888214081526,0.006002360954880714,0.00704340310767293,0.007086765021085739,0.0071301269344985485,0.0061762514524161816,0.006219723727554083,0.003272120375186205,-0.001159470877610147,0.0038749175146222115,0.004916546866297722,0.005957924760878086,0.006001397501677275,0.007042442448437214,0.007085803896188736,0.007129165809601545,0.006175287999212742,0.0062187607400119305,0.004268167540431023,-0.00016232211783062667,0.0038739494048058987,0.004915581084787846,0.005956961307674646,0.006998119875788689,0.007041481323540211,0.00708484323695302,0.007128204684704542,0.0071715665981173515,0.006217797286808491,0.0042671989649534225,-0.000673713511787355,0.003855503164231777,0.004897181876003742,0.005938609130680561,0.006979814264923334,0.007023175712674856,0.0070665376260876656,0.007109899073839188,0.007153260987251997,0.006199444644153118,0.005245849955826998,0.0022985052783042192,0.0018408031901344657,0.004878782667219639,0.0059202564880251884,0.005963729228824377,0.007004870101809502,0.007048232015222311,0.007091593462973833,0.0071349553763866425,0.007178317289799452,0.006224564742296934,0.004274001345038414,-0.0011810929281637073,0.003853566711768508,0.00489525031298399,0.005936682224273682,0.006977892480790615,0.007021253928542137,0.00806216150522232,0.008105412125587463,0.007151339203119278,0.0071947006508708,0.006240990478545427,0.002296558814123273,0.000831934274174273,0.004868134390562773,0.005909635219722986,0.005953107960522175,0.006994275841861963,0.008035251870751381,0.008078503422439098,0.008121754042804241,0.0071677230298519135,0.006213943473994732,0.005260386038571596,0.0003192835138179362,0.0028447937220335007,0.004884601570665836,0.005926060955971479,0.006967298220843077,0.007010659668594599,0.008051593787968159,0.008094844408333302,0.008138095960021019,0.007184106856584549,0.006230369210243225,0.004279835615307093,-0.001184034743346274,0.0038506616838276386,0.004892352502793074,0.0059337918646633625,0.006975009571760893,0.008016034960746765,0.008059285581111908,0.00810253620147705,0.008145787753164768,0.007191818207502365,0.006238100118935108,0.003290637396275997,-0.00017799668421503156,0.004856519866734743,0.004900103434920311,0.005941523239016533,0.006982720922678709,0.008023726753890514,0.008066977374255657,0.0081102279946208,0.008153478614985943,0.007199529558420181,0.006245831493288279,0.002301448956131935,0.0008192261448130012,0.004855554085224867,0.005897087045013905,0.005940559785813093,0.006981759797781706,0.008022768422961235,0.008066019043326378,0.009106664918363094,0.008152520284056664,0.007198568433523178,0.006244868040084839,0.002300475724041462,0.0008182504680007696,0.004854588303714991,0.005896123591810465,0.0059395963326096535,0.00698079913854599,0.008021809160709381,0.0090625686571002,0.009105708450078964,0.008151561953127384,0.007197607774287462,0.006243904586881399,0.0032964861020445824,0.0008172747911885381,0.004853622522205114,0.005895160138607025,0.005938632879406214,0.006979838013648987,0.008020850829780102,0.009061613120138645,0.009104752913117409,0.008150603622198105,0.007196646649390459,0.0062429411336779594,0.0032955154310911894,-0.001188937691040337,0.0038458202034235,0.004887523595243692,0.005928975064307451,0.006970204878598452,0.008011242374777794,0.009052028879523277,0.00909516867250204,0.009138308465480804,0.007187013514339924,0.006233283318579197,0.004282764624804258,-0.0006579507025890052,0.003836113028228283,0.004877840634435415,0.005919317249208689,0.006960571743547916,0.008001633919775486,0.00904244463890791,0.009085584431886673,0.009128724224865437,0.008174637332558632,0.007220741827040911,0.005270092282444239,0.00032911362359300256,0.002828266704455018,0.0048681581392884254,0.005909658968448639,0.006950938142836094,0.007992025464773178,0.009032860398292542,0.009076000191271305,0.009119140915572643,0.008165028877556324,0.0072111086919903755,0.005260409787297249,0.001316256821155548,0.0008221774478442967,0.004858475644141436,0.005900001153349876,0.006941305007785559,0.00798241700977087,0.009023277088999748,0.009066416881978512,0.009109556674957275,0.008155419491231441,0.00720147555693984,0.006247782148420811,0.0023034196346998215,-0.00018582178745418787,0.004848793148994446,0.005890343338251114,0.0069316718727350235,0.007972807623445988,0.00901369284838438,0.009056832641363144,0.009099972434341908,0.008145811036229134,0.007191841956228018,0.006238124333322048,0.003290661610662937,0.0008202260942198336,0.004856544081121683,0.005898074246942997,0.00693938322365284,0.007980499416589737,0.009021365083754063,0.009064504876732826,0.00910764466971159,0.008153502829372883,0.007199553307145834,0.006245855242013931,0.0032984516583383083,0.00182620482519269,0.0048642950132489204,0.005905805621296167,0.006947094574570656,0.008985896594822407,0.00902903638780117,0.009072176180779934,0.009115316905081272,0.008161194622516632,0.00720726465806365,0.006253586616367102,0.001312354113906622,0.0028321738354861736,0.005870064254850149,0.006911444012075663,0.007952632382512093,0.008993568830192089,0.009036708623170853,0.009079848416149616,0.00912298820912838,0.008168886415660381,0.007214976474642754,0.005264297593384981,0.00032324480707757175,0.0028399641159921885,0.005877795163542032,0.006919155828654766,0.007960324175655842,0.009001241065561771,0.009044380858540535,0.009087520651519299,0.009130660444498062,0.00817657820880413,0.00722268782556057,0.004275017883628607,-0.0001818848541006446,0.004852680489420891,0.0058942208997905254,0.006935539189726114,0.008974400348961353,0.009017540141940117,0.009060680866241455,0.009103820659220219,0.008149669505655766,0.007195709738880396,0.00624200189486146,0.0032945687416940928,0.0018310952000319958,0.004869148135185242,0.006908561568707228,0.00794975645840168,0.008990700356662273,0.009033840149641037,0.009076980873942375,0.009120120666921139,0.008166010491549969,0.007212093565613031,0.005261399783194065,0.0003203103842679411,0.002837051870301366,0.005874905269593,0.006916272919625044,0.00795744825154543,0.008998372592031956,0.00904151238501072,0.009084652177989483,0.009127791970968246,0.008173702284693718,0.0072198049165308475,0.005269150715321302,-0.0006687372224405408,0.0028448421508073807,0.0058826361782848835,0.00692398427054286,0.007965140044689178,0.009006044827401638,0.009049184620380402,0.009092324413359165,0.009135464206337929,0.008181394077837467,0.006230417173355818,0.004279883578419685,-0.0011751360725611448,0.004857534077018499,0.006897006183862686,0.007938231341540813,0.008979205042123795,0.009022344835102558,0.009065484628081322,0.009108624421060085,0.008154485374689102,0.00720053818076849,0.006246842909604311,0.0013055243762210011,0.002842900576069951,0.005880709271878004,0.006922062486410141,0.00796322338283062,0.009004132822155952,0.01004484947770834,0.00909041240811348,0.009133552201092243,0.008179477415978909,0.006228490266948938,0.0042779468931257725,-0.00017009851580951363,0.004864318761974573,0.0069037568755447865,0.007944964803755283,0.008985920809209347,0.01002668496221304,0.009072200395166874,0.009115340188145638,0.008161218836903572,0.00720728887245059,0.0052565704099833965,-0.0011780778877437115,0.00385654391720891,0.0058961715549230576,0.006937485188245773,0.008976336568593979,0.010017124935984612,0.010060153901576996,0.00910575594753027,0.00815160945057869,0.007197655737400055,0.006243952549993992,0.0003056139685213566,0.0038555755745619535,0.005895208101719618,0.00693652406334877,0.008975381031632423,0.01001617219299078,0.010059201158583164,0.009104800410568714,0.00815065111964941,0.007196694612503052,0.006242989096790552,0.0003046358178835362,0.003854607231914997,0.0058942451141774654,0.006935563404113054,0.008974424563348293,0.010015218518674374,0.00906070414930582,0.009103843942284584,0.008149692788720131,0.007195733487606049,0.005244956351816654,0.0003036576963495463,0.0038536391220986843,0.005893281660974026,0.006934602279216051,0.008973469026386738,0.009016608819365501,0.009059748612344265,0.009102888405323029,0.008148734457790852,0.007194772828370333,0.005243990570306778,0.00030267954571172595,0.003852670779451728,0.005892318207770586,0.006933641619980335,0.008972512558102608,0.009015652351081371,0.009058792144060135,0.009101931937038898,0.008147776126861572,0.0071938117034733295,0.005243024788796902,0.00030170142417773604,0.0038517024368047714,0.005891354754567146,0.006932680495083332,0.008971556089818478,0.009014696814119816,0.00905783660709858,0.009100976400077343,0.008146817795932293,0.007192851044237614,0.0052420590072870255,0.0003007232735399157,0.003850734094157815,0.005890391301363707,0.006931719370186329,0.008970600552856922,0.009013740345835686,0.00905688013881445,0.009100019931793213,0.008145859465003014,0.0071918899193406105,0.005241092760115862,-0.0011760921915993094,0.004856592044234276,0.005898122675716877,0.006939431186765432,0.008978272788226604,0.009021412581205368,0.009064552374184132,0.008110299706459045,0.008153550326824188,0.007199601270258427,0.005248843692243099,-0.00017007415590342134,0.004864342976361513,0.006903780624270439,0.007944988086819649,0.008985944092273712,0.009029083885252476,0.009072224609553814,0.008117991499602795,0.007163951173424721,0.006210161838680506,0.003262485144659877,0.0008359341882169247,0.0048720939084887505,0.006911491975188255,0.007952679879963398,0.008993616327643394,0.009036756120622158,0.008082432672381401,0.008125683292746544,0.007171662524342537,0.006217893213033676,0.0022732256911695004,0.0018418733961880207,0.005877843126654625,0.0069192033261060715,0.007960371673107147,0.00800362229347229,0.008046872913837433,0.00809012446552515,0.008133375085890293,0.007179373875260353,0.006225624121725559,0.0012840350391343236,0.0028478028252720833,0.005885574501007795,0.006926915142685175,0.007968063466250896,0.00801131408661604,0.008054564706981182,0.008097815327346325,0.008141066879034042,0.007187085226178169,0.005236263852566481,-0.000702126242686063,0.0028468321543186903,0.005884611047804356,0.006925954017788172,0.007967105135321617,0.00801035575568676,0.008053606376051903,0.008096856996417046,0.008140108548104763,0.007186124566942453,0.005235298071056604,-0.0007031068671494722,0.003852694761008024,0.005892341956496239,0.006933665368705988,0.007974796928465366,0.00801804754883051,0.008061298169195652,0.008104548789560795,0.00715047400444746,0.0071938359178602695,0.005243048537522554,-0.0011741066118702292,0.004858547821640968,0.006898015271872282,0.007939237169921398,0.007982488721609116,0.008025739341974258,0.008068989962339401,0.008112240582704544,0.007158185355365276,0.006204381585121155,0.0032566606532782316,-0.00016809350927360356,0.004866298753768206,0.006905726622790098,0.007946928963065147,0.00799017958343029,0.008033431135118008,0.00807668175548315,0.008119932375848293,0.0071658967062830925,0.006212112959474325,0.0032644509337842464,0.0008379098726436496,0.004874049685895443,0.006913437973707914,0.007954620756208897,0.00799787137657404,0.008041121996939182,0.0080843735486269,0.008127624168992043,0.007173608057200909,0.006219843868166208,0.0022751963697373867,0.001843844074755907,0.005879794247448444,0.0069211493246257305,0.007962312549352646,0.009003223851323128,0.009046363644301891,0.008092065341770649,0.007137957960367203,0.007181319873780012,0.005230468697845936,0.0012860108399763703,0.002849768614396453,0.0058875251561403275,0.006928860675543547,0.007970004342496395,0.00901089608669281,0.009054035879671574,0.008099756203591824,0.007145669311285019,0.007189031224697828,0.005238219629973173,0.0012938405852764845,0.0018506809137761593,0.005886561702936888,0.006927900016307831,0.007969046011567116,0.009009940549731255,0.009053080342710018,0.008098797872662544,0.008142049424350262,0.007188070099800825,0.00523725338280201,0.0022898430470377207,0.0018497076816856861,0.005885598249733448,0.006926938891410828,0.007968087680637836,0.009008984081447124,0.009052123874425888,0.008097839541733265,0.008141090162098408,0.007187109440565109,0.005236287601292133,0.0022888698149472475,0.0008506423328071833,0.0048866537399590015,0.0069259777665138245,0.007967128418385983,0.009008027613162994,0.009051168337464333,0.009094308130443096,0.008140131831169128,0.007186148315668106,0.006232415791600943,0.0032849095296114683,-0.0011642518220469356,0.0038701966404914856,0.005909755360335112,0.007948869839310646,0.008989815600216389,0.009032956324517727,0.00907609611749649,0.008121873252093792,0.0071678427048027515,0.006214063614606857,0.0052605061791837215,0.0013163541443645954,0.0008574964012950659,0.004893438890576363,0.006932728458195925,0.007973861880600452,0.009014744311571121,0.009057884104549885,0.009101023897528648,0.008146865293383598,0.007192899007350206,0.006239183712750673,0.004288694821298122,-0.0006519448943436146,0.003876999020576477,0.005916522815823555,0.007955603301525116,0.008996532298624516,0.009039672091603279,0.009082811884582043,0.008128606714308262,0.0071745929308235645,0.007217954844236374,0.006264303810894489,0.0033170415554195642,-0.00014256444410420954,0.0038935085758566856,0.006930806674063206,0.007971945218741894,0.009012832306325436,0.0090559720993042,0.009099111892282963,0.00814494863152504,0.0071909767575562,0.006237256806343794,0.0052837589755654335,0.0013398433802649379,0.0028770468197762966,0.005914596375077963,0.006955862510949373,0.0079969372600317,0.009037760086357594,0.009080899879336357,0.00912403967231512,0.008169940672814846,0.007216033060103655,0.00626237690448761,0.0043120067566633224,-0.0011426054406911135,0.0038915718905627728,0.005931021645665169,0.007970028556883335,0.008013279177248478,0.009054060094058514,0.009097199887037277,0.008143031038343906,0.007189054973423481,0.00723241688683629,0.006278802640736103,0.0033316512126475573,-0.00011901604011654854,0.004914759658277035,0.006953940726816654,0.007995019666850567,0.009035848081111908,0.009078987874090672,0.00812477245926857,0.008168023079633713,0.007214111275970936,0.006260450463742018,0.005307011306285858,-0.0006302985129877925,0.002900417661294341,0.0059377895668148994,0.006978996563702822,0.008020011708140373,0.009060775861144066,0.008106513880193233,0.008149764500558376,0.007195805665105581,0.007239167112857103,0.006285570561885834,0.003338470822200179,0.0008946937741711736,0.004930261522531509,0.0069693634286522865,0.007012725342065096,0.008053653873503208,0.008096905425190926,0.008140156045556068,0.007186172064393759,0.007229533977806568,0.006275912746787071,0.004325611051172018,-0.0011111286003142595,0.002924759406596422,0.005961946211755276,0.007003091741353273,0.0080440454185009,0.008087296038866043,0.00813054759055376,0.007176538929343224,0.007219900842756033,0.006266254466027021,0.005312830209732056,-0.0006243905518203974,0.0029237885028123856,0.004963196348398924,0.0070021310821175575,0.008043087087571621,0.008086337707936764,0.008129589259624481,0.00717557780444622,0.00721893971785903,0.006265291478484869,0.005311864428222179,-0.0006253711180761456,0.0019336715340614319,0.003973151091486216,0.007009842433035374,0.00805077888071537,0.008094029501080513,0.0071399277076125145,0.007183289621025324,0.007226651068776846,0.006273022387176752,0.004322706256061792,-7.19192175893113e-05,0.002965652383863926,0.006002528592944145,0.0070435707457363605,0.008084421046078205,0.007130294572561979,0.007173656020313501,0.007217017933726311,0.00626336457207799,0.005309932865202427,-0.0010708021000027657,0.001966858049854636,0.005003882572054863,0.007042610086500645,0.007085971534252167,0.007129333447664976,0.0071726953610777855,0.006218928378075361,0.00626240111887455,0.004312030505388975,-0.0010629328899085522,0.0009768939344212413,0.00401394022628665,0.007050321437418461,0.00709368335083127,0.007137044798582792,0.007180406711995602,0.006226659752428532,0.006270132027566433,0.0033229144755750895,-3.071559694944881e-05,0.0020088276360183954,0.005045534111559391,0.007084049750119448,0.007127411663532257,0.0061735291965305805,0.006217001937329769,0.0062604742124676704,0.003313182620331645,-0.0010294949170202017,0.001010164269246161,0.004046959336847067,0.006085620261728764,0.006129093002527952,0.006172565743327141,0.006216038484126329,0.005262486170977354,0.0023152681533247232,-0.0010039262706413865,0.002033231081441045,0.0040722074918448925,0.00411590188741684,0.005156919825822115,0.006197685841470957,0.005244086496531963,0.003293718909844756,-0.000996057060547173,0.0010434344876557589,0.002084957202896476,0.003126288065686822,0.004167367238551378,0.004211061634123325,0.0042547560296952724,0.0013075972674414515,6.247548299143091e-05,0.0021015505772083998,0.002145466860383749,0.003186644520610571,0.003230449976399541,0.002277215477079153,-0.0009360697004012764,0.00010563537944108248,0.001147148315794766,0.002188409911468625,0.0022323261946439743,0.0002821874222718179,-0.000883951666764915,0.0001576228823978454,0.0011990051716566086,0.0002458988456055522,-0.0008318335167132318,-0.0007875845185481012,-0.0007885651430115104],\"type\":\"mesh3d\"}],                        {\"updatemenus\":[{\"buttons\":[{\"args\":[null,{\"frame\":{\"duration\":50,\"redraw\":true},\"transition\":{\"duration\":0},\"fromcurrent\":true,\"mode\":\"immediate\"}],\"label\":\"Play\",\"method\":\"animate\"}],\"pad\":{\"r\":10,\"t\":45},\"showactive\":false,\"type\":\"buttons\",\"x\":1,\"xanchor\":\"left\",\"y\":1,\"yanchor\":\"bottom\"}],\"template\":{\"data\":{\"histogram2dcontour\":[{\"type\":\"histogram2dcontour\",\"colorbar\":{\"outlinewidth\":0,\"ticks\":\"\"},\"colorscale\":[[0.0,\"#0d0887\"],[0.1111111111111111,\"#46039f\"],[0.2222222222222222,\"#7201a8\"],[0.3333333333333333,\"#9c179e\"],[0.4444444444444444,\"#bd3786\"],[0.5555555555555556,\"#d8576b\"],[0.6666666666666666,\"#ed7953\"],[0.7777777777777778,\"#fb9f3a\"],[0.8888888888888888,\"#fdca26\"],[1.0,\"#f0f921\"]]}],\"choropleth\":[{\"type\":\"choropleth\",\"colorbar\":{\"outlinewidth\":0,\"ticks\":\"\"}}],\"histogram2d\":[{\"type\":\"histogram2d\",\"colorbar\":{\"outlinewidth\":0,\"ticks\":\"\"},\"colorscale\":[[0.0,\"#0d0887\"],[0.1111111111111111,\"#46039f\"],[0.2222222222222222,\"#7201a8\"],[0.3333333333333333,\"#9c179e\"],[0.4444444444444444,\"#bd3786\"],[0.5555555555555556,\"#d8576b\"],[0.6666666666666666,\"#ed7953\"],[0.7777777777777778,\"#fb9f3a\"],[0.8888888888888888,\"#fdca26\"],[1.0,\"#f0f921\"]]}],\"heatmap\":[{\"type\":\"heatmap\",\"colorbar\":{\"outlinewidth\":0,\"ticks\":\"\"},\"colorscale\":[[0.0,\"#0d0887\"],[0.1111111111111111,\"#46039f\"],[0.2222222222222222,\"#7201a8\"],[0.3333333333333333,\"#9c179e\"],[0.4444444444444444,\"#bd3786\"],[0.5555555555555556,\"#d8576b\"],[0.6666666666666666,\"#ed7953\"],[0.7777777777777778,\"#fb9f3a\"],[0.8888888888888888,\"#fdca26\"],[1.0,\"#f0f921\"]]}],\"heatmapgl\":[{\"type\":\"heatmapgl\",\"colorbar\":{\"outlinewidth\":0,\"ticks\":\"\"},\"colorscale\":[[0.0,\"#0d0887\"],[0.1111111111111111,\"#46039f\"],[0.2222222222222222,\"#7201a8\"],[0.3333333333333333,\"#9c179e\"],[0.4444444444444444,\"#bd3786\"],[0.5555555555555556,\"#d8576b\"],[0.6666666666666666,\"#ed7953\"],[0.7777777777777778,\"#fb9f3a\"],[0.8888888888888888,\"#fdca26\"],[1.0,\"#f0f921\"]]}],\"contourcarpet\":[{\"type\":\"contourcarpet\",\"colorbar\":{\"outlinewidth\":0,\"ticks\":\"\"}}],\"contour\":[{\"type\":\"contour\",\"colorbar\":{\"outlinewidth\":0,\"ticks\":\"\"},\"colorscale\":[[0.0,\"#0d0887\"],[0.1111111111111111,\"#46039f\"],[0.2222222222222222,\"#7201a8\"],[0.3333333333333333,\"#9c179e\"],[0.4444444444444444,\"#bd3786\"],[0.5555555555555556,\"#d8576b\"],[0.6666666666666666,\"#ed7953\"],[0.7777777777777778,\"#fb9f3a\"],[0.8888888888888888,\"#fdca26\"],[1.0,\"#f0f921\"]]}],\"surface\":[{\"type\":\"surface\",\"colorbar\":{\"outlinewidth\":0,\"ticks\":\"\"},\"colorscale\":[[0.0,\"#0d0887\"],[0.1111111111111111,\"#46039f\"],[0.2222222222222222,\"#7201a8\"],[0.3333333333333333,\"#9c179e\"],[0.4444444444444444,\"#bd3786\"],[0.5555555555555556,\"#d8576b\"],[0.6666666666666666,\"#ed7953\"],[0.7777777777777778,\"#fb9f3a\"],[0.8888888888888888,\"#fdca26\"],[1.0,\"#f0f921\"]]}],\"mesh3d\":[{\"type\":\"mesh3d\",\"colorbar\":{\"outlinewidth\":0,\"ticks\":\"\"}}],\"scatter\":[{\"fillpattern\":{\"fillmode\":\"overlay\",\"size\":10,\"solidity\":0.2},\"type\":\"scatter\"}],\"parcoords\":[{\"type\":\"parcoords\",\"line\":{\"colorbar\":{\"outlinewidth\":0,\"ticks\":\"\"}}}],\"scatterpolargl\":[{\"type\":\"scatterpolargl\",\"marker\":{\"colorbar\":{\"outlinewidth\":0,\"ticks\":\"\"}}}],\"bar\":[{\"error_x\":{\"color\":\"#2a3f5f\"},\"error_y\":{\"color\":\"#2a3f5f\"},\"marker\":{\"line\":{\"color\":\"#E5ECF6\",\"width\":0.5},\"pattern\":{\"fillmode\":\"overlay\",\"size\":10,\"solidity\":0.2}},\"type\":\"bar\"}],\"scattergeo\":[{\"type\":\"scattergeo\",\"marker\":{\"colorbar\":{\"outlinewidth\":0,\"ticks\":\"\"}}}],\"scatterpolar\":[{\"type\":\"scatterpolar\",\"marker\":{\"colorbar\":{\"outlinewidth\":0,\"ticks\":\"\"}}}],\"histogram\":[{\"marker\":{\"pattern\":{\"fillmode\":\"overlay\",\"size\":10,\"solidity\":0.2}},\"type\":\"histogram\"}],\"scattergl\":[{\"type\":\"scattergl\",\"marker\":{\"colorbar\":{\"outlinewidth\":0,\"ticks\":\"\"}}}],\"scatter3d\":[{\"type\":\"scatter3d\",\"line\":{\"colorbar\":{\"outlinewidth\":0,\"ticks\":\"\"}},\"marker\":{\"colorbar\":{\"outlinewidth\":0,\"ticks\":\"\"}}}],\"scattermapbox\":[{\"type\":\"scattermapbox\",\"marker\":{\"colorbar\":{\"outlinewidth\":0,\"ticks\":\"\"}}}],\"scatterternary\":[{\"type\":\"scatterternary\",\"marker\":{\"colorbar\":{\"outlinewidth\":0,\"ticks\":\"\"}}}],\"scattercarpet\":[{\"type\":\"scattercarpet\",\"marker\":{\"colorbar\":{\"outlinewidth\":0,\"ticks\":\"\"}}}],\"carpet\":[{\"aaxis\":{\"endlinecolor\":\"#2a3f5f\",\"gridcolor\":\"white\",\"linecolor\":\"white\",\"minorgridcolor\":\"white\",\"startlinecolor\":\"#2a3f5f\"},\"baxis\":{\"endlinecolor\":\"#2a3f5f\",\"gridcolor\":\"white\",\"linecolor\":\"white\",\"minorgridcolor\":\"white\",\"startlinecolor\":\"#2a3f5f\"},\"type\":\"carpet\"}],\"table\":[{\"cells\":{\"fill\":{\"color\":\"#EBF0F8\"},\"line\":{\"color\":\"white\"}},\"header\":{\"fill\":{\"color\":\"#C8D4E3\"},\"line\":{\"color\":\"white\"}},\"type\":\"table\"}],\"barpolar\":[{\"marker\":{\"line\":{\"color\":\"#E5ECF6\",\"width\":0.5},\"pattern\":{\"fillmode\":\"overlay\",\"size\":10,\"solidity\":0.2}},\"type\":\"barpolar\"}],\"pie\":[{\"automargin\":true,\"type\":\"pie\"}]},\"layout\":{\"autotypenumbers\":\"strict\",\"colorway\":[\"#636efa\",\"#EF553B\",\"#00cc96\",\"#ab63fa\",\"#FFA15A\",\"#19d3f3\",\"#FF6692\",\"#B6E880\",\"#FF97FF\",\"#FECB52\"],\"font\":{\"color\":\"#2a3f5f\"},\"hovermode\":\"closest\",\"hoverlabel\":{\"align\":\"left\"},\"paper_bgcolor\":\"white\",\"plot_bgcolor\":\"#E5ECF6\",\"polar\":{\"bgcolor\":\"#E5ECF6\",\"angularaxis\":{\"gridcolor\":\"white\",\"linecolor\":\"white\",\"ticks\":\"\"},\"radialaxis\":{\"gridcolor\":\"white\",\"linecolor\":\"white\",\"ticks\":\"\"}},\"ternary\":{\"bgcolor\":\"#E5ECF6\",\"aaxis\":{\"gridcolor\":\"white\",\"linecolor\":\"white\",\"ticks\":\"\"},\"baxis\":{\"gridcolor\":\"white\",\"linecolor\":\"white\",\"ticks\":\"\"},\"caxis\":{\"gridcolor\":\"white\",\"linecolor\":\"white\",\"ticks\":\"\"}},\"coloraxis\":{\"colorbar\":{\"outlinewidth\":0,\"ticks\":\"\"}},\"colorscale\":{\"sequential\":[[0.0,\"#0d0887\"],[0.1111111111111111,\"#46039f\"],[0.2222222222222222,\"#7201a8\"],[0.3333333333333333,\"#9c179e\"],[0.4444444444444444,\"#bd3786\"],[0.5555555555555556,\"#d8576b\"],[0.6666666666666666,\"#ed7953\"],[0.7777777777777778,\"#fb9f3a\"],[0.8888888888888888,\"#fdca26\"],[1.0,\"#f0f921\"]],\"sequentialminus\":[[0.0,\"#0d0887\"],[0.1111111111111111,\"#46039f\"],[0.2222222222222222,\"#7201a8\"],[0.3333333333333333,\"#9c179e\"],[0.4444444444444444,\"#bd3786\"],[0.5555555555555556,\"#d8576b\"],[0.6666666666666666,\"#ed7953\"],[0.7777777777777778,\"#fb9f3a\"],[0.8888888888888888,\"#fdca26\"],[1.0,\"#f0f921\"]],\"diverging\":[[0,\"#8e0152\"],[0.1,\"#c51b7d\"],[0.2,\"#de77ae\"],[0.3,\"#f1b6da\"],[0.4,\"#fde0ef\"],[0.5,\"#f7f7f7\"],[0.6,\"#e6f5d0\"],[0.7,\"#b8e186\"],[0.8,\"#7fbc41\"],[0.9,\"#4d9221\"],[1,\"#276419\"]]},\"xaxis\":{\"gridcolor\":\"white\",\"linecolor\":\"white\",\"ticks\":\"\",\"title\":{\"standoff\":15},\"zerolinecolor\":\"white\",\"automargin\":true,\"zerolinewidth\":2},\"yaxis\":{\"gridcolor\":\"white\",\"linecolor\":\"white\",\"ticks\":\"\",\"title\":{\"standoff\":15},\"zerolinecolor\":\"white\",\"automargin\":true,\"zerolinewidth\":2},\"scene\":{\"xaxis\":{\"backgroundcolor\":\"#E5ECF6\",\"gridcolor\":\"white\",\"linecolor\":\"white\",\"showbackground\":true,\"ticks\":\"\",\"zerolinecolor\":\"white\",\"gridwidth\":2},\"yaxis\":{\"backgroundcolor\":\"#E5ECF6\",\"gridcolor\":\"white\",\"linecolor\":\"white\",\"showbackground\":true,\"ticks\":\"\",\"zerolinecolor\":\"white\",\"gridwidth\":2},\"zaxis\":{\"backgroundcolor\":\"#E5ECF6\",\"gridcolor\":\"white\",\"linecolor\":\"white\",\"showbackground\":true,\"ticks\":\"\",\"zerolinecolor\":\"white\",\"gridwidth\":2}},\"shapedefaults\":{\"line\":{\"color\":\"#2a3f5f\"}},\"annotationdefaults\":{\"arrowcolor\":\"#2a3f5f\",\"arrowhead\":0,\"arrowwidth\":1},\"geo\":{\"bgcolor\":\"white\",\"landcolor\":\"#E5ECF6\",\"subunitcolor\":\"white\",\"showland\":true,\"showlakes\":true,\"lakecolor\":\"white\"},\"title\":{\"x\":0.05},\"mapbox\":{\"style\":\"light\"}}}},                        {\"responsive\": true}                    ).then(function(){\n",
       "                            Plotly.addFrames('bc6eb586-5311-4e8e-a91e-0f2bff1e1f0e', [{\"layout\":{\"scene\":{\"camera\":{\"eye\":{\"x\":1.25,\"y\":1.25,\"z\":0.8}}}}},{\"layout\":{\"scene\":{\"camera\":{\"eye\":{\"x\":1.3685469774060675,\"y\":1.1189634357889973,\"z\":0.8}}}}},{\"layout\":{\"scene\":{\"camera\":{\"eye\":{\"x\":1.4734198857953784,\"y\":0.9767465588077254,\"z\":0.8}}}}},{\"layout\":{\"scene\":{\"camera\":{\"eye\":{\"x\":1.5635708697336819,\"y\":0.824770353080333,\"z\":0.8}}}}},{\"layout\":{\"scene\":{\"camera\":{\"eye\":{\"x\":1.6380991703894194,\"y\":0.6645533146177932,\"z\":0.8}}}}},{\"layout\":{\"scene\":{\"camera\":{\"eye\":{\"x\":1.6962601256182197,\"y\":0.4976962791077122,\"z\":0.8}}}}},{\"layout\":{\"scene\":{\"camera\":{\"eye\":{\"x\":1.737472610380892,\"y\":0.32586642689330336,\"z\":0.8}}}}},{\"layout\":{\"scene\":{\"camera\":{\"eye\":{\"x\":1.7613248431527242,\"y\":0.15078062505849654,\"z\":0.8}}}}},{\"layout\":{\"scene\":{\"camera\":{\"eye\":{\"x\":1.7675785003083602,\"y\":-0.025811726940446755,\"z\":0.8}}}}},{\"layout\":{\"scene\":{\"camera\":{\"eye\":{\"x\":1.7561710973726847,\"y\":-0.20214617669602375,\"z\":0.8}}}}},{\"layout\":{\"scene\":{\"camera\":{\"eye\":{\"x\":1.7272166133450453,\"y\":-0.376460848674696,\"z\":0.8}}}}},{\"layout\":{\"scene\":{\"camera\":{\"eye\":{\"x\":1.6810043518587658,\"y\":-0.5470140482948226,\"z\":0.8}}}}},{\"layout\":{\"scene\":{\"camera\":{\"eye\":{\"x\":1.6179960505548747,\"y\":-0.7121016643631912,\"z\":0.8}}}}},{\"layout\":{\"scene\":{\"camera\":{\"eye\":{\"x\":1.5388212675522255,\"y\":-0.870074195990757,\"z\":0.8}}}}},{\"layout\":{\"scene\":{\"camera\":{\"eye\":{\"x\":1.4442710911108763,\"y\":-1.0193532338602744,\"z\":0.8}}}}},{\"layout\":{\"scene\":{\"camera\":{\"eye\":{\"x\":1.3352902353396967,\"y\":-1.1584472311704395,\"z\":0.8}}}}},{\"layout\":{\"scene\":{\"camera\":{\"eye\":{\"x\":1.2129676009252703,\"y\":-1.2859664066784924,\"z\":0.8}}}}},{\"layout\":{\"scene\":{\"camera\":{\"eye\":{\"x\":1.0785253951961797,\"y\":-1.4006366309349918,\"z\":0.8}}}}},{\"layout\":{\"scene\":{\"camera\":{\"eye\":{\"x\":0.9333069202313851,\"y\":-1.5013121569641028,\"z\":0.8}}}}},{\"layout\":{\"scene\":{\"camera\":{\"eye\":{\"x\":0.7787631510298885,\"y\":-1.5869870681886475,\"z\":0.8}}}}},{\"layout\":{\"scene\":{\"camera\":{\"eye\":{\"x\":0.6164382378481742,\"y\":-1.6568053292160303,\"z\":0.8}}}}},{\"layout\":{\"scene\":{\"camera\":{\"eye\":{\"x\":0.44795407756127026,\"y\":-1.710069339060914,\"z\":0.8}}}}},{\"layout\":{\"scene\":{\"camera\":{\"eye\":{\"x\":0.27499410820530534,\"y\":-1.7462469013436699,\"z\":0.8}}}}},{\"layout\":{\"scene\":{\"camera\":{\"eye\":{\"x\":0.09928648862111944,\"y\":-1.7649765418206806,\"z\":0.8}}}}},{\"layout\":{\"scene\":{\"camera\":{\"eye\":{\"x\":-0.07741316873761894,\"y\":-1.7660711201154955,\"z\":0.8}}}}},{\"layout\":{\"scene\":{\"camera\":{\"eye\":{\"x\":-0.25333933930372143,\"y\":-1.7495196995636126,\"z\":0.8}}}}},{\"layout\":{\"scene\":{\"camera\":{\"eye\":{\"x\":-0.4267342269343539,\"y\":-1.7154876564880144,\"z\":0.8}}}}},{\"layout\":{\"scene\":{\"camera\":{\"eye\":{\"x\":-0.5958653272290393,\"y\":-1.6643150278136138,\"z\":0.8}}}}},{\"layout\":{\"scene\":{\"camera\":{\"eye\":{\"x\":-0.7590427381409421,\"y\":-1.5965131135307038,\"z\":0.8}}}}},{\"layout\":{\"scene\":{\"camera\":{\"eye\":{\"x\":-0.9146360449195108,\"y\":-1.5127593679544658,\"z\":0.8}}}}},{\"layout\":{\"scene\":{\"camera\":{\"eye\":{\"x\":-1.0610906106757227,\"y\":-1.4138906308253907,\"z\":0.8}}}}},{\"layout\":{\"scene\":{\"camera\":{\"eye\":{\"x\":-1.196943109799986,\"y\":-1.3008947658832124,\"z\":0.8}}}}},{\"layout\":{\"scene\":{\"camera\":{\"eye\":{\"x\":-1.3208361490279166,\"y\":-1.1749007904589663,\"z\":0.8}}}}},{\"layout\":{\"scene\":{\"camera\":{\"eye\":{\"x\":-1.431531830065142,\"y\":-1.0371675947070202,\"z\":0.8}}}}},{\"layout\":{\"scene\":{\"camera\":{\"eye\":{\"x\":-1.5279241182578656,\"y\":-0.8890713631907865,\"z\":0.8}}}}},{\"layout\":{\"scene\":{\"camera\":{\"eye\":{\"x\":-1.6090498937255202,\"y\":-0.7320918245014705,\"z\":0.8}}}}},{\"layout\":{\"scene\":{\"camera\":{\"eye\":{\"x\":-1.6740985745362496,\"y\":-0.5677974662991182,\"z\":0.8}}}}},{\"layout\":{\"scene\":{\"camera\":{\"eye\":{\"x\":-1.7224202157736266,\"y\":-0.39782986350239324,\"z\":0.8}}}}},{\"layout\":{\"scene\":{\"camera\":{\"eye\":{\"x\":-1.7535320035714197,\"y\":-0.22388727621462157,\"z\":0.8}}}}},{\"layout\":{\"scene\":{\"camera\":{\"eye\":{\"x\":-1.7671230792301427,\"y\":-0.04770768127020719,\"z\":0.8}}}}},{\"layout\":{\"scene\":{\"camera\":{\"eye\":{\"x\":-1.7630576452144253,\"y\":0.1289485930553954,\"z\":0.8}}}}},{\"layout\":{\"scene\":{\"camera\":{\"eye\":{\"x\":-1.741376321997099,\"y\":0.30431645566392784,\"z\":0.8}}}}},{\"layout\":{\"scene\":{\"camera\":{\"eye\":{\"x\":-1.7022957421928595,\"y\":0.47664368884111097,\"z\":0.8}}}}},{\"layout\":{\"scene\":{\"camera\":{\"eye\":{\"x\":-1.646206386036788,\"y\":0.6442084558368493,\"z\":0.8}}}}},{\"layout\":{\"scene\":{\"camera\":{\"eye\":{\"x\":-1.573668679834919,\"y\":0.8053365048888708,\"z\":0.8}}}}},{\"layout\":{\"scene\":{\"camera\":{\"eye\":{\"x\":-1.4854073963698458,\"y\":0.9584178977928967,\"z\":0.8}}}}},{\"layout\":{\"scene\":{\"camera\":{\"eye\":{\"x\":-1.3823044132106481,\"y\":1.101923095873013,\"z\":0.8}}}}},{\"layout\":{\"scene\":{\"camera\":{\"eye\":{\"x\":-1.2653899012837393,\"y\":1.2344182426265127,\"z\":0.8}}}}},{\"layout\":{\"scene\":{\"camera\":{\"eye\":{\"x\":-1.1358320317454915,\"y\":1.3545794903441097,\"z\":0.8}}}}},{\"layout\":{\"scene\":{\"camera\":{\"eye\":{\"x\":-0.9949253040021958,\"y\":1.4612062275586353,\"z\":0.8}}}}},{\"layout\":{\"scene\":{\"camera\":{\"eye\":{\"x\":-0.8440776114998902,\"y\":1.553233075157956,\"z\":0.8}}}}},{\"layout\":{\"scene\":{\"camera\":{\"eye\":{\"x\":-0.6847961745184389,\"y\":1.6297405313008917,\"z\":0.8}}}}},{\"layout\":{\"scene\":{\"camera\":{\"eye\":{\"x\":-0.5186724805247199,\"y\":1.6899641587756626,\"z\":0.8}}}}},{\"layout\":{\"scene\":{\"camera\":{\"eye\":{\"x\":-0.347366382555924,\"y\":1.733302223003828,\"z\":0.8}}}}},{\"layout\":{\"scene\":{\"camera\":{\"eye\":{\"x\":-0.17258951451669058,\"y\":1.7593217043732774,\"z\":0.8}}}}},{\"layout\":{\"scene\":{\"camera\":{\"eye\":{\"x\":0.0039118109010850555,\"y\":1.767762624827065,\"z\":0.8}}}}},{\"layout\":{\"scene\":{\"camera\":{\"eye\":{\"x\":0.18037405079741164,\"y\":1.7585406454782138,\"z\":0.8}}}}},{\"layout\":{\"scene\":{\"camera\":{\"eye\":{\"x\":0.3550340528019027,\"y\":1.7317479092959966,\"z\":0.8}}}}},{\"layout\":{\"scene\":{\"camera\":{\"eye\":{\"x\":0.5261466719094534,\"y\":1.6876521204438448,\"z\":0.8}}}}},{\"layout\":{\"scene\":{\"camera\":{\"eye\":{\"x\":0.6920022073922499,\"y\":1.62669386946784,\"z\":0.8}}}}},{\"layout\":{\"scene\":{\"camera\":{\"eye\":{\"x\":0.8509434855643001,\"y\":1.5494822310616148,\"z\":0.8}}}}},{\"layout\":{\"scene\":{\"camera\":{\"eye\":{\"x\":1.001382417713112,\"y\":1.4567886783933495,\"z\":0.8}}}}},{\"layout\":{\"scene\":{\"camera\":{\"eye\":{\"x\":1.1418158677571515,\"y\":1.3495393748008924,\"z\":0.8}}}}},{\"layout\":{\"scene\":{\"camera\":{\"eye\":{\"x\":1.270840671084707,\"y\":1.2288059198738308,\"z\":0.8}}}}},{\"layout\":{\"scene\":{\"camera\":{\"eye\":{\"x\":1.3871676545108578,\"y\":1.0957946423846239,\"z\":0.8}}}}},{\"layout\":{\"scene\":{\"camera\":{\"eye\":{\"x\":1.4896345172697987,\"y\":0.9518345470502599,\"z\":0.8}}}}},{\"layout\":{\"scene\":{\"camera\":{\"eye\":{\"x\":1.577217444339885,\"y\":0.7983640355564382,\"z\":0.8}}}}},{\"layout\":{\"scene\":{\"camera\":{\"eye\":{\"x\":1.6490413360648972,\"y\":0.6369165345234014,\"z\":0.8}}}}},{\"layout\":{\"scene\":{\"camera\":{\"eye\":{\"x\":1.7043885518605422,\"y\":0.46910517401401974,\"z\":0.8}}}}},{\"layout\":{\"scene\":{\"camera\":{\"eye\":{\"x\":1.742706080641946,\"y\":0.2966066696714459,\"z\":0.8}}}}},{\"layout\":{\"scene\":{\"camera\":{\"eye\":{\"x\":1.7636110663276172,\"y\":0.12114456953064445,\"z\":0.8}}}}},{\"layout\":{\"scene\":{\"camera\":{\"eye\":{\"x\":1.766894633210853,\"y\":-0.05552796710383823,\"z\":0.8}}}}},{\"layout\":{\"scene\":{\"camera\":{\"eye\":{\"x\":1.7525239729767597,\"y\":-0.23164568664612328,\"z\":0.8}}}}},{\"layout\":{\"scene\":{\"camera\":{\"eye\":{\"x\":1.7206426725120867,\"y\":-0.4054488790593255,\"z\":0.8}}}}},{\"layout\":{\"scene\":{\"camera\":{\"eye\":{\"x\":1.6715692792325216,\"y\":-0.5752009602965458,\"z\":0.8}}}}},{\"layout\":{\"scene\":{\"camera\":{\"eye\":{\"x\":1.605794118262206,\"y\":-0.7392058236746413,\"z\":0.8}}}}},{\"layout\":{\"scene\":{\"camera\":{\"eye\":{\"x\":1.5239743932671765,\"y\":-0.8958247868115395,\"z\":0.8}}}}},{\"layout\":{\"scene\":{\"camera\":{\"eye\":{\"x\":1.426927619893581,\"y\":-1.04349296479892,\"z\":0.8}}}}},{\"layout\":{\"scene\":{\"camera\":{\"eye\":{\"x\":1.3156234574215673,\"y\":-1.180734906014945,\"z\":0.8}}}}},{\"layout\":{\"scene\":{\"camera\":{\"eye\":{\"x\":1.1911740202502938,\"y\":-1.3061793343491364,\"z\":0.8}}}}},{\"layout\":{\"scene\":{\"camera\":{\"eye\":{\"x\":1.0548227660184604,\"y\":-1.4185728505399942,\"z\":0.8}}}}},{\"layout\":{\"scene\":{\"camera\":{\"eye\":{\"x\":0.9079320713866189,\"y\":-1.5167924557260966,\"z\":0.8}}}}},{\"layout\":{\"scene\":{\"camera\":{\"eye\":{\"x\":0.7519696196199205,\"y\":-1.599856772079511,\"z\":0.8}}}}},{\"layout\":{\"scene\":{\"camera\":{\"eye\":{\"x\":0.5884937359820905,\"y\":-1.6669358484086425,\"z\":0.8}}}}},{\"layout\":{\"scene\":{\"camera\":{\"eye\":{\"x\":0.41913781746449363,\"y\":-1.7173594527562077,\"z\":0.8}}}}},{\"layout\":{\"scene\":{\"camera\":{\"eye\":{\"x\":0.24559401242333323,\"y\":-1.7506237691353923,\"z\":0.8}}}}},{\"layout\":{\"scene\":{\"camera\":{\"eye\":{\"x\":0.06959631319262605,\"y\":-1.7663964314926572,\"z\":0.8}}}}},{\"layout\":{\"scene\":{\"camera\":{\"eye\":{\"x\":-0.10709676939402235,\"y\":-1.7645198445994774,\"z\":0.8}}}}},{\"layout\":{\"scene\":{\"camera\":{\"eye\":{\"x\":-0.2827197764623679,\"y\":-1.745012758691772,\"z\":0.8}}}}},{\"layout\":{\"scene\":{\"camera\":{\"eye\":{\"x\":-0.45551794097903464,\"y\":-1.7080700821237462,\"z\":0.8}}}}},{\"layout\":{\"scene\":{\"camera\":{\"eye\":{\"x\":-0.6237647208036504,\"y\":-1.6540609339080419,\"z\":0.8}}}}},{\"layout\":{\"scene\":{\"camera\":{\"eye\":{\"x\":-0.7857790497271997,\"y\":-1.58352495560058,\"z\":0.8}}}}},{\"layout\":{\"scene\":{\"camera\":{\"eye\":{\"x\":-0.9399421341298975,\"y\":-1.4971669193805124,\"z\":0.8}}}}},{\"layout\":{\"scene\":{\"camera\":{\"eye\":{\"x\":-1.0847136274319271,\"y\":-1.3958496861995813,\"z\":0.8}}}}},{\"layout\":{\"scene\":{\"camera\":{\"eye\":{\"x\":-1.218647020727311,\"y\":-1.2805855843607052,\"z\":0.8}}}}},{\"layout\":{\"scene\":{\"camera\":{\"eye\":{\"x\":-1.3404040958227346,\"y\":-1.1525262946682115,\"z\":0.8}}}}},{\"layout\":{\"scene\":{\"camera\":{\"eye\":{\"x\":-1.448768296271385,\"y\":-1.0129513432139317,\"z\":0.8}}}}},{\"layout\":{\"scene\":{\"camera\":{\"eye\":{\"x\":-1.5426568828028173,\"y\":-0.8632553167754569,\"z\":0.8}}}}},{\"layout\":{\"scene\":{\"camera\":{\"eye\":{\"x\":-1.6211317516958519,\"y\":-0.7049339285660311,\"z\":0.8}}}}},{\"layout\":{\"scene\":{\"camera\":{\"eye\":{\"x\":-1.6834088080008527,\"y\":-0.5395690735625494,\"z\":0.8}}}}},{\"layout\":{\"scene\":{\"camera\":{\"eye\":{\"x\":-1.7288657999572776,\"y\":-0.3688130227338533,\"z\":0.8}}}}},{\"layout\":{\"scene\":{\"camera\":{\"eye\":{\"x\":-1.7570485363275825,\"y\":-0.1943719140953739,\"z\":0.8}}}}},{\"layout\":{\"scene\":{\"camera\":{\"eye\":{\"x\":-1.7676754245259283,\"y\":-0.017988705542069106,\"z\":0.8}}}}}]);\n",
       "                        }).then(function(){\n",
       "                            \n",
       "var gd = document.getElementById('bc6eb586-5311-4e8e-a91e-0f2bff1e1f0e');\n",
       "var x = new MutationObserver(function (mutations, observer) {{\n",
       "        var display = window.getComputedStyle(gd).display;\n",
       "        if (!display || display === 'none') {{\n",
       "            console.log([gd, 'removed!']);\n",
       "            Plotly.purge(gd);\n",
       "            observer.disconnect();\n",
       "        }}\n",
       "}});\n",
       "\n",
       "// Listen for the removal of the full notebook cells\n",
       "var notebookContainer = gd.closest('#notebook-container');\n",
       "if (notebookContainer) {{\n",
       "    x.observe(notebookContainer, {childList: true});\n",
       "}}\n",
       "\n",
       "// Listen for the clearing of the current output cell\n",
       "var outputEl = gd.closest('.output');\n",
       "if (outputEl) {{\n",
       "    x.observe(outputEl, {childList: true});\n",
       "}}\n",
       "\n",
       "                        })                };                });            </script>        </div>"
      ]
     },
     "metadata": {},
     "output_type": "display_data"
    }
   ],
   "source": [
    "x,y,z = xyz[:,0], xyz[:,1], xyz[:,2]\n",
    "visualize_rotate([go.Mesh3d(x=x, y=y, z=z, color='lightpink', opacity=0.50)]).show()"
   ]
  },
  {
   "cell_type": "code",
   "execution_count": 39,
   "id": "fcd4320d",
   "metadata": {
    "scrolled": false
   },
   "outputs": [
    {
     "data": {
      "application/vnd.plotly.v1+json": {
       "config": {
        "plotlyServerURL": "https://plot.ly"
       },
       "data": [
        {
         "mode": "markers",
         "type": "scatter3d",
         "x": [
          0.3728894591331482,
          0.3728436827659607,
          0.37357214093208313,
          0.37372514605522156,
          0.3735487759113312,
          0.37436115741729736,
          0.3745102286338806,
          0.3744974732398987,
          0.37432152032852173,
          0.373816579580307,
          0.37513411045074463,
          0.375442236661911,
          0.37542882561683655,
          0.37509122490882874,
          0.3745897710323334,
          0.3757619559764862,
          0.3760637044906616,
          0.37620797753334045,
          0.3760329484939575,
          0.3758578896522522,
          0.3753599226474762,
          0.3767082393169403,
          0.3766891062259674,
          0.37682899832725525,
          0.37697067856788635,
          0.37679606676101685,
          0.37662145495414734,
          0.3761270046234131,
          0.37745991349220276,
          0.37743890285491943,
          0.3775750398635864,
          0.3777129650115967,
          0.3775383532047272,
          0.3775213360786438,
          0.37718909978866577,
          0.3766975402832031,
          0.37829455733299255,
          0.37827226519584656,
          0.37840545177459717,
          0.37838539481163025,
          0.3783662021160126,
          0.3781920373439789,
          0.3780178725719452,
          0.37768691778182983,
          0.37892794609069824,
          0.379055380821228,
          0.3790320158004761,
          0.37916257977485657,
          0.3791414201259613,
          0.3789672553539276,
          0.3789474368095398,
          0.37861892580986023,
          0.37828949093818665,
          0.3796088993549347,
          0.37988337874412537,
          0.37985873222351074,
          0.37983500957489014,
          0.3798121511936188,
          0.37979018688201904,
          0.37961646914482117,
          0.3794427216053009,
          0.3789619207382202,
          0.3780174255371094,
          0.38051605224609375,
          0.38063791394233704,
          0.38061219453811646,
          0.3805873692035675,
          0.3805634379386902,
          0.3803897202014923,
          0.38021597266197205,
          0.38004225492477417,
          0.379564493894577,
          0.3787800967693329,
          0.3811935782432556,
          0.38145923614501953,
          0.38128462433815,
          0.381258100271225,
          0.38123244047164917,
          0.3810587227344513,
          0.38088497519493103,
          0.38071125745773315,
          0.38038724660873413,
          0.37976083159446716,
          0.3817613422870636,
          0.3820211887359619,
          0.3819919526576996,
          0.3819636404514313,
          0.3819361925125122,
          0.38176247477531433,
          0.38158875703811646,
          0.3814150094985962,
          0.3812412917613983,
          0.38076967000961304,
          0.37984809279441833,
          0.38265693187713623,
          0.3827691674232483,
          0.38273885846138,
          0.38270944356918335,
          0.3825357258319855,
          0.38250765204429626,
          0.3823343515396118,
          0.38201454281806946,
          0.3818408250808716,
          0.38137224316596985,
          0.38287222385406494,
          0.3834044635295868,
          0.38351407647132874,
          0.3834826946258545,
          0.3833089768886566,
          0.38327890634536743,
          0.38310563564300537,
          0.3829323351383209,
          0.38261404633522034,
          0.38244032859802246,
          0.3818289339542389,
          0.3836592733860016,
          0.3841838538646698,
          0.384149968624115,
          0.3841169774532318,
          0.38394322991371155,
          0.3839115500450134,
          0.38373827934265137,
          0.3835650086402893,
          0.38324832916259766,
          0.3830746114253998,
          0.38261231780052185,
          0.384443074464798,
          0.384821355342865,
          0.38478586077690125,
          0.38475123047828674,
          0.38471749424934387,
          0.3845442235469818,
          0.38437092304229736,
          0.3841976523399353,
          0.38402435183525085,
          0.3837088644504547,
          0.38324981927871704,
          0.38235974311828613,
          0.38552871346473694,
          0.38549140095710754,
          0.3854549825191498,
          0.38541945815086365,
          0.3852461576461792,
          0.38507288694381714,
          0.3848995864391327,
          0.38472631573677063,
          0.38441261649131775,
          0.38409802317619324,
          0.38349995017051697,
          0.38596591353416443,
          0.38619697093963623,
          0.3861587345600128,
          0.38598501682281494,
          0.38594815135002136,
          0.3857748508453369,
          0.38560158014297485,
          0.3854282796382904,
          0.38525500893592834,
          0.3849426507949829,
          0.38448992371559143,
          0.3863123655319214,
          0.3868037164211273,
          0.38676318526268005,
          0.38672351837158203,
          0.38668474555015564,
          0.3865114748477936,
          0.38647404313087463,
          0.386301189661026,
          0.3859916031360626,
          0.38581833243370056,
          0.3855074346065521,
          0.38478145003318787,
          0.38715073466300964,
          0.38750356435775757,
          0.3874620199203491,
          0.38728830218315125,
          0.38724809885025024,
          0.3872087597846985,
          0.38703593611717224,
          0.3868630826473236,
          0.3865549564361572,
          0.3862459361553192,
          0.38593602180480957,
          0.3850787281990051,
          0.3879833221435547,
          0.3880697786808014,
          0.38802680373191833,
          0.3879847228527069,
          0.38781142234802246,
          0.3877706527709961,
          0.38759782910346985,
          0.3874249756336212,
          0.38711827993392944,
          0.38681069016456604,
          0.3863674998283386,
          0.38824915885925293,
          0.3887162208557129,
          0.38867083191871643,
          0.3886263072490692,
          0.388582706451416,
          0.38853996992111206,
          0.3883671164512634,
          0.3881942927837372,
          0.38802143931388855,
          0.38771626353263855,
          0.3874102234840393,
          0.38683685660362244,
          0.38898617029190063,
          0.38944604992866516,
          0.38927188515663147,
          0.3892258405685425,
          0.3891806900501251,
          0.3891364336013794,
          0.38896358013153076,
          0.3887907564640045,
          0.3886179029941559,
          0.38831427693367004,
          0.3880097568035126,
          0.3873092830181122,
          0.38975533843040466,
          0.3900819420814514,
          0.3900338411331177,
          0.3898600935935974,
          0.3898133337497711,
          0.38976746797561646,
          0.3895946145057678,
          0.3895500600337982,
          0.38924893736839294,
          0.38894692063331604,
          0.3886440098285675,
          0.38795003294944763,
          0.39039769768714905,
          0.3907178044319153,
          0.3906680941581726,
          0.39049437642097473,
          0.3904459774494171,
          0.3903985023498535,
          0.3903518617153168,
          0.39017948508262634,
          0.38987997174263,
          0.38957956433296204,
          0.38927826285362244,
          0.38871920108795166,
          0.39104005694389343,
          0.39135369658470154,
          0.3913023769855499,
          0.39112862944602966,
          0.3910786211490631,
          0.3910295069217682,
          0.3909812867641449,
          0.3908088803291321,
          0.39051100611686707,
          0.39021220803260803,
          0.38991254568099976,
          0.3893583416938782,
          0.391477108001709,
          0.39190372824668884,
          0.39185023307800293,
          0.39179766178131104,
          0.391745924949646,
          0.391695111989975,
          0.3916451632976532,
          0.39147278666496277,
          0.39130038022994995,
          0.3908795118331909,
          0.39058154821395874,
          0.3901575803756714,
          0.3893551528453827,
          0.3925761580467224,
          0.3925209641456604,
          0.39246666431427,
          0.3924132287502289,
          0.39236071705818176,
          0.3923090696334839,
          0.39213666319847107,
          0.39196428656578064,
          0.3916693329811096,
          0.39137354493141174,
          0.3909534215927124,
          0.3901599645614624,
          0.3931313157081604,
          0.39319169521331787,
          0.393135666847229,
          0.39308056235313416,
          0.39302632212638855,
          0.3929729759693146,
          0.39280056953430176,
          0.39262816309928894,
          0.3923349380493164,
          0.39204084873199463,
          0.3916241526603699,
          0.3909613788127899,
          0.3935742974281311,
          0.39386239647865295,
          0.3938046991825104,
          0.39374786615371704,
          0.39369192719459534,
          0.3936368525028229,
          0.39346444606781006,
          0.39329206943511963,
          0.3930005431175232,
          0.3927081525325775,
          0.3924148678779602,
          0.39175936579704285,
          0.394137978553772,
          0.3945331275463104,
          0.39447370171546936,
          0.3944151699542999,
          0.39435750246047974,
          0.39430075883865356,
          0.39412835240364075,
          0.39395594596862793,
          0.39366614818573,
          0.3933754563331604,
          0.3930838704109192,
          0.3925539255142212,
          0.3948590159416199,
          0.39513418078422546,
          0.39507320523262024,
          0.39501315355300903,
          0.39495396614074707,
          0.39489567279815674,
          0.3947232663631439,
          0.3945508897304535,
          0.3942626118659973,
          0.3939734399318695,
          0.39368337392807007,
          0.39315804839134216,
          0.39557698369026184,
          0.3957352340221405,
          0.3956727385520935,
          0.39561113715171814,
          0.3956630229949951,
          0.3954906165599823,
          0.3953182101249695,
          0.39514580368995667,
          0.39485907554626465,
          0.3945714235305786,
          0.39428290724754333,
          0.39353078603744507,
          0.3962918817996979,
          0.39644598960876465,
          0.3963824212551117,
          0.39631974697113037,
          0.3962579369544983,
          0.3960855305194855,
          0.39591315388679504,
          0.3957407474517822,
          0.395455539226532,
          0.3951694071292877,
          0.39476871490478516,
          0.3940238058567047,
          0.39689600467681885,
          0.3970454931259155,
          0.3969804048538208,
          0.3969162106513977,
          0.39685288071632385,
          0.39668047428131104,
          0.3965080678462982,
          0.3963356614112854,
          0.3960520029067993,
          0.3957674205303192,
          0.3952575922012329,
          0.39732256531715393,
          0.3976777195930481,
          0.39761027693748474,
          0.397543728351593,
          0.3975857198238373,
          0.39741331338882446,
          0.39724093675613403,
          0.3970685303211212,
          0.39678671956062317,
          0.3965040147304535,
          0.39622044563293457,
          0.39571452140808105,
          0.39810484647750854,
          0.3982439339160919,
          0.3982803523540497,
          0.39821282029151917,
          0.3981461822986603,
          0.39797377586364746,
          0.39780136942863464,
          0.3976289927959442,
          0.3973486125469208,
          0.3970673680305481,
          0.3966763913631439,
          0.39595574140548706,
          0.3988133668899536,
          0.3989483118057251,
          0.3988783657550812,
          0.3988092839717865,
          0.39874109625816345,
          0.398568719625473,
          0.3983963131904602,
          0.3982239067554474,
          0.3979450762271881,
          0.3976653516292572,
          0.3972774147987366,
          0.39645665884017944,
          0.3994174599647522,
          0.399547815322876,
          0.3994763493537903,
          0.39940574765205383,
          0.399336040019989,
          0.3991636335849762,
          0.39899125695228577,
          0.39881885051727295,
          0.39854153990745544,
          0.3981580138206482,
          0.3977726697921753,
          0.39976370334625244,
          0.4001864194869995,
          0.40021297335624695,
          0.4001404941082001,
          0.40006887912750244,
          0.399896502494812,
          0.3997240960597992,
          0.3995516896247864,
          0.3992762863636017,
          0.398999959230423,
          0.398722767829895,
          0.3980272710323334,
          0.40069571137428284,
          0.4008163511753082,
          0.4007416367530823,
          0.40066781640052795,
          0.4005948603153229,
          0.40052279829978943,
          0.40025007724761963,
          0.4000776708126068,
          0.39980360865592957,
          0.39942651987075806,
          0.3990476727485657,
          0.40111586451530457,
          0.4014233350753784,
          0.40144360065460205,
          0.40136799216270447,
          0.40129324793815613,
          0.4012193977832794,
          0.4009484350681305,
          0.4007760286331177,
          0.4005037546157837,
          0.40023061633110046,
          0.3998557925224304,
          0.401700496673584,
          0.40199899673461914,
          0.4020153880119324,
          0.4019376337528229,
          0.40195712447166443,
          0.4018815755844116,
          0.4017096161842346,
          0.40143993496894836,
          0.4011693596839905,
          0.40089792013168335,
          0.4006255567073822,
          0.399854838848114,
          0.40263649821281433,
          0.4026496708393097,
          0.40257027745246887,
          0.40258654952049255,
          0.4025093615055084,
          0.4023374021053314,
          0.4020693600177765,
          0.40180039405822754,
          0.40153056383132935,
          0.4012598395347595,
          0.4004988372325897,
          0.4032739996910095,
          0.4032839238643646,
          0.40320292115211487,
          0.4032159447669983,
          0.4031371474266052,
          0.40287116169929504,
          0.4026987552642822,
          0.4024314284324646,
          0.40216320753097534,
          0.401798278093338,
          0.40114280581474304,
          0.4039115011692047,
          0.40391820669174194,
          0.40383556485176086,
          0.4038453698158264,
          0.4036729633808136,
          0.4035005569458008,
          0.40332818031311035,
          0.40306246280670166,
          0.40279585123062134,
          0.40243417024612427,
          0.40178677439689636,
          0.4045490026473999,
          0.4045524597167969,
          0.40446820855140686,
          0.40447476506233215,
          0.4043023884296417,
          0.4041299819946289,
          0.4039575755596161,
          0.4036934971809387,
          0.40342849493026733,
          0.4030700623989105,
          0.4024307429790497,
          0.4051865041255951,
          0.4051867425441742,
          0.40510085225105286,
          0.4051041901111603,
          0.40493178367614746,
          0.40475937724113464,
          0.4045870006084442,
          0.4043245315551758,
          0.40406113862991333,
          0.4037059247493744,
          0.403074711561203,
          0.4058240056037903,
          0.4058209955692291,
          0.40573349595069885,
          0.4057336151599884,
          0.4055612087249756,
          0.40538880228996277,
          0.40521639585494995,
          0.40495553612709045,
          0.4046938121318817,
          0.40434181690216064,
          0.40618425607681274,
          0.4065104126930237,
          0.40642049908638,
          0.40633150935173035,
          0.4063285291194916,
          0.40615612268447876,
          0.40598374605178833,
          0.4057248532772064,
          0.4055519998073578,
          0.4052917957305908,
          0.4049428701400757,
          0.4068763554096222,
          0.4071114659309387,
          0.4071027636528015,
          0.4070126712322235,
          0.40692347288131714,
          0.4067510664463043,
          0.4065786600112915,
          0.40632131695747375,
          0.4060630798339844,
          0.40580394864082336,
          0.4053713381290436,
          0.4075653851032257,
          0.40771251916885376,
          0.407700777053833,
          0.40760913491249084,
          0.4075183868408203,
          0.4073460102081299,
          0.40709060430526733,
          0.4069177806377411,
          0.4066610634326935,
          0.40640345215797424,
          0.40589070320129395,
          0.4082513451576233,
          0.4083928167819977,
          0.4082987606525421,
          0.4082055985927582,
          0.40803274512290955,
          0.4078599214553833,
          0.40768706798553467,
          0.4075142443180084,
          0.4072590470314026,
          0.4070029854774475,
          0.40641310811042786,
          0.40893423557281494,
          0.40899232029914856,
          0.4088967442512512,
          0.4088020622730255,
          0.4086292088031769,
          0.40845638513565063,
          0.408283531665802,
          0.40811070799827576,
          0.4078570306301117,
          0.40752124786376953,
          0.40685686469078064,
          0.40957337617874146,
          0.4096266031265259,
          0.4095293879508972,
          0.4094330966472626,
          0.40926024317741394,
          0.4090874195098877,
          0.40891456604003906,
          0.40874171257019043,
          0.4084896743297577,
          0.4081571400165558,
          0.4075024724006653,
          0.41025158762931824,
          0.41022610664367676,
          0.4101274013519287,
          0.4100295603275299,
          0.4098567068576813,
          0.40968388319015503,
          0.4095110297203064,
          0.40926095843315125,
          0.4090876877307892,
          0.40875816345214844,
          0.4106680452823639,
          0.4109267592430115,
          0.4108986556529999,
          0.4107988476753235,
          0.41062602400779724,
          0.4104531705379486,
          0.41028034687042236,
          0.41010749340057373,
          0.40985894203186035,
          0.40960952639579773,
          0.4092060625553131,
          0.4113488793373108,
          0.4115278124809265,
          0.41149666905403137,
          0.4113953113555908,
          0.4112224876880646,
          0.41104963421821594,
          0.4108767807483673,
          0.41070395708084106,
          0.41045695543289185,
          0.410209059715271,
          0.4098101854324341,
          0.41202667355537415,
          0.41212886571884155,
          0.4120946526527405,
          0.41199177503585815,
          0.4118189513683319,
          0.4116460978984833,
          0.41147324442863464,
          0.4113004207611084,
          0.41105493903160095,
          0.4108085632324219,
          0.4103407561779022,
          0.41270139813423157,
          0.4127979278564453,
          0.4126926362514496,
          0.4125882387161255,
          0.412484735250473,
          0.4123123288154602,
          0.412069708108902,
          0.4118262231349945,
          0.41165292263031006,
          0.4113365411758423,
          0.4108743965625763,
          0.41337308287620544,
          0.4133974313735962,
          0.4132906198501587,
          0.4131847023963928,
          0.4130796790122986,
          0.41290727257728577,
          0.4126661717891693,
          0.4124242067337036,
          0.41225090622901917,
          0.4119375944137573,
          0.4114815592765808,
          0.41394779086112976,
          0.4140317142009735,
          0.4139232635498047,
          0.4138157367706299,
          0.4137090742588043,
          0.4135366678237915,
          0.41329720616340637,
          0.4131243824958801,
          0.41288357973098755,
          0.4125734865665436,
          0.41219276189804077,
          0.4145885109901428,
          0.41466596722602844,
          0.41455593705177307,
          0.41444677114486694,
          0.41433849930763245,
          0.41416609287261963,
          0.41392824053764343,
          0.4137553870677948,
          0.41351622343063354,
          0.41320937871932983,
          0.4128335118293762,
          0.41516807675361633,
          0.415238618850708,
          0.41518858075141907,
          0.415077805519104,
          0.4149678945541382,
          0.41479548811912537,
          0.41462311148643494,
          0.41438642144203186,
          0.41414886713027954,
          0.4139104187488556,
          0.413539856672287,
          0.4157620668411255,
          0.4158843457698822,
          0.41583025455474854,
          0.41577795147895813,
          0.41566628217697144,
          0.4154938757419586,
          0.4153214693069458,
          0.4150865972042084,
          0.4148508310317993,
          0.41461417078971863,
          0.4143766164779663,
          0.41394543647766113,
          0.41641759872436523,
          0.4164755642414093,
          0.41641920804977417,
          0.416305273771286,
          0.4161922335624695,
          0.41601985692977905,
          0.41584745049476624,
          0.41561391949653625,
          0.41537949442863464,
          0.4151442050933838,
          0.4148455560207367,
          0.41435641050338745,
          0.4171244204044342,
          0.41706404089927673,
          0.4170054495334625,
          0.41689062118530273,
          0.4167182147502899,
          0.4165458083152771,
          0.41631409525871277,
          0.4160814583301544,
          0.41590818762779236,
          0.41567423939704895,
          0.415317177772522,
          0.41764751076698303,
          0.417692095041275,
          0.41768449544906616,
          0.41756734251976013,
          0.41745108366012573,
          0.4172786772251129,
          0.4171062707901001,
          0.4168759882450104,
          0.41664478182792664,
          0.41641274094581604,
          0.4161797761917114,
          0.4157669246196747,
          0.41834598779678345,
          0.418332576751709,
          0.4182131886482239,
          0.418094664812088,
          0.4179770350456238,
          0.41780462861061096,
          0.41763225197792053,
          0.41740331053733826,
          0.41717347502708435,
          0.4169427454471588,
          0.41665327548980713,
          0.41888391971588135,
          0.4189670979976654,
          0.4188973605632782,
          0.41882941126823425,
          0.4186565577983856,
          0.4185374975204468,
          0.41836509108543396,
          0.4181380271911621,
          0.417910099029541,
          0.41773679852485657,
          0.417507529258728,
          0.41716450452804565,
          0.4194736182689667,
          0.41955047845840454,
          0.41947847604751587,
          0.41935673356056213,
          0.41923585534095764,
          0.4190634787082672,
          0.4188382029533386,
          0.41866534948349,
          0.41843876242637634,
          0.41821128129959106,
          0.41798293590545654,
          0.4174782633781433,
          0.420158326625824,
          0.4201311469078064,
          0.4200071692466736,
          0.41988405585289,
          0.4197618365287781,
          0.41953837871551514,
          0.4193655252456665,
          0.4191407263278961,
          0.41896745562553406,
          0.4187413156032562,
          0.41840773820877075,
          0.420738160610199,
          0.42075255513191223,
          0.42067447304725647,
          0.420501172542572,
          0.42037680745124817,
          0.42020395398139954,
          0.4200311303138733,
          0.419808030128479,
          0.41963475942611694,
          0.4194103181362152,
          0.4191334545612335,
          0.42132481932640076,
          0.421331524848938,
          0.4212954342365265,
          0.4211684763431549,
          0.42104241251945496,
          0.4208695590496063,
          0.4206967353820801,
          0.4204753339290619,
          0.42030206322669983,
          0.4200793504714966,
          0.4198557436466217,
          0.41937968134880066,
          0.4219706356525421,
          0.42188501358032227,
          0.4218011200428009,
          0.421673446893692,
          0.4215005934238434,
          0.42132776975631714,
          0.4211079776287079,
          0.4209347069263458,
          0.4207136034965515,
          0.42049163579940796,
          0.4200252890586853,
          0.42253202199935913,
          0.42244288325309753,
          0.4223991334438324,
          0.42226991057395935,
          0.4220970571041107,
          0.42187926173210144,
          0.4217059910297394,
          0.42153269052505493,
          0.4213131368160248,
          0.4210459589958191,
          0.4231258034706116,
          0.42307382822036743,
          0.4230245053768158,
          0.42289313673973083,
          0.4227626621723175,
          0.4225465655326843,
          0.42237329483032227,
          0.4221999943256378,
          0.42198213934898376,
          0.4217633903026581,
          0.42373037338256836,
          0.4236730933189392,
          0.42361849546432495,
          0.42352578043937683,
          0.42335250973701477,
          0.4231792092323303,
          0.42300593852996826,
          0.42279013991355896,
          0.4226164221763611,
          0.42235589027404785,
          0.4243405759334564,
          0.4242404103279114,
          0.4241807758808136,
          0.4241237938404083,
          0.4239504933357239,
          0.4237772226333618,
          0.42360392212867737,
          0.42338964343070984,
          0.42321592569351196,
          0.42291659116744995,
          0.42488133907318115,
          0.4247790575027466,
          0.4247160851955414,
          0.42461779713630676,
          0.4244445264339447,
          0.4242323935031891,
          0.4240586757659912,
          0.42388492822647095,
          0.4235907196998596,
          0.4254903197288513,
          0.42538437247276306,
          0.42531606554985046,
          0.42521411180496216,
          0.4250403940677643,
          0.4248666763305664,
          0.42469292879104614,
          0.4244810938835144,
          0.42419129610061646,
          0.4260298013687134,
          0.42595523595809937,
          0.4258488118648529,
          0.4256742000579834,
          0.4255349934101105,
          0.4253966808319092,
          0.4251866638660431,
          0.42493897676467896,
          0.42664003372192383,
          0.42652830481529236,
          0.42638537287712097,
          0.4262433350086212,
          0.4261021614074707,
          0.4259275496006012,
          0.4257529377937317,
          0.4254726469516754,
          0.42706918716430664,
          0.426955908536911,
          0.4267804026603699,
          0.42663735151290894,
          0.4264622926712036,
          0.42625391483306885,
          0.42768365144729614,
          0.4275367558002472,
          0.4273907542228699,
          0.4272456467151642,
          0.42707014083862305,
          0.4268312156200409,
          0.428117036819458,
          0.4279690682888031,
          0.4278219938278198,
          0.42761629819869995,
          0.42855045199394226,
          0.4283736050128937,
          0.4290192127227783
         ],
         "y": [
          0.1302182674407959,
          0.1339268684387207,
          0.1296071857213974,
          0.13250459730625153,
          0.135721355676651,
          0.12705636024475098,
          0.12996651232242584,
          0.1330137997865677,
          0.1362224817276001,
          0.13980241119861603,
          0.12758344411849976,
          0.1303190290927887,
          0.13334845006465912,
          0.136720210313797,
          0.14029546082019806,
          0.12518760561943054,
          0.12795041501522064,
          0.13082949817180634,
          0.13402201235294342,
          0.1372145265340805,
          0.1407850980758667,
          0.12249452620744705,
          0.12556904554367065,
          0.12846896052360535,
          0.13133656978607178,
          0.1345209926366806,
          0.13770543038845062,
          0.14127133786678314,
          0.1205950379371643,
          0.12367431074380875,
          0.1265837699174881,
          0.1294608861207962,
          0.13264530897140503,
          0.1356518417596817,
          0.13901416957378387,
          0.14258672297000885,
          0.11984952539205551,
          0.12292223423719406,
          0.1258266717195511,
          0.12885896861553192,
          0.13187509775161743,
          0.1350514441728592,
          0.13822779059410095,
          0.14159667491912842,
          0.11744102090597153,
          0.12039053440093994,
          0.12345346808433533,
          0.1263463944196701,
          0.12936890125274658,
          0.13254526257514954,
          0.13554352521896362,
          0.13889794051647186,
          0.14226853847503662,
          0.116831474006176,
          0.11964790523052216,
          0.12270427495241165,
          0.12574449181556702,
          0.12876851856708527,
          0.13177640736103058,
          0.13494466245174408,
          0.13811293244361877,
          0.14166662096977234,
          0.14585502445697784,
          0.11725233495235443,
          0.12018532305955887,
          0.1232319101691246,
          0.1262623369693756,
          0.1292765885591507,
          0.1324448436498642,
          0.1356131136417389,
          0.1387813687324524,
          0.14233846962451935,
          0.14633290469646454,
          0.11664583534002304,
          0.1194455698132515,
          0.12263000011444092,
          0.1256619393825531,
          0.12867772579193115,
          0.13184599578380585,
          0.13501425087451935,
          0.13818252086639404,
          0.1415436714887619,
          0.14532293379306793,
          0.11552269011735916,
          0.11833994090557098,
          0.12139119952917099,
          0.12442628294229507,
          0.12744522094726562,
          0.13061347603797913,
          0.13378173112869263,
          0.13695000112056732,
          0.14011825621128082,
          0.14368218183517456,
          0.1478961706161499,
          0.11594778299331665,
          0.11887862533330917,
          0.12192009389400482,
          0.12494540214538574,
          0.12811365723609924,
          0.13111472129821777,
          0.1342748999595642,
          0.13761845231056213,
          0.14078670740127563,
          0.14435404539108276,
          0.11390411853790283,
          0.1164945438504219,
          0.11941389739513397,
          0.12244558334350586,
          0.12561383843421936,
          0.12862128019332886,
          0.1317814588546753,
          0.13494163751602173,
          0.13828688859939575,
          0.14145515859127045,
          0.14522713422775269,
          0.11381912231445312,
          0.11640102416276932,
          0.11944878101348877,
          0.1224803775548935,
          0.125648632645607,
          0.12865598499774933,
          0.13181616365909576,
          0.1349763423204422,
          0.1383216828107834,
          0.14148995280265808,
          0.14506086707115173,
          0.1137339398264885,
          0.11643598973751068,
          0.11948366463184357,
          0.12251516431570053,
          0.12553051114082336,
          0.1286906898021698,
          0.13185086846351624,
          0.13501104712486267,
          0.1381712257862091,
          0.14152474701404572,
          0.1450958400964737,
          0.14932774007320404,
          0.11519718915224075,
          0.11824800074100494,
          0.121282659471035,
          0.12430114299058914,
          0.12746132910251617,
          0.13062149286270142,
          0.13378167152404785,
          0.13694186508655548,
          0.140292227268219,
          0.14365875720977783,
          0.147454172372818,
          0.11420316249132156,
          0.11701234430074692,
          0.12005013972520828,
          0.12321840971708298,
          0.12623195350170135,
          0.1293921321630478,
          0.13255231082439423,
          0.13571248948574066,
          0.1388726681470871,
          0.14222797751426697,
          0.14580266177654266,
          0.11267083883285522,
          0.11526712775230408,
          0.11831776797771454,
          0.12135224044322968,
          0.12437054514884949,
          0.12753072381019592,
          0.13052478432655334,
          0.13367688655853271,
          0.13701127469539642,
          0.14017145335674286,
          0.14353007078170776,
          0.14752447605133057,
          0.1137542873620987,
          0.1164468377828598,
          0.11948607861995697,
          0.12265433371067047,
          0.12566933035850525,
          0.1286681443452835,
          0.13182023167610168,
          0.13497233390808105,
          0.138310045003891,
          0.14166390895843506,
          0.14503394067287445,
          0.149259552359581,
          0.11482445150613785,
          0.11775226145982742,
          0.12078817188739777,
          0.12380792200565338,
          0.12696810066699982,
          0.12996359169483185,
          0.13311569392681122,
          0.1362677961587906,
          0.13960881531238556,
          0.14296600222587585,
          0.1465444564819336,
          0.11277707666158676,
          0.11537203937768936,
          0.11842241138219833,
          0.12145661562681198,
          0.1244746595621109,
          0.1274765282869339,
          0.13062863051891327,
          0.13378073275089264,
          0.13693282008171082,
          0.14027555286884308,
          0.14363445341587067,
          0.14742310345172882,
          0.11333786696195602,
          0.11591621488332748,
          0.11909256130456924,
          0.1221250593662262,
          0.12514139711856842,
          0.12814156711101532,
          0.1312936693429947,
          0.13444575667381287,
          0.13759785890579224,
          0.1409423053264618,
          0.14430288970470428,
          0.14830517768859863,
          0.11325350403785706,
          0.11595109850168228,
          0.11899159103631973,
          0.12215985357761383,
          0.1251761019229889,
          0.12817618250846863,
          0.131328284740448,
          0.13430412113666534,
          0.13763247430324554,
          0.14097701013088226,
          0.14433768391609192,
          0.14834032952785492,
          0.11328873783349991,
          0.11598597466945648,
          0.11902638524770737,
          0.12219464778900146,
          0.12521080672740936,
          0.12821079790592194,
          0.13119462132453918,
          0.1343386471271515,
          0.13766708970069885,
          0.14101170003414154,
          0.14437247812747955,
          0.14816679060459137,
          0.11332397162914276,
          0.11602085828781128,
          0.119061179459095,
          0.1222294420003891,
          0.12524551153182983,
          0.12824541330337524,
          0.13122914731502533,
          0.13437317311763763,
          0.13770170509815216,
          0.141046404838562,
          0.1444072723388672,
          0.1482018530368805,
          0.11295414716005325,
          0.11554688960313797,
          0.11859681457281113,
          0.12163057923316956,
          0.12464817613363266,
          0.12764960527420044,
          0.1306348741054535,
          0.1337788999080658,
          0.1369229108095169,
          0.14044907689094543,
          0.14380840957164764,
          0.1473911702632904,
          0.15165220201015472,
          0.11494497209787369,
          0.11799643188714981,
          0.12103171646595001,
          0.12405084818601608,
          0.12705381214618683,
          0.13004060089588165,
          0.13318461179733276,
          0.13632863759994507,
          0.13966219127178192,
          0.1430119276046753,
          0.14658352732658386,
          0.15082885324954987,
          0.11446642130613327,
          0.1173960417509079,
          0.12043286114931107,
          0.12345351278781891,
          0.12645800411701202,
          0.12944632768630981,
          0.13259033858776093,
          0.13573434948921204,
          0.13906638324260712,
          0.14241459965705872,
          0.14598314464092255,
          0.15000855922698975,
          0.11410665512084961,
          0.11679565161466599,
          0.11983399838209152,
          0.12285618484020233,
          0.12586219608783722,
          0.12885203957557678,
          0.1319960653781891,
          0.1351400762796402,
          0.1384705901145935,
          0.14181725680828094,
          0.1451800912618637,
          0.14919131994247437,
          0.11362046748399734,
          0.11619526147842407,
          0.11923513561487198,
          0.12225884944200516,
          0.12526638805866241,
          0.12825776636600494,
          0.13140179216861725,
          0.13454580307006836,
          0.1378747820854187,
          0.14121992886066437,
          0.14458124339580536,
          0.14837713539600372,
          0.11417712271213531,
          0.11686541140079498,
          0.11990358680486679,
          0.12292558699846268,
          0.12593142688274384,
          0.12892109155654907,
          0.13206511735916138,
          0.1352091282606125,
          0.13853982090950012,
          0.1418866664171219,
          0.14524967968463898,
          0.14905069768428802,
          0.11473037302494049,
          0.11753556877374649,
          0.120572030544281,
          0.1235923320055008,
          0.12644042074680328,
          0.1295844316482544,
          0.1327284425497055,
          0.1358724683523178,
          0.13920484483242035,
          0.1425534039735794,
          0.1459181308746338,
          0.15014950931072235,
          0.11528021842241287,
          0.11807221174240112,
          0.12109889090061188,
          0.12410939484834671,
          0.1271037459373474,
          0.13024775683879852,
          0.13339176774024963,
          0.13653579354286194,
          0.13986988365650177,
          0.14322015643119812,
          0.14679281413555145,
          0.15104080736637115,
          0.11595378071069717,
          0.11874065548181534,
          0.1217656284570694,
          0.12477443367242813,
          0.12776707112789154,
          0.13091108202934265,
          0.13405510783195496,
          0.13719911873340607,
          0.1405349224805832,
          0.14388689398765564,
          0.1476709246635437,
          0.1144404411315918,
          0.11700493842363358,
          0.12004275619983673,
          0.12306440621614456,
          0.12591518461704254,
          0.12905919551849365,
          0.13220322132110596,
          0.13534723222255707,
          0.13867828249931335,
          0.14202548563480377,
          0.14538885653018951,
          0.14919093251228333,
          0.11551108956336975,
          0.1183103621006012,
          0.1212029978632927,
          0.12421324104070663,
          0.12720732390880585,
          0.13035133481025696,
          0.13349536061286926,
          0.13663937151432037,
          0.1399737298488617,
          0.14332427084445953,
          0.14689746499061584,
          0.1511467844247818,
          0.11605895310640335,
          0.11884503811597824,
          0.12186974287033081,
          0.12487827241420746,
          0.12787064909934998,
          0.1310146600008011,
          0.1341586858034134,
          0.1373026967048645,
          0.14063875377178192,
          0.14399100840091705,
          0.14756761491298676,
          0.1520417481660843,
          0.11673251539468765,
          0.11951348185539246,
          0.12253648042678833,
          0.12554331123828888,
          0.1285339742898941,
          0.1316780000925064,
          0.13482201099395752,
          0.13796602189540863,
          0.14130379259586334,
          0.14485958218574524,
          0.1484476923942566,
          0.1153494268655777,
          0.11777973175048828,
          0.12067507207393646,
          0.12368666380643845,
          0.1266821026802063,
          0.1298261135816574,
          0.13297012448310852,
          0.13611415028572083,
          0.1394471526145935,
          0.1427963376045227,
          0.14616167545318604,
          0.15039615333080292,
          0.1168026328086853,
          0.11958306282758713,
          0.12260588258504868,
          0.1256125420331955,
          0.1286030262708664,
          0.13157735764980316,
          0.1348910629749298,
          0.13803507387638092,
          0.14137302339076996,
          0.14492915570735931,
          0.1485176384449005,
          0.11593909561634064,
          0.11848476529121399,
          0.12137652188539505,
          0.12438631802797318,
          0.12737995386123657,
          0.13035741448402405,
          0.1336679905653,
          0.1368120014667511,
          0.14014680683612823,
          0.1434977799654007,
          0.14707186818122864,
          0.11545566469430923,
          0.11801706999540329,
          0.12091995775699615,
          0.12393936514854431,
          0.12678568065166473,
          0.12976466119289398,
          0.13290059566497803,
          0.13621772825717926,
          0.13955099880695343,
          0.14290045201778412,
          0.14626605808734894,
          0.15071538090705872,
          0.11805204302072525,
          0.12095474451780319,
          0.12397406995296478,
          0.12682020664215088,
          0.12979911267757416,
          0.132935032248497,
          0.1362522542476654,
          0.13958561420440674,
          0.1429351568222046,
          0.14630085229873657,
          0.15075071156024933,
          0.11808700859546661,
          0.12098953872919083,
          0.12400877475738525,
          0.12685473263263702,
          0.12983354926109314,
          0.13314275443553925,
          0.13628678023815155,
          0.13962022960186005,
          0.14296986162662506,
          0.14654123783111572,
          0.15078602731227875,
          0.11812198162078857,
          0.12102433294057846,
          0.12404347956180573,
          0.12688925862312317,
          0.13003326952457428,
          0.1331772804260254,
          0.1363213062286377,
          0.13965484499931335,
          0.14300456643104553,
          0.14657612144947052,
          0.15082135796546936,
          0.11815694719552994,
          0.1210591271519661,
          0.1240781843662262,
          0.12692378461360931,
          0.13006779551506042,
          0.13321180641651154,
          0.13635583221912384,
          0.13968946039676666,
          0.1430392563343048,
          0.14661100506782532,
          0.15085668861865997,
          0.1181919202208519,
          0.12109392136335373,
          0.12411288917064667,
          0.12695831060409546,
          0.13010232150554657,
          0.13324633240699768,
          0.13639035820960999,
          0.13972407579421997,
          0.14307396113872528,
          0.14664588868618011,
          0.1508920043706894,
          0.11822689324617386,
          0.12112870812416077,
          0.12414759397506714,
          0.1269928365945816,
          0.13013684749603271,
          0.13328085839748383,
          0.13642488420009613,
          0.13975869119167328,
          0.14310866594314575,
          0.1466807723045349,
          0.11634853482246399,
          0.11876381933689117,
          0.12179715186357498,
          0.12481433153152466,
          0.12765616178512573,
          0.13080017268657684,
          0.13394419848918915,
          0.13727162778377533,
          0.1404237300157547,
          0.14377541840076447,
          0.14735090732574463,
          0.11690036952495575,
          0.11943396925926208,
          0.12232089042663574,
          0.12532827258110046,
          0.12831950187683105,
          0.13146349787712097,
          0.13460752367973328,
          0.13793666660785675,
          0.14128196239471436,
          0.14464344084262848,
          0.14843980967998505,
          0.11744878441095352,
          0.120104119181633,
          0.12298762798309326,
          0.12599331140518188,
          0.128982812166214,
          0.1321268379688263,
          0.1354495882987976,
          0.13860169053077698,
          0.14194871485233307,
          0.1453118771314621,
          0.1493244469165802,
          0.1179938018321991,
          0.12063422799110413,
          0.12365436553955078,
          0.1266583353281021,
          0.12981043756008148,
          0.13296252489089966,
          0.13611462712287903,
          0.1392667293548584,
          0.1426154524087906,
          0.1459803283214569,
          0.15021249651908875,
          0.11853539943695068,
          0.12130267173051834,
          0.1243211105465889,
          0.12732337415218353,
          0.1304754763841629,
          0.13362756371498108,
          0.13677966594696045,
          0.13993176817893982,
          0.1432821899652481,
          0.1468551754951477,
          0.15131844580173492,
          0.11857046186923981,
          0.12133746594190598,
          0.12435581535100937,
          0.12735798954963684,
          0.1305100917816162,
          0.1336621791124344,
          0.13681428134441376,
          0.13996638357639313,
          0.14331689476966858,
          0.1468900591135025,
          0.1513538509607315,
          0.11910856515169144,
          0.12200590968132019,
          0.12502256035804749,
          0.12802302837371826,
          0.13117511570453644,
          0.1343272179365158,
          0.13747932016849518,
          0.14082345366477966,
          0.1439836323261261,
          0.1475602090358734,
          0.11724139750003815,
          0.11964325606822968,
          0.12252911180257797,
          0.1255359649658203,
          0.12868806719779968,
          0.13184015452861786,
          0.13499225676059723,
          0.1381443589925766,
          0.14149019122123718,
          0.1448521912097931,
          0.1486501693725586,
          0.11779099702835083,
          0.12031340599060059,
          0.12319584935903549,
          0.12620098888874054,
          0.1293530911207199,
          0.13250519335269928,
          0.13565728068351746,
          0.13880938291549683,
          0.1421569287776947,
          0.1455206423997879,
          0.1493237316608429,
          0.11833717674016953,
          0.1209835559129715,
          0.12386259436607361,
          0.12686602771282196,
          0.13001812994480133,
          0.1331702172756195,
          0.13632231950759888,
          0.13947442173957825,
          0.14282366633415222,
          0.14618907868862152,
          0.15021060407161713,
          0.11887995153665543,
          0.12151142954826355,
          0.12452933192253113,
          0.12753106653690338,
          0.1305166333913803,
          0.13366064429283142,
          0.1369873583316803,
          0.1403302252292633,
          0.14349041879177094,
          0.1470644623041153,
          0.15110088884830475,
          0.11941931396722794,
          0.12217987328767776,
          0.12519606947898865,
          0.1281961053609848,
          0.13117995858192444,
          0.13432398438453674,
          0.13765239715576172,
          0.14099696278572083,
          0.14415715634822845,
          0.1477346122264862,
          0.15177786350250244,
          0.11959036439657211,
          0.1222146674990654,
          0.12523077428340912,
          0.1282307207584381,
          0.13121448457241058,
          0.1343585103750229,
          0.13768699765205383,
          0.1408390998840332,
          0.14419186115264893,
          0.147769495844841,
          0.1515962779521942,
          0.1196255162358284,
          0.12224945425987244,
          0.1252654790878296,
          0.12826533615589142,
          0.13124901056289673,
          0.13439303636550903,
          0.13772161304950714,
          0.1408737152814865,
          0.1442265659570694,
          0.1478043645620346,
          0.1516314297914505,
          0.11979682743549347,
          0.12242849916219711,
          0.12530018389225006,
          0.12829995155334473,
          0.13128353655338287,
          0.13442756235599518,
          0.1375715732574463,
          0.14090833067893982,
          0.14426127076148987,
          0.14763034880161285,
          0.15144957602024078,
          0.11881464719772339,
          0.12133394926786423,
          0.12421999871730804,
          0.1270737200975418,
          0.13006046414375305,
          0.13320447504520416,
          0.13634848594665527,
          0.1396821141242981,
          0.14303189516067505,
          0.14639782905578613,
          0.14977993071079254,
          0.15384401381015778,
          0.12050903588533401,
          0.12313353270292282,
          0.12600162625312805,
          0.12899959087371826,
          0.13198140263557434,
          0.13512541353702545,
          0.13826942443847656,
          0.14160798490047455,
          0.14496271312236786,
          0.1483335942029953,
          0.15193942189216614,
          0.15625818073749542,
          0.1220407783985138,
          0.1249232366681099,
          0.12777337431907654,
          0.13075831532478333,
          0.13390232622623444,
          0.13704635202884674,
          0.14038175344467163,
          0.14373333752155304,
          0.14689351618289948,
          0.15026932954788208,
          0.15410876274108887,
          0.12071765214204788,
          0.12334951758384705,
          0.126071035861969,
          0.12906882166862488,
          0.13205045461654663,
          0.13519446551799774,
          0.13833847641944885,
          0.14167721569538116,
          0.1450321227312088,
          0.14840316772460938,
          0.15179039537906647,
          0.15587492287158966,
          0.12225379049777985,
          0.12499282509088516,
          0.1280018538236618,
          0.13099469244480133,
          0.13397137820720673,
          0.13711540400981903,
          0.14025941491127014,
          0.14360308647155762,
          0.14696292579174042,
          0.15033891797065735,
          0.15395498275756836,
          0.1209266185760498,
          0.12341945618391037,
          0.12629492580890656,
          0.1291380524635315,
          0.13229015469551086,
          0.13526351749897003,
          0.13840752840042114,
          0.14174644649028778,
          0.14510151743888855,
          0.14826169610023499,
          0.15164101123809814,
          0.1554909497499466,
          0.12275367975234985,
          0.12521374225616455,
          0.12807124853134155,
          0.13106392323970795,
          0.13404043018817902,
          0.13718445599079132,
          0.14052021503448486,
          0.14367231726646423,
          0.14703233540058136,
          0.15040850639343262,
          0.1538008451461792,
          0.15837015211582184,
          0.12427447736263275,
          0.1269981563091278,
          0.13000206649303436,
          0.1329897940158844,
          0.1359613686800003,
          0.13929399847984314,
          0.14244608581066132,
          0.14580295979976654,
          0.14896315336227417,
          0.1523442566394806,
          0.15619955956935883,
          0.12396436929702759,
          0.12655404210090637,
          0.12940473854541779,
          0.13256490230560303,
          0.13554608821868896,
          0.13869819045066833,
          0.1418502777814865,
          0.14520563185214996,
          0.1483658105134964,
          0.15174539387226105,
          0.1553686410188675,
          0.12364814430475235,
          0.12626010179519653,
          0.12896870076656342,
          0.13196757435798645,
          0.13495028018951416,
          0.13810238242149353,
          0.1412544846534729,
          0.1446083039045334,
          0.14776848256587982,
          0.1511465311050415,
          0.1545407474040985,
          0.15912136435508728,
          0.12629516422748566,
          0.1291648894548416,
          0.13200227916240692,
          0.13498489558696747,
          0.13813699781894684,
          0.1412891000509262,
          0.14464300870895386,
          0.1478031873703003,
          0.15118132531642914,
          0.1545756310224533,
          0.15915678441524506,
          0.12712374329566956,
          0.1299981325864792,
          0.13266901671886444,
          0.1356499344110489,
          0.13880203664302826,
          0.14214956760406494,
          0.14530974626541138,
          0.1484699249267578,
          0.15184977650642395,
          0.15547354519367218,
          0.1268257349729538,
          0.1295577883720398,
          0.13224133849143982,
          0.1352318674325943,
          0.13820622861385345,
          0.14155222475528717,
          0.1447124183177948,
          0.14787259697914124,
          0.1512509137392044,
          0.1546453982591629,
          0.1270146369934082,
          0.12975451350212097,
          0.13244587182998657,
          0.13526657223701477,
          0.1384267508983612,
          0.14158692955970764,
          0.14474712312221527,
          0.14811745285987854,
          0.15128570795059204,
          0.15490660071372986,
          0.1276950240135193,
          0.13059313595294952,
          0.1332874596118927,
          0.1359333097934723,
          0.13909348845481873,
          0.14225366711616516,
          0.1454138606786728,
          0.14878588914871216,
          0.15195414423942566,
          0.15580646693706512,
          0.13014847040176392,
          0.1330253779888153,
          0.13569197058677673,
          0.13849616050720215,
          0.14165633916854858,
          0.1450187712907791,
          0.14818702638149261,
          0.15135528147220612,
          0.15520302951335907,
          0.13034571707248688,
          0.1332305371761322,
          0.1359049528837204,
          0.13871702551841736,
          0.14188529551029205,
          0.14505356550216675,
          0.14822182059288025,
          0.15160857141017914,
          0.15546467900276184,
          0.13231602311134338,
          0.1350160390138626,
          0.1378505825996399,
          0.14103500545024872,
          0.1440202295780182,
          0.14698930084705353,
          0.1503729224205017,
          0.15399613976478577,
          0.13299641013145447,
          0.13586795330047607,
          0.13889189064502716,
          0.14189967513084412,
          0.14489127695560455,
          0.14807571470737457,
          0.1512601375579834,
          0.15511998534202576,
          0.1373666375875473,
          0.14020727574825287,
          0.1434078812599182,
          0.1464042365550995,
          0.14959675073623657,
          0.15300963819026947,
          0.13758201897144318,
          0.1406187117099762,
          0.14363925158977509,
          0.14664360880851746,
          0.1498442143201828,
          0.1534857451915741,
          0.1414872258901596,
          0.14451414346694946,
          0.147524893283844,
          0.1509476602077484,
          0.14539246261119843,
          0.14861729741096497,
          0.14865271747112274
         ],
         "z": [
          -0.0019121811492368579,
          -0.0008615690167061985,
          -0.0019220361718907952,
          0.00011717805318767205,
          0.00016131608572322875,
          -0.001958506880328059,
          8.088943286566064e-05,
          0.0011224645422771573,
          0.0011664917692542076,
          -0.0007838821038603783,
          -0.0009530085371807218,
          0.002083765808492899,
          0.003125099465250969,
          0.0021715983748435974,
          0.00022115306637715548,
          -0.0019870889373123646,
          0.0010500699281692505,
          0.0030890845227986574,
          0.0031328897457569838,
          0.0031766952015459538,
          0.0012261783704161644,
          -0.0010257679969072342,
          1.6161870007636026e-05,
          0.0020554696675390005,
          0.004094333853572607,
          0.004138028249144554,
          0.004181722644716501,
          0.002231134567409754,
          -0.0010532980086281896,
          -1.129908469010843e-05,
          0.0020281467586755753,
          0.0040671490132808685,
          0.004110843408852816,
          0.005151873920112848,
          0.00419823219999671,
          0.0022477279417216778,
          -6.524286436615512e-05,
          0.0009766994044184685,
          0.0030160837341099977,
          0.004057441838085651,
          0.005098607856780291,
          0.0051421914249658585,
          0.005185774993151426,
          0.00423221942037344,
          -0.0010995081393048167,
          0.0009405020973645151,
          0.0019822840113192797,
          0.0040215179324150085,
          0.00506277522072196,
          0.005106358788907528,
          0.006147253327071667,
          0.005193525925278664,
          0.004239989910274744,
          -0.0011093384819105268,
          0.0019286113092675805,
          0.002970336936414242,
          0.004011810757219791,
          0.00505309272557497,
          0.006094122771173716,
          0.006137595511972904,
          0.006181068252772093,
          0.004230282735079527,
          -0.0007110981387086213,
          0.0008945235749706626,
          0.0029343217611312866,
          0.0039758868515491486,
          0.00501726008951664,
          0.006058381404727697,
          0.006101854145526886,
          0.006145326886326075,
          0.006188799161463976,
          0.004238053224980831,
          0.000293754565063864,
          0.0008847425342537463,
          0.003922485280781984,
          0.003966179676353931,
          0.00500757759436965,
          0.006048723589628935,
          0.0060921963304281235,
          0.006135668605566025,
          0.006179141346365213,
          0.005225494969636202,
          0.0022779947612434626,
          -0.00013192679034546018,
          0.00290609709918499,
          0.003947733901441097,
          0.004989177919924259,
          0.006030370946973562,
          0.006073843687772751,
          0.0061173164285719395,
          0.006160788703709841,
          0.006204261444509029,
          0.004253594670444727,
          -0.0006874905666336417,
          0.0018720190273597836,
          0.003911809995770454,
          0.004953345283865929,
          0.005994629580527544,
          0.006038102321326733,
          0.007079053670167923,
          0.007122415117919445,
          0.006168520078063011,
          0.0062119928188622,
          0.004261365160346031,
          -0.0021566147916018963,
          0.0028778724372386932,
          0.004917512647807598,
          0.005958888214081526,
          0.006002360954880714,
          0.00704340310767293,
          0.007086765021085739,
          0.0071301269344985485,
          0.0061762514524161816,
          0.006219723727554083,
          0.003272120375186205,
          -0.001159470877610147,
          0.0038749175146222115,
          0.004916546866297722,
          0.005957924760878086,
          0.006001397501677275,
          0.007042442448437214,
          0.007085803896188736,
          0.007129165809601545,
          0.006175287999212742,
          0.0062187607400119305,
          0.004268167540431023,
          -0.00016232211783062667,
          0.0038739494048058987,
          0.004915581084787846,
          0.005956961307674646,
          0.006998119875788689,
          0.007041481323540211,
          0.00708484323695302,
          0.007128204684704542,
          0.0071715665981173515,
          0.006217797286808491,
          0.0042671989649534225,
          -0.000673713511787355,
          0.003855503164231777,
          0.004897181876003742,
          0.005938609130680561,
          0.006979814264923334,
          0.007023175712674856,
          0.0070665376260876656,
          0.007109899073839188,
          0.007153260987251997,
          0.006199444644153118,
          0.005245849955826998,
          0.0022985052783042192,
          0.0018408031901344657,
          0.004878782667219639,
          0.0059202564880251884,
          0.005963729228824377,
          0.007004870101809502,
          0.007048232015222311,
          0.007091593462973833,
          0.0071349553763866425,
          0.007178317289799452,
          0.006224564742296934,
          0.004274001345038414,
          -0.0011810929281637073,
          0.003853566711768508,
          0.00489525031298399,
          0.005936682224273682,
          0.006977892480790615,
          0.007021253928542137,
          0.00806216150522232,
          0.008105412125587463,
          0.007151339203119278,
          0.0071947006508708,
          0.006240990478545427,
          0.002296558814123273,
          0.000831934274174273,
          0.004868134390562773,
          0.005909635219722986,
          0.005953107960522175,
          0.006994275841861963,
          0.008035251870751381,
          0.008078503422439098,
          0.008121754042804241,
          0.0071677230298519135,
          0.006213943473994732,
          0.005260386038571596,
          0.0003192835138179362,
          0.0028447937220335007,
          0.004884601570665836,
          0.005926060955971479,
          0.006967298220843077,
          0.007010659668594599,
          0.008051593787968159,
          0.008094844408333302,
          0.008138095960021019,
          0.007184106856584549,
          0.006230369210243225,
          0.004279835615307093,
          -0.001184034743346274,
          0.0038506616838276386,
          0.004892352502793074,
          0.0059337918646633625,
          0.006975009571760893,
          0.008016034960746765,
          0.008059285581111908,
          0.00810253620147705,
          0.008145787753164768,
          0.007191818207502365,
          0.006238100118935108,
          0.003290637396275997,
          -0.00017799668421503156,
          0.004856519866734743,
          0.004900103434920311,
          0.005941523239016533,
          0.006982720922678709,
          0.008023726753890514,
          0.008066977374255657,
          0.0081102279946208,
          0.008153478614985943,
          0.007199529558420181,
          0.006245831493288279,
          0.002301448956131935,
          0.0008192261448130012,
          0.004855554085224867,
          0.005897087045013905,
          0.005940559785813093,
          0.006981759797781706,
          0.008022768422961235,
          0.008066019043326378,
          0.009106664918363094,
          0.008152520284056664,
          0.007198568433523178,
          0.006244868040084839,
          0.002300475724041462,
          0.0008182504680007696,
          0.004854588303714991,
          0.005896123591810465,
          0.0059395963326096535,
          0.00698079913854599,
          0.008021809160709381,
          0.0090625686571002,
          0.009105708450078964,
          0.008151561953127384,
          0.007197607774287462,
          0.006243904586881399,
          0.0032964861020445824,
          0.0008172747911885381,
          0.004853622522205114,
          0.005895160138607025,
          0.005938632879406214,
          0.006979838013648987,
          0.008020850829780102,
          0.009061613120138645,
          0.009104752913117409,
          0.008150603622198105,
          0.007196646649390459,
          0.0062429411336779594,
          0.0032955154310911894,
          -0.001188937691040337,
          0.0038458202034235,
          0.004887523595243692,
          0.005928975064307451,
          0.006970204878598452,
          0.008011242374777794,
          0.009052028879523277,
          0.00909516867250204,
          0.009138308465480804,
          0.007187013514339924,
          0.006233283318579197,
          0.004282764624804258,
          -0.0006579507025890052,
          0.003836113028228283,
          0.004877840634435415,
          0.005919317249208689,
          0.006960571743547916,
          0.008001633919775486,
          0.00904244463890791,
          0.009085584431886673,
          0.009128724224865437,
          0.008174637332558632,
          0.007220741827040911,
          0.005270092282444239,
          0.00032911362359300256,
          0.002828266704455018,
          0.0048681581392884254,
          0.005909658968448639,
          0.006950938142836094,
          0.007992025464773178,
          0.009032860398292542,
          0.009076000191271305,
          0.009119140915572643,
          0.008165028877556324,
          0.0072111086919903755,
          0.005260409787297249,
          0.001316256821155548,
          0.0008221774478442967,
          0.004858475644141436,
          0.005900001153349876,
          0.006941305007785559,
          0.00798241700977087,
          0.009023277088999748,
          0.009066416881978512,
          0.009109556674957275,
          0.008155419491231441,
          0.00720147555693984,
          0.006247782148420811,
          0.0023034196346998215,
          -0.00018582178745418787,
          0.004848793148994446,
          0.005890343338251114,
          0.0069316718727350235,
          0.007972807623445988,
          0.00901369284838438,
          0.009056832641363144,
          0.009099972434341908,
          0.008145811036229134,
          0.007191841956228018,
          0.006238124333322048,
          0.003290661610662937,
          0.0008202260942198336,
          0.004856544081121683,
          0.005898074246942997,
          0.00693938322365284,
          0.007980499416589737,
          0.009021365083754063,
          0.009064504876732826,
          0.00910764466971159,
          0.008153502829372883,
          0.007199553307145834,
          0.006245855242013931,
          0.0032984516583383083,
          0.00182620482519269,
          0.0048642950132489204,
          0.005905805621296167,
          0.006947094574570656,
          0.008985896594822407,
          0.00902903638780117,
          0.009072176180779934,
          0.009115316905081272,
          0.008161194622516632,
          0.00720726465806365,
          0.006253586616367102,
          0.001312354113906622,
          0.0028321738354861736,
          0.005870064254850149,
          0.006911444012075663,
          0.007952632382512093,
          0.008993568830192089,
          0.009036708623170853,
          0.009079848416149616,
          0.00912298820912838,
          0.008168886415660381,
          0.007214976474642754,
          0.005264297593384981,
          0.00032324480707757175,
          0.0028399641159921885,
          0.005877795163542032,
          0.006919155828654766,
          0.007960324175655842,
          0.009001241065561771,
          0.009044380858540535,
          0.009087520651519299,
          0.009130660444498062,
          0.00817657820880413,
          0.00722268782556057,
          0.004275017883628607,
          -0.0001818848541006446,
          0.004852680489420891,
          0.0058942208997905254,
          0.006935539189726114,
          0.008974400348961353,
          0.009017540141940117,
          0.009060680866241455,
          0.009103820659220219,
          0.008149669505655766,
          0.007195709738880396,
          0.00624200189486146,
          0.0032945687416940928,
          0.0018310952000319958,
          0.004869148135185242,
          0.006908561568707228,
          0.00794975645840168,
          0.008990700356662273,
          0.009033840149641037,
          0.009076980873942375,
          0.009120120666921139,
          0.008166010491549969,
          0.007212093565613031,
          0.005261399783194065,
          0.0003203103842679411,
          0.002837051870301366,
          0.005874905269593,
          0.006916272919625044,
          0.00795744825154543,
          0.008998372592031956,
          0.00904151238501072,
          0.009084652177989483,
          0.009127791970968246,
          0.008173702284693718,
          0.0072198049165308475,
          0.005269150715321302,
          -0.0006687372224405408,
          0.0028448421508073807,
          0.0058826361782848835,
          0.00692398427054286,
          0.007965140044689178,
          0.009006044827401638,
          0.009049184620380402,
          0.009092324413359165,
          0.009135464206337929,
          0.008181394077837467,
          0.006230417173355818,
          0.004279883578419685,
          -0.0011751360725611448,
          0.004857534077018499,
          0.006897006183862686,
          0.007938231341540813,
          0.008979205042123795,
          0.009022344835102558,
          0.009065484628081322,
          0.009108624421060085,
          0.008154485374689102,
          0.00720053818076849,
          0.006246842909604311,
          0.0013055243762210011,
          0.002842900576069951,
          0.005880709271878004,
          0.006922062486410141,
          0.00796322338283062,
          0.009004132822155952,
          0.01004484947770834,
          0.00909041240811348,
          0.009133552201092243,
          0.008179477415978909,
          0.006228490266948938,
          0.0042779468931257725,
          -0.00017009851580951363,
          0.004864318761974573,
          0.0069037568755447865,
          0.007944964803755283,
          0.008985920809209347,
          0.01002668496221304,
          0.009072200395166874,
          0.009115340188145638,
          0.008161218836903572,
          0.00720728887245059,
          0.0052565704099833965,
          -0.0011780778877437115,
          0.00385654391720891,
          0.0058961715549230576,
          0.006937485188245773,
          0.008976336568593979,
          0.010017124935984612,
          0.010060153901576996,
          0.00910575594753027,
          0.00815160945057869,
          0.007197655737400055,
          0.006243952549993992,
          0.0003056139685213566,
          0.0038555755745619535,
          0.005895208101719618,
          0.00693652406334877,
          0.008975381031632423,
          0.01001617219299078,
          0.010059201158583164,
          0.009104800410568714,
          0.00815065111964941,
          0.007196694612503052,
          0.006242989096790552,
          0.0003046358178835362,
          0.003854607231914997,
          0.0058942451141774654,
          0.006935563404113054,
          0.008974424563348293,
          0.010015218518674374,
          0.00906070414930582,
          0.009103843942284584,
          0.008149692788720131,
          0.007195733487606049,
          0.005244956351816654,
          0.0003036576963495463,
          0.0038536391220986843,
          0.005893281660974026,
          0.006934602279216051,
          0.008973469026386738,
          0.009016608819365501,
          0.009059748612344265,
          0.009102888405323029,
          0.008148734457790852,
          0.007194772828370333,
          0.005243990570306778,
          0.00030267954571172595,
          0.003852670779451728,
          0.005892318207770586,
          0.006933641619980335,
          0.008972512558102608,
          0.009015652351081371,
          0.009058792144060135,
          0.009101931937038898,
          0.008147776126861572,
          0.0071938117034733295,
          0.005243024788796902,
          0.00030170142417773604,
          0.0038517024368047714,
          0.005891354754567146,
          0.006932680495083332,
          0.008971556089818478,
          0.009014696814119816,
          0.00905783660709858,
          0.009100976400077343,
          0.008146817795932293,
          0.007192851044237614,
          0.0052420590072870255,
          0.0003007232735399157,
          0.003850734094157815,
          0.005890391301363707,
          0.006931719370186329,
          0.008970600552856922,
          0.009013740345835686,
          0.00905688013881445,
          0.009100019931793213,
          0.008145859465003014,
          0.0071918899193406105,
          0.005241092760115862,
          -0.0011760921915993094,
          0.004856592044234276,
          0.005898122675716877,
          0.006939431186765432,
          0.008978272788226604,
          0.009021412581205368,
          0.009064552374184132,
          0.008110299706459045,
          0.008153550326824188,
          0.007199601270258427,
          0.005248843692243099,
          -0.00017007415590342134,
          0.004864342976361513,
          0.006903780624270439,
          0.007944988086819649,
          0.008985944092273712,
          0.009029083885252476,
          0.009072224609553814,
          0.008117991499602795,
          0.007163951173424721,
          0.006210161838680506,
          0.003262485144659877,
          0.0008359341882169247,
          0.0048720939084887505,
          0.006911491975188255,
          0.007952679879963398,
          0.008993616327643394,
          0.009036756120622158,
          0.008082432672381401,
          0.008125683292746544,
          0.007171662524342537,
          0.006217893213033676,
          0.0022732256911695004,
          0.0018418733961880207,
          0.005877843126654625,
          0.0069192033261060715,
          0.007960371673107147,
          0.00800362229347229,
          0.008046872913837433,
          0.00809012446552515,
          0.008133375085890293,
          0.007179373875260353,
          0.006225624121725559,
          0.0012840350391343236,
          0.0028478028252720833,
          0.005885574501007795,
          0.006926915142685175,
          0.007968063466250896,
          0.00801131408661604,
          0.008054564706981182,
          0.008097815327346325,
          0.008141066879034042,
          0.007187085226178169,
          0.005236263852566481,
          -0.000702126242686063,
          0.0028468321543186903,
          0.005884611047804356,
          0.006925954017788172,
          0.007967105135321617,
          0.00801035575568676,
          0.008053606376051903,
          0.008096856996417046,
          0.008140108548104763,
          0.007186124566942453,
          0.005235298071056604,
          -0.0007031068671494722,
          0.003852694761008024,
          0.005892341956496239,
          0.006933665368705988,
          0.007974796928465366,
          0.00801804754883051,
          0.008061298169195652,
          0.008104548789560795,
          0.00715047400444746,
          0.0071938359178602695,
          0.005243048537522554,
          -0.0011741066118702292,
          0.004858547821640968,
          0.006898015271872282,
          0.007939237169921398,
          0.007982488721609116,
          0.008025739341974258,
          0.008068989962339401,
          0.008112240582704544,
          0.007158185355365276,
          0.006204381585121155,
          0.0032566606532782316,
          -0.00016809350927360356,
          0.004866298753768206,
          0.006905726622790098,
          0.007946928963065147,
          0.00799017958343029,
          0.008033431135118008,
          0.00807668175548315,
          0.008119932375848293,
          0.0071658967062830925,
          0.006212112959474325,
          0.0032644509337842464,
          0.0008379098726436496,
          0.004874049685895443,
          0.006913437973707914,
          0.007954620756208897,
          0.00799787137657404,
          0.008041121996939182,
          0.0080843735486269,
          0.008127624168992043,
          0.007173608057200909,
          0.006219843868166208,
          0.0022751963697373867,
          0.001843844074755907,
          0.005879794247448444,
          0.0069211493246257305,
          0.007962312549352646,
          0.009003223851323128,
          0.009046363644301891,
          0.008092065341770649,
          0.007137957960367203,
          0.007181319873780012,
          0.005230468697845936,
          0.0012860108399763703,
          0.002849768614396453,
          0.0058875251561403275,
          0.006928860675543547,
          0.007970004342496395,
          0.00901089608669281,
          0.009054035879671574,
          0.008099756203591824,
          0.007145669311285019,
          0.007189031224697828,
          0.005238219629973173,
          0.0012938405852764845,
          0.0018506809137761593,
          0.005886561702936888,
          0.006927900016307831,
          0.007969046011567116,
          0.009009940549731255,
          0.009053080342710018,
          0.008098797872662544,
          0.008142049424350262,
          0.007188070099800825,
          0.00523725338280201,
          0.0022898430470377207,
          0.0018497076816856861,
          0.005885598249733448,
          0.006926938891410828,
          0.007968087680637836,
          0.009008984081447124,
          0.009052123874425888,
          0.008097839541733265,
          0.008141090162098408,
          0.007187109440565109,
          0.005236287601292133,
          0.0022888698149472475,
          0.0008506423328071833,
          0.0048866537399590015,
          0.0069259777665138245,
          0.007967128418385983,
          0.009008027613162994,
          0.009051168337464333,
          0.009094308130443096,
          0.008140131831169128,
          0.007186148315668106,
          0.006232415791600943,
          0.0032849095296114683,
          -0.0011642518220469356,
          0.0038701966404914856,
          0.005909755360335112,
          0.007948869839310646,
          0.008989815600216389,
          0.009032956324517727,
          0.00907609611749649,
          0.008121873252093792,
          0.0071678427048027515,
          0.006214063614606857,
          0.0052605061791837215,
          0.0013163541443645954,
          0.0008574964012950659,
          0.004893438890576363,
          0.006932728458195925,
          0.007973861880600452,
          0.009014744311571121,
          0.009057884104549885,
          0.009101023897528648,
          0.008146865293383598,
          0.007192899007350206,
          0.006239183712750673,
          0.004288694821298122,
          -0.0006519448943436146,
          0.003876999020576477,
          0.005916522815823555,
          0.007955603301525116,
          0.008996532298624516,
          0.009039672091603279,
          0.009082811884582043,
          0.008128606714308262,
          0.0071745929308235645,
          0.007217954844236374,
          0.006264303810894489,
          0.0033170415554195642,
          -0.00014256444410420954,
          0.0038935085758566856,
          0.006930806674063206,
          0.007971945218741894,
          0.009012832306325436,
          0.0090559720993042,
          0.009099111892282963,
          0.00814494863152504,
          0.0071909767575562,
          0.006237256806343794,
          0.0052837589755654335,
          0.0013398433802649379,
          0.0028770468197762966,
          0.005914596375077963,
          0.006955862510949373,
          0.0079969372600317,
          0.009037760086357594,
          0.009080899879336357,
          0.00912403967231512,
          0.008169940672814846,
          0.007216033060103655,
          0.00626237690448761,
          0.0043120067566633224,
          -0.0011426054406911135,
          0.0038915718905627728,
          0.005931021645665169,
          0.007970028556883335,
          0.008013279177248478,
          0.009054060094058514,
          0.009097199887037277,
          0.008143031038343906,
          0.007189054973423481,
          0.00723241688683629,
          0.006278802640736103,
          0.0033316512126475573,
          -0.00011901604011654854,
          0.004914759658277035,
          0.006953940726816654,
          0.007995019666850567,
          0.009035848081111908,
          0.009078987874090672,
          0.00812477245926857,
          0.008168023079633713,
          0.007214111275970936,
          0.006260450463742018,
          0.005307011306285858,
          -0.0006302985129877925,
          0.002900417661294341,
          0.0059377895668148994,
          0.006978996563702822,
          0.008020011708140373,
          0.009060775861144066,
          0.008106513880193233,
          0.008149764500558376,
          0.007195805665105581,
          0.007239167112857103,
          0.006285570561885834,
          0.003338470822200179,
          0.0008946937741711736,
          0.004930261522531509,
          0.0069693634286522865,
          0.007012725342065096,
          0.008053653873503208,
          0.008096905425190926,
          0.008140156045556068,
          0.007186172064393759,
          0.007229533977806568,
          0.006275912746787071,
          0.004325611051172018,
          -0.0011111286003142595,
          0.002924759406596422,
          0.005961946211755276,
          0.007003091741353273,
          0.0080440454185009,
          0.008087296038866043,
          0.00813054759055376,
          0.007176538929343224,
          0.007219900842756033,
          0.006266254466027021,
          0.005312830209732056,
          -0.0006243905518203974,
          0.0029237885028123856,
          0.004963196348398924,
          0.0070021310821175575,
          0.008043087087571621,
          0.008086337707936764,
          0.008129589259624481,
          0.00717557780444622,
          0.00721893971785903,
          0.006265291478484869,
          0.005311864428222179,
          -0.0006253711180761456,
          0.0019336715340614319,
          0.003973151091486216,
          0.007009842433035374,
          0.00805077888071537,
          0.008094029501080513,
          0.0071399277076125145,
          0.007183289621025324,
          0.007226651068776846,
          0.006273022387176752,
          0.004322706256061792,
          -7.19192175893113e-05,
          0.002965652383863926,
          0.006002528592944145,
          0.0070435707457363605,
          0.008084421046078205,
          0.007130294572561979,
          0.007173656020313501,
          0.007217017933726311,
          0.00626336457207799,
          0.005309932865202427,
          -0.0010708021000027657,
          0.001966858049854636,
          0.005003882572054863,
          0.007042610086500645,
          0.007085971534252167,
          0.007129333447664976,
          0.0071726953610777855,
          0.006218928378075361,
          0.00626240111887455,
          0.004312030505388975,
          -0.0010629328899085522,
          0.0009768939344212413,
          0.00401394022628665,
          0.007050321437418461,
          0.00709368335083127,
          0.007137044798582792,
          0.007180406711995602,
          0.006226659752428532,
          0.006270132027566433,
          0.0033229144755750895,
          -3.071559694944881e-05,
          0.0020088276360183954,
          0.005045534111559391,
          0.007084049750119448,
          0.007127411663532257,
          0.0061735291965305805,
          0.006217001937329769,
          0.0062604742124676704,
          0.003313182620331645,
          -0.0010294949170202017,
          0.001010164269246161,
          0.004046959336847067,
          0.006085620261728764,
          0.006129093002527952,
          0.006172565743327141,
          0.006216038484126329,
          0.005262486170977354,
          0.0023152681533247232,
          -0.0010039262706413865,
          0.002033231081441045,
          0.0040722074918448925,
          0.00411590188741684,
          0.005156919825822115,
          0.006197685841470957,
          0.005244086496531963,
          0.003293718909844756,
          -0.000996057060547173,
          0.0010434344876557589,
          0.002084957202896476,
          0.003126288065686822,
          0.004167367238551378,
          0.004211061634123325,
          0.0042547560296952724,
          0.0013075972674414515,
          6.247548299143091e-05,
          0.0021015505772083998,
          0.002145466860383749,
          0.003186644520610571,
          0.003230449976399541,
          0.002277215477079153,
          -0.0009360697004012764,
          0.00010563537944108248,
          0.001147148315794766,
          0.002188409911468625,
          0.0022323261946439743,
          0.0002821874222718179,
          -0.000883951666764915,
          0.0001576228823978454,
          0.0011990051716566086,
          0.0002458988456055522,
          -0.0008318335167132318,
          -0.0007875845185481012,
          -0.0007885651430115104
         ]
        }
       ],
       "frames": [
        {
         "layout": {
          "scene": {
           "camera": {
            "eye": {
             "x": 1.25,
             "y": 1.25,
             "z": 0.8
            }
           }
          }
         }
        },
        {
         "layout": {
          "scene": {
           "camera": {
            "eye": {
             "x": 1.3685469774060675,
             "y": 1.1189634357889973,
             "z": 0.8
            }
           }
          }
         }
        },
        {
         "layout": {
          "scene": {
           "camera": {
            "eye": {
             "x": 1.4734198857953784,
             "y": 0.9767465588077254,
             "z": 0.8
            }
           }
          }
         }
        },
        {
         "layout": {
          "scene": {
           "camera": {
            "eye": {
             "x": 1.5635708697336819,
             "y": 0.824770353080333,
             "z": 0.8
            }
           }
          }
         }
        },
        {
         "layout": {
          "scene": {
           "camera": {
            "eye": {
             "x": 1.6380991703894194,
             "y": 0.6645533146177932,
             "z": 0.8
            }
           }
          }
         }
        },
        {
         "layout": {
          "scene": {
           "camera": {
            "eye": {
             "x": 1.6962601256182197,
             "y": 0.4976962791077122,
             "z": 0.8
            }
           }
          }
         }
        },
        {
         "layout": {
          "scene": {
           "camera": {
            "eye": {
             "x": 1.737472610380892,
             "y": 0.32586642689330336,
             "z": 0.8
            }
           }
          }
         }
        },
        {
         "layout": {
          "scene": {
           "camera": {
            "eye": {
             "x": 1.7613248431527242,
             "y": 0.15078062505849654,
             "z": 0.8
            }
           }
          }
         }
        },
        {
         "layout": {
          "scene": {
           "camera": {
            "eye": {
             "x": 1.7675785003083602,
             "y": -0.025811726940446755,
             "z": 0.8
            }
           }
          }
         }
        },
        {
         "layout": {
          "scene": {
           "camera": {
            "eye": {
             "x": 1.7561710973726847,
             "y": -0.20214617669602375,
             "z": 0.8
            }
           }
          }
         }
        },
        {
         "layout": {
          "scene": {
           "camera": {
            "eye": {
             "x": 1.7272166133450453,
             "y": -0.376460848674696,
             "z": 0.8
            }
           }
          }
         }
        },
        {
         "layout": {
          "scene": {
           "camera": {
            "eye": {
             "x": 1.6810043518587658,
             "y": -0.5470140482948226,
             "z": 0.8
            }
           }
          }
         }
        },
        {
         "layout": {
          "scene": {
           "camera": {
            "eye": {
             "x": 1.6179960505548747,
             "y": -0.7121016643631912,
             "z": 0.8
            }
           }
          }
         }
        },
        {
         "layout": {
          "scene": {
           "camera": {
            "eye": {
             "x": 1.5388212675522255,
             "y": -0.870074195990757,
             "z": 0.8
            }
           }
          }
         }
        },
        {
         "layout": {
          "scene": {
           "camera": {
            "eye": {
             "x": 1.4442710911108763,
             "y": -1.0193532338602744,
             "z": 0.8
            }
           }
          }
         }
        },
        {
         "layout": {
          "scene": {
           "camera": {
            "eye": {
             "x": 1.3352902353396967,
             "y": -1.1584472311704395,
             "z": 0.8
            }
           }
          }
         }
        },
        {
         "layout": {
          "scene": {
           "camera": {
            "eye": {
             "x": 1.2129676009252703,
             "y": -1.2859664066784924,
             "z": 0.8
            }
           }
          }
         }
        },
        {
         "layout": {
          "scene": {
           "camera": {
            "eye": {
             "x": 1.0785253951961797,
             "y": -1.4006366309349918,
             "z": 0.8
            }
           }
          }
         }
        },
        {
         "layout": {
          "scene": {
           "camera": {
            "eye": {
             "x": 0.9333069202313851,
             "y": -1.5013121569641028,
             "z": 0.8
            }
           }
          }
         }
        },
        {
         "layout": {
          "scene": {
           "camera": {
            "eye": {
             "x": 0.7787631510298885,
             "y": -1.5869870681886475,
             "z": 0.8
            }
           }
          }
         }
        },
        {
         "layout": {
          "scene": {
           "camera": {
            "eye": {
             "x": 0.6164382378481742,
             "y": -1.6568053292160303,
             "z": 0.8
            }
           }
          }
         }
        },
        {
         "layout": {
          "scene": {
           "camera": {
            "eye": {
             "x": 0.44795407756127026,
             "y": -1.710069339060914,
             "z": 0.8
            }
           }
          }
         }
        },
        {
         "layout": {
          "scene": {
           "camera": {
            "eye": {
             "x": 0.27499410820530534,
             "y": -1.7462469013436699,
             "z": 0.8
            }
           }
          }
         }
        },
        {
         "layout": {
          "scene": {
           "camera": {
            "eye": {
             "x": 0.09928648862111944,
             "y": -1.7649765418206806,
             "z": 0.8
            }
           }
          }
         }
        },
        {
         "layout": {
          "scene": {
           "camera": {
            "eye": {
             "x": -0.07741316873761894,
             "y": -1.7660711201154955,
             "z": 0.8
            }
           }
          }
         }
        },
        {
         "layout": {
          "scene": {
           "camera": {
            "eye": {
             "x": -0.25333933930372143,
             "y": -1.7495196995636126,
             "z": 0.8
            }
           }
          }
         }
        },
        {
         "layout": {
          "scene": {
           "camera": {
            "eye": {
             "x": -0.4267342269343539,
             "y": -1.7154876564880144,
             "z": 0.8
            }
           }
          }
         }
        },
        {
         "layout": {
          "scene": {
           "camera": {
            "eye": {
             "x": -0.5958653272290393,
             "y": -1.6643150278136138,
             "z": 0.8
            }
           }
          }
         }
        },
        {
         "layout": {
          "scene": {
           "camera": {
            "eye": {
             "x": -0.7590427381409421,
             "y": -1.5965131135307038,
             "z": 0.8
            }
           }
          }
         }
        },
        {
         "layout": {
          "scene": {
           "camera": {
            "eye": {
             "x": -0.9146360449195108,
             "y": -1.5127593679544658,
             "z": 0.8
            }
           }
          }
         }
        },
        {
         "layout": {
          "scene": {
           "camera": {
            "eye": {
             "x": -1.0610906106757227,
             "y": -1.4138906308253907,
             "z": 0.8
            }
           }
          }
         }
        },
        {
         "layout": {
          "scene": {
           "camera": {
            "eye": {
             "x": -1.196943109799986,
             "y": -1.3008947658832124,
             "z": 0.8
            }
           }
          }
         }
        },
        {
         "layout": {
          "scene": {
           "camera": {
            "eye": {
             "x": -1.3208361490279166,
             "y": -1.1749007904589663,
             "z": 0.8
            }
           }
          }
         }
        },
        {
         "layout": {
          "scene": {
           "camera": {
            "eye": {
             "x": -1.431531830065142,
             "y": -1.0371675947070202,
             "z": 0.8
            }
           }
          }
         }
        },
        {
         "layout": {
          "scene": {
           "camera": {
            "eye": {
             "x": -1.5279241182578656,
             "y": -0.8890713631907865,
             "z": 0.8
            }
           }
          }
         }
        },
        {
         "layout": {
          "scene": {
           "camera": {
            "eye": {
             "x": -1.6090498937255202,
             "y": -0.7320918245014705,
             "z": 0.8
            }
           }
          }
         }
        },
        {
         "layout": {
          "scene": {
           "camera": {
            "eye": {
             "x": -1.6740985745362496,
             "y": -0.5677974662991182,
             "z": 0.8
            }
           }
          }
         }
        },
        {
         "layout": {
          "scene": {
           "camera": {
            "eye": {
             "x": -1.7224202157736266,
             "y": -0.39782986350239324,
             "z": 0.8
            }
           }
          }
         }
        },
        {
         "layout": {
          "scene": {
           "camera": {
            "eye": {
             "x": -1.7535320035714197,
             "y": -0.22388727621462157,
             "z": 0.8
            }
           }
          }
         }
        },
        {
         "layout": {
          "scene": {
           "camera": {
            "eye": {
             "x": -1.7671230792301427,
             "y": -0.04770768127020719,
             "z": 0.8
            }
           }
          }
         }
        },
        {
         "layout": {
          "scene": {
           "camera": {
            "eye": {
             "x": -1.7630576452144253,
             "y": 0.1289485930553954,
             "z": 0.8
            }
           }
          }
         }
        },
        {
         "layout": {
          "scene": {
           "camera": {
            "eye": {
             "x": -1.741376321997099,
             "y": 0.30431645566392784,
             "z": 0.8
            }
           }
          }
         }
        },
        {
         "layout": {
          "scene": {
           "camera": {
            "eye": {
             "x": -1.7022957421928595,
             "y": 0.47664368884111097,
             "z": 0.8
            }
           }
          }
         }
        },
        {
         "layout": {
          "scene": {
           "camera": {
            "eye": {
             "x": -1.646206386036788,
             "y": 0.6442084558368493,
             "z": 0.8
            }
           }
          }
         }
        },
        {
         "layout": {
          "scene": {
           "camera": {
            "eye": {
             "x": -1.573668679834919,
             "y": 0.8053365048888708,
             "z": 0.8
            }
           }
          }
         }
        },
        {
         "layout": {
          "scene": {
           "camera": {
            "eye": {
             "x": -1.4854073963698458,
             "y": 0.9584178977928967,
             "z": 0.8
            }
           }
          }
         }
        },
        {
         "layout": {
          "scene": {
           "camera": {
            "eye": {
             "x": -1.3823044132106481,
             "y": 1.101923095873013,
             "z": 0.8
            }
           }
          }
         }
        },
        {
         "layout": {
          "scene": {
           "camera": {
            "eye": {
             "x": -1.2653899012837393,
             "y": 1.2344182426265127,
             "z": 0.8
            }
           }
          }
         }
        },
        {
         "layout": {
          "scene": {
           "camera": {
            "eye": {
             "x": -1.1358320317454915,
             "y": 1.3545794903441097,
             "z": 0.8
            }
           }
          }
         }
        },
        {
         "layout": {
          "scene": {
           "camera": {
            "eye": {
             "x": -0.9949253040021958,
             "y": 1.4612062275586353,
             "z": 0.8
            }
           }
          }
         }
        },
        {
         "layout": {
          "scene": {
           "camera": {
            "eye": {
             "x": -0.8440776114998902,
             "y": 1.553233075157956,
             "z": 0.8
            }
           }
          }
         }
        },
        {
         "layout": {
          "scene": {
           "camera": {
            "eye": {
             "x": -0.6847961745184389,
             "y": 1.6297405313008917,
             "z": 0.8
            }
           }
          }
         }
        },
        {
         "layout": {
          "scene": {
           "camera": {
            "eye": {
             "x": -0.5186724805247199,
             "y": 1.6899641587756626,
             "z": 0.8
            }
           }
          }
         }
        },
        {
         "layout": {
          "scene": {
           "camera": {
            "eye": {
             "x": -0.347366382555924,
             "y": 1.733302223003828,
             "z": 0.8
            }
           }
          }
         }
        },
        {
         "layout": {
          "scene": {
           "camera": {
            "eye": {
             "x": -0.17258951451669058,
             "y": 1.7593217043732774,
             "z": 0.8
            }
           }
          }
         }
        },
        {
         "layout": {
          "scene": {
           "camera": {
            "eye": {
             "x": 0.0039118109010850555,
             "y": 1.767762624827065,
             "z": 0.8
            }
           }
          }
         }
        },
        {
         "layout": {
          "scene": {
           "camera": {
            "eye": {
             "x": 0.18037405079741164,
             "y": 1.7585406454782138,
             "z": 0.8
            }
           }
          }
         }
        },
        {
         "layout": {
          "scene": {
           "camera": {
            "eye": {
             "x": 0.3550340528019027,
             "y": 1.7317479092959966,
             "z": 0.8
            }
           }
          }
         }
        },
        {
         "layout": {
          "scene": {
           "camera": {
            "eye": {
             "x": 0.5261466719094534,
             "y": 1.6876521204438448,
             "z": 0.8
            }
           }
          }
         }
        },
        {
         "layout": {
          "scene": {
           "camera": {
            "eye": {
             "x": 0.6920022073922499,
             "y": 1.62669386946784,
             "z": 0.8
            }
           }
          }
         }
        },
        {
         "layout": {
          "scene": {
           "camera": {
            "eye": {
             "x": 0.8509434855643001,
             "y": 1.5494822310616148,
             "z": 0.8
            }
           }
          }
         }
        },
        {
         "layout": {
          "scene": {
           "camera": {
            "eye": {
             "x": 1.001382417713112,
             "y": 1.4567886783933495,
             "z": 0.8
            }
           }
          }
         }
        },
        {
         "layout": {
          "scene": {
           "camera": {
            "eye": {
             "x": 1.1418158677571515,
             "y": 1.3495393748008924,
             "z": 0.8
            }
           }
          }
         }
        },
        {
         "layout": {
          "scene": {
           "camera": {
            "eye": {
             "x": 1.270840671084707,
             "y": 1.2288059198738308,
             "z": 0.8
            }
           }
          }
         }
        },
        {
         "layout": {
          "scene": {
           "camera": {
            "eye": {
             "x": 1.3871676545108578,
             "y": 1.0957946423846239,
             "z": 0.8
            }
           }
          }
         }
        },
        {
         "layout": {
          "scene": {
           "camera": {
            "eye": {
             "x": 1.4896345172697987,
             "y": 0.9518345470502599,
             "z": 0.8
            }
           }
          }
         }
        },
        {
         "layout": {
          "scene": {
           "camera": {
            "eye": {
             "x": 1.577217444339885,
             "y": 0.7983640355564382,
             "z": 0.8
            }
           }
          }
         }
        },
        {
         "layout": {
          "scene": {
           "camera": {
            "eye": {
             "x": 1.6490413360648972,
             "y": 0.6369165345234014,
             "z": 0.8
            }
           }
          }
         }
        },
        {
         "layout": {
          "scene": {
           "camera": {
            "eye": {
             "x": 1.7043885518605422,
             "y": 0.46910517401401974,
             "z": 0.8
            }
           }
          }
         }
        },
        {
         "layout": {
          "scene": {
           "camera": {
            "eye": {
             "x": 1.742706080641946,
             "y": 0.2966066696714459,
             "z": 0.8
            }
           }
          }
         }
        },
        {
         "layout": {
          "scene": {
           "camera": {
            "eye": {
             "x": 1.7636110663276172,
             "y": 0.12114456953064445,
             "z": 0.8
            }
           }
          }
         }
        },
        {
         "layout": {
          "scene": {
           "camera": {
            "eye": {
             "x": 1.766894633210853,
             "y": -0.05552796710383823,
             "z": 0.8
            }
           }
          }
         }
        },
        {
         "layout": {
          "scene": {
           "camera": {
            "eye": {
             "x": 1.7525239729767597,
             "y": -0.23164568664612328,
             "z": 0.8
            }
           }
          }
         }
        },
        {
         "layout": {
          "scene": {
           "camera": {
            "eye": {
             "x": 1.7206426725120867,
             "y": -0.4054488790593255,
             "z": 0.8
            }
           }
          }
         }
        },
        {
         "layout": {
          "scene": {
           "camera": {
            "eye": {
             "x": 1.6715692792325216,
             "y": -0.5752009602965458,
             "z": 0.8
            }
           }
          }
         }
        },
        {
         "layout": {
          "scene": {
           "camera": {
            "eye": {
             "x": 1.605794118262206,
             "y": -0.7392058236746413,
             "z": 0.8
            }
           }
          }
         }
        },
        {
         "layout": {
          "scene": {
           "camera": {
            "eye": {
             "x": 1.5239743932671765,
             "y": -0.8958247868115395,
             "z": 0.8
            }
           }
          }
         }
        },
        {
         "layout": {
          "scene": {
           "camera": {
            "eye": {
             "x": 1.426927619893581,
             "y": -1.04349296479892,
             "z": 0.8
            }
           }
          }
         }
        },
        {
         "layout": {
          "scene": {
           "camera": {
            "eye": {
             "x": 1.3156234574215673,
             "y": -1.180734906014945,
             "z": 0.8
            }
           }
          }
         }
        },
        {
         "layout": {
          "scene": {
           "camera": {
            "eye": {
             "x": 1.1911740202502938,
             "y": -1.3061793343491364,
             "z": 0.8
            }
           }
          }
         }
        },
        {
         "layout": {
          "scene": {
           "camera": {
            "eye": {
             "x": 1.0548227660184604,
             "y": -1.4185728505399942,
             "z": 0.8
            }
           }
          }
         }
        },
        {
         "layout": {
          "scene": {
           "camera": {
            "eye": {
             "x": 0.9079320713866189,
             "y": -1.5167924557260966,
             "z": 0.8
            }
           }
          }
         }
        },
        {
         "layout": {
          "scene": {
           "camera": {
            "eye": {
             "x": 0.7519696196199205,
             "y": -1.599856772079511,
             "z": 0.8
            }
           }
          }
         }
        },
        {
         "layout": {
          "scene": {
           "camera": {
            "eye": {
             "x": 0.5884937359820905,
             "y": -1.6669358484086425,
             "z": 0.8
            }
           }
          }
         }
        },
        {
         "layout": {
          "scene": {
           "camera": {
            "eye": {
             "x": 0.41913781746449363,
             "y": -1.7173594527562077,
             "z": 0.8
            }
           }
          }
         }
        },
        {
         "layout": {
          "scene": {
           "camera": {
            "eye": {
             "x": 0.24559401242333323,
             "y": -1.7506237691353923,
             "z": 0.8
            }
           }
          }
         }
        },
        {
         "layout": {
          "scene": {
           "camera": {
            "eye": {
             "x": 0.06959631319262605,
             "y": -1.7663964314926572,
             "z": 0.8
            }
           }
          }
         }
        },
        {
         "layout": {
          "scene": {
           "camera": {
            "eye": {
             "x": -0.10709676939402235,
             "y": -1.7645198445994774,
             "z": 0.8
            }
           }
          }
         }
        },
        {
         "layout": {
          "scene": {
           "camera": {
            "eye": {
             "x": -0.2827197764623679,
             "y": -1.745012758691772,
             "z": 0.8
            }
           }
          }
         }
        },
        {
         "layout": {
          "scene": {
           "camera": {
            "eye": {
             "x": -0.45551794097903464,
             "y": -1.7080700821237462,
             "z": 0.8
            }
           }
          }
         }
        },
        {
         "layout": {
          "scene": {
           "camera": {
            "eye": {
             "x": -0.6237647208036504,
             "y": -1.6540609339080419,
             "z": 0.8
            }
           }
          }
         }
        },
        {
         "layout": {
          "scene": {
           "camera": {
            "eye": {
             "x": -0.7857790497271997,
             "y": -1.58352495560058,
             "z": 0.8
            }
           }
          }
         }
        },
        {
         "layout": {
          "scene": {
           "camera": {
            "eye": {
             "x": -0.9399421341298975,
             "y": -1.4971669193805124,
             "z": 0.8
            }
           }
          }
         }
        },
        {
         "layout": {
          "scene": {
           "camera": {
            "eye": {
             "x": -1.0847136274319271,
             "y": -1.3958496861995813,
             "z": 0.8
            }
           }
          }
         }
        },
        {
         "layout": {
          "scene": {
           "camera": {
            "eye": {
             "x": -1.218647020727311,
             "y": -1.2805855843607052,
             "z": 0.8
            }
           }
          }
         }
        },
        {
         "layout": {
          "scene": {
           "camera": {
            "eye": {
             "x": -1.3404040958227346,
             "y": -1.1525262946682115,
             "z": 0.8
            }
           }
          }
         }
        },
        {
         "layout": {
          "scene": {
           "camera": {
            "eye": {
             "x": -1.448768296271385,
             "y": -1.0129513432139317,
             "z": 0.8
            }
           }
          }
         }
        },
        {
         "layout": {
          "scene": {
           "camera": {
            "eye": {
             "x": -1.5426568828028173,
             "y": -0.8632553167754569,
             "z": 0.8
            }
           }
          }
         }
        },
        {
         "layout": {
          "scene": {
           "camera": {
            "eye": {
             "x": -1.6211317516958519,
             "y": -0.7049339285660311,
             "z": 0.8
            }
           }
          }
         }
        },
        {
         "layout": {
          "scene": {
           "camera": {
            "eye": {
             "x": -1.6834088080008527,
             "y": -0.5395690735625494,
             "z": 0.8
            }
           }
          }
         }
        },
        {
         "layout": {
          "scene": {
           "camera": {
            "eye": {
             "x": -1.7288657999572776,
             "y": -0.3688130227338533,
             "z": 0.8
            }
           }
          }
         }
        },
        {
         "layout": {
          "scene": {
           "camera": {
            "eye": {
             "x": -1.7570485363275825,
             "y": -0.1943719140953739,
             "z": 0.8
            }
           }
          }
         }
        },
        {
         "layout": {
          "scene": {
           "camera": {
            "eye": {
             "x": -1.7676754245259283,
             "y": -0.017988705542069106,
             "z": 0.8
            }
           }
          }
         }
        }
       ],
       "layout": {
        "template": {
         "data": {
          "bar": [
           {
            "error_x": {
             "color": "#2a3f5f"
            },
            "error_y": {
             "color": "#2a3f5f"
            },
            "marker": {
             "line": {
              "color": "#E5ECF6",
              "width": 0.5
             },
             "pattern": {
              "fillmode": "overlay",
              "size": 10,
              "solidity": 0.2
             }
            },
            "type": "bar"
           }
          ],
          "barpolar": [
           {
            "marker": {
             "line": {
              "color": "#E5ECF6",
              "width": 0.5
             },
             "pattern": {
              "fillmode": "overlay",
              "size": 10,
              "solidity": 0.2
             }
            },
            "type": "barpolar"
           }
          ],
          "carpet": [
           {
            "aaxis": {
             "endlinecolor": "#2a3f5f",
             "gridcolor": "white",
             "linecolor": "white",
             "minorgridcolor": "white",
             "startlinecolor": "#2a3f5f"
            },
            "baxis": {
             "endlinecolor": "#2a3f5f",
             "gridcolor": "white",
             "linecolor": "white",
             "minorgridcolor": "white",
             "startlinecolor": "#2a3f5f"
            },
            "type": "carpet"
           }
          ],
          "choropleth": [
           {
            "colorbar": {
             "outlinewidth": 0,
             "ticks": ""
            },
            "type": "choropleth"
           }
          ],
          "contour": [
           {
            "colorbar": {
             "outlinewidth": 0,
             "ticks": ""
            },
            "colorscale": [
             [
              0,
              "#0d0887"
             ],
             [
              0.1111111111111111,
              "#46039f"
             ],
             [
              0.2222222222222222,
              "#7201a8"
             ],
             [
              0.3333333333333333,
              "#9c179e"
             ],
             [
              0.4444444444444444,
              "#bd3786"
             ],
             [
              0.5555555555555556,
              "#d8576b"
             ],
             [
              0.6666666666666666,
              "#ed7953"
             ],
             [
              0.7777777777777778,
              "#fb9f3a"
             ],
             [
              0.8888888888888888,
              "#fdca26"
             ],
             [
              1,
              "#f0f921"
             ]
            ],
            "type": "contour"
           }
          ],
          "contourcarpet": [
           {
            "colorbar": {
             "outlinewidth": 0,
             "ticks": ""
            },
            "type": "contourcarpet"
           }
          ],
          "heatmap": [
           {
            "colorbar": {
             "outlinewidth": 0,
             "ticks": ""
            },
            "colorscale": [
             [
              0,
              "#0d0887"
             ],
             [
              0.1111111111111111,
              "#46039f"
             ],
             [
              0.2222222222222222,
              "#7201a8"
             ],
             [
              0.3333333333333333,
              "#9c179e"
             ],
             [
              0.4444444444444444,
              "#bd3786"
             ],
             [
              0.5555555555555556,
              "#d8576b"
             ],
             [
              0.6666666666666666,
              "#ed7953"
             ],
             [
              0.7777777777777778,
              "#fb9f3a"
             ],
             [
              0.8888888888888888,
              "#fdca26"
             ],
             [
              1,
              "#f0f921"
             ]
            ],
            "type": "heatmap"
           }
          ],
          "heatmapgl": [
           {
            "colorbar": {
             "outlinewidth": 0,
             "ticks": ""
            },
            "colorscale": [
             [
              0,
              "#0d0887"
             ],
             [
              0.1111111111111111,
              "#46039f"
             ],
             [
              0.2222222222222222,
              "#7201a8"
             ],
             [
              0.3333333333333333,
              "#9c179e"
             ],
             [
              0.4444444444444444,
              "#bd3786"
             ],
             [
              0.5555555555555556,
              "#d8576b"
             ],
             [
              0.6666666666666666,
              "#ed7953"
             ],
             [
              0.7777777777777778,
              "#fb9f3a"
             ],
             [
              0.8888888888888888,
              "#fdca26"
             ],
             [
              1,
              "#f0f921"
             ]
            ],
            "type": "heatmapgl"
           }
          ],
          "histogram": [
           {
            "marker": {
             "pattern": {
              "fillmode": "overlay",
              "size": 10,
              "solidity": 0.2
             }
            },
            "type": "histogram"
           }
          ],
          "histogram2d": [
           {
            "colorbar": {
             "outlinewidth": 0,
             "ticks": ""
            },
            "colorscale": [
             [
              0,
              "#0d0887"
             ],
             [
              0.1111111111111111,
              "#46039f"
             ],
             [
              0.2222222222222222,
              "#7201a8"
             ],
             [
              0.3333333333333333,
              "#9c179e"
             ],
             [
              0.4444444444444444,
              "#bd3786"
             ],
             [
              0.5555555555555556,
              "#d8576b"
             ],
             [
              0.6666666666666666,
              "#ed7953"
             ],
             [
              0.7777777777777778,
              "#fb9f3a"
             ],
             [
              0.8888888888888888,
              "#fdca26"
             ],
             [
              1,
              "#f0f921"
             ]
            ],
            "type": "histogram2d"
           }
          ],
          "histogram2dcontour": [
           {
            "colorbar": {
             "outlinewidth": 0,
             "ticks": ""
            },
            "colorscale": [
             [
              0,
              "#0d0887"
             ],
             [
              0.1111111111111111,
              "#46039f"
             ],
             [
              0.2222222222222222,
              "#7201a8"
             ],
             [
              0.3333333333333333,
              "#9c179e"
             ],
             [
              0.4444444444444444,
              "#bd3786"
             ],
             [
              0.5555555555555556,
              "#d8576b"
             ],
             [
              0.6666666666666666,
              "#ed7953"
             ],
             [
              0.7777777777777778,
              "#fb9f3a"
             ],
             [
              0.8888888888888888,
              "#fdca26"
             ],
             [
              1,
              "#f0f921"
             ]
            ],
            "type": "histogram2dcontour"
           }
          ],
          "mesh3d": [
           {
            "colorbar": {
             "outlinewidth": 0,
             "ticks": ""
            },
            "type": "mesh3d"
           }
          ],
          "parcoords": [
           {
            "line": {
             "colorbar": {
              "outlinewidth": 0,
              "ticks": ""
             }
            },
            "type": "parcoords"
           }
          ],
          "pie": [
           {
            "automargin": true,
            "type": "pie"
           }
          ],
          "scatter": [
           {
            "fillpattern": {
             "fillmode": "overlay",
             "size": 10,
             "solidity": 0.2
            },
            "type": "scatter"
           }
          ],
          "scatter3d": [
           {
            "line": {
             "colorbar": {
              "outlinewidth": 0,
              "ticks": ""
             }
            },
            "marker": {
             "colorbar": {
              "outlinewidth": 0,
              "ticks": ""
             }
            },
            "type": "scatter3d"
           }
          ],
          "scattercarpet": [
           {
            "marker": {
             "colorbar": {
              "outlinewidth": 0,
              "ticks": ""
             }
            },
            "type": "scattercarpet"
           }
          ],
          "scattergeo": [
           {
            "marker": {
             "colorbar": {
              "outlinewidth": 0,
              "ticks": ""
             }
            },
            "type": "scattergeo"
           }
          ],
          "scattergl": [
           {
            "marker": {
             "colorbar": {
              "outlinewidth": 0,
              "ticks": ""
             }
            },
            "type": "scattergl"
           }
          ],
          "scattermapbox": [
           {
            "marker": {
             "colorbar": {
              "outlinewidth": 0,
              "ticks": ""
             }
            },
            "type": "scattermapbox"
           }
          ],
          "scatterpolar": [
           {
            "marker": {
             "colorbar": {
              "outlinewidth": 0,
              "ticks": ""
             }
            },
            "type": "scatterpolar"
           }
          ],
          "scatterpolargl": [
           {
            "marker": {
             "colorbar": {
              "outlinewidth": 0,
              "ticks": ""
             }
            },
            "type": "scatterpolargl"
           }
          ],
          "scatterternary": [
           {
            "marker": {
             "colorbar": {
              "outlinewidth": 0,
              "ticks": ""
             }
            },
            "type": "scatterternary"
           }
          ],
          "surface": [
           {
            "colorbar": {
             "outlinewidth": 0,
             "ticks": ""
            },
            "colorscale": [
             [
              0,
              "#0d0887"
             ],
             [
              0.1111111111111111,
              "#46039f"
             ],
             [
              0.2222222222222222,
              "#7201a8"
             ],
             [
              0.3333333333333333,
              "#9c179e"
             ],
             [
              0.4444444444444444,
              "#bd3786"
             ],
             [
              0.5555555555555556,
              "#d8576b"
             ],
             [
              0.6666666666666666,
              "#ed7953"
             ],
             [
              0.7777777777777778,
              "#fb9f3a"
             ],
             [
              0.8888888888888888,
              "#fdca26"
             ],
             [
              1,
              "#f0f921"
             ]
            ],
            "type": "surface"
           }
          ],
          "table": [
           {
            "cells": {
             "fill": {
              "color": "#EBF0F8"
             },
             "line": {
              "color": "white"
             }
            },
            "header": {
             "fill": {
              "color": "#C8D4E3"
             },
             "line": {
              "color": "white"
             }
            },
            "type": "table"
           }
          ]
         },
         "layout": {
          "annotationdefaults": {
           "arrowcolor": "#2a3f5f",
           "arrowhead": 0,
           "arrowwidth": 1
          },
          "autotypenumbers": "strict",
          "coloraxis": {
           "colorbar": {
            "outlinewidth": 0,
            "ticks": ""
           }
          },
          "colorscale": {
           "diverging": [
            [
             0,
             "#8e0152"
            ],
            [
             0.1,
             "#c51b7d"
            ],
            [
             0.2,
             "#de77ae"
            ],
            [
             0.3,
             "#f1b6da"
            ],
            [
             0.4,
             "#fde0ef"
            ],
            [
             0.5,
             "#f7f7f7"
            ],
            [
             0.6,
             "#e6f5d0"
            ],
            [
             0.7,
             "#b8e186"
            ],
            [
             0.8,
             "#7fbc41"
            ],
            [
             0.9,
             "#4d9221"
            ],
            [
             1,
             "#276419"
            ]
           ],
           "sequential": [
            [
             0,
             "#0d0887"
            ],
            [
             0.1111111111111111,
             "#46039f"
            ],
            [
             0.2222222222222222,
             "#7201a8"
            ],
            [
             0.3333333333333333,
             "#9c179e"
            ],
            [
             0.4444444444444444,
             "#bd3786"
            ],
            [
             0.5555555555555556,
             "#d8576b"
            ],
            [
             0.6666666666666666,
             "#ed7953"
            ],
            [
             0.7777777777777778,
             "#fb9f3a"
            ],
            [
             0.8888888888888888,
             "#fdca26"
            ],
            [
             1,
             "#f0f921"
            ]
           ],
           "sequentialminus": [
            [
             0,
             "#0d0887"
            ],
            [
             0.1111111111111111,
             "#46039f"
            ],
            [
             0.2222222222222222,
             "#7201a8"
            ],
            [
             0.3333333333333333,
             "#9c179e"
            ],
            [
             0.4444444444444444,
             "#bd3786"
            ],
            [
             0.5555555555555556,
             "#d8576b"
            ],
            [
             0.6666666666666666,
             "#ed7953"
            ],
            [
             0.7777777777777778,
             "#fb9f3a"
            ],
            [
             0.8888888888888888,
             "#fdca26"
            ],
            [
             1,
             "#f0f921"
            ]
           ]
          },
          "colorway": [
           "#636efa",
           "#EF553B",
           "#00cc96",
           "#ab63fa",
           "#FFA15A",
           "#19d3f3",
           "#FF6692",
           "#B6E880",
           "#FF97FF",
           "#FECB52"
          ],
          "font": {
           "color": "#2a3f5f"
          },
          "geo": {
           "bgcolor": "white",
           "lakecolor": "white",
           "landcolor": "#E5ECF6",
           "showlakes": true,
           "showland": true,
           "subunitcolor": "white"
          },
          "hoverlabel": {
           "align": "left"
          },
          "hovermode": "closest",
          "mapbox": {
           "style": "light"
          },
          "paper_bgcolor": "white",
          "plot_bgcolor": "#E5ECF6",
          "polar": {
           "angularaxis": {
            "gridcolor": "white",
            "linecolor": "white",
            "ticks": ""
           },
           "bgcolor": "#E5ECF6",
           "radialaxis": {
            "gridcolor": "white",
            "linecolor": "white",
            "ticks": ""
           }
          },
          "scene": {
           "xaxis": {
            "backgroundcolor": "#E5ECF6",
            "gridcolor": "white",
            "gridwidth": 2,
            "linecolor": "white",
            "showbackground": true,
            "ticks": "",
            "zerolinecolor": "white"
           },
           "yaxis": {
            "backgroundcolor": "#E5ECF6",
            "gridcolor": "white",
            "gridwidth": 2,
            "linecolor": "white",
            "showbackground": true,
            "ticks": "",
            "zerolinecolor": "white"
           },
           "zaxis": {
            "backgroundcolor": "#E5ECF6",
            "gridcolor": "white",
            "gridwidth": 2,
            "linecolor": "white",
            "showbackground": true,
            "ticks": "",
            "zerolinecolor": "white"
           }
          },
          "shapedefaults": {
           "line": {
            "color": "#2a3f5f"
           }
          },
          "ternary": {
           "aaxis": {
            "gridcolor": "white",
            "linecolor": "white",
            "ticks": ""
           },
           "baxis": {
            "gridcolor": "white",
            "linecolor": "white",
            "ticks": ""
           },
           "bgcolor": "#E5ECF6",
           "caxis": {
            "gridcolor": "white",
            "linecolor": "white",
            "ticks": ""
           }
          },
          "title": {
           "x": 0.05
          },
          "xaxis": {
           "automargin": true,
           "gridcolor": "white",
           "linecolor": "white",
           "ticks": "",
           "title": {
            "standoff": 15
           },
           "zerolinecolor": "white",
           "zerolinewidth": 2
          },
          "yaxis": {
           "automargin": true,
           "gridcolor": "white",
           "linecolor": "white",
           "ticks": "",
           "title": {
            "standoff": 15
           },
           "zerolinecolor": "white",
           "zerolinewidth": 2
          }
         }
        },
        "updatemenus": [
         {
          "buttons": [
           {
            "args": [
             null,
             {
              "frame": {
               "duration": 50,
               "redraw": true
              },
              "fromcurrent": true,
              "mode": "immediate",
              "transition": {
               "duration": 0
              }
             }
            ],
            "label": "Play",
            "method": "animate"
           }
          ],
          "pad": {
           "r": 10,
           "t": 45
          },
          "showactive": false,
          "type": "buttons",
          "x": 1,
          "xanchor": "left",
          "y": 1,
          "yanchor": "bottom"
         }
        ]
       }
      },
      "text/html": [
       "<div>                            <div id=\"45105a5a-c949-4e0b-8d5b-559341cafeda\" class=\"plotly-graph-div\" style=\"height:525px; width:100%;\"></div>            <script type=\"text/javascript\">                require([\"plotly\"], function(Plotly) {                    window.PLOTLYENV=window.PLOTLYENV || {};                                    if (document.getElementById(\"45105a5a-c949-4e0b-8d5b-559341cafeda\")) {                    Plotly.newPlot(                        \"45105a5a-c949-4e0b-8d5b-559341cafeda\",                        [{\"mode\":\"markers\",\"x\":[0.3728894591331482,0.3728436827659607,0.37357214093208313,0.37372514605522156,0.3735487759113312,0.37436115741729736,0.3745102286338806,0.3744974732398987,0.37432152032852173,0.373816579580307,0.37513411045074463,0.375442236661911,0.37542882561683655,0.37509122490882874,0.3745897710323334,0.3757619559764862,0.3760637044906616,0.37620797753334045,0.3760329484939575,0.3758578896522522,0.3753599226474762,0.3767082393169403,0.3766891062259674,0.37682899832725525,0.37697067856788635,0.37679606676101685,0.37662145495414734,0.3761270046234131,0.37745991349220276,0.37743890285491943,0.3775750398635864,0.3777129650115967,0.3775383532047272,0.3775213360786438,0.37718909978866577,0.3766975402832031,0.37829455733299255,0.37827226519584656,0.37840545177459717,0.37838539481163025,0.3783662021160126,0.3781920373439789,0.3780178725719452,0.37768691778182983,0.37892794609069824,0.379055380821228,0.3790320158004761,0.37916257977485657,0.3791414201259613,0.3789672553539276,0.3789474368095398,0.37861892580986023,0.37828949093818665,0.3796088993549347,0.37988337874412537,0.37985873222351074,0.37983500957489014,0.3798121511936188,0.37979018688201904,0.37961646914482117,0.3794427216053009,0.3789619207382202,0.3780174255371094,0.38051605224609375,0.38063791394233704,0.38061219453811646,0.3805873692035675,0.3805634379386902,0.3803897202014923,0.38021597266197205,0.38004225492477417,0.379564493894577,0.3787800967693329,0.3811935782432556,0.38145923614501953,0.38128462433815,0.381258100271225,0.38123244047164917,0.3810587227344513,0.38088497519493103,0.38071125745773315,0.38038724660873413,0.37976083159446716,0.3817613422870636,0.3820211887359619,0.3819919526576996,0.3819636404514313,0.3819361925125122,0.38176247477531433,0.38158875703811646,0.3814150094985962,0.3812412917613983,0.38076967000961304,0.37984809279441833,0.38265693187713623,0.3827691674232483,0.38273885846138,0.38270944356918335,0.3825357258319855,0.38250765204429626,0.3823343515396118,0.38201454281806946,0.3818408250808716,0.38137224316596985,0.38287222385406494,0.3834044635295868,0.38351407647132874,0.3834826946258545,0.3833089768886566,0.38327890634536743,0.38310563564300537,0.3829323351383209,0.38261404633522034,0.38244032859802246,0.3818289339542389,0.3836592733860016,0.3841838538646698,0.384149968624115,0.3841169774532318,0.38394322991371155,0.3839115500450134,0.38373827934265137,0.3835650086402893,0.38324832916259766,0.3830746114253998,0.38261231780052185,0.384443074464798,0.384821355342865,0.38478586077690125,0.38475123047828674,0.38471749424934387,0.3845442235469818,0.38437092304229736,0.3841976523399353,0.38402435183525085,0.3837088644504547,0.38324981927871704,0.38235974311828613,0.38552871346473694,0.38549140095710754,0.3854549825191498,0.38541945815086365,0.3852461576461792,0.38507288694381714,0.3848995864391327,0.38472631573677063,0.38441261649131775,0.38409802317619324,0.38349995017051697,0.38596591353416443,0.38619697093963623,0.3861587345600128,0.38598501682281494,0.38594815135002136,0.3857748508453369,0.38560158014297485,0.3854282796382904,0.38525500893592834,0.3849426507949829,0.38448992371559143,0.3863123655319214,0.3868037164211273,0.38676318526268005,0.38672351837158203,0.38668474555015564,0.3865114748477936,0.38647404313087463,0.386301189661026,0.3859916031360626,0.38581833243370056,0.3855074346065521,0.38478145003318787,0.38715073466300964,0.38750356435775757,0.3874620199203491,0.38728830218315125,0.38724809885025024,0.3872087597846985,0.38703593611717224,0.3868630826473236,0.3865549564361572,0.3862459361553192,0.38593602180480957,0.3850787281990051,0.3879833221435547,0.3880697786808014,0.38802680373191833,0.3879847228527069,0.38781142234802246,0.3877706527709961,0.38759782910346985,0.3874249756336212,0.38711827993392944,0.38681069016456604,0.3863674998283386,0.38824915885925293,0.3887162208557129,0.38867083191871643,0.3886263072490692,0.388582706451416,0.38853996992111206,0.3883671164512634,0.3881942927837372,0.38802143931388855,0.38771626353263855,0.3874102234840393,0.38683685660362244,0.38898617029190063,0.38944604992866516,0.38927188515663147,0.3892258405685425,0.3891806900501251,0.3891364336013794,0.38896358013153076,0.3887907564640045,0.3886179029941559,0.38831427693367004,0.3880097568035126,0.3873092830181122,0.38975533843040466,0.3900819420814514,0.3900338411331177,0.3898600935935974,0.3898133337497711,0.38976746797561646,0.3895946145057678,0.3895500600337982,0.38924893736839294,0.38894692063331604,0.3886440098285675,0.38795003294944763,0.39039769768714905,0.3907178044319153,0.3906680941581726,0.39049437642097473,0.3904459774494171,0.3903985023498535,0.3903518617153168,0.39017948508262634,0.38987997174263,0.38957956433296204,0.38927826285362244,0.38871920108795166,0.39104005694389343,0.39135369658470154,0.3913023769855499,0.39112862944602966,0.3910786211490631,0.3910295069217682,0.3909812867641449,0.3908088803291321,0.39051100611686707,0.39021220803260803,0.38991254568099976,0.3893583416938782,0.391477108001709,0.39190372824668884,0.39185023307800293,0.39179766178131104,0.391745924949646,0.391695111989975,0.3916451632976532,0.39147278666496277,0.39130038022994995,0.3908795118331909,0.39058154821395874,0.3901575803756714,0.3893551528453827,0.3925761580467224,0.3925209641456604,0.39246666431427,0.3924132287502289,0.39236071705818176,0.3923090696334839,0.39213666319847107,0.39196428656578064,0.3916693329811096,0.39137354493141174,0.3909534215927124,0.3901599645614624,0.3931313157081604,0.39319169521331787,0.393135666847229,0.39308056235313416,0.39302632212638855,0.3929729759693146,0.39280056953430176,0.39262816309928894,0.3923349380493164,0.39204084873199463,0.3916241526603699,0.3909613788127899,0.3935742974281311,0.39386239647865295,0.3938046991825104,0.39374786615371704,0.39369192719459534,0.3936368525028229,0.39346444606781006,0.39329206943511963,0.3930005431175232,0.3927081525325775,0.3924148678779602,0.39175936579704285,0.394137978553772,0.3945331275463104,0.39447370171546936,0.3944151699542999,0.39435750246047974,0.39430075883865356,0.39412835240364075,0.39395594596862793,0.39366614818573,0.3933754563331604,0.3930838704109192,0.3925539255142212,0.3948590159416199,0.39513418078422546,0.39507320523262024,0.39501315355300903,0.39495396614074707,0.39489567279815674,0.3947232663631439,0.3945508897304535,0.3942626118659973,0.3939734399318695,0.39368337392807007,0.39315804839134216,0.39557698369026184,0.3957352340221405,0.3956727385520935,0.39561113715171814,0.3956630229949951,0.3954906165599823,0.3953182101249695,0.39514580368995667,0.39485907554626465,0.3945714235305786,0.39428290724754333,0.39353078603744507,0.3962918817996979,0.39644598960876465,0.3963824212551117,0.39631974697113037,0.3962579369544983,0.3960855305194855,0.39591315388679504,0.3957407474517822,0.395455539226532,0.3951694071292877,0.39476871490478516,0.3940238058567047,0.39689600467681885,0.3970454931259155,0.3969804048538208,0.3969162106513977,0.39685288071632385,0.39668047428131104,0.3965080678462982,0.3963356614112854,0.3960520029067993,0.3957674205303192,0.3952575922012329,0.39732256531715393,0.3976777195930481,0.39761027693748474,0.397543728351593,0.3975857198238373,0.39741331338882446,0.39724093675613403,0.3970685303211212,0.39678671956062317,0.3965040147304535,0.39622044563293457,0.39571452140808105,0.39810484647750854,0.3982439339160919,0.3982803523540497,0.39821282029151917,0.3981461822986603,0.39797377586364746,0.39780136942863464,0.3976289927959442,0.3973486125469208,0.3970673680305481,0.3966763913631439,0.39595574140548706,0.3988133668899536,0.3989483118057251,0.3988783657550812,0.3988092839717865,0.39874109625816345,0.398568719625473,0.3983963131904602,0.3982239067554474,0.3979450762271881,0.3976653516292572,0.3972774147987366,0.39645665884017944,0.3994174599647522,0.399547815322876,0.3994763493537903,0.39940574765205383,0.399336040019989,0.3991636335849762,0.39899125695228577,0.39881885051727295,0.39854153990745544,0.3981580138206482,0.3977726697921753,0.39976370334625244,0.4001864194869995,0.40021297335624695,0.4001404941082001,0.40006887912750244,0.399896502494812,0.3997240960597992,0.3995516896247864,0.3992762863636017,0.398999959230423,0.398722767829895,0.3980272710323334,0.40069571137428284,0.4008163511753082,0.4007416367530823,0.40066781640052795,0.4005948603153229,0.40052279829978943,0.40025007724761963,0.4000776708126068,0.39980360865592957,0.39942651987075806,0.3990476727485657,0.40111586451530457,0.4014233350753784,0.40144360065460205,0.40136799216270447,0.40129324793815613,0.4012193977832794,0.4009484350681305,0.4007760286331177,0.4005037546157837,0.40023061633110046,0.3998557925224304,0.401700496673584,0.40199899673461914,0.4020153880119324,0.4019376337528229,0.40195712447166443,0.4018815755844116,0.4017096161842346,0.40143993496894836,0.4011693596839905,0.40089792013168335,0.4006255567073822,0.399854838848114,0.40263649821281433,0.4026496708393097,0.40257027745246887,0.40258654952049255,0.4025093615055084,0.4023374021053314,0.4020693600177765,0.40180039405822754,0.40153056383132935,0.4012598395347595,0.4004988372325897,0.4032739996910095,0.4032839238643646,0.40320292115211487,0.4032159447669983,0.4031371474266052,0.40287116169929504,0.4026987552642822,0.4024314284324646,0.40216320753097534,0.401798278093338,0.40114280581474304,0.4039115011692047,0.40391820669174194,0.40383556485176086,0.4038453698158264,0.4036729633808136,0.4035005569458008,0.40332818031311035,0.40306246280670166,0.40279585123062134,0.40243417024612427,0.40178677439689636,0.4045490026473999,0.4045524597167969,0.40446820855140686,0.40447476506233215,0.4043023884296417,0.4041299819946289,0.4039575755596161,0.4036934971809387,0.40342849493026733,0.4030700623989105,0.4024307429790497,0.4051865041255951,0.4051867425441742,0.40510085225105286,0.4051041901111603,0.40493178367614746,0.40475937724113464,0.4045870006084442,0.4043245315551758,0.40406113862991333,0.4037059247493744,0.403074711561203,0.4058240056037903,0.4058209955692291,0.40573349595069885,0.4057336151599884,0.4055612087249756,0.40538880228996277,0.40521639585494995,0.40495553612709045,0.4046938121318817,0.40434181690216064,0.40618425607681274,0.4065104126930237,0.40642049908638,0.40633150935173035,0.4063285291194916,0.40615612268447876,0.40598374605178833,0.4057248532772064,0.4055519998073578,0.4052917957305908,0.4049428701400757,0.4068763554096222,0.4071114659309387,0.4071027636528015,0.4070126712322235,0.40692347288131714,0.4067510664463043,0.4065786600112915,0.40632131695747375,0.4060630798339844,0.40580394864082336,0.4053713381290436,0.4075653851032257,0.40771251916885376,0.407700777053833,0.40760913491249084,0.4075183868408203,0.4073460102081299,0.40709060430526733,0.4069177806377411,0.4066610634326935,0.40640345215797424,0.40589070320129395,0.4082513451576233,0.4083928167819977,0.4082987606525421,0.4082055985927582,0.40803274512290955,0.4078599214553833,0.40768706798553467,0.4075142443180084,0.4072590470314026,0.4070029854774475,0.40641310811042786,0.40893423557281494,0.40899232029914856,0.4088967442512512,0.4088020622730255,0.4086292088031769,0.40845638513565063,0.408283531665802,0.40811070799827576,0.4078570306301117,0.40752124786376953,0.40685686469078064,0.40957337617874146,0.4096266031265259,0.4095293879508972,0.4094330966472626,0.40926024317741394,0.4090874195098877,0.40891456604003906,0.40874171257019043,0.4084896743297577,0.4081571400165558,0.4075024724006653,0.41025158762931824,0.41022610664367676,0.4101274013519287,0.4100295603275299,0.4098567068576813,0.40968388319015503,0.4095110297203064,0.40926095843315125,0.4090876877307892,0.40875816345214844,0.4106680452823639,0.4109267592430115,0.4108986556529999,0.4107988476753235,0.41062602400779724,0.4104531705379486,0.41028034687042236,0.41010749340057373,0.40985894203186035,0.40960952639579773,0.4092060625553131,0.4113488793373108,0.4115278124809265,0.41149666905403137,0.4113953113555908,0.4112224876880646,0.41104963421821594,0.4108767807483673,0.41070395708084106,0.41045695543289185,0.410209059715271,0.4098101854324341,0.41202667355537415,0.41212886571884155,0.4120946526527405,0.41199177503585815,0.4118189513683319,0.4116460978984833,0.41147324442863464,0.4113004207611084,0.41105493903160095,0.4108085632324219,0.4103407561779022,0.41270139813423157,0.4127979278564453,0.4126926362514496,0.4125882387161255,0.412484735250473,0.4123123288154602,0.412069708108902,0.4118262231349945,0.41165292263031006,0.4113365411758423,0.4108743965625763,0.41337308287620544,0.4133974313735962,0.4132906198501587,0.4131847023963928,0.4130796790122986,0.41290727257728577,0.4126661717891693,0.4124242067337036,0.41225090622901917,0.4119375944137573,0.4114815592765808,0.41394779086112976,0.4140317142009735,0.4139232635498047,0.4138157367706299,0.4137090742588043,0.4135366678237915,0.41329720616340637,0.4131243824958801,0.41288357973098755,0.4125734865665436,0.41219276189804077,0.4145885109901428,0.41466596722602844,0.41455593705177307,0.41444677114486694,0.41433849930763245,0.41416609287261963,0.41392824053764343,0.4137553870677948,0.41351622343063354,0.41320937871932983,0.4128335118293762,0.41516807675361633,0.415238618850708,0.41518858075141907,0.415077805519104,0.4149678945541382,0.41479548811912537,0.41462311148643494,0.41438642144203186,0.41414886713027954,0.4139104187488556,0.413539856672287,0.4157620668411255,0.4158843457698822,0.41583025455474854,0.41577795147895813,0.41566628217697144,0.4154938757419586,0.4153214693069458,0.4150865972042084,0.4148508310317993,0.41461417078971863,0.4143766164779663,0.41394543647766113,0.41641759872436523,0.4164755642414093,0.41641920804977417,0.416305273771286,0.4161922335624695,0.41601985692977905,0.41584745049476624,0.41561391949653625,0.41537949442863464,0.4151442050933838,0.4148455560207367,0.41435641050338745,0.4171244204044342,0.41706404089927673,0.4170054495334625,0.41689062118530273,0.4167182147502899,0.4165458083152771,0.41631409525871277,0.4160814583301544,0.41590818762779236,0.41567423939704895,0.415317177772522,0.41764751076698303,0.417692095041275,0.41768449544906616,0.41756734251976013,0.41745108366012573,0.4172786772251129,0.4171062707901001,0.4168759882450104,0.41664478182792664,0.41641274094581604,0.4161797761917114,0.4157669246196747,0.41834598779678345,0.418332576751709,0.4182131886482239,0.418094664812088,0.4179770350456238,0.41780462861061096,0.41763225197792053,0.41740331053733826,0.41717347502708435,0.4169427454471588,0.41665327548980713,0.41888391971588135,0.4189670979976654,0.4188973605632782,0.41882941126823425,0.4186565577983856,0.4185374975204468,0.41836509108543396,0.4181380271911621,0.417910099029541,0.41773679852485657,0.417507529258728,0.41716450452804565,0.4194736182689667,0.41955047845840454,0.41947847604751587,0.41935673356056213,0.41923585534095764,0.4190634787082672,0.4188382029533386,0.41866534948349,0.41843876242637634,0.41821128129959106,0.41798293590545654,0.4174782633781433,0.420158326625824,0.4201311469078064,0.4200071692466736,0.41988405585289,0.4197618365287781,0.41953837871551514,0.4193655252456665,0.4191407263278961,0.41896745562553406,0.4187413156032562,0.41840773820877075,0.420738160610199,0.42075255513191223,0.42067447304725647,0.420501172542572,0.42037680745124817,0.42020395398139954,0.4200311303138733,0.419808030128479,0.41963475942611694,0.4194103181362152,0.4191334545612335,0.42132481932640076,0.421331524848938,0.4212954342365265,0.4211684763431549,0.42104241251945496,0.4208695590496063,0.4206967353820801,0.4204753339290619,0.42030206322669983,0.4200793504714966,0.4198557436466217,0.41937968134880066,0.4219706356525421,0.42188501358032227,0.4218011200428009,0.421673446893692,0.4215005934238434,0.42132776975631714,0.4211079776287079,0.4209347069263458,0.4207136034965515,0.42049163579940796,0.4200252890586853,0.42253202199935913,0.42244288325309753,0.4223991334438324,0.42226991057395935,0.4220970571041107,0.42187926173210144,0.4217059910297394,0.42153269052505493,0.4213131368160248,0.4210459589958191,0.4231258034706116,0.42307382822036743,0.4230245053768158,0.42289313673973083,0.4227626621723175,0.4225465655326843,0.42237329483032227,0.4221999943256378,0.42198213934898376,0.4217633903026581,0.42373037338256836,0.4236730933189392,0.42361849546432495,0.42352578043937683,0.42335250973701477,0.4231792092323303,0.42300593852996826,0.42279013991355896,0.4226164221763611,0.42235589027404785,0.4243405759334564,0.4242404103279114,0.4241807758808136,0.4241237938404083,0.4239504933357239,0.4237772226333618,0.42360392212867737,0.42338964343070984,0.42321592569351196,0.42291659116744995,0.42488133907318115,0.4247790575027466,0.4247160851955414,0.42461779713630676,0.4244445264339447,0.4242323935031891,0.4240586757659912,0.42388492822647095,0.4235907196998596,0.4254903197288513,0.42538437247276306,0.42531606554985046,0.42521411180496216,0.4250403940677643,0.4248666763305664,0.42469292879104614,0.4244810938835144,0.42419129610061646,0.4260298013687134,0.42595523595809937,0.4258488118648529,0.4256742000579834,0.4255349934101105,0.4253966808319092,0.4251866638660431,0.42493897676467896,0.42664003372192383,0.42652830481529236,0.42638537287712097,0.4262433350086212,0.4261021614074707,0.4259275496006012,0.4257529377937317,0.4254726469516754,0.42706918716430664,0.426955908536911,0.4267804026603699,0.42663735151290894,0.4264622926712036,0.42625391483306885,0.42768365144729614,0.4275367558002472,0.4273907542228699,0.4272456467151642,0.42707014083862305,0.4268312156200409,0.428117036819458,0.4279690682888031,0.4278219938278198,0.42761629819869995,0.42855045199394226,0.4283736050128937,0.4290192127227783],\"y\":[0.1302182674407959,0.1339268684387207,0.1296071857213974,0.13250459730625153,0.135721355676651,0.12705636024475098,0.12996651232242584,0.1330137997865677,0.1362224817276001,0.13980241119861603,0.12758344411849976,0.1303190290927887,0.13334845006465912,0.136720210313797,0.14029546082019806,0.12518760561943054,0.12795041501522064,0.13082949817180634,0.13402201235294342,0.1372145265340805,0.1407850980758667,0.12249452620744705,0.12556904554367065,0.12846896052360535,0.13133656978607178,0.1345209926366806,0.13770543038845062,0.14127133786678314,0.1205950379371643,0.12367431074380875,0.1265837699174881,0.1294608861207962,0.13264530897140503,0.1356518417596817,0.13901416957378387,0.14258672297000885,0.11984952539205551,0.12292223423719406,0.1258266717195511,0.12885896861553192,0.13187509775161743,0.1350514441728592,0.13822779059410095,0.14159667491912842,0.11744102090597153,0.12039053440093994,0.12345346808433533,0.1263463944196701,0.12936890125274658,0.13254526257514954,0.13554352521896362,0.13889794051647186,0.14226853847503662,0.116831474006176,0.11964790523052216,0.12270427495241165,0.12574449181556702,0.12876851856708527,0.13177640736103058,0.13494466245174408,0.13811293244361877,0.14166662096977234,0.14585502445697784,0.11725233495235443,0.12018532305955887,0.1232319101691246,0.1262623369693756,0.1292765885591507,0.1324448436498642,0.1356131136417389,0.1387813687324524,0.14233846962451935,0.14633290469646454,0.11664583534002304,0.1194455698132515,0.12263000011444092,0.1256619393825531,0.12867772579193115,0.13184599578380585,0.13501425087451935,0.13818252086639404,0.1415436714887619,0.14532293379306793,0.11552269011735916,0.11833994090557098,0.12139119952917099,0.12442628294229507,0.12744522094726562,0.13061347603797913,0.13378173112869263,0.13695000112056732,0.14011825621128082,0.14368218183517456,0.1478961706161499,0.11594778299331665,0.11887862533330917,0.12192009389400482,0.12494540214538574,0.12811365723609924,0.13111472129821777,0.1342748999595642,0.13761845231056213,0.14078670740127563,0.14435404539108276,0.11390411853790283,0.1164945438504219,0.11941389739513397,0.12244558334350586,0.12561383843421936,0.12862128019332886,0.1317814588546753,0.13494163751602173,0.13828688859939575,0.14145515859127045,0.14522713422775269,0.11381912231445312,0.11640102416276932,0.11944878101348877,0.1224803775548935,0.125648632645607,0.12865598499774933,0.13181616365909576,0.1349763423204422,0.1383216828107834,0.14148995280265808,0.14506086707115173,0.1137339398264885,0.11643598973751068,0.11948366463184357,0.12251516431570053,0.12553051114082336,0.1286906898021698,0.13185086846351624,0.13501104712486267,0.1381712257862091,0.14152474701404572,0.1450958400964737,0.14932774007320404,0.11519718915224075,0.11824800074100494,0.121282659471035,0.12430114299058914,0.12746132910251617,0.13062149286270142,0.13378167152404785,0.13694186508655548,0.140292227268219,0.14365875720977783,0.147454172372818,0.11420316249132156,0.11701234430074692,0.12005013972520828,0.12321840971708298,0.12623195350170135,0.1293921321630478,0.13255231082439423,0.13571248948574066,0.1388726681470871,0.14222797751426697,0.14580266177654266,0.11267083883285522,0.11526712775230408,0.11831776797771454,0.12135224044322968,0.12437054514884949,0.12753072381019592,0.13052478432655334,0.13367688655853271,0.13701127469539642,0.14017145335674286,0.14353007078170776,0.14752447605133057,0.1137542873620987,0.1164468377828598,0.11948607861995697,0.12265433371067047,0.12566933035850525,0.1286681443452835,0.13182023167610168,0.13497233390808105,0.138310045003891,0.14166390895843506,0.14503394067287445,0.149259552359581,0.11482445150613785,0.11775226145982742,0.12078817188739777,0.12380792200565338,0.12696810066699982,0.12996359169483185,0.13311569392681122,0.1362677961587906,0.13960881531238556,0.14296600222587585,0.1465444564819336,0.11277707666158676,0.11537203937768936,0.11842241138219833,0.12145661562681198,0.1244746595621109,0.1274765282869339,0.13062863051891327,0.13378073275089264,0.13693282008171082,0.14027555286884308,0.14363445341587067,0.14742310345172882,0.11333786696195602,0.11591621488332748,0.11909256130456924,0.1221250593662262,0.12514139711856842,0.12814156711101532,0.1312936693429947,0.13444575667381287,0.13759785890579224,0.1409423053264618,0.14430288970470428,0.14830517768859863,0.11325350403785706,0.11595109850168228,0.11899159103631973,0.12215985357761383,0.1251761019229889,0.12817618250846863,0.131328284740448,0.13430412113666534,0.13763247430324554,0.14097701013088226,0.14433768391609192,0.14834032952785492,0.11328873783349991,0.11598597466945648,0.11902638524770737,0.12219464778900146,0.12521080672740936,0.12821079790592194,0.13119462132453918,0.1343386471271515,0.13766708970069885,0.14101170003414154,0.14437247812747955,0.14816679060459137,0.11332397162914276,0.11602085828781128,0.119061179459095,0.1222294420003891,0.12524551153182983,0.12824541330337524,0.13122914731502533,0.13437317311763763,0.13770170509815216,0.141046404838562,0.1444072723388672,0.1482018530368805,0.11295414716005325,0.11554688960313797,0.11859681457281113,0.12163057923316956,0.12464817613363266,0.12764960527420044,0.1306348741054535,0.1337788999080658,0.1369229108095169,0.14044907689094543,0.14380840957164764,0.1473911702632904,0.15165220201015472,0.11494497209787369,0.11799643188714981,0.12103171646595001,0.12405084818601608,0.12705381214618683,0.13004060089588165,0.13318461179733276,0.13632863759994507,0.13966219127178192,0.1430119276046753,0.14658352732658386,0.15082885324954987,0.11446642130613327,0.1173960417509079,0.12043286114931107,0.12345351278781891,0.12645800411701202,0.12944632768630981,0.13259033858776093,0.13573434948921204,0.13906638324260712,0.14241459965705872,0.14598314464092255,0.15000855922698975,0.11410665512084961,0.11679565161466599,0.11983399838209152,0.12285618484020233,0.12586219608783722,0.12885203957557678,0.1319960653781891,0.1351400762796402,0.1384705901145935,0.14181725680828094,0.1451800912618637,0.14919131994247437,0.11362046748399734,0.11619526147842407,0.11923513561487198,0.12225884944200516,0.12526638805866241,0.12825776636600494,0.13140179216861725,0.13454580307006836,0.1378747820854187,0.14121992886066437,0.14458124339580536,0.14837713539600372,0.11417712271213531,0.11686541140079498,0.11990358680486679,0.12292558699846268,0.12593142688274384,0.12892109155654907,0.13206511735916138,0.1352091282606125,0.13853982090950012,0.1418866664171219,0.14524967968463898,0.14905069768428802,0.11473037302494049,0.11753556877374649,0.120572030544281,0.1235923320055008,0.12644042074680328,0.1295844316482544,0.1327284425497055,0.1358724683523178,0.13920484483242035,0.1425534039735794,0.1459181308746338,0.15014950931072235,0.11528021842241287,0.11807221174240112,0.12109889090061188,0.12410939484834671,0.1271037459373474,0.13024775683879852,0.13339176774024963,0.13653579354286194,0.13986988365650177,0.14322015643119812,0.14679281413555145,0.15104080736637115,0.11595378071069717,0.11874065548181534,0.1217656284570694,0.12477443367242813,0.12776707112789154,0.13091108202934265,0.13405510783195496,0.13719911873340607,0.1405349224805832,0.14388689398765564,0.1476709246635437,0.1144404411315918,0.11700493842363358,0.12004275619983673,0.12306440621614456,0.12591518461704254,0.12905919551849365,0.13220322132110596,0.13534723222255707,0.13867828249931335,0.14202548563480377,0.14538885653018951,0.14919093251228333,0.11551108956336975,0.1183103621006012,0.1212029978632927,0.12421324104070663,0.12720732390880585,0.13035133481025696,0.13349536061286926,0.13663937151432037,0.1399737298488617,0.14332427084445953,0.14689746499061584,0.1511467844247818,0.11605895310640335,0.11884503811597824,0.12186974287033081,0.12487827241420746,0.12787064909934998,0.1310146600008011,0.1341586858034134,0.1373026967048645,0.14063875377178192,0.14399100840091705,0.14756761491298676,0.1520417481660843,0.11673251539468765,0.11951348185539246,0.12253648042678833,0.12554331123828888,0.1285339742898941,0.1316780000925064,0.13482201099395752,0.13796602189540863,0.14130379259586334,0.14485958218574524,0.1484476923942566,0.1153494268655777,0.11777973175048828,0.12067507207393646,0.12368666380643845,0.1266821026802063,0.1298261135816574,0.13297012448310852,0.13611415028572083,0.1394471526145935,0.1427963376045227,0.14616167545318604,0.15039615333080292,0.1168026328086853,0.11958306282758713,0.12260588258504868,0.1256125420331955,0.1286030262708664,0.13157735764980316,0.1348910629749298,0.13803507387638092,0.14137302339076996,0.14492915570735931,0.1485176384449005,0.11593909561634064,0.11848476529121399,0.12137652188539505,0.12438631802797318,0.12737995386123657,0.13035741448402405,0.1336679905653,0.1368120014667511,0.14014680683612823,0.1434977799654007,0.14707186818122864,0.11545566469430923,0.11801706999540329,0.12091995775699615,0.12393936514854431,0.12678568065166473,0.12976466119289398,0.13290059566497803,0.13621772825717926,0.13955099880695343,0.14290045201778412,0.14626605808734894,0.15071538090705872,0.11805204302072525,0.12095474451780319,0.12397406995296478,0.12682020664215088,0.12979911267757416,0.132935032248497,0.1362522542476654,0.13958561420440674,0.1429351568222046,0.14630085229873657,0.15075071156024933,0.11808700859546661,0.12098953872919083,0.12400877475738525,0.12685473263263702,0.12983354926109314,0.13314275443553925,0.13628678023815155,0.13962022960186005,0.14296986162662506,0.14654123783111572,0.15078602731227875,0.11812198162078857,0.12102433294057846,0.12404347956180573,0.12688925862312317,0.13003326952457428,0.1331772804260254,0.1363213062286377,0.13965484499931335,0.14300456643104553,0.14657612144947052,0.15082135796546936,0.11815694719552994,0.1210591271519661,0.1240781843662262,0.12692378461360931,0.13006779551506042,0.13321180641651154,0.13635583221912384,0.13968946039676666,0.1430392563343048,0.14661100506782532,0.15085668861865997,0.1181919202208519,0.12109392136335373,0.12411288917064667,0.12695831060409546,0.13010232150554657,0.13324633240699768,0.13639035820960999,0.13972407579421997,0.14307396113872528,0.14664588868618011,0.1508920043706894,0.11822689324617386,0.12112870812416077,0.12414759397506714,0.1269928365945816,0.13013684749603271,0.13328085839748383,0.13642488420009613,0.13975869119167328,0.14310866594314575,0.1466807723045349,0.11634853482246399,0.11876381933689117,0.12179715186357498,0.12481433153152466,0.12765616178512573,0.13080017268657684,0.13394419848918915,0.13727162778377533,0.1404237300157547,0.14377541840076447,0.14735090732574463,0.11690036952495575,0.11943396925926208,0.12232089042663574,0.12532827258110046,0.12831950187683105,0.13146349787712097,0.13460752367973328,0.13793666660785675,0.14128196239471436,0.14464344084262848,0.14843980967998505,0.11744878441095352,0.120104119181633,0.12298762798309326,0.12599331140518188,0.128982812166214,0.1321268379688263,0.1354495882987976,0.13860169053077698,0.14194871485233307,0.1453118771314621,0.1493244469165802,0.1179938018321991,0.12063422799110413,0.12365436553955078,0.1266583353281021,0.12981043756008148,0.13296252489089966,0.13611462712287903,0.1392667293548584,0.1426154524087906,0.1459803283214569,0.15021249651908875,0.11853539943695068,0.12130267173051834,0.1243211105465889,0.12732337415218353,0.1304754763841629,0.13362756371498108,0.13677966594696045,0.13993176817893982,0.1432821899652481,0.1468551754951477,0.15131844580173492,0.11857046186923981,0.12133746594190598,0.12435581535100937,0.12735798954963684,0.1305100917816162,0.1336621791124344,0.13681428134441376,0.13996638357639313,0.14331689476966858,0.1468900591135025,0.1513538509607315,0.11910856515169144,0.12200590968132019,0.12502256035804749,0.12802302837371826,0.13117511570453644,0.1343272179365158,0.13747932016849518,0.14082345366477966,0.1439836323261261,0.1475602090358734,0.11724139750003815,0.11964325606822968,0.12252911180257797,0.1255359649658203,0.12868806719779968,0.13184015452861786,0.13499225676059723,0.1381443589925766,0.14149019122123718,0.1448521912097931,0.1486501693725586,0.11779099702835083,0.12031340599060059,0.12319584935903549,0.12620098888874054,0.1293530911207199,0.13250519335269928,0.13565728068351746,0.13880938291549683,0.1421569287776947,0.1455206423997879,0.1493237316608429,0.11833717674016953,0.1209835559129715,0.12386259436607361,0.12686602771282196,0.13001812994480133,0.1331702172756195,0.13632231950759888,0.13947442173957825,0.14282366633415222,0.14618907868862152,0.15021060407161713,0.11887995153665543,0.12151142954826355,0.12452933192253113,0.12753106653690338,0.1305166333913803,0.13366064429283142,0.1369873583316803,0.1403302252292633,0.14349041879177094,0.1470644623041153,0.15110088884830475,0.11941931396722794,0.12217987328767776,0.12519606947898865,0.1281961053609848,0.13117995858192444,0.13432398438453674,0.13765239715576172,0.14099696278572083,0.14415715634822845,0.1477346122264862,0.15177786350250244,0.11959036439657211,0.1222146674990654,0.12523077428340912,0.1282307207584381,0.13121448457241058,0.1343585103750229,0.13768699765205383,0.1408390998840332,0.14419186115264893,0.147769495844841,0.1515962779521942,0.1196255162358284,0.12224945425987244,0.1252654790878296,0.12826533615589142,0.13124901056289673,0.13439303636550903,0.13772161304950714,0.1408737152814865,0.1442265659570694,0.1478043645620346,0.1516314297914505,0.11979682743549347,0.12242849916219711,0.12530018389225006,0.12829995155334473,0.13128353655338287,0.13442756235599518,0.1375715732574463,0.14090833067893982,0.14426127076148987,0.14763034880161285,0.15144957602024078,0.11881464719772339,0.12133394926786423,0.12421999871730804,0.1270737200975418,0.13006046414375305,0.13320447504520416,0.13634848594665527,0.1396821141242981,0.14303189516067505,0.14639782905578613,0.14977993071079254,0.15384401381015778,0.12050903588533401,0.12313353270292282,0.12600162625312805,0.12899959087371826,0.13198140263557434,0.13512541353702545,0.13826942443847656,0.14160798490047455,0.14496271312236786,0.1483335942029953,0.15193942189216614,0.15625818073749542,0.1220407783985138,0.1249232366681099,0.12777337431907654,0.13075831532478333,0.13390232622623444,0.13704635202884674,0.14038175344467163,0.14373333752155304,0.14689351618289948,0.15026932954788208,0.15410876274108887,0.12071765214204788,0.12334951758384705,0.126071035861969,0.12906882166862488,0.13205045461654663,0.13519446551799774,0.13833847641944885,0.14167721569538116,0.1450321227312088,0.14840316772460938,0.15179039537906647,0.15587492287158966,0.12225379049777985,0.12499282509088516,0.1280018538236618,0.13099469244480133,0.13397137820720673,0.13711540400981903,0.14025941491127014,0.14360308647155762,0.14696292579174042,0.15033891797065735,0.15395498275756836,0.1209266185760498,0.12341945618391037,0.12629492580890656,0.1291380524635315,0.13229015469551086,0.13526351749897003,0.13840752840042114,0.14174644649028778,0.14510151743888855,0.14826169610023499,0.15164101123809814,0.1554909497499466,0.12275367975234985,0.12521374225616455,0.12807124853134155,0.13106392323970795,0.13404043018817902,0.13718445599079132,0.14052021503448486,0.14367231726646423,0.14703233540058136,0.15040850639343262,0.1538008451461792,0.15837015211582184,0.12427447736263275,0.1269981563091278,0.13000206649303436,0.1329897940158844,0.1359613686800003,0.13929399847984314,0.14244608581066132,0.14580295979976654,0.14896315336227417,0.1523442566394806,0.15619955956935883,0.12396436929702759,0.12655404210090637,0.12940473854541779,0.13256490230560303,0.13554608821868896,0.13869819045066833,0.1418502777814865,0.14520563185214996,0.1483658105134964,0.15174539387226105,0.1553686410188675,0.12364814430475235,0.12626010179519653,0.12896870076656342,0.13196757435798645,0.13495028018951416,0.13810238242149353,0.1412544846534729,0.1446083039045334,0.14776848256587982,0.1511465311050415,0.1545407474040985,0.15912136435508728,0.12629516422748566,0.1291648894548416,0.13200227916240692,0.13498489558696747,0.13813699781894684,0.1412891000509262,0.14464300870895386,0.1478031873703003,0.15118132531642914,0.1545756310224533,0.15915678441524506,0.12712374329566956,0.1299981325864792,0.13266901671886444,0.1356499344110489,0.13880203664302826,0.14214956760406494,0.14530974626541138,0.1484699249267578,0.15184977650642395,0.15547354519367218,0.1268257349729538,0.1295577883720398,0.13224133849143982,0.1352318674325943,0.13820622861385345,0.14155222475528717,0.1447124183177948,0.14787259697914124,0.1512509137392044,0.1546453982591629,0.1270146369934082,0.12975451350212097,0.13244587182998657,0.13526657223701477,0.1384267508983612,0.14158692955970764,0.14474712312221527,0.14811745285987854,0.15128570795059204,0.15490660071372986,0.1276950240135193,0.13059313595294952,0.1332874596118927,0.1359333097934723,0.13909348845481873,0.14225366711616516,0.1454138606786728,0.14878588914871216,0.15195414423942566,0.15580646693706512,0.13014847040176392,0.1330253779888153,0.13569197058677673,0.13849616050720215,0.14165633916854858,0.1450187712907791,0.14818702638149261,0.15135528147220612,0.15520302951335907,0.13034571707248688,0.1332305371761322,0.1359049528837204,0.13871702551841736,0.14188529551029205,0.14505356550216675,0.14822182059288025,0.15160857141017914,0.15546467900276184,0.13231602311134338,0.1350160390138626,0.1378505825996399,0.14103500545024872,0.1440202295780182,0.14698930084705353,0.1503729224205017,0.15399613976478577,0.13299641013145447,0.13586795330047607,0.13889189064502716,0.14189967513084412,0.14489127695560455,0.14807571470737457,0.1512601375579834,0.15511998534202576,0.1373666375875473,0.14020727574825287,0.1434078812599182,0.1464042365550995,0.14959675073623657,0.15300963819026947,0.13758201897144318,0.1406187117099762,0.14363925158977509,0.14664360880851746,0.1498442143201828,0.1534857451915741,0.1414872258901596,0.14451414346694946,0.147524893283844,0.1509476602077484,0.14539246261119843,0.14861729741096497,0.14865271747112274],\"z\":[-0.0019121811492368579,-0.0008615690167061985,-0.0019220361718907952,0.00011717805318767205,0.00016131608572322875,-0.001958506880328059,8.088943286566064e-05,0.0011224645422771573,0.0011664917692542076,-0.0007838821038603783,-0.0009530085371807218,0.002083765808492899,0.003125099465250969,0.0021715983748435974,0.00022115306637715548,-0.0019870889373123646,0.0010500699281692505,0.0030890845227986574,0.0031328897457569838,0.0031766952015459538,0.0012261783704161644,-0.0010257679969072342,1.6161870007636026e-05,0.0020554696675390005,0.004094333853572607,0.004138028249144554,0.004181722644716501,0.002231134567409754,-0.0010532980086281896,-1.129908469010843e-05,0.0020281467586755753,0.0040671490132808685,0.004110843408852816,0.005151873920112848,0.00419823219999671,0.0022477279417216778,-6.524286436615512e-05,0.0009766994044184685,0.0030160837341099977,0.004057441838085651,0.005098607856780291,0.0051421914249658585,0.005185774993151426,0.00423221942037344,-0.0010995081393048167,0.0009405020973645151,0.0019822840113192797,0.0040215179324150085,0.00506277522072196,0.005106358788907528,0.006147253327071667,0.005193525925278664,0.004239989910274744,-0.0011093384819105268,0.0019286113092675805,0.002970336936414242,0.004011810757219791,0.00505309272557497,0.006094122771173716,0.006137595511972904,0.006181068252772093,0.004230282735079527,-0.0007110981387086213,0.0008945235749706626,0.0029343217611312866,0.0039758868515491486,0.00501726008951664,0.006058381404727697,0.006101854145526886,0.006145326886326075,0.006188799161463976,0.004238053224980831,0.000293754565063864,0.0008847425342537463,0.003922485280781984,0.003966179676353931,0.00500757759436965,0.006048723589628935,0.0060921963304281235,0.006135668605566025,0.006179141346365213,0.005225494969636202,0.0022779947612434626,-0.00013192679034546018,0.00290609709918499,0.003947733901441097,0.004989177919924259,0.006030370946973562,0.006073843687772751,0.0061173164285719395,0.006160788703709841,0.006204261444509029,0.004253594670444727,-0.0006874905666336417,0.0018720190273597836,0.003911809995770454,0.004953345283865929,0.005994629580527544,0.006038102321326733,0.007079053670167923,0.007122415117919445,0.006168520078063011,0.0062119928188622,0.004261365160346031,-0.0021566147916018963,0.0028778724372386932,0.004917512647807598,0.005958888214081526,0.006002360954880714,0.00704340310767293,0.007086765021085739,0.0071301269344985485,0.0061762514524161816,0.006219723727554083,0.003272120375186205,-0.001159470877610147,0.0038749175146222115,0.004916546866297722,0.005957924760878086,0.006001397501677275,0.007042442448437214,0.007085803896188736,0.007129165809601545,0.006175287999212742,0.0062187607400119305,0.004268167540431023,-0.00016232211783062667,0.0038739494048058987,0.004915581084787846,0.005956961307674646,0.006998119875788689,0.007041481323540211,0.00708484323695302,0.007128204684704542,0.0071715665981173515,0.006217797286808491,0.0042671989649534225,-0.000673713511787355,0.003855503164231777,0.004897181876003742,0.005938609130680561,0.006979814264923334,0.007023175712674856,0.0070665376260876656,0.007109899073839188,0.007153260987251997,0.006199444644153118,0.005245849955826998,0.0022985052783042192,0.0018408031901344657,0.004878782667219639,0.0059202564880251884,0.005963729228824377,0.007004870101809502,0.007048232015222311,0.007091593462973833,0.0071349553763866425,0.007178317289799452,0.006224564742296934,0.004274001345038414,-0.0011810929281637073,0.003853566711768508,0.00489525031298399,0.005936682224273682,0.006977892480790615,0.007021253928542137,0.00806216150522232,0.008105412125587463,0.007151339203119278,0.0071947006508708,0.006240990478545427,0.002296558814123273,0.000831934274174273,0.004868134390562773,0.005909635219722986,0.005953107960522175,0.006994275841861963,0.008035251870751381,0.008078503422439098,0.008121754042804241,0.0071677230298519135,0.006213943473994732,0.005260386038571596,0.0003192835138179362,0.0028447937220335007,0.004884601570665836,0.005926060955971479,0.006967298220843077,0.007010659668594599,0.008051593787968159,0.008094844408333302,0.008138095960021019,0.007184106856584549,0.006230369210243225,0.004279835615307093,-0.001184034743346274,0.0038506616838276386,0.004892352502793074,0.0059337918646633625,0.006975009571760893,0.008016034960746765,0.008059285581111908,0.00810253620147705,0.008145787753164768,0.007191818207502365,0.006238100118935108,0.003290637396275997,-0.00017799668421503156,0.004856519866734743,0.004900103434920311,0.005941523239016533,0.006982720922678709,0.008023726753890514,0.008066977374255657,0.0081102279946208,0.008153478614985943,0.007199529558420181,0.006245831493288279,0.002301448956131935,0.0008192261448130012,0.004855554085224867,0.005897087045013905,0.005940559785813093,0.006981759797781706,0.008022768422961235,0.008066019043326378,0.009106664918363094,0.008152520284056664,0.007198568433523178,0.006244868040084839,0.002300475724041462,0.0008182504680007696,0.004854588303714991,0.005896123591810465,0.0059395963326096535,0.00698079913854599,0.008021809160709381,0.0090625686571002,0.009105708450078964,0.008151561953127384,0.007197607774287462,0.006243904586881399,0.0032964861020445824,0.0008172747911885381,0.004853622522205114,0.005895160138607025,0.005938632879406214,0.006979838013648987,0.008020850829780102,0.009061613120138645,0.009104752913117409,0.008150603622198105,0.007196646649390459,0.0062429411336779594,0.0032955154310911894,-0.001188937691040337,0.0038458202034235,0.004887523595243692,0.005928975064307451,0.006970204878598452,0.008011242374777794,0.009052028879523277,0.00909516867250204,0.009138308465480804,0.007187013514339924,0.006233283318579197,0.004282764624804258,-0.0006579507025890052,0.003836113028228283,0.004877840634435415,0.005919317249208689,0.006960571743547916,0.008001633919775486,0.00904244463890791,0.009085584431886673,0.009128724224865437,0.008174637332558632,0.007220741827040911,0.005270092282444239,0.00032911362359300256,0.002828266704455018,0.0048681581392884254,0.005909658968448639,0.006950938142836094,0.007992025464773178,0.009032860398292542,0.009076000191271305,0.009119140915572643,0.008165028877556324,0.0072111086919903755,0.005260409787297249,0.001316256821155548,0.0008221774478442967,0.004858475644141436,0.005900001153349876,0.006941305007785559,0.00798241700977087,0.009023277088999748,0.009066416881978512,0.009109556674957275,0.008155419491231441,0.00720147555693984,0.006247782148420811,0.0023034196346998215,-0.00018582178745418787,0.004848793148994446,0.005890343338251114,0.0069316718727350235,0.007972807623445988,0.00901369284838438,0.009056832641363144,0.009099972434341908,0.008145811036229134,0.007191841956228018,0.006238124333322048,0.003290661610662937,0.0008202260942198336,0.004856544081121683,0.005898074246942997,0.00693938322365284,0.007980499416589737,0.009021365083754063,0.009064504876732826,0.00910764466971159,0.008153502829372883,0.007199553307145834,0.006245855242013931,0.0032984516583383083,0.00182620482519269,0.0048642950132489204,0.005905805621296167,0.006947094574570656,0.008985896594822407,0.00902903638780117,0.009072176180779934,0.009115316905081272,0.008161194622516632,0.00720726465806365,0.006253586616367102,0.001312354113906622,0.0028321738354861736,0.005870064254850149,0.006911444012075663,0.007952632382512093,0.008993568830192089,0.009036708623170853,0.009079848416149616,0.00912298820912838,0.008168886415660381,0.007214976474642754,0.005264297593384981,0.00032324480707757175,0.0028399641159921885,0.005877795163542032,0.006919155828654766,0.007960324175655842,0.009001241065561771,0.009044380858540535,0.009087520651519299,0.009130660444498062,0.00817657820880413,0.00722268782556057,0.004275017883628607,-0.0001818848541006446,0.004852680489420891,0.0058942208997905254,0.006935539189726114,0.008974400348961353,0.009017540141940117,0.009060680866241455,0.009103820659220219,0.008149669505655766,0.007195709738880396,0.00624200189486146,0.0032945687416940928,0.0018310952000319958,0.004869148135185242,0.006908561568707228,0.00794975645840168,0.008990700356662273,0.009033840149641037,0.009076980873942375,0.009120120666921139,0.008166010491549969,0.007212093565613031,0.005261399783194065,0.0003203103842679411,0.002837051870301366,0.005874905269593,0.006916272919625044,0.00795744825154543,0.008998372592031956,0.00904151238501072,0.009084652177989483,0.009127791970968246,0.008173702284693718,0.0072198049165308475,0.005269150715321302,-0.0006687372224405408,0.0028448421508073807,0.0058826361782848835,0.00692398427054286,0.007965140044689178,0.009006044827401638,0.009049184620380402,0.009092324413359165,0.009135464206337929,0.008181394077837467,0.006230417173355818,0.004279883578419685,-0.0011751360725611448,0.004857534077018499,0.006897006183862686,0.007938231341540813,0.008979205042123795,0.009022344835102558,0.009065484628081322,0.009108624421060085,0.008154485374689102,0.00720053818076849,0.006246842909604311,0.0013055243762210011,0.002842900576069951,0.005880709271878004,0.006922062486410141,0.00796322338283062,0.009004132822155952,0.01004484947770834,0.00909041240811348,0.009133552201092243,0.008179477415978909,0.006228490266948938,0.0042779468931257725,-0.00017009851580951363,0.004864318761974573,0.0069037568755447865,0.007944964803755283,0.008985920809209347,0.01002668496221304,0.009072200395166874,0.009115340188145638,0.008161218836903572,0.00720728887245059,0.0052565704099833965,-0.0011780778877437115,0.00385654391720891,0.0058961715549230576,0.006937485188245773,0.008976336568593979,0.010017124935984612,0.010060153901576996,0.00910575594753027,0.00815160945057869,0.007197655737400055,0.006243952549993992,0.0003056139685213566,0.0038555755745619535,0.005895208101719618,0.00693652406334877,0.008975381031632423,0.01001617219299078,0.010059201158583164,0.009104800410568714,0.00815065111964941,0.007196694612503052,0.006242989096790552,0.0003046358178835362,0.003854607231914997,0.0058942451141774654,0.006935563404113054,0.008974424563348293,0.010015218518674374,0.00906070414930582,0.009103843942284584,0.008149692788720131,0.007195733487606049,0.005244956351816654,0.0003036576963495463,0.0038536391220986843,0.005893281660974026,0.006934602279216051,0.008973469026386738,0.009016608819365501,0.009059748612344265,0.009102888405323029,0.008148734457790852,0.007194772828370333,0.005243990570306778,0.00030267954571172595,0.003852670779451728,0.005892318207770586,0.006933641619980335,0.008972512558102608,0.009015652351081371,0.009058792144060135,0.009101931937038898,0.008147776126861572,0.0071938117034733295,0.005243024788796902,0.00030170142417773604,0.0038517024368047714,0.005891354754567146,0.006932680495083332,0.008971556089818478,0.009014696814119816,0.00905783660709858,0.009100976400077343,0.008146817795932293,0.007192851044237614,0.0052420590072870255,0.0003007232735399157,0.003850734094157815,0.005890391301363707,0.006931719370186329,0.008970600552856922,0.009013740345835686,0.00905688013881445,0.009100019931793213,0.008145859465003014,0.0071918899193406105,0.005241092760115862,-0.0011760921915993094,0.004856592044234276,0.005898122675716877,0.006939431186765432,0.008978272788226604,0.009021412581205368,0.009064552374184132,0.008110299706459045,0.008153550326824188,0.007199601270258427,0.005248843692243099,-0.00017007415590342134,0.004864342976361513,0.006903780624270439,0.007944988086819649,0.008985944092273712,0.009029083885252476,0.009072224609553814,0.008117991499602795,0.007163951173424721,0.006210161838680506,0.003262485144659877,0.0008359341882169247,0.0048720939084887505,0.006911491975188255,0.007952679879963398,0.008993616327643394,0.009036756120622158,0.008082432672381401,0.008125683292746544,0.007171662524342537,0.006217893213033676,0.0022732256911695004,0.0018418733961880207,0.005877843126654625,0.0069192033261060715,0.007960371673107147,0.00800362229347229,0.008046872913837433,0.00809012446552515,0.008133375085890293,0.007179373875260353,0.006225624121725559,0.0012840350391343236,0.0028478028252720833,0.005885574501007795,0.006926915142685175,0.007968063466250896,0.00801131408661604,0.008054564706981182,0.008097815327346325,0.008141066879034042,0.007187085226178169,0.005236263852566481,-0.000702126242686063,0.0028468321543186903,0.005884611047804356,0.006925954017788172,0.007967105135321617,0.00801035575568676,0.008053606376051903,0.008096856996417046,0.008140108548104763,0.007186124566942453,0.005235298071056604,-0.0007031068671494722,0.003852694761008024,0.005892341956496239,0.006933665368705988,0.007974796928465366,0.00801804754883051,0.008061298169195652,0.008104548789560795,0.00715047400444746,0.0071938359178602695,0.005243048537522554,-0.0011741066118702292,0.004858547821640968,0.006898015271872282,0.007939237169921398,0.007982488721609116,0.008025739341974258,0.008068989962339401,0.008112240582704544,0.007158185355365276,0.006204381585121155,0.0032566606532782316,-0.00016809350927360356,0.004866298753768206,0.006905726622790098,0.007946928963065147,0.00799017958343029,0.008033431135118008,0.00807668175548315,0.008119932375848293,0.0071658967062830925,0.006212112959474325,0.0032644509337842464,0.0008379098726436496,0.004874049685895443,0.006913437973707914,0.007954620756208897,0.00799787137657404,0.008041121996939182,0.0080843735486269,0.008127624168992043,0.007173608057200909,0.006219843868166208,0.0022751963697373867,0.001843844074755907,0.005879794247448444,0.0069211493246257305,0.007962312549352646,0.009003223851323128,0.009046363644301891,0.008092065341770649,0.007137957960367203,0.007181319873780012,0.005230468697845936,0.0012860108399763703,0.002849768614396453,0.0058875251561403275,0.006928860675543547,0.007970004342496395,0.00901089608669281,0.009054035879671574,0.008099756203591824,0.007145669311285019,0.007189031224697828,0.005238219629973173,0.0012938405852764845,0.0018506809137761593,0.005886561702936888,0.006927900016307831,0.007969046011567116,0.009009940549731255,0.009053080342710018,0.008098797872662544,0.008142049424350262,0.007188070099800825,0.00523725338280201,0.0022898430470377207,0.0018497076816856861,0.005885598249733448,0.006926938891410828,0.007968087680637836,0.009008984081447124,0.009052123874425888,0.008097839541733265,0.008141090162098408,0.007187109440565109,0.005236287601292133,0.0022888698149472475,0.0008506423328071833,0.0048866537399590015,0.0069259777665138245,0.007967128418385983,0.009008027613162994,0.009051168337464333,0.009094308130443096,0.008140131831169128,0.007186148315668106,0.006232415791600943,0.0032849095296114683,-0.0011642518220469356,0.0038701966404914856,0.005909755360335112,0.007948869839310646,0.008989815600216389,0.009032956324517727,0.00907609611749649,0.008121873252093792,0.0071678427048027515,0.006214063614606857,0.0052605061791837215,0.0013163541443645954,0.0008574964012950659,0.004893438890576363,0.006932728458195925,0.007973861880600452,0.009014744311571121,0.009057884104549885,0.009101023897528648,0.008146865293383598,0.007192899007350206,0.006239183712750673,0.004288694821298122,-0.0006519448943436146,0.003876999020576477,0.005916522815823555,0.007955603301525116,0.008996532298624516,0.009039672091603279,0.009082811884582043,0.008128606714308262,0.0071745929308235645,0.007217954844236374,0.006264303810894489,0.0033170415554195642,-0.00014256444410420954,0.0038935085758566856,0.006930806674063206,0.007971945218741894,0.009012832306325436,0.0090559720993042,0.009099111892282963,0.00814494863152504,0.0071909767575562,0.006237256806343794,0.0052837589755654335,0.0013398433802649379,0.0028770468197762966,0.005914596375077963,0.006955862510949373,0.0079969372600317,0.009037760086357594,0.009080899879336357,0.00912403967231512,0.008169940672814846,0.007216033060103655,0.00626237690448761,0.0043120067566633224,-0.0011426054406911135,0.0038915718905627728,0.005931021645665169,0.007970028556883335,0.008013279177248478,0.009054060094058514,0.009097199887037277,0.008143031038343906,0.007189054973423481,0.00723241688683629,0.006278802640736103,0.0033316512126475573,-0.00011901604011654854,0.004914759658277035,0.006953940726816654,0.007995019666850567,0.009035848081111908,0.009078987874090672,0.00812477245926857,0.008168023079633713,0.007214111275970936,0.006260450463742018,0.005307011306285858,-0.0006302985129877925,0.002900417661294341,0.0059377895668148994,0.006978996563702822,0.008020011708140373,0.009060775861144066,0.008106513880193233,0.008149764500558376,0.007195805665105581,0.007239167112857103,0.006285570561885834,0.003338470822200179,0.0008946937741711736,0.004930261522531509,0.0069693634286522865,0.007012725342065096,0.008053653873503208,0.008096905425190926,0.008140156045556068,0.007186172064393759,0.007229533977806568,0.006275912746787071,0.004325611051172018,-0.0011111286003142595,0.002924759406596422,0.005961946211755276,0.007003091741353273,0.0080440454185009,0.008087296038866043,0.00813054759055376,0.007176538929343224,0.007219900842756033,0.006266254466027021,0.005312830209732056,-0.0006243905518203974,0.0029237885028123856,0.004963196348398924,0.0070021310821175575,0.008043087087571621,0.008086337707936764,0.008129589259624481,0.00717557780444622,0.00721893971785903,0.006265291478484869,0.005311864428222179,-0.0006253711180761456,0.0019336715340614319,0.003973151091486216,0.007009842433035374,0.00805077888071537,0.008094029501080513,0.0071399277076125145,0.007183289621025324,0.007226651068776846,0.006273022387176752,0.004322706256061792,-7.19192175893113e-05,0.002965652383863926,0.006002528592944145,0.0070435707457363605,0.008084421046078205,0.007130294572561979,0.007173656020313501,0.007217017933726311,0.00626336457207799,0.005309932865202427,-0.0010708021000027657,0.001966858049854636,0.005003882572054863,0.007042610086500645,0.007085971534252167,0.007129333447664976,0.0071726953610777855,0.006218928378075361,0.00626240111887455,0.004312030505388975,-0.0010629328899085522,0.0009768939344212413,0.00401394022628665,0.007050321437418461,0.00709368335083127,0.007137044798582792,0.007180406711995602,0.006226659752428532,0.006270132027566433,0.0033229144755750895,-3.071559694944881e-05,0.0020088276360183954,0.005045534111559391,0.007084049750119448,0.007127411663532257,0.0061735291965305805,0.006217001937329769,0.0062604742124676704,0.003313182620331645,-0.0010294949170202017,0.001010164269246161,0.004046959336847067,0.006085620261728764,0.006129093002527952,0.006172565743327141,0.006216038484126329,0.005262486170977354,0.0023152681533247232,-0.0010039262706413865,0.002033231081441045,0.0040722074918448925,0.00411590188741684,0.005156919825822115,0.006197685841470957,0.005244086496531963,0.003293718909844756,-0.000996057060547173,0.0010434344876557589,0.002084957202896476,0.003126288065686822,0.004167367238551378,0.004211061634123325,0.0042547560296952724,0.0013075972674414515,6.247548299143091e-05,0.0021015505772083998,0.002145466860383749,0.003186644520610571,0.003230449976399541,0.002277215477079153,-0.0009360697004012764,0.00010563537944108248,0.001147148315794766,0.002188409911468625,0.0022323261946439743,0.0002821874222718179,-0.000883951666764915,0.0001576228823978454,0.0011990051716566086,0.0002458988456055522,-0.0008318335167132318,-0.0007875845185481012,-0.0007885651430115104],\"type\":\"scatter3d\"}],                        {\"updatemenus\":[{\"buttons\":[{\"args\":[null,{\"frame\":{\"duration\":50,\"redraw\":true},\"transition\":{\"duration\":0},\"fromcurrent\":true,\"mode\":\"immediate\"}],\"label\":\"Play\",\"method\":\"animate\"}],\"pad\":{\"r\":10,\"t\":45},\"showactive\":false,\"type\":\"buttons\",\"x\":1,\"xanchor\":\"left\",\"y\":1,\"yanchor\":\"bottom\"}],\"template\":{\"data\":{\"histogram2dcontour\":[{\"type\":\"histogram2dcontour\",\"colorbar\":{\"outlinewidth\":0,\"ticks\":\"\"},\"colorscale\":[[0.0,\"#0d0887\"],[0.1111111111111111,\"#46039f\"],[0.2222222222222222,\"#7201a8\"],[0.3333333333333333,\"#9c179e\"],[0.4444444444444444,\"#bd3786\"],[0.5555555555555556,\"#d8576b\"],[0.6666666666666666,\"#ed7953\"],[0.7777777777777778,\"#fb9f3a\"],[0.8888888888888888,\"#fdca26\"],[1.0,\"#f0f921\"]]}],\"choropleth\":[{\"type\":\"choropleth\",\"colorbar\":{\"outlinewidth\":0,\"ticks\":\"\"}}],\"histogram2d\":[{\"type\":\"histogram2d\",\"colorbar\":{\"outlinewidth\":0,\"ticks\":\"\"},\"colorscale\":[[0.0,\"#0d0887\"],[0.1111111111111111,\"#46039f\"],[0.2222222222222222,\"#7201a8\"],[0.3333333333333333,\"#9c179e\"],[0.4444444444444444,\"#bd3786\"],[0.5555555555555556,\"#d8576b\"],[0.6666666666666666,\"#ed7953\"],[0.7777777777777778,\"#fb9f3a\"],[0.8888888888888888,\"#fdca26\"],[1.0,\"#f0f921\"]]}],\"heatmap\":[{\"type\":\"heatmap\",\"colorbar\":{\"outlinewidth\":0,\"ticks\":\"\"},\"colorscale\":[[0.0,\"#0d0887\"],[0.1111111111111111,\"#46039f\"],[0.2222222222222222,\"#7201a8\"],[0.3333333333333333,\"#9c179e\"],[0.4444444444444444,\"#bd3786\"],[0.5555555555555556,\"#d8576b\"],[0.6666666666666666,\"#ed7953\"],[0.7777777777777778,\"#fb9f3a\"],[0.8888888888888888,\"#fdca26\"],[1.0,\"#f0f921\"]]}],\"heatmapgl\":[{\"type\":\"heatmapgl\",\"colorbar\":{\"outlinewidth\":0,\"ticks\":\"\"},\"colorscale\":[[0.0,\"#0d0887\"],[0.1111111111111111,\"#46039f\"],[0.2222222222222222,\"#7201a8\"],[0.3333333333333333,\"#9c179e\"],[0.4444444444444444,\"#bd3786\"],[0.5555555555555556,\"#d8576b\"],[0.6666666666666666,\"#ed7953\"],[0.7777777777777778,\"#fb9f3a\"],[0.8888888888888888,\"#fdca26\"],[1.0,\"#f0f921\"]]}],\"contourcarpet\":[{\"type\":\"contourcarpet\",\"colorbar\":{\"outlinewidth\":0,\"ticks\":\"\"}}],\"contour\":[{\"type\":\"contour\",\"colorbar\":{\"outlinewidth\":0,\"ticks\":\"\"},\"colorscale\":[[0.0,\"#0d0887\"],[0.1111111111111111,\"#46039f\"],[0.2222222222222222,\"#7201a8\"],[0.3333333333333333,\"#9c179e\"],[0.4444444444444444,\"#bd3786\"],[0.5555555555555556,\"#d8576b\"],[0.6666666666666666,\"#ed7953\"],[0.7777777777777778,\"#fb9f3a\"],[0.8888888888888888,\"#fdca26\"],[1.0,\"#f0f921\"]]}],\"surface\":[{\"type\":\"surface\",\"colorbar\":{\"outlinewidth\":0,\"ticks\":\"\"},\"colorscale\":[[0.0,\"#0d0887\"],[0.1111111111111111,\"#46039f\"],[0.2222222222222222,\"#7201a8\"],[0.3333333333333333,\"#9c179e\"],[0.4444444444444444,\"#bd3786\"],[0.5555555555555556,\"#d8576b\"],[0.6666666666666666,\"#ed7953\"],[0.7777777777777778,\"#fb9f3a\"],[0.8888888888888888,\"#fdca26\"],[1.0,\"#f0f921\"]]}],\"mesh3d\":[{\"type\":\"mesh3d\",\"colorbar\":{\"outlinewidth\":0,\"ticks\":\"\"}}],\"scatter\":[{\"fillpattern\":{\"fillmode\":\"overlay\",\"size\":10,\"solidity\":0.2},\"type\":\"scatter\"}],\"parcoords\":[{\"type\":\"parcoords\",\"line\":{\"colorbar\":{\"outlinewidth\":0,\"ticks\":\"\"}}}],\"scatterpolargl\":[{\"type\":\"scatterpolargl\",\"marker\":{\"colorbar\":{\"outlinewidth\":0,\"ticks\":\"\"}}}],\"bar\":[{\"error_x\":{\"color\":\"#2a3f5f\"},\"error_y\":{\"color\":\"#2a3f5f\"},\"marker\":{\"line\":{\"color\":\"#E5ECF6\",\"width\":0.5},\"pattern\":{\"fillmode\":\"overlay\",\"size\":10,\"solidity\":0.2}},\"type\":\"bar\"}],\"scattergeo\":[{\"type\":\"scattergeo\",\"marker\":{\"colorbar\":{\"outlinewidth\":0,\"ticks\":\"\"}}}],\"scatterpolar\":[{\"type\":\"scatterpolar\",\"marker\":{\"colorbar\":{\"outlinewidth\":0,\"ticks\":\"\"}}}],\"histogram\":[{\"marker\":{\"pattern\":{\"fillmode\":\"overlay\",\"size\":10,\"solidity\":0.2}},\"type\":\"histogram\"}],\"scattergl\":[{\"type\":\"scattergl\",\"marker\":{\"colorbar\":{\"outlinewidth\":0,\"ticks\":\"\"}}}],\"scatter3d\":[{\"type\":\"scatter3d\",\"line\":{\"colorbar\":{\"outlinewidth\":0,\"ticks\":\"\"}},\"marker\":{\"colorbar\":{\"outlinewidth\":0,\"ticks\":\"\"}}}],\"scattermapbox\":[{\"type\":\"scattermapbox\",\"marker\":{\"colorbar\":{\"outlinewidth\":0,\"ticks\":\"\"}}}],\"scatterternary\":[{\"type\":\"scatterternary\",\"marker\":{\"colorbar\":{\"outlinewidth\":0,\"ticks\":\"\"}}}],\"scattercarpet\":[{\"type\":\"scattercarpet\",\"marker\":{\"colorbar\":{\"outlinewidth\":0,\"ticks\":\"\"}}}],\"carpet\":[{\"aaxis\":{\"endlinecolor\":\"#2a3f5f\",\"gridcolor\":\"white\",\"linecolor\":\"white\",\"minorgridcolor\":\"white\",\"startlinecolor\":\"#2a3f5f\"},\"baxis\":{\"endlinecolor\":\"#2a3f5f\",\"gridcolor\":\"white\",\"linecolor\":\"white\",\"minorgridcolor\":\"white\",\"startlinecolor\":\"#2a3f5f\"},\"type\":\"carpet\"}],\"table\":[{\"cells\":{\"fill\":{\"color\":\"#EBF0F8\"},\"line\":{\"color\":\"white\"}},\"header\":{\"fill\":{\"color\":\"#C8D4E3\"},\"line\":{\"color\":\"white\"}},\"type\":\"table\"}],\"barpolar\":[{\"marker\":{\"line\":{\"color\":\"#E5ECF6\",\"width\":0.5},\"pattern\":{\"fillmode\":\"overlay\",\"size\":10,\"solidity\":0.2}},\"type\":\"barpolar\"}],\"pie\":[{\"automargin\":true,\"type\":\"pie\"}]},\"layout\":{\"autotypenumbers\":\"strict\",\"colorway\":[\"#636efa\",\"#EF553B\",\"#00cc96\",\"#ab63fa\",\"#FFA15A\",\"#19d3f3\",\"#FF6692\",\"#B6E880\",\"#FF97FF\",\"#FECB52\"],\"font\":{\"color\":\"#2a3f5f\"},\"hovermode\":\"closest\",\"hoverlabel\":{\"align\":\"left\"},\"paper_bgcolor\":\"white\",\"plot_bgcolor\":\"#E5ECF6\",\"polar\":{\"bgcolor\":\"#E5ECF6\",\"angularaxis\":{\"gridcolor\":\"white\",\"linecolor\":\"white\",\"ticks\":\"\"},\"radialaxis\":{\"gridcolor\":\"white\",\"linecolor\":\"white\",\"ticks\":\"\"}},\"ternary\":{\"bgcolor\":\"#E5ECF6\",\"aaxis\":{\"gridcolor\":\"white\",\"linecolor\":\"white\",\"ticks\":\"\"},\"baxis\":{\"gridcolor\":\"white\",\"linecolor\":\"white\",\"ticks\":\"\"},\"caxis\":{\"gridcolor\":\"white\",\"linecolor\":\"white\",\"ticks\":\"\"}},\"coloraxis\":{\"colorbar\":{\"outlinewidth\":0,\"ticks\":\"\"}},\"colorscale\":{\"sequential\":[[0.0,\"#0d0887\"],[0.1111111111111111,\"#46039f\"],[0.2222222222222222,\"#7201a8\"],[0.3333333333333333,\"#9c179e\"],[0.4444444444444444,\"#bd3786\"],[0.5555555555555556,\"#d8576b\"],[0.6666666666666666,\"#ed7953\"],[0.7777777777777778,\"#fb9f3a\"],[0.8888888888888888,\"#fdca26\"],[1.0,\"#f0f921\"]],\"sequentialminus\":[[0.0,\"#0d0887\"],[0.1111111111111111,\"#46039f\"],[0.2222222222222222,\"#7201a8\"],[0.3333333333333333,\"#9c179e\"],[0.4444444444444444,\"#bd3786\"],[0.5555555555555556,\"#d8576b\"],[0.6666666666666666,\"#ed7953\"],[0.7777777777777778,\"#fb9f3a\"],[0.8888888888888888,\"#fdca26\"],[1.0,\"#f0f921\"]],\"diverging\":[[0,\"#8e0152\"],[0.1,\"#c51b7d\"],[0.2,\"#de77ae\"],[0.3,\"#f1b6da\"],[0.4,\"#fde0ef\"],[0.5,\"#f7f7f7\"],[0.6,\"#e6f5d0\"],[0.7,\"#b8e186\"],[0.8,\"#7fbc41\"],[0.9,\"#4d9221\"],[1,\"#276419\"]]},\"xaxis\":{\"gridcolor\":\"white\",\"linecolor\":\"white\",\"ticks\":\"\",\"title\":{\"standoff\":15},\"zerolinecolor\":\"white\",\"automargin\":true,\"zerolinewidth\":2},\"yaxis\":{\"gridcolor\":\"white\",\"linecolor\":\"white\",\"ticks\":\"\",\"title\":{\"standoff\":15},\"zerolinecolor\":\"white\",\"automargin\":true,\"zerolinewidth\":2},\"scene\":{\"xaxis\":{\"backgroundcolor\":\"#E5ECF6\",\"gridcolor\":\"white\",\"linecolor\":\"white\",\"showbackground\":true,\"ticks\":\"\",\"zerolinecolor\":\"white\",\"gridwidth\":2},\"yaxis\":{\"backgroundcolor\":\"#E5ECF6\",\"gridcolor\":\"white\",\"linecolor\":\"white\",\"showbackground\":true,\"ticks\":\"\",\"zerolinecolor\":\"white\",\"gridwidth\":2},\"zaxis\":{\"backgroundcolor\":\"#E5ECF6\",\"gridcolor\":\"white\",\"linecolor\":\"white\",\"showbackground\":true,\"ticks\":\"\",\"zerolinecolor\":\"white\",\"gridwidth\":2}},\"shapedefaults\":{\"line\":{\"color\":\"#2a3f5f\"}},\"annotationdefaults\":{\"arrowcolor\":\"#2a3f5f\",\"arrowhead\":0,\"arrowwidth\":1},\"geo\":{\"bgcolor\":\"white\",\"landcolor\":\"#E5ECF6\",\"subunitcolor\":\"white\",\"showland\":true,\"showlakes\":true,\"lakecolor\":\"white\"},\"title\":{\"x\":0.05},\"mapbox\":{\"style\":\"light\"}}}},                        {\"responsive\": true}                    ).then(function(){\n",
       "                            Plotly.addFrames('45105a5a-c949-4e0b-8d5b-559341cafeda', [{\"layout\":{\"scene\":{\"camera\":{\"eye\":{\"x\":1.25,\"y\":1.25,\"z\":0.8}}}}},{\"layout\":{\"scene\":{\"camera\":{\"eye\":{\"x\":1.3685469774060675,\"y\":1.1189634357889973,\"z\":0.8}}}}},{\"layout\":{\"scene\":{\"camera\":{\"eye\":{\"x\":1.4734198857953784,\"y\":0.9767465588077254,\"z\":0.8}}}}},{\"layout\":{\"scene\":{\"camera\":{\"eye\":{\"x\":1.5635708697336819,\"y\":0.824770353080333,\"z\":0.8}}}}},{\"layout\":{\"scene\":{\"camera\":{\"eye\":{\"x\":1.6380991703894194,\"y\":0.6645533146177932,\"z\":0.8}}}}},{\"layout\":{\"scene\":{\"camera\":{\"eye\":{\"x\":1.6962601256182197,\"y\":0.4976962791077122,\"z\":0.8}}}}},{\"layout\":{\"scene\":{\"camera\":{\"eye\":{\"x\":1.737472610380892,\"y\":0.32586642689330336,\"z\":0.8}}}}},{\"layout\":{\"scene\":{\"camera\":{\"eye\":{\"x\":1.7613248431527242,\"y\":0.15078062505849654,\"z\":0.8}}}}},{\"layout\":{\"scene\":{\"camera\":{\"eye\":{\"x\":1.7675785003083602,\"y\":-0.025811726940446755,\"z\":0.8}}}}},{\"layout\":{\"scene\":{\"camera\":{\"eye\":{\"x\":1.7561710973726847,\"y\":-0.20214617669602375,\"z\":0.8}}}}},{\"layout\":{\"scene\":{\"camera\":{\"eye\":{\"x\":1.7272166133450453,\"y\":-0.376460848674696,\"z\":0.8}}}}},{\"layout\":{\"scene\":{\"camera\":{\"eye\":{\"x\":1.6810043518587658,\"y\":-0.5470140482948226,\"z\":0.8}}}}},{\"layout\":{\"scene\":{\"camera\":{\"eye\":{\"x\":1.6179960505548747,\"y\":-0.7121016643631912,\"z\":0.8}}}}},{\"layout\":{\"scene\":{\"camera\":{\"eye\":{\"x\":1.5388212675522255,\"y\":-0.870074195990757,\"z\":0.8}}}}},{\"layout\":{\"scene\":{\"camera\":{\"eye\":{\"x\":1.4442710911108763,\"y\":-1.0193532338602744,\"z\":0.8}}}}},{\"layout\":{\"scene\":{\"camera\":{\"eye\":{\"x\":1.3352902353396967,\"y\":-1.1584472311704395,\"z\":0.8}}}}},{\"layout\":{\"scene\":{\"camera\":{\"eye\":{\"x\":1.2129676009252703,\"y\":-1.2859664066784924,\"z\":0.8}}}}},{\"layout\":{\"scene\":{\"camera\":{\"eye\":{\"x\":1.0785253951961797,\"y\":-1.4006366309349918,\"z\":0.8}}}}},{\"layout\":{\"scene\":{\"camera\":{\"eye\":{\"x\":0.9333069202313851,\"y\":-1.5013121569641028,\"z\":0.8}}}}},{\"layout\":{\"scene\":{\"camera\":{\"eye\":{\"x\":0.7787631510298885,\"y\":-1.5869870681886475,\"z\":0.8}}}}},{\"layout\":{\"scene\":{\"camera\":{\"eye\":{\"x\":0.6164382378481742,\"y\":-1.6568053292160303,\"z\":0.8}}}}},{\"layout\":{\"scene\":{\"camera\":{\"eye\":{\"x\":0.44795407756127026,\"y\":-1.710069339060914,\"z\":0.8}}}}},{\"layout\":{\"scene\":{\"camera\":{\"eye\":{\"x\":0.27499410820530534,\"y\":-1.7462469013436699,\"z\":0.8}}}}},{\"layout\":{\"scene\":{\"camera\":{\"eye\":{\"x\":0.09928648862111944,\"y\":-1.7649765418206806,\"z\":0.8}}}}},{\"layout\":{\"scene\":{\"camera\":{\"eye\":{\"x\":-0.07741316873761894,\"y\":-1.7660711201154955,\"z\":0.8}}}}},{\"layout\":{\"scene\":{\"camera\":{\"eye\":{\"x\":-0.25333933930372143,\"y\":-1.7495196995636126,\"z\":0.8}}}}},{\"layout\":{\"scene\":{\"camera\":{\"eye\":{\"x\":-0.4267342269343539,\"y\":-1.7154876564880144,\"z\":0.8}}}}},{\"layout\":{\"scene\":{\"camera\":{\"eye\":{\"x\":-0.5958653272290393,\"y\":-1.6643150278136138,\"z\":0.8}}}}},{\"layout\":{\"scene\":{\"camera\":{\"eye\":{\"x\":-0.7590427381409421,\"y\":-1.5965131135307038,\"z\":0.8}}}}},{\"layout\":{\"scene\":{\"camera\":{\"eye\":{\"x\":-0.9146360449195108,\"y\":-1.5127593679544658,\"z\":0.8}}}}},{\"layout\":{\"scene\":{\"camera\":{\"eye\":{\"x\":-1.0610906106757227,\"y\":-1.4138906308253907,\"z\":0.8}}}}},{\"layout\":{\"scene\":{\"camera\":{\"eye\":{\"x\":-1.196943109799986,\"y\":-1.3008947658832124,\"z\":0.8}}}}},{\"layout\":{\"scene\":{\"camera\":{\"eye\":{\"x\":-1.3208361490279166,\"y\":-1.1749007904589663,\"z\":0.8}}}}},{\"layout\":{\"scene\":{\"camera\":{\"eye\":{\"x\":-1.431531830065142,\"y\":-1.0371675947070202,\"z\":0.8}}}}},{\"layout\":{\"scene\":{\"camera\":{\"eye\":{\"x\":-1.5279241182578656,\"y\":-0.8890713631907865,\"z\":0.8}}}}},{\"layout\":{\"scene\":{\"camera\":{\"eye\":{\"x\":-1.6090498937255202,\"y\":-0.7320918245014705,\"z\":0.8}}}}},{\"layout\":{\"scene\":{\"camera\":{\"eye\":{\"x\":-1.6740985745362496,\"y\":-0.5677974662991182,\"z\":0.8}}}}},{\"layout\":{\"scene\":{\"camera\":{\"eye\":{\"x\":-1.7224202157736266,\"y\":-0.39782986350239324,\"z\":0.8}}}}},{\"layout\":{\"scene\":{\"camera\":{\"eye\":{\"x\":-1.7535320035714197,\"y\":-0.22388727621462157,\"z\":0.8}}}}},{\"layout\":{\"scene\":{\"camera\":{\"eye\":{\"x\":-1.7671230792301427,\"y\":-0.04770768127020719,\"z\":0.8}}}}},{\"layout\":{\"scene\":{\"camera\":{\"eye\":{\"x\":-1.7630576452144253,\"y\":0.1289485930553954,\"z\":0.8}}}}},{\"layout\":{\"scene\":{\"camera\":{\"eye\":{\"x\":-1.741376321997099,\"y\":0.30431645566392784,\"z\":0.8}}}}},{\"layout\":{\"scene\":{\"camera\":{\"eye\":{\"x\":-1.7022957421928595,\"y\":0.47664368884111097,\"z\":0.8}}}}},{\"layout\":{\"scene\":{\"camera\":{\"eye\":{\"x\":-1.646206386036788,\"y\":0.6442084558368493,\"z\":0.8}}}}},{\"layout\":{\"scene\":{\"camera\":{\"eye\":{\"x\":-1.573668679834919,\"y\":0.8053365048888708,\"z\":0.8}}}}},{\"layout\":{\"scene\":{\"camera\":{\"eye\":{\"x\":-1.4854073963698458,\"y\":0.9584178977928967,\"z\":0.8}}}}},{\"layout\":{\"scene\":{\"camera\":{\"eye\":{\"x\":-1.3823044132106481,\"y\":1.101923095873013,\"z\":0.8}}}}},{\"layout\":{\"scene\":{\"camera\":{\"eye\":{\"x\":-1.2653899012837393,\"y\":1.2344182426265127,\"z\":0.8}}}}},{\"layout\":{\"scene\":{\"camera\":{\"eye\":{\"x\":-1.1358320317454915,\"y\":1.3545794903441097,\"z\":0.8}}}}},{\"layout\":{\"scene\":{\"camera\":{\"eye\":{\"x\":-0.9949253040021958,\"y\":1.4612062275586353,\"z\":0.8}}}}},{\"layout\":{\"scene\":{\"camera\":{\"eye\":{\"x\":-0.8440776114998902,\"y\":1.553233075157956,\"z\":0.8}}}}},{\"layout\":{\"scene\":{\"camera\":{\"eye\":{\"x\":-0.6847961745184389,\"y\":1.6297405313008917,\"z\":0.8}}}}},{\"layout\":{\"scene\":{\"camera\":{\"eye\":{\"x\":-0.5186724805247199,\"y\":1.6899641587756626,\"z\":0.8}}}}},{\"layout\":{\"scene\":{\"camera\":{\"eye\":{\"x\":-0.347366382555924,\"y\":1.733302223003828,\"z\":0.8}}}}},{\"layout\":{\"scene\":{\"camera\":{\"eye\":{\"x\":-0.17258951451669058,\"y\":1.7593217043732774,\"z\":0.8}}}}},{\"layout\":{\"scene\":{\"camera\":{\"eye\":{\"x\":0.0039118109010850555,\"y\":1.767762624827065,\"z\":0.8}}}}},{\"layout\":{\"scene\":{\"camera\":{\"eye\":{\"x\":0.18037405079741164,\"y\":1.7585406454782138,\"z\":0.8}}}}},{\"layout\":{\"scene\":{\"camera\":{\"eye\":{\"x\":0.3550340528019027,\"y\":1.7317479092959966,\"z\":0.8}}}}},{\"layout\":{\"scene\":{\"camera\":{\"eye\":{\"x\":0.5261466719094534,\"y\":1.6876521204438448,\"z\":0.8}}}}},{\"layout\":{\"scene\":{\"camera\":{\"eye\":{\"x\":0.6920022073922499,\"y\":1.62669386946784,\"z\":0.8}}}}},{\"layout\":{\"scene\":{\"camera\":{\"eye\":{\"x\":0.8509434855643001,\"y\":1.5494822310616148,\"z\":0.8}}}}},{\"layout\":{\"scene\":{\"camera\":{\"eye\":{\"x\":1.001382417713112,\"y\":1.4567886783933495,\"z\":0.8}}}}},{\"layout\":{\"scene\":{\"camera\":{\"eye\":{\"x\":1.1418158677571515,\"y\":1.3495393748008924,\"z\":0.8}}}}},{\"layout\":{\"scene\":{\"camera\":{\"eye\":{\"x\":1.270840671084707,\"y\":1.2288059198738308,\"z\":0.8}}}}},{\"layout\":{\"scene\":{\"camera\":{\"eye\":{\"x\":1.3871676545108578,\"y\":1.0957946423846239,\"z\":0.8}}}}},{\"layout\":{\"scene\":{\"camera\":{\"eye\":{\"x\":1.4896345172697987,\"y\":0.9518345470502599,\"z\":0.8}}}}},{\"layout\":{\"scene\":{\"camera\":{\"eye\":{\"x\":1.577217444339885,\"y\":0.7983640355564382,\"z\":0.8}}}}},{\"layout\":{\"scene\":{\"camera\":{\"eye\":{\"x\":1.6490413360648972,\"y\":0.6369165345234014,\"z\":0.8}}}}},{\"layout\":{\"scene\":{\"camera\":{\"eye\":{\"x\":1.7043885518605422,\"y\":0.46910517401401974,\"z\":0.8}}}}},{\"layout\":{\"scene\":{\"camera\":{\"eye\":{\"x\":1.742706080641946,\"y\":0.2966066696714459,\"z\":0.8}}}}},{\"layout\":{\"scene\":{\"camera\":{\"eye\":{\"x\":1.7636110663276172,\"y\":0.12114456953064445,\"z\":0.8}}}}},{\"layout\":{\"scene\":{\"camera\":{\"eye\":{\"x\":1.766894633210853,\"y\":-0.05552796710383823,\"z\":0.8}}}}},{\"layout\":{\"scene\":{\"camera\":{\"eye\":{\"x\":1.7525239729767597,\"y\":-0.23164568664612328,\"z\":0.8}}}}},{\"layout\":{\"scene\":{\"camera\":{\"eye\":{\"x\":1.7206426725120867,\"y\":-0.4054488790593255,\"z\":0.8}}}}},{\"layout\":{\"scene\":{\"camera\":{\"eye\":{\"x\":1.6715692792325216,\"y\":-0.5752009602965458,\"z\":0.8}}}}},{\"layout\":{\"scene\":{\"camera\":{\"eye\":{\"x\":1.605794118262206,\"y\":-0.7392058236746413,\"z\":0.8}}}}},{\"layout\":{\"scene\":{\"camera\":{\"eye\":{\"x\":1.5239743932671765,\"y\":-0.8958247868115395,\"z\":0.8}}}}},{\"layout\":{\"scene\":{\"camera\":{\"eye\":{\"x\":1.426927619893581,\"y\":-1.04349296479892,\"z\":0.8}}}}},{\"layout\":{\"scene\":{\"camera\":{\"eye\":{\"x\":1.3156234574215673,\"y\":-1.180734906014945,\"z\":0.8}}}}},{\"layout\":{\"scene\":{\"camera\":{\"eye\":{\"x\":1.1911740202502938,\"y\":-1.3061793343491364,\"z\":0.8}}}}},{\"layout\":{\"scene\":{\"camera\":{\"eye\":{\"x\":1.0548227660184604,\"y\":-1.4185728505399942,\"z\":0.8}}}}},{\"layout\":{\"scene\":{\"camera\":{\"eye\":{\"x\":0.9079320713866189,\"y\":-1.5167924557260966,\"z\":0.8}}}}},{\"layout\":{\"scene\":{\"camera\":{\"eye\":{\"x\":0.7519696196199205,\"y\":-1.599856772079511,\"z\":0.8}}}}},{\"layout\":{\"scene\":{\"camera\":{\"eye\":{\"x\":0.5884937359820905,\"y\":-1.6669358484086425,\"z\":0.8}}}}},{\"layout\":{\"scene\":{\"camera\":{\"eye\":{\"x\":0.41913781746449363,\"y\":-1.7173594527562077,\"z\":0.8}}}}},{\"layout\":{\"scene\":{\"camera\":{\"eye\":{\"x\":0.24559401242333323,\"y\":-1.7506237691353923,\"z\":0.8}}}}},{\"layout\":{\"scene\":{\"camera\":{\"eye\":{\"x\":0.06959631319262605,\"y\":-1.7663964314926572,\"z\":0.8}}}}},{\"layout\":{\"scene\":{\"camera\":{\"eye\":{\"x\":-0.10709676939402235,\"y\":-1.7645198445994774,\"z\":0.8}}}}},{\"layout\":{\"scene\":{\"camera\":{\"eye\":{\"x\":-0.2827197764623679,\"y\":-1.745012758691772,\"z\":0.8}}}}},{\"layout\":{\"scene\":{\"camera\":{\"eye\":{\"x\":-0.45551794097903464,\"y\":-1.7080700821237462,\"z\":0.8}}}}},{\"layout\":{\"scene\":{\"camera\":{\"eye\":{\"x\":-0.6237647208036504,\"y\":-1.6540609339080419,\"z\":0.8}}}}},{\"layout\":{\"scene\":{\"camera\":{\"eye\":{\"x\":-0.7857790497271997,\"y\":-1.58352495560058,\"z\":0.8}}}}},{\"layout\":{\"scene\":{\"camera\":{\"eye\":{\"x\":-0.9399421341298975,\"y\":-1.4971669193805124,\"z\":0.8}}}}},{\"layout\":{\"scene\":{\"camera\":{\"eye\":{\"x\":-1.0847136274319271,\"y\":-1.3958496861995813,\"z\":0.8}}}}},{\"layout\":{\"scene\":{\"camera\":{\"eye\":{\"x\":-1.218647020727311,\"y\":-1.2805855843607052,\"z\":0.8}}}}},{\"layout\":{\"scene\":{\"camera\":{\"eye\":{\"x\":-1.3404040958227346,\"y\":-1.1525262946682115,\"z\":0.8}}}}},{\"layout\":{\"scene\":{\"camera\":{\"eye\":{\"x\":-1.448768296271385,\"y\":-1.0129513432139317,\"z\":0.8}}}}},{\"layout\":{\"scene\":{\"camera\":{\"eye\":{\"x\":-1.5426568828028173,\"y\":-0.8632553167754569,\"z\":0.8}}}}},{\"layout\":{\"scene\":{\"camera\":{\"eye\":{\"x\":-1.6211317516958519,\"y\":-0.7049339285660311,\"z\":0.8}}}}},{\"layout\":{\"scene\":{\"camera\":{\"eye\":{\"x\":-1.6834088080008527,\"y\":-0.5395690735625494,\"z\":0.8}}}}},{\"layout\":{\"scene\":{\"camera\":{\"eye\":{\"x\":-1.7288657999572776,\"y\":-0.3688130227338533,\"z\":0.8}}}}},{\"layout\":{\"scene\":{\"camera\":{\"eye\":{\"x\":-1.7570485363275825,\"y\":-0.1943719140953739,\"z\":0.8}}}}},{\"layout\":{\"scene\":{\"camera\":{\"eye\":{\"x\":-1.7676754245259283,\"y\":-0.017988705542069106,\"z\":0.8}}}}}]);\n",
       "                        }).then(function(){\n",
       "                            \n",
       "var gd = document.getElementById('45105a5a-c949-4e0b-8d5b-559341cafeda');\n",
       "var x = new MutationObserver(function (mutations, observer) {{\n",
       "        var display = window.getComputedStyle(gd).display;\n",
       "        if (!display || display === 'none') {{\n",
       "            console.log([gd, 'removed!']);\n",
       "            Plotly.purge(gd);\n",
       "            observer.disconnect();\n",
       "        }}\n",
       "}});\n",
       "\n",
       "// Listen for the removal of the full notebook cells\n",
       "var notebookContainer = gd.closest('#notebook-container');\n",
       "if (notebookContainer) {{\n",
       "    x.observe(notebookContainer, {childList: true});\n",
       "}}\n",
       "\n",
       "// Listen for the clearing of the current output cell\n",
       "var outputEl = gd.closest('.output');\n",
       "if (outputEl) {{\n",
       "    x.observe(outputEl, {childList: true});\n",
       "}}\n",
       "\n",
       "                        })                };                });            </script>        </div>"
      ]
     },
     "metadata": {},
     "output_type": "display_data"
    }
   ],
   "source": [
    "visualize_rotate([go.Scatter3d(x=x, y=y, z=z,mode='markers')]).show()"
   ]
  },
  {
   "cell_type": "code",
   "execution_count": 4,
   "id": "d244eadf",
   "metadata": {},
   "outputs": [],
   "source": [
    "class PointCloudData(Dataset):\n",
    "    def __init__(self, root_dir, valid=False, folder=\"train\"):\n",
    "        self.files = []\n",
    "        target_output = {\n",
    "        #     x1, y1, x2, y2, pitch, f1, f2\n",
    "            \"nugg_1\": np.array([0.4133, 0.115, 0.4024, 0.1550, 0.524, 0.5, 0.75]),\n",
    "            \"nugg_2\": np.array([0.4054, 0.094, 0.4535, 0.1271, 0.524, 0.5, 0.75]),\n",
    "            \"nugg_3\": np.array([0.4156, 0.1164, 0.4132, 0.1621, 0.524, 0.5, 0.75]),\n",
    "            \"nugg_4\": np.array([0.4017, 0.0874, 0.4305, 0.1325, 0.524, 0.5, 0.75]),\n",
    "            \"nugg_5\": np.array([0.4115, 0.0840, 0.4457, 0.1250, 0.524, 0.5, 0.75])\n",
    "        }\n",
    "        for i in range(5):\n",
    "            pcd = o3d.io.read_point_cloud(f'{root_dir}/{folder}/nugg_{i+1}.pcd')\n",
    "            xyz = np.asarray(pcd.points)\n",
    "            center = np.mean(xyz, axis=0)\n",
    "            xyz = xyz[np.where((xyz[:,2]>center[2]-0.001) & (xyz[:,2]<center[2]+0.001))]\n",
    "            idx = np.random.choice(np.arange(xyz.shape[0]), size=128)\n",
    "            xyz = xyz[idx]\n",
    "            sample = {}\n",
    "            sample['pt_cld'] = xyz\n",
    "            sample['target'] = target_output[f'nugg_{i+1}']\n",
    "            self.files.append(sample)\n",
    "\n",
    "    def __len__(self):\n",
    "        return len(self.files)\n",
    "\n",
    "    def __getitem__(self, idx):\n",
    "        pointcloud = self.files[idx]['pt_cld']\n",
    "        target = self.files[idx]['target']\n",
    "        return {'pointcloud': torch.from_numpy(pointcloud), \n",
    "                'target': torch.from_numpy(target)}"
   ]
  },
  {
   "cell_type": "code",
   "execution_count": 5,
   "id": "0dd4535d",
   "metadata": {},
   "outputs": [],
   "source": [
    "train_ds = PointCloudData('./')\n",
    "# valid_ds = PointCloudData('./data', valid=True, folder='test', transform=train_transforms)"
   ]
  },
  {
   "cell_type": "code",
   "execution_count": 6,
   "id": "b98483fa",
   "metadata": {},
   "outputs": [],
   "source": [
    "train_loader = DataLoader(dataset=train_ds, batch_size=1, shuffle=True)\n",
    "# valid_loader = DataLoader(dataset=valid_ds, batch_size=64)"
   ]
  },
  {
   "cell_type": "code",
   "execution_count": 7,
   "id": "fde43612",
   "metadata": {},
   "outputs": [],
   "source": [
    "class Tnet(nn.Module):\n",
    "    def __init__(self, k=3):\n",
    "        super().__init__()\n",
    "        self.k = k\n",
    "        self.conv1 = nn.Conv1d(k, 64, 1)\n",
    "        self.conv2 = nn.Conv1d(64, 128, 1)\n",
    "        self.conv3 = nn.Conv1d(128, 512, 1)\n",
    "        self.fc1 = nn.Linear(512,256)\n",
    "        self.fc2 = nn.Linear(256,128)\n",
    "        self.fc3 = nn.Linear(128, k*k)\n",
    "        \n",
    "#         self.bn1 = nn.BatchNorm1d(64)\n",
    "#         self.bn2 = nn.BatchNorm1d(128)\n",
    "#         self.bn3 = nn.BatchNorm1d(512)\n",
    "#         self.bn4 = nn.BatchNorm1d(256)\n",
    "#         self.bn5 = nn.BatchNorm1d(128)\n",
    "    def forward(self, x):\n",
    "        bs = x.size(0)\n",
    "        x = F.relu(self.conv1(x))\n",
    "        x = F.relu(self.conv2(x))\n",
    "        x = F.relu(self.conv3(x))\n",
    "        x = nn.MaxPool1d(x.size(-1))(x)\n",
    "        x = nn.Flatten(1)(x)\n",
    "        x = F.relu(self.fc1(x))\n",
    "        x = F.relu(self.fc2(x))\n",
    "        \n",
    "        init = torch.eye(self.k, requires_grad=True).repeat(bs,1,1)\n",
    "        if x.is_cuda:\n",
    "            init = init.cuda()\n",
    "        matrix = self.fc3(x).view(-1, self.k, self.k) + init\n",
    "        return matrix\n",
    "    \n",
    "class Transform(nn.Module):\n",
    "    def __init__(self):\n",
    "        super().__init__()\n",
    "        self.input_transform = Tnet(k=3)\n",
    "        self.feature_transform = Tnet(k=64)\n",
    "        self.conv1 = nn.Conv1d(3, 64, 1)\n",
    "        self.conv2 = nn.Conv1d(64, 128, 1)\n",
    "        self.conv3 = nn.Conv1d(128, 512, 1)\n",
    "        \n",
    "#         self.bn1 = nn.BatchNorm1d(64)\n",
    "#         self.bn2 = nn.BatchNorm1d(128)\n",
    "#         self.bn3 = nn.BatchNorm1d(512)\n",
    "    def forward(self, x):\n",
    "        matrix3x3 = self.input_transform(x)\n",
    "        x = torch.bmm(torch.transpose(x, 1, 2), matrix3x3).transpose(1,2)\n",
    "        x = F.relu(self.conv1(x))\n",
    "        matrix64x64 = self.feature_transform(x)\n",
    "        x = torch.bmm(torch.transpose(x, 1, 2), matrix64x64).transpose(1,2)\n",
    "        x = F.relu(self.conv2(x))\n",
    "        x = self.conv3(x)\n",
    "        x = nn.MaxPool1d(x.size(-1))(x)\n",
    "        x = nn.Flatten(1)(x)\n",
    "        return x, matrix3x3, matrix64x64\n",
    "    \n",
    "class PointNet(nn.Module):\n",
    "    def __init__(self, tgt_layer = 7):\n",
    "        super().__init__()\n",
    "        self.transform = Transform()\n",
    "        self.fc1 = nn.Linear(512, 256)\n",
    "        self.fc2 = nn.Linear(256, 128)\n",
    "        self.fc3 = nn.Linear(128, tgt_layer)\n",
    "        \n",
    "#         self.bn1 = nn.BatchNorm1d(256)\n",
    "#         self.bn2 = nn.BatchNorm1d(128)\n",
    "        self.dropout = nn.Dropout(p=0.3)\n",
    "#         self.logsoftmax = nn.LogSoftmax(dim=1)\n",
    "        \n",
    "    def forward(self, x):\n",
    "        x, mat3, mat64 = self.transform(x)\n",
    "        x = F.relu(self.fc1(x))\n",
    "        x = F.relu(self.dropout(self.fc2(x)))\n",
    "        x = self.fc3(x)\n",
    "        return x, mat3, mat64"
   ]
  },
  {
   "cell_type": "code",
   "execution_count": 8,
   "id": "1fda4eb2",
   "metadata": {},
   "outputs": [],
   "source": [
    "def pointnetloss(output, target, m3x3, m64x64, alpha = 0.0001):\n",
    "    criterion = torch.nn.MSELoss()\n",
    "#     bs=target.size(0)\n",
    "#     id3x3 = torch.eye(3, requires_grad=True).repeat(bs,1,1)\n",
    "#     id64x64 = torch.eye(64, requires_grad=True).repeat(bs,1,1)\n",
    "#     if target.is_cuda:\n",
    "#         id3x3=id3x3.cuda()\n",
    "#         id64x64=id64x64.cuda()\n",
    "#     diff3x3 = id3x3-torch.bmm(m3x3,m3x3.transpose(1,2))\n",
    "#     diff64x64 = id64x64-torch.bmm(m64x64,m64x64.transpose(1,2))\n",
    "    final_loss = criterion(output, target) #+ alpha * (torch.norm(diff3x3)+torch.norm(diff64x64)) / float(bs)\n",
    "    return final_loss"
   ]
  },
  {
   "cell_type": "code",
   "execution_count": 43,
   "id": "afbc665f",
   "metadata": {},
   "outputs": [
    {
     "data": {
      "text/plain": [
       "device(type='cuda', index=0)"
      ]
     },
     "execution_count": 43,
     "metadata": {},
     "output_type": "execute_result"
    }
   ],
   "source": [
    "device = torch.device(\"cuda:0\" if torch.cuda.is_available() else \"cpu\")\n",
    "device"
   ]
  },
  {
   "cell_type": "code",
   "execution_count": 10,
   "id": "b3da2295",
   "metadata": {},
   "outputs": [],
   "source": [
    "def train(model, optim, train_loader, val_loader=None, epochs=20, save=True, print_every=10):\n",
    "    prev_val_acc = 0\n",
    "    min_loss = 999\n",
    "    for epoch in range(epochs):\n",
    "        model.train()\n",
    "        avg_loss = 0\n",
    "        for i,data in enumerate(train_loader, 0):\n",
    "            inputs, labels = data['pointcloud'].to(device).float(), data['target'].to(device).float()\n",
    "#             print(inputs.shape)\n",
    "            optim.zero_grad()\n",
    "            y, m3, m64 = model(inputs.transpose(1,2))\n",
    "            loss = pointnetloss(y, labels, m3, m64)\n",
    "            loss.backward()\n",
    "            optim.step()\n",
    "            avg_loss += loss.item()\n",
    "            if i%print_every==0:\n",
    "                pass\n",
    "        \n",
    "        if min_loss > avg_loss/5:\n",
    "            min_loss = avg_loss/5\n",
    "            \n",
    "            print(f\"Epoch {epoch}, avg_loss: {avg_loss/5}, min_loss: {min_loss}\")\n",
    "            if save:\n",
    "                torch.save(model.state_dict(), f\"./checkpoints/ckpt_min_loss.pt\")\n",
    "        model.eval()\n",
    "        correct = total = 0\n",
    "        if val_loader:\n",
    "            with torch.no_grad():\n",
    "                for data in val_loader:\n",
    "                    inputs, labels = data['pointcloud'].to(device).float(), data['target'].to(device)\n",
    "                    y, _, _ = model(inputs.transpose(1,2))\n",
    "                    _, predicted = torch.max(y.data, 1)\n",
    "                    total += labels.size(0)\n",
    "                    correct += (predicted == labels).sum().item()\n",
    "            val_acc = 100*correct/total\n",
    "            if val_acc > prev_val_acc:\n",
    "                prev_val_acc = val_acc\n",
    "    return model\n",
    "                \n",
    "\n",
    "def load_model(path, device):\n",
    "    pointnet = PointNet()\n",
    "    pointnet.to(device)\n",
    "    optimizer = torch.optim.Adam(pointnet.parameters(), lr=0.001)\n",
    "    torch.load(path, map_location=device)"
   ]
  },
  {
   "cell_type": "code",
   "execution_count": null,
   "id": "af872ff3",
   "metadata": {},
   "outputs": [],
   "source": []
  },
  {
   "cell_type": "code",
   "execution_count": 11,
   "id": "ee183ef0",
   "metadata": {
    "scrolled": true
   },
   "outputs": [
    {
     "name": "stdout",
     "output_type": "stream",
     "text": [
      "Epoch 0, avg_loss: 0.1553087964653969, min_loss: 0.1553087964653969\n",
      "Epoch 1, avg_loss: 0.0476755253970623, min_loss: 0.0476755253970623\n",
      "Epoch 2, avg_loss: 0.026929286774247885, min_loss: 0.026929286774247885\n",
      "Epoch 4, avg_loss: 0.022957361303269863, min_loss: 0.022957361303269863\n",
      "Epoch 5, avg_loss: 0.007798287831246853, min_loss: 0.007798287831246853\n",
      "Epoch 16, avg_loss: 0.005981071200221777, min_loss: 0.005981071200221777\n",
      "Epoch 21, avg_loss: 0.004749214346520603, min_loss: 0.004749214346520603\n",
      "Epoch 23, avg_loss: 0.004461962124332785, min_loss: 0.004461962124332785\n",
      "Epoch 24, avg_loss: 0.0025388784939423203, min_loss: 0.0025388784939423203\n",
      "Epoch 56, avg_loss: 0.0024443425005301832, min_loss: 0.0024443425005301832\n",
      "Epoch 88, avg_loss: 0.0018105294788256288, min_loss: 0.0018105294788256288\n",
      "Epoch 104, avg_loss: 0.0015514858765527605, min_loss: 0.0015514858765527605\n",
      "Epoch 114, avg_loss: 0.0010916067520156502, min_loss: 0.0010916067520156502\n",
      "Epoch 116, avg_loss: 0.0009158418513834476, min_loss: 0.0009158418513834476\n",
      "Epoch 133, avg_loss: 0.0005392988852690906, min_loss: 0.0005392988852690906\n",
      "Epoch 319, avg_loss: 0.0005352446416509338, min_loss: 0.0005352446416509338\n",
      "Epoch 330, avg_loss: 0.00036902854626532646, min_loss: 0.00036902854626532646\n",
      "Epoch 366, avg_loss: 0.00029138751851860435, min_loss: 0.00029138751851860435\n",
      "Epoch 372, avg_loss: 0.0002471036263159476, min_loss: 0.0002471036263159476\n",
      "Epoch 496, avg_loss: 0.00023616947000846267, min_loss: 0.00023616947000846267\n",
      "Epoch 621, avg_loss: 0.000192764971870929, min_loss: 0.000192764971870929\n",
      "Epoch 655, avg_loss: 0.0001798988232621923, min_loss: 0.0001798988232621923\n",
      "Epoch 694, avg_loss: 0.00011880390156875365, min_loss: 0.00011880390156875365\n",
      "Epoch 789, avg_loss: 0.00011471071047708392, min_loss: 0.00011471071047708392\n"
     ]
    },
    {
     "data": {
      "text/plain": [
       "PointNet(\n",
       "  (transform): Transform(\n",
       "    (input_transform): Tnet(\n",
       "      (conv1): Conv1d(3, 64, kernel_size=(1,), stride=(1,))\n",
       "      (conv2): Conv1d(64, 128, kernel_size=(1,), stride=(1,))\n",
       "      (conv3): Conv1d(128, 512, kernel_size=(1,), stride=(1,))\n",
       "      (fc1): Linear(in_features=512, out_features=256, bias=True)\n",
       "      (fc2): Linear(in_features=256, out_features=128, bias=True)\n",
       "      (fc3): Linear(in_features=128, out_features=9, bias=True)\n",
       "    )\n",
       "    (feature_transform): Tnet(\n",
       "      (conv1): Conv1d(64, 64, kernel_size=(1,), stride=(1,))\n",
       "      (conv2): Conv1d(64, 128, kernel_size=(1,), stride=(1,))\n",
       "      (conv3): Conv1d(128, 512, kernel_size=(1,), stride=(1,))\n",
       "      (fc1): Linear(in_features=512, out_features=256, bias=True)\n",
       "      (fc2): Linear(in_features=256, out_features=128, bias=True)\n",
       "      (fc3): Linear(in_features=128, out_features=4096, bias=True)\n",
       "    )\n",
       "    (conv1): Conv1d(3, 64, kernel_size=(1,), stride=(1,))\n",
       "    (conv2): Conv1d(64, 128, kernel_size=(1,), stride=(1,))\n",
       "    (conv3): Conv1d(128, 512, kernel_size=(1,), stride=(1,))\n",
       "  )\n",
       "  (fc1): Linear(in_features=512, out_features=256, bias=True)\n",
       "  (fc2): Linear(in_features=256, out_features=128, bias=True)\n",
       "  (fc3): Linear(in_features=128, out_features=7, bias=True)\n",
       "  (dropout): Dropout(p=0.3, inplace=False)\n",
       ")"
      ]
     },
     "execution_count": 11,
     "metadata": {},
     "output_type": "execute_result"
    }
   ],
   "source": [
    "pointnet = PointNet()\n",
    "pointnet.to(device)\n",
    "optimizer = torch.optim.Adam(pointnet.parameters(), lr=0.001)\n",
    "train(pointnet, optimizer, train_loader, epochs=1000,  save=True, print_every=5)"
   ]
  },
  {
   "cell_type": "code",
   "execution_count": 55,
   "id": "9d02c4b0",
   "metadata": {},
   "outputs": [],
   "source": [
    "def test(model, pcd_path):\n",
    "    pcd = o3d.io.read_point_cloud(pcd_path)\n",
    "    xyz = np.asarray(pcd.points)\n",
    "    \n",
    "#     fig = plt.figure()\n",
    "#     ax = fig.add_subplot(projection='3d')\n",
    "#     ax.scatter(xyz[:,0], xyz[:,1], xyz[:,2])\n",
    "    \n",
    "    center = np.mean(xyz, axis=0)\n",
    "    xyz = xyz[np.where((xyz[:,2]>center[2]-0.001) & (xyz[:,2]<center[2]+0.001))]\n",
    "    idx = np.random.choice(np.arange(xyz.shape[0]), size=128)\n",
    "    xyz = xyz[idx]\n",
    "    \n",
    "\n",
    "#     ax.set_xlabel('X')\n",
    "#     ax.set_ylabel('Y')\n",
    "#     ax.set_zlabel('Z')\n",
    "\n",
    "\n",
    "    xyz = torch.from_numpy(xyz).unsqueeze(0).to(device).float()\n",
    "    \n",
    "    with torch.no_grad():\n",
    "        result = model(xyz.transpose(1,2))[0].detach().cpu().numpy()[0]        \n",
    "        make_dot(model(xyz.transpose(1,2))[0], params=dict(model.named_parameters()), show_attrs=True, show_saved=True)\n",
    "    plt.show()\n",
    "#     print(result)\n",
    "    \n",
    "#     x1 = result[:2]\n",
    "#     x2 = result[2:4]\n",
    "#     ax.scatter(x1[0], x1[1], center[2])\n",
    "#     ax.scatter(x2[0], x2[1], center[2])\n",
    "#     plt.show()"
   ]
  },
  {
   "cell_type": "code",
   "execution_count": 56,
   "id": "43dc025a",
   "metadata": {
    "scrolled": false
   },
   "outputs": [],
   "source": [
    "from torchviz import make_dot\n",
    "\n",
    "pointnet = PointNet()\n",
    "pointnet.to(device)\n",
    "pointnet.load_state_dict(torch.load(\"./checkpoints/ckpt_min_loss.pt\"))\n",
    "pointnet.eval();\n",
    "\n",
    "test(pointnet, './train/nugg_1.pcd')"
   ]
  },
  {
   "cell_type": "code",
   "execution_count": 64,
   "id": "8924b03b",
   "metadata": {},
   "outputs": [
    {
     "data": {
      "text/plain": [
       "'Digraph.gv.svg'"
      ]
     },
     "execution_count": 64,
     "metadata": {},
     "output_type": "execute_result"
    }
   ],
   "source": [
    "pcd = o3d.io.read_point_cloud('./train/nugg_1.pcd')\n",
    "xyz = np.asarray(pcd.points)\n",
    "\n",
    "center = np.mean(xyz, axis=0)\n",
    "xyz = xyz[np.where((xyz[:,2]>center[2]-0.001) & (xyz[:,2]<center[2]+0.001))]\n",
    "idx = np.random.choice(np.arange(xyz.shape[0]), size=128)\n",
    "xyz = xyz[idx]\n",
    "\n",
    "\n",
    "xyz = torch.from_numpy(xyz).unsqueeze(0).to(device).float()\n",
    "\n",
    "with torch.no_grad():\n",
    "    result = pointnet(xyz.transpose(1,2))[0].detach().cpu().numpy()[0]        \n",
    "    \n",
    "    dot = make_dot(pointnet(xyz.transpose(1,2))[0], params=dict(pointnet.state_dict()))\n",
    "    \n",
    "dot.format = 'svg'\n",
    "dot.render()"
   ]
  },
  {
   "cell_type": "code",
   "execution_count": null,
   "id": "24e5cf58",
   "metadata": {},
   "outputs": [],
   "source": []
  },
  {
   "cell_type": "code",
   "execution_count": null,
   "id": "0589b0cb",
   "metadata": {},
   "outputs": [],
   "source": []
  }
 ],
 "metadata": {
  "kernelspec": {
   "display_name": "Python 3 (ipykernel)",
   "language": "python",
   "name": "python3"
  },
  "language_info": {
   "codemirror_mode": {
    "name": "ipython",
    "version": 3
   },
   "file_extension": ".py",
   "mimetype": "text/x-python",
   "name": "python",
   "nbconvert_exporter": "python",
   "pygments_lexer": "ipython3",
   "version": "3.8.13"
  }
 },
 "nbformat": 4,
 "nbformat_minor": 5
}
