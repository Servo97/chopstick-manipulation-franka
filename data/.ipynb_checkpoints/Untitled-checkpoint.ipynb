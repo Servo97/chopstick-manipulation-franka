{
 "cells": [
  {
   "cell_type": "code",
   "execution_count": 181,
   "id": "97b5a614",
   "metadata": {},
   "outputs": [],
   "source": [
    "%matplotlib notebook\n",
    "import numpy as np\n",
    "import matplotlib.pyplot as plt\n",
    "plt.ion()\n",
    "import scipy\n",
    "import math\n",
    "import os\n",
    "import random\n",
    "import open3d as o3d\n",
    "# from open3d. import uniform_down_sample\n",
    "import torch\n",
    "import scipy.spatial.distance\n",
    "from glob import glob\n",
    "\n",
    "import torch\n",
    "import torch.nn as nn\n",
    "import torch.nn.functional as F\n",
    "from torch.utils.data import Dataset, DataLoader\n",
    "from torchvision import transforms, utils\n",
    "\n",
    "import plotly.graph_objects as go\n",
    "import plotly.express as px"
   ]
  },
  {
   "cell_type": "code",
   "execution_count": 145,
   "id": "723a087f",
   "metadata": {},
   "outputs": [
    {
     "name": "stdout",
     "output_type": "stream",
     "text": [
      "[0.40176077 0.1337709  0.00571454]\n",
      "0.0027145419237331325 0.006714541923733133\n"
     ]
    },
    {
     "data": {
      "application/javascript": [
       "/* Put everything inside the global mpl namespace */\n",
       "/* global mpl */\n",
       "window.mpl = {};\n",
       "\n",
       "mpl.get_websocket_type = function () {\n",
       "    if (typeof WebSocket !== 'undefined') {\n",
       "        return WebSocket;\n",
       "    } else if (typeof MozWebSocket !== 'undefined') {\n",
       "        return MozWebSocket;\n",
       "    } else {\n",
       "        alert(\n",
       "            'Your browser does not have WebSocket support. ' +\n",
       "                'Please try Chrome, Safari or Firefox ≥ 6. ' +\n",
       "                'Firefox 4 and 5 are also supported but you ' +\n",
       "                'have to enable WebSockets in about:config.'\n",
       "        );\n",
       "    }\n",
       "};\n",
       "\n",
       "mpl.figure = function (figure_id, websocket, ondownload, parent_element) {\n",
       "    this.id = figure_id;\n",
       "\n",
       "    this.ws = websocket;\n",
       "\n",
       "    this.supports_binary = this.ws.binaryType !== undefined;\n",
       "\n",
       "    if (!this.supports_binary) {\n",
       "        var warnings = document.getElementById('mpl-warnings');\n",
       "        if (warnings) {\n",
       "            warnings.style.display = 'block';\n",
       "            warnings.textContent =\n",
       "                'This browser does not support binary websocket messages. ' +\n",
       "                'Performance may be slow.';\n",
       "        }\n",
       "    }\n",
       "\n",
       "    this.imageObj = new Image();\n",
       "\n",
       "    this.context = undefined;\n",
       "    this.message = undefined;\n",
       "    this.canvas = undefined;\n",
       "    this.rubberband_canvas = undefined;\n",
       "    this.rubberband_context = undefined;\n",
       "    this.format_dropdown = undefined;\n",
       "\n",
       "    this.image_mode = 'full';\n",
       "\n",
       "    this.root = document.createElement('div');\n",
       "    this.root.setAttribute('style', 'display: inline-block');\n",
       "    this._root_extra_style(this.root);\n",
       "\n",
       "    parent_element.appendChild(this.root);\n",
       "\n",
       "    this._init_header(this);\n",
       "    this._init_canvas(this);\n",
       "    this._init_toolbar(this);\n",
       "\n",
       "    var fig = this;\n",
       "\n",
       "    this.waiting = false;\n",
       "\n",
       "    this.ws.onopen = function () {\n",
       "        fig.send_message('supports_binary', { value: fig.supports_binary });\n",
       "        fig.send_message('send_image_mode', {});\n",
       "        if (fig.ratio !== 1) {\n",
       "            fig.send_message('set_device_pixel_ratio', {\n",
       "                device_pixel_ratio: fig.ratio,\n",
       "            });\n",
       "        }\n",
       "        fig.send_message('refresh', {});\n",
       "    };\n",
       "\n",
       "    this.imageObj.onload = function () {\n",
       "        if (fig.image_mode === 'full') {\n",
       "            // Full images could contain transparency (where diff images\n",
       "            // almost always do), so we need to clear the canvas so that\n",
       "            // there is no ghosting.\n",
       "            fig.context.clearRect(0, 0, fig.canvas.width, fig.canvas.height);\n",
       "        }\n",
       "        fig.context.drawImage(fig.imageObj, 0, 0);\n",
       "    };\n",
       "\n",
       "    this.imageObj.onunload = function () {\n",
       "        fig.ws.close();\n",
       "    };\n",
       "\n",
       "    this.ws.onmessage = this._make_on_message_function(this);\n",
       "\n",
       "    this.ondownload = ondownload;\n",
       "};\n",
       "\n",
       "mpl.figure.prototype._init_header = function () {\n",
       "    var titlebar = document.createElement('div');\n",
       "    titlebar.classList =\n",
       "        'ui-dialog-titlebar ui-widget-header ui-corner-all ui-helper-clearfix';\n",
       "    var titletext = document.createElement('div');\n",
       "    titletext.classList = 'ui-dialog-title';\n",
       "    titletext.setAttribute(\n",
       "        'style',\n",
       "        'width: 100%; text-align: center; padding: 3px;'\n",
       "    );\n",
       "    titlebar.appendChild(titletext);\n",
       "    this.root.appendChild(titlebar);\n",
       "    this.header = titletext;\n",
       "};\n",
       "\n",
       "mpl.figure.prototype._canvas_extra_style = function (_canvas_div) {};\n",
       "\n",
       "mpl.figure.prototype._root_extra_style = function (_canvas_div) {};\n",
       "\n",
       "mpl.figure.prototype._init_canvas = function () {\n",
       "    var fig = this;\n",
       "\n",
       "    var canvas_div = (this.canvas_div = document.createElement('div'));\n",
       "    canvas_div.setAttribute(\n",
       "        'style',\n",
       "        'border: 1px solid #ddd;' +\n",
       "            'box-sizing: content-box;' +\n",
       "            'clear: both;' +\n",
       "            'min-height: 1px;' +\n",
       "            'min-width: 1px;' +\n",
       "            'outline: 0;' +\n",
       "            'overflow: hidden;' +\n",
       "            'position: relative;' +\n",
       "            'resize: both;'\n",
       "    );\n",
       "\n",
       "    function on_keyboard_event_closure(name) {\n",
       "        return function (event) {\n",
       "            return fig.key_event(event, name);\n",
       "        };\n",
       "    }\n",
       "\n",
       "    canvas_div.addEventListener(\n",
       "        'keydown',\n",
       "        on_keyboard_event_closure('key_press')\n",
       "    );\n",
       "    canvas_div.addEventListener(\n",
       "        'keyup',\n",
       "        on_keyboard_event_closure('key_release')\n",
       "    );\n",
       "\n",
       "    this._canvas_extra_style(canvas_div);\n",
       "    this.root.appendChild(canvas_div);\n",
       "\n",
       "    var canvas = (this.canvas = document.createElement('canvas'));\n",
       "    canvas.classList.add('mpl-canvas');\n",
       "    canvas.setAttribute('style', 'box-sizing: content-box;');\n",
       "\n",
       "    this.context = canvas.getContext('2d');\n",
       "\n",
       "    var backingStore =\n",
       "        this.context.backingStorePixelRatio ||\n",
       "        this.context.webkitBackingStorePixelRatio ||\n",
       "        this.context.mozBackingStorePixelRatio ||\n",
       "        this.context.msBackingStorePixelRatio ||\n",
       "        this.context.oBackingStorePixelRatio ||\n",
       "        this.context.backingStorePixelRatio ||\n",
       "        1;\n",
       "\n",
       "    this.ratio = (window.devicePixelRatio || 1) / backingStore;\n",
       "\n",
       "    var rubberband_canvas = (this.rubberband_canvas = document.createElement(\n",
       "        'canvas'\n",
       "    ));\n",
       "    rubberband_canvas.setAttribute(\n",
       "        'style',\n",
       "        'box-sizing: content-box; position: absolute; left: 0; top: 0; z-index: 1;'\n",
       "    );\n",
       "\n",
       "    // Apply a ponyfill if ResizeObserver is not implemented by browser.\n",
       "    if (this.ResizeObserver === undefined) {\n",
       "        if (window.ResizeObserver !== undefined) {\n",
       "            this.ResizeObserver = window.ResizeObserver;\n",
       "        } else {\n",
       "            var obs = _JSXTOOLS_RESIZE_OBSERVER({});\n",
       "            this.ResizeObserver = obs.ResizeObserver;\n",
       "        }\n",
       "    }\n",
       "\n",
       "    this.resizeObserverInstance = new this.ResizeObserver(function (entries) {\n",
       "        var nentries = entries.length;\n",
       "        for (var i = 0; i < nentries; i++) {\n",
       "            var entry = entries[i];\n",
       "            var width, height;\n",
       "            if (entry.contentBoxSize) {\n",
       "                if (entry.contentBoxSize instanceof Array) {\n",
       "                    // Chrome 84 implements new version of spec.\n",
       "                    width = entry.contentBoxSize[0].inlineSize;\n",
       "                    height = entry.contentBoxSize[0].blockSize;\n",
       "                } else {\n",
       "                    // Firefox implements old version of spec.\n",
       "                    width = entry.contentBoxSize.inlineSize;\n",
       "                    height = entry.contentBoxSize.blockSize;\n",
       "                }\n",
       "            } else {\n",
       "                // Chrome <84 implements even older version of spec.\n",
       "                width = entry.contentRect.width;\n",
       "                height = entry.contentRect.height;\n",
       "            }\n",
       "\n",
       "            // Keep the size of the canvas and rubber band canvas in sync with\n",
       "            // the canvas container.\n",
       "            if (entry.devicePixelContentBoxSize) {\n",
       "                // Chrome 84 implements new version of spec.\n",
       "                canvas.setAttribute(\n",
       "                    'width',\n",
       "                    entry.devicePixelContentBoxSize[0].inlineSize\n",
       "                );\n",
       "                canvas.setAttribute(\n",
       "                    'height',\n",
       "                    entry.devicePixelContentBoxSize[0].blockSize\n",
       "                );\n",
       "            } else {\n",
       "                canvas.setAttribute('width', width * fig.ratio);\n",
       "                canvas.setAttribute('height', height * fig.ratio);\n",
       "            }\n",
       "            canvas.setAttribute(\n",
       "                'style',\n",
       "                'width: ' + width + 'px; height: ' + height + 'px;'\n",
       "            );\n",
       "\n",
       "            rubberband_canvas.setAttribute('width', width);\n",
       "            rubberband_canvas.setAttribute('height', height);\n",
       "\n",
       "            // And update the size in Python. We ignore the initial 0/0 size\n",
       "            // that occurs as the element is placed into the DOM, which should\n",
       "            // otherwise not happen due to the minimum size styling.\n",
       "            if (fig.ws.readyState == 1 && width != 0 && height != 0) {\n",
       "                fig.request_resize(width, height);\n",
       "            }\n",
       "        }\n",
       "    });\n",
       "    this.resizeObserverInstance.observe(canvas_div);\n",
       "\n",
       "    function on_mouse_event_closure(name) {\n",
       "        return function (event) {\n",
       "            return fig.mouse_event(event, name);\n",
       "        };\n",
       "    }\n",
       "\n",
       "    rubberband_canvas.addEventListener(\n",
       "        'mousedown',\n",
       "        on_mouse_event_closure('button_press')\n",
       "    );\n",
       "    rubberband_canvas.addEventListener(\n",
       "        'mouseup',\n",
       "        on_mouse_event_closure('button_release')\n",
       "    );\n",
       "    rubberband_canvas.addEventListener(\n",
       "        'dblclick',\n",
       "        on_mouse_event_closure('dblclick')\n",
       "    );\n",
       "    // Throttle sequential mouse events to 1 every 20ms.\n",
       "    rubberband_canvas.addEventListener(\n",
       "        'mousemove',\n",
       "        on_mouse_event_closure('motion_notify')\n",
       "    );\n",
       "\n",
       "    rubberband_canvas.addEventListener(\n",
       "        'mouseenter',\n",
       "        on_mouse_event_closure('figure_enter')\n",
       "    );\n",
       "    rubberband_canvas.addEventListener(\n",
       "        'mouseleave',\n",
       "        on_mouse_event_closure('figure_leave')\n",
       "    );\n",
       "\n",
       "    canvas_div.addEventListener('wheel', function (event) {\n",
       "        if (event.deltaY < 0) {\n",
       "            event.step = 1;\n",
       "        } else {\n",
       "            event.step = -1;\n",
       "        }\n",
       "        on_mouse_event_closure('scroll')(event);\n",
       "    });\n",
       "\n",
       "    canvas_div.appendChild(canvas);\n",
       "    canvas_div.appendChild(rubberband_canvas);\n",
       "\n",
       "    this.rubberband_context = rubberband_canvas.getContext('2d');\n",
       "    this.rubberband_context.strokeStyle = '#000000';\n",
       "\n",
       "    this._resize_canvas = function (width, height, forward) {\n",
       "        if (forward) {\n",
       "            canvas_div.style.width = width + 'px';\n",
       "            canvas_div.style.height = height + 'px';\n",
       "        }\n",
       "    };\n",
       "\n",
       "    // Disable right mouse context menu.\n",
       "    this.rubberband_canvas.addEventListener('contextmenu', function (_e) {\n",
       "        event.preventDefault();\n",
       "        return false;\n",
       "    });\n",
       "\n",
       "    function set_focus() {\n",
       "        canvas.focus();\n",
       "        canvas_div.focus();\n",
       "    }\n",
       "\n",
       "    window.setTimeout(set_focus, 100);\n",
       "};\n",
       "\n",
       "mpl.figure.prototype._init_toolbar = function () {\n",
       "    var fig = this;\n",
       "\n",
       "    var toolbar = document.createElement('div');\n",
       "    toolbar.classList = 'mpl-toolbar';\n",
       "    this.root.appendChild(toolbar);\n",
       "\n",
       "    function on_click_closure(name) {\n",
       "        return function (_event) {\n",
       "            return fig.toolbar_button_onclick(name);\n",
       "        };\n",
       "    }\n",
       "\n",
       "    function on_mouseover_closure(tooltip) {\n",
       "        return function (event) {\n",
       "            if (!event.currentTarget.disabled) {\n",
       "                return fig.toolbar_button_onmouseover(tooltip);\n",
       "            }\n",
       "        };\n",
       "    }\n",
       "\n",
       "    fig.buttons = {};\n",
       "    var buttonGroup = document.createElement('div');\n",
       "    buttonGroup.classList = 'mpl-button-group';\n",
       "    for (var toolbar_ind in mpl.toolbar_items) {\n",
       "        var name = mpl.toolbar_items[toolbar_ind][0];\n",
       "        var tooltip = mpl.toolbar_items[toolbar_ind][1];\n",
       "        var image = mpl.toolbar_items[toolbar_ind][2];\n",
       "        var method_name = mpl.toolbar_items[toolbar_ind][3];\n",
       "\n",
       "        if (!name) {\n",
       "            /* Instead of a spacer, we start a new button group. */\n",
       "            if (buttonGroup.hasChildNodes()) {\n",
       "                toolbar.appendChild(buttonGroup);\n",
       "            }\n",
       "            buttonGroup = document.createElement('div');\n",
       "            buttonGroup.classList = 'mpl-button-group';\n",
       "            continue;\n",
       "        }\n",
       "\n",
       "        var button = (fig.buttons[name] = document.createElement('button'));\n",
       "        button.classList = 'mpl-widget';\n",
       "        button.setAttribute('role', 'button');\n",
       "        button.setAttribute('aria-disabled', 'false');\n",
       "        button.addEventListener('click', on_click_closure(method_name));\n",
       "        button.addEventListener('mouseover', on_mouseover_closure(tooltip));\n",
       "\n",
       "        var icon_img = document.createElement('img');\n",
       "        icon_img.src = '_images/' + image + '.png';\n",
       "        icon_img.srcset = '_images/' + image + '_large.png 2x';\n",
       "        icon_img.alt = tooltip;\n",
       "        button.appendChild(icon_img);\n",
       "\n",
       "        buttonGroup.appendChild(button);\n",
       "    }\n",
       "\n",
       "    if (buttonGroup.hasChildNodes()) {\n",
       "        toolbar.appendChild(buttonGroup);\n",
       "    }\n",
       "\n",
       "    var fmt_picker = document.createElement('select');\n",
       "    fmt_picker.classList = 'mpl-widget';\n",
       "    toolbar.appendChild(fmt_picker);\n",
       "    this.format_dropdown = fmt_picker;\n",
       "\n",
       "    for (var ind in mpl.extensions) {\n",
       "        var fmt = mpl.extensions[ind];\n",
       "        var option = document.createElement('option');\n",
       "        option.selected = fmt === mpl.default_extension;\n",
       "        option.innerHTML = fmt;\n",
       "        fmt_picker.appendChild(option);\n",
       "    }\n",
       "\n",
       "    var status_bar = document.createElement('span');\n",
       "    status_bar.classList = 'mpl-message';\n",
       "    toolbar.appendChild(status_bar);\n",
       "    this.message = status_bar;\n",
       "};\n",
       "\n",
       "mpl.figure.prototype.request_resize = function (x_pixels, y_pixels) {\n",
       "    // Request matplotlib to resize the figure. Matplotlib will then trigger a resize in the client,\n",
       "    // which will in turn request a refresh of the image.\n",
       "    this.send_message('resize', { width: x_pixels, height: y_pixels });\n",
       "};\n",
       "\n",
       "mpl.figure.prototype.send_message = function (type, properties) {\n",
       "    properties['type'] = type;\n",
       "    properties['figure_id'] = this.id;\n",
       "    this.ws.send(JSON.stringify(properties));\n",
       "};\n",
       "\n",
       "mpl.figure.prototype.send_draw_message = function () {\n",
       "    if (!this.waiting) {\n",
       "        this.waiting = true;\n",
       "        this.ws.send(JSON.stringify({ type: 'draw', figure_id: this.id }));\n",
       "    }\n",
       "};\n",
       "\n",
       "mpl.figure.prototype.handle_save = function (fig, _msg) {\n",
       "    var format_dropdown = fig.format_dropdown;\n",
       "    var format = format_dropdown.options[format_dropdown.selectedIndex].value;\n",
       "    fig.ondownload(fig, format);\n",
       "};\n",
       "\n",
       "mpl.figure.prototype.handle_resize = function (fig, msg) {\n",
       "    var size = msg['size'];\n",
       "    if (size[0] !== fig.canvas.width || size[1] !== fig.canvas.height) {\n",
       "        fig._resize_canvas(size[0], size[1], msg['forward']);\n",
       "        fig.send_message('refresh', {});\n",
       "    }\n",
       "};\n",
       "\n",
       "mpl.figure.prototype.handle_rubberband = function (fig, msg) {\n",
       "    var x0 = msg['x0'] / fig.ratio;\n",
       "    var y0 = (fig.canvas.height - msg['y0']) / fig.ratio;\n",
       "    var x1 = msg['x1'] / fig.ratio;\n",
       "    var y1 = (fig.canvas.height - msg['y1']) / fig.ratio;\n",
       "    x0 = Math.floor(x0) + 0.5;\n",
       "    y0 = Math.floor(y0) + 0.5;\n",
       "    x1 = Math.floor(x1) + 0.5;\n",
       "    y1 = Math.floor(y1) + 0.5;\n",
       "    var min_x = Math.min(x0, x1);\n",
       "    var min_y = Math.min(y0, y1);\n",
       "    var width = Math.abs(x1 - x0);\n",
       "    var height = Math.abs(y1 - y0);\n",
       "\n",
       "    fig.rubberband_context.clearRect(\n",
       "        0,\n",
       "        0,\n",
       "        fig.canvas.width / fig.ratio,\n",
       "        fig.canvas.height / fig.ratio\n",
       "    );\n",
       "\n",
       "    fig.rubberband_context.strokeRect(min_x, min_y, width, height);\n",
       "};\n",
       "\n",
       "mpl.figure.prototype.handle_figure_label = function (fig, msg) {\n",
       "    // Updates the figure title.\n",
       "    fig.header.textContent = msg['label'];\n",
       "};\n",
       "\n",
       "mpl.figure.prototype.handle_cursor = function (fig, msg) {\n",
       "    fig.rubberband_canvas.style.cursor = msg['cursor'];\n",
       "};\n",
       "\n",
       "mpl.figure.prototype.handle_message = function (fig, msg) {\n",
       "    fig.message.textContent = msg['message'];\n",
       "};\n",
       "\n",
       "mpl.figure.prototype.handle_draw = function (fig, _msg) {\n",
       "    // Request the server to send over a new figure.\n",
       "    fig.send_draw_message();\n",
       "};\n",
       "\n",
       "mpl.figure.prototype.handle_image_mode = function (fig, msg) {\n",
       "    fig.image_mode = msg['mode'];\n",
       "};\n",
       "\n",
       "mpl.figure.prototype.handle_history_buttons = function (fig, msg) {\n",
       "    for (var key in msg) {\n",
       "        if (!(key in fig.buttons)) {\n",
       "            continue;\n",
       "        }\n",
       "        fig.buttons[key].disabled = !msg[key];\n",
       "        fig.buttons[key].setAttribute('aria-disabled', !msg[key]);\n",
       "    }\n",
       "};\n",
       "\n",
       "mpl.figure.prototype.handle_navigate_mode = function (fig, msg) {\n",
       "    if (msg['mode'] === 'PAN') {\n",
       "        fig.buttons['Pan'].classList.add('active');\n",
       "        fig.buttons['Zoom'].classList.remove('active');\n",
       "    } else if (msg['mode'] === 'ZOOM') {\n",
       "        fig.buttons['Pan'].classList.remove('active');\n",
       "        fig.buttons['Zoom'].classList.add('active');\n",
       "    } else {\n",
       "        fig.buttons['Pan'].classList.remove('active');\n",
       "        fig.buttons['Zoom'].classList.remove('active');\n",
       "    }\n",
       "};\n",
       "\n",
       "mpl.figure.prototype.updated_canvas_event = function () {\n",
       "    // Called whenever the canvas gets updated.\n",
       "    this.send_message('ack', {});\n",
       "};\n",
       "\n",
       "// A function to construct a web socket function for onmessage handling.\n",
       "// Called in the figure constructor.\n",
       "mpl.figure.prototype._make_on_message_function = function (fig) {\n",
       "    return function socket_on_message(evt) {\n",
       "        if (evt.data instanceof Blob) {\n",
       "            var img = evt.data;\n",
       "            if (img.type !== 'image/png') {\n",
       "                /* FIXME: We get \"Resource interpreted as Image but\n",
       "                 * transferred with MIME type text/plain:\" errors on\n",
       "                 * Chrome.  But how to set the MIME type?  It doesn't seem\n",
       "                 * to be part of the websocket stream */\n",
       "                img.type = 'image/png';\n",
       "            }\n",
       "\n",
       "            /* Free the memory for the previous frames */\n",
       "            if (fig.imageObj.src) {\n",
       "                (window.URL || window.webkitURL).revokeObjectURL(\n",
       "                    fig.imageObj.src\n",
       "                );\n",
       "            }\n",
       "\n",
       "            fig.imageObj.src = (window.URL || window.webkitURL).createObjectURL(\n",
       "                img\n",
       "            );\n",
       "            fig.updated_canvas_event();\n",
       "            fig.waiting = false;\n",
       "            return;\n",
       "        } else if (\n",
       "            typeof evt.data === 'string' &&\n",
       "            evt.data.slice(0, 21) === 'data:image/png;base64'\n",
       "        ) {\n",
       "            fig.imageObj.src = evt.data;\n",
       "            fig.updated_canvas_event();\n",
       "            fig.waiting = false;\n",
       "            return;\n",
       "        }\n",
       "\n",
       "        var msg = JSON.parse(evt.data);\n",
       "        var msg_type = msg['type'];\n",
       "\n",
       "        // Call the  \"handle_{type}\" callback, which takes\n",
       "        // the figure and JSON message as its only arguments.\n",
       "        try {\n",
       "            var callback = fig['handle_' + msg_type];\n",
       "        } catch (e) {\n",
       "            console.log(\n",
       "                \"No handler for the '\" + msg_type + \"' message type: \",\n",
       "                msg\n",
       "            );\n",
       "            return;\n",
       "        }\n",
       "\n",
       "        if (callback) {\n",
       "            try {\n",
       "                // console.log(\"Handling '\" + msg_type + \"' message: \", msg);\n",
       "                callback(fig, msg);\n",
       "            } catch (e) {\n",
       "                console.log(\n",
       "                    \"Exception inside the 'handler_\" + msg_type + \"' callback:\",\n",
       "                    e,\n",
       "                    e.stack,\n",
       "                    msg\n",
       "                );\n",
       "            }\n",
       "        }\n",
       "    };\n",
       "};\n",
       "\n",
       "// from https://stackoverflow.com/questions/1114465/getting-mouse-location-in-canvas\n",
       "mpl.findpos = function (e) {\n",
       "    //this section is from http://www.quirksmode.org/js/events_properties.html\n",
       "    var targ;\n",
       "    if (!e) {\n",
       "        e = window.event;\n",
       "    }\n",
       "    if (e.target) {\n",
       "        targ = e.target;\n",
       "    } else if (e.srcElement) {\n",
       "        targ = e.srcElement;\n",
       "    }\n",
       "    if (targ.nodeType === 3) {\n",
       "        // defeat Safari bug\n",
       "        targ = targ.parentNode;\n",
       "    }\n",
       "\n",
       "    // pageX,Y are the mouse positions relative to the document\n",
       "    var boundingRect = targ.getBoundingClientRect();\n",
       "    var x = e.pageX - (boundingRect.left + document.body.scrollLeft);\n",
       "    var y = e.pageY - (boundingRect.top + document.body.scrollTop);\n",
       "\n",
       "    return { x: x, y: y };\n",
       "};\n",
       "\n",
       "/*\n",
       " * return a copy of an object with only non-object keys\n",
       " * we need this to avoid circular references\n",
       " * https://stackoverflow.com/a/24161582/3208463\n",
       " */\n",
       "function simpleKeys(original) {\n",
       "    return Object.keys(original).reduce(function (obj, key) {\n",
       "        if (typeof original[key] !== 'object') {\n",
       "            obj[key] = original[key];\n",
       "        }\n",
       "        return obj;\n",
       "    }, {});\n",
       "}\n",
       "\n",
       "mpl.figure.prototype.mouse_event = function (event, name) {\n",
       "    var canvas_pos = mpl.findpos(event);\n",
       "\n",
       "    if (name === 'button_press') {\n",
       "        this.canvas.focus();\n",
       "        this.canvas_div.focus();\n",
       "    }\n",
       "\n",
       "    var x = canvas_pos.x * this.ratio;\n",
       "    var y = canvas_pos.y * this.ratio;\n",
       "\n",
       "    this.send_message(name, {\n",
       "        x: x,\n",
       "        y: y,\n",
       "        button: event.button,\n",
       "        step: event.step,\n",
       "        guiEvent: simpleKeys(event),\n",
       "    });\n",
       "\n",
       "    /* This prevents the web browser from automatically changing to\n",
       "     * the text insertion cursor when the button is pressed.  We want\n",
       "     * to control all of the cursor setting manually through the\n",
       "     * 'cursor' event from matplotlib */\n",
       "    event.preventDefault();\n",
       "    return false;\n",
       "};\n",
       "\n",
       "mpl.figure.prototype._key_event_extra = function (_event, _name) {\n",
       "    // Handle any extra behaviour associated with a key event\n",
       "};\n",
       "\n",
       "mpl.figure.prototype.key_event = function (event, name) {\n",
       "    // Prevent repeat events\n",
       "    if (name === 'key_press') {\n",
       "        if (event.key === this._key) {\n",
       "            return;\n",
       "        } else {\n",
       "            this._key = event.key;\n",
       "        }\n",
       "    }\n",
       "    if (name === 'key_release') {\n",
       "        this._key = null;\n",
       "    }\n",
       "\n",
       "    var value = '';\n",
       "    if (event.ctrlKey && event.key !== 'Control') {\n",
       "        value += 'ctrl+';\n",
       "    }\n",
       "    else if (event.altKey && event.key !== 'Alt') {\n",
       "        value += 'alt+';\n",
       "    }\n",
       "    else if (event.shiftKey && event.key !== 'Shift') {\n",
       "        value += 'shift+';\n",
       "    }\n",
       "\n",
       "    value += 'k' + event.key;\n",
       "\n",
       "    this._key_event_extra(event, name);\n",
       "\n",
       "    this.send_message(name, { key: value, guiEvent: simpleKeys(event) });\n",
       "    return false;\n",
       "};\n",
       "\n",
       "mpl.figure.prototype.toolbar_button_onclick = function (name) {\n",
       "    if (name === 'download') {\n",
       "        this.handle_save(this, null);\n",
       "    } else {\n",
       "        this.send_message('toolbar_button', { name: name });\n",
       "    }\n",
       "};\n",
       "\n",
       "mpl.figure.prototype.toolbar_button_onmouseover = function (tooltip) {\n",
       "    this.message.textContent = tooltip;\n",
       "};\n",
       "\n",
       "///////////////// REMAINING CONTENT GENERATED BY embed_js.py /////////////////\n",
       "// prettier-ignore\n",
       "var _JSXTOOLS_RESIZE_OBSERVER=function(A){var t,i=new WeakMap,n=new WeakMap,a=new WeakMap,r=new WeakMap,o=new Set;function s(e){if(!(this instanceof s))throw new TypeError(\"Constructor requires 'new' operator\");i.set(this,e)}function h(){throw new TypeError(\"Function is not a constructor\")}function c(e,t,i,n){e=0 in arguments?Number(arguments[0]):0,t=1 in arguments?Number(arguments[1]):0,i=2 in arguments?Number(arguments[2]):0,n=3 in arguments?Number(arguments[3]):0,this.right=(this.x=this.left=e)+(this.width=i),this.bottom=(this.y=this.top=t)+(this.height=n),Object.freeze(this)}function d(){t=requestAnimationFrame(d);var s=new WeakMap,p=new Set;o.forEach((function(t){r.get(t).forEach((function(i){var r=t instanceof window.SVGElement,o=a.get(t),d=r?0:parseFloat(o.paddingTop),f=r?0:parseFloat(o.paddingRight),l=r?0:parseFloat(o.paddingBottom),u=r?0:parseFloat(o.paddingLeft),g=r?0:parseFloat(o.borderTopWidth),m=r?0:parseFloat(o.borderRightWidth),w=r?0:parseFloat(o.borderBottomWidth),b=u+f,F=d+l,v=(r?0:parseFloat(o.borderLeftWidth))+m,W=g+w,y=r?0:t.offsetHeight-W-t.clientHeight,E=r?0:t.offsetWidth-v-t.clientWidth,R=b+v,z=F+W,M=r?t.width:parseFloat(o.width)-R-E,O=r?t.height:parseFloat(o.height)-z-y;if(n.has(t)){var k=n.get(t);if(k[0]===M&&k[1]===O)return}n.set(t,[M,O]);var S=Object.create(h.prototype);S.target=t,S.contentRect=new c(u,d,M,O),s.has(i)||(s.set(i,[]),p.add(i)),s.get(i).push(S)}))})),p.forEach((function(e){i.get(e).call(e,s.get(e),e)}))}return s.prototype.observe=function(i){if(i instanceof window.Element){r.has(i)||(r.set(i,new Set),o.add(i),a.set(i,window.getComputedStyle(i)));var n=r.get(i);n.has(this)||n.add(this),cancelAnimationFrame(t),t=requestAnimationFrame(d)}},s.prototype.unobserve=function(i){if(i instanceof window.Element&&r.has(i)){var n=r.get(i);n.has(this)&&(n.delete(this),n.size||(r.delete(i),o.delete(i))),n.size||r.delete(i),o.size||cancelAnimationFrame(t)}},A.DOMRectReadOnly=c,A.ResizeObserver=s,A.ResizeObserverEntry=h,A}; // eslint-disable-line\n",
       "mpl.toolbar_items = [[\"Home\", \"Reset original view\", \"fa fa-home icon-home\", \"home\"], [\"Back\", \"Back to previous view\", \"fa fa-arrow-left icon-arrow-left\", \"back\"], [\"Forward\", \"Forward to next view\", \"fa fa-arrow-right icon-arrow-right\", \"forward\"], [\"\", \"\", \"\", \"\"], [\"Pan\", \"Left button pans, Right button zooms\\nx/y fixes axis, CTRL fixes aspect\", \"fa fa-arrows icon-move\", \"pan\"], [\"Zoom\", \"Zoom to rectangle\\nx/y fixes axis\", \"fa fa-square-o icon-check-empty\", \"zoom\"], [\"\", \"\", \"\", \"\"], [\"Download\", \"Download plot\", \"fa fa-floppy-o icon-save\", \"download\"]];\n",
       "\n",
       "mpl.extensions = [\"eps\", \"jpeg\", \"pgf\", \"pdf\", \"png\", \"ps\", \"raw\", \"svg\", \"tif\"];\n",
       "\n",
       "mpl.default_extension = \"png\";/* global mpl */\n",
       "\n",
       "var comm_websocket_adapter = function (comm) {\n",
       "    // Create a \"websocket\"-like object which calls the given IPython comm\n",
       "    // object with the appropriate methods. Currently this is a non binary\n",
       "    // socket, so there is still some room for performance tuning.\n",
       "    var ws = {};\n",
       "\n",
       "    ws.binaryType = comm.kernel.ws.binaryType;\n",
       "    ws.readyState = comm.kernel.ws.readyState;\n",
       "    function updateReadyState(_event) {\n",
       "        if (comm.kernel.ws) {\n",
       "            ws.readyState = comm.kernel.ws.readyState;\n",
       "        } else {\n",
       "            ws.readyState = 3; // Closed state.\n",
       "        }\n",
       "    }\n",
       "    comm.kernel.ws.addEventListener('open', updateReadyState);\n",
       "    comm.kernel.ws.addEventListener('close', updateReadyState);\n",
       "    comm.kernel.ws.addEventListener('error', updateReadyState);\n",
       "\n",
       "    ws.close = function () {\n",
       "        comm.close();\n",
       "    };\n",
       "    ws.send = function (m) {\n",
       "        //console.log('sending', m);\n",
       "        comm.send(m);\n",
       "    };\n",
       "    // Register the callback with on_msg.\n",
       "    comm.on_msg(function (msg) {\n",
       "        //console.log('receiving', msg['content']['data'], msg);\n",
       "        var data = msg['content']['data'];\n",
       "        if (data['blob'] !== undefined) {\n",
       "            data = {\n",
       "                data: new Blob(msg['buffers'], { type: data['blob'] }),\n",
       "            };\n",
       "        }\n",
       "        // Pass the mpl event to the overridden (by mpl) onmessage function.\n",
       "        ws.onmessage(data);\n",
       "    });\n",
       "    return ws;\n",
       "};\n",
       "\n",
       "mpl.mpl_figure_comm = function (comm, msg) {\n",
       "    // This is the function which gets called when the mpl process\n",
       "    // starts-up an IPython Comm through the \"matplotlib\" channel.\n",
       "\n",
       "    var id = msg.content.data.id;\n",
       "    // Get hold of the div created by the display call when the Comm\n",
       "    // socket was opened in Python.\n",
       "    var element = document.getElementById(id);\n",
       "    var ws_proxy = comm_websocket_adapter(comm);\n",
       "\n",
       "    function ondownload(figure, _format) {\n",
       "        window.open(figure.canvas.toDataURL());\n",
       "    }\n",
       "\n",
       "    var fig = new mpl.figure(id, ws_proxy, ondownload, element);\n",
       "\n",
       "    // Call onopen now - mpl needs it, as it is assuming we've passed it a real\n",
       "    // web socket which is closed, not our websocket->open comm proxy.\n",
       "    ws_proxy.onopen();\n",
       "\n",
       "    fig.parent_element = element;\n",
       "    fig.cell_info = mpl.find_output_cell(\"<div id='\" + id + \"'></div>\");\n",
       "    if (!fig.cell_info) {\n",
       "        console.error('Failed to find cell for figure', id, fig);\n",
       "        return;\n",
       "    }\n",
       "    fig.cell_info[0].output_area.element.on(\n",
       "        'cleared',\n",
       "        { fig: fig },\n",
       "        fig._remove_fig_handler\n",
       "    );\n",
       "};\n",
       "\n",
       "mpl.figure.prototype.handle_close = function (fig, msg) {\n",
       "    var width = fig.canvas.width / fig.ratio;\n",
       "    fig.cell_info[0].output_area.element.off(\n",
       "        'cleared',\n",
       "        fig._remove_fig_handler\n",
       "    );\n",
       "    fig.resizeObserverInstance.unobserve(fig.canvas_div);\n",
       "\n",
       "    // Update the output cell to use the data from the current canvas.\n",
       "    fig.push_to_output();\n",
       "    var dataURL = fig.canvas.toDataURL();\n",
       "    // Re-enable the keyboard manager in IPython - without this line, in FF,\n",
       "    // the notebook keyboard shortcuts fail.\n",
       "    IPython.keyboard_manager.enable();\n",
       "    fig.parent_element.innerHTML =\n",
       "        '<img src=\"' + dataURL + '\" width=\"' + width + '\">';\n",
       "    fig.close_ws(fig, msg);\n",
       "};\n",
       "\n",
       "mpl.figure.prototype.close_ws = function (fig, msg) {\n",
       "    fig.send_message('closing', msg);\n",
       "    // fig.ws.close()\n",
       "};\n",
       "\n",
       "mpl.figure.prototype.push_to_output = function (_remove_interactive) {\n",
       "    // Turn the data on the canvas into data in the output cell.\n",
       "    var width = this.canvas.width / this.ratio;\n",
       "    var dataURL = this.canvas.toDataURL();\n",
       "    this.cell_info[1]['text/html'] =\n",
       "        '<img src=\"' + dataURL + '\" width=\"' + width + '\">';\n",
       "};\n",
       "\n",
       "mpl.figure.prototype.updated_canvas_event = function () {\n",
       "    // Tell IPython that the notebook contents must change.\n",
       "    IPython.notebook.set_dirty(true);\n",
       "    this.send_message('ack', {});\n",
       "    var fig = this;\n",
       "    // Wait a second, then push the new image to the DOM so\n",
       "    // that it is saved nicely (might be nice to debounce this).\n",
       "    setTimeout(function () {\n",
       "        fig.push_to_output();\n",
       "    }, 1000);\n",
       "};\n",
       "\n",
       "mpl.figure.prototype._init_toolbar = function () {\n",
       "    var fig = this;\n",
       "\n",
       "    var toolbar = document.createElement('div');\n",
       "    toolbar.classList = 'btn-toolbar';\n",
       "    this.root.appendChild(toolbar);\n",
       "\n",
       "    function on_click_closure(name) {\n",
       "        return function (_event) {\n",
       "            return fig.toolbar_button_onclick(name);\n",
       "        };\n",
       "    }\n",
       "\n",
       "    function on_mouseover_closure(tooltip) {\n",
       "        return function (event) {\n",
       "            if (!event.currentTarget.disabled) {\n",
       "                return fig.toolbar_button_onmouseover(tooltip);\n",
       "            }\n",
       "        };\n",
       "    }\n",
       "\n",
       "    fig.buttons = {};\n",
       "    var buttonGroup = document.createElement('div');\n",
       "    buttonGroup.classList = 'btn-group';\n",
       "    var button;\n",
       "    for (var toolbar_ind in mpl.toolbar_items) {\n",
       "        var name = mpl.toolbar_items[toolbar_ind][0];\n",
       "        var tooltip = mpl.toolbar_items[toolbar_ind][1];\n",
       "        var image = mpl.toolbar_items[toolbar_ind][2];\n",
       "        var method_name = mpl.toolbar_items[toolbar_ind][3];\n",
       "\n",
       "        if (!name) {\n",
       "            /* Instead of a spacer, we start a new button group. */\n",
       "            if (buttonGroup.hasChildNodes()) {\n",
       "                toolbar.appendChild(buttonGroup);\n",
       "            }\n",
       "            buttonGroup = document.createElement('div');\n",
       "            buttonGroup.classList = 'btn-group';\n",
       "            continue;\n",
       "        }\n",
       "\n",
       "        button = fig.buttons[name] = document.createElement('button');\n",
       "        button.classList = 'btn btn-default';\n",
       "        button.href = '#';\n",
       "        button.title = name;\n",
       "        button.innerHTML = '<i class=\"fa ' + image + ' fa-lg\"></i>';\n",
       "        button.addEventListener('click', on_click_closure(method_name));\n",
       "        button.addEventListener('mouseover', on_mouseover_closure(tooltip));\n",
       "        buttonGroup.appendChild(button);\n",
       "    }\n",
       "\n",
       "    if (buttonGroup.hasChildNodes()) {\n",
       "        toolbar.appendChild(buttonGroup);\n",
       "    }\n",
       "\n",
       "    // Add the status bar.\n",
       "    var status_bar = document.createElement('span');\n",
       "    status_bar.classList = 'mpl-message pull-right';\n",
       "    toolbar.appendChild(status_bar);\n",
       "    this.message = status_bar;\n",
       "\n",
       "    // Add the close button to the window.\n",
       "    var buttongrp = document.createElement('div');\n",
       "    buttongrp.classList = 'btn-group inline pull-right';\n",
       "    button = document.createElement('button');\n",
       "    button.classList = 'btn btn-mini btn-primary';\n",
       "    button.href = '#';\n",
       "    button.title = 'Stop Interaction';\n",
       "    button.innerHTML = '<i class=\"fa fa-power-off icon-remove icon-large\"></i>';\n",
       "    button.addEventListener('click', function (_evt) {\n",
       "        fig.handle_close(fig, {});\n",
       "    });\n",
       "    button.addEventListener(\n",
       "        'mouseover',\n",
       "        on_mouseover_closure('Stop Interaction')\n",
       "    );\n",
       "    buttongrp.appendChild(button);\n",
       "    var titlebar = this.root.querySelector('.ui-dialog-titlebar');\n",
       "    titlebar.insertBefore(buttongrp, titlebar.firstChild);\n",
       "};\n",
       "\n",
       "mpl.figure.prototype._remove_fig_handler = function (event) {\n",
       "    var fig = event.data.fig;\n",
       "    if (event.target !== this) {\n",
       "        // Ignore bubbled events from children.\n",
       "        return;\n",
       "    }\n",
       "    fig.close_ws(fig, {});\n",
       "};\n",
       "\n",
       "mpl.figure.prototype._root_extra_style = function (el) {\n",
       "    el.style.boxSizing = 'content-box'; // override notebook setting of border-box.\n",
       "};\n",
       "\n",
       "mpl.figure.prototype._canvas_extra_style = function (el) {\n",
       "    // this is important to make the div 'focusable\n",
       "    el.setAttribute('tabindex', 0);\n",
       "    // reach out to IPython and tell the keyboard manager to turn it's self\n",
       "    // off when our div gets focus\n",
       "\n",
       "    // location in version 3\n",
       "    if (IPython.notebook.keyboard_manager) {\n",
       "        IPython.notebook.keyboard_manager.register_events(el);\n",
       "    } else {\n",
       "        // location in version 2\n",
       "        IPython.keyboard_manager.register_events(el);\n",
       "    }\n",
       "};\n",
       "\n",
       "mpl.figure.prototype._key_event_extra = function (event, _name) {\n",
       "    // Check for shift+enter\n",
       "    if (event.shiftKey && event.which === 13) {\n",
       "        this.canvas_div.blur();\n",
       "        // select the cell after this one\n",
       "        var index = IPython.notebook.find_cell_index(this.cell_info[0]);\n",
       "        IPython.notebook.select(index + 1);\n",
       "    }\n",
       "};\n",
       "\n",
       "mpl.figure.prototype.handle_save = function (fig, _msg) {\n",
       "    fig.ondownload(fig, null);\n",
       "};\n",
       "\n",
       "mpl.find_output_cell = function (html_output) {\n",
       "    // Return the cell and output element which can be found *uniquely* in the notebook.\n",
       "    // Note - this is a bit hacky, but it is done because the \"notebook_saving.Notebook\"\n",
       "    // IPython event is triggered only after the cells have been serialised, which for\n",
       "    // our purposes (turning an active figure into a static one), is too late.\n",
       "    var cells = IPython.notebook.get_cells();\n",
       "    var ncells = cells.length;\n",
       "    for (var i = 0; i < ncells; i++) {\n",
       "        var cell = cells[i];\n",
       "        if (cell.cell_type === 'code') {\n",
       "            for (var j = 0; j < cell.output_area.outputs.length; j++) {\n",
       "                var data = cell.output_area.outputs[j];\n",
       "                if (data.data) {\n",
       "                    // IPython >= 3 moved mimebundle to data attribute of output\n",
       "                    data = data.data;\n",
       "                }\n",
       "                if (data['text/html'] === html_output) {\n",
       "                    return [cell, data, j];\n",
       "                }\n",
       "            }\n",
       "        }\n",
       "    }\n",
       "};\n",
       "\n",
       "// Register the function which deals with the matplotlib target/channel.\n",
       "// The kernel may be null if the page has been refreshed.\n",
       "if (IPython.notebook.kernel !== null) {\n",
       "    IPython.notebook.kernel.comm_manager.register_target(\n",
       "        'matplotlib',\n",
       "        mpl.mpl_figure_comm\n",
       "    );\n",
       "}\n"
      ],
      "text/plain": [
       "<IPython.core.display.Javascript object>"
      ]
     },
     "metadata": {},
     "output_type": "display_data"
    },
    {
     "data": {
      "text/html": [
       "<img src=\"data:image/png;base64,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\" width=\"640\">"
      ],
      "text/plain": [
       "<IPython.core.display.HTML object>"
      ]
     },
     "metadata": {},
     "output_type": "display_data"
    }
   ],
   "source": [
    "pcd = o3d.io.read_point_cloud('./train/nugg_1.pcd')\n",
    "xyz = np.asarray(pcd.points)\n",
    "\n",
    "center = np.mean(xyz, axis=0)\n",
    "print(center)\n",
    "print(center[2]-0.003, center[2]+0.001)\n",
    "xyz = xyz[np.where((xyz[:,2]>center[2]-0.001) & (xyz[:,2]<center[2]+0.001))]\n",
    "idx = np.random.choice(np.arange(xyz.shape[0]), size=128)\n",
    "xyz = xyz[idx]\n",
    "\n",
    "fig = plt.figure()\n",
    "ax = fig.add_subplot(projection='3d')\n",
    "ax.scatter(xyz[:,0], xyz[:,1], xyz[:,2])\n",
    "\n",
    "test = [0.4, 0.113, 0.405, 0.16, 0.523599, 0.5, 0.75]\n",
    "\n",
    "ax.set_xlabel('X')\n",
    "ax.set_ylabel('Y')\n",
    "ax.set_zlabel('Z')\n",
    "\n",
    "x1 = test[:2]\n",
    "x2 = test[2:4]\n",
    "ax.scatter(x1[0], x1[1], center[2])\n",
    "ax.scatter(x2[0], x2[1], center[2])\n",
    "\n",
    "plt.show()\n",
    "# # o3d.visualization.draw_geometries([pcd], mesh_show_wireframe=True)"
   ]
  },
  {
   "cell_type": "code",
   "execution_count": 146,
   "id": "e3e5d63b",
   "metadata": {},
   "outputs": [],
   "source": [
    "# np.save('data.npy', pt_cloud_data) "
   ]
  },
  {
   "cell_type": "code",
   "execution_count": 147,
   "id": "d030c938",
   "metadata": {},
   "outputs": [
    {
     "ename": "SyntaxError",
     "evalue": "invalid syntax (3273502987.py, line 4)",
     "output_type": "error",
     "traceback": [
      "\u001b[0;36m  Input \u001b[0;32mIn [147]\u001b[0;36m\u001b[0m\n\u001b[0;31m    \"nugg_2\": np.array([0.432, 0.08, 0.432, 0.1384, 0.523599, 0.5, 0.75],)\u001b[0m\n\u001b[0m    ^\u001b[0m\n\u001b[0;31mSyntaxError\u001b[0m\u001b[0;31m:\u001b[0m invalid syntax\n"
     ]
    }
   ],
   "source": [
    "target_output = {\n",
    "#     x1, y1, x2, y2, pitch, f1, f2\n",
    "    \"nugg_1\": np.array([0.4, 0.113, 0.405, 0.16, 0.523599, 0.5, 0.75],)\n",
    "    \"nugg_2\": np.array([0.432, 0.08, 0.432, 0.1384, 0.523599, 0.5, 0.75],)\n",
    "    \"nugg_3\": np.array([0.42, 0.11, 0.415, 0.163, 0.523599, 0.5, 0.75],)\n",
    "    \"nugg_4\": np.array([0.39, 0.11, 0.45, 0.118, 0.523599, 0.5, 0.75],)\n",
    "    \"nugg_5\": np.array([0.405, 0.09, 0.46, 0.118, 0.523599, 0.5, 0.75])\n",
    "}"
   ]
  },
  {
   "cell_type": "code",
   "execution_count": 148,
   "id": "a9246165",
   "metadata": {},
   "outputs": [],
   "source": [
    "def visualize_rotate(data):\n",
    "    x_eye, y_eye, z_eye = 1.25, 1.25, 0.8\n",
    "    frames=[]\n",
    "\n",
    "    def rotate_z(x, y, z, theta):\n",
    "        w = x+1j*y\n",
    "        return np.real(np.exp(1j*theta)*w), np.imag(np.exp(1j*theta)*w), z\n",
    "\n",
    "    for t in np.arange(0, 10.26, 0.1):\n",
    "        xe, ye, ze = rotate_z(x_eye, y_eye, z_eye, -t)\n",
    "        frames.append(dict(layout=dict(scene=dict(camera=dict(eye=dict(x=xe, y=ye, z=ze))))))\n",
    "        fig = go.Figure(data=data,\n",
    "            layout=go.Layout(\n",
    "                updatemenus=[dict(type='buttons',\n",
    "                    showactive=False,\n",
    "                    y=1,\n",
    "                    x=0.8,\n",
    "                    xanchor='left',\n",
    "                    yanchor='bottom',\n",
    "                    pad=dict(t=45, r=10),\n",
    "                    buttons=[dict(label='Play',\n",
    "                    method='animate',\n",
    "                    args=[None, dict(frame=dict(duration=50, redraw=True),\n",
    "                        transition=dict(duration=0),\n",
    "                        fromcurrent=True,\n",
    "                        mode='immediate'\n",
    "                        )]\n",
    "                    )\n",
    "                ])]\n",
    "            ),\n",
    "        frames=frames\n",
    "        )\n",
    "    return fig"
   ]
  },
  {
   "cell_type": "code",
   "execution_count": 7,
   "id": "a7515c46",
   "metadata": {},
   "outputs": [
    {
     "data": {
      "application/vnd.plotly.v1+json": {
       "config": {
        "plotlyServerURL": "https://plot.ly"
       },
       "data": [
        {
         "color": "lightpink",
         "opacity": 0.5,
         "type": "mesh3d",
         "x": [
          0.3728894591331482,
          0.3728436827659607,
          0.37357214093208313,
          0.37372514605522156,
          0.3735487759113312,
          0.37436115741729736,
          0.3745102286338806,
          0.3744974732398987,
          0.37432152032852173,
          0.373816579580307,
          0.37513411045074463,
          0.375442236661911,
          0.37542882561683655,
          0.37509122490882874,
          0.3745897710323334,
          0.3757619559764862,
          0.3760637044906616,
          0.37620797753334045,
          0.3760329484939575,
          0.3758578896522522,
          0.3753599226474762,
          0.3767082393169403,
          0.3766891062259674,
          0.37682899832725525,
          0.37697067856788635,
          0.37679606676101685,
          0.37662145495414734,
          0.3761270046234131,
          0.37745991349220276,
          0.37743890285491943,
          0.3775750398635864,
          0.3777129650115967,
          0.3775383532047272,
          0.3775213360786438,
          0.37718909978866577,
          0.3766975402832031,
          0.37829455733299255,
          0.37827226519584656,
          0.37840545177459717,
          0.37838539481163025,
          0.3783662021160126,
          0.3781920373439789,
          0.3780178725719452,
          0.37768691778182983,
          0.37892794609069824,
          0.379055380821228,
          0.3790320158004761,
          0.37916257977485657,
          0.3791414201259613,
          0.3789672553539276,
          0.3789474368095398,
          0.37861892580986023,
          0.37828949093818665,
          0.3796088993549347,
          0.37988337874412537,
          0.37985873222351074,
          0.37983500957489014,
          0.3798121511936188,
          0.37979018688201904,
          0.37961646914482117,
          0.3794427216053009,
          0.3789619207382202,
          0.3780174255371094,
          0.38051605224609375,
          0.38063791394233704,
          0.38061219453811646,
          0.3805873692035675,
          0.3805634379386902,
          0.3803897202014923,
          0.38021597266197205,
          0.38004225492477417,
          0.379564493894577,
          0.3787800967693329,
          0.3811935782432556,
          0.38145923614501953,
          0.38128462433815,
          0.381258100271225,
          0.38123244047164917,
          0.3810587227344513,
          0.38088497519493103,
          0.38071125745773315,
          0.38038724660873413,
          0.37976083159446716,
          0.3817613422870636,
          0.3820211887359619,
          0.3819919526576996,
          0.3819636404514313,
          0.3819361925125122,
          0.38176247477531433,
          0.38158875703811646,
          0.3814150094985962,
          0.3812412917613983,
          0.38076967000961304,
          0.37984809279441833,
          0.38265693187713623,
          0.3827691674232483,
          0.38273885846138,
          0.38270944356918335,
          0.3825357258319855,
          0.38250765204429626,
          0.3823343515396118,
          0.38201454281806946,
          0.3818408250808716,
          0.38137224316596985,
          0.38287222385406494,
          0.3834044635295868,
          0.38351407647132874,
          0.3834826946258545,
          0.3833089768886566,
          0.38327890634536743,
          0.38310563564300537,
          0.3829323351383209,
          0.38261404633522034,
          0.38244032859802246,
          0.3818289339542389,
          0.3836592733860016,
          0.3841838538646698,
          0.384149968624115,
          0.3841169774532318,
          0.38394322991371155,
          0.3839115500450134,
          0.38373827934265137,
          0.3835650086402893,
          0.38324832916259766,
          0.3830746114253998,
          0.38261231780052185,
          0.384443074464798,
          0.384821355342865,
          0.38478586077690125,
          0.38475123047828674,
          0.38471749424934387,
          0.3845442235469818,
          0.38437092304229736,
          0.3841976523399353,
          0.38402435183525085,
          0.3837088644504547,
          0.38324981927871704,
          0.38235974311828613,
          0.38552871346473694,
          0.38549140095710754,
          0.3854549825191498,
          0.38541945815086365,
          0.3852461576461792,
          0.38507288694381714,
          0.3848995864391327,
          0.38472631573677063,
          0.38441261649131775,
          0.38409802317619324,
          0.38349995017051697,
          0.38596591353416443,
          0.38619697093963623,
          0.3861587345600128,
          0.38598501682281494,
          0.38594815135002136,
          0.3857748508453369,
          0.38560158014297485,
          0.3854282796382904,
          0.38525500893592834,
          0.3849426507949829,
          0.38448992371559143,
          0.3863123655319214,
          0.3868037164211273,
          0.38676318526268005,
          0.38672351837158203,
          0.38668474555015564,
          0.3865114748477936,
          0.38647404313087463,
          0.386301189661026,
          0.3859916031360626,
          0.38581833243370056,
          0.3855074346065521,
          0.38478145003318787,
          0.38715073466300964,
          0.38750356435775757,
          0.3874620199203491,
          0.38728830218315125,
          0.38724809885025024,
          0.3872087597846985,
          0.38703593611717224,
          0.3868630826473236,
          0.3865549564361572,
          0.3862459361553192,
          0.38593602180480957,
          0.3850787281990051,
          0.3879833221435547,
          0.3880697786808014,
          0.38802680373191833,
          0.3879847228527069,
          0.38781142234802246,
          0.3877706527709961,
          0.38759782910346985,
          0.3874249756336212,
          0.38711827993392944,
          0.38681069016456604,
          0.3863674998283386,
          0.38824915885925293,
          0.3887162208557129,
          0.38867083191871643,
          0.3886263072490692,
          0.388582706451416,
          0.38853996992111206,
          0.3883671164512634,
          0.3881942927837372,
          0.38802143931388855,
          0.38771626353263855,
          0.3874102234840393,
          0.38683685660362244,
          0.38898617029190063,
          0.38944604992866516,
          0.38927188515663147,
          0.3892258405685425,
          0.3891806900501251,
          0.3891364336013794,
          0.38896358013153076,
          0.3887907564640045,
          0.3886179029941559,
          0.38831427693367004,
          0.3880097568035126,
          0.3873092830181122,
          0.38975533843040466,
          0.3900819420814514,
          0.3900338411331177,
          0.3898600935935974,
          0.3898133337497711,
          0.38976746797561646,
          0.3895946145057678,
          0.3895500600337982,
          0.38924893736839294,
          0.38894692063331604,
          0.3886440098285675,
          0.38795003294944763,
          0.39039769768714905,
          0.3907178044319153,
          0.3906680941581726,
          0.39049437642097473,
          0.3904459774494171,
          0.3903985023498535,
          0.3903518617153168,
          0.39017948508262634,
          0.38987997174263,
          0.38957956433296204,
          0.38927826285362244,
          0.38871920108795166,
          0.39104005694389343,
          0.39135369658470154,
          0.3913023769855499,
          0.39112862944602966,
          0.3910786211490631,
          0.3910295069217682,
          0.3909812867641449,
          0.3908088803291321,
          0.39051100611686707,
          0.39021220803260803,
          0.38991254568099976,
          0.3893583416938782,
          0.391477108001709,
          0.39190372824668884,
          0.39185023307800293,
          0.39179766178131104,
          0.391745924949646,
          0.391695111989975,
          0.3916451632976532,
          0.39147278666496277,
          0.39130038022994995,
          0.3908795118331909,
          0.39058154821395874,
          0.3901575803756714,
          0.3893551528453827,
          0.3925761580467224,
          0.3925209641456604,
          0.39246666431427,
          0.3924132287502289,
          0.39236071705818176,
          0.3923090696334839,
          0.39213666319847107,
          0.39196428656578064,
          0.3916693329811096,
          0.39137354493141174,
          0.3909534215927124,
          0.3901599645614624,
          0.3931313157081604,
          0.39319169521331787,
          0.393135666847229,
          0.39308056235313416,
          0.39302632212638855,
          0.3929729759693146,
          0.39280056953430176,
          0.39262816309928894,
          0.3923349380493164,
          0.39204084873199463,
          0.3916241526603699,
          0.3909613788127899,
          0.3935742974281311,
          0.39386239647865295,
          0.3938046991825104,
          0.39374786615371704,
          0.39369192719459534,
          0.3936368525028229,
          0.39346444606781006,
          0.39329206943511963,
          0.3930005431175232,
          0.3927081525325775,
          0.3924148678779602,
          0.39175936579704285,
          0.394137978553772,
          0.3945331275463104,
          0.39447370171546936,
          0.3944151699542999,
          0.39435750246047974,
          0.39430075883865356,
          0.39412835240364075,
          0.39395594596862793,
          0.39366614818573,
          0.3933754563331604,
          0.3930838704109192,
          0.3925539255142212,
          0.3948590159416199,
          0.39513418078422546,
          0.39507320523262024,
          0.39501315355300903,
          0.39495396614074707,
          0.39489567279815674,
          0.3947232663631439,
          0.3945508897304535,
          0.3942626118659973,
          0.3939734399318695,
          0.39368337392807007,
          0.39315804839134216,
          0.39557698369026184,
          0.3957352340221405,
          0.3956727385520935,
          0.39561113715171814,
          0.3956630229949951,
          0.3954906165599823,
          0.3953182101249695,
          0.39514580368995667,
          0.39485907554626465,
          0.3945714235305786,
          0.39428290724754333,
          0.39353078603744507,
          0.3962918817996979,
          0.39644598960876465,
          0.3963824212551117,
          0.39631974697113037,
          0.3962579369544983,
          0.3960855305194855,
          0.39591315388679504,
          0.3957407474517822,
          0.395455539226532,
          0.3951694071292877,
          0.39476871490478516,
          0.3940238058567047,
          0.39689600467681885,
          0.3970454931259155,
          0.3969804048538208,
          0.3969162106513977,
          0.39685288071632385,
          0.39668047428131104,
          0.3965080678462982,
          0.3963356614112854,
          0.3960520029067993,
          0.3957674205303192,
          0.3952575922012329,
          0.39732256531715393,
          0.3976777195930481,
          0.39761027693748474,
          0.397543728351593,
          0.3975857198238373,
          0.39741331338882446,
          0.39724093675613403,
          0.3970685303211212,
          0.39678671956062317,
          0.3965040147304535,
          0.39622044563293457,
          0.39571452140808105,
          0.39810484647750854,
          0.3982439339160919,
          0.3982803523540497,
          0.39821282029151917,
          0.3981461822986603,
          0.39797377586364746,
          0.39780136942863464,
          0.3976289927959442,
          0.3973486125469208,
          0.3970673680305481,
          0.3966763913631439,
          0.39595574140548706,
          0.3988133668899536,
          0.3989483118057251,
          0.3988783657550812,
          0.3988092839717865,
          0.39874109625816345,
          0.398568719625473,
          0.3983963131904602,
          0.3982239067554474,
          0.3979450762271881,
          0.3976653516292572,
          0.3972774147987366,
          0.39645665884017944,
          0.3994174599647522,
          0.399547815322876,
          0.3994763493537903,
          0.39940574765205383,
          0.399336040019989,
          0.3991636335849762,
          0.39899125695228577,
          0.39881885051727295,
          0.39854153990745544,
          0.3981580138206482,
          0.3977726697921753,
          0.39976370334625244,
          0.4001864194869995,
          0.40021297335624695,
          0.4001404941082001,
          0.40006887912750244,
          0.399896502494812,
          0.3997240960597992,
          0.3995516896247864,
          0.3992762863636017,
          0.398999959230423,
          0.398722767829895,
          0.3980272710323334,
          0.40069571137428284,
          0.4008163511753082,
          0.4007416367530823,
          0.40066781640052795,
          0.4005948603153229,
          0.40052279829978943,
          0.40025007724761963,
          0.4000776708126068,
          0.39980360865592957,
          0.39942651987075806,
          0.3990476727485657,
          0.40111586451530457,
          0.4014233350753784,
          0.40144360065460205,
          0.40136799216270447,
          0.40129324793815613,
          0.4012193977832794,
          0.4009484350681305,
          0.4007760286331177,
          0.4005037546157837,
          0.40023061633110046,
          0.3998557925224304,
          0.401700496673584,
          0.40199899673461914,
          0.4020153880119324,
          0.4019376337528229,
          0.40195712447166443,
          0.4018815755844116,
          0.4017096161842346,
          0.40143993496894836,
          0.4011693596839905,
          0.40089792013168335,
          0.4006255567073822,
          0.399854838848114,
          0.40263649821281433,
          0.4026496708393097,
          0.40257027745246887,
          0.40258654952049255,
          0.4025093615055084,
          0.4023374021053314,
          0.4020693600177765,
          0.40180039405822754,
          0.40153056383132935,
          0.4012598395347595,
          0.4004988372325897,
          0.4032739996910095,
          0.4032839238643646,
          0.40320292115211487,
          0.4032159447669983,
          0.4031371474266052,
          0.40287116169929504,
          0.4026987552642822,
          0.4024314284324646,
          0.40216320753097534,
          0.401798278093338,
          0.40114280581474304,
          0.4039115011692047,
          0.40391820669174194,
          0.40383556485176086,
          0.4038453698158264,
          0.4036729633808136,
          0.4035005569458008,
          0.40332818031311035,
          0.40306246280670166,
          0.40279585123062134,
          0.40243417024612427,
          0.40178677439689636,
          0.4045490026473999,
          0.4045524597167969,
          0.40446820855140686,
          0.40447476506233215,
          0.4043023884296417,
          0.4041299819946289,
          0.4039575755596161,
          0.4036934971809387,
          0.40342849493026733,
          0.4030700623989105,
          0.4024307429790497,
          0.4051865041255951,
          0.4051867425441742,
          0.40510085225105286,
          0.4051041901111603,
          0.40493178367614746,
          0.40475937724113464,
          0.4045870006084442,
          0.4043245315551758,
          0.40406113862991333,
          0.4037059247493744,
          0.403074711561203,
          0.4058240056037903,
          0.4058209955692291,
          0.40573349595069885,
          0.4057336151599884,
          0.4055612087249756,
          0.40538880228996277,
          0.40521639585494995,
          0.40495553612709045,
          0.4046938121318817,
          0.40434181690216064,
          0.40618425607681274,
          0.4065104126930237,
          0.40642049908638,
          0.40633150935173035,
          0.4063285291194916,
          0.40615612268447876,
          0.40598374605178833,
          0.4057248532772064,
          0.4055519998073578,
          0.4052917957305908,
          0.4049428701400757,
          0.4068763554096222,
          0.4071114659309387,
          0.4071027636528015,
          0.4070126712322235,
          0.40692347288131714,
          0.4067510664463043,
          0.4065786600112915,
          0.40632131695747375,
          0.4060630798339844,
          0.40580394864082336,
          0.4053713381290436,
          0.4075653851032257,
          0.40771251916885376,
          0.407700777053833,
          0.40760913491249084,
          0.4075183868408203,
          0.4073460102081299,
          0.40709060430526733,
          0.4069177806377411,
          0.4066610634326935,
          0.40640345215797424,
          0.40589070320129395,
          0.4082513451576233,
          0.4083928167819977,
          0.4082987606525421,
          0.4082055985927582,
          0.40803274512290955,
          0.4078599214553833,
          0.40768706798553467,
          0.4075142443180084,
          0.4072590470314026,
          0.4070029854774475,
          0.40641310811042786,
          0.40893423557281494,
          0.40899232029914856,
          0.4088967442512512,
          0.4088020622730255,
          0.4086292088031769,
          0.40845638513565063,
          0.408283531665802,
          0.40811070799827576,
          0.4078570306301117,
          0.40752124786376953,
          0.40685686469078064,
          0.40957337617874146,
          0.4096266031265259,
          0.4095293879508972,
          0.4094330966472626,
          0.40926024317741394,
          0.4090874195098877,
          0.40891456604003906,
          0.40874171257019043,
          0.4084896743297577,
          0.4081571400165558,
          0.4075024724006653,
          0.41025158762931824,
          0.41022610664367676,
          0.4101274013519287,
          0.4100295603275299,
          0.4098567068576813,
          0.40968388319015503,
          0.4095110297203064,
          0.40926095843315125,
          0.4090876877307892,
          0.40875816345214844,
          0.4106680452823639,
          0.4109267592430115,
          0.4108986556529999,
          0.4107988476753235,
          0.41062602400779724,
          0.4104531705379486,
          0.41028034687042236,
          0.41010749340057373,
          0.40985894203186035,
          0.40960952639579773,
          0.4092060625553131,
          0.4113488793373108,
          0.4115278124809265,
          0.41149666905403137,
          0.4113953113555908,
          0.4112224876880646,
          0.41104963421821594,
          0.4108767807483673,
          0.41070395708084106,
          0.41045695543289185,
          0.410209059715271,
          0.4098101854324341,
          0.41202667355537415,
          0.41212886571884155,
          0.4120946526527405,
          0.41199177503585815,
          0.4118189513683319,
          0.4116460978984833,
          0.41147324442863464,
          0.4113004207611084,
          0.41105493903160095,
          0.4108085632324219,
          0.4103407561779022,
          0.41270139813423157,
          0.4127979278564453,
          0.4126926362514496,
          0.4125882387161255,
          0.412484735250473,
          0.4123123288154602,
          0.412069708108902,
          0.4118262231349945,
          0.41165292263031006,
          0.4113365411758423,
          0.4108743965625763,
          0.41337308287620544,
          0.4133974313735962,
          0.4132906198501587,
          0.4131847023963928,
          0.4130796790122986,
          0.41290727257728577,
          0.4126661717891693,
          0.4124242067337036,
          0.41225090622901917,
          0.4119375944137573,
          0.4114815592765808,
          0.41394779086112976,
          0.4140317142009735,
          0.4139232635498047,
          0.4138157367706299,
          0.4137090742588043,
          0.4135366678237915,
          0.41329720616340637,
          0.4131243824958801,
          0.41288357973098755,
          0.4125734865665436,
          0.41219276189804077,
          0.4145885109901428,
          0.41466596722602844,
          0.41455593705177307,
          0.41444677114486694,
          0.41433849930763245,
          0.41416609287261963,
          0.41392824053764343,
          0.4137553870677948,
          0.41351622343063354,
          0.41320937871932983,
          0.4128335118293762,
          0.41516807675361633,
          0.415238618850708,
          0.41518858075141907,
          0.415077805519104,
          0.4149678945541382,
          0.41479548811912537,
          0.41462311148643494,
          0.41438642144203186,
          0.41414886713027954,
          0.4139104187488556,
          0.413539856672287,
          0.4157620668411255,
          0.4158843457698822,
          0.41583025455474854,
          0.41577795147895813,
          0.41566628217697144,
          0.4154938757419586,
          0.4153214693069458,
          0.4150865972042084,
          0.4148508310317993,
          0.41461417078971863,
          0.4143766164779663,
          0.41394543647766113,
          0.41641759872436523,
          0.4164755642414093,
          0.41641920804977417,
          0.416305273771286,
          0.4161922335624695,
          0.41601985692977905,
          0.41584745049476624,
          0.41561391949653625,
          0.41537949442863464,
          0.4151442050933838,
          0.4148455560207367,
          0.41435641050338745,
          0.4171244204044342,
          0.41706404089927673,
          0.4170054495334625,
          0.41689062118530273,
          0.4167182147502899,
          0.4165458083152771,
          0.41631409525871277,
          0.4160814583301544,
          0.41590818762779236,
          0.41567423939704895,
          0.415317177772522,
          0.41764751076698303,
          0.417692095041275,
          0.41768449544906616,
          0.41756734251976013,
          0.41745108366012573,
          0.4172786772251129,
          0.4171062707901001,
          0.4168759882450104,
          0.41664478182792664,
          0.41641274094581604,
          0.4161797761917114,
          0.4157669246196747,
          0.41834598779678345,
          0.418332576751709,
          0.4182131886482239,
          0.418094664812088,
          0.4179770350456238,
          0.41780462861061096,
          0.41763225197792053,
          0.41740331053733826,
          0.41717347502708435,
          0.4169427454471588,
          0.41665327548980713,
          0.41888391971588135,
          0.4189670979976654,
          0.4188973605632782,
          0.41882941126823425,
          0.4186565577983856,
          0.4185374975204468,
          0.41836509108543396,
          0.4181380271911621,
          0.417910099029541,
          0.41773679852485657,
          0.417507529258728,
          0.41716450452804565,
          0.4194736182689667,
          0.41955047845840454,
          0.41947847604751587,
          0.41935673356056213,
          0.41923585534095764,
          0.4190634787082672,
          0.4188382029533386,
          0.41866534948349,
          0.41843876242637634,
          0.41821128129959106,
          0.41798293590545654,
          0.4174782633781433,
          0.420158326625824,
          0.4201311469078064,
          0.4200071692466736,
          0.41988405585289,
          0.4197618365287781,
          0.41953837871551514,
          0.4193655252456665,
          0.4191407263278961,
          0.41896745562553406,
          0.4187413156032562,
          0.41840773820877075,
          0.420738160610199,
          0.42075255513191223,
          0.42067447304725647,
          0.420501172542572,
          0.42037680745124817,
          0.42020395398139954,
          0.4200311303138733,
          0.419808030128479,
          0.41963475942611694,
          0.4194103181362152,
          0.4191334545612335,
          0.42132481932640076,
          0.421331524848938,
          0.4212954342365265,
          0.4211684763431549,
          0.42104241251945496,
          0.4208695590496063,
          0.4206967353820801,
          0.4204753339290619,
          0.42030206322669983,
          0.4200793504714966,
          0.4198557436466217,
          0.41937968134880066,
          0.4219706356525421,
          0.42188501358032227,
          0.4218011200428009,
          0.421673446893692,
          0.4215005934238434,
          0.42132776975631714,
          0.4211079776287079,
          0.4209347069263458,
          0.4207136034965515,
          0.42049163579940796,
          0.4200252890586853,
          0.42253202199935913,
          0.42244288325309753,
          0.4223991334438324,
          0.42226991057395935,
          0.4220970571041107,
          0.42187926173210144,
          0.4217059910297394,
          0.42153269052505493,
          0.4213131368160248,
          0.4210459589958191,
          0.4231258034706116,
          0.42307382822036743,
          0.4230245053768158,
          0.42289313673973083,
          0.4227626621723175,
          0.4225465655326843,
          0.42237329483032227,
          0.4221999943256378,
          0.42198213934898376,
          0.4217633903026581,
          0.42373037338256836,
          0.4236730933189392,
          0.42361849546432495,
          0.42352578043937683,
          0.42335250973701477,
          0.4231792092323303,
          0.42300593852996826,
          0.42279013991355896,
          0.4226164221763611,
          0.42235589027404785,
          0.4243405759334564,
          0.4242404103279114,
          0.4241807758808136,
          0.4241237938404083,
          0.4239504933357239,
          0.4237772226333618,
          0.42360392212867737,
          0.42338964343070984,
          0.42321592569351196,
          0.42291659116744995,
          0.42488133907318115,
          0.4247790575027466,
          0.4247160851955414,
          0.42461779713630676,
          0.4244445264339447,
          0.4242323935031891,
          0.4240586757659912,
          0.42388492822647095,
          0.4235907196998596,
          0.4254903197288513,
          0.42538437247276306,
          0.42531606554985046,
          0.42521411180496216,
          0.4250403940677643,
          0.4248666763305664,
          0.42469292879104614,
          0.4244810938835144,
          0.42419129610061646,
          0.4260298013687134,
          0.42595523595809937,
          0.4258488118648529,
          0.4256742000579834,
          0.4255349934101105,
          0.4253966808319092,
          0.4251866638660431,
          0.42493897676467896,
          0.42664003372192383,
          0.42652830481529236,
          0.42638537287712097,
          0.4262433350086212,
          0.4261021614074707,
          0.4259275496006012,
          0.4257529377937317,
          0.4254726469516754,
          0.42706918716430664,
          0.426955908536911,
          0.4267804026603699,
          0.42663735151290894,
          0.4264622926712036,
          0.42625391483306885,
          0.42768365144729614,
          0.4275367558002472,
          0.4273907542228699,
          0.4272456467151642,
          0.42707014083862305,
          0.4268312156200409,
          0.428117036819458,
          0.4279690682888031,
          0.4278219938278198,
          0.42761629819869995,
          0.42855045199394226,
          0.4283736050128937,
          0.4290192127227783
         ],
         "y": [
          0.1302182674407959,
          0.1339268684387207,
          0.1296071857213974,
          0.13250459730625153,
          0.135721355676651,
          0.12705636024475098,
          0.12996651232242584,
          0.1330137997865677,
          0.1362224817276001,
          0.13980241119861603,
          0.12758344411849976,
          0.1303190290927887,
          0.13334845006465912,
          0.136720210313797,
          0.14029546082019806,
          0.12518760561943054,
          0.12795041501522064,
          0.13082949817180634,
          0.13402201235294342,
          0.1372145265340805,
          0.1407850980758667,
          0.12249452620744705,
          0.12556904554367065,
          0.12846896052360535,
          0.13133656978607178,
          0.1345209926366806,
          0.13770543038845062,
          0.14127133786678314,
          0.1205950379371643,
          0.12367431074380875,
          0.1265837699174881,
          0.1294608861207962,
          0.13264530897140503,
          0.1356518417596817,
          0.13901416957378387,
          0.14258672297000885,
          0.11984952539205551,
          0.12292223423719406,
          0.1258266717195511,
          0.12885896861553192,
          0.13187509775161743,
          0.1350514441728592,
          0.13822779059410095,
          0.14159667491912842,
          0.11744102090597153,
          0.12039053440093994,
          0.12345346808433533,
          0.1263463944196701,
          0.12936890125274658,
          0.13254526257514954,
          0.13554352521896362,
          0.13889794051647186,
          0.14226853847503662,
          0.116831474006176,
          0.11964790523052216,
          0.12270427495241165,
          0.12574449181556702,
          0.12876851856708527,
          0.13177640736103058,
          0.13494466245174408,
          0.13811293244361877,
          0.14166662096977234,
          0.14585502445697784,
          0.11725233495235443,
          0.12018532305955887,
          0.1232319101691246,
          0.1262623369693756,
          0.1292765885591507,
          0.1324448436498642,
          0.1356131136417389,
          0.1387813687324524,
          0.14233846962451935,
          0.14633290469646454,
          0.11664583534002304,
          0.1194455698132515,
          0.12263000011444092,
          0.1256619393825531,
          0.12867772579193115,
          0.13184599578380585,
          0.13501425087451935,
          0.13818252086639404,
          0.1415436714887619,
          0.14532293379306793,
          0.11552269011735916,
          0.11833994090557098,
          0.12139119952917099,
          0.12442628294229507,
          0.12744522094726562,
          0.13061347603797913,
          0.13378173112869263,
          0.13695000112056732,
          0.14011825621128082,
          0.14368218183517456,
          0.1478961706161499,
          0.11594778299331665,
          0.11887862533330917,
          0.12192009389400482,
          0.12494540214538574,
          0.12811365723609924,
          0.13111472129821777,
          0.1342748999595642,
          0.13761845231056213,
          0.14078670740127563,
          0.14435404539108276,
          0.11390411853790283,
          0.1164945438504219,
          0.11941389739513397,
          0.12244558334350586,
          0.12561383843421936,
          0.12862128019332886,
          0.1317814588546753,
          0.13494163751602173,
          0.13828688859939575,
          0.14145515859127045,
          0.14522713422775269,
          0.11381912231445312,
          0.11640102416276932,
          0.11944878101348877,
          0.1224803775548935,
          0.125648632645607,
          0.12865598499774933,
          0.13181616365909576,
          0.1349763423204422,
          0.1383216828107834,
          0.14148995280265808,
          0.14506086707115173,
          0.1137339398264885,
          0.11643598973751068,
          0.11948366463184357,
          0.12251516431570053,
          0.12553051114082336,
          0.1286906898021698,
          0.13185086846351624,
          0.13501104712486267,
          0.1381712257862091,
          0.14152474701404572,
          0.1450958400964737,
          0.14932774007320404,
          0.11519718915224075,
          0.11824800074100494,
          0.121282659471035,
          0.12430114299058914,
          0.12746132910251617,
          0.13062149286270142,
          0.13378167152404785,
          0.13694186508655548,
          0.140292227268219,
          0.14365875720977783,
          0.147454172372818,
          0.11420316249132156,
          0.11701234430074692,
          0.12005013972520828,
          0.12321840971708298,
          0.12623195350170135,
          0.1293921321630478,
          0.13255231082439423,
          0.13571248948574066,
          0.1388726681470871,
          0.14222797751426697,
          0.14580266177654266,
          0.11267083883285522,
          0.11526712775230408,
          0.11831776797771454,
          0.12135224044322968,
          0.12437054514884949,
          0.12753072381019592,
          0.13052478432655334,
          0.13367688655853271,
          0.13701127469539642,
          0.14017145335674286,
          0.14353007078170776,
          0.14752447605133057,
          0.1137542873620987,
          0.1164468377828598,
          0.11948607861995697,
          0.12265433371067047,
          0.12566933035850525,
          0.1286681443452835,
          0.13182023167610168,
          0.13497233390808105,
          0.138310045003891,
          0.14166390895843506,
          0.14503394067287445,
          0.149259552359581,
          0.11482445150613785,
          0.11775226145982742,
          0.12078817188739777,
          0.12380792200565338,
          0.12696810066699982,
          0.12996359169483185,
          0.13311569392681122,
          0.1362677961587906,
          0.13960881531238556,
          0.14296600222587585,
          0.1465444564819336,
          0.11277707666158676,
          0.11537203937768936,
          0.11842241138219833,
          0.12145661562681198,
          0.1244746595621109,
          0.1274765282869339,
          0.13062863051891327,
          0.13378073275089264,
          0.13693282008171082,
          0.14027555286884308,
          0.14363445341587067,
          0.14742310345172882,
          0.11333786696195602,
          0.11591621488332748,
          0.11909256130456924,
          0.1221250593662262,
          0.12514139711856842,
          0.12814156711101532,
          0.1312936693429947,
          0.13444575667381287,
          0.13759785890579224,
          0.1409423053264618,
          0.14430288970470428,
          0.14830517768859863,
          0.11325350403785706,
          0.11595109850168228,
          0.11899159103631973,
          0.12215985357761383,
          0.1251761019229889,
          0.12817618250846863,
          0.131328284740448,
          0.13430412113666534,
          0.13763247430324554,
          0.14097701013088226,
          0.14433768391609192,
          0.14834032952785492,
          0.11328873783349991,
          0.11598597466945648,
          0.11902638524770737,
          0.12219464778900146,
          0.12521080672740936,
          0.12821079790592194,
          0.13119462132453918,
          0.1343386471271515,
          0.13766708970069885,
          0.14101170003414154,
          0.14437247812747955,
          0.14816679060459137,
          0.11332397162914276,
          0.11602085828781128,
          0.119061179459095,
          0.1222294420003891,
          0.12524551153182983,
          0.12824541330337524,
          0.13122914731502533,
          0.13437317311763763,
          0.13770170509815216,
          0.141046404838562,
          0.1444072723388672,
          0.1482018530368805,
          0.11295414716005325,
          0.11554688960313797,
          0.11859681457281113,
          0.12163057923316956,
          0.12464817613363266,
          0.12764960527420044,
          0.1306348741054535,
          0.1337788999080658,
          0.1369229108095169,
          0.14044907689094543,
          0.14380840957164764,
          0.1473911702632904,
          0.15165220201015472,
          0.11494497209787369,
          0.11799643188714981,
          0.12103171646595001,
          0.12405084818601608,
          0.12705381214618683,
          0.13004060089588165,
          0.13318461179733276,
          0.13632863759994507,
          0.13966219127178192,
          0.1430119276046753,
          0.14658352732658386,
          0.15082885324954987,
          0.11446642130613327,
          0.1173960417509079,
          0.12043286114931107,
          0.12345351278781891,
          0.12645800411701202,
          0.12944632768630981,
          0.13259033858776093,
          0.13573434948921204,
          0.13906638324260712,
          0.14241459965705872,
          0.14598314464092255,
          0.15000855922698975,
          0.11410665512084961,
          0.11679565161466599,
          0.11983399838209152,
          0.12285618484020233,
          0.12586219608783722,
          0.12885203957557678,
          0.1319960653781891,
          0.1351400762796402,
          0.1384705901145935,
          0.14181725680828094,
          0.1451800912618637,
          0.14919131994247437,
          0.11362046748399734,
          0.11619526147842407,
          0.11923513561487198,
          0.12225884944200516,
          0.12526638805866241,
          0.12825776636600494,
          0.13140179216861725,
          0.13454580307006836,
          0.1378747820854187,
          0.14121992886066437,
          0.14458124339580536,
          0.14837713539600372,
          0.11417712271213531,
          0.11686541140079498,
          0.11990358680486679,
          0.12292558699846268,
          0.12593142688274384,
          0.12892109155654907,
          0.13206511735916138,
          0.1352091282606125,
          0.13853982090950012,
          0.1418866664171219,
          0.14524967968463898,
          0.14905069768428802,
          0.11473037302494049,
          0.11753556877374649,
          0.120572030544281,
          0.1235923320055008,
          0.12644042074680328,
          0.1295844316482544,
          0.1327284425497055,
          0.1358724683523178,
          0.13920484483242035,
          0.1425534039735794,
          0.1459181308746338,
          0.15014950931072235,
          0.11528021842241287,
          0.11807221174240112,
          0.12109889090061188,
          0.12410939484834671,
          0.1271037459373474,
          0.13024775683879852,
          0.13339176774024963,
          0.13653579354286194,
          0.13986988365650177,
          0.14322015643119812,
          0.14679281413555145,
          0.15104080736637115,
          0.11595378071069717,
          0.11874065548181534,
          0.1217656284570694,
          0.12477443367242813,
          0.12776707112789154,
          0.13091108202934265,
          0.13405510783195496,
          0.13719911873340607,
          0.1405349224805832,
          0.14388689398765564,
          0.1476709246635437,
          0.1144404411315918,
          0.11700493842363358,
          0.12004275619983673,
          0.12306440621614456,
          0.12591518461704254,
          0.12905919551849365,
          0.13220322132110596,
          0.13534723222255707,
          0.13867828249931335,
          0.14202548563480377,
          0.14538885653018951,
          0.14919093251228333,
          0.11551108956336975,
          0.1183103621006012,
          0.1212029978632927,
          0.12421324104070663,
          0.12720732390880585,
          0.13035133481025696,
          0.13349536061286926,
          0.13663937151432037,
          0.1399737298488617,
          0.14332427084445953,
          0.14689746499061584,
          0.1511467844247818,
          0.11605895310640335,
          0.11884503811597824,
          0.12186974287033081,
          0.12487827241420746,
          0.12787064909934998,
          0.1310146600008011,
          0.1341586858034134,
          0.1373026967048645,
          0.14063875377178192,
          0.14399100840091705,
          0.14756761491298676,
          0.1520417481660843,
          0.11673251539468765,
          0.11951348185539246,
          0.12253648042678833,
          0.12554331123828888,
          0.1285339742898941,
          0.1316780000925064,
          0.13482201099395752,
          0.13796602189540863,
          0.14130379259586334,
          0.14485958218574524,
          0.1484476923942566,
          0.1153494268655777,
          0.11777973175048828,
          0.12067507207393646,
          0.12368666380643845,
          0.1266821026802063,
          0.1298261135816574,
          0.13297012448310852,
          0.13611415028572083,
          0.1394471526145935,
          0.1427963376045227,
          0.14616167545318604,
          0.15039615333080292,
          0.1168026328086853,
          0.11958306282758713,
          0.12260588258504868,
          0.1256125420331955,
          0.1286030262708664,
          0.13157735764980316,
          0.1348910629749298,
          0.13803507387638092,
          0.14137302339076996,
          0.14492915570735931,
          0.1485176384449005,
          0.11593909561634064,
          0.11848476529121399,
          0.12137652188539505,
          0.12438631802797318,
          0.12737995386123657,
          0.13035741448402405,
          0.1336679905653,
          0.1368120014667511,
          0.14014680683612823,
          0.1434977799654007,
          0.14707186818122864,
          0.11545566469430923,
          0.11801706999540329,
          0.12091995775699615,
          0.12393936514854431,
          0.12678568065166473,
          0.12976466119289398,
          0.13290059566497803,
          0.13621772825717926,
          0.13955099880695343,
          0.14290045201778412,
          0.14626605808734894,
          0.15071538090705872,
          0.11805204302072525,
          0.12095474451780319,
          0.12397406995296478,
          0.12682020664215088,
          0.12979911267757416,
          0.132935032248497,
          0.1362522542476654,
          0.13958561420440674,
          0.1429351568222046,
          0.14630085229873657,
          0.15075071156024933,
          0.11808700859546661,
          0.12098953872919083,
          0.12400877475738525,
          0.12685473263263702,
          0.12983354926109314,
          0.13314275443553925,
          0.13628678023815155,
          0.13962022960186005,
          0.14296986162662506,
          0.14654123783111572,
          0.15078602731227875,
          0.11812198162078857,
          0.12102433294057846,
          0.12404347956180573,
          0.12688925862312317,
          0.13003326952457428,
          0.1331772804260254,
          0.1363213062286377,
          0.13965484499931335,
          0.14300456643104553,
          0.14657612144947052,
          0.15082135796546936,
          0.11815694719552994,
          0.1210591271519661,
          0.1240781843662262,
          0.12692378461360931,
          0.13006779551506042,
          0.13321180641651154,
          0.13635583221912384,
          0.13968946039676666,
          0.1430392563343048,
          0.14661100506782532,
          0.15085668861865997,
          0.1181919202208519,
          0.12109392136335373,
          0.12411288917064667,
          0.12695831060409546,
          0.13010232150554657,
          0.13324633240699768,
          0.13639035820960999,
          0.13972407579421997,
          0.14307396113872528,
          0.14664588868618011,
          0.1508920043706894,
          0.11822689324617386,
          0.12112870812416077,
          0.12414759397506714,
          0.1269928365945816,
          0.13013684749603271,
          0.13328085839748383,
          0.13642488420009613,
          0.13975869119167328,
          0.14310866594314575,
          0.1466807723045349,
          0.11634853482246399,
          0.11876381933689117,
          0.12179715186357498,
          0.12481433153152466,
          0.12765616178512573,
          0.13080017268657684,
          0.13394419848918915,
          0.13727162778377533,
          0.1404237300157547,
          0.14377541840076447,
          0.14735090732574463,
          0.11690036952495575,
          0.11943396925926208,
          0.12232089042663574,
          0.12532827258110046,
          0.12831950187683105,
          0.13146349787712097,
          0.13460752367973328,
          0.13793666660785675,
          0.14128196239471436,
          0.14464344084262848,
          0.14843980967998505,
          0.11744878441095352,
          0.120104119181633,
          0.12298762798309326,
          0.12599331140518188,
          0.128982812166214,
          0.1321268379688263,
          0.1354495882987976,
          0.13860169053077698,
          0.14194871485233307,
          0.1453118771314621,
          0.1493244469165802,
          0.1179938018321991,
          0.12063422799110413,
          0.12365436553955078,
          0.1266583353281021,
          0.12981043756008148,
          0.13296252489089966,
          0.13611462712287903,
          0.1392667293548584,
          0.1426154524087906,
          0.1459803283214569,
          0.15021249651908875,
          0.11853539943695068,
          0.12130267173051834,
          0.1243211105465889,
          0.12732337415218353,
          0.1304754763841629,
          0.13362756371498108,
          0.13677966594696045,
          0.13993176817893982,
          0.1432821899652481,
          0.1468551754951477,
          0.15131844580173492,
          0.11857046186923981,
          0.12133746594190598,
          0.12435581535100937,
          0.12735798954963684,
          0.1305100917816162,
          0.1336621791124344,
          0.13681428134441376,
          0.13996638357639313,
          0.14331689476966858,
          0.1468900591135025,
          0.1513538509607315,
          0.11910856515169144,
          0.12200590968132019,
          0.12502256035804749,
          0.12802302837371826,
          0.13117511570453644,
          0.1343272179365158,
          0.13747932016849518,
          0.14082345366477966,
          0.1439836323261261,
          0.1475602090358734,
          0.11724139750003815,
          0.11964325606822968,
          0.12252911180257797,
          0.1255359649658203,
          0.12868806719779968,
          0.13184015452861786,
          0.13499225676059723,
          0.1381443589925766,
          0.14149019122123718,
          0.1448521912097931,
          0.1486501693725586,
          0.11779099702835083,
          0.12031340599060059,
          0.12319584935903549,
          0.12620098888874054,
          0.1293530911207199,
          0.13250519335269928,
          0.13565728068351746,
          0.13880938291549683,
          0.1421569287776947,
          0.1455206423997879,
          0.1493237316608429,
          0.11833717674016953,
          0.1209835559129715,
          0.12386259436607361,
          0.12686602771282196,
          0.13001812994480133,
          0.1331702172756195,
          0.13632231950759888,
          0.13947442173957825,
          0.14282366633415222,
          0.14618907868862152,
          0.15021060407161713,
          0.11887995153665543,
          0.12151142954826355,
          0.12452933192253113,
          0.12753106653690338,
          0.1305166333913803,
          0.13366064429283142,
          0.1369873583316803,
          0.1403302252292633,
          0.14349041879177094,
          0.1470644623041153,
          0.15110088884830475,
          0.11941931396722794,
          0.12217987328767776,
          0.12519606947898865,
          0.1281961053609848,
          0.13117995858192444,
          0.13432398438453674,
          0.13765239715576172,
          0.14099696278572083,
          0.14415715634822845,
          0.1477346122264862,
          0.15177786350250244,
          0.11959036439657211,
          0.1222146674990654,
          0.12523077428340912,
          0.1282307207584381,
          0.13121448457241058,
          0.1343585103750229,
          0.13768699765205383,
          0.1408390998840332,
          0.14419186115264893,
          0.147769495844841,
          0.1515962779521942,
          0.1196255162358284,
          0.12224945425987244,
          0.1252654790878296,
          0.12826533615589142,
          0.13124901056289673,
          0.13439303636550903,
          0.13772161304950714,
          0.1408737152814865,
          0.1442265659570694,
          0.1478043645620346,
          0.1516314297914505,
          0.11979682743549347,
          0.12242849916219711,
          0.12530018389225006,
          0.12829995155334473,
          0.13128353655338287,
          0.13442756235599518,
          0.1375715732574463,
          0.14090833067893982,
          0.14426127076148987,
          0.14763034880161285,
          0.15144957602024078,
          0.11881464719772339,
          0.12133394926786423,
          0.12421999871730804,
          0.1270737200975418,
          0.13006046414375305,
          0.13320447504520416,
          0.13634848594665527,
          0.1396821141242981,
          0.14303189516067505,
          0.14639782905578613,
          0.14977993071079254,
          0.15384401381015778,
          0.12050903588533401,
          0.12313353270292282,
          0.12600162625312805,
          0.12899959087371826,
          0.13198140263557434,
          0.13512541353702545,
          0.13826942443847656,
          0.14160798490047455,
          0.14496271312236786,
          0.1483335942029953,
          0.15193942189216614,
          0.15625818073749542,
          0.1220407783985138,
          0.1249232366681099,
          0.12777337431907654,
          0.13075831532478333,
          0.13390232622623444,
          0.13704635202884674,
          0.14038175344467163,
          0.14373333752155304,
          0.14689351618289948,
          0.15026932954788208,
          0.15410876274108887,
          0.12071765214204788,
          0.12334951758384705,
          0.126071035861969,
          0.12906882166862488,
          0.13205045461654663,
          0.13519446551799774,
          0.13833847641944885,
          0.14167721569538116,
          0.1450321227312088,
          0.14840316772460938,
          0.15179039537906647,
          0.15587492287158966,
          0.12225379049777985,
          0.12499282509088516,
          0.1280018538236618,
          0.13099469244480133,
          0.13397137820720673,
          0.13711540400981903,
          0.14025941491127014,
          0.14360308647155762,
          0.14696292579174042,
          0.15033891797065735,
          0.15395498275756836,
          0.1209266185760498,
          0.12341945618391037,
          0.12629492580890656,
          0.1291380524635315,
          0.13229015469551086,
          0.13526351749897003,
          0.13840752840042114,
          0.14174644649028778,
          0.14510151743888855,
          0.14826169610023499,
          0.15164101123809814,
          0.1554909497499466,
          0.12275367975234985,
          0.12521374225616455,
          0.12807124853134155,
          0.13106392323970795,
          0.13404043018817902,
          0.13718445599079132,
          0.14052021503448486,
          0.14367231726646423,
          0.14703233540058136,
          0.15040850639343262,
          0.1538008451461792,
          0.15837015211582184,
          0.12427447736263275,
          0.1269981563091278,
          0.13000206649303436,
          0.1329897940158844,
          0.1359613686800003,
          0.13929399847984314,
          0.14244608581066132,
          0.14580295979976654,
          0.14896315336227417,
          0.1523442566394806,
          0.15619955956935883,
          0.12396436929702759,
          0.12655404210090637,
          0.12940473854541779,
          0.13256490230560303,
          0.13554608821868896,
          0.13869819045066833,
          0.1418502777814865,
          0.14520563185214996,
          0.1483658105134964,
          0.15174539387226105,
          0.1553686410188675,
          0.12364814430475235,
          0.12626010179519653,
          0.12896870076656342,
          0.13196757435798645,
          0.13495028018951416,
          0.13810238242149353,
          0.1412544846534729,
          0.1446083039045334,
          0.14776848256587982,
          0.1511465311050415,
          0.1545407474040985,
          0.15912136435508728,
          0.12629516422748566,
          0.1291648894548416,
          0.13200227916240692,
          0.13498489558696747,
          0.13813699781894684,
          0.1412891000509262,
          0.14464300870895386,
          0.1478031873703003,
          0.15118132531642914,
          0.1545756310224533,
          0.15915678441524506,
          0.12712374329566956,
          0.1299981325864792,
          0.13266901671886444,
          0.1356499344110489,
          0.13880203664302826,
          0.14214956760406494,
          0.14530974626541138,
          0.1484699249267578,
          0.15184977650642395,
          0.15547354519367218,
          0.1268257349729538,
          0.1295577883720398,
          0.13224133849143982,
          0.1352318674325943,
          0.13820622861385345,
          0.14155222475528717,
          0.1447124183177948,
          0.14787259697914124,
          0.1512509137392044,
          0.1546453982591629,
          0.1270146369934082,
          0.12975451350212097,
          0.13244587182998657,
          0.13526657223701477,
          0.1384267508983612,
          0.14158692955970764,
          0.14474712312221527,
          0.14811745285987854,
          0.15128570795059204,
          0.15490660071372986,
          0.1276950240135193,
          0.13059313595294952,
          0.1332874596118927,
          0.1359333097934723,
          0.13909348845481873,
          0.14225366711616516,
          0.1454138606786728,
          0.14878588914871216,
          0.15195414423942566,
          0.15580646693706512,
          0.13014847040176392,
          0.1330253779888153,
          0.13569197058677673,
          0.13849616050720215,
          0.14165633916854858,
          0.1450187712907791,
          0.14818702638149261,
          0.15135528147220612,
          0.15520302951335907,
          0.13034571707248688,
          0.1332305371761322,
          0.1359049528837204,
          0.13871702551841736,
          0.14188529551029205,
          0.14505356550216675,
          0.14822182059288025,
          0.15160857141017914,
          0.15546467900276184,
          0.13231602311134338,
          0.1350160390138626,
          0.1378505825996399,
          0.14103500545024872,
          0.1440202295780182,
          0.14698930084705353,
          0.1503729224205017,
          0.15399613976478577,
          0.13299641013145447,
          0.13586795330047607,
          0.13889189064502716,
          0.14189967513084412,
          0.14489127695560455,
          0.14807571470737457,
          0.1512601375579834,
          0.15511998534202576,
          0.1373666375875473,
          0.14020727574825287,
          0.1434078812599182,
          0.1464042365550995,
          0.14959675073623657,
          0.15300963819026947,
          0.13758201897144318,
          0.1406187117099762,
          0.14363925158977509,
          0.14664360880851746,
          0.1498442143201828,
          0.1534857451915741,
          0.1414872258901596,
          0.14451414346694946,
          0.147524893283844,
          0.1509476602077484,
          0.14539246261119843,
          0.14861729741096497,
          0.14865271747112274
         ],
         "z": [
          -0.0019121811492368579,
          -0.0008615690167061985,
          -0.0019220361718907952,
          0.00011717805318767205,
          0.00016131608572322875,
          -0.001958506880328059,
          8.088943286566064e-05,
          0.0011224645422771573,
          0.0011664917692542076,
          -0.0007838821038603783,
          -0.0009530085371807218,
          0.002083765808492899,
          0.003125099465250969,
          0.0021715983748435974,
          0.00022115306637715548,
          -0.0019870889373123646,
          0.0010500699281692505,
          0.0030890845227986574,
          0.0031328897457569838,
          0.0031766952015459538,
          0.0012261783704161644,
          -0.0010257679969072342,
          1.6161870007636026e-05,
          0.0020554696675390005,
          0.004094333853572607,
          0.004138028249144554,
          0.004181722644716501,
          0.002231134567409754,
          -0.0010532980086281896,
          -1.129908469010843e-05,
          0.0020281467586755753,
          0.0040671490132808685,
          0.004110843408852816,
          0.005151873920112848,
          0.00419823219999671,
          0.0022477279417216778,
          -6.524286436615512e-05,
          0.0009766994044184685,
          0.0030160837341099977,
          0.004057441838085651,
          0.005098607856780291,
          0.0051421914249658585,
          0.005185774993151426,
          0.00423221942037344,
          -0.0010995081393048167,
          0.0009405020973645151,
          0.0019822840113192797,
          0.0040215179324150085,
          0.00506277522072196,
          0.005106358788907528,
          0.006147253327071667,
          0.005193525925278664,
          0.004239989910274744,
          -0.0011093384819105268,
          0.0019286113092675805,
          0.002970336936414242,
          0.004011810757219791,
          0.00505309272557497,
          0.006094122771173716,
          0.006137595511972904,
          0.006181068252772093,
          0.004230282735079527,
          -0.0007110981387086213,
          0.0008945235749706626,
          0.0029343217611312866,
          0.0039758868515491486,
          0.00501726008951664,
          0.006058381404727697,
          0.006101854145526886,
          0.006145326886326075,
          0.006188799161463976,
          0.004238053224980831,
          0.000293754565063864,
          0.0008847425342537463,
          0.003922485280781984,
          0.003966179676353931,
          0.00500757759436965,
          0.006048723589628935,
          0.0060921963304281235,
          0.006135668605566025,
          0.006179141346365213,
          0.005225494969636202,
          0.0022779947612434626,
          -0.00013192679034546018,
          0.00290609709918499,
          0.003947733901441097,
          0.004989177919924259,
          0.006030370946973562,
          0.006073843687772751,
          0.0061173164285719395,
          0.006160788703709841,
          0.006204261444509029,
          0.004253594670444727,
          -0.0006874905666336417,
          0.0018720190273597836,
          0.003911809995770454,
          0.004953345283865929,
          0.005994629580527544,
          0.006038102321326733,
          0.007079053670167923,
          0.007122415117919445,
          0.006168520078063011,
          0.0062119928188622,
          0.004261365160346031,
          -0.0021566147916018963,
          0.0028778724372386932,
          0.004917512647807598,
          0.005958888214081526,
          0.006002360954880714,
          0.00704340310767293,
          0.007086765021085739,
          0.0071301269344985485,
          0.0061762514524161816,
          0.006219723727554083,
          0.003272120375186205,
          -0.001159470877610147,
          0.0038749175146222115,
          0.004916546866297722,
          0.005957924760878086,
          0.006001397501677275,
          0.007042442448437214,
          0.007085803896188736,
          0.007129165809601545,
          0.006175287999212742,
          0.0062187607400119305,
          0.004268167540431023,
          -0.00016232211783062667,
          0.0038739494048058987,
          0.004915581084787846,
          0.005956961307674646,
          0.006998119875788689,
          0.007041481323540211,
          0.00708484323695302,
          0.007128204684704542,
          0.0071715665981173515,
          0.006217797286808491,
          0.0042671989649534225,
          -0.000673713511787355,
          0.003855503164231777,
          0.004897181876003742,
          0.005938609130680561,
          0.006979814264923334,
          0.007023175712674856,
          0.0070665376260876656,
          0.007109899073839188,
          0.007153260987251997,
          0.006199444644153118,
          0.005245849955826998,
          0.0022985052783042192,
          0.0018408031901344657,
          0.004878782667219639,
          0.0059202564880251884,
          0.005963729228824377,
          0.007004870101809502,
          0.007048232015222311,
          0.007091593462973833,
          0.0071349553763866425,
          0.007178317289799452,
          0.006224564742296934,
          0.004274001345038414,
          -0.0011810929281637073,
          0.003853566711768508,
          0.00489525031298399,
          0.005936682224273682,
          0.006977892480790615,
          0.007021253928542137,
          0.00806216150522232,
          0.008105412125587463,
          0.007151339203119278,
          0.0071947006508708,
          0.006240990478545427,
          0.002296558814123273,
          0.000831934274174273,
          0.004868134390562773,
          0.005909635219722986,
          0.005953107960522175,
          0.006994275841861963,
          0.008035251870751381,
          0.008078503422439098,
          0.008121754042804241,
          0.0071677230298519135,
          0.006213943473994732,
          0.005260386038571596,
          0.0003192835138179362,
          0.0028447937220335007,
          0.004884601570665836,
          0.005926060955971479,
          0.006967298220843077,
          0.007010659668594599,
          0.008051593787968159,
          0.008094844408333302,
          0.008138095960021019,
          0.007184106856584549,
          0.006230369210243225,
          0.004279835615307093,
          -0.001184034743346274,
          0.0038506616838276386,
          0.004892352502793074,
          0.0059337918646633625,
          0.006975009571760893,
          0.008016034960746765,
          0.008059285581111908,
          0.00810253620147705,
          0.008145787753164768,
          0.007191818207502365,
          0.006238100118935108,
          0.003290637396275997,
          -0.00017799668421503156,
          0.004856519866734743,
          0.004900103434920311,
          0.005941523239016533,
          0.006982720922678709,
          0.008023726753890514,
          0.008066977374255657,
          0.0081102279946208,
          0.008153478614985943,
          0.007199529558420181,
          0.006245831493288279,
          0.002301448956131935,
          0.0008192261448130012,
          0.004855554085224867,
          0.005897087045013905,
          0.005940559785813093,
          0.006981759797781706,
          0.008022768422961235,
          0.008066019043326378,
          0.009106664918363094,
          0.008152520284056664,
          0.007198568433523178,
          0.006244868040084839,
          0.002300475724041462,
          0.0008182504680007696,
          0.004854588303714991,
          0.005896123591810465,
          0.0059395963326096535,
          0.00698079913854599,
          0.008021809160709381,
          0.0090625686571002,
          0.009105708450078964,
          0.008151561953127384,
          0.007197607774287462,
          0.006243904586881399,
          0.0032964861020445824,
          0.0008172747911885381,
          0.004853622522205114,
          0.005895160138607025,
          0.005938632879406214,
          0.006979838013648987,
          0.008020850829780102,
          0.009061613120138645,
          0.009104752913117409,
          0.008150603622198105,
          0.007196646649390459,
          0.0062429411336779594,
          0.0032955154310911894,
          -0.001188937691040337,
          0.0038458202034235,
          0.004887523595243692,
          0.005928975064307451,
          0.006970204878598452,
          0.008011242374777794,
          0.009052028879523277,
          0.00909516867250204,
          0.009138308465480804,
          0.007187013514339924,
          0.006233283318579197,
          0.004282764624804258,
          -0.0006579507025890052,
          0.003836113028228283,
          0.004877840634435415,
          0.005919317249208689,
          0.006960571743547916,
          0.008001633919775486,
          0.00904244463890791,
          0.009085584431886673,
          0.009128724224865437,
          0.008174637332558632,
          0.007220741827040911,
          0.005270092282444239,
          0.00032911362359300256,
          0.002828266704455018,
          0.0048681581392884254,
          0.005909658968448639,
          0.006950938142836094,
          0.007992025464773178,
          0.009032860398292542,
          0.009076000191271305,
          0.009119140915572643,
          0.008165028877556324,
          0.0072111086919903755,
          0.005260409787297249,
          0.001316256821155548,
          0.0008221774478442967,
          0.004858475644141436,
          0.005900001153349876,
          0.006941305007785559,
          0.00798241700977087,
          0.009023277088999748,
          0.009066416881978512,
          0.009109556674957275,
          0.008155419491231441,
          0.00720147555693984,
          0.006247782148420811,
          0.0023034196346998215,
          -0.00018582178745418787,
          0.004848793148994446,
          0.005890343338251114,
          0.0069316718727350235,
          0.007972807623445988,
          0.00901369284838438,
          0.009056832641363144,
          0.009099972434341908,
          0.008145811036229134,
          0.007191841956228018,
          0.006238124333322048,
          0.003290661610662937,
          0.0008202260942198336,
          0.004856544081121683,
          0.005898074246942997,
          0.00693938322365284,
          0.007980499416589737,
          0.009021365083754063,
          0.009064504876732826,
          0.00910764466971159,
          0.008153502829372883,
          0.007199553307145834,
          0.006245855242013931,
          0.0032984516583383083,
          0.00182620482519269,
          0.0048642950132489204,
          0.005905805621296167,
          0.006947094574570656,
          0.008985896594822407,
          0.00902903638780117,
          0.009072176180779934,
          0.009115316905081272,
          0.008161194622516632,
          0.00720726465806365,
          0.006253586616367102,
          0.001312354113906622,
          0.0028321738354861736,
          0.005870064254850149,
          0.006911444012075663,
          0.007952632382512093,
          0.008993568830192089,
          0.009036708623170853,
          0.009079848416149616,
          0.00912298820912838,
          0.008168886415660381,
          0.007214976474642754,
          0.005264297593384981,
          0.00032324480707757175,
          0.0028399641159921885,
          0.005877795163542032,
          0.006919155828654766,
          0.007960324175655842,
          0.009001241065561771,
          0.009044380858540535,
          0.009087520651519299,
          0.009130660444498062,
          0.00817657820880413,
          0.00722268782556057,
          0.004275017883628607,
          -0.0001818848541006446,
          0.004852680489420891,
          0.0058942208997905254,
          0.006935539189726114,
          0.008974400348961353,
          0.009017540141940117,
          0.009060680866241455,
          0.009103820659220219,
          0.008149669505655766,
          0.007195709738880396,
          0.00624200189486146,
          0.0032945687416940928,
          0.0018310952000319958,
          0.004869148135185242,
          0.006908561568707228,
          0.00794975645840168,
          0.008990700356662273,
          0.009033840149641037,
          0.009076980873942375,
          0.009120120666921139,
          0.008166010491549969,
          0.007212093565613031,
          0.005261399783194065,
          0.0003203103842679411,
          0.002837051870301366,
          0.005874905269593,
          0.006916272919625044,
          0.00795744825154543,
          0.008998372592031956,
          0.00904151238501072,
          0.009084652177989483,
          0.009127791970968246,
          0.008173702284693718,
          0.0072198049165308475,
          0.005269150715321302,
          -0.0006687372224405408,
          0.0028448421508073807,
          0.0058826361782848835,
          0.00692398427054286,
          0.007965140044689178,
          0.009006044827401638,
          0.009049184620380402,
          0.009092324413359165,
          0.009135464206337929,
          0.008181394077837467,
          0.006230417173355818,
          0.004279883578419685,
          -0.0011751360725611448,
          0.004857534077018499,
          0.006897006183862686,
          0.007938231341540813,
          0.008979205042123795,
          0.009022344835102558,
          0.009065484628081322,
          0.009108624421060085,
          0.008154485374689102,
          0.00720053818076849,
          0.006246842909604311,
          0.0013055243762210011,
          0.002842900576069951,
          0.005880709271878004,
          0.006922062486410141,
          0.00796322338283062,
          0.009004132822155952,
          0.01004484947770834,
          0.00909041240811348,
          0.009133552201092243,
          0.008179477415978909,
          0.006228490266948938,
          0.0042779468931257725,
          -0.00017009851580951363,
          0.004864318761974573,
          0.0069037568755447865,
          0.007944964803755283,
          0.008985920809209347,
          0.01002668496221304,
          0.009072200395166874,
          0.009115340188145638,
          0.008161218836903572,
          0.00720728887245059,
          0.0052565704099833965,
          -0.0011780778877437115,
          0.00385654391720891,
          0.0058961715549230576,
          0.006937485188245773,
          0.008976336568593979,
          0.010017124935984612,
          0.010060153901576996,
          0.00910575594753027,
          0.00815160945057869,
          0.007197655737400055,
          0.006243952549993992,
          0.0003056139685213566,
          0.0038555755745619535,
          0.005895208101719618,
          0.00693652406334877,
          0.008975381031632423,
          0.01001617219299078,
          0.010059201158583164,
          0.009104800410568714,
          0.00815065111964941,
          0.007196694612503052,
          0.006242989096790552,
          0.0003046358178835362,
          0.003854607231914997,
          0.0058942451141774654,
          0.006935563404113054,
          0.008974424563348293,
          0.010015218518674374,
          0.00906070414930582,
          0.009103843942284584,
          0.008149692788720131,
          0.007195733487606049,
          0.005244956351816654,
          0.0003036576963495463,
          0.0038536391220986843,
          0.005893281660974026,
          0.006934602279216051,
          0.008973469026386738,
          0.009016608819365501,
          0.009059748612344265,
          0.009102888405323029,
          0.008148734457790852,
          0.007194772828370333,
          0.005243990570306778,
          0.00030267954571172595,
          0.003852670779451728,
          0.005892318207770586,
          0.006933641619980335,
          0.008972512558102608,
          0.009015652351081371,
          0.009058792144060135,
          0.009101931937038898,
          0.008147776126861572,
          0.0071938117034733295,
          0.005243024788796902,
          0.00030170142417773604,
          0.0038517024368047714,
          0.005891354754567146,
          0.006932680495083332,
          0.008971556089818478,
          0.009014696814119816,
          0.00905783660709858,
          0.009100976400077343,
          0.008146817795932293,
          0.007192851044237614,
          0.0052420590072870255,
          0.0003007232735399157,
          0.003850734094157815,
          0.005890391301363707,
          0.006931719370186329,
          0.008970600552856922,
          0.009013740345835686,
          0.00905688013881445,
          0.009100019931793213,
          0.008145859465003014,
          0.0071918899193406105,
          0.005241092760115862,
          -0.0011760921915993094,
          0.004856592044234276,
          0.005898122675716877,
          0.006939431186765432,
          0.008978272788226604,
          0.009021412581205368,
          0.009064552374184132,
          0.008110299706459045,
          0.008153550326824188,
          0.007199601270258427,
          0.005248843692243099,
          -0.00017007415590342134,
          0.004864342976361513,
          0.006903780624270439,
          0.007944988086819649,
          0.008985944092273712,
          0.009029083885252476,
          0.009072224609553814,
          0.008117991499602795,
          0.007163951173424721,
          0.006210161838680506,
          0.003262485144659877,
          0.0008359341882169247,
          0.0048720939084887505,
          0.006911491975188255,
          0.007952679879963398,
          0.008993616327643394,
          0.009036756120622158,
          0.008082432672381401,
          0.008125683292746544,
          0.007171662524342537,
          0.006217893213033676,
          0.0022732256911695004,
          0.0018418733961880207,
          0.005877843126654625,
          0.0069192033261060715,
          0.007960371673107147,
          0.00800362229347229,
          0.008046872913837433,
          0.00809012446552515,
          0.008133375085890293,
          0.007179373875260353,
          0.006225624121725559,
          0.0012840350391343236,
          0.0028478028252720833,
          0.005885574501007795,
          0.006926915142685175,
          0.007968063466250896,
          0.00801131408661604,
          0.008054564706981182,
          0.008097815327346325,
          0.008141066879034042,
          0.007187085226178169,
          0.005236263852566481,
          -0.000702126242686063,
          0.0028468321543186903,
          0.005884611047804356,
          0.006925954017788172,
          0.007967105135321617,
          0.00801035575568676,
          0.008053606376051903,
          0.008096856996417046,
          0.008140108548104763,
          0.007186124566942453,
          0.005235298071056604,
          -0.0007031068671494722,
          0.003852694761008024,
          0.005892341956496239,
          0.006933665368705988,
          0.007974796928465366,
          0.00801804754883051,
          0.008061298169195652,
          0.008104548789560795,
          0.00715047400444746,
          0.0071938359178602695,
          0.005243048537522554,
          -0.0011741066118702292,
          0.004858547821640968,
          0.006898015271872282,
          0.007939237169921398,
          0.007982488721609116,
          0.008025739341974258,
          0.008068989962339401,
          0.008112240582704544,
          0.007158185355365276,
          0.006204381585121155,
          0.0032566606532782316,
          -0.00016809350927360356,
          0.004866298753768206,
          0.006905726622790098,
          0.007946928963065147,
          0.00799017958343029,
          0.008033431135118008,
          0.00807668175548315,
          0.008119932375848293,
          0.0071658967062830925,
          0.006212112959474325,
          0.0032644509337842464,
          0.0008379098726436496,
          0.004874049685895443,
          0.006913437973707914,
          0.007954620756208897,
          0.00799787137657404,
          0.008041121996939182,
          0.0080843735486269,
          0.008127624168992043,
          0.007173608057200909,
          0.006219843868166208,
          0.0022751963697373867,
          0.001843844074755907,
          0.005879794247448444,
          0.0069211493246257305,
          0.007962312549352646,
          0.009003223851323128,
          0.009046363644301891,
          0.008092065341770649,
          0.007137957960367203,
          0.007181319873780012,
          0.005230468697845936,
          0.0012860108399763703,
          0.002849768614396453,
          0.0058875251561403275,
          0.006928860675543547,
          0.007970004342496395,
          0.00901089608669281,
          0.009054035879671574,
          0.008099756203591824,
          0.007145669311285019,
          0.007189031224697828,
          0.005238219629973173,
          0.0012938405852764845,
          0.0018506809137761593,
          0.005886561702936888,
          0.006927900016307831,
          0.007969046011567116,
          0.009009940549731255,
          0.009053080342710018,
          0.008098797872662544,
          0.008142049424350262,
          0.007188070099800825,
          0.00523725338280201,
          0.0022898430470377207,
          0.0018497076816856861,
          0.005885598249733448,
          0.006926938891410828,
          0.007968087680637836,
          0.009008984081447124,
          0.009052123874425888,
          0.008097839541733265,
          0.008141090162098408,
          0.007187109440565109,
          0.005236287601292133,
          0.0022888698149472475,
          0.0008506423328071833,
          0.0048866537399590015,
          0.0069259777665138245,
          0.007967128418385983,
          0.009008027613162994,
          0.009051168337464333,
          0.009094308130443096,
          0.008140131831169128,
          0.007186148315668106,
          0.006232415791600943,
          0.0032849095296114683,
          -0.0011642518220469356,
          0.0038701966404914856,
          0.005909755360335112,
          0.007948869839310646,
          0.008989815600216389,
          0.009032956324517727,
          0.00907609611749649,
          0.008121873252093792,
          0.0071678427048027515,
          0.006214063614606857,
          0.0052605061791837215,
          0.0013163541443645954,
          0.0008574964012950659,
          0.004893438890576363,
          0.006932728458195925,
          0.007973861880600452,
          0.009014744311571121,
          0.009057884104549885,
          0.009101023897528648,
          0.008146865293383598,
          0.007192899007350206,
          0.006239183712750673,
          0.004288694821298122,
          -0.0006519448943436146,
          0.003876999020576477,
          0.005916522815823555,
          0.007955603301525116,
          0.008996532298624516,
          0.009039672091603279,
          0.009082811884582043,
          0.008128606714308262,
          0.0071745929308235645,
          0.007217954844236374,
          0.006264303810894489,
          0.0033170415554195642,
          -0.00014256444410420954,
          0.0038935085758566856,
          0.006930806674063206,
          0.007971945218741894,
          0.009012832306325436,
          0.0090559720993042,
          0.009099111892282963,
          0.00814494863152504,
          0.0071909767575562,
          0.006237256806343794,
          0.0052837589755654335,
          0.0013398433802649379,
          0.0028770468197762966,
          0.005914596375077963,
          0.006955862510949373,
          0.0079969372600317,
          0.009037760086357594,
          0.009080899879336357,
          0.00912403967231512,
          0.008169940672814846,
          0.007216033060103655,
          0.00626237690448761,
          0.0043120067566633224,
          -0.0011426054406911135,
          0.0038915718905627728,
          0.005931021645665169,
          0.007970028556883335,
          0.008013279177248478,
          0.009054060094058514,
          0.009097199887037277,
          0.008143031038343906,
          0.007189054973423481,
          0.00723241688683629,
          0.006278802640736103,
          0.0033316512126475573,
          -0.00011901604011654854,
          0.004914759658277035,
          0.006953940726816654,
          0.007995019666850567,
          0.009035848081111908,
          0.009078987874090672,
          0.00812477245926857,
          0.008168023079633713,
          0.007214111275970936,
          0.006260450463742018,
          0.005307011306285858,
          -0.0006302985129877925,
          0.002900417661294341,
          0.0059377895668148994,
          0.006978996563702822,
          0.008020011708140373,
          0.009060775861144066,
          0.008106513880193233,
          0.008149764500558376,
          0.007195805665105581,
          0.007239167112857103,
          0.006285570561885834,
          0.003338470822200179,
          0.0008946937741711736,
          0.004930261522531509,
          0.0069693634286522865,
          0.007012725342065096,
          0.008053653873503208,
          0.008096905425190926,
          0.008140156045556068,
          0.007186172064393759,
          0.007229533977806568,
          0.006275912746787071,
          0.004325611051172018,
          -0.0011111286003142595,
          0.002924759406596422,
          0.005961946211755276,
          0.007003091741353273,
          0.0080440454185009,
          0.008087296038866043,
          0.00813054759055376,
          0.007176538929343224,
          0.007219900842756033,
          0.006266254466027021,
          0.005312830209732056,
          -0.0006243905518203974,
          0.0029237885028123856,
          0.004963196348398924,
          0.0070021310821175575,
          0.008043087087571621,
          0.008086337707936764,
          0.008129589259624481,
          0.00717557780444622,
          0.00721893971785903,
          0.006265291478484869,
          0.005311864428222179,
          -0.0006253711180761456,
          0.0019336715340614319,
          0.003973151091486216,
          0.007009842433035374,
          0.00805077888071537,
          0.008094029501080513,
          0.0071399277076125145,
          0.007183289621025324,
          0.007226651068776846,
          0.006273022387176752,
          0.004322706256061792,
          -7.19192175893113e-05,
          0.002965652383863926,
          0.006002528592944145,
          0.0070435707457363605,
          0.008084421046078205,
          0.007130294572561979,
          0.007173656020313501,
          0.007217017933726311,
          0.00626336457207799,
          0.005309932865202427,
          -0.0010708021000027657,
          0.001966858049854636,
          0.005003882572054863,
          0.007042610086500645,
          0.007085971534252167,
          0.007129333447664976,
          0.0071726953610777855,
          0.006218928378075361,
          0.00626240111887455,
          0.004312030505388975,
          -0.0010629328899085522,
          0.0009768939344212413,
          0.00401394022628665,
          0.007050321437418461,
          0.00709368335083127,
          0.007137044798582792,
          0.007180406711995602,
          0.006226659752428532,
          0.006270132027566433,
          0.0033229144755750895,
          -3.071559694944881e-05,
          0.0020088276360183954,
          0.005045534111559391,
          0.007084049750119448,
          0.007127411663532257,
          0.0061735291965305805,
          0.006217001937329769,
          0.0062604742124676704,
          0.003313182620331645,
          -0.0010294949170202017,
          0.001010164269246161,
          0.004046959336847067,
          0.006085620261728764,
          0.006129093002527952,
          0.006172565743327141,
          0.006216038484126329,
          0.005262486170977354,
          0.0023152681533247232,
          -0.0010039262706413865,
          0.002033231081441045,
          0.0040722074918448925,
          0.00411590188741684,
          0.005156919825822115,
          0.006197685841470957,
          0.005244086496531963,
          0.003293718909844756,
          -0.000996057060547173,
          0.0010434344876557589,
          0.002084957202896476,
          0.003126288065686822,
          0.004167367238551378,
          0.004211061634123325,
          0.0042547560296952724,
          0.0013075972674414515,
          6.247548299143091e-05,
          0.0021015505772083998,
          0.002145466860383749,
          0.003186644520610571,
          0.003230449976399541,
          0.002277215477079153,
          -0.0009360697004012764,
          0.00010563537944108248,
          0.001147148315794766,
          0.002188409911468625,
          0.0022323261946439743,
          0.0002821874222718179,
          -0.000883951666764915,
          0.0001576228823978454,
          0.0011990051716566086,
          0.0002458988456055522,
          -0.0008318335167132318,
          -0.0007875845185481012,
          -0.0007885651430115104
         ]
        }
       ],
       "frames": [
        {
         "layout": {
          "scene": {
           "camera": {
            "eye": {
             "x": 1.25,
             "y": 1.25,
             "z": 0.8
            }
           }
          }
         }
        },
        {
         "layout": {
          "scene": {
           "camera": {
            "eye": {
             "x": 1.3685469774060675,
             "y": 1.1189634357889973,
             "z": 0.8
            }
           }
          }
         }
        },
        {
         "layout": {
          "scene": {
           "camera": {
            "eye": {
             "x": 1.4734198857953784,
             "y": 0.9767465588077254,
             "z": 0.8
            }
           }
          }
         }
        },
        {
         "layout": {
          "scene": {
           "camera": {
            "eye": {
             "x": 1.5635708697336819,
             "y": 0.824770353080333,
             "z": 0.8
            }
           }
          }
         }
        },
        {
         "layout": {
          "scene": {
           "camera": {
            "eye": {
             "x": 1.6380991703894194,
             "y": 0.6645533146177932,
             "z": 0.8
            }
           }
          }
         }
        },
        {
         "layout": {
          "scene": {
           "camera": {
            "eye": {
             "x": 1.6962601256182197,
             "y": 0.4976962791077122,
             "z": 0.8
            }
           }
          }
         }
        },
        {
         "layout": {
          "scene": {
           "camera": {
            "eye": {
             "x": 1.737472610380892,
             "y": 0.32586642689330336,
             "z": 0.8
            }
           }
          }
         }
        },
        {
         "layout": {
          "scene": {
           "camera": {
            "eye": {
             "x": 1.7613248431527242,
             "y": 0.15078062505849654,
             "z": 0.8
            }
           }
          }
         }
        },
        {
         "layout": {
          "scene": {
           "camera": {
            "eye": {
             "x": 1.7675785003083602,
             "y": -0.025811726940446755,
             "z": 0.8
            }
           }
          }
         }
        },
        {
         "layout": {
          "scene": {
           "camera": {
            "eye": {
             "x": 1.7561710973726847,
             "y": -0.20214617669602375,
             "z": 0.8
            }
           }
          }
         }
        },
        {
         "layout": {
          "scene": {
           "camera": {
            "eye": {
             "x": 1.7272166133450453,
             "y": -0.376460848674696,
             "z": 0.8
            }
           }
          }
         }
        },
        {
         "layout": {
          "scene": {
           "camera": {
            "eye": {
             "x": 1.6810043518587658,
             "y": -0.5470140482948226,
             "z": 0.8
            }
           }
          }
         }
        },
        {
         "layout": {
          "scene": {
           "camera": {
            "eye": {
             "x": 1.6179960505548747,
             "y": -0.7121016643631912,
             "z": 0.8
            }
           }
          }
         }
        },
        {
         "layout": {
          "scene": {
           "camera": {
            "eye": {
             "x": 1.5388212675522255,
             "y": -0.870074195990757,
             "z": 0.8
            }
           }
          }
         }
        },
        {
         "layout": {
          "scene": {
           "camera": {
            "eye": {
             "x": 1.4442710911108763,
             "y": -1.0193532338602744,
             "z": 0.8
            }
           }
          }
         }
        },
        {
         "layout": {
          "scene": {
           "camera": {
            "eye": {
             "x": 1.3352902353396967,
             "y": -1.1584472311704395,
             "z": 0.8
            }
           }
          }
         }
        },
        {
         "layout": {
          "scene": {
           "camera": {
            "eye": {
             "x": 1.2129676009252703,
             "y": -1.2859664066784924,
             "z": 0.8
            }
           }
          }
         }
        },
        {
         "layout": {
          "scene": {
           "camera": {
            "eye": {
             "x": 1.0785253951961797,
             "y": -1.4006366309349918,
             "z": 0.8
            }
           }
          }
         }
        },
        {
         "layout": {
          "scene": {
           "camera": {
            "eye": {
             "x": 0.9333069202313851,
             "y": -1.5013121569641028,
             "z": 0.8
            }
           }
          }
         }
        },
        {
         "layout": {
          "scene": {
           "camera": {
            "eye": {
             "x": 0.7787631510298885,
             "y": -1.5869870681886475,
             "z": 0.8
            }
           }
          }
         }
        },
        {
         "layout": {
          "scene": {
           "camera": {
            "eye": {
             "x": 0.6164382378481742,
             "y": -1.6568053292160303,
             "z": 0.8
            }
           }
          }
         }
        },
        {
         "layout": {
          "scene": {
           "camera": {
            "eye": {
             "x": 0.44795407756127026,
             "y": -1.710069339060914,
             "z": 0.8
            }
           }
          }
         }
        },
        {
         "layout": {
          "scene": {
           "camera": {
            "eye": {
             "x": 0.27499410820530534,
             "y": -1.7462469013436699,
             "z": 0.8
            }
           }
          }
         }
        },
        {
         "layout": {
          "scene": {
           "camera": {
            "eye": {
             "x": 0.09928648862111944,
             "y": -1.7649765418206806,
             "z": 0.8
            }
           }
          }
         }
        },
        {
         "layout": {
          "scene": {
           "camera": {
            "eye": {
             "x": -0.07741316873761894,
             "y": -1.7660711201154955,
             "z": 0.8
            }
           }
          }
         }
        },
        {
         "layout": {
          "scene": {
           "camera": {
            "eye": {
             "x": -0.25333933930372143,
             "y": -1.7495196995636126,
             "z": 0.8
            }
           }
          }
         }
        },
        {
         "layout": {
          "scene": {
           "camera": {
            "eye": {
             "x": -0.4267342269343539,
             "y": -1.7154876564880144,
             "z": 0.8
            }
           }
          }
         }
        },
        {
         "layout": {
          "scene": {
           "camera": {
            "eye": {
             "x": -0.5958653272290393,
             "y": -1.6643150278136138,
             "z": 0.8
            }
           }
          }
         }
        },
        {
         "layout": {
          "scene": {
           "camera": {
            "eye": {
             "x": -0.7590427381409421,
             "y": -1.5965131135307038,
             "z": 0.8
            }
           }
          }
         }
        },
        {
         "layout": {
          "scene": {
           "camera": {
            "eye": {
             "x": -0.9146360449195108,
             "y": -1.5127593679544658,
             "z": 0.8
            }
           }
          }
         }
        },
        {
         "layout": {
          "scene": {
           "camera": {
            "eye": {
             "x": -1.0610906106757227,
             "y": -1.4138906308253907,
             "z": 0.8
            }
           }
          }
         }
        },
        {
         "layout": {
          "scene": {
           "camera": {
            "eye": {
             "x": -1.196943109799986,
             "y": -1.3008947658832124,
             "z": 0.8
            }
           }
          }
         }
        },
        {
         "layout": {
          "scene": {
           "camera": {
            "eye": {
             "x": -1.3208361490279166,
             "y": -1.1749007904589663,
             "z": 0.8
            }
           }
          }
         }
        },
        {
         "layout": {
          "scene": {
           "camera": {
            "eye": {
             "x": -1.431531830065142,
             "y": -1.0371675947070202,
             "z": 0.8
            }
           }
          }
         }
        },
        {
         "layout": {
          "scene": {
           "camera": {
            "eye": {
             "x": -1.5279241182578656,
             "y": -0.8890713631907865,
             "z": 0.8
            }
           }
          }
         }
        },
        {
         "layout": {
          "scene": {
           "camera": {
            "eye": {
             "x": -1.6090498937255202,
             "y": -0.7320918245014705,
             "z": 0.8
            }
           }
          }
         }
        },
        {
         "layout": {
          "scene": {
           "camera": {
            "eye": {
             "x": -1.6740985745362496,
             "y": -0.5677974662991182,
             "z": 0.8
            }
           }
          }
         }
        },
        {
         "layout": {
          "scene": {
           "camera": {
            "eye": {
             "x": -1.7224202157736266,
             "y": -0.39782986350239324,
             "z": 0.8
            }
           }
          }
         }
        },
        {
         "layout": {
          "scene": {
           "camera": {
            "eye": {
             "x": -1.7535320035714197,
             "y": -0.22388727621462157,
             "z": 0.8
            }
           }
          }
         }
        },
        {
         "layout": {
          "scene": {
           "camera": {
            "eye": {
             "x": -1.7671230792301427,
             "y": -0.04770768127020719,
             "z": 0.8
            }
           }
          }
         }
        },
        {
         "layout": {
          "scene": {
           "camera": {
            "eye": {
             "x": -1.7630576452144253,
             "y": 0.1289485930553954,
             "z": 0.8
            }
           }
          }
         }
        },
        {
         "layout": {
          "scene": {
           "camera": {
            "eye": {
             "x": -1.741376321997099,
             "y": 0.30431645566392784,
             "z": 0.8
            }
           }
          }
         }
        },
        {
         "layout": {
          "scene": {
           "camera": {
            "eye": {
             "x": -1.7022957421928595,
             "y": 0.47664368884111097,
             "z": 0.8
            }
           }
          }
         }
        },
        {
         "layout": {
          "scene": {
           "camera": {
            "eye": {
             "x": -1.646206386036788,
             "y": 0.6442084558368493,
             "z": 0.8
            }
           }
          }
         }
        },
        {
         "layout": {
          "scene": {
           "camera": {
            "eye": {
             "x": -1.573668679834919,
             "y": 0.8053365048888708,
             "z": 0.8
            }
           }
          }
         }
        },
        {
         "layout": {
          "scene": {
           "camera": {
            "eye": {
             "x": -1.4854073963698458,
             "y": 0.9584178977928967,
             "z": 0.8
            }
           }
          }
         }
        },
        {
         "layout": {
          "scene": {
           "camera": {
            "eye": {
             "x": -1.3823044132106481,
             "y": 1.101923095873013,
             "z": 0.8
            }
           }
          }
         }
        },
        {
         "layout": {
          "scene": {
           "camera": {
            "eye": {
             "x": -1.2653899012837393,
             "y": 1.2344182426265127,
             "z": 0.8
            }
           }
          }
         }
        },
        {
         "layout": {
          "scene": {
           "camera": {
            "eye": {
             "x": -1.1358320317454915,
             "y": 1.3545794903441097,
             "z": 0.8
            }
           }
          }
         }
        },
        {
         "layout": {
          "scene": {
           "camera": {
            "eye": {
             "x": -0.9949253040021958,
             "y": 1.4612062275586353,
             "z": 0.8
            }
           }
          }
         }
        },
        {
         "layout": {
          "scene": {
           "camera": {
            "eye": {
             "x": -0.8440776114998902,
             "y": 1.553233075157956,
             "z": 0.8
            }
           }
          }
         }
        },
        {
         "layout": {
          "scene": {
           "camera": {
            "eye": {
             "x": -0.6847961745184389,
             "y": 1.6297405313008917,
             "z": 0.8
            }
           }
          }
         }
        },
        {
         "layout": {
          "scene": {
           "camera": {
            "eye": {
             "x": -0.5186724805247199,
             "y": 1.6899641587756626,
             "z": 0.8
            }
           }
          }
         }
        },
        {
         "layout": {
          "scene": {
           "camera": {
            "eye": {
             "x": -0.347366382555924,
             "y": 1.733302223003828,
             "z": 0.8
            }
           }
          }
         }
        },
        {
         "layout": {
          "scene": {
           "camera": {
            "eye": {
             "x": -0.17258951451669058,
             "y": 1.7593217043732774,
             "z": 0.8
            }
           }
          }
         }
        },
        {
         "layout": {
          "scene": {
           "camera": {
            "eye": {
             "x": 0.0039118109010850555,
             "y": 1.767762624827065,
             "z": 0.8
            }
           }
          }
         }
        },
        {
         "layout": {
          "scene": {
           "camera": {
            "eye": {
             "x": 0.18037405079741164,
             "y": 1.7585406454782138,
             "z": 0.8
            }
           }
          }
         }
        },
        {
         "layout": {
          "scene": {
           "camera": {
            "eye": {
             "x": 0.3550340528019027,
             "y": 1.7317479092959966,
             "z": 0.8
            }
           }
          }
         }
        },
        {
         "layout": {
          "scene": {
           "camera": {
            "eye": {
             "x": 0.5261466719094534,
             "y": 1.6876521204438448,
             "z": 0.8
            }
           }
          }
         }
        },
        {
         "layout": {
          "scene": {
           "camera": {
            "eye": {
             "x": 0.6920022073922499,
             "y": 1.62669386946784,
             "z": 0.8
            }
           }
          }
         }
        },
        {
         "layout": {
          "scene": {
           "camera": {
            "eye": {
             "x": 0.8509434855643001,
             "y": 1.5494822310616148,
             "z": 0.8
            }
           }
          }
         }
        },
        {
         "layout": {
          "scene": {
           "camera": {
            "eye": {
             "x": 1.001382417713112,
             "y": 1.4567886783933495,
             "z": 0.8
            }
           }
          }
         }
        },
        {
         "layout": {
          "scene": {
           "camera": {
            "eye": {
             "x": 1.1418158677571515,
             "y": 1.3495393748008924,
             "z": 0.8
            }
           }
          }
         }
        },
        {
         "layout": {
          "scene": {
           "camera": {
            "eye": {
             "x": 1.270840671084707,
             "y": 1.2288059198738308,
             "z": 0.8
            }
           }
          }
         }
        },
        {
         "layout": {
          "scene": {
           "camera": {
            "eye": {
             "x": 1.3871676545108578,
             "y": 1.0957946423846239,
             "z": 0.8
            }
           }
          }
         }
        },
        {
         "layout": {
          "scene": {
           "camera": {
            "eye": {
             "x": 1.4896345172697987,
             "y": 0.9518345470502599,
             "z": 0.8
            }
           }
          }
         }
        },
        {
         "layout": {
          "scene": {
           "camera": {
            "eye": {
             "x": 1.577217444339885,
             "y": 0.7983640355564382,
             "z": 0.8
            }
           }
          }
         }
        },
        {
         "layout": {
          "scene": {
           "camera": {
            "eye": {
             "x": 1.6490413360648972,
             "y": 0.6369165345234014,
             "z": 0.8
            }
           }
          }
         }
        },
        {
         "layout": {
          "scene": {
           "camera": {
            "eye": {
             "x": 1.7043885518605422,
             "y": 0.46910517401401974,
             "z": 0.8
            }
           }
          }
         }
        },
        {
         "layout": {
          "scene": {
           "camera": {
            "eye": {
             "x": 1.742706080641946,
             "y": 0.2966066696714459,
             "z": 0.8
            }
           }
          }
         }
        },
        {
         "layout": {
          "scene": {
           "camera": {
            "eye": {
             "x": 1.7636110663276172,
             "y": 0.12114456953064445,
             "z": 0.8
            }
           }
          }
         }
        },
        {
         "layout": {
          "scene": {
           "camera": {
            "eye": {
             "x": 1.766894633210853,
             "y": -0.05552796710383823,
             "z": 0.8
            }
           }
          }
         }
        },
        {
         "layout": {
          "scene": {
           "camera": {
            "eye": {
             "x": 1.7525239729767597,
             "y": -0.23164568664612328,
             "z": 0.8
            }
           }
          }
         }
        },
        {
         "layout": {
          "scene": {
           "camera": {
            "eye": {
             "x": 1.7206426725120867,
             "y": -0.4054488790593255,
             "z": 0.8
            }
           }
          }
         }
        },
        {
         "layout": {
          "scene": {
           "camera": {
            "eye": {
             "x": 1.6715692792325216,
             "y": -0.5752009602965458,
             "z": 0.8
            }
           }
          }
         }
        },
        {
         "layout": {
          "scene": {
           "camera": {
            "eye": {
             "x": 1.605794118262206,
             "y": -0.7392058236746413,
             "z": 0.8
            }
           }
          }
         }
        },
        {
         "layout": {
          "scene": {
           "camera": {
            "eye": {
             "x": 1.5239743932671765,
             "y": -0.8958247868115395,
             "z": 0.8
            }
           }
          }
         }
        },
        {
         "layout": {
          "scene": {
           "camera": {
            "eye": {
             "x": 1.426927619893581,
             "y": -1.04349296479892,
             "z": 0.8
            }
           }
          }
         }
        },
        {
         "layout": {
          "scene": {
           "camera": {
            "eye": {
             "x": 1.3156234574215673,
             "y": -1.180734906014945,
             "z": 0.8
            }
           }
          }
         }
        },
        {
         "layout": {
          "scene": {
           "camera": {
            "eye": {
             "x": 1.1911740202502938,
             "y": -1.3061793343491364,
             "z": 0.8
            }
           }
          }
         }
        },
        {
         "layout": {
          "scene": {
           "camera": {
            "eye": {
             "x": 1.0548227660184604,
             "y": -1.4185728505399942,
             "z": 0.8
            }
           }
          }
         }
        },
        {
         "layout": {
          "scene": {
           "camera": {
            "eye": {
             "x": 0.9079320713866189,
             "y": -1.5167924557260966,
             "z": 0.8
            }
           }
          }
         }
        },
        {
         "layout": {
          "scene": {
           "camera": {
            "eye": {
             "x": 0.7519696196199205,
             "y": -1.599856772079511,
             "z": 0.8
            }
           }
          }
         }
        },
        {
         "layout": {
          "scene": {
           "camera": {
            "eye": {
             "x": 0.5884937359820905,
             "y": -1.6669358484086425,
             "z": 0.8
            }
           }
          }
         }
        },
        {
         "layout": {
          "scene": {
           "camera": {
            "eye": {
             "x": 0.41913781746449363,
             "y": -1.7173594527562077,
             "z": 0.8
            }
           }
          }
         }
        },
        {
         "layout": {
          "scene": {
           "camera": {
            "eye": {
             "x": 0.24559401242333323,
             "y": -1.7506237691353923,
             "z": 0.8
            }
           }
          }
         }
        },
        {
         "layout": {
          "scene": {
           "camera": {
            "eye": {
             "x": 0.06959631319262605,
             "y": -1.7663964314926572,
             "z": 0.8
            }
           }
          }
         }
        },
        {
         "layout": {
          "scene": {
           "camera": {
            "eye": {
             "x": -0.10709676939402235,
             "y": -1.7645198445994774,
             "z": 0.8
            }
           }
          }
         }
        },
        {
         "layout": {
          "scene": {
           "camera": {
            "eye": {
             "x": -0.2827197764623679,
             "y": -1.745012758691772,
             "z": 0.8
            }
           }
          }
         }
        },
        {
         "layout": {
          "scene": {
           "camera": {
            "eye": {
             "x": -0.45551794097903464,
             "y": -1.7080700821237462,
             "z": 0.8
            }
           }
          }
         }
        },
        {
         "layout": {
          "scene": {
           "camera": {
            "eye": {
             "x": -0.6237647208036504,
             "y": -1.6540609339080419,
             "z": 0.8
            }
           }
          }
         }
        },
        {
         "layout": {
          "scene": {
           "camera": {
            "eye": {
             "x": -0.7857790497271997,
             "y": -1.58352495560058,
             "z": 0.8
            }
           }
          }
         }
        },
        {
         "layout": {
          "scene": {
           "camera": {
            "eye": {
             "x": -0.9399421341298975,
             "y": -1.4971669193805124,
             "z": 0.8
            }
           }
          }
         }
        },
        {
         "layout": {
          "scene": {
           "camera": {
            "eye": {
             "x": -1.0847136274319271,
             "y": -1.3958496861995813,
             "z": 0.8
            }
           }
          }
         }
        },
        {
         "layout": {
          "scene": {
           "camera": {
            "eye": {
             "x": -1.218647020727311,
             "y": -1.2805855843607052,
             "z": 0.8
            }
           }
          }
         }
        },
        {
         "layout": {
          "scene": {
           "camera": {
            "eye": {
             "x": -1.3404040958227346,
             "y": -1.1525262946682115,
             "z": 0.8
            }
           }
          }
         }
        },
        {
         "layout": {
          "scene": {
           "camera": {
            "eye": {
             "x": -1.448768296271385,
             "y": -1.0129513432139317,
             "z": 0.8
            }
           }
          }
         }
        },
        {
         "layout": {
          "scene": {
           "camera": {
            "eye": {
             "x": -1.5426568828028173,
             "y": -0.8632553167754569,
             "z": 0.8
            }
           }
          }
         }
        },
        {
         "layout": {
          "scene": {
           "camera": {
            "eye": {
             "x": -1.6211317516958519,
             "y": -0.7049339285660311,
             "z": 0.8
            }
           }
          }
         }
        },
        {
         "layout": {
          "scene": {
           "camera": {
            "eye": {
             "x": -1.6834088080008527,
             "y": -0.5395690735625494,
             "z": 0.8
            }
           }
          }
         }
        },
        {
         "layout": {
          "scene": {
           "camera": {
            "eye": {
             "x": -1.7288657999572776,
             "y": -0.3688130227338533,
             "z": 0.8
            }
           }
          }
         }
        },
        {
         "layout": {
          "scene": {
           "camera": {
            "eye": {
             "x": -1.7570485363275825,
             "y": -0.1943719140953739,
             "z": 0.8
            }
           }
          }
         }
        },
        {
         "layout": {
          "scene": {
           "camera": {
            "eye": {
             "x": -1.7676754245259283,
             "y": -0.017988705542069106,
             "z": 0.8
            }
           }
          }
         }
        }
       ],
       "layout": {
        "template": {
         "data": {
          "bar": [
           {
            "error_x": {
             "color": "#2a3f5f"
            },
            "error_y": {
             "color": "#2a3f5f"
            },
            "marker": {
             "line": {
              "color": "#E5ECF6",
              "width": 0.5
             },
             "pattern": {
              "fillmode": "overlay",
              "size": 10,
              "solidity": 0.2
             }
            },
            "type": "bar"
           }
          ],
          "barpolar": [
           {
            "marker": {
             "line": {
              "color": "#E5ECF6",
              "width": 0.5
             },
             "pattern": {
              "fillmode": "overlay",
              "size": 10,
              "solidity": 0.2
             }
            },
            "type": "barpolar"
           }
          ],
          "carpet": [
           {
            "aaxis": {
             "endlinecolor": "#2a3f5f",
             "gridcolor": "white",
             "linecolor": "white",
             "minorgridcolor": "white",
             "startlinecolor": "#2a3f5f"
            },
            "baxis": {
             "endlinecolor": "#2a3f5f",
             "gridcolor": "white",
             "linecolor": "white",
             "minorgridcolor": "white",
             "startlinecolor": "#2a3f5f"
            },
            "type": "carpet"
           }
          ],
          "choropleth": [
           {
            "colorbar": {
             "outlinewidth": 0,
             "ticks": ""
            },
            "type": "choropleth"
           }
          ],
          "contour": [
           {
            "colorbar": {
             "outlinewidth": 0,
             "ticks": ""
            },
            "colorscale": [
             [
              0,
              "#0d0887"
             ],
             [
              0.1111111111111111,
              "#46039f"
             ],
             [
              0.2222222222222222,
              "#7201a8"
             ],
             [
              0.3333333333333333,
              "#9c179e"
             ],
             [
              0.4444444444444444,
              "#bd3786"
             ],
             [
              0.5555555555555556,
              "#d8576b"
             ],
             [
              0.6666666666666666,
              "#ed7953"
             ],
             [
              0.7777777777777778,
              "#fb9f3a"
             ],
             [
              0.8888888888888888,
              "#fdca26"
             ],
             [
              1,
              "#f0f921"
             ]
            ],
            "type": "contour"
           }
          ],
          "contourcarpet": [
           {
            "colorbar": {
             "outlinewidth": 0,
             "ticks": ""
            },
            "type": "contourcarpet"
           }
          ],
          "heatmap": [
           {
            "colorbar": {
             "outlinewidth": 0,
             "ticks": ""
            },
            "colorscale": [
             [
              0,
              "#0d0887"
             ],
             [
              0.1111111111111111,
              "#46039f"
             ],
             [
              0.2222222222222222,
              "#7201a8"
             ],
             [
              0.3333333333333333,
              "#9c179e"
             ],
             [
              0.4444444444444444,
              "#bd3786"
             ],
             [
              0.5555555555555556,
              "#d8576b"
             ],
             [
              0.6666666666666666,
              "#ed7953"
             ],
             [
              0.7777777777777778,
              "#fb9f3a"
             ],
             [
              0.8888888888888888,
              "#fdca26"
             ],
             [
              1,
              "#f0f921"
             ]
            ],
            "type": "heatmap"
           }
          ],
          "heatmapgl": [
           {
            "colorbar": {
             "outlinewidth": 0,
             "ticks": ""
            },
            "colorscale": [
             [
              0,
              "#0d0887"
             ],
             [
              0.1111111111111111,
              "#46039f"
             ],
             [
              0.2222222222222222,
              "#7201a8"
             ],
             [
              0.3333333333333333,
              "#9c179e"
             ],
             [
              0.4444444444444444,
              "#bd3786"
             ],
             [
              0.5555555555555556,
              "#d8576b"
             ],
             [
              0.6666666666666666,
              "#ed7953"
             ],
             [
              0.7777777777777778,
              "#fb9f3a"
             ],
             [
              0.8888888888888888,
              "#fdca26"
             ],
             [
              1,
              "#f0f921"
             ]
            ],
            "type": "heatmapgl"
           }
          ],
          "histogram": [
           {
            "marker": {
             "pattern": {
              "fillmode": "overlay",
              "size": 10,
              "solidity": 0.2
             }
            },
            "type": "histogram"
           }
          ],
          "histogram2d": [
           {
            "colorbar": {
             "outlinewidth": 0,
             "ticks": ""
            },
            "colorscale": [
             [
              0,
              "#0d0887"
             ],
             [
              0.1111111111111111,
              "#46039f"
             ],
             [
              0.2222222222222222,
              "#7201a8"
             ],
             [
              0.3333333333333333,
              "#9c179e"
             ],
             [
              0.4444444444444444,
              "#bd3786"
             ],
             [
              0.5555555555555556,
              "#d8576b"
             ],
             [
              0.6666666666666666,
              "#ed7953"
             ],
             [
              0.7777777777777778,
              "#fb9f3a"
             ],
             [
              0.8888888888888888,
              "#fdca26"
             ],
             [
              1,
              "#f0f921"
             ]
            ],
            "type": "histogram2d"
           }
          ],
          "histogram2dcontour": [
           {
            "colorbar": {
             "outlinewidth": 0,
             "ticks": ""
            },
            "colorscale": [
             [
              0,
              "#0d0887"
             ],
             [
              0.1111111111111111,
              "#46039f"
             ],
             [
              0.2222222222222222,
              "#7201a8"
             ],
             [
              0.3333333333333333,
              "#9c179e"
             ],
             [
              0.4444444444444444,
              "#bd3786"
             ],
             [
              0.5555555555555556,
              "#d8576b"
             ],
             [
              0.6666666666666666,
              "#ed7953"
             ],
             [
              0.7777777777777778,
              "#fb9f3a"
             ],
             [
              0.8888888888888888,
              "#fdca26"
             ],
             [
              1,
              "#f0f921"
             ]
            ],
            "type": "histogram2dcontour"
           }
          ],
          "mesh3d": [
           {
            "colorbar": {
             "outlinewidth": 0,
             "ticks": ""
            },
            "type": "mesh3d"
           }
          ],
          "parcoords": [
           {
            "line": {
             "colorbar": {
              "outlinewidth": 0,
              "ticks": ""
             }
            },
            "type": "parcoords"
           }
          ],
          "pie": [
           {
            "automargin": true,
            "type": "pie"
           }
          ],
          "scatter": [
           {
            "fillpattern": {
             "fillmode": "overlay",
             "size": 10,
             "solidity": 0.2
            },
            "type": "scatter"
           }
          ],
          "scatter3d": [
           {
            "line": {
             "colorbar": {
              "outlinewidth": 0,
              "ticks": ""
             }
            },
            "marker": {
             "colorbar": {
              "outlinewidth": 0,
              "ticks": ""
             }
            },
            "type": "scatter3d"
           }
          ],
          "scattercarpet": [
           {
            "marker": {
             "colorbar": {
              "outlinewidth": 0,
              "ticks": ""
             }
            },
            "type": "scattercarpet"
           }
          ],
          "scattergeo": [
           {
            "marker": {
             "colorbar": {
              "outlinewidth": 0,
              "ticks": ""
             }
            },
            "type": "scattergeo"
           }
          ],
          "scattergl": [
           {
            "marker": {
             "colorbar": {
              "outlinewidth": 0,
              "ticks": ""
             }
            },
            "type": "scattergl"
           }
          ],
          "scattermapbox": [
           {
            "marker": {
             "colorbar": {
              "outlinewidth": 0,
              "ticks": ""
             }
            },
            "type": "scattermapbox"
           }
          ],
          "scatterpolar": [
           {
            "marker": {
             "colorbar": {
              "outlinewidth": 0,
              "ticks": ""
             }
            },
            "type": "scatterpolar"
           }
          ],
          "scatterpolargl": [
           {
            "marker": {
             "colorbar": {
              "outlinewidth": 0,
              "ticks": ""
             }
            },
            "type": "scatterpolargl"
           }
          ],
          "scatterternary": [
           {
            "marker": {
             "colorbar": {
              "outlinewidth": 0,
              "ticks": ""
             }
            },
            "type": "scatterternary"
           }
          ],
          "surface": [
           {
            "colorbar": {
             "outlinewidth": 0,
             "ticks": ""
            },
            "colorscale": [
             [
              0,
              "#0d0887"
             ],
             [
              0.1111111111111111,
              "#46039f"
             ],
             [
              0.2222222222222222,
              "#7201a8"
             ],
             [
              0.3333333333333333,
              "#9c179e"
             ],
             [
              0.4444444444444444,
              "#bd3786"
             ],
             [
              0.5555555555555556,
              "#d8576b"
             ],
             [
              0.6666666666666666,
              "#ed7953"
             ],
             [
              0.7777777777777778,
              "#fb9f3a"
             ],
             [
              0.8888888888888888,
              "#fdca26"
             ],
             [
              1,
              "#f0f921"
             ]
            ],
            "type": "surface"
           }
          ],
          "table": [
           {
            "cells": {
             "fill": {
              "color": "#EBF0F8"
             },
             "line": {
              "color": "white"
             }
            },
            "header": {
             "fill": {
              "color": "#C8D4E3"
             },
             "line": {
              "color": "white"
             }
            },
            "type": "table"
           }
          ]
         },
         "layout": {
          "annotationdefaults": {
           "arrowcolor": "#2a3f5f",
           "arrowhead": 0,
           "arrowwidth": 1
          },
          "autotypenumbers": "strict",
          "coloraxis": {
           "colorbar": {
            "outlinewidth": 0,
            "ticks": ""
           }
          },
          "colorscale": {
           "diverging": [
            [
             0,
             "#8e0152"
            ],
            [
             0.1,
             "#c51b7d"
            ],
            [
             0.2,
             "#de77ae"
            ],
            [
             0.3,
             "#f1b6da"
            ],
            [
             0.4,
             "#fde0ef"
            ],
            [
             0.5,
             "#f7f7f7"
            ],
            [
             0.6,
             "#e6f5d0"
            ],
            [
             0.7,
             "#b8e186"
            ],
            [
             0.8,
             "#7fbc41"
            ],
            [
             0.9,
             "#4d9221"
            ],
            [
             1,
             "#276419"
            ]
           ],
           "sequential": [
            [
             0,
             "#0d0887"
            ],
            [
             0.1111111111111111,
             "#46039f"
            ],
            [
             0.2222222222222222,
             "#7201a8"
            ],
            [
             0.3333333333333333,
             "#9c179e"
            ],
            [
             0.4444444444444444,
             "#bd3786"
            ],
            [
             0.5555555555555556,
             "#d8576b"
            ],
            [
             0.6666666666666666,
             "#ed7953"
            ],
            [
             0.7777777777777778,
             "#fb9f3a"
            ],
            [
             0.8888888888888888,
             "#fdca26"
            ],
            [
             1,
             "#f0f921"
            ]
           ],
           "sequentialminus": [
            [
             0,
             "#0d0887"
            ],
            [
             0.1111111111111111,
             "#46039f"
            ],
            [
             0.2222222222222222,
             "#7201a8"
            ],
            [
             0.3333333333333333,
             "#9c179e"
            ],
            [
             0.4444444444444444,
             "#bd3786"
            ],
            [
             0.5555555555555556,
             "#d8576b"
            ],
            [
             0.6666666666666666,
             "#ed7953"
            ],
            [
             0.7777777777777778,
             "#fb9f3a"
            ],
            [
             0.8888888888888888,
             "#fdca26"
            ],
            [
             1,
             "#f0f921"
            ]
           ]
          },
          "colorway": [
           "#636efa",
           "#EF553B",
           "#00cc96",
           "#ab63fa",
           "#FFA15A",
           "#19d3f3",
           "#FF6692",
           "#B6E880",
           "#FF97FF",
           "#FECB52"
          ],
          "font": {
           "color": "#2a3f5f"
          },
          "geo": {
           "bgcolor": "white",
           "lakecolor": "white",
           "landcolor": "#E5ECF6",
           "showlakes": true,
           "showland": true,
           "subunitcolor": "white"
          },
          "hoverlabel": {
           "align": "left"
          },
          "hovermode": "closest",
          "mapbox": {
           "style": "light"
          },
          "paper_bgcolor": "white",
          "plot_bgcolor": "#E5ECF6",
          "polar": {
           "angularaxis": {
            "gridcolor": "white",
            "linecolor": "white",
            "ticks": ""
           },
           "bgcolor": "#E5ECF6",
           "radialaxis": {
            "gridcolor": "white",
            "linecolor": "white",
            "ticks": ""
           }
          },
          "scene": {
           "xaxis": {
            "backgroundcolor": "#E5ECF6",
            "gridcolor": "white",
            "gridwidth": 2,
            "linecolor": "white",
            "showbackground": true,
            "ticks": "",
            "zerolinecolor": "white"
           },
           "yaxis": {
            "backgroundcolor": "#E5ECF6",
            "gridcolor": "white",
            "gridwidth": 2,
            "linecolor": "white",
            "showbackground": true,
            "ticks": "",
            "zerolinecolor": "white"
           },
           "zaxis": {
            "backgroundcolor": "#E5ECF6",
            "gridcolor": "white",
            "gridwidth": 2,
            "linecolor": "white",
            "showbackground": true,
            "ticks": "",
            "zerolinecolor": "white"
           }
          },
          "shapedefaults": {
           "line": {
            "color": "#2a3f5f"
           }
          },
          "ternary": {
           "aaxis": {
            "gridcolor": "white",
            "linecolor": "white",
            "ticks": ""
           },
           "baxis": {
            "gridcolor": "white",
            "linecolor": "white",
            "ticks": ""
           },
           "bgcolor": "#E5ECF6",
           "caxis": {
            "gridcolor": "white",
            "linecolor": "white",
            "ticks": ""
           }
          },
          "title": {
           "x": 0.05
          },
          "xaxis": {
           "automargin": true,
           "gridcolor": "white",
           "linecolor": "white",
           "ticks": "",
           "title": {
            "standoff": 15
           },
           "zerolinecolor": "white",
           "zerolinewidth": 2
          },
          "yaxis": {
           "automargin": true,
           "gridcolor": "white",
           "linecolor": "white",
           "ticks": "",
           "title": {
            "standoff": 15
           },
           "zerolinecolor": "white",
           "zerolinewidth": 2
          }
         }
        },
        "updatemenus": [
         {
          "buttons": [
           {
            "args": [
             null,
             {
              "frame": {
               "duration": 50,
               "redraw": true
              },
              "fromcurrent": true,
              "mode": "immediate",
              "transition": {
               "duration": 0
              }
             }
            ],
            "label": "Play",
            "method": "animate"
           }
          ],
          "pad": {
           "r": 10,
           "t": 45
          },
          "showactive": false,
          "type": "buttons",
          "x": 0.8,
          "xanchor": "left",
          "y": 1,
          "yanchor": "bottom"
         }
        ]
       }
      },
      "text/html": [
       "<div>                            <div id=\"732fea68-f7ea-4c8d-99ed-f1836de8c60e\" class=\"plotly-graph-div\" style=\"height:525px; width:100%;\"></div>            <script type=\"text/javascript\">                require([\"plotly\"], function(Plotly) {                    window.PLOTLYENV=window.PLOTLYENV || {};                                    if (document.getElementById(\"732fea68-f7ea-4c8d-99ed-f1836de8c60e\")) {                    Plotly.newPlot(                        \"732fea68-f7ea-4c8d-99ed-f1836de8c60e\",                        [{\"color\":\"lightpink\",\"opacity\":0.5,\"x\":[0.3728894591331482,0.3728436827659607,0.37357214093208313,0.37372514605522156,0.3735487759113312,0.37436115741729736,0.3745102286338806,0.3744974732398987,0.37432152032852173,0.373816579580307,0.37513411045074463,0.375442236661911,0.37542882561683655,0.37509122490882874,0.3745897710323334,0.3757619559764862,0.3760637044906616,0.37620797753334045,0.3760329484939575,0.3758578896522522,0.3753599226474762,0.3767082393169403,0.3766891062259674,0.37682899832725525,0.37697067856788635,0.37679606676101685,0.37662145495414734,0.3761270046234131,0.37745991349220276,0.37743890285491943,0.3775750398635864,0.3777129650115967,0.3775383532047272,0.3775213360786438,0.37718909978866577,0.3766975402832031,0.37829455733299255,0.37827226519584656,0.37840545177459717,0.37838539481163025,0.3783662021160126,0.3781920373439789,0.3780178725719452,0.37768691778182983,0.37892794609069824,0.379055380821228,0.3790320158004761,0.37916257977485657,0.3791414201259613,0.3789672553539276,0.3789474368095398,0.37861892580986023,0.37828949093818665,0.3796088993549347,0.37988337874412537,0.37985873222351074,0.37983500957489014,0.3798121511936188,0.37979018688201904,0.37961646914482117,0.3794427216053009,0.3789619207382202,0.3780174255371094,0.38051605224609375,0.38063791394233704,0.38061219453811646,0.3805873692035675,0.3805634379386902,0.3803897202014923,0.38021597266197205,0.38004225492477417,0.379564493894577,0.3787800967693329,0.3811935782432556,0.38145923614501953,0.38128462433815,0.381258100271225,0.38123244047164917,0.3810587227344513,0.38088497519493103,0.38071125745773315,0.38038724660873413,0.37976083159446716,0.3817613422870636,0.3820211887359619,0.3819919526576996,0.3819636404514313,0.3819361925125122,0.38176247477531433,0.38158875703811646,0.3814150094985962,0.3812412917613983,0.38076967000961304,0.37984809279441833,0.38265693187713623,0.3827691674232483,0.38273885846138,0.38270944356918335,0.3825357258319855,0.38250765204429626,0.3823343515396118,0.38201454281806946,0.3818408250808716,0.38137224316596985,0.38287222385406494,0.3834044635295868,0.38351407647132874,0.3834826946258545,0.3833089768886566,0.38327890634536743,0.38310563564300537,0.3829323351383209,0.38261404633522034,0.38244032859802246,0.3818289339542389,0.3836592733860016,0.3841838538646698,0.384149968624115,0.3841169774532318,0.38394322991371155,0.3839115500450134,0.38373827934265137,0.3835650086402893,0.38324832916259766,0.3830746114253998,0.38261231780052185,0.384443074464798,0.384821355342865,0.38478586077690125,0.38475123047828674,0.38471749424934387,0.3845442235469818,0.38437092304229736,0.3841976523399353,0.38402435183525085,0.3837088644504547,0.38324981927871704,0.38235974311828613,0.38552871346473694,0.38549140095710754,0.3854549825191498,0.38541945815086365,0.3852461576461792,0.38507288694381714,0.3848995864391327,0.38472631573677063,0.38441261649131775,0.38409802317619324,0.38349995017051697,0.38596591353416443,0.38619697093963623,0.3861587345600128,0.38598501682281494,0.38594815135002136,0.3857748508453369,0.38560158014297485,0.3854282796382904,0.38525500893592834,0.3849426507949829,0.38448992371559143,0.3863123655319214,0.3868037164211273,0.38676318526268005,0.38672351837158203,0.38668474555015564,0.3865114748477936,0.38647404313087463,0.386301189661026,0.3859916031360626,0.38581833243370056,0.3855074346065521,0.38478145003318787,0.38715073466300964,0.38750356435775757,0.3874620199203491,0.38728830218315125,0.38724809885025024,0.3872087597846985,0.38703593611717224,0.3868630826473236,0.3865549564361572,0.3862459361553192,0.38593602180480957,0.3850787281990051,0.3879833221435547,0.3880697786808014,0.38802680373191833,0.3879847228527069,0.38781142234802246,0.3877706527709961,0.38759782910346985,0.3874249756336212,0.38711827993392944,0.38681069016456604,0.3863674998283386,0.38824915885925293,0.3887162208557129,0.38867083191871643,0.3886263072490692,0.388582706451416,0.38853996992111206,0.3883671164512634,0.3881942927837372,0.38802143931388855,0.38771626353263855,0.3874102234840393,0.38683685660362244,0.38898617029190063,0.38944604992866516,0.38927188515663147,0.3892258405685425,0.3891806900501251,0.3891364336013794,0.38896358013153076,0.3887907564640045,0.3886179029941559,0.38831427693367004,0.3880097568035126,0.3873092830181122,0.38975533843040466,0.3900819420814514,0.3900338411331177,0.3898600935935974,0.3898133337497711,0.38976746797561646,0.3895946145057678,0.3895500600337982,0.38924893736839294,0.38894692063331604,0.3886440098285675,0.38795003294944763,0.39039769768714905,0.3907178044319153,0.3906680941581726,0.39049437642097473,0.3904459774494171,0.3903985023498535,0.3903518617153168,0.39017948508262634,0.38987997174263,0.38957956433296204,0.38927826285362244,0.38871920108795166,0.39104005694389343,0.39135369658470154,0.3913023769855499,0.39112862944602966,0.3910786211490631,0.3910295069217682,0.3909812867641449,0.3908088803291321,0.39051100611686707,0.39021220803260803,0.38991254568099976,0.3893583416938782,0.391477108001709,0.39190372824668884,0.39185023307800293,0.39179766178131104,0.391745924949646,0.391695111989975,0.3916451632976532,0.39147278666496277,0.39130038022994995,0.3908795118331909,0.39058154821395874,0.3901575803756714,0.3893551528453827,0.3925761580467224,0.3925209641456604,0.39246666431427,0.3924132287502289,0.39236071705818176,0.3923090696334839,0.39213666319847107,0.39196428656578064,0.3916693329811096,0.39137354493141174,0.3909534215927124,0.3901599645614624,0.3931313157081604,0.39319169521331787,0.393135666847229,0.39308056235313416,0.39302632212638855,0.3929729759693146,0.39280056953430176,0.39262816309928894,0.3923349380493164,0.39204084873199463,0.3916241526603699,0.3909613788127899,0.3935742974281311,0.39386239647865295,0.3938046991825104,0.39374786615371704,0.39369192719459534,0.3936368525028229,0.39346444606781006,0.39329206943511963,0.3930005431175232,0.3927081525325775,0.3924148678779602,0.39175936579704285,0.394137978553772,0.3945331275463104,0.39447370171546936,0.3944151699542999,0.39435750246047974,0.39430075883865356,0.39412835240364075,0.39395594596862793,0.39366614818573,0.3933754563331604,0.3930838704109192,0.3925539255142212,0.3948590159416199,0.39513418078422546,0.39507320523262024,0.39501315355300903,0.39495396614074707,0.39489567279815674,0.3947232663631439,0.3945508897304535,0.3942626118659973,0.3939734399318695,0.39368337392807007,0.39315804839134216,0.39557698369026184,0.3957352340221405,0.3956727385520935,0.39561113715171814,0.3956630229949951,0.3954906165599823,0.3953182101249695,0.39514580368995667,0.39485907554626465,0.3945714235305786,0.39428290724754333,0.39353078603744507,0.3962918817996979,0.39644598960876465,0.3963824212551117,0.39631974697113037,0.3962579369544983,0.3960855305194855,0.39591315388679504,0.3957407474517822,0.395455539226532,0.3951694071292877,0.39476871490478516,0.3940238058567047,0.39689600467681885,0.3970454931259155,0.3969804048538208,0.3969162106513977,0.39685288071632385,0.39668047428131104,0.3965080678462982,0.3963356614112854,0.3960520029067993,0.3957674205303192,0.3952575922012329,0.39732256531715393,0.3976777195930481,0.39761027693748474,0.397543728351593,0.3975857198238373,0.39741331338882446,0.39724093675613403,0.3970685303211212,0.39678671956062317,0.3965040147304535,0.39622044563293457,0.39571452140808105,0.39810484647750854,0.3982439339160919,0.3982803523540497,0.39821282029151917,0.3981461822986603,0.39797377586364746,0.39780136942863464,0.3976289927959442,0.3973486125469208,0.3970673680305481,0.3966763913631439,0.39595574140548706,0.3988133668899536,0.3989483118057251,0.3988783657550812,0.3988092839717865,0.39874109625816345,0.398568719625473,0.3983963131904602,0.3982239067554474,0.3979450762271881,0.3976653516292572,0.3972774147987366,0.39645665884017944,0.3994174599647522,0.399547815322876,0.3994763493537903,0.39940574765205383,0.399336040019989,0.3991636335849762,0.39899125695228577,0.39881885051727295,0.39854153990745544,0.3981580138206482,0.3977726697921753,0.39976370334625244,0.4001864194869995,0.40021297335624695,0.4001404941082001,0.40006887912750244,0.399896502494812,0.3997240960597992,0.3995516896247864,0.3992762863636017,0.398999959230423,0.398722767829895,0.3980272710323334,0.40069571137428284,0.4008163511753082,0.4007416367530823,0.40066781640052795,0.4005948603153229,0.40052279829978943,0.40025007724761963,0.4000776708126068,0.39980360865592957,0.39942651987075806,0.3990476727485657,0.40111586451530457,0.4014233350753784,0.40144360065460205,0.40136799216270447,0.40129324793815613,0.4012193977832794,0.4009484350681305,0.4007760286331177,0.4005037546157837,0.40023061633110046,0.3998557925224304,0.401700496673584,0.40199899673461914,0.4020153880119324,0.4019376337528229,0.40195712447166443,0.4018815755844116,0.4017096161842346,0.40143993496894836,0.4011693596839905,0.40089792013168335,0.4006255567073822,0.399854838848114,0.40263649821281433,0.4026496708393097,0.40257027745246887,0.40258654952049255,0.4025093615055084,0.4023374021053314,0.4020693600177765,0.40180039405822754,0.40153056383132935,0.4012598395347595,0.4004988372325897,0.4032739996910095,0.4032839238643646,0.40320292115211487,0.4032159447669983,0.4031371474266052,0.40287116169929504,0.4026987552642822,0.4024314284324646,0.40216320753097534,0.401798278093338,0.40114280581474304,0.4039115011692047,0.40391820669174194,0.40383556485176086,0.4038453698158264,0.4036729633808136,0.4035005569458008,0.40332818031311035,0.40306246280670166,0.40279585123062134,0.40243417024612427,0.40178677439689636,0.4045490026473999,0.4045524597167969,0.40446820855140686,0.40447476506233215,0.4043023884296417,0.4041299819946289,0.4039575755596161,0.4036934971809387,0.40342849493026733,0.4030700623989105,0.4024307429790497,0.4051865041255951,0.4051867425441742,0.40510085225105286,0.4051041901111603,0.40493178367614746,0.40475937724113464,0.4045870006084442,0.4043245315551758,0.40406113862991333,0.4037059247493744,0.403074711561203,0.4058240056037903,0.4058209955692291,0.40573349595069885,0.4057336151599884,0.4055612087249756,0.40538880228996277,0.40521639585494995,0.40495553612709045,0.4046938121318817,0.40434181690216064,0.40618425607681274,0.4065104126930237,0.40642049908638,0.40633150935173035,0.4063285291194916,0.40615612268447876,0.40598374605178833,0.4057248532772064,0.4055519998073578,0.4052917957305908,0.4049428701400757,0.4068763554096222,0.4071114659309387,0.4071027636528015,0.4070126712322235,0.40692347288131714,0.4067510664463043,0.4065786600112915,0.40632131695747375,0.4060630798339844,0.40580394864082336,0.4053713381290436,0.4075653851032257,0.40771251916885376,0.407700777053833,0.40760913491249084,0.4075183868408203,0.4073460102081299,0.40709060430526733,0.4069177806377411,0.4066610634326935,0.40640345215797424,0.40589070320129395,0.4082513451576233,0.4083928167819977,0.4082987606525421,0.4082055985927582,0.40803274512290955,0.4078599214553833,0.40768706798553467,0.4075142443180084,0.4072590470314026,0.4070029854774475,0.40641310811042786,0.40893423557281494,0.40899232029914856,0.4088967442512512,0.4088020622730255,0.4086292088031769,0.40845638513565063,0.408283531665802,0.40811070799827576,0.4078570306301117,0.40752124786376953,0.40685686469078064,0.40957337617874146,0.4096266031265259,0.4095293879508972,0.4094330966472626,0.40926024317741394,0.4090874195098877,0.40891456604003906,0.40874171257019043,0.4084896743297577,0.4081571400165558,0.4075024724006653,0.41025158762931824,0.41022610664367676,0.4101274013519287,0.4100295603275299,0.4098567068576813,0.40968388319015503,0.4095110297203064,0.40926095843315125,0.4090876877307892,0.40875816345214844,0.4106680452823639,0.4109267592430115,0.4108986556529999,0.4107988476753235,0.41062602400779724,0.4104531705379486,0.41028034687042236,0.41010749340057373,0.40985894203186035,0.40960952639579773,0.4092060625553131,0.4113488793373108,0.4115278124809265,0.41149666905403137,0.4113953113555908,0.4112224876880646,0.41104963421821594,0.4108767807483673,0.41070395708084106,0.41045695543289185,0.410209059715271,0.4098101854324341,0.41202667355537415,0.41212886571884155,0.4120946526527405,0.41199177503585815,0.4118189513683319,0.4116460978984833,0.41147324442863464,0.4113004207611084,0.41105493903160095,0.4108085632324219,0.4103407561779022,0.41270139813423157,0.4127979278564453,0.4126926362514496,0.4125882387161255,0.412484735250473,0.4123123288154602,0.412069708108902,0.4118262231349945,0.41165292263031006,0.4113365411758423,0.4108743965625763,0.41337308287620544,0.4133974313735962,0.4132906198501587,0.4131847023963928,0.4130796790122986,0.41290727257728577,0.4126661717891693,0.4124242067337036,0.41225090622901917,0.4119375944137573,0.4114815592765808,0.41394779086112976,0.4140317142009735,0.4139232635498047,0.4138157367706299,0.4137090742588043,0.4135366678237915,0.41329720616340637,0.4131243824958801,0.41288357973098755,0.4125734865665436,0.41219276189804077,0.4145885109901428,0.41466596722602844,0.41455593705177307,0.41444677114486694,0.41433849930763245,0.41416609287261963,0.41392824053764343,0.4137553870677948,0.41351622343063354,0.41320937871932983,0.4128335118293762,0.41516807675361633,0.415238618850708,0.41518858075141907,0.415077805519104,0.4149678945541382,0.41479548811912537,0.41462311148643494,0.41438642144203186,0.41414886713027954,0.4139104187488556,0.413539856672287,0.4157620668411255,0.4158843457698822,0.41583025455474854,0.41577795147895813,0.41566628217697144,0.4154938757419586,0.4153214693069458,0.4150865972042084,0.4148508310317993,0.41461417078971863,0.4143766164779663,0.41394543647766113,0.41641759872436523,0.4164755642414093,0.41641920804977417,0.416305273771286,0.4161922335624695,0.41601985692977905,0.41584745049476624,0.41561391949653625,0.41537949442863464,0.4151442050933838,0.4148455560207367,0.41435641050338745,0.4171244204044342,0.41706404089927673,0.4170054495334625,0.41689062118530273,0.4167182147502899,0.4165458083152771,0.41631409525871277,0.4160814583301544,0.41590818762779236,0.41567423939704895,0.415317177772522,0.41764751076698303,0.417692095041275,0.41768449544906616,0.41756734251976013,0.41745108366012573,0.4172786772251129,0.4171062707901001,0.4168759882450104,0.41664478182792664,0.41641274094581604,0.4161797761917114,0.4157669246196747,0.41834598779678345,0.418332576751709,0.4182131886482239,0.418094664812088,0.4179770350456238,0.41780462861061096,0.41763225197792053,0.41740331053733826,0.41717347502708435,0.4169427454471588,0.41665327548980713,0.41888391971588135,0.4189670979976654,0.4188973605632782,0.41882941126823425,0.4186565577983856,0.4185374975204468,0.41836509108543396,0.4181380271911621,0.417910099029541,0.41773679852485657,0.417507529258728,0.41716450452804565,0.4194736182689667,0.41955047845840454,0.41947847604751587,0.41935673356056213,0.41923585534095764,0.4190634787082672,0.4188382029533386,0.41866534948349,0.41843876242637634,0.41821128129959106,0.41798293590545654,0.4174782633781433,0.420158326625824,0.4201311469078064,0.4200071692466736,0.41988405585289,0.4197618365287781,0.41953837871551514,0.4193655252456665,0.4191407263278961,0.41896745562553406,0.4187413156032562,0.41840773820877075,0.420738160610199,0.42075255513191223,0.42067447304725647,0.420501172542572,0.42037680745124817,0.42020395398139954,0.4200311303138733,0.419808030128479,0.41963475942611694,0.4194103181362152,0.4191334545612335,0.42132481932640076,0.421331524848938,0.4212954342365265,0.4211684763431549,0.42104241251945496,0.4208695590496063,0.4206967353820801,0.4204753339290619,0.42030206322669983,0.4200793504714966,0.4198557436466217,0.41937968134880066,0.4219706356525421,0.42188501358032227,0.4218011200428009,0.421673446893692,0.4215005934238434,0.42132776975631714,0.4211079776287079,0.4209347069263458,0.4207136034965515,0.42049163579940796,0.4200252890586853,0.42253202199935913,0.42244288325309753,0.4223991334438324,0.42226991057395935,0.4220970571041107,0.42187926173210144,0.4217059910297394,0.42153269052505493,0.4213131368160248,0.4210459589958191,0.4231258034706116,0.42307382822036743,0.4230245053768158,0.42289313673973083,0.4227626621723175,0.4225465655326843,0.42237329483032227,0.4221999943256378,0.42198213934898376,0.4217633903026581,0.42373037338256836,0.4236730933189392,0.42361849546432495,0.42352578043937683,0.42335250973701477,0.4231792092323303,0.42300593852996826,0.42279013991355896,0.4226164221763611,0.42235589027404785,0.4243405759334564,0.4242404103279114,0.4241807758808136,0.4241237938404083,0.4239504933357239,0.4237772226333618,0.42360392212867737,0.42338964343070984,0.42321592569351196,0.42291659116744995,0.42488133907318115,0.4247790575027466,0.4247160851955414,0.42461779713630676,0.4244445264339447,0.4242323935031891,0.4240586757659912,0.42388492822647095,0.4235907196998596,0.4254903197288513,0.42538437247276306,0.42531606554985046,0.42521411180496216,0.4250403940677643,0.4248666763305664,0.42469292879104614,0.4244810938835144,0.42419129610061646,0.4260298013687134,0.42595523595809937,0.4258488118648529,0.4256742000579834,0.4255349934101105,0.4253966808319092,0.4251866638660431,0.42493897676467896,0.42664003372192383,0.42652830481529236,0.42638537287712097,0.4262433350086212,0.4261021614074707,0.4259275496006012,0.4257529377937317,0.4254726469516754,0.42706918716430664,0.426955908536911,0.4267804026603699,0.42663735151290894,0.4264622926712036,0.42625391483306885,0.42768365144729614,0.4275367558002472,0.4273907542228699,0.4272456467151642,0.42707014083862305,0.4268312156200409,0.428117036819458,0.4279690682888031,0.4278219938278198,0.42761629819869995,0.42855045199394226,0.4283736050128937,0.4290192127227783],\"y\":[0.1302182674407959,0.1339268684387207,0.1296071857213974,0.13250459730625153,0.135721355676651,0.12705636024475098,0.12996651232242584,0.1330137997865677,0.1362224817276001,0.13980241119861603,0.12758344411849976,0.1303190290927887,0.13334845006465912,0.136720210313797,0.14029546082019806,0.12518760561943054,0.12795041501522064,0.13082949817180634,0.13402201235294342,0.1372145265340805,0.1407850980758667,0.12249452620744705,0.12556904554367065,0.12846896052360535,0.13133656978607178,0.1345209926366806,0.13770543038845062,0.14127133786678314,0.1205950379371643,0.12367431074380875,0.1265837699174881,0.1294608861207962,0.13264530897140503,0.1356518417596817,0.13901416957378387,0.14258672297000885,0.11984952539205551,0.12292223423719406,0.1258266717195511,0.12885896861553192,0.13187509775161743,0.1350514441728592,0.13822779059410095,0.14159667491912842,0.11744102090597153,0.12039053440093994,0.12345346808433533,0.1263463944196701,0.12936890125274658,0.13254526257514954,0.13554352521896362,0.13889794051647186,0.14226853847503662,0.116831474006176,0.11964790523052216,0.12270427495241165,0.12574449181556702,0.12876851856708527,0.13177640736103058,0.13494466245174408,0.13811293244361877,0.14166662096977234,0.14585502445697784,0.11725233495235443,0.12018532305955887,0.1232319101691246,0.1262623369693756,0.1292765885591507,0.1324448436498642,0.1356131136417389,0.1387813687324524,0.14233846962451935,0.14633290469646454,0.11664583534002304,0.1194455698132515,0.12263000011444092,0.1256619393825531,0.12867772579193115,0.13184599578380585,0.13501425087451935,0.13818252086639404,0.1415436714887619,0.14532293379306793,0.11552269011735916,0.11833994090557098,0.12139119952917099,0.12442628294229507,0.12744522094726562,0.13061347603797913,0.13378173112869263,0.13695000112056732,0.14011825621128082,0.14368218183517456,0.1478961706161499,0.11594778299331665,0.11887862533330917,0.12192009389400482,0.12494540214538574,0.12811365723609924,0.13111472129821777,0.1342748999595642,0.13761845231056213,0.14078670740127563,0.14435404539108276,0.11390411853790283,0.1164945438504219,0.11941389739513397,0.12244558334350586,0.12561383843421936,0.12862128019332886,0.1317814588546753,0.13494163751602173,0.13828688859939575,0.14145515859127045,0.14522713422775269,0.11381912231445312,0.11640102416276932,0.11944878101348877,0.1224803775548935,0.125648632645607,0.12865598499774933,0.13181616365909576,0.1349763423204422,0.1383216828107834,0.14148995280265808,0.14506086707115173,0.1137339398264885,0.11643598973751068,0.11948366463184357,0.12251516431570053,0.12553051114082336,0.1286906898021698,0.13185086846351624,0.13501104712486267,0.1381712257862091,0.14152474701404572,0.1450958400964737,0.14932774007320404,0.11519718915224075,0.11824800074100494,0.121282659471035,0.12430114299058914,0.12746132910251617,0.13062149286270142,0.13378167152404785,0.13694186508655548,0.140292227268219,0.14365875720977783,0.147454172372818,0.11420316249132156,0.11701234430074692,0.12005013972520828,0.12321840971708298,0.12623195350170135,0.1293921321630478,0.13255231082439423,0.13571248948574066,0.1388726681470871,0.14222797751426697,0.14580266177654266,0.11267083883285522,0.11526712775230408,0.11831776797771454,0.12135224044322968,0.12437054514884949,0.12753072381019592,0.13052478432655334,0.13367688655853271,0.13701127469539642,0.14017145335674286,0.14353007078170776,0.14752447605133057,0.1137542873620987,0.1164468377828598,0.11948607861995697,0.12265433371067047,0.12566933035850525,0.1286681443452835,0.13182023167610168,0.13497233390808105,0.138310045003891,0.14166390895843506,0.14503394067287445,0.149259552359581,0.11482445150613785,0.11775226145982742,0.12078817188739777,0.12380792200565338,0.12696810066699982,0.12996359169483185,0.13311569392681122,0.1362677961587906,0.13960881531238556,0.14296600222587585,0.1465444564819336,0.11277707666158676,0.11537203937768936,0.11842241138219833,0.12145661562681198,0.1244746595621109,0.1274765282869339,0.13062863051891327,0.13378073275089264,0.13693282008171082,0.14027555286884308,0.14363445341587067,0.14742310345172882,0.11333786696195602,0.11591621488332748,0.11909256130456924,0.1221250593662262,0.12514139711856842,0.12814156711101532,0.1312936693429947,0.13444575667381287,0.13759785890579224,0.1409423053264618,0.14430288970470428,0.14830517768859863,0.11325350403785706,0.11595109850168228,0.11899159103631973,0.12215985357761383,0.1251761019229889,0.12817618250846863,0.131328284740448,0.13430412113666534,0.13763247430324554,0.14097701013088226,0.14433768391609192,0.14834032952785492,0.11328873783349991,0.11598597466945648,0.11902638524770737,0.12219464778900146,0.12521080672740936,0.12821079790592194,0.13119462132453918,0.1343386471271515,0.13766708970069885,0.14101170003414154,0.14437247812747955,0.14816679060459137,0.11332397162914276,0.11602085828781128,0.119061179459095,0.1222294420003891,0.12524551153182983,0.12824541330337524,0.13122914731502533,0.13437317311763763,0.13770170509815216,0.141046404838562,0.1444072723388672,0.1482018530368805,0.11295414716005325,0.11554688960313797,0.11859681457281113,0.12163057923316956,0.12464817613363266,0.12764960527420044,0.1306348741054535,0.1337788999080658,0.1369229108095169,0.14044907689094543,0.14380840957164764,0.1473911702632904,0.15165220201015472,0.11494497209787369,0.11799643188714981,0.12103171646595001,0.12405084818601608,0.12705381214618683,0.13004060089588165,0.13318461179733276,0.13632863759994507,0.13966219127178192,0.1430119276046753,0.14658352732658386,0.15082885324954987,0.11446642130613327,0.1173960417509079,0.12043286114931107,0.12345351278781891,0.12645800411701202,0.12944632768630981,0.13259033858776093,0.13573434948921204,0.13906638324260712,0.14241459965705872,0.14598314464092255,0.15000855922698975,0.11410665512084961,0.11679565161466599,0.11983399838209152,0.12285618484020233,0.12586219608783722,0.12885203957557678,0.1319960653781891,0.1351400762796402,0.1384705901145935,0.14181725680828094,0.1451800912618637,0.14919131994247437,0.11362046748399734,0.11619526147842407,0.11923513561487198,0.12225884944200516,0.12526638805866241,0.12825776636600494,0.13140179216861725,0.13454580307006836,0.1378747820854187,0.14121992886066437,0.14458124339580536,0.14837713539600372,0.11417712271213531,0.11686541140079498,0.11990358680486679,0.12292558699846268,0.12593142688274384,0.12892109155654907,0.13206511735916138,0.1352091282606125,0.13853982090950012,0.1418866664171219,0.14524967968463898,0.14905069768428802,0.11473037302494049,0.11753556877374649,0.120572030544281,0.1235923320055008,0.12644042074680328,0.1295844316482544,0.1327284425497055,0.1358724683523178,0.13920484483242035,0.1425534039735794,0.1459181308746338,0.15014950931072235,0.11528021842241287,0.11807221174240112,0.12109889090061188,0.12410939484834671,0.1271037459373474,0.13024775683879852,0.13339176774024963,0.13653579354286194,0.13986988365650177,0.14322015643119812,0.14679281413555145,0.15104080736637115,0.11595378071069717,0.11874065548181534,0.1217656284570694,0.12477443367242813,0.12776707112789154,0.13091108202934265,0.13405510783195496,0.13719911873340607,0.1405349224805832,0.14388689398765564,0.1476709246635437,0.1144404411315918,0.11700493842363358,0.12004275619983673,0.12306440621614456,0.12591518461704254,0.12905919551849365,0.13220322132110596,0.13534723222255707,0.13867828249931335,0.14202548563480377,0.14538885653018951,0.14919093251228333,0.11551108956336975,0.1183103621006012,0.1212029978632927,0.12421324104070663,0.12720732390880585,0.13035133481025696,0.13349536061286926,0.13663937151432037,0.1399737298488617,0.14332427084445953,0.14689746499061584,0.1511467844247818,0.11605895310640335,0.11884503811597824,0.12186974287033081,0.12487827241420746,0.12787064909934998,0.1310146600008011,0.1341586858034134,0.1373026967048645,0.14063875377178192,0.14399100840091705,0.14756761491298676,0.1520417481660843,0.11673251539468765,0.11951348185539246,0.12253648042678833,0.12554331123828888,0.1285339742898941,0.1316780000925064,0.13482201099395752,0.13796602189540863,0.14130379259586334,0.14485958218574524,0.1484476923942566,0.1153494268655777,0.11777973175048828,0.12067507207393646,0.12368666380643845,0.1266821026802063,0.1298261135816574,0.13297012448310852,0.13611415028572083,0.1394471526145935,0.1427963376045227,0.14616167545318604,0.15039615333080292,0.1168026328086853,0.11958306282758713,0.12260588258504868,0.1256125420331955,0.1286030262708664,0.13157735764980316,0.1348910629749298,0.13803507387638092,0.14137302339076996,0.14492915570735931,0.1485176384449005,0.11593909561634064,0.11848476529121399,0.12137652188539505,0.12438631802797318,0.12737995386123657,0.13035741448402405,0.1336679905653,0.1368120014667511,0.14014680683612823,0.1434977799654007,0.14707186818122864,0.11545566469430923,0.11801706999540329,0.12091995775699615,0.12393936514854431,0.12678568065166473,0.12976466119289398,0.13290059566497803,0.13621772825717926,0.13955099880695343,0.14290045201778412,0.14626605808734894,0.15071538090705872,0.11805204302072525,0.12095474451780319,0.12397406995296478,0.12682020664215088,0.12979911267757416,0.132935032248497,0.1362522542476654,0.13958561420440674,0.1429351568222046,0.14630085229873657,0.15075071156024933,0.11808700859546661,0.12098953872919083,0.12400877475738525,0.12685473263263702,0.12983354926109314,0.13314275443553925,0.13628678023815155,0.13962022960186005,0.14296986162662506,0.14654123783111572,0.15078602731227875,0.11812198162078857,0.12102433294057846,0.12404347956180573,0.12688925862312317,0.13003326952457428,0.1331772804260254,0.1363213062286377,0.13965484499931335,0.14300456643104553,0.14657612144947052,0.15082135796546936,0.11815694719552994,0.1210591271519661,0.1240781843662262,0.12692378461360931,0.13006779551506042,0.13321180641651154,0.13635583221912384,0.13968946039676666,0.1430392563343048,0.14661100506782532,0.15085668861865997,0.1181919202208519,0.12109392136335373,0.12411288917064667,0.12695831060409546,0.13010232150554657,0.13324633240699768,0.13639035820960999,0.13972407579421997,0.14307396113872528,0.14664588868618011,0.1508920043706894,0.11822689324617386,0.12112870812416077,0.12414759397506714,0.1269928365945816,0.13013684749603271,0.13328085839748383,0.13642488420009613,0.13975869119167328,0.14310866594314575,0.1466807723045349,0.11634853482246399,0.11876381933689117,0.12179715186357498,0.12481433153152466,0.12765616178512573,0.13080017268657684,0.13394419848918915,0.13727162778377533,0.1404237300157547,0.14377541840076447,0.14735090732574463,0.11690036952495575,0.11943396925926208,0.12232089042663574,0.12532827258110046,0.12831950187683105,0.13146349787712097,0.13460752367973328,0.13793666660785675,0.14128196239471436,0.14464344084262848,0.14843980967998505,0.11744878441095352,0.120104119181633,0.12298762798309326,0.12599331140518188,0.128982812166214,0.1321268379688263,0.1354495882987976,0.13860169053077698,0.14194871485233307,0.1453118771314621,0.1493244469165802,0.1179938018321991,0.12063422799110413,0.12365436553955078,0.1266583353281021,0.12981043756008148,0.13296252489089966,0.13611462712287903,0.1392667293548584,0.1426154524087906,0.1459803283214569,0.15021249651908875,0.11853539943695068,0.12130267173051834,0.1243211105465889,0.12732337415218353,0.1304754763841629,0.13362756371498108,0.13677966594696045,0.13993176817893982,0.1432821899652481,0.1468551754951477,0.15131844580173492,0.11857046186923981,0.12133746594190598,0.12435581535100937,0.12735798954963684,0.1305100917816162,0.1336621791124344,0.13681428134441376,0.13996638357639313,0.14331689476966858,0.1468900591135025,0.1513538509607315,0.11910856515169144,0.12200590968132019,0.12502256035804749,0.12802302837371826,0.13117511570453644,0.1343272179365158,0.13747932016849518,0.14082345366477966,0.1439836323261261,0.1475602090358734,0.11724139750003815,0.11964325606822968,0.12252911180257797,0.1255359649658203,0.12868806719779968,0.13184015452861786,0.13499225676059723,0.1381443589925766,0.14149019122123718,0.1448521912097931,0.1486501693725586,0.11779099702835083,0.12031340599060059,0.12319584935903549,0.12620098888874054,0.1293530911207199,0.13250519335269928,0.13565728068351746,0.13880938291549683,0.1421569287776947,0.1455206423997879,0.1493237316608429,0.11833717674016953,0.1209835559129715,0.12386259436607361,0.12686602771282196,0.13001812994480133,0.1331702172756195,0.13632231950759888,0.13947442173957825,0.14282366633415222,0.14618907868862152,0.15021060407161713,0.11887995153665543,0.12151142954826355,0.12452933192253113,0.12753106653690338,0.1305166333913803,0.13366064429283142,0.1369873583316803,0.1403302252292633,0.14349041879177094,0.1470644623041153,0.15110088884830475,0.11941931396722794,0.12217987328767776,0.12519606947898865,0.1281961053609848,0.13117995858192444,0.13432398438453674,0.13765239715576172,0.14099696278572083,0.14415715634822845,0.1477346122264862,0.15177786350250244,0.11959036439657211,0.1222146674990654,0.12523077428340912,0.1282307207584381,0.13121448457241058,0.1343585103750229,0.13768699765205383,0.1408390998840332,0.14419186115264893,0.147769495844841,0.1515962779521942,0.1196255162358284,0.12224945425987244,0.1252654790878296,0.12826533615589142,0.13124901056289673,0.13439303636550903,0.13772161304950714,0.1408737152814865,0.1442265659570694,0.1478043645620346,0.1516314297914505,0.11979682743549347,0.12242849916219711,0.12530018389225006,0.12829995155334473,0.13128353655338287,0.13442756235599518,0.1375715732574463,0.14090833067893982,0.14426127076148987,0.14763034880161285,0.15144957602024078,0.11881464719772339,0.12133394926786423,0.12421999871730804,0.1270737200975418,0.13006046414375305,0.13320447504520416,0.13634848594665527,0.1396821141242981,0.14303189516067505,0.14639782905578613,0.14977993071079254,0.15384401381015778,0.12050903588533401,0.12313353270292282,0.12600162625312805,0.12899959087371826,0.13198140263557434,0.13512541353702545,0.13826942443847656,0.14160798490047455,0.14496271312236786,0.1483335942029953,0.15193942189216614,0.15625818073749542,0.1220407783985138,0.1249232366681099,0.12777337431907654,0.13075831532478333,0.13390232622623444,0.13704635202884674,0.14038175344467163,0.14373333752155304,0.14689351618289948,0.15026932954788208,0.15410876274108887,0.12071765214204788,0.12334951758384705,0.126071035861969,0.12906882166862488,0.13205045461654663,0.13519446551799774,0.13833847641944885,0.14167721569538116,0.1450321227312088,0.14840316772460938,0.15179039537906647,0.15587492287158966,0.12225379049777985,0.12499282509088516,0.1280018538236618,0.13099469244480133,0.13397137820720673,0.13711540400981903,0.14025941491127014,0.14360308647155762,0.14696292579174042,0.15033891797065735,0.15395498275756836,0.1209266185760498,0.12341945618391037,0.12629492580890656,0.1291380524635315,0.13229015469551086,0.13526351749897003,0.13840752840042114,0.14174644649028778,0.14510151743888855,0.14826169610023499,0.15164101123809814,0.1554909497499466,0.12275367975234985,0.12521374225616455,0.12807124853134155,0.13106392323970795,0.13404043018817902,0.13718445599079132,0.14052021503448486,0.14367231726646423,0.14703233540058136,0.15040850639343262,0.1538008451461792,0.15837015211582184,0.12427447736263275,0.1269981563091278,0.13000206649303436,0.1329897940158844,0.1359613686800003,0.13929399847984314,0.14244608581066132,0.14580295979976654,0.14896315336227417,0.1523442566394806,0.15619955956935883,0.12396436929702759,0.12655404210090637,0.12940473854541779,0.13256490230560303,0.13554608821868896,0.13869819045066833,0.1418502777814865,0.14520563185214996,0.1483658105134964,0.15174539387226105,0.1553686410188675,0.12364814430475235,0.12626010179519653,0.12896870076656342,0.13196757435798645,0.13495028018951416,0.13810238242149353,0.1412544846534729,0.1446083039045334,0.14776848256587982,0.1511465311050415,0.1545407474040985,0.15912136435508728,0.12629516422748566,0.1291648894548416,0.13200227916240692,0.13498489558696747,0.13813699781894684,0.1412891000509262,0.14464300870895386,0.1478031873703003,0.15118132531642914,0.1545756310224533,0.15915678441524506,0.12712374329566956,0.1299981325864792,0.13266901671886444,0.1356499344110489,0.13880203664302826,0.14214956760406494,0.14530974626541138,0.1484699249267578,0.15184977650642395,0.15547354519367218,0.1268257349729538,0.1295577883720398,0.13224133849143982,0.1352318674325943,0.13820622861385345,0.14155222475528717,0.1447124183177948,0.14787259697914124,0.1512509137392044,0.1546453982591629,0.1270146369934082,0.12975451350212097,0.13244587182998657,0.13526657223701477,0.1384267508983612,0.14158692955970764,0.14474712312221527,0.14811745285987854,0.15128570795059204,0.15490660071372986,0.1276950240135193,0.13059313595294952,0.1332874596118927,0.1359333097934723,0.13909348845481873,0.14225366711616516,0.1454138606786728,0.14878588914871216,0.15195414423942566,0.15580646693706512,0.13014847040176392,0.1330253779888153,0.13569197058677673,0.13849616050720215,0.14165633916854858,0.1450187712907791,0.14818702638149261,0.15135528147220612,0.15520302951335907,0.13034571707248688,0.1332305371761322,0.1359049528837204,0.13871702551841736,0.14188529551029205,0.14505356550216675,0.14822182059288025,0.15160857141017914,0.15546467900276184,0.13231602311134338,0.1350160390138626,0.1378505825996399,0.14103500545024872,0.1440202295780182,0.14698930084705353,0.1503729224205017,0.15399613976478577,0.13299641013145447,0.13586795330047607,0.13889189064502716,0.14189967513084412,0.14489127695560455,0.14807571470737457,0.1512601375579834,0.15511998534202576,0.1373666375875473,0.14020727574825287,0.1434078812599182,0.1464042365550995,0.14959675073623657,0.15300963819026947,0.13758201897144318,0.1406187117099762,0.14363925158977509,0.14664360880851746,0.1498442143201828,0.1534857451915741,0.1414872258901596,0.14451414346694946,0.147524893283844,0.1509476602077484,0.14539246261119843,0.14861729741096497,0.14865271747112274],\"z\":[-0.0019121811492368579,-0.0008615690167061985,-0.0019220361718907952,0.00011717805318767205,0.00016131608572322875,-0.001958506880328059,8.088943286566064e-05,0.0011224645422771573,0.0011664917692542076,-0.0007838821038603783,-0.0009530085371807218,0.002083765808492899,0.003125099465250969,0.0021715983748435974,0.00022115306637715548,-0.0019870889373123646,0.0010500699281692505,0.0030890845227986574,0.0031328897457569838,0.0031766952015459538,0.0012261783704161644,-0.0010257679969072342,1.6161870007636026e-05,0.0020554696675390005,0.004094333853572607,0.004138028249144554,0.004181722644716501,0.002231134567409754,-0.0010532980086281896,-1.129908469010843e-05,0.0020281467586755753,0.0040671490132808685,0.004110843408852816,0.005151873920112848,0.00419823219999671,0.0022477279417216778,-6.524286436615512e-05,0.0009766994044184685,0.0030160837341099977,0.004057441838085651,0.005098607856780291,0.0051421914249658585,0.005185774993151426,0.00423221942037344,-0.0010995081393048167,0.0009405020973645151,0.0019822840113192797,0.0040215179324150085,0.00506277522072196,0.005106358788907528,0.006147253327071667,0.005193525925278664,0.004239989910274744,-0.0011093384819105268,0.0019286113092675805,0.002970336936414242,0.004011810757219791,0.00505309272557497,0.006094122771173716,0.006137595511972904,0.006181068252772093,0.004230282735079527,-0.0007110981387086213,0.0008945235749706626,0.0029343217611312866,0.0039758868515491486,0.00501726008951664,0.006058381404727697,0.006101854145526886,0.006145326886326075,0.006188799161463976,0.004238053224980831,0.000293754565063864,0.0008847425342537463,0.003922485280781984,0.003966179676353931,0.00500757759436965,0.006048723589628935,0.0060921963304281235,0.006135668605566025,0.006179141346365213,0.005225494969636202,0.0022779947612434626,-0.00013192679034546018,0.00290609709918499,0.003947733901441097,0.004989177919924259,0.006030370946973562,0.006073843687772751,0.0061173164285719395,0.006160788703709841,0.006204261444509029,0.004253594670444727,-0.0006874905666336417,0.0018720190273597836,0.003911809995770454,0.004953345283865929,0.005994629580527544,0.006038102321326733,0.007079053670167923,0.007122415117919445,0.006168520078063011,0.0062119928188622,0.004261365160346031,-0.0021566147916018963,0.0028778724372386932,0.004917512647807598,0.005958888214081526,0.006002360954880714,0.00704340310767293,0.007086765021085739,0.0071301269344985485,0.0061762514524161816,0.006219723727554083,0.003272120375186205,-0.001159470877610147,0.0038749175146222115,0.004916546866297722,0.005957924760878086,0.006001397501677275,0.007042442448437214,0.007085803896188736,0.007129165809601545,0.006175287999212742,0.0062187607400119305,0.004268167540431023,-0.00016232211783062667,0.0038739494048058987,0.004915581084787846,0.005956961307674646,0.006998119875788689,0.007041481323540211,0.00708484323695302,0.007128204684704542,0.0071715665981173515,0.006217797286808491,0.0042671989649534225,-0.000673713511787355,0.003855503164231777,0.004897181876003742,0.005938609130680561,0.006979814264923334,0.007023175712674856,0.0070665376260876656,0.007109899073839188,0.007153260987251997,0.006199444644153118,0.005245849955826998,0.0022985052783042192,0.0018408031901344657,0.004878782667219639,0.0059202564880251884,0.005963729228824377,0.007004870101809502,0.007048232015222311,0.007091593462973833,0.0071349553763866425,0.007178317289799452,0.006224564742296934,0.004274001345038414,-0.0011810929281637073,0.003853566711768508,0.00489525031298399,0.005936682224273682,0.006977892480790615,0.007021253928542137,0.00806216150522232,0.008105412125587463,0.007151339203119278,0.0071947006508708,0.006240990478545427,0.002296558814123273,0.000831934274174273,0.004868134390562773,0.005909635219722986,0.005953107960522175,0.006994275841861963,0.008035251870751381,0.008078503422439098,0.008121754042804241,0.0071677230298519135,0.006213943473994732,0.005260386038571596,0.0003192835138179362,0.0028447937220335007,0.004884601570665836,0.005926060955971479,0.006967298220843077,0.007010659668594599,0.008051593787968159,0.008094844408333302,0.008138095960021019,0.007184106856584549,0.006230369210243225,0.004279835615307093,-0.001184034743346274,0.0038506616838276386,0.004892352502793074,0.0059337918646633625,0.006975009571760893,0.008016034960746765,0.008059285581111908,0.00810253620147705,0.008145787753164768,0.007191818207502365,0.006238100118935108,0.003290637396275997,-0.00017799668421503156,0.004856519866734743,0.004900103434920311,0.005941523239016533,0.006982720922678709,0.008023726753890514,0.008066977374255657,0.0081102279946208,0.008153478614985943,0.007199529558420181,0.006245831493288279,0.002301448956131935,0.0008192261448130012,0.004855554085224867,0.005897087045013905,0.005940559785813093,0.006981759797781706,0.008022768422961235,0.008066019043326378,0.009106664918363094,0.008152520284056664,0.007198568433523178,0.006244868040084839,0.002300475724041462,0.0008182504680007696,0.004854588303714991,0.005896123591810465,0.0059395963326096535,0.00698079913854599,0.008021809160709381,0.0090625686571002,0.009105708450078964,0.008151561953127384,0.007197607774287462,0.006243904586881399,0.0032964861020445824,0.0008172747911885381,0.004853622522205114,0.005895160138607025,0.005938632879406214,0.006979838013648987,0.008020850829780102,0.009061613120138645,0.009104752913117409,0.008150603622198105,0.007196646649390459,0.0062429411336779594,0.0032955154310911894,-0.001188937691040337,0.0038458202034235,0.004887523595243692,0.005928975064307451,0.006970204878598452,0.008011242374777794,0.009052028879523277,0.00909516867250204,0.009138308465480804,0.007187013514339924,0.006233283318579197,0.004282764624804258,-0.0006579507025890052,0.003836113028228283,0.004877840634435415,0.005919317249208689,0.006960571743547916,0.008001633919775486,0.00904244463890791,0.009085584431886673,0.009128724224865437,0.008174637332558632,0.007220741827040911,0.005270092282444239,0.00032911362359300256,0.002828266704455018,0.0048681581392884254,0.005909658968448639,0.006950938142836094,0.007992025464773178,0.009032860398292542,0.009076000191271305,0.009119140915572643,0.008165028877556324,0.0072111086919903755,0.005260409787297249,0.001316256821155548,0.0008221774478442967,0.004858475644141436,0.005900001153349876,0.006941305007785559,0.00798241700977087,0.009023277088999748,0.009066416881978512,0.009109556674957275,0.008155419491231441,0.00720147555693984,0.006247782148420811,0.0023034196346998215,-0.00018582178745418787,0.004848793148994446,0.005890343338251114,0.0069316718727350235,0.007972807623445988,0.00901369284838438,0.009056832641363144,0.009099972434341908,0.008145811036229134,0.007191841956228018,0.006238124333322048,0.003290661610662937,0.0008202260942198336,0.004856544081121683,0.005898074246942997,0.00693938322365284,0.007980499416589737,0.009021365083754063,0.009064504876732826,0.00910764466971159,0.008153502829372883,0.007199553307145834,0.006245855242013931,0.0032984516583383083,0.00182620482519269,0.0048642950132489204,0.005905805621296167,0.006947094574570656,0.008985896594822407,0.00902903638780117,0.009072176180779934,0.009115316905081272,0.008161194622516632,0.00720726465806365,0.006253586616367102,0.001312354113906622,0.0028321738354861736,0.005870064254850149,0.006911444012075663,0.007952632382512093,0.008993568830192089,0.009036708623170853,0.009079848416149616,0.00912298820912838,0.008168886415660381,0.007214976474642754,0.005264297593384981,0.00032324480707757175,0.0028399641159921885,0.005877795163542032,0.006919155828654766,0.007960324175655842,0.009001241065561771,0.009044380858540535,0.009087520651519299,0.009130660444498062,0.00817657820880413,0.00722268782556057,0.004275017883628607,-0.0001818848541006446,0.004852680489420891,0.0058942208997905254,0.006935539189726114,0.008974400348961353,0.009017540141940117,0.009060680866241455,0.009103820659220219,0.008149669505655766,0.007195709738880396,0.00624200189486146,0.0032945687416940928,0.0018310952000319958,0.004869148135185242,0.006908561568707228,0.00794975645840168,0.008990700356662273,0.009033840149641037,0.009076980873942375,0.009120120666921139,0.008166010491549969,0.007212093565613031,0.005261399783194065,0.0003203103842679411,0.002837051870301366,0.005874905269593,0.006916272919625044,0.00795744825154543,0.008998372592031956,0.00904151238501072,0.009084652177989483,0.009127791970968246,0.008173702284693718,0.0072198049165308475,0.005269150715321302,-0.0006687372224405408,0.0028448421508073807,0.0058826361782848835,0.00692398427054286,0.007965140044689178,0.009006044827401638,0.009049184620380402,0.009092324413359165,0.009135464206337929,0.008181394077837467,0.006230417173355818,0.004279883578419685,-0.0011751360725611448,0.004857534077018499,0.006897006183862686,0.007938231341540813,0.008979205042123795,0.009022344835102558,0.009065484628081322,0.009108624421060085,0.008154485374689102,0.00720053818076849,0.006246842909604311,0.0013055243762210011,0.002842900576069951,0.005880709271878004,0.006922062486410141,0.00796322338283062,0.009004132822155952,0.01004484947770834,0.00909041240811348,0.009133552201092243,0.008179477415978909,0.006228490266948938,0.0042779468931257725,-0.00017009851580951363,0.004864318761974573,0.0069037568755447865,0.007944964803755283,0.008985920809209347,0.01002668496221304,0.009072200395166874,0.009115340188145638,0.008161218836903572,0.00720728887245059,0.0052565704099833965,-0.0011780778877437115,0.00385654391720891,0.0058961715549230576,0.006937485188245773,0.008976336568593979,0.010017124935984612,0.010060153901576996,0.00910575594753027,0.00815160945057869,0.007197655737400055,0.006243952549993992,0.0003056139685213566,0.0038555755745619535,0.005895208101719618,0.00693652406334877,0.008975381031632423,0.01001617219299078,0.010059201158583164,0.009104800410568714,0.00815065111964941,0.007196694612503052,0.006242989096790552,0.0003046358178835362,0.003854607231914997,0.0058942451141774654,0.006935563404113054,0.008974424563348293,0.010015218518674374,0.00906070414930582,0.009103843942284584,0.008149692788720131,0.007195733487606049,0.005244956351816654,0.0003036576963495463,0.0038536391220986843,0.005893281660974026,0.006934602279216051,0.008973469026386738,0.009016608819365501,0.009059748612344265,0.009102888405323029,0.008148734457790852,0.007194772828370333,0.005243990570306778,0.00030267954571172595,0.003852670779451728,0.005892318207770586,0.006933641619980335,0.008972512558102608,0.009015652351081371,0.009058792144060135,0.009101931937038898,0.008147776126861572,0.0071938117034733295,0.005243024788796902,0.00030170142417773604,0.0038517024368047714,0.005891354754567146,0.006932680495083332,0.008971556089818478,0.009014696814119816,0.00905783660709858,0.009100976400077343,0.008146817795932293,0.007192851044237614,0.0052420590072870255,0.0003007232735399157,0.003850734094157815,0.005890391301363707,0.006931719370186329,0.008970600552856922,0.009013740345835686,0.00905688013881445,0.009100019931793213,0.008145859465003014,0.0071918899193406105,0.005241092760115862,-0.0011760921915993094,0.004856592044234276,0.005898122675716877,0.006939431186765432,0.008978272788226604,0.009021412581205368,0.009064552374184132,0.008110299706459045,0.008153550326824188,0.007199601270258427,0.005248843692243099,-0.00017007415590342134,0.004864342976361513,0.006903780624270439,0.007944988086819649,0.008985944092273712,0.009029083885252476,0.009072224609553814,0.008117991499602795,0.007163951173424721,0.006210161838680506,0.003262485144659877,0.0008359341882169247,0.0048720939084887505,0.006911491975188255,0.007952679879963398,0.008993616327643394,0.009036756120622158,0.008082432672381401,0.008125683292746544,0.007171662524342537,0.006217893213033676,0.0022732256911695004,0.0018418733961880207,0.005877843126654625,0.0069192033261060715,0.007960371673107147,0.00800362229347229,0.008046872913837433,0.00809012446552515,0.008133375085890293,0.007179373875260353,0.006225624121725559,0.0012840350391343236,0.0028478028252720833,0.005885574501007795,0.006926915142685175,0.007968063466250896,0.00801131408661604,0.008054564706981182,0.008097815327346325,0.008141066879034042,0.007187085226178169,0.005236263852566481,-0.000702126242686063,0.0028468321543186903,0.005884611047804356,0.006925954017788172,0.007967105135321617,0.00801035575568676,0.008053606376051903,0.008096856996417046,0.008140108548104763,0.007186124566942453,0.005235298071056604,-0.0007031068671494722,0.003852694761008024,0.005892341956496239,0.006933665368705988,0.007974796928465366,0.00801804754883051,0.008061298169195652,0.008104548789560795,0.00715047400444746,0.0071938359178602695,0.005243048537522554,-0.0011741066118702292,0.004858547821640968,0.006898015271872282,0.007939237169921398,0.007982488721609116,0.008025739341974258,0.008068989962339401,0.008112240582704544,0.007158185355365276,0.006204381585121155,0.0032566606532782316,-0.00016809350927360356,0.004866298753768206,0.006905726622790098,0.007946928963065147,0.00799017958343029,0.008033431135118008,0.00807668175548315,0.008119932375848293,0.0071658967062830925,0.006212112959474325,0.0032644509337842464,0.0008379098726436496,0.004874049685895443,0.006913437973707914,0.007954620756208897,0.00799787137657404,0.008041121996939182,0.0080843735486269,0.008127624168992043,0.007173608057200909,0.006219843868166208,0.0022751963697373867,0.001843844074755907,0.005879794247448444,0.0069211493246257305,0.007962312549352646,0.009003223851323128,0.009046363644301891,0.008092065341770649,0.007137957960367203,0.007181319873780012,0.005230468697845936,0.0012860108399763703,0.002849768614396453,0.0058875251561403275,0.006928860675543547,0.007970004342496395,0.00901089608669281,0.009054035879671574,0.008099756203591824,0.007145669311285019,0.007189031224697828,0.005238219629973173,0.0012938405852764845,0.0018506809137761593,0.005886561702936888,0.006927900016307831,0.007969046011567116,0.009009940549731255,0.009053080342710018,0.008098797872662544,0.008142049424350262,0.007188070099800825,0.00523725338280201,0.0022898430470377207,0.0018497076816856861,0.005885598249733448,0.006926938891410828,0.007968087680637836,0.009008984081447124,0.009052123874425888,0.008097839541733265,0.008141090162098408,0.007187109440565109,0.005236287601292133,0.0022888698149472475,0.0008506423328071833,0.0048866537399590015,0.0069259777665138245,0.007967128418385983,0.009008027613162994,0.009051168337464333,0.009094308130443096,0.008140131831169128,0.007186148315668106,0.006232415791600943,0.0032849095296114683,-0.0011642518220469356,0.0038701966404914856,0.005909755360335112,0.007948869839310646,0.008989815600216389,0.009032956324517727,0.00907609611749649,0.008121873252093792,0.0071678427048027515,0.006214063614606857,0.0052605061791837215,0.0013163541443645954,0.0008574964012950659,0.004893438890576363,0.006932728458195925,0.007973861880600452,0.009014744311571121,0.009057884104549885,0.009101023897528648,0.008146865293383598,0.007192899007350206,0.006239183712750673,0.004288694821298122,-0.0006519448943436146,0.003876999020576477,0.005916522815823555,0.007955603301525116,0.008996532298624516,0.009039672091603279,0.009082811884582043,0.008128606714308262,0.0071745929308235645,0.007217954844236374,0.006264303810894489,0.0033170415554195642,-0.00014256444410420954,0.0038935085758566856,0.006930806674063206,0.007971945218741894,0.009012832306325436,0.0090559720993042,0.009099111892282963,0.00814494863152504,0.0071909767575562,0.006237256806343794,0.0052837589755654335,0.0013398433802649379,0.0028770468197762966,0.005914596375077963,0.006955862510949373,0.0079969372600317,0.009037760086357594,0.009080899879336357,0.00912403967231512,0.008169940672814846,0.007216033060103655,0.00626237690448761,0.0043120067566633224,-0.0011426054406911135,0.0038915718905627728,0.005931021645665169,0.007970028556883335,0.008013279177248478,0.009054060094058514,0.009097199887037277,0.008143031038343906,0.007189054973423481,0.00723241688683629,0.006278802640736103,0.0033316512126475573,-0.00011901604011654854,0.004914759658277035,0.006953940726816654,0.007995019666850567,0.009035848081111908,0.009078987874090672,0.00812477245926857,0.008168023079633713,0.007214111275970936,0.006260450463742018,0.005307011306285858,-0.0006302985129877925,0.002900417661294341,0.0059377895668148994,0.006978996563702822,0.008020011708140373,0.009060775861144066,0.008106513880193233,0.008149764500558376,0.007195805665105581,0.007239167112857103,0.006285570561885834,0.003338470822200179,0.0008946937741711736,0.004930261522531509,0.0069693634286522865,0.007012725342065096,0.008053653873503208,0.008096905425190926,0.008140156045556068,0.007186172064393759,0.007229533977806568,0.006275912746787071,0.004325611051172018,-0.0011111286003142595,0.002924759406596422,0.005961946211755276,0.007003091741353273,0.0080440454185009,0.008087296038866043,0.00813054759055376,0.007176538929343224,0.007219900842756033,0.006266254466027021,0.005312830209732056,-0.0006243905518203974,0.0029237885028123856,0.004963196348398924,0.0070021310821175575,0.008043087087571621,0.008086337707936764,0.008129589259624481,0.00717557780444622,0.00721893971785903,0.006265291478484869,0.005311864428222179,-0.0006253711180761456,0.0019336715340614319,0.003973151091486216,0.007009842433035374,0.00805077888071537,0.008094029501080513,0.0071399277076125145,0.007183289621025324,0.007226651068776846,0.006273022387176752,0.004322706256061792,-7.19192175893113e-05,0.002965652383863926,0.006002528592944145,0.0070435707457363605,0.008084421046078205,0.007130294572561979,0.007173656020313501,0.007217017933726311,0.00626336457207799,0.005309932865202427,-0.0010708021000027657,0.001966858049854636,0.005003882572054863,0.007042610086500645,0.007085971534252167,0.007129333447664976,0.0071726953610777855,0.006218928378075361,0.00626240111887455,0.004312030505388975,-0.0010629328899085522,0.0009768939344212413,0.00401394022628665,0.007050321437418461,0.00709368335083127,0.007137044798582792,0.007180406711995602,0.006226659752428532,0.006270132027566433,0.0033229144755750895,-3.071559694944881e-05,0.0020088276360183954,0.005045534111559391,0.007084049750119448,0.007127411663532257,0.0061735291965305805,0.006217001937329769,0.0062604742124676704,0.003313182620331645,-0.0010294949170202017,0.001010164269246161,0.004046959336847067,0.006085620261728764,0.006129093002527952,0.006172565743327141,0.006216038484126329,0.005262486170977354,0.0023152681533247232,-0.0010039262706413865,0.002033231081441045,0.0040722074918448925,0.00411590188741684,0.005156919825822115,0.006197685841470957,0.005244086496531963,0.003293718909844756,-0.000996057060547173,0.0010434344876557589,0.002084957202896476,0.003126288065686822,0.004167367238551378,0.004211061634123325,0.0042547560296952724,0.0013075972674414515,6.247548299143091e-05,0.0021015505772083998,0.002145466860383749,0.003186644520610571,0.003230449976399541,0.002277215477079153,-0.0009360697004012764,0.00010563537944108248,0.001147148315794766,0.002188409911468625,0.0022323261946439743,0.0002821874222718179,-0.000883951666764915,0.0001576228823978454,0.0011990051716566086,0.0002458988456055522,-0.0008318335167132318,-0.0007875845185481012,-0.0007885651430115104],\"type\":\"mesh3d\"}],                        {\"updatemenus\":[{\"buttons\":[{\"args\":[null,{\"frame\":{\"duration\":50,\"redraw\":true},\"transition\":{\"duration\":0},\"fromcurrent\":true,\"mode\":\"immediate\"}],\"label\":\"Play\",\"method\":\"animate\"}],\"pad\":{\"r\":10,\"t\":45},\"showactive\":false,\"type\":\"buttons\",\"x\":0.8,\"xanchor\":\"left\",\"y\":1,\"yanchor\":\"bottom\"}],\"template\":{\"data\":{\"histogram2dcontour\":[{\"type\":\"histogram2dcontour\",\"colorbar\":{\"outlinewidth\":0,\"ticks\":\"\"},\"colorscale\":[[0.0,\"#0d0887\"],[0.1111111111111111,\"#46039f\"],[0.2222222222222222,\"#7201a8\"],[0.3333333333333333,\"#9c179e\"],[0.4444444444444444,\"#bd3786\"],[0.5555555555555556,\"#d8576b\"],[0.6666666666666666,\"#ed7953\"],[0.7777777777777778,\"#fb9f3a\"],[0.8888888888888888,\"#fdca26\"],[1.0,\"#f0f921\"]]}],\"choropleth\":[{\"type\":\"choropleth\",\"colorbar\":{\"outlinewidth\":0,\"ticks\":\"\"}}],\"histogram2d\":[{\"type\":\"histogram2d\",\"colorbar\":{\"outlinewidth\":0,\"ticks\":\"\"},\"colorscale\":[[0.0,\"#0d0887\"],[0.1111111111111111,\"#46039f\"],[0.2222222222222222,\"#7201a8\"],[0.3333333333333333,\"#9c179e\"],[0.4444444444444444,\"#bd3786\"],[0.5555555555555556,\"#d8576b\"],[0.6666666666666666,\"#ed7953\"],[0.7777777777777778,\"#fb9f3a\"],[0.8888888888888888,\"#fdca26\"],[1.0,\"#f0f921\"]]}],\"heatmap\":[{\"type\":\"heatmap\",\"colorbar\":{\"outlinewidth\":0,\"ticks\":\"\"},\"colorscale\":[[0.0,\"#0d0887\"],[0.1111111111111111,\"#46039f\"],[0.2222222222222222,\"#7201a8\"],[0.3333333333333333,\"#9c179e\"],[0.4444444444444444,\"#bd3786\"],[0.5555555555555556,\"#d8576b\"],[0.6666666666666666,\"#ed7953\"],[0.7777777777777778,\"#fb9f3a\"],[0.8888888888888888,\"#fdca26\"],[1.0,\"#f0f921\"]]}],\"heatmapgl\":[{\"type\":\"heatmapgl\",\"colorbar\":{\"outlinewidth\":0,\"ticks\":\"\"},\"colorscale\":[[0.0,\"#0d0887\"],[0.1111111111111111,\"#46039f\"],[0.2222222222222222,\"#7201a8\"],[0.3333333333333333,\"#9c179e\"],[0.4444444444444444,\"#bd3786\"],[0.5555555555555556,\"#d8576b\"],[0.6666666666666666,\"#ed7953\"],[0.7777777777777778,\"#fb9f3a\"],[0.8888888888888888,\"#fdca26\"],[1.0,\"#f0f921\"]]}],\"contourcarpet\":[{\"type\":\"contourcarpet\",\"colorbar\":{\"outlinewidth\":0,\"ticks\":\"\"}}],\"contour\":[{\"type\":\"contour\",\"colorbar\":{\"outlinewidth\":0,\"ticks\":\"\"},\"colorscale\":[[0.0,\"#0d0887\"],[0.1111111111111111,\"#46039f\"],[0.2222222222222222,\"#7201a8\"],[0.3333333333333333,\"#9c179e\"],[0.4444444444444444,\"#bd3786\"],[0.5555555555555556,\"#d8576b\"],[0.6666666666666666,\"#ed7953\"],[0.7777777777777778,\"#fb9f3a\"],[0.8888888888888888,\"#fdca26\"],[1.0,\"#f0f921\"]]}],\"surface\":[{\"type\":\"surface\",\"colorbar\":{\"outlinewidth\":0,\"ticks\":\"\"},\"colorscale\":[[0.0,\"#0d0887\"],[0.1111111111111111,\"#46039f\"],[0.2222222222222222,\"#7201a8\"],[0.3333333333333333,\"#9c179e\"],[0.4444444444444444,\"#bd3786\"],[0.5555555555555556,\"#d8576b\"],[0.6666666666666666,\"#ed7953\"],[0.7777777777777778,\"#fb9f3a\"],[0.8888888888888888,\"#fdca26\"],[1.0,\"#f0f921\"]]}],\"mesh3d\":[{\"type\":\"mesh3d\",\"colorbar\":{\"outlinewidth\":0,\"ticks\":\"\"}}],\"scatter\":[{\"fillpattern\":{\"fillmode\":\"overlay\",\"size\":10,\"solidity\":0.2},\"type\":\"scatter\"}],\"parcoords\":[{\"type\":\"parcoords\",\"line\":{\"colorbar\":{\"outlinewidth\":0,\"ticks\":\"\"}}}],\"scatterpolargl\":[{\"type\":\"scatterpolargl\",\"marker\":{\"colorbar\":{\"outlinewidth\":0,\"ticks\":\"\"}}}],\"bar\":[{\"error_x\":{\"color\":\"#2a3f5f\"},\"error_y\":{\"color\":\"#2a3f5f\"},\"marker\":{\"line\":{\"color\":\"#E5ECF6\",\"width\":0.5},\"pattern\":{\"fillmode\":\"overlay\",\"size\":10,\"solidity\":0.2}},\"type\":\"bar\"}],\"scattergeo\":[{\"type\":\"scattergeo\",\"marker\":{\"colorbar\":{\"outlinewidth\":0,\"ticks\":\"\"}}}],\"scatterpolar\":[{\"type\":\"scatterpolar\",\"marker\":{\"colorbar\":{\"outlinewidth\":0,\"ticks\":\"\"}}}],\"histogram\":[{\"marker\":{\"pattern\":{\"fillmode\":\"overlay\",\"size\":10,\"solidity\":0.2}},\"type\":\"histogram\"}],\"scattergl\":[{\"type\":\"scattergl\",\"marker\":{\"colorbar\":{\"outlinewidth\":0,\"ticks\":\"\"}}}],\"scatter3d\":[{\"type\":\"scatter3d\",\"line\":{\"colorbar\":{\"outlinewidth\":0,\"ticks\":\"\"}},\"marker\":{\"colorbar\":{\"outlinewidth\":0,\"ticks\":\"\"}}}],\"scattermapbox\":[{\"type\":\"scattermapbox\",\"marker\":{\"colorbar\":{\"outlinewidth\":0,\"ticks\":\"\"}}}],\"scatterternary\":[{\"type\":\"scatterternary\",\"marker\":{\"colorbar\":{\"outlinewidth\":0,\"ticks\":\"\"}}}],\"scattercarpet\":[{\"type\":\"scattercarpet\",\"marker\":{\"colorbar\":{\"outlinewidth\":0,\"ticks\":\"\"}}}],\"carpet\":[{\"aaxis\":{\"endlinecolor\":\"#2a3f5f\",\"gridcolor\":\"white\",\"linecolor\":\"white\",\"minorgridcolor\":\"white\",\"startlinecolor\":\"#2a3f5f\"},\"baxis\":{\"endlinecolor\":\"#2a3f5f\",\"gridcolor\":\"white\",\"linecolor\":\"white\",\"minorgridcolor\":\"white\",\"startlinecolor\":\"#2a3f5f\"},\"type\":\"carpet\"}],\"table\":[{\"cells\":{\"fill\":{\"color\":\"#EBF0F8\"},\"line\":{\"color\":\"white\"}},\"header\":{\"fill\":{\"color\":\"#C8D4E3\"},\"line\":{\"color\":\"white\"}},\"type\":\"table\"}],\"barpolar\":[{\"marker\":{\"line\":{\"color\":\"#E5ECF6\",\"width\":0.5},\"pattern\":{\"fillmode\":\"overlay\",\"size\":10,\"solidity\":0.2}},\"type\":\"barpolar\"}],\"pie\":[{\"automargin\":true,\"type\":\"pie\"}]},\"layout\":{\"autotypenumbers\":\"strict\",\"colorway\":[\"#636efa\",\"#EF553B\",\"#00cc96\",\"#ab63fa\",\"#FFA15A\",\"#19d3f3\",\"#FF6692\",\"#B6E880\",\"#FF97FF\",\"#FECB52\"],\"font\":{\"color\":\"#2a3f5f\"},\"hovermode\":\"closest\",\"hoverlabel\":{\"align\":\"left\"},\"paper_bgcolor\":\"white\",\"plot_bgcolor\":\"#E5ECF6\",\"polar\":{\"bgcolor\":\"#E5ECF6\",\"angularaxis\":{\"gridcolor\":\"white\",\"linecolor\":\"white\",\"ticks\":\"\"},\"radialaxis\":{\"gridcolor\":\"white\",\"linecolor\":\"white\",\"ticks\":\"\"}},\"ternary\":{\"bgcolor\":\"#E5ECF6\",\"aaxis\":{\"gridcolor\":\"white\",\"linecolor\":\"white\",\"ticks\":\"\"},\"baxis\":{\"gridcolor\":\"white\",\"linecolor\":\"white\",\"ticks\":\"\"},\"caxis\":{\"gridcolor\":\"white\",\"linecolor\":\"white\",\"ticks\":\"\"}},\"coloraxis\":{\"colorbar\":{\"outlinewidth\":0,\"ticks\":\"\"}},\"colorscale\":{\"sequential\":[[0.0,\"#0d0887\"],[0.1111111111111111,\"#46039f\"],[0.2222222222222222,\"#7201a8\"],[0.3333333333333333,\"#9c179e\"],[0.4444444444444444,\"#bd3786\"],[0.5555555555555556,\"#d8576b\"],[0.6666666666666666,\"#ed7953\"],[0.7777777777777778,\"#fb9f3a\"],[0.8888888888888888,\"#fdca26\"],[1.0,\"#f0f921\"]],\"sequentialminus\":[[0.0,\"#0d0887\"],[0.1111111111111111,\"#46039f\"],[0.2222222222222222,\"#7201a8\"],[0.3333333333333333,\"#9c179e\"],[0.4444444444444444,\"#bd3786\"],[0.5555555555555556,\"#d8576b\"],[0.6666666666666666,\"#ed7953\"],[0.7777777777777778,\"#fb9f3a\"],[0.8888888888888888,\"#fdca26\"],[1.0,\"#f0f921\"]],\"diverging\":[[0,\"#8e0152\"],[0.1,\"#c51b7d\"],[0.2,\"#de77ae\"],[0.3,\"#f1b6da\"],[0.4,\"#fde0ef\"],[0.5,\"#f7f7f7\"],[0.6,\"#e6f5d0\"],[0.7,\"#b8e186\"],[0.8,\"#7fbc41\"],[0.9,\"#4d9221\"],[1,\"#276419\"]]},\"xaxis\":{\"gridcolor\":\"white\",\"linecolor\":\"white\",\"ticks\":\"\",\"title\":{\"standoff\":15},\"zerolinecolor\":\"white\",\"automargin\":true,\"zerolinewidth\":2},\"yaxis\":{\"gridcolor\":\"white\",\"linecolor\":\"white\",\"ticks\":\"\",\"title\":{\"standoff\":15},\"zerolinecolor\":\"white\",\"automargin\":true,\"zerolinewidth\":2},\"scene\":{\"xaxis\":{\"backgroundcolor\":\"#E5ECF6\",\"gridcolor\":\"white\",\"linecolor\":\"white\",\"showbackground\":true,\"ticks\":\"\",\"zerolinecolor\":\"white\",\"gridwidth\":2},\"yaxis\":{\"backgroundcolor\":\"#E5ECF6\",\"gridcolor\":\"white\",\"linecolor\":\"white\",\"showbackground\":true,\"ticks\":\"\",\"zerolinecolor\":\"white\",\"gridwidth\":2},\"zaxis\":{\"backgroundcolor\":\"#E5ECF6\",\"gridcolor\":\"white\",\"linecolor\":\"white\",\"showbackground\":true,\"ticks\":\"\",\"zerolinecolor\":\"white\",\"gridwidth\":2}},\"shapedefaults\":{\"line\":{\"color\":\"#2a3f5f\"}},\"annotationdefaults\":{\"arrowcolor\":\"#2a3f5f\",\"arrowhead\":0,\"arrowwidth\":1},\"geo\":{\"bgcolor\":\"white\",\"landcolor\":\"#E5ECF6\",\"subunitcolor\":\"white\",\"showland\":true,\"showlakes\":true,\"lakecolor\":\"white\"},\"title\":{\"x\":0.05},\"mapbox\":{\"style\":\"light\"}}}},                        {\"responsive\": true}                    ).then(function(){\n",
       "                            Plotly.addFrames('732fea68-f7ea-4c8d-99ed-f1836de8c60e', [{\"layout\":{\"scene\":{\"camera\":{\"eye\":{\"x\":1.25,\"y\":1.25,\"z\":0.8}}}}},{\"layout\":{\"scene\":{\"camera\":{\"eye\":{\"x\":1.3685469774060675,\"y\":1.1189634357889973,\"z\":0.8}}}}},{\"layout\":{\"scene\":{\"camera\":{\"eye\":{\"x\":1.4734198857953784,\"y\":0.9767465588077254,\"z\":0.8}}}}},{\"layout\":{\"scene\":{\"camera\":{\"eye\":{\"x\":1.5635708697336819,\"y\":0.824770353080333,\"z\":0.8}}}}},{\"layout\":{\"scene\":{\"camera\":{\"eye\":{\"x\":1.6380991703894194,\"y\":0.6645533146177932,\"z\":0.8}}}}},{\"layout\":{\"scene\":{\"camera\":{\"eye\":{\"x\":1.6962601256182197,\"y\":0.4976962791077122,\"z\":0.8}}}}},{\"layout\":{\"scene\":{\"camera\":{\"eye\":{\"x\":1.737472610380892,\"y\":0.32586642689330336,\"z\":0.8}}}}},{\"layout\":{\"scene\":{\"camera\":{\"eye\":{\"x\":1.7613248431527242,\"y\":0.15078062505849654,\"z\":0.8}}}}},{\"layout\":{\"scene\":{\"camera\":{\"eye\":{\"x\":1.7675785003083602,\"y\":-0.025811726940446755,\"z\":0.8}}}}},{\"layout\":{\"scene\":{\"camera\":{\"eye\":{\"x\":1.7561710973726847,\"y\":-0.20214617669602375,\"z\":0.8}}}}},{\"layout\":{\"scene\":{\"camera\":{\"eye\":{\"x\":1.7272166133450453,\"y\":-0.376460848674696,\"z\":0.8}}}}},{\"layout\":{\"scene\":{\"camera\":{\"eye\":{\"x\":1.6810043518587658,\"y\":-0.5470140482948226,\"z\":0.8}}}}},{\"layout\":{\"scene\":{\"camera\":{\"eye\":{\"x\":1.6179960505548747,\"y\":-0.7121016643631912,\"z\":0.8}}}}},{\"layout\":{\"scene\":{\"camera\":{\"eye\":{\"x\":1.5388212675522255,\"y\":-0.870074195990757,\"z\":0.8}}}}},{\"layout\":{\"scene\":{\"camera\":{\"eye\":{\"x\":1.4442710911108763,\"y\":-1.0193532338602744,\"z\":0.8}}}}},{\"layout\":{\"scene\":{\"camera\":{\"eye\":{\"x\":1.3352902353396967,\"y\":-1.1584472311704395,\"z\":0.8}}}}},{\"layout\":{\"scene\":{\"camera\":{\"eye\":{\"x\":1.2129676009252703,\"y\":-1.2859664066784924,\"z\":0.8}}}}},{\"layout\":{\"scene\":{\"camera\":{\"eye\":{\"x\":1.0785253951961797,\"y\":-1.4006366309349918,\"z\":0.8}}}}},{\"layout\":{\"scene\":{\"camera\":{\"eye\":{\"x\":0.9333069202313851,\"y\":-1.5013121569641028,\"z\":0.8}}}}},{\"layout\":{\"scene\":{\"camera\":{\"eye\":{\"x\":0.7787631510298885,\"y\":-1.5869870681886475,\"z\":0.8}}}}},{\"layout\":{\"scene\":{\"camera\":{\"eye\":{\"x\":0.6164382378481742,\"y\":-1.6568053292160303,\"z\":0.8}}}}},{\"layout\":{\"scene\":{\"camera\":{\"eye\":{\"x\":0.44795407756127026,\"y\":-1.710069339060914,\"z\":0.8}}}}},{\"layout\":{\"scene\":{\"camera\":{\"eye\":{\"x\":0.27499410820530534,\"y\":-1.7462469013436699,\"z\":0.8}}}}},{\"layout\":{\"scene\":{\"camera\":{\"eye\":{\"x\":0.09928648862111944,\"y\":-1.7649765418206806,\"z\":0.8}}}}},{\"layout\":{\"scene\":{\"camera\":{\"eye\":{\"x\":-0.07741316873761894,\"y\":-1.7660711201154955,\"z\":0.8}}}}},{\"layout\":{\"scene\":{\"camera\":{\"eye\":{\"x\":-0.25333933930372143,\"y\":-1.7495196995636126,\"z\":0.8}}}}},{\"layout\":{\"scene\":{\"camera\":{\"eye\":{\"x\":-0.4267342269343539,\"y\":-1.7154876564880144,\"z\":0.8}}}}},{\"layout\":{\"scene\":{\"camera\":{\"eye\":{\"x\":-0.5958653272290393,\"y\":-1.6643150278136138,\"z\":0.8}}}}},{\"layout\":{\"scene\":{\"camera\":{\"eye\":{\"x\":-0.7590427381409421,\"y\":-1.5965131135307038,\"z\":0.8}}}}},{\"layout\":{\"scene\":{\"camera\":{\"eye\":{\"x\":-0.9146360449195108,\"y\":-1.5127593679544658,\"z\":0.8}}}}},{\"layout\":{\"scene\":{\"camera\":{\"eye\":{\"x\":-1.0610906106757227,\"y\":-1.4138906308253907,\"z\":0.8}}}}},{\"layout\":{\"scene\":{\"camera\":{\"eye\":{\"x\":-1.196943109799986,\"y\":-1.3008947658832124,\"z\":0.8}}}}},{\"layout\":{\"scene\":{\"camera\":{\"eye\":{\"x\":-1.3208361490279166,\"y\":-1.1749007904589663,\"z\":0.8}}}}},{\"layout\":{\"scene\":{\"camera\":{\"eye\":{\"x\":-1.431531830065142,\"y\":-1.0371675947070202,\"z\":0.8}}}}},{\"layout\":{\"scene\":{\"camera\":{\"eye\":{\"x\":-1.5279241182578656,\"y\":-0.8890713631907865,\"z\":0.8}}}}},{\"layout\":{\"scene\":{\"camera\":{\"eye\":{\"x\":-1.6090498937255202,\"y\":-0.7320918245014705,\"z\":0.8}}}}},{\"layout\":{\"scene\":{\"camera\":{\"eye\":{\"x\":-1.6740985745362496,\"y\":-0.5677974662991182,\"z\":0.8}}}}},{\"layout\":{\"scene\":{\"camera\":{\"eye\":{\"x\":-1.7224202157736266,\"y\":-0.39782986350239324,\"z\":0.8}}}}},{\"layout\":{\"scene\":{\"camera\":{\"eye\":{\"x\":-1.7535320035714197,\"y\":-0.22388727621462157,\"z\":0.8}}}}},{\"layout\":{\"scene\":{\"camera\":{\"eye\":{\"x\":-1.7671230792301427,\"y\":-0.04770768127020719,\"z\":0.8}}}}},{\"layout\":{\"scene\":{\"camera\":{\"eye\":{\"x\":-1.7630576452144253,\"y\":0.1289485930553954,\"z\":0.8}}}}},{\"layout\":{\"scene\":{\"camera\":{\"eye\":{\"x\":-1.741376321997099,\"y\":0.30431645566392784,\"z\":0.8}}}}},{\"layout\":{\"scene\":{\"camera\":{\"eye\":{\"x\":-1.7022957421928595,\"y\":0.47664368884111097,\"z\":0.8}}}}},{\"layout\":{\"scene\":{\"camera\":{\"eye\":{\"x\":-1.646206386036788,\"y\":0.6442084558368493,\"z\":0.8}}}}},{\"layout\":{\"scene\":{\"camera\":{\"eye\":{\"x\":-1.573668679834919,\"y\":0.8053365048888708,\"z\":0.8}}}}},{\"layout\":{\"scene\":{\"camera\":{\"eye\":{\"x\":-1.4854073963698458,\"y\":0.9584178977928967,\"z\":0.8}}}}},{\"layout\":{\"scene\":{\"camera\":{\"eye\":{\"x\":-1.3823044132106481,\"y\":1.101923095873013,\"z\":0.8}}}}},{\"layout\":{\"scene\":{\"camera\":{\"eye\":{\"x\":-1.2653899012837393,\"y\":1.2344182426265127,\"z\":0.8}}}}},{\"layout\":{\"scene\":{\"camera\":{\"eye\":{\"x\":-1.1358320317454915,\"y\":1.3545794903441097,\"z\":0.8}}}}},{\"layout\":{\"scene\":{\"camera\":{\"eye\":{\"x\":-0.9949253040021958,\"y\":1.4612062275586353,\"z\":0.8}}}}},{\"layout\":{\"scene\":{\"camera\":{\"eye\":{\"x\":-0.8440776114998902,\"y\":1.553233075157956,\"z\":0.8}}}}},{\"layout\":{\"scene\":{\"camera\":{\"eye\":{\"x\":-0.6847961745184389,\"y\":1.6297405313008917,\"z\":0.8}}}}},{\"layout\":{\"scene\":{\"camera\":{\"eye\":{\"x\":-0.5186724805247199,\"y\":1.6899641587756626,\"z\":0.8}}}}},{\"layout\":{\"scene\":{\"camera\":{\"eye\":{\"x\":-0.347366382555924,\"y\":1.733302223003828,\"z\":0.8}}}}},{\"layout\":{\"scene\":{\"camera\":{\"eye\":{\"x\":-0.17258951451669058,\"y\":1.7593217043732774,\"z\":0.8}}}}},{\"layout\":{\"scene\":{\"camera\":{\"eye\":{\"x\":0.0039118109010850555,\"y\":1.767762624827065,\"z\":0.8}}}}},{\"layout\":{\"scene\":{\"camera\":{\"eye\":{\"x\":0.18037405079741164,\"y\":1.7585406454782138,\"z\":0.8}}}}},{\"layout\":{\"scene\":{\"camera\":{\"eye\":{\"x\":0.3550340528019027,\"y\":1.7317479092959966,\"z\":0.8}}}}},{\"layout\":{\"scene\":{\"camera\":{\"eye\":{\"x\":0.5261466719094534,\"y\":1.6876521204438448,\"z\":0.8}}}}},{\"layout\":{\"scene\":{\"camera\":{\"eye\":{\"x\":0.6920022073922499,\"y\":1.62669386946784,\"z\":0.8}}}}},{\"layout\":{\"scene\":{\"camera\":{\"eye\":{\"x\":0.8509434855643001,\"y\":1.5494822310616148,\"z\":0.8}}}}},{\"layout\":{\"scene\":{\"camera\":{\"eye\":{\"x\":1.001382417713112,\"y\":1.4567886783933495,\"z\":0.8}}}}},{\"layout\":{\"scene\":{\"camera\":{\"eye\":{\"x\":1.1418158677571515,\"y\":1.3495393748008924,\"z\":0.8}}}}},{\"layout\":{\"scene\":{\"camera\":{\"eye\":{\"x\":1.270840671084707,\"y\":1.2288059198738308,\"z\":0.8}}}}},{\"layout\":{\"scene\":{\"camera\":{\"eye\":{\"x\":1.3871676545108578,\"y\":1.0957946423846239,\"z\":0.8}}}}},{\"layout\":{\"scene\":{\"camera\":{\"eye\":{\"x\":1.4896345172697987,\"y\":0.9518345470502599,\"z\":0.8}}}}},{\"layout\":{\"scene\":{\"camera\":{\"eye\":{\"x\":1.577217444339885,\"y\":0.7983640355564382,\"z\":0.8}}}}},{\"layout\":{\"scene\":{\"camera\":{\"eye\":{\"x\":1.6490413360648972,\"y\":0.6369165345234014,\"z\":0.8}}}}},{\"layout\":{\"scene\":{\"camera\":{\"eye\":{\"x\":1.7043885518605422,\"y\":0.46910517401401974,\"z\":0.8}}}}},{\"layout\":{\"scene\":{\"camera\":{\"eye\":{\"x\":1.742706080641946,\"y\":0.2966066696714459,\"z\":0.8}}}}},{\"layout\":{\"scene\":{\"camera\":{\"eye\":{\"x\":1.7636110663276172,\"y\":0.12114456953064445,\"z\":0.8}}}}},{\"layout\":{\"scene\":{\"camera\":{\"eye\":{\"x\":1.766894633210853,\"y\":-0.05552796710383823,\"z\":0.8}}}}},{\"layout\":{\"scene\":{\"camera\":{\"eye\":{\"x\":1.7525239729767597,\"y\":-0.23164568664612328,\"z\":0.8}}}}},{\"layout\":{\"scene\":{\"camera\":{\"eye\":{\"x\":1.7206426725120867,\"y\":-0.4054488790593255,\"z\":0.8}}}}},{\"layout\":{\"scene\":{\"camera\":{\"eye\":{\"x\":1.6715692792325216,\"y\":-0.5752009602965458,\"z\":0.8}}}}},{\"layout\":{\"scene\":{\"camera\":{\"eye\":{\"x\":1.605794118262206,\"y\":-0.7392058236746413,\"z\":0.8}}}}},{\"layout\":{\"scene\":{\"camera\":{\"eye\":{\"x\":1.5239743932671765,\"y\":-0.8958247868115395,\"z\":0.8}}}}},{\"layout\":{\"scene\":{\"camera\":{\"eye\":{\"x\":1.426927619893581,\"y\":-1.04349296479892,\"z\":0.8}}}}},{\"layout\":{\"scene\":{\"camera\":{\"eye\":{\"x\":1.3156234574215673,\"y\":-1.180734906014945,\"z\":0.8}}}}},{\"layout\":{\"scene\":{\"camera\":{\"eye\":{\"x\":1.1911740202502938,\"y\":-1.3061793343491364,\"z\":0.8}}}}},{\"layout\":{\"scene\":{\"camera\":{\"eye\":{\"x\":1.0548227660184604,\"y\":-1.4185728505399942,\"z\":0.8}}}}},{\"layout\":{\"scene\":{\"camera\":{\"eye\":{\"x\":0.9079320713866189,\"y\":-1.5167924557260966,\"z\":0.8}}}}},{\"layout\":{\"scene\":{\"camera\":{\"eye\":{\"x\":0.7519696196199205,\"y\":-1.599856772079511,\"z\":0.8}}}}},{\"layout\":{\"scene\":{\"camera\":{\"eye\":{\"x\":0.5884937359820905,\"y\":-1.6669358484086425,\"z\":0.8}}}}},{\"layout\":{\"scene\":{\"camera\":{\"eye\":{\"x\":0.41913781746449363,\"y\":-1.7173594527562077,\"z\":0.8}}}}},{\"layout\":{\"scene\":{\"camera\":{\"eye\":{\"x\":0.24559401242333323,\"y\":-1.7506237691353923,\"z\":0.8}}}}},{\"layout\":{\"scene\":{\"camera\":{\"eye\":{\"x\":0.06959631319262605,\"y\":-1.7663964314926572,\"z\":0.8}}}}},{\"layout\":{\"scene\":{\"camera\":{\"eye\":{\"x\":-0.10709676939402235,\"y\":-1.7645198445994774,\"z\":0.8}}}}},{\"layout\":{\"scene\":{\"camera\":{\"eye\":{\"x\":-0.2827197764623679,\"y\":-1.745012758691772,\"z\":0.8}}}}},{\"layout\":{\"scene\":{\"camera\":{\"eye\":{\"x\":-0.45551794097903464,\"y\":-1.7080700821237462,\"z\":0.8}}}}},{\"layout\":{\"scene\":{\"camera\":{\"eye\":{\"x\":-0.6237647208036504,\"y\":-1.6540609339080419,\"z\":0.8}}}}},{\"layout\":{\"scene\":{\"camera\":{\"eye\":{\"x\":-0.7857790497271997,\"y\":-1.58352495560058,\"z\":0.8}}}}},{\"layout\":{\"scene\":{\"camera\":{\"eye\":{\"x\":-0.9399421341298975,\"y\":-1.4971669193805124,\"z\":0.8}}}}},{\"layout\":{\"scene\":{\"camera\":{\"eye\":{\"x\":-1.0847136274319271,\"y\":-1.3958496861995813,\"z\":0.8}}}}},{\"layout\":{\"scene\":{\"camera\":{\"eye\":{\"x\":-1.218647020727311,\"y\":-1.2805855843607052,\"z\":0.8}}}}},{\"layout\":{\"scene\":{\"camera\":{\"eye\":{\"x\":-1.3404040958227346,\"y\":-1.1525262946682115,\"z\":0.8}}}}},{\"layout\":{\"scene\":{\"camera\":{\"eye\":{\"x\":-1.448768296271385,\"y\":-1.0129513432139317,\"z\":0.8}}}}},{\"layout\":{\"scene\":{\"camera\":{\"eye\":{\"x\":-1.5426568828028173,\"y\":-0.8632553167754569,\"z\":0.8}}}}},{\"layout\":{\"scene\":{\"camera\":{\"eye\":{\"x\":-1.6211317516958519,\"y\":-0.7049339285660311,\"z\":0.8}}}}},{\"layout\":{\"scene\":{\"camera\":{\"eye\":{\"x\":-1.6834088080008527,\"y\":-0.5395690735625494,\"z\":0.8}}}}},{\"layout\":{\"scene\":{\"camera\":{\"eye\":{\"x\":-1.7288657999572776,\"y\":-0.3688130227338533,\"z\":0.8}}}}},{\"layout\":{\"scene\":{\"camera\":{\"eye\":{\"x\":-1.7570485363275825,\"y\":-0.1943719140953739,\"z\":0.8}}}}},{\"layout\":{\"scene\":{\"camera\":{\"eye\":{\"x\":-1.7676754245259283,\"y\":-0.017988705542069106,\"z\":0.8}}}}}]);\n",
       "                        }).then(function(){\n",
       "                            \n",
       "var gd = document.getElementById('732fea68-f7ea-4c8d-99ed-f1836de8c60e');\n",
       "var x = new MutationObserver(function (mutations, observer) {{\n",
       "        var display = window.getComputedStyle(gd).display;\n",
       "        if (!display || display === 'none') {{\n",
       "            console.log([gd, 'removed!']);\n",
       "            Plotly.purge(gd);\n",
       "            observer.disconnect();\n",
       "        }}\n",
       "}});\n",
       "\n",
       "// Listen for the removal of the full notebook cells\n",
       "var notebookContainer = gd.closest('#notebook-container');\n",
       "if (notebookContainer) {{\n",
       "    x.observe(notebookContainer, {childList: true});\n",
       "}}\n",
       "\n",
       "// Listen for the clearing of the current output cell\n",
       "var outputEl = gd.closest('.output');\n",
       "if (outputEl) {{\n",
       "    x.observe(outputEl, {childList: true});\n",
       "}}\n",
       "\n",
       "                        })                };                });            </script>        </div>"
      ]
     },
     "metadata": {},
     "output_type": "display_data"
    }
   ],
   "source": [
    "x,y,z = xyz[:,0], xyz[:,1], xyz[:,2]\n",
    "visualize_rotate([go.Mesh3d(x=x, y=y, z=z, color='lightpink', opacity=0.50)]).show()"
   ]
  },
  {
   "cell_type": "code",
   "execution_count": 8,
   "id": "551bf9b1",
   "metadata": {
    "scrolled": true
   },
   "outputs": [
    {
     "data": {
      "application/vnd.plotly.v1+json": {
       "config": {
        "plotlyServerURL": "https://plot.ly"
       },
       "data": [
        {
         "mode": "markers",
         "type": "scatter3d",
         "x": [
          0.3728894591331482,
          0.3728436827659607,
          0.37357214093208313,
          0.37372514605522156,
          0.3735487759113312,
          0.37436115741729736,
          0.3745102286338806,
          0.3744974732398987,
          0.37432152032852173,
          0.373816579580307,
          0.37513411045074463,
          0.375442236661911,
          0.37542882561683655,
          0.37509122490882874,
          0.3745897710323334,
          0.3757619559764862,
          0.3760637044906616,
          0.37620797753334045,
          0.3760329484939575,
          0.3758578896522522,
          0.3753599226474762,
          0.3767082393169403,
          0.3766891062259674,
          0.37682899832725525,
          0.37697067856788635,
          0.37679606676101685,
          0.37662145495414734,
          0.3761270046234131,
          0.37745991349220276,
          0.37743890285491943,
          0.3775750398635864,
          0.3777129650115967,
          0.3775383532047272,
          0.3775213360786438,
          0.37718909978866577,
          0.3766975402832031,
          0.37829455733299255,
          0.37827226519584656,
          0.37840545177459717,
          0.37838539481163025,
          0.3783662021160126,
          0.3781920373439789,
          0.3780178725719452,
          0.37768691778182983,
          0.37892794609069824,
          0.379055380821228,
          0.3790320158004761,
          0.37916257977485657,
          0.3791414201259613,
          0.3789672553539276,
          0.3789474368095398,
          0.37861892580986023,
          0.37828949093818665,
          0.3796088993549347,
          0.37988337874412537,
          0.37985873222351074,
          0.37983500957489014,
          0.3798121511936188,
          0.37979018688201904,
          0.37961646914482117,
          0.3794427216053009,
          0.3789619207382202,
          0.3780174255371094,
          0.38051605224609375,
          0.38063791394233704,
          0.38061219453811646,
          0.3805873692035675,
          0.3805634379386902,
          0.3803897202014923,
          0.38021597266197205,
          0.38004225492477417,
          0.379564493894577,
          0.3787800967693329,
          0.3811935782432556,
          0.38145923614501953,
          0.38128462433815,
          0.381258100271225,
          0.38123244047164917,
          0.3810587227344513,
          0.38088497519493103,
          0.38071125745773315,
          0.38038724660873413,
          0.37976083159446716,
          0.3817613422870636,
          0.3820211887359619,
          0.3819919526576996,
          0.3819636404514313,
          0.3819361925125122,
          0.38176247477531433,
          0.38158875703811646,
          0.3814150094985962,
          0.3812412917613983,
          0.38076967000961304,
          0.37984809279441833,
          0.38265693187713623,
          0.3827691674232483,
          0.38273885846138,
          0.38270944356918335,
          0.3825357258319855,
          0.38250765204429626,
          0.3823343515396118,
          0.38201454281806946,
          0.3818408250808716,
          0.38137224316596985,
          0.38287222385406494,
          0.3834044635295868,
          0.38351407647132874,
          0.3834826946258545,
          0.3833089768886566,
          0.38327890634536743,
          0.38310563564300537,
          0.3829323351383209,
          0.38261404633522034,
          0.38244032859802246,
          0.3818289339542389,
          0.3836592733860016,
          0.3841838538646698,
          0.384149968624115,
          0.3841169774532318,
          0.38394322991371155,
          0.3839115500450134,
          0.38373827934265137,
          0.3835650086402893,
          0.38324832916259766,
          0.3830746114253998,
          0.38261231780052185,
          0.384443074464798,
          0.384821355342865,
          0.38478586077690125,
          0.38475123047828674,
          0.38471749424934387,
          0.3845442235469818,
          0.38437092304229736,
          0.3841976523399353,
          0.38402435183525085,
          0.3837088644504547,
          0.38324981927871704,
          0.38235974311828613,
          0.38552871346473694,
          0.38549140095710754,
          0.3854549825191498,
          0.38541945815086365,
          0.3852461576461792,
          0.38507288694381714,
          0.3848995864391327,
          0.38472631573677063,
          0.38441261649131775,
          0.38409802317619324,
          0.38349995017051697,
          0.38596591353416443,
          0.38619697093963623,
          0.3861587345600128,
          0.38598501682281494,
          0.38594815135002136,
          0.3857748508453369,
          0.38560158014297485,
          0.3854282796382904,
          0.38525500893592834,
          0.3849426507949829,
          0.38448992371559143,
          0.3863123655319214,
          0.3868037164211273,
          0.38676318526268005,
          0.38672351837158203,
          0.38668474555015564,
          0.3865114748477936,
          0.38647404313087463,
          0.386301189661026,
          0.3859916031360626,
          0.38581833243370056,
          0.3855074346065521,
          0.38478145003318787,
          0.38715073466300964,
          0.38750356435775757,
          0.3874620199203491,
          0.38728830218315125,
          0.38724809885025024,
          0.3872087597846985,
          0.38703593611717224,
          0.3868630826473236,
          0.3865549564361572,
          0.3862459361553192,
          0.38593602180480957,
          0.3850787281990051,
          0.3879833221435547,
          0.3880697786808014,
          0.38802680373191833,
          0.3879847228527069,
          0.38781142234802246,
          0.3877706527709961,
          0.38759782910346985,
          0.3874249756336212,
          0.38711827993392944,
          0.38681069016456604,
          0.3863674998283386,
          0.38824915885925293,
          0.3887162208557129,
          0.38867083191871643,
          0.3886263072490692,
          0.388582706451416,
          0.38853996992111206,
          0.3883671164512634,
          0.3881942927837372,
          0.38802143931388855,
          0.38771626353263855,
          0.3874102234840393,
          0.38683685660362244,
          0.38898617029190063,
          0.38944604992866516,
          0.38927188515663147,
          0.3892258405685425,
          0.3891806900501251,
          0.3891364336013794,
          0.38896358013153076,
          0.3887907564640045,
          0.3886179029941559,
          0.38831427693367004,
          0.3880097568035126,
          0.3873092830181122,
          0.38975533843040466,
          0.3900819420814514,
          0.3900338411331177,
          0.3898600935935974,
          0.3898133337497711,
          0.38976746797561646,
          0.3895946145057678,
          0.3895500600337982,
          0.38924893736839294,
          0.38894692063331604,
          0.3886440098285675,
          0.38795003294944763,
          0.39039769768714905,
          0.3907178044319153,
          0.3906680941581726,
          0.39049437642097473,
          0.3904459774494171,
          0.3903985023498535,
          0.3903518617153168,
          0.39017948508262634,
          0.38987997174263,
          0.38957956433296204,
          0.38927826285362244,
          0.38871920108795166,
          0.39104005694389343,
          0.39135369658470154,
          0.3913023769855499,
          0.39112862944602966,
          0.3910786211490631,
          0.3910295069217682,
          0.3909812867641449,
          0.3908088803291321,
          0.39051100611686707,
          0.39021220803260803,
          0.38991254568099976,
          0.3893583416938782,
          0.391477108001709,
          0.39190372824668884,
          0.39185023307800293,
          0.39179766178131104,
          0.391745924949646,
          0.391695111989975,
          0.3916451632976532,
          0.39147278666496277,
          0.39130038022994995,
          0.3908795118331909,
          0.39058154821395874,
          0.3901575803756714,
          0.3893551528453827,
          0.3925761580467224,
          0.3925209641456604,
          0.39246666431427,
          0.3924132287502289,
          0.39236071705818176,
          0.3923090696334839,
          0.39213666319847107,
          0.39196428656578064,
          0.3916693329811096,
          0.39137354493141174,
          0.3909534215927124,
          0.3901599645614624,
          0.3931313157081604,
          0.39319169521331787,
          0.393135666847229,
          0.39308056235313416,
          0.39302632212638855,
          0.3929729759693146,
          0.39280056953430176,
          0.39262816309928894,
          0.3923349380493164,
          0.39204084873199463,
          0.3916241526603699,
          0.3909613788127899,
          0.3935742974281311,
          0.39386239647865295,
          0.3938046991825104,
          0.39374786615371704,
          0.39369192719459534,
          0.3936368525028229,
          0.39346444606781006,
          0.39329206943511963,
          0.3930005431175232,
          0.3927081525325775,
          0.3924148678779602,
          0.39175936579704285,
          0.394137978553772,
          0.3945331275463104,
          0.39447370171546936,
          0.3944151699542999,
          0.39435750246047974,
          0.39430075883865356,
          0.39412835240364075,
          0.39395594596862793,
          0.39366614818573,
          0.3933754563331604,
          0.3930838704109192,
          0.3925539255142212,
          0.3948590159416199,
          0.39513418078422546,
          0.39507320523262024,
          0.39501315355300903,
          0.39495396614074707,
          0.39489567279815674,
          0.3947232663631439,
          0.3945508897304535,
          0.3942626118659973,
          0.3939734399318695,
          0.39368337392807007,
          0.39315804839134216,
          0.39557698369026184,
          0.3957352340221405,
          0.3956727385520935,
          0.39561113715171814,
          0.3956630229949951,
          0.3954906165599823,
          0.3953182101249695,
          0.39514580368995667,
          0.39485907554626465,
          0.3945714235305786,
          0.39428290724754333,
          0.39353078603744507,
          0.3962918817996979,
          0.39644598960876465,
          0.3963824212551117,
          0.39631974697113037,
          0.3962579369544983,
          0.3960855305194855,
          0.39591315388679504,
          0.3957407474517822,
          0.395455539226532,
          0.3951694071292877,
          0.39476871490478516,
          0.3940238058567047,
          0.39689600467681885,
          0.3970454931259155,
          0.3969804048538208,
          0.3969162106513977,
          0.39685288071632385,
          0.39668047428131104,
          0.3965080678462982,
          0.3963356614112854,
          0.3960520029067993,
          0.3957674205303192,
          0.3952575922012329,
          0.39732256531715393,
          0.3976777195930481,
          0.39761027693748474,
          0.397543728351593,
          0.3975857198238373,
          0.39741331338882446,
          0.39724093675613403,
          0.3970685303211212,
          0.39678671956062317,
          0.3965040147304535,
          0.39622044563293457,
          0.39571452140808105,
          0.39810484647750854,
          0.3982439339160919,
          0.3982803523540497,
          0.39821282029151917,
          0.3981461822986603,
          0.39797377586364746,
          0.39780136942863464,
          0.3976289927959442,
          0.3973486125469208,
          0.3970673680305481,
          0.3966763913631439,
          0.39595574140548706,
          0.3988133668899536,
          0.3989483118057251,
          0.3988783657550812,
          0.3988092839717865,
          0.39874109625816345,
          0.398568719625473,
          0.3983963131904602,
          0.3982239067554474,
          0.3979450762271881,
          0.3976653516292572,
          0.3972774147987366,
          0.39645665884017944,
          0.3994174599647522,
          0.399547815322876,
          0.3994763493537903,
          0.39940574765205383,
          0.399336040019989,
          0.3991636335849762,
          0.39899125695228577,
          0.39881885051727295,
          0.39854153990745544,
          0.3981580138206482,
          0.3977726697921753,
          0.39976370334625244,
          0.4001864194869995,
          0.40021297335624695,
          0.4001404941082001,
          0.40006887912750244,
          0.399896502494812,
          0.3997240960597992,
          0.3995516896247864,
          0.3992762863636017,
          0.398999959230423,
          0.398722767829895,
          0.3980272710323334,
          0.40069571137428284,
          0.4008163511753082,
          0.4007416367530823,
          0.40066781640052795,
          0.4005948603153229,
          0.40052279829978943,
          0.40025007724761963,
          0.4000776708126068,
          0.39980360865592957,
          0.39942651987075806,
          0.3990476727485657,
          0.40111586451530457,
          0.4014233350753784,
          0.40144360065460205,
          0.40136799216270447,
          0.40129324793815613,
          0.4012193977832794,
          0.4009484350681305,
          0.4007760286331177,
          0.4005037546157837,
          0.40023061633110046,
          0.3998557925224304,
          0.401700496673584,
          0.40199899673461914,
          0.4020153880119324,
          0.4019376337528229,
          0.40195712447166443,
          0.4018815755844116,
          0.4017096161842346,
          0.40143993496894836,
          0.4011693596839905,
          0.40089792013168335,
          0.4006255567073822,
          0.399854838848114,
          0.40263649821281433,
          0.4026496708393097,
          0.40257027745246887,
          0.40258654952049255,
          0.4025093615055084,
          0.4023374021053314,
          0.4020693600177765,
          0.40180039405822754,
          0.40153056383132935,
          0.4012598395347595,
          0.4004988372325897,
          0.4032739996910095,
          0.4032839238643646,
          0.40320292115211487,
          0.4032159447669983,
          0.4031371474266052,
          0.40287116169929504,
          0.4026987552642822,
          0.4024314284324646,
          0.40216320753097534,
          0.401798278093338,
          0.40114280581474304,
          0.4039115011692047,
          0.40391820669174194,
          0.40383556485176086,
          0.4038453698158264,
          0.4036729633808136,
          0.4035005569458008,
          0.40332818031311035,
          0.40306246280670166,
          0.40279585123062134,
          0.40243417024612427,
          0.40178677439689636,
          0.4045490026473999,
          0.4045524597167969,
          0.40446820855140686,
          0.40447476506233215,
          0.4043023884296417,
          0.4041299819946289,
          0.4039575755596161,
          0.4036934971809387,
          0.40342849493026733,
          0.4030700623989105,
          0.4024307429790497,
          0.4051865041255951,
          0.4051867425441742,
          0.40510085225105286,
          0.4051041901111603,
          0.40493178367614746,
          0.40475937724113464,
          0.4045870006084442,
          0.4043245315551758,
          0.40406113862991333,
          0.4037059247493744,
          0.403074711561203,
          0.4058240056037903,
          0.4058209955692291,
          0.40573349595069885,
          0.4057336151599884,
          0.4055612087249756,
          0.40538880228996277,
          0.40521639585494995,
          0.40495553612709045,
          0.4046938121318817,
          0.40434181690216064,
          0.40618425607681274,
          0.4065104126930237,
          0.40642049908638,
          0.40633150935173035,
          0.4063285291194916,
          0.40615612268447876,
          0.40598374605178833,
          0.4057248532772064,
          0.4055519998073578,
          0.4052917957305908,
          0.4049428701400757,
          0.4068763554096222,
          0.4071114659309387,
          0.4071027636528015,
          0.4070126712322235,
          0.40692347288131714,
          0.4067510664463043,
          0.4065786600112915,
          0.40632131695747375,
          0.4060630798339844,
          0.40580394864082336,
          0.4053713381290436,
          0.4075653851032257,
          0.40771251916885376,
          0.407700777053833,
          0.40760913491249084,
          0.4075183868408203,
          0.4073460102081299,
          0.40709060430526733,
          0.4069177806377411,
          0.4066610634326935,
          0.40640345215797424,
          0.40589070320129395,
          0.4082513451576233,
          0.4083928167819977,
          0.4082987606525421,
          0.4082055985927582,
          0.40803274512290955,
          0.4078599214553833,
          0.40768706798553467,
          0.4075142443180084,
          0.4072590470314026,
          0.4070029854774475,
          0.40641310811042786,
          0.40893423557281494,
          0.40899232029914856,
          0.4088967442512512,
          0.4088020622730255,
          0.4086292088031769,
          0.40845638513565063,
          0.408283531665802,
          0.40811070799827576,
          0.4078570306301117,
          0.40752124786376953,
          0.40685686469078064,
          0.40957337617874146,
          0.4096266031265259,
          0.4095293879508972,
          0.4094330966472626,
          0.40926024317741394,
          0.4090874195098877,
          0.40891456604003906,
          0.40874171257019043,
          0.4084896743297577,
          0.4081571400165558,
          0.4075024724006653,
          0.41025158762931824,
          0.41022610664367676,
          0.4101274013519287,
          0.4100295603275299,
          0.4098567068576813,
          0.40968388319015503,
          0.4095110297203064,
          0.40926095843315125,
          0.4090876877307892,
          0.40875816345214844,
          0.4106680452823639,
          0.4109267592430115,
          0.4108986556529999,
          0.4107988476753235,
          0.41062602400779724,
          0.4104531705379486,
          0.41028034687042236,
          0.41010749340057373,
          0.40985894203186035,
          0.40960952639579773,
          0.4092060625553131,
          0.4113488793373108,
          0.4115278124809265,
          0.41149666905403137,
          0.4113953113555908,
          0.4112224876880646,
          0.41104963421821594,
          0.4108767807483673,
          0.41070395708084106,
          0.41045695543289185,
          0.410209059715271,
          0.4098101854324341,
          0.41202667355537415,
          0.41212886571884155,
          0.4120946526527405,
          0.41199177503585815,
          0.4118189513683319,
          0.4116460978984833,
          0.41147324442863464,
          0.4113004207611084,
          0.41105493903160095,
          0.4108085632324219,
          0.4103407561779022,
          0.41270139813423157,
          0.4127979278564453,
          0.4126926362514496,
          0.4125882387161255,
          0.412484735250473,
          0.4123123288154602,
          0.412069708108902,
          0.4118262231349945,
          0.41165292263031006,
          0.4113365411758423,
          0.4108743965625763,
          0.41337308287620544,
          0.4133974313735962,
          0.4132906198501587,
          0.4131847023963928,
          0.4130796790122986,
          0.41290727257728577,
          0.4126661717891693,
          0.4124242067337036,
          0.41225090622901917,
          0.4119375944137573,
          0.4114815592765808,
          0.41394779086112976,
          0.4140317142009735,
          0.4139232635498047,
          0.4138157367706299,
          0.4137090742588043,
          0.4135366678237915,
          0.41329720616340637,
          0.4131243824958801,
          0.41288357973098755,
          0.4125734865665436,
          0.41219276189804077,
          0.4145885109901428,
          0.41466596722602844,
          0.41455593705177307,
          0.41444677114486694,
          0.41433849930763245,
          0.41416609287261963,
          0.41392824053764343,
          0.4137553870677948,
          0.41351622343063354,
          0.41320937871932983,
          0.4128335118293762,
          0.41516807675361633,
          0.415238618850708,
          0.41518858075141907,
          0.415077805519104,
          0.4149678945541382,
          0.41479548811912537,
          0.41462311148643494,
          0.41438642144203186,
          0.41414886713027954,
          0.4139104187488556,
          0.413539856672287,
          0.4157620668411255,
          0.4158843457698822,
          0.41583025455474854,
          0.41577795147895813,
          0.41566628217697144,
          0.4154938757419586,
          0.4153214693069458,
          0.4150865972042084,
          0.4148508310317993,
          0.41461417078971863,
          0.4143766164779663,
          0.41394543647766113,
          0.41641759872436523,
          0.4164755642414093,
          0.41641920804977417,
          0.416305273771286,
          0.4161922335624695,
          0.41601985692977905,
          0.41584745049476624,
          0.41561391949653625,
          0.41537949442863464,
          0.4151442050933838,
          0.4148455560207367,
          0.41435641050338745,
          0.4171244204044342,
          0.41706404089927673,
          0.4170054495334625,
          0.41689062118530273,
          0.4167182147502899,
          0.4165458083152771,
          0.41631409525871277,
          0.4160814583301544,
          0.41590818762779236,
          0.41567423939704895,
          0.415317177772522,
          0.41764751076698303,
          0.417692095041275,
          0.41768449544906616,
          0.41756734251976013,
          0.41745108366012573,
          0.4172786772251129,
          0.4171062707901001,
          0.4168759882450104,
          0.41664478182792664,
          0.41641274094581604,
          0.4161797761917114,
          0.4157669246196747,
          0.41834598779678345,
          0.418332576751709,
          0.4182131886482239,
          0.418094664812088,
          0.4179770350456238,
          0.41780462861061096,
          0.41763225197792053,
          0.41740331053733826,
          0.41717347502708435,
          0.4169427454471588,
          0.41665327548980713,
          0.41888391971588135,
          0.4189670979976654,
          0.4188973605632782,
          0.41882941126823425,
          0.4186565577983856,
          0.4185374975204468,
          0.41836509108543396,
          0.4181380271911621,
          0.417910099029541,
          0.41773679852485657,
          0.417507529258728,
          0.41716450452804565,
          0.4194736182689667,
          0.41955047845840454,
          0.41947847604751587,
          0.41935673356056213,
          0.41923585534095764,
          0.4190634787082672,
          0.4188382029533386,
          0.41866534948349,
          0.41843876242637634,
          0.41821128129959106,
          0.41798293590545654,
          0.4174782633781433,
          0.420158326625824,
          0.4201311469078064,
          0.4200071692466736,
          0.41988405585289,
          0.4197618365287781,
          0.41953837871551514,
          0.4193655252456665,
          0.4191407263278961,
          0.41896745562553406,
          0.4187413156032562,
          0.41840773820877075,
          0.420738160610199,
          0.42075255513191223,
          0.42067447304725647,
          0.420501172542572,
          0.42037680745124817,
          0.42020395398139954,
          0.4200311303138733,
          0.419808030128479,
          0.41963475942611694,
          0.4194103181362152,
          0.4191334545612335,
          0.42132481932640076,
          0.421331524848938,
          0.4212954342365265,
          0.4211684763431549,
          0.42104241251945496,
          0.4208695590496063,
          0.4206967353820801,
          0.4204753339290619,
          0.42030206322669983,
          0.4200793504714966,
          0.4198557436466217,
          0.41937968134880066,
          0.4219706356525421,
          0.42188501358032227,
          0.4218011200428009,
          0.421673446893692,
          0.4215005934238434,
          0.42132776975631714,
          0.4211079776287079,
          0.4209347069263458,
          0.4207136034965515,
          0.42049163579940796,
          0.4200252890586853,
          0.42253202199935913,
          0.42244288325309753,
          0.4223991334438324,
          0.42226991057395935,
          0.4220970571041107,
          0.42187926173210144,
          0.4217059910297394,
          0.42153269052505493,
          0.4213131368160248,
          0.4210459589958191,
          0.4231258034706116,
          0.42307382822036743,
          0.4230245053768158,
          0.42289313673973083,
          0.4227626621723175,
          0.4225465655326843,
          0.42237329483032227,
          0.4221999943256378,
          0.42198213934898376,
          0.4217633903026581,
          0.42373037338256836,
          0.4236730933189392,
          0.42361849546432495,
          0.42352578043937683,
          0.42335250973701477,
          0.4231792092323303,
          0.42300593852996826,
          0.42279013991355896,
          0.4226164221763611,
          0.42235589027404785,
          0.4243405759334564,
          0.4242404103279114,
          0.4241807758808136,
          0.4241237938404083,
          0.4239504933357239,
          0.4237772226333618,
          0.42360392212867737,
          0.42338964343070984,
          0.42321592569351196,
          0.42291659116744995,
          0.42488133907318115,
          0.4247790575027466,
          0.4247160851955414,
          0.42461779713630676,
          0.4244445264339447,
          0.4242323935031891,
          0.4240586757659912,
          0.42388492822647095,
          0.4235907196998596,
          0.4254903197288513,
          0.42538437247276306,
          0.42531606554985046,
          0.42521411180496216,
          0.4250403940677643,
          0.4248666763305664,
          0.42469292879104614,
          0.4244810938835144,
          0.42419129610061646,
          0.4260298013687134,
          0.42595523595809937,
          0.4258488118648529,
          0.4256742000579834,
          0.4255349934101105,
          0.4253966808319092,
          0.4251866638660431,
          0.42493897676467896,
          0.42664003372192383,
          0.42652830481529236,
          0.42638537287712097,
          0.4262433350086212,
          0.4261021614074707,
          0.4259275496006012,
          0.4257529377937317,
          0.4254726469516754,
          0.42706918716430664,
          0.426955908536911,
          0.4267804026603699,
          0.42663735151290894,
          0.4264622926712036,
          0.42625391483306885,
          0.42768365144729614,
          0.4275367558002472,
          0.4273907542228699,
          0.4272456467151642,
          0.42707014083862305,
          0.4268312156200409,
          0.428117036819458,
          0.4279690682888031,
          0.4278219938278198,
          0.42761629819869995,
          0.42855045199394226,
          0.4283736050128937,
          0.4290192127227783
         ],
         "y": [
          0.1302182674407959,
          0.1339268684387207,
          0.1296071857213974,
          0.13250459730625153,
          0.135721355676651,
          0.12705636024475098,
          0.12996651232242584,
          0.1330137997865677,
          0.1362224817276001,
          0.13980241119861603,
          0.12758344411849976,
          0.1303190290927887,
          0.13334845006465912,
          0.136720210313797,
          0.14029546082019806,
          0.12518760561943054,
          0.12795041501522064,
          0.13082949817180634,
          0.13402201235294342,
          0.1372145265340805,
          0.1407850980758667,
          0.12249452620744705,
          0.12556904554367065,
          0.12846896052360535,
          0.13133656978607178,
          0.1345209926366806,
          0.13770543038845062,
          0.14127133786678314,
          0.1205950379371643,
          0.12367431074380875,
          0.1265837699174881,
          0.1294608861207962,
          0.13264530897140503,
          0.1356518417596817,
          0.13901416957378387,
          0.14258672297000885,
          0.11984952539205551,
          0.12292223423719406,
          0.1258266717195511,
          0.12885896861553192,
          0.13187509775161743,
          0.1350514441728592,
          0.13822779059410095,
          0.14159667491912842,
          0.11744102090597153,
          0.12039053440093994,
          0.12345346808433533,
          0.1263463944196701,
          0.12936890125274658,
          0.13254526257514954,
          0.13554352521896362,
          0.13889794051647186,
          0.14226853847503662,
          0.116831474006176,
          0.11964790523052216,
          0.12270427495241165,
          0.12574449181556702,
          0.12876851856708527,
          0.13177640736103058,
          0.13494466245174408,
          0.13811293244361877,
          0.14166662096977234,
          0.14585502445697784,
          0.11725233495235443,
          0.12018532305955887,
          0.1232319101691246,
          0.1262623369693756,
          0.1292765885591507,
          0.1324448436498642,
          0.1356131136417389,
          0.1387813687324524,
          0.14233846962451935,
          0.14633290469646454,
          0.11664583534002304,
          0.1194455698132515,
          0.12263000011444092,
          0.1256619393825531,
          0.12867772579193115,
          0.13184599578380585,
          0.13501425087451935,
          0.13818252086639404,
          0.1415436714887619,
          0.14532293379306793,
          0.11552269011735916,
          0.11833994090557098,
          0.12139119952917099,
          0.12442628294229507,
          0.12744522094726562,
          0.13061347603797913,
          0.13378173112869263,
          0.13695000112056732,
          0.14011825621128082,
          0.14368218183517456,
          0.1478961706161499,
          0.11594778299331665,
          0.11887862533330917,
          0.12192009389400482,
          0.12494540214538574,
          0.12811365723609924,
          0.13111472129821777,
          0.1342748999595642,
          0.13761845231056213,
          0.14078670740127563,
          0.14435404539108276,
          0.11390411853790283,
          0.1164945438504219,
          0.11941389739513397,
          0.12244558334350586,
          0.12561383843421936,
          0.12862128019332886,
          0.1317814588546753,
          0.13494163751602173,
          0.13828688859939575,
          0.14145515859127045,
          0.14522713422775269,
          0.11381912231445312,
          0.11640102416276932,
          0.11944878101348877,
          0.1224803775548935,
          0.125648632645607,
          0.12865598499774933,
          0.13181616365909576,
          0.1349763423204422,
          0.1383216828107834,
          0.14148995280265808,
          0.14506086707115173,
          0.1137339398264885,
          0.11643598973751068,
          0.11948366463184357,
          0.12251516431570053,
          0.12553051114082336,
          0.1286906898021698,
          0.13185086846351624,
          0.13501104712486267,
          0.1381712257862091,
          0.14152474701404572,
          0.1450958400964737,
          0.14932774007320404,
          0.11519718915224075,
          0.11824800074100494,
          0.121282659471035,
          0.12430114299058914,
          0.12746132910251617,
          0.13062149286270142,
          0.13378167152404785,
          0.13694186508655548,
          0.140292227268219,
          0.14365875720977783,
          0.147454172372818,
          0.11420316249132156,
          0.11701234430074692,
          0.12005013972520828,
          0.12321840971708298,
          0.12623195350170135,
          0.1293921321630478,
          0.13255231082439423,
          0.13571248948574066,
          0.1388726681470871,
          0.14222797751426697,
          0.14580266177654266,
          0.11267083883285522,
          0.11526712775230408,
          0.11831776797771454,
          0.12135224044322968,
          0.12437054514884949,
          0.12753072381019592,
          0.13052478432655334,
          0.13367688655853271,
          0.13701127469539642,
          0.14017145335674286,
          0.14353007078170776,
          0.14752447605133057,
          0.1137542873620987,
          0.1164468377828598,
          0.11948607861995697,
          0.12265433371067047,
          0.12566933035850525,
          0.1286681443452835,
          0.13182023167610168,
          0.13497233390808105,
          0.138310045003891,
          0.14166390895843506,
          0.14503394067287445,
          0.149259552359581,
          0.11482445150613785,
          0.11775226145982742,
          0.12078817188739777,
          0.12380792200565338,
          0.12696810066699982,
          0.12996359169483185,
          0.13311569392681122,
          0.1362677961587906,
          0.13960881531238556,
          0.14296600222587585,
          0.1465444564819336,
          0.11277707666158676,
          0.11537203937768936,
          0.11842241138219833,
          0.12145661562681198,
          0.1244746595621109,
          0.1274765282869339,
          0.13062863051891327,
          0.13378073275089264,
          0.13693282008171082,
          0.14027555286884308,
          0.14363445341587067,
          0.14742310345172882,
          0.11333786696195602,
          0.11591621488332748,
          0.11909256130456924,
          0.1221250593662262,
          0.12514139711856842,
          0.12814156711101532,
          0.1312936693429947,
          0.13444575667381287,
          0.13759785890579224,
          0.1409423053264618,
          0.14430288970470428,
          0.14830517768859863,
          0.11325350403785706,
          0.11595109850168228,
          0.11899159103631973,
          0.12215985357761383,
          0.1251761019229889,
          0.12817618250846863,
          0.131328284740448,
          0.13430412113666534,
          0.13763247430324554,
          0.14097701013088226,
          0.14433768391609192,
          0.14834032952785492,
          0.11328873783349991,
          0.11598597466945648,
          0.11902638524770737,
          0.12219464778900146,
          0.12521080672740936,
          0.12821079790592194,
          0.13119462132453918,
          0.1343386471271515,
          0.13766708970069885,
          0.14101170003414154,
          0.14437247812747955,
          0.14816679060459137,
          0.11332397162914276,
          0.11602085828781128,
          0.119061179459095,
          0.1222294420003891,
          0.12524551153182983,
          0.12824541330337524,
          0.13122914731502533,
          0.13437317311763763,
          0.13770170509815216,
          0.141046404838562,
          0.1444072723388672,
          0.1482018530368805,
          0.11295414716005325,
          0.11554688960313797,
          0.11859681457281113,
          0.12163057923316956,
          0.12464817613363266,
          0.12764960527420044,
          0.1306348741054535,
          0.1337788999080658,
          0.1369229108095169,
          0.14044907689094543,
          0.14380840957164764,
          0.1473911702632904,
          0.15165220201015472,
          0.11494497209787369,
          0.11799643188714981,
          0.12103171646595001,
          0.12405084818601608,
          0.12705381214618683,
          0.13004060089588165,
          0.13318461179733276,
          0.13632863759994507,
          0.13966219127178192,
          0.1430119276046753,
          0.14658352732658386,
          0.15082885324954987,
          0.11446642130613327,
          0.1173960417509079,
          0.12043286114931107,
          0.12345351278781891,
          0.12645800411701202,
          0.12944632768630981,
          0.13259033858776093,
          0.13573434948921204,
          0.13906638324260712,
          0.14241459965705872,
          0.14598314464092255,
          0.15000855922698975,
          0.11410665512084961,
          0.11679565161466599,
          0.11983399838209152,
          0.12285618484020233,
          0.12586219608783722,
          0.12885203957557678,
          0.1319960653781891,
          0.1351400762796402,
          0.1384705901145935,
          0.14181725680828094,
          0.1451800912618637,
          0.14919131994247437,
          0.11362046748399734,
          0.11619526147842407,
          0.11923513561487198,
          0.12225884944200516,
          0.12526638805866241,
          0.12825776636600494,
          0.13140179216861725,
          0.13454580307006836,
          0.1378747820854187,
          0.14121992886066437,
          0.14458124339580536,
          0.14837713539600372,
          0.11417712271213531,
          0.11686541140079498,
          0.11990358680486679,
          0.12292558699846268,
          0.12593142688274384,
          0.12892109155654907,
          0.13206511735916138,
          0.1352091282606125,
          0.13853982090950012,
          0.1418866664171219,
          0.14524967968463898,
          0.14905069768428802,
          0.11473037302494049,
          0.11753556877374649,
          0.120572030544281,
          0.1235923320055008,
          0.12644042074680328,
          0.1295844316482544,
          0.1327284425497055,
          0.1358724683523178,
          0.13920484483242035,
          0.1425534039735794,
          0.1459181308746338,
          0.15014950931072235,
          0.11528021842241287,
          0.11807221174240112,
          0.12109889090061188,
          0.12410939484834671,
          0.1271037459373474,
          0.13024775683879852,
          0.13339176774024963,
          0.13653579354286194,
          0.13986988365650177,
          0.14322015643119812,
          0.14679281413555145,
          0.15104080736637115,
          0.11595378071069717,
          0.11874065548181534,
          0.1217656284570694,
          0.12477443367242813,
          0.12776707112789154,
          0.13091108202934265,
          0.13405510783195496,
          0.13719911873340607,
          0.1405349224805832,
          0.14388689398765564,
          0.1476709246635437,
          0.1144404411315918,
          0.11700493842363358,
          0.12004275619983673,
          0.12306440621614456,
          0.12591518461704254,
          0.12905919551849365,
          0.13220322132110596,
          0.13534723222255707,
          0.13867828249931335,
          0.14202548563480377,
          0.14538885653018951,
          0.14919093251228333,
          0.11551108956336975,
          0.1183103621006012,
          0.1212029978632927,
          0.12421324104070663,
          0.12720732390880585,
          0.13035133481025696,
          0.13349536061286926,
          0.13663937151432037,
          0.1399737298488617,
          0.14332427084445953,
          0.14689746499061584,
          0.1511467844247818,
          0.11605895310640335,
          0.11884503811597824,
          0.12186974287033081,
          0.12487827241420746,
          0.12787064909934998,
          0.1310146600008011,
          0.1341586858034134,
          0.1373026967048645,
          0.14063875377178192,
          0.14399100840091705,
          0.14756761491298676,
          0.1520417481660843,
          0.11673251539468765,
          0.11951348185539246,
          0.12253648042678833,
          0.12554331123828888,
          0.1285339742898941,
          0.1316780000925064,
          0.13482201099395752,
          0.13796602189540863,
          0.14130379259586334,
          0.14485958218574524,
          0.1484476923942566,
          0.1153494268655777,
          0.11777973175048828,
          0.12067507207393646,
          0.12368666380643845,
          0.1266821026802063,
          0.1298261135816574,
          0.13297012448310852,
          0.13611415028572083,
          0.1394471526145935,
          0.1427963376045227,
          0.14616167545318604,
          0.15039615333080292,
          0.1168026328086853,
          0.11958306282758713,
          0.12260588258504868,
          0.1256125420331955,
          0.1286030262708664,
          0.13157735764980316,
          0.1348910629749298,
          0.13803507387638092,
          0.14137302339076996,
          0.14492915570735931,
          0.1485176384449005,
          0.11593909561634064,
          0.11848476529121399,
          0.12137652188539505,
          0.12438631802797318,
          0.12737995386123657,
          0.13035741448402405,
          0.1336679905653,
          0.1368120014667511,
          0.14014680683612823,
          0.1434977799654007,
          0.14707186818122864,
          0.11545566469430923,
          0.11801706999540329,
          0.12091995775699615,
          0.12393936514854431,
          0.12678568065166473,
          0.12976466119289398,
          0.13290059566497803,
          0.13621772825717926,
          0.13955099880695343,
          0.14290045201778412,
          0.14626605808734894,
          0.15071538090705872,
          0.11805204302072525,
          0.12095474451780319,
          0.12397406995296478,
          0.12682020664215088,
          0.12979911267757416,
          0.132935032248497,
          0.1362522542476654,
          0.13958561420440674,
          0.1429351568222046,
          0.14630085229873657,
          0.15075071156024933,
          0.11808700859546661,
          0.12098953872919083,
          0.12400877475738525,
          0.12685473263263702,
          0.12983354926109314,
          0.13314275443553925,
          0.13628678023815155,
          0.13962022960186005,
          0.14296986162662506,
          0.14654123783111572,
          0.15078602731227875,
          0.11812198162078857,
          0.12102433294057846,
          0.12404347956180573,
          0.12688925862312317,
          0.13003326952457428,
          0.1331772804260254,
          0.1363213062286377,
          0.13965484499931335,
          0.14300456643104553,
          0.14657612144947052,
          0.15082135796546936,
          0.11815694719552994,
          0.1210591271519661,
          0.1240781843662262,
          0.12692378461360931,
          0.13006779551506042,
          0.13321180641651154,
          0.13635583221912384,
          0.13968946039676666,
          0.1430392563343048,
          0.14661100506782532,
          0.15085668861865997,
          0.1181919202208519,
          0.12109392136335373,
          0.12411288917064667,
          0.12695831060409546,
          0.13010232150554657,
          0.13324633240699768,
          0.13639035820960999,
          0.13972407579421997,
          0.14307396113872528,
          0.14664588868618011,
          0.1508920043706894,
          0.11822689324617386,
          0.12112870812416077,
          0.12414759397506714,
          0.1269928365945816,
          0.13013684749603271,
          0.13328085839748383,
          0.13642488420009613,
          0.13975869119167328,
          0.14310866594314575,
          0.1466807723045349,
          0.11634853482246399,
          0.11876381933689117,
          0.12179715186357498,
          0.12481433153152466,
          0.12765616178512573,
          0.13080017268657684,
          0.13394419848918915,
          0.13727162778377533,
          0.1404237300157547,
          0.14377541840076447,
          0.14735090732574463,
          0.11690036952495575,
          0.11943396925926208,
          0.12232089042663574,
          0.12532827258110046,
          0.12831950187683105,
          0.13146349787712097,
          0.13460752367973328,
          0.13793666660785675,
          0.14128196239471436,
          0.14464344084262848,
          0.14843980967998505,
          0.11744878441095352,
          0.120104119181633,
          0.12298762798309326,
          0.12599331140518188,
          0.128982812166214,
          0.1321268379688263,
          0.1354495882987976,
          0.13860169053077698,
          0.14194871485233307,
          0.1453118771314621,
          0.1493244469165802,
          0.1179938018321991,
          0.12063422799110413,
          0.12365436553955078,
          0.1266583353281021,
          0.12981043756008148,
          0.13296252489089966,
          0.13611462712287903,
          0.1392667293548584,
          0.1426154524087906,
          0.1459803283214569,
          0.15021249651908875,
          0.11853539943695068,
          0.12130267173051834,
          0.1243211105465889,
          0.12732337415218353,
          0.1304754763841629,
          0.13362756371498108,
          0.13677966594696045,
          0.13993176817893982,
          0.1432821899652481,
          0.1468551754951477,
          0.15131844580173492,
          0.11857046186923981,
          0.12133746594190598,
          0.12435581535100937,
          0.12735798954963684,
          0.1305100917816162,
          0.1336621791124344,
          0.13681428134441376,
          0.13996638357639313,
          0.14331689476966858,
          0.1468900591135025,
          0.1513538509607315,
          0.11910856515169144,
          0.12200590968132019,
          0.12502256035804749,
          0.12802302837371826,
          0.13117511570453644,
          0.1343272179365158,
          0.13747932016849518,
          0.14082345366477966,
          0.1439836323261261,
          0.1475602090358734,
          0.11724139750003815,
          0.11964325606822968,
          0.12252911180257797,
          0.1255359649658203,
          0.12868806719779968,
          0.13184015452861786,
          0.13499225676059723,
          0.1381443589925766,
          0.14149019122123718,
          0.1448521912097931,
          0.1486501693725586,
          0.11779099702835083,
          0.12031340599060059,
          0.12319584935903549,
          0.12620098888874054,
          0.1293530911207199,
          0.13250519335269928,
          0.13565728068351746,
          0.13880938291549683,
          0.1421569287776947,
          0.1455206423997879,
          0.1493237316608429,
          0.11833717674016953,
          0.1209835559129715,
          0.12386259436607361,
          0.12686602771282196,
          0.13001812994480133,
          0.1331702172756195,
          0.13632231950759888,
          0.13947442173957825,
          0.14282366633415222,
          0.14618907868862152,
          0.15021060407161713,
          0.11887995153665543,
          0.12151142954826355,
          0.12452933192253113,
          0.12753106653690338,
          0.1305166333913803,
          0.13366064429283142,
          0.1369873583316803,
          0.1403302252292633,
          0.14349041879177094,
          0.1470644623041153,
          0.15110088884830475,
          0.11941931396722794,
          0.12217987328767776,
          0.12519606947898865,
          0.1281961053609848,
          0.13117995858192444,
          0.13432398438453674,
          0.13765239715576172,
          0.14099696278572083,
          0.14415715634822845,
          0.1477346122264862,
          0.15177786350250244,
          0.11959036439657211,
          0.1222146674990654,
          0.12523077428340912,
          0.1282307207584381,
          0.13121448457241058,
          0.1343585103750229,
          0.13768699765205383,
          0.1408390998840332,
          0.14419186115264893,
          0.147769495844841,
          0.1515962779521942,
          0.1196255162358284,
          0.12224945425987244,
          0.1252654790878296,
          0.12826533615589142,
          0.13124901056289673,
          0.13439303636550903,
          0.13772161304950714,
          0.1408737152814865,
          0.1442265659570694,
          0.1478043645620346,
          0.1516314297914505,
          0.11979682743549347,
          0.12242849916219711,
          0.12530018389225006,
          0.12829995155334473,
          0.13128353655338287,
          0.13442756235599518,
          0.1375715732574463,
          0.14090833067893982,
          0.14426127076148987,
          0.14763034880161285,
          0.15144957602024078,
          0.11881464719772339,
          0.12133394926786423,
          0.12421999871730804,
          0.1270737200975418,
          0.13006046414375305,
          0.13320447504520416,
          0.13634848594665527,
          0.1396821141242981,
          0.14303189516067505,
          0.14639782905578613,
          0.14977993071079254,
          0.15384401381015778,
          0.12050903588533401,
          0.12313353270292282,
          0.12600162625312805,
          0.12899959087371826,
          0.13198140263557434,
          0.13512541353702545,
          0.13826942443847656,
          0.14160798490047455,
          0.14496271312236786,
          0.1483335942029953,
          0.15193942189216614,
          0.15625818073749542,
          0.1220407783985138,
          0.1249232366681099,
          0.12777337431907654,
          0.13075831532478333,
          0.13390232622623444,
          0.13704635202884674,
          0.14038175344467163,
          0.14373333752155304,
          0.14689351618289948,
          0.15026932954788208,
          0.15410876274108887,
          0.12071765214204788,
          0.12334951758384705,
          0.126071035861969,
          0.12906882166862488,
          0.13205045461654663,
          0.13519446551799774,
          0.13833847641944885,
          0.14167721569538116,
          0.1450321227312088,
          0.14840316772460938,
          0.15179039537906647,
          0.15587492287158966,
          0.12225379049777985,
          0.12499282509088516,
          0.1280018538236618,
          0.13099469244480133,
          0.13397137820720673,
          0.13711540400981903,
          0.14025941491127014,
          0.14360308647155762,
          0.14696292579174042,
          0.15033891797065735,
          0.15395498275756836,
          0.1209266185760498,
          0.12341945618391037,
          0.12629492580890656,
          0.1291380524635315,
          0.13229015469551086,
          0.13526351749897003,
          0.13840752840042114,
          0.14174644649028778,
          0.14510151743888855,
          0.14826169610023499,
          0.15164101123809814,
          0.1554909497499466,
          0.12275367975234985,
          0.12521374225616455,
          0.12807124853134155,
          0.13106392323970795,
          0.13404043018817902,
          0.13718445599079132,
          0.14052021503448486,
          0.14367231726646423,
          0.14703233540058136,
          0.15040850639343262,
          0.1538008451461792,
          0.15837015211582184,
          0.12427447736263275,
          0.1269981563091278,
          0.13000206649303436,
          0.1329897940158844,
          0.1359613686800003,
          0.13929399847984314,
          0.14244608581066132,
          0.14580295979976654,
          0.14896315336227417,
          0.1523442566394806,
          0.15619955956935883,
          0.12396436929702759,
          0.12655404210090637,
          0.12940473854541779,
          0.13256490230560303,
          0.13554608821868896,
          0.13869819045066833,
          0.1418502777814865,
          0.14520563185214996,
          0.1483658105134964,
          0.15174539387226105,
          0.1553686410188675,
          0.12364814430475235,
          0.12626010179519653,
          0.12896870076656342,
          0.13196757435798645,
          0.13495028018951416,
          0.13810238242149353,
          0.1412544846534729,
          0.1446083039045334,
          0.14776848256587982,
          0.1511465311050415,
          0.1545407474040985,
          0.15912136435508728,
          0.12629516422748566,
          0.1291648894548416,
          0.13200227916240692,
          0.13498489558696747,
          0.13813699781894684,
          0.1412891000509262,
          0.14464300870895386,
          0.1478031873703003,
          0.15118132531642914,
          0.1545756310224533,
          0.15915678441524506,
          0.12712374329566956,
          0.1299981325864792,
          0.13266901671886444,
          0.1356499344110489,
          0.13880203664302826,
          0.14214956760406494,
          0.14530974626541138,
          0.1484699249267578,
          0.15184977650642395,
          0.15547354519367218,
          0.1268257349729538,
          0.1295577883720398,
          0.13224133849143982,
          0.1352318674325943,
          0.13820622861385345,
          0.14155222475528717,
          0.1447124183177948,
          0.14787259697914124,
          0.1512509137392044,
          0.1546453982591629,
          0.1270146369934082,
          0.12975451350212097,
          0.13244587182998657,
          0.13526657223701477,
          0.1384267508983612,
          0.14158692955970764,
          0.14474712312221527,
          0.14811745285987854,
          0.15128570795059204,
          0.15490660071372986,
          0.1276950240135193,
          0.13059313595294952,
          0.1332874596118927,
          0.1359333097934723,
          0.13909348845481873,
          0.14225366711616516,
          0.1454138606786728,
          0.14878588914871216,
          0.15195414423942566,
          0.15580646693706512,
          0.13014847040176392,
          0.1330253779888153,
          0.13569197058677673,
          0.13849616050720215,
          0.14165633916854858,
          0.1450187712907791,
          0.14818702638149261,
          0.15135528147220612,
          0.15520302951335907,
          0.13034571707248688,
          0.1332305371761322,
          0.1359049528837204,
          0.13871702551841736,
          0.14188529551029205,
          0.14505356550216675,
          0.14822182059288025,
          0.15160857141017914,
          0.15546467900276184,
          0.13231602311134338,
          0.1350160390138626,
          0.1378505825996399,
          0.14103500545024872,
          0.1440202295780182,
          0.14698930084705353,
          0.1503729224205017,
          0.15399613976478577,
          0.13299641013145447,
          0.13586795330047607,
          0.13889189064502716,
          0.14189967513084412,
          0.14489127695560455,
          0.14807571470737457,
          0.1512601375579834,
          0.15511998534202576,
          0.1373666375875473,
          0.14020727574825287,
          0.1434078812599182,
          0.1464042365550995,
          0.14959675073623657,
          0.15300963819026947,
          0.13758201897144318,
          0.1406187117099762,
          0.14363925158977509,
          0.14664360880851746,
          0.1498442143201828,
          0.1534857451915741,
          0.1414872258901596,
          0.14451414346694946,
          0.147524893283844,
          0.1509476602077484,
          0.14539246261119843,
          0.14861729741096497,
          0.14865271747112274
         ],
         "z": [
          -0.0019121811492368579,
          -0.0008615690167061985,
          -0.0019220361718907952,
          0.00011717805318767205,
          0.00016131608572322875,
          -0.001958506880328059,
          8.088943286566064e-05,
          0.0011224645422771573,
          0.0011664917692542076,
          -0.0007838821038603783,
          -0.0009530085371807218,
          0.002083765808492899,
          0.003125099465250969,
          0.0021715983748435974,
          0.00022115306637715548,
          -0.0019870889373123646,
          0.0010500699281692505,
          0.0030890845227986574,
          0.0031328897457569838,
          0.0031766952015459538,
          0.0012261783704161644,
          -0.0010257679969072342,
          1.6161870007636026e-05,
          0.0020554696675390005,
          0.004094333853572607,
          0.004138028249144554,
          0.004181722644716501,
          0.002231134567409754,
          -0.0010532980086281896,
          -1.129908469010843e-05,
          0.0020281467586755753,
          0.0040671490132808685,
          0.004110843408852816,
          0.005151873920112848,
          0.00419823219999671,
          0.0022477279417216778,
          -6.524286436615512e-05,
          0.0009766994044184685,
          0.0030160837341099977,
          0.004057441838085651,
          0.005098607856780291,
          0.0051421914249658585,
          0.005185774993151426,
          0.00423221942037344,
          -0.0010995081393048167,
          0.0009405020973645151,
          0.0019822840113192797,
          0.0040215179324150085,
          0.00506277522072196,
          0.005106358788907528,
          0.006147253327071667,
          0.005193525925278664,
          0.004239989910274744,
          -0.0011093384819105268,
          0.0019286113092675805,
          0.002970336936414242,
          0.004011810757219791,
          0.00505309272557497,
          0.006094122771173716,
          0.006137595511972904,
          0.006181068252772093,
          0.004230282735079527,
          -0.0007110981387086213,
          0.0008945235749706626,
          0.0029343217611312866,
          0.0039758868515491486,
          0.00501726008951664,
          0.006058381404727697,
          0.006101854145526886,
          0.006145326886326075,
          0.006188799161463976,
          0.004238053224980831,
          0.000293754565063864,
          0.0008847425342537463,
          0.003922485280781984,
          0.003966179676353931,
          0.00500757759436965,
          0.006048723589628935,
          0.0060921963304281235,
          0.006135668605566025,
          0.006179141346365213,
          0.005225494969636202,
          0.0022779947612434626,
          -0.00013192679034546018,
          0.00290609709918499,
          0.003947733901441097,
          0.004989177919924259,
          0.006030370946973562,
          0.006073843687772751,
          0.0061173164285719395,
          0.006160788703709841,
          0.006204261444509029,
          0.004253594670444727,
          -0.0006874905666336417,
          0.0018720190273597836,
          0.003911809995770454,
          0.004953345283865929,
          0.005994629580527544,
          0.006038102321326733,
          0.007079053670167923,
          0.007122415117919445,
          0.006168520078063011,
          0.0062119928188622,
          0.004261365160346031,
          -0.0021566147916018963,
          0.0028778724372386932,
          0.004917512647807598,
          0.005958888214081526,
          0.006002360954880714,
          0.00704340310767293,
          0.007086765021085739,
          0.0071301269344985485,
          0.0061762514524161816,
          0.006219723727554083,
          0.003272120375186205,
          -0.001159470877610147,
          0.0038749175146222115,
          0.004916546866297722,
          0.005957924760878086,
          0.006001397501677275,
          0.007042442448437214,
          0.007085803896188736,
          0.007129165809601545,
          0.006175287999212742,
          0.0062187607400119305,
          0.004268167540431023,
          -0.00016232211783062667,
          0.0038739494048058987,
          0.004915581084787846,
          0.005956961307674646,
          0.006998119875788689,
          0.007041481323540211,
          0.00708484323695302,
          0.007128204684704542,
          0.0071715665981173515,
          0.006217797286808491,
          0.0042671989649534225,
          -0.000673713511787355,
          0.003855503164231777,
          0.004897181876003742,
          0.005938609130680561,
          0.006979814264923334,
          0.007023175712674856,
          0.0070665376260876656,
          0.007109899073839188,
          0.007153260987251997,
          0.006199444644153118,
          0.005245849955826998,
          0.0022985052783042192,
          0.0018408031901344657,
          0.004878782667219639,
          0.0059202564880251884,
          0.005963729228824377,
          0.007004870101809502,
          0.007048232015222311,
          0.007091593462973833,
          0.0071349553763866425,
          0.007178317289799452,
          0.006224564742296934,
          0.004274001345038414,
          -0.0011810929281637073,
          0.003853566711768508,
          0.00489525031298399,
          0.005936682224273682,
          0.006977892480790615,
          0.007021253928542137,
          0.00806216150522232,
          0.008105412125587463,
          0.007151339203119278,
          0.0071947006508708,
          0.006240990478545427,
          0.002296558814123273,
          0.000831934274174273,
          0.004868134390562773,
          0.005909635219722986,
          0.005953107960522175,
          0.006994275841861963,
          0.008035251870751381,
          0.008078503422439098,
          0.008121754042804241,
          0.0071677230298519135,
          0.006213943473994732,
          0.005260386038571596,
          0.0003192835138179362,
          0.0028447937220335007,
          0.004884601570665836,
          0.005926060955971479,
          0.006967298220843077,
          0.007010659668594599,
          0.008051593787968159,
          0.008094844408333302,
          0.008138095960021019,
          0.007184106856584549,
          0.006230369210243225,
          0.004279835615307093,
          -0.001184034743346274,
          0.0038506616838276386,
          0.004892352502793074,
          0.0059337918646633625,
          0.006975009571760893,
          0.008016034960746765,
          0.008059285581111908,
          0.00810253620147705,
          0.008145787753164768,
          0.007191818207502365,
          0.006238100118935108,
          0.003290637396275997,
          -0.00017799668421503156,
          0.004856519866734743,
          0.004900103434920311,
          0.005941523239016533,
          0.006982720922678709,
          0.008023726753890514,
          0.008066977374255657,
          0.0081102279946208,
          0.008153478614985943,
          0.007199529558420181,
          0.006245831493288279,
          0.002301448956131935,
          0.0008192261448130012,
          0.004855554085224867,
          0.005897087045013905,
          0.005940559785813093,
          0.006981759797781706,
          0.008022768422961235,
          0.008066019043326378,
          0.009106664918363094,
          0.008152520284056664,
          0.007198568433523178,
          0.006244868040084839,
          0.002300475724041462,
          0.0008182504680007696,
          0.004854588303714991,
          0.005896123591810465,
          0.0059395963326096535,
          0.00698079913854599,
          0.008021809160709381,
          0.0090625686571002,
          0.009105708450078964,
          0.008151561953127384,
          0.007197607774287462,
          0.006243904586881399,
          0.0032964861020445824,
          0.0008172747911885381,
          0.004853622522205114,
          0.005895160138607025,
          0.005938632879406214,
          0.006979838013648987,
          0.008020850829780102,
          0.009061613120138645,
          0.009104752913117409,
          0.008150603622198105,
          0.007196646649390459,
          0.0062429411336779594,
          0.0032955154310911894,
          -0.001188937691040337,
          0.0038458202034235,
          0.004887523595243692,
          0.005928975064307451,
          0.006970204878598452,
          0.008011242374777794,
          0.009052028879523277,
          0.00909516867250204,
          0.009138308465480804,
          0.007187013514339924,
          0.006233283318579197,
          0.004282764624804258,
          -0.0006579507025890052,
          0.003836113028228283,
          0.004877840634435415,
          0.005919317249208689,
          0.006960571743547916,
          0.008001633919775486,
          0.00904244463890791,
          0.009085584431886673,
          0.009128724224865437,
          0.008174637332558632,
          0.007220741827040911,
          0.005270092282444239,
          0.00032911362359300256,
          0.002828266704455018,
          0.0048681581392884254,
          0.005909658968448639,
          0.006950938142836094,
          0.007992025464773178,
          0.009032860398292542,
          0.009076000191271305,
          0.009119140915572643,
          0.008165028877556324,
          0.0072111086919903755,
          0.005260409787297249,
          0.001316256821155548,
          0.0008221774478442967,
          0.004858475644141436,
          0.005900001153349876,
          0.006941305007785559,
          0.00798241700977087,
          0.009023277088999748,
          0.009066416881978512,
          0.009109556674957275,
          0.008155419491231441,
          0.00720147555693984,
          0.006247782148420811,
          0.0023034196346998215,
          -0.00018582178745418787,
          0.004848793148994446,
          0.005890343338251114,
          0.0069316718727350235,
          0.007972807623445988,
          0.00901369284838438,
          0.009056832641363144,
          0.009099972434341908,
          0.008145811036229134,
          0.007191841956228018,
          0.006238124333322048,
          0.003290661610662937,
          0.0008202260942198336,
          0.004856544081121683,
          0.005898074246942997,
          0.00693938322365284,
          0.007980499416589737,
          0.009021365083754063,
          0.009064504876732826,
          0.00910764466971159,
          0.008153502829372883,
          0.007199553307145834,
          0.006245855242013931,
          0.0032984516583383083,
          0.00182620482519269,
          0.0048642950132489204,
          0.005905805621296167,
          0.006947094574570656,
          0.008985896594822407,
          0.00902903638780117,
          0.009072176180779934,
          0.009115316905081272,
          0.008161194622516632,
          0.00720726465806365,
          0.006253586616367102,
          0.001312354113906622,
          0.0028321738354861736,
          0.005870064254850149,
          0.006911444012075663,
          0.007952632382512093,
          0.008993568830192089,
          0.009036708623170853,
          0.009079848416149616,
          0.00912298820912838,
          0.008168886415660381,
          0.007214976474642754,
          0.005264297593384981,
          0.00032324480707757175,
          0.0028399641159921885,
          0.005877795163542032,
          0.006919155828654766,
          0.007960324175655842,
          0.009001241065561771,
          0.009044380858540535,
          0.009087520651519299,
          0.009130660444498062,
          0.00817657820880413,
          0.00722268782556057,
          0.004275017883628607,
          -0.0001818848541006446,
          0.004852680489420891,
          0.0058942208997905254,
          0.006935539189726114,
          0.008974400348961353,
          0.009017540141940117,
          0.009060680866241455,
          0.009103820659220219,
          0.008149669505655766,
          0.007195709738880396,
          0.00624200189486146,
          0.0032945687416940928,
          0.0018310952000319958,
          0.004869148135185242,
          0.006908561568707228,
          0.00794975645840168,
          0.008990700356662273,
          0.009033840149641037,
          0.009076980873942375,
          0.009120120666921139,
          0.008166010491549969,
          0.007212093565613031,
          0.005261399783194065,
          0.0003203103842679411,
          0.002837051870301366,
          0.005874905269593,
          0.006916272919625044,
          0.00795744825154543,
          0.008998372592031956,
          0.00904151238501072,
          0.009084652177989483,
          0.009127791970968246,
          0.008173702284693718,
          0.0072198049165308475,
          0.005269150715321302,
          -0.0006687372224405408,
          0.0028448421508073807,
          0.0058826361782848835,
          0.00692398427054286,
          0.007965140044689178,
          0.009006044827401638,
          0.009049184620380402,
          0.009092324413359165,
          0.009135464206337929,
          0.008181394077837467,
          0.006230417173355818,
          0.004279883578419685,
          -0.0011751360725611448,
          0.004857534077018499,
          0.006897006183862686,
          0.007938231341540813,
          0.008979205042123795,
          0.009022344835102558,
          0.009065484628081322,
          0.009108624421060085,
          0.008154485374689102,
          0.00720053818076849,
          0.006246842909604311,
          0.0013055243762210011,
          0.002842900576069951,
          0.005880709271878004,
          0.006922062486410141,
          0.00796322338283062,
          0.009004132822155952,
          0.01004484947770834,
          0.00909041240811348,
          0.009133552201092243,
          0.008179477415978909,
          0.006228490266948938,
          0.0042779468931257725,
          -0.00017009851580951363,
          0.004864318761974573,
          0.0069037568755447865,
          0.007944964803755283,
          0.008985920809209347,
          0.01002668496221304,
          0.009072200395166874,
          0.009115340188145638,
          0.008161218836903572,
          0.00720728887245059,
          0.0052565704099833965,
          -0.0011780778877437115,
          0.00385654391720891,
          0.0058961715549230576,
          0.006937485188245773,
          0.008976336568593979,
          0.010017124935984612,
          0.010060153901576996,
          0.00910575594753027,
          0.00815160945057869,
          0.007197655737400055,
          0.006243952549993992,
          0.0003056139685213566,
          0.0038555755745619535,
          0.005895208101719618,
          0.00693652406334877,
          0.008975381031632423,
          0.01001617219299078,
          0.010059201158583164,
          0.009104800410568714,
          0.00815065111964941,
          0.007196694612503052,
          0.006242989096790552,
          0.0003046358178835362,
          0.003854607231914997,
          0.0058942451141774654,
          0.006935563404113054,
          0.008974424563348293,
          0.010015218518674374,
          0.00906070414930582,
          0.009103843942284584,
          0.008149692788720131,
          0.007195733487606049,
          0.005244956351816654,
          0.0003036576963495463,
          0.0038536391220986843,
          0.005893281660974026,
          0.006934602279216051,
          0.008973469026386738,
          0.009016608819365501,
          0.009059748612344265,
          0.009102888405323029,
          0.008148734457790852,
          0.007194772828370333,
          0.005243990570306778,
          0.00030267954571172595,
          0.003852670779451728,
          0.005892318207770586,
          0.006933641619980335,
          0.008972512558102608,
          0.009015652351081371,
          0.009058792144060135,
          0.009101931937038898,
          0.008147776126861572,
          0.0071938117034733295,
          0.005243024788796902,
          0.00030170142417773604,
          0.0038517024368047714,
          0.005891354754567146,
          0.006932680495083332,
          0.008971556089818478,
          0.009014696814119816,
          0.00905783660709858,
          0.009100976400077343,
          0.008146817795932293,
          0.007192851044237614,
          0.0052420590072870255,
          0.0003007232735399157,
          0.003850734094157815,
          0.005890391301363707,
          0.006931719370186329,
          0.008970600552856922,
          0.009013740345835686,
          0.00905688013881445,
          0.009100019931793213,
          0.008145859465003014,
          0.0071918899193406105,
          0.005241092760115862,
          -0.0011760921915993094,
          0.004856592044234276,
          0.005898122675716877,
          0.006939431186765432,
          0.008978272788226604,
          0.009021412581205368,
          0.009064552374184132,
          0.008110299706459045,
          0.008153550326824188,
          0.007199601270258427,
          0.005248843692243099,
          -0.00017007415590342134,
          0.004864342976361513,
          0.006903780624270439,
          0.007944988086819649,
          0.008985944092273712,
          0.009029083885252476,
          0.009072224609553814,
          0.008117991499602795,
          0.007163951173424721,
          0.006210161838680506,
          0.003262485144659877,
          0.0008359341882169247,
          0.0048720939084887505,
          0.006911491975188255,
          0.007952679879963398,
          0.008993616327643394,
          0.009036756120622158,
          0.008082432672381401,
          0.008125683292746544,
          0.007171662524342537,
          0.006217893213033676,
          0.0022732256911695004,
          0.0018418733961880207,
          0.005877843126654625,
          0.0069192033261060715,
          0.007960371673107147,
          0.00800362229347229,
          0.008046872913837433,
          0.00809012446552515,
          0.008133375085890293,
          0.007179373875260353,
          0.006225624121725559,
          0.0012840350391343236,
          0.0028478028252720833,
          0.005885574501007795,
          0.006926915142685175,
          0.007968063466250896,
          0.00801131408661604,
          0.008054564706981182,
          0.008097815327346325,
          0.008141066879034042,
          0.007187085226178169,
          0.005236263852566481,
          -0.000702126242686063,
          0.0028468321543186903,
          0.005884611047804356,
          0.006925954017788172,
          0.007967105135321617,
          0.00801035575568676,
          0.008053606376051903,
          0.008096856996417046,
          0.008140108548104763,
          0.007186124566942453,
          0.005235298071056604,
          -0.0007031068671494722,
          0.003852694761008024,
          0.005892341956496239,
          0.006933665368705988,
          0.007974796928465366,
          0.00801804754883051,
          0.008061298169195652,
          0.008104548789560795,
          0.00715047400444746,
          0.0071938359178602695,
          0.005243048537522554,
          -0.0011741066118702292,
          0.004858547821640968,
          0.006898015271872282,
          0.007939237169921398,
          0.007982488721609116,
          0.008025739341974258,
          0.008068989962339401,
          0.008112240582704544,
          0.007158185355365276,
          0.006204381585121155,
          0.0032566606532782316,
          -0.00016809350927360356,
          0.004866298753768206,
          0.006905726622790098,
          0.007946928963065147,
          0.00799017958343029,
          0.008033431135118008,
          0.00807668175548315,
          0.008119932375848293,
          0.0071658967062830925,
          0.006212112959474325,
          0.0032644509337842464,
          0.0008379098726436496,
          0.004874049685895443,
          0.006913437973707914,
          0.007954620756208897,
          0.00799787137657404,
          0.008041121996939182,
          0.0080843735486269,
          0.008127624168992043,
          0.007173608057200909,
          0.006219843868166208,
          0.0022751963697373867,
          0.001843844074755907,
          0.005879794247448444,
          0.0069211493246257305,
          0.007962312549352646,
          0.009003223851323128,
          0.009046363644301891,
          0.008092065341770649,
          0.007137957960367203,
          0.007181319873780012,
          0.005230468697845936,
          0.0012860108399763703,
          0.002849768614396453,
          0.0058875251561403275,
          0.006928860675543547,
          0.007970004342496395,
          0.00901089608669281,
          0.009054035879671574,
          0.008099756203591824,
          0.007145669311285019,
          0.007189031224697828,
          0.005238219629973173,
          0.0012938405852764845,
          0.0018506809137761593,
          0.005886561702936888,
          0.006927900016307831,
          0.007969046011567116,
          0.009009940549731255,
          0.009053080342710018,
          0.008098797872662544,
          0.008142049424350262,
          0.007188070099800825,
          0.00523725338280201,
          0.0022898430470377207,
          0.0018497076816856861,
          0.005885598249733448,
          0.006926938891410828,
          0.007968087680637836,
          0.009008984081447124,
          0.009052123874425888,
          0.008097839541733265,
          0.008141090162098408,
          0.007187109440565109,
          0.005236287601292133,
          0.0022888698149472475,
          0.0008506423328071833,
          0.0048866537399590015,
          0.0069259777665138245,
          0.007967128418385983,
          0.009008027613162994,
          0.009051168337464333,
          0.009094308130443096,
          0.008140131831169128,
          0.007186148315668106,
          0.006232415791600943,
          0.0032849095296114683,
          -0.0011642518220469356,
          0.0038701966404914856,
          0.005909755360335112,
          0.007948869839310646,
          0.008989815600216389,
          0.009032956324517727,
          0.00907609611749649,
          0.008121873252093792,
          0.0071678427048027515,
          0.006214063614606857,
          0.0052605061791837215,
          0.0013163541443645954,
          0.0008574964012950659,
          0.004893438890576363,
          0.006932728458195925,
          0.007973861880600452,
          0.009014744311571121,
          0.009057884104549885,
          0.009101023897528648,
          0.008146865293383598,
          0.007192899007350206,
          0.006239183712750673,
          0.004288694821298122,
          -0.0006519448943436146,
          0.003876999020576477,
          0.005916522815823555,
          0.007955603301525116,
          0.008996532298624516,
          0.009039672091603279,
          0.009082811884582043,
          0.008128606714308262,
          0.0071745929308235645,
          0.007217954844236374,
          0.006264303810894489,
          0.0033170415554195642,
          -0.00014256444410420954,
          0.0038935085758566856,
          0.006930806674063206,
          0.007971945218741894,
          0.009012832306325436,
          0.0090559720993042,
          0.009099111892282963,
          0.00814494863152504,
          0.0071909767575562,
          0.006237256806343794,
          0.0052837589755654335,
          0.0013398433802649379,
          0.0028770468197762966,
          0.005914596375077963,
          0.006955862510949373,
          0.0079969372600317,
          0.009037760086357594,
          0.009080899879336357,
          0.00912403967231512,
          0.008169940672814846,
          0.007216033060103655,
          0.00626237690448761,
          0.0043120067566633224,
          -0.0011426054406911135,
          0.0038915718905627728,
          0.005931021645665169,
          0.007970028556883335,
          0.008013279177248478,
          0.009054060094058514,
          0.009097199887037277,
          0.008143031038343906,
          0.007189054973423481,
          0.00723241688683629,
          0.006278802640736103,
          0.0033316512126475573,
          -0.00011901604011654854,
          0.004914759658277035,
          0.006953940726816654,
          0.007995019666850567,
          0.009035848081111908,
          0.009078987874090672,
          0.00812477245926857,
          0.008168023079633713,
          0.007214111275970936,
          0.006260450463742018,
          0.005307011306285858,
          -0.0006302985129877925,
          0.002900417661294341,
          0.0059377895668148994,
          0.006978996563702822,
          0.008020011708140373,
          0.009060775861144066,
          0.008106513880193233,
          0.008149764500558376,
          0.007195805665105581,
          0.007239167112857103,
          0.006285570561885834,
          0.003338470822200179,
          0.0008946937741711736,
          0.004930261522531509,
          0.0069693634286522865,
          0.007012725342065096,
          0.008053653873503208,
          0.008096905425190926,
          0.008140156045556068,
          0.007186172064393759,
          0.007229533977806568,
          0.006275912746787071,
          0.004325611051172018,
          -0.0011111286003142595,
          0.002924759406596422,
          0.005961946211755276,
          0.007003091741353273,
          0.0080440454185009,
          0.008087296038866043,
          0.00813054759055376,
          0.007176538929343224,
          0.007219900842756033,
          0.006266254466027021,
          0.005312830209732056,
          -0.0006243905518203974,
          0.0029237885028123856,
          0.004963196348398924,
          0.0070021310821175575,
          0.008043087087571621,
          0.008086337707936764,
          0.008129589259624481,
          0.00717557780444622,
          0.00721893971785903,
          0.006265291478484869,
          0.005311864428222179,
          -0.0006253711180761456,
          0.0019336715340614319,
          0.003973151091486216,
          0.007009842433035374,
          0.00805077888071537,
          0.008094029501080513,
          0.0071399277076125145,
          0.007183289621025324,
          0.007226651068776846,
          0.006273022387176752,
          0.004322706256061792,
          -7.19192175893113e-05,
          0.002965652383863926,
          0.006002528592944145,
          0.0070435707457363605,
          0.008084421046078205,
          0.007130294572561979,
          0.007173656020313501,
          0.007217017933726311,
          0.00626336457207799,
          0.005309932865202427,
          -0.0010708021000027657,
          0.001966858049854636,
          0.005003882572054863,
          0.007042610086500645,
          0.007085971534252167,
          0.007129333447664976,
          0.0071726953610777855,
          0.006218928378075361,
          0.00626240111887455,
          0.004312030505388975,
          -0.0010629328899085522,
          0.0009768939344212413,
          0.00401394022628665,
          0.007050321437418461,
          0.00709368335083127,
          0.007137044798582792,
          0.007180406711995602,
          0.006226659752428532,
          0.006270132027566433,
          0.0033229144755750895,
          -3.071559694944881e-05,
          0.0020088276360183954,
          0.005045534111559391,
          0.007084049750119448,
          0.007127411663532257,
          0.0061735291965305805,
          0.006217001937329769,
          0.0062604742124676704,
          0.003313182620331645,
          -0.0010294949170202017,
          0.001010164269246161,
          0.004046959336847067,
          0.006085620261728764,
          0.006129093002527952,
          0.006172565743327141,
          0.006216038484126329,
          0.005262486170977354,
          0.0023152681533247232,
          -0.0010039262706413865,
          0.002033231081441045,
          0.0040722074918448925,
          0.00411590188741684,
          0.005156919825822115,
          0.006197685841470957,
          0.005244086496531963,
          0.003293718909844756,
          -0.000996057060547173,
          0.0010434344876557589,
          0.002084957202896476,
          0.003126288065686822,
          0.004167367238551378,
          0.004211061634123325,
          0.0042547560296952724,
          0.0013075972674414515,
          6.247548299143091e-05,
          0.0021015505772083998,
          0.002145466860383749,
          0.003186644520610571,
          0.003230449976399541,
          0.002277215477079153,
          -0.0009360697004012764,
          0.00010563537944108248,
          0.001147148315794766,
          0.002188409911468625,
          0.0022323261946439743,
          0.0002821874222718179,
          -0.000883951666764915,
          0.0001576228823978454,
          0.0011990051716566086,
          0.0002458988456055522,
          -0.0008318335167132318,
          -0.0007875845185481012,
          -0.0007885651430115104
         ]
        }
       ],
       "frames": [
        {
         "layout": {
          "scene": {
           "camera": {
            "eye": {
             "x": 1.25,
             "y": 1.25,
             "z": 0.8
            }
           }
          }
         }
        },
        {
         "layout": {
          "scene": {
           "camera": {
            "eye": {
             "x": 1.3685469774060675,
             "y": 1.1189634357889973,
             "z": 0.8
            }
           }
          }
         }
        },
        {
         "layout": {
          "scene": {
           "camera": {
            "eye": {
             "x": 1.4734198857953784,
             "y": 0.9767465588077254,
             "z": 0.8
            }
           }
          }
         }
        },
        {
         "layout": {
          "scene": {
           "camera": {
            "eye": {
             "x": 1.5635708697336819,
             "y": 0.824770353080333,
             "z": 0.8
            }
           }
          }
         }
        },
        {
         "layout": {
          "scene": {
           "camera": {
            "eye": {
             "x": 1.6380991703894194,
             "y": 0.6645533146177932,
             "z": 0.8
            }
           }
          }
         }
        },
        {
         "layout": {
          "scene": {
           "camera": {
            "eye": {
             "x": 1.6962601256182197,
             "y": 0.4976962791077122,
             "z": 0.8
            }
           }
          }
         }
        },
        {
         "layout": {
          "scene": {
           "camera": {
            "eye": {
             "x": 1.737472610380892,
             "y": 0.32586642689330336,
             "z": 0.8
            }
           }
          }
         }
        },
        {
         "layout": {
          "scene": {
           "camera": {
            "eye": {
             "x": 1.7613248431527242,
             "y": 0.15078062505849654,
             "z": 0.8
            }
           }
          }
         }
        },
        {
         "layout": {
          "scene": {
           "camera": {
            "eye": {
             "x": 1.7675785003083602,
             "y": -0.025811726940446755,
             "z": 0.8
            }
           }
          }
         }
        },
        {
         "layout": {
          "scene": {
           "camera": {
            "eye": {
             "x": 1.7561710973726847,
             "y": -0.20214617669602375,
             "z": 0.8
            }
           }
          }
         }
        },
        {
         "layout": {
          "scene": {
           "camera": {
            "eye": {
             "x": 1.7272166133450453,
             "y": -0.376460848674696,
             "z": 0.8
            }
           }
          }
         }
        },
        {
         "layout": {
          "scene": {
           "camera": {
            "eye": {
             "x": 1.6810043518587658,
             "y": -0.5470140482948226,
             "z": 0.8
            }
           }
          }
         }
        },
        {
         "layout": {
          "scene": {
           "camera": {
            "eye": {
             "x": 1.6179960505548747,
             "y": -0.7121016643631912,
             "z": 0.8
            }
           }
          }
         }
        },
        {
         "layout": {
          "scene": {
           "camera": {
            "eye": {
             "x": 1.5388212675522255,
             "y": -0.870074195990757,
             "z": 0.8
            }
           }
          }
         }
        },
        {
         "layout": {
          "scene": {
           "camera": {
            "eye": {
             "x": 1.4442710911108763,
             "y": -1.0193532338602744,
             "z": 0.8
            }
           }
          }
         }
        },
        {
         "layout": {
          "scene": {
           "camera": {
            "eye": {
             "x": 1.3352902353396967,
             "y": -1.1584472311704395,
             "z": 0.8
            }
           }
          }
         }
        },
        {
         "layout": {
          "scene": {
           "camera": {
            "eye": {
             "x": 1.2129676009252703,
             "y": -1.2859664066784924,
             "z": 0.8
            }
           }
          }
         }
        },
        {
         "layout": {
          "scene": {
           "camera": {
            "eye": {
             "x": 1.0785253951961797,
             "y": -1.4006366309349918,
             "z": 0.8
            }
           }
          }
         }
        },
        {
         "layout": {
          "scene": {
           "camera": {
            "eye": {
             "x": 0.9333069202313851,
             "y": -1.5013121569641028,
             "z": 0.8
            }
           }
          }
         }
        },
        {
         "layout": {
          "scene": {
           "camera": {
            "eye": {
             "x": 0.7787631510298885,
             "y": -1.5869870681886475,
             "z": 0.8
            }
           }
          }
         }
        },
        {
         "layout": {
          "scene": {
           "camera": {
            "eye": {
             "x": 0.6164382378481742,
             "y": -1.6568053292160303,
             "z": 0.8
            }
           }
          }
         }
        },
        {
         "layout": {
          "scene": {
           "camera": {
            "eye": {
             "x": 0.44795407756127026,
             "y": -1.710069339060914,
             "z": 0.8
            }
           }
          }
         }
        },
        {
         "layout": {
          "scene": {
           "camera": {
            "eye": {
             "x": 0.27499410820530534,
             "y": -1.7462469013436699,
             "z": 0.8
            }
           }
          }
         }
        },
        {
         "layout": {
          "scene": {
           "camera": {
            "eye": {
             "x": 0.09928648862111944,
             "y": -1.7649765418206806,
             "z": 0.8
            }
           }
          }
         }
        },
        {
         "layout": {
          "scene": {
           "camera": {
            "eye": {
             "x": -0.07741316873761894,
             "y": -1.7660711201154955,
             "z": 0.8
            }
           }
          }
         }
        },
        {
         "layout": {
          "scene": {
           "camera": {
            "eye": {
             "x": -0.25333933930372143,
             "y": -1.7495196995636126,
             "z": 0.8
            }
           }
          }
         }
        },
        {
         "layout": {
          "scene": {
           "camera": {
            "eye": {
             "x": -0.4267342269343539,
             "y": -1.7154876564880144,
             "z": 0.8
            }
           }
          }
         }
        },
        {
         "layout": {
          "scene": {
           "camera": {
            "eye": {
             "x": -0.5958653272290393,
             "y": -1.6643150278136138,
             "z": 0.8
            }
           }
          }
         }
        },
        {
         "layout": {
          "scene": {
           "camera": {
            "eye": {
             "x": -0.7590427381409421,
             "y": -1.5965131135307038,
             "z": 0.8
            }
           }
          }
         }
        },
        {
         "layout": {
          "scene": {
           "camera": {
            "eye": {
             "x": -0.9146360449195108,
             "y": -1.5127593679544658,
             "z": 0.8
            }
           }
          }
         }
        },
        {
         "layout": {
          "scene": {
           "camera": {
            "eye": {
             "x": -1.0610906106757227,
             "y": -1.4138906308253907,
             "z": 0.8
            }
           }
          }
         }
        },
        {
         "layout": {
          "scene": {
           "camera": {
            "eye": {
             "x": -1.196943109799986,
             "y": -1.3008947658832124,
             "z": 0.8
            }
           }
          }
         }
        },
        {
         "layout": {
          "scene": {
           "camera": {
            "eye": {
             "x": -1.3208361490279166,
             "y": -1.1749007904589663,
             "z": 0.8
            }
           }
          }
         }
        },
        {
         "layout": {
          "scene": {
           "camera": {
            "eye": {
             "x": -1.431531830065142,
             "y": -1.0371675947070202,
             "z": 0.8
            }
           }
          }
         }
        },
        {
         "layout": {
          "scene": {
           "camera": {
            "eye": {
             "x": -1.5279241182578656,
             "y": -0.8890713631907865,
             "z": 0.8
            }
           }
          }
         }
        },
        {
         "layout": {
          "scene": {
           "camera": {
            "eye": {
             "x": -1.6090498937255202,
             "y": -0.7320918245014705,
             "z": 0.8
            }
           }
          }
         }
        },
        {
         "layout": {
          "scene": {
           "camera": {
            "eye": {
             "x": -1.6740985745362496,
             "y": -0.5677974662991182,
             "z": 0.8
            }
           }
          }
         }
        },
        {
         "layout": {
          "scene": {
           "camera": {
            "eye": {
             "x": -1.7224202157736266,
             "y": -0.39782986350239324,
             "z": 0.8
            }
           }
          }
         }
        },
        {
         "layout": {
          "scene": {
           "camera": {
            "eye": {
             "x": -1.7535320035714197,
             "y": -0.22388727621462157,
             "z": 0.8
            }
           }
          }
         }
        },
        {
         "layout": {
          "scene": {
           "camera": {
            "eye": {
             "x": -1.7671230792301427,
             "y": -0.04770768127020719,
             "z": 0.8
            }
           }
          }
         }
        },
        {
         "layout": {
          "scene": {
           "camera": {
            "eye": {
             "x": -1.7630576452144253,
             "y": 0.1289485930553954,
             "z": 0.8
            }
           }
          }
         }
        },
        {
         "layout": {
          "scene": {
           "camera": {
            "eye": {
             "x": -1.741376321997099,
             "y": 0.30431645566392784,
             "z": 0.8
            }
           }
          }
         }
        },
        {
         "layout": {
          "scene": {
           "camera": {
            "eye": {
             "x": -1.7022957421928595,
             "y": 0.47664368884111097,
             "z": 0.8
            }
           }
          }
         }
        },
        {
         "layout": {
          "scene": {
           "camera": {
            "eye": {
             "x": -1.646206386036788,
             "y": 0.6442084558368493,
             "z": 0.8
            }
           }
          }
         }
        },
        {
         "layout": {
          "scene": {
           "camera": {
            "eye": {
             "x": -1.573668679834919,
             "y": 0.8053365048888708,
             "z": 0.8
            }
           }
          }
         }
        },
        {
         "layout": {
          "scene": {
           "camera": {
            "eye": {
             "x": -1.4854073963698458,
             "y": 0.9584178977928967,
             "z": 0.8
            }
           }
          }
         }
        },
        {
         "layout": {
          "scene": {
           "camera": {
            "eye": {
             "x": -1.3823044132106481,
             "y": 1.101923095873013,
             "z": 0.8
            }
           }
          }
         }
        },
        {
         "layout": {
          "scene": {
           "camera": {
            "eye": {
             "x": -1.2653899012837393,
             "y": 1.2344182426265127,
             "z": 0.8
            }
           }
          }
         }
        },
        {
         "layout": {
          "scene": {
           "camera": {
            "eye": {
             "x": -1.1358320317454915,
             "y": 1.3545794903441097,
             "z": 0.8
            }
           }
          }
         }
        },
        {
         "layout": {
          "scene": {
           "camera": {
            "eye": {
             "x": -0.9949253040021958,
             "y": 1.4612062275586353,
             "z": 0.8
            }
           }
          }
         }
        },
        {
         "layout": {
          "scene": {
           "camera": {
            "eye": {
             "x": -0.8440776114998902,
             "y": 1.553233075157956,
             "z": 0.8
            }
           }
          }
         }
        },
        {
         "layout": {
          "scene": {
           "camera": {
            "eye": {
             "x": -0.6847961745184389,
             "y": 1.6297405313008917,
             "z": 0.8
            }
           }
          }
         }
        },
        {
         "layout": {
          "scene": {
           "camera": {
            "eye": {
             "x": -0.5186724805247199,
             "y": 1.6899641587756626,
             "z": 0.8
            }
           }
          }
         }
        },
        {
         "layout": {
          "scene": {
           "camera": {
            "eye": {
             "x": -0.347366382555924,
             "y": 1.733302223003828,
             "z": 0.8
            }
           }
          }
         }
        },
        {
         "layout": {
          "scene": {
           "camera": {
            "eye": {
             "x": -0.17258951451669058,
             "y": 1.7593217043732774,
             "z": 0.8
            }
           }
          }
         }
        },
        {
         "layout": {
          "scene": {
           "camera": {
            "eye": {
             "x": 0.0039118109010850555,
             "y": 1.767762624827065,
             "z": 0.8
            }
           }
          }
         }
        },
        {
         "layout": {
          "scene": {
           "camera": {
            "eye": {
             "x": 0.18037405079741164,
             "y": 1.7585406454782138,
             "z": 0.8
            }
           }
          }
         }
        },
        {
         "layout": {
          "scene": {
           "camera": {
            "eye": {
             "x": 0.3550340528019027,
             "y": 1.7317479092959966,
             "z": 0.8
            }
           }
          }
         }
        },
        {
         "layout": {
          "scene": {
           "camera": {
            "eye": {
             "x": 0.5261466719094534,
             "y": 1.6876521204438448,
             "z": 0.8
            }
           }
          }
         }
        },
        {
         "layout": {
          "scene": {
           "camera": {
            "eye": {
             "x": 0.6920022073922499,
             "y": 1.62669386946784,
             "z": 0.8
            }
           }
          }
         }
        },
        {
         "layout": {
          "scene": {
           "camera": {
            "eye": {
             "x": 0.8509434855643001,
             "y": 1.5494822310616148,
             "z": 0.8
            }
           }
          }
         }
        },
        {
         "layout": {
          "scene": {
           "camera": {
            "eye": {
             "x": 1.001382417713112,
             "y": 1.4567886783933495,
             "z": 0.8
            }
           }
          }
         }
        },
        {
         "layout": {
          "scene": {
           "camera": {
            "eye": {
             "x": 1.1418158677571515,
             "y": 1.3495393748008924,
             "z": 0.8
            }
           }
          }
         }
        },
        {
         "layout": {
          "scene": {
           "camera": {
            "eye": {
             "x": 1.270840671084707,
             "y": 1.2288059198738308,
             "z": 0.8
            }
           }
          }
         }
        },
        {
         "layout": {
          "scene": {
           "camera": {
            "eye": {
             "x": 1.3871676545108578,
             "y": 1.0957946423846239,
             "z": 0.8
            }
           }
          }
         }
        },
        {
         "layout": {
          "scene": {
           "camera": {
            "eye": {
             "x": 1.4896345172697987,
             "y": 0.9518345470502599,
             "z": 0.8
            }
           }
          }
         }
        },
        {
         "layout": {
          "scene": {
           "camera": {
            "eye": {
             "x": 1.577217444339885,
             "y": 0.7983640355564382,
             "z": 0.8
            }
           }
          }
         }
        },
        {
         "layout": {
          "scene": {
           "camera": {
            "eye": {
             "x": 1.6490413360648972,
             "y": 0.6369165345234014,
             "z": 0.8
            }
           }
          }
         }
        },
        {
         "layout": {
          "scene": {
           "camera": {
            "eye": {
             "x": 1.7043885518605422,
             "y": 0.46910517401401974,
             "z": 0.8
            }
           }
          }
         }
        },
        {
         "layout": {
          "scene": {
           "camera": {
            "eye": {
             "x": 1.742706080641946,
             "y": 0.2966066696714459,
             "z": 0.8
            }
           }
          }
         }
        },
        {
         "layout": {
          "scene": {
           "camera": {
            "eye": {
             "x": 1.7636110663276172,
             "y": 0.12114456953064445,
             "z": 0.8
            }
           }
          }
         }
        },
        {
         "layout": {
          "scene": {
           "camera": {
            "eye": {
             "x": 1.766894633210853,
             "y": -0.05552796710383823,
             "z": 0.8
            }
           }
          }
         }
        },
        {
         "layout": {
          "scene": {
           "camera": {
            "eye": {
             "x": 1.7525239729767597,
             "y": -0.23164568664612328,
             "z": 0.8
            }
           }
          }
         }
        },
        {
         "layout": {
          "scene": {
           "camera": {
            "eye": {
             "x": 1.7206426725120867,
             "y": -0.4054488790593255,
             "z": 0.8
            }
           }
          }
         }
        },
        {
         "layout": {
          "scene": {
           "camera": {
            "eye": {
             "x": 1.6715692792325216,
             "y": -0.5752009602965458,
             "z": 0.8
            }
           }
          }
         }
        },
        {
         "layout": {
          "scene": {
           "camera": {
            "eye": {
             "x": 1.605794118262206,
             "y": -0.7392058236746413,
             "z": 0.8
            }
           }
          }
         }
        },
        {
         "layout": {
          "scene": {
           "camera": {
            "eye": {
             "x": 1.5239743932671765,
             "y": -0.8958247868115395,
             "z": 0.8
            }
           }
          }
         }
        },
        {
         "layout": {
          "scene": {
           "camera": {
            "eye": {
             "x": 1.426927619893581,
             "y": -1.04349296479892,
             "z": 0.8
            }
           }
          }
         }
        },
        {
         "layout": {
          "scene": {
           "camera": {
            "eye": {
             "x": 1.3156234574215673,
             "y": -1.180734906014945,
             "z": 0.8
            }
           }
          }
         }
        },
        {
         "layout": {
          "scene": {
           "camera": {
            "eye": {
             "x": 1.1911740202502938,
             "y": -1.3061793343491364,
             "z": 0.8
            }
           }
          }
         }
        },
        {
         "layout": {
          "scene": {
           "camera": {
            "eye": {
             "x": 1.0548227660184604,
             "y": -1.4185728505399942,
             "z": 0.8
            }
           }
          }
         }
        },
        {
         "layout": {
          "scene": {
           "camera": {
            "eye": {
             "x": 0.9079320713866189,
             "y": -1.5167924557260966,
             "z": 0.8
            }
           }
          }
         }
        },
        {
         "layout": {
          "scene": {
           "camera": {
            "eye": {
             "x": 0.7519696196199205,
             "y": -1.599856772079511,
             "z": 0.8
            }
           }
          }
         }
        },
        {
         "layout": {
          "scene": {
           "camera": {
            "eye": {
             "x": 0.5884937359820905,
             "y": -1.6669358484086425,
             "z": 0.8
            }
           }
          }
         }
        },
        {
         "layout": {
          "scene": {
           "camera": {
            "eye": {
             "x": 0.41913781746449363,
             "y": -1.7173594527562077,
             "z": 0.8
            }
           }
          }
         }
        },
        {
         "layout": {
          "scene": {
           "camera": {
            "eye": {
             "x": 0.24559401242333323,
             "y": -1.7506237691353923,
             "z": 0.8
            }
           }
          }
         }
        },
        {
         "layout": {
          "scene": {
           "camera": {
            "eye": {
             "x": 0.06959631319262605,
             "y": -1.7663964314926572,
             "z": 0.8
            }
           }
          }
         }
        },
        {
         "layout": {
          "scene": {
           "camera": {
            "eye": {
             "x": -0.10709676939402235,
             "y": -1.7645198445994774,
             "z": 0.8
            }
           }
          }
         }
        },
        {
         "layout": {
          "scene": {
           "camera": {
            "eye": {
             "x": -0.2827197764623679,
             "y": -1.745012758691772,
             "z": 0.8
            }
           }
          }
         }
        },
        {
         "layout": {
          "scene": {
           "camera": {
            "eye": {
             "x": -0.45551794097903464,
             "y": -1.7080700821237462,
             "z": 0.8
            }
           }
          }
         }
        },
        {
         "layout": {
          "scene": {
           "camera": {
            "eye": {
             "x": -0.6237647208036504,
             "y": -1.6540609339080419,
             "z": 0.8
            }
           }
          }
         }
        },
        {
         "layout": {
          "scene": {
           "camera": {
            "eye": {
             "x": -0.7857790497271997,
             "y": -1.58352495560058,
             "z": 0.8
            }
           }
          }
         }
        },
        {
         "layout": {
          "scene": {
           "camera": {
            "eye": {
             "x": -0.9399421341298975,
             "y": -1.4971669193805124,
             "z": 0.8
            }
           }
          }
         }
        },
        {
         "layout": {
          "scene": {
           "camera": {
            "eye": {
             "x": -1.0847136274319271,
             "y": -1.3958496861995813,
             "z": 0.8
            }
           }
          }
         }
        },
        {
         "layout": {
          "scene": {
           "camera": {
            "eye": {
             "x": -1.218647020727311,
             "y": -1.2805855843607052,
             "z": 0.8
            }
           }
          }
         }
        },
        {
         "layout": {
          "scene": {
           "camera": {
            "eye": {
             "x": -1.3404040958227346,
             "y": -1.1525262946682115,
             "z": 0.8
            }
           }
          }
         }
        },
        {
         "layout": {
          "scene": {
           "camera": {
            "eye": {
             "x": -1.448768296271385,
             "y": -1.0129513432139317,
             "z": 0.8
            }
           }
          }
         }
        },
        {
         "layout": {
          "scene": {
           "camera": {
            "eye": {
             "x": -1.5426568828028173,
             "y": -0.8632553167754569,
             "z": 0.8
            }
           }
          }
         }
        },
        {
         "layout": {
          "scene": {
           "camera": {
            "eye": {
             "x": -1.6211317516958519,
             "y": -0.7049339285660311,
             "z": 0.8
            }
           }
          }
         }
        },
        {
         "layout": {
          "scene": {
           "camera": {
            "eye": {
             "x": -1.6834088080008527,
             "y": -0.5395690735625494,
             "z": 0.8
            }
           }
          }
         }
        },
        {
         "layout": {
          "scene": {
           "camera": {
            "eye": {
             "x": -1.7288657999572776,
             "y": -0.3688130227338533,
             "z": 0.8
            }
           }
          }
         }
        },
        {
         "layout": {
          "scene": {
           "camera": {
            "eye": {
             "x": -1.7570485363275825,
             "y": -0.1943719140953739,
             "z": 0.8
            }
           }
          }
         }
        },
        {
         "layout": {
          "scene": {
           "camera": {
            "eye": {
             "x": -1.7676754245259283,
             "y": -0.017988705542069106,
             "z": 0.8
            }
           }
          }
         }
        }
       ],
       "layout": {
        "template": {
         "data": {
          "bar": [
           {
            "error_x": {
             "color": "#2a3f5f"
            },
            "error_y": {
             "color": "#2a3f5f"
            },
            "marker": {
             "line": {
              "color": "#E5ECF6",
              "width": 0.5
             },
             "pattern": {
              "fillmode": "overlay",
              "size": 10,
              "solidity": 0.2
             }
            },
            "type": "bar"
           }
          ],
          "barpolar": [
           {
            "marker": {
             "line": {
              "color": "#E5ECF6",
              "width": 0.5
             },
             "pattern": {
              "fillmode": "overlay",
              "size": 10,
              "solidity": 0.2
             }
            },
            "type": "barpolar"
           }
          ],
          "carpet": [
           {
            "aaxis": {
             "endlinecolor": "#2a3f5f",
             "gridcolor": "white",
             "linecolor": "white",
             "minorgridcolor": "white",
             "startlinecolor": "#2a3f5f"
            },
            "baxis": {
             "endlinecolor": "#2a3f5f",
             "gridcolor": "white",
             "linecolor": "white",
             "minorgridcolor": "white",
             "startlinecolor": "#2a3f5f"
            },
            "type": "carpet"
           }
          ],
          "choropleth": [
           {
            "colorbar": {
             "outlinewidth": 0,
             "ticks": ""
            },
            "type": "choropleth"
           }
          ],
          "contour": [
           {
            "colorbar": {
             "outlinewidth": 0,
             "ticks": ""
            },
            "colorscale": [
             [
              0,
              "#0d0887"
             ],
             [
              0.1111111111111111,
              "#46039f"
             ],
             [
              0.2222222222222222,
              "#7201a8"
             ],
             [
              0.3333333333333333,
              "#9c179e"
             ],
             [
              0.4444444444444444,
              "#bd3786"
             ],
             [
              0.5555555555555556,
              "#d8576b"
             ],
             [
              0.6666666666666666,
              "#ed7953"
             ],
             [
              0.7777777777777778,
              "#fb9f3a"
             ],
             [
              0.8888888888888888,
              "#fdca26"
             ],
             [
              1,
              "#f0f921"
             ]
            ],
            "type": "contour"
           }
          ],
          "contourcarpet": [
           {
            "colorbar": {
             "outlinewidth": 0,
             "ticks": ""
            },
            "type": "contourcarpet"
           }
          ],
          "heatmap": [
           {
            "colorbar": {
             "outlinewidth": 0,
             "ticks": ""
            },
            "colorscale": [
             [
              0,
              "#0d0887"
             ],
             [
              0.1111111111111111,
              "#46039f"
             ],
             [
              0.2222222222222222,
              "#7201a8"
             ],
             [
              0.3333333333333333,
              "#9c179e"
             ],
             [
              0.4444444444444444,
              "#bd3786"
             ],
             [
              0.5555555555555556,
              "#d8576b"
             ],
             [
              0.6666666666666666,
              "#ed7953"
             ],
             [
              0.7777777777777778,
              "#fb9f3a"
             ],
             [
              0.8888888888888888,
              "#fdca26"
             ],
             [
              1,
              "#f0f921"
             ]
            ],
            "type": "heatmap"
           }
          ],
          "heatmapgl": [
           {
            "colorbar": {
             "outlinewidth": 0,
             "ticks": ""
            },
            "colorscale": [
             [
              0,
              "#0d0887"
             ],
             [
              0.1111111111111111,
              "#46039f"
             ],
             [
              0.2222222222222222,
              "#7201a8"
             ],
             [
              0.3333333333333333,
              "#9c179e"
             ],
             [
              0.4444444444444444,
              "#bd3786"
             ],
             [
              0.5555555555555556,
              "#d8576b"
             ],
             [
              0.6666666666666666,
              "#ed7953"
             ],
             [
              0.7777777777777778,
              "#fb9f3a"
             ],
             [
              0.8888888888888888,
              "#fdca26"
             ],
             [
              1,
              "#f0f921"
             ]
            ],
            "type": "heatmapgl"
           }
          ],
          "histogram": [
           {
            "marker": {
             "pattern": {
              "fillmode": "overlay",
              "size": 10,
              "solidity": 0.2
             }
            },
            "type": "histogram"
           }
          ],
          "histogram2d": [
           {
            "colorbar": {
             "outlinewidth": 0,
             "ticks": ""
            },
            "colorscale": [
             [
              0,
              "#0d0887"
             ],
             [
              0.1111111111111111,
              "#46039f"
             ],
             [
              0.2222222222222222,
              "#7201a8"
             ],
             [
              0.3333333333333333,
              "#9c179e"
             ],
             [
              0.4444444444444444,
              "#bd3786"
             ],
             [
              0.5555555555555556,
              "#d8576b"
             ],
             [
              0.6666666666666666,
              "#ed7953"
             ],
             [
              0.7777777777777778,
              "#fb9f3a"
             ],
             [
              0.8888888888888888,
              "#fdca26"
             ],
             [
              1,
              "#f0f921"
             ]
            ],
            "type": "histogram2d"
           }
          ],
          "histogram2dcontour": [
           {
            "colorbar": {
             "outlinewidth": 0,
             "ticks": ""
            },
            "colorscale": [
             [
              0,
              "#0d0887"
             ],
             [
              0.1111111111111111,
              "#46039f"
             ],
             [
              0.2222222222222222,
              "#7201a8"
             ],
             [
              0.3333333333333333,
              "#9c179e"
             ],
             [
              0.4444444444444444,
              "#bd3786"
             ],
             [
              0.5555555555555556,
              "#d8576b"
             ],
             [
              0.6666666666666666,
              "#ed7953"
             ],
             [
              0.7777777777777778,
              "#fb9f3a"
             ],
             [
              0.8888888888888888,
              "#fdca26"
             ],
             [
              1,
              "#f0f921"
             ]
            ],
            "type": "histogram2dcontour"
           }
          ],
          "mesh3d": [
           {
            "colorbar": {
             "outlinewidth": 0,
             "ticks": ""
            },
            "type": "mesh3d"
           }
          ],
          "parcoords": [
           {
            "line": {
             "colorbar": {
              "outlinewidth": 0,
              "ticks": ""
             }
            },
            "type": "parcoords"
           }
          ],
          "pie": [
           {
            "automargin": true,
            "type": "pie"
           }
          ],
          "scatter": [
           {
            "fillpattern": {
             "fillmode": "overlay",
             "size": 10,
             "solidity": 0.2
            },
            "type": "scatter"
           }
          ],
          "scatter3d": [
           {
            "line": {
             "colorbar": {
              "outlinewidth": 0,
              "ticks": ""
             }
            },
            "marker": {
             "colorbar": {
              "outlinewidth": 0,
              "ticks": ""
             }
            },
            "type": "scatter3d"
           }
          ],
          "scattercarpet": [
           {
            "marker": {
             "colorbar": {
              "outlinewidth": 0,
              "ticks": ""
             }
            },
            "type": "scattercarpet"
           }
          ],
          "scattergeo": [
           {
            "marker": {
             "colorbar": {
              "outlinewidth": 0,
              "ticks": ""
             }
            },
            "type": "scattergeo"
           }
          ],
          "scattergl": [
           {
            "marker": {
             "colorbar": {
              "outlinewidth": 0,
              "ticks": ""
             }
            },
            "type": "scattergl"
           }
          ],
          "scattermapbox": [
           {
            "marker": {
             "colorbar": {
              "outlinewidth": 0,
              "ticks": ""
             }
            },
            "type": "scattermapbox"
           }
          ],
          "scatterpolar": [
           {
            "marker": {
             "colorbar": {
              "outlinewidth": 0,
              "ticks": ""
             }
            },
            "type": "scatterpolar"
           }
          ],
          "scatterpolargl": [
           {
            "marker": {
             "colorbar": {
              "outlinewidth": 0,
              "ticks": ""
             }
            },
            "type": "scatterpolargl"
           }
          ],
          "scatterternary": [
           {
            "marker": {
             "colorbar": {
              "outlinewidth": 0,
              "ticks": ""
             }
            },
            "type": "scatterternary"
           }
          ],
          "surface": [
           {
            "colorbar": {
             "outlinewidth": 0,
             "ticks": ""
            },
            "colorscale": [
             [
              0,
              "#0d0887"
             ],
             [
              0.1111111111111111,
              "#46039f"
             ],
             [
              0.2222222222222222,
              "#7201a8"
             ],
             [
              0.3333333333333333,
              "#9c179e"
             ],
             [
              0.4444444444444444,
              "#bd3786"
             ],
             [
              0.5555555555555556,
              "#d8576b"
             ],
             [
              0.6666666666666666,
              "#ed7953"
             ],
             [
              0.7777777777777778,
              "#fb9f3a"
             ],
             [
              0.8888888888888888,
              "#fdca26"
             ],
             [
              1,
              "#f0f921"
             ]
            ],
            "type": "surface"
           }
          ],
          "table": [
           {
            "cells": {
             "fill": {
              "color": "#EBF0F8"
             },
             "line": {
              "color": "white"
             }
            },
            "header": {
             "fill": {
              "color": "#C8D4E3"
             },
             "line": {
              "color": "white"
             }
            },
            "type": "table"
           }
          ]
         },
         "layout": {
          "annotationdefaults": {
           "arrowcolor": "#2a3f5f",
           "arrowhead": 0,
           "arrowwidth": 1
          },
          "autotypenumbers": "strict",
          "coloraxis": {
           "colorbar": {
            "outlinewidth": 0,
            "ticks": ""
           }
          },
          "colorscale": {
           "diverging": [
            [
             0,
             "#8e0152"
            ],
            [
             0.1,
             "#c51b7d"
            ],
            [
             0.2,
             "#de77ae"
            ],
            [
             0.3,
             "#f1b6da"
            ],
            [
             0.4,
             "#fde0ef"
            ],
            [
             0.5,
             "#f7f7f7"
            ],
            [
             0.6,
             "#e6f5d0"
            ],
            [
             0.7,
             "#b8e186"
            ],
            [
             0.8,
             "#7fbc41"
            ],
            [
             0.9,
             "#4d9221"
            ],
            [
             1,
             "#276419"
            ]
           ],
           "sequential": [
            [
             0,
             "#0d0887"
            ],
            [
             0.1111111111111111,
             "#46039f"
            ],
            [
             0.2222222222222222,
             "#7201a8"
            ],
            [
             0.3333333333333333,
             "#9c179e"
            ],
            [
             0.4444444444444444,
             "#bd3786"
            ],
            [
             0.5555555555555556,
             "#d8576b"
            ],
            [
             0.6666666666666666,
             "#ed7953"
            ],
            [
             0.7777777777777778,
             "#fb9f3a"
            ],
            [
             0.8888888888888888,
             "#fdca26"
            ],
            [
             1,
             "#f0f921"
            ]
           ],
           "sequentialminus": [
            [
             0,
             "#0d0887"
            ],
            [
             0.1111111111111111,
             "#46039f"
            ],
            [
             0.2222222222222222,
             "#7201a8"
            ],
            [
             0.3333333333333333,
             "#9c179e"
            ],
            [
             0.4444444444444444,
             "#bd3786"
            ],
            [
             0.5555555555555556,
             "#d8576b"
            ],
            [
             0.6666666666666666,
             "#ed7953"
            ],
            [
             0.7777777777777778,
             "#fb9f3a"
            ],
            [
             0.8888888888888888,
             "#fdca26"
            ],
            [
             1,
             "#f0f921"
            ]
           ]
          },
          "colorway": [
           "#636efa",
           "#EF553B",
           "#00cc96",
           "#ab63fa",
           "#FFA15A",
           "#19d3f3",
           "#FF6692",
           "#B6E880",
           "#FF97FF",
           "#FECB52"
          ],
          "font": {
           "color": "#2a3f5f"
          },
          "geo": {
           "bgcolor": "white",
           "lakecolor": "white",
           "landcolor": "#E5ECF6",
           "showlakes": true,
           "showland": true,
           "subunitcolor": "white"
          },
          "hoverlabel": {
           "align": "left"
          },
          "hovermode": "closest",
          "mapbox": {
           "style": "light"
          },
          "paper_bgcolor": "white",
          "plot_bgcolor": "#E5ECF6",
          "polar": {
           "angularaxis": {
            "gridcolor": "white",
            "linecolor": "white",
            "ticks": ""
           },
           "bgcolor": "#E5ECF6",
           "radialaxis": {
            "gridcolor": "white",
            "linecolor": "white",
            "ticks": ""
           }
          },
          "scene": {
           "xaxis": {
            "backgroundcolor": "#E5ECF6",
            "gridcolor": "white",
            "gridwidth": 2,
            "linecolor": "white",
            "showbackground": true,
            "ticks": "",
            "zerolinecolor": "white"
           },
           "yaxis": {
            "backgroundcolor": "#E5ECF6",
            "gridcolor": "white",
            "gridwidth": 2,
            "linecolor": "white",
            "showbackground": true,
            "ticks": "",
            "zerolinecolor": "white"
           },
           "zaxis": {
            "backgroundcolor": "#E5ECF6",
            "gridcolor": "white",
            "gridwidth": 2,
            "linecolor": "white",
            "showbackground": true,
            "ticks": "",
            "zerolinecolor": "white"
           }
          },
          "shapedefaults": {
           "line": {
            "color": "#2a3f5f"
           }
          },
          "ternary": {
           "aaxis": {
            "gridcolor": "white",
            "linecolor": "white",
            "ticks": ""
           },
           "baxis": {
            "gridcolor": "white",
            "linecolor": "white",
            "ticks": ""
           },
           "bgcolor": "#E5ECF6",
           "caxis": {
            "gridcolor": "white",
            "linecolor": "white",
            "ticks": ""
           }
          },
          "title": {
           "x": 0.05
          },
          "xaxis": {
           "automargin": true,
           "gridcolor": "white",
           "linecolor": "white",
           "ticks": "",
           "title": {
            "standoff": 15
           },
           "zerolinecolor": "white",
           "zerolinewidth": 2
          },
          "yaxis": {
           "automargin": true,
           "gridcolor": "white",
           "linecolor": "white",
           "ticks": "",
           "title": {
            "standoff": 15
           },
           "zerolinecolor": "white",
           "zerolinewidth": 2
          }
         }
        },
        "updatemenus": [
         {
          "buttons": [
           {
            "args": [
             null,
             {
              "frame": {
               "duration": 50,
               "redraw": true
              },
              "fromcurrent": true,
              "mode": "immediate",
              "transition": {
               "duration": 0
              }
             }
            ],
            "label": "Play",
            "method": "animate"
           }
          ],
          "pad": {
           "r": 10,
           "t": 45
          },
          "showactive": false,
          "type": "buttons",
          "x": 0.8,
          "xanchor": "left",
          "y": 1,
          "yanchor": "bottom"
         }
        ]
       }
      },
      "text/html": [
       "<div>                            <div id=\"6a5100ec-46a7-4fd2-97cb-e8a12b316a6f\" class=\"plotly-graph-div\" style=\"height:525px; width:100%;\"></div>            <script type=\"text/javascript\">                require([\"plotly\"], function(Plotly) {                    window.PLOTLYENV=window.PLOTLYENV || {};                                    if (document.getElementById(\"6a5100ec-46a7-4fd2-97cb-e8a12b316a6f\")) {                    Plotly.newPlot(                        \"6a5100ec-46a7-4fd2-97cb-e8a12b316a6f\",                        [{\"mode\":\"markers\",\"x\":[0.3728894591331482,0.3728436827659607,0.37357214093208313,0.37372514605522156,0.3735487759113312,0.37436115741729736,0.3745102286338806,0.3744974732398987,0.37432152032852173,0.373816579580307,0.37513411045074463,0.375442236661911,0.37542882561683655,0.37509122490882874,0.3745897710323334,0.3757619559764862,0.3760637044906616,0.37620797753334045,0.3760329484939575,0.3758578896522522,0.3753599226474762,0.3767082393169403,0.3766891062259674,0.37682899832725525,0.37697067856788635,0.37679606676101685,0.37662145495414734,0.3761270046234131,0.37745991349220276,0.37743890285491943,0.3775750398635864,0.3777129650115967,0.3775383532047272,0.3775213360786438,0.37718909978866577,0.3766975402832031,0.37829455733299255,0.37827226519584656,0.37840545177459717,0.37838539481163025,0.3783662021160126,0.3781920373439789,0.3780178725719452,0.37768691778182983,0.37892794609069824,0.379055380821228,0.3790320158004761,0.37916257977485657,0.3791414201259613,0.3789672553539276,0.3789474368095398,0.37861892580986023,0.37828949093818665,0.3796088993549347,0.37988337874412537,0.37985873222351074,0.37983500957489014,0.3798121511936188,0.37979018688201904,0.37961646914482117,0.3794427216053009,0.3789619207382202,0.3780174255371094,0.38051605224609375,0.38063791394233704,0.38061219453811646,0.3805873692035675,0.3805634379386902,0.3803897202014923,0.38021597266197205,0.38004225492477417,0.379564493894577,0.3787800967693329,0.3811935782432556,0.38145923614501953,0.38128462433815,0.381258100271225,0.38123244047164917,0.3810587227344513,0.38088497519493103,0.38071125745773315,0.38038724660873413,0.37976083159446716,0.3817613422870636,0.3820211887359619,0.3819919526576996,0.3819636404514313,0.3819361925125122,0.38176247477531433,0.38158875703811646,0.3814150094985962,0.3812412917613983,0.38076967000961304,0.37984809279441833,0.38265693187713623,0.3827691674232483,0.38273885846138,0.38270944356918335,0.3825357258319855,0.38250765204429626,0.3823343515396118,0.38201454281806946,0.3818408250808716,0.38137224316596985,0.38287222385406494,0.3834044635295868,0.38351407647132874,0.3834826946258545,0.3833089768886566,0.38327890634536743,0.38310563564300537,0.3829323351383209,0.38261404633522034,0.38244032859802246,0.3818289339542389,0.3836592733860016,0.3841838538646698,0.384149968624115,0.3841169774532318,0.38394322991371155,0.3839115500450134,0.38373827934265137,0.3835650086402893,0.38324832916259766,0.3830746114253998,0.38261231780052185,0.384443074464798,0.384821355342865,0.38478586077690125,0.38475123047828674,0.38471749424934387,0.3845442235469818,0.38437092304229736,0.3841976523399353,0.38402435183525085,0.3837088644504547,0.38324981927871704,0.38235974311828613,0.38552871346473694,0.38549140095710754,0.3854549825191498,0.38541945815086365,0.3852461576461792,0.38507288694381714,0.3848995864391327,0.38472631573677063,0.38441261649131775,0.38409802317619324,0.38349995017051697,0.38596591353416443,0.38619697093963623,0.3861587345600128,0.38598501682281494,0.38594815135002136,0.3857748508453369,0.38560158014297485,0.3854282796382904,0.38525500893592834,0.3849426507949829,0.38448992371559143,0.3863123655319214,0.3868037164211273,0.38676318526268005,0.38672351837158203,0.38668474555015564,0.3865114748477936,0.38647404313087463,0.386301189661026,0.3859916031360626,0.38581833243370056,0.3855074346065521,0.38478145003318787,0.38715073466300964,0.38750356435775757,0.3874620199203491,0.38728830218315125,0.38724809885025024,0.3872087597846985,0.38703593611717224,0.3868630826473236,0.3865549564361572,0.3862459361553192,0.38593602180480957,0.3850787281990051,0.3879833221435547,0.3880697786808014,0.38802680373191833,0.3879847228527069,0.38781142234802246,0.3877706527709961,0.38759782910346985,0.3874249756336212,0.38711827993392944,0.38681069016456604,0.3863674998283386,0.38824915885925293,0.3887162208557129,0.38867083191871643,0.3886263072490692,0.388582706451416,0.38853996992111206,0.3883671164512634,0.3881942927837372,0.38802143931388855,0.38771626353263855,0.3874102234840393,0.38683685660362244,0.38898617029190063,0.38944604992866516,0.38927188515663147,0.3892258405685425,0.3891806900501251,0.3891364336013794,0.38896358013153076,0.3887907564640045,0.3886179029941559,0.38831427693367004,0.3880097568035126,0.3873092830181122,0.38975533843040466,0.3900819420814514,0.3900338411331177,0.3898600935935974,0.3898133337497711,0.38976746797561646,0.3895946145057678,0.3895500600337982,0.38924893736839294,0.38894692063331604,0.3886440098285675,0.38795003294944763,0.39039769768714905,0.3907178044319153,0.3906680941581726,0.39049437642097473,0.3904459774494171,0.3903985023498535,0.3903518617153168,0.39017948508262634,0.38987997174263,0.38957956433296204,0.38927826285362244,0.38871920108795166,0.39104005694389343,0.39135369658470154,0.3913023769855499,0.39112862944602966,0.3910786211490631,0.3910295069217682,0.3909812867641449,0.3908088803291321,0.39051100611686707,0.39021220803260803,0.38991254568099976,0.3893583416938782,0.391477108001709,0.39190372824668884,0.39185023307800293,0.39179766178131104,0.391745924949646,0.391695111989975,0.3916451632976532,0.39147278666496277,0.39130038022994995,0.3908795118331909,0.39058154821395874,0.3901575803756714,0.3893551528453827,0.3925761580467224,0.3925209641456604,0.39246666431427,0.3924132287502289,0.39236071705818176,0.3923090696334839,0.39213666319847107,0.39196428656578064,0.3916693329811096,0.39137354493141174,0.3909534215927124,0.3901599645614624,0.3931313157081604,0.39319169521331787,0.393135666847229,0.39308056235313416,0.39302632212638855,0.3929729759693146,0.39280056953430176,0.39262816309928894,0.3923349380493164,0.39204084873199463,0.3916241526603699,0.3909613788127899,0.3935742974281311,0.39386239647865295,0.3938046991825104,0.39374786615371704,0.39369192719459534,0.3936368525028229,0.39346444606781006,0.39329206943511963,0.3930005431175232,0.3927081525325775,0.3924148678779602,0.39175936579704285,0.394137978553772,0.3945331275463104,0.39447370171546936,0.3944151699542999,0.39435750246047974,0.39430075883865356,0.39412835240364075,0.39395594596862793,0.39366614818573,0.3933754563331604,0.3930838704109192,0.3925539255142212,0.3948590159416199,0.39513418078422546,0.39507320523262024,0.39501315355300903,0.39495396614074707,0.39489567279815674,0.3947232663631439,0.3945508897304535,0.3942626118659973,0.3939734399318695,0.39368337392807007,0.39315804839134216,0.39557698369026184,0.3957352340221405,0.3956727385520935,0.39561113715171814,0.3956630229949951,0.3954906165599823,0.3953182101249695,0.39514580368995667,0.39485907554626465,0.3945714235305786,0.39428290724754333,0.39353078603744507,0.3962918817996979,0.39644598960876465,0.3963824212551117,0.39631974697113037,0.3962579369544983,0.3960855305194855,0.39591315388679504,0.3957407474517822,0.395455539226532,0.3951694071292877,0.39476871490478516,0.3940238058567047,0.39689600467681885,0.3970454931259155,0.3969804048538208,0.3969162106513977,0.39685288071632385,0.39668047428131104,0.3965080678462982,0.3963356614112854,0.3960520029067993,0.3957674205303192,0.3952575922012329,0.39732256531715393,0.3976777195930481,0.39761027693748474,0.397543728351593,0.3975857198238373,0.39741331338882446,0.39724093675613403,0.3970685303211212,0.39678671956062317,0.3965040147304535,0.39622044563293457,0.39571452140808105,0.39810484647750854,0.3982439339160919,0.3982803523540497,0.39821282029151917,0.3981461822986603,0.39797377586364746,0.39780136942863464,0.3976289927959442,0.3973486125469208,0.3970673680305481,0.3966763913631439,0.39595574140548706,0.3988133668899536,0.3989483118057251,0.3988783657550812,0.3988092839717865,0.39874109625816345,0.398568719625473,0.3983963131904602,0.3982239067554474,0.3979450762271881,0.3976653516292572,0.3972774147987366,0.39645665884017944,0.3994174599647522,0.399547815322876,0.3994763493537903,0.39940574765205383,0.399336040019989,0.3991636335849762,0.39899125695228577,0.39881885051727295,0.39854153990745544,0.3981580138206482,0.3977726697921753,0.39976370334625244,0.4001864194869995,0.40021297335624695,0.4001404941082001,0.40006887912750244,0.399896502494812,0.3997240960597992,0.3995516896247864,0.3992762863636017,0.398999959230423,0.398722767829895,0.3980272710323334,0.40069571137428284,0.4008163511753082,0.4007416367530823,0.40066781640052795,0.4005948603153229,0.40052279829978943,0.40025007724761963,0.4000776708126068,0.39980360865592957,0.39942651987075806,0.3990476727485657,0.40111586451530457,0.4014233350753784,0.40144360065460205,0.40136799216270447,0.40129324793815613,0.4012193977832794,0.4009484350681305,0.4007760286331177,0.4005037546157837,0.40023061633110046,0.3998557925224304,0.401700496673584,0.40199899673461914,0.4020153880119324,0.4019376337528229,0.40195712447166443,0.4018815755844116,0.4017096161842346,0.40143993496894836,0.4011693596839905,0.40089792013168335,0.4006255567073822,0.399854838848114,0.40263649821281433,0.4026496708393097,0.40257027745246887,0.40258654952049255,0.4025093615055084,0.4023374021053314,0.4020693600177765,0.40180039405822754,0.40153056383132935,0.4012598395347595,0.4004988372325897,0.4032739996910095,0.4032839238643646,0.40320292115211487,0.4032159447669983,0.4031371474266052,0.40287116169929504,0.4026987552642822,0.4024314284324646,0.40216320753097534,0.401798278093338,0.40114280581474304,0.4039115011692047,0.40391820669174194,0.40383556485176086,0.4038453698158264,0.4036729633808136,0.4035005569458008,0.40332818031311035,0.40306246280670166,0.40279585123062134,0.40243417024612427,0.40178677439689636,0.4045490026473999,0.4045524597167969,0.40446820855140686,0.40447476506233215,0.4043023884296417,0.4041299819946289,0.4039575755596161,0.4036934971809387,0.40342849493026733,0.4030700623989105,0.4024307429790497,0.4051865041255951,0.4051867425441742,0.40510085225105286,0.4051041901111603,0.40493178367614746,0.40475937724113464,0.4045870006084442,0.4043245315551758,0.40406113862991333,0.4037059247493744,0.403074711561203,0.4058240056037903,0.4058209955692291,0.40573349595069885,0.4057336151599884,0.4055612087249756,0.40538880228996277,0.40521639585494995,0.40495553612709045,0.4046938121318817,0.40434181690216064,0.40618425607681274,0.4065104126930237,0.40642049908638,0.40633150935173035,0.4063285291194916,0.40615612268447876,0.40598374605178833,0.4057248532772064,0.4055519998073578,0.4052917957305908,0.4049428701400757,0.4068763554096222,0.4071114659309387,0.4071027636528015,0.4070126712322235,0.40692347288131714,0.4067510664463043,0.4065786600112915,0.40632131695747375,0.4060630798339844,0.40580394864082336,0.4053713381290436,0.4075653851032257,0.40771251916885376,0.407700777053833,0.40760913491249084,0.4075183868408203,0.4073460102081299,0.40709060430526733,0.4069177806377411,0.4066610634326935,0.40640345215797424,0.40589070320129395,0.4082513451576233,0.4083928167819977,0.4082987606525421,0.4082055985927582,0.40803274512290955,0.4078599214553833,0.40768706798553467,0.4075142443180084,0.4072590470314026,0.4070029854774475,0.40641310811042786,0.40893423557281494,0.40899232029914856,0.4088967442512512,0.4088020622730255,0.4086292088031769,0.40845638513565063,0.408283531665802,0.40811070799827576,0.4078570306301117,0.40752124786376953,0.40685686469078064,0.40957337617874146,0.4096266031265259,0.4095293879508972,0.4094330966472626,0.40926024317741394,0.4090874195098877,0.40891456604003906,0.40874171257019043,0.4084896743297577,0.4081571400165558,0.4075024724006653,0.41025158762931824,0.41022610664367676,0.4101274013519287,0.4100295603275299,0.4098567068576813,0.40968388319015503,0.4095110297203064,0.40926095843315125,0.4090876877307892,0.40875816345214844,0.4106680452823639,0.4109267592430115,0.4108986556529999,0.4107988476753235,0.41062602400779724,0.4104531705379486,0.41028034687042236,0.41010749340057373,0.40985894203186035,0.40960952639579773,0.4092060625553131,0.4113488793373108,0.4115278124809265,0.41149666905403137,0.4113953113555908,0.4112224876880646,0.41104963421821594,0.4108767807483673,0.41070395708084106,0.41045695543289185,0.410209059715271,0.4098101854324341,0.41202667355537415,0.41212886571884155,0.4120946526527405,0.41199177503585815,0.4118189513683319,0.4116460978984833,0.41147324442863464,0.4113004207611084,0.41105493903160095,0.4108085632324219,0.4103407561779022,0.41270139813423157,0.4127979278564453,0.4126926362514496,0.4125882387161255,0.412484735250473,0.4123123288154602,0.412069708108902,0.4118262231349945,0.41165292263031006,0.4113365411758423,0.4108743965625763,0.41337308287620544,0.4133974313735962,0.4132906198501587,0.4131847023963928,0.4130796790122986,0.41290727257728577,0.4126661717891693,0.4124242067337036,0.41225090622901917,0.4119375944137573,0.4114815592765808,0.41394779086112976,0.4140317142009735,0.4139232635498047,0.4138157367706299,0.4137090742588043,0.4135366678237915,0.41329720616340637,0.4131243824958801,0.41288357973098755,0.4125734865665436,0.41219276189804077,0.4145885109901428,0.41466596722602844,0.41455593705177307,0.41444677114486694,0.41433849930763245,0.41416609287261963,0.41392824053764343,0.4137553870677948,0.41351622343063354,0.41320937871932983,0.4128335118293762,0.41516807675361633,0.415238618850708,0.41518858075141907,0.415077805519104,0.4149678945541382,0.41479548811912537,0.41462311148643494,0.41438642144203186,0.41414886713027954,0.4139104187488556,0.413539856672287,0.4157620668411255,0.4158843457698822,0.41583025455474854,0.41577795147895813,0.41566628217697144,0.4154938757419586,0.4153214693069458,0.4150865972042084,0.4148508310317993,0.41461417078971863,0.4143766164779663,0.41394543647766113,0.41641759872436523,0.4164755642414093,0.41641920804977417,0.416305273771286,0.4161922335624695,0.41601985692977905,0.41584745049476624,0.41561391949653625,0.41537949442863464,0.4151442050933838,0.4148455560207367,0.41435641050338745,0.4171244204044342,0.41706404089927673,0.4170054495334625,0.41689062118530273,0.4167182147502899,0.4165458083152771,0.41631409525871277,0.4160814583301544,0.41590818762779236,0.41567423939704895,0.415317177772522,0.41764751076698303,0.417692095041275,0.41768449544906616,0.41756734251976013,0.41745108366012573,0.4172786772251129,0.4171062707901001,0.4168759882450104,0.41664478182792664,0.41641274094581604,0.4161797761917114,0.4157669246196747,0.41834598779678345,0.418332576751709,0.4182131886482239,0.418094664812088,0.4179770350456238,0.41780462861061096,0.41763225197792053,0.41740331053733826,0.41717347502708435,0.4169427454471588,0.41665327548980713,0.41888391971588135,0.4189670979976654,0.4188973605632782,0.41882941126823425,0.4186565577983856,0.4185374975204468,0.41836509108543396,0.4181380271911621,0.417910099029541,0.41773679852485657,0.417507529258728,0.41716450452804565,0.4194736182689667,0.41955047845840454,0.41947847604751587,0.41935673356056213,0.41923585534095764,0.4190634787082672,0.4188382029533386,0.41866534948349,0.41843876242637634,0.41821128129959106,0.41798293590545654,0.4174782633781433,0.420158326625824,0.4201311469078064,0.4200071692466736,0.41988405585289,0.4197618365287781,0.41953837871551514,0.4193655252456665,0.4191407263278961,0.41896745562553406,0.4187413156032562,0.41840773820877075,0.420738160610199,0.42075255513191223,0.42067447304725647,0.420501172542572,0.42037680745124817,0.42020395398139954,0.4200311303138733,0.419808030128479,0.41963475942611694,0.4194103181362152,0.4191334545612335,0.42132481932640076,0.421331524848938,0.4212954342365265,0.4211684763431549,0.42104241251945496,0.4208695590496063,0.4206967353820801,0.4204753339290619,0.42030206322669983,0.4200793504714966,0.4198557436466217,0.41937968134880066,0.4219706356525421,0.42188501358032227,0.4218011200428009,0.421673446893692,0.4215005934238434,0.42132776975631714,0.4211079776287079,0.4209347069263458,0.4207136034965515,0.42049163579940796,0.4200252890586853,0.42253202199935913,0.42244288325309753,0.4223991334438324,0.42226991057395935,0.4220970571041107,0.42187926173210144,0.4217059910297394,0.42153269052505493,0.4213131368160248,0.4210459589958191,0.4231258034706116,0.42307382822036743,0.4230245053768158,0.42289313673973083,0.4227626621723175,0.4225465655326843,0.42237329483032227,0.4221999943256378,0.42198213934898376,0.4217633903026581,0.42373037338256836,0.4236730933189392,0.42361849546432495,0.42352578043937683,0.42335250973701477,0.4231792092323303,0.42300593852996826,0.42279013991355896,0.4226164221763611,0.42235589027404785,0.4243405759334564,0.4242404103279114,0.4241807758808136,0.4241237938404083,0.4239504933357239,0.4237772226333618,0.42360392212867737,0.42338964343070984,0.42321592569351196,0.42291659116744995,0.42488133907318115,0.4247790575027466,0.4247160851955414,0.42461779713630676,0.4244445264339447,0.4242323935031891,0.4240586757659912,0.42388492822647095,0.4235907196998596,0.4254903197288513,0.42538437247276306,0.42531606554985046,0.42521411180496216,0.4250403940677643,0.4248666763305664,0.42469292879104614,0.4244810938835144,0.42419129610061646,0.4260298013687134,0.42595523595809937,0.4258488118648529,0.4256742000579834,0.4255349934101105,0.4253966808319092,0.4251866638660431,0.42493897676467896,0.42664003372192383,0.42652830481529236,0.42638537287712097,0.4262433350086212,0.4261021614074707,0.4259275496006012,0.4257529377937317,0.4254726469516754,0.42706918716430664,0.426955908536911,0.4267804026603699,0.42663735151290894,0.4264622926712036,0.42625391483306885,0.42768365144729614,0.4275367558002472,0.4273907542228699,0.4272456467151642,0.42707014083862305,0.4268312156200409,0.428117036819458,0.4279690682888031,0.4278219938278198,0.42761629819869995,0.42855045199394226,0.4283736050128937,0.4290192127227783],\"y\":[0.1302182674407959,0.1339268684387207,0.1296071857213974,0.13250459730625153,0.135721355676651,0.12705636024475098,0.12996651232242584,0.1330137997865677,0.1362224817276001,0.13980241119861603,0.12758344411849976,0.1303190290927887,0.13334845006465912,0.136720210313797,0.14029546082019806,0.12518760561943054,0.12795041501522064,0.13082949817180634,0.13402201235294342,0.1372145265340805,0.1407850980758667,0.12249452620744705,0.12556904554367065,0.12846896052360535,0.13133656978607178,0.1345209926366806,0.13770543038845062,0.14127133786678314,0.1205950379371643,0.12367431074380875,0.1265837699174881,0.1294608861207962,0.13264530897140503,0.1356518417596817,0.13901416957378387,0.14258672297000885,0.11984952539205551,0.12292223423719406,0.1258266717195511,0.12885896861553192,0.13187509775161743,0.1350514441728592,0.13822779059410095,0.14159667491912842,0.11744102090597153,0.12039053440093994,0.12345346808433533,0.1263463944196701,0.12936890125274658,0.13254526257514954,0.13554352521896362,0.13889794051647186,0.14226853847503662,0.116831474006176,0.11964790523052216,0.12270427495241165,0.12574449181556702,0.12876851856708527,0.13177640736103058,0.13494466245174408,0.13811293244361877,0.14166662096977234,0.14585502445697784,0.11725233495235443,0.12018532305955887,0.1232319101691246,0.1262623369693756,0.1292765885591507,0.1324448436498642,0.1356131136417389,0.1387813687324524,0.14233846962451935,0.14633290469646454,0.11664583534002304,0.1194455698132515,0.12263000011444092,0.1256619393825531,0.12867772579193115,0.13184599578380585,0.13501425087451935,0.13818252086639404,0.1415436714887619,0.14532293379306793,0.11552269011735916,0.11833994090557098,0.12139119952917099,0.12442628294229507,0.12744522094726562,0.13061347603797913,0.13378173112869263,0.13695000112056732,0.14011825621128082,0.14368218183517456,0.1478961706161499,0.11594778299331665,0.11887862533330917,0.12192009389400482,0.12494540214538574,0.12811365723609924,0.13111472129821777,0.1342748999595642,0.13761845231056213,0.14078670740127563,0.14435404539108276,0.11390411853790283,0.1164945438504219,0.11941389739513397,0.12244558334350586,0.12561383843421936,0.12862128019332886,0.1317814588546753,0.13494163751602173,0.13828688859939575,0.14145515859127045,0.14522713422775269,0.11381912231445312,0.11640102416276932,0.11944878101348877,0.1224803775548935,0.125648632645607,0.12865598499774933,0.13181616365909576,0.1349763423204422,0.1383216828107834,0.14148995280265808,0.14506086707115173,0.1137339398264885,0.11643598973751068,0.11948366463184357,0.12251516431570053,0.12553051114082336,0.1286906898021698,0.13185086846351624,0.13501104712486267,0.1381712257862091,0.14152474701404572,0.1450958400964737,0.14932774007320404,0.11519718915224075,0.11824800074100494,0.121282659471035,0.12430114299058914,0.12746132910251617,0.13062149286270142,0.13378167152404785,0.13694186508655548,0.140292227268219,0.14365875720977783,0.147454172372818,0.11420316249132156,0.11701234430074692,0.12005013972520828,0.12321840971708298,0.12623195350170135,0.1293921321630478,0.13255231082439423,0.13571248948574066,0.1388726681470871,0.14222797751426697,0.14580266177654266,0.11267083883285522,0.11526712775230408,0.11831776797771454,0.12135224044322968,0.12437054514884949,0.12753072381019592,0.13052478432655334,0.13367688655853271,0.13701127469539642,0.14017145335674286,0.14353007078170776,0.14752447605133057,0.1137542873620987,0.1164468377828598,0.11948607861995697,0.12265433371067047,0.12566933035850525,0.1286681443452835,0.13182023167610168,0.13497233390808105,0.138310045003891,0.14166390895843506,0.14503394067287445,0.149259552359581,0.11482445150613785,0.11775226145982742,0.12078817188739777,0.12380792200565338,0.12696810066699982,0.12996359169483185,0.13311569392681122,0.1362677961587906,0.13960881531238556,0.14296600222587585,0.1465444564819336,0.11277707666158676,0.11537203937768936,0.11842241138219833,0.12145661562681198,0.1244746595621109,0.1274765282869339,0.13062863051891327,0.13378073275089264,0.13693282008171082,0.14027555286884308,0.14363445341587067,0.14742310345172882,0.11333786696195602,0.11591621488332748,0.11909256130456924,0.1221250593662262,0.12514139711856842,0.12814156711101532,0.1312936693429947,0.13444575667381287,0.13759785890579224,0.1409423053264618,0.14430288970470428,0.14830517768859863,0.11325350403785706,0.11595109850168228,0.11899159103631973,0.12215985357761383,0.1251761019229889,0.12817618250846863,0.131328284740448,0.13430412113666534,0.13763247430324554,0.14097701013088226,0.14433768391609192,0.14834032952785492,0.11328873783349991,0.11598597466945648,0.11902638524770737,0.12219464778900146,0.12521080672740936,0.12821079790592194,0.13119462132453918,0.1343386471271515,0.13766708970069885,0.14101170003414154,0.14437247812747955,0.14816679060459137,0.11332397162914276,0.11602085828781128,0.119061179459095,0.1222294420003891,0.12524551153182983,0.12824541330337524,0.13122914731502533,0.13437317311763763,0.13770170509815216,0.141046404838562,0.1444072723388672,0.1482018530368805,0.11295414716005325,0.11554688960313797,0.11859681457281113,0.12163057923316956,0.12464817613363266,0.12764960527420044,0.1306348741054535,0.1337788999080658,0.1369229108095169,0.14044907689094543,0.14380840957164764,0.1473911702632904,0.15165220201015472,0.11494497209787369,0.11799643188714981,0.12103171646595001,0.12405084818601608,0.12705381214618683,0.13004060089588165,0.13318461179733276,0.13632863759994507,0.13966219127178192,0.1430119276046753,0.14658352732658386,0.15082885324954987,0.11446642130613327,0.1173960417509079,0.12043286114931107,0.12345351278781891,0.12645800411701202,0.12944632768630981,0.13259033858776093,0.13573434948921204,0.13906638324260712,0.14241459965705872,0.14598314464092255,0.15000855922698975,0.11410665512084961,0.11679565161466599,0.11983399838209152,0.12285618484020233,0.12586219608783722,0.12885203957557678,0.1319960653781891,0.1351400762796402,0.1384705901145935,0.14181725680828094,0.1451800912618637,0.14919131994247437,0.11362046748399734,0.11619526147842407,0.11923513561487198,0.12225884944200516,0.12526638805866241,0.12825776636600494,0.13140179216861725,0.13454580307006836,0.1378747820854187,0.14121992886066437,0.14458124339580536,0.14837713539600372,0.11417712271213531,0.11686541140079498,0.11990358680486679,0.12292558699846268,0.12593142688274384,0.12892109155654907,0.13206511735916138,0.1352091282606125,0.13853982090950012,0.1418866664171219,0.14524967968463898,0.14905069768428802,0.11473037302494049,0.11753556877374649,0.120572030544281,0.1235923320055008,0.12644042074680328,0.1295844316482544,0.1327284425497055,0.1358724683523178,0.13920484483242035,0.1425534039735794,0.1459181308746338,0.15014950931072235,0.11528021842241287,0.11807221174240112,0.12109889090061188,0.12410939484834671,0.1271037459373474,0.13024775683879852,0.13339176774024963,0.13653579354286194,0.13986988365650177,0.14322015643119812,0.14679281413555145,0.15104080736637115,0.11595378071069717,0.11874065548181534,0.1217656284570694,0.12477443367242813,0.12776707112789154,0.13091108202934265,0.13405510783195496,0.13719911873340607,0.1405349224805832,0.14388689398765564,0.1476709246635437,0.1144404411315918,0.11700493842363358,0.12004275619983673,0.12306440621614456,0.12591518461704254,0.12905919551849365,0.13220322132110596,0.13534723222255707,0.13867828249931335,0.14202548563480377,0.14538885653018951,0.14919093251228333,0.11551108956336975,0.1183103621006012,0.1212029978632927,0.12421324104070663,0.12720732390880585,0.13035133481025696,0.13349536061286926,0.13663937151432037,0.1399737298488617,0.14332427084445953,0.14689746499061584,0.1511467844247818,0.11605895310640335,0.11884503811597824,0.12186974287033081,0.12487827241420746,0.12787064909934998,0.1310146600008011,0.1341586858034134,0.1373026967048645,0.14063875377178192,0.14399100840091705,0.14756761491298676,0.1520417481660843,0.11673251539468765,0.11951348185539246,0.12253648042678833,0.12554331123828888,0.1285339742898941,0.1316780000925064,0.13482201099395752,0.13796602189540863,0.14130379259586334,0.14485958218574524,0.1484476923942566,0.1153494268655777,0.11777973175048828,0.12067507207393646,0.12368666380643845,0.1266821026802063,0.1298261135816574,0.13297012448310852,0.13611415028572083,0.1394471526145935,0.1427963376045227,0.14616167545318604,0.15039615333080292,0.1168026328086853,0.11958306282758713,0.12260588258504868,0.1256125420331955,0.1286030262708664,0.13157735764980316,0.1348910629749298,0.13803507387638092,0.14137302339076996,0.14492915570735931,0.1485176384449005,0.11593909561634064,0.11848476529121399,0.12137652188539505,0.12438631802797318,0.12737995386123657,0.13035741448402405,0.1336679905653,0.1368120014667511,0.14014680683612823,0.1434977799654007,0.14707186818122864,0.11545566469430923,0.11801706999540329,0.12091995775699615,0.12393936514854431,0.12678568065166473,0.12976466119289398,0.13290059566497803,0.13621772825717926,0.13955099880695343,0.14290045201778412,0.14626605808734894,0.15071538090705872,0.11805204302072525,0.12095474451780319,0.12397406995296478,0.12682020664215088,0.12979911267757416,0.132935032248497,0.1362522542476654,0.13958561420440674,0.1429351568222046,0.14630085229873657,0.15075071156024933,0.11808700859546661,0.12098953872919083,0.12400877475738525,0.12685473263263702,0.12983354926109314,0.13314275443553925,0.13628678023815155,0.13962022960186005,0.14296986162662506,0.14654123783111572,0.15078602731227875,0.11812198162078857,0.12102433294057846,0.12404347956180573,0.12688925862312317,0.13003326952457428,0.1331772804260254,0.1363213062286377,0.13965484499931335,0.14300456643104553,0.14657612144947052,0.15082135796546936,0.11815694719552994,0.1210591271519661,0.1240781843662262,0.12692378461360931,0.13006779551506042,0.13321180641651154,0.13635583221912384,0.13968946039676666,0.1430392563343048,0.14661100506782532,0.15085668861865997,0.1181919202208519,0.12109392136335373,0.12411288917064667,0.12695831060409546,0.13010232150554657,0.13324633240699768,0.13639035820960999,0.13972407579421997,0.14307396113872528,0.14664588868618011,0.1508920043706894,0.11822689324617386,0.12112870812416077,0.12414759397506714,0.1269928365945816,0.13013684749603271,0.13328085839748383,0.13642488420009613,0.13975869119167328,0.14310866594314575,0.1466807723045349,0.11634853482246399,0.11876381933689117,0.12179715186357498,0.12481433153152466,0.12765616178512573,0.13080017268657684,0.13394419848918915,0.13727162778377533,0.1404237300157547,0.14377541840076447,0.14735090732574463,0.11690036952495575,0.11943396925926208,0.12232089042663574,0.12532827258110046,0.12831950187683105,0.13146349787712097,0.13460752367973328,0.13793666660785675,0.14128196239471436,0.14464344084262848,0.14843980967998505,0.11744878441095352,0.120104119181633,0.12298762798309326,0.12599331140518188,0.128982812166214,0.1321268379688263,0.1354495882987976,0.13860169053077698,0.14194871485233307,0.1453118771314621,0.1493244469165802,0.1179938018321991,0.12063422799110413,0.12365436553955078,0.1266583353281021,0.12981043756008148,0.13296252489089966,0.13611462712287903,0.1392667293548584,0.1426154524087906,0.1459803283214569,0.15021249651908875,0.11853539943695068,0.12130267173051834,0.1243211105465889,0.12732337415218353,0.1304754763841629,0.13362756371498108,0.13677966594696045,0.13993176817893982,0.1432821899652481,0.1468551754951477,0.15131844580173492,0.11857046186923981,0.12133746594190598,0.12435581535100937,0.12735798954963684,0.1305100917816162,0.1336621791124344,0.13681428134441376,0.13996638357639313,0.14331689476966858,0.1468900591135025,0.1513538509607315,0.11910856515169144,0.12200590968132019,0.12502256035804749,0.12802302837371826,0.13117511570453644,0.1343272179365158,0.13747932016849518,0.14082345366477966,0.1439836323261261,0.1475602090358734,0.11724139750003815,0.11964325606822968,0.12252911180257797,0.1255359649658203,0.12868806719779968,0.13184015452861786,0.13499225676059723,0.1381443589925766,0.14149019122123718,0.1448521912097931,0.1486501693725586,0.11779099702835083,0.12031340599060059,0.12319584935903549,0.12620098888874054,0.1293530911207199,0.13250519335269928,0.13565728068351746,0.13880938291549683,0.1421569287776947,0.1455206423997879,0.1493237316608429,0.11833717674016953,0.1209835559129715,0.12386259436607361,0.12686602771282196,0.13001812994480133,0.1331702172756195,0.13632231950759888,0.13947442173957825,0.14282366633415222,0.14618907868862152,0.15021060407161713,0.11887995153665543,0.12151142954826355,0.12452933192253113,0.12753106653690338,0.1305166333913803,0.13366064429283142,0.1369873583316803,0.1403302252292633,0.14349041879177094,0.1470644623041153,0.15110088884830475,0.11941931396722794,0.12217987328767776,0.12519606947898865,0.1281961053609848,0.13117995858192444,0.13432398438453674,0.13765239715576172,0.14099696278572083,0.14415715634822845,0.1477346122264862,0.15177786350250244,0.11959036439657211,0.1222146674990654,0.12523077428340912,0.1282307207584381,0.13121448457241058,0.1343585103750229,0.13768699765205383,0.1408390998840332,0.14419186115264893,0.147769495844841,0.1515962779521942,0.1196255162358284,0.12224945425987244,0.1252654790878296,0.12826533615589142,0.13124901056289673,0.13439303636550903,0.13772161304950714,0.1408737152814865,0.1442265659570694,0.1478043645620346,0.1516314297914505,0.11979682743549347,0.12242849916219711,0.12530018389225006,0.12829995155334473,0.13128353655338287,0.13442756235599518,0.1375715732574463,0.14090833067893982,0.14426127076148987,0.14763034880161285,0.15144957602024078,0.11881464719772339,0.12133394926786423,0.12421999871730804,0.1270737200975418,0.13006046414375305,0.13320447504520416,0.13634848594665527,0.1396821141242981,0.14303189516067505,0.14639782905578613,0.14977993071079254,0.15384401381015778,0.12050903588533401,0.12313353270292282,0.12600162625312805,0.12899959087371826,0.13198140263557434,0.13512541353702545,0.13826942443847656,0.14160798490047455,0.14496271312236786,0.1483335942029953,0.15193942189216614,0.15625818073749542,0.1220407783985138,0.1249232366681099,0.12777337431907654,0.13075831532478333,0.13390232622623444,0.13704635202884674,0.14038175344467163,0.14373333752155304,0.14689351618289948,0.15026932954788208,0.15410876274108887,0.12071765214204788,0.12334951758384705,0.126071035861969,0.12906882166862488,0.13205045461654663,0.13519446551799774,0.13833847641944885,0.14167721569538116,0.1450321227312088,0.14840316772460938,0.15179039537906647,0.15587492287158966,0.12225379049777985,0.12499282509088516,0.1280018538236618,0.13099469244480133,0.13397137820720673,0.13711540400981903,0.14025941491127014,0.14360308647155762,0.14696292579174042,0.15033891797065735,0.15395498275756836,0.1209266185760498,0.12341945618391037,0.12629492580890656,0.1291380524635315,0.13229015469551086,0.13526351749897003,0.13840752840042114,0.14174644649028778,0.14510151743888855,0.14826169610023499,0.15164101123809814,0.1554909497499466,0.12275367975234985,0.12521374225616455,0.12807124853134155,0.13106392323970795,0.13404043018817902,0.13718445599079132,0.14052021503448486,0.14367231726646423,0.14703233540058136,0.15040850639343262,0.1538008451461792,0.15837015211582184,0.12427447736263275,0.1269981563091278,0.13000206649303436,0.1329897940158844,0.1359613686800003,0.13929399847984314,0.14244608581066132,0.14580295979976654,0.14896315336227417,0.1523442566394806,0.15619955956935883,0.12396436929702759,0.12655404210090637,0.12940473854541779,0.13256490230560303,0.13554608821868896,0.13869819045066833,0.1418502777814865,0.14520563185214996,0.1483658105134964,0.15174539387226105,0.1553686410188675,0.12364814430475235,0.12626010179519653,0.12896870076656342,0.13196757435798645,0.13495028018951416,0.13810238242149353,0.1412544846534729,0.1446083039045334,0.14776848256587982,0.1511465311050415,0.1545407474040985,0.15912136435508728,0.12629516422748566,0.1291648894548416,0.13200227916240692,0.13498489558696747,0.13813699781894684,0.1412891000509262,0.14464300870895386,0.1478031873703003,0.15118132531642914,0.1545756310224533,0.15915678441524506,0.12712374329566956,0.1299981325864792,0.13266901671886444,0.1356499344110489,0.13880203664302826,0.14214956760406494,0.14530974626541138,0.1484699249267578,0.15184977650642395,0.15547354519367218,0.1268257349729538,0.1295577883720398,0.13224133849143982,0.1352318674325943,0.13820622861385345,0.14155222475528717,0.1447124183177948,0.14787259697914124,0.1512509137392044,0.1546453982591629,0.1270146369934082,0.12975451350212097,0.13244587182998657,0.13526657223701477,0.1384267508983612,0.14158692955970764,0.14474712312221527,0.14811745285987854,0.15128570795059204,0.15490660071372986,0.1276950240135193,0.13059313595294952,0.1332874596118927,0.1359333097934723,0.13909348845481873,0.14225366711616516,0.1454138606786728,0.14878588914871216,0.15195414423942566,0.15580646693706512,0.13014847040176392,0.1330253779888153,0.13569197058677673,0.13849616050720215,0.14165633916854858,0.1450187712907791,0.14818702638149261,0.15135528147220612,0.15520302951335907,0.13034571707248688,0.1332305371761322,0.1359049528837204,0.13871702551841736,0.14188529551029205,0.14505356550216675,0.14822182059288025,0.15160857141017914,0.15546467900276184,0.13231602311134338,0.1350160390138626,0.1378505825996399,0.14103500545024872,0.1440202295780182,0.14698930084705353,0.1503729224205017,0.15399613976478577,0.13299641013145447,0.13586795330047607,0.13889189064502716,0.14189967513084412,0.14489127695560455,0.14807571470737457,0.1512601375579834,0.15511998534202576,0.1373666375875473,0.14020727574825287,0.1434078812599182,0.1464042365550995,0.14959675073623657,0.15300963819026947,0.13758201897144318,0.1406187117099762,0.14363925158977509,0.14664360880851746,0.1498442143201828,0.1534857451915741,0.1414872258901596,0.14451414346694946,0.147524893283844,0.1509476602077484,0.14539246261119843,0.14861729741096497,0.14865271747112274],\"z\":[-0.0019121811492368579,-0.0008615690167061985,-0.0019220361718907952,0.00011717805318767205,0.00016131608572322875,-0.001958506880328059,8.088943286566064e-05,0.0011224645422771573,0.0011664917692542076,-0.0007838821038603783,-0.0009530085371807218,0.002083765808492899,0.003125099465250969,0.0021715983748435974,0.00022115306637715548,-0.0019870889373123646,0.0010500699281692505,0.0030890845227986574,0.0031328897457569838,0.0031766952015459538,0.0012261783704161644,-0.0010257679969072342,1.6161870007636026e-05,0.0020554696675390005,0.004094333853572607,0.004138028249144554,0.004181722644716501,0.002231134567409754,-0.0010532980086281896,-1.129908469010843e-05,0.0020281467586755753,0.0040671490132808685,0.004110843408852816,0.005151873920112848,0.00419823219999671,0.0022477279417216778,-6.524286436615512e-05,0.0009766994044184685,0.0030160837341099977,0.004057441838085651,0.005098607856780291,0.0051421914249658585,0.005185774993151426,0.00423221942037344,-0.0010995081393048167,0.0009405020973645151,0.0019822840113192797,0.0040215179324150085,0.00506277522072196,0.005106358788907528,0.006147253327071667,0.005193525925278664,0.004239989910274744,-0.0011093384819105268,0.0019286113092675805,0.002970336936414242,0.004011810757219791,0.00505309272557497,0.006094122771173716,0.006137595511972904,0.006181068252772093,0.004230282735079527,-0.0007110981387086213,0.0008945235749706626,0.0029343217611312866,0.0039758868515491486,0.00501726008951664,0.006058381404727697,0.006101854145526886,0.006145326886326075,0.006188799161463976,0.004238053224980831,0.000293754565063864,0.0008847425342537463,0.003922485280781984,0.003966179676353931,0.00500757759436965,0.006048723589628935,0.0060921963304281235,0.006135668605566025,0.006179141346365213,0.005225494969636202,0.0022779947612434626,-0.00013192679034546018,0.00290609709918499,0.003947733901441097,0.004989177919924259,0.006030370946973562,0.006073843687772751,0.0061173164285719395,0.006160788703709841,0.006204261444509029,0.004253594670444727,-0.0006874905666336417,0.0018720190273597836,0.003911809995770454,0.004953345283865929,0.005994629580527544,0.006038102321326733,0.007079053670167923,0.007122415117919445,0.006168520078063011,0.0062119928188622,0.004261365160346031,-0.0021566147916018963,0.0028778724372386932,0.004917512647807598,0.005958888214081526,0.006002360954880714,0.00704340310767293,0.007086765021085739,0.0071301269344985485,0.0061762514524161816,0.006219723727554083,0.003272120375186205,-0.001159470877610147,0.0038749175146222115,0.004916546866297722,0.005957924760878086,0.006001397501677275,0.007042442448437214,0.007085803896188736,0.007129165809601545,0.006175287999212742,0.0062187607400119305,0.004268167540431023,-0.00016232211783062667,0.0038739494048058987,0.004915581084787846,0.005956961307674646,0.006998119875788689,0.007041481323540211,0.00708484323695302,0.007128204684704542,0.0071715665981173515,0.006217797286808491,0.0042671989649534225,-0.000673713511787355,0.003855503164231777,0.004897181876003742,0.005938609130680561,0.006979814264923334,0.007023175712674856,0.0070665376260876656,0.007109899073839188,0.007153260987251997,0.006199444644153118,0.005245849955826998,0.0022985052783042192,0.0018408031901344657,0.004878782667219639,0.0059202564880251884,0.005963729228824377,0.007004870101809502,0.007048232015222311,0.007091593462973833,0.0071349553763866425,0.007178317289799452,0.006224564742296934,0.004274001345038414,-0.0011810929281637073,0.003853566711768508,0.00489525031298399,0.005936682224273682,0.006977892480790615,0.007021253928542137,0.00806216150522232,0.008105412125587463,0.007151339203119278,0.0071947006508708,0.006240990478545427,0.002296558814123273,0.000831934274174273,0.004868134390562773,0.005909635219722986,0.005953107960522175,0.006994275841861963,0.008035251870751381,0.008078503422439098,0.008121754042804241,0.0071677230298519135,0.006213943473994732,0.005260386038571596,0.0003192835138179362,0.0028447937220335007,0.004884601570665836,0.005926060955971479,0.006967298220843077,0.007010659668594599,0.008051593787968159,0.008094844408333302,0.008138095960021019,0.007184106856584549,0.006230369210243225,0.004279835615307093,-0.001184034743346274,0.0038506616838276386,0.004892352502793074,0.0059337918646633625,0.006975009571760893,0.008016034960746765,0.008059285581111908,0.00810253620147705,0.008145787753164768,0.007191818207502365,0.006238100118935108,0.003290637396275997,-0.00017799668421503156,0.004856519866734743,0.004900103434920311,0.005941523239016533,0.006982720922678709,0.008023726753890514,0.008066977374255657,0.0081102279946208,0.008153478614985943,0.007199529558420181,0.006245831493288279,0.002301448956131935,0.0008192261448130012,0.004855554085224867,0.005897087045013905,0.005940559785813093,0.006981759797781706,0.008022768422961235,0.008066019043326378,0.009106664918363094,0.008152520284056664,0.007198568433523178,0.006244868040084839,0.002300475724041462,0.0008182504680007696,0.004854588303714991,0.005896123591810465,0.0059395963326096535,0.00698079913854599,0.008021809160709381,0.0090625686571002,0.009105708450078964,0.008151561953127384,0.007197607774287462,0.006243904586881399,0.0032964861020445824,0.0008172747911885381,0.004853622522205114,0.005895160138607025,0.005938632879406214,0.006979838013648987,0.008020850829780102,0.009061613120138645,0.009104752913117409,0.008150603622198105,0.007196646649390459,0.0062429411336779594,0.0032955154310911894,-0.001188937691040337,0.0038458202034235,0.004887523595243692,0.005928975064307451,0.006970204878598452,0.008011242374777794,0.009052028879523277,0.00909516867250204,0.009138308465480804,0.007187013514339924,0.006233283318579197,0.004282764624804258,-0.0006579507025890052,0.003836113028228283,0.004877840634435415,0.005919317249208689,0.006960571743547916,0.008001633919775486,0.00904244463890791,0.009085584431886673,0.009128724224865437,0.008174637332558632,0.007220741827040911,0.005270092282444239,0.00032911362359300256,0.002828266704455018,0.0048681581392884254,0.005909658968448639,0.006950938142836094,0.007992025464773178,0.009032860398292542,0.009076000191271305,0.009119140915572643,0.008165028877556324,0.0072111086919903755,0.005260409787297249,0.001316256821155548,0.0008221774478442967,0.004858475644141436,0.005900001153349876,0.006941305007785559,0.00798241700977087,0.009023277088999748,0.009066416881978512,0.009109556674957275,0.008155419491231441,0.00720147555693984,0.006247782148420811,0.0023034196346998215,-0.00018582178745418787,0.004848793148994446,0.005890343338251114,0.0069316718727350235,0.007972807623445988,0.00901369284838438,0.009056832641363144,0.009099972434341908,0.008145811036229134,0.007191841956228018,0.006238124333322048,0.003290661610662937,0.0008202260942198336,0.004856544081121683,0.005898074246942997,0.00693938322365284,0.007980499416589737,0.009021365083754063,0.009064504876732826,0.00910764466971159,0.008153502829372883,0.007199553307145834,0.006245855242013931,0.0032984516583383083,0.00182620482519269,0.0048642950132489204,0.005905805621296167,0.006947094574570656,0.008985896594822407,0.00902903638780117,0.009072176180779934,0.009115316905081272,0.008161194622516632,0.00720726465806365,0.006253586616367102,0.001312354113906622,0.0028321738354861736,0.005870064254850149,0.006911444012075663,0.007952632382512093,0.008993568830192089,0.009036708623170853,0.009079848416149616,0.00912298820912838,0.008168886415660381,0.007214976474642754,0.005264297593384981,0.00032324480707757175,0.0028399641159921885,0.005877795163542032,0.006919155828654766,0.007960324175655842,0.009001241065561771,0.009044380858540535,0.009087520651519299,0.009130660444498062,0.00817657820880413,0.00722268782556057,0.004275017883628607,-0.0001818848541006446,0.004852680489420891,0.0058942208997905254,0.006935539189726114,0.008974400348961353,0.009017540141940117,0.009060680866241455,0.009103820659220219,0.008149669505655766,0.007195709738880396,0.00624200189486146,0.0032945687416940928,0.0018310952000319958,0.004869148135185242,0.006908561568707228,0.00794975645840168,0.008990700356662273,0.009033840149641037,0.009076980873942375,0.009120120666921139,0.008166010491549969,0.007212093565613031,0.005261399783194065,0.0003203103842679411,0.002837051870301366,0.005874905269593,0.006916272919625044,0.00795744825154543,0.008998372592031956,0.00904151238501072,0.009084652177989483,0.009127791970968246,0.008173702284693718,0.0072198049165308475,0.005269150715321302,-0.0006687372224405408,0.0028448421508073807,0.0058826361782848835,0.00692398427054286,0.007965140044689178,0.009006044827401638,0.009049184620380402,0.009092324413359165,0.009135464206337929,0.008181394077837467,0.006230417173355818,0.004279883578419685,-0.0011751360725611448,0.004857534077018499,0.006897006183862686,0.007938231341540813,0.008979205042123795,0.009022344835102558,0.009065484628081322,0.009108624421060085,0.008154485374689102,0.00720053818076849,0.006246842909604311,0.0013055243762210011,0.002842900576069951,0.005880709271878004,0.006922062486410141,0.00796322338283062,0.009004132822155952,0.01004484947770834,0.00909041240811348,0.009133552201092243,0.008179477415978909,0.006228490266948938,0.0042779468931257725,-0.00017009851580951363,0.004864318761974573,0.0069037568755447865,0.007944964803755283,0.008985920809209347,0.01002668496221304,0.009072200395166874,0.009115340188145638,0.008161218836903572,0.00720728887245059,0.0052565704099833965,-0.0011780778877437115,0.00385654391720891,0.0058961715549230576,0.006937485188245773,0.008976336568593979,0.010017124935984612,0.010060153901576996,0.00910575594753027,0.00815160945057869,0.007197655737400055,0.006243952549993992,0.0003056139685213566,0.0038555755745619535,0.005895208101719618,0.00693652406334877,0.008975381031632423,0.01001617219299078,0.010059201158583164,0.009104800410568714,0.00815065111964941,0.007196694612503052,0.006242989096790552,0.0003046358178835362,0.003854607231914997,0.0058942451141774654,0.006935563404113054,0.008974424563348293,0.010015218518674374,0.00906070414930582,0.009103843942284584,0.008149692788720131,0.007195733487606049,0.005244956351816654,0.0003036576963495463,0.0038536391220986843,0.005893281660974026,0.006934602279216051,0.008973469026386738,0.009016608819365501,0.009059748612344265,0.009102888405323029,0.008148734457790852,0.007194772828370333,0.005243990570306778,0.00030267954571172595,0.003852670779451728,0.005892318207770586,0.006933641619980335,0.008972512558102608,0.009015652351081371,0.009058792144060135,0.009101931937038898,0.008147776126861572,0.0071938117034733295,0.005243024788796902,0.00030170142417773604,0.0038517024368047714,0.005891354754567146,0.006932680495083332,0.008971556089818478,0.009014696814119816,0.00905783660709858,0.009100976400077343,0.008146817795932293,0.007192851044237614,0.0052420590072870255,0.0003007232735399157,0.003850734094157815,0.005890391301363707,0.006931719370186329,0.008970600552856922,0.009013740345835686,0.00905688013881445,0.009100019931793213,0.008145859465003014,0.0071918899193406105,0.005241092760115862,-0.0011760921915993094,0.004856592044234276,0.005898122675716877,0.006939431186765432,0.008978272788226604,0.009021412581205368,0.009064552374184132,0.008110299706459045,0.008153550326824188,0.007199601270258427,0.005248843692243099,-0.00017007415590342134,0.004864342976361513,0.006903780624270439,0.007944988086819649,0.008985944092273712,0.009029083885252476,0.009072224609553814,0.008117991499602795,0.007163951173424721,0.006210161838680506,0.003262485144659877,0.0008359341882169247,0.0048720939084887505,0.006911491975188255,0.007952679879963398,0.008993616327643394,0.009036756120622158,0.008082432672381401,0.008125683292746544,0.007171662524342537,0.006217893213033676,0.0022732256911695004,0.0018418733961880207,0.005877843126654625,0.0069192033261060715,0.007960371673107147,0.00800362229347229,0.008046872913837433,0.00809012446552515,0.008133375085890293,0.007179373875260353,0.006225624121725559,0.0012840350391343236,0.0028478028252720833,0.005885574501007795,0.006926915142685175,0.007968063466250896,0.00801131408661604,0.008054564706981182,0.008097815327346325,0.008141066879034042,0.007187085226178169,0.005236263852566481,-0.000702126242686063,0.0028468321543186903,0.005884611047804356,0.006925954017788172,0.007967105135321617,0.00801035575568676,0.008053606376051903,0.008096856996417046,0.008140108548104763,0.007186124566942453,0.005235298071056604,-0.0007031068671494722,0.003852694761008024,0.005892341956496239,0.006933665368705988,0.007974796928465366,0.00801804754883051,0.008061298169195652,0.008104548789560795,0.00715047400444746,0.0071938359178602695,0.005243048537522554,-0.0011741066118702292,0.004858547821640968,0.006898015271872282,0.007939237169921398,0.007982488721609116,0.008025739341974258,0.008068989962339401,0.008112240582704544,0.007158185355365276,0.006204381585121155,0.0032566606532782316,-0.00016809350927360356,0.004866298753768206,0.006905726622790098,0.007946928963065147,0.00799017958343029,0.008033431135118008,0.00807668175548315,0.008119932375848293,0.0071658967062830925,0.006212112959474325,0.0032644509337842464,0.0008379098726436496,0.004874049685895443,0.006913437973707914,0.007954620756208897,0.00799787137657404,0.008041121996939182,0.0080843735486269,0.008127624168992043,0.007173608057200909,0.006219843868166208,0.0022751963697373867,0.001843844074755907,0.005879794247448444,0.0069211493246257305,0.007962312549352646,0.009003223851323128,0.009046363644301891,0.008092065341770649,0.007137957960367203,0.007181319873780012,0.005230468697845936,0.0012860108399763703,0.002849768614396453,0.0058875251561403275,0.006928860675543547,0.007970004342496395,0.00901089608669281,0.009054035879671574,0.008099756203591824,0.007145669311285019,0.007189031224697828,0.005238219629973173,0.0012938405852764845,0.0018506809137761593,0.005886561702936888,0.006927900016307831,0.007969046011567116,0.009009940549731255,0.009053080342710018,0.008098797872662544,0.008142049424350262,0.007188070099800825,0.00523725338280201,0.0022898430470377207,0.0018497076816856861,0.005885598249733448,0.006926938891410828,0.007968087680637836,0.009008984081447124,0.009052123874425888,0.008097839541733265,0.008141090162098408,0.007187109440565109,0.005236287601292133,0.0022888698149472475,0.0008506423328071833,0.0048866537399590015,0.0069259777665138245,0.007967128418385983,0.009008027613162994,0.009051168337464333,0.009094308130443096,0.008140131831169128,0.007186148315668106,0.006232415791600943,0.0032849095296114683,-0.0011642518220469356,0.0038701966404914856,0.005909755360335112,0.007948869839310646,0.008989815600216389,0.009032956324517727,0.00907609611749649,0.008121873252093792,0.0071678427048027515,0.006214063614606857,0.0052605061791837215,0.0013163541443645954,0.0008574964012950659,0.004893438890576363,0.006932728458195925,0.007973861880600452,0.009014744311571121,0.009057884104549885,0.009101023897528648,0.008146865293383598,0.007192899007350206,0.006239183712750673,0.004288694821298122,-0.0006519448943436146,0.003876999020576477,0.005916522815823555,0.007955603301525116,0.008996532298624516,0.009039672091603279,0.009082811884582043,0.008128606714308262,0.0071745929308235645,0.007217954844236374,0.006264303810894489,0.0033170415554195642,-0.00014256444410420954,0.0038935085758566856,0.006930806674063206,0.007971945218741894,0.009012832306325436,0.0090559720993042,0.009099111892282963,0.00814494863152504,0.0071909767575562,0.006237256806343794,0.0052837589755654335,0.0013398433802649379,0.0028770468197762966,0.005914596375077963,0.006955862510949373,0.0079969372600317,0.009037760086357594,0.009080899879336357,0.00912403967231512,0.008169940672814846,0.007216033060103655,0.00626237690448761,0.0043120067566633224,-0.0011426054406911135,0.0038915718905627728,0.005931021645665169,0.007970028556883335,0.008013279177248478,0.009054060094058514,0.009097199887037277,0.008143031038343906,0.007189054973423481,0.00723241688683629,0.006278802640736103,0.0033316512126475573,-0.00011901604011654854,0.004914759658277035,0.006953940726816654,0.007995019666850567,0.009035848081111908,0.009078987874090672,0.00812477245926857,0.008168023079633713,0.007214111275970936,0.006260450463742018,0.005307011306285858,-0.0006302985129877925,0.002900417661294341,0.0059377895668148994,0.006978996563702822,0.008020011708140373,0.009060775861144066,0.008106513880193233,0.008149764500558376,0.007195805665105581,0.007239167112857103,0.006285570561885834,0.003338470822200179,0.0008946937741711736,0.004930261522531509,0.0069693634286522865,0.007012725342065096,0.008053653873503208,0.008096905425190926,0.008140156045556068,0.007186172064393759,0.007229533977806568,0.006275912746787071,0.004325611051172018,-0.0011111286003142595,0.002924759406596422,0.005961946211755276,0.007003091741353273,0.0080440454185009,0.008087296038866043,0.00813054759055376,0.007176538929343224,0.007219900842756033,0.006266254466027021,0.005312830209732056,-0.0006243905518203974,0.0029237885028123856,0.004963196348398924,0.0070021310821175575,0.008043087087571621,0.008086337707936764,0.008129589259624481,0.00717557780444622,0.00721893971785903,0.006265291478484869,0.005311864428222179,-0.0006253711180761456,0.0019336715340614319,0.003973151091486216,0.007009842433035374,0.00805077888071537,0.008094029501080513,0.0071399277076125145,0.007183289621025324,0.007226651068776846,0.006273022387176752,0.004322706256061792,-7.19192175893113e-05,0.002965652383863926,0.006002528592944145,0.0070435707457363605,0.008084421046078205,0.007130294572561979,0.007173656020313501,0.007217017933726311,0.00626336457207799,0.005309932865202427,-0.0010708021000027657,0.001966858049854636,0.005003882572054863,0.007042610086500645,0.007085971534252167,0.007129333447664976,0.0071726953610777855,0.006218928378075361,0.00626240111887455,0.004312030505388975,-0.0010629328899085522,0.0009768939344212413,0.00401394022628665,0.007050321437418461,0.00709368335083127,0.007137044798582792,0.007180406711995602,0.006226659752428532,0.006270132027566433,0.0033229144755750895,-3.071559694944881e-05,0.0020088276360183954,0.005045534111559391,0.007084049750119448,0.007127411663532257,0.0061735291965305805,0.006217001937329769,0.0062604742124676704,0.003313182620331645,-0.0010294949170202017,0.001010164269246161,0.004046959336847067,0.006085620261728764,0.006129093002527952,0.006172565743327141,0.006216038484126329,0.005262486170977354,0.0023152681533247232,-0.0010039262706413865,0.002033231081441045,0.0040722074918448925,0.00411590188741684,0.005156919825822115,0.006197685841470957,0.005244086496531963,0.003293718909844756,-0.000996057060547173,0.0010434344876557589,0.002084957202896476,0.003126288065686822,0.004167367238551378,0.004211061634123325,0.0042547560296952724,0.0013075972674414515,6.247548299143091e-05,0.0021015505772083998,0.002145466860383749,0.003186644520610571,0.003230449976399541,0.002277215477079153,-0.0009360697004012764,0.00010563537944108248,0.001147148315794766,0.002188409911468625,0.0022323261946439743,0.0002821874222718179,-0.000883951666764915,0.0001576228823978454,0.0011990051716566086,0.0002458988456055522,-0.0008318335167132318,-0.0007875845185481012,-0.0007885651430115104],\"type\":\"scatter3d\"}],                        {\"updatemenus\":[{\"buttons\":[{\"args\":[null,{\"frame\":{\"duration\":50,\"redraw\":true},\"transition\":{\"duration\":0},\"fromcurrent\":true,\"mode\":\"immediate\"}],\"label\":\"Play\",\"method\":\"animate\"}],\"pad\":{\"r\":10,\"t\":45},\"showactive\":false,\"type\":\"buttons\",\"x\":0.8,\"xanchor\":\"left\",\"y\":1,\"yanchor\":\"bottom\"}],\"template\":{\"data\":{\"histogram2dcontour\":[{\"type\":\"histogram2dcontour\",\"colorbar\":{\"outlinewidth\":0,\"ticks\":\"\"},\"colorscale\":[[0.0,\"#0d0887\"],[0.1111111111111111,\"#46039f\"],[0.2222222222222222,\"#7201a8\"],[0.3333333333333333,\"#9c179e\"],[0.4444444444444444,\"#bd3786\"],[0.5555555555555556,\"#d8576b\"],[0.6666666666666666,\"#ed7953\"],[0.7777777777777778,\"#fb9f3a\"],[0.8888888888888888,\"#fdca26\"],[1.0,\"#f0f921\"]]}],\"choropleth\":[{\"type\":\"choropleth\",\"colorbar\":{\"outlinewidth\":0,\"ticks\":\"\"}}],\"histogram2d\":[{\"type\":\"histogram2d\",\"colorbar\":{\"outlinewidth\":0,\"ticks\":\"\"},\"colorscale\":[[0.0,\"#0d0887\"],[0.1111111111111111,\"#46039f\"],[0.2222222222222222,\"#7201a8\"],[0.3333333333333333,\"#9c179e\"],[0.4444444444444444,\"#bd3786\"],[0.5555555555555556,\"#d8576b\"],[0.6666666666666666,\"#ed7953\"],[0.7777777777777778,\"#fb9f3a\"],[0.8888888888888888,\"#fdca26\"],[1.0,\"#f0f921\"]]}],\"heatmap\":[{\"type\":\"heatmap\",\"colorbar\":{\"outlinewidth\":0,\"ticks\":\"\"},\"colorscale\":[[0.0,\"#0d0887\"],[0.1111111111111111,\"#46039f\"],[0.2222222222222222,\"#7201a8\"],[0.3333333333333333,\"#9c179e\"],[0.4444444444444444,\"#bd3786\"],[0.5555555555555556,\"#d8576b\"],[0.6666666666666666,\"#ed7953\"],[0.7777777777777778,\"#fb9f3a\"],[0.8888888888888888,\"#fdca26\"],[1.0,\"#f0f921\"]]}],\"heatmapgl\":[{\"type\":\"heatmapgl\",\"colorbar\":{\"outlinewidth\":0,\"ticks\":\"\"},\"colorscale\":[[0.0,\"#0d0887\"],[0.1111111111111111,\"#46039f\"],[0.2222222222222222,\"#7201a8\"],[0.3333333333333333,\"#9c179e\"],[0.4444444444444444,\"#bd3786\"],[0.5555555555555556,\"#d8576b\"],[0.6666666666666666,\"#ed7953\"],[0.7777777777777778,\"#fb9f3a\"],[0.8888888888888888,\"#fdca26\"],[1.0,\"#f0f921\"]]}],\"contourcarpet\":[{\"type\":\"contourcarpet\",\"colorbar\":{\"outlinewidth\":0,\"ticks\":\"\"}}],\"contour\":[{\"type\":\"contour\",\"colorbar\":{\"outlinewidth\":0,\"ticks\":\"\"},\"colorscale\":[[0.0,\"#0d0887\"],[0.1111111111111111,\"#46039f\"],[0.2222222222222222,\"#7201a8\"],[0.3333333333333333,\"#9c179e\"],[0.4444444444444444,\"#bd3786\"],[0.5555555555555556,\"#d8576b\"],[0.6666666666666666,\"#ed7953\"],[0.7777777777777778,\"#fb9f3a\"],[0.8888888888888888,\"#fdca26\"],[1.0,\"#f0f921\"]]}],\"surface\":[{\"type\":\"surface\",\"colorbar\":{\"outlinewidth\":0,\"ticks\":\"\"},\"colorscale\":[[0.0,\"#0d0887\"],[0.1111111111111111,\"#46039f\"],[0.2222222222222222,\"#7201a8\"],[0.3333333333333333,\"#9c179e\"],[0.4444444444444444,\"#bd3786\"],[0.5555555555555556,\"#d8576b\"],[0.6666666666666666,\"#ed7953\"],[0.7777777777777778,\"#fb9f3a\"],[0.8888888888888888,\"#fdca26\"],[1.0,\"#f0f921\"]]}],\"mesh3d\":[{\"type\":\"mesh3d\",\"colorbar\":{\"outlinewidth\":0,\"ticks\":\"\"}}],\"scatter\":[{\"fillpattern\":{\"fillmode\":\"overlay\",\"size\":10,\"solidity\":0.2},\"type\":\"scatter\"}],\"parcoords\":[{\"type\":\"parcoords\",\"line\":{\"colorbar\":{\"outlinewidth\":0,\"ticks\":\"\"}}}],\"scatterpolargl\":[{\"type\":\"scatterpolargl\",\"marker\":{\"colorbar\":{\"outlinewidth\":0,\"ticks\":\"\"}}}],\"bar\":[{\"error_x\":{\"color\":\"#2a3f5f\"},\"error_y\":{\"color\":\"#2a3f5f\"},\"marker\":{\"line\":{\"color\":\"#E5ECF6\",\"width\":0.5},\"pattern\":{\"fillmode\":\"overlay\",\"size\":10,\"solidity\":0.2}},\"type\":\"bar\"}],\"scattergeo\":[{\"type\":\"scattergeo\",\"marker\":{\"colorbar\":{\"outlinewidth\":0,\"ticks\":\"\"}}}],\"scatterpolar\":[{\"type\":\"scatterpolar\",\"marker\":{\"colorbar\":{\"outlinewidth\":0,\"ticks\":\"\"}}}],\"histogram\":[{\"marker\":{\"pattern\":{\"fillmode\":\"overlay\",\"size\":10,\"solidity\":0.2}},\"type\":\"histogram\"}],\"scattergl\":[{\"type\":\"scattergl\",\"marker\":{\"colorbar\":{\"outlinewidth\":0,\"ticks\":\"\"}}}],\"scatter3d\":[{\"type\":\"scatter3d\",\"line\":{\"colorbar\":{\"outlinewidth\":0,\"ticks\":\"\"}},\"marker\":{\"colorbar\":{\"outlinewidth\":0,\"ticks\":\"\"}}}],\"scattermapbox\":[{\"type\":\"scattermapbox\",\"marker\":{\"colorbar\":{\"outlinewidth\":0,\"ticks\":\"\"}}}],\"scatterternary\":[{\"type\":\"scatterternary\",\"marker\":{\"colorbar\":{\"outlinewidth\":0,\"ticks\":\"\"}}}],\"scattercarpet\":[{\"type\":\"scattercarpet\",\"marker\":{\"colorbar\":{\"outlinewidth\":0,\"ticks\":\"\"}}}],\"carpet\":[{\"aaxis\":{\"endlinecolor\":\"#2a3f5f\",\"gridcolor\":\"white\",\"linecolor\":\"white\",\"minorgridcolor\":\"white\",\"startlinecolor\":\"#2a3f5f\"},\"baxis\":{\"endlinecolor\":\"#2a3f5f\",\"gridcolor\":\"white\",\"linecolor\":\"white\",\"minorgridcolor\":\"white\",\"startlinecolor\":\"#2a3f5f\"},\"type\":\"carpet\"}],\"table\":[{\"cells\":{\"fill\":{\"color\":\"#EBF0F8\"},\"line\":{\"color\":\"white\"}},\"header\":{\"fill\":{\"color\":\"#C8D4E3\"},\"line\":{\"color\":\"white\"}},\"type\":\"table\"}],\"barpolar\":[{\"marker\":{\"line\":{\"color\":\"#E5ECF6\",\"width\":0.5},\"pattern\":{\"fillmode\":\"overlay\",\"size\":10,\"solidity\":0.2}},\"type\":\"barpolar\"}],\"pie\":[{\"automargin\":true,\"type\":\"pie\"}]},\"layout\":{\"autotypenumbers\":\"strict\",\"colorway\":[\"#636efa\",\"#EF553B\",\"#00cc96\",\"#ab63fa\",\"#FFA15A\",\"#19d3f3\",\"#FF6692\",\"#B6E880\",\"#FF97FF\",\"#FECB52\"],\"font\":{\"color\":\"#2a3f5f\"},\"hovermode\":\"closest\",\"hoverlabel\":{\"align\":\"left\"},\"paper_bgcolor\":\"white\",\"plot_bgcolor\":\"#E5ECF6\",\"polar\":{\"bgcolor\":\"#E5ECF6\",\"angularaxis\":{\"gridcolor\":\"white\",\"linecolor\":\"white\",\"ticks\":\"\"},\"radialaxis\":{\"gridcolor\":\"white\",\"linecolor\":\"white\",\"ticks\":\"\"}},\"ternary\":{\"bgcolor\":\"#E5ECF6\",\"aaxis\":{\"gridcolor\":\"white\",\"linecolor\":\"white\",\"ticks\":\"\"},\"baxis\":{\"gridcolor\":\"white\",\"linecolor\":\"white\",\"ticks\":\"\"},\"caxis\":{\"gridcolor\":\"white\",\"linecolor\":\"white\",\"ticks\":\"\"}},\"coloraxis\":{\"colorbar\":{\"outlinewidth\":0,\"ticks\":\"\"}},\"colorscale\":{\"sequential\":[[0.0,\"#0d0887\"],[0.1111111111111111,\"#46039f\"],[0.2222222222222222,\"#7201a8\"],[0.3333333333333333,\"#9c179e\"],[0.4444444444444444,\"#bd3786\"],[0.5555555555555556,\"#d8576b\"],[0.6666666666666666,\"#ed7953\"],[0.7777777777777778,\"#fb9f3a\"],[0.8888888888888888,\"#fdca26\"],[1.0,\"#f0f921\"]],\"sequentialminus\":[[0.0,\"#0d0887\"],[0.1111111111111111,\"#46039f\"],[0.2222222222222222,\"#7201a8\"],[0.3333333333333333,\"#9c179e\"],[0.4444444444444444,\"#bd3786\"],[0.5555555555555556,\"#d8576b\"],[0.6666666666666666,\"#ed7953\"],[0.7777777777777778,\"#fb9f3a\"],[0.8888888888888888,\"#fdca26\"],[1.0,\"#f0f921\"]],\"diverging\":[[0,\"#8e0152\"],[0.1,\"#c51b7d\"],[0.2,\"#de77ae\"],[0.3,\"#f1b6da\"],[0.4,\"#fde0ef\"],[0.5,\"#f7f7f7\"],[0.6,\"#e6f5d0\"],[0.7,\"#b8e186\"],[0.8,\"#7fbc41\"],[0.9,\"#4d9221\"],[1,\"#276419\"]]},\"xaxis\":{\"gridcolor\":\"white\",\"linecolor\":\"white\",\"ticks\":\"\",\"title\":{\"standoff\":15},\"zerolinecolor\":\"white\",\"automargin\":true,\"zerolinewidth\":2},\"yaxis\":{\"gridcolor\":\"white\",\"linecolor\":\"white\",\"ticks\":\"\",\"title\":{\"standoff\":15},\"zerolinecolor\":\"white\",\"automargin\":true,\"zerolinewidth\":2},\"scene\":{\"xaxis\":{\"backgroundcolor\":\"#E5ECF6\",\"gridcolor\":\"white\",\"linecolor\":\"white\",\"showbackground\":true,\"ticks\":\"\",\"zerolinecolor\":\"white\",\"gridwidth\":2},\"yaxis\":{\"backgroundcolor\":\"#E5ECF6\",\"gridcolor\":\"white\",\"linecolor\":\"white\",\"showbackground\":true,\"ticks\":\"\",\"zerolinecolor\":\"white\",\"gridwidth\":2},\"zaxis\":{\"backgroundcolor\":\"#E5ECF6\",\"gridcolor\":\"white\",\"linecolor\":\"white\",\"showbackground\":true,\"ticks\":\"\",\"zerolinecolor\":\"white\",\"gridwidth\":2}},\"shapedefaults\":{\"line\":{\"color\":\"#2a3f5f\"}},\"annotationdefaults\":{\"arrowcolor\":\"#2a3f5f\",\"arrowhead\":0,\"arrowwidth\":1},\"geo\":{\"bgcolor\":\"white\",\"landcolor\":\"#E5ECF6\",\"subunitcolor\":\"white\",\"showland\":true,\"showlakes\":true,\"lakecolor\":\"white\"},\"title\":{\"x\":0.05},\"mapbox\":{\"style\":\"light\"}}}},                        {\"responsive\": true}                    ).then(function(){\n",
       "                            Plotly.addFrames('6a5100ec-46a7-4fd2-97cb-e8a12b316a6f', [{\"layout\":{\"scene\":{\"camera\":{\"eye\":{\"x\":1.25,\"y\":1.25,\"z\":0.8}}}}},{\"layout\":{\"scene\":{\"camera\":{\"eye\":{\"x\":1.3685469774060675,\"y\":1.1189634357889973,\"z\":0.8}}}}},{\"layout\":{\"scene\":{\"camera\":{\"eye\":{\"x\":1.4734198857953784,\"y\":0.9767465588077254,\"z\":0.8}}}}},{\"layout\":{\"scene\":{\"camera\":{\"eye\":{\"x\":1.5635708697336819,\"y\":0.824770353080333,\"z\":0.8}}}}},{\"layout\":{\"scene\":{\"camera\":{\"eye\":{\"x\":1.6380991703894194,\"y\":0.6645533146177932,\"z\":0.8}}}}},{\"layout\":{\"scene\":{\"camera\":{\"eye\":{\"x\":1.6962601256182197,\"y\":0.4976962791077122,\"z\":0.8}}}}},{\"layout\":{\"scene\":{\"camera\":{\"eye\":{\"x\":1.737472610380892,\"y\":0.32586642689330336,\"z\":0.8}}}}},{\"layout\":{\"scene\":{\"camera\":{\"eye\":{\"x\":1.7613248431527242,\"y\":0.15078062505849654,\"z\":0.8}}}}},{\"layout\":{\"scene\":{\"camera\":{\"eye\":{\"x\":1.7675785003083602,\"y\":-0.025811726940446755,\"z\":0.8}}}}},{\"layout\":{\"scene\":{\"camera\":{\"eye\":{\"x\":1.7561710973726847,\"y\":-0.20214617669602375,\"z\":0.8}}}}},{\"layout\":{\"scene\":{\"camera\":{\"eye\":{\"x\":1.7272166133450453,\"y\":-0.376460848674696,\"z\":0.8}}}}},{\"layout\":{\"scene\":{\"camera\":{\"eye\":{\"x\":1.6810043518587658,\"y\":-0.5470140482948226,\"z\":0.8}}}}},{\"layout\":{\"scene\":{\"camera\":{\"eye\":{\"x\":1.6179960505548747,\"y\":-0.7121016643631912,\"z\":0.8}}}}},{\"layout\":{\"scene\":{\"camera\":{\"eye\":{\"x\":1.5388212675522255,\"y\":-0.870074195990757,\"z\":0.8}}}}},{\"layout\":{\"scene\":{\"camera\":{\"eye\":{\"x\":1.4442710911108763,\"y\":-1.0193532338602744,\"z\":0.8}}}}},{\"layout\":{\"scene\":{\"camera\":{\"eye\":{\"x\":1.3352902353396967,\"y\":-1.1584472311704395,\"z\":0.8}}}}},{\"layout\":{\"scene\":{\"camera\":{\"eye\":{\"x\":1.2129676009252703,\"y\":-1.2859664066784924,\"z\":0.8}}}}},{\"layout\":{\"scene\":{\"camera\":{\"eye\":{\"x\":1.0785253951961797,\"y\":-1.4006366309349918,\"z\":0.8}}}}},{\"layout\":{\"scene\":{\"camera\":{\"eye\":{\"x\":0.9333069202313851,\"y\":-1.5013121569641028,\"z\":0.8}}}}},{\"layout\":{\"scene\":{\"camera\":{\"eye\":{\"x\":0.7787631510298885,\"y\":-1.5869870681886475,\"z\":0.8}}}}},{\"layout\":{\"scene\":{\"camera\":{\"eye\":{\"x\":0.6164382378481742,\"y\":-1.6568053292160303,\"z\":0.8}}}}},{\"layout\":{\"scene\":{\"camera\":{\"eye\":{\"x\":0.44795407756127026,\"y\":-1.710069339060914,\"z\":0.8}}}}},{\"layout\":{\"scene\":{\"camera\":{\"eye\":{\"x\":0.27499410820530534,\"y\":-1.7462469013436699,\"z\":0.8}}}}},{\"layout\":{\"scene\":{\"camera\":{\"eye\":{\"x\":0.09928648862111944,\"y\":-1.7649765418206806,\"z\":0.8}}}}},{\"layout\":{\"scene\":{\"camera\":{\"eye\":{\"x\":-0.07741316873761894,\"y\":-1.7660711201154955,\"z\":0.8}}}}},{\"layout\":{\"scene\":{\"camera\":{\"eye\":{\"x\":-0.25333933930372143,\"y\":-1.7495196995636126,\"z\":0.8}}}}},{\"layout\":{\"scene\":{\"camera\":{\"eye\":{\"x\":-0.4267342269343539,\"y\":-1.7154876564880144,\"z\":0.8}}}}},{\"layout\":{\"scene\":{\"camera\":{\"eye\":{\"x\":-0.5958653272290393,\"y\":-1.6643150278136138,\"z\":0.8}}}}},{\"layout\":{\"scene\":{\"camera\":{\"eye\":{\"x\":-0.7590427381409421,\"y\":-1.5965131135307038,\"z\":0.8}}}}},{\"layout\":{\"scene\":{\"camera\":{\"eye\":{\"x\":-0.9146360449195108,\"y\":-1.5127593679544658,\"z\":0.8}}}}},{\"layout\":{\"scene\":{\"camera\":{\"eye\":{\"x\":-1.0610906106757227,\"y\":-1.4138906308253907,\"z\":0.8}}}}},{\"layout\":{\"scene\":{\"camera\":{\"eye\":{\"x\":-1.196943109799986,\"y\":-1.3008947658832124,\"z\":0.8}}}}},{\"layout\":{\"scene\":{\"camera\":{\"eye\":{\"x\":-1.3208361490279166,\"y\":-1.1749007904589663,\"z\":0.8}}}}},{\"layout\":{\"scene\":{\"camera\":{\"eye\":{\"x\":-1.431531830065142,\"y\":-1.0371675947070202,\"z\":0.8}}}}},{\"layout\":{\"scene\":{\"camera\":{\"eye\":{\"x\":-1.5279241182578656,\"y\":-0.8890713631907865,\"z\":0.8}}}}},{\"layout\":{\"scene\":{\"camera\":{\"eye\":{\"x\":-1.6090498937255202,\"y\":-0.7320918245014705,\"z\":0.8}}}}},{\"layout\":{\"scene\":{\"camera\":{\"eye\":{\"x\":-1.6740985745362496,\"y\":-0.5677974662991182,\"z\":0.8}}}}},{\"layout\":{\"scene\":{\"camera\":{\"eye\":{\"x\":-1.7224202157736266,\"y\":-0.39782986350239324,\"z\":0.8}}}}},{\"layout\":{\"scene\":{\"camera\":{\"eye\":{\"x\":-1.7535320035714197,\"y\":-0.22388727621462157,\"z\":0.8}}}}},{\"layout\":{\"scene\":{\"camera\":{\"eye\":{\"x\":-1.7671230792301427,\"y\":-0.04770768127020719,\"z\":0.8}}}}},{\"layout\":{\"scene\":{\"camera\":{\"eye\":{\"x\":-1.7630576452144253,\"y\":0.1289485930553954,\"z\":0.8}}}}},{\"layout\":{\"scene\":{\"camera\":{\"eye\":{\"x\":-1.741376321997099,\"y\":0.30431645566392784,\"z\":0.8}}}}},{\"layout\":{\"scene\":{\"camera\":{\"eye\":{\"x\":-1.7022957421928595,\"y\":0.47664368884111097,\"z\":0.8}}}}},{\"layout\":{\"scene\":{\"camera\":{\"eye\":{\"x\":-1.646206386036788,\"y\":0.6442084558368493,\"z\":0.8}}}}},{\"layout\":{\"scene\":{\"camera\":{\"eye\":{\"x\":-1.573668679834919,\"y\":0.8053365048888708,\"z\":0.8}}}}},{\"layout\":{\"scene\":{\"camera\":{\"eye\":{\"x\":-1.4854073963698458,\"y\":0.9584178977928967,\"z\":0.8}}}}},{\"layout\":{\"scene\":{\"camera\":{\"eye\":{\"x\":-1.3823044132106481,\"y\":1.101923095873013,\"z\":0.8}}}}},{\"layout\":{\"scene\":{\"camera\":{\"eye\":{\"x\":-1.2653899012837393,\"y\":1.2344182426265127,\"z\":0.8}}}}},{\"layout\":{\"scene\":{\"camera\":{\"eye\":{\"x\":-1.1358320317454915,\"y\":1.3545794903441097,\"z\":0.8}}}}},{\"layout\":{\"scene\":{\"camera\":{\"eye\":{\"x\":-0.9949253040021958,\"y\":1.4612062275586353,\"z\":0.8}}}}},{\"layout\":{\"scene\":{\"camera\":{\"eye\":{\"x\":-0.8440776114998902,\"y\":1.553233075157956,\"z\":0.8}}}}},{\"layout\":{\"scene\":{\"camera\":{\"eye\":{\"x\":-0.6847961745184389,\"y\":1.6297405313008917,\"z\":0.8}}}}},{\"layout\":{\"scene\":{\"camera\":{\"eye\":{\"x\":-0.5186724805247199,\"y\":1.6899641587756626,\"z\":0.8}}}}},{\"layout\":{\"scene\":{\"camera\":{\"eye\":{\"x\":-0.347366382555924,\"y\":1.733302223003828,\"z\":0.8}}}}},{\"layout\":{\"scene\":{\"camera\":{\"eye\":{\"x\":-0.17258951451669058,\"y\":1.7593217043732774,\"z\":0.8}}}}},{\"layout\":{\"scene\":{\"camera\":{\"eye\":{\"x\":0.0039118109010850555,\"y\":1.767762624827065,\"z\":0.8}}}}},{\"layout\":{\"scene\":{\"camera\":{\"eye\":{\"x\":0.18037405079741164,\"y\":1.7585406454782138,\"z\":0.8}}}}},{\"layout\":{\"scene\":{\"camera\":{\"eye\":{\"x\":0.3550340528019027,\"y\":1.7317479092959966,\"z\":0.8}}}}},{\"layout\":{\"scene\":{\"camera\":{\"eye\":{\"x\":0.5261466719094534,\"y\":1.6876521204438448,\"z\":0.8}}}}},{\"layout\":{\"scene\":{\"camera\":{\"eye\":{\"x\":0.6920022073922499,\"y\":1.62669386946784,\"z\":0.8}}}}},{\"layout\":{\"scene\":{\"camera\":{\"eye\":{\"x\":0.8509434855643001,\"y\":1.5494822310616148,\"z\":0.8}}}}},{\"layout\":{\"scene\":{\"camera\":{\"eye\":{\"x\":1.001382417713112,\"y\":1.4567886783933495,\"z\":0.8}}}}},{\"layout\":{\"scene\":{\"camera\":{\"eye\":{\"x\":1.1418158677571515,\"y\":1.3495393748008924,\"z\":0.8}}}}},{\"layout\":{\"scene\":{\"camera\":{\"eye\":{\"x\":1.270840671084707,\"y\":1.2288059198738308,\"z\":0.8}}}}},{\"layout\":{\"scene\":{\"camera\":{\"eye\":{\"x\":1.3871676545108578,\"y\":1.0957946423846239,\"z\":0.8}}}}},{\"layout\":{\"scene\":{\"camera\":{\"eye\":{\"x\":1.4896345172697987,\"y\":0.9518345470502599,\"z\":0.8}}}}},{\"layout\":{\"scene\":{\"camera\":{\"eye\":{\"x\":1.577217444339885,\"y\":0.7983640355564382,\"z\":0.8}}}}},{\"layout\":{\"scene\":{\"camera\":{\"eye\":{\"x\":1.6490413360648972,\"y\":0.6369165345234014,\"z\":0.8}}}}},{\"layout\":{\"scene\":{\"camera\":{\"eye\":{\"x\":1.7043885518605422,\"y\":0.46910517401401974,\"z\":0.8}}}}},{\"layout\":{\"scene\":{\"camera\":{\"eye\":{\"x\":1.742706080641946,\"y\":0.2966066696714459,\"z\":0.8}}}}},{\"layout\":{\"scene\":{\"camera\":{\"eye\":{\"x\":1.7636110663276172,\"y\":0.12114456953064445,\"z\":0.8}}}}},{\"layout\":{\"scene\":{\"camera\":{\"eye\":{\"x\":1.766894633210853,\"y\":-0.05552796710383823,\"z\":0.8}}}}},{\"layout\":{\"scene\":{\"camera\":{\"eye\":{\"x\":1.7525239729767597,\"y\":-0.23164568664612328,\"z\":0.8}}}}},{\"layout\":{\"scene\":{\"camera\":{\"eye\":{\"x\":1.7206426725120867,\"y\":-0.4054488790593255,\"z\":0.8}}}}},{\"layout\":{\"scene\":{\"camera\":{\"eye\":{\"x\":1.6715692792325216,\"y\":-0.5752009602965458,\"z\":0.8}}}}},{\"layout\":{\"scene\":{\"camera\":{\"eye\":{\"x\":1.605794118262206,\"y\":-0.7392058236746413,\"z\":0.8}}}}},{\"layout\":{\"scene\":{\"camera\":{\"eye\":{\"x\":1.5239743932671765,\"y\":-0.8958247868115395,\"z\":0.8}}}}},{\"layout\":{\"scene\":{\"camera\":{\"eye\":{\"x\":1.426927619893581,\"y\":-1.04349296479892,\"z\":0.8}}}}},{\"layout\":{\"scene\":{\"camera\":{\"eye\":{\"x\":1.3156234574215673,\"y\":-1.180734906014945,\"z\":0.8}}}}},{\"layout\":{\"scene\":{\"camera\":{\"eye\":{\"x\":1.1911740202502938,\"y\":-1.3061793343491364,\"z\":0.8}}}}},{\"layout\":{\"scene\":{\"camera\":{\"eye\":{\"x\":1.0548227660184604,\"y\":-1.4185728505399942,\"z\":0.8}}}}},{\"layout\":{\"scene\":{\"camera\":{\"eye\":{\"x\":0.9079320713866189,\"y\":-1.5167924557260966,\"z\":0.8}}}}},{\"layout\":{\"scene\":{\"camera\":{\"eye\":{\"x\":0.7519696196199205,\"y\":-1.599856772079511,\"z\":0.8}}}}},{\"layout\":{\"scene\":{\"camera\":{\"eye\":{\"x\":0.5884937359820905,\"y\":-1.6669358484086425,\"z\":0.8}}}}},{\"layout\":{\"scene\":{\"camera\":{\"eye\":{\"x\":0.41913781746449363,\"y\":-1.7173594527562077,\"z\":0.8}}}}},{\"layout\":{\"scene\":{\"camera\":{\"eye\":{\"x\":0.24559401242333323,\"y\":-1.7506237691353923,\"z\":0.8}}}}},{\"layout\":{\"scene\":{\"camera\":{\"eye\":{\"x\":0.06959631319262605,\"y\":-1.7663964314926572,\"z\":0.8}}}}},{\"layout\":{\"scene\":{\"camera\":{\"eye\":{\"x\":-0.10709676939402235,\"y\":-1.7645198445994774,\"z\":0.8}}}}},{\"layout\":{\"scene\":{\"camera\":{\"eye\":{\"x\":-0.2827197764623679,\"y\":-1.745012758691772,\"z\":0.8}}}}},{\"layout\":{\"scene\":{\"camera\":{\"eye\":{\"x\":-0.45551794097903464,\"y\":-1.7080700821237462,\"z\":0.8}}}}},{\"layout\":{\"scene\":{\"camera\":{\"eye\":{\"x\":-0.6237647208036504,\"y\":-1.6540609339080419,\"z\":0.8}}}}},{\"layout\":{\"scene\":{\"camera\":{\"eye\":{\"x\":-0.7857790497271997,\"y\":-1.58352495560058,\"z\":0.8}}}}},{\"layout\":{\"scene\":{\"camera\":{\"eye\":{\"x\":-0.9399421341298975,\"y\":-1.4971669193805124,\"z\":0.8}}}}},{\"layout\":{\"scene\":{\"camera\":{\"eye\":{\"x\":-1.0847136274319271,\"y\":-1.3958496861995813,\"z\":0.8}}}}},{\"layout\":{\"scene\":{\"camera\":{\"eye\":{\"x\":-1.218647020727311,\"y\":-1.2805855843607052,\"z\":0.8}}}}},{\"layout\":{\"scene\":{\"camera\":{\"eye\":{\"x\":-1.3404040958227346,\"y\":-1.1525262946682115,\"z\":0.8}}}}},{\"layout\":{\"scene\":{\"camera\":{\"eye\":{\"x\":-1.448768296271385,\"y\":-1.0129513432139317,\"z\":0.8}}}}},{\"layout\":{\"scene\":{\"camera\":{\"eye\":{\"x\":-1.5426568828028173,\"y\":-0.8632553167754569,\"z\":0.8}}}}},{\"layout\":{\"scene\":{\"camera\":{\"eye\":{\"x\":-1.6211317516958519,\"y\":-0.7049339285660311,\"z\":0.8}}}}},{\"layout\":{\"scene\":{\"camera\":{\"eye\":{\"x\":-1.6834088080008527,\"y\":-0.5395690735625494,\"z\":0.8}}}}},{\"layout\":{\"scene\":{\"camera\":{\"eye\":{\"x\":-1.7288657999572776,\"y\":-0.3688130227338533,\"z\":0.8}}}}},{\"layout\":{\"scene\":{\"camera\":{\"eye\":{\"x\":-1.7570485363275825,\"y\":-0.1943719140953739,\"z\":0.8}}}}},{\"layout\":{\"scene\":{\"camera\":{\"eye\":{\"x\":-1.7676754245259283,\"y\":-0.017988705542069106,\"z\":0.8}}}}}]);\n",
       "                        }).then(function(){\n",
       "                            \n",
       "var gd = document.getElementById('6a5100ec-46a7-4fd2-97cb-e8a12b316a6f');\n",
       "var x = new MutationObserver(function (mutations, observer) {{\n",
       "        var display = window.getComputedStyle(gd).display;\n",
       "        if (!display || display === 'none') {{\n",
       "            console.log([gd, 'removed!']);\n",
       "            Plotly.purge(gd);\n",
       "            observer.disconnect();\n",
       "        }}\n",
       "}});\n",
       "\n",
       "// Listen for the removal of the full notebook cells\n",
       "var notebookContainer = gd.closest('#notebook-container');\n",
       "if (notebookContainer) {{\n",
       "    x.observe(notebookContainer, {childList: true});\n",
       "}}\n",
       "\n",
       "// Listen for the clearing of the current output cell\n",
       "var outputEl = gd.closest('.output');\n",
       "if (outputEl) {{\n",
       "    x.observe(outputEl, {childList: true});\n",
       "}}\n",
       "\n",
       "                        })                };                });            </script>        </div>"
      ]
     },
     "metadata": {},
     "output_type": "display_data"
    }
   ],
   "source": [
    "visualize_rotate([go.Scatter3d(x=x, y=y, z=z,mode='markers')]).show()"
   ]
  },
  {
   "cell_type": "code",
   "execution_count": 190,
   "id": "e6acfdd1",
   "metadata": {},
   "outputs": [],
   "source": [
    "class PointCloudData(Dataset):\n",
    "    def __init__(self, root_dir, valid=False, folder=\"train\"):\n",
    "        self.files = []\n",
    "        target_output = {\n",
    "        #     x1, y1, x2, y2, pitch, f1, f2\n",
    "            \"nugg_1\": np.array([0.4133, 0.115, 0.4024, 0.1550, 0.524, 0.5, 0.75]),\n",
    "            \"nugg_2\": np.array([0.4054, 0.094, 0.4535, 0.1271, 0.524, 0.5, 0.75]),\n",
    "            \"nugg_3\": np.array([0.4156, 0.1164, 0.4132, 0.1621, 0.524, 0.5, 0.75]),\n",
    "            \"nugg_4\": np.array([0.4017, 0.0874, 0.4305, 0.1325, 0.524, 0.5, 0.75]),\n",
    "            \"nugg_5\": np.array([0.4115, 0.0840, 0.4457, 0.1250, 0.524, 0.5, 0.75])\n",
    "        }\n",
    "        for i in range(5):\n",
    "            pcd = o3d.io.read_point_cloud(f'{root_dir}/{folder}/nugg_{i+1}.pcd')\n",
    "            xyz = np.asarray(pcd.points)\n",
    "            xyz = xyz[np.where((xyz[:,2]>center[2]-0.001) & (xyz[:,2]<center[2]+0.001))]\n",
    "            idx = np.random.choice(np.arange(xyz.shape[0]), size=128)\n",
    "            xyz = xyz[idx]\n",
    "            sample = {}\n",
    "            sample['pt_cld'] = xyz\n",
    "            sample['target'] = target_output[f'nugg_{i+1}']\n",
    "            self.files.append(sample)\n",
    "\n",
    "    def __len__(self):\n",
    "        return len(self.files)\n",
    "\n",
    "    def __getitem__(self, idx):\n",
    "        pointcloud = self.files[idx]['pt_cld']\n",
    "        target = self.files[idx]['target']\n",
    "        return {'pointcloud': torch.from_numpy(pointcloud), \n",
    "                'target': torch.from_numpy(target)}"
   ]
  },
  {
   "cell_type": "code",
   "execution_count": 191,
   "id": "5da7f836",
   "metadata": {},
   "outputs": [],
   "source": [
    "train_ds = PointCloudData('./')\n",
    "# valid_ds = PointCloudData('./data', valid=True, folder='test', transform=train_transforms)"
   ]
  },
  {
   "cell_type": "code",
   "execution_count": 192,
   "id": "9c5b8492",
   "metadata": {},
   "outputs": [],
   "source": [
    "train_loader = DataLoader(dataset=train_ds, batch_size=1, shuffle=True)\n",
    "# valid_loader = DataLoader(dataset=valid_ds, batch_size=64)"
   ]
  },
  {
   "cell_type": "code",
   "execution_count": 193,
   "id": "933c22de",
   "metadata": {},
   "outputs": [],
   "source": [
    "class Tnet(nn.Module):\n",
    "    def __init__(self, k=3):\n",
    "        super().__init__()\n",
    "        self.k = k\n",
    "        self.conv1 = nn.Conv1d(k, 64, 1)\n",
    "        self.conv2 = nn.Conv1d(64, 128, 1)\n",
    "        self.conv3 = nn.Conv1d(128, 512, 1)\n",
    "        self.fc1 = nn.Linear(512,256)\n",
    "        self.fc2 = nn.Linear(256,128)\n",
    "        self.fc3 = nn.Linear(128, k*k)\n",
    "        \n",
    "#         self.bn1 = nn.BatchNorm1d(64)\n",
    "#         self.bn2 = nn.BatchNorm1d(128)\n",
    "#         self.bn3 = nn.BatchNorm1d(512)\n",
    "#         self.bn4 = nn.BatchNorm1d(256)\n",
    "#         self.bn5 = nn.BatchNorm1d(128)\n",
    "    def forward(self, x):\n",
    "        bs = x.size(0)\n",
    "        x = F.relu(self.conv1(x))\n",
    "        x = F.relu(self.conv2(x))\n",
    "        x = F.relu(self.conv3(x))\n",
    "        x = nn.MaxPool1d(x.size(-1))(x)\n",
    "        x = nn.Flatten(1)(x)\n",
    "        x = F.relu(self.fc1(x))\n",
    "        x = F.relu(self.fc2(x))\n",
    "        \n",
    "        init = torch.eye(self.k, requires_grad=True).repeat(bs,1,1)\n",
    "        if x.is_cuda:\n",
    "            init = init.cuda()\n",
    "        matrix = self.fc3(x).view(-1, self.k, self.k) + init\n",
    "        return matrix\n",
    "    \n",
    "class Transform(nn.Module):\n",
    "    def __init__(self):\n",
    "        super().__init__()\n",
    "        self.input_transform = Tnet(k=3)\n",
    "        self.feature_transform = Tnet(k=64)\n",
    "        self.conv1 = nn.Conv1d(3, 64, 1)\n",
    "        self.conv2 = nn.Conv1d(64, 128, 1)\n",
    "        self.conv3 = nn.Conv1d(128, 512, 1)\n",
    "        \n",
    "#         self.bn1 = nn.BatchNorm1d(64)\n",
    "#         self.bn2 = nn.BatchNorm1d(128)\n",
    "#         self.bn3 = nn.BatchNorm1d(512)\n",
    "    def forward(self, x):\n",
    "        matrix3x3 = self.input_transform(x)\n",
    "        x = torch.bmm(torch.transpose(x, 1, 2), matrix3x3).transpose(1,2)\n",
    "        x = F.relu(self.conv1(x))\n",
    "        matrix64x64 = self.feature_transform(x)\n",
    "        x = torch.bmm(torch.transpose(x, 1, 2), matrix64x64).transpose(1,2)\n",
    "        x = F.relu(self.conv2(x))\n",
    "        x = self.conv3(x)\n",
    "        x = nn.MaxPool1d(x.size(-1))(x)\n",
    "        x = nn.Flatten(1)(x)\n",
    "        return x, matrix3x3, matrix64x64\n",
    "    \n",
    "class PointNet(nn.Module):\n",
    "    def __init__(self, tgt_layer = 7):\n",
    "        super().__init__()\n",
    "        self.transform = Transform()\n",
    "        self.fc1 = nn.Linear(512, 256)\n",
    "        self.fc2 = nn.Linear(256, 128)\n",
    "        self.fc3 = nn.Linear(128, tgt_layer)\n",
    "        \n",
    "#         self.bn1 = nn.BatchNorm1d(256)\n",
    "#         self.bn2 = nn.BatchNorm1d(128)\n",
    "        self.dropout = nn.Dropout(p=0.3)\n",
    "#         self.logsoftmax = nn.LogSoftmax(dim=1)\n",
    "        \n",
    "    def forward(self, x):\n",
    "        x, mat3, mat64 = self.transform(x)\n",
    "        x = F.relu(self.fc1(x))\n",
    "        x = F.relu(self.dropout(self.fc2(x)))\n",
    "        x = self.fc3(x)\n",
    "        return x, mat3, mat64"
   ]
  },
  {
   "cell_type": "code",
   "execution_count": 194,
   "id": "2ba1f8fa",
   "metadata": {},
   "outputs": [],
   "source": [
    "def pointnetloss(output, target, m3x3, m64x64, alpha = 0.0001):\n",
    "    criterion = torch.nn.MSELoss()\n",
    "#     bs=target.size(0)\n",
    "#     id3x3 = torch.eye(3, requires_grad=True).repeat(bs,1,1)\n",
    "#     id64x64 = torch.eye(64, requires_grad=True).repeat(bs,1,1)\n",
    "#     if target.is_cuda:\n",
    "#         id3x3=id3x3.cuda()\n",
    "#         id64x64=id64x64.cuda()\n",
    "#     diff3x3 = id3x3-torch.bmm(m3x3,m3x3.transpose(1,2))\n",
    "#     diff64x64 = id64x64-torch.bmm(m64x64,m64x64.transpose(1,2))\n",
    "    final_loss = criterion(output, target) #+ alpha * (torch.norm(diff3x3)+torch.norm(diff64x64)) / float(bs)\n",
    "    return final_loss"
   ]
  },
  {
   "cell_type": "code",
   "execution_count": 195,
   "id": "d315dc3c",
   "metadata": {},
   "outputs": [
    {
     "data": {
      "text/plain": [
       "device(type='cuda', index=0)"
      ]
     },
     "execution_count": 195,
     "metadata": {},
     "output_type": "execute_result"
    }
   ],
   "source": [
    "device = torch.device(\"cuda:0\" if torch.cuda.is_available() else \"cpu\")\n",
    "device"
   ]
  },
  {
   "cell_type": "code",
   "execution_count": 196,
   "id": "4447ad49",
   "metadata": {},
   "outputs": [],
   "source": [
    "def train(model, optim, train_loader, val_loader=None, epochs=20, save=True, print_every=10):\n",
    "    prev_val_acc = 0\n",
    "    min_loss = 999\n",
    "    for epoch in range(epochs):\n",
    "        model.train()\n",
    "        avg_loss = 0\n",
    "        for i,data in enumerate(train_loader, 0):\n",
    "            inputs, labels = data['pointcloud'].to(device).float(), data['target'].to(device).float()\n",
    "#             print(inputs.shape)\n",
    "            optim.zero_grad()\n",
    "            y, m3, m64 = model(inputs.transpose(1,2))\n",
    "            loss = pointnetloss(y, labels, m3, m64)\n",
    "            loss.backward()\n",
    "            optim.step()\n",
    "            avg_loss += loss.item()\n",
    "            if i%print_every==0:\n",
    "                pass\n",
    "        \n",
    "        if min_loss > avg_loss/5:\n",
    "            min_loss = avg_loss/5\n",
    "            \n",
    "            print(f\"Epoch {epoch}, avg_loss: {avg_loss/5}, min_loss: {min_loss}\")\n",
    "            if save:\n",
    "                torch.save(model.state_dict(), f\"./checkpoints/ckpt_min_loss.pt\")\n",
    "        model.eval()\n",
    "        correct = total = 0\n",
    "        if val_loader:\n",
    "            with torch.no_grad():\n",
    "                for data in val_loader:\n",
    "                    inputs, labels = data['pointcloud'].to(device).float(), data['target'].to(device)\n",
    "                    y, _, _ = model(inputs.transpose(1,2))\n",
    "                    _, predicted = torch.max(y.data, 1)\n",
    "                    total += labels.size(0)\n",
    "                    correct += (predicted == labels).sum().item()\n",
    "            val_acc = 100*correct/total\n",
    "            if val_acc > prev_val_acc:\n",
    "                prev_val_acc = val_acc\n",
    "    return model\n",
    "                \n",
    "\n",
    "def load_model(path, device):\n",
    "    pointnet = PointNet()\n",
    "    pointnet.to(device)\n",
    "    optimizer = torch.optim.Adam(pointnet.parameters(), lr=0.001)\n",
    "    torch.load(path, map_location=device)"
   ]
  },
  {
   "cell_type": "code",
   "execution_count": 197,
   "id": "e348e59c",
   "metadata": {
    "scrolled": true
   },
   "outputs": [
    {
     "name": "stdout",
     "output_type": "stream",
     "text": [
      "Epoch 0, avg_loss: 0.167088320851326, min_loss: 0.167088320851326\n",
      "Epoch 1, avg_loss: 0.06633727699518203, min_loss: 0.06633727699518203\n",
      "Epoch 2, avg_loss: 0.022996257431805132, min_loss: 0.022996257431805132\n",
      "Epoch 4, avg_loss: 0.022837360575795173, min_loss: 0.022837360575795173\n",
      "Epoch 5, avg_loss: 0.016622455976903438, min_loss: 0.016622455976903438\n",
      "Epoch 9, avg_loss: 0.01329210503026843, min_loss: 0.01329210503026843\n",
      "Epoch 11, avg_loss: 0.011769658792763949, min_loss: 0.011769658792763949\n",
      "Epoch 14, avg_loss: 0.0073987339623272416, min_loss: 0.0073987339623272416\n",
      "Epoch 17, avg_loss: 0.006342638144269585, min_loss: 0.006342638144269585\n",
      "Epoch 18, avg_loss: 0.00577927915728651, min_loss: 0.00577927915728651\n",
      "Epoch 19, avg_loss: 0.005114735988900066, min_loss: 0.005114735988900066\n",
      "Epoch 25, avg_loss: 0.00372562687844038, min_loss: 0.00372562687844038\n",
      "Epoch 37, avg_loss: 0.0033924121642485263, min_loss: 0.0033924121642485263\n",
      "Epoch 53, avg_loss: 0.0018549016676843166, min_loss: 0.0018549016676843166\n",
      "Epoch 83, avg_loss: 0.0012739742756821214, min_loss: 0.0012739742756821214\n",
      "Epoch 145, avg_loss: 0.0008746691019041464, min_loss: 0.0008746691019041464\n",
      "Epoch 164, avg_loss: 0.0005865770275704562, min_loss: 0.0005865770275704562\n",
      "Epoch 219, avg_loss: 0.0005712294776458293, min_loss: 0.0005712294776458293\n",
      "Epoch 231, avg_loss: 0.0005409223027527333, min_loss: 0.0005409223027527333\n",
      "Epoch 241, avg_loss: 0.0005119282810483128, min_loss: 0.0005119282810483128\n",
      "Epoch 346, avg_loss: 0.0005083836585981771, min_loss: 0.0005083836585981771\n",
      "Epoch 360, avg_loss: 0.0005034044937929138, min_loss: 0.0005034044937929138\n",
      "Epoch 366, avg_loss: 0.00036085007595829663, min_loss: 0.00036085007595829663\n",
      "Epoch 438, avg_loss: 0.00035589064791565763, min_loss: 0.00035589064791565763\n",
      "Epoch 447, avg_loss: 0.0003422412963118404, min_loss: 0.0003422412963118404\n",
      "Epoch 493, avg_loss: 0.00025502187199890616, min_loss: 0.00025502187199890616\n",
      "Epoch 532, avg_loss: 0.0002349358081119135, min_loss: 0.0002349358081119135\n",
      "Epoch 621, avg_loss: 0.0001828288528486155, min_loss: 0.0001828288528486155\n",
      "Epoch 817, avg_loss: 0.00016176891658687965, min_loss: 0.00016176891658687965\n"
     ]
    },
    {
     "data": {
      "text/plain": [
       "PointNet(\n",
       "  (transform): Transform(\n",
       "    (input_transform): Tnet(\n",
       "      (conv1): Conv1d(3, 64, kernel_size=(1,), stride=(1,))\n",
       "      (conv2): Conv1d(64, 128, kernel_size=(1,), stride=(1,))\n",
       "      (conv3): Conv1d(128, 512, kernel_size=(1,), stride=(1,))\n",
       "      (fc1): Linear(in_features=512, out_features=256, bias=True)\n",
       "      (fc2): Linear(in_features=256, out_features=128, bias=True)\n",
       "      (fc3): Linear(in_features=128, out_features=9, bias=True)\n",
       "    )\n",
       "    (feature_transform): Tnet(\n",
       "      (conv1): Conv1d(64, 64, kernel_size=(1,), stride=(1,))\n",
       "      (conv2): Conv1d(64, 128, kernel_size=(1,), stride=(1,))\n",
       "      (conv3): Conv1d(128, 512, kernel_size=(1,), stride=(1,))\n",
       "      (fc1): Linear(in_features=512, out_features=256, bias=True)\n",
       "      (fc2): Linear(in_features=256, out_features=128, bias=True)\n",
       "      (fc3): Linear(in_features=128, out_features=4096, bias=True)\n",
       "    )\n",
       "    (conv1): Conv1d(3, 64, kernel_size=(1,), stride=(1,))\n",
       "    (conv2): Conv1d(64, 128, kernel_size=(1,), stride=(1,))\n",
       "    (conv3): Conv1d(128, 512, kernel_size=(1,), stride=(1,))\n",
       "  )\n",
       "  (fc1): Linear(in_features=512, out_features=256, bias=True)\n",
       "  (fc2): Linear(in_features=256, out_features=128, bias=True)\n",
       "  (fc3): Linear(in_features=128, out_features=7, bias=True)\n",
       "  (dropout): Dropout(p=0.3, inplace=False)\n",
       ")"
      ]
     },
     "execution_count": 197,
     "metadata": {},
     "output_type": "execute_result"
    }
   ],
   "source": [
    "pointnet = PointNet()\n",
    "pointnet.to(device)\n",
    "optimizer = torch.optim.Adam(pointnet.parameters(), lr=0.001)\n",
    "train(pointnet, optimizer, train_loader, epochs=1000,  save=True, print_every=5)"
   ]
  },
  {
   "cell_type": "code",
   "execution_count": 198,
   "id": "ec858839",
   "metadata": {},
   "outputs": [],
   "source": [
    "def test(model, pcd_path):\n",
    "    pcd = o3d.io.read_point_cloud(pcd_path)\n",
    "    xyz = np.asarray(pcd.points)\n",
    "    center = np.mean(xyz, axis=0)\n",
    "    fig = plt.figure()\n",
    "    ax = fig.add_subplot(projection='3d')\n",
    "    ax.scatter(xyz[:,0], xyz[:,1], xyz[:,2])\n",
    "    xyz = xyz[np.where((xyz[:,2]>center[2]-0.001) & (xyz[:,2]<center[2]+0.001))]\n",
    "    idx = np.random.choice(np.arange(xyz.shape[0]), size=128)\n",
    "    xyz = xyz[idx]\n",
    "    \n",
    "\n",
    "    ax.set_xlabel('X')\n",
    "    ax.set_ylabel('Y')\n",
    "    ax.set_zlabel('Z')\n",
    "\n",
    "\n",
    "    xyz = torch.from_numpy(xyz).unsqueeze(0).to(device).float()\n",
    "    \n",
    "    with torch.no_grad():\n",
    "        result = model(xyz.transpose(1,2))[0].detach().cpu().numpy()[0]\n",
    "    print(result)\n",
    "    \n",
    "    x1 = result[:2]\n",
    "    x2 = result[2:4]\n",
    "    ax.scatter(x1[0], x1[1], center[2])\n",
    "    ax.scatter(x2[0], x2[1], center[2])\n",
    "    plt.show()"
   ]
  },
  {
   "cell_type": "code",
   "execution_count": 199,
   "id": "0d450fe7",
   "metadata": {},
   "outputs": [
    {
     "data": {
      "application/javascript": [
       "/* Put everything inside the global mpl namespace */\n",
       "/* global mpl */\n",
       "window.mpl = {};\n",
       "\n",
       "mpl.get_websocket_type = function () {\n",
       "    if (typeof WebSocket !== 'undefined') {\n",
       "        return WebSocket;\n",
       "    } else if (typeof MozWebSocket !== 'undefined') {\n",
       "        return MozWebSocket;\n",
       "    } else {\n",
       "        alert(\n",
       "            'Your browser does not have WebSocket support. ' +\n",
       "                'Please try Chrome, Safari or Firefox ≥ 6. ' +\n",
       "                'Firefox 4 and 5 are also supported but you ' +\n",
       "                'have to enable WebSockets in about:config.'\n",
       "        );\n",
       "    }\n",
       "};\n",
       "\n",
       "mpl.figure = function (figure_id, websocket, ondownload, parent_element) {\n",
       "    this.id = figure_id;\n",
       "\n",
       "    this.ws = websocket;\n",
       "\n",
       "    this.supports_binary = this.ws.binaryType !== undefined;\n",
       "\n",
       "    if (!this.supports_binary) {\n",
       "        var warnings = document.getElementById('mpl-warnings');\n",
       "        if (warnings) {\n",
       "            warnings.style.display = 'block';\n",
       "            warnings.textContent =\n",
       "                'This browser does not support binary websocket messages. ' +\n",
       "                'Performance may be slow.';\n",
       "        }\n",
       "    }\n",
       "\n",
       "    this.imageObj = new Image();\n",
       "\n",
       "    this.context = undefined;\n",
       "    this.message = undefined;\n",
       "    this.canvas = undefined;\n",
       "    this.rubberband_canvas = undefined;\n",
       "    this.rubberband_context = undefined;\n",
       "    this.format_dropdown = undefined;\n",
       "\n",
       "    this.image_mode = 'full';\n",
       "\n",
       "    this.root = document.createElement('div');\n",
       "    this.root.setAttribute('style', 'display: inline-block');\n",
       "    this._root_extra_style(this.root);\n",
       "\n",
       "    parent_element.appendChild(this.root);\n",
       "\n",
       "    this._init_header(this);\n",
       "    this._init_canvas(this);\n",
       "    this._init_toolbar(this);\n",
       "\n",
       "    var fig = this;\n",
       "\n",
       "    this.waiting = false;\n",
       "\n",
       "    this.ws.onopen = function () {\n",
       "        fig.send_message('supports_binary', { value: fig.supports_binary });\n",
       "        fig.send_message('send_image_mode', {});\n",
       "        if (fig.ratio !== 1) {\n",
       "            fig.send_message('set_device_pixel_ratio', {\n",
       "                device_pixel_ratio: fig.ratio,\n",
       "            });\n",
       "        }\n",
       "        fig.send_message('refresh', {});\n",
       "    };\n",
       "\n",
       "    this.imageObj.onload = function () {\n",
       "        if (fig.image_mode === 'full') {\n",
       "            // Full images could contain transparency (where diff images\n",
       "            // almost always do), so we need to clear the canvas so that\n",
       "            // there is no ghosting.\n",
       "            fig.context.clearRect(0, 0, fig.canvas.width, fig.canvas.height);\n",
       "        }\n",
       "        fig.context.drawImage(fig.imageObj, 0, 0);\n",
       "    };\n",
       "\n",
       "    this.imageObj.onunload = function () {\n",
       "        fig.ws.close();\n",
       "    };\n",
       "\n",
       "    this.ws.onmessage = this._make_on_message_function(this);\n",
       "\n",
       "    this.ondownload = ondownload;\n",
       "};\n",
       "\n",
       "mpl.figure.prototype._init_header = function () {\n",
       "    var titlebar = document.createElement('div');\n",
       "    titlebar.classList =\n",
       "        'ui-dialog-titlebar ui-widget-header ui-corner-all ui-helper-clearfix';\n",
       "    var titletext = document.createElement('div');\n",
       "    titletext.classList = 'ui-dialog-title';\n",
       "    titletext.setAttribute(\n",
       "        'style',\n",
       "        'width: 100%; text-align: center; padding: 3px;'\n",
       "    );\n",
       "    titlebar.appendChild(titletext);\n",
       "    this.root.appendChild(titlebar);\n",
       "    this.header = titletext;\n",
       "};\n",
       "\n",
       "mpl.figure.prototype._canvas_extra_style = function (_canvas_div) {};\n",
       "\n",
       "mpl.figure.prototype._root_extra_style = function (_canvas_div) {};\n",
       "\n",
       "mpl.figure.prototype._init_canvas = function () {\n",
       "    var fig = this;\n",
       "\n",
       "    var canvas_div = (this.canvas_div = document.createElement('div'));\n",
       "    canvas_div.setAttribute(\n",
       "        'style',\n",
       "        'border: 1px solid #ddd;' +\n",
       "            'box-sizing: content-box;' +\n",
       "            'clear: both;' +\n",
       "            'min-height: 1px;' +\n",
       "            'min-width: 1px;' +\n",
       "            'outline: 0;' +\n",
       "            'overflow: hidden;' +\n",
       "            'position: relative;' +\n",
       "            'resize: both;'\n",
       "    );\n",
       "\n",
       "    function on_keyboard_event_closure(name) {\n",
       "        return function (event) {\n",
       "            return fig.key_event(event, name);\n",
       "        };\n",
       "    }\n",
       "\n",
       "    canvas_div.addEventListener(\n",
       "        'keydown',\n",
       "        on_keyboard_event_closure('key_press')\n",
       "    );\n",
       "    canvas_div.addEventListener(\n",
       "        'keyup',\n",
       "        on_keyboard_event_closure('key_release')\n",
       "    );\n",
       "\n",
       "    this._canvas_extra_style(canvas_div);\n",
       "    this.root.appendChild(canvas_div);\n",
       "\n",
       "    var canvas = (this.canvas = document.createElement('canvas'));\n",
       "    canvas.classList.add('mpl-canvas');\n",
       "    canvas.setAttribute('style', 'box-sizing: content-box;');\n",
       "\n",
       "    this.context = canvas.getContext('2d');\n",
       "\n",
       "    var backingStore =\n",
       "        this.context.backingStorePixelRatio ||\n",
       "        this.context.webkitBackingStorePixelRatio ||\n",
       "        this.context.mozBackingStorePixelRatio ||\n",
       "        this.context.msBackingStorePixelRatio ||\n",
       "        this.context.oBackingStorePixelRatio ||\n",
       "        this.context.backingStorePixelRatio ||\n",
       "        1;\n",
       "\n",
       "    this.ratio = (window.devicePixelRatio || 1) / backingStore;\n",
       "\n",
       "    var rubberband_canvas = (this.rubberband_canvas = document.createElement(\n",
       "        'canvas'\n",
       "    ));\n",
       "    rubberband_canvas.setAttribute(\n",
       "        'style',\n",
       "        'box-sizing: content-box; position: absolute; left: 0; top: 0; z-index: 1;'\n",
       "    );\n",
       "\n",
       "    // Apply a ponyfill if ResizeObserver is not implemented by browser.\n",
       "    if (this.ResizeObserver === undefined) {\n",
       "        if (window.ResizeObserver !== undefined) {\n",
       "            this.ResizeObserver = window.ResizeObserver;\n",
       "        } else {\n",
       "            var obs = _JSXTOOLS_RESIZE_OBSERVER({});\n",
       "            this.ResizeObserver = obs.ResizeObserver;\n",
       "        }\n",
       "    }\n",
       "\n",
       "    this.resizeObserverInstance = new this.ResizeObserver(function (entries) {\n",
       "        var nentries = entries.length;\n",
       "        for (var i = 0; i < nentries; i++) {\n",
       "            var entry = entries[i];\n",
       "            var width, height;\n",
       "            if (entry.contentBoxSize) {\n",
       "                if (entry.contentBoxSize instanceof Array) {\n",
       "                    // Chrome 84 implements new version of spec.\n",
       "                    width = entry.contentBoxSize[0].inlineSize;\n",
       "                    height = entry.contentBoxSize[0].blockSize;\n",
       "                } else {\n",
       "                    // Firefox implements old version of spec.\n",
       "                    width = entry.contentBoxSize.inlineSize;\n",
       "                    height = entry.contentBoxSize.blockSize;\n",
       "                }\n",
       "            } else {\n",
       "                // Chrome <84 implements even older version of spec.\n",
       "                width = entry.contentRect.width;\n",
       "                height = entry.contentRect.height;\n",
       "            }\n",
       "\n",
       "            // Keep the size of the canvas and rubber band canvas in sync with\n",
       "            // the canvas container.\n",
       "            if (entry.devicePixelContentBoxSize) {\n",
       "                // Chrome 84 implements new version of spec.\n",
       "                canvas.setAttribute(\n",
       "                    'width',\n",
       "                    entry.devicePixelContentBoxSize[0].inlineSize\n",
       "                );\n",
       "                canvas.setAttribute(\n",
       "                    'height',\n",
       "                    entry.devicePixelContentBoxSize[0].blockSize\n",
       "                );\n",
       "            } else {\n",
       "                canvas.setAttribute('width', width * fig.ratio);\n",
       "                canvas.setAttribute('height', height * fig.ratio);\n",
       "            }\n",
       "            canvas.setAttribute(\n",
       "                'style',\n",
       "                'width: ' + width + 'px; height: ' + height + 'px;'\n",
       "            );\n",
       "\n",
       "            rubberband_canvas.setAttribute('width', width);\n",
       "            rubberband_canvas.setAttribute('height', height);\n",
       "\n",
       "            // And update the size in Python. We ignore the initial 0/0 size\n",
       "            // that occurs as the element is placed into the DOM, which should\n",
       "            // otherwise not happen due to the minimum size styling.\n",
       "            if (fig.ws.readyState == 1 && width != 0 && height != 0) {\n",
       "                fig.request_resize(width, height);\n",
       "            }\n",
       "        }\n",
       "    });\n",
       "    this.resizeObserverInstance.observe(canvas_div);\n",
       "\n",
       "    function on_mouse_event_closure(name) {\n",
       "        return function (event) {\n",
       "            return fig.mouse_event(event, name);\n",
       "        };\n",
       "    }\n",
       "\n",
       "    rubberband_canvas.addEventListener(\n",
       "        'mousedown',\n",
       "        on_mouse_event_closure('button_press')\n",
       "    );\n",
       "    rubberband_canvas.addEventListener(\n",
       "        'mouseup',\n",
       "        on_mouse_event_closure('button_release')\n",
       "    );\n",
       "    rubberband_canvas.addEventListener(\n",
       "        'dblclick',\n",
       "        on_mouse_event_closure('dblclick')\n",
       "    );\n",
       "    // Throttle sequential mouse events to 1 every 20ms.\n",
       "    rubberband_canvas.addEventListener(\n",
       "        'mousemove',\n",
       "        on_mouse_event_closure('motion_notify')\n",
       "    );\n",
       "\n",
       "    rubberband_canvas.addEventListener(\n",
       "        'mouseenter',\n",
       "        on_mouse_event_closure('figure_enter')\n",
       "    );\n",
       "    rubberband_canvas.addEventListener(\n",
       "        'mouseleave',\n",
       "        on_mouse_event_closure('figure_leave')\n",
       "    );\n",
       "\n",
       "    canvas_div.addEventListener('wheel', function (event) {\n",
       "        if (event.deltaY < 0) {\n",
       "            event.step = 1;\n",
       "        } else {\n",
       "            event.step = -1;\n",
       "        }\n",
       "        on_mouse_event_closure('scroll')(event);\n",
       "    });\n",
       "\n",
       "    canvas_div.appendChild(canvas);\n",
       "    canvas_div.appendChild(rubberband_canvas);\n",
       "\n",
       "    this.rubberband_context = rubberband_canvas.getContext('2d');\n",
       "    this.rubberband_context.strokeStyle = '#000000';\n",
       "\n",
       "    this._resize_canvas = function (width, height, forward) {\n",
       "        if (forward) {\n",
       "            canvas_div.style.width = width + 'px';\n",
       "            canvas_div.style.height = height + 'px';\n",
       "        }\n",
       "    };\n",
       "\n",
       "    // Disable right mouse context menu.\n",
       "    this.rubberband_canvas.addEventListener('contextmenu', function (_e) {\n",
       "        event.preventDefault();\n",
       "        return false;\n",
       "    });\n",
       "\n",
       "    function set_focus() {\n",
       "        canvas.focus();\n",
       "        canvas_div.focus();\n",
       "    }\n",
       "\n",
       "    window.setTimeout(set_focus, 100);\n",
       "};\n",
       "\n",
       "mpl.figure.prototype._init_toolbar = function () {\n",
       "    var fig = this;\n",
       "\n",
       "    var toolbar = document.createElement('div');\n",
       "    toolbar.classList = 'mpl-toolbar';\n",
       "    this.root.appendChild(toolbar);\n",
       "\n",
       "    function on_click_closure(name) {\n",
       "        return function (_event) {\n",
       "            return fig.toolbar_button_onclick(name);\n",
       "        };\n",
       "    }\n",
       "\n",
       "    function on_mouseover_closure(tooltip) {\n",
       "        return function (event) {\n",
       "            if (!event.currentTarget.disabled) {\n",
       "                return fig.toolbar_button_onmouseover(tooltip);\n",
       "            }\n",
       "        };\n",
       "    }\n",
       "\n",
       "    fig.buttons = {};\n",
       "    var buttonGroup = document.createElement('div');\n",
       "    buttonGroup.classList = 'mpl-button-group';\n",
       "    for (var toolbar_ind in mpl.toolbar_items) {\n",
       "        var name = mpl.toolbar_items[toolbar_ind][0];\n",
       "        var tooltip = mpl.toolbar_items[toolbar_ind][1];\n",
       "        var image = mpl.toolbar_items[toolbar_ind][2];\n",
       "        var method_name = mpl.toolbar_items[toolbar_ind][3];\n",
       "\n",
       "        if (!name) {\n",
       "            /* Instead of a spacer, we start a new button group. */\n",
       "            if (buttonGroup.hasChildNodes()) {\n",
       "                toolbar.appendChild(buttonGroup);\n",
       "            }\n",
       "            buttonGroup = document.createElement('div');\n",
       "            buttonGroup.classList = 'mpl-button-group';\n",
       "            continue;\n",
       "        }\n",
       "\n",
       "        var button = (fig.buttons[name] = document.createElement('button'));\n",
       "        button.classList = 'mpl-widget';\n",
       "        button.setAttribute('role', 'button');\n",
       "        button.setAttribute('aria-disabled', 'false');\n",
       "        button.addEventListener('click', on_click_closure(method_name));\n",
       "        button.addEventListener('mouseover', on_mouseover_closure(tooltip));\n",
       "\n",
       "        var icon_img = document.createElement('img');\n",
       "        icon_img.src = '_images/' + image + '.png';\n",
       "        icon_img.srcset = '_images/' + image + '_large.png 2x';\n",
       "        icon_img.alt = tooltip;\n",
       "        button.appendChild(icon_img);\n",
       "\n",
       "        buttonGroup.appendChild(button);\n",
       "    }\n",
       "\n",
       "    if (buttonGroup.hasChildNodes()) {\n",
       "        toolbar.appendChild(buttonGroup);\n",
       "    }\n",
       "\n",
       "    var fmt_picker = document.createElement('select');\n",
       "    fmt_picker.classList = 'mpl-widget';\n",
       "    toolbar.appendChild(fmt_picker);\n",
       "    this.format_dropdown = fmt_picker;\n",
       "\n",
       "    for (var ind in mpl.extensions) {\n",
       "        var fmt = mpl.extensions[ind];\n",
       "        var option = document.createElement('option');\n",
       "        option.selected = fmt === mpl.default_extension;\n",
       "        option.innerHTML = fmt;\n",
       "        fmt_picker.appendChild(option);\n",
       "    }\n",
       "\n",
       "    var status_bar = document.createElement('span');\n",
       "    status_bar.classList = 'mpl-message';\n",
       "    toolbar.appendChild(status_bar);\n",
       "    this.message = status_bar;\n",
       "};\n",
       "\n",
       "mpl.figure.prototype.request_resize = function (x_pixels, y_pixels) {\n",
       "    // Request matplotlib to resize the figure. Matplotlib will then trigger a resize in the client,\n",
       "    // which will in turn request a refresh of the image.\n",
       "    this.send_message('resize', { width: x_pixels, height: y_pixels });\n",
       "};\n",
       "\n",
       "mpl.figure.prototype.send_message = function (type, properties) {\n",
       "    properties['type'] = type;\n",
       "    properties['figure_id'] = this.id;\n",
       "    this.ws.send(JSON.stringify(properties));\n",
       "};\n",
       "\n",
       "mpl.figure.prototype.send_draw_message = function () {\n",
       "    if (!this.waiting) {\n",
       "        this.waiting = true;\n",
       "        this.ws.send(JSON.stringify({ type: 'draw', figure_id: this.id }));\n",
       "    }\n",
       "};\n",
       "\n",
       "mpl.figure.prototype.handle_save = function (fig, _msg) {\n",
       "    var format_dropdown = fig.format_dropdown;\n",
       "    var format = format_dropdown.options[format_dropdown.selectedIndex].value;\n",
       "    fig.ondownload(fig, format);\n",
       "};\n",
       "\n",
       "mpl.figure.prototype.handle_resize = function (fig, msg) {\n",
       "    var size = msg['size'];\n",
       "    if (size[0] !== fig.canvas.width || size[1] !== fig.canvas.height) {\n",
       "        fig._resize_canvas(size[0], size[1], msg['forward']);\n",
       "        fig.send_message('refresh', {});\n",
       "    }\n",
       "};\n",
       "\n",
       "mpl.figure.prototype.handle_rubberband = function (fig, msg) {\n",
       "    var x0 = msg['x0'] / fig.ratio;\n",
       "    var y0 = (fig.canvas.height - msg['y0']) / fig.ratio;\n",
       "    var x1 = msg['x1'] / fig.ratio;\n",
       "    var y1 = (fig.canvas.height - msg['y1']) / fig.ratio;\n",
       "    x0 = Math.floor(x0) + 0.5;\n",
       "    y0 = Math.floor(y0) + 0.5;\n",
       "    x1 = Math.floor(x1) + 0.5;\n",
       "    y1 = Math.floor(y1) + 0.5;\n",
       "    var min_x = Math.min(x0, x1);\n",
       "    var min_y = Math.min(y0, y1);\n",
       "    var width = Math.abs(x1 - x0);\n",
       "    var height = Math.abs(y1 - y0);\n",
       "\n",
       "    fig.rubberband_context.clearRect(\n",
       "        0,\n",
       "        0,\n",
       "        fig.canvas.width / fig.ratio,\n",
       "        fig.canvas.height / fig.ratio\n",
       "    );\n",
       "\n",
       "    fig.rubberband_context.strokeRect(min_x, min_y, width, height);\n",
       "};\n",
       "\n",
       "mpl.figure.prototype.handle_figure_label = function (fig, msg) {\n",
       "    // Updates the figure title.\n",
       "    fig.header.textContent = msg['label'];\n",
       "};\n",
       "\n",
       "mpl.figure.prototype.handle_cursor = function (fig, msg) {\n",
       "    fig.rubberband_canvas.style.cursor = msg['cursor'];\n",
       "};\n",
       "\n",
       "mpl.figure.prototype.handle_message = function (fig, msg) {\n",
       "    fig.message.textContent = msg['message'];\n",
       "};\n",
       "\n",
       "mpl.figure.prototype.handle_draw = function (fig, _msg) {\n",
       "    // Request the server to send over a new figure.\n",
       "    fig.send_draw_message();\n",
       "};\n",
       "\n",
       "mpl.figure.prototype.handle_image_mode = function (fig, msg) {\n",
       "    fig.image_mode = msg['mode'];\n",
       "};\n",
       "\n",
       "mpl.figure.prototype.handle_history_buttons = function (fig, msg) {\n",
       "    for (var key in msg) {\n",
       "        if (!(key in fig.buttons)) {\n",
       "            continue;\n",
       "        }\n",
       "        fig.buttons[key].disabled = !msg[key];\n",
       "        fig.buttons[key].setAttribute('aria-disabled', !msg[key]);\n",
       "    }\n",
       "};\n",
       "\n",
       "mpl.figure.prototype.handle_navigate_mode = function (fig, msg) {\n",
       "    if (msg['mode'] === 'PAN') {\n",
       "        fig.buttons['Pan'].classList.add('active');\n",
       "        fig.buttons['Zoom'].classList.remove('active');\n",
       "    } else if (msg['mode'] === 'ZOOM') {\n",
       "        fig.buttons['Pan'].classList.remove('active');\n",
       "        fig.buttons['Zoom'].classList.add('active');\n",
       "    } else {\n",
       "        fig.buttons['Pan'].classList.remove('active');\n",
       "        fig.buttons['Zoom'].classList.remove('active');\n",
       "    }\n",
       "};\n",
       "\n",
       "mpl.figure.prototype.updated_canvas_event = function () {\n",
       "    // Called whenever the canvas gets updated.\n",
       "    this.send_message('ack', {});\n",
       "};\n",
       "\n",
       "// A function to construct a web socket function for onmessage handling.\n",
       "// Called in the figure constructor.\n",
       "mpl.figure.prototype._make_on_message_function = function (fig) {\n",
       "    return function socket_on_message(evt) {\n",
       "        if (evt.data instanceof Blob) {\n",
       "            var img = evt.data;\n",
       "            if (img.type !== 'image/png') {\n",
       "                /* FIXME: We get \"Resource interpreted as Image but\n",
       "                 * transferred with MIME type text/plain:\" errors on\n",
       "                 * Chrome.  But how to set the MIME type?  It doesn't seem\n",
       "                 * to be part of the websocket stream */\n",
       "                img.type = 'image/png';\n",
       "            }\n",
       "\n",
       "            /* Free the memory for the previous frames */\n",
       "            if (fig.imageObj.src) {\n",
       "                (window.URL || window.webkitURL).revokeObjectURL(\n",
       "                    fig.imageObj.src\n",
       "                );\n",
       "            }\n",
       "\n",
       "            fig.imageObj.src = (window.URL || window.webkitURL).createObjectURL(\n",
       "                img\n",
       "            );\n",
       "            fig.updated_canvas_event();\n",
       "            fig.waiting = false;\n",
       "            return;\n",
       "        } else if (\n",
       "            typeof evt.data === 'string' &&\n",
       "            evt.data.slice(0, 21) === 'data:image/png;base64'\n",
       "        ) {\n",
       "            fig.imageObj.src = evt.data;\n",
       "            fig.updated_canvas_event();\n",
       "            fig.waiting = false;\n",
       "            return;\n",
       "        }\n",
       "\n",
       "        var msg = JSON.parse(evt.data);\n",
       "        var msg_type = msg['type'];\n",
       "\n",
       "        // Call the  \"handle_{type}\" callback, which takes\n",
       "        // the figure and JSON message as its only arguments.\n",
       "        try {\n",
       "            var callback = fig['handle_' + msg_type];\n",
       "        } catch (e) {\n",
       "            console.log(\n",
       "                \"No handler for the '\" + msg_type + \"' message type: \",\n",
       "                msg\n",
       "            );\n",
       "            return;\n",
       "        }\n",
       "\n",
       "        if (callback) {\n",
       "            try {\n",
       "                // console.log(\"Handling '\" + msg_type + \"' message: \", msg);\n",
       "                callback(fig, msg);\n",
       "            } catch (e) {\n",
       "                console.log(\n",
       "                    \"Exception inside the 'handler_\" + msg_type + \"' callback:\",\n",
       "                    e,\n",
       "                    e.stack,\n",
       "                    msg\n",
       "                );\n",
       "            }\n",
       "        }\n",
       "    };\n",
       "};\n",
       "\n",
       "// from https://stackoverflow.com/questions/1114465/getting-mouse-location-in-canvas\n",
       "mpl.findpos = function (e) {\n",
       "    //this section is from http://www.quirksmode.org/js/events_properties.html\n",
       "    var targ;\n",
       "    if (!e) {\n",
       "        e = window.event;\n",
       "    }\n",
       "    if (e.target) {\n",
       "        targ = e.target;\n",
       "    } else if (e.srcElement) {\n",
       "        targ = e.srcElement;\n",
       "    }\n",
       "    if (targ.nodeType === 3) {\n",
       "        // defeat Safari bug\n",
       "        targ = targ.parentNode;\n",
       "    }\n",
       "\n",
       "    // pageX,Y are the mouse positions relative to the document\n",
       "    var boundingRect = targ.getBoundingClientRect();\n",
       "    var x = e.pageX - (boundingRect.left + document.body.scrollLeft);\n",
       "    var y = e.pageY - (boundingRect.top + document.body.scrollTop);\n",
       "\n",
       "    return { x: x, y: y };\n",
       "};\n",
       "\n",
       "/*\n",
       " * return a copy of an object with only non-object keys\n",
       " * we need this to avoid circular references\n",
       " * https://stackoverflow.com/a/24161582/3208463\n",
       " */\n",
       "function simpleKeys(original) {\n",
       "    return Object.keys(original).reduce(function (obj, key) {\n",
       "        if (typeof original[key] !== 'object') {\n",
       "            obj[key] = original[key];\n",
       "        }\n",
       "        return obj;\n",
       "    }, {});\n",
       "}\n",
       "\n",
       "mpl.figure.prototype.mouse_event = function (event, name) {\n",
       "    var canvas_pos = mpl.findpos(event);\n",
       "\n",
       "    if (name === 'button_press') {\n",
       "        this.canvas.focus();\n",
       "        this.canvas_div.focus();\n",
       "    }\n",
       "\n",
       "    var x = canvas_pos.x * this.ratio;\n",
       "    var y = canvas_pos.y * this.ratio;\n",
       "\n",
       "    this.send_message(name, {\n",
       "        x: x,\n",
       "        y: y,\n",
       "        button: event.button,\n",
       "        step: event.step,\n",
       "        guiEvent: simpleKeys(event),\n",
       "    });\n",
       "\n",
       "    /* This prevents the web browser from automatically changing to\n",
       "     * the text insertion cursor when the button is pressed.  We want\n",
       "     * to control all of the cursor setting manually through the\n",
       "     * 'cursor' event from matplotlib */\n",
       "    event.preventDefault();\n",
       "    return false;\n",
       "};\n",
       "\n",
       "mpl.figure.prototype._key_event_extra = function (_event, _name) {\n",
       "    // Handle any extra behaviour associated with a key event\n",
       "};\n",
       "\n",
       "mpl.figure.prototype.key_event = function (event, name) {\n",
       "    // Prevent repeat events\n",
       "    if (name === 'key_press') {\n",
       "        if (event.key === this._key) {\n",
       "            return;\n",
       "        } else {\n",
       "            this._key = event.key;\n",
       "        }\n",
       "    }\n",
       "    if (name === 'key_release') {\n",
       "        this._key = null;\n",
       "    }\n",
       "\n",
       "    var value = '';\n",
       "    if (event.ctrlKey && event.key !== 'Control') {\n",
       "        value += 'ctrl+';\n",
       "    }\n",
       "    else if (event.altKey && event.key !== 'Alt') {\n",
       "        value += 'alt+';\n",
       "    }\n",
       "    else if (event.shiftKey && event.key !== 'Shift') {\n",
       "        value += 'shift+';\n",
       "    }\n",
       "\n",
       "    value += 'k' + event.key;\n",
       "\n",
       "    this._key_event_extra(event, name);\n",
       "\n",
       "    this.send_message(name, { key: value, guiEvent: simpleKeys(event) });\n",
       "    return false;\n",
       "};\n",
       "\n",
       "mpl.figure.prototype.toolbar_button_onclick = function (name) {\n",
       "    if (name === 'download') {\n",
       "        this.handle_save(this, null);\n",
       "    } else {\n",
       "        this.send_message('toolbar_button', { name: name });\n",
       "    }\n",
       "};\n",
       "\n",
       "mpl.figure.prototype.toolbar_button_onmouseover = function (tooltip) {\n",
       "    this.message.textContent = tooltip;\n",
       "};\n",
       "\n",
       "///////////////// REMAINING CONTENT GENERATED BY embed_js.py /////////////////\n",
       "// prettier-ignore\n",
       "var _JSXTOOLS_RESIZE_OBSERVER=function(A){var t,i=new WeakMap,n=new WeakMap,a=new WeakMap,r=new WeakMap,o=new Set;function s(e){if(!(this instanceof s))throw new TypeError(\"Constructor requires 'new' operator\");i.set(this,e)}function h(){throw new TypeError(\"Function is not a constructor\")}function c(e,t,i,n){e=0 in arguments?Number(arguments[0]):0,t=1 in arguments?Number(arguments[1]):0,i=2 in arguments?Number(arguments[2]):0,n=3 in arguments?Number(arguments[3]):0,this.right=(this.x=this.left=e)+(this.width=i),this.bottom=(this.y=this.top=t)+(this.height=n),Object.freeze(this)}function d(){t=requestAnimationFrame(d);var s=new WeakMap,p=new Set;o.forEach((function(t){r.get(t).forEach((function(i){var r=t instanceof window.SVGElement,o=a.get(t),d=r?0:parseFloat(o.paddingTop),f=r?0:parseFloat(o.paddingRight),l=r?0:parseFloat(o.paddingBottom),u=r?0:parseFloat(o.paddingLeft),g=r?0:parseFloat(o.borderTopWidth),m=r?0:parseFloat(o.borderRightWidth),w=r?0:parseFloat(o.borderBottomWidth),b=u+f,F=d+l,v=(r?0:parseFloat(o.borderLeftWidth))+m,W=g+w,y=r?0:t.offsetHeight-W-t.clientHeight,E=r?0:t.offsetWidth-v-t.clientWidth,R=b+v,z=F+W,M=r?t.width:parseFloat(o.width)-R-E,O=r?t.height:parseFloat(o.height)-z-y;if(n.has(t)){var k=n.get(t);if(k[0]===M&&k[1]===O)return}n.set(t,[M,O]);var S=Object.create(h.prototype);S.target=t,S.contentRect=new c(u,d,M,O),s.has(i)||(s.set(i,[]),p.add(i)),s.get(i).push(S)}))})),p.forEach((function(e){i.get(e).call(e,s.get(e),e)}))}return s.prototype.observe=function(i){if(i instanceof window.Element){r.has(i)||(r.set(i,new Set),o.add(i),a.set(i,window.getComputedStyle(i)));var n=r.get(i);n.has(this)||n.add(this),cancelAnimationFrame(t),t=requestAnimationFrame(d)}},s.prototype.unobserve=function(i){if(i instanceof window.Element&&r.has(i)){var n=r.get(i);n.has(this)&&(n.delete(this),n.size||(r.delete(i),o.delete(i))),n.size||r.delete(i),o.size||cancelAnimationFrame(t)}},A.DOMRectReadOnly=c,A.ResizeObserver=s,A.ResizeObserverEntry=h,A}; // eslint-disable-line\n",
       "mpl.toolbar_items = [[\"Home\", \"Reset original view\", \"fa fa-home icon-home\", \"home\"], [\"Back\", \"Back to previous view\", \"fa fa-arrow-left icon-arrow-left\", \"back\"], [\"Forward\", \"Forward to next view\", \"fa fa-arrow-right icon-arrow-right\", \"forward\"], [\"\", \"\", \"\", \"\"], [\"Pan\", \"Left button pans, Right button zooms\\nx/y fixes axis, CTRL fixes aspect\", \"fa fa-arrows icon-move\", \"pan\"], [\"Zoom\", \"Zoom to rectangle\\nx/y fixes axis\", \"fa fa-square-o icon-check-empty\", \"zoom\"], [\"\", \"\", \"\", \"\"], [\"Download\", \"Download plot\", \"fa fa-floppy-o icon-save\", \"download\"]];\n",
       "\n",
       "mpl.extensions = [\"eps\", \"jpeg\", \"pgf\", \"pdf\", \"png\", \"ps\", \"raw\", \"svg\", \"tif\"];\n",
       "\n",
       "mpl.default_extension = \"png\";/* global mpl */\n",
       "\n",
       "var comm_websocket_adapter = function (comm) {\n",
       "    // Create a \"websocket\"-like object which calls the given IPython comm\n",
       "    // object with the appropriate methods. Currently this is a non binary\n",
       "    // socket, so there is still some room for performance tuning.\n",
       "    var ws = {};\n",
       "\n",
       "    ws.binaryType = comm.kernel.ws.binaryType;\n",
       "    ws.readyState = comm.kernel.ws.readyState;\n",
       "    function updateReadyState(_event) {\n",
       "        if (comm.kernel.ws) {\n",
       "            ws.readyState = comm.kernel.ws.readyState;\n",
       "        } else {\n",
       "            ws.readyState = 3; // Closed state.\n",
       "        }\n",
       "    }\n",
       "    comm.kernel.ws.addEventListener('open', updateReadyState);\n",
       "    comm.kernel.ws.addEventListener('close', updateReadyState);\n",
       "    comm.kernel.ws.addEventListener('error', updateReadyState);\n",
       "\n",
       "    ws.close = function () {\n",
       "        comm.close();\n",
       "    };\n",
       "    ws.send = function (m) {\n",
       "        //console.log('sending', m);\n",
       "        comm.send(m);\n",
       "    };\n",
       "    // Register the callback with on_msg.\n",
       "    comm.on_msg(function (msg) {\n",
       "        //console.log('receiving', msg['content']['data'], msg);\n",
       "        var data = msg['content']['data'];\n",
       "        if (data['blob'] !== undefined) {\n",
       "            data = {\n",
       "                data: new Blob(msg['buffers'], { type: data['blob'] }),\n",
       "            };\n",
       "        }\n",
       "        // Pass the mpl event to the overridden (by mpl) onmessage function.\n",
       "        ws.onmessage(data);\n",
       "    });\n",
       "    return ws;\n",
       "};\n",
       "\n",
       "mpl.mpl_figure_comm = function (comm, msg) {\n",
       "    // This is the function which gets called when the mpl process\n",
       "    // starts-up an IPython Comm through the \"matplotlib\" channel.\n",
       "\n",
       "    var id = msg.content.data.id;\n",
       "    // Get hold of the div created by the display call when the Comm\n",
       "    // socket was opened in Python.\n",
       "    var element = document.getElementById(id);\n",
       "    var ws_proxy = comm_websocket_adapter(comm);\n",
       "\n",
       "    function ondownload(figure, _format) {\n",
       "        window.open(figure.canvas.toDataURL());\n",
       "    }\n",
       "\n",
       "    var fig = new mpl.figure(id, ws_proxy, ondownload, element);\n",
       "\n",
       "    // Call onopen now - mpl needs it, as it is assuming we've passed it a real\n",
       "    // web socket which is closed, not our websocket->open comm proxy.\n",
       "    ws_proxy.onopen();\n",
       "\n",
       "    fig.parent_element = element;\n",
       "    fig.cell_info = mpl.find_output_cell(\"<div id='\" + id + \"'></div>\");\n",
       "    if (!fig.cell_info) {\n",
       "        console.error('Failed to find cell for figure', id, fig);\n",
       "        return;\n",
       "    }\n",
       "    fig.cell_info[0].output_area.element.on(\n",
       "        'cleared',\n",
       "        { fig: fig },\n",
       "        fig._remove_fig_handler\n",
       "    );\n",
       "};\n",
       "\n",
       "mpl.figure.prototype.handle_close = function (fig, msg) {\n",
       "    var width = fig.canvas.width / fig.ratio;\n",
       "    fig.cell_info[0].output_area.element.off(\n",
       "        'cleared',\n",
       "        fig._remove_fig_handler\n",
       "    );\n",
       "    fig.resizeObserverInstance.unobserve(fig.canvas_div);\n",
       "\n",
       "    // Update the output cell to use the data from the current canvas.\n",
       "    fig.push_to_output();\n",
       "    var dataURL = fig.canvas.toDataURL();\n",
       "    // Re-enable the keyboard manager in IPython - without this line, in FF,\n",
       "    // the notebook keyboard shortcuts fail.\n",
       "    IPython.keyboard_manager.enable();\n",
       "    fig.parent_element.innerHTML =\n",
       "        '<img src=\"' + dataURL + '\" width=\"' + width + '\">';\n",
       "    fig.close_ws(fig, msg);\n",
       "};\n",
       "\n",
       "mpl.figure.prototype.close_ws = function (fig, msg) {\n",
       "    fig.send_message('closing', msg);\n",
       "    // fig.ws.close()\n",
       "};\n",
       "\n",
       "mpl.figure.prototype.push_to_output = function (_remove_interactive) {\n",
       "    // Turn the data on the canvas into data in the output cell.\n",
       "    var width = this.canvas.width / this.ratio;\n",
       "    var dataURL = this.canvas.toDataURL();\n",
       "    this.cell_info[1]['text/html'] =\n",
       "        '<img src=\"' + dataURL + '\" width=\"' + width + '\">';\n",
       "};\n",
       "\n",
       "mpl.figure.prototype.updated_canvas_event = function () {\n",
       "    // Tell IPython that the notebook contents must change.\n",
       "    IPython.notebook.set_dirty(true);\n",
       "    this.send_message('ack', {});\n",
       "    var fig = this;\n",
       "    // Wait a second, then push the new image to the DOM so\n",
       "    // that it is saved nicely (might be nice to debounce this).\n",
       "    setTimeout(function () {\n",
       "        fig.push_to_output();\n",
       "    }, 1000);\n",
       "};\n",
       "\n",
       "mpl.figure.prototype._init_toolbar = function () {\n",
       "    var fig = this;\n",
       "\n",
       "    var toolbar = document.createElement('div');\n",
       "    toolbar.classList = 'btn-toolbar';\n",
       "    this.root.appendChild(toolbar);\n",
       "\n",
       "    function on_click_closure(name) {\n",
       "        return function (_event) {\n",
       "            return fig.toolbar_button_onclick(name);\n",
       "        };\n",
       "    }\n",
       "\n",
       "    function on_mouseover_closure(tooltip) {\n",
       "        return function (event) {\n",
       "            if (!event.currentTarget.disabled) {\n",
       "                return fig.toolbar_button_onmouseover(tooltip);\n",
       "            }\n",
       "        };\n",
       "    }\n",
       "\n",
       "    fig.buttons = {};\n",
       "    var buttonGroup = document.createElement('div');\n",
       "    buttonGroup.classList = 'btn-group';\n",
       "    var button;\n",
       "    for (var toolbar_ind in mpl.toolbar_items) {\n",
       "        var name = mpl.toolbar_items[toolbar_ind][0];\n",
       "        var tooltip = mpl.toolbar_items[toolbar_ind][1];\n",
       "        var image = mpl.toolbar_items[toolbar_ind][2];\n",
       "        var method_name = mpl.toolbar_items[toolbar_ind][3];\n",
       "\n",
       "        if (!name) {\n",
       "            /* Instead of a spacer, we start a new button group. */\n",
       "            if (buttonGroup.hasChildNodes()) {\n",
       "                toolbar.appendChild(buttonGroup);\n",
       "            }\n",
       "            buttonGroup = document.createElement('div');\n",
       "            buttonGroup.classList = 'btn-group';\n",
       "            continue;\n",
       "        }\n",
       "\n",
       "        button = fig.buttons[name] = document.createElement('button');\n",
       "        button.classList = 'btn btn-default';\n",
       "        button.href = '#';\n",
       "        button.title = name;\n",
       "        button.innerHTML = '<i class=\"fa ' + image + ' fa-lg\"></i>';\n",
       "        button.addEventListener('click', on_click_closure(method_name));\n",
       "        button.addEventListener('mouseover', on_mouseover_closure(tooltip));\n",
       "        buttonGroup.appendChild(button);\n",
       "    }\n",
       "\n",
       "    if (buttonGroup.hasChildNodes()) {\n",
       "        toolbar.appendChild(buttonGroup);\n",
       "    }\n",
       "\n",
       "    // Add the status bar.\n",
       "    var status_bar = document.createElement('span');\n",
       "    status_bar.classList = 'mpl-message pull-right';\n",
       "    toolbar.appendChild(status_bar);\n",
       "    this.message = status_bar;\n",
       "\n",
       "    // Add the close button to the window.\n",
       "    var buttongrp = document.createElement('div');\n",
       "    buttongrp.classList = 'btn-group inline pull-right';\n",
       "    button = document.createElement('button');\n",
       "    button.classList = 'btn btn-mini btn-primary';\n",
       "    button.href = '#';\n",
       "    button.title = 'Stop Interaction';\n",
       "    button.innerHTML = '<i class=\"fa fa-power-off icon-remove icon-large\"></i>';\n",
       "    button.addEventListener('click', function (_evt) {\n",
       "        fig.handle_close(fig, {});\n",
       "    });\n",
       "    button.addEventListener(\n",
       "        'mouseover',\n",
       "        on_mouseover_closure('Stop Interaction')\n",
       "    );\n",
       "    buttongrp.appendChild(button);\n",
       "    var titlebar = this.root.querySelector('.ui-dialog-titlebar');\n",
       "    titlebar.insertBefore(buttongrp, titlebar.firstChild);\n",
       "};\n",
       "\n",
       "mpl.figure.prototype._remove_fig_handler = function (event) {\n",
       "    var fig = event.data.fig;\n",
       "    if (event.target !== this) {\n",
       "        // Ignore bubbled events from children.\n",
       "        return;\n",
       "    }\n",
       "    fig.close_ws(fig, {});\n",
       "};\n",
       "\n",
       "mpl.figure.prototype._root_extra_style = function (el) {\n",
       "    el.style.boxSizing = 'content-box'; // override notebook setting of border-box.\n",
       "};\n",
       "\n",
       "mpl.figure.prototype._canvas_extra_style = function (el) {\n",
       "    // this is important to make the div 'focusable\n",
       "    el.setAttribute('tabindex', 0);\n",
       "    // reach out to IPython and tell the keyboard manager to turn it's self\n",
       "    // off when our div gets focus\n",
       "\n",
       "    // location in version 3\n",
       "    if (IPython.notebook.keyboard_manager) {\n",
       "        IPython.notebook.keyboard_manager.register_events(el);\n",
       "    } else {\n",
       "        // location in version 2\n",
       "        IPython.keyboard_manager.register_events(el);\n",
       "    }\n",
       "};\n",
       "\n",
       "mpl.figure.prototype._key_event_extra = function (event, _name) {\n",
       "    // Check for shift+enter\n",
       "    if (event.shiftKey && event.which === 13) {\n",
       "        this.canvas_div.blur();\n",
       "        // select the cell after this one\n",
       "        var index = IPython.notebook.find_cell_index(this.cell_info[0]);\n",
       "        IPython.notebook.select(index + 1);\n",
       "    }\n",
       "};\n",
       "\n",
       "mpl.figure.prototype.handle_save = function (fig, _msg) {\n",
       "    fig.ondownload(fig, null);\n",
       "};\n",
       "\n",
       "mpl.find_output_cell = function (html_output) {\n",
       "    // Return the cell and output element which can be found *uniquely* in the notebook.\n",
       "    // Note - this is a bit hacky, but it is done because the \"notebook_saving.Notebook\"\n",
       "    // IPython event is triggered only after the cells have been serialised, which for\n",
       "    // our purposes (turning an active figure into a static one), is too late.\n",
       "    var cells = IPython.notebook.get_cells();\n",
       "    var ncells = cells.length;\n",
       "    for (var i = 0; i < ncells; i++) {\n",
       "        var cell = cells[i];\n",
       "        if (cell.cell_type === 'code') {\n",
       "            for (var j = 0; j < cell.output_area.outputs.length; j++) {\n",
       "                var data = cell.output_area.outputs[j];\n",
       "                if (data.data) {\n",
       "                    // IPython >= 3 moved mimebundle to data attribute of output\n",
       "                    data = data.data;\n",
       "                }\n",
       "                if (data['text/html'] === html_output) {\n",
       "                    return [cell, data, j];\n",
       "                }\n",
       "            }\n",
       "        }\n",
       "    }\n",
       "};\n",
       "\n",
       "// Register the function which deals with the matplotlib target/channel.\n",
       "// The kernel may be null if the page has been refreshed.\n",
       "if (IPython.notebook.kernel !== null) {\n",
       "    IPython.notebook.kernel.comm_manager.register_target(\n",
       "        'matplotlib',\n",
       "        mpl.mpl_figure_comm\n",
       "    );\n",
       "}\n"
      ],
      "text/plain": [
       "<IPython.core.display.Javascript object>"
      ]
     },
     "metadata": {},
     "output_type": "display_data"
    },
    {
     "data": {
      "text/html": [
       "<img src=\"data:image/png;base64,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\" width=\"640\">"
      ],
      "text/plain": [
       "<IPython.core.display.HTML object>"
      ]
     },
     "metadata": {},
     "output_type": "display_data"
    },
    {
     "name": "stdout",
     "output_type": "stream",
     "text": [
      "[0.40793532 0.10172058 0.4303754  0.14214668 0.5217651  0.5002343\n",
      " 0.74735534]\n"
     ]
    }
   ],
   "source": [
    "\n",
    "pointnet = PointNet()\n",
    "pointnet.load_state_dict(torch.load(\"./checkpoints/ckpt_min_loss.pt\"))\n",
    "pointnet.eval();\n",
    "\n",
    "test(trained_model, './train/nugg_5.pcd')"
   ]
  },
  {
   "cell_type": "code",
   "execution_count": null,
   "id": "ed8f3d00",
   "metadata": {},
   "outputs": [],
   "source": []
  },
  {
   "cell_type": "code",
   "execution_count": null,
   "id": "75cd4791",
   "metadata": {},
   "outputs": [],
   "source": []
  },
  {
   "cell_type": "code",
   "execution_count": null,
   "id": "00477798",
   "metadata": {},
   "outputs": [],
   "source": []
  }
 ],
 "metadata": {
  "kernelspec": {
   "display_name": "Python 3 (ipykernel)",
   "language": "python",
   "name": "python3"
  },
  "language_info": {
   "codemirror_mode": {
    "name": "ipython",
    "version": 3
   },
   "file_extension": ".py",
   "mimetype": "text/x-python",
   "name": "python",
   "nbconvert_exporter": "python",
   "pygments_lexer": "ipython3",
   "version": "3.8.13"
  }
 },
 "nbformat": 4,
 "nbformat_minor": 5
}
